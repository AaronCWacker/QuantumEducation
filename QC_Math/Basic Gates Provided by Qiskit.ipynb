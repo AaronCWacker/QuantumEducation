{
 "cells": [
  {
   "cell_type": "markdown",
   "metadata": {},
   "source": [
    "# Basic Gates Provided by Qiskit\n",
    "\n",
    "- #### Hands-on Experiential Learning <font color=\"red\">for the Software Engineer</font>"
   ]
  },
  {
   "cell_type": "markdown",
   "metadata": {},
   "source": [
    "![](img/Qiskit_Banner_BasicGates.png \"\")\n",
    "\n",
    "<BR>\n",
    "\n",
    "#### <font color=\"red\">Materials Inspiration and Author(s)</font>: \n",
    "\n",
    "> **<font color=\"blue\">USAF Research Laboratory</font>**\n",
    "> - Introduction to Coding Quantum Algorithms: **A Tutorial Series Using Qiskit** : https://arxiv.org/pdf/1903.04359\n",
    "> - <a href=\"Basic Gates Provided by Qiskit.ipynb\" target=\"_blank\"><font color=\"blue\">Basic Gates Provided by Qiskit</font></a> **(Enhanced)**\n",
    "\n",
    "<BR>\n",
    "    \n",
    "> This JNB introduces the user to some of the predefined gates that come standard with the $\\textrm{QuantumCircuit}$ class.  \n",
    "- Each gate will be presented, accompanied with a short explanation and working example, and a visualization using Qiskit's $\\textrm{circuit_drawing}$ tool.  \n",
    "\n",
    "\n",
    "> For the complete list of standard gates, see: https://github.com/Qiskit/qiskit-terra/tree/master/qiskit/extensions/standard"
   ]
  },
  {
   "cell_type": "code",
   "execution_count": 1,
   "metadata": {},
   "outputs": [
    {
     "name": "stdout",
     "output_type": "stream",
     "text": [
      "Processing c:\\users\\aaron\\appdata\\local\\pip\\cache\\wheels\\29\\dd\\b2\\1fe1a9ac92aaf75b267d893ae27329ea229f292a293017afc7\\qiskit-0.31.0-py3-none-any.whl\n",
      "Collecting qiskit-aqua==0.9.5\n",
      "  Using cached qiskit_aqua-0.9.5-py3-none-any.whl (2.1 MB)\n",
      "Requirement already satisfied: qiskit-terra==0.18.3 in z:\\anaconda3\\lib\\site-packages (from qiskit) (0.18.3)\n",
      "Requirement already satisfied: qiskit-ibmq-provider==0.17.0 in z:\\anaconda3\\lib\\site-packages (from qiskit) (0.17.0)\n",
      "Requirement already satisfied: qiskit-ignis==0.6.0 in z:\\anaconda3\\lib\\site-packages (from qiskit) (0.6.0)\n",
      "Requirement already satisfied: qiskit-aer==0.9.1 in z:\\anaconda3\\lib\\site-packages (from qiskit) (0.9.1)\n",
      "Requirement already satisfied: h5py<3.3.0 in z:\\anaconda3\\lib\\site-packages (from qiskit-aqua==0.9.5->qiskit) (2.10.0)\n",
      "Requirement already satisfied: yfinance>=0.1.62 in z:\\anaconda3\\lib\\site-packages (from qiskit-aqua==0.9.5->qiskit) (0.1.64)\n",
      "Requirement already satisfied: retworkx>=0.8.0 in z:\\anaconda3\\lib\\site-packages (from qiskit-aqua==0.9.5->qiskit) (0.10.2)\n",
      "Requirement already satisfied: psutil>=5 in z:\\anaconda3\\lib\\site-packages (from qiskit-aqua==0.9.5->qiskit) (5.6.7)\n",
      "Requirement already satisfied: setuptools>=40.1.0 in z:\\anaconda3\\lib\\site-packages (from qiskit-aqua==0.9.5->qiskit) (45.2.0.post20200210)\n",
      "Requirement already satisfied: fastdtw<=0.3.4 in z:\\anaconda3\\lib\\site-packages (from qiskit-aqua==0.9.5->qiskit) (0.3.4)\n",
      "Requirement already satisfied: scipy>=1.4 in z:\\anaconda3\\lib\\site-packages (from qiskit-aqua==0.9.5->qiskit) (1.4.1)\n",
      "Requirement already satisfied: docplex>=2.21.207 in z:\\anaconda3\\lib\\site-packages (from qiskit-aqua==0.9.5->qiskit) (2.22.213)\n",
      "Requirement already satisfied: scikit-learn>=0.20.0 in z:\\anaconda3\\lib\\site-packages (from qiskit-aqua==0.9.5->qiskit) (0.22.1)\n",
      "Requirement already satisfied: dlx<=1.0.4 in z:\\anaconda3\\lib\\site-packages (from qiskit-aqua==0.9.5->qiskit) (1.0.4)\n",
      "Requirement already satisfied: quandl in z:\\anaconda3\\lib\\site-packages (from qiskit-aqua==0.9.5->qiskit) (3.6.1)\n",
      "Requirement already satisfied: sympy>=1.3 in z:\\anaconda3\\lib\\site-packages (from qiskit-aqua==0.9.5->qiskit) (1.5.1)\n",
      "Requirement already satisfied: numpy>=1.17 in z:\\anaconda3\\lib\\site-packages (from qiskit-aqua==0.9.5->qiskit) (1.18.1)\n",
      "Requirement already satisfied: pandas in z:\\anaconda3\\lib\\site-packages (from qiskit-aqua==0.9.5->qiskit) (1.0.1)\n",
      "Requirement already satisfied: fastjsonschema>=2.10 in z:\\anaconda3\\lib\\site-packages (from qiskit-terra==0.18.3->qiskit) (2.15.1)\n",
      "Requirement already satisfied: ply>=3.10 in z:\\anaconda3\\lib\\site-packages (from qiskit-terra==0.18.3->qiskit) (3.11)\n",
      "Requirement already satisfied: dill>=0.3 in z:\\anaconda3\\lib\\site-packages (from qiskit-terra==0.18.3->qiskit) (0.3.4)\n",
      "Requirement already satisfied: python-constraint>=1.4 in z:\\anaconda3\\lib\\site-packages (from qiskit-terra==0.18.3->qiskit) (1.4.0)\n",
      "Requirement already satisfied: python-dateutil>=2.8.0 in z:\\anaconda3\\lib\\site-packages (from qiskit-terra==0.18.3->qiskit) (2.8.1)\n",
      "Requirement already satisfied: jsonschema>=2.6 in z:\\anaconda3\\lib\\site-packages (from qiskit-terra==0.18.3->qiskit) (3.2.0)\n",
      "Requirement already satisfied: tweedledum<2.0,>=1.1 in z:\\anaconda3\\lib\\site-packages (from qiskit-terra==0.18.3->qiskit) (1.1.1)\n",
      "Requirement already satisfied: requests-ntlm>=1.1.0 in z:\\anaconda3\\lib\\site-packages (from qiskit-ibmq-provider==0.17.0->qiskit) (1.1.0)\n",
      "Requirement already satisfied: websocket-client>=1.0.1 in z:\\anaconda3\\lib\\site-packages (from qiskit-ibmq-provider==0.17.0->qiskit) (1.2.1)\n",
      "Requirement already satisfied: urllib3>=1.21.1 in z:\\anaconda3\\lib\\site-packages (from qiskit-ibmq-provider==0.17.0->qiskit) (1.25.8)\n",
      "Requirement already satisfied: requests>=2.19 in z:\\anaconda3\\lib\\site-packages (from qiskit-ibmq-provider==0.17.0->qiskit) (2.22.0)\n",
      "Requirement already satisfied: six in z:\\anaconda3\\lib\\site-packages (from h5py<3.3.0->qiskit-aqua==0.9.5->qiskit) (1.14.0)\n",
      "Requirement already satisfied: multitasking>=0.0.7 in z:\\anaconda3\\lib\\site-packages (from yfinance>=0.1.62->qiskit-aqua==0.9.5->qiskit) (0.0.9)\n",
      "Requirement already satisfied: lxml>=4.5.1 in z:\\anaconda3\\lib\\site-packages (from yfinance>=0.1.62->qiskit-aqua==0.9.5->qiskit) (4.6.3)\n",
      "Requirement already satisfied: joblib>=0.11 in z:\\anaconda3\\lib\\site-packages (from scikit-learn>=0.20.0->qiskit-aqua==0.9.5->qiskit) (0.14.1)\n",
      "Requirement already satisfied: inflection>=0.3.1 in z:\\anaconda3\\lib\\site-packages (from quandl->qiskit-aqua==0.9.5->qiskit) (0.5.1)\n",
      "Requirement already satisfied: more-itertools in z:\\anaconda3\\lib\\site-packages (from quandl->qiskit-aqua==0.9.5->qiskit) (8.2.0)\n",
      "Requirement already satisfied: mpmath>=0.19 in z:\\anaconda3\\lib\\site-packages (from sympy>=1.3->qiskit-aqua==0.9.5->qiskit) (1.1.0)\n",
      "Requirement already satisfied: pytz>=2017.2 in z:\\anaconda3\\lib\\site-packages (from pandas->qiskit-aqua==0.9.5->qiskit) (2019.3)\n",
      "Requirement already satisfied: attrs>=17.4.0 in z:\\anaconda3\\lib\\site-packages (from jsonschema>=2.6->qiskit-terra==0.18.3->qiskit) (19.3.0)\n",
      "Requirement already satisfied: importlib-metadata; python_version < \"3.8\" in c:\\users\\aaron\\appdata\\roaming\\python\\python37\\site-packages (from jsonschema>=2.6->qiskit-terra==0.18.3->qiskit) (3.4.0)\n",
      "Requirement already satisfied: pyrsistent>=0.14.0 in z:\\anaconda3\\lib\\site-packages (from jsonschema>=2.6->qiskit-terra==0.18.3->qiskit) (0.15.7)\n",
      "Requirement already satisfied: ntlm-auth>=1.0.2 in z:\\anaconda3\\lib\\site-packages (from requests-ntlm>=1.1.0->qiskit-ibmq-provider==0.17.0->qiskit) (1.5.0)\n",
      "Requirement already satisfied: cryptography>=1.3 in z:\\anaconda3\\lib\\site-packages (from requests-ntlm>=1.1.0->qiskit-ibmq-provider==0.17.0->qiskit) (2.8)\n",
      "Requirement already satisfied: chardet<3.1.0,>=3.0.2 in z:\\anaconda3\\lib\\site-packages (from requests>=2.19->qiskit-ibmq-provider==0.17.0->qiskit) (3.0.4)\n",
      "Requirement already satisfied: idna<2.9,>=2.5 in z:\\anaconda3\\lib\\site-packages (from requests>=2.19->qiskit-ibmq-provider==0.17.0->qiskit) (2.8)\n",
      "Requirement already satisfied: certifi>=2017.4.17 in z:\\anaconda3\\lib\\site-packages (from requests>=2.19->qiskit-ibmq-provider==0.17.0->qiskit) (2019.11.28)\n",
      "Requirement already satisfied: typing-extensions>=3.6.4; python_version < \"3.8\" in c:\\users\\aaron\\appdata\\roaming\\python\\python37\\site-packages (from importlib-metadata; python_version < \"3.8\"->jsonschema>=2.6->qiskit-terra==0.18.3->qiskit) (3.7.4.3)\n",
      "Requirement already satisfied: zipp>=0.5 in c:\\users\\aaron\\appdata\\roaming\\python\\python37\\site-packages (from importlib-metadata; python_version < \"3.8\"->jsonschema>=2.6->qiskit-terra==0.18.3->qiskit) (3.4.0)\n",
      "Requirement already satisfied: cffi!=1.11.3,>=1.8 in z:\\anaconda3\\lib\\site-packages (from cryptography>=1.3->requests-ntlm>=1.1.0->qiskit-ibmq-provider==0.17.0->qiskit) (1.14.0)\n",
      "Requirement already satisfied: pycparser in z:\\anaconda3\\lib\\site-packages (from cffi!=1.11.3,>=1.8->cryptography>=1.3->requests-ntlm>=1.1.0->qiskit-ibmq-provider==0.17.0->qiskit) (2.19)\n",
      "Installing collected packages: qiskit-aqua, qiskit\n",
      "Successfully installed qiskit-0.31.0 qiskit-aqua-0.9.5\n"
     ]
    }
   ],
   "source": [
    "!pip install qiskit"
   ]
  },
  {
   "cell_type": "code",
   "execution_count": 45,
   "metadata": {},
   "outputs": [
    {
     "name": "stdout",
     "output_type": "stream",
     "text": [
      "Requirement already satisfied: qiskit[visualization] in z:\\anaconda3\\lib\\site-packages (0.31.0)\n",
      "Requirement already satisfied: qiskit-aqua==0.9.5 in z:\\anaconda3\\lib\\site-packages (from qiskit[visualization]) (0.9.5)\n",
      "Requirement already satisfied: qiskit-ignis==0.6.0 in z:\\anaconda3\\lib\\site-packages (from qiskit[visualization]) (0.6.0)\n",
      "Requirement already satisfied: qiskit-terra==0.18.3 in z:\\anaconda3\\lib\\site-packages (from qiskit[visualization]) (0.18.3)\n",
      "Requirement already satisfied: qiskit-aer==0.9.1 in z:\\anaconda3\\lib\\site-packages (from qiskit[visualization]) (0.9.1)\n",
      "Requirement already satisfied: qiskit-ibmq-provider==0.17.0 in z:\\anaconda3\\lib\\site-packages (from qiskit[visualization]) (0.17.0)\n",
      "Requirement already satisfied: seaborn>=0.9.0; extra == \"visualization\" in z:\\anaconda3\\lib\\site-packages (from qiskit[visualization]) (0.10.0)\n",
      "Collecting pydot; extra == \"visualization\"\n",
      "  Downloading pydot-1.4.2-py2.py3-none-any.whl (21 kB)\n",
      "Requirement already satisfied: pygments>=2.4; extra == \"visualization\" in z:\\anaconda3\\lib\\site-packages (from qiskit[visualization]) (2.5.2)\n",
      "Requirement already satisfied: ipywidgets>=7.3.0; extra == \"visualization\" in z:\\anaconda3\\lib\\site-packages (from qiskit[visualization]) (7.5.1)\n",
      "Requirement already satisfied: pillow>=4.2.1; extra == \"visualization\" in z:\\anaconda3\\lib\\site-packages (from qiskit[visualization]) (7.0.0)\n",
      "Collecting pylatexenc>=1.4; extra == \"visualization\"\n",
      "  Downloading pylatexenc-2.10.tar.gz (162 kB)\n",
      "Requirement already satisfied: matplotlib>=2.1; extra == \"visualization\" in z:\\anaconda3\\lib\\site-packages (from qiskit[visualization]) (3.1.3)\n",
      "Requirement already satisfied: numpy>=1.17 in z:\\anaconda3\\lib\\site-packages (from qiskit-aqua==0.9.5->qiskit[visualization]) (1.18.1)\n",
      "Requirement already satisfied: pandas in z:\\anaconda3\\lib\\site-packages (from qiskit-aqua==0.9.5->qiskit[visualization]) (1.0.1)\n",
      "Requirement already satisfied: sympy>=1.3 in z:\\anaconda3\\lib\\site-packages (from qiskit-aqua==0.9.5->qiskit[visualization]) (1.5.1)\n",
      "Requirement already satisfied: psutil>=5 in z:\\anaconda3\\lib\\site-packages (from qiskit-aqua==0.9.5->qiskit[visualization]) (5.6.7)\n",
      "Requirement already satisfied: scipy>=1.4 in z:\\anaconda3\\lib\\site-packages (from qiskit-aqua==0.9.5->qiskit[visualization]) (1.4.1)\n",
      "Requirement already satisfied: scikit-learn>=0.20.0 in z:\\anaconda3\\lib\\site-packages (from qiskit-aqua==0.9.5->qiskit[visualization]) (0.22.1)\n",
      "Requirement already satisfied: h5py<3.3.0 in z:\\anaconda3\\lib\\site-packages (from qiskit-aqua==0.9.5->qiskit[visualization]) (2.10.0)\n",
      "Requirement already satisfied: setuptools>=40.1.0 in z:\\anaconda3\\lib\\site-packages (from qiskit-aqua==0.9.5->qiskit[visualization]) (45.2.0.post20200210)\n",
      "Requirement already satisfied: retworkx>=0.8.0 in z:\\anaconda3\\lib\\site-packages (from qiskit-aqua==0.9.5->qiskit[visualization]) (0.10.2)\n",
      "Requirement already satisfied: fastdtw<=0.3.4 in z:\\anaconda3\\lib\\site-packages (from qiskit-aqua==0.9.5->qiskit[visualization]) (0.3.4)\n",
      "Requirement already satisfied: yfinance>=0.1.62 in z:\\anaconda3\\lib\\site-packages (from qiskit-aqua==0.9.5->qiskit[visualization]) (0.1.64)\n",
      "Requirement already satisfied: quandl in z:\\anaconda3\\lib\\site-packages (from qiskit-aqua==0.9.5->qiskit[visualization]) (3.6.1)\n",
      "Requirement already satisfied: docplex>=2.21.207 in z:\\anaconda3\\lib\\site-packages (from qiskit-aqua==0.9.5->qiskit[visualization]) (2.22.213)\n",
      "Requirement already satisfied: dlx<=1.0.4 in z:\\anaconda3\\lib\\site-packages (from qiskit-aqua==0.9.5->qiskit[visualization]) (1.0.4)\n",
      "Requirement already satisfied: ply>=3.10 in z:\\anaconda3\\lib\\site-packages (from qiskit-terra==0.18.3->qiskit[visualization]) (3.11)\n",
      "Requirement already satisfied: python-constraint>=1.4 in z:\\anaconda3\\lib\\site-packages (from qiskit-terra==0.18.3->qiskit[visualization]) (1.4.0)\n",
      "Requirement already satisfied: tweedledum<2.0,>=1.1 in z:\\anaconda3\\lib\\site-packages (from qiskit-terra==0.18.3->qiskit[visualization]) (1.1.1)\n",
      "Requirement already satisfied: fastjsonschema>=2.10 in z:\\anaconda3\\lib\\site-packages (from qiskit-terra==0.18.3->qiskit[visualization]) (2.15.1)\n",
      "Requirement already satisfied: jsonschema>=2.6 in z:\\anaconda3\\lib\\site-packages (from qiskit-terra==0.18.3->qiskit[visualization]) (3.2.0)\n",
      "Requirement already satisfied: dill>=0.3 in z:\\anaconda3\\lib\\site-packages (from qiskit-terra==0.18.3->qiskit[visualization]) (0.3.4)\n",
      "Requirement already satisfied: python-dateutil>=2.8.0 in z:\\anaconda3\\lib\\site-packages (from qiskit-terra==0.18.3->qiskit[visualization]) (2.8.1)\n",
      "Requirement already satisfied: urllib3>=1.21.1 in z:\\anaconda3\\lib\\site-packages (from qiskit-ibmq-provider==0.17.0->qiskit[visualization]) (1.25.8)\n",
      "Requirement already satisfied: requests-ntlm>=1.1.0 in z:\\anaconda3\\lib\\site-packages (from qiskit-ibmq-provider==0.17.0->qiskit[visualization]) (1.1.0)\n",
      "Requirement already satisfied: requests>=2.19 in z:\\anaconda3\\lib\\site-packages (from qiskit-ibmq-provider==0.17.0->qiskit[visualization]) (2.22.0)\n",
      "Requirement already satisfied: websocket-client>=1.0.1 in z:\\anaconda3\\lib\\site-packages (from qiskit-ibmq-provider==0.17.0->qiskit[visualization]) (1.2.1)\n",
      "Requirement already satisfied: pyparsing>=2.1.4 in z:\\anaconda3\\lib\\site-packages (from pydot; extra == \"visualization\"->qiskit[visualization]) (2.4.6)\n",
      "Requirement already satisfied: ipykernel>=4.5.1 in z:\\anaconda3\\lib\\site-packages (from ipywidgets>=7.3.0; extra == \"visualization\"->qiskit[visualization]) (5.1.4)\n",
      "Requirement already satisfied: nbformat>=4.2.0 in z:\\anaconda3\\lib\\site-packages (from ipywidgets>=7.3.0; extra == \"visualization\"->qiskit[visualization]) (5.0.4)\n",
      "Requirement already satisfied: ipython>=4.0.0; python_version >= \"3.3\" in z:\\anaconda3\\lib\\site-packages (from ipywidgets>=7.3.0; extra == \"visualization\"->qiskit[visualization]) (7.12.0)\n",
      "Requirement already satisfied: traitlets>=4.3.1 in z:\\anaconda3\\lib\\site-packages (from ipywidgets>=7.3.0; extra == \"visualization\"->qiskit[visualization]) (4.3.3)\n",
      "Requirement already satisfied: widgetsnbextension~=3.5.0 in z:\\anaconda3\\lib\\site-packages (from ipywidgets>=7.3.0; extra == \"visualization\"->qiskit[visualization]) (3.5.1)\n",
      "Requirement already satisfied: kiwisolver>=1.0.1 in z:\\anaconda3\\lib\\site-packages (from matplotlib>=2.1; extra == \"visualization\"->qiskit[visualization]) (1.1.0)\n",
      "Requirement already satisfied: cycler>=0.10 in z:\\anaconda3\\lib\\site-packages (from matplotlib>=2.1; extra == \"visualization\"->qiskit[visualization]) (0.10.0)\n",
      "Requirement already satisfied: pytz>=2017.2 in z:\\anaconda3\\lib\\site-packages (from pandas->qiskit-aqua==0.9.5->qiskit[visualization]) (2019.3)\n",
      "Requirement already satisfied: mpmath>=0.19 in z:\\anaconda3\\lib\\site-packages (from sympy>=1.3->qiskit-aqua==0.9.5->qiskit[visualization]) (1.1.0)\n",
      "Requirement already satisfied: joblib>=0.11 in z:\\anaconda3\\lib\\site-packages (from scikit-learn>=0.20.0->qiskit-aqua==0.9.5->qiskit[visualization]) (0.14.1)\n",
      "Requirement already satisfied: six in z:\\anaconda3\\lib\\site-packages (from h5py<3.3.0->qiskit-aqua==0.9.5->qiskit[visualization]) (1.14.0)\n",
      "Requirement already satisfied: lxml>=4.5.1 in z:\\anaconda3\\lib\\site-packages (from yfinance>=0.1.62->qiskit-aqua==0.9.5->qiskit[visualization]) (4.6.3)\n",
      "Requirement already satisfied: multitasking>=0.0.7 in z:\\anaconda3\\lib\\site-packages (from yfinance>=0.1.62->qiskit-aqua==0.9.5->qiskit[visualization]) (0.0.9)\n",
      "Requirement already satisfied: inflection>=0.3.1 in z:\\anaconda3\\lib\\site-packages (from quandl->qiskit-aqua==0.9.5->qiskit[visualization]) (0.5.1)\n",
      "Requirement already satisfied: more-itertools in z:\\anaconda3\\lib\\site-packages (from quandl->qiskit-aqua==0.9.5->qiskit[visualization]) (8.2.0)\n",
      "Requirement already satisfied: importlib-metadata; python_version < \"3.8\" in c:\\users\\aaron\\appdata\\roaming\\python\\python37\\site-packages (from jsonschema>=2.6->qiskit-terra==0.18.3->qiskit[visualization]) (3.4.0)\n",
      "Requirement already satisfied: attrs>=17.4.0 in z:\\anaconda3\\lib\\site-packages (from jsonschema>=2.6->qiskit-terra==0.18.3->qiskit[visualization]) (19.3.0)\n",
      "Requirement already satisfied: pyrsistent>=0.14.0 in z:\\anaconda3\\lib\\site-packages (from jsonschema>=2.6->qiskit-terra==0.18.3->qiskit[visualization]) (0.15.7)\n",
      "Requirement already satisfied: cryptography>=1.3 in z:\\anaconda3\\lib\\site-packages (from requests-ntlm>=1.1.0->qiskit-ibmq-provider==0.17.0->qiskit[visualization]) (2.8)\n",
      "Requirement already satisfied: ntlm-auth>=1.0.2 in z:\\anaconda3\\lib\\site-packages (from requests-ntlm>=1.1.0->qiskit-ibmq-provider==0.17.0->qiskit[visualization]) (1.5.0)\n",
      "Requirement already satisfied: chardet<3.1.0,>=3.0.2 in z:\\anaconda3\\lib\\site-packages (from requests>=2.19->qiskit-ibmq-provider==0.17.0->qiskit[visualization]) (3.0.4)\n",
      "Requirement already satisfied: certifi>=2017.4.17 in z:\\anaconda3\\lib\\site-packages (from requests>=2.19->qiskit-ibmq-provider==0.17.0->qiskit[visualization]) (2019.11.28)\n",
      "Requirement already satisfied: idna<2.9,>=2.5 in z:\\anaconda3\\lib\\site-packages (from requests>=2.19->qiskit-ibmq-provider==0.17.0->qiskit[visualization]) (2.8)\n",
      "Requirement already satisfied: tornado>=4.2 in z:\\anaconda3\\lib\\site-packages (from ipykernel>=4.5.1->ipywidgets>=7.3.0; extra == \"visualization\"->qiskit[visualization]) (6.0.3)\n",
      "Requirement already satisfied: jupyter-client in z:\\anaconda3\\lib\\site-packages (from ipykernel>=4.5.1->ipywidgets>=7.3.0; extra == \"visualization\"->qiskit[visualization]) (5.3.4)\n",
      "Requirement already satisfied: jupyter-core in z:\\anaconda3\\lib\\site-packages (from nbformat>=4.2.0->ipywidgets>=7.3.0; extra == \"visualization\"->qiskit[visualization]) (4.6.1)\n",
      "Requirement already satisfied: ipython-genutils in z:\\anaconda3\\lib\\site-packages (from nbformat>=4.2.0->ipywidgets>=7.3.0; extra == \"visualization\"->qiskit[visualization]) (0.2.0)\n",
      "Requirement already satisfied: decorator in z:\\anaconda3\\lib\\site-packages (from ipython>=4.0.0; python_version >= \"3.3\"->ipywidgets>=7.3.0; extra == \"visualization\"->qiskit[visualization]) (4.4.1)\n",
      "Requirement already satisfied: prompt-toolkit!=3.0.0,!=3.0.1,<3.1.0,>=2.0.0 in z:\\anaconda3\\lib\\site-packages (from ipython>=4.0.0; python_version >= \"3.3\"->ipywidgets>=7.3.0; extra == \"visualization\"->qiskit[visualization]) (3.0.3)\n",
      "Requirement already satisfied: backcall in z:\\anaconda3\\lib\\site-packages (from ipython>=4.0.0; python_version >= \"3.3\"->ipywidgets>=7.3.0; extra == \"visualization\"->qiskit[visualization]) (0.1.0)\n",
      "Requirement already satisfied: pickleshare in z:\\anaconda3\\lib\\site-packages (from ipython>=4.0.0; python_version >= \"3.3\"->ipywidgets>=7.3.0; extra == \"visualization\"->qiskit[visualization]) (0.7.5)\n",
      "Requirement already satisfied: jedi>=0.10 in z:\\anaconda3\\lib\\site-packages (from ipython>=4.0.0; python_version >= \"3.3\"->ipywidgets>=7.3.0; extra == \"visualization\"->qiskit[visualization]) (0.14.1)\n",
      "Requirement already satisfied: colorama; sys_platform == \"win32\" in z:\\anaconda3\\lib\\site-packages (from ipython>=4.0.0; python_version >= \"3.3\"->ipywidgets>=7.3.0; extra == \"visualization\"->qiskit[visualization]) (0.4.3)\n",
      "Requirement already satisfied: notebook>=4.4.1 in z:\\anaconda3\\lib\\site-packages (from widgetsnbextension~=3.5.0->ipywidgets>=7.3.0; extra == \"visualization\"->qiskit[visualization]) (6.0.3)\n",
      "Requirement already satisfied: typing-extensions>=3.6.4; python_version < \"3.8\" in c:\\users\\aaron\\appdata\\roaming\\python\\python37\\site-packages (from importlib-metadata; python_version < \"3.8\"->jsonschema>=2.6->qiskit-terra==0.18.3->qiskit[visualization]) (3.7.4.3)\n",
      "Requirement already satisfied: zipp>=0.5 in c:\\users\\aaron\\appdata\\roaming\\python\\python37\\site-packages (from importlib-metadata; python_version < \"3.8\"->jsonschema>=2.6->qiskit-terra==0.18.3->qiskit[visualization]) (3.4.0)\n",
      "Requirement already satisfied: cffi!=1.11.3,>=1.8 in z:\\anaconda3\\lib\\site-packages (from cryptography>=1.3->requests-ntlm>=1.1.0->qiskit-ibmq-provider==0.17.0->qiskit[visualization]) (1.14.0)\n",
      "Requirement already satisfied: pywin32>=1.0; sys_platform == \"win32\" in z:\\anaconda3\\lib\\site-packages (from jupyter-client->ipykernel>=4.5.1->ipywidgets>=7.3.0; extra == \"visualization\"->qiskit[visualization]) (227)\n",
      "Requirement already satisfied: pyzmq>=13 in z:\\anaconda3\\lib\\site-packages (from jupyter-client->ipykernel>=4.5.1->ipywidgets>=7.3.0; extra == \"visualization\"->qiskit[visualization]) (18.1.1)\n",
      "Requirement already satisfied: wcwidth in z:\\anaconda3\\lib\\site-packages (from prompt-toolkit!=3.0.0,!=3.0.1,<3.1.0,>=2.0.0->ipython>=4.0.0; python_version >= \"3.3\"->ipywidgets>=7.3.0; extra == \"visualization\"->qiskit[visualization]) (0.1.8)\n",
      "Requirement already satisfied: parso>=0.5.0 in z:\\anaconda3\\lib\\site-packages (from jedi>=0.10->ipython>=4.0.0; python_version >= \"3.3\"->ipywidgets>=7.3.0; extra == \"visualization\"->qiskit[visualization]) (0.5.2)\n",
      "Requirement already satisfied: terminado>=0.8.1 in z:\\anaconda3\\lib\\site-packages (from notebook>=4.4.1->widgetsnbextension~=3.5.0->ipywidgets>=7.3.0; extra == \"visualization\"->qiskit[visualization]) (0.8.3)\n",
      "Requirement already satisfied: jinja2 in z:\\anaconda3\\lib\\site-packages (from notebook>=4.4.1->widgetsnbextension~=3.5.0->ipywidgets>=7.3.0; extra == \"visualization\"->qiskit[visualization]) (2.11.1)\n",
      "Requirement already satisfied: nbconvert in z:\\anaconda3\\lib\\site-packages (from notebook>=4.4.1->widgetsnbextension~=3.5.0->ipywidgets>=7.3.0; extra == \"visualization\"->qiskit[visualization]) (5.6.1)\n",
      "Requirement already satisfied: Send2Trash in z:\\anaconda3\\lib\\site-packages (from notebook>=4.4.1->widgetsnbextension~=3.5.0->ipywidgets>=7.3.0; extra == \"visualization\"->qiskit[visualization]) (1.5.0)\n",
      "Requirement already satisfied: prometheus-client in z:\\anaconda3\\lib\\site-packages (from notebook>=4.4.1->widgetsnbextension~=3.5.0->ipywidgets>=7.3.0; extra == \"visualization\"->qiskit[visualization]) (0.7.1)\n",
      "Requirement already satisfied: pycparser in z:\\anaconda3\\lib\\site-packages (from cffi!=1.11.3,>=1.8->cryptography>=1.3->requests-ntlm>=1.1.0->qiskit-ibmq-provider==0.17.0->qiskit[visualization]) (2.19)\n",
      "Requirement already satisfied: MarkupSafe>=0.23 in z:\\anaconda3\\lib\\site-packages (from jinja2->notebook>=4.4.1->widgetsnbextension~=3.5.0->ipywidgets>=7.3.0; extra == \"visualization\"->qiskit[visualization]) (1.1.1)\n",
      "Requirement already satisfied: testpath in z:\\anaconda3\\lib\\site-packages (from nbconvert->notebook>=4.4.1->widgetsnbextension~=3.5.0->ipywidgets>=7.3.0; extra == \"visualization\"->qiskit[visualization]) (0.4.4)\n",
      "Requirement already satisfied: pandocfilters>=1.4.1 in z:\\anaconda3\\lib\\site-packages (from nbconvert->notebook>=4.4.1->widgetsnbextension~=3.5.0->ipywidgets>=7.3.0; extra == \"visualization\"->qiskit[visualization]) (1.4.2)\n",
      "Requirement already satisfied: bleach in z:\\anaconda3\\lib\\site-packages (from nbconvert->notebook>=4.4.1->widgetsnbextension~=3.5.0->ipywidgets>=7.3.0; extra == \"visualization\"->qiskit[visualization]) (3.1.0)\n",
      "Requirement already satisfied: mistune<2,>=0.8.1 in z:\\anaconda3\\lib\\site-packages (from nbconvert->notebook>=4.4.1->widgetsnbextension~=3.5.0->ipywidgets>=7.3.0; extra == \"visualization\"->qiskit[visualization]) (0.8.4)\n",
      "Requirement already satisfied: defusedxml in z:\\anaconda3\\lib\\site-packages (from nbconvert->notebook>=4.4.1->widgetsnbextension~=3.5.0->ipywidgets>=7.3.0; extra == \"visualization\"->qiskit[visualization]) (0.6.0)\n",
      "Requirement already satisfied: entrypoints>=0.2.2 in z:\\anaconda3\\lib\\site-packages (from nbconvert->notebook>=4.4.1->widgetsnbextension~=3.5.0->ipywidgets>=7.3.0; extra == \"visualization\"->qiskit[visualization]) (0.3)\n",
      "Requirement already satisfied: webencodings in z:\\anaconda3\\lib\\site-packages (from bleach->nbconvert->notebook>=4.4.1->widgetsnbextension~=3.5.0->ipywidgets>=7.3.0; extra == \"visualization\"->qiskit[visualization]) (0.5.1)\n",
      "Building wheels for collected packages: pylatexenc\n",
      "  Building wheel for pylatexenc (setup.py): started\n",
      "  Building wheel for pylatexenc (setup.py): finished with status 'done'\n",
      "  Created wheel for pylatexenc: filename=pylatexenc-2.10-py3-none-any.whl size=136829 sha256=9450aecb1f662d8723eb73461f475303bd05c0285a1b1b04d5f5977714471323\n",
      "  Stored in directory: c:\\users\\aaron\\appdata\\local\\pip\\cache\\wheels\\f1\\8a\\f5\\33ee79d4473eb201b519fa40f989b842e373237395a3421f52\n",
      "Successfully built pylatexenc\n",
      "Installing collected packages: pydot, pylatexenc\n",
      "Successfully installed pydot-1.4.2 pylatexenc-2.10\n"
     ]
    }
   ],
   "source": [
    "!pip install qiskit[visualization]"
   ]
  },
  {
   "cell_type": "code",
   "execution_count": 82,
   "metadata": {},
   "outputs": [
    {
     "data": {
      "text/html": [
       "<pre style=\"word-wrap: normal;white-space: pre;background: #fff0;line-height: 1.1;font-family: &quot;Courier New&quot;,Courier,monospace\">        ┌───┐┌─┐\n",
       "q678_0: ┤ H ├┤M├\n",
       "        └───┘└╥┘\n",
       "  c8: 1/══════╩═\n",
       "              0 </pre>"
      ],
      "text/plain": [
       "        ┌───┐┌─┐\n",
       "q678_0: ┤ H ├┤M├\n",
       "        └───┘└╥┘\n",
       "  c8: 1/══════╩═\n",
       "              0 "
      ]
     },
     "execution_count": 82,
     "metadata": {},
     "output_type": "execute_result"
    }
   ],
   "source": [
    "from qiskit import QuantumRegister, ClassicalRegister, QuantumCircuit\n",
    "from qiskit.tools.visualization import circuit_drawer\n",
    "q = QuantumRegister(1)\n",
    "c = ClassicalRegister(1)\n",
    "qc = QuantumCircuit(q, c)\n",
    "qc.h(q)\n",
    "qc.measure(q, c)\n",
    "qc.draw(output='text', style={'backgroundcolor': '#EEEEEE'})\n",
    "#qc.draw(output='mpl', style={'backgroundcolor': '#EEEEEE'})\n",
    "#qc.draw(output='latex', style={'backgroundcolor': '#EEEEEE'})\n",
    "#qc.draw(output='latex_source', style={'backgroundcolor': '#EEEEEE'})"
   ]
  },
  {
   "cell_type": "code",
   "execution_count": 6,
   "metadata": {},
   "outputs": [
    {
     "name": "stdout",
     "output_type": "stream",
     "text": [
      "Requirement already satisfied: matplotlib in z:\\anaconda3\\lib\\site-packages (3.1.3)\n",
      "Requirement already satisfied: python-dateutil>=2.1 in z:\\anaconda3\\lib\\site-packages (from matplotlib) (2.8.1)\n",
      "Requirement already satisfied: cycler>=0.10 in z:\\anaconda3\\lib\\site-packages (from matplotlib) (0.10.0)\n",
      "Requirement already satisfied: pyparsing!=2.0.4,!=2.1.2,!=2.1.6,>=2.0.1 in z:\\anaconda3\\lib\\site-packages (from matplotlib) (2.4.6)\n",
      "Requirement already satisfied: kiwisolver>=1.0.1 in z:\\anaconda3\\lib\\site-packages (from matplotlib) (1.1.0)\n",
      "Requirement already satisfied: numpy>=1.11 in z:\\anaconda3\\lib\\site-packages (from matplotlib) (1.18.1)\n",
      "Requirement already satisfied: six>=1.5 in z:\\anaconda3\\lib\\site-packages (from python-dateutil>=2.1->matplotlib) (1.14.0)\n",
      "Requirement already satisfied: setuptools in z:\\anaconda3\\lib\\site-packages (from kiwisolver>=1.0.1->matplotlib) (45.2.0.post20200210)\n"
     ]
    }
   ],
   "source": [
    "!pip install matplotlib\n",
    "import matplotlib\n",
    "from qiskit import ClassicalRegister, QuantumRegister, QuantumCircuit, Aer, execute\n",
    "from qiskit.tools.visualization import circuit_drawer\n",
    "import Our_Qiskit_Functions as oq\n",
    "import math as m\n",
    "S_simulator = Aer.backends(name='statevector_simulator')[0]\n",
    "M_simulator = Aer.backends(name='qasm_simulator')[0]"
   ]
  },
  {
   "cell_type": "markdown",
   "metadata": {},
   "source": [
    "# Single Qubit Gates\n",
    "-------\n",
    "\n",
    "\n",
    "\n",
    "## The Identity Operator:  ( <font color=\"red\">I</font> )\n",
    "\n",
    "\n",
    "<BR>\n",
    "<font color=\"blue\" size=4>\n",
    "\n",
    "$$\n",
    "\\begin{bmatrix} \n",
    "1 & 0\\\\ \n",
    "0 & 1\n",
    "\\end{bmatrix}\n",
    "$$\n",
    "\n",
    "</font>\n",
    "<BR>\n",
    "    \n",
    "The effect of this gate renders the qubit's state unchanged.  An Identity gate does not get any symbol in a circuit diagram.\n"
   ]
  },
  {
   "cell_type": "code",
   "execution_count": 56,
   "metadata": {
    "scrolled": true
   },
   "outputs": [
    {
     "name": "stdout",
     "output_type": "stream",
     "text": [
      "  __ Initial __ \n",
      "1.0  |0>   \n",
      "\n",
      "  __ Final __ \n",
      "1.0  |0>   \n"
     ]
    },
    {
     "data": {
      "text/html": [
       "<pre style=\"word-wrap: normal;white-space: pre;background: #fff0;line-height: 1.1;font-family: &quot;Courier New&quot;,Courier,monospace\">     ┌───┐┌───┐\n",
       "q_0: ┤ I ├┤ I ├\n",
       "     └───┘└───┘</pre>"
      ],
      "text/plain": [
       "     ┌───┐┌───┐\n",
       "q_0: ┤ I ├┤ I ├\n",
       "     └───┘└───┘"
      ]
     },
     "execution_count": 56,
     "metadata": {},
     "output_type": "execute_result"
    }
   ],
   "source": [
    "q = QuantumRegister(1,name='q')\n",
    "I_qc = QuantumCircuit(q,name='qc')\n",
    "I_qc.id(q[0])\n",
    "#I_qc.iden( q[0] )\n",
    "print('  __ Initial __ ')\n",
    "print(oq.Wavefunction(I_qc))\n",
    "I_qc.id(q[0])\n",
    "#I_qc.iden( q[0] )\n",
    "print('\\n  __ Final __ ')\n",
    "print(oq.Wavefunction(I_qc))\n",
    "\n",
    "#circuit_drawer(I_qc)\n",
    "I_qc.draw(output=\"text\")"
   ]
  },
  {
   "cell_type": "markdown",
   "metadata": {},
   "source": [
    "## Hadamard ( <font color=\"red\">H</font> )\n",
    "\n",
    "<BR>\n",
    "<font color=\"blue\" size=4>\n",
    "    \n",
    "$$\n",
    "\\begin{bmatrix} \n",
    "1 & 1\\\\ \n",
    "1 & -1\n",
    "\\end{bmatrix}\n",
    "$$\n",
    "\n",
    "</font>\n",
    "<BR>\n",
    "    \n",
    "The effect of this gate is as follows:\n",
    "\n",
    "<BR>\n",
    "\n",
    "This gate results in a qubit being in a 50 / 50 superposition of states |$0\\rangle$ and |$1\\rangle$.  While this may seem simple enough, the importance of the Hadamard gate cannot be understated.  In the coming lessons, we shall see that the Hadamard gate is largely responsible for the success of many quantum algorithms.\n",
    "\n",
    "<BR><BR>"
   ]
  },
  {
   "cell_type": "code",
   "execution_count": 58,
   "metadata": {},
   "outputs": [
    {
     "name": "stdout",
     "output_type": "stream",
     "text": [
      "  __ Initial __ \n",
      "1.0  |0>   \n",
      "\n",
      "  __ Final __ \n",
      "0.70711  |0>   0.70711  |1>   \n"
     ]
    },
    {
     "data": {
      "text/html": [
       "<pre style=\"word-wrap: normal;white-space: pre;background: #fff0;line-height: 1.1;font-family: &quot;Courier New&quot;,Courier,monospace\">     ┌───┐┌───┐\n",
       "q_0: ┤ I ├┤ H ├\n",
       "     └───┘└───┘</pre>"
      ],
      "text/plain": [
       "     ┌───┐┌───┐\n",
       "q_0: ┤ I ├┤ H ├\n",
       "     └───┘└───┘"
      ]
     },
     "execution_count": 58,
     "metadata": {},
     "output_type": "execute_result"
    }
   ],
   "source": [
    "q = QuantumRegister(1,name='q')\n",
    "H_qc = QuantumCircuit(q,name='qc')\n",
    "\n",
    "\n",
    "H_qc.id( q[0] )\n",
    "print('  __ Initial __ ')\n",
    "print(oq.Wavefunction(H_qc))\n",
    "\n",
    "H_qc.h( q[0] )\n",
    "print('\\n  __ Final __ ')\n",
    "print(oq.Wavefunction(H_qc))\n",
    "\n",
    "#circuit_drawer(H_qc)\n",
    "H_qc.draw(output=\"text\")"
   ]
  },
  {
   "cell_type": "markdown",
   "metadata": {},
   "source": [
    "# Pauli Operators\n",
    "------\n",
    "\n",
    "## ( <font color=\"red\">X</font> )\n",
    "\n",
    "<BR>\n",
    "<font color=\"blue\" size=4>\n",
    "    \n",
    "$$\n",
    "\\begin{bmatrix} \n",
    "0 & 1\\\\ \n",
    "1 & 0\n",
    "\\end{bmatrix}\n",
    "$$\n",
    "\n",
    "</font>\n",
    "<BR>\n",
    "    \n",
    "The effect of this gate is to flip a qubit's state between |0$\\rangle$ and |1$\\rangle$.  This gate can be thought of the quantum analog to flipping a classical bit (the NOT gate).  In systems with many superposition states, this gate will be very useful in isolating particular states for future operations.\n",
    "\n",
    "<BR><BR>"
   ]
  },
  {
   "cell_type": "code",
   "execution_count": 59,
   "metadata": {},
   "outputs": [
    {
     "name": "stdout",
     "output_type": "stream",
     "text": [
      "  __ Initial __ \n",
      "1.0  |0>   \n",
      "\n",
      "  __ Final __ \n",
      "1.0  |1>   \n"
     ]
    },
    {
     "data": {
      "text/html": [
       "<pre style=\"word-wrap: normal;white-space: pre;background: #fff0;line-height: 1.1;font-family: &quot;Courier New&quot;,Courier,monospace\">     ┌───┐┌───┐\n",
       "q_0: ┤ I ├┤ X ├\n",
       "     └───┘└───┘</pre>"
      ],
      "text/plain": [
       "     ┌───┐┌───┐\n",
       "q_0: ┤ I ├┤ X ├\n",
       "     └───┘└───┘"
      ]
     },
     "execution_count": 59,
     "metadata": {},
     "output_type": "execute_result"
    }
   ],
   "source": [
    "q = QuantumRegister(1,name='q')\n",
    "X_qc = QuantumCircuit(q,name='qc')\n",
    "\n",
    "X_qc.id( q[0] )\n",
    "print('  __ Initial __ ')\n",
    "print(oq.Wavefunction(X_qc))\n",
    "\n",
    "X_qc.x( q[0] )\n",
    "print('\\n  __ Final __ ')\n",
    "print(oq.Wavefunction(X_qc))\n",
    "\n",
    "# circuit_drawer(X_qc)\n",
    "X_qc.draw(output=\"text\")"
   ]
  },
  {
   "cell_type": "markdown",
   "metadata": {},
   "source": [
    "---\n",
    "## ( <font color=\"red\">Y</font> )\n",
    "\n",
    "<BR>\n",
    "<font color=\"blue\" size=4>\n",
    "    \n",
    "$$\n",
    "\\begin{bmatrix} \n",
    "0 & -i\\\\ \n",
    "i & 0\n",
    "\\end{bmatrix}\n",
    "$$\n",
    "\n",
    "</font>\n",
    "<BR>\n",
    "\n",
    "\n",
    "\n",
    "The effect of this gate is to flip a qubit's |0$\\rangle$ and |1$\\rangle$ amplitudes and multiplys by an imaginary number (phase).  From a probabilities perspective, this gate has the same effect as the X gate.  However, the additional phase makes this gate very useful in creating certain constructive / deconstructive interferences.\n",
    "\n",
    "<BR><BR>"
   ]
  },
  {
   "cell_type": "code",
   "execution_count": 60,
   "metadata": {},
   "outputs": [
    {
     "name": "stdout",
     "output_type": "stream",
     "text": [
      "  __ Initial __ \n",
      "1.0  |0>   \n",
      "\n",
      "  __ Final __ \n",
      "1.0j |1>   \n"
     ]
    },
    {
     "data": {
      "text/html": [
       "<pre style=\"word-wrap: normal;white-space: pre;background: #fff0;line-height: 1.1;font-family: &quot;Courier New&quot;,Courier,monospace\">     ┌───┐┌───┐\n",
       "q_0: ┤ I ├┤ Y ├\n",
       "     └───┘└───┘</pre>"
      ],
      "text/plain": [
       "     ┌───┐┌───┐\n",
       "q_0: ┤ I ├┤ Y ├\n",
       "     └───┘└───┘"
      ]
     },
     "execution_count": 60,
     "metadata": {},
     "output_type": "execute_result"
    }
   ],
   "source": [
    "q = QuantumRegister(1,name='q')\n",
    "Y_qc = QuantumCircuit(q,name='qc')\n",
    "\n",
    "Y_qc.id( q[0] )\n",
    "print('  __ Initial __ ')\n",
    "print(oq.Wavefunction(Y_qc))\n",
    "\n",
    "Y_qc.y( q[0] )\n",
    "print('\\n  __ Final __ ')\n",
    "print(oq.Wavefunction(Y_qc))\n",
    "\n",
    "# circuit_drawer(Y_qc)\n",
    "Y_qc.draw(output=\"text\")"
   ]
  },
  {
   "cell_type": "markdown",
   "metadata": {},
   "source": [
    "---\n",
    "## ( <font color=\"red\">Z</font> )\n",
    "\n",
    "<BR>\n",
    "<font color=\"blue\" size=4>\n",
    "    \n",
    "$$\n",
    "\\begin{bmatrix} \n",
    "1 & 0\\\\ \n",
    "0 & -1\n",
    "\\end{bmatrix}\n",
    "$$\n",
    "\n",
    "</font>\n",
    "<BR>\n",
    "\n",
    "\n",
    "The effect of this gate leaves a qubit's |0$\\rangle$ amplitude unchanged, while multiplying by -1 (phase) to a qubit's |1$\\rangle$ amplitude.  The power of this gate comes from the fact that it only affects the |$1\\rangle$ component, which will be frequently used for picking out certain states in the system while leaving others unaltered.\n",
    "\n",
    "<BR><BR>"
   ]
  },
  {
   "cell_type": "code",
   "execution_count": 61,
   "metadata": {},
   "outputs": [
    {
     "name": "stdout",
     "output_type": "stream",
     "text": [
      "  __ Initial __ \n",
      "0.70711  |0>   0.70711  |1>   \n",
      "\n",
      "  __ Final __ \n",
      "0.70711  |0>   -0.70711  |1>   \n"
     ]
    },
    {
     "data": {
      "text/html": [
       "<pre style=\"word-wrap: normal;white-space: pre;background: #fff0;line-height: 1.1;font-family: &quot;Courier New&quot;,Courier,monospace\">     ┌───┐┌───┐\n",
       "q_0: ┤ H ├┤ Z ├\n",
       "     └───┘└───┘</pre>"
      ],
      "text/plain": [
       "     ┌───┐┌───┐\n",
       "q_0: ┤ H ├┤ Z ├\n",
       "     └───┘└───┘"
      ]
     },
     "execution_count": 61,
     "metadata": {},
     "output_type": "execute_result"
    }
   ],
   "source": [
    "q = QuantumRegister(1,name='q')\n",
    "Z_qc = QuantumCircuit(q,name='qc')\n",
    "\n",
    "Z_qc.h( q[0] )\n",
    "print('  __ Initial __ ')\n",
    "print(oq.Wavefunction(Z_qc))\n",
    "\n",
    "Z_qc.z( q[0] )\n",
    "print('\\n  __ Final __ ')\n",
    "print(oq.Wavefunction(Z_qc))\n",
    "\n",
    "# circuit_drawer(Z_qc)\n",
    "Z_qc.draw(output=\"text\")"
   ]
  },
  {
   "cell_type": "markdown",
   "metadata": {},
   "source": [
    "# Phase Gates\n",
    "------\n",
    "The following series of gates are all single qubit operations, which multiply a qubit's |$1\\rangle$ state component by a phase.  Doing so does not change the probability of the system, but is an essential component for algorithms that rely on particular kinds of interference.\n",
    "\n",
    "\n",
    "## PHASE ( <font color=\"red\">R$_{\\phi}$</font> )\n",
    "\n",
    "<BR>\n",
    "<font color=\"blue\" size=4>\n",
    "    \n",
    "$$\n",
    "\\begin{bmatrix} \n",
    "1 & 0\\\\ \n",
    "0 & e^{i\\phi}\n",
    "\\end{bmatrix}\n",
    "$$\n",
    "\n",
    "</font>\n",
    "\n",
    "<BR>\n",
    "\n",
    "A gate similar to the Z gate.  It leaves a qubit's |0$\\rangle$ amplitude unchanged, while multiplying by a phase $e^{i\\phi}$ to a qubit's |1$\\rangle$ amplitude.  In Qiskit, this gate goes by the name '$U_1$'.  This gate will find many of the same uses as the Z gate, picking out certain states while leaving others unchanged.  However, the extra degree of phase is a powerful tool for creating certain interference effects.\n",
    "\n",
    "<BR><BR>"
   ]
  },
  {
   "cell_type": "code",
   "execution_count": 62,
   "metadata": {},
   "outputs": [
    {
     "name": "stdout",
     "output_type": "stream",
     "text": [
      "  __ Initial __ \n",
      "0.70711  |0>   0.70711  |1>   \n",
      "\n",
      "  __ Final __ \n",
      "0.70711  |0>   0.5+0.5j |1>   \n"
     ]
    },
    {
     "data": {
      "text/html": [
       "<pre style=\"word-wrap: normal;white-space: pre;background: #fff0;line-height: 1.1;font-family: &quot;Courier New&quot;,Courier,monospace\">     ┌───┐┌─────────┐\n",
       "q_0: ┤ H ├┤ U1(π/4) ├\n",
       "     └───┘└─────────┘</pre>"
      ],
      "text/plain": [
       "     ┌───┐┌─────────┐\n",
       "q_0: ┤ H ├┤ U1(π/4) ├\n",
       "     └───┘└─────────┘"
      ]
     },
     "execution_count": 62,
     "metadata": {},
     "output_type": "execute_result"
    }
   ],
   "source": [
    "q = QuantumRegister(1,name='q')\n",
    "u1_qc = QuantumCircuit(q,name='qc')\n",
    "\n",
    "u1_qc.h( q[0] )\n",
    "print('  __ Initial __ ')\n",
    "print(oq.Wavefunction(u1_qc))\n",
    "\n",
    "u1_qc.u1( m.pi/4, q[0] )\n",
    "print('\\n  __ Final __ ')\n",
    "print(oq.Wavefunction(u1_qc))\n",
    "\n",
    "# circuit_drawer(u1_qc)\n",
    "u1_qc.draw(output=\"text\")"
   ]
  },
  {
   "cell_type": "markdown",
   "metadata": {},
   "source": [
    "---\n",
    "## ( <font color=\"red\">S</font> )\n",
    "\n",
    "\n",
    "<BR>\n",
    "<font color=\"blue\" size=4>\n",
    "    \n",
    "$$\n",
    "\\begin{bmatrix} \n",
    "1 & 0\\\\ \n",
    "0 & i\n",
    "\\end{bmatrix}\n",
    "$$\n",
    "\n",
    "</font>\n",
    "\n",
    "<BR>\n",
    "\n",
    "A pre-defined gate for R$_{\\phi}$, $\\phi$=$\\frac{\\pi}{2}$.  It leaves a qubit's |0$\\rangle$ amplitude unchanged, while multiplying by i (phase) to a qubit's |1$\\rangle$ amplitude.\n",
    "\n",
    "<BR><BR>"
   ]
  },
  {
   "cell_type": "code",
   "execution_count": 64,
   "metadata": {},
   "outputs": [
    {
     "name": "stdout",
     "output_type": "stream",
     "text": [
      "  __ Initial __ \n",
      "0.70711  |0>   0.70711  |1>   \n",
      "\n",
      "  __ Final __ \n",
      "0.70711  |0>   0.70711j |1>   \n"
     ]
    },
    {
     "data": {
      "text/html": [
       "<pre style=\"word-wrap: normal;white-space: pre;background: #fff0;line-height: 1.1;font-family: &quot;Courier New&quot;,Courier,monospace\">     ┌───┐┌───┐\n",
       "q_0: ┤ H ├┤ S ├\n",
       "     └───┘└───┘</pre>"
      ],
      "text/plain": [
       "     ┌───┐┌───┐\n",
       "q_0: ┤ H ├┤ S ├\n",
       "     └───┘└───┘"
      ]
     },
     "execution_count": 64,
     "metadata": {},
     "output_type": "execute_result"
    }
   ],
   "source": [
    "q = QuantumRegister(1,name='q')\n",
    "S_qc = QuantumCircuit(q,name='qc')\n",
    "\n",
    "S_qc.h( q[0] )\n",
    "print('  __ Initial __ ')\n",
    "print(oq.Wavefunction(S_qc))\n",
    "\n",
    "S_qc.s( q[0] )\n",
    "print('\\n  __ Final __ ')\n",
    "print(oq.Wavefunction(S_qc))\n",
    "\n",
    "# circuit_drawer(S_qc)\n",
    "S_qc.draw(output=\"text\")"
   ]
  },
  {
   "cell_type": "markdown",
   "metadata": {},
   "source": [
    "---\n",
    "## ( <font color=\"red\">T</font> )\n",
    "\n",
    "<BR>\n",
    "    \n",
    "A pre-defined gate for <font color=\"black\" size=4> R$_{\\phi}$,  $\\phi$=$\\frac{\\pi}{4}$ </font>\n",
    "\n",
    "\n",
    "<BR>\n",
    "<font color=\"blue\"  size=4>\n",
    "    \n",
    "    \n",
    "$$\n",
    "\\begin{bmatrix} \n",
    "1 & 0\\\\ \n",
    "0 & e^{i\\frac{\\pi}{4}}\n",
    "\\end{bmatrix}\n",
    "$$\n",
    "\n",
    "</font>\n",
    "<BR>\n",
    "\n",
    "\n",
    "A pre-defined gate for <font color=\"black\" size=4> R$_{\\phi}$, $\\phi$=$\\frac{\\pi}{2}$ </font>.  \n",
    "\n",
    "<BR>\n",
    "    \n",
    "It leaves a qubit's **|0$\\rangle$** amplitude unchanged, while multiplying by **i (phase)** to a qubit's **|1$\\rangle$** amplitude.\n",
    "\n",
    "<BR><BR>"
   ]
  },
  {
   "cell_type": "code",
   "execution_count": 66,
   "metadata": {},
   "outputs": [
    {
     "name": "stdout",
     "output_type": "stream",
     "text": [
      "  __ Initial __ \n",
      "0.70711  |0>   0.70711  |1>   \n",
      "\n",
      "  __ Final __ \n",
      "0.70711  |0>   0.5+0.5j |1>   \n"
     ]
    },
    {
     "data": {
      "text/html": [
       "<pre style=\"word-wrap: normal;white-space: pre;background: #fff0;line-height: 1.1;font-family: &quot;Courier New&quot;,Courier,monospace\">     ┌───┐┌───┐\n",
       "q_0: ┤ H ├┤ T ├\n",
       "     └───┘└───┘</pre>"
      ],
      "text/plain": [
       "     ┌───┐┌───┐\n",
       "q_0: ┤ H ├┤ T ├\n",
       "     └───┘└───┘"
      ]
     },
     "execution_count": 66,
     "metadata": {},
     "output_type": "execute_result"
    }
   ],
   "source": [
    "q = QuantumRegister(1,name='q')\n",
    "T_qc = QuantumCircuit(q,name='qc')\n",
    "\n",
    "T_qc.h( q[0] )\n",
    "print('  __ Initial __ ')\n",
    "print(oq.Wavefunction(T_qc))\n",
    "\n",
    "T_qc.t( q[0] )\n",
    "print('\\n  __ Final __ ')\n",
    "print(oq.Wavefunction(T_qc))\n",
    "\n",
    "# circuit_drawer(T_qc)\n",
    "T_qc.draw(output=\"text\")"
   ]
  },
  {
   "cell_type": "markdown",
   "metadata": {},
   "source": [
    "# Rotation Gates\n",
    "-------\n",
    "\n",
    "The follow gates all represent rotations of a state on a Bloch Sphere.  A Bloch sphere is a visual representation that maps the state of a qubit to a location on the surface of a sphere, radius = 1.  An image of a Bloch sphere and it's axes is given below:\n",
    "\n",
    "<BR><BR>\n",
    "\n",
    "![title](QA_Images/Les3_Bloch.png)\n",
    "\n",
    "<BR>\n",
    "\n",
    "Note that the opposite ends of the **x** and **y** axis are: \n",
    "\n",
    "\n",
    "<BR>\n",
    "<font color=\"blue\" size=4>\n",
    "    \n",
    "-x = $\\frac{1}{\\sqrt{2}} \\big{(}$ |$\\hspace{.06cm} 0\\rangle$ - |$\\hspace{.06cm} 1\\rangle$ $\\big{)}$ $\\hspace{.3cm}$\n",
    "-y = $\\frac{1}{\\sqrt{2}} \\big{(}$ |$\\hspace{.06cm} 0\\rangle$ - $i\\hspace{.05cm}$|$\\hspace{.06cm} 1 \\rangle$ $\\big{)}$\n",
    "\n",
    "</font>\n",
    "<BR>\n",
    "\n",
    "Thus, opposite axes on a Bloch Sphere represent orthogonal states.\n",
    "\n",
    "\n",
    "## R<font color=\"blue\">$_x$</font>(<font color=\"red\">$\\theta$</font>) \n",
    "\n",
    "\n",
    "<BR>\n",
    "<font color=\"blue\" size=4>\n",
    "    \n",
    "    \n",
    "$$\n",
    "\\begin{bmatrix} \n",
    "cos(\\frac{\\theta}{2}) & -i \\cdot sin(\\frac{\\theta}{2})\\\\ \n",
    "-i \\cdot sin(\\frac{\\theta}{2}) & cos(\\frac{\\theta}{2})\n",
    "\\end{bmatrix}\n",
    "$$\n",
    "\n",
    "\n",
    "</font>\n",
    "<BR>\n",
    "    \n",
    "A rotation gate where the initial and final states can be represented as $\\theta$ rotation around the x-axis on a Bloch Sphere.\n",
    "\n",
    "<BR><BR>"
   ]
  },
  {
   "cell_type": "code",
   "execution_count": 67,
   "metadata": {},
   "outputs": [
    {
     "name": "stdout",
     "output_type": "stream",
     "text": [
      "  __ Initial __ \n",
      "1.0  |0>   \n",
      "\n",
      "  __ Final __ \n",
      "0.70711  |0>   -0.70711j |1>   \n"
     ]
    },
    {
     "data": {
      "text/html": [
       "<pre style=\"word-wrap: normal;white-space: pre;background: #fff0;line-height: 1.1;font-family: &quot;Courier New&quot;,Courier,monospace\">     ┌───┐┌─────────┐\n",
       "q_0: ┤ I ├┤ Rx(π/2) ├\n",
       "     └───┘└─────────┘</pre>"
      ],
      "text/plain": [
       "     ┌───┐┌─────────┐\n",
       "q_0: ┤ I ├┤ Rx(π/2) ├\n",
       "     └───┘└─────────┘"
      ]
     },
     "execution_count": 67,
     "metadata": {},
     "output_type": "execute_result"
    }
   ],
   "source": [
    "q = QuantumRegister(1,name='q')\n",
    "Rx_qc = QuantumCircuit(q,name='qc')\n",
    "\n",
    "Rx_qc.id( q[0] )\n",
    "print('  __ Initial __ ')\n",
    "print(oq.Wavefunction(Rx_qc))\n",
    "\n",
    "Rx_qc.rx( m.pi/2, q[0] )\n",
    "print('\\n  __ Final __ ')\n",
    "print(oq.Wavefunction(Rx_qc))\n",
    "\n",
    "# circuit_drawer(Rx_qc)\n",
    "Rx_qc.draw(output=\"text\")"
   ]
  },
  {
   "cell_type": "markdown",
   "metadata": {},
   "source": [
    "---\n",
    "## R<font color=\"blue\">$_y$</font>(<font color=\"red\">$\\theta$</font>) \n",
    "\n",
    "\n",
    "<BR>\n",
    "<font color=\"blue\" size=4>\n",
    "    \n",
    "    \n",
    "$$\n",
    "\\begin{bmatrix} \n",
    "cos(\\frac{\\theta}{2}) & -sin(\\frac{\\theta}{2})\\\\ \n",
    "sin(\\frac{\\theta}{2}) & cos(\\frac{\\theta}{2})\n",
    "\\end{bmatrix}\n",
    "$$\n",
    "\n",
    "\n",
    "</font>\n",
    "\n",
    "<BR>\n",
    "    \n",
    "    \n",
    "A rotation gate where the initial and final states can be represented as $\\theta$ rotation around the y-axis on a Bloch Sphere.\n",
    "\n",
    "<BR><BR>"
   ]
  },
  {
   "cell_type": "code",
   "execution_count": 68,
   "metadata": {},
   "outputs": [
    {
     "name": "stdout",
     "output_type": "stream",
     "text": [
      "  __ Initial __ \n",
      "1.0  |0>   \n",
      "\n",
      "  __ Final __ \n",
      "0.70711  |0>   0.70711  |1>   \n"
     ]
    },
    {
     "data": {
      "text/html": [
       "<pre style=\"word-wrap: normal;white-space: pre;background: #fff0;line-height: 1.1;font-family: &quot;Courier New&quot;,Courier,monospace\">     ┌───┐┌─────────┐\n",
       "q_0: ┤ I ├┤ Ry(π/2) ├\n",
       "     └───┘└─────────┘</pre>"
      ],
      "text/plain": [
       "     ┌───┐┌─────────┐\n",
       "q_0: ┤ I ├┤ Ry(π/2) ├\n",
       "     └───┘└─────────┘"
      ]
     },
     "execution_count": 68,
     "metadata": {},
     "output_type": "execute_result"
    }
   ],
   "source": [
    "q = QuantumRegister(1,name='q')\n",
    "Ry_qc = QuantumCircuit(q,name='qc')\n",
    "\n",
    "Ry_qc.id( q[0] )\n",
    "print('  __ Initial __ ')\n",
    "print(oq.Wavefunction(Ry_qc))\n",
    "\n",
    "Ry_qc.ry( m.pi/2, q[0] )\n",
    "print('\\n  __ Final __ ')\n",
    "print(oq.Wavefunction(Ry_qc))\n",
    "\n",
    "# circuit_drawer(Ry_qc)\n",
    "Ry_qc.draw(output=\"text\")"
   ]
  },
  {
   "cell_type": "markdown",
   "metadata": {},
   "source": [
    "---\n",
    "## R<font color=\"blue\">$_z$</font>(<font color=\"red\">$\\theta$</font>) \n",
    "\n",
    "\n",
    "<BR>\n",
    "<font color=\"blue\"  size=4>\n",
    "    \n",
    "    \n",
    "$$\n",
    "\\begin{bmatrix} \n",
    "e^{\\frac{-i\\theta}{2}} & 0\\\\ \n",
    "0 & e^{\\frac{i\\theta}{2}}\n",
    "\\end{bmatrix}\n",
    "$$\n",
    "\n",
    "</font>\n",
    "<BR>\n",
    "\n",
    "\n",
    "A rotation gate where the initial and final states can be represented as $\\theta$ rotation around the z-axis on a Bloch Sphere.\n",
    "\n",
    "<BR><BR>"
   ]
  },
  {
   "cell_type": "code",
   "execution_count": 69,
   "metadata": {},
   "outputs": [
    {
     "name": "stdout",
     "output_type": "stream",
     "text": [
      "  __ Initial __ \n",
      "0.70711  |0>   0.70711  |1>   \n",
      "\n",
      "  __ Final __ \n",
      "0.5-0.5j |0>   0.5+0.5j |1>   \n"
     ]
    },
    {
     "data": {
      "text/html": [
       "<pre style=\"word-wrap: normal;white-space: pre;background: #fff0;line-height: 1.1;font-family: &quot;Courier New&quot;,Courier,monospace\">     ┌───┐┌─────────┐\n",
       "q_0: ┤ H ├┤ Rz(π/2) ├\n",
       "     └───┘└─────────┘</pre>"
      ],
      "text/plain": [
       "     ┌───┐┌─────────┐\n",
       "q_0: ┤ H ├┤ Rz(π/2) ├\n",
       "     └───┘└─────────┘"
      ]
     },
     "execution_count": 69,
     "metadata": {},
     "output_type": "execute_result"
    }
   ],
   "source": [
    "q = QuantumRegister(1,name='q')\n",
    "Rz_qc = QuantumCircuit(q,name='qc')\n",
    "\n",
    "Rz_qc.h( q[0] )\n",
    "print('  __ Initial __ ')\n",
    "print(oq.Wavefunction(Rz_qc))\n",
    "\n",
    "Rz_qc.rz( m.pi/2, q[0] )\n",
    "print('\\n  __ Final __ ')\n",
    "print(oq.Wavefunction(Rz_qc))\n",
    "\n",
    "# circuit_drawer(Rz_qc)\n",
    "Rz_qc.draw(output=\"text\")"
   ]
  },
  {
   "cell_type": "markdown",
   "metadata": {},
   "source": [
    "# Two Qubit Control Gates\n",
    "---------\n",
    "\n",
    "All of the following gates act on 2 qubits.  In particular, each gate uses a 'target qubit' and a 'control qubit'.  The role of the control qubit is to determine whether or not a particular operation is applied to the target qubit.  If the control qubit is in the state |$1\\rangle$, then the operation is carried out on the target qubit.  Conversely, if the control qubit is in the state |$0\\rangle$, then the target qubit remains unchanged.\n",
    "\n",
    "## CNOT\n",
    "\n",
    "The effect of the CNOT gate can be described as follows:\n",
    "\n",
    "<BR>\n",
    "<font color=\"blue\"  size=4>\n",
    "    \n",
    "$$\\textbf{CNOT} \\hspace{.2cm} |\\hspace{.05cm}00\\rangle \\hspace{.25cm} \\rightarrow \\hspace{.25cm} |\\hspace{.05cm}00\\rangle $$\n",
    "$$\\textbf{CNOT} \\hspace{.2cm} |\\hspace{.05cm}01\\rangle \\hspace{.25cm} \\rightarrow \\hspace{.25cm} |\\hspace{.05cm}01\\rangle $$\n",
    "$$\\textbf{CNOT} \\hspace{.2cm} |\\hspace{.05cm}10\\rangle \\hspace{.25cm} \\rightarrow \\hspace{.25cm} |\\hspace{.05cm}11\\rangle $$\n",
    "$$\\textbf{CNOT} \\hspace{.2cm} |\\hspace{.05cm}11\\rangle \\hspace{.25cm} \\rightarrow \\hspace{.25cm} |\\hspace{.05cm}10\\rangle $$\n",
    "\n",
    "<BR><BR>\n",
    "\n",
    "\n",
    "$$\n",
    "\\begin{bmatrix} \n",
    "1 & 0 & 0 & 0\\\\ \n",
    "0 & 1 & 0 & 0\\\\ \n",
    "0 & 0 & 0 & 1\\\\ \n",
    "0 & 0 & 1 & 0\\\\ \n",
    "\\end{bmatrix}\n",
    "$$\n",
    "\n",
    "</font>\n",
    "<BR>\n",
    "\n",
    "In this notation, the first qubit is the control and the second qubit is the target.  Another way to think of this gate is as a 'control-X' gate, where the state of the control qubit determines whether or not an X gate is applied to the target qubit.  In Qiskit, this gate goes by the name 'CX'.\n",
    "\n",
    "The CNOT gate is perhaps one of the most important tools in our quantum computing arsenal.  Since we cannot have a purely 'NOT', the CNOT gate is our closest match.  In combination with other gates, it will allow us to construct all manners of multi-qubit operations.\n",
    "\n",
    "<BR><BR>"
   ]
  },
  {
   "cell_type": "code",
   "execution_count": 70,
   "metadata": {
    "scrolled": true
   },
   "outputs": [
    {
     "name": "stdout",
     "output_type": "stream",
     "text": [
      "  __ Initial __ \n",
      "0.70711  |00>   0.70711  |10>   \n",
      "\n",
      "  __ Final __ \n",
      "0.70711  |00>   0.70711  |11>   \n"
     ]
    },
    {
     "data": {
      "text/html": [
       "<pre style=\"word-wrap: normal;white-space: pre;background: #fff0;line-height: 1.1;font-family: &quot;Courier New&quot;,Courier,monospace\">     ┌───┐     \n",
       "q_0: ┤ H ├──■──\n",
       "     ├───┤┌─┴─┐\n",
       "q_1: ┤ I ├┤ X ├\n",
       "     └───┘└───┘</pre>"
      ],
      "text/plain": [
       "     ┌───┐     \n",
       "q_0: ┤ H ├──■──\n",
       "     ├───┤┌─┴─┐\n",
       "q_1: ┤ I ├┤ X ├\n",
       "     └───┘└───┘"
      ]
     },
     "execution_count": 70,
     "metadata": {},
     "output_type": "execute_result"
    }
   ],
   "source": [
    "q = QuantumRegister(2,name='q')\n",
    "Cx_qc = QuantumCircuit(q,name='qc')\n",
    "\n",
    "Cx_qc.h( q[0] )\n",
    "Cx_qc.id( q[1] )\n",
    "print('  __ Initial __ ')\n",
    "print(oq.Wavefunction(Cx_qc))\n",
    "\n",
    "Cx_qc.cx( q[0], q[1] )\n",
    "print('\\n  __ Final __ ')\n",
    "print(oq.Wavefunction(Cx_qc))\n",
    "\n",
    "# circuit_drawer(Cx_qc)\n",
    "Cx_qc.draw(output=\"text\")"
   ]
  },
  {
   "cell_type": "code",
   "execution_count": 71,
   "metadata": {},
   "outputs": [
    {
     "name": "stdout",
     "output_type": "stream",
     "text": [
      "  __ Initial __ \n",
      "0.70711  |10>   -0.70711  |01>   \n",
      "\n",
      "  __ Final __ \n",
      "0.70711  |10>   -0.70711  |01>   \n"
     ]
    },
    {
     "data": {
      "text/html": [
       "<pre style=\"word-wrap: normal;white-space: pre;background: #fff0;line-height: 1.1;font-family: &quot;Courier New&quot;,Courier,monospace\">     ┌───┐     ┌───┐\n",
       "q_0: ┤ H ├──■──┤ X ├\n",
       "     └───┘┌─┴─┐├───┤\n",
       "q_1: ─────┤ X ├┤ Z ├\n",
       "          └───┘└───┘</pre>"
      ],
      "text/plain": [
       "     ┌───┐     ┌───┐\n",
       "q_0: ┤ H ├──■──┤ X ├\n",
       "     └───┘┌─┴─┐├───┤\n",
       "q_1: ─────┤ X ├┤ Z ├\n",
       "          └───┘└───┘"
      ]
     },
     "execution_count": 71,
     "metadata": {},
     "output_type": "execute_result"
    }
   ],
   "source": [
    "q = QuantumRegister(2,name='q')\n",
    "Cx_qc = QuantumCircuit(q,name='qc')\n",
    "\n",
    "Cx_qc.h( q[0] )\n",
    "Cx_qc.cx( q[0], q[1] )\n",
    "Cx_qc.x( q[0] )\n",
    "Cx_qc.z( q[1] )\n",
    "print('  __ Initial __ ')\n",
    "print(oq.Wavefunction(Cx_qc))\n",
    "\n",
    "print('\\n  __ Final __ ')\n",
    "print(oq.Wavefunction(Cx_qc))\n",
    "\n",
    "# circuit_drawer(Cx_qc)\n",
    "Cx_qc.draw(output=\"text\")"
   ]
  },
  {
   "cell_type": "markdown",
   "metadata": {},
   "source": [
    "---\n",
    "## CZ (Control-Z)\n",
    "\n",
    "<BR>\n",
    "    \n",
    "The control-Z gate works similarly to the CNOT gate, only instead of flipping the target qubit (applying an X gate), we apply a Z gate:\n",
    "\n",
    "<BR><BR>\n",
    "<font color=\"blue\"  size=4>\n",
    "    \n",
    "$$\\textbf{CZ} \\hspace{.2cm} |\\hspace{.05cm}00\\rangle \\hspace{.45cm} \\rightarrow \\hspace{.45cm} |\\hspace{.05cm}00\\rangle $$\n",
    "$$\\textbf{CZ} \\hspace{.2cm} |\\hspace{.05cm}01\\rangle \\hspace{.45cm} \\rightarrow \\hspace{.45cm} |\\hspace{.05cm}01\\rangle $$\n",
    "$$\\textbf{CZ} \\hspace{.2cm} |\\hspace{.05cm}10\\rangle \\hspace{.45cm} \\rightarrow \\hspace{.45cm} |\\hspace{.05cm}10\\rangle $$\n",
    "$$\\textbf{CZ} \\hspace{.2cm} |\\hspace{.05cm}11\\rangle \\hspace{.45cm} \\rightarrow \\hspace{.15cm} -|\\hspace{.05cm}11\\rangle $$\n",
    "\n",
    "<BR><BR>\n",
    "\n",
    "\n",
    "$$\n",
    "\\begin{bmatrix} \n",
    "1 & 0 & 0 & 0\\\\ \n",
    "0 & 1 & 0 & 0\\\\ \n",
    "0 & 0 & 1 & 0\\\\ \n",
    "0 & 0 & 0 & -1\\\\ \n",
    "\\end{bmatrix}\n",
    "$$\n",
    "\n",
    "\n",
    "</font>\n",
    "\n",
    "<BR>\n",
    "\n",
    "Recall that a Z gates leaves a qubit in the state |$0\\rangle$ untouched, while flipping the sign on a qubit in the state |$1\\rangle$.  Thus, the CZ gate performs a similar operation, only affecting the state |$11\\rangle$, as shown above.\n",
    "\n",
    "<BR><BR>"
   ]
  },
  {
   "cell_type": "code",
   "execution_count": 73,
   "metadata": {},
   "outputs": [
    {
     "name": "stdout",
     "output_type": "stream",
     "text": [
      "  __ Initial __ \n",
      "0.70711  |01>   0.70711  |11>   \n",
      "\n",
      "  __ Final __ \n",
      "0.70711  |01>   -0.70711  |11>   \n"
     ]
    },
    {
     "data": {
      "text/html": [
       "<pre style=\"word-wrap: normal;white-space: pre;background: #fff0;line-height: 1.1;font-family: &quot;Courier New&quot;,Courier,monospace\">     ┌───┐   \n",
       "q_0: ┤ H ├─■─\n",
       "     ├───┤ │ \n",
       "q_1: ┤ X ├─■─\n",
       "     └───┘   </pre>"
      ],
      "text/plain": [
       "     ┌───┐   \n",
       "q_0: ┤ H ├─■─\n",
       "     ├───┤ │ \n",
       "q_1: ┤ X ├─■─\n",
       "     └───┘   "
      ]
     },
     "execution_count": 73,
     "metadata": {},
     "output_type": "execute_result"
    }
   ],
   "source": [
    "q = QuantumRegister(2,name='q')\n",
    "Cz_qc = QuantumCircuit(q,name='qc')\n",
    "\n",
    "Cz_qc.h( q[0] )\n",
    "Cz_qc.x( q[1] )\n",
    "print('  __ Initial __ ')\n",
    "print(oq.Wavefunction(Cz_qc))\n",
    "\n",
    "Cz_qc.cz( q[0], q[1] )\n",
    "print('\\n  __ Final __ ')\n",
    "print(oq.Wavefunction(Cz_qc))\n",
    "\n",
    "# circuit_drawer(Cz_qc)\n",
    "Cz_qc.draw(output=\"text\")"
   ]
  },
  {
   "cell_type": "markdown",
   "metadata": {},
   "source": [
    "---\n",
    "## Control Phase Gate\n",
    "\n",
    "<BR>\n",
    "    \n",
    "The control-phase gate, also referred to as a CPHASE gate, uses a control qubit to apply a $R_{\\phi}$ gate to a target qubit.  The net effect is similar to that of the control-Z gate, only differing by the phase that gets multiplied to the state **|$11\\rangle$**:\n",
    "\n",
    "\n",
    "<BR><BR>\n",
    "<font color=\"blue\"  size=4>\n",
    "    \n",
    "    \n",
    "$$\n",
    "\\begin{bmatrix} \n",
    "1 & 0 & 0 & 0\\\\ \n",
    "0 & 1 & 0 & 0\\\\ \n",
    "0 & 0 & 1 & 0\\\\ \n",
    "0 & 0 & 0 & e^{i\\phi}\\\\ \n",
    "\\end{bmatrix}\n",
    "$$\n",
    "\n",
    "</font>\n",
    "<BR>\n",
    "\n",
    "In qiskit, this gate goes by the name $CU_1$:\n",
    "\n",
    "<BR><BR>"
   ]
  },
  {
   "cell_type": "code",
   "execution_count": 76,
   "metadata": {},
   "outputs": [
    {
     "name": "stdout",
     "output_type": "stream",
     "text": [
      "  __ Initial __ \n",
      "0.70711  |10>   0.70711  |11>   \n",
      "\n",
      "  __ Final __ \n",
      "0.70711  |10>   0.70711j |11>   \n"
     ]
    },
    {
     "name": "stderr",
     "output_type": "stream",
     "text": [
      "Z:\\anaconda3\\lib\\site-packages\\ipykernel_launcher.py:10: DeprecationWarning: The QuantumCircuit.cu1 method is deprecated as of 0.16.0. It will be removed no earlier than 3 months after the release date. You should use the QuantumCircuit.cp method instead, which acts identically.\n",
      "  # Remove the CWD from sys.path while we load stuff.\n"
     ]
    },
    {
     "data": {
      "text/html": [
       "<pre style=\"word-wrap: normal;white-space: pre;background: #fff0;line-height: 1.1;font-family: &quot;Courier New&quot;,Courier,monospace\">     ┌───┐               \n",
       "q_0: ┤ X ├──────■────────\n",
       "     ├───┤┌───┐ │U1(π/2) \n",
       "q_1: ┤ H ├┤ I ├─■────────\n",
       "     └───┘└───┘          </pre>"
      ],
      "text/plain": [
       "     ┌───┐               \n",
       "q_0: ┤ X ├──────■────────\n",
       "     ├───┤┌───┐ │U1(π/2) \n",
       "q_1: ┤ H ├┤ I ├─■────────\n",
       "     └───┘└───┘          "
      ]
     },
     "execution_count": 76,
     "metadata": {},
     "output_type": "execute_result"
    }
   ],
   "source": [
    "q = QuantumRegister(2,name='q')\n",
    "cu1_qc = QuantumCircuit(q,name='qc')\n",
    "\n",
    "cu1_qc.x( q[0] )\n",
    "cu1_qc.h( q[1] )\n",
    "cu1_qc.id( q[1] )\n",
    "print('  __ Initial __ ')\n",
    "print(oq.Wavefunction(cu1_qc))\n",
    "\n",
    "cu1_qc.cu1( m.pi/2, q[0], q[1] )\n",
    "print('\\n  __ Final __ ')\n",
    "print(oq.Wavefunction(cu1_qc))\n",
    "\n",
    "# circuit_drawer(cu1_qc)\n",
    "cu1_qc.draw(output=\"text\")"
   ]
  },
  {
   "cell_type": "markdown",
   "metadata": {},
   "source": [
    "---\n",
    "## SWAP\n",
    "\n",
    "The SWAP gate causes two qubits to trade states.\n",
    "\n",
    "<BR><BR>\n",
    "<font color=\"blue\"  size=4>\n",
    "    \n",
    "    \n",
    "$$\\textbf{SWAP} \\hspace{.2cm} |\\hspace{.05cm}00\\rangle \\hspace{.25cm} \\rightarrow \\hspace{.25cm} |\\hspace{.05cm}00\\rangle $$\n",
    "$$\\textbf{SWAP} \\hspace{.2cm} |\\hspace{.05cm}01\\rangle \\hspace{.25cm} \\rightarrow \\hspace{.25cm} |\\hspace{.05cm}10\\rangle $$\n",
    "$$\\textbf{SWAP} \\hspace{.2cm} |\\hspace{.05cm}10\\rangle \\hspace{.25cm} \\rightarrow \\hspace{.25cm} |\\hspace{.05cm}01\\rangle $$\n",
    "$$\\textbf{SWAP} \\hspace{.2cm} |\\hspace{.05cm}11\\rangle \\hspace{.25cm} \\rightarrow \\hspace{.25cm} |\\hspace{.05cm}11\\rangle $$\n",
    "\n",
    "<BR><BR>\n",
    "\n",
    "$$\n",
    "\\begin{bmatrix} \n",
    "1 & 0 & 0 & 0\\\\ \n",
    "0 & 0 & 1 & 0\\\\ \n",
    "0 & 1 & 0 & 0\\\\ \n",
    "0 & 0 & 0 & 1\\\\ \n",
    "\\end{bmatrix}\n",
    "$$\n",
    "\n",
    "</font>\n",
    "<BR>\n",
    "\n",
    "A simple way of viewing the effect of this gate is that all of the $0$'s and $1$'s in each state switch places.  As a result, we can see that the SWAP gate has no effect on the states |$00\\rangle$ and |$11\\rangle$.\n",
    "\n",
    "<BR><BR>"
   ]
  },
  {
   "cell_type": "code",
   "execution_count": 78,
   "metadata": {},
   "outputs": [
    {
     "name": "stdout",
     "output_type": "stream",
     "text": [
      "  __ Initial __ \n",
      "0.70711  |10>   0.70711  |11>   \n",
      "\n",
      "  __ Final __ \n",
      "0.70711  |01>   0.70711  |11>   \n"
     ]
    },
    {
     "data": {
      "text/html": [
       "<pre style=\"word-wrap: normal;white-space: pre;background: #fff0;line-height: 1.1;font-family: &quot;Courier New&quot;,Courier,monospace\">     ┌───┐        \n",
       "q_0: ┤ X ├──────X─\n",
       "     ├───┤┌───┐ │ \n",
       "q_1: ┤ H ├┤ I ├─X─\n",
       "     └───┘└───┘   </pre>"
      ],
      "text/plain": [
       "     ┌───┐        \n",
       "q_0: ┤ X ├──────X─\n",
       "     ├───┤┌───┐ │ \n",
       "q_1: ┤ H ├┤ I ├─X─\n",
       "     └───┘└───┘   "
      ]
     },
     "execution_count": 78,
     "metadata": {},
     "output_type": "execute_result"
    }
   ],
   "source": [
    "q = QuantumRegister(2,name='q')\n",
    "swap_qc = QuantumCircuit(q,name='qc')\n",
    "\n",
    "swap_qc.x( q[0] )\n",
    "swap_qc.h( q[1] )\n",
    "swap_qc.id( q[1] )\n",
    "print('  __ Initial __ ')\n",
    "print(oq.Wavefunction(swap_qc))\n",
    "\n",
    "swap_qc.swap( q[0], q[1] )\n",
    "print('\\n  __ Final __ ')\n",
    "print(oq.Wavefunction(swap_qc))\n",
    "\n",
    "# circuit_drawer(swap_qc)\n",
    "swap_qc.draw(output=\"text\")"
   ]
  },
  {
   "cell_type": "markdown",
   "metadata": {},
   "source": [
    "# 3 Qubit Control Gates\n",
    "----\n",
    "\n",
    "The following two gates take 3 qubits as inputs.  They are essentially higher order versions of the CNOT and SWAP gates, adding one extra control qubit to each.\n",
    "\n",
    "<BR>\n",
    "    \n",
    "## CSWAP\n",
    "\n",
    "The control-swap gate uses a control qubit to determine whether or not to apply a SWAP gate to two target qubits.  If the control qubit is in the state |$1\\rangle$, then a SWAP gate is performed.  Examples:\n",
    "\n",
    "<BR><BR>\n",
    "<font color=\"blue\"  size=4>\n",
    "    \n",
    "$$\\textbf{CSWAP} \\hspace{.2cm} |\\hspace{.05cm}010\\rangle \\hspace{.25cm} \\rightarrow \\hspace{.25cm} |\\hspace{.05cm}010\\rangle $$\n",
    "$$\\textbf{CSWAP} \\hspace{.2cm} |\\hspace{.05cm}101\\rangle \\hspace{.25cm} \\rightarrow \\hspace{.25cm} |\\hspace{.05cm}110\\rangle $$\n",
    "$$\\textbf{CSWAP} \\hspace{.2cm} |\\hspace{.05cm}110\\rangle \\hspace{.25cm} \\rightarrow \\hspace{.25cm} |\\hspace{.05cm}101\\rangle $$\n",
    "$$\\textbf{CSWAP} \\hspace{.2cm} |\\hspace{.05cm}111\\rangle \\hspace{.25cm} \\rightarrow \\hspace{.25cm} |\\hspace{.05cm}111\\rangle $$\n",
    "\n",
    "<BR><BR>\n",
    "    \n",
    "$$\n",
    "\\begin{bmatrix} \n",
    "1 & 0 & 0 & 0 & 0 & 0 & 0 & 0\\\\ \n",
    "0 & 1 & 0 & 0 & 0 & 0 & 0 & 0\\\\ \n",
    "0 & 0 & 1 & 0 & 0 & 0 & 0 & 0\\\\ \n",
    "0 & 0 & 0 & 1 & 0 & 0 & 0 & 0\\\\ \n",
    "0 & 0 & 0 & 0 & 1 & 0 & 0 & 0\\\\ \n",
    "0 & 0 & 0 & 0 & 0 & 0 & 1 & 0\\\\ \n",
    "0 & 0 & 0 & 0 & 0 & 1 & 0 & 0\\\\ \n",
    "0 & 0 & 0 & 0 & 0 & 0 & 0 & 1\\\\ \n",
    "\\end{bmatrix}\n",
    "$$\n",
    "\n",
    "\n",
    "</font>\n",
    "<BR>\n",
    "    \n",
    "This gate is also sometimes referred to as a Fredkin Gate.\n",
    "\n",
    "<BR><BR>"
   ]
  },
  {
   "cell_type": "code",
   "execution_count": 80,
   "metadata": {},
   "outputs": [
    {
     "name": "stdout",
     "output_type": "stream",
     "text": [
      "  __ Initial __ \n",
      "0.70711  |010>   0.70711  |110>   \n",
      "\n",
      "  __ Final __ \n",
      "0.70711  |010>   0.70711  |101>   \n"
     ]
    },
    {
     "data": {
      "text/html": [
       "<pre style=\"word-wrap: normal;white-space: pre;background: #fff0;line-height: 1.1;font-family: &quot;Courier New&quot;,Courier,monospace\">     ┌───┐   \n",
       "q_0: ┤ H ├─■─\n",
       "     ├───┤ │ \n",
       "q_1: ┤ X ├─X─\n",
       "     ├───┤ │ \n",
       "q_2: ┤ I ├─X─\n",
       "     └───┘   </pre>"
      ],
      "text/plain": [
       "     ┌───┐   \n",
       "q_0: ┤ H ├─■─\n",
       "     ├───┤ │ \n",
       "q_1: ┤ X ├─X─\n",
       "     ├───┤ │ \n",
       "q_2: ┤ I ├─X─\n",
       "     └───┘   "
      ]
     },
     "execution_count": 80,
     "metadata": {},
     "output_type": "execute_result"
    }
   ],
   "source": [
    "q = QuantumRegister(3,name='q')\n",
    "cswap_qc = QuantumCircuit(q,name='qc')\n",
    "\n",
    "cswap_qc.h( q[0] )\n",
    "cswap_qc.x( q[1] )\n",
    "cswap_qc.id( q[2] )\n",
    "print('  __ Initial __ ')\n",
    "print(oq.Wavefunction(cswap_qc))\n",
    "\n",
    "cswap_qc.cswap( q[0], q[1], q[2] )\n",
    "print('\\n  __ Final __ ')\n",
    "print(oq.Wavefunction(cswap_qc))\n",
    "\n",
    "# circuit_drawer(cswap_qc)\n",
    "cswap_qc.draw(output=\"text\")"
   ]
  },
  {
   "cell_type": "markdown",
   "metadata": {},
   "source": [
    "---\n",
    "## CCNOT\n",
    "\n",
    "<BR>\n",
    "The control-control not gate uses two control qubits to determine if an X gate is applied to a single target qubit.  \n",
    "    \n",
    "Examples:\n",
    "\n",
    "<BR>\n",
    "<font color=\"blue\" size=4>\n",
    "    \n",
    "$$\\textbf{CCNOT} \\hspace{.2cm} |010\\rangle \\hspace{.25cm} \\rightarrow \\hspace{.25cm} |010\\rangle $$\n",
    "$$\\textbf{CCNOT} \\hspace{.2cm} |101\\rangle \\hspace{.25cm} \\rightarrow \\hspace{.25cm} |101\\rangle $$\n",
    "$$\\textbf{CCNOT} \\hspace{.2cm} |110\\rangle \\hspace{.25cm} \\rightarrow \\hspace{.25cm} |111\\rangle $$\n",
    "$$\\textbf{CCNOT} \\hspace{.2cm} |111\\rangle \\hspace{.25cm} \\rightarrow \\hspace{.25cm} |110\\rangle $$\n",
    "\n",
    "<BR><BR>\n",
    "\n",
    "$$\n",
    "\\begin{bmatrix} \n",
    "1 & 0 & 0 & 0 & 0 & 0 & 0 & 0\\\\ \n",
    "0 & 1 & 0 & 0 & 0 & 0 & 0 & 0\\\\ \n",
    "0 & 0 & 1 & 0 & 0 & 0 & 0 & 0\\\\ \n",
    "0 & 0 & 0 & 1 & 0 & 0 & 0 & 0\\\\ \n",
    "0 & 0 & 0 & 0 & 1 & 0 & 0 & 0\\\\ \n",
    "0 & 0 & 0 & 0 & 0 & 1 & 0 & 0\\\\ \n",
    "0 & 0 & 0 & 0 & 0 & 0 & 0 & 1\\\\ \n",
    "0 & 0 & 0 & 0 & 0 & 0 & 1 & 0\\\\ \n",
    "\\end{bmatrix}\n",
    "$$\n",
    "\n",
    "\n",
    "</font>\n",
    "<BR>\n",
    "    \n",
    "    \n",
    "This gate is also sometimes referred to as a Toffoli Gate.  Much like the CNOT gate, the effect of this gate is equivalent to an X gate on the states |$110\\rangle$ and |$111\\rangle$.\n",
    "\n",
    "<BR><BR>"
   ]
  },
  {
   "cell_type": "code",
   "execution_count": 81,
   "metadata": {},
   "outputs": [
    {
     "name": "stdout",
     "output_type": "stream",
     "text": [
      "  __ Initial __ \n",
      "0.70711  |110>   -0.70711  |111>   \n",
      "\n",
      "  __ Final __ \n",
      "-0.70711  |110>   0.70711  |111>   \n"
     ]
    },
    {
     "data": {
      "text/html": [
       "<pre style=\"word-wrap: normal;white-space: pre;background: #fff0;line-height: 1.1;font-family: &quot;Courier New&quot;,Courier,monospace\">     ┌───┐          \n",
       "q_0: ┤ X ├───────■──\n",
       "     ├───┤       │  \n",
       "q_1: ┤ X ├───────■──\n",
       "     ├───┤┌───┐┌─┴─┐\n",
       "q_2: ┤ H ├┤ Z ├┤ X ├\n",
       "     └───┘└───┘└───┘</pre>"
      ],
      "text/plain": [
       "     ┌───┐          \n",
       "q_0: ┤ X ├───────■──\n",
       "     ├───┤       │  \n",
       "q_1: ┤ X ├───────■──\n",
       "     ├───┤┌───┐┌─┴─┐\n",
       "q_2: ┤ H ├┤ Z ├┤ X ├\n",
       "     └───┘└───┘└───┘"
      ]
     },
     "execution_count": 81,
     "metadata": {},
     "output_type": "execute_result"
    }
   ],
   "source": [
    "q = QuantumRegister(3,name='q')\n",
    "ccnot_qc = QuantumCircuit(q,name='qc')\n",
    "\n",
    "ccnot_qc.x( q[0] )\n",
    "ccnot_qc.x( q[1] )\n",
    "ccnot_qc.h( q[2] )\n",
    "ccnot_qc.z( q[2] )\n",
    "print('  __ Initial __ ')\n",
    "print(oq.Wavefunction(ccnot_qc))\n",
    "\n",
    "ccnot_qc.ccx( q[0], q[1], q[2] )\n",
    "print('\\n  __ Final __ ')\n",
    "print(oq.Wavefunction(ccnot_qc))\n",
    "\n",
    "# circuit_drawer(ccnot_qc)\n",
    "ccnot_qc.draw(output=\"text\")"
   ]
  },
  {
   "cell_type": "markdown",
   "metadata": {},
   "source": [
    "![the-end](img/the-end.png \"the-end\")"
   ]
  }
 ],
 "metadata": {
  "interpreter": {
   "hash": "6240c7ef8d95cd4751f61ac453ab3bc6faa04cc85665b1140d75c8161e8941f6"
  },
  "kernelspec": {
   "display_name": "Python 3.7.6 64-bit ('base': conda)",
   "name": "python3"
  },
  "language_info": {
   "codemirror_mode": {
    "name": "ipython",
    "version": 3
   },
   "file_extension": ".py",
   "mimetype": "text/x-python",
   "name": "python",
   "nbconvert_exporter": "python",
   "pygments_lexer": "ipython3",
   "version": "3.7.6"
  }
 },
 "nbformat": 4,
 "nbformat_minor": 2
}
