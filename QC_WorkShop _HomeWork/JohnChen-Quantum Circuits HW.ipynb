{
 "cells": [
  {
   "cell_type": "markdown",
   "metadata": {},
   "source": [
    "# Quantum Gates to Quantum Circuits\n",
    "\n",
    "- #### Hands-on Experiential Learning <font color=\"red\">for the Software Engineer</font>\n"
   ]
  },
  {
   "cell_type": "markdown",
   "metadata": {},
   "source": [
    "![quirk-simulator](img/quirk-simulator1.png \"quirk-simulator\")\n",
    "\n",
    "<font color=\"red\">**Notice**</font>: All materials herein were <font color=\"red\">**curated**</font> by **Matthew R. Versaggi (profversaggi@gmail.com)** and are released into the open source to foster growth and welfare of expanding the Quantum Computing domain - the only obligation one incurs when using, copying, distributing or referencing this is to kindly reference the author and send me an email so I know how useful the material is to you.\n",
    "\n",
    "<font color=\"red\">**Notice**</font>: Python Code contributions for the Circle Plots are the work of **David Radcliffe**."
   ]
  },
  {
   "cell_type": "markdown",
   "metadata": {},
   "source": [
    "## Pedagogical Approach: (<font color=\"red\">**Read this first !**</font>)\n",
    "\n",
    "This material is intended to educate **software engineers** in certain aspects of Quantum Computing, therefore its focus will be on conveying the conceptual ideas in a form digestible to them, and supporting it with exercises to reinforce those concepts. \n",
    "\n",
    "Because of that pedagogical approach, **this material won't lead with or heavily leverage the concepts and language indigenous to physics and math**, but only in those terms most easily digestible to the modern software engineer.\n",
    "\n",
    "This Jupyter Notebook is <font color=\"red\">**not intended as a stand alone educational vehicle**</font>  - it's meant to be accompanied by a decicated power point deck that contains the main concepts to be presented by an instructor -  **it is intended as a vehicle for a hands on workshop environment to facilitate learning through a guided experience.**\n",
    "\n",
    "> **Note:-** Because of the above educational approach:\n",
    "1. There is a certain amount of basic Quantum Computing knowledge that is assumed.\n",
    "2. An active internet connection is **always** assumed.\n",
    "3. Online references/links will be provided where appropriate\n",
    "4. References to books will be made where appropriate\n",
    "5. Much of this material is **dense and detailed**, the reader is <font color=\"red\">**cautioned**</font> to be careful and slow to digest the *nuances* of the material."
   ]
  },
  {
   "cell_type": "markdown",
   "metadata": {},
   "source": [
    "## What you will be exposed to - High level: \n",
    "\n",
    "\n",
    "- Software engineers in the Quantum Computing space need to know their way around Quantum Circuits - that means developing intuition and proficiencies around: the structure of a circuits, the quantum gates that comprise them, and the combination of these gates to create logicala operations that are of value to constructing quantum algorithms. \n",
    "- Given the above, there are a host of technical concepts that need to be **<font color=\"red\">understood experientially</font>** - we'll intentionally employ a vendor / framework agnostic approach to focus on the delivery of concept understanding and intuition procurement as the main value-add.\n",
    "\n",
    "> ### High Level Agenda (<font color=\"red\">*major sections*</font>): -  set of basic quantum circuit skills for the software engineer.\n",
    "1. <font color=\"blue\">*Developmental Detour - Digital : Gates, Circuits and Computer Architecture*</font>\n",
    ">> 0. The **NOT** GATE\n",
    ">> 0. The **AND** GATE\n",
    ">> 0. The **NAND** GATE\n",
    ">> 0. The **OR** GATE\n",
    ">> 0. The **NOR** GATE\n",
    ">> 0. The **XOR** GATE\n",
    ">> 0. The **HALF ADDER**\n",
    ">> 0. The **FULL ADDER**\n",
    ">> 0. The **FULL ADDER / SUBTRACTOR**\n",
    ">> 0. The **SIMPLE COMPUTER ARCHITECTURE**\n",
    "2. <font color=\"blue\">*Multi Qubit Gates*</font>\n",
    ">> 0. #### NOT, <font color=\"red\">C</font>NOT, <font color=\"red\">CC</font>NOT Gates\n",
    ">>> 0. <font color=\"red\">Exercise</font> : Using the QCEngine to explore NOT / CNOT Gates\n",
    ">>> 0. Exploration: Use the QUIRK Simulation to explore a CNOT Gate\n",
    ">>> 0. <font color=\"red\">Exercise</font> : Using the QUIRK Simulation to explore a CNOT Gate\n",
    ">>> 0. <font color=\"red\">Exercise</font> : Using the QUIRK Simulation to explore a C_CNOT Gate\n",
    ">>> 0. <font color=\"red\">Exercise</font> : Using the Qiskit to explore the NOT, CNOT and C_CNOT Gate(s)\n",
    ">> 0. #### Swap Gate\n",
    ">>> 0. <font color=\"red\">Exercise</font> : Using the QCEngine to explore different SWAP Gates\n",
    ">> 0. #### <font color=\"red\">C</font>Swap Gate\n",
    ">>> 0. <font color=\"red\">Exercise</font> : Using the QCEngine to explore the Fredkin SWAP Gate\n",
    ">>> 0. <font color=\"red\">Exercise</font> : Using the Qiskit to explore the SWAP and CSWAP Gate(s)\n",
    "3. <font color=\"blue\">*Mapping Boolean (Digital) Logic to Quantum Logic Operations*</font>\n",
    ">> 0. Observe: Basic Quantum Logic Operations can be built to be equivalents to their digital counterparts\n",
    ">> 0. <font color=\"red\">Exercise</font>: Cut-n-paste code into the QCEngine to explore the resultant QLogic gates\n",
    ">> 0. <font color=\"red\">Exercise</font> : Using the QUIRK to explore the QLogic gates\n",
    "4. <font color=\"blue\">*Building Basic Quantum Circuits : Incrementer / Decrementer*</font>\n",
    ">> 0. <font color=\"red\">Exercise</font> : Using the QCEngine to explore the basic quantum circuits\n",
    ">> 0. Incrementer / Decrementer\n",
    ">> 0. <font color=\"red\">Exercise</font> : Using the Qiskit to explore the basic quantum circuits\n",
    ">> 0. Incrementer / Decrementer\n",
    "\n"
   ]
  },
  {
   "cell_type": "markdown",
   "metadata": {},
   "source": [
    "## Background Videos: \n",
    "Quantum Computing Concepts - **Binary Logic**\n",
    "- https://www.youtube.com/watch?v=tqN6I-WCXTY&list=PL50XnIfJxPDWDyea8EbbLe8GHfXkWU7W_&index=2&t=0s\n",
    "\n",
    "Quantum Computing Concepts – **Quantum Logic**\n",
    "- https://www.youtube.com/watch?v=YTNug9tQOzU&list=PL50XnIfJxPDWDyea8EbbLe8GHfXkWU7W_&index=7&t=0s"
   ]
  },
  {
   "cell_type": "markdown",
   "metadata": {},
   "source": [
    "## Developmental Detour : -  <font color=\"blue\">Digital Gates, Circuits and Computer Architecture\n",
    "- There is a **progression** from **boolean logic**, to **logic gate construction**, to **simple and sophisticated circuit design** that is actually **algorithm design in a hardware vehicle** - (at the moment) this is *very much like algorithm design of quantum computing*, so it's **worth getting a brief exposure to**.\n",
    "- We'll be leveraging the Open Source site **CircuitVerse** for illustrative purposes.\n",
    "\n",
    "<BR>\n",
    "\n",
    "![circuitverse-banner](img/circuitverse-banner.png \"circuitverse-banner\")\n",
    "\n",
    "> ### **SITE**: https://circuitverse.org/\n",
    "> ### **Learn**: https://learn.circuitverse.org/\n",
    "> ### **Gates**: https://learn.circuitverse.org/docs/gates.html\n",
    "> ### **Circuits**: https://qiskit.org/textbook/ch-states/atoms-computation.html\n"
   ]
  },
  {
   "cell_type": "markdown",
   "metadata": {},
   "source": [
    "## <font color=\"blue\">The NOT GATE</font>\n",
    "- the reverse\n",
    "\n",
    "<img style=\"float: left;\" src=\"img/tt-not.png\">\n",
    "\n",
    "<BR><BR><BR><BR><BR><BR><BR><BR><BR>\n",
    "\n",
    "\n",
    "> ### <font color=\"red\">CircuitVerse Example</font>: (NOT GATE) \n",
    "- https://circuitverse.org/users/14470/projects/42866"
   ]
  },
  {
   "cell_type": "markdown",
   "metadata": {},
   "source": [
    "## <font color=\"blue\">The AND GATE</font>\n",
    "- both\n",
    "\n",
    "<img style=\"float: left;\" src=\"img/tt-and.png\">\n",
    "\n",
    "<BR><BR><BR><BR><BR><BR><BR><BR><BR><BR><BR>\n",
    "\n",
    "\n",
    "> ### <font color=\"red\">CircuitVerse Example</font>: (AND GATE) \n",
    "- https://circuitverse.org/users/16684/projects/49979"
   ]
  },
  {
   "cell_type": "markdown",
   "metadata": {},
   "source": [
    "## <font color=\"blue\">The NAND GATE</font>\n",
    "- not both\n",
    "\n",
    "<img style=\"float: left;\" src=\"img/tt-nand.png\">\n",
    "\n",
    "<BR><BR><BR><BR><BR><BR><BR><BR><BR><BR><BR>\n",
    "\n",
    "\n",
    "> ### <font color=\"red\">CircuitVerse Example</font>: (NAND GATE) \n",
    "- https://circuitverse.org/users/14470/projects/42861"
   ]
  },
  {
   "cell_type": "markdown",
   "metadata": {},
   "source": [
    "## <font color=\"blue\">The OR GATE</font>\n",
    "- one or the other\n",
    "\n",
    "<img style=\"float: left;\" src=\"img/tt-or.png\">\n",
    "\n",
    "<BR><BR><BR><BR><BR><BR><BR><BR><BR><BR><BR><BR>\n",
    "\n",
    "\n",
    "> ### <font color=\"red\">CircuitVerse Example</font>: (OR GATE) \n",
    "- https://circuitverse.org/users/14471/projects/42705"
   ]
  },
  {
   "cell_type": "markdown",
   "metadata": {},
   "source": [
    "## <font color=\"blue\">The NOR GATE</font>\n",
    "- not one or the other\n",
    "\n",
    "<img style=\"float: left;\" src=\"img/tt-nor.png\">\n",
    "\n",
    "<BR><BR><BR><BR><BR><BR><BR><BR><BR><BR><BR><BR>\n",
    "\n",
    "\n",
    "> ### <font color=\"red\">CircuitVerse Example</font>: (NOR GATE) \n",
    "- https://circuitverse.org/users/14470/projects/42857"
   ]
  },
  {
   "cell_type": "markdown",
   "metadata": {},
   "source": [
    "## <font color=\"blue\">The XOR GATE</font> \n",
    "- only one or the other\n",
    "\n",
    "<img style=\"float: left;\" src=\"img/tt-xor.png\">\n",
    "\n",
    "<BR><BR><BR><BR><BR><BR><BR><BR><BR><BR><BR><BR>\n",
    "\n",
    "\n",
    "> ### <font color=\"red\">CircuitVerse Example</font>: (XOR GATE) \n",
    "- https://circuitverse.org/users/14470/projects/42724"
   ]
  },
  {
   "cell_type": "markdown",
   "metadata": {},
   "source": [
    "## <font color=\"blue\">The HALF ADDER</font> \n",
    "\n",
    "<img style=\"float: left;\" src=\"img/circuitverse-halfadder.png\">\n",
    "\n",
    "<BR><BR><BR><BR><BR><BR><BR><BR><BR><BR>\n",
    "\n",
    "\n",
    "> ### <font color=\"red\">CircuitVerse Example</font>: (HALF ADDER) \n",
    "- https://circuitverse.org/users/12956/projects/37909"
   ]
  },
  {
   "cell_type": "markdown",
   "metadata": {},
   "source": [
    "## <font color=\"blue\">The FULL ADDER</font>\n",
    "\n",
    "<img style=\"float: left;\" src=\"img/circuitverse-full-adder.png\">\n",
    "\n",
    "<BR><BR><BR><BR><BR><BR><BR><BR><BR><BR>\n",
    "\n",
    "\n",
    "> ### <font color=\"red\">CircuitVerse Example</font>: (FULL ADDER) \n",
    "- https://circuitverse.org/users/2411/projects/5605"
   ]
  },
  {
   "cell_type": "markdown",
   "metadata": {},
   "source": [
    "## <font color=\"blue\">The FULL ADDER / SUBTRACTOR</font>\n",
    "\n",
    "### <font color=\"red\">NOTE</font>: *Pay attention to this as we'll be implementing this using Quantum Logic later!*\n",
    "\n",
    "\n",
    "<img style=\"float: left;\" src=\"img/circuitverse-full-adder-subtractor.png\">\n",
    "\n",
    "<BR><BR><BR><BR><BR><BR><BR><BR><BR><BR>\n",
    "\n",
    "\n",
    "> ### <font color=\"red\">CircuitVerse Example</font>: (FULL ADDER / SUBTRACTOR) \n",
    "- https://circuitverse.org/users/479/projects/2018"
   ]
  },
  {
   "cell_type": "markdown",
   "metadata": {},
   "source": [
    "## <font color=\"blue\">The SIMPLE COMPUTER ARCHITECTURE</font>\n",
    "\n",
    "<img style=\"float: left;\" src=\"img/circuitverse-simple-computer.png\">\n",
    "\n",
    "<BR><BR><BR><BR><BR><BR><BR><BR><BR><BR>\n",
    "<BR><BR><BR><BR><BR><BR><BR><BR><BR><BR>\n",
    "\n",
    "> ### <font color=\"red\">CircuitVerse Example</font>: (SIMPLE COMPUTER ARCHITECTURE) \n",
    "- https://circuitverse.org/users/3464/projects/16521"
   ]
  },
  {
   "cell_type": "markdown",
   "metadata": {},
   "source": [
    "# Deep Dive #1 : - <font color=\"blue\">Quantum</font> <font color=\"red\">Multi Qubit Gates</font>\n",
    "\n",
    "> Multi Qubits manipulation is done w/specialized Quantum Gates - to gain an understanding and intuition of them are critical to the quantum computing space. By multi-qubit operations we mean ones that require more than one qubit to operate.\n",
    "\n",
    "> The below information **supports the presenter led discussion** about the important concept of **Multiple Qubit Quantum Gates**. The pedagogical bent is toward catering to the software engineer archtype, so much of the work will focus on the conceptual side and developing an intuition to the various gate rotations.\n",
    "\n",
    "> **NOTE:** The details, nuances, and key concepts are left to that discussion.\n"
   ]
  },
  {
   "cell_type": "markdown",
   "metadata": {},
   "source": [
    "## The <font color=\"red\">C</font>NOT Gate, the Reverse <font color=\"red\">C</font>NOT Gate, and the <font color=\"red\">CC</font>NOT gate.\n",
    "\n",
    "- #### An **<font color=\"red\" size=\"5\">“if”</font>** programming construct, but only if a condition qubit has the value **<font color=\"red\" size=\"5\">1</font>**.\n",
    "- #### The essential operation of CNOT is the same as that of NOT, only more selective.\n",
    "- #### A <font color=\"red\">VERY</font> important element of <font color=\"blue\">quantum logic</font> moving forward.\n",
    "\n",
    "<BR>\n",
    "\n",
    "\n",
    "    \n",
    "    \n",
    "## <font color=\"red\" size=\"5\">C</font><font color=\"blue\">NOT Gate </font>   \n",
    "\n",
    "<img style=\"float: left;\" src=\"img/qgate-cnot1.png\">\n",
    "\n",
    "- The CNOT gate operates on two qubits and can be thought of as an **“if”** programming construct with the following condition: **“Apply the <font color=\"red\">NOT</font> operation to a target qubit, but <font color=\"red\">only if</font> a condition qubit has the value <font color=\"red\">1</font>.”** The circuit symbol used for CNOT shows this logic by connecting two qubits with a line. A **filled dot** represents the **control qubit**, while a **NOT symbol** shows the **target qubit** to be conditionally operated on.\n",
    "\n",
    "\n",
    "- **Reversibility**: Like the NOT operation, CNOT is its own inverse — applying the CNOT operation twice will return a multi-qubit register to its initial state.\n",
    "\n",
    "\n",
    "> ### <font color=\"red\" size=\"5\">The Fundamentals </font>:\n",
    "- **Binary Numbers** and the **Quantum Circuit** \n",
    "\n",
    "\n",
    "The <font color=\"blue\">arrows</font> in figure below show which operator pairs have their circles *swapped* in circle notation. We can see that the *essential operation* of **CNOT** is the **same** as that of **NOT**, only **more <font color=\"red\">selective</font>** — applying the NOT operation only to values whose **binary representations** (in this example) have a <font color=\"red\">1</font> in the <font color=\"blue\">second bit</font> - (0<font color=\"red\">1</font>0=<font color=\"red\">2</font>, 0<font color=\"red\">1</font>1=<font color=\"red\">3</font>, 1<font color=\"red\">1</font>0=<font color=\"red\">6</font>, and 1<font color=\"red\">1</font>1=<font color=\"red\">7</font>).\n",
    "\n",
    "\n",
    "<img style=\"float: left;\" src=\"img/binary-table-0-7_excel.png\">\n",
    "\n",
    "![cnot-ccnot-qcengine-circuit](img/cnot-ccnot-qcengine-circuit.png \"\")\n",
    "\n",
    "![cnot-vs-not-illustration](img/cnot-vs-not-illustration1.png \"\")\n",
    "\n",
    "\n",
    "<BR>\n",
    "    \n",
    "## <font color=\"blue\">Reverse</font> <font color=\"red\" size=\"5\">C</font><font color=\"blue\">NOT Gate </font>   \n",
    "<img style=\"float: left;\" src=\"img/qgate-reverse-cnot.png\">   \n",
    "    \n",
    "- The **Reverse CNOT gate** is strictly a reversal of the connectors and location of the **control** and **X** gate.    \n",
    "\n",
    "<BR><BR><BR><BR> <BR><BR><BR><BR> \n",
    "## <font color=\"red\">CC</font><font color=\"blue\">NOT Gate </font>      \n",
    "<img style=\"float: left;\" src=\"img/qgate-ccnot.png\">\n",
    "    \n",
    "    \n",
    "- The <font color=\"red\">C</font><font color=\"blue\">CNOT Gate </font> (quantum Toffoli or **CCX**) is a double control gate operating on three qubits. If the states of the first two qubits are **|1>** then it applies <font color=\"red\">X</font> to the third. Otherwise it is **ID** (*which does nothing*) on the third. In all cases it is **ID** for the first two qubits.\n",
    "\n",
    "\n"
   ]
  },
  {
   "cell_type": "markdown",
   "metadata": {},
   "source": [
    "### <font color=\"red\">Exercise</font> : Using the QCEngine to explore NOT, <font color=\"red\">C</font>NOT and <font color=\"red\">CC</font>NOT GateGates\n",
    "<BR>\n",
    "\n",
    "- **QCEngine:** https://oreilly-qc.github.io\n",
    "- **Docs:** https://oreilly-qc.github.io/docs/build/\n",
    "- **Book:** https://www.amazon.com/Programming-Quantum-Computers-Essential-Algorithms/dp/1492039683\n",
    "\n",
    "\n",
    "![C-Not](img/cnot.png \"C-Not\")\n",
    "\n",
    "> - Cut-N-Paste, then run the NOT, CNOT and CCNOT programs below in the QCEngine - inspect the result by clicking around in the Program Circuit pane to  observe the behavior of the circuit and outputs. These will be singleton versions of the gates.\n",
    "\n",
    "> - It's instructive to rerun the Cell containing the QCEngine IDE and observe how a 3 qubit circuit behaves using the same logic.\n",
    "- How does the combined gate behave relative to the singleton gates?\n"
   ]
  },
  {
   "cell_type": "raw",
   "metadata": {},
   "source": [
    "// The simple NOT gate\n",
    "\n",
    "qc.reset(1);                // Create a quantum circuit with ONE Qubit.\n",
    "var a = qint.new(1, 'a');   // Create Qubit 'a', assign it to variable 'a'.\n",
    "\n",
    "a.write(0);                 // Initialize by writing a Zero to Qubit A.\n",
    "a.not();                    // Execute the NOT Gate\n",
    "a.read();                   // Read the Qubit 'a'\n",
    "\n",
    "qc.nop();"
   ]
  },
  {
   "cell_type": "code",
   "execution_count": null,
   "metadata": {},
   "outputs": [],
   "source": [
    "// The stock CNOT gate\n",
    "\n",
    "qc.reset(2);               // Create a quantum circuit with TWO Qubits.\n",
    "var a = qint.new(1, 'a');  // Create Qubit 'a', assign it to variable 'a'.\n",
    "var b = qint.new(1, 'b');  // Create Qubit 'b', assign it to variable 'b'.\n",
    "\n",
    "\n",
    "// if (a) then b = ~b\n",
    "a.write(1);               // write a ONE to qubit 'a'\n",
    "b.write(0);               // write a ZERO to qubit 'b'\n",
    "b.cnot(a);                // Execute a C_NOT gate: Target qubit 'b', conditioned on qubit 'a'\n",
    "a.read();                 // Read the Qubit 'a'\n",
    "b.read();                 // Read the Qubit 'b'\n",
    "\n",
    "qc.nop();"
   ]
  },
  {
   "cell_type": "code",
   "execution_count": null,
   "metadata": {},
   "outputs": [],
   "source": [
    "// The stock CCNOT gate\n",
    "\n",
    "qc.reset(3);               // Create a quantum circuit with THREE Qubits.\n",
    "var a = qint.new(1, 'a');  // Create Qubit 'a', assign it to variable 'a'.\n",
    "var b = qint.new(1, 'b');  // Create Qubit 'b', assign it to variable 'b'.\n",
    "var c = qint.new(1, 'c');  // Create Qubit 'c', assign it to variable 'c'.\n",
    "\n",
    "// if (a and b) then c = ~c\n",
    "qc.write(0x1|0x2);          // Shorthand to write a ONE to the circuits qubits in position \"0x1\" and \"0x2\"\n",
    "qc.cnot(0x4, 0x1|0x2);      // Execute a CCNOT gate on position \"0x4\", conditioned on position \"0x1\" and \"0x2\"\n",
    "qc.read();                  // Read the entire Circuit\n",
    "\n",
    "qc.nop();"
   ]
  },
  {
   "cell_type": "code",
   "execution_count": 2,
   "metadata": {
    "scrolled": false
   },
   "outputs": [
    {
     "data": {
      "text/html": [
       "\n",
       "        <iframe\n",
       "            width=\"900\"\n",
       "            height=\"900\"\n",
       "            src=\"https://oreilly-qc.github.io?p=5-6\"\n",
       "            frameborder=\"0\"\n",
       "            allowfullscreen\n",
       "        ></iframe>\n",
       "        "
      ],
      "text/plain": [
       "<IPython.lib.display.IFrame at 0x107c35460>"
      ]
     },
     "execution_count": 2,
     "metadata": {},
     "output_type": "execute_result"
    }
   ],
   "source": [
    "from IPython.display import IFrame\n",
    "IFrame(src='https://oreilly-qc.github.io?p=5-6', width=900, height=900)"
   ]
  },
  {
   "cell_type": "markdown",
   "metadata": {},
   "source": [
    "### <font color=\"red\">Exploration</font>: Use the <font color=\"blue\">QUIRK</font> Simulation to explore a <font color=\"red\">C</font>NOT Gate."
   ]
  },
  {
   "cell_type": "markdown",
   "metadata": {},
   "source": [
    "### QUIRK Circuit : CNOT <font color=\"red\">OFF</font>\n",
    "\n",
    "> Notice the circuit is off, and the amplitude of Decimal Zero is at 100%. when the input to qubit #1 is zero.\n",
    "\n",
    "![quirk-cnot-circuit-off](img/quirk-cnot-circuit-off.png \"quirk-cnot-circuit-off\")"
   ]
  },
  {
   "cell_type": "markdown",
   "metadata": {},
   "source": [
    "### QUIRK Circuit : CNOT <font color=\"red\">ON</font>\n",
    "\n",
    "> Notice the circuit is on, and the amplitude of Decimal Three is at 100%. when the input to qubit #1 is One.\n",
    "\n",
    "![quirk-cnot-circuit-on](img/quirk-cnot-circuit-on.png \"quirk-cnot-circuit-on\")"
   ]
  },
  {
   "cell_type": "markdown",
   "metadata": {},
   "source": [
    "### <font color=\"red\">Exercise</font> : Using the QUIRK Simulation to explore a <font color=\"red\">C</font>NOT Gate\n",
    "\n",
    "> Change the input to Qubit #1 by clicking on it (you'll cycle through all of the different bases) and notice how the rest of the circuit changes.\n",
    "- Try (a) reversing the gate and (b) executing a reversal of the CNOT gate itself.\n",
    "\n",
    "> **<font color=\"red\">Q</font>**: What happens when you **keep clicking** on the input parameter for any arbitrary Qubit?\n",
    "- There are more inputs than just <font size=\"5\">**(1/0)**</font> that can be used: <font size=\"5\">**(+/-), (i/-i)**</font>.\n",
    "\n",
    "![vector-basis-space](img/vector-basis-space.png \"\")"
   ]
  },
  {
   "cell_type": "code",
   "execution_count": 4,
   "metadata": {},
   "outputs": [
    {
     "data": {
      "text/html": [
       "\n",
       "        <iframe\n",
       "            width=\"900\"\n",
       "            height=\"600\"\n",
       "            src=\"https://algassert.com/quirk#circuit={%22cols%22:[[%22%E2%80%A2%22,%22X%22]],%22init%22:[1]}\"\n",
       "            frameborder=\"0\"\n",
       "            allowfullscreen\n",
       "        ></iframe>\n",
       "        "
      ],
      "text/plain": [
       "<IPython.lib.display.IFrame at 0x107c35a30>"
      ]
     },
     "execution_count": 4,
     "metadata": {},
     "output_type": "execute_result"
    }
   ],
   "source": [
    "# QUIRK (Quantum Curcuit Simulator) \n",
    "from IPython.display import IFrame\n",
    "\n",
    "IFrame(src='https://algassert.com/quirk#circuit={%22cols%22:[[%22%E2%80%A2%22,%22X%22]],%22init%22:[1]}', width=900, height=600)"
   ]
  },
  {
   "cell_type": "markdown",
   "metadata": {},
   "source": [
    "### <font color=\"red\">Exercise</font> : Using the <font color=\"blue\">QUIRK</font> Simulation to explore a <font color=\"red\">CC</font>NOT Gate\n",
    "\n",
    "> Change the input to **Qubit #1** and **Qubit #2** by clicking on it (you'll cycle through all of the different bases) and *notice* how the rest of the circuit changes.\n"
   ]
  },
  {
   "cell_type": "code",
   "execution_count": 5,
   "metadata": {
    "scrolled": false
   },
   "outputs": [
    {
     "data": {
      "text/html": [
       "\n",
       "        <iframe\n",
       "            width=\"900\"\n",
       "            height=\"600\"\n",
       "            src=\"https://algassert.com/quirk#circuit={%22cols%22:[[%22%E2%80%A2%22,%22%E2%80%A2%22,%22X%22]],%22init%22:[1,1]}\"\n",
       "            frameborder=\"0\"\n",
       "            allowfullscreen\n",
       "        ></iframe>\n",
       "        "
      ],
      "text/plain": [
       "<IPython.lib.display.IFrame at 0x107c35a00>"
      ]
     },
     "execution_count": 5,
     "metadata": {},
     "output_type": "execute_result"
    }
   ],
   "source": [
    "# QUIRK (Quantum Curcuit Simulator) \n",
    "from IPython.display import IFrame\n",
    "\n",
    "IFrame(src='https://algassert.com/quirk#circuit={%22cols%22:[[%22%E2%80%A2%22,%22%E2%80%A2%22,%22X%22]],%22init%22:[1,1]}', width=900, height=600)"
   ]
  },
  {
   "cell_type": "markdown",
   "metadata": {},
   "source": [
    "### <font color=\"red\">Exercise</font> : Using the <font color=\"blue\">Qiskit</font> to explore the NOT, <font color=\"red\">C</font>NOT and <font color=\"red\">CC</font>NOT GateGates\n",
    "\n",
    "<BR>\n",
    "\n",
    "![C-Not](img/cnot.png \"C-Not\")\n",
    "\n",
    "- Run the code and inspect the circuits - compare them to the QCEngine and QUIRK equivalents above.\n",
    "\n",
    "> **Q:** How intuitive is the **Qiskit** experience relative to the **QCEngine** experience in **understanding the behavior** of the various gates (NOT, CNOT, CCNOT)?"
   ]
  },
  {
   "cell_type": "markdown",
   "metadata": {},
   "source": [
    "### Setup the program"
   ]
  },
  {
   "cell_type": "code",
   "execution_count": 6,
   "metadata": {},
   "outputs": [],
   "source": [
    "from qiskit import QuantumCircuit, QuantumRegister, ClassicalRegister, execute, Aer, IBMQ, BasicAer\n",
    "import math\n",
    "\n",
    "## Uncomment the next line to see diagrams when running in a notebook\n",
    "%matplotlib inline\n",
    "\n",
    "## Example 5-6: CNOT Logic\n",
    "\n",
    "# Set up the program\n",
    "a = QuantumRegister(1, name='a')\n",
    "b = QuantumRegister(1, name='b')\n",
    "c = QuantumRegister(1, name='c')\n",
    "\n",
    "r1 = ClassicalRegister(1, name='r1')\n",
    "r2 = ClassicalRegister(2, name='r2')\n",
    "r3 = ClassicalRegister(3, name='r3')\n",
    "\n",
    "qc = QuantumCircuit(a, b, c, r1, r2, r3)\n",
    "\n",
    "\n",
    "## CASE: NOT(c) : (c = ~c)\n",
    "#\n",
    "#\n",
    "qc.reset(c)\n",
    "qc.x(c)             # Execute the NOT Gate of Qubit (c)\n",
    "qc.measure(c, r1)   # Measure the Quantum Register\n",
    "qc.barrier()\n",
    "\n",
    "## CASE: CNOT(C) : if (b) then (c = ~c)\n",
    "#\n",
    "#\n",
    "qc.reset(b)\n",
    "qc.reset(c)\n",
    "qc.x(b)                 # Execute the NOT Gate on Qubit (b)\n",
    "qc.cx(b, c)             # Execute the CNOT Gate on target (c), contingent on (b)\n",
    "qc.measure(b, r2[0])    # Measure both Qubits\n",
    "qc.measure(c, r2[1])\n",
    "qc.barrier()\n",
    "\n",
    "## CASE: CCNOT(C) : if (a) and (b) then (c = ~c)\n",
    "#\n",
    "#\n",
    "qc.reset(a)\n",
    "qc.reset(b)\n",
    "qc.reset(c)\n",
    "qc.x(a)               # Execute the NOT Gate on Qubit (a)\n",
    "qc.x(b)               # Execute the NOT Gate on Qubit (b)\n",
    "qc.ccx(a, b, c)       # Execute the CCNOT gate on target (c) contingent on both (a) and (b).\n",
    "qc.measure(a, r3[0])  # Measure all Qubits\n",
    "qc.measure(b, r3[1])\n",
    "qc.measure(c, r3[2])\n",
    "\n",
    "## That's the program. Everything below runs and draws it.\n",
    "#\n",
    "#\n",
    "backend = BasicAer.get_backend('statevector_simulator')\n",
    "job = execute(qc, backend, memory=True)\n",
    "result = job.result()"
   ]
  },
  {
   "cell_type": "markdown",
   "metadata": {},
   "source": [
    "### NOTE: These are the outputs of the three independent circuits <font color=\"red\">in order of execution </font>\n",
    "<BR>\n",
    "\n",
    "#### Binary Results:\n",
    "- #### NOT : (<font color=\"red\">1</font>)\n",
    "- #### CNOT : (<font color=\"red\">11</font>)\n",
    "- #### CCNOT : (<font color=\"red\">111</font>)\n",
    "\n",
    "<BR>\n",
    "    \n",
    "![C-Not](img/cnot.png \"C-Not\")"
   ]
  },
  {
   "cell_type": "code",
   "execution_count": 7,
   "metadata": {},
   "outputs": [
    {
     "name": "stdout",
     "output_type": "stream",
     "text": [
      "Binary Number(s):  1 11 111\n"
     ]
    }
   ],
   "source": [
    "# NOTE: These are the outputs of the three independent circuits in order of execution.\n",
    "# (1:1, 2:11, and 3:111)\n",
    "#\n",
    "#\n",
    "counts = result.get_counts(qc)\n",
    "\n",
    "for k in counts:\n",
    "    binary_number = ''.join(reversed(k))\n",
    "    print(\"Binary Number(s): \", binary_number)"
   ]
  },
  {
   "cell_type": "markdown",
   "metadata": {},
   "source": [
    "### Get the StateVector and print the circuit\n",
    "- **NOTE:** The output of the state vector is Decimal **<font color=\"red\">\"7\"</font>** or Binary **<font color=\"red\">\"111\"</font>**, the **<font color=\"blue\">last</font>** number executed in the curcuit.\n",
    "\n",
    "\n",
    "- **<font color=\"red\">Gotcha</font>**: This is an idiosyncrasy of Qiskit to be aware of."
   ]
  },
  {
   "cell_type": "code",
   "execution_count": 8,
   "metadata": {},
   "outputs": [
    {
     "name": "stdout",
     "output_type": "stream",
     "text": [
      "Circuit Output Value: \n",
      "|7> (1-0j)\n"
     ]
    },
    {
     "data": {
      "image/png": "[encoded data removed]",
      "text/plain": [
       "<Figure size 1321.99x385.28 with 1 Axes>"
      ]
     },
     "execution_count": 8,
     "metadata": {},
     "output_type": "execute_result"
    }
   ],
   "source": [
    "# get the output state and print the circuit\n",
    "#\n",
    "outputstate = result.get_statevector(qc, decimals=3)\n",
    "\n",
    "print(\"Circuit Output Value: \")\n",
    "for i,amp in enumerate(outputstate):\n",
    "    if abs(amp) > 0.000001:\n",
    "        print('|{}> {}'.format(i, amp))\n",
    "        \n",
    "qc.draw(output='mpl')        # draw the circuit"
   ]
  },
  {
   "cell_type": "markdown",
   "metadata": {},
   "source": [
    "### Examine Job Results Memory:"
   ]
  },
  {
   "cell_type": "code",
   "execution_count": 9,
   "metadata": {},
   "outputs": [
    {
     "name": "stdout",
     "output_type": "stream",
     "text": [
      "Classical Register Measurements:  ['111 11 1']  in reverse order.\n"
     ]
    }
   ],
   "source": [
    "ClassicalRegisterMeasurements = job.result().get_memory()\n",
    "print(\"Classical Register Measurements: \", ClassicalRegisterMeasurements, \" in reverse order.\")"
   ]
  },
  {
   "cell_type": "code",
   "execution_count": null,
   "metadata": {},
   "outputs": [],
   "source": []
  },
  {
   "cell_type": "markdown",
   "metadata": {},
   "source": [
    "## The Swap Gate\n",
    "\n",
    "<img style=\"float: left;\" src=\"img/qgate-swap.png\">\n",
    "\n",
    "> The Swap gate SWAP (*also called exchange*), which **simply exchanges two qubits**.\n",
    "\n",
    "- **<font color=\"red\">Alternatively</font>**: a SWAP can be performed by exchanging the **information** contained in two qubits (rather than the qubits themselves) using **<font color=\"red\">three</font>** CNOT operations,\n",
    "\n",
    "![swap-gate-examples](img/swap-gate-examples.png \"\")"
   ]
  },
  {
   "cell_type": "markdown",
   "metadata": {},
   "source": [
    "### <font color=\"red\">Exercise</font> : Using the <font color=\"blue\">QCEngine</font> to explore different SWAP Gates\n",
    "\n",
    "- QCEngine: https://oreilly-qc.github.io\n",
    "- Docs: https://oreilly-qc.github.io/docs/build/\n",
    "- Book: https://www.amazon.com/Programming-Quantum-Computers-Essential-Algorithms/dp/1492039683\n",
    "\n",
    "![swap-native-example](img/swap-native-example.png \"swap-native-example\")\n",
    "![swap-cnots-example](img/swap-cnots-example.png \"swap-cnots-example\")"
   ]
  },
  {
   "cell_type": "markdown",
   "metadata": {},
   "source": [
    "#### TODO:\n",
    "- Reminder: Open the IDE in a separate tab for ease of operation (if needed)\n",
    "> *Cut-n-Paste and Run* the **SWAP** example(**<font color=\"red\">s</font>**) below, and **uncomment/re-comment** the appropriate lines to switch from the **native swap** gate to the **CNOT** implementation \n",
    "- Inspect the result by clicking around in the Program Circuit pane to  observe the behavior of the circuit and outputs.\n",
    "\n",
    "\n",
    "### <font color=\"red\">Observe: </font>\n",
    "- While the end result of the various processes (stock swap vs SWAP using CNOT) is identical, **their behaviors are very different**.\n",
    "- This is important to observe - **make note of the number of shifts** being made in the CNOT version.\n",
    "- **Retrospective:** This is another example of constructing a complex processes (in this case a SWAP GATE) using the basic building blocks of (quantum) logic."
   ]
  },
  {
   "cell_type": "raw",
   "metadata": {},
   "source": [
    "\n",
    "//############################################\n",
    "// SWAP DEMO(s) : Stock Swap (and variations)\n",
    "// ###########################################\n",
    "\n",
    "// Colorize Phase Shifts \n",
    "qc_options.color_by_phase=true\n",
    "\n",
    "\n",
    "// Create a Quantum Circuit with 2 qubits\n",
    "qc.reset(2);\n",
    "\n",
    "// Initialize wach qubit w/a name and label\n",
    "var qubit1 = qint.new(1, 'qubit 1');\n",
    "var qubit2 = qint.new(1, 'qubit 2');\n",
    "\n",
    "qc.label(\"SWAP\")\n",
    "\n",
    "// Write values to the respective qubits \n",
    "// this is what you can tinker with !!\n",
    "qubit1.write(1)\n",
    "qubit2.write(0)\n",
    "\n",
    "// Execute the classic SWAP \n",
    "// (uncomment any one arbitrary line below - they all identical in function)\n",
    "// qubit1.swap(qubit2)\n",
    "// qubit2.swap(qubit1)\n",
    "// qubit1.exchange(qubit2)\n",
    "// qubit2.exchange(qubit1)\n",
    "// qc.swap(1|2)\n",
    "qc.exchange(1|2)\n",
    "\n",
    "qc.nop()\n",
    "\n",
    "qc.label();\n",
    "\n",
    "// read the qubits\n",
    "qubit1.read();\n",
    "qubit2.read();\n"
   ]
  },
  {
   "cell_type": "raw",
   "metadata": {},
   "source": [
    "\n",
    "//################################\n",
    "// SWAP DEMO(s) : SWAP using CNOT\n",
    "// ###############################\n",
    "\n",
    "// Colorize Phase Shifts \n",
    "qc_options.color_by_phase=true\n",
    "\n",
    "\n",
    "// Create a Quantum Circuit with 2 qubits\n",
    "qc.reset(2);\n",
    "\n",
    "// Initialize wach qubit w/a name and label\n",
    "var qubit1 = qint.new(1, 'qubit 1');\n",
    "var qubit2 = qint.new(1, 'qubit 2');\n",
    "\n",
    "qc.label(\"SWAP\")\n",
    "\n",
    "// Write values to the respective qubits \n",
    "// this is what you can tinker with !!\n",
    "qubit1.write(1)\n",
    "qubit2.write(0)\n",
    "\n",
    "qc.nop()\n",
    "\n",
    "// SWAP using CNOT (uncomment 3 lines below)\n",
    "qc.cnot(1,2)\n",
    "qc.cnot(2,1)\n",
    "qc.cnot(1,2)\n",
    "\n",
    "qc.label();\n",
    "\n",
    "// read the qubits\n",
    "qubit1.read();\n",
    "qubit2.read();\n"
   ]
  },
  {
   "cell_type": "code",
   "execution_count": 10,
   "metadata": {},
   "outputs": [
    {
     "data": {
      "text/html": [
       "\n",
       "        <iframe\n",
       "            width=\"900\"\n",
       "            height=\"900\"\n",
       "            src=\"https://oreilly-qc.github.io?p=3-4\"\n",
       "            frameborder=\"0\"\n",
       "            allowfullscreen\n",
       "        ></iframe>\n",
       "        "
      ],
      "text/plain": [
       "<IPython.lib.display.IFrame at 0x131115940>"
      ]
     },
     "execution_count": 10,
     "metadata": {},
     "output_type": "execute_result"
    }
   ],
   "source": [
    "from IPython.display import IFrame\n",
    "IFrame(src='https://oreilly-qc.github.io?p=3-4', width=900, height=900)"
   ]
  },
  {
   "cell_type": "markdown",
   "metadata": {},
   "source": [
    "## CSwap Gate\n",
    "\n",
    "\n",
    "<img style=\"float: left;\" src=\"img/qgate-cswap.png\">\n",
    "\n",
    "> The quantum **Fredkin CSWAP** gate is a control gate operating on **<font color=\"red\">three</font>** qubits. \n",
    "- If the state of the **first qubit** is **|1>** then the states of the **second and third qubits** are **swapped**, as in SWAP. \n",
    "- If it is **|0>**, nothing is changed. \n",
    "- Like the CCNOT, the CSWAP gate spans **three** wires. The top line is the **control qubit**.\n",
    "\n"
   ]
  },
  {
   "cell_type": "markdown",
   "metadata": {},
   "source": [
    "### <font color=\"red\">Exercise</font> : Using the <font color=\"blue\">QCEngine</font> to explore the  Fredkin SWAP Gate\n",
    "\n",
    "![swap-fredkin-example](img/swap-fredkin-example.png \"swap-fredkin-example\")\n",
    "\n",
    "> *Cut-n-Paste* the **Fredkin SWAP** example below into the QCEngine, then run it -inspect the result by clicking around in the Program Circuit pane to  observe the behavior of the circuit and outputs.\n",
    "- Note that the Symbolic view of the gate is somewhat different than the image.\n",
    "- Then run the stock code for the swap test - observe what is happening.\n",
    "\n"
   ]
  },
  {
   "cell_type": "raw",
   "metadata": {},
   "source": [
    "//#############\n",
    "// SWAP DEMO(s)\n",
    "// ############\n",
    "\n",
    "// Colorize Phase Shifts \n",
    "qc_options.color_by_phase=true\n",
    "\n",
    "// Create a Quantum Circuit with 3 qubits\n",
    "qc.reset(3);\n",
    "\n",
    "// Initialize wach qubit w/a name and label\n",
    "var qubit1 = qint.new(1, 'qubit 1');\n",
    "var qubit2 = qint.new(1, 'qubit 2');\n",
    "var qubit3 = qint.new(1, 'qubit 3');\n",
    "\n",
    "qc.label(\"Fredkin SWAP\");\n",
    "\n",
    "// Write values to the respective qubits (this is what you tinker with)\n",
    "qubit1.write(1);\n",
    "qubit2.write(1);\n",
    "qubit3.write(0);\n",
    "\n",
    "// Execute the Fredkin CSWAP SWAP \n",
    "qubit2.exchange(qubit3, 1, qubit1);\n",
    "\n",
    "qc.nop();\n",
    "\n",
    "qc.label();\n",
    "\n",
    "// read the qubits\n",
    "qubit1.read();\n",
    "qubit2.read();\n",
    "qubit3.read();\n"
   ]
  },
  {
   "cell_type": "code",
   "execution_count": 11,
   "metadata": {},
   "outputs": [
    {
     "data": {
      "text/html": [
       "\n",
       "        <iframe\n",
       "            width=\"900\"\n",
       "            height=\"900\"\n",
       "            src=\"https://oreilly-qc.github.io?p=3-4\"\n",
       "            frameborder=\"0\"\n",
       "            allowfullscreen\n",
       "        ></iframe>\n",
       "        "
      ],
      "text/plain": [
       "<IPython.lib.display.IFrame at 0x107c357f0>"
      ]
     },
     "execution_count": 11,
     "metadata": {},
     "output_type": "execute_result"
    }
   ],
   "source": [
    "from IPython.display import IFrame\n",
    "IFrame(src='https://oreilly-qc.github.io?p=3-4', width=900, height=900)"
   ]
  },
  {
   "cell_type": "markdown",
   "metadata": {},
   "source": [
    "### <font color=\"red\">Exercise</font> : Using the <font color=\"blue\">Qiskit</font> to explore the SWAP and CSWAP Gate(s)\n",
    "\n",
    "![swap-gate-examples](img/swap-gate-examples.png \"swap-gate-examples\")\n",
    "\n",
    "- Run the code and inspect the circuits - compare them to the QCEngine and QUIRK equivalents above."
   ]
  },
  {
   "cell_type": "markdown",
   "metadata": {},
   "source": [
    "## <font color=\"blue\">Qiskit</font> : SWAP Gate\n",
    "- Implement the SWAP gate in Qiskit, observe the differences between frameworks and thee batch model.\n",
    "- How easy is it to gain intuition from using just one framework?\n",
    "\n",
    "### Setup the program"
   ]
  },
  {
   "cell_type": "code",
   "execution_count": 12,
   "metadata": {},
   "outputs": [],
   "source": [
    "from qiskit import QuantumCircuit, QuantumRegister, ClassicalRegister, execute, Aer, IBMQ, BasicAer\n",
    "import math\n",
    "import numpy as np\n",
    "\n",
    "## Uncomment the next line to see diagrams when running in a notebook\n",
    "%matplotlib inline\n",
    "\n",
    "# Helper Funtion for Normalizing State Vectors\n",
    "#\n",
    "def normalize_state_Vector(state_vector):\n",
    "    for result in state_vector:\n",
    "        print(\"Normalized Result: \" , round( np.abs(result)**2, 1) )        \n",
    "        \n",
    "## Example SWAP Circuit\n",
    "\n",
    "# Set up the circuit (2 qubits)\n",
    "\n",
    "# Quantum Registers\n",
    "qr1 = QuantumRegister(1, name='qr1')\n",
    "qr2 = QuantumRegister(1, name='qr2')\n",
    "\n",
    "# Classical Registers\n",
    "cr1 = ClassicalRegister(1, name='cr1')\n",
    "cr2 = ClassicalRegister(1, name='cr2')\n",
    "\n",
    "# Quantum Circuit\n",
    "qc = QuantumCircuit(qr1, qr2, cr1, cr2)\n"
   ]
  },
  {
   "cell_type": "markdown",
   "metadata": {},
   "source": [
    "#### <font color=\"red\">NOTE</font>: This is the only code segment you change\n",
    "- Setup the tracer qubit"
   ]
  },
  {
   "cell_type": "code",
   "execution_count": 13,
   "metadata": {},
   "outputs": [
    {
     "data": {
      "text/plain": [
       "<qiskit.circuit.instructionset.InstructionSet at 0x13128f070>"
      ]
     },
     "execution_count": 13,
     "metadata": {},
     "output_type": "execute_result"
    }
   ],
   "source": [
    "# Apply NOT gate to transform 0 to a 1 for the data qubit\n",
    "# This effectively sets the 2nd register to a 1 - so we can observe the swap.\n",
    "# this is the tracer bit that is tracked.\n",
    "\n",
    "qc.x(qr2)"
   ]
  },
  {
   "cell_type": "markdown",
   "metadata": {},
   "source": [
    "### Execute the SWAP and measure"
   ]
  },
  {
   "cell_type": "code",
   "execution_count": 14,
   "metadata": {},
   "outputs": [
    {
     "data": {
      "text/plain": [
       "<qiskit.circuit.instructionset.InstructionSet at 0x1310c8f70>"
      ]
     },
     "execution_count": 14,
     "metadata": {},
     "output_type": "execute_result"
    }
   ],
   "source": [
    "## Execute the Swap\n",
    "qc.swap(qr1, qr2)\n",
    "\n",
    "# Measure the Circuits\n",
    "qc.measure(qr1, cr1)\n",
    "qc.measure(qr2, cr2)\n"
   ]
  },
  {
   "cell_type": "markdown",
   "metadata": {},
   "source": [
    "### Submit the Job to the backend, get results"
   ]
  },
  {
   "cell_type": "code",
   "execution_count": 15,
   "metadata": {},
   "outputs": [],
   "source": [
    "backend = BasicAer.get_backend('statevector_simulator')\n",
    "job = execute(qc, backend)\n",
    "result = job.result()"
   ]
  },
  {
   "cell_type": "markdown",
   "metadata": {},
   "source": [
    "### Get statevector and print circuit"
   ]
  },
  {
   "cell_type": "code",
   "execution_count": 16,
   "metadata": {},
   "outputs": [
    {
     "data": {
      "image/png": "[encoded data removed]",
      "text/plain": [
       "<Figure size 440.664x264.88 with 1 Axes>"
      ]
     },
     "execution_count": 16,
     "metadata": {},
     "output_type": "execute_result"
    }
   ],
   "source": [
    "outputstate = result.get_statevector(qc, decimals=3)\n",
    "\n",
    "# Normalizing the state vector isn't intuitive in this use-case\n",
    "# print(normalize_state_Vector(outputstate))\n",
    "\n",
    "qc.draw(output='mpl')        # draw the circuit"
   ]
  },
  {
   "cell_type": "markdown",
   "metadata": {},
   "source": [
    "#### REMINDER: Qiskit counts are backward in order, so they must be reversed."
   ]
  },
  {
   "cell_type": "code",
   "execution_count": 17,
   "metadata": {},
   "outputs": [
    {
     "name": "stdout",
     "output_type": "stream",
     "text": [
      "*After Swap Gate*\n",
      "\n",
      "Measurements C_Regs: => q_Reg1 q_Reg2:  1 0\n"
     ]
    }
   ],
   "source": [
    "# Counts get reported in backwards order and need to be reversed.\n",
    "\n",
    "# Get the resultant counts\n",
    "#\n",
    "counts = result.get_counts(qc)\n",
    "\n",
    "# Reverse the order for proper persual\n",
    "#\n",
    "for k in counts:\n",
    "    binary_number = ''.join(reversed(k))\n",
    "    print(\"*After Swap Gate*\\n\")\n",
    "    print(\"Measurements C_Regs: => q_Reg1 q_Reg2: \", binary_number)\n"
   ]
  },
  {
   "cell_type": "code",
   "execution_count": null,
   "metadata": {},
   "outputs": [],
   "source": []
  },
  {
   "cell_type": "markdown",
   "metadata": {},
   "source": [
    "## <font color=\"blue\">Qiskit</font>  CSWAP Gate \n",
    "- Implement the SWAP gate in Qiskit, observe the differences between frameworks and thee batch model.\n",
    "- How easy is it to gain intuition from using just one framework?\n",
    "\n",
    "### Setup the program"
   ]
  },
  {
   "cell_type": "code",
   "execution_count": 18,
   "metadata": {},
   "outputs": [
    {
     "data": {
      "text/plain": [
       "<qiskit.circuit.instructionset.InstructionSet at 0x131523c70>"
      ]
     },
     "execution_count": 18,
     "metadata": {},
     "output_type": "execute_result"
    }
   ],
   "source": [
    "from qiskit import QuantumCircuit, QuantumRegister, ClassicalRegister, execute, Aer, IBMQ, BasicAer\n",
    "import math\n",
    "\n",
    "## Uncomment the next line to see diagrams when running in a notebook\n",
    "%matplotlib inline\n",
    "\n",
    "# Helper Funtion for Normalizing State Vectors\n",
    "#\n",
    "def normalize_state_Vector(state_vector):\n",
    "    for result in state_vector:\n",
    "        print(\"Normalized Result: \" , round( np.abs(result)**2, 1) )\n",
    "\n",
    "## Example CSWAP Circuit\n",
    "\n",
    "# Set up the circuit (3 qubits)\n",
    "\n",
    "qr1 = QuantumRegister(1, name='qr1')\n",
    "qr2 = QuantumRegister(1, name='qr2')\n",
    "qr3 = QuantumRegister(1, name='qr3')\n",
    "\n",
    "# Setup 3 Classical Registers\n",
    "\n",
    "cr1 = ClassicalRegister(1, name='cr1')\n",
    "cr2 = ClassicalRegister(1, name='cr2')\n",
    "cr3 = ClassicalRegister(1, name='cr3')\n",
    "\n",
    "# Setup Quantum Circuit\n",
    "\n",
    "qc = QuantumCircuit(qr1, qr2, qr3, cr1, cr2, cr3)\n",
    "\n",
    "# write the value 0 to all three quantum registers to explicitly initialize\n",
    "qc.reset(qr1) \n",
    "qc.reset(qr2) \n",
    "qc.reset(qr3) \n"
   ]
  },
  {
   "cell_type": "markdown",
   "metadata": {},
   "source": [
    "#### <font color=\"red\">NOTE</font>: This is the only code segment you change"
   ]
  },
  {
   "cell_type": "code",
   "execution_count": 19,
   "metadata": {},
   "outputs": [
    {
     "data": {
      "text/plain": [
       "<qiskit.circuit.instructionset.InstructionSet at 0x131523790>"
      ]
     },
     "execution_count": 19,
     "metadata": {},
     "output_type": "execute_result"
    }
   ],
   "source": [
    "# Set the CONTROL qubit to 1 - this executes the C-SWAP mechanism.\n",
    "\n",
    "qc.x(qr1)\n",
    "\n",
    "# Apply NOT gate to transform 0 to a 1 for the data qubit, \n",
    "# this is the tracer bit that is tracked.\n",
    "\n",
    "qc.x(qr2)"
   ]
  },
  {
   "cell_type": "markdown",
   "metadata": {},
   "source": [
    "### Execute the Swap and measure the qubits"
   ]
  },
  {
   "cell_type": "code",
   "execution_count": 20,
   "metadata": {},
   "outputs": [
    {
     "data": {
      "text/plain": [
       "<qiskit.circuit.instructionset.InstructionSet at 0x131523dc0>"
      ]
     },
     "execution_count": 20,
     "metadata": {},
     "output_type": "execute_result"
    }
   ],
   "source": [
    "## Execute the Swap\n",
    "qc.cswap(qr1, qr2, qr3)\n",
    "\n",
    "# Measure the Qubits\n",
    "qc.measure(qr1, cr1)\n",
    "qc.measure(qr2, cr2)\n",
    "qc.measure(qr3, cr3)\n"
   ]
  },
  {
   "cell_type": "markdown",
   "metadata": {},
   "source": [
    "### Submit the Job to backend"
   ]
  },
  {
   "cell_type": "code",
   "execution_count": 21,
   "metadata": {},
   "outputs": [],
   "source": [
    "backend = BasicAer.get_backend('statevector_simulator')\n",
    "job = execute(qc, backend)\n",
    "result = job.result()"
   ]
  },
  {
   "cell_type": "markdown",
   "metadata": {},
   "source": [
    "### Get statevector and print circuit"
   ]
  },
  {
   "cell_type": "code",
   "execution_count": 22,
   "metadata": {
    "scrolled": false
   },
   "outputs": [
    {
     "data": {
      "image/png": "[encoded data removed]",
      "text/plain": [
       "<Figure size 621.264x385.28 with 1 Axes>"
      ]
     },
     "execution_count": 22,
     "metadata": {},
     "output_type": "execute_result"
    }
   ],
   "source": [
    "outputstate = result.get_statevector(qc, decimals=3)\n",
    "\n",
    "# print(normalize_state_Vector(outputstate))\n",
    "\n",
    "qc.draw(output='mpl')        # draw the circuit"
   ]
  },
  {
   "cell_type": "markdown",
   "metadata": {},
   "source": [
    "#### The measurements of the classical registers should fit the pattern below: 1-0-1\n",
    "\n",
    "![swap-fredkin-example](img/swap-fredkin-example.png \"swap-fredkin-example\")"
   ]
  },
  {
   "cell_type": "markdown",
   "metadata": {},
   "source": [
    "#### REMINDER: Qiskit Counts are backward in order, so must reverse them."
   ]
  },
  {
   "cell_type": "code",
   "execution_count": 23,
   "metadata": {},
   "outputs": [
    {
     "name": "stdout",
     "output_type": "stream",
     "text": [
      "*After C-Swap Gate*\n",
      "\n",
      "Measurements C_Regs: => qr1, qr2, qr3:  1 0 1\n"
     ]
    }
   ],
   "source": [
    "counts = result.get_counts(qc)\n",
    "\n",
    "for k in counts:\n",
    "    binary_number = ''.join(reversed(k))\n",
    "    print(\"*After C-Swap Gate*\\n\")\n",
    "    print(\"Measurements C_Regs: => qr1, qr2, qr3: \", binary_number)\n",
    "       "
   ]
  },
  {
   "cell_type": "markdown",
   "metadata": {},
   "source": [
    "# Deep Dive #2 : - <font color=\"blue\">Mapping </font> <font color=\"red\"> Boolean (Digital) Logic</font> <font color=\"blue\">to <font color=\"red\">Quantum Logic</font> Operations </font>\n",
    "\n",
    "- Just as we can build sophisticated algorithms using digital logic, it is also possible to build them using quantum logic.\n",
    "\n",
    "<BR>\n",
    "\n",
    "![Classical_Quantum-LogicGates](img/Classical_Quantum-LogicGates1.png \"Classical_Quantum-LogicGates\")"
   ]
  },
  {
   "cell_type": "markdown",
   "metadata": {},
   "source": [
    "### Quantum circuits use the **building blocks** of quantum gates to construct quantum algorithms \n",
    "- It's critical to be exposed to </font> <font color=\"red\">**boolean logic**</font> (*both digital and quantum*). \n",
    "- Developing familiarity and an intuition are absolutely necessary to crafting quantum algorithms later on. \n",
    "- The following discussion *isn't meant to be exhaustive* but **only to provide a flavor** for the domain through the experience of exploration.\n",
    "\n",
    "> The below information **supports the presenter led discussion** about the important concept of **Quantum Circuits**. The pedagogical bent is toward catering to the software engineer archtype, so much of the work will focus on the conceptual side and developing an intuition to the various gate rotations.\n",
    "\n",
    "> **NOTE:** The details, nuances, and key concepts are left to that discussion.\n",
    "\n",
    "\n",
    "#### REMINDER:\n",
    "- **Basic Digital Logic Truth Tables**: https://www.electronics-tutorials.ws/boolean/bool_7.html"
   ]
  },
  {
   "cell_type": "markdown",
   "metadata": {},
   "source": [
    "### <font color=\"red\">Observe</font>: Basic Quantum Logic Operations can be built to be equivalents to their digital counterparts. \n",
    "- Do a quick exploration below, note how important the **<font color=\"red\">CNOT</font>** gate is to Quantum Computing."
   ]
  },
  {
   "cell_type": "markdown",
   "metadata": {},
   "source": [
    "![digital-logic-gates-cnots](img/digital-logic-gates-cnots.png \"\")"
   ]
  },
  {
   "cell_type": "markdown",
   "metadata": {},
   "source": [
    "|Gate|Gate|\n",
    "|----|----|\n",
    "| ![tt-not](img/tt-not.png \"\") | ![tt-nxor](img/tt-xor.png \"\") |\n",
    "| ![tt-and](img/tt-and.png \"\") | ![tt-or](img/tt-or.png \"\") |\n",
    "| ![tt-nand](img/tt-nand.png \"\") | ![tt-nor](img/tt-nor.png \"\") |"
   ]
  },
  {
   "cell_type": "markdown",
   "metadata": {},
   "source": [
    "### <font color=\"red\">Exercise</font>: Cut-n-paste code into the <font color=\"blue\">QCEngine</font> to explore the resultant QLogic gates\n",
    "- **Click** through the output program circuit to observe the behavior of each circuit\n",
    "- **Relate** the behavior back to the appropriate truth table to vet it for correctness based upon its current inputs.\n",
    "- **Nuance**: - Observe the re-initialization of the circuits between examples."
   ]
  },
  {
   "cell_type": "raw",
   "metadata": {},
   "source": [
    "// Colorize Phase Shifts \n",
    "qc_options.color_by_phase=true\n",
    "\n",
    "// Create a Quantum Circuit with 3 qubits\n",
    "qc.reset(3);\n",
    "\n",
    "// Initialize wach qubit w/a name and label\n",
    "var qubit1 = qint.new(1, 'qubit 1');\n",
    "var qubit2 = qint.new(1, 'qubit 2');\n",
    "var qubit3 = qint.new(1, 'output qubit');\n",
    "\n",
    "qc.write(0);\n",
    "\n",
    "// NOT Gate\n",
    "qc.label(\"NOT\");\n",
    "qc.nop();\n",
    "qubit1.not();\n",
    "qc.nop();\n",
    "qc.label();\n",
    "qubit1.read();\n",
    "qubit2.read();\n",
    "qubit3.read();\n",
    "\n",
    "\n",
    "// AND Gate\n",
    "//qc.write(0);\n",
    "qubit1.write(1)\n",
    "qubit2.write(1)\n",
    "qubit3.write(0)\n",
    "qc.label(\"AND\");\n",
    "qc.nop();\n",
    "qc.cnot(0x4, 0x1|0x2);\n",
    "qc.nop();\n",
    "qc.label();\n",
    "qubit1.read();\n",
    "qubit2.read();\n",
    "qubit3.read();\n",
    "\n",
    "qc.nop();\n",
    "\n",
    "// NAND GATE\n",
    "qc.write(0);\n",
    "qubit1.write(1)\n",
    "qubit2.write(1)\n",
    "qc.label(\"NAND\");\n",
    "qc.nop();\n",
    "qc.cnot(0x4, 0x1|0x2);\n",
    "qubit3.not();\n",
    "qc.nop();\n",
    "qc.label();\n",
    "qubit1.read();\n",
    "qubit2.read();\n",
    "qubit3.read();\n",
    "\n",
    "qc.nop();\n",
    "\n",
    "// XOR GATE\n",
    "qc.write(0);\n",
    "qubit1.write(1)\n",
    "qc.label(\"XOR\");\n",
    "qc.nop();\n",
    "qc.cnot(0x2, 0x1);\n",
    "qc.nop();\n",
    "qc.label();\n",
    "qubit1.read();\n",
    "qubit2.read();\n",
    "qubit3.read();\n",
    "\n",
    "qc.nop();\n",
    "\n",
    "// OR GATE\n",
    "qc.write(0);\n",
    "qubit1.write(1)\n",
    "qc.label(\"OR\");\n",
    "qc.nop();\n",
    "qubit1.not();\n",
    "qubit2.not();\n",
    "qc.cnot(0x4, 0x1|0x2);\n",
    "qubit1.not();\n",
    "qubit2.not();\n",
    "qubit3.not();\n",
    "qc.nop();\n",
    "qc.label();\n",
    "qubit1.read();\n",
    "qubit2.read();\n",
    "qubit3.read();\n",
    "\n",
    "qc.nop();\n",
    "\n",
    "// NOR GATE\n",
    "qc.write(0);\n",
    "qc.label(\"NOR\");\n",
    "qc.nop();\n",
    "qubit1.not();\n",
    "qubit2.not();\n",
    "qc.cnot(0x4, 0x1|0x2);\n",
    "qubit1.not();\n",
    "qubit2.not();\n",
    "qc.nop();\n",
    "qc.label();\n",
    "qubit1.read();\n",
    "qubit2.read();\n",
    "qubit3.read();\n"
   ]
  },
  {
   "cell_type": "markdown",
   "metadata": {},
   "source": [
    "![digital-logic-gates-from-cnots](img/digital-logic-gates-from-cnots1.png \"digital-logic-gates-from-cnots\")\n",
    "\n",
    "    "
   ]
  },
  {
   "cell_type": "markdown",
   "metadata": {},
   "source": [
    "### <font color=\"red\">REVIEW</font>:\n",
    "<BR>\n",
    "    \n",
    "<img style=\"float: left;\" src=\"img/binary-table-0-7_excel.png\">\n",
    "\n",
    "![cnot-ccnot-qcengine-circuit](img/cnot-ccnot-qcengine-circuit.png \"cnot-ccnot-qcengine-circuit\")"
   ]
  },
  {
   "cell_type": "markdown",
   "metadata": {},
   "source": [
    "### Open in full screen mode for easier navigating:\n",
    "- #### QCEngine: https://oreilly-qc.github.io/\n",
    "- #### Documentation: https://oreilly-qc.github.io/docs/build/"
   ]
  },
  {
   "cell_type": "code",
   "execution_count": 24,
   "metadata": {},
   "outputs": [
    {
     "data": {
      "text/html": [
       "\n",
       "        <iframe\n",
       "            width=\"1200\"\n",
       "            height=\"900\"\n",
       "            src=\"https://oreilly-qc.github.io?p=5-6\"\n",
       "            frameborder=\"0\"\n",
       "            allowfullscreen\n",
       "        ></iframe>\n",
       "        "
      ],
      "text/plain": [
       "<IPython.lib.display.IFrame at 0x107c697c0>"
      ]
     },
     "execution_count": 24,
     "metadata": {},
     "output_type": "execute_result"
    }
   ],
   "source": [
    "from IPython.display import IFrame\n",
    "IFrame(src='https://oreilly-qc.github.io?p=5-6', width=1200, height=900)"
   ]
  },
  {
   "cell_type": "markdown",
   "metadata": {},
   "source": [
    "## <font color=\"red\">Exercise</font> : Using the <font color=\"blue\">QUIRK</font> to explore the QLogic gates\n",
    "- Given the following list of Digital Logic Gates and their Quantum Equivalents, recreate them in QUIRK and test out their truth table to <font color=\"red\">prove</font> the behavior of the circuit is consistent with the gates logic.\n",
    "- The respective Truth tables are listed below.\n",
    "- Click on the KET input value for each qubit circuit line to vary inputs and observe the circuits behavior.\n",
    "\n",
    "**INVESTIGATION:**\n",
    "- Q: How has your conceptual understanding grown by examining the same idea using a different framework?\n",
    "- Q: How does the quantum logic constructs behave when non digital values are used as input?\n",
    "\n",
    "\n",
    "### QUIRK is prepopulated with the **\"OR\"** gate\n",
    "\n",
    "\n",
    "<BR>\n",
    "    \n",
    "![digital-logic-gates-cnots](img/digital-logic-gates-cnots.png \"digital-logic-gates-cnots\")"
   ]
  },
  {
   "cell_type": "markdown",
   "metadata": {},
   "source": [
    "|Gate|Gate|\n",
    "|----|----|\n",
    "| ![tt-not](img/tt-not.png \"tt-not\") | ![tt-nxor](img/tt-xor.png \"tt-xor\") |\n",
    "| ![tt-and](img/tt-and.png \"tt-and\") | ![tt-or](img/tt-or.png \"tt-or\") |\n",
    "| ![tt-nand](img/tt-nand.png \"tt-nand\") | ![tt-nor](img/tt-nor.png \"tt-nor\") |\n"
   ]
  },
  {
   "cell_type": "markdown",
   "metadata": {},
   "source": [
    "### <font color=\"red\">QUIRK</font> : Prepopulated - Quantum <font color=\"blue\">\"OR\"</font>  Logic\n",
    "- Alter inputs on the Qubit line and observe results\n",
    "- **Remember:** 3rd line is the Output Qubit, first 2 lines are inputs.\n",
    "- **Notice** any phase shifts as certain input types get executed."
   ]
  },
  {
   "cell_type": "code",
   "execution_count": 25,
   "metadata": {},
   "outputs": [
    {
     "data": {
      "text/html": [
       "\n",
       "        <iframe\n",
       "            width=\"900\"\n",
       "            height=\"600\"\n",
       "            src=\"https://algassert.com/quirk#circuit={%22cols%22:[[%22X%22,%22X%22],[%22%E2%80%A2%22,%22%E2%80%A2%22,%22X%22],[%22X%22,%22X%22,%22X%22]]}\"\n",
       "            frameborder=\"0\"\n",
       "            allowfullscreen\n",
       "        ></iframe>\n",
       "        "
      ],
      "text/plain": [
       "<IPython.lib.display.IFrame at 0x1310bd4f0>"
      ]
     },
     "execution_count": 25,
     "metadata": {},
     "output_type": "execute_result"
    }
   ],
   "source": [
    "# QUIRK (Quantum Curcuit Simulator) \n",
    "from IPython.display import IFrame\n",
    "\n",
    "IFrame(src='https://algassert.com/quirk#circuit={%22cols%22:[[%22X%22,%22X%22],[%22%E2%80%A2%22,%22%E2%80%A2%22,%22X%22],[%22X%22,%22X%22,%22X%22]]}', width=900, height=600)"
   ]
  },
  {
   "cell_type": "code",
   "execution_count": null,
   "metadata": {},
   "outputs": [],
   "source": []
  },
  {
   "cell_type": "markdown",
   "metadata": {},
   "source": [
    "# Deep Dive #3 : - <font color=\"blue\">Building Basic </font> <font color=\"red\"> </font> <font color=\"blue\"><font color=\"red\">Quantum Circuits </font>\n",
    "\n",
    "\n",
    "\n",
    "> ### Quantum circuits are the vehicle to implement quantum algorithms\n",
    "- It's critical to be exposed to how they are built and function. \n",
    "- The following discussion *isn't meant to be exhaustive* but **only to provide a flavor** for the domain through the experience of exploration.\n",
    "\n",
    "> The below information **supports the presenter led discussion** about the important concept of **Quantum Circuits**. The pedagogical bent is toward catering to the software engineer archtype, so much of the work will focus on the conceptual side and developing an intuition to the various gate rotations.\n",
    "\n",
    "> **NOTE:** The details, nuances, and key concepts are left to that discussion.\n",
    "\n",
    "\n"
   ]
  },
  {
   "cell_type": "markdown",
   "metadata": {},
   "source": [
    "## <font color=\"red\">Exercise</font> : Using the QCEngine to explore a basic quantum circuit \n",
    "\n",
    "- QCEngine: https://oreilly-qc.github.io\n",
    "- Docs: https://oreilly-qc.github.io/docs/build/\n",
    "- Book: https://www.amazon.com/Programming-Quantum-Computers-Essential-Algorithms/dp/1492039683\n",
    "\n",
    "\n",
    "## Adder / Decrementer\n",
    "- Explore the process of **increment** and **decrement** of **integers in superposition**.\n",
    "- Cut-n-paste the below code into the QCEngine and tinker with altering the code to explore the behavior of the resultant circuit.\n",
    "\n",
    "![q-circuit-prepare](img/q-circuit-prepare.png \"q-circuit-prepare\")\n",
    "![q-circuit-adder](img/q-circuit-adder.png \"q-circuit-adder\")\n",
    "![q-circuit-adder-decrementer](img/q-circuit-adder-decrementer.png \"q-circuit-adder-decrementer\")"
   ]
  },
  {
   "cell_type": "raw",
   "metadata": {},
   "source": [
    "// Example of increment and decrement of integers in superposition.\n",
    "\n",
    "// Colorize Phase Shifts \n",
    "qc_options.color_by_phase=true\n",
    "\n",
    "var num_qubits = 4;\n",
    "qc.reset(num_qubits);\n",
    "var a = qint.new(num_qubits, 'a');\n",
    "\n",
    "// prepare\n",
    "qc.label('prepare')\n",
    "a.write(1);\n",
    "a.hadamard(0x4);\n",
    "a.phase(45, 0x4);\n",
    "qc.nop();\n",
    "qc.label('')\n",
    "\n",
    "\n",
    "// Uncomment this to temporarily measure the\n",
    "// output state of the \"Prepare\" stage\n",
    "// Remember - this stage incorporates randomness\n",
    "a.read();\n",
    "\n",
    "qc.label('')\n",
    "qc.nop();\n",
    "qc.label('increment')\n",
    "\n",
    "// Increment Function \n",
    "// - tinker w/the value and watch the circuit change\n",
    "a.add(1);\n",
    "\n",
    "qc.label('')\n",
    "\n",
    "\n",
    "// Uncomment this to temporarily measure the\n",
    "// output state of the \"Increment\" stage\n",
    "a.read();\n",
    "\n",
    "\n",
    "qc.label('')\n",
    "qc.nop();\n",
    "qc.label('decrement')\n",
    "\n",
    "// Decrement Function \n",
    "// - tinker w/the value and watch the circuit change\n",
    "a.subtract(1);\n",
    "\n",
    "qc.label('')\n",
    "\n",
    "\n",
    "// Uncomment this to temporarily measure the\n",
    "// output state of the \"Decrement\" stage\n",
    "a.read();\n"
   ]
  },
  {
   "cell_type": "markdown",
   "metadata": {},
   "source": [
    "### Adder / Decrementer\n",
    "- Explore the process of **increment** and **decrement** of **integers in superposition**.\n",
    "- Cut-n-paste the below code into the QCEngine and tinker with altering the code to explore the behavior of the resultant \n",
    "\n",
    "#### Prepare results in either Binary ONE or FIVE\n",
    "![AddDec_Prep-1](img/AddDec_Prep-1.png \"AddDec_Prep-1\")\n",
    "![AddDec_Prep-5](img/AddDec_Prep-5.png \"AddDec_Prep-5\")\n",
    "![q-circuit-adder-decrementer](img/q-circuit-adder-decrementer.png \"q-circuit-adder-decrementer\")"
   ]
  },
  {
   "cell_type": "code",
   "execution_count": 26,
   "metadata": {
    "scrolled": false
   },
   "outputs": [
    {
     "data": {
      "text/html": [
       "\n",
       "        <iframe\n",
       "            width=\"900\"\n",
       "            height=\"600\"\n",
       "            src=\"https://oreilly-qc.github.io?p=5-1\"\n",
       "            frameborder=\"0\"\n",
       "            allowfullscreen\n",
       "        ></iframe>\n",
       "        "
      ],
      "text/plain": [
       "<IPython.lib.display.IFrame at 0x131523ee0>"
      ]
     },
     "execution_count": 26,
     "metadata": {},
     "output_type": "execute_result"
    }
   ],
   "source": [
    "# QCEngine (Quantum Simulator)\n",
    "from IPython.display import IFrame\n",
    "IFrame(src='https://oreilly-qc.github.io?p=5-1', width=900, height=600)"
   ]
  },
  {
   "cell_type": "markdown",
   "metadata": {},
   "source": [
    "## <font color=\"red\">Exercise</font> : Using the <font color=\"blue\">QUIRK</font> to explore a basic quantum circuit : <font color=\"blue\">Increment</font>\n",
    "- Experiment with the way **QUIRK** implements the **increment** circuit by implementing the above **QCEngine** circuit for sake of gaining intuition.\n",
    "\n",
    "#### Prepare results in either Binary ONE or FIVE\n",
    "![AddDec_Prep-1](img/AddDec_Prep-1.png \"AddDec_Prep-1\")\n",
    "![AddDec_Prep-5](img/AddDec_Prep-5.png \"AddDec_Prep-5\")\n",
    "![q-circuit-adder-decrementer](img/q-circuit-adder-decrementer.png \"q-circuit-adder-decrementer\")"
   ]
  },
  {
   "cell_type": "markdown",
   "metadata": {},
   "source": [
    "### Start with Preparation = 5"
   ]
  },
  {
   "cell_type": "markdown",
   "metadata": {},
   "source": [
    "Quirk URL  \n",
    "\n",
    "```\n",
    "https://algassert.com/quirk#circuit={%22cols%22:[[1,1,%22H%22],[1,1,{%22id%22:%22Rzft%22,%22arg%22:%22pi/4%22}],[%22Chance%22,%22Chance%22,%22Chance%22,%22Chance%22],[%22%E2%80%A6%22],[%22%E2%80%A2%22,%22%E2%80%A2%22,%22%E2%80%A2%22,%22X%22],[%22%E2%80%A2%22,%22%E2%80%A2%22,%22X%22],[%22%E2%80%A2%22,%22X%22],[%22X%22],[%22%E2%80%A6%22]],%22init%22:[1,0,%22-%22]}\n",
    "```"
   ]
  },
  {
   "cell_type": "code",
   "execution_count": 28,
   "metadata": {},
   "outputs": [
    {
     "data": {
      "text/html": [
       "\n",
       "        <iframe\n",
       "            width=\"900\"\n",
       "            height=\"600\"\n",
       "            src=\"https://algassert.com/quirk#circuit={%22cols%22:[[1,1,%22H%22],[1,1,{%22id%22:%22Rzft%22,%22arg%22:%22pi/4%22}],[%22Chance%22,%22Chance%22,%22Chance%22,%22Chance%22],[%22%E2%80%A6%22],[%22%E2%80%A2%22,%22%E2%80%A2%22,%22%E2%80%A2%22,%22X%22],[%22%E2%80%A2%22,%22%E2%80%A2%22,%22X%22],[%22%E2%80%A2%22,%22X%22],[%22X%22],[%22%E2%80%A6%22]],%22init%22:[1,0,%22-%22]}\"\n",
       "            frameborder=\"0\"\n",
       "            allowfullscreen\n",
       "        ></iframe>\n",
       "        "
      ],
      "text/plain": [
       "<IPython.lib.display.IFrame at 0x1310bdd60>"
      ]
     },
     "execution_count": 28,
     "metadata": {},
     "output_type": "execute_result"
    }
   ],
   "source": [
    "# QUIRK (Quantum Circuit Simulator) of Superposition R(z) Circuit \n",
    "from IPython.display import IFrame\n",
    "\n",
    "IFrame(src='https://algassert.com/quirk#circuit={%22cols%22:[[1,1,%22H%22],[1,1,{%22id%22:%22Rzft%22,%22arg%22:%22pi/4%22}],[%22Chance%22,%22Chance%22,%22Chance%22,%22Chance%22],[%22%E2%80%A6%22],[%22%E2%80%A2%22,%22%E2%80%A2%22,%22%E2%80%A2%22,%22X%22],[%22%E2%80%A2%22,%22%E2%80%A2%22,%22X%22],[%22%E2%80%A2%22,%22X%22],[%22X%22],[%22%E2%80%A6%22]],%22init%22:[1,0,%22-%22]}', width=900, height=600)"
   ]
  },
  {
   "cell_type": "markdown",
   "metadata": {},
   "source": [
    "## <font color=\"red\">Exercise</font> : Using the <font color=\"blue\">QUIRK</font> to explore a basic quantum circuit : <font color=\"blue\">Decrement</font>\n",
    "- Experiment with the way **Qiskit** implements the **decrement** circuit by implementing the above **QCEngine** circuit for sake of gaining intuition.\n",
    "\n",
    "#### Prepare results in either Binary ONE or FIVE\n",
    "![AddDec_Prep-1](img/AddDec_Prep-1.png \"AddDec_Prep-1\")\n",
    "![AddDec_Prep-5](img/AddDec_Prep-5.png \"AddDec_Prep-5\")\n",
    "![q-circuit-adder-decrementer](img/q-circuit-adder-decrementer.png \"q-circuit-adder-decrementer\")"
   ]
  },
  {
   "cell_type": "markdown",
   "metadata": {},
   "source": [
    "### Start with Preparation = 5"
   ]
  },
  {
   "cell_type": "markdown",
   "metadata": {},
   "source": [
    "Quirk URL \n",
    "\n",
    "```\n",
    "https://algassert.com/quirk#circuit={%22cols%22:[[1,1,%22H%22],[1,1,{%22id%22:%22Rzft%22,%22arg%22:%22pi/4%22}],[%22Chance%22,%22Chance%22,%22Chance%22,%22Chance%22],[%22%E2%80%A6%22],[%22X%22],[%22%E2%80%A2%22,%22X%22],[%22%E2%80%A2%22,%22%E2%80%A2%22,%22X%22],[%22%E2%80%A2%22,%22%E2%80%A2%22,%22%E2%80%A2%22,%22X%22],[%22%E2%80%A6%22]],%22init%22:[1,0,%22-%22]}\n",
    "```"
   ]
  },
  {
   "cell_type": "code",
   "execution_count": 30,
   "metadata": {},
   "outputs": [
    {
     "data": {
      "text/html": [
       "\n",
       "        <iframe\n",
       "            width=\"900\"\n",
       "            height=\"600\"\n",
       "            src=\"https://algassert.com/quirk#circuit={%22cols%22:[[1,1,%22H%22],[1,1,{%22id%22:%22Rzft%22,%22arg%22:%22pi/4%22}],[%22Chance%22,%22Chance%22,%22Chance%22,%22Chance%22],[%22%E2%80%A6%22],[%22X%22],[%22%E2%80%A2%22,%22X%22],[%22%E2%80%A2%22,%22%E2%80%A2%22,%22X%22],[%22%E2%80%A2%22,%22%E2%80%A2%22,%22%E2%80%A2%22,%22X%22],[%22%E2%80%A6%22]],%22init%22:[1,0,%22-%22]}\"\n",
       "            frameborder=\"0\"\n",
       "            allowfullscreen\n",
       "        ></iframe>\n",
       "        "
      ],
      "text/plain": [
       "<IPython.lib.display.IFrame at 0x131634910>"
      ]
     },
     "execution_count": 30,
     "metadata": {},
     "output_type": "execute_result"
    }
   ],
   "source": [
    "# QUIRK (Quantum Circuit Simulator) of Superposition R(z) Circuit \n",
    "from IPython.display import IFrame\n",
    "\n",
    "IFrame(src='https://algassert.com/quirk#circuit={%22cols%22:[[1,1,%22H%22],[1,1,{%22id%22:%22Rzft%22,%22arg%22:%22pi/4%22}],[%22Chance%22,%22Chance%22,%22Chance%22,%22Chance%22],[%22%E2%80%A6%22],[%22X%22],[%22%E2%80%A2%22,%22X%22],[%22%E2%80%A2%22,%22%E2%80%A2%22,%22X%22],[%22%E2%80%A2%22,%22%E2%80%A2%22,%22%E2%80%A2%22,%22X%22],[%22%E2%80%A6%22]],%22init%22:[1,0,%22-%22]}', width=900, height=600)"
   ]
  },
  {
   "cell_type": "markdown",
   "metadata": {},
   "source": [
    "## <font color=\"red\">Exercise</font> : Using the <font color=\"blue\">Qiskit</font> to explore a basic quantum circuit \n",
    "- Experiment with the way **Qiskit** implements the **increment** and **decrement** circuits by implementing the above **QCEngine** circuits for sake of gaining intuition.\n",
    "\n",
    "\n",
    "\n",
    "## Adder / Decrementer\n",
    "- **NOTE:** - always execute the **entire segment of code** when making any changes to avoid **run polution**.\n",
    "\n",
    "![q-circuit-prepare](img/q-circuit-prepare.png \"q-circuit-prepare\")\n",
    "![q-circuit-adder](img/q-circuit-adder.png \"q-circuit-adder\")\n",
    "![q-circuit-adder-decrementer](img/q-circuit-adder-decrementer.png \"q-circuit-adder-decrementer\")"
   ]
  },
  {
   "cell_type": "markdown",
   "metadata": {},
   "source": [
    "#### <font color=\"red\">NOTE</font>: Disregard the complexity of these helper functions - they can safely be ignored, just run them."
   ]
  },
  {
   "cell_type": "code",
   "execution_count": 31,
   "metadata": {},
   "outputs": [],
   "source": [
    "###########################\n",
    "## Some utility functions\n",
    "##########################\n",
    "\n",
    "\n",
    "def add_int(qdest, rhs):\n",
    "    reverse_to_subtract = False\n",
    "    if rhs == 0:\n",
    "        return\n",
    "    elif rhs < 0:\n",
    "        rhs = -rhs\n",
    "        reverse_to_subtract = True\n",
    "    ops = []\n",
    "    add_val = int(rhs)\n",
    "    condition_mask = (1 << len(qdest)) - 1\n",
    "\n",
    "    add_val_mask = 1\n",
    "    while add_val_mask <= add_val:\n",
    "        cmask = condition_mask & ~(add_val_mask - 1)\n",
    "        if add_val_mask & add_val:\n",
    "            add_shift_mask = 1 << (len(qdest) - 1)\n",
    "            while add_shift_mask >= add_val_mask:\n",
    "                cmask &= ~add_shift_mask\n",
    "                ops.append((add_shift_mask, cmask))\n",
    "                add_shift_mask >>= 1\n",
    "        condition_mask &= ~add_val_mask\n",
    "        add_val_mask <<= 1\n",
    "    if reverse_to_subtract:\n",
    "        ops.reverse()\n",
    "    for inst in ops:\n",
    "        op_qubits = []\n",
    "        mask = 1\n",
    "        for i in range(len(qdest)):\n",
    "            if inst[1] & (1 << i):\n",
    "                op_qubits.append(qdest[i])\n",
    "        for i in range(len(qdest)):\n",
    "            if inst[0] & (1 << i):\n",
    "                op_qubits.append(qdest[i])\n",
    "        multi_cx(op_qubits)\n",
    "\n",
    "        \n",
    "def multi_cz(qubits):\n",
    "    ## This will perform a CCCCCZ on as many qubits as we want,\n",
    "    ## as long as we have enough scratch qubits\n",
    "    multi_cx(qubits, do_cz=True)\n",
    "\n",
    "    \n",
    "def multi_cx(qubits, do_cz=False):\n",
    "    ## This will perform a CCCCCX with as many conditions as we want,\n",
    "    ## as long as we have enough scratch qubits\n",
    "    ## The last qubit in the list is the target.\n",
    "    target = qubits[-1]\n",
    "    conds = qubits[:-1]\n",
    "    scratch_index = 0\n",
    "    ops = []\n",
    "    while len(conds) > 2:\n",
    "        new_conds = []\n",
    "        for i in range(len(conds)//2):\n",
    "            ops.append((conds[i * 2], conds[i * 2 + 1], scratch[scratch_index]))\n",
    "            new_conds.append(scratch[scratch_index])\n",
    "            scratch_index += 1\n",
    "        if len(conds) & 1:\n",
    "            new_conds.append(conds[-1])\n",
    "        conds = new_conds\n",
    "    for op in ops:\n",
    "        qc.ccx(op[0], op[1], op[2])\n",
    "    if do_cz:\n",
    "        qc.h(target)\n",
    "    if len(conds) == 0:\n",
    "        qc.x(target)\n",
    "    elif len(conds) == 1:\n",
    "        qc.cx(conds[0], target)\n",
    "    else:\n",
    "        qc.ccx(conds[0], conds[1], target)\n",
    "    if do_cz:\n",
    "        qc.h(target)\n",
    "    ops.reverse()\n",
    "    for op in ops:\n",
    "        qc.ccx(op[0], op[1], op[2])"
   ]
  },
  {
   "cell_type": "markdown",
   "metadata": {},
   "source": [
    "### Setup the Program\n",
    "- using the operations from Toffoli gates (thus the different look)\n",
    "- 4 Q_Regusters = 16 numbers : Binary \"1111\"\n",
    "- Effectively: Create a random number, then increment and decrement it by the amount specified in the MAIN program."
   ]
  },
  {
   "cell_type": "code",
   "execution_count": 32,
   "metadata": {},
   "outputs": [],
   "source": [
    "from qiskit import QuantumCircuit, QuantumRegister, ClassicalRegister, execute, Aer, IBMQ, BasicAer\n",
    "import math\n",
    "from Our_Qiskit_Functions import *\n",
    "import numpy as np\n",
    "\n",
    "## Uncomment the next line to see diagrams when running in a notebook\n",
    "%matplotlib inline\n",
    "\n",
    "## Example 5-1: Increment and Decrement\n",
    "\n",
    "## Note that this looks different from the gates in the book, because\n",
    "## they are built using the operations from Toffoli gates\n",
    "\n",
    "# Set up the program (4 quantum registers and a scratch quantum register)\n",
    "# Can handle 16 numbers : Binary \"1111\"\n",
    "\n",
    "# Setup Quantum Registers\n",
    "a = QuantumRegister(4, name='a')\n",
    "scratch = QuantumRegister(1, name='scratch')\n",
    "\n",
    "# Setup Classical Registers\n",
    "output_0 = ClassicalRegister(1, name='output_0')\n",
    "output_1 = ClassicalRegister(1, name='output_1')\n",
    "output_2 = ClassicalRegister(1, name='output_2')\n",
    "output_3 = ClassicalRegister(1, name='output_3')\n",
    "\n",
    "# Set up Quantum Circuit\n",
    "qc = QuantumCircuit(a, scratch, output_0, output_1, output_2, output_3)\n",
    "   "
   ]
  },
  {
   "cell_type": "markdown",
   "metadata": {},
   "source": [
    "#### <font color=\"red\">NOTE</font>: This is the only code segment you change\n",
    "- Tinker with the values to increment and decrement, then watch the circuit's behavior.\n",
    "- <font color=\"blue\">Increment</font> : **add_int**(**<font color=\"red\">+</font>**<font color=\"blue\">X</font>)\n",
    "- <font color=\"blue\">Decrement</font> : **add_int**(**<font color=\"red\" size=\"4\">-</font>**<font color=\"blue\">X</font>)"
   ]
  },
  {
   "cell_type": "code",
   "execution_count": 33,
   "metadata": {},
   "outputs": [],
   "source": [
    "def main():\n",
    "    \n",
    "    ## Prepare - Create a Random Number (Either ONE or FIVE) due to the \"Prepare\" Circuit.\n",
    "    qc.x(a[0])   # NOT Qubit ZERO a[0] to initialize as ONE\n",
    "    qc.h(a[2])   # Superposition Qubit THREE (position a[2]) so 50/50 % chance (Random)\n",
    "    qc.rz(math.radians(45), a[2])   # Execute a 45 Degree Phase shift on qubit THREE (position a[2]) \n",
    "    qc.barrier()  \n",
    "    \n",
    "    ## Increment Function - increment random number by specified amount\n",
    "    ## - tinker w/the value and watch the circuit change\n",
    "    add_int(a, 1)\n",
    "    qc.barrier()\n",
    "    \n",
    "    ## Decrement Function (notice the \"-1\")  - decrement random number by specified amount\n",
    "    ## - tinker w/the value and watch the circuit change    \n",
    "    # add_int(a, -1)\n",
    "    "
   ]
  },
  {
   "cell_type": "markdown",
   "metadata": {},
   "source": [
    "### Execute the <font color=\"red\">MAIN</font>: function defined above\n",
    "\n",
    "- **Initialize** (a <font color=\"red\">random</font> value: either Binary **ONE** or **FIVE**)\n",
    "\n",
    "![AddDec_Prep-1](img/AddDec_Prep-1.png \"AddDec_Prep-1\")\n",
    "![AddDec_Prep-5](img/AddDec_Prep-5.png \"AddDec_Prep-5\")\n",
    "\n",
    "\n",
    "- **Increment** (the value specified, if executed)\n",
    "- **Decrement** (the value specified, if executed)\n",
    "\n"
   ]
  },
  {
   "cell_type": "code",
   "execution_count": 34,
   "metadata": {},
   "outputs": [],
   "source": [
    "# This executes the main function\n",
    "\n",
    "main()"
   ]
  },
  {
   "cell_type": "markdown",
   "metadata": {},
   "source": [
    "### Measure the Circuits so they can be inspected"
   ]
  },
  {
   "cell_type": "code",
   "execution_count": 35,
   "metadata": {},
   "outputs": [
    {
     "data": {
      "text/plain": [
       "<qiskit.circuit.instructionset.InstructionSet at 0x1316cf4f0>"
      ]
     },
     "execution_count": 35,
     "metadata": {},
     "output_type": "execute_result"
    }
   ],
   "source": [
    "# Measure the Qubits from quantum register 'a' into classical registers (0-3)\n",
    "qc.measure(a[0], output_0)\n",
    "qc.measure(a[1], output_1)\n",
    "qc.measure(a[2], output_2)\n",
    "qc.measure(a[3], output_3)"
   ]
  },
  {
   "cell_type": "markdown",
   "metadata": {},
   "source": [
    "### Execute the backend and get results"
   ]
  },
  {
   "cell_type": "code",
   "execution_count": 36,
   "metadata": {},
   "outputs": [],
   "source": [
    "## That's the program. Everything below runs and draws it.\n",
    "\n",
    "backend = BasicAer.get_backend('statevector_simulator')\n",
    "job = execute(qc, backend, memory=True)\n",
    "result = job.result()"
   ]
  },
  {
   "cell_type": "markdown",
   "metadata": {},
   "source": [
    "### Get statevector, print results and circuit\n",
    "- If the Random variable was a ONE, the result will be a TWO (if only increment was executed)\n",
    "- If the Random variable was a FIVE, the result will be a SIX (if only increment was executed)\n",
    "\n",
    "### Reminder: 8-bit Binary Table\n",
    "<BR>\n",
    "    \n",
    "![binary-table_0-15-NEW](img/binary-table_0-15-NEW.png \"binary-table_0-15-NEW\")"
   ]
  },
  {
   "cell_type": "code",
   "execution_count": 37,
   "metadata": {},
   "outputs": [
    {
     "name": "stdout",
     "output_type": "stream",
     "text": [
      "\n",
      "Ending Ket Value and Amplitudes: \n",
      "|6> (0.707+0.707j)\n",
      "\n",
      "Binary Table Placement Counter::: 1 2 4 8\n",
      "Classical Register Measurements:  0 1 1 0\n"
     ]
    },
    {
     "data": {
      "image/png": "[encoded data removed]",
      "text/plain": [
       "<Figure size 1086.01x565.88 with 1 Axes>"
      ]
     },
     "execution_count": 37,
     "metadata": {},
     "output_type": "execute_result"
    }
   ],
   "source": [
    "# Get the outputstate from the output vector\n",
    "\n",
    "outputstate = result.get_statevector(qc, decimals=3)\n",
    "\n",
    "\n",
    "# Print out the Ending Ket and it's Amplitude\n",
    "\n",
    "print(\"\\nEnding Ket Value and Amplitudes: \")\n",
    "for i,amp in enumerate(outputstate):\n",
    "    if abs(amp) > 0.000001:\n",
    "        print('|{}> {}'.format(i, amp))\n",
    "        \n",
    "        \n",
    "# Fetch the counts and print out the measurements in order (l->R)        \n",
    "\n",
    "counts = result.get_counts(qc)\n",
    "print(\"\\nBinary Table Placement Counter::: 1 2 4 8\")\n",
    "\n",
    "for k in counts:\n",
    "    binary_number = ''.join(reversed(k))\n",
    "    print(\"Classical Register Measurements: \", binary_number)        \n",
    "        \n",
    "qc.draw(output='mpl')        # draw the circuit"
   ]
  },
  {
   "cell_type": "markdown",
   "metadata": {},
   "source": [
    "#### **<font color=\"blue\">Intuition Builder</font>**:\n",
    "\n",
    "- **<font color=\"red\">Q</font>:** Why is this ADD algorithm different than the ones constructed earlier?\n",
    "\n",
    "- **<font color=\"red\">A</font>:** Because it's the stock Qiskit ADD function - implementations vary!"
   ]
  },
  {
   "cell_type": "markdown",
   "metadata": {},
   "source": [
    "### Examine the Raw Outputstate\n",
    "- This builds intuition in understanding how the outputstate gets populated.\n",
    "- Note: There are 16 pairs below."
   ]
  },
  {
   "cell_type": "code",
   "execution_count": 38,
   "metadata": {},
   "outputs": [
    {
     "data": {
      "text/plain": [
       "array([0.   +0.j   , 0.   +0.j   , 0.   +0.j   , 0.   +0.j   ,\n",
       "       0.   +0.j   , 0.   +0.j   , 0.707+0.707j, 0.   +0.j   ,\n",
       "       0.   +0.j   , 0.   +0.j   , 0.   +0.j   , 0.   +0.j   ,\n",
       "       0.   +0.j   , 0.   +0.j   , 0.   +0.j   , 0.   +0.j   ,\n",
       "       0.   +0.j   , 0.   +0.j   , 0.   +0.j   , 0.   +0.j   ,\n",
       "       0.   +0.j   , 0.   +0.j   , 0.   +0.j   , 0.   +0.j   ,\n",
       "       0.   +0.j   , 0.   +0.j   , 0.   +0.j   , 0.   +0.j   ,\n",
       "       0.   +0.j   , 0.   +0.j   , 0.   +0.j   , 0.   +0.j   ])"
      ]
     },
     "execution_count": 38,
     "metadata": {},
     "output_type": "execute_result"
    }
   ],
   "source": [
    "outputstate"
   ]
  },
  {
   "cell_type": "code",
   "execution_count": null,
   "metadata": {},
   "outputs": [],
   "source": []
  },
  {
   "cell_type": "markdown",
   "metadata": {},
   "source": [
    "# <font color=\"red\">Graded Exercises</font>  for use <font color=\"blue\">with structured courses.</font>"
   ]
  },
  {
   "cell_type": "markdown",
   "metadata": {},
   "source": [
    "## Quantum Gates to Quantum Circuits \n",
    "\n",
    "#### <font color=\"blue\">*This work will take some time, so block off enough time to adequately cover it*</font>. \n",
    "\n",
    "- Go through the **entire** JNB and complete each of the exercises, including supplementary Video's - hand in completed <font color=\"red\">**PDF**</font> from this JNB once finished.\n",
    "\n",
    "\n",
    "- Step through the code for **each** of the above exercises, make sure you can (1) execute it, and (2) know what it does.\n",
    "\n",
    "\n",
    "- <font color=\"blue\">Complete Challenge Exercises below.</font> **(turn in the JNB)**\n"
   ]
  },
  {
   "cell_type": "markdown",
   "metadata": {},
   "source": [
    "## QUIRKY <font color=\"red\">Multi-Qubit Problems</font>\n",
    "- To help build intuition about multiple qubit gates, solve the following puzzles. \n",
    "\n",
    "\n",
    "**<font color=\"red\"> IMPORTANT</font>** - Copy the URL String into a new tab and do you work there, then when finished, copy the completed URL string to the proper cell below for evaluation and grading.\n",
    "\n",
    "- **Each puzzle starts with a hidden gate** that alters the multi-Qubit state (magnitudes or phases) - your job is to do the following:\n",
    "\n",
    "\n",
    "### Multi-Qubit - Turn the Qubits <font color=\"red\">OFF</font>"
   ]
  },
  {
   "cell_type": "code",
   "execution_count": 39,
   "metadata": {
    "scrolled": false
   },
   "outputs": [
    {
     "data": {
      "text/html": [
       "\n",
       "        <iframe\n",
       "            width=\"900\"\n",
       "            height=\"600\"\n",
       "            src=\"https://algassert.com/quirk#circuit={%22cols%22:[[%22~rq1n%22]],%22gates%22:[{%22id%22:%22~rq1n%22,%22name%22:%22Problem-#1%22,%22circuit%22:{%22cols%22:[[%22H%22],[%22%E2%80%A2%22,%22X%22]]}}]}\"\n",
       "            frameborder=\"0\"\n",
       "            allowfullscreen\n",
       "        ></iframe>\n",
       "        "
      ],
      "text/plain": [
       "<IPython.lib.display.IFrame at 0x131220e50>"
      ]
     },
     "execution_count": 39,
     "metadata": {},
     "output_type": "execute_result"
    }
   ],
   "source": [
    "# QUIRK (Quantum Circuit Simulator)\n",
    "from IPython.display import IFrame\n",
    "IFrame(src='https://algassert.com/quirk#circuit={%22cols%22:[[%22~rq1n%22]],%22gates%22:[{%22id%22:%22~rq1n%22,%22name%22:%22Problem-#1%22,%22circuit%22:{%22cols%22:[[%22H%22],[%22%E2%80%A2%22,%22X%22]]}}]}', width=900, height=600)"
   ]
  },
  {
   "cell_type": "markdown",
   "metadata": {},
   "source": [
    "### Copy your completed QUIRK URL string in the cell below.\n",
    "\n",
    "It'll be of the following form: \n",
    "\n",
    "https://algassert.com/quirk#circuit={%22cols%22:[[%22~rq1n%22]],%22gates%22:[{%22id%22:%22~rq1n%22,%22name%22:%22Problem-#1%22,%22circuit%22:{%22cols%22:[[%22H%22],[%22%E2%80%A2%22,%22X%22]]}}]}\n",
    "\n",
    "\n",
    "\n",
    "#### Your COMPLETED QUIRK URL String Goes under here:\n",
    "\n",
    "\n",
    "https://algassert.com/quirk#circuit={%22cols%22:[[%22~rq1n%22],[%22%E2%80%A2%22,%22X%22],[%22H%22]],%22gates%22:[{%22id%22:%22~rq1n%22,%22name%22:%22Problem-#1%22,%22circuit%22:{%22cols%22:[[%22H%22],[%22%E2%80%A2%22,%22X%22]]}}]}"
   ]
  },
  {
   "cell_type": "code",
   "execution_count": 1,
   "metadata": {},
   "outputs": [
    {
     "data": {
      "text/html": [
       "\n",
       "        <iframe\n",
       "            width=\"900\"\n",
       "            height=\"600\"\n",
       "            src=\"https://algassert.com/quirk#circuit={%22cols%22:[[%22~rq1n%22],[%22%E2%80%A2%22,%22X%22],[%22H%22]],%22gates%22:[{%22id%22:%22~rq1n%22,%22name%22:%22Problem-#1%22,%22circuit%22:{%22cols%22:[[%22H%22],[%22%E2%80%A2%22,%22X%22]]}}]}\"\n",
       "            frameborder=\"0\"\n",
       "            allowfullscreen\n",
       "        ></iframe>\n",
       "        "
      ],
      "text/plain": [
       "<IPython.lib.display.IFrame at 0x1fa60ea3080>"
      ]
     },
     "execution_count": 1,
     "metadata": {},
     "output_type": "execute_result"
    }
   ],
   "source": [
    "solution=\"https://algassert.com/quirk#circuit={%22cols%22:[[%22~rq1n%22],[%22%E2%80%A2%22,%22X%22],[%22H%22]],%22gates%22:[{%22id%22:%22~rq1n%22,%22name%22:%22Problem-#1%22,%22circuit%22:{%22cols%22:[[%22H%22],[%22%E2%80%A2%22,%22X%22]]}}]}\"\n",
    "from IPython.display import IFrame\n",
    "IFrame(src=solution, width=900, height=600)"
   ]
  },
  {
   "cell_type": "code",
   "execution_count": 41,
   "metadata": {},
   "outputs": [
    {
     "data": {
      "text/html": [
       "\n",
       "        <iframe\n",
       "            width=\"900\"\n",
       "            height=\"600\"\n",
       "            src=\"https://algassert.com/quirk#circuit={%22cols%22:[[%22~bhpb%22]],%22gates%22:[{%22id%22:%22~bhpb%22,%22name%22:%22Problem-#2%22,%22circuit%22:{%22cols%22:[[%22H%22,%22H%22,%22H%22],[%22%E2%80%A2%22,%22%E2%80%A2%22,%22X%22]]}}]}\"\n",
       "            frameborder=\"0\"\n",
       "            allowfullscreen\n",
       "        ></iframe>\n",
       "        "
      ],
      "text/plain": [
       "<IPython.lib.display.IFrame at 0x13177beb0>"
      ]
     },
     "execution_count": 41,
     "metadata": {},
     "output_type": "execute_result"
    }
   ],
   "source": [
    "# QUIRK (Quantum Circuit Simulator)\n",
    "from IPython.display import IFrame\n",
    "IFrame(src='https://algassert.com/quirk#circuit={%22cols%22:[[%22~bhpb%22]],%22gates%22:[{%22id%22:%22~bhpb%22,%22name%22:%22Problem-#2%22,%22circuit%22:{%22cols%22:[[%22H%22,%22H%22,%22H%22],[%22%E2%80%A2%22,%22%E2%80%A2%22,%22X%22]]}}]}', width=900, height=600)"
   ]
  },
  {
   "cell_type": "markdown",
   "metadata": {},
   "source": [
    "### Copy your completed QUIRK URL string in the cell below.\n",
    "\n",
    "It'll be of the following form: \n",
    "\n",
    "https://algassert.com/quirk#circuit={%22cols%22:[[%22~bhpb%22]],%22gates%22:[{%22id%22:%22~bhpb%22,%22name%22:%22Problem-#2%22,%22circuit%22:{%22cols%22:[[%22H%22,%22H%22,%22H%22],[%22%E2%80%A2%22,%22%E2%80%A2%22,%22X%22]]}}]}\n",
    "\n",
    "\n",
    "\n",
    "#### Your COMPLETED QUIRK URL String Goes under here:\n",
    "\n",
    "https://algassert.com/quirk#circuit={%22cols%22:[[%22~bhpb%22],[%22%E2%80%A2%22,%22%E2%80%A2%22,%22X%22],[%22H%22,%22H%22,%22H%22]],%22gates%22:[{%22id%22:%22~bhpb%22,%22name%22:%22Problem-#2%22,%22circuit%22:{%22cols%22:[[%22H%22,%22H%22,%22H%22],[%22%E2%80%A2%22,%22%E2%80%A2%22,%22X%22]]}}]}"
   ]
  },
  {
   "cell_type": "code",
   "execution_count": 2,
   "metadata": {},
   "outputs": [
    {
     "data": {
      "text/html": [
       "\n",
       "        <iframe\n",
       "            width=\"900\"\n",
       "            height=\"600\"\n",
       "            src=\"https://algassert.com/quirk#circuit={%22cols%22:[[%22~bhpb%22],[%22%E2%80%A2%22,%22%E2%80%A2%22,%22X%22],[%22H%22,%22H%22,%22H%22]],%22gates%22:[{%22id%22:%22~bhpb%22,%22name%22:%22Problem-#2%22,%22circuit%22:{%22cols%22:[[%22H%22,%22H%22,%22H%22],[%22%E2%80%A2%22,%22%E2%80%A2%22,%22X%22]]}}]}\"\n",
       "            frameborder=\"0\"\n",
       "            allowfullscreen\n",
       "        ></iframe>\n",
       "        "
      ],
      "text/plain": [
       "<IPython.lib.display.IFrame at 0x1fa60ea3128>"
      ]
     },
     "execution_count": 2,
     "metadata": {},
     "output_type": "execute_result"
    }
   ],
   "source": [
    "solution=\"https://algassert.com/quirk#circuit={%22cols%22:[[%22~bhpb%22],[%22%E2%80%A2%22,%22%E2%80%A2%22,%22X%22],[%22H%22,%22H%22,%22H%22]],%22gates%22:[{%22id%22:%22~bhpb%22,%22name%22:%22Problem-#2%22,%22circuit%22:{%22cols%22:[[%22H%22,%22H%22,%22H%22],[%22%E2%80%A2%22,%22%E2%80%A2%22,%22X%22]]}}]}\"\n",
    "from IPython.display import IFrame\n",
    "IFrame(src=solution, width=900, height=600)"
   ]
  },
  {
   "cell_type": "markdown",
   "metadata": {},
   "source": [
    "## <font color=\"blue\">Circuit Verse / Qiskit / QUIRK</font> <font color=\"red\">Problem</font>(s)\n",
    "- To help build intuition about digital logic and quantum logic complete the following tasks.\n",
    "- **NOTE**: *This will be a LOT less structured than the last set of exercises*, draw implementation inspiration from them to complete the tasks below.\n",
    "\n",
    "<BR>\n",
    "    \n",
    "   \n",
    "> 0. Code a **Half Adder** in Qiskit according to this tutorial: https://qiskit.org/textbook/ch-states/atoms-computation.html\n",
    "> 0. **Vet its behavior** against the **Circuitverse** example of a **Half Adder**: https://circuitverse.org/users/12956/projects/37909\n",
    "> 0. Create the **SAME Half Adder** in **QUIRK**, vet it's functionality against the **Circuitverse** Half Adder behavior.\n"
   ]
  },
  {
   "cell_type": "markdown",
   "metadata": {},
   "source": [
    "## Qiskit  <font color=\"red\">Half Adder</font>\n",
    "> - Create a **Half Adder** in Qiskit according to this **tutorial**: https://qiskit.org/textbook/ch-states/atoms-computation.html\n",
    "- Only code what is necessary to get the half adder circuit working - be minimalistic."
   ]
  },
  {
   "cell_type": "markdown",
   "metadata": {},
   "source": [
    "### Setup the Program\n",
    "- <font color=\"blue\">This is pretty much stock code (with infrequent exceptions), so it's provided for you.</font>"
   ]
  },
  {
   "cell_type": "code",
   "execution_count": 3,
   "metadata": {},
   "outputs": [],
   "source": [
    "# Import Qiskit, and \n",
    "\n",
    "import numpy as np\n",
    "from qiskit import Aer, QuantumCircuit, QuantumRegister, execute\n",
    "from qiskit.visualization import plot_histogram\n",
    "import cmath\n",
    "import math\n",
    "import matplotlib.pyplot as P\n",
    "import matplotlib.pyplot as plt\n",
    "from qiskit.tools.visualization import plot_bloch_multivector\n",
    "from IPython.display import display, Math, Latex\n",
    "from circle_plot import *\n",
    "from qsphere_plotter import plot_state_qsphere\n",
    "from widgets import minicomposer\n",
    "from may4_challenge_common import return_state, vec_in_braket, statevec\n",
    "\n",
    "    "
   ]
  },
  {
   "cell_type": "markdown",
   "metadata": {},
   "source": [
    "### Code the core of the Half Adder\n",
    "\n",
    "###  <font color=\"red\">This is the part you create from the discussion in the link.</font>"
   ]
  },
  {
   "cell_type": "code",
   "execution_count": 4,
   "metadata": {},
   "outputs": [
    {
     "data": {
      "image/png": "[encoded data removed]",
      "text/plain": [
       "<Figure size 504x360 with 1 Axes>"
      ]
     },
     "execution_count": 4,
     "metadata": {},
     "output_type": "execute_result"
    }
   ],
   "source": [
    "# Simple example from https://qiskit.org/textbook/ch-states/atoms-computation.html#4.-Example:-Creating-an-Adder-Circuit- \n",
    "# Create 8 qubits and measure it\n",
    "n = 8\n",
    "n_q = n\n",
    "n_b = n\n",
    "qc_output = QuantumCircuit(n_q,n_b)\n",
    "\n",
    "for j in range(n):\n",
    "    qc_output.measure(j,j)\n",
    "\n",
    "# qc_output.draw()\n",
    "counts = execute(qc_output,Aer.get_backend('qasm_simulator')).result().get_counts()\n",
    "plot_histogram(counts)"
   ]
  },
  {
   "cell_type": "code",
   "execution_count": 5,
   "metadata": {},
   "outputs": [
    {
     "data": {
      "image/png": "[encoded data removed]",
      "text/plain": [
       "<Figure size 504x360 with 1 Axes>"
      ]
     },
     "execution_count": 5,
     "metadata": {},
     "output_type": "execute_result"
    }
   ],
   "source": [
    "# Simple example from https://qiskit.org/textbook/ch-states/atoms-computation.html#4.-Example:-Creating-an-Adder-Circuit- \n",
    "# Flip the highest qubit, execute and draw the histogram \n",
    "\n",
    "qc_encode = QuantumCircuit(n)\n",
    "qc_encode.x(7)\n",
    "\n",
    "qc_encode.draw()\n",
    "\n",
    "qc = qc_encode + qc_output\n",
    "# qc.draw(output='mpl',justify='none')\n",
    "counts = execute(qc,Aer.get_backend('qasm_simulator')).result().get_counts()\n",
    "plot_histogram(counts)"
   ]
  },
  {
   "cell_type": "code",
   "execution_count": 6,
   "metadata": {},
   "outputs": [
    {
     "data": {
      "text/html": [
       "<pre style=\"word-wrap: normal;white-space: pre;background: #fff0;line-height: 1.1;font-family: &quot;Courier New&quot;,Courier,monospace\">     ┌───┐     ┌─┐   \n",
       "q_0: ┤ X ├──■──┤M├───\n",
       "     └───┘┌─┴─┐└╥┘┌─┐\n",
       "q_1: ─────┤ X ├─╫─┤M├\n",
       "          └───┘ ║ └╥┘\n",
       "c_0: ═══════════╩══╬═\n",
       "                   ║ \n",
       "c_1: ══════════════╩═\n",
       "                     </pre>"
      ],
      "text/plain": [
       "     ┌───┐     ┌─┐   \n",
       "q_0: ┤ X ├──■──┤M├───\n",
       "     └───┘┌─┴─┐└╥┘┌─┐\n",
       "q_1: ─────┤ X ├─╫─┤M├\n",
       "          └───┘ ║ └╥┘\n",
       "c_0: ═══════════╩══╬═\n",
       "                   ║ \n",
       "c_1: ══════════════╩═\n",
       "                     "
      ]
     },
     "execution_count": 6,
     "metadata": {},
     "output_type": "execute_result"
    }
   ],
   "source": [
    "# Simple example from https://qiskit.org/textbook/ch-states/atoms-computation.html#4.-Example:-Creating-an-Adder-Circuit- \n",
    "# Simple CNOT \n",
    "qc = QuantumCircuit(2,2)\n",
    "qc.x(0)\n",
    "qc.cx(0,1)\n",
    "qc.measure(0,0)\n",
    "qc.measure(1,1)\n",
    "qc.draw()"
   ]
  },
  {
   "cell_type": "code",
   "execution_count": 7,
   "metadata": {},
   "outputs": [
    {
     "data": {
      "text/html": [
       "<pre style=\"word-wrap: normal;white-space: pre;background: #fff0;line-height: 1.1;font-family: &quot;Courier New&quot;,Courier,monospace\">     ┌───┐ ░                 ░       \n",
       "q_0: ┤ X ├─░───■─────────■───░───────\n",
       "     ├───┤ ░   │         │   ░       \n",
       "q_1: ┤ X ├─░───┼────■────■───░───────\n",
       "     └───┘ ░ ┌─┴─┐┌─┴─┐  │   ░ ┌─┐   \n",
       "q_2: ──────░─┤ X ├┤ X ├──┼───░─┤M├───\n",
       "           ░ └───┘└───┘┌─┴─┐ ░ └╥┘┌─┐\n",
       "q_3: ──────░───────────┤ X ├─░──╫─┤M├\n",
       "           ░           └───┘ ░  ║ └╥┘\n",
       "c_0: ═══════════════════════════╩══╬═\n",
       "                                   ║ \n",
       "c_1: ══════════════════════════════╩═\n",
       "                                     </pre>"
      ],
      "text/plain": [
       "     ┌───┐ ░                 ░       \n",
       "q_0: ┤ X ├─░───■─────────■───░───────\n",
       "     ├───┤ ░   │         │   ░       \n",
       "q_1: ┤ X ├─░───┼────■────■───░───────\n",
       "     └───┘ ░ ┌─┴─┐┌─┴─┐  │   ░ ┌─┐   \n",
       "q_2: ──────░─┤ X ├┤ X ├──┼───░─┤M├───\n",
       "           ░ └───┘└───┘┌─┴─┐ ░ └╥┘┌─┐\n",
       "q_3: ──────░───────────┤ X ├─░──╫─┤M├\n",
       "           ░           └───┘ ░  ║ └╥┘\n",
       "c_0: ═══════════════════════════╩══╬═\n",
       "                                   ║ \n",
       "c_1: ══════════════════════════════╩═\n",
       "                                     "
      ]
     },
     "execution_count": 7,
     "metadata": {},
     "output_type": "execute_result"
    }
   ],
   "source": [
    "# Half Adder by qiskit \n",
    "qc_ha = QuantumCircuit(4,2)\n",
    "# encode inputs in qubits 0 and 1\n",
    "# Note the initial value is 0, so to get 1 we flip (x) it.\n",
    "qc_ha.x(0) # For a=0, remove the this line. For a=1, leave it.\n",
    "qc_ha.x(1) # For b=0, remove the this line. For b=1, leave it.\n",
    "qc_ha.barrier()\n",
    "# use cnots to write the XOR of the inputs on qubit 2\n",
    "qc_ha.cx(0,2)\n",
    "qc_ha.cx(1,2)\n",
    "# use ccx to write the AND of the inputs on qubit 3\n",
    "qc_ha.ccx(0,1,3)\n",
    "qc_ha.barrier()\n",
    "# extract outputs\n",
    "qc_ha.measure(2,0) # extract XOR value\n",
    "qc_ha.measure(3,1) # extract AND value\n",
    "\n",
    "qc_ha.draw()"
   ]
  },
  {
   "cell_type": "markdown",
   "metadata": {},
   "source": [
    "### Submit the program to the backed, execute and print the state\n",
    "- <font color=\"blue\">This is pretty much stock code so it's provided for you - there might be exceptions this time..</font>\n",
    "- If the code differs from the discussion, feel free to alter it as needed. "
   ]
  },
  {
   "cell_type": "code",
   "execution_count": 8,
   "metadata": {},
   "outputs": [
    {
     "data": {
      "image/png": "[encoded data removed]",
      "text/plain": [
       "<Figure size 504x360 with 1 Axes>"
      ]
     },
     "execution_count": 8,
     "metadata": {},
     "output_type": "execute_result"
    }
   ],
   "source": [
    "# In this example, we are calculating 1+1, because the two input bits in qc_ha are both 1.\n",
    "\n",
    "counts = execute(qc_ha,Aer.get_backend('qasm_simulator')).result().get_counts()\n",
    "plot_histogram(counts)\n"
   ]
  },
  {
   "cell_type": "code",
   "execution_count": null,
   "metadata": {},
   "outputs": [],
   "source": []
  },
  {
   "cell_type": "markdown",
   "metadata": {},
   "source": [
    "## Circuitverse  <font color=\"red\">Half Adder</font>\n",
    "> - **Vet the QISKIT Circuit behavior** against the Circuit Verse example of a Half Adder: https://circuitverse.org/users/12956/projects/37909\n",
    "- Make sure it works as expected, conduct appropriate experiments to be sure."
   ]
  },
  {
   "cell_type": "code",
   "execution_count": null,
   "metadata": {},
   "outputs": [],
   "source": []
  },
  {
   "cell_type": "markdown",
   "metadata": {},
   "source": [
    "## QUIRK  <font color=\"red\">Half Adder</font>\n",
    "> - Create the **SAME Half Adder** in **QUIRK**, vet it's functionality against the **Circuitverse** Half Adder behavior.\n",
    "\n",
    "**<font color=\"red\"> IMPORTANT</font>** - Copy the URL String into a new tab and do you work there, then when finished, copy the completed URL string to the proper cell below for evaluation and grading."
   ]
  },
  {
   "cell_type": "code",
   "execution_count": 61,
   "metadata": {},
   "outputs": [
    {
     "data": {
      "text/html": [
       "\n",
       "        <iframe\n",
       "            width=\"900\"\n",
       "            height=\"600\"\n",
       "            src=\"https://algassert.com/quirk\"\n",
       "            frameborder=\"0\"\n",
       "            allowfullscreen\n",
       "        ></iframe>\n",
       "        "
      ],
      "text/plain": [
       "<IPython.lib.display.IFrame at 0x131bfe040>"
      ]
     },
     "execution_count": 61,
     "metadata": {},
     "output_type": "execute_result"
    }
   ],
   "source": [
    "# QUIRK (Quantum Circuit Simulator)\n",
    "from IPython.display import IFrame\n",
    "IFrame(src='https://algassert.com/quirk', width=900, height=600)"
   ]
  },
  {
   "cell_type": "markdown",
   "metadata": {},
   "source": [
    "### Copy your completed QUIRK URL string in the cell below.\n",
    "\n",
    "It'll be of the following form: \n",
    "\n",
    "https://algassert.com/quirk#circuit={%22cols%22:[[%22~ro10%22]],%22gates%22:[{%22id%22:%22~ro10%22,%22name%22:%22Puzzle-#2%22,%22circuit%22:{%22cols%22:[[%22H%22],[{%22id%22:%22Rzft%22,%22arg%22:%223%20pi%20/%202%22}]]}}]}\n",
    "\n",
    "\n",
    "#### Your COMPLETED QUIRK URL String Goes under here:\n",
    "https://algassert.com/quirk#circuit={%22cols%22:[[%22X%22,%22X%22],[%22%E2%80%A2%22,1,%22X%22],[1,%22%E2%80%A2%22,%22X%22],[%22%E2%80%A2%22,%22%E2%80%A2%22,1,%22X%22]],%22init%22:[0,0]}\n",
    "https://algassert.com/quirk#circuit={%22cols%22:[[%22X%22,%22X%22],[%22%E2%80%A2%22,1,%22X%22],[1,%22%E2%80%A2%22,%22X%22],[%22%E2%80%A2%22,%22%E2%80%A2%22,1,%22X%22]],%22init%22:[1,0]}\n",
    "https://algassert.com/quirk#circuit={%22cols%22:[[%22X%22,%22X%22],[%22%E2%80%A2%22,1,%22X%22],[1,%22%E2%80%A2%22,%22X%22],[%22%E2%80%A2%22,%22%E2%80%A2%22,1,%22X%22]],%22init%22:[0,1]}\n",
    "https://algassert.com/quirk#circuit={%22cols%22:[[%22X%22,%22X%22],[%22%E2%80%A2%22,1,%22X%22],[1,%22%E2%80%A2%22,%22X%22],[%22%E2%80%A2%22,%22%E2%80%A2%22,1,%22X%22]],%22init%22:[1,1]}"
   ]
  },
  {
   "cell_type": "code",
   "execution_count": 9,
   "metadata": {},
   "outputs": [
    {
     "data": {
      "text/html": [
       "\n",
       "        <iframe\n",
       "            width=\"900\"\n",
       "            height=\"600\"\n",
       "            src=\"https://algassert.com/quirk#circuit={%22cols%22:[[%22X%22,%22X%22],[%22%E2%80%A2%22,1,%22X%22],[1,%22%E2%80%A2%22,%22X%22],[%22%E2%80%A2%22,%22%E2%80%A2%22,1,%22X%22]],%22init%22:[0,0]}\"\n",
       "            frameborder=\"0\"\n",
       "            allowfullscreen\n",
       "        ></iframe>\n",
       "        "
      ],
      "text/plain": [
       "<IPython.lib.display.IFrame at 0x1fa60ea3160>"
      ]
     },
     "execution_count": 9,
     "metadata": {},
     "output_type": "execute_result"
    }
   ],
   "source": [
    "solution=\"https://algassert.com/quirk#circuit={%22cols%22:[[%22X%22,%22X%22],[%22%E2%80%A2%22,1,%22X%22],[1,%22%E2%80%A2%22,%22X%22],[%22%E2%80%A2%22,%22%E2%80%A2%22,1,%22X%22]],%22init%22:[0,0]}\"\n",
    "from IPython.display import IFrame\n",
    "IFrame(src=solution, width=900, height=600)"
   ]
  },
  {
   "cell_type": "markdown",
   "metadata": {},
   "source": [
    "![the-end](img/the-end.png \"the-end\")"
   ]
  }
 ],
 "metadata": {
  "kernelspec": {
   "display_name": "qcousins",
   "language": "python",
   "name": "qcousins"
  },
  "language_info": {
   "codemirror_mode": {
    "name": "ipython",
    "version": 3
   },
   "file_extension": ".py",
   "mimetype": "text/x-python",
   "name": "python",
   "nbconvert_exporter": "python",
   "pygments_lexer": "ipython3",
   "version": "3.7.1"
  },
  "toc": {
   "base_numbering": 1,
   "nav_menu": {},
   "number_sections": true,
   "sideBar": true,
   "skip_h1_title": false,
   "title_cell": "Table of Contents",
   "title_sidebar": "Contents",
   "toc_cell": false,
   "toc_position": {
    "height": "calc(100% - 180px)",
    "left": "10px",
    "top": "150px",
    "width": "241.771px"
   },
   "toc_section_display": true,
   "toc_window_display": true
  }
 },
 "nbformat": 4,
 "nbformat_minor": 2
}
