{
 "cells": [
  {
   "cell_type": "markdown",
   "metadata": {},
   "source": [
    "# The Qubit and the Bloch Sphere\n",
    "\n",
    "- #### Hands-on Experiential Learning <font color=\"red\">for the Software Engineer</font>"
   ]
  },
  {
   "cell_type": "markdown",
   "metadata": {},
   "source": [
    "![Qubit - Bloch Sphere](img/qubit-banner-modern.png \"Qubit - Bloch Sphere\")\n",
    "\n",
    "<font color=\"red\">**Notice**</font>: All materials herein were <font color=\"red\">**curated**</font> by **Matthew R. Versaggi (profversaggi@gmail.com)** and are released into the open source to foster growth and welfare of expanding the Quantum Computing domain - the only obligation one incurs when using, copying, distributing or referencing this is to kindly reference the author and send me an email so I know how useful the material is to you.\n",
    "\n",
    "<font color=\"red\">**Notice**</font>: Python Code contributions for the Circle Plots are the work of **David Radcliffe**."
   ]
  },
  {
   "cell_type": "markdown",
   "metadata": {},
   "source": [
    "## Pedagogical Approach: (<font color=\"red\">**Read this first !**</font>)\n",
    "\n",
    "This material is intended to educate **software engineers** in certain aspects of Quantum Computing, therefore its focus will be on conveying the conceptual ideas in a form digestible to them, and supporting it with exercises to reinforce those concepts. \n",
    "\n",
    "Because of that pedagogical approach, **this material won't lead with or heavily leverage the concepts and language indigenous to physics and math**, but only in those terms most easily digestible to the modern software engineer.\n",
    "\n",
    "This Jupyter Notebook is <font color=\"red\">**not intended as a stand alone educational vehicle**</font>  - it's meant to be accompanied by a decicated power point deck that contains the main concepts to be presented by an instructor -  **it is intended as a vehicle for a hands on workshop environment to facilitate learning through a guided experience.**\n",
    "\n",
    "> **Note:-** Because of the above educational approach:\n",
    "1. There is a certain amount of basic Quantum Computing knowledge that is assumed.\n",
    "2. An active internet connection is **always** assumed.\n",
    "3. Online references/links will be provided where appropriate\n",
    "4. References to books will be made where appropriate\n",
    "5. Much of this material is **dense and detailed**, the reader is <font color=\"red\">**cautioned**</font> to be careful and slow to digest the *nuances* of the material."
   ]
  },
  {
   "cell_type": "markdown",
   "metadata": {},
   "source": [
    "## What you will be exposed to - High level: \n",
    "\n",
    "\n",
    "- **Software engineers in the Quantum Computing space** need to **know their way around a Qubit** - that means *developing intuition and proficiencies* around: the structure of a Qubit / Bloch Sphere, the concepts of Amplitudes, Phases, and Magnitudes - importantly the concept of rotations of the point on the sphere of a Qubit / Bloch Sphere. \n",
    "- Given the above, there are a host of technical concepts that need to be **<font color=\"red\">understood experientially</font>**, like the wave function, and interference.\n",
    "- There are also various useful hands-on vehicles for illustrating / learning those concepts - we'll intentionally employ a vendor / framework agnostic approach to focus on the delivery of concept understanding and intuition procurement as the main value-add.\n",
    "\n",
    "> ### High Level Agenda (<font color=\"red\">*major sections*</font>): - a first set of basic skills for the software engineer.\n",
    "0. <font color=\"blue\">*Foundations (*Minimalistic*)*</font> <font color=\"red\">*- one of the most important sections.*</font>\n",
    ">> 0. Classical Bits and Quantum Bits\n",
    ">> 0. Interactive Qubit\n",
    ">> 0. Example of Quantum Parallelism (Multiple Qubits): The QuByte (aka - 8 QuBits)\n",
    ">> 0. Bloch Sphere Definition\n",
    ">> 0. Radians\n",
    ">> 0. The Wave Function\n",
    ">> 0. Interactive Wave Example\n",
    ">> 0. Definitions: Points on the Bloch Sphere\n",
    ">> 0. Definitions: Amplitudes, Phases and Magnitudes\n",
    ">> 0. Amplitudes - Why are they so important?\n",
    ">> 0. Detailed Examination of Amplitudes\n",
    ">> 0. Benefits of Amplitudes and Phases\n",
    ">> 0. Quantum Interference\n",
    ">> 0. Interactive Interference Example\n",
    ">> 0. Qubit / Bloch Sphere Basis Elements\n",
    ">> 0. Drive-by: Complex Numbers\n",
    ">> 0. Drive-by: Complex Numbers have Phases\n",
    ">> 0. Explanation: Circle Notation\n",
    ">> 0. Review of Quantum Parallelism\n",
    "0. <font color=\"blue\">*Phases and the Bloch Sphere*</font> \n",
    ">> 0. <font color=\"red\">Exercise</font> - Quantum Phase : Bloch Sphere Playground\n",
    ">> 0. <font color=\"red\">Exercise</font> - Quantum Phase : Quantum Computer Gate Playground\n",
    ">> 0. <font color=\"red\">Exercise</font> - Quantum Phase : Quirk\n",
    ">> 0. <font color=\"red\">Homework</font> - Quantum Phase : Quirk\n",
    ">> 0. <font color=\"red\">Coding Exercise</font> - Manipulating Quantum Phases: QisKit\n",
    ">> 0. <font color=\"red\">Exercise</font> - Quantum Phase : Recreate the Circuit w/the QCEngine\n",
    ">> 0. <font color=\"red\">Exercise</font> - Quantum Phase : Recreate circuit w/the Bloch Sphere Playground\n",
    ">> 0. <font color=\"red\">Exercise</font> - Quantum Phase : Recreate circuit with QUIRK\n",
    ">> 0. <font color=\"red\">Coding Homework</font> - Quantum Phase : QisKit\n",
    ">> 0. <font color=\"red\">Exercise</font> - Quantum Phase : recreate with QUIRK and the BSP\n",
    "0. <font color=\"blue\">*Magnitudes and the Bloch Sphere*</font> \n",
    ">> 0. <font color=\"red\">Exercise</font> - Quantum Magnitude : Bloch Sphere Playground\n",
    ">> 0. <font color=\"red\">Exercise</font> - Quantum Magnitudes : Quirk\n",
    ">> 0. <font color=\"red\">Homework</font> - Quantum Magnitude : Quirk\n",
    ">> 0. <font color=\"red\">Coding Exercise</font> - Manipulating Quantum Magnitudes: QisKit\n",
    ">> 0. <font color=\"red\">Exercise</font> - Quantum Magnitude : Verify circuit w/the Bloch Sphere Playground\n",
    ">> 0. <font color=\"red\">Exercise</font> - Quantum Magnitudes : Verify circuit with QUIRK\n",
    ">> 0. <font color=\"red\">Coding Homework</font> - Manipulating Quantum Magnitudes: QisKit\n",
    ">> 0. <font color=\"red\">Exercise</font> - Quantum Magnitude : recreate with QUIRK and the BSP\n",
    "0. <font color=\"blue\">*Single Qubit Gates and their Rotations*</font> \n",
    ">> 0. #### The \"H\" Gate\n",
    ">> 0. <font color=\"red\">Exercise</font> - Quantum Computer Gate Playground : Experiment with the H gate.\n",
    ">> 0. #### The NOT (Pauli-X) Gate\n",
    ">> 0. <font color=\"red\">Exercise</font> - Quantum Computer Gate Playground : Experiment with the X gate\n",
    ">> 0. #### The Y (Pauli-Y) Gate\n",
    ">> 0. <font color=\"red\">Exercise</font> - Quantum Computer Gate Playground : Experiment with the Y gate\n",
    ">> 0. #### The Z (Pauli-Z) Gate\n",
    ">> 0. <font color=\"red\">Exercise</font> - Quantum Computer Gate Playground : Experiment with the Z gate\n",
    ">> 0. #### The S Gate and S′ Gate\n",
    ">> 0. <font color=\"red\">Exercise</font> - Quantum Computer Gate Playground : Experiment with the S gate\n",
    ">> 0. #### The T Gate and T′ Gate\n",
    ">> 0. <font color=\"red\">Exercise</font> - Quantum Computer Gate Playground : Experiment with the T gate\n",
    ">> 0. #### The R(<font color=\"blue\">x</font>) Gate - A Phase Change Gate\n",
    ">> 0. <font color=\"red\">Exercise</font> - Quantum Computer Gate Playground : Experiment with the X-Rotation gate\n",
    ">> 0. #### The R(<font color=\"blue\">y</font>) Gate - A Phase Change Gate\n",
    ">> 0. <font color=\"red\">Exercise</font> - Quantum Computer Gate Playground : Experiment with the Y-Rotation gate\n",
    ">> 0. #### The R(<font color=\"blue\">z</font>) Gate - A Phase Change Gate\n",
    ">> 0. <font color=\"red\">Exercise</font> - Quantum Computer Gate Playground : Experiment with the Z-Rotation gate\n",
    ">> 0. ### The (√not) Gate\n",
    ">> 0. <font color=\"red\">Demonstration</font> - Simulation (√not) Gate with the <font color=\"blue\">**QCEngine**</font>\n",
    ">> 0. <font color=\"red\">Demonstration</font> - Simulation (√not) Gate with <font color=\"blue\">**QUIRK**</font>\n",
    ">> 0. <font color=\"red\">Demonstration</font> - Simulation (√not) Gate with <font color=\"blue\">**Qiskit**</font>\n",
    "\n"
   ]
  },
  {
   "cell_type": "markdown",
   "metadata": {},
   "source": [
    "## Background Videos: \n",
    "\n",
    "**How Does a Quantum Computer Work?**\n",
    "- https://www.youtube.com/watch?v=g_IaVepNDT4&t=1s\n",
    "\n",
    "Quantum Computing Concepts - **Quantum Bits**\n",
    "- https://www.youtube.com/watch?v=RApkNeVYmeM&list=PL50XnIfJxPDWDyea8EbbLe8GHfXkWU7W_&index=3&t=81s\n",
    "\n",
    "Quantum Computing Concepts – **Spin**\n",
    "- https://www.youtube.com/watch?v=tPG3y6ykJnQ&list=PL50XnIfJxPDWDyea8EbbLe8GHfXkWU7W_&index=4&t=0s\n",
    "\n",
    "Quantum Computing Concepts – **Measurement**\n",
    "- https://www.youtube.com/watch?v=L4Z_Ncdp8xI&list=PL50XnIfJxPDWDyea8EbbLe8GHfXkWU7W_&index=5&t=0s"
   ]
  },
  {
   "cell_type": "markdown",
   "metadata": {},
   "source": [
    "#  <font color=\"blue\">Basic Concepts:</font>\n",
    "- The spirit of these moddules is **exposure and experience** (hands on tinkering) - but some introductory information is vital."
   ]
  },
  {
   "cell_type": "markdown",
   "metadata": {},
   "source": [
    "## Definition :- The <font color=\"red\">Classical</font> Bit"
   ]
  },
  {
   "cell_type": "markdown",
   "metadata": {},
   "source": [
    "> The Classical \"bit\" has just 2 binary states **\"On\" (1)** and **\"Off\" (0)** and is the basis for all boolean logic based computational systems we are ordinarily exposed to.\n",
    "\n",
    "<BR>\n",
    "    \n",
    "![Classical-BitDiagram](img/Classical-BitDiagram.png \"Classical-BitDiagram\")\n",
    "\n",
    "<BR>\n",
    "    \n",
    "> It takes **N-bit**s to represent <font color=\"red\">**one**</font> **N-bit** State (Binary Number: 0-7).\n",
    "\n",
    "<BR>\n",
    "    \n",
    "    \n",
    "![Classical_N_BitStates](img/Classical_N_BitStates.png \"Classical_N_BitStates\")"
   ]
  },
  {
   "cell_type": "code",
   "execution_count": null,
   "metadata": {},
   "outputs": [],
   "source": []
  },
  {
   "cell_type": "markdown",
   "metadata": {},
   "source": [
    "## Definition :- The <font color=\"red\">Quantum</font> Bit"
   ]
  },
  {
   "cell_type": "markdown",
   "metadata": {},
   "source": [
    "> The Qubit (aka \"Quantum Bit\") has binary **\"On\" (1)** and **\"Off\" (0)** just like a digital bit, but it also has carries aspects of state zero and state one simultaneously (a quantum \"thing\") when it is in **\"superposition\"**.\n",
    "\n",
    "<BR>\n",
    "\n",
    "![Quantum_Bit_Diagram](img/Quantum_Bit_Diagram.png \"Quantum_Bit_Diagram\")\n",
    "\n",
    "<BR>\n",
    "    \n",
    "> Superposition is represented by any position of the Bloch Sphere that is **not** definitively (0 or 1) - **aka: any point on the surface of the sphere**.\n",
    "    \n",
    "![Quantum_SuperpositionDiagram](img/Quantum_SuperpositionDiagram.png \"Quantum_SuperpositionDiagram\")\n",
    "\n",
    "\n",
    "<BR>\n",
    "    \n",
    ">  A <font color=\"red\">Single</font> Qubit can represent <font color=\"red\"> 2<sup>N</sup> </font> components in <font color=\"red\">one</font> state.\n",
    "    \n",
    "![Quantum-2NStates](img/Quantum-2NStates.png \"Quantum-2NStates\")\n",
    "\n",
    "\n",
    "<BR>\n",
    "\n",
    "> Three Qubits can represent <font color=\"red\"> 2<sup>3</sup> </font> components in parrell and can also leverage **<font color=\"red\">\"Quantum Interference\"</font>** for massive computational power.\n",
    "\n",
    "<BR>\n",
    "    \n",
    "![Quantum_Parrallellisn-Interference](img/Quantum_Parrallellisn-Interference.png \"Quantum_Parrallellisn-Interference\")\n",
    "    \n",
    "<BR>\n",
    "    \n",
    "> Two (or more) Qubits can be **<font color=\"red\">\"Quantumly Entangled\"</font>** which provides for computational power **not** found in classical computers.\n"
   ]
  },
  {
   "cell_type": "markdown",
   "metadata": {},
   "source": [
    "### Interactive Example of Qubit \n",
    "- (Bloch Sphere Playground Application)\n",
    "\n",
    "> **First contact** with a Bloch Sphere representation of a Qubit\n",
    "- Quick spin around the block w/the tool "
   ]
  },
  {
   "cell_type": "code",
   "execution_count": 1,
   "metadata": {},
   "outputs": [
    {
     "data": {
      "text/html": [
       "\n",
       "        <iframe\n",
       "            width=\"950\"\n",
       "            height=\"700\"\n",
       "            src=\"https://javafxpert.github.io/grok-bloch/\"\n",
       "            frameborder=\"0\"\n",
       "            allowfullscreen\n",
       "        ></iframe>\n",
       "        "
      ],
      "text/plain": [
       "<IPython.lib.display.IFrame at 0x281ed970c88>"
      ]
     },
     "execution_count": 1,
     "metadata": {},
     "output_type": "execute_result"
    }
   ],
   "source": [
    "# Bloch Sphere Playground Application\n",
    "from IPython.display import IFrame\n",
    "IFrame(src='https://javafxpert.github.io/grok-bloch/', width=950, height=700)"
   ]
  },
  {
   "cell_type": "markdown",
   "metadata": {},
   "source": [
    "### Example of Quantum Parallelism (Multiple Qubits): The Qu<font color=\"red\">Byte</font> (aka - 8 Qu<font color=\"red\">Bits</font>)\n",
    "- **Visual Representation of the Exponetial Number of States** qubits can hold.\n",
    "- Pay attention to the **number of states that get represented** just by the process of **adding one more qubit**.\n",
    "- **Note:** These are **non-entangled** Qubits\n",
    "\n",
    "> **Observe**: - **<font color=\"red\"> 2<sup>8</sup> </font>** is **<font color=\"blue\">256</font>** States - which are all represented below - with just **<font color=\"red\">eight</font>** qubits."
   ]
  },
  {
   "cell_type": "code",
   "execution_count": 2,
   "metadata": {
    "scrolled": false
   },
   "outputs": [
    {
     "data": {
      "text/html": [
       "\n",
       "        <iframe\n",
       "            width=\"900\"\n",
       "            height=\"900\"\n",
       "            src=\"https://algassert.com/quirk#circuit={%22cols%22:[[%22H%22,%22H%22,%22H%22,%22H%22,%22H%22,%22H%22,%22H%22,%22H%22],[%22%E2%80%A6%22,%22%E2%80%A6%22,%22%E2%80%A6%22,%22%E2%80%A6%22,%22%E2%80%A6%22,%22%E2%80%A6%22,%22%E2%80%A6%22,%22%E2%80%A6%22],[%22~87lj%22,%22~87lj%22,%22~87lj%22,%22~87lj%22,%22~87lj%22,%22~87lj%22,%22~87lj%22,%22~87lj%22],[%22Bloch%22,%22Bloch%22,%22Bloch%22,%22Bloch%22,%22Bloch%22,%22Bloch%22,%22Bloch%22,%22Bloch%22],[%22Density%22,%22Density%22,%22Density%22,%22Density%22,%22Density%22,%22Density%22,%22Density%22,%22Density%22],[%22%E2%80%A6%22,%22%E2%80%A6%22,%22%E2%80%A6%22,%22%E2%80%A6%22,%22%E2%80%A6%22,%22%E2%80%A6%22,%22%E2%80%A6%22,%22%E2%80%A6%22]],%22gates%22:[{%22id%22:%22~87lj%22,%22name%22:%22message%22,%22circuit%22:{%22cols%22:[[%22e^-iYt%22],[%22X^t%22]]}},{%22id%22:%22~f7c0%22,%22name%22:%22received%22,%22matrix%22:%22{{1,0},{0,1}}%22}]}\"\n",
       "            frameborder=\"0\"\n",
       "            allowfullscreen\n",
       "        ></iframe>\n",
       "        "
      ],
      "text/plain": [
       "<IPython.lib.display.IFrame at 0x281ed981c88>"
      ]
     },
     "execution_count": 2,
     "metadata": {},
     "output_type": "execute_result"
    }
   ],
   "source": [
    "# QUIRK (Quantum Circuit Simulator) of the Random QuByte\n",
    "from IPython.display import IFrame\n",
    "IFrame(src='https://algassert.com/quirk#circuit={%22cols%22:[[%22H%22,%22H%22,%22H%22,%22H%22,%22H%22,%22H%22,%22H%22,%22H%22],[%22%E2%80%A6%22,%22%E2%80%A6%22,%22%E2%80%A6%22,%22%E2%80%A6%22,%22%E2%80%A6%22,%22%E2%80%A6%22,%22%E2%80%A6%22,%22%E2%80%A6%22],[%22~87lj%22,%22~87lj%22,%22~87lj%22,%22~87lj%22,%22~87lj%22,%22~87lj%22,%22~87lj%22,%22~87lj%22],[%22Bloch%22,%22Bloch%22,%22Bloch%22,%22Bloch%22,%22Bloch%22,%22Bloch%22,%22Bloch%22,%22Bloch%22],[%22Density%22,%22Density%22,%22Density%22,%22Density%22,%22Density%22,%22Density%22,%22Density%22,%22Density%22],[%22%E2%80%A6%22,%22%E2%80%A6%22,%22%E2%80%A6%22,%22%E2%80%A6%22,%22%E2%80%A6%22,%22%E2%80%A6%22,%22%E2%80%A6%22,%22%E2%80%A6%22]],%22gates%22:[{%22id%22:%22~87lj%22,%22name%22:%22message%22,%22circuit%22:{%22cols%22:[[%22e^-iYt%22],[%22X^t%22]]}},{%22id%22:%22~f7c0%22,%22name%22:%22received%22,%22matrix%22:%22{{1,0},{0,1}}%22}]}', width=900, height=900)"
   ]
  },
  {
   "cell_type": "markdown",
   "metadata": {},
   "source": [
    "## Bloch Sphere Definition\n",
    "\n",
    "> **<font color=\"red\">The Bloch Sphere</font>** is a **geometric representation** of **Qubit states** as **points** on the **surface of a sphere**.\n",
    "- https://en.wikipedia.org/wiki/Bloch_sphere\n",
    "\n",
    "- **<font color=\"red\">Points on the Qubit </font>** is represented by the (*greek letter*) **<font color=\"blue\" size=\"5\">Psi &psi;</font>** of the sphere.\n",
    "- **<font color=\"red\">Magnitudes</font>** is represented by the angle (*greek letter*) **<font color=\"blue\" size=\"5\">\"Theta\" θ</font>** - on the **Vertical Plane (or Longitude)** of the sphere : **<font color=\"red\">X</font>** axis and **<font color=\"red\">Y</font>** axis rotations.\n",
    "- **<font color=\"red\">Relative Phases</font>** is represented by the angle (*greek letter*) **<font color=\"blue\" size=\"5\">\"Phi\" &phi;**</font> - on the **Horizontal Plane (or Latitude)** of the sphere: **<font color=\"red\">Z</font>** axis rotations.\n",
    "\n",
    "\n",
    "> Any **point** on the **Bloch Sphere** is determined by a **formula** that contains (among other things, like **1 and 0** ), **<font color=\"red\">Amplitudes</font>** (**<font color=\"blue\" size=\"5\">α</font> (alpha), and <font color=\"blue\" size=\"5\">β</font> (beta)**  - *probabilities upon measurement*) and <font color=\"blue\" size=\"5\">φ</font> **<font color=\"red\">Phases</font>** (*interference*). \n",
    "- <font color=\"blue\">**|0>**</font> : **ZERO KET** - Vector **Zero**\n",
    "- <font color=\"red\">**|1>**</font> : **ONE KET** - Vector **One**\n",
    "- <font color=\"green\">**|ψ>**</font> : **PSI KET** - Vector **Psi**\n",
    "\n",
    "\n",
    "\n",
    "> **NOTE:** - where **(0/1, -i/+i, +/-, X,Y,Z)** are on the Sphere\n",
    "- <font color=\"blue\">(0/1)</font> on the **<font color=\"red\">Z</font>** axis : rotates on the **Horizontal Plane (or Latitude)** of the sphere - <font color=\"red\">Phase</font> Rotation.\n",
    "- <font color=\"blue\">(+/-)</font> on the **<font color=\"red\">X</font>** axis : rotates on the **Vertical Plane (or Longitude)** of the sphere - <font color=\"red\">Magnitude</font> Rotation.\n",
    "- <font color=\"blue\">(i/-i)</font> on the **<font color=\"red\">Y</font>** axis : rotates on the **Vertical Plane (or Longitude)** of the sphere - <font color=\"red\">Magnitude</font> Rotation.\n",
    "\n",
    "> **Mathematical Basis:**\n",
    "- **Computational (<font color=\"red\">Z</font>)**\n",
    "- **Hadamard (<font color=\"red\">X</font>)**\n",
    "- **Circular (<font color=\"red\">Y</font>)**\n",
    "\n",
    "> **NOTE:**\n",
    "- **<font color=\"red\">Magnitudes</font>** and - **<font color=\"red\">Relative Phase</font>** are a **really big deal** in Quantum Computing, pay special attention to them!\n",
    "- You'll see these highlighted when **Circle Plots** are introduced (they are used often)."
   ]
  },
  {
   "cell_type": "markdown",
   "metadata": {},
   "source": [
    "![naked-qubit](img/naked-qubit.png \"\")"
   ]
  },
  {
   "cell_type": "markdown",
   "metadata": {},
   "source": [
    "## Radians\n",
    "\n",
    "> Radians are a **central metric** when performing Qubit **rotations**, therefore they are *important to understand and develop an intuition about*.\n",
    "- Some Tools use Degrees - we'll use **both** to establish intuition toward the concept \"Rotation\".\n",
    "\n",
    "When talking about quantum computing, **rotations are measured in radians**. Radians are simply a way of measuring angles in terms of **π** rather than in degrees – for example, there are <font color=\"red\">2π radians</font> in a full circle. \n",
    "\n",
    "> Angles are traditionally measured **counter-clockwise**. The diagram below shows the key concepts:\n",
    "\n",
    "![circle-radians](img/circle_radians.gif \"circle-radians\")\n",
    "\n",
    "> ### <font color=\"red\">If it helps</font>: remember that Pi radians is equal to 180 degrees \n",
    "- The below link is provided as a reference for the conversions.\n",
    "\n",
    "https://www.quia.com/jg/321176list.html"
   ]
  },
  {
   "cell_type": "markdown",
   "metadata": {},
   "source": [
    "## <font color=\"blue\">Developmental Detour</font>:"
   ]
  },
  {
   "cell_type": "markdown",
   "metadata": {},
   "source": [
    "## The Wave Function\n",
    "\n",
    "> The **Wave Function** is central to Quantum Computing so **there is a need to grasp it conceptually**.\n",
    "- **<font color=\"red\">However</font>**, the term <font color=\"blue\">**“wave”**</font> is used in quantum physics **only used as an analogy** to the classical waves that we see in everyday life; quantum waves are **<font color=\"red\">not</font>** at all the same thing as everyday waves.\n",
    "\n",
    "#### Difference between a classical wave and a quantum wave : <font color=\"red\">Interference</font>.\n",
    "\n",
    "> The below animation illustrates the **key difference** between quantum waves and classical types - **<font color=\"red\">\"Interference\"</font>**.\n",
    "\n",
    "> Comparison of classical and quantum harmonic oscillator conceptions. **The two processes differ greatly.** \n",
    "\n",
    "- The classical process (A–B) is represented as the motion of a particle along a trajectory. The quantum process (C–H) has no such trajectory. Rather, it is represented as a wave; here, the vertical axis shows the **real part** (<font color=\"blue\">**blue**</font>) and **imaginary part** (<font color=\"red\">**red**</font>) of the wave function. Panels (C–F) show four different **standing-wave** solutions of the Schrödinger equation. **Panels (G–H)** further show two different wave functions that are solutions of the **Schrödinger equation** but not standing waves.\n",
    "\n",
    "\n",
    "- https://en.wikipedia.org/wiki/Wave_function\n",
    "\n",
    "\n",
    "<table><tr><td><img src='img/QuantumHarmonicOscillatorAnimation.gif'></td><td><img src='img/wave-interference.png'></td></tr></table>\n",
    "\n",
    "\n",
    "> **<font color=\"red\">Note:</font>** - Wave **Interference** can be either **Constructive** or **Destructive**."
   ]
  },
  {
   "cell_type": "markdown",
   "metadata": {},
   "source": [
    "### Explore waves using the Phet Interactive Wave Simulator"
   ]
  },
  {
   "cell_type": "code",
   "execution_count": 3,
   "metadata": {},
   "outputs": [
    {
     "data": {
      "text/html": [
       "\n",
       "        <iframe\n",
       "            width=\"900\"\n",
       "            height=\"900\"\n",
       "            src=\"https://phet.colorado.edu/sims/html/waves-intro/latest/waves-intro_en.html\"\n",
       "            frameborder=\"0\"\n",
       "            allowfullscreen\n",
       "        ></iframe>\n",
       "        "
      ],
      "text/plain": [
       "<IPython.lib.display.IFrame at 0x281ed98f248>"
      ]
     },
     "execution_count": 3,
     "metadata": {},
     "output_type": "execute_result"
    }
   ],
   "source": [
    "from IPython.display import IFrame\n",
    "IFrame(src='https://phet.colorado.edu/sims/html/waves-intro/latest/waves-intro_en.html', width=900, height=900)"
   ]
  },
  {
   "cell_type": "markdown",
   "metadata": {},
   "source": [
    "## Definitions: Points on the Bloch Sphere (*and equations*)\n",
    "\n",
    "> **Points on the Bloch SPhere** are central to **<font color=\"red\">all</font>** of quantum computing and **the manipulation of them <font color=\"red\">must</font> be mastered**.\n",
    "\n",
    "Any **point** on the **Bloch Sphere** is determined by a **formula** that contains (among other things, like **1 and 0** ), **<font color=\"red\">Amplitudes</font>** (**<font color=\"blue\" size=\"5\">α</font> (alpha), and <font color=\"blue\" size=\"5\">β</font> (beta)**  - *probabilities upon measurement*) and <font color=\"blue\" size=\"5\">φ</font> **<font color=\"red\">Phases</font>** (*interference*). \n",
    "- <font color=\"blue\">**|0>**</font> : **ZERO KET** - Vector **Zero**\n",
    "- <font color=\"blue\">**|1>**</font> : **ONE KET** - Vector **One**\n",
    "- <font color=\"blue\">**|ψ>**</font> : **PSI KET** - Vector **Psi**\n",
    "\n",
    "\n",
    "- **<font color=\"red\">Points on the Qubit </font>** (sphere) is represented by the (*greek letter*) **<font color=\"blue\" size=\"5\">Psi &psi;</font>**.\n",
    "\n",
    "> ### (1) The **basic formula** is : <font color=\"blue\">**|ψ> = α|0> + β|1>**</font> .\n",
    "\n",
    "> ### (2) The more **elaborate general equation** is: <font color=\"blue\">**|ψ> = r<sub>1</sub>|0> + r<sub>2</sub>e<sup>iφ</sup> |1>**</font> .\n",
    "- **AMPLITUDES** =  (**<font color=\"blue\" size=\"4\">r1</font>** and **<font color=\"blue\" size=\"4\">r2</font>** are the <font color=\"red\">magnitudes</font>, and **<font color=\"blue\" size=\"4\">φ</font>** is the <font color=\"red\">relative phase</font>.)\n",
    "- There is **<font color=\"red\">no</font>** Phase Value associated witht **|0> Zero** Ket.\n",
    "\n",
    "> ### (3) **<font color=\"red\">However</font>** - you will **also** see this representation: \n",
    "\n",
    "![Point on Bloch Sphere](img/PointOnBS-Equation.png \"Point on Bloch Sphere\")\n",
    "\n"
   ]
  },
  {
   "cell_type": "markdown",
   "metadata": {},
   "source": [
    "## Definitions:  Amplitudes, Phases and Magnitudes.\n",
    "\n",
    "> Amplitudes and Phases are a critical consideration in quantum computing and **power the computational ability** of the qubit.\n",
    "\n",
    "**Amplitudes** and **Phases** are important parts of the \"Wave Function\" (used when putting a Qubit in **Superposition** ):\n",
    "\n",
    "![wave-function](img/wave-function.png \"\")\n",
    "\n",
    "\n",
    "The illustration above (the **sinusoidal wave**) shows the *basic concepts*: we have a **<font color=\"red\">wave</font>** – a kind of cyclic thing – with a <font color=\"blue\">**Wavelength**</font> of **<font color=\"red\">λ</font>**, an <font color=\"blue\">**Amplitudes**</font> (or height) **<font color=\"red\">A0</font>**, and a <font color=\"blue\">**Phase Shift**</font> of <font color=\"red\">**φ**</font>."
   ]
  },
  {
   "cell_type": "markdown",
   "metadata": {},
   "source": [
    "## <font color=\"blue\">**Amplitudes**</font> - <font color=\"red\">Why are they so important?</font>\n",
    "\n",
    "- **<font color=\"red\">Note</font>**: **The entire hope** for getting a **speed advantage** from a quantum computer is to **exploit** the way that these amplitudes work **differently** than probabilities - the main thing that amplitudes **can do** (that probabilities **can't do** ) is they can **<font color=\"red\" size=\"4\">\"interfere\"</font>** with each other.\n",
    "\n",
    "\n",
    "### Definitions:\n",
    "\n",
    "- **<font color=\"red\" size=\"4\">Amplitudes</font>** are comprised of **<font color=\"blue\">Magnitudes</font>** and **<font color=\"blue\">Phases</font>**.\n",
    "\n",
    "\n",
    "- **<font color=\"red\" size=\"4\">Magnitudes</font>** -  an attribute that provides the **probability** that the qubit will return either **Zero** or **One** when measured.\n",
    ">> is represented by the angle (*greek letter*) **<font color=\"blue\" size=\"5\">\"Theta\" θ</font>** - on the **Vertical Plane (or Longitude)** of the sphere : **<font color=\"red\">X</font>** axis and **<font color=\"red\">Y</font>** axis rotations.\n",
    "\n",
    "\n",
    "- **<font color=\"red\" size=\"4\">Phases</font>** - an attribute that provides the ability to **indirectly affect the chances** that different values will be returned once the qubit is measured. \n",
    ">> is represented by the angle (*greek letter*) **<font color=\"blue\" size=\"5\">\"Phi\" &phi;**</font> - on the **Horizontal Plane (or Latitude)** of the sphere: **<font color=\"red\">Z</font>** axis rotations.\n",
    "\n",
    "\n",
    "> **<font color=\"blue\">NOTE</font>**: **Amplitudes** (**Magnitudes** + **Relative Phases**) are **<font color=\"red\">\"encoded\"</font>** in the qubit, and more importantly they allow **information** to be **encoded and manipulated** in the magnitudes and relative phases of the qubit, thus **enabling the quantum speedups** (among other capabilities) that QC promises.\n",
    "\n",
    "- However, the term **“wave”** is used in quantum physics **only as an analogy** to the classical waves that we see in everyday life; quantum waves are **<font color=\"red\">not</font>** at all the same thing as everyday waves.\n",
    "\n",
    "\n",
    "- **Superposition* will be some point on the bloch sphere between Zero (0) and One (1), that contains some parts of both - <font color=\"red\">a qubit can be in superposition of two states</font>, and **once it is measured**, it will return one of the two states based on the **probabilities of each state** - and those are determined by the **Amplitudes**.\n",
    "\n",
    "> **<font color=\"red\">BEWARE</font>**: <font color=\"blue\">**Amplitudes**</font> are <font color=\"red\">not</font> probabilities, they are something **entirely** different - they are subject to **<font color=\"red\">\"Interference\"</font>**. \n",
    "\n",
    "- **<font color=\"red\">Gotcha</font>**: There is <font color=\"red\">no</font> Phase Value associated witht **|0> Zero** Ket.\n",
    "\n",
    "\n"
   ]
  },
  {
   "cell_type": "markdown",
   "metadata": {},
   "source": [
    "## Detailed Examination of Amplitudes\n",
    "\n",
    "- **<font color=\"red\">Points on the Qubit </font>** is represented by the (*greek letter*) **<font color=\"blue\" size=\"5\">Psi &psi;</font>** of the sphere.\n",
    "- **<font color=\"red\">Magnitudes</font>** is represented by the angle (*greek letter*) **<font color=\"blue\" size=\"5\">\"Theta\" θ</font>** - on the **Vertical Plane (or Longitude)** of the sphere : **<font color=\"red\">X</font>** axis and **<font color=\"red\">Y</font>** axis rotations.\n",
    "- **<font color=\"red\">Relative Phases</font>** is represented by the angle (*greek letter*) **<font color=\"blue\" size=\"5\">\"Phi\" &phi;**</font> - on the **Horizontal Plane (or Latitude)** of the sphere: **<font color=\"red\">Z</font>** axis rotations.\n",
    "\n",
    "<BR>\n",
    "\n",
    "<BR>\n",
    "\n",
    "![AmplitudeDefinition](img/AmplitudeDefinition3.png \"\")\n",
    "\n",
    "<BR>\n",
    "    \n",
    "> - **<font color=\"red\">BEWARE</font>**: <font color=\"blue\">**Amplitudes**</font> are <font color=\"red\">not</font> probabilities, they are something **entirely** different - they are subject to **<font color=\"red\">\"Interference\"</font>**. \n",
    "> - **<font color=\"red\">Gotcha</font>**: There is <font color=\"red\">no</font> Relative Phase Value associated witht **|0> Zero** Ket.\n",
    "\n",
    "<BR>"
   ]
  },
  {
   "cell_type": "markdown",
   "metadata": {},
   "source": [
    "## <font color=\"blue\">Benefits of Amplitudes and Phases</font>\n",
    "\n",
    "Amplitudes and Phases are **important characteristics** of a Quantum Wave Function, and **provide the following benefits**  (*among others*):\n",
    "\n",
    "<font color=\"blue\">**Amplitudes:**</font>\n",
    "\n",
    "> <font color=\"red\">**Amplitude Amplification**</font> - Very simply, amplitude amplification is **a tool that converts inaccessible phase differences inside a QPU register into READable magnitude differences** (and vice versa) - *Grovers Algorithm*.\n",
    "\n",
    "> <font color=\"red\">**Amplitude Encoding**</font> (of data [vectors]) as **novel representations of problems**.\n",
    "\n",
    "<font color=\"blue\">**Phases:**</font>  \n",
    "\n",
    "> <font color=\"red\">**Phase Logic**</font> (elementary / complex) - (Interference) - *we can crucially take advantage of phase rotations to cleverly and indirectly affect the chances that we will eventually read out different values of the Qubit* - all kinds of algorithms.\n",
    "- In fact, **well-engineered relative phases can provide an astonishing computational advantage.** \n",
    "\n",
    "> <font color=\"red\">**Phase Encoding**</font> - an example:supersampling - as **novel representations of problems**.\n",
    "\n",
    "\n"
   ]
  },
  {
   "cell_type": "markdown",
   "metadata": {},
   "source": [
    "<font color=\"red\" size=\"4\">**Note**</font>: *The entire hope for getting a speed advantage from a quantum computer* is to **exploit the way that these amplitudes work** differently than probabilities. \n",
    "\n",
    "**The main thing that amplitudes can do** (*that probabilities can't do*) is they can **<font color=\"red\" size=\"5\">interfere</font> with each other** via leveraging the Phases as a **computational vehicle**."
   ]
  },
  {
   "cell_type": "markdown",
   "metadata": {},
   "source": [
    "## <font color=\"blue\">Quantum Interference</font>\n",
    "\n",
    "<BR>\n",
    "\n",
    "![interference-fisherman](img/interference-fishermen.png \"interference-fisherman\")\n",
    "\n",
    "<BR>\n",
    "    \n",
    "![interference-animated](img/interference-animated.gif \"interference-animated\")    \n",
    "    \n",
    "<BR>    \n",
    "    \n",
    "<table><tr><td><img src='img/wave-interference.png'></td></tr></table>\n",
    "\n",
    "<BR>\n",
    "\n",
    "> **A fundamental idea in quantum computing** is to **<font color=\"red\">control</font>** the probability that a system of qubits **collapses** into particular measurement states. \n",
    "- **<font color=\"red\">Quantum interference</font>**, a byproduct of superposition, is what allows us to **bias** the measurement of a qubit **toward a desired state or set of states**.\n",
    "\n"
   ]
  },
  {
   "cell_type": "code",
   "execution_count": 4,
   "metadata": {},
   "outputs": [
    {
     "data": {
      "text/html": [
       "\n",
       "        <iframe\n",
       "            width=\"900\"\n",
       "            height=\"900\"\n",
       "            src=\"https://phet.colorado.edu/sims/html/wave-interference/latest/wave-interference_en.html\"\n",
       "            frameborder=\"0\"\n",
       "            allowfullscreen\n",
       "        ></iframe>\n",
       "        "
      ],
      "text/plain": [
       "<IPython.lib.display.IFrame at 0x281ed970508>"
      ]
     },
     "execution_count": 4,
     "metadata": {},
     "output_type": "execute_result"
    }
   ],
   "source": [
    "from IPython.display import IFrame\n",
    "IFrame(src='https://phet.colorado.edu/sims/html/wave-interference/latest/wave-interference_en.html', width=900, height=900)"
   ]
  },
  {
   "cell_type": "markdown",
   "metadata": {},
   "source": [
    "<BR>\n",
    "    \n",
    "<font color=\"red\">**Note**</font>:  A qubit in this **superposition state** does **not** have a value in between **\"0\", and \"1\"** - rather, the qubit has a **<font color=\"red\">probability</font> α^2**  of the **value “0”** and a **<font color=\"red\">probability</font> β^2** of the **value \"1\"**.\n",
    "\n",
    "> ### The **basic formula** is : **|ψ> = α|0> + β|1>**"
   ]
  },
  {
   "cell_type": "markdown",
   "metadata": {},
   "source": [
    "## <font color=\"red\">Drive-by</Font> : Qubit / Bloch Sphere <font color=\"blue\">Basis Elements</Font>\n",
    "\n",
    "\n",
    "> **Mathematical Basis** is an important concept to be aware of and understand as it's central to Qubit manipulations.\n",
    "\n",
    "\n",
    "There are **three** mathematical **basis elements** (aka. the **\"endpoints\" of the axis** to be \"aware\" of with the bloch sphere:\n",
    "- **Computational (<font color=\"red\">Z</font>)**\n",
    "- **Hadamard (<font color=\"red\">X</font>)**\n",
    "- **Circular (<font color=\"red\">Y</font>)**\n",
    "\n",
    "![vector-basis-space](img/vector-basis-space.png \"\")\n",
    "\n",
    "\n",
    "> <font color=\"red\">**NOTE**</font>: The basis elements are the **endpoints of an axis**. For **example**, the basis elements for the *computational basis* are **|0>** and **|1>**, which correspond to the endpoints of the **Z-axis**."
   ]
  },
  {
   "cell_type": "markdown",
   "metadata": {},
   "source": [
    "## <font color=\"red\">Drive-by</Font> : <font color=\"blue\">Complex Numbers</Font>\n",
    "\n",
    "> <font color=\"blue\">**Complex Numbers**</font> are a combination of <font color=\"red\">**Real**</font> and <font color=\"red\">**Imaginary**</font> Numbers - and are **integral** to Quantum Computing.\n",
    "\n",
    "> - **Imaginary Numbers** are numbers that are expressed in terms of the <font color=\"red\">**square root of a negative number**</font>.\n",
    "\n",
    "> **Complex numbers are common in Quantum Computing**, particularly in state **state vector analysis** and **amplitudes**, so they are important to understand if they are to be manipulated computationally and understood.\n",
    "\n",
    "### Quantum Waves have <font color=\"red\">**amplitudes**</font> that **must be expressed** with <font color=\"red\">**imaginary numbers**</font>.\n",
    "\n",
    "> - The **combination** of both <font color=\"blue\">**real**</font> and <font color=\"blue\">**imaginary**</font> numbers is called a <font color=\"blue\">**“complex number.”**</font>\n",
    "\n",
    "![complex-numbers-defn](img/complex-numbers-defn.png \"\")\n",
    "![complex-numbers](img/complex-numbers.png \"\")\n",
    "\n",
    "> ### A more precise (graph based) vehicle for understanding complex numbers is  an <font color=\"red\">**Argand Diagram**</font>\n",
    "\n",
    "<BR>\n",
    "    \n",
    "![argand-diagram](img/argand-diagram.png \"\")"
   ]
  },
  {
   "cell_type": "markdown",
   "metadata": {},
   "source": [
    "## <font color=\"red\">Drive-by</Font> : <font color=\"blue\">Complex Numbers have Phases</Font>\n",
    "\n",
    "> In addition to magnitudes, complex numbers have a **phase** part which is important to understand if we are to manipulate it.\n",
    "\n",
    "![waveform-phases](img/waveform-phases.png \"\")"
   ]
  },
  {
   "cell_type": "markdown",
   "metadata": {},
   "source": [
    "## Explanation: <font color=\"red\">Circle Notation</font>\n",
    "\n",
    "- **<font color=\"blue\" size=\"4\">Visually</font>** representing **Amplitudes** as the <font color=\"red\">combination</font> of **Magnitude** and **Relative Phase**.\n",
    "\n",
    "> **Relative Phases** are the phases of the **Zero Ket |0>** and **One Ket |1>** considered **relative** to each other.\n",
    "\n",
    "> **Circle notation** is an convenient (albeit abstract) way to describe superposition that allows us to **focus on important information** without needing to become entrench in opaque mathematics.\n",
    " \n",
    "**<font color=\"blue\" size=\"4\">Two important aspects</font>** of a Qubit's State:\n",
    "\n",
    "1. The **<font color=\"red\" size=\"4\">Magnitude</font>** of it's superposition amplitudes\n",
    "![circle-plot-magnitude](img/circle-plot-magnitude.png \"\")\n",
    "\n",
    "<BR>\n",
    "    \n",
    "2. The **<font color=\"red\" size=\"4\">Phase</font>** (aka. Rotation) between them.\n",
    "\n",
    "> - use degrees for simplicity of explanation.\n",
    "\n",
    "![circle-plot-phase-rotations](img/circle-plot-phase-rotation.png \"\")\n",
    "\n",
    "<BR>\n",
    "    \n",
    "<font color=\"red\">**Important**</font>: Phase operations <font color=\"red\">**only**</font> rotate the circle associated with the **|1>** state and will have <font color=\"red\">**no**</font> effect on the **|0>** state.\n"
   ]
  },
  {
   "cell_type": "markdown",
   "metadata": {},
   "source": [
    "## <font color=\"blue\">Discussion</font>:\n",
    "\n",
    "> *The true power of quantum computing only becomes evident* as we **increase the number of qubits**. This power arises, in part, because the **dimension** of the vector space of quantum state vectors **grows exponentially** with the number of qubits.\n",
    "\n",
    "> **<font color=\"red\">Every time we add a qubit to a quantum system the state space</font> <font color=\"blue\">doubles</font> in dimension** - this is because we *multiply the dimension of the original system’s state space by 2 when the new qubit is added*. \n",
    "- A **3-qubit** quantum system has a state space of **dimension of eight (8) : 2<sup>3</sup>**. \n",
    "- An **n-qubit** system’s state space has **<font color=\"red\"> 2<sup>N</sup> </font>** dimensions.\n",
    "\n",
    "\n"
   ]
  },
  {
   "cell_type": "markdown",
   "metadata": {},
   "source": [
    "### Review of Quantum Parallelism (Multiple Qubits): The Qu<font color=\"red\">Byte</font> (aka - 8 Qu<font color=\"red\">Bits</font>)\n",
    "- **Visual Representation of the Exponetial Number of States** qubits can hold.\n",
    "- Pay attention to the **number of states that get represented** just by the process of **adding one more qubit**.\n",
    "- **Note:** These are **non-entangled** Qubits\n",
    "\n",
    "> **Observe**: - **<font color=\"red\"> 2<sup>8</sup> </font>** is **<font color=\"blue\">256</font>** States - which are all represented below - with just **<font color=\"red\">eight</font>** qubits."
   ]
  },
  {
   "cell_type": "code",
   "execution_count": 5,
   "metadata": {
    "scrolled": false
   },
   "outputs": [
    {
     "data": {
      "text/html": [
       "\n",
       "        <iframe\n",
       "            width=\"900\"\n",
       "            height=\"900\"\n",
       "            src=\"https://algassert.com/quirk#circuit={%22cols%22:[[%22H%22,%22H%22,%22H%22,%22H%22,%22H%22,%22H%22,%22H%22,%22H%22],[%22%E2%80%A6%22,%22%E2%80%A6%22,%22%E2%80%A6%22,%22%E2%80%A6%22,%22%E2%80%A6%22,%22%E2%80%A6%22,%22%E2%80%A6%22,%22%E2%80%A6%22],[%22~87lj%22,%22~87lj%22,%22~87lj%22,%22~87lj%22,%22~87lj%22,%22~87lj%22,%22~87lj%22,%22~87lj%22],[%22Bloch%22,%22Bloch%22,%22Bloch%22,%22Bloch%22,%22Bloch%22,%22Bloch%22,%22Bloch%22,%22Bloch%22],[%22Density%22,%22Density%22,%22Density%22,%22Density%22,%22Density%22,%22Density%22,%22Density%22,%22Density%22],[%22%E2%80%A6%22,%22%E2%80%A6%22,%22%E2%80%A6%22,%22%E2%80%A6%22,%22%E2%80%A6%22,%22%E2%80%A6%22,%22%E2%80%A6%22,%22%E2%80%A6%22]],%22gates%22:[{%22id%22:%22~87lj%22,%22name%22:%22message%22,%22circuit%22:{%22cols%22:[[%22e^-iYt%22],[%22X^t%22]]}},{%22id%22:%22~f7c0%22,%22name%22:%22received%22,%22matrix%22:%22{{1,0},{0,1}}%22}]}\"\n",
       "            frameborder=\"0\"\n",
       "            allowfullscreen\n",
       "        ></iframe>\n",
       "        "
      ],
      "text/plain": [
       "<IPython.lib.display.IFrame at 0x281ed95ad08>"
      ]
     },
     "execution_count": 5,
     "metadata": {},
     "output_type": "execute_result"
    }
   ],
   "source": [
    "# QUIRK (Quantum Circuit Simulator) of the Random QuByte\n",
    "from IPython.display import IFrame\n",
    "IFrame(src='https://algassert.com/quirk#circuit={%22cols%22:[[%22H%22,%22H%22,%22H%22,%22H%22,%22H%22,%22H%22,%22H%22,%22H%22],[%22%E2%80%A6%22,%22%E2%80%A6%22,%22%E2%80%A6%22,%22%E2%80%A6%22,%22%E2%80%A6%22,%22%E2%80%A6%22,%22%E2%80%A6%22,%22%E2%80%A6%22],[%22~87lj%22,%22~87lj%22,%22~87lj%22,%22~87lj%22,%22~87lj%22,%22~87lj%22,%22~87lj%22,%22~87lj%22],[%22Bloch%22,%22Bloch%22,%22Bloch%22,%22Bloch%22,%22Bloch%22,%22Bloch%22,%22Bloch%22,%22Bloch%22],[%22Density%22,%22Density%22,%22Density%22,%22Density%22,%22Density%22,%22Density%22,%22Density%22,%22Density%22],[%22%E2%80%A6%22,%22%E2%80%A6%22,%22%E2%80%A6%22,%22%E2%80%A6%22,%22%E2%80%A6%22,%22%E2%80%A6%22,%22%E2%80%A6%22,%22%E2%80%A6%22]],%22gates%22:[{%22id%22:%22~87lj%22,%22name%22:%22message%22,%22circuit%22:{%22cols%22:[[%22e^-iYt%22],[%22X^t%22]]}},{%22id%22:%22~f7c0%22,%22name%22:%22received%22,%22matrix%22:%22{{1,0},{0,1}}%22}]}', width=900, height=900)"
   ]
  },
  {
   "cell_type": "code",
   "execution_count": null,
   "metadata": {},
   "outputs": [],
   "source": []
  },
  {
   "cell_type": "code",
   "execution_count": null,
   "metadata": {},
   "outputs": [],
   "source": []
  },
  {
   "cell_type": "markdown",
   "metadata": {},
   "source": [
    "# Deep Dive #1 : - <font color=\"blue\">Quantum</font> <font color=\"red\">Phases</font> <font color=\"blue\">and the Bloch Sphere:</font>\n",
    "- the Phase is a longitude (Horizontal) line on the sphere (Dark Disk)\n",
    "\n",
    "> The below diagram **supports the presenter led discussion** about the important concept of **Quantum Phases**.\n",
    "\n",
    "- **NOTE:** The details, nuances, and key concepts are left to that discussion."
   ]
  },
  {
   "cell_type": "markdown",
   "metadata": {},
   "source": [
    "###  <font color=\"red\">DISCUSSION</font>: - Things to take mental notice of:\n",
    "    \n",
    "- The formula for a point on the curve is a more detailed form of the **basic formula**: **|ψ> = α|0> + β|1>**\n",
    "- The ZERO Ket \"**|0>**\" is at the top, the ONE ket at the bottom \"**|1>**\"\n",
    "- Where the <font color=\"red\">Amplitudes</font> are in the equation\n",
    "- Where the <font color=\"red\">Magnitudes</font> are in the equation\n",
    "- Where the <font color=\"red\">Phase</font> value is in the equation\n",
    "- What increments the phase is measure with (Pi).\n",
    "- That the **Phase** is a <font color=\"red\">**longitude (Horizontal)**</font> line on the sphere (Dark Disk)\n",
    "- The Phase is also measured in Degrees on a sphere **(+/- 180) or Radians (+/- Pi)**\n",
    "- The **Projection of the Phase** (on the bottom of the Sphere) - pay attention to that.\n",
    "- The **X-Axis** (and how it spins)\n",
    "- The **Y-Axis** (and how it spins)\n",
    "- The **Z-Axis** (and how it spins)\n",
    "\n",
    "> **Most importantly:** - Executing an **R(<font color=\"red\">z</FONT>)** gate moves the point on the surface of the sphere **w/out** affecting any of the **Magnitudes** (those values do **not** change) - only the **Phase** Values change.\n",
    "    \n",
    "\n",
    "**lattitude vs Longitude**:\n",
    "> https://www.diffen.com/difference/Latitude_vs_Longitude#:~:text=Longitude,-Diffen%20%E2%80%BA%20Geography&text=The%20latitude%20specifies%20a%20location's,Poles%2C%20called%20the%20Prime%20Meridian\n"
   ]
  },
  {
   "cell_type": "markdown",
   "metadata": {},
   "source": [
    "![bloch_sphere-phase](img/bloch_sphere-phase2.png \"bloch_sphere-phase\")"
   ]
  },
  {
   "cell_type": "markdown",
   "metadata": {},
   "source": [
    "# <font color=\"red\">Hands on Exercises</font> \n",
    "\n",
    "> To gain an intuitive understanding of the **Quantum Phase(s) concepts** in the discussion and their relationship to rotating a point on the surface of a qubit - it's instructive to gain some **<font color=\"red\">varied</font>** experience in doing that.\n",
    "- The below exercises are meant to provide a flavor of that.  \n",
    "\n",
    "> **Why?** - Because these are foundational concepts important to understand when actually creating quantum algorithms in the future."
   ]
  },
  {
   "cell_type": "markdown",
   "metadata": {},
   "source": [
    "# <font color=\"red\">Exercise</font> - Quantum Phase : <font color=\"blue\"> Bloch Sphere Playground</font> \n",
    "\n",
    "> Use the **Bloch Sphere Playground Application** to gain experience and an **intuition of Quantum Phase Rotations**.\n",
    "\n",
    "- The Bloch Sphere Playground Application can model accurately the behavior of the rotations of the point on the sphere executed by specific quantum processes / gates \n",
    "\n",
    "\n",
    "**Specifically**: \n",
    "\n",
    "- Go through the above exercise **\"Things to take Mental Notice of\"** so you experience them first hand using the tool.\n",
    "\n",
    "> **Notice**: \n",
    "- The formula for a point on the curve is a more detailed form of the **basic formula**: **|ψ> = α|0> + β|1>**\n",
    "- The ZERO Ket \"**|0>**\" is at the top, the ONE ket at the bottom \"**|1>**\"\n",
    "- What the Amplitude is in the equation\n",
    "- Where the Magnitudes are in the equation\n",
    "- Where the Phase value is in the equation\n",
    "- What increments the phase is measure with (Pi).\n",
    "- That the **Phase** is a <font color=\"red\">**latitude (Horizontal)**</font> line on the sphere (Dark Disk)\n",
    "- The Phase is also measured in Degrees on a sphere (+/- 180) or Radians (+/- Pi)\n",
    "- The Projection of the Phase (on the bottom of the Sphere) - pay attention to that.\n",
    "- The X-Axis (and how it spins)\n",
    "- The Y-Axis (and how it spins)\n",
    "- The Z-Axis (and how it spins)\n",
    "- #### <font color=\"red\">**Reminder**</font>: (√0.050) = 0.7071\n",
    "\n",
    "\n",
    "\n",
    "- **Put the Qubit in Superposition** by hitting the \"H\" (Hadamard Gate) key - that applys the gate to the Qubit to simulate superposition mathematically \n",
    "- this is a precursor to doing it programatically (Qiskit) or via a Circuit framework like QUIRK.\n",
    "\n",
    "> **Notice**: \n",
    "- that the point on the sphere goes to the meridian horizontal and the magnitudes both go to 50%\n",
    "- reset by hitting the **\"|0>\"** button below.\n",
    "\n",
    "\n",
    "- **Experiment with R(z) Rotations** - Once in superposition, hit (incrementally) the **R(z)** **+/-(Pi/12)** botton to rotate the point on the sphere along the Z-Axis \n",
    "\n",
    "> **Notice**: \n",
    "- that only the **Phase** values change - the magnitude probabilities all remain stable.\n",
    "- that all of the rotational increments are in terms (some derivative) of Pi - this will be important when it comes to programming R(z) gates with the correct values.\n",
    "\n",
    "\n",
    "**Reminder:** - Executing a **R(<font color=\"red\">z</font>)** gate moves the point on the surface of the sphere w/out affecting any of the **Magnitudes** (those values do not change) - only the **Phase** Values change.\n",
    "\n"
   ]
  },
  {
   "cell_type": "code",
   "execution_count": 6,
   "metadata": {
    "scrolled": false
   },
   "outputs": [
    {
     "data": {
      "text/html": [
       "\n",
       "        <iframe\n",
       "            width=\"950\"\n",
       "            height=\"700\"\n",
       "            src=\"https://javafxpert.github.io/grok-bloch/\"\n",
       "            frameborder=\"0\"\n",
       "            allowfullscreen\n",
       "        ></iframe>\n",
       "        "
      ],
      "text/plain": [
       "<IPython.lib.display.IFrame at 0x281ed95a688>"
      ]
     },
     "execution_count": 6,
     "metadata": {},
     "output_type": "execute_result"
    }
   ],
   "source": [
    "# Bloch Sphere Playground Application\n",
    "from IPython.display import IFrame\n",
    "IFrame(src='https://javafxpert.github.io/grok-bloch/', width=950, height=700)"
   ]
  },
  {
   "cell_type": "markdown",
   "metadata": {},
   "source": [
    "# <font color=\"red\">Exercise</font> - Quantum Phase : <font color=\"blue\"> Quantum Computer Gate Playground</font> \n",
    "- #### To develop intuition:\n",
    "> - The blue discs represent basis state amplitudes: for a given **<font color=\"blue\">amplitude</font>**, the radius is its **<font color=\"red\">magnitude</font>** and arrow direction is its **<font color=\"red\">phase</font>**.\n",
    "> - The **discs are animated** in a manner that shows states being **split and recombined** (arrow head joined to arrow tail), demonstrating **<font color=\"red\">constructive</font>** and **<font color=\"red\">destructive</font>** **interference**.\n",
    "> - **Degrees** and **Radians** behave differently in Rotations!\n",
    "> - **<font color=\"blue\">Blue Discs</font>**: Not to be confused with Circle Plots - **these behave differently**!\n",
    "\n",
    "> - **Put the Qubit in Superposition** \n",
    "> - **Experiment with R(z) Rotations** (in *Degrees*) \n",
    "\n",
    "**<font color=\"blue\">Intuition Builder</font>:**\n",
    "- What happens to the Quantum State?\n",
    "\n",
    "- **<font color=\"red\">Q</font>:** After the H Gate - the Qubit is in Superposition and has a 50/50 % chance of being 1 or 0, **then why is the state**:\n",
    "\n",
    "> **Quantum state**: (0.7071)|0> + (0.7071)|1>\n",
    "- #### <font color=\"red\">**Reminder**</font>: (√0.050) = 0.7071\n",
    "\n",
    "- **<font color=\"red\">A</font>:** AMPLITUDES = magnitudes, and relative phases + include imaginary numbers.\n",
    "\n",
    "> **<font color=\"blue\">Intuition Builder</font>:**\n",
    "- Why does only one part of the Superposition change phase values when a Z gate is applied?\n",
    "- What happens to the state?\n",
    "- What happens when a Z gate is applied twice?\n",
    "\n",
    "\n",
    "- **<font color=\"red\">Q</font>:** If there is <font color=\"red\">no</font> Phase Value associated witht **|0> Zero** Ket, then why does this framework have the **|0> Zero** Ket phase move when executing phase rotations gates?\n",
    "\n",
    "- **<font color=\"red\">A</font>:** The discs are animated in a manner that shows states being **split** and **recombined** (arrow head joined to arrow tail), demonstrating <font color=\"red\">**constructive**</font> and <font color=\"red\">**destructive**</font> interference.\n",
    "\n",
    "\n",
    "> **NOTE:** - We'll recreate this circuit later in **QUIRK** and the phase representations behave similarly - their **angles** are the same.\n",
    "- **Phase:  1.5707963267948966** = **<font color=\"red\">(Pi/2)</font>**\n",
    "- **Angle:  90.0** Degrees = **<font color=\"red\">(180/2)</font>**\n",
    "\n",
    "<BR>\n",
    "\n",
    "![PhaseQUIRK-CCGP-3](img/PhaseQUIRK-CCGP-3.png \"PhaseQUIRK-CCGP-3\")"
   ]
  },
  {
   "cell_type": "code",
   "execution_count": 7,
   "metadata": {
    "scrolled": false
   },
   "outputs": [
    {
     "data": {
      "text/html": [
       "\n",
       "        <iframe\n",
       "            width=\"900\"\n",
       "            height=\"900\"\n",
       "            src=\"https://davidbkemp.github.io/quantum-gate-playground/\"\n",
       "            frameborder=\"0\"\n",
       "            allowfullscreen\n",
       "        ></iframe>\n",
       "        "
      ],
      "text/plain": [
       "<IPython.lib.display.IFrame at 0x281ed98f5c8>"
      ]
     },
     "execution_count": 7,
     "metadata": {},
     "output_type": "execute_result"
    }
   ],
   "source": [
    "# Quantum Gate Playground\n",
    "from IPython.display import IFrame\n",
    "IFrame(src='https://davidbkemp.github.io/quantum-gate-playground/', width=900, height=900)"
   ]
  },
  {
   "cell_type": "markdown",
   "metadata": {},
   "source": [
    "# <font color=\"red\">Exercise</font> - Quantum Phase : <font color=\"blue\"> Quirk</font>\n",
    "\n",
    "> Use the **QUIRK Quantum Circuit Simulator** to gain experience and an **intuition of Quantum Phase Rotations**.\n",
    "\n",
    "\n",
    "> **NOTE:** - This exercise assumes some knowledge and experience of QUIRK provided by the presenter - which **is** part of this educational pedagogy.\n",
    "- QUIRK Users Guide: - https://github.com/Strilanc/Quirk/wiki/How-to-use-Quirk\n",
    "\n",
    "#### The below circuit is set to continuously traverse the \"Phase\" (X-Axis) portion of a Qubit : (rotating around the Z axis).\n",
    "\n",
    "> **The Exercise is to interrogate the QUIRK Circuit Simulator and notice the following**: \n",
    "- if you hover over an object w/your mouse you get pop out boxes with important information about each element in question.\n",
    "- the H (Hadamard) gate puts the Qubit into superposition \n",
    "- the **R(z)** gate uses a **(Pi t)** increment that continually rotates the point on the sphere along a **Phase** trajectory which does not alter the Magnitudes, only the Phase values. Confirm this by hovering over the light blue Qubit Circles representing decimal values of Zero and One respectively and observing that the **Magnitude^2 values of 50%** do **not** change while the phase values **do** change. \n",
    "- that the horizontal movement is constant on the meridian of the sphere. Confirm this by hovering over the bloch sphere as it rotates and noticing that **Theta** (Vertical / Longitude) is stable at **+90 degrees**, while **Psi** is in continuous movement. \n",
    "- since the rotation is around the Z-Axis, that value is atable at Zero.\n",
    "\n",
    ">>> #### Reference.\n",
    "\n",
    "![theta-psi-coordinates-small](img/theta-psi-coordinates-small-1.png \"theta-psi-coordinates-small\")\n",
    "\n",
    "\n",
    "    \n",
    ">>> #### Bloch Sphere View    \n",
    "![PhaseBS_Theta-Z](img/PhaseBS_Theta-Z.png \"PhaseBS_Theta-Z\")\n",
    "\n",
    "\n",
    "    \n",
    ">>> #### Circle Plot View        \n",
    "![PhaseBS_Mag2](img/PhaseBS_Mag2.png \"PhaseBS_Mag2\")\n"
   ]
  },
  {
   "cell_type": "code",
   "execution_count": 8,
   "metadata": {
    "scrolled": false
   },
   "outputs": [
    {
     "data": {
      "text/html": [
       "\n",
       "        <iframe\n",
       "            width=\"900\"\n",
       "            height=\"600\"\n",
       "            src=\"https://algassert.com/quirk#circuit={%22cols%22:[[%22H%22],[{%22id%22:%22Rzft%22,%22arg%22:%22pi%20t%22}]]}\"\n",
       "            frameborder=\"0\"\n",
       "            allowfullscreen\n",
       "        ></iframe>\n",
       "        "
      ],
      "text/plain": [
       "<IPython.lib.display.IFrame at 0x281ed98f908>"
      ]
     },
     "execution_count": 8,
     "metadata": {},
     "output_type": "execute_result"
    }
   ],
   "source": [
    "# QUIRK (Quantum Circuit Simulator) of Superposition R(z) Circuit \n",
    "from IPython.display import IFrame\n",
    "\n",
    "IFrame(src='https://algassert.com/quirk#circuit={%22cols%22:[[%22H%22],[{%22id%22:%22Rzft%22,%22arg%22:%22pi%20t%22}]]}', width=900, height=600)"
   ]
  },
  {
   "cell_type": "markdown",
   "metadata": {},
   "source": [
    "> **<font color=\"blue\">Intuition Builder</font>:**\n",
    "\n",
    "- **<font color=\"red\">Q</font>:** If there is <font color=\"red\">no</font> Phase Value associated witht **|0> Zero** Ket, then why does this framework have the **|0> Zero** Ket phase move when executing phase rotations gates?\n",
    "\n",
    "- **<font color=\"red\">A</font>:** The discs are animated in a manner that **shows states being split and recombined** (arrow head joined to arrow tail), demonstrating **constructive** and **destructive** **<font color=\"red\">interference</font>**."
   ]
  },
  {
   "cell_type": "markdown",
   "metadata": {},
   "source": [
    "# <font color=\"green\">Homework</font> - Quantum Phase : <font color=\"blue\"> Quirk</font>\n",
    "\n",
    "> Use the **QUIRK Quantum Gate Fremework** to create your own Quantum Circuits involving Phase Rotations.\n",
    "- start with a blank circuit\n",
    "- install a H (Hadamard) gate\n",
    "- install a R(z) from under the \"Formulaic Heading **Rz(f(t))**\"\n",
    "- *change the formula* from the stock \"pi t^2\" (to your version using a derivative of **\"pi\"**) \n",
    "- make sure you use the multiplication operator <font size=5 color=\"red\">*</font> in your formula if you ever multiply Pi by a number.\n",
    "- notice that w/out the \"t\" flag, the circuts output defaults to only a point, and not an animation\n",
    "- notice where that point lands on the bloch sphere\n",
    "- correlate that with your experiences using the Bloch Sphere Playground Application (for the same rotations) and try to get consistent results with your rotations between the two tools.\n",
    "- iterate on the above (5 or 6 diferent times) altering your \"formula\" each iteration to see how the simulator behaves \n",
    "\n",
    "**NOTE:** - this is meant to **develop an intitution about the phase rotations** on the bloch sphere - very important for programming quantum simulators later on.\n",
    "\n",
    "\n"
   ]
  },
  {
   "cell_type": "code",
   "execution_count": 9,
   "metadata": {},
   "outputs": [
    {
     "data": {
      "text/html": [
       "\n",
       "        <iframe\n",
       "            width=\"900\"\n",
       "            height=\"600\"\n",
       "            src=\"https://algassert.com/quirk#circuit={%22cols%22:[]}\"\n",
       "            frameborder=\"0\"\n",
       "            allowfullscreen\n",
       "        ></iframe>\n",
       "        "
      ],
      "text/plain": [
       "<IPython.lib.display.IFrame at 0x281ed992088>"
      ]
     },
     "execution_count": 9,
     "metadata": {},
     "output_type": "execute_result"
    }
   ],
   "source": [
    "# QUIRK (Quantum Circuit Simulator) of Superposition R(z) Circuit \n",
    "from IPython.display import IFrame\n",
    "IFrame(src='https://algassert.com/quirk#circuit={%22cols%22:[]}', width=900, height=600)"
   ]
  },
  {
   "cell_type": "markdown",
   "metadata": {},
   "source": [
    "# <font color=\"red\">Coding Exercise</font> - Manipulating Quantum Phases: <font color=\"blue\"> QisKit</font>\n",
    "\n",
    "- #### **Learn Qiskit**: https://qiskit.org/textbook/preface.html\n",
    "\n",
    "> Use the **Qiskit Quantum Simulator** to gain experience and an **intuition of Quantum Phase Rotations**.\n",
    "\n",
    "\n",
    "> **NOTE:** \n",
    "- This exercise assumes some knowledge and experience of QisKit provided by the presenter - which **is** part of this educational pedagogy.\n",
    "- This also assumes the user has the appropriate framework(s) installed and running properly.\n",
    "- remember to **reset** the Qiskit Circuit between runs to avoid run pollution - you will need to do this **every** run.\n",
    "- use both the QUIRK Framework and the Bloch Sphere Playground to **verify the results of your experiments**\n",
    "- Hint: remember that each *Bloch Sphere Playground* - a **single tick** (push of a button) is **1/12th** of a unit of rotation, that can directly translate into your formula for Qiskit phase Roatations.\n",
    "\n",
    "\n",
    "\n",
    "> If it helps: remember that **Pi radians is equal to 180 degrees** -the below link is provided as a reference.\n",
    "- https://www.quia.com/jg/321176list.html\n",
    "\n",
    "\n",
    "\n",
    "## Reminder: Complex Numbers and Qiskit's StateVector\n",
    "\n",
    "> Qiskit returns a **<font color=\"blue\">statevector</font>** in the form of a **<font color=\"red\">complex number</font>** that contains **amplitudes and phases** that take work to get used to and develop intuitions about.\n",
    "\n",
    "- https://www.geeksforgeeks.org/complex-numbers-in-python-set-1-introduction/\n",
    ">> - Geometrically, the phase of a complex number is the angle between the positive real axis and the vector representing complex number. \n",
    ">> - This is also known as argument of complex number. \n",
    "Phase is returned using the function **phase()**, which takes *complex number as argument*. \n",
    ">> - The range of phase lies from -pi to +pi. i.e from -3.14 to +3.14.\n",
    "\n",
    "- Blog Article: https://towardsdatascience.com/quantum-computing-notes-for-a-python-programmer-geometry-of-complex-numbers-469a6265e0c7\n",
    "- Github: https://gist.github.com/rcshubhadeep/919801ada2983e9c93db30f8eb8ed2c5\n",
    "\n",
    "**NOTE** - we can **normalize the statevector** to get amplitudes and pull out the phases as well to help provide intuition by leveraging some helper functions that normalize and create polar plots.\n"
   ]
  },
  {
   "cell_type": "markdown",
   "metadata": {},
   "source": [
    "### <font color=\"red\">REMINDER</font>:- <font color=\"blue\">The Anatomy of the QISKIT Quantum Simulator </font>\n",
    "\n",
    "<BR>\n",
    "\n",
    "![Qiskit-Process](img/Qiskit-Process1.png \"\")"
   ]
  },
  {
   "cell_type": "markdown",
   "metadata": {},
   "source": [
    "### TODO:\n",
    "\n",
    "- setup a quantum register and circuit\n",
    "- place a Hadamard and R(<font color=\"red\">**z**</font>) gates (phase manipulation)\n",
    "- draw the circuit\n",
    "- execute this against a backend Quantum Simulator\n",
    "- print out the resultant quantum state vector\n",
    "- print out the resultant bloch sphere"
   ]
  },
  {
   "cell_type": "markdown",
   "metadata": {},
   "source": [
    "### Setup the Program"
   ]
  },
  {
   "cell_type": "code",
   "execution_count": 10,
   "metadata": {},
   "outputs": [],
   "source": [
    "# Import Qiskit, and set up a Quantum register of 1 Qubit, and set up a Quantum Circuit w/that register\n",
    "\n",
    "import numpy as np\n",
    "from qiskit import QuantumCircuit, QuantumRegister, execute\n",
    "import cmath\n",
    "import math\n",
    "import matplotlib.pyplot as P\n",
    "import matplotlib.pyplot as plt\n",
    "from circle_plot import *\n",
    "from qiskit.tools.visualization import plot_bloch_multivector\n",
    "from qsphere_plotter import plot_state_qsphere\n",
    "from widgets import minicomposer\n",
    "from may4_challenge_common import return_state, vec_in_braket, statevec\n",
    "\n",
    "\n",
    "# Set up a quantum register and a quantum circuit\n",
    "qr = QuantumRegister(1)\n",
    "circ = QuantumCircuit(qr)\n",
    "\n",
    "\n",
    "# Helper Funtion for Normalizing State Vectors\n",
    "#\n",
    "def normalize_state_Vector(state_vector):\n",
    "    for result in state_vector:\n",
    "        print(\"Normalized Result: \" , round( np.abs(result)**2, 1) )\n",
    "        \n",
    "        \n",
    "# Helper Funtion for print Polar Phase(s)\n",
    "#      \n",
    "def plot_polar(state_vector):\n",
    "    pi_radians = 180;\n",
    "    for x in state_vector:\n",
    "        plt.polar([0,cmath.phase(x)],[0,abs(x)],marker='o')\n",
    "        print(\"The original complex number Re{%d}, Im{%d}, and Length : %f\" % (x.real, x.imag, abs(x)))\n",
    "        print(\"Phase: \",cmath.phase(x))\n",
    "        if cmath.phase(x) != 0:\n",
    "            print(\"Angle: \", pi_radians/(np.pi/cmath.phase(x)))\n",
    "    "
   ]
  },
  {
   "cell_type": "markdown",
   "metadata": {},
   "source": [
    "### Programatically manipulate the circuit (Phase)\n",
    "\n",
    "#### <font color=\"red\">NOTE</font>: This is the only code segment you change\n",
    "- The range of phase lies from -pi to +pi. i.e from -3.14 to +3.14.\n",
    "- Pi radians is equal to 180 degrees\n",
    "- 1/2 * Pi (180/2) = 90 Degrees\n"
   ]
  },
  {
   "cell_type": "code",
   "execution_count": 11,
   "metadata": {},
   "outputs": [
    {
     "data": {
      "image/png": "[encoded data removed]",
      "text/plain": [
       "<Figure size 244.412x84.28 with 1 Axes>"
      ]
     },
     "execution_count": 11,
     "metadata": {},
     "output_type": "execute_result"
    }
   ],
   "source": [
    "# Place an H (Hadamard) gate on the circuit\n",
    "# Note: Qiskit rotates in Radians not Degrees so the correct calculation needs to be made\n",
    "# Place an Rz gate with a Pi/2 rotation = 90 Degrees \n",
    "\n",
    "circ.h(qr[0])\n",
    "circ.rz( np.pi/2 , qr[0])\n",
    "\n",
    "# Draw the circuit\n",
    "circ.draw(output='mpl')"
   ]
  },
  {
   "cell_type": "markdown",
   "metadata": {},
   "source": [
    "### Submit the program to the backed, execute and print the state\n",
    "- notice the amplitudes returned (not magnitudes)"
   ]
  },
  {
   "cell_type": "code",
   "execution_count": 12,
   "metadata": {},
   "outputs": [
    {
     "data": {
      "text/plain": [
       "array([0.707+0.j   , 0.   +0.707j])"
      ]
     },
     "execution_count": 12,
     "metadata": {},
     "output_type": "execute_result"
    }
   ],
   "source": [
    "# Use the BasicAer statevector_simulator backend, submit the job, preview the quantum state\n",
    "\n",
    "from qiskit import BasicAer\n",
    "backend_sv_sim = BasicAer.get_backend('statevector_simulator')\n",
    "\n",
    "job_sim = execute(circ, backend_sv_sim)\n",
    "result_sim = job_sim.result()\n",
    "quantum_state = result_sim.get_statevector(circ, decimals=3)\n",
    "\n",
    "# Output the quantum state vector (Amplitude of zero and one state respectively)\n",
    "quantum_state"
   ]
  },
  {
   "cell_type": "markdown",
   "metadata": {},
   "source": [
    "### Normalize the State Vector for sake of intuition\n",
    "- This is a **Phase** change so magnitudes stay constant at 50%"
   ]
  },
  {
   "cell_type": "code",
   "execution_count": 13,
   "metadata": {},
   "outputs": [
    {
     "name": "stdout",
     "output_type": "stream",
     "text": [
      "Normalized Result:  0.5\n",
      "Normalized Result:  0.5\n"
     ]
    }
   ],
   "source": [
    "# Print out normalized statevector  (to gain probabilities)\n",
    "#\n",
    "normalize_state_Vector(quantum_state)"
   ]
  },
  {
   "cell_type": "markdown",
   "metadata": {},
   "source": [
    "### Print the Polar Plot for sake of intuition\n",
    "- The **Polar Plots** will also show phase differences.\n",
    "- (+90) Degree Z-Rotation of the **|1> Ket**\n",
    "\n",
    "#### <font color=\"red\">NOTICE</font> -  Qiskit Returned Values:\n",
    "\n",
    "<BR>\n",
    "\n",
    "**|0> Ket**\n",
    "> *The original complex number* Re{0}, Im{0}, and Length : **0.707000** (Magnitude of 50%)\n",
    "- **Phase:  0.0**\n",
    "\n",
    "**|1> Ket**\n",
    "> *The original complex number* Re{0}, Im{0}, and Length : **0.707000** (Magnitude of 50%)\n",
    "- **Phase:  1.5707963267948966** = **<font color=\"red\">(Pi/2)</font>**\n",
    "- **Angle:  90.0** Degrees = **<font color=\"red\">(180/2)</font>**\n",
    "\n",
    "- Reminder: Pi Radians is equal to 180 degrees"
   ]
  },
  {
   "cell_type": "code",
   "execution_count": 14,
   "metadata": {
    "scrolled": false
   },
   "outputs": [
    {
     "name": "stdout",
     "output_type": "stream",
     "text": [
      "The original complex number Re{0}, Im{0}, and Length : 0.707000\n",
      "Phase:  0.0\n",
      "The original complex number Re{0}, Im{0}, and Length : 0.707000\n",
      "Phase:  1.5707963267948966\n",
      "Angle:  90.0\n"
     ]
    },
    {
     "data": {
      "image/png": "[encoded data removed]",
      "text/plain": [
       "<Figure size 432x288 with 1 Axes>"
      ]
     },
     "metadata": {
      "needs_background": "light"
     },
     "output_type": "display_data"
    }
   ],
   "source": [
    "# Plot Polar Coordinates for intuitions sake - provides an idea of the angle of the plot on the curve : appears 90 Degrees\n",
    "# Plot both vectors and phase / angle (if non-zero)\n",
    "\n",
    "P.clf()\n",
    "sp = P.subplot(1, 1, 1, projection='polar')\n",
    "sp.set_theta_zero_location('N')\n",
    "sp.set_theta_direction(1)\n",
    "\n",
    "plot_polar(quantum_state)"
   ]
  },
  {
   "cell_type": "markdown",
   "metadata": {},
   "source": [
    "### Print the Circle Plots for sake of intuition\n",
    "- The **Circle Plots** will show *magnitude* and *phase* differences.\n",
    "- **<font color=\"red\">Gotcha</font>**: There is <font color=\"red\">no</font> Phase Value associated witht **|0> Zero** Ket.\n",
    "- (+90) Degree Z-Rotation of the |1> Ket"
   ]
  },
  {
   "cell_type": "code",
   "execution_count": 15,
   "metadata": {},
   "outputs": [
    {
     "data": {
      "image/png": "[encoded data removed]",
      "text/plain": [
       "<Figure size 288x144 with 2 Axes>"
      ]
     },
     "metadata": {
      "needs_background": "light"
     },
     "output_type": "display_data"
    }
   ],
   "source": [
    "# Print out Circle Notation for intuitions sake\n",
    "\n",
    "from circle_plot import *\n",
    "plot_circles(quantum_state)"
   ]
  },
  {
   "cell_type": "markdown",
   "metadata": {},
   "source": [
    "### Print the Bloch Sphere for sake of intuition\n",
    "- Check this against the Bloch Sphere Payground version below the plot."
   ]
  },
  {
   "cell_type": "code",
   "execution_count": 16,
   "metadata": {
    "scrolled": true
   },
   "outputs": [
    {
     "data": {
      "image/png": "[encoded data removed]",
      "text/plain": [
       "<Figure size 288x288 with 1 Axes>"
      ]
     },
     "execution_count": 16,
     "metadata": {},
     "output_type": "execute_result"
    }
   ],
   "source": [
    "# Plot the state vector on a Bloch sphere\n",
    "\n",
    "from qiskit.tools.visualization import plot_bloch_multivector\n",
    "plot_bloch_multivector(quantum_state)"
   ]
  },
  {
   "cell_type": "markdown",
   "metadata": {},
   "source": [
    ">> ### Notice the Phase value of Pi/2 (+90 Degrees)\n",
    "- Magnitudes did not change.\n",
    "\n",
    "![exercise-phase_rotation1](img/exercise-phase_rotation1.png \"\")"
   ]
  },
  {
   "cell_type": "markdown",
   "metadata": {},
   "source": [
    "### QISKIT Plot State QSPhere\n",
    "- This visual notation is slightly different but nevertheless consistent once you get to know it."
   ]
  },
  {
   "cell_type": "code",
   "execution_count": 17,
   "metadata": {},
   "outputs": [
    {
     "data": {
      "image/png": "[encoded data removed]",
      "text/plain": [
       "<Figure size 504x504 with 2 Axes>"
      ]
     },
     "execution_count": 17,
     "metadata": {},
     "output_type": "execute_result"
    }
   ],
   "source": [
    "plot_state_qsphere(quantum_state, show_state_labels=True, show_state_angles=True) "
   ]
  },
  {
   "cell_type": "markdown",
   "metadata": {},
   "source": [
    "# <font color=\"red\">Exercise</font> - Quantum Phase : <font color=\"blue\"> Recreate the Circuit w/the QCEngine</font> \n",
    "- **QCEngine**: https://oreilly-qc.github.io/\n",
    "- **Documentation**: https://oreilly-qc.github.io/docs/build/\n",
    "\n",
    "\n",
    "> **Cut-N-Paste** the code below into the engine, run it and inspect the circle charts for congruence to the above experiments.\n",
    "- Notice it is the code that generates the Circuit Diagram and the Circle Charts (Magnitude and Phase)\n",
    "- Interact w/the Circuit Gate using mouseovers. \n",
    "\n",
    "\n",
    "**<font color=\"blue\">Intuition Builder</font>:**\n",
    "- Circuit Diagrams - You can **interact** with the QCEngine Circuit Diagram by clicking on the various segments of it and observing how the gates influence the circle diagrams.\n",
    "- What would happen if a READ operation was executed at the end?\n",
    "- This is being done on a simulator, could it work the same on real QC Hardware?\n",
    "\n",
    "\n",
    "- **<font color=\"red\">Q</font>:** Can you garner ALL of the information needed to adequately articulate a quantum algorithm simply by perusing the Circuit Diagram.\n",
    "\n",
    "\n",
    "- **<font color=\"red\">A</font>:** No! It's only a visual representation, one must always inspect the code to get a full picture of the algorithm.\n",
    "\n",
    "\n",
    "- **<font color=\"red\">Gotcha</font>**: There is <font color=\"red\">no</font> Phase Value associated witht **|0> Zero** Ket."
   ]
  },
  {
   "cell_type": "raw",
   "metadata": {},
   "source": [
    "// This QCEngine code replicates a phase Rotation (Z Rotation) of 90 Degrees.\n",
    "// \n",
    "\n",
    "qc.reset(1);         // allocate one qubit\n",
    "qc.write(0);         // write the value zero (initialization)\n",
    "qc.had();            // place it into superposition of 0 and 1\n",
    "qc.phase(90)         // execute a 90 Degree phase rotation (Pi/2 Radians in Qiskit, and BSP)\n",
    "\n",
    "// Uncomment to force a read operation\n",
    "// var result = qc.read();  // read the result as a digital bit\n"
   ]
  },
  {
   "cell_type": "code",
   "execution_count": 18,
   "metadata": {},
   "outputs": [
    {
     "data": {
      "text/html": [
       "\n",
       "        <iframe\n",
       "            width=\"900\"\n",
       "            height=\"600\"\n",
       "            src=\"https://oreilly-qc.github.io\"\n",
       "            frameborder=\"0\"\n",
       "            allowfullscreen\n",
       "        ></iframe>\n",
       "        "
      ],
      "text/plain": [
       "<IPython.lib.display.IFrame at 0x2819d631a88>"
      ]
     },
     "execution_count": 18,
     "metadata": {},
     "output_type": "execute_result"
    }
   ],
   "source": [
    "# QCEngine (Quantum Simulator)\n",
    "from IPython.display import IFrame\n",
    "IFrame(src='https://oreilly-qc.github.io', width=900, height=600)"
   ]
  },
  {
   "cell_type": "markdown",
   "metadata": {},
   "source": [
    "# <font color=\"red\">Exercise</font> - Quantum Phase : <font color=\"blue\"> Recreate Circuit w/the Bloch Sphere Playground</font>\n",
    "\n",
    "> Use the **Bloch Sphere Playground** incorporating the same formula as **above** and make sure the results look the the below geometry.\n",
    "\n",
    "> Formula:\n",
    "- Execute an **H** (Hadamard) gate on the circuit\n",
    "- Execute an **+R(z)** gate with a **<font color=\"red\">four</font> iterations** (ticks).\n",
    "\n",
    "\n",
    "> <font color=\"red\">**Reminder:** </font> - After the interrogation of the circuit we get **0.707*0.707** = **0.5** of **value 0**, and **0.707*0.707** = **0.5** of **value 1**.\n",
    "- Therefore the values of the **magnitudes** will be .5 or 50%, and the **phase** is 90 degrees (pi/2).\n"
   ]
  },
  {
   "cell_type": "markdown",
   "metadata": {},
   "source": [
    "![exercise-phase_rotation1](img/exercise-phase_rotation1.png \"exercise-phase_rotation1\")\n",
    "\n",
    "\n",
    "\n",
    ">>> **QISKIT QUBIT**:\n",
    "\n",
    "![PhaseQuBitZRotation](img/PhaseQuBitZRotation.png \"PhaseQuBitZRotation\")"
   ]
  },
  {
   "cell_type": "code",
   "execution_count": 19,
   "metadata": {},
   "outputs": [
    {
     "data": {
      "text/html": [
       "\n",
       "        <iframe\n",
       "            width=\"900\"\n",
       "            height=\"700\"\n",
       "            src=\"https://javafxpert.github.io/grok-bloch/\"\n",
       "            frameborder=\"0\"\n",
       "            allowfullscreen\n",
       "        ></iframe>\n",
       "        "
      ],
      "text/plain": [
       "<IPython.lib.display.IFrame at 0x2819d631748>"
      ]
     },
     "execution_count": 19,
     "metadata": {},
     "output_type": "execute_result"
    }
   ],
   "source": [
    "# Bloch Sphere Playground Application\n",
    "from IPython.display import IFrame\n",
    "IFrame(src='https://javafxpert.github.io/grok-bloch/', width=900, height=700)"
   ]
  },
  {
   "cell_type": "code",
   "execution_count": null,
   "metadata": {},
   "outputs": [],
   "source": []
  },
  {
   "cell_type": "markdown",
   "metadata": {},
   "source": [
    "# <font color=\"red\">Exercise</font> - Quantum Phase : <font color=\"blue\"> Verify circuit with QUIRK</font>\n",
    "\n",
    "\n",
    "> **Reminder:** After interrogating the circuit we get **0.707*0.707** = **0.5** of **value 0** and **0.707*0.707** = **0.5** of **value 1**.\n",
    "- Therefore the values of the **amplitudes** will be .5 or 50%, and the **phase** is 90 degrees (pi/2).\n",
    "\n",
    "#### TODO\n",
    "- peruse the recreated circuit below\n",
    "- hover over the key areas to view the resultant amplitude values, the magnitude probabilities, and phase values of 90 degrees.\n",
    "- realize that placing an H gate leaves you at phase Zero and amplitude of 50% / 50%.\n",
    "- adding the R(z) gate with the (Pi/2) rotates the point of the sphere surface by a **90 degree** *change*.\n",
    "- notice that the QUIRK bloch sphere widget is **visually similar** to the *Bloch Sphere Playground result and Qiskit plot*.\n",
    "- notice that **Theta** and **Psi** are both +90 Degrees - compare that to the image below for developing intuition about these rotations. \n",
    "\n",
    "\n",
    "\n",
    "![bloch-sphere-local-state](img/bloch-sphere-local-state.png \"bloch-sphere-local-state\")\n",
    "\n",
    "<BR><BR>\n",
    "\n",
    "\n",
    "**Retrospective:** - QUIRKs angle representations are similar to those of the Quantum Computer Gate Playground.\n",
    "\n",
    "- **Phase:  1.5707963267948966** = **<font color=\"red\">(Pi/2)</font>**\n",
    "- **Angle:  90.0** Degrees = **<font color=\"red\">(180/2)</font>**\n",
    "\n",
    "\n",
    "> **<font color=\"blue\">Intuition Builder</font>:**\n",
    "\n",
    "\n",
    "- **<font color=\"red\">Q</font>:** If there is <font color=\"red\">no</font> Phase Value associated witht **|0> Zero** Ket, then why does this framework have the **|0> Zero** Ket phase move when executing phase rotations gates?\n",
    "\n",
    "- **<font color=\"red\">A</font>:** The discs are animated in a manner that shows states being split and recombined (arrow head joined to arrow tail), demonstrating **constructive** and **destructive** interference.\n",
    "\n",
    "\n",
    "![PhaseQUIRK-CCGPe](img/PhaseQUIRK-CCGP.png \"\")\n",
    "\n",
    "<BR><BR>\n"
   ]
  },
  {
   "cell_type": "code",
   "execution_count": 20,
   "metadata": {
    "scrolled": false
   },
   "outputs": [
    {
     "data": {
      "text/html": [
       "\n",
       "        <iframe\n",
       "            width=\"900\"\n",
       "            height=\"600\"\n",
       "            src=\"https://algassert.com/quirk#circuit={%22cols%22:[[%22H%22],[{%22id%22:%22Rzft%22,%22arg%22:%22pi/2%22}]]}\"\n",
       "            frameborder=\"0\"\n",
       "            allowfullscreen\n",
       "        ></iframe>\n",
       "        "
      ],
      "text/plain": [
       "<IPython.lib.display.IFrame at 0x2819d639388>"
      ]
     },
     "execution_count": 20,
     "metadata": {},
     "output_type": "execute_result"
    }
   ],
   "source": [
    "# QUIRK (Quantum Circuit Simulator) of Above Circuit \n",
    "from IPython.display import IFrame\n",
    "IFrame(src='https://algassert.com/quirk#circuit={%22cols%22:[[%22H%22],[{%22id%22:%22Rzft%22,%22arg%22:%22pi/2%22}]]}', width=900, height=600)"
   ]
  },
  {
   "cell_type": "markdown",
   "metadata": {},
   "source": [
    "### <font color=\"red\">Observe: </font>\n",
    "\n",
    "- these are bloch sphere representations of the local qubit state\n",
    "- observe that **Theta** and **Psi** are both **+90 Degrees** - the **intuition** is that they are both **90 degrees** from their **X (Longitudinal / Horizontal)** origins and **Y (Latitudinal / Vertical)** origins respectively.\n",
    "- compare the images below for developing intuition about these specific rotations."
   ]
  },
  {
   "cell_type": "markdown",
   "metadata": {},
   "source": [
    "![bs-ex1-comparison](img/bs-ex1-comparison-1.png \"bs-ex1-comparison\")"
   ]
  },
  {
   "cell_type": "code",
   "execution_count": null,
   "metadata": {},
   "outputs": [],
   "source": []
  },
  {
   "cell_type": "markdown",
   "metadata": {},
   "source": [
    "# <font color=\"green\">Coding Homework</font> - Quantum Phase : <font color=\"blue\"> QisKit</font>\n",
    "\n",
    "> Use the **Qiskit Quantum Simulator** to gain <font color=\"red\">**more** </font>  experience and an **intuition of Quantum Phase Rotations**.\n",
    "\n",
    "\n",
    "> **NOTE:** \n",
    "- remember to reset the Qiskit Circuit between runs to avoid run pollution.\n",
    "- use both the QUIRK Framework and the Bloch Sphere Playground to **verify the results of your experiments**\n",
    "- remember that each Bloch Sphere Playground - a **single tick** (push of a button) is **1/12th** of a unit of rotation, that can directly translate into your formula for Qiskit phase Roatations.\n",
    "\n",
    "\n",
    "\n",
    "> If it helps: remember that **Pi radians is equal to 180 degrees** -the below link is provided as a reference.\n",
    "- https://www.quia.com/jg/321176list.html\n"
   ]
  },
  {
   "cell_type": "markdown",
   "metadata": {},
   "source": [
    "#### TODO\n",
    "- peruse and run the entire circuit below that applies a Hadamard (Superposition Gate) and a R(z) Phase Rotation of (Pi) \n",
    "- execute the back end to procure the result and state vector\n",
    "- print out the bloch sphere\n",
    "- <font color=\"red\">alter </font> the R(z) phase rotation formula to a few different variations of (Pi) and <font color=\"red\">rerun </font>  the circuit - observe the change in the point on the sphere.\n",
    "- <font color=\"red\">verify </font> each of the rotations against Bloch Sphere Playground and QUIRK"
   ]
  },
  {
   "cell_type": "code",
   "execution_count": 21,
   "metadata": {},
   "outputs": [],
   "source": [
    "# Import Qiskit, and set up a Quantum register of 1 Qubit, and set up a Quantum Circuit w/that register\n",
    "\n",
    "import numpy as np\n",
    "from qiskit import QuantumCircuit, QuantumRegister, execute\n",
    "import cmath\n",
    "import math\n",
    "import matplotlib.pyplot as P\n",
    "import matplotlib.pyplot as plt\n",
    "from qsphere_plotter import plot_state_qsphere\n",
    "from widgets import minicomposer\n",
    "from may4_challenge_common import return_state, vec_in_braket, statevec\n",
    "\n",
    "\n",
    "qr = QuantumRegister(1)\n",
    "circ = QuantumCircuit(qr)\n",
    "\n",
    "\n",
    "# Helper Funtion for Normalizing State Vectors\n",
    "#\n",
    "def normalize_state_Vector(state_vector):\n",
    "    for result in state_vector:\n",
    "        print(\"Normalized Result: \" , round( np.abs(result)**2, 1) )\n",
    "        \n",
    "        \n",
    "# Helper Funtion for print Polar Phase(s)\n",
    "#      \n",
    "def plot_polar(state_vector):\n",
    "    pi_radians = 180;\n",
    "    for x in state_vector:\n",
    "        plt.polar([0,cmath.phase(x)],[0,abs(x)],marker='o')\n",
    "        print(\"The original complex number Re{%d}, Im{%d}, and Length : %f\" % (x.real, x.imag, abs(x)))\n",
    "        print(\"Phase: \",cmath.phase(x))\n",
    "        if cmath.phase(x) != 0:\n",
    "            print(\"Angle: \", pi_radians/(np.pi/cmath.phase(x)))\n",
    "\n",
    "            "
   ]
  },
  {
   "cell_type": "markdown",
   "metadata": {},
   "source": [
    "#### <font color=\"red\">NOTE</font>: This is the only code segment you change"
   ]
  },
  {
   "cell_type": "code",
   "execution_count": 22,
   "metadata": {},
   "outputs": [
    {
     "data": {
      "image/png": "[encoded data removed]",
      "text/plain": [
       "<Figure size 244.412x84.28 with 1 Axes>"
      ]
     },
     "execution_count": 22,
     "metadata": {},
     "output_type": "execute_result"
    }
   ],
   "source": [
    "# Place an H (Hadamard) gate on the circuit\n",
    "# Place an Ry gate with a (Pi) rotation\n",
    "\n",
    "circ.h(qr[0])\n",
    "circ.rz( np.pi/2, qr[0])\n",
    "\n",
    "# Draw the circuit\n",
    "circ.draw(output='mpl')"
   ]
  },
  {
   "cell_type": "code",
   "execution_count": 23,
   "metadata": {},
   "outputs": [
    {
     "data": {
      "text/plain": [
       "array([0.707+0.j   , 0.   +0.707j])"
      ]
     },
     "execution_count": 23,
     "metadata": {},
     "output_type": "execute_result"
    }
   ],
   "source": [
    "# Use the BasicAer statevector_simulator backend, submit the job, preview the quantum state\n",
    "\n",
    "from qiskit import BasicAer\n",
    "backend_sv_sim = BasicAer.get_backend('statevector_simulator')\n",
    "\n",
    "job_sim = execute(circ, backend_sv_sim)\n",
    "result_sim = job_sim.result()\n",
    "quantum_state = result_sim.get_statevector(circ, decimals=3)\n",
    "\n",
    "# Output the quantum state vector (Amplitude of zero and one state respectively)\n",
    "quantum_state"
   ]
  },
  {
   "cell_type": "code",
   "execution_count": 24,
   "metadata": {},
   "outputs": [
    {
     "name": "stdout",
     "output_type": "stream",
     "text": [
      "Normalized Result:  0.5\n",
      "Normalized Result:  0.5\n"
     ]
    }
   ],
   "source": [
    "normalize_state_Vector(quantum_state)"
   ]
  },
  {
   "cell_type": "code",
   "execution_count": 25,
   "metadata": {},
   "outputs": [
    {
     "name": "stdout",
     "output_type": "stream",
     "text": [
      "The original complex number Re{0}, Im{0}, and Length : 0.707000\n",
      "Phase:  0.0\n",
      "The original complex number Re{0}, Im{0}, and Length : 0.707000\n",
      "Phase:  1.5707963267948966\n",
      "Angle:  90.0\n"
     ]
    },
    {
     "data": {
      "image/png": "[encoded data removed]",
      "text/plain": [
       "<Figure size 432x288 with 1 Axes>"
      ]
     },
     "metadata": {
      "needs_background": "light"
     },
     "output_type": "display_data"
    }
   ],
   "source": [
    "# Plot Polar Coordinates for intuitions sake - provides an idea of the angle of the plot on the curve \n",
    "# Plot both vectors and phase / angle (if non-zero)\n",
    "\n",
    "P.clf()\n",
    "sp = P.subplot(1, 1, 1, projection='polar')\n",
    "sp.set_theta_zero_location('N')\n",
    "sp.set_theta_direction(1)\n",
    "\n",
    "plot_polar(quantum_state)"
   ]
  },
  {
   "cell_type": "code",
   "execution_count": 26,
   "metadata": {},
   "outputs": [
    {
     "data": {
      "image/png": "[encoded data removed]",
      "text/plain": [
       "<Figure size 288x144 with 2 Axes>"
      ]
     },
     "metadata": {
      "needs_background": "light"
     },
     "output_type": "display_data"
    }
   ],
   "source": [
    "# Print out Circle Notation for intuitions sake\n",
    "\n",
    "from circle_plot import *\n",
    "plot_circles(quantum_state)"
   ]
  },
  {
   "cell_type": "markdown",
   "metadata": {},
   "source": [
    "### <font color=\"red\">Explanation:</font> \n",
    "\n",
    "\n",
    "Quantum State Vector: **array([0.707+0.j   , 0.   +0.707j])**\n",
    "\n",
    "> The first column shows the possibility of **value 0** and the second one as possibility of **value 1**. \n",
    "\n",
    "> <font color=\"red\">Note: </font> - After interrogating the circuit we get **0.707*0.707** = **0.5** of **value 0** and **0.707*0.707** = **0.5** of **value 1**.\n",
    "- Notice the value of Pi (180 degrees)"
   ]
  },
  {
   "cell_type": "code",
   "execution_count": 27,
   "metadata": {
    "scrolled": true
   },
   "outputs": [
    {
     "data": {
      "image/png": "[encoded data removed]",
      "text/plain": [
       "<Figure size 288x288 with 1 Axes>"
      ]
     },
     "execution_count": 27,
     "metadata": {},
     "output_type": "execute_result"
    }
   ],
   "source": [
    "# Plot the state vector on a Bloch sphere\n",
    "\n",
    "from qiskit.tools.visualization import plot_bloch_multivector\n",
    "plot_bloch_multivector(quantum_state)"
   ]
  },
  {
   "cell_type": "markdown",
   "metadata": {},
   "source": [
    "### <font color=\"red\">Observe: </font>\n",
    "\n",
    "\n",
    "- the state vector representations are constant, yet the bloch sphere plot has changed (due to the \"Pi\" R(z) rotation - meaning the point on the sphere moved.\n",
    "- this indicates the point is moving around the phase plane X-Axis changing the Phase but not the Magnitudes.\n",
    "- the phase &psi; is 180 degrees.\n",
    "\n"
   ]
  },
  {
   "cell_type": "markdown",
   "metadata": {},
   "source": [
    "### QISKIT Plot State QSPhere\n",
    "- This visual notation is slightly different but nevertheless consistent once you get to know it."
   ]
  },
  {
   "cell_type": "code",
   "execution_count": 28,
   "metadata": {},
   "outputs": [
    {
     "data": {
      "image/png": "[encoded data removed]",
      "text/plain": [
       "<Figure size 504x504 with 2 Axes>"
      ]
     },
     "execution_count": 28,
     "metadata": {},
     "output_type": "execute_result"
    }
   ],
   "source": [
    "plot_state_qsphere(quantum_state, show_state_labels=True, show_state_angles=True) "
   ]
  },
  {
   "cell_type": "markdown",
   "metadata": {},
   "source": [
    "# <font color=\"red\">Exercise</font> - Quantum Phase : <font color=\"blue\"> recreate with QUIRK and the BSP</font>"
   ]
  },
  {
   "cell_type": "markdown",
   "metadata": {},
   "source": [
    "#### TODO\n",
    "\n",
    "- **for each circuit** variation that you design <font color=\"red\">above </font> using Qiskit, recreate them in the **<font color=\"blue\">QUIRK</font>** and **<font color=\"blue\">Bloch Sphere Playground</font>**\n",
    "- verify the visual similarity of the resulting Qiskit bloch sphere plot and its counterpart in Bloch Sphere Playground and QUIRK\n",
    "- for QUIRK - be sure to inspect the key widgets to assure yourself the amplitude, phases, Theta, Psi, and (X, Y, Z) axis positions make intuitive sense. \n",
    "\n",
    "> <font color=\"red\">Note: </font> - the **QUIRK** Circuit Simulator is preset **below** - just modify as you see fit. The **Bloch Sphere Playground** is **below that**.\n"
   ]
  },
  {
   "cell_type": "code",
   "execution_count": 29,
   "metadata": {
    "scrolled": false
   },
   "outputs": [
    {
     "data": {
      "text/html": [
       "\n",
       "        <iframe\n",
       "            width=\"900\"\n",
       "            height=\"600\"\n",
       "            src=\"https://algassert.com/quirk#circuit={%22cols%22:[[%22H%22],[{%22id%22:%22Rzft%22,%22arg%22:%22pi%22}]]}\"\n",
       "            frameborder=\"0\"\n",
       "            allowfullscreen\n",
       "        ></iframe>\n",
       "        "
      ],
      "text/plain": [
       "<IPython.lib.display.IFrame at 0x2819e989348>"
      ]
     },
     "execution_count": 29,
     "metadata": {},
     "output_type": "execute_result"
    }
   ],
   "source": [
    "# QUIRK (Quantum Circuit Simulator) of Above Circuit \n",
    "from IPython.display import IFrame\n",
    "IFrame(src='https://algassert.com/quirk#circuit={%22cols%22:[[%22H%22],[{%22id%22:%22Rzft%22,%22arg%22:%22pi%22}]]}', width=900, height=600)"
   ]
  },
  {
   "cell_type": "code",
   "execution_count": 31,
   "metadata": {},
   "outputs": [
    {
     "data": {
      "text/html": [
       "\n",
       "        <iframe\n",
       "            width=\"950\"\n",
       "            height=\"700\"\n",
       "            src=\"https://javafxpert.github.io/grok-bloch/\"\n",
       "            frameborder=\"0\"\n",
       "            allowfullscreen\n",
       "        ></iframe>\n",
       "        "
      ],
      "text/plain": [
       "<IPython.lib.display.IFrame at 0x2819e9c8348>"
      ]
     },
     "execution_count": 31,
     "metadata": {},
     "output_type": "execute_result"
    }
   ],
   "source": [
    "# Bloch Sphere Playground Application\n",
    "from IPython.display import IFrame\n",
    "IFrame(src='https://javafxpert.github.io/grok-bloch/', width=950, height=700)"
   ]
  },
  {
   "cell_type": "code",
   "execution_count": null,
   "metadata": {},
   "outputs": [],
   "source": []
  },
  {
   "cell_type": "code",
   "execution_count": null,
   "metadata": {},
   "outputs": [],
   "source": []
  },
  {
   "cell_type": "markdown",
   "metadata": {},
   "source": [
    "# Deep Dive #2 : - <font color=\"blue\">Quantum</font> <font color=\"red\">Magnitudes</font> <font color=\"blue\">and the Bloch Sphere:</font>\n",
    "\n",
    "> The below diagram **supports the presenter led discussion** about the important concept of **Quantum Magnitudes**.\n",
    "\n",
    "- **NOTE:** The details, nuances, and key concepts are left to that discussion."
   ]
  },
  {
   "cell_type": "markdown",
   "metadata": {},
   "source": [
    "###  <font color=\"red\">Exercise</font>: - Things to take mental notice of:\n",
    "    \n",
    "    \n",
    "    \n",
    "- The formula for a point on the curve is a more detailed form of: The **basic formula** is : **|ψ> = α|0> + β|1>**\n",
    "- The ZERO Ket is at the top, the ONE ket at the bottom\n",
    "- Where the Amplitudes are in the equation\n",
    "- Where the Magnitudes are in the equation\n",
    "- Where the Phase value is in the equation\n",
    "- What increments the magnitudes are measure with (Complex Numbers).\n",
    "- That the **Magnitude** is a <font color=\"red\">**latitudinal (vertical)**</font> line on the sphere (Dark Disk)\n",
    "- The X-Axis (and how it spins)\n",
    "- The Y-Axis (and how it spins)\n",
    "- The Z-Axis (and how it spins)\n",
    "\n",
    "> **Importantly:** - Executing a **R(<font color=\"red\">y</FONT>)** gate moves the point on the surface of the sphere w/out affecting the **Phase** (those values do not change except at the threshold of **[0:0 and 1:Pi]** ) - only the **Magnitude** Values change.\n",
    "    \n",
    "> **Additionally:** - Executing a **R(<font color=\"red\">x</FONT>)** gate moves the point on the surface of the sphere w/out affecting the **Phase** (those values do not change except at the threshold of **aprox [0:Pi/3 and 1:Pi/2]** ) - only the **Magnitude** Values change.\n"
   ]
  },
  {
   "cell_type": "markdown",
   "metadata": {},
   "source": [
    "![bloch_sphere-magnitudes](img/bloch_sphere-magnitudes2.png \"bloch_sphere-magnitudes\")"
   ]
  },
  {
   "cell_type": "markdown",
   "metadata": {},
   "source": [
    "# <font color=\"red\">Hands on Exercises</font> \n",
    "\n",
    "> To gain an intuitive understanding of the **Quantum Magnitudes concepts** in the discussion and their relationship to rotating a point on the surface of a qubit - it's instructive to gain some *varied* experience in doing that. The below exercises are meant to provide a flavor of that.  \n",
    "\n",
    "> **Why?** - Because this are foundational concepts important to understand when actually creating quantum algorithms in the future."
   ]
  },
  {
   "cell_type": "markdown",
   "metadata": {},
   "source": [
    "# <font color=\"red\">Exercise</font> - Quantum Magnitude : <font color=\"blue\"> Bloch Sphere Playground</font> \n",
    "\n",
    "> Use the **Bloch Sphere Playground Application** to gain experience and an **intuition of Quantum Magnitude Rotations**.\n",
    "\n",
    "- The Bloch Sphere Playground Application can model accurately the behavior of the rotations of the point on the sphere executed by specific quantum processes / gates \n",
    "\n",
    "\n",
    "**Specifically**: \n",
    "\n",
    "- Go through the above exercise **\"Things to take Mental Notice of\"** so you experience them first hand using the tool.\n",
    "\n",
    "- The formula for a point on the curve is a more detailed form of: The **basic formula** is : **|ψ> = α|0> + β|1>**\n",
    "- The ZERO Ket is at the top, the ONE ket at the bottom\n",
    "- Where the Amplitudes are in the equation\n",
    "- Where the Magnitudes are in the equation\n",
    "- Where the Phase value is in the equation\n",
    "- What increments the amplitudes are measure with (Complex Numbers).\n",
    "- That the **Magnitude** is a <font color=\"red\">**longitude (vertical)**</font> line on the sphere (Dark Disk)\n",
    "- The X-Axis (and how it spins)\n",
    "- The Y-Axis (and how it spins)\n",
    "- The Z-Axis (and how it spins)\n",
    "\n",
    "> **Importantly:** - Executing a **R(<font color=\"red\">y</FONT>)** gate moves the point on the surface of the sphere w/out affecting the **Phase** (those values do not change except at the threshold of **[0:0 and 1:Pi]** ) - only the **Magnitude** Values change.\n",
    "\n",
    "> - Notice the projection of the magnitude onto the disc below the sphere.\n",
    "    \n",
    "> **Also:** - Executing a **R(<font color=\"red\">x</FONT>)** gate moves the point on the surface of the sphere w/out affecting the **Phase** (those values do not change except at the threshold of **aprox [0:Pi/3 and 1:Pi/2]** ) - only the **Magnitude** Values change.\n",
    "\n",
    "\n",
    "- **Experiment with R(y) Rotations** - Once in superposition, hit (incrementally) the **R(y)** **+/-(Pi/12)** botton to rotate the point on the sphere along the Y-Axis \n",
    "\n",
    "\n",
    "- **Experiment with R(x) Rotations** - Once in superposition, hit (incrementally) the **R(x)** **+/-(Pi/12)** botton to rotate the point on the sphere along the X-Axis \n",
    "\n",
    "\n"
   ]
  },
  {
   "cell_type": "code",
   "execution_count": 32,
   "metadata": {},
   "outputs": [
    {
     "data": {
      "text/html": [
       "\n",
       "        <iframe\n",
       "            width=\"900\"\n",
       "            height=\"700\"\n",
       "            src=\"https://javafxpert.github.io/grok-bloch/\"\n",
       "            frameborder=\"0\"\n",
       "            allowfullscreen\n",
       "        ></iframe>\n",
       "        "
      ],
      "text/plain": [
       "<IPython.lib.display.IFrame at 0x2819e9c8888>"
      ]
     },
     "execution_count": 32,
     "metadata": {},
     "output_type": "execute_result"
    }
   ],
   "source": [
    "# Bloch Sphere Playground Application\n",
    "from IPython.display import IFrame\n",
    "IFrame(src='https://javafxpert.github.io/grok-bloch/', width=900, height=700)"
   ]
  },
  {
   "cell_type": "markdown",
   "metadata": {},
   "source": [
    "# <font color=\"red\">Exercise</font> - Quantum Magnitudes : <font color=\"blue\"> Quirk</font>\n",
    "\n",
    "> Use the **QUIRK Quantum Circuit Simulator** to gain experience and an **intuition of Quantum Magnitude Rotations**.\n",
    "\n",
    "\n",
    "> **NOTE:** - This exercise assumes some knowledge and experience of QUIRK provided by the presenter - which **is** part of this educational pedagogy.\n",
    "\n",
    "#### The below circuit is set to continuously traverse the \"Magnitude\" (Y-Axis) portion of a Qubit.\n",
    "\n",
    "> **The Exercise is to interrogate the QUIRK Circuit Simulator and notice the following**: \n",
    "- if you hover over an object w/your mouse you get pop out boxes with important information about each element in question.\n",
    "- the **R(y)** and **R(x)** gates uses **Complex Numbers** increment that continually rotates the point on the sphere along the **Magnitudes** trajectory - this does **not** alter the Phases (incrementally), only the Magnitude values. Confirm this by hovering over the light blue Qubit Circles representing decimal values of Zero and One respectively and observing that the Magnitude values do change while the phase values do not change incrementally (but they do shift from +/-180 and Zero). \n",
    "- that the vertical trajectory is constant on the sphere. Confirm this by hovering over the bloch sphere as it rotates and noticing that **Psi** does not incrementally change but shifts from **+/-180** and **Zero**, while the **Y-Axis** is constant at **ZERO**.\n",
    "- try to determine the point(s) where Psi shifts from **+/-180** then to **Zero**.\n",
    "\n",
    "> - try the same with the **R(x)** gate and notice the above shifts.\n"
   ]
  },
  {
   "cell_type": "code",
   "execution_count": 33,
   "metadata": {},
   "outputs": [
    {
     "data": {
      "text/html": [
       "\n",
       "        <iframe\n",
       "            width=\"900\"\n",
       "            height=\"600\"\n",
       "            src=\"https://algassert.com/quirk#circuit={%22cols%22:[[{%22id%22:%22Ryft%22,%22arg%22:%22pi%20t%22}]]}\"\n",
       "            frameborder=\"0\"\n",
       "            allowfullscreen\n",
       "        ></iframe>\n",
       "        "
      ],
      "text/plain": [
       "<IPython.lib.display.IFrame at 0x2819e9cdb88>"
      ]
     },
     "execution_count": 33,
     "metadata": {},
     "output_type": "execute_result"
    }
   ],
   "source": [
    "# QUIRK (Quantum Circuit Simulator) of Superposition R(z) Circuit \n",
    "from IPython.display import IFrame\n",
    "IFrame(src='https://algassert.com/quirk#circuit={%22cols%22:[[{%22id%22:%22Ryft%22,%22arg%22:%22pi%20t%22}]]}', width=900, height=600)"
   ]
  },
  {
   "cell_type": "markdown",
   "metadata": {},
   "source": [
    "# <font color=\"green\">Homework</font> - Quantum Magnitude : <font color=\"blue\"> Quirk</font>\n",
    "\n",
    "> Use the **QUIRK Quantum Gate Framework** to create your own Quantum Circuits involving Magnitude Rotations.\n",
    "- start with a blank circuit\n",
    "- install a R(y) from under the \"Formulaic Heading **Ry(f(t))**\" \n",
    "- **change the formula* from the stock \"pi t^2\" (**to your version using a derivative of \"pi\"**) \n",
    "- notice that w/out the \"t\" flag, the circuts output defaults to only a point, and not an animation\n",
    "- notice where that point lands on the bloch sphere\n",
    "- correlate that with your experiences using the Bloch Sphere Playground Application (for the same rotations) and try to get consistent results with your rotations between the two tools.\n",
    "- iterate on the above (5 or 6 diferent times) altering your \"formula\" each iteration to see how the simulator behaves \n",
    "\n",
    "**NOTE:** - this is meant to **develop an intitution about the magnitude rotations** on the bloch sphere - very important for programming quantum simulators later on.\n",
    "\n",
    "> and then retry the above using the **Rx(f(t))** gate\n"
   ]
  },
  {
   "cell_type": "code",
   "execution_count": 34,
   "metadata": {},
   "outputs": [
    {
     "data": {
      "text/html": [
       "\n",
       "        <iframe\n",
       "            width=\"900\"\n",
       "            height=\"600\"\n",
       "            src=\"https://algassert.com/quirk#circuit={%22cols%22:[]}\"\n",
       "            frameborder=\"0\"\n",
       "            allowfullscreen\n",
       "        ></iframe>\n",
       "        "
      ],
      "text/plain": [
       "<IPython.lib.display.IFrame at 0x2819e9cd688>"
      ]
     },
     "execution_count": 34,
     "metadata": {},
     "output_type": "execute_result"
    }
   ],
   "source": [
    "# QUIRK (Quantum Circuit Simulator) of Superposition R(z) Circuit \n",
    "from IPython.display import IFrame\n",
    "IFrame(src='https://algassert.com/quirk#circuit={%22cols%22:[]}', width=900, height=600)"
   ]
  },
  {
   "cell_type": "markdown",
   "metadata": {},
   "source": [
    "# <font color=\"red\">Coding Exercise</font> - Manipulating Quantum Magnitudes: <font color=\"blue\"> QisKit</font>\n",
    "\n",
    "> Use the **Qiskit Quantum Simulator** to gain experience and an **intuition of Quantum Magnitude Rotations**.\n",
    "\n",
    "\n",
    "> **NOTE:** \n",
    "- This exercise assumes some knowledge and experience of QisKit provided by the presenter - which **is** part of this educational pedagogy.\n",
    "- This also assumes the user has the appropriate framework(s) installed and running properly.\n",
    "- remember to reset the Qiskit Circuit between runs to avoid run pollution.\n",
    "- use both the QUIRK Framework and the Bloch Sphere Playground to **verify the results of your experiments**\n",
    "- remember that each Bloch Sphere Playground - a **single tick** (push of a button) is **1/12th** of a unit of rotation, that can directly translate into your formula for Qiskit phase Roatations.\n",
    "\n",
    "\n",
    "\n",
    "> If it helps: remember that **Pi radians is equal to 180 degrees** -the below link is provided as a reference.\n",
    "- https://www.quia.com/jg/321176list.html\n",
    "\n"
   ]
  },
  {
   "cell_type": "code",
   "execution_count": null,
   "metadata": {},
   "outputs": [],
   "source": []
  },
  {
   "cell_type": "markdown",
   "metadata": {},
   "source": [
    "### TODO:\n",
    "\n",
    "- setup a quantum register and circuit\n",
    "- place an R(<font color=\"red\">**y**</font>) gates (magnitude manipulation)\n",
    "- draw the circuit\n",
    "- execute this against a backend Quantum Simulator\n",
    "- print out the resultant quantum state vector\n",
    "- print out the resultant bloch sphere"
   ]
  },
  {
   "cell_type": "markdown",
   "metadata": {},
   "source": [
    "### Setup the Circuit"
   ]
  },
  {
   "cell_type": "code",
   "execution_count": 35,
   "metadata": {},
   "outputs": [],
   "source": [
    "# Import Qiskit, and set up a Quantum register of 1 Qubit, and set up a Quantum Circuit w/that register\n",
    "\n",
    "import numpy as np\n",
    "from qiskit import QuantumCircuit, QuantumRegister, execute\n",
    "import cmath\n",
    "import math\n",
    "import matplotlib.pyplot as P\n",
    "import matplotlib.pyplot as plt\n",
    "from qsphere_plotter import plot_state_qsphere\n",
    "from widgets import minicomposer\n",
    "from may4_challenge_common import return_state, vec_in_braket, statevec\n",
    "\n",
    "qr = QuantumRegister(1)\n",
    "circ = QuantumCircuit(qr)\n",
    "\n",
    "\n",
    "# Helper Funtion for Normalizing State Vectors\n",
    "#\n",
    "def normalize_state_Vector(state_vector):\n",
    "    for result in state_vector:\n",
    "        print(\"Normalized Result: \" , round( np.abs(result)**2, 1) )\n",
    "        \n",
    "        \n",
    "# Helper Funtion for print Polar Phase(s)\n",
    "#      \n",
    "def plot_polar(state_vector):\n",
    "    pi_radians = 180;\n",
    "    for x in state_vector:\n",
    "        plt.polar([0,cmath.phase(x)],[0,abs(x)],marker='o')\n",
    "        print(\"The original complex number Re{%d}, Im{%d}, and Length : %f\" % (x.real, x.imag, abs(x)))\n",
    "        print(\"Phase: \",cmath.phase(x))\n",
    "        if cmath.phase(x) != 0:\n",
    "            print(\"Angle: \", pi_radians/(np.pi/cmath.phase(x)))"
   ]
  },
  {
   "cell_type": "markdown",
   "metadata": {},
   "source": [
    "### Programatically manipulate the circuit (Magnitude)\n",
    "\n",
    "#### <font color=\"red\">NOTE</font>: This is the only code segment you change"
   ]
  },
  {
   "cell_type": "code",
   "execution_count": 36,
   "metadata": {},
   "outputs": [
    {
     "data": {
      "image/png": "[encoded data removed]",
      "text/plain": [
       "<Figure size 184.212x84.28 with 1 Axes>"
      ]
     },
     "execution_count": 36,
     "metadata": {},
     "output_type": "execute_result"
    }
   ],
   "source": [
    "# Place an Ry gate with a Pi/4 rotation - Magnitude Rotation\n",
    "\n",
    "circ.ry( np.pi / 4, qr[0])\n",
    "\n",
    "# Draw the circuit\n",
    "circ.draw(output='mpl')"
   ]
  },
  {
   "cell_type": "markdown",
   "metadata": {},
   "source": [
    "### Submit the program to the backed, execute and print the state\n",
    "- Notice the change in Amplitude (Contains Magnitude) Values (no longer equal)"
   ]
  },
  {
   "cell_type": "code",
   "execution_count": 37,
   "metadata": {},
   "outputs": [
    {
     "data": {
      "text/plain": [
       "array([0.924+0.j, 0.383+0.j])"
      ]
     },
     "execution_count": 37,
     "metadata": {},
     "output_type": "execute_result"
    }
   ],
   "source": [
    "# Use the BasicAer statevector_simulator backend, submit the job, preview the quantum state\n",
    "\n",
    "from qiskit import BasicAer\n",
    "backend_sv_sim = BasicAer.get_backend('statevector_simulator')\n",
    "\n",
    "job_sim = execute(circ, backend_sv_sim)\n",
    "result_sim = job_sim.result()\n",
    "quantum_state = result_sim.get_statevector(circ, decimals=3)\n",
    "\n",
    "# Output the quantum state vector (Amplitude of zero and one state respectively)\n",
    "quantum_state"
   ]
  },
  {
   "cell_type": "markdown",
   "metadata": {},
   "source": [
    "### Normalize the State Vector for sake of intuition\n",
    "- Notice the change in Normalized Amplitude (Contains Magnitude) Values (no longer equal)"
   ]
  },
  {
   "cell_type": "code",
   "execution_count": 38,
   "metadata": {
    "scrolled": true
   },
   "outputs": [
    {
     "name": "stdout",
     "output_type": "stream",
     "text": [
      "Normalized Result:  0.9\n",
      "Normalized Result:  0.1\n"
     ]
    }
   ],
   "source": [
    "normalize_state_Vector(quantum_state)"
   ]
  },
  {
   "cell_type": "markdown",
   "metadata": {},
   "source": [
    "### Plot the Polar Coordinates for sake of intuition\n",
    "- Polar Plots won't contain Magnitude information Visually."
   ]
  },
  {
   "cell_type": "code",
   "execution_count": 39,
   "metadata": {},
   "outputs": [
    {
     "name": "stdout",
     "output_type": "stream",
     "text": [
      "The original complex number Re{0}, Im{0}, and Length : 0.924000\n",
      "Phase:  0.0\n",
      "The original complex number Re{0}, Im{0}, and Length : 0.383000\n",
      "Phase:  0.0\n"
     ]
    },
    {
     "data": {
      "image/png": "[encoded data removed]",
      "text/plain": [
       "<Figure size 432x288 with 1 Axes>"
      ]
     },
     "metadata": {
      "needs_background": "light"
     },
     "output_type": "display_data"
    }
   ],
   "source": [
    "# Plot Polar Coordinates for intuitions sake - provides an idea of the angle of the plot on the curve : appears 90 Degrees\n",
    "# Plot both vectors and phase / angle (if non-zero)\n",
    "\n",
    "P.clf()\n",
    "sp = P.subplot(1, 1, 1, projection='polar')\n",
    "sp.set_theta_zero_location('N')\n",
    "sp.set_theta_direction(1)\n",
    "\n",
    "plot_polar(quantum_state)"
   ]
  },
  {
   "cell_type": "markdown",
   "metadata": {},
   "source": [
    "### Plot the Bloch Sphere for sake of intuition\n",
    "- Bloch Sphere Plots won't contain Magnitude information Visually."
   ]
  },
  {
   "cell_type": "code",
   "execution_count": 40,
   "metadata": {},
   "outputs": [
    {
     "data": {
      "image/png": "[encoded data removed]",
      "text/plain": [
       "<Figure size 288x288 with 1 Axes>"
      ]
     },
     "execution_count": 40,
     "metadata": {},
     "output_type": "execute_result"
    }
   ],
   "source": [
    "# Plot the state vector on a Bloch sphere\n",
    "\n",
    "from qiskit.tools.visualization import plot_bloch_multivector\n",
    "plot_bloch_multivector(quantum_state)"
   ]
  },
  {
   "cell_type": "markdown",
   "metadata": {},
   "source": [
    "### Print the Circle Plots for sake of intuition\n",
    "- Circle Plots will contain both Magnitude and Phase information."
   ]
  },
  {
   "cell_type": "code",
   "execution_count": 41,
   "metadata": {
    "scrolled": true
   },
   "outputs": [
    {
     "data": {
      "image/png": "[encoded data removed]",
      "text/plain": [
       "<Figure size 288x144 with 2 Axes>"
      ]
     },
     "metadata": {
      "needs_background": "light"
     },
     "output_type": "display_data"
    }
   ],
   "source": [
    "# Print out Circle Notation\n",
    "\n",
    "from circle_plot import *\n",
    "plot_circles(quantum_state)"
   ]
  },
  {
   "cell_type": "markdown",
   "metadata": {},
   "source": [
    "### QISKIT Plot State QSPhere\n",
    "- This visual notation is slightly different but nevertheless consistent once you get to know it.\n",
    "- Note the sice of the ball on the edge of the sphere."
   ]
  },
  {
   "cell_type": "code",
   "execution_count": 42,
   "metadata": {},
   "outputs": [
    {
     "data": {
      "image/png": "[encoded data removed]",
      "text/plain": [
       "<Figure size 504x504 with 2 Axes>"
      ]
     },
     "execution_count": 42,
     "metadata": {},
     "output_type": "execute_result"
    }
   ],
   "source": [
    "plot_state_qsphere(quantum_state, show_state_labels=True, show_state_angles=True) "
   ]
  },
  {
   "cell_type": "markdown",
   "metadata": {},
   "source": [
    "# <font color=\"red\">Exercise</font> - Quantum Magnitude : <font color=\"blue\"> Recreate the circuit w/the BSP</font>\n",
    "\n",
    "> Use the **Bloch Sphere Playground** using the same formula as above and make sure the results look the the below geometry.\n",
    "\n",
    "> Formula:\n",
    "- Execute an **+R(<font color=\"red\">y</font>)**  gate with a **<font color=\"red\">eight</font> iterations** (tiks).\n",
    "\n",
    "\n",
    "> <font color=\"red\">**Reminder:** </font> After interrogating the circuit we get **0.0** of **value 0** and **1.0** of **value 1**.\n",
    "- Therefore the values of the **magnitude** probabilities will be 0 and 1 respectively and the bloch sphere will be visually similar to the below.\n",
    "\n",
    "> **Notice:** - the resultant Phase value is **(Pi)**\n",
    "\n",
    "> - Reset the circuit and try it again with an **+R(<font color=\"red\">x</font>)** gate with a **eight iterations** (tiks).\n",
    "- What do you notice?"
   ]
  },
  {
   "cell_type": "markdown",
   "metadata": {},
   "source": [
    "![bs-ex2-comparison](img/bs-ex2-comparison.png \"bs-ex2-comparison\")"
   ]
  },
  {
   "cell_type": "code",
   "execution_count": 43,
   "metadata": {},
   "outputs": [
    {
     "data": {
      "text/html": [
       "\n",
       "        <iframe\n",
       "            width=\"900\"\n",
       "            height=\"700\"\n",
       "            src=\"https://javafxpert.github.io/grok-bloch/\"\n",
       "            frameborder=\"0\"\n",
       "            allowfullscreen\n",
       "        ></iframe>\n",
       "        "
      ],
      "text/plain": [
       "<IPython.lib.display.IFrame at 0x2819eb10508>"
      ]
     },
     "execution_count": 43,
     "metadata": {},
     "output_type": "execute_result"
    }
   ],
   "source": [
    "# Bloch Sphere Playground Application\n",
    "from IPython.display import IFrame\n",
    "IFrame(src='https://javafxpert.github.io/grok-bloch/', width=900, height=700)"
   ]
  },
  {
   "cell_type": "markdown",
   "metadata": {},
   "source": [
    "# <font color=\"red\">Exercise</font> - Quantum Magnitudes : <font color=\"blue\"> Recreate the circuit with QUIRK</font>\n",
    "\n",
    "\n",
    "#### TODO\n",
    "- peruse the recreated circuit below - it's set to a different configuration.\n",
    "- hover over the key areas to view the resultant amplitude values, the probabilities, and Phase values\n",
    "- adding the R(<font color=\"red\">**y**</font>) gate with the ( Pi ) rotates the point of the sphere surface directly down to |1>.\n",
    "- realize (by perusing the Bloch Sphere Playground result above) that this executed rotation lands the new bloch sphere point at the amplitude value of **1**.\n",
    "- notice that the bloch sphere widget is **visually similar** to the Bloch Sphere Playground result and Qiskit plot.\n",
    "- notice that **Theta** is 180 degrees and **Psi** is 0 Degrees - compare that to the image below for developing intuition about these rotations. \n",
    "- also notice that the decimal value 1 Qubit has a probability of 1 - compare that to the Bloch Sphere Playground resultant equation. \n",
    "\n",
    "> try that again with the R(<font color=\"red\">**x**</font>) gate with the ( Pi ) rotates the point of the sphere surface directly down to |1>.\n",
    "- Q: Did anything else change?\n"
   ]
  },
  {
   "cell_type": "code",
   "execution_count": 44,
   "metadata": {},
   "outputs": [
    {
     "data": {
      "text/html": [
       "\n",
       "        <iframe\n",
       "            width=\"900\"\n",
       "            height=\"600\"\n",
       "            src=\"https://algassert.com/quirk#circuit={%22cols%22:[[{%22id%22:%22Ryft%22,%22arg%22:%22pi%20*%209/12%22}]]}\"\n",
       "            frameborder=\"0\"\n",
       "            allowfullscreen\n",
       "        ></iframe>\n",
       "        "
      ],
      "text/plain": [
       "<IPython.lib.display.IFrame at 0x2819eb80988>"
      ]
     },
     "execution_count": 44,
     "metadata": {},
     "output_type": "execute_result"
    }
   ],
   "source": [
    "# QUIRK (Quantum Circuit Simulator) of Superposition R(z) Circuit \n",
    "from IPython.display import IFrame\n",
    "IFrame(src='https://algassert.com/quirk#circuit={%22cols%22:[[{%22id%22:%22Ryft%22,%22arg%22:%22pi%20*%209/12%22}]]}', width=900, height=600)"
   ]
  },
  {
   "cell_type": "markdown",
   "metadata": {},
   "source": [
    "# <font color=\"green\">Coding Homework</font> - Manipulating Quantum Magnitudes: <font color=\"blue\"> QisKit</font>\n",
    "\n",
    "> Use the **Qiskit Quantum Simulator** to gain <font color=\"red\">**more** </font>  experience and an **intuition of Quantum Magnitude Rotations**.\n",
    "\n",
    "\n",
    "> **NOTE:** \n",
    "- remember to reset the Qiskit Circuit between runs to avoid run pollution.\n",
    "- use both the QUIRK Framework and the Bloch Sphere Playground to **verify the results of your experiments**\n",
    "- remember that each Bloch Sphere Playground - a **single tick** (push of a button) is **1/12th** of a unit of rotation, that can directly translate into your formula for Qiskit phase Roatations.\n",
    "\n",
    "\n",
    "\n",
    "> If it helps: remember that pi radians is equal to 180 degrees. Radians are a unit of measurement for angles, just like degrees are, and pi is just the number of radians that makes up that angle. The below link is provided as a reference.\n",
    "- https://www.quia.com/jg/321176list.html\n"
   ]
  },
  {
   "cell_type": "markdown",
   "metadata": {},
   "source": [
    "#### TODO\n",
    "- peruse and run the entire circuit below that applies an a R(y) Magnitude Rotation of **(-3/12 * Pi)**\n",
    "- execute the back end to procure the result and state vector\n",
    "- print out the bloch sphere\n",
    "- <font color=\"red\">alter </font> the R(y) phase rotation formula to a few different variations of (Pi) and <font color=\"red\">rerun </font>  the circuit - observe the change in the point on the sphere.\n",
    "- <font color=\"red\">verify </font> each of the rotations against Bloch Sphere Playground and QUIRK"
   ]
  },
  {
   "cell_type": "code",
   "execution_count": 45,
   "metadata": {},
   "outputs": [],
   "source": [
    "# Import Qiskit, and set up a Quantum register of 1 Qubit, and set up a Quantum Circuit w/that register\n",
    "\n",
    "import numpy as np\n",
    "from qiskit import QuantumCircuit, QuantumRegister, execute\n",
    "import cmath\n",
    "import math\n",
    "import matplotlib.pyplot as P\n",
    "import matplotlib.pyplot as plt\n",
    "\n",
    "qr = QuantumRegister(1)\n",
    "circ = QuantumCircuit(qr)\n",
    "\n",
    "\n",
    "# Helper Funtion for Normalizing State Vectors\n",
    "#\n",
    "def normalize_state_Vector(state_vector):\n",
    "    for result in state_vector:\n",
    "        print(\"Normalized Result: \" , round( np.abs(result)**2, 1) )\n",
    "        \n",
    "        \n",
    "# Helper Funtion for print Polar Phase(s)\n",
    "#      \n",
    "def plot_polar(state_vector):\n",
    "    pi_radians = 180;\n",
    "    for x in state_vector:\n",
    "        plt.polar([0,cmath.phase(x)],[0,abs(x)],marker='o')\n",
    "        print(\"The original complex number Re{%d}, Im{%d}, and Length : %f\" % (x.real, x.imag, abs(x)))\n",
    "        print(\"Phase: \",cmath.phase(x))\n",
    "        if cmath.phase(x) != 0:\n",
    "            print(\"Angle: \", pi_radians/(np.pi/cmath.phase(x)))\n",
    "\n"
   ]
  },
  {
   "cell_type": "markdown",
   "metadata": {},
   "source": [
    "#### <font color=\"red\">NOTE</font>: This is the only code segment you change"
   ]
  },
  {
   "cell_type": "code",
   "execution_count": 46,
   "metadata": {},
   "outputs": [
    {
     "data": {
      "image/png": "[encoded data removed]",
      "text/plain": [
       "<Figure size 184.212x84.28 with 1 Axes>"
      ]
     },
     "execution_count": 46,
     "metadata": {},
     "output_type": "execute_result"
    }
   ],
   "source": [
    "# Place an Ry gate with a (-3/12 * Pi) rotation\n",
    "\n",
    "circ.ry( -3/12 * np.pi, qr[0])\n",
    "\n",
    "# Draw the circuit\n",
    "circ.draw(output='mpl')"
   ]
  },
  {
   "cell_type": "code",
   "execution_count": 47,
   "metadata": {},
   "outputs": [
    {
     "data": {
      "text/plain": [
       "array([ 0.924+0.j, -0.383+0.j])"
      ]
     },
     "execution_count": 47,
     "metadata": {},
     "output_type": "execute_result"
    }
   ],
   "source": [
    "# Use the BasicAer statevector_simulator backend, submit the job, preview the quantum state\n",
    "\n",
    "from qiskit import BasicAer\n",
    "backend_sv_sim = BasicAer.get_backend('statevector_simulator')\n",
    "\n",
    "job_sim = execute(circ, backend_sv_sim)\n",
    "result_sim = job_sim.result()\n",
    "quantum_state = result_sim.get_statevector(circ, decimals=3)\n",
    "\n",
    "# Output the quantum state vector (Amplitude of zero and one state respectively)\n",
    "quantum_state"
   ]
  },
  {
   "cell_type": "code",
   "execution_count": 48,
   "metadata": {},
   "outputs": [
    {
     "name": "stdout",
     "output_type": "stream",
     "text": [
      "Normalized Result:  0.9\n",
      "Normalized Result:  0.1\n"
     ]
    }
   ],
   "source": [
    "normalize_state_Vector(quantum_state)"
   ]
  },
  {
   "cell_type": "code",
   "execution_count": 49,
   "metadata": {},
   "outputs": [
    {
     "name": "stdout",
     "output_type": "stream",
     "text": [
      "The original complex number Re{0}, Im{0}, and Length : 0.924000\n",
      "Phase:  0.0\n",
      "The original complex number Re{0}, Im{0}, and Length : 0.383000\n",
      "Phase:  3.141592653589793\n",
      "Angle:  180.0\n"
     ]
    },
    {
     "data": {
      "image/png": "[encoded data removed]",
      "text/plain": [
       "<Figure size 432x288 with 1 Axes>"
      ]
     },
     "metadata": {
      "needs_background": "light"
     },
     "output_type": "display_data"
    }
   ],
   "source": [
    "# Plot Polar Coordinates for intuitions sake - provides an idea of the angle of the plot on the curve \n",
    "# Plot both vectors and phase / angle (if non-zero)\n",
    "\n",
    "P.clf()\n",
    "sp = P.subplot(1, 1, 1, projection='polar')\n",
    "sp.set_theta_zero_location('N')\n",
    "sp.set_theta_direction(1)\n",
    "\n",
    "plot_polar(quantum_state)"
   ]
  },
  {
   "cell_type": "code",
   "execution_count": 50,
   "metadata": {},
   "outputs": [
    {
     "data": {
      "image/png": "[encoded data removed]",
      "text/plain": [
       "<Figure size 288x288 with 1 Axes>"
      ]
     },
     "execution_count": 50,
     "metadata": {},
     "output_type": "execute_result"
    }
   ],
   "source": [
    "# Plot the state vector on a Bloch sphere\n",
    "\n",
    "from qiskit.tools.visualization import plot_bloch_multivector\n",
    "plot_bloch_multivector(quantum_state)"
   ]
  },
  {
   "cell_type": "code",
   "execution_count": 51,
   "metadata": {},
   "outputs": [
    {
     "data": {
      "image/png": "[encoded data removed]",
      "text/plain": [
       "<Figure size 288x144 with 2 Axes>"
      ]
     },
     "metadata": {
      "needs_background": "light"
     },
     "output_type": "display_data"
    }
   ],
   "source": [
    "# Print out Circle Notation\n",
    "\n",
    "from circle_plot import *\n",
    "plot_circles(quantum_state)"
   ]
  },
  {
   "cell_type": "markdown",
   "metadata": {},
   "source": [
    "### <font color=\"red\">Observe: </font>\n",
    "\n",
    "\n",
    "- the state vector representations have changed to the probabilities of 0:(.9) and 1:(.1) - also the bloch sphere plot has changed (due to the \"Pi\" R(y) ) rotation - meaning the point on the sphere moved.\n",
    "- this indicates the point is moving around the Magnitude plane Y-Axis changing the Magnitudes but not the Phase (outside of Pi (+/- 180 Degrees) and Zero).\n",
    "- notice the phase is at +180 degrees\n",
    "\n"
   ]
  },
  {
   "cell_type": "markdown",
   "metadata": {},
   "source": [
    "### QISKIT Plot State QSPhere\n",
    "- This visual notation is slightly different but nevertheless consistent once you get to know it.\n",
    "- Note the sice of the ball on the edge of the sphere."
   ]
  },
  {
   "cell_type": "code",
   "execution_count": 52,
   "metadata": {},
   "outputs": [
    {
     "data": {
      "image/png": "[encoded data removed]",
      "text/plain": [
       "<Figure size 504x504 with 2 Axes>"
      ]
     },
     "execution_count": 52,
     "metadata": {},
     "output_type": "execute_result"
    }
   ],
   "source": [
    "plot_state_qsphere(quantum_state, show_state_labels=True, show_state_angles=True) "
   ]
  },
  {
   "cell_type": "markdown",
   "metadata": {},
   "source": [
    "# <font color=\"red\">Exercise</font> - Quantum Magnitude : <font color=\"blue\"> Recreate with QUIRK and the BSP</font>"
   ]
  },
  {
   "cell_type": "markdown",
   "metadata": {},
   "source": [
    "#### TODO\n",
    "\n",
    "- for each circuit variation that you design <font color=\"red\">above </font> using Qiskit, recreate them in the **Bloch Sphere Playground** and **QUIRK**\n",
    "- verify the visual similarity of the resulting Qiskit bloch sphere plot and its counterpart in Bloch Sphere Playground and QUIRK\n",
    "- for QUIRK - be sure to inspect the key widgets to assure yourself the amplitude, phases, Theta, Psi, and (X, Y, Z) axis positions make intuitive sense. \n",
    "\n",
    "> <font color=\"red\">Note: </font> - the QUIRK Circuit Simulator is preset below - just modify as you see fit. The Bloch Sphere Playground is below that.\n"
   ]
  },
  {
   "cell_type": "code",
   "execution_count": 53,
   "metadata": {},
   "outputs": [
    {
     "data": {
      "text/html": [
       "\n",
       "        <iframe\n",
       "            width=\"900\"\n",
       "            height=\"600\"\n",
       "            src=\"https://algassert.com/quirk#circuit={%22cols%22:[[{%22id%22:%22Ryft%22,%22arg%22:%22-3/12*pi%22}]]}\"\n",
       "            frameborder=\"0\"\n",
       "            allowfullscreen\n",
       "        ></iframe>\n",
       "        "
      ],
      "text/plain": [
       "<IPython.lib.display.IFrame at 0x2819ef95c08>"
      ]
     },
     "execution_count": 53,
     "metadata": {},
     "output_type": "execute_result"
    }
   ],
   "source": [
    "# QUIRK (Quantum Circuit Simulator) of Above Circuit \n",
    "from IPython.display import IFrame\n",
    "IFrame(src='https://algassert.com/quirk#circuit={%22cols%22:[[{%22id%22:%22Ryft%22,%22arg%22:%22-3/12*pi%22}]]}', width=900, height=600)"
   ]
  },
  {
   "cell_type": "code",
   "execution_count": 54,
   "metadata": {
    "scrolled": false
   },
   "outputs": [
    {
     "data": {
      "text/html": [
       "\n",
       "        <iframe\n",
       "            width=\"901\"\n",
       "            height=\"700\"\n",
       "            src=\"https://javafxpert.github.io/grok-bloch/\"\n",
       "            frameborder=\"0\"\n",
       "            allowfullscreen\n",
       "        ></iframe>\n",
       "        "
      ],
      "text/plain": [
       "<IPython.lib.display.IFrame at 0x2819ef8a948>"
      ]
     },
     "execution_count": 54,
     "metadata": {},
     "output_type": "execute_result"
    }
   ],
   "source": [
    "# Bloch Sphere Playground Application\n",
    "from IPython.display import IFrame\n",
    "IFrame(src='https://javafxpert.github.io/grok-bloch/', width=901, height=700)"
   ]
  },
  {
   "cell_type": "code",
   "execution_count": null,
   "metadata": {},
   "outputs": [],
   "source": []
  },
  {
   "cell_type": "code",
   "execution_count": null,
   "metadata": {},
   "outputs": [],
   "source": []
  },
  {
   "cell_type": "markdown",
   "metadata": {},
   "source": [
    "# Deep Dive #3 : - <font color=\"blue\">Quantum</font> <font color=\"red\">Single Qubit Gates</font> <font color=\"blue\">and their Rotations:</font>\n",
    "\n",
    "> Simgle Qubits manipulation is done w/Quantum Gates - to gain an understanding and intuition of them are critical to the quantum computing space.\n",
    "\n",
    "> The below information **supports the presenter led discussion** about the important concept of **Single Qubit Quantum Gates**. The pedagogical bent is toward catering to the software engineer archtype, so much of the work will focus on the conceptual side and developing an intuition to the various gate rotations.\n",
    "\n",
    "> **NOTE:** The details, nuances, and key concepts are left to that discussion.\n",
    "- Videos and simulations will be leveraged as appropriate."
   ]
  },
  {
   "cell_type": "markdown",
   "metadata": {},
   "source": [
    "![qubit-rotations](img/qubit-rotations.png \"qubit-rotations\")"
   ]
  },
  {
   "cell_type": "markdown",
   "metadata": {},
   "source": [
    "## Hadamard Gate\n",
    "\n",
    "> - **<font color=\"red\">Reference</font>:** <a href=\"Basic Gates Provided by Qiskit.ipynb\" target=\"_blank\"><font color=\"blue\">Basic Gates Provided by Qiskit</font></a> \n",
    "\n",
    "<BR>\n",
    "<img style=\"float: left;\" src=\"img/icon-h-gate.png\">\n",
    "\n",
    "> The Hadamard gate is one of the most frequently used gates in quantum computing. The (H) gate is often the first gate applied in a circuit. When you read “put the qubit in superposition” it usually means “take the qubit initialized in the **|0>** state and apply the (H) gate to it.”\n",
    "\n",
    "\n",
    "\n",
    "> **<font color=\"red\">Note:</font>** - The Hadamard gate (matrix) changes the **basis** from **Computational** (**|0>** and **|1>**) to **Hadamard** (**|+>** and **|->**)"
   ]
  },
  {
   "cell_type": "markdown",
   "metadata": {},
   "source": [
    "### Demonstration Video"
   ]
  },
  {
   "cell_type": "code",
   "execution_count": 19,
   "metadata": {},
   "outputs": [
    {
     "data": {
      "text/html": [
       "<video src=\"video/hadamard-gate.mp4\" controls  >\n",
       "      Your browser does not support the <code>video</code> element.\n",
       "    </video>"
      ],
      "text/plain": [
       "<IPython.core.display.Video object>"
      ]
     },
     "execution_count": 19,
     "metadata": {},
     "output_type": "execute_result"
    }
   ],
   "source": [
    "from IPython.display import Video\n",
    "Video(\"video/hadamard-gate.mp4\")"
   ]
  },
  {
   "cell_type": "markdown",
   "metadata": {},
   "source": [
    "### <font color=\"red\">Exercise</font> - Quantum Computer Gate Playground : <font color=\"blue\"> Experiment with the H gate.</font>\n",
    "\n",
    "- To gain some further intuition on the behavior of this gate (choose from pulldown), experiment with the number of qubits, and **observe what happens to the Quantum State** as a result.\n",
    "- Don't forget to measure the gate when done ! "
   ]
  },
  {
   "cell_type": "code",
   "execution_count": 55,
   "metadata": {
    "scrolled": false
   },
   "outputs": [
    {
     "data": {
      "text/html": [
       "\n",
       "        <iframe\n",
       "            width=\"900\"\n",
       "            height=\"700\"\n",
       "            src=\"https://davidbkemp.github.io/quantum-gate-playground/\"\n",
       "            frameborder=\"0\"\n",
       "            allowfullscreen\n",
       "        ></iframe>\n",
       "        "
      ],
      "text/plain": [
       "<IPython.lib.display.IFrame at 0x2819efb3a48>"
      ]
     },
     "execution_count": 55,
     "metadata": {},
     "output_type": "execute_result"
    }
   ],
   "source": [
    "from IPython.display import IFrame\n",
    "IFrame(src='https://davidbkemp.github.io/quantum-gate-playground/', width=900, height=700)"
   ]
  },
  {
   "cell_type": "code",
   "execution_count": null,
   "metadata": {},
   "outputs": [],
   "source": []
  },
  {
   "cell_type": "markdown",
   "metadata": {},
   "source": [
    "## NOT (Pauli-X) Gate\n",
    "\n",
    "> - **<font color=\"red\">Reference</font>:** <a href=\"Basic Gates Provided by Qiskit.ipynb\" target=\"_blank\"><font color=\"blue\">Basic Gates Provided by Qiskit</font></a> \n",
    "\n",
    "<BR>\n",
    "    \n",
    "<img style=\"float: left;\" src=\"img/icon-x-gate.png\">\n",
    "\n",
    "The Pauli-X gate is a single-qubit rotation of the qubit states through &pi; radians around the x-axis of the Bloch Sphere.\n",
    "\n",
    "Not only are the poles flipped but points in the lower hemisphere move to the upper and vice versa (so it's a bit flip).\n",
    "\n"
   ]
  },
  {
   "cell_type": "markdown",
   "metadata": {},
   "source": [
    "### Demonstration Video"
   ]
  },
  {
   "cell_type": "code",
   "execution_count": 56,
   "metadata": {},
   "outputs": [
    {
     "data": {
      "text/html": [
       "<video src=\"video/pauli-x-gate.mp4\" controls  >\n",
       "      Your browser does not support the <code>video</code> element.\n",
       "    </video>"
      ],
      "text/plain": [
       "<IPython.core.display.Video object>"
      ]
     },
     "execution_count": 56,
     "metadata": {},
     "output_type": "execute_result"
    }
   ],
   "source": [
    "from IPython.display import Video\n",
    "Video(\"video/pauli-x-gate.mp4\")"
   ]
  },
  {
   "cell_type": "markdown",
   "metadata": {},
   "source": [
    "### <font color=\"red\">Exercise</font> - Quantum Computer Gate Playground : <font color=\"blue\"> Experiment with the X gate.</font>\n",
    "\n",
    "- To gain some further intuition on the behavior of this gate (choose from pulldown), experiment with the number of qubits, and **observe what happens to the Quantum State** as a result.\n",
    "- Don't forget to measure the gate when done ! "
   ]
  },
  {
   "cell_type": "code",
   "execution_count": 57,
   "metadata": {
    "scrolled": false
   },
   "outputs": [
    {
     "data": {
      "text/html": [
       "\n",
       "        <iframe\n",
       "            width=\"900\"\n",
       "            height=\"700\"\n",
       "            src=\"https://davidbkemp.github.io/quantum-gate-playground/\"\n",
       "            frameborder=\"0\"\n",
       "            allowfullscreen\n",
       "        ></iframe>\n",
       "        "
      ],
      "text/plain": [
       "<IPython.lib.display.IFrame at 0x2819ef85f88>"
      ]
     },
     "execution_count": 57,
     "metadata": {},
     "output_type": "execute_result"
    }
   ],
   "source": [
    "from IPython.display import IFrame\n",
    "IFrame(src='https://davidbkemp.github.io/quantum-gate-playground/', width=900, height=700)"
   ]
  },
  {
   "cell_type": "code",
   "execution_count": null,
   "metadata": {},
   "outputs": [],
   "source": []
  },
  {
   "cell_type": "markdown",
   "metadata": {},
   "source": [
    "### Demonstration Video"
   ]
  },
  {
   "cell_type": "markdown",
   "metadata": {},
   "source": [
    "## Y (Pauli-Y) Gate\n",
    "\n",
    "> - **<font color=\"red\">Reference</font>:** <a href=\"Basic Gates Provided by Qiskit.ipynb\" target=\"_blank\"><font color=\"blue\">Basic Gates Provided by Qiskit</font></a> \n",
    "\n",
    "<BR>\n",
    "    \n",
    "<img style=\"float: left;\" src=\"img/icon-y-gate.png\">\n",
    "\n",
    "The Pauli-Y gate is a single-qubit rotation of the qubit states by &pi; radians around the y-axis of the Bloch Sphere.\n",
    "\n",
    "It swaps the **|0>** and **|1>** (so it's a bit flip).\n",
    "\n",
    "It also swaps **|+>** and **|->** but leaves **|i>** and the **|-i>** alone."
   ]
  },
  {
   "cell_type": "markdown",
   "metadata": {},
   "source": [
    "### Demonstration Video"
   ]
  },
  {
   "cell_type": "code",
   "execution_count": 58,
   "metadata": {},
   "outputs": [
    {
     "data": {
      "text/html": [
       "<video src=\"video/pauli-y-gate.mp4\" controls  >\n",
       "      Your browser does not support the <code>video</code> element.\n",
       "    </video>"
      ],
      "text/plain": [
       "<IPython.core.display.Video object>"
      ]
     },
     "execution_count": 58,
     "metadata": {},
     "output_type": "execute_result"
    }
   ],
   "source": [
    "from IPython.display import Video\n",
    "Video(\"video/pauli-y-gate.mp4\")"
   ]
  },
  {
   "cell_type": "markdown",
   "metadata": {},
   "source": [
    "### <font color=\"red\">Exercise</font> - Quantum Computer Gate Playground : <font color=\"blue\"> Experiment with the Y gate.</font>\n",
    "\n",
    "- To gain some further intuition on the behavior of this gate (choose from pulldown), experiment with the number of qubits, and **observe what happens to the Quantum State** as a result.\n",
    "- Don't forget to measure the gate when done ! "
   ]
  },
  {
   "cell_type": "code",
   "execution_count": 59,
   "metadata": {
    "scrolled": false
   },
   "outputs": [
    {
     "data": {
      "text/html": [
       "\n",
       "        <iframe\n",
       "            width=\"900\"\n",
       "            height=\"700\"\n",
       "            src=\"https://davidbkemp.github.io/quantum-gate-playground/\"\n",
       "            frameborder=\"0\"\n",
       "            allowfullscreen\n",
       "        ></iframe>\n",
       "        "
      ],
      "text/plain": [
       "<IPython.lib.display.IFrame at 0x2819ef81f48>"
      ]
     },
     "execution_count": 59,
     "metadata": {},
     "output_type": "execute_result"
    }
   ],
   "source": [
    "from IPython.display import IFrame\n",
    "IFrame(src='https://davidbkemp.github.io/quantum-gate-playground/', width=900, height=700)"
   ]
  },
  {
   "cell_type": "code",
   "execution_count": null,
   "metadata": {},
   "outputs": [],
   "source": []
  },
  {
   "cell_type": "markdown",
   "metadata": {},
   "source": [
    "## Z (Pauli-Z) Gate\n",
    "\n",
    "> - **<font color=\"red\">Reference</font>:** <a href=\"Basic Gates Provided by Qiskit.ipynb\" target=\"_blank\"><font color=\"blue\">Basic Gates Provided by Qiskit</font></a> \n",
    "\n",
    "<BR>\n",
    "<img style=\"float: left;\" src=\"img/icon-z-gate.png\">\n",
    "\n",
    "The Pauli-Z gate is a single-qubit rotation of the qubit states by &pi; radians around the z-axis of the Bloch sphere.\n",
    "\n",
    "It swaps **|+>** and **|->** as well as the **|i>** and the **|-i>**.\n",
    "\n",
    "However it leaves **|0>** and **|1>** alone."
   ]
  },
  {
   "cell_type": "markdown",
   "metadata": {},
   "source": [
    "### Demonstration Video"
   ]
  },
  {
   "cell_type": "code",
   "execution_count": 60,
   "metadata": {},
   "outputs": [
    {
     "data": {
      "text/html": [
       "<video src=\"video/pauli-z-gate.mp4\" controls  >\n",
       "      Your browser does not support the <code>video</code> element.\n",
       "    </video>"
      ],
      "text/plain": [
       "<IPython.core.display.Video object>"
      ]
     },
     "execution_count": 60,
     "metadata": {},
     "output_type": "execute_result"
    }
   ],
   "source": [
    "from IPython.display import Video\n",
    "Video(\"video/pauli-z-gate.mp4\")"
   ]
  },
  {
   "cell_type": "markdown",
   "metadata": {},
   "source": [
    "### <font color=\"red\">Exercise</font> - Quantum Computer Gate Playground : <font color=\"blue\"> Experiment with the Z gate.</font>\n",
    "\n",
    "- To gain some further intuition on the behavior of this gate (choose from pulldown), experiment with the number of qubits, and **observe what happens to the Quantum State** as a result.\n",
    "- Don't forget to measure the gate when done ! "
   ]
  },
  {
   "cell_type": "code",
   "execution_count": 61,
   "metadata": {
    "scrolled": false
   },
   "outputs": [
    {
     "data": {
      "text/html": [
       "\n",
       "        <iframe\n",
       "            width=\"900\"\n",
       "            height=\"700\"\n",
       "            src=\"https://davidbkemp.github.io/quantum-gate-playground/\"\n",
       "            frameborder=\"0\"\n",
       "            allowfullscreen\n",
       "        ></iframe>\n",
       "        "
      ],
      "text/plain": [
       "<IPython.lib.display.IFrame at 0x2819ef7d608>"
      ]
     },
     "execution_count": 61,
     "metadata": {},
     "output_type": "execute_result"
    }
   ],
   "source": [
    "from IPython.display import IFrame\n",
    "IFrame(src='https://davidbkemp.github.io/quantum-gate-playground/', width=900, height=700)"
   ]
  },
  {
   "cell_type": "markdown",
   "metadata": {},
   "source": [
    "## S Gate\n",
    "\n",
    "> - **<font color=\"red\">Reference</font>:** <a href=\"Basic Gates Provided by Qiskit.ipynb\" target=\"_blank\"><font color=\"blue\">Basic Gates Provided by Qiskit</font></a> \n",
    "\n",
    "<BR>\n",
    "<img style=\"float: left;\" src=\"img/icon-s-gate.png\">\n",
    "\n",
    "The S gate is also known as the phase gate or the Z90 gate, because it represents a 90 degree rotation (or a quarter turn) of the qubit states around the **z-axis**.\n"
   ]
  },
  {
   "cell_type": "markdown",
   "metadata": {},
   "source": [
    "## S&prime; Gate\n",
    "> - **<font color=\"red\">Reference</font>:** <a href=\"Basic Gates Provided by Qiskit.ipynb\" target=\"_blank\"><font color=\"blue\">Basic Gates Provided by Qiskit</font></a> \n",
    "\n",
    "<BR>\n",
    "    \n",
    "<img style=\"float: left;\" src=\"img/icon-s-dagger-gate.png\">\n",
    "\n",
    "The S&prime; gate is the inverse of the S gate and executes a **<font color=\"red\">-</font>90** Degree (or <font color=\"red\">negative</font> quarter turn) of the qubit states around the **z-axis**."
   ]
  },
  {
   "cell_type": "markdown",
   "metadata": {},
   "source": [
    "### Demonstration Video(s)\n",
    "\n",
    "> #### S Gate\n",
    "\n",
    "> #### S&prime; Gate\n",
    "\n"
   ]
  },
  {
   "cell_type": "code",
   "execution_count": 62,
   "metadata": {},
   "outputs": [
    {
     "data": {
      "text/html": [
       "<video src=\"video/s-and-s-dagger-gate.mp4\" controls  >\n",
       "      Your browser does not support the <code>video</code> element.\n",
       "    </video>"
      ],
      "text/plain": [
       "<IPython.core.display.Video object>"
      ]
     },
     "execution_count": 62,
     "metadata": {},
     "output_type": "execute_result"
    }
   ],
   "source": [
    "from IPython.display import Video\n",
    "Video(\"video/s-and-s-dagger-gate.mp4\")"
   ]
  },
  {
   "cell_type": "markdown",
   "metadata": {},
   "source": [
    "### <font color=\"red\">Exercise</font> - Quantum Computer Gate Playground : <font color=\"blue\"> Experiment with the S gate.</font>\n",
    "\n",
    "- To gain some further intuition on the behavior of this gate (choose from pulldown), experiment with the number of qubits, and **observe what happens to the Quantum State** as a result.\n",
    "- Don't forget to measure the gate when done ! "
   ]
  },
  {
   "cell_type": "code",
   "execution_count": 63,
   "metadata": {
    "scrolled": false
   },
   "outputs": [
    {
     "data": {
      "text/html": [
       "\n",
       "        <iframe\n",
       "            width=\"900\"\n",
       "            height=\"700\"\n",
       "            src=\"https://davidbkemp.github.io/quantum-gate-playground/\"\n",
       "            frameborder=\"0\"\n",
       "            allowfullscreen\n",
       "        ></iframe>\n",
       "        "
      ],
      "text/plain": [
       "<IPython.lib.display.IFrame at 0x2819efba6c8>"
      ]
     },
     "execution_count": 63,
     "metadata": {},
     "output_type": "execute_result"
    }
   ],
   "source": [
    "from IPython.display import IFrame\n",
    "IFrame(src='https://davidbkemp.github.io/quantum-gate-playground/', width=900, height=700)"
   ]
  },
  {
   "cell_type": "markdown",
   "metadata": {},
   "source": [
    "## T Gate\n",
    "> - **<font color=\"red\">Reference</font>:** <a href=\"Basic Gates Provided by Qiskit.ipynb\" target=\"_blank\"><font color=\"blue\">Basic Gates Provided by Qiskit</font></a> \n",
    "\n",
    "<BR>\n",
    "<img style=\"float: left;\" src=\"img/icon-t-gate.png\">\n",
    "\n",
    "The T gate is also known as the phase gate or the Z45 gate, because it represents a 45 degree rotation (or an eighth of a turn) of the qubit states around the **z-axis**."
   ]
  },
  {
   "cell_type": "markdown",
   "metadata": {},
   "source": [
    "## T&prime; Gate\n",
    "> - **<font color=\"red\">Reference</font>:** <a href=\"Basic Gates Provided by Qiskit.ipynb\" target=\"_blank\"><font color=\"blue\">Basic Gates Provided by Qiskit</font></a> \n",
    "\n",
    "<BR>\n",
    "<img style=\"float: left;\" src=\"img/icon-t-dagger-gate.png\">\n",
    "\n",
    "The T&prime; gate is also known as the phase gate or the <font color=\"red\">-</font>Z45 gate, because it represents a <font color=\"red\">negative</font> 45 degree rotation (or an <font color=\"red\">negative</font> eighth of a turn) of the qubit states around the **z-axis**."
   ]
  },
  {
   "cell_type": "markdown",
   "metadata": {},
   "source": [
    "### Demonstration Video\n",
    "\n",
    "> #### T Gate\n",
    "\n",
    "> #### T&prime; Gate"
   ]
  },
  {
   "cell_type": "code",
   "execution_count": 64,
   "metadata": {},
   "outputs": [
    {
     "data": {
      "text/html": [
       "<video src=\"video/t-and-t-dagger-gate.mp4\" controls  >\n",
       "      Your browser does not support the <code>video</code> element.\n",
       "    </video>"
      ],
      "text/plain": [
       "<IPython.core.display.Video object>"
      ]
     },
     "execution_count": 64,
     "metadata": {},
     "output_type": "execute_result"
    }
   ],
   "source": [
    "from IPython.display import Video\n",
    "Video(\"video/t-and-t-dagger-gate.mp4\")"
   ]
  },
  {
   "cell_type": "markdown",
   "metadata": {},
   "source": [
    "### <font color=\"red\">Exercise</font> - Quantum Computer Gate Playground : <font color=\"blue\"> Experiment with the T gate.</font>\n",
    "\n",
    "- To gain some further intuition on the behavior of this gate (choose from pulldown), experiment with the number of qubits, and **observe what happens to the Quantum State** as a result.\n",
    "- Don't forget to measure the gate when done ! "
   ]
  },
  {
   "cell_type": "code",
   "execution_count": 65,
   "metadata": {
    "scrolled": false
   },
   "outputs": [
    {
     "data": {
      "text/html": [
       "\n",
       "        <iframe\n",
       "            width=\"900\"\n",
       "            height=\"700\"\n",
       "            src=\"https://davidbkemp.github.io/quantum-gate-playground/\"\n",
       "            frameborder=\"0\"\n",
       "            allowfullscreen\n",
       "        ></iframe>\n",
       "        "
      ],
      "text/plain": [
       "<IPython.lib.display.IFrame at 0x2819efc0a48>"
      ]
     },
     "execution_count": 65,
     "metadata": {},
     "output_type": "execute_result"
    }
   ],
   "source": [
    "from IPython.display import IFrame\n",
    "IFrame(src='https://davidbkemp.github.io/quantum-gate-playground/', width=900, height=700)"
   ]
  },
  {
   "cell_type": "markdown",
   "metadata": {},
   "source": [
    "## R(<font color=\"red\">x</font>) Gate - A Phase Change Gate\n",
    "> - **<font color=\"red\">Reference</font>:** <a href=\"Basic Gates Provided by Qiskit.ipynb\" target=\"_blank\"><font color=\"blue\">Basic Gates Provided by Qiskit</font></a> \n",
    "\n",
    "<BR>\n",
    "<img style=\"float: left;\" src=\"img/icon-rx-gate.png\">\n",
    "\n",
    "The Rx gate is a single-qubit rotation through angle \"Theta\" &theta; (radians) around the x-axis.\n",
    "\n",
    "The angle of rotation must be specified in radians and can be positive or negative."
   ]
  },
  {
   "cell_type": "markdown",
   "metadata": {},
   "source": [
    "### Demonstration Video"
   ]
  },
  {
   "cell_type": "code",
   "execution_count": 66,
   "metadata": {},
   "outputs": [
    {
     "data": {
      "text/html": [
       "<video src=\"video/rx-gate.mp4\" controls  >\n",
       "      Your browser does not support the <code>video</code> element.\n",
       "    </video>"
      ],
      "text/plain": [
       "<IPython.core.display.Video object>"
      ]
     },
     "execution_count": 66,
     "metadata": {},
     "output_type": "execute_result"
    }
   ],
   "source": [
    "from IPython.display import Video\n",
    "Video(\"video/rx-gate.mp4\")"
   ]
  },
  {
   "cell_type": "markdown",
   "metadata": {},
   "source": [
    "### <font color=\"red\">Exercise</font> - Quantum Computer Gate Playground : <font color=\"blue\"> Experiment with the X-Rotation gate.</font>\n",
    "\n",
    "- To gain some further intuition on the behavior of this gate (choose from pulldown), experiment with the number of qubits, and **observe what happens to the Quantum State** as a result.\n",
    "- Don't forget to measure the gate when done ! "
   ]
  },
  {
   "cell_type": "code",
   "execution_count": 67,
   "metadata": {
    "scrolled": false
   },
   "outputs": [
    {
     "data": {
      "text/html": [
       "\n",
       "        <iframe\n",
       "            width=\"900\"\n",
       "            height=\"700\"\n",
       "            src=\"https://davidbkemp.github.io/quantum-gate-playground/\"\n",
       "            frameborder=\"0\"\n",
       "            allowfullscreen\n",
       "        ></iframe>\n",
       "        "
      ],
      "text/plain": [
       "<IPython.lib.display.IFrame at 0x2819efc6b48>"
      ]
     },
     "execution_count": 67,
     "metadata": {},
     "output_type": "execute_result"
    }
   ],
   "source": [
    "from IPython.display import IFrame\n",
    "IFrame(src='https://davidbkemp.github.io/quantum-gate-playground/', width=900, height=700)"
   ]
  },
  {
   "cell_type": "markdown",
   "metadata": {},
   "source": [
    "## R(<font color=\"red\">y</font>) Gate - A Phase Change Gate\n",
    "\n",
    "> - **<font color=\"red\">Reference</font>:** <a href=\"Basic Gates Provided by Qiskit.ipynb\" target=\"_blank\"><font color=\"blue\">Basic Gates Provided by Qiskit</font></a> \n",
    "\n",
    "<BR>\n",
    "<img style=\"float: left;\" src=\"img/icon-ry-gate.png\">\n",
    "\n",
    "The Ry gate is a single-qubit rotation through angle \"Theta\" &theta; (radians) around the y-axis.\n",
    "\n",
    "The angle of rotation must be specified in radians and can be positive or negative."
   ]
  },
  {
   "cell_type": "markdown",
   "metadata": {},
   "source": [
    "### Demonstration Video"
   ]
  },
  {
   "cell_type": "code",
   "execution_count": 68,
   "metadata": {},
   "outputs": [
    {
     "data": {
      "text/html": [
       "<video src=\"video/ry-gate.mp4\" controls  >\n",
       "      Your browser does not support the <code>video</code> element.\n",
       "    </video>"
      ],
      "text/plain": [
       "<IPython.core.display.Video object>"
      ]
     },
     "execution_count": 68,
     "metadata": {},
     "output_type": "execute_result"
    }
   ],
   "source": [
    "from IPython.display import Video\n",
    "Video(\"video/ry-gate.mp4\")"
   ]
  },
  {
   "cell_type": "markdown",
   "metadata": {},
   "source": [
    "### <font color=\"red\">Exercise</font> - Quantum Computer Gate Playground : <font color=\"blue\"> Experiment with the Y-Rotation gate.</font>\n",
    "\n",
    "- To gain some further intuition on the behavior of this gate (choose from pulldown), experiment with the number of qubits, and **observe what happens to the Quantum State** as a result.\n",
    "- Don't forget to measure the gate when done ! "
   ]
  },
  {
   "cell_type": "code",
   "execution_count": 69,
   "metadata": {
    "scrolled": false
   },
   "outputs": [
    {
     "data": {
      "text/html": [
       "\n",
       "        <iframe\n",
       "            width=\"900\"\n",
       "            height=\"700\"\n",
       "            src=\"https://davidbkemp.github.io/quantum-gate-playground/\"\n",
       "            frameborder=\"0\"\n",
       "            allowfullscreen\n",
       "        ></iframe>\n",
       "        "
      ],
      "text/plain": [
       "<IPython.lib.display.IFrame at 0x2819efc0788>"
      ]
     },
     "execution_count": 69,
     "metadata": {},
     "output_type": "execute_result"
    }
   ],
   "source": [
    "from IPython.display import IFrame\n",
    "IFrame(src='https://davidbkemp.github.io/quantum-gate-playground/', width=900, height=700)"
   ]
  },
  {
   "cell_type": "markdown",
   "metadata": {},
   "source": [
    "## R(<font color=\"red\">z</font>) Gate - A Phase Change Gate\n",
    "\n",
    "> - **<font color=\"red\">Reference</font>:** <a href=\"Basic Gates Provided by Qiskit.ipynb\" target=\"_blank\"><font color=\"blue\">Basic Gates Provided by Qiskit</font></a> \n",
    "\n",
    "<BR>\n",
    "<img style=\"float: left;\" src=\"img/icon-rz-gate.png\">\n",
    "\n",
    "The Rz gate is a single-qubit rotation through angle \"Theta\" &theta; (radians) around the z-axis.\n",
    "\n",
    "The angle of rotation must be specified in radians and can be positive or negative."
   ]
  },
  {
   "cell_type": "markdown",
   "metadata": {},
   "source": [
    "### Demonstration Video"
   ]
  },
  {
   "cell_type": "code",
   "execution_count": 70,
   "metadata": {},
   "outputs": [
    {
     "data": {
      "text/html": [
       "<video src=\"video/rz-gate.mp4\" controls  >\n",
       "      Your browser does not support the <code>video</code> element.\n",
       "    </video>"
      ],
      "text/plain": [
       "<IPython.core.display.Video object>"
      ]
     },
     "execution_count": 70,
     "metadata": {},
     "output_type": "execute_result"
    }
   ],
   "source": [
    "from IPython.display import Video\n",
    "Video(\"video/rz-gate.mp4\")"
   ]
  },
  {
   "cell_type": "markdown",
   "metadata": {},
   "source": [
    "### <font color=\"red\">Exercise</font> - Quantum Computer Gate Playground : <font color=\"blue\"> Experiment with the Z-Rotation gate.</font>\n",
    "\n",
    "- To gain some further intuition on the behavior of this gate (choose from pulldown), experiment with the number of qubits, and **observe what happens to the Quantum State** as a result.\n",
    "- Don't forget to measure the gate when done ! "
   ]
  },
  {
   "cell_type": "code",
   "execution_count": 71,
   "metadata": {
    "scrolled": false
   },
   "outputs": [
    {
     "data": {
      "text/html": [
       "\n",
       "        <iframe\n",
       "            width=\"900\"\n",
       "            height=\"700\"\n",
       "            src=\"https://davidbkemp.github.io/quantum-gate-playground/\"\n",
       "            frameborder=\"0\"\n",
       "            allowfullscreen\n",
       "        ></iframe>\n",
       "        "
      ],
      "text/plain": [
       "<IPython.lib.display.IFrame at 0x2819efbab48>"
      ]
     },
     "execution_count": 71,
     "metadata": {},
     "output_type": "execute_result"
    }
   ],
   "source": [
    "from IPython.display import IFrame\n",
    "IFrame(src='https://davidbkemp.github.io/quantum-gate-playground/', width=900, height=700)"
   ]
  },
  {
   "cell_type": "markdown",
   "metadata": {},
   "source": [
    "## (&radic;not) Gate \n",
    "\n",
    "<img style=\"float: left;\" src=\"img/icon-sqrt-not-gate.png\">\n",
    "\n",
    "The **Root of Not** gate does **not** exist in the world of conventional logic - **there is no equivalent**.\n",
    "\n",
    "If this gate does not exist in your portfolio of gates, *it can be constructed using the following gate recipe:*\n",
    "\n",
    "> Gates: **( H + P90 + H )** - where **P90** is  effectively any Phase 90 gate or combination.\n",
    "- **<font color=\"red\">NOTICE</font>:** By carefully placing information in the **Relative Phase** of a Qubit, we can perform *entirely new kinds of computation*.\n",
    "- Experiment with the Below Simulator to gain some intuition."
   ]
  },
  {
   "cell_type": "markdown",
   "metadata": {},
   "source": [
    "## <font color=\"red\">Demonstration -  Simulation</font> (&radic;not) Gate <font color=\"blue\">with the QCEngine</font>\n",
    "\n",
    "> Execute the Root of Not code in the **QCEngine Quantum Simulator** and interact with the **Program Circuit** result by clicking **before** and **after** any of the gates in the circuit and then perusing the behavior of the **Circle Notation Plots**.\n",
    "\n",
    "**<font color=\"red\">NOTICE</font>:** Documentation on the QCEngine can be found here: - https://oreilly-qc.github.io/docs/build/index.html\n"
   ]
  },
  {
   "cell_type": "markdown",
   "metadata": {},
   "source": [
    "### Cut-N-Paste the code into the QCEngine IDE and inspect the results\n",
    "- Two Consecutive Applications of a single Transform (gate) negates themselves."
   ]
  },
  {
   "cell_type": "raw",
   "metadata": {},
   "source": [
    "// QCEngine Stock SQRTNOT Function\n",
    "\n",
    "// Setup a single Qubit and Initialize it \n",
    "qc.reset(1);\n",
    "qc.write(0);\n",
    "\n",
    "qc.nop()\n",
    "qc.label(\"Built-in RNOT\")\n",
    "qc.rootnot();\n",
    "qc.nop()\n",
    "qc.label()\n"
   ]
  },
  {
   "cell_type": "raw",
   "metadata": {},
   "source": [
    "// QCEngine Constructed SQRT(NOT) Function \n",
    "// ( H + [-P90] + H )\n",
    "\n",
    "// Setup a single Qubit and Initialize it \n",
    "qc.reset(1);\n",
    "qc.write(0);\n",
    "\n",
    "// Constructed SQRT(NOT) Function : ( H + P90 + H )\n",
    "// This version uses -90 Phase shift to match build in behavior\n",
    "//\n",
    "qc.label(\"RNOT\")\n",
    "qc.had();\n",
    "qc.phase(-90);\n",
    "qc.had();\n",
    "qc.label();\n"
   ]
  },
  {
   "cell_type": "code",
   "execution_count": 72,
   "metadata": {
    "scrolled": false
   },
   "outputs": [
    {
     "data": {
      "text/html": [
       "\n",
       "        <iframe\n",
       "            width=\"900\"\n",
       "            height=\"900\"\n",
       "            src=\"https://oreilly-qc.github.io?p=2-3\"\n",
       "            frameborder=\"0\"\n",
       "            allowfullscreen\n",
       "        ></iframe>\n",
       "        "
      ],
      "text/plain": [
       "<IPython.lib.display.IFrame at 0x2819ef7d788>"
      ]
     },
     "execution_count": 72,
     "metadata": {},
     "output_type": "execute_result"
    }
   ],
   "source": [
    "from IPython.display import IFrame\n",
    "IFrame(src='https://oreilly-qc.github.io?p=2-3', width=900, height=900)"
   ]
  },
  {
   "cell_type": "markdown",
   "metadata": {},
   "source": [
    "## <font color=\"red\">Demonstration -  Simulation</font>  (&radic;not) Gate <font color=\"blue\">with QUIRK</font>\n",
    "\n",
    "> Peruse the QUIRK circuit below that constructs the **Root of NOT** circuit - see if you can intuit what is happening based upon your experiences with the QCEngine's rendition of the circuit.\n",
    "\n",
    "**<font color=\"red\">NOTICE</font>:** Documentation on the **QUIRK** Simulator can be found here: - https://github.com/Strilanc/Quirk/wiki/How-to-use-Quirk\n",
    "\n",
    "\n",
    "**REMINDER**:\n",
    "\n",
    "The **Root of Not** gate does **not** exist in the world of conventional logic - **there is no equivalent**.\n",
    "\n",
    "If this gate does not exist in your portfolio of gates, *it can be constructed using the following gate recipe:*\n",
    "\n",
    "> Gates: **( H + P90 + H )** - where **P90** is  effectively any Phase 90 gate or combination.\n",
    "- **<font color=\"red\">NOTICE</font>:** By carefully placing information in the **Relative Phase** of a Qubit, we can perform *entirely new kinds of computation*.\n",
    "- Experiment with the Below Simulator to gain some intuition."
   ]
  },
  {
   "cell_type": "code",
   "execution_count": 73,
   "metadata": {
    "scrolled": false
   },
   "outputs": [
    {
     "data": {
      "text/html": [
       "\n",
       "        <iframe\n",
       "            width=\"900\"\n",
       "            height=\"600\"\n",
       "            src=\"https://algassert.com/quirk#circuit={%22cols%22:[[%22H%22],[{%22id%22:%22Rzft%22,%22arg%22:%22-pi%20/%202%22}],[],[%22H%22],[%22%E2%80%A6%22],[%22H%22],[{%22id%22:%22Rzft%22,%22arg%22:%22-pi%20/%202%22}],[],[%22H%22]]}\"\n",
       "            frameborder=\"0\"\n",
       "            allowfullscreen\n",
       "        ></iframe>\n",
       "        "
      ],
      "text/plain": [
       "<IPython.lib.display.IFrame at 0x2819ef81508>"
      ]
     },
     "execution_count": 73,
     "metadata": {},
     "output_type": "execute_result"
    }
   ],
   "source": [
    "# QUIRK (Quantum Circuit Simulator) of Above Circuit : 2 Roots of Not Gates\n",
    "from IPython.display import IFrame\n",
    "IFrame(src='https://algassert.com/quirk#circuit={%22cols%22:[[%22H%22],[{%22id%22:%22Rzft%22,%22arg%22:%22-pi%20/%202%22}],[],[%22H%22],[%22%E2%80%A6%22],[%22H%22],[{%22id%22:%22Rzft%22,%22arg%22:%22-pi%20/%202%22}],[],[%22H%22]]}', width=900, height=600)"
   ]
  },
  {
   "cell_type": "markdown",
   "metadata": {},
   "source": [
    "## <font color=\"red\">Demonstration -  Simulation</font>  (&radic;not) Gate <font color=\"blue\">with Qiskit</font>\n",
    "- Run the code to see how the recipe is constructed in Qiskit\n",
    "- Run it again w/the negation to see similar results to the QCEngine's version.\n",
    "\n",
    "\n",
    "\n",
    "- **<font color=\"red\">Q</font>:** Why can't I step through a Qiskit program like a QCEngine program and inspect the results?\n",
    "\n",
    "\n",
    "- **<font color=\"red\">A</font>:** Because **Qiskit** is a real world-ish (meaning batch), and **QCEngine**, while excellent for learning, is just a simulator. \n",
    "\n",
    "\n",
    "- **<font color=\"red\">Gotcha</font>**: Simulators represent the **Ideal State** that actual Quantum Hardware has to catch, once we begin using frameworks meant to interface w/actual QCH - the landscape changes significantly!"
   ]
  },
  {
   "cell_type": "markdown",
   "metadata": {},
   "source": [
    "### Setup the Program"
   ]
  },
  {
   "cell_type": "code",
   "execution_count": 74,
   "metadata": {},
   "outputs": [],
   "source": [
    "# Import Qiskit, and set up a Quantum register of 1 Qubit, and set up a Quantum Circuit w/that register\n",
    "\n",
    "import numpy as np\n",
    "from qiskit import Aer, QuantumCircuit, QuantumRegister, execute\n",
    "from qiskit.visualization import plot_histogram\n",
    "import cmath\n",
    "import math\n",
    "import matplotlib.pyplot as P\n",
    "import matplotlib.pyplot as plt\n",
    "from qiskit.tools.visualization import plot_bloch_multivector\n",
    "from IPython.display import display, Math, Latex\n",
    "from circle_plot import *\n",
    "from qsphere_plotter import plot_state_qsphere\n",
    "from widgets import minicomposer\n",
    "from may4_challenge_common import return_state, vec_in_braket, statevec\n",
    "\n",
    "\n",
    "qr = QuantumRegister(1)\n",
    "circ = QuantumCircuit(qr)\n",
    "\n",
    "\n",
    "# Helper Funtion for Normalizing State Vectors\n",
    "#\n",
    "def normalize_state_Vector(state_vector):\n",
    "    for result in state_vector:\n",
    "        print(\"Normalized Result: \" , round( np.abs(result)**2, 1) )\n",
    "        \n",
    "        \n",
    "# Helper Funtion for print Polar Phase(s)\n",
    "#      \n",
    "def plot_polar(state_vector):\n",
    "    pi_radians = 180;\n",
    "    for x in state_vector:\n",
    "        plt.polar([0,cmath.phase(x)],[0,abs(x)],marker='o')\n",
    "        print(\"The original complex number Re{%d}, Im{%d}, and Length : %f\" % (x.real, x.imag, abs(x)))\n",
    "        print(\"Phase: \",cmath.phase(x))\n",
    "        if cmath.phase(x) != 0:\n",
    "            print(\"Angle: \", pi_radians/(np.pi/cmath.phase(x)))\n",
    "    "
   ]
  },
  {
   "cell_type": "markdown",
   "metadata": {},
   "source": [
    "### Programatically manipulate the circuit (Phase)\n",
    "\n",
    "#### <font color=\"red\">NOTE</font>: This is the only code segment you change\n",
    "- The range of phase lies from -pi to +pi. i.e from -3.14 to +3.14.\n",
    "- Pi radians is equal to 180 degrees\n",
    "- Pi/2 or (180/2) = 90 Degrees\n",
    "- Gates: ( H + P90 + H ) - where P90 is effectively any Phase 90 gate or combination.\n"
   ]
  },
  {
   "cell_type": "code",
   "execution_count": 75,
   "metadata": {},
   "outputs": [
    {
     "data": {
      "image/png": "[encoded data removed]",
      "text/plain": [
       "<Figure size 304.612x84.28 with 1 Axes>"
      ]
     },
     "execution_count": 75,
     "metadata": {},
     "output_type": "execute_result"
    }
   ],
   "source": [
    "## QCEngine Constructed SQRT(NOT) Function \n",
    "## ( H + [-P90] + H )\n",
    "\n",
    "# Place an H (Hadamard) gate on the circuit\n",
    "# Note: Qiskit rotates in Radians not Degrees so the correct calculation needs to be made\n",
    "# Place an Rz gate with a Pi/2 rotation = 90 Degrees \n",
    "\n",
    "# First Root of Not Gate (Establish)\n",
    "circ.h(qr[0])\n",
    "circ.rz( -np.pi/2 , qr[0]) # 90 Degree Phase Rotation (using negative for consistency)\n",
    "circ.h(qr[0])\n",
    "\n",
    "# [Uncomment to illustrate]\n",
    "#\n",
    "# Second Root of Not Gate (Reverse) \n",
    "# circ.h(qr[0])\n",
    "# circ.rz( -np.pi/2 , qr[0]) # 90 Degree Phase Rotation (using negative for consistency)\n",
    "# circ.h(qr[0])\n",
    "\n",
    "\n",
    "\n",
    "# Draw the circuit\n",
    "circ.draw(output='mpl')"
   ]
  },
  {
   "cell_type": "markdown",
   "metadata": {},
   "source": [
    "### Submit the program to the backed, execute and print the state"
   ]
  },
  {
   "cell_type": "code",
   "execution_count": 76,
   "metadata": {},
   "outputs": [
    {
     "data": {
      "text/plain": [
       "array([0.707+0.j   , 0.   +0.707j])"
      ]
     },
     "execution_count": 76,
     "metadata": {},
     "output_type": "execute_result"
    }
   ],
   "source": [
    "# Use the BasicAer statevector_simulator backend, submit the job, preview the quantum state\n",
    "\n",
    "from qiskit import BasicAer\n",
    "backend_sv_sim = BasicAer.get_backend('statevector_simulator')\n",
    "\n",
    "job_sim = execute(circ, backend_sv_sim)\n",
    "result_sim = job_sim.result()\n",
    "quantum_state = result_sim.get_statevector(circ, decimals=3)\n",
    "\n",
    "# Output the quantum state vector (Amplitude of zero and one state respectively)\n",
    "quantum_state"
   ]
  },
  {
   "cell_type": "markdown",
   "metadata": {},
   "source": [
    "### Normalize the State Vector for sake of intuition\n",
    "- This is a **Phase** change so magnitudes stay constant at 50%"
   ]
  },
  {
   "cell_type": "code",
   "execution_count": 77,
   "metadata": {},
   "outputs": [
    {
     "name": "stdout",
     "output_type": "stream",
     "text": [
      "Normalized Result:  0.5\n",
      "Normalized Result:  0.5\n"
     ]
    }
   ],
   "source": [
    "# Print out normalized statevector  (to gain probabilities)\n",
    "#\n",
    "normalize_state_Vector(quantum_state)"
   ]
  },
  {
   "cell_type": "markdown",
   "metadata": {},
   "source": [
    "### Print the Polar Plot for sake of intuition\n",
    "- The **Polar Plots** will also show phase differences.\n",
    "- (+90) Degree Z-Rotation of the **|1> Ket**\n",
    "\n",
    "#### <font color=\"red\">NOTICE</font> -  Qiskit Returned Values:\n",
    "\n",
    "<BR>\n",
    "\n",
    "**|0> Ket**\n",
    "> *The original complex number* Re{0}, Im{0}, and Length : **0.707000** (Magnitude of 50%)\n",
    "- **Phase:  0.0**\n",
    "\n",
    "**|1> Ket**\n",
    "> *The original complex number* Re{0}, Im{0}, and Length : **0.707000** (Magnitude of 50%)\n",
    "- **Phase:  1.5707963267948966** = **<font color=\"red\">(Pi/2)</font>**\n",
    "- **Angle:  90.0** Degrees = **<font color=\"red\">(180/2)</font>**\n",
    "\n",
    "- Reminder: Pi Radians is equal to 180 degrees"
   ]
  },
  {
   "cell_type": "code",
   "execution_count": 78,
   "metadata": {
    "scrolled": false
   },
   "outputs": [
    {
     "name": "stdout",
     "output_type": "stream",
     "text": [
      "The original complex number Re{0}, Im{0}, and Length : 0.707000\n",
      "Phase:  0.0\n",
      "The original complex number Re{0}, Im{0}, and Length : 0.707000\n",
      "Phase:  1.5707963267948966\n",
      "Angle:  90.0\n"
     ]
    },
    {
     "data": {
      "image/png": "[encoded data removed]",
      "text/plain": [
       "<Figure size 432x288 with 1 Axes>"
      ]
     },
     "metadata": {
      "needs_background": "light"
     },
     "output_type": "display_data"
    }
   ],
   "source": [
    "# Plot Polar Coordinates for intuitions sake - provides an idea of the angle of the plot on the curve : appears 90 Degrees\n",
    "# Plot both vectors and phase / angle (if non-zero)\n",
    "\n",
    "P.clf()\n",
    "sp = P.subplot(1, 1, 1, projection='polar')\n",
    "sp.set_theta_zero_location('N')\n",
    "sp.set_theta_direction(1)\n",
    "\n",
    "plot_polar(quantum_state)"
   ]
  },
  {
   "cell_type": "markdown",
   "metadata": {},
   "source": [
    "### Print the Circle Plots for sake of intuition\n",
    "- The **Circle Plots** will show *magnitude* and *phase* differences.\n",
    "- **<font color=\"red\">Gotcha</font>**: There is <font color=\"red\">no</font> Phase Value associated witht **|0> Zero** Ket.\n",
    "- (+90) Degree Z-Rotation of the |1> Ket"
   ]
  },
  {
   "cell_type": "code",
   "execution_count": 79,
   "metadata": {},
   "outputs": [
    {
     "data": {
      "image/png": "[encoded data removed]",
      "text/plain": [
       "<Figure size 288x144 with 2 Axes>"
      ]
     },
     "metadata": {
      "needs_background": "light"
     },
     "output_type": "display_data"
    }
   ],
   "source": [
    "# Print out Circle Notation for intuitions sake\n",
    "\n",
    "from circle_plot import *\n",
    "plot_circles(quantum_state)"
   ]
  },
  {
   "cell_type": "markdown",
   "metadata": {},
   "source": [
    "### Print the Bloch Sphere for sake of intuition\n",
    "- Check this against the Bloch Sphere Payground version below the plot."
   ]
  },
  {
   "cell_type": "code",
   "execution_count": 80,
   "metadata": {
    "scrolled": true
   },
   "outputs": [
    {
     "data": {
      "image/png": "[encoded data removed]",
      "text/plain": [
       "<Figure size 288x288 with 1 Axes>"
      ]
     },
     "execution_count": 80,
     "metadata": {},
     "output_type": "execute_result"
    }
   ],
   "source": [
    "# Plot the state vector on a Bloch sphere\n",
    "\n",
    "from qiskit.tools.visualization import plot_bloch_multivector\n",
    "plot_bloch_multivector(quantum_state)"
   ]
  },
  {
   "cell_type": "code",
   "execution_count": 81,
   "metadata": {},
   "outputs": [
    {
     "data": {
      "text/plain": [
       "array([0.707+0.j   , 0.   +0.707j])"
      ]
     },
     "execution_count": 81,
     "metadata": {},
     "output_type": "execute_result"
    }
   ],
   "source": [
    "quantum_state"
   ]
  },
  {
   "cell_type": "markdown",
   "metadata": {},
   "source": [
    "### QISKIT Plot State QSPhere\n",
    "- This visual notation is slightly different but nevertheless consistent once you get to know it."
   ]
  },
  {
   "cell_type": "code",
   "execution_count": 82,
   "metadata": {
    "scrolled": false
   },
   "outputs": [
    {
     "data": {
      "image/png": "[encoded data removed]",
      "text/plain": [
       "<Figure size 504x504 with 2 Axes>"
      ]
     },
     "execution_count": 82,
     "metadata": {},
     "output_type": "execute_result"
    }
   ],
   "source": [
    "plot_state_qsphere(quantum_state, show_state_labels=True, show_state_angles=True) "
   ]
  },
  {
   "cell_type": "code",
   "execution_count": null,
   "metadata": {},
   "outputs": [],
   "source": []
  },
  {
   "cell_type": "markdown",
   "metadata": {},
   "source": [
    "## <font color=\"red\">Demonstration -  Simulation</font>  (&radic;not) Gate <font color=\"blue\">with Qiskit MiniComposer .</font>\n",
    "\n",
    "- Use the **Qiskit MiniComposer** to construct the (&radic;not) Gate in discrete steps - this will help develop intuition.\n"
   ]
  },
  {
   "cell_type": "code",
   "execution_count": 83,
   "metadata": {},
   "outputs": [],
   "source": [
    "import numpy as np\n",
    "\n",
    "from qiskit import Aer, QuantumCircuit, execute\n",
    "from qiskit.visualization import plot_histogram\n",
    "from IPython.display import display, Math, Latex\n",
    "\n",
    "from qsphere_plotter import plot_state_qsphere\n",
    "from widgets import minicomposer\n",
    "from may4_challenge_common import return_state, vec_in_braket, statevec"
   ]
  },
  {
   "cell_type": "markdown",
   "metadata": {},
   "source": [
    "### <font color=\"red\">Usage Directions</font>:\n",
    " Click on the gate that you want to apply to your qubit\n",
    "- Next, choose the qubit that you want to apply it to (choose '0' here)\n",
    "- Finally, click on clear to restart"
   ]
  },
  {
   "cell_type": "markdown",
   "metadata": {},
   "source": [
    "### Apply the following gates in order to <font color=\"red\">Qubit Zero</font>:\n",
    "\n",
    "### <font color=\"red\">H</font> => <font color=\"red\">S'</font> => <font color=\"red\">H</font>\n",
    "\n",
    "\n",
    "\n",
    "\n",
    "- Check this result against the results above."
   ]
  },
  {
   "cell_type": "code",
   "execution_count": 84,
   "metadata": {},
   "outputs": [
    {
     "data": {
      "application/vnd.jupyter.widget-view+json": {
       "model_id": "023499730e7e4f8683ab46d9e424161d",
       "version_major": 2,
       "version_minor": 0
      },
      "text/plain": [
       "Label(value='Select a gate to add to the circuit:')"
      ]
     },
     "metadata": {},
     "output_type": "display_data"
    },
    {
     "data": {
      "application/vnd.jupyter.widget-view+json": {
       "model_id": "90fb636aa5cd45b1a645945e77c7f6d5",
       "version_major": 2,
       "version_minor": 0
      },
      "text/plain": [
       "VBox(children=(HBox(children=(Button(description='I', style=ButtonStyle()), Button(description='X', style=Butt…"
      ]
     },
     "metadata": {},
     "output_type": "display_data"
    },
    {
     "data": {
      "application/vnd.jupyter.widget-view+json": {
       "model_id": "00ee7fbff1fe4dfba82a3d779075767b",
       "version_major": 2,
       "version_minor": 0
      },
      "text/plain": [
       "VBox(children=(HTML(value='<?xml version=\"1.0\" encoding=\"utf-8\" standalone=\"no\"?>\\n<!DOCTYPE svg PUBLIC \"-//W3…"
      ]
     },
     "metadata": {},
     "output_type": "display_data"
    },
    {
     "data": {
      "application/vnd.jupyter.widget-view+json": {
       "model_id": "d8b7fba28b9f4ee2acce0f65e08531b0",
       "version_major": 2,
       "version_minor": 0
      },
      "text/plain": [
       "HTML(value='')"
      ]
     },
     "metadata": {},
     "output_type": "display_data"
    }
   ],
   "source": [
    "# Qiskit MiniComposer\n",
    "\n",
    "minicomposer(1, dirac=True, qsphere=True)"
   ]
  },
  {
   "cell_type": "code",
   "execution_count": 85,
   "metadata": {},
   "outputs": [
    {
     "ename": "SyntaxError",
     "evalue": "invalid syntax (<ipython-input-85-f61548b9309f>, line 1)",
     "output_type": "error",
     "traceback": [
      "\u001b[1;36m  File \u001b[1;32m\"<ipython-input-85-f61548b9309f>\"\u001b[1;36m, line \u001b[1;32m1\u001b[0m\n\u001b[1;33m    State: |Ψ⟩=(0.5−0.5𝑖)|0⟩+(0.5+0.5𝑖)|1⟩\u001b[0m\n\u001b[1;37m           ^\u001b[0m\n\u001b[1;31mSyntaxError\u001b[0m\u001b[1;31m:\u001b[0m invalid syntax\n"
     ]
    }
   ],
   "source": [
    "\n",
    "State: |Ψ⟩=(0.5−0.5𝑖)|0⟩+(0.5+0.5𝑖)|1⟩\n",
    " \n",
    "def create_circuit():\n",
    "    qc = QuantumCircuit(1)\n",
    "    qc.h(0)\n",
    "    qc.sdg(0)\n",
    "    qc.h(0)\n",
    "    return qc"
   ]
  },
  {
   "cell_type": "code",
   "execution_count": null,
   "metadata": {},
   "outputs": [],
   "source": []
  },
  {
   "cell_type": "markdown",
   "metadata": {},
   "source": [
    "# <font color=\"red\">Graded Exercises</font>  for use <font color=\"blue\">with structured courses.</font>"
   ]
  },
  {
   "cell_type": "markdown",
   "metadata": {},
   "source": [
    "## The Qubit and the Bloch Sphere\n",
    "\n",
    "#### <font color=\"blue\">*This work will take some time, so block off enough time to adequately cover it*</font>. \n",
    "\n",
    "- Go through the **entire** JNB and complete each of the exercises, including any supplementary Video's - hand in completed <font color=\"red\">**PDF**</font> from this JNB once finished.\n",
    "\n",
    "\n",
    "- Step through the code for **each** of the above exercises, make sure you can (1) execute it, and (2) know what it does.\n",
    "\n",
    "\n",
    "- <font color=\"blue\">Complete Challenge Exercises below.</font> **(turn in the JNB)**\n",
    "\n",
    "> 0. **Level 1 Quirky (type) Puzzles**:  https://uncertain-systems.com/puzzles.html (Magnitude)\n",
    "> 0. **Level 2 Quirky (type) Puzzles**:  https://uncertain-systems.com/puzzles.html (Phases)\n"
   ]
  },
  {
   "cell_type": "markdown",
   "metadata": {},
   "source": [
    "## QUIRKY <font color=\"red\"> Qubit Problems</font>\n",
    "- To help build intuition about **Magnitudes** and **Phases**, solve the following puzzles. \n",
    "- **Each puzzle starts with a hidden gate** that alters the Qubits state (magnitudes or phases) - your job is to do the following:\n",
    "> - **Magnitudes**: Turn the Qubits to their <font color=\"red\">**OFF**</font> state.\n",
    "> - **Phases**: Flip all of the phases back to <font color=\"red\">**ZERO**</font>.\n",
    "\n",
    "**<font color=\"red\"> IMPORTANT</font>** - Copy the URL String into a new tab and do you work there, then when finished, copy the completed URL string to the proper cell below for evaluation and grading."
   ]
  },
  {
   "cell_type": "markdown",
   "metadata": {},
   "source": [
    "### <font color=\"red\">Magnitude</font> - Turn the Qubits <font color=\"red\">OFF</font>"
   ]
  },
  {
   "cell_type": "code",
   "execution_count": 1,
   "metadata": {},
   "outputs": [
    {
     "data": {
      "text/html": [
       "\n",
       "        <iframe\n",
       "            width=\"900\"\n",
       "            height=\"600\"\n",
       "            src=\"https://algassert.com/quirk#circuit={%22cols%22:[[%22~8g2f%22]],%22gates%22:[{%22id%22:%22~8g2f%22,%22name%22:%22Puzzle-#1%22,%22circuit%22:{%22cols%22:[[{%22id%22:%22Ryft%22,%22arg%22:%22pi%20/%202%22}]]}}]}\"\n",
       "            frameborder=\"0\"\n",
       "            allowfullscreen\n",
       "        ></iframe>\n",
       "        "
      ],
      "text/plain": [
       "<IPython.lib.display.IFrame at 0x1b8f0d99278>"
      ]
     },
     "execution_count": 1,
     "metadata": {},
     "output_type": "execute_result"
    }
   ],
   "source": [
    "# QUIRK (Quantum Circuit Simulator)\n",
    "from IPython.display import IFrame\n",
    "IFrame(src='https://algassert.com/quirk#circuit={%22cols%22:[[%22~8g2f%22]],%22gates%22:[{%22id%22:%22~8g2f%22,%22name%22:%22Puzzle-#1%22,%22circuit%22:{%22cols%22:[[{%22id%22:%22Ryft%22,%22arg%22:%22pi%20/%202%22}]]}}]}', width=900, height=600)"
   ]
  },
  {
   "cell_type": "code",
   "execution_count": 2,
   "metadata": {},
   "outputs": [
    {
     "data": {
      "text/html": [
       "\n",
       "        <iframe\n",
       "            width=\"900\"\n",
       "            height=\"600\"\n",
       "            src=\"https://algassert.com/quirk#circuit={%22cols%22:[[%22~8g2f%22],[%22H%22]],%22gates%22:[{%22id%22:%22~8g2f%22,%22name%22:%22Puzzle-#1%22,%22circuit%22:{%22cols%22:[[{%22id%22:%22Ryft%22,%22arg%22:%22pi%20/%202%22}]]}}]}\"\n",
       "            frameborder=\"0\"\n",
       "            allowfullscreen\n",
       "        ></iframe>\n",
       "        "
      ],
      "text/plain": [
       "<IPython.lib.display.IFrame at 0x1b8f0d995c0>"
      ]
     },
     "execution_count": 2,
     "metadata": {},
     "output_type": "execute_result"
    }
   ],
   "source": [
    "# QUIRK (Quantum Circuit Simulator)\n",
    "from IPython.display import IFrame\n",
    "IFrame(src='https://algassert.com/quirk#circuit={%22cols%22:[[%22~8g2f%22],[%22H%22]],%22gates%22:[{%22id%22:%22~8g2f%22,%22name%22:%22Puzzle-#1%22,%22circuit%22:{%22cols%22:[[{%22id%22:%22Ryft%22,%22arg%22:%22pi%20/%202%22}]]}}]}', width=900, height=600)"
   ]
  },
  {
   "cell_type": "markdown",
   "metadata": {},
   "source": [
    "### Copy your completed QUIRK URL string in the cell below.\n",
    "\n",
    "It'll be of the following form: \n",
    "\n",
    "https://algassert.com/quirk#circuit={%22cols%22:[[%22~8g2f%22]],%22gates%22:[{%22id%22:%22~8g2f%22,%22name%22:%22Puzzle-#1%22,%22circuit%22:{%22cols%22:[[{%22id%22:%22Ryft%22,%22arg%22:%22pi%20/%202%22}]]}}]}\n",
    "\n",
    "\n",
    "#### Your COMPLETED QUIRK URL String Goes under here:\n",
    "\n",
    "\n",
    "<BR><BR><BR>\n",
    "."
   ]
  },
  {
   "cell_type": "code",
   "execution_count": 3,
   "metadata": {
    "scrolled": false
   },
   "outputs": [
    {
     "data": {
      "text/html": [
       "\n",
       "        <iframe\n",
       "            width=\"900\"\n",
       "            height=\"600\"\n",
       "            src=\"https://algassert.com/quirk#circuit={%22cols%22:[[%22~rmuv%22]],%22gates%22:[{%22id%22:%22~rmuv%22,%22name%22:%22Puzzle-#2%22,%22circuit%22:{%22cols%22:[[%22H%22],[{%22id%22:%22Ryft%22,%22arg%22:%22pi%20%20/%204%22}]]}}]}\"\n",
       "            frameborder=\"0\"\n",
       "            allowfullscreen\n",
       "        ></iframe>\n",
       "        "
      ],
      "text/plain": [
       "<IPython.lib.display.IFrame at 0x1b8f0d99518>"
      ]
     },
     "execution_count": 3,
     "metadata": {},
     "output_type": "execute_result"
    }
   ],
   "source": [
    "# QUIRK (Quantum Circuit Simulator)\n",
    "from IPython.display import IFrame\n",
    "IFrame(src='https://algassert.com/quirk#circuit={%22cols%22:[[%22~rmuv%22]],%22gates%22:[{%22id%22:%22~rmuv%22,%22name%22:%22Puzzle-#2%22,%22circuit%22:{%22cols%22:[[%22H%22],[{%22id%22:%22Ryft%22,%22arg%22:%22pi%20%20/%204%22}]]}}]}', width=900, height=600)"
   ]
  },
  {
   "cell_type": "code",
   "execution_count": 4,
   "metadata": {},
   "outputs": [
    {
     "data": {
      "text/html": [
       "\n",
       "        <iframe\n",
       "            width=\"900\"\n",
       "            height=\"600\"\n",
       "            src=\"https://algassert.com/quirk#circuit={%22cols%22:[[%22~rmuv%22],[%22Y^-%C2%BD%22],[%22Y^-%C2%BC%22]],%22gates%22:[{%22id%22:%22~rmuv%22,%22name%22:%22Puzzle-#2%22,%22circuit%22:{%22cols%22:[[%22H%22],[{%22id%22:%22Ryft%22,%22arg%22:%22pi%20%20/%204%22}]]}}]}\"\n",
       "            frameborder=\"0\"\n",
       "            allowfullscreen\n",
       "        ></iframe>\n",
       "        "
      ],
      "text/plain": [
       "<IPython.lib.display.IFrame at 0x1b8f0d99588>"
      ]
     },
     "execution_count": 4,
     "metadata": {},
     "output_type": "execute_result"
    }
   ],
   "source": [
    "# QUIRK (Quantum Circuit Simulator)\n",
    "from IPython.display import IFrame\n",
    "IFrame(src='https://algassert.com/quirk#circuit={%22cols%22:[[%22~rmuv%22],[%22Y^-%C2%BD%22],[%22Y^-%C2%BC%22]],%22gates%22:[{%22id%22:%22~rmuv%22,%22name%22:%22Puzzle-#2%22,%22circuit%22:{%22cols%22:[[%22H%22],[{%22id%22:%22Ryft%22,%22arg%22:%22pi%20%20/%204%22}]]}}]}', width=900, height=600)"
   ]
  },
  {
   "cell_type": "markdown",
   "metadata": {},
   "source": [
    "### Copy your completed QUIRK URL string in the cell below.\n",
    "\n",
    "It'll be of the following form: \n",
    "\n",
    "https://algassert.com/quirk#circuit={%22cols%22:[[%22~rmuv%22]],%22gates%22:[{%22id%22:%22~rmuv%22,%22name%22:%22Puzzle-#2%22,%22circuit%22:{%22cols%22:[[%22H%22],[{%22id%22:%22Ryft%22,%22arg%22:%22pi%20%20/%204%22}]]}}]}\n",
    "\n",
    "\n",
    "#### Your COMPLETED QUIRK URL String Goes under here:\n",
    "\n",
    "\n",
    "<BR><BR><BR>\n",
    "."
   ]
  },
  {
   "cell_type": "markdown",
   "metadata": {},
   "source": [
    "### <font color=\"red\">Phases</font> - Flip all the phases back to <font color=\"red\">ZERO</font>"
   ]
  },
  {
   "cell_type": "code",
   "execution_count": 5,
   "metadata": {
    "scrolled": false
   },
   "outputs": [
    {
     "data": {
      "text/html": [
       "\n",
       "        <iframe\n",
       "            width=\"900\"\n",
       "            height=\"600\"\n",
       "            src=\"https://algassert.com/quirk#circuit={%22cols%22:[[%22~rlp1%22]],%22gates%22:[{%22id%22:%22~rlp1%22,%22name%22:%22Puzzle-#1%22,%22circuit%22:{%22cols%22:[[%22H%22],[{%22id%22:%22Rzft%22,%22arg%22:%22pi%22}]]}}]}\"\n",
       "            frameborder=\"0\"\n",
       "            allowfullscreen\n",
       "        ></iframe>\n",
       "        "
      ],
      "text/plain": [
       "<IPython.lib.display.IFrame at 0x1b8f0d99550>"
      ]
     },
     "execution_count": 5,
     "metadata": {},
     "output_type": "execute_result"
    }
   ],
   "source": [
    "# QUIRK (Quantum Circuit Simulator)\n",
    "from IPython.display import IFrame\n",
    "IFrame(src='https://algassert.com/quirk#circuit={%22cols%22:[[%22~rlp1%22]],%22gates%22:[{%22id%22:%22~rlp1%22,%22name%22:%22Puzzle-#1%22,%22circuit%22:{%22cols%22:[[%22H%22],[{%22id%22:%22Rzft%22,%22arg%22:%22pi%22}]]}}]}', width=900, height=600)"
   ]
  },
  {
   "cell_type": "code",
   "execution_count": 6,
   "metadata": {},
   "outputs": [
    {
     "data": {
      "text/html": [
       "\n",
       "        <iframe\n",
       "            width=\"900\"\n",
       "            height=\"600\"\n",
       "            src=\"https://algassert.com/quirk#circuit={%22cols%22:[[%22~rlp1%22],[%22Z%22]],%22gates%22:[{%22id%22:%22~rlp1%22,%22name%22:%22Puzzle-#1%22,%22circuit%22:{%22cols%22:[[%22H%22],[{%22id%22:%22Rzft%22,%22arg%22:%22pi%22}]]}}]}\"\n",
       "            frameborder=\"0\"\n",
       "            allowfullscreen\n",
       "        ></iframe>\n",
       "        "
      ],
      "text/plain": [
       "<IPython.lib.display.IFrame at 0x1b8f0d99710>"
      ]
     },
     "execution_count": 6,
     "metadata": {},
     "output_type": "execute_result"
    }
   ],
   "source": [
    "# QUIRK (Quantum Circuit Simulator)\n",
    "from IPython.display import IFrame\n",
    "IFrame(src='https://algassert.com/quirk#circuit={%22cols%22:[[%22~rlp1%22],[%22Z%22]],%22gates%22:[{%22id%22:%22~rlp1%22,%22name%22:%22Puzzle-#1%22,%22circuit%22:{%22cols%22:[[%22H%22],[{%22id%22:%22Rzft%22,%22arg%22:%22pi%22}]]}}]}', width=900, height=600)"
   ]
  },
  {
   "cell_type": "markdown",
   "metadata": {},
   "source": [
    "### Copy your completed QUIRK URL string in the cell below.\n",
    "\n",
    "It'll be of the following form: \n",
    "\n",
    "https://algassert.com/quirk#circuit={%22cols%22:[[%22~rlp1%22]],%22gates%22:[{%22id%22:%22~rlp1%22,%22name%22:%22Puzzle-#1%22,%22circuit%22:{%22cols%22:[[%22H%22],[{%22id%22:%22Rzft%22,%22arg%22:%22pi%22}]]}}]}\n",
    "\n",
    "#### Your COMPLETED QUIRK URL String Goes under here:\n",
    "\n",
    "\n",
    "<BR><BR><BR>\n",
    "."
   ]
  },
  {
   "cell_type": "code",
   "execution_count": null,
   "metadata": {},
   "outputs": [],
   "source": []
  },
  {
   "cell_type": "code",
   "execution_count": 7,
   "metadata": {
    "scrolled": false
   },
   "outputs": [
    {
     "data": {
      "text/html": [
       "\n",
       "        <iframe\n",
       "            width=\"900\"\n",
       "            height=\"600\"\n",
       "            src=\"https://algassert.com/quirk#circuit={%22cols%22:[[%22~ro10%22]],%22gates%22:[{%22id%22:%22~ro10%22,%22name%22:%22Puzzle-#2%22,%22circuit%22:{%22cols%22:[[%22H%22],[{%22id%22:%22Rzft%22,%22arg%22:%223%20pi%20/%202%22}]]}}]}\"\n",
       "            frameborder=\"0\"\n",
       "            allowfullscreen\n",
       "        ></iframe>\n",
       "        "
      ],
      "text/plain": [
       "<IPython.lib.display.IFrame at 0x1b8f0d99860>"
      ]
     },
     "execution_count": 7,
     "metadata": {},
     "output_type": "execute_result"
    }
   ],
   "source": [
    "# QUIRK (Quantum Circuit Simulator)\n",
    "from IPython.display import IFrame\n",
    "IFrame(src='https://algassert.com/quirk#circuit={%22cols%22:[[%22~ro10%22]],%22gates%22:[{%22id%22:%22~ro10%22,%22name%22:%22Puzzle-#2%22,%22circuit%22:{%22cols%22:[[%22H%22],[{%22id%22:%22Rzft%22,%22arg%22:%223%20pi%20/%202%22}]]}}]}', width=900, height=600)"
   ]
  },
  {
   "cell_type": "code",
   "execution_count": 8,
   "metadata": {},
   "outputs": [
    {
     "data": {
      "text/html": [
       "\n",
       "        <iframe\n",
       "            width=\"900\"\n",
       "            height=\"600\"\n",
       "            src=\"https://algassert.com/quirk#circuit={%22cols%22:[[%22~ro10%22],[%22Z^%C2%BD%22]],%22gates%22:[{%22id%22:%22~ro10%22,%22name%22:%22Puzzle-#2%22,%22circuit%22:{%22cols%22:[[%22H%22],[{%22id%22:%22Rzft%22,%22arg%22:%223%20pi%20/%202%22}]]}}]}\"\n",
       "            frameborder=\"0\"\n",
       "            allowfullscreen\n",
       "        ></iframe>\n",
       "        "
      ],
      "text/plain": [
       "<IPython.lib.display.IFrame at 0x1b8f0d996d8>"
      ]
     },
     "execution_count": 8,
     "metadata": {},
     "output_type": "execute_result"
    }
   ],
   "source": [
    "# QUIRK (Quantum Circuit Simulator)\n",
    "from IPython.display import IFrame\n",
    "IFrame(src='https://algassert.com/quirk#circuit={%22cols%22:[[%22~ro10%22],[%22Z^%C2%BD%22]],%22gates%22:[{%22id%22:%22~ro10%22,%22name%22:%22Puzzle-#2%22,%22circuit%22:{%22cols%22:[[%22H%22],[{%22id%22:%22Rzft%22,%22arg%22:%223%20pi%20/%202%22}]]}}]}', width=900, height=600)"
   ]
  },
  {
   "cell_type": "markdown",
   "metadata": {},
   "source": [
    "### Copy your completed QUIRK URL string in the cell below.\n",
    "\n",
    "It'll be of the following form: \n",
    "\n",
    "https://algassert.com/quirk#circuit={%22cols%22:[[%22~ro10%22]],%22gates%22:[{%22id%22:%22~ro10%22,%22name%22:%22Puzzle-#2%22,%22circuit%22:{%22cols%22:[[%22H%22],[{%22id%22:%22Rzft%22,%22arg%22:%223%20pi%20/%202%22}]]}}]}\n",
    "\n",
    "\n",
    "#### Your COMPLETED QUIRK URL String Goes under here:\n",
    "\n",
    "\n",
    "<BR><BR><BR>\n",
    "."
   ]
  },
  {
   "cell_type": "markdown",
   "metadata": {},
   "source": []
  },
  {
   "cell_type": "markdown",
   "metadata": {},
   "source": [
    "## Qiskit  <font color=\"red\">MiniComposer</font> Problems\n",
    "\n",
    "- Use the **Qiskit MiniComposer** to construct the gates required below."
   ]
  },
  {
   "cell_type": "code",
   "execution_count": 1,
   "metadata": {},
   "outputs": [],
   "source": [
    "import numpy as np\n",
    "\n",
    "from qiskit import Aer, QuantumCircuit, execute\n",
    "from qiskit.visualization import plot_histogram\n",
    "from IPython.display import display, Math, Latex\n",
    "\n",
    "from qsphere_plotter import plot_state_qsphere\n",
    "from widgets import minicomposer\n",
    "from may4_challenge_common import return_state, vec_in_braket, statevec"
   ]
  },
  {
   "cell_type": "markdown",
   "metadata": {},
   "source": [
    "#### Recreate the circuit the produces the following bloch sphere diagram in the IBM MiniComposer"
   ]
  },
  {
   "cell_type": "markdown",
   "metadata": {},
   "source": [
    "![HW-QubitsMiniComposer1](img/HW-QubitsMiniComposer1.png \"HW-QubitsMiniComposer1\")"
   ]
  },
  {
   "cell_type": "code",
   "execution_count": 2,
   "metadata": {},
   "outputs": [
    {
     "data": {
      "application/vnd.jupyter.widget-view+json": {
       "model_id": "38a145bd86f14ebfb9868f34575faa33",
       "version_major": 2,
       "version_minor": 0
      },
      "text/plain": [
       "Label(value='Select a gate to add to the circuit:')"
      ]
     },
     "metadata": {},
     "output_type": "display_data"
    },
    {
     "data": {
      "application/vnd.jupyter.widget-view+json": {
       "model_id": "dea751c7504a4d3288c9b6736e80f3a8",
       "version_major": 2,
       "version_minor": 0
      },
      "text/plain": [
       "VBox(children=(HBox(children=(Button(description='I', style=ButtonStyle()), Button(description='X', style=Butt…"
      ]
     },
     "metadata": {},
     "output_type": "display_data"
    },
    {
     "data": {
      "application/vnd.jupyter.widget-view+json": {
       "model_id": "bcc8d7334ea24dafb9c3dbe67e09b6c8",
       "version_major": 2,
       "version_minor": 0
      },
      "text/plain": [
       "VBox(children=(HTML(value='<?xml version=\"1.0\" encoding=\"utf-8\" standalone=\"no\"?>\\n<!DOCTYPE svg PUBLIC \"-//W3…"
      ]
     },
     "metadata": {},
     "output_type": "display_data"
    },
    {
     "data": {
      "application/vnd.jupyter.widget-view+json": {
       "model_id": "f5df838063d8472dbe9ded317e1349cb",
       "version_major": 2,
       "version_minor": 0
      },
      "text/plain": [
       "HTML(value='')"
      ]
     },
     "metadata": {},
     "output_type": "display_data"
    }
   ],
   "source": [
    "# Qiskit MiniComposer\n",
    "minicomposer(1, dirac=True, qsphere=True)"
   ]
  },
  {
   "cell_type": "raw",
   "metadata": {},
   "source": [
    "State: |Ψ⟩=(0.707+0𝑖)|0⟩+−0.707𝑖|1⟩\n",
    " \n",
    "def create_circuit():\n",
    "    qc = QuantumCircuit(1)\n",
    "    qc.h(0)\n",
    "    qc.sdg(0)\n",
    "    return qc"
   ]
  },
  {
   "cell_type": "markdown",
   "metadata": {},
   "source": [
    "#### Recreate the circuit the produces the following bloch sphere diagram in the IBM MiniComposer"
   ]
  },
  {
   "cell_type": "markdown",
   "metadata": {},
   "source": [
    "![HW-QubitsMiniComposer2](img/HW-QubitsMiniComposer2.png \"HW-QubitsMiniComposer2\")"
   ]
  },
  {
   "cell_type": "code",
   "execution_count": 3,
   "metadata": {},
   "outputs": [
    {
     "data": {
      "application/vnd.jupyter.widget-view+json": {
       "model_id": "0a6d66daa3804cf19e6c74101cbe9941",
       "version_major": 2,
       "version_minor": 0
      },
      "text/plain": [
       "Label(value='Select a gate to add to the circuit:')"
      ]
     },
     "metadata": {},
     "output_type": "display_data"
    },
    {
     "data": {
      "application/vnd.jupyter.widget-view+json": {
       "model_id": "530218d69ae840f9b7bba0801067ca90",
       "version_major": 2,
       "version_minor": 0
      },
      "text/plain": [
       "VBox(children=(HBox(children=(Button(description='I', style=ButtonStyle()), Button(description='X', style=Butt…"
      ]
     },
     "metadata": {},
     "output_type": "display_data"
    },
    {
     "data": {
      "application/vnd.jupyter.widget-view+json": {
       "model_id": "627441505fc04a59a0d3e57b04eaa1d1",
       "version_major": 2,
       "version_minor": 0
      },
      "text/plain": [
       "VBox(children=(HTML(value='<?xml version=\"1.0\" encoding=\"utf-8\" standalone=\"no\"?>\\n<!DOCTYPE svg PUBLIC \"-//W3…"
      ]
     },
     "metadata": {},
     "output_type": "display_data"
    },
    {
     "data": {
      "application/vnd.jupyter.widget-view+json": {
       "model_id": "36a3b846f58342329ddd3269912f00d8",
       "version_major": 2,
       "version_minor": 0
      },
      "text/plain": [
       "HTML(value='')"
      ]
     },
     "metadata": {},
     "output_type": "display_data"
    }
   ],
   "source": [
    "# Qiskit MiniComposer\n",
    "minicomposer(1, dirac=True, qsphere=True)"
   ]
  },
  {
   "cell_type": "raw",
   "metadata": {},
   "source": [
    "State: |Ψ⟩=(0.707+0𝑖)|0⟩+0.707𝑖|1⟩\n",
    " \n",
    "def create_circuit():\n",
    "    qc = QuantumCircuit(1)\n",
    "    qc.h(0)\n",
    "    qc.s(0)\n",
    "    return qc"
   ]
  },
  {
   "cell_type": "markdown",
   "metadata": {},
   "source": [
    "## QCEngine  <font color=\"red\">Problems</font>\n",
    "\n",
    "\n",
    "- Using your knowledge and experience with the QCEngine this far, write the code that implements the circuit that displays following Circle Plots.\n",
    "- The stock code below will serve nicely for inspiration.\n",
    "- Once you get the code working, cut-n-paste it to the cell below the IDE for inspection.\n",
    "\n",
    "\n",
    "![HW-QCEngineAmplitudePbm](img/HW-QCEngineAmplitudePbm.png \"HW-QCEngineAmplitudePbm\")"
   ]
  },
  {
   "cell_type": "code",
   "execution_count": 4,
   "metadata": {},
   "outputs": [
    {
     "data": {
      "text/html": [
       "\n",
       "        <iframe\n",
       "            width=\"900\"\n",
       "            height=\"600\"\n",
       "            src=\"https://oreilly-qc.github.io\"\n",
       "            frameborder=\"0\"\n",
       "            allowfullscreen\n",
       "        ></iframe>\n",
       "        "
      ],
      "text/plain": [
       "<IPython.lib.display.IFrame at 0x24999d7fb70>"
      ]
     },
     "execution_count": 4,
     "metadata": {},
     "output_type": "execute_result"
    }
   ],
   "source": [
    "# QCEngine (Quantum Simulator)\n",
    "from IPython.display import IFrame\n",
    "IFrame(src='https://oreilly-qc.github.io', width=900, height=600)"
   ]
  },
  {
   "cell_type": "markdown",
   "metadata": {},
   "source": [
    "### Code Inspection\n",
    "- Cut-n-paste the working code from the IDE to the below Cell for inspection."
   ]
  },
  {
   "cell_type": "raw",
   "metadata": {},
   "source": [
    "// ###### QCEngine Code Goes below:\n",
    "qc.reset(1);         // allocate one qubit\n",
    "qc.write(0);         // write the value zero\n",
    "var qubit1 = qint.new(1, 'qubit 1');\n",
    "qubit1.had(); // place it into superposition of 0 and 1\n",
    "qubit1.phase(180);\n",
    "\n",
    "\n"
   ]
  },
  {
   "cell_type": "code",
   "execution_count": null,
   "metadata": {},
   "outputs": [],
   "source": []
  },
  {
   "cell_type": "markdown",
   "metadata": {},
   "source": [
    "## Qiskit  <font color=\"red\">Problems</font>\n",
    "\n",
    "- Recreate the circuit solution from **QCEngine** above with **Qiskit** that will display the following **Circle Plots** following the framework below.\n",
    "- Use the Qiskit code from  (&radic;not) Gate above <font color=\"blue\">with Qiskit</font> for inspiration.\n",
    "\n",
    "![HW-QCEngineAmplitudePbm](img/HW-QCEngineAmplitudePbm.png \"HW-QCEngineAmplitudePbm\")"
   ]
  },
  {
   "cell_type": "markdown",
   "metadata": {},
   "source": [
    "### Setup the Program\n",
    "- <font color=\"blue\">This is pretty much stock code (with infrequent exceptions), so it's provided for you.</font>"
   ]
  },
  {
   "cell_type": "code",
   "execution_count": 5,
   "metadata": {},
   "outputs": [],
   "source": [
    "# Import Qiskit, and \n",
    "\n",
    "import numpy as np\n",
    "from qiskit import Aer, QuantumCircuit, QuantumRegister, execute\n",
    "from qiskit.visualization import plot_histogram\n",
    "import cmath\n",
    "import math\n",
    "import matplotlib.pyplot as P\n",
    "import matplotlib.pyplot as plt\n",
    "from qiskit.tools.visualization import plot_bloch_multivector\n",
    "from IPython.display import display, Math, Latex\n",
    "from circle_plot import *\n",
    "from qsphere_plotter import plot_state_qsphere\n",
    "from widgets import minicomposer\n",
    "from may4_challenge_common import return_state, vec_in_braket, statevec\n",
    "\n",
    "\n",
    "# set up a Quantum register of 1 Qubit, call it \"qr\"\n",
    "qr = QuantumRegister(1)\n",
    "\n",
    "# set up a Quantum Circuit with the quantum register, call it \"qcirc\"\n",
    "qcirc = QuantumCircuit(qr)\n",
    "\n",
    "\n",
    "# Helper Funtion for Normalizing State Vectors\n",
    "#\n",
    "def normalize_state_Vector(state_vector):\n",
    "    for result in state_vector:\n",
    "        print(\"Normalized Result: \" , round( np.abs(result)**2, 1) )\n",
    "        \n",
    "        \n",
    "# Helper Funtion for print Polar Phase(s)\n",
    "#      \n",
    "def plot_polar(state_vector):\n",
    "    pi_radians = 180;\n",
    "    for x in state_vector:\n",
    "        plt.polar([0,cmath.phase(x)],[0,abs(x)],marker='o')\n",
    "        print(\"The original complex number Re{%d}, Im{%d}, and Length : %f\" % (x.real, x.imag, abs(x)))\n",
    "        print(\"Phase: \",cmath.phase(x))\n",
    "        if cmath.phase(x) != 0:\n",
    "            print(\"Angle: \", pi_radians/(np.pi/cmath.phase(x)))\n",
    "    "
   ]
  },
  {
   "cell_type": "markdown",
   "metadata": {},
   "source": [
    "### Programatically manipulate the quantum circuit (Amplitude : Magnitude + Phase)\n",
    "\n",
    "###  <font color=\"red\">This is the part you edit.</font>"
   ]
  },
  {
   "cell_type": "code",
   "execution_count": 6,
   "metadata": {},
   "outputs": [
    {
     "data": {
      "image/png": "[encoded data removed]",
      "text/plain": [
       "<Figure size 244.412x84.28 with 1 Axes>"
      ]
     },
     "execution_count": 6,
     "metadata": {},
     "output_type": "execute_result"
    }
   ],
   "source": [
    "## Place the circuit in super position and execute a 180dg phase change gate on it.\n",
    "\n",
    "\n",
    "### YOUR CODE BEGINS HERE:\n",
    "qcirc.h(qr[0]);\n",
    "qcirc.rz(np.pi, qr[0]);\n",
    "\n",
    "### YOUR CODE ENDS HERE.\n",
    "\n",
    "\n",
    "# Draw the circuit\n",
    "qcirc.draw(output='mpl')"
   ]
  },
  {
   "cell_type": "markdown",
   "metadata": {},
   "source": [
    "### Submit the program to the backed, execute and print the state\n",
    "- <font color=\"blue\">This is pretty much stock code (with infrequent exceptions), so it's provided for you.</font>"
   ]
  },
  {
   "cell_type": "code",
   "execution_count": 7,
   "metadata": {},
   "outputs": [
    {
     "data": {
      "text/plain": [
       "array([ 0.707+0.j, -0.707+0.j])"
      ]
     },
     "execution_count": 7,
     "metadata": {},
     "output_type": "execute_result"
    }
   ],
   "source": [
    "# Use the BasicAer statevector_simulator backend, submit the job, preview the quantum state\n",
    "\n",
    "from qiskit import BasicAer\n",
    "backend_sv_sim = BasicAer.get_backend('statevector_simulator')\n",
    "\n",
    "job_sim = execute(qcirc, backend_sv_sim)\n",
    "result_sim = job_sim.result()\n",
    "quantum_state = result_sim.get_statevector(qcirc, decimals=3)\n",
    "\n",
    "# Output the quantum state vector (Amplitude of zero and one state respectively)\n",
    "quantum_state"
   ]
  },
  {
   "cell_type": "markdown",
   "metadata": {},
   "source": [
    "### Normalize the State Vector for sake of intuition\n",
    "- <font color=\"blue\">This is pretty much stock code (with infrequent exceptions), so it's provided for you.</font>\n",
    "- This is an **Amplitude** change = **Magnitude** + **Phase** change so magnitudes will be altered.\n"
   ]
  },
  {
   "cell_type": "code",
   "execution_count": 101,
   "metadata": {},
   "outputs": [
    {
     "name": "stdout",
     "output_type": "stream",
     "text": [
      "Normalized Result:  0.5\n",
      "Normalized Result:  0.5\n"
     ]
    }
   ],
   "source": [
    "# Print out normalized statevector  (to gain probabilities)\n",
    "#\n",
    "normalize_state_Vector(quantum_state)"
   ]
  },
  {
   "cell_type": "markdown",
   "metadata": {},
   "source": [
    "### Print the Polar Plot for sake of intuition\n",
    "- <font color=\"blue\">This is pretty much stock code (with infrequent exceptions), so it's provided for you.</font>\n",
    "- The **Polar Plots** will also show phase differences.\n",
    "- Notice the Angle.\n"
   ]
  },
  {
   "cell_type": "code",
   "execution_count": 8,
   "metadata": {
    "scrolled": false
   },
   "outputs": [
    {
     "name": "stdout",
     "output_type": "stream",
     "text": [
      "The original complex number Re{0}, Im{0}, and Length : 0.707000\n",
      "Phase:  0.0\n",
      "The original complex number Re{0}, Im{0}, and Length : 0.707000\n",
      "Phase:  3.141592653589793\n",
      "Angle:  180.0\n"
     ]
    },
    {
     "data": {
      "image/png": "[encoded data removed]",
      "text/plain": [
       "<Figure size 432x288 with 1 Axes>"
      ]
     },
     "metadata": {
      "needs_background": "light"
     },
     "output_type": "display_data"
    }
   ],
   "source": [
    "# Plot Polar Coordinates for intuitions sake - provides an idea of the angle of the plot on the curve\n",
    "\n",
    "P.clf()\n",
    "sp = P.subplot(1, 1, 1, projection='polar')\n",
    "sp.set_theta_zero_location('N')\n",
    "sp.set_theta_direction(1)\n",
    "\n",
    "plot_polar(quantum_state)"
   ]
  },
  {
   "cell_type": "markdown",
   "metadata": {},
   "source": [
    "### Print the Circle Plots for sake of intuition\n",
    "- <font color=\"blue\">This is pretty much stock code (with infrequent exceptions), so it's provided for you.</font>\n",
    "- The **Circle Plots** will show *magnitude* and *phase* differences.\n",
    "- **<font color=\"red\">Gotcha</font>**: There is <font color=\"red\">no</font> Phase Value associated witht **|0> Zero** Ket."
   ]
  },
  {
   "cell_type": "code",
   "execution_count": 9,
   "metadata": {},
   "outputs": [
    {
     "data": {
      "image/png": "[encoded data removed]",
      "text/plain": [
       "<Figure size 288x144 with 2 Axes>"
      ]
     },
     "metadata": {
      "needs_background": "light"
     },
     "output_type": "display_data"
    }
   ],
   "source": [
    "# Print out Circle Notation for intuitions sake\n",
    "\n",
    "from circle_plot import *\n",
    "plot_circles(quantum_state)"
   ]
  },
  {
   "cell_type": "markdown",
   "metadata": {},
   "source": [
    "### Print the Bloch Sphere for sake of intuition\n",
    "- <font color=\"blue\">This is pretty much stock code (with infrequent exceptions), so it's provided for you.</font>\n",
    "- Check this against the Circle Plots version above."
   ]
  },
  {
   "cell_type": "code",
   "execution_count": 10,
   "metadata": {
    "scrolled": true
   },
   "outputs": [
    {
     "data": {
      "image/png": "[encoded data removed]",
      "text/plain": [
       "<Figure size 288x288 with 1 Axes>"
      ]
     },
     "execution_count": 10,
     "metadata": {},
     "output_type": "execute_result"
    }
   ],
   "source": [
    "# Plot the state vector on a Bloch sphere\n",
    "\n",
    "from qiskit.tools.visualization import plot_bloch_multivector\n",
    "plot_bloch_multivector(quantum_state)"
   ]
  },
  {
   "cell_type": "markdown",
   "metadata": {},
   "source": [
    "### QISKIT Plot State QSPhere\n",
    "- <font color=\"blue\">This is pretty much stock code (with infrequent exceptions), so it's provided for you.</font>\n",
    "- This visual notation is slightly different but nevertheless consistent once you get to know it."
   ]
  },
  {
   "cell_type": "code",
   "execution_count": 11,
   "metadata": {
    "scrolled": false
   },
   "outputs": [
    {
     "data": {
      "image/png": "[encoded data removed]",
      "text/plain": [
       "<Figure size 504x504 with 2 Axes>"
      ]
     },
     "execution_count": 11,
     "metadata": {},
     "output_type": "execute_result"
    }
   ],
   "source": [
    "plot_state_qsphere(quantum_state, show_state_labels=True, show_state_angles=True) "
   ]
  },
  {
   "cell_type": "markdown",
   "metadata": {},
   "source": [
    "![the-end](img/the-end.png \"the-end\")"
   ]
  }
 ],
 "metadata": {
  "kernelspec": {
   "display_name": "qcousins",
   "language": "python",
   "name": "qcousins"
  },
  "language_info": {
   "codemirror_mode": {
    "name": "ipython",
    "version": 3
   },
   "file_extension": ".py",
   "mimetype": "text/x-python",
   "name": "python",
   "nbconvert_exporter": "python",
   "pygments_lexer": "ipython3",
   "version": "3.7.1"
  }
 },
 "nbformat": 4,
 "nbformat_minor": 2
}
