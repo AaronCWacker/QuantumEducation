{
 "cells": [
  {
   "cell_type": "markdown",
   "metadata": {},
   "source": [
    "# Programming Quantum Computers\n",
    "- #### Hands-on Experiential Learning <font color=\"red\">for the Software Engineer</font>"
   ]
  },
  {
   "cell_type": "markdown",
   "metadata": {},
   "source": [
    "# Chapter Ch05_06\n",
    "# <font color=\"red\">Hands-on</font>:  <font color=\"blue\">C-Not Logic</font> \n",
    "### The basis for quantum digital logic functions"
   ]
  },
  {
   "cell_type": "markdown",
   "metadata": {},
   "source": [
    "![QC_Programming-red](img/QC_Programming-red.png \"QC_Programming-red\")\n",
    "\n",
    "<BR>\n",
    "    \n",
    "<font color=\"red\">**Notice**</font>: All materials herein were <font color=\"red\">**curated**</font> by **Matthew R. Versaggi (profversaggi@gmail.com)** and are released into the open source to foster growth and welfare of expanding the Quantum Computing domain - the only obligation one incurs when using, copying, distributing or referencing this is to kindly reference the author and send me an email so I know how useful the material is to you.\n",
    "\n",
    "<font color=\"red\">**Notice**</font>: Python Code contributions for the Circle Plots are the work of **David Radcliffe**.\n",
    "\n",
    "## Pedagogical Approach: (<font color=\"red\">**Read this first !**</font>)\n",
    "\n",
    "This material is intended to educate **software engineers** in certain aspects of Quantum Computing, therefore its focus will be on conveying the conceptual ideas in a form digestible to them, and supporting it with exercises to reinforce those concepts. \n",
    "\n",
    "Because of that pedagogical approach, **this material won't lead with or heavily leverage the concepts and language indigenous to physics and math**, but only in those terms most easily digestible to the modern software engineer.\n",
    "\n",
    "This Jupyter Notebook is <font color=\"red\">**not intended as a stand alone educational vehicle**</font>  - it's meant to be accompanied by a decicated power point deck that contains the main concepts to be presented by an instructor - **it is intended as a vehicle for a hands on workshop environment to facilitate learning through a guided experience.**\n",
    "\n",
    "> **Note:-** Because of the above educational approach:\n",
    "1. There is a certain amount of basic Quantum Computing knowledge that is assumed.\n",
    "2. An active internet connection is **always** assumed.\n",
    "3. Online references/links will be provided where appropriate\n",
    "4. References to books will be made where appropriate\n",
    "5. Much of this material is **dense and detailed**, the reader is <font color=\"red\">**cautioned**</font> to be careful and slow to digest the *nuances* of the material.\n",
    "\n",
    "## What you will be exposed to - High level: \n",
    "\n",
    "- Software engineers in the Quantum Computing space need to **<font color=\"blue\">gain a mastery of the simulation frameworks and tools used to understand and solve problems quantumly</font>**. Under the hood, the **<font color=\"red\">simulators mathematically represent the \"Ideal\" manifestations of quantum hardware</font>** that (theoretically) the \"Actual\" quantum hardware would behave exactly like. For the software engineer, this is the preferred situation as it permits them to understand and solve problems w/out being bound to the limitations of the hardware as it matures.\n",
    "\n",
    "\n",
    "- Given the above, there are a host of technical concepts that need to be **<font color=\"red\">understood experientially</font>** - we'll intentionally employ a vendor / framework agnostic approach to focus on the delivery of concept understanding and intuition procurement as the main value-add.\n",
    "\n",
    "\n",
    "## Accompanying Text:\n",
    "\n",
    "<BR>\n",
    "\n",
    "<a href=\"https://www.amazon.com/Programming-Quantum-Computers-Essential-Algorithms/dp/1492039683\" target=\"_blank\"><img src=\"img/OreillyBookImage-small.png\" height=\"250\" align=left style=\"padding:15px;\"></a>\n",
    "\n",
    "\n",
    "> The core materials leveraged in this Jupyter Notebook comes from the following book, and is required reading to engage in the problem sets covered.\n",
    "\n",
    "> The problem sets contained here will be expanded versions of the exercises contained in the book for sake of gaining intuition about the particular concept in question through leveraging various 'other' frameworks, tools, and instruments indigenous to the quantum programming space. \n",
    "\n",
    "\n",
    "> The core idea is that the various \"simulators\" circuitry (underlying mathematical representations) is considered the \"Ideal\" at the time of this JNB's construction, and therefore are the bect tools we have to address the problems we are interested in. To avoid being constrained by any particular framework, tool set, and software instruments, the idea is to leverage a host of appropriate \"tools\" when addressing any particular concept, problem or issue to remaind technology agnostic, but concept and intuition rich.\n",
    "\n",
    "\n",
    "- **Note:** The problems explored are organized and ordered according to chapter.\n",
    "\n",
    "<BR>\n",
    "\n",
    "**<font color=\"red\" size=4>Notice</font>:** - Prior to embarking on this notebook the reader is **highly encouraged to procure a <font color=\"red\" size=4>reasonable</font> <font color=\"blue\" size=4>introduction</font>** to the following key programming (and circuit) frameworks used:\n",
    "\n",
    "0. <a href=\"https://oreilly-qc.github.io/\" target=\"_blank\"><font color=\"blue\" size=4>QCEngine</font></a>\n",
    "0. <a href=\"https://qiskit.org/textbook/preface.html\" target=\"_blank\"><font color=\"blue\" size=4>Qiskit Tutorial</font></a>, <a href=\"https://qiskit.org/\" target=\"_blank\"><font color=\"blue\" size=4>Qiskit Home</font></a>\n",
    "0. <a href=\"https://algassert.com/quirk\" target=\"_blank\"><font color=\"blue\">QUIRK</font></a>\n",
    "\n",
    "# <font color=\"red\">Example Problem(s):</font> \n",
    "\n",
    "**This example problem is archetypal** of how the exercises highlighted in the book can be expanded to include a host of other tools that help build understanding and intuition of the concepts being explored. \n",
    "\n",
    "- The <font color=\"blue\">QCEngine</font> is a staple, but the <font color=\"blue\">Bloch Sphere Playground Application</font>, the <font color=\"blue\">Quantum Gate Playground</font>, <font color=\"blue\">QUIRK</font>, and <font color=\"blue\">Qiskit</font> are also instructive to leverage when persuing intuition about the concept and will be often used."
   ]
  },
  {
   "cell_type": "markdown",
   "metadata": {},
   "source": [
    "# C-Not Logic"
   ]
  },
  {
   "cell_type": "markdown",
   "metadata": {},
   "source": [
    "![C-Not](img/cnot.png \"C-Not\")"
   ]
  },
  {
   "cell_type": "markdown",
   "metadata": {},
   "source": [
    "## The <font color=\"red\">C</font>NOT Gate, the Reverse <font color=\"red\">C</font>NOT Gate, and the <font color=\"red\">CC</font>NOT gate.\n",
    "\n",
    "> - **<font color=\"red\">Reference</font>:** <a href=\"Basic Gates Provided by Qiskit.ipynb\" target=\"_blank\"><font color=\"blue\">Basic Gates Provided by Qiskit</font></a> \n",
    "\n",
    "<BR>\n",
    "\n",
    "\n",
    "- #### An **<font color=\"red\" size=\"5\">“if”</font>** programming construct, but only if a condition qubit has the value **<font color=\"red\" size=\"5\">1</font>**.\n",
    "- #### The essential operation of CNOT is the same as that of NOT, only more selective.\n",
    "- #### A <font color=\"red\">VERY</font> important element of <font color=\"blue\">quantum logic</font> moving forward.\n",
    "\n",
    "<BR>\n",
    "\n",
    "\n",
    "    \n",
    "    \n",
    "## <font color=\"red\" size=\"5\">C</font><font color=\"blue\">NOT Gate </font>   \n",
    "\n",
    "<img style=\"float: left;\" src=\"img/qgate-cnot1.png\">\n",
    "\n",
    "- The CNOT gate operates on two qubits and can be thought of as an **“if”** programming construct with the following condition: **“Apply the <font color=\"red\">NOT</font> operation to a target qubit, but <font color=\"red\">only if</font> a condition qubit has the value <font color=\"red\">1</font>.”** The circuit symbol used for CNOT shows this logic by connecting two qubits with a line. A **filled dot** represents the **control qubit**, while a **NOT symbol** shows the **target qubit** to be conditionally operated on.\n",
    "\n",
    "\n",
    "- **Reversibility**: Like the NOT operation, CNOT is its own inverse — applying the CNOT operation twice will return a multi-qubit register to its initial state.\n",
    "\n",
    "\n",
    "> ### <font color=\"red\" size=\"5\">The Fundamentals </font>:\n",
    "- **Binary Numbers** and the **Quantum Circuit** \n",
    "\n",
    "\n",
    "The <font color=\"blue\">arrows</font> in figure below show which operator pairs have their circles *swapped* in circle notation. We can see that the *essential operation* of **CNOT** is the **same** as that of **NOT**, only **more <font color=\"red\">selective</font>** — applying the NOT operation only to values whose **binary representations** (in this example) have a <font color=\"red\">1</font> in the <font color=\"blue\">second bit</font> - (0<font color=\"red\">1</font>0=<font color=\"red\">2</font>, 0<font color=\"red\">1</font>1=<font color=\"red\">3</font>, 1<font color=\"red\">1</font>0=<font color=\"red\">6</font>, and 1<font color=\"red\">1</font>1=<font color=\"red\">7</font>).\n",
    "\n",
    "\n",
    "<img style=\"float: left;\" src=\"img/binary-table-0-7_excel.png\">\n",
    "\n",
    "![cnot-ccnot-qcengine-circuit](img/cnot-ccnot-qcengine-circuit.png \"\")\n",
    "\n",
    "![cnot-vs-not-illustration](img/cnot-vs-not-illustration1.png \"\")\n",
    "\n",
    "\n",
    "<BR>\n",
    "    \n",
    "## <font color=\"blue\">Reverse</font> <font color=\"red\" size=\"5\">C</font><font color=\"blue\">NOT Gate </font>   \n",
    "<img style=\"float: left;\" src=\"img/qgate-reverse-cnot.png\">   \n",
    "    \n",
    "- The **Reverse CNOT gate** is strictly a reversal of the connectors and location of the **control** and **X** gate.    \n",
    "\n",
    "<BR><BR><BR><BR> <BR><BR><BR><BR> \n",
    "## <font color=\"red\">CC</font><font color=\"blue\">NOT Gate </font>      \n",
    "<img style=\"float: left;\" src=\"img/qgate-ccnot.png\">\n",
    "    \n",
    "    \n",
    "- The <font color=\"red\">C</font><font color=\"blue\">CNOT Gate </font> (quantum Toffoli or **CCX**) is a double control gate operating on three qubits. If the states of the first two qubits are **|1>** then it applies <font color=\"red\">X</font> to the third. Otherwise it is **ID** (*which does nothing*) on the third. In all cases it is **ID** for the first two qubits.\n",
    "\n",
    "\n"
   ]
  },
  {
   "cell_type": "markdown",
   "metadata": {},
   "source": [
    "### <font color=\"red\">Exercise</font> : Using the QCEngine to explore NOT, <font color=\"red\">C</font>NOT and <font color=\"red\">CC</font>NOT GateGates\n",
    "<BR>\n",
    "\n",
    "\n",
    "![C-Not](img/cnot.png \"C-Not\")\n",
    "\n",
    "> - Cut-N-Paste, then run the NOT, CNOT and CCNOT programs below in the QCEngine - inspect the result by clicking around in the Program Circuit pane to  observe the behavior of the circuit and outputs. These will be singleton versions of the gates.\n",
    "\n",
    "> - It's instructive to rerun the Cell containing the QCEngine IDE and observe how a 3 qubit circuit behaves using the same logic.\n",
    "- How does the combined gate behave relative to the singleton gates?\n"
   ]
  },
  {
   "cell_type": "markdown",
   "metadata": {},
   "source": [
    "### <font color=\"blue\">Circuit Implementation</font>(s) - the below examples implements the above circuit.\n",
    "- **Copy and Run** the code base below and step through the circuit to gain intuition about its behavior.\n",
    "- **Observe** that each implementation of the  NOT, <font color=\"red\">C</font>NOT and <font color=\"red\">CC</font>NOT Gates behave as expected..\n",
    "\n",
    "\n",
    "> ### <font color=\"red\">Full Screen Mode</font>:\n",
    "\n",
    "> - https://oreilly-qc.github.io?p=5-6"
   ]
  },
  {
   "cell_type": "markdown",
   "metadata": {},
   "source": [
    "## <font color=\"blue\">The simple NOT gate</font>"
   ]
  },
  {
   "cell_type": "raw",
   "metadata": {},
   "source": [
    "// The simple NOT gate\n",
    "\n",
    "qc.reset(1);                // Create a quantum circuit with ONE Qubit.\n",
    "var a = qint.new(1, 'a');   // Create Qubit 'a', assign it to variable 'a'.\n",
    "\n",
    "a.write(0);                 // Initialize by writing a Zero to Qubit A.\n",
    "a.not();                    // Execute the NOT Gate\n",
    "a.read();                   // Read the Qubit 'a'\n",
    "\n",
    "qc.nop();"
   ]
  },
  {
   "cell_type": "markdown",
   "metadata": {},
   "source": [
    "## <font color=\"blue\">The stock CNOT gate</font>"
   ]
  },
  {
   "cell_type": "raw",
   "metadata": {},
   "source": [
    "// The stock CNOT gate\n",
    "\n",
    "qc.reset(2);               // Create a quantum circuit with TWO Qubits.\n",
    "var a = qint.new(1, 'a');  // Create Qubit 'a', assign it to variable 'a'.\n",
    "var b = qint.new(1, 'b');  // Create Qubit 'b', assign it to variable 'b'.\n",
    "\n",
    "\n",
    "// if (a) then b = ~b\n",
    "a.write(1);               // write a ONE to qubit 'a'\n",
    "b.write(0);               // write a ZERO to qubit 'b'\n",
    "b.cnot(a);                // Execute a C_NOT gate: Target qubit 'b', conditioned on qubit 'a'\n",
    "a.read();                 // Read the Qubit 'a'\n",
    "b.read();                 // Read the Qubit 'b'\n",
    "\n",
    "qc.nop();"
   ]
  },
  {
   "cell_type": "markdown",
   "metadata": {},
   "source": [
    "## <font color=\"blue\">The stock CCNOT gate</font>"
   ]
  },
  {
   "cell_type": "raw",
   "metadata": {},
   "source": [
    "// The stock CCNOT gate\n",
    "\n",
    "qc.reset(3);               // Create a quantum circuit with THREE Qubits.\n",
    "var a = qint.new(1, 'a');  // Create Qubit 'a', assign it to variable 'a'.\n",
    "var b = qint.new(1, 'b');  // Create Qubit 'b', assign it to variable 'b'.\n",
    "var c = qint.new(1, 'c');  // Create Qubit 'c', assign it to variable 'c'.\n",
    "\n",
    "// if (a and b) then c = ~c\n",
    "qc.write(0x1|0x2);          // Shorthand to write a ONE to the circuits qubits in position \"0x1\" and \"0x2\"\n",
    "qc.cnot(0x4, 0x1|0x2);      // Execute a CCNOT gate on position \"0x4\", conditioned on position \"0x1\" and \"0x2\"\n",
    "qc.read();                  // Read the entire Circuit\n",
    "\n",
    "qc.nop();"
   ]
  },
  {
   "cell_type": "markdown",
   "metadata": {},
   "source": [
    "> ### <font color=\"red\">Full Screen Mode</font>:\n",
    "\n",
    "> - https://oreilly-qc.github.io?p=5-6"
   ]
  },
  {
   "cell_type": "markdown",
   "metadata": {},
   "source": [
    "# <font color=\"blue\">QCEngine</font>"
   ]
  },
  {
   "cell_type": "code",
   "execution_count": 1,
   "metadata": {
    "scrolled": false
   },
   "outputs": [
    {
     "data": {
      "text/html": [
       "\n",
       "        <iframe\n",
       "            width=\"900\"\n",
       "            height=\"900\"\n",
       "            src=\"https://oreilly-qc.github.io?p=5-6\"\n",
       "            frameborder=\"0\"\n",
       "            allowfullscreen\n",
       "        ></iframe>\n",
       "        "
      ],
      "text/plain": [
       "<IPython.lib.display.IFrame at 0x1638e155940>"
      ]
     },
     "execution_count": 1,
     "metadata": {},
     "output_type": "execute_result"
    }
   ],
   "source": [
    "from IPython.display import IFrame\n",
    "IFrame(src='https://oreilly-qc.github.io?p=5-6', width=900, height=900)"
   ]
  },
  {
   "cell_type": "markdown",
   "metadata": {},
   "source": [
    "# <font color=\"blue\">Qiskit</font> Run #1\n",
    "- Use this code base as inspiration for the homework."
   ]
  },
  {
   "cell_type": "code",
   "execution_count": 5,
   "metadata": {},
   "outputs": [],
   "source": [
    "from qiskit import QuantumCircuit, QuantumRegister, ClassicalRegister, execute, Aer, IBMQ, BasicAer\n",
    "import math\n",
    "\n",
    "## Uncomment the next line to see diagrams when running in a notebook\n",
    "%matplotlib inline\n",
    "\n",
    "## Example 5-6: CNOT Logic\n",
    "\n",
    "# Set up the program\n",
    "a = QuantumRegister(1, name='a')\n",
    "b = QuantumRegister(1, name='b')\n",
    "c = QuantumRegister(1, name='c')\n",
    "\n",
    "r1 = ClassicalRegister(1, name='r1')\n",
    "r2 = ClassicalRegister(2, name='r2')\n",
    "r3 = ClassicalRegister(3, name='r3')\n",
    "\n",
    "qc = QuantumCircuit(a, b, c, r1, r2, r3)\n",
    "\n",
    "\n",
    "## CASE: NOT(c) : (c = ~c)\n",
    "#\n",
    "#\n",
    "qc.reset(c)\n",
    "qc.x(c)             # Execute the NOT Gate of Qubit (c)\n",
    "qc.measure(c, r1)   # Measure the Quantum Register\n",
    "qc.barrier()\n",
    "\n",
    "## CASE: CNOT(C) : if (b) then (c = ~c)\n",
    "#\n",
    "#\n",
    "qc.reset(b)\n",
    "qc.reset(c)\n",
    "qc.x(b)                 # Execute the NOT Gate on Qubit (b)\n",
    "qc.cx(b, c)             # Execute the CNOT Gate on target (c), contingent on (b)\n",
    "qc.measure(b, r2[0])    # Measure both Qubits\n",
    "qc.measure(c, r2[1])\n",
    "qc.barrier()\n",
    "\n",
    "## CASE: CCNOT(C) : if (a) and (b) then (c = ~c)\n",
    "#\n",
    "#\n",
    "qc.reset(a)\n",
    "qc.reset(b)\n",
    "qc.reset(c)\n",
    "qc.x(a)               # Execute the NOT Gate on Qubit (a)\n",
    "qc.x(b)               # Execute the NOT Gate on Qubit (b)\n",
    "qc.ccx(a, b, c)       # Execute the CCNOT gate on target (c) contingent on both (a) and (b).\n",
    "qc.measure(a, r3[0])  # Measure all Qubits\n",
    "qc.measure(b, r3[1])\n",
    "qc.measure(c, r3[2])\n",
    "\n",
    "## That's the program. Everything below runs and draws it.\n",
    "#\n",
    "#\n",
    "backend = BasicAer.get_backend('statevector_simulator')\n",
    "job = execute(qc, backend, memory=True)\n",
    "result = job.result()"
   ]
  },
  {
   "cell_type": "markdown",
   "metadata": {},
   "source": [
    "### NOTE: These are the outputs of the three independent circuits <font color=\"red\">in order of execution </font>\n",
    "<BR>\n",
    "\n",
    "#### Binary Results:\n",
    "- #### NOT : (<font color=\"red\">1</font>)\n",
    "- #### CNOT : (<font color=\"red\">11</font>)\n",
    "- #### CCNOT : (<font color=\"red\">111</font>)\n",
    "\n",
    "<BR>\n",
    "    \n",
    "![C-Not](img/cnot.png \"C-Not\")"
   ]
  },
  {
   "cell_type": "code",
   "execution_count": 6,
   "metadata": {},
   "outputs": [
    {
     "name": "stdout",
     "output_type": "stream",
     "text": [
      "Binary Number(s):  1 11 111\n"
     ]
    }
   ],
   "source": [
    "# NOTE: These are the outputs of the three independent circuits in order of execution.\n",
    "# (1:1, 2:11, and 3:111)\n",
    "#\n",
    "#\n",
    "counts = result.get_counts(qc)\n",
    "\n",
    "for k in counts:\n",
    "    binary_number = ''.join(reversed(k))\n",
    "    print(\"Binary Number(s): \", binary_number)"
   ]
  },
  {
   "cell_type": "markdown",
   "metadata": {},
   "source": [
    "### Get the StateVector and print the circuit\n",
    "- **NOTE:** The output of the state vector is Decimal **<font color=\"red\">\"7\"</font>** or Binary **<font color=\"red\">\"111\"</font>**, the **<font color=\"blue\">last</font>** number executed in the curcuit.\n",
    "\n",
    "\n",
    "- **<font color=\"red\">Gotcha</font>**: This is an idiosyncrasy of Qiskit to be aware of."
   ]
  },
  {
   "cell_type": "code",
   "execution_count": 7,
   "metadata": {},
   "outputs": [
    {
     "name": "stdout",
     "output_type": "stream",
     "text": [
      "Circuit Output Value: \n",
      "|7> (1-0j)\n"
     ]
    },
    {
     "data": {
      "image/png": "[encoded data removed]",
      "text/plain": [
       "<Figure size 1321.99x385.28 with 1 Axes>"
      ]
     },
     "execution_count": 7,
     "metadata": {},
     "output_type": "execute_result"
    }
   ],
   "source": [
    "# get the output state and print the circuit\n",
    "#\n",
    "outputstate = result.get_statevector(qc, decimals=3)\n",
    "\n",
    "print(\"Circuit Output Value: \")\n",
    "for i,amp in enumerate(outputstate):\n",
    "    if abs(amp) > 0.000001:\n",
    "        print('|{}> {}'.format(i, amp))\n",
    "        \n",
    "qc.draw(output='mpl')        # draw the circuit"
   ]
  },
  {
   "cell_type": "markdown",
   "metadata": {},
   "source": [
    "# <font color=\"blue\">Mapping </font> <font color=\"red\"> Boolean (Digital) Logic</font> <font color=\"blue\">to <font color=\"red\">Quantum Logic</font> Operations </font>\n",
    "\n",
    "- Just as we can build sophisticated algorithms using digital logic, it is also possible to build them using quantum logic.\n",
    "\n",
    "<BR>\n",
    "\n",
    "![Classical_Quantum-LogicGates](img/Classical_Quantum-LogicGates1.png \"Classical_Quantum-LogicGates\")\n",
    "\n",
    "> ### Quantum circuits use the **building blocks** of quantum gates to construct quantum algorithms \n",
    "- It's critical to be exposed to </font> <font color=\"red\">**boolean logic**</font> (*both digital and quantum*). \n",
    "- Developing familiarity and an intuition are absolutely necessary to crafting quantum algorithms later on. \n",
    "- The following discussion *isn't meant to be exhaustive* but **only to provide a flavor** for the domain through the experience of exploration.\n",
    "\n",
    "\n",
    "#### REMINDER:\n",
    "- **Basic Digital Logic Truth Tables**: https://www.electronics-tutorials.ws/boolean/bool_7.html\n",
    "\n"
   ]
  },
  {
   "cell_type": "markdown",
   "metadata": {},
   "source": [
    "### <font color=\"red\">Observe</font>: Basic Quantum Logic Operations can be built to be equivalents to their digital counterparts. \n",
    "- Do a quick exploration below, note how important the **<font color=\"red\">CNOT</font>** gate is to Quantum Computing."
   ]
  },
  {
   "cell_type": "markdown",
   "metadata": {},
   "source": [
    "![digital-logic-gates-cnots](img/digital-logic-gates-cnots.png \"\")\n",
    "\n",
    "|Gate|Gate|\n",
    "|----|----|\n",
    "| ![tt-not](img/tt-not.png \"\") | ![tt-nxor](img/tt-xor.png \"\") |\n",
    "| ![tt-and](img/tt-and.png \"\") | ![tt-or](img/tt-or.png \"\") |\n",
    "| ![tt-nand](img/tt-nand.png \"\") | ![tt-nor](img/tt-nor.png \"\") |\n"
   ]
  },
  {
   "cell_type": "markdown",
   "metadata": {},
   "source": [
    "![digital-logic-gates-from-cnots](img/digital-logic-gates-from-cnots1.png \"digital-logic-gates-from-cnots\")\n",
    "\n",
    "    \n",
    "### <font color=\"red\">REVIEW</font>:\n",
    "<BR>\n",
    "    \n",
    "<img style=\"float: left;\" src=\"img/binary-table-0-7_excel.png\">\n",
    "\n",
    "![cnot-ccnot-qcengine-circuit](img/cnot-ccnot-qcengine-circuit.png \"cnot-ccnot-qcengine-circuit\")\n",
    "\n",
    "\n",
    "<BR><BR><BR><BR><BR><BR><BR><BR>\n"
   ]
  },
  {
   "cell_type": "markdown",
   "metadata": {},
   "source": [
    "### <font color=\"blue\">Circuit Implementation</font> - the below example implements the above circuit.\n",
    "- **Copy and Run** the code base below and step through the circuit to gain intuition about its behavior.\n",
    "- **Observe** the various logical gates as a review and check them against their truth table to convince yourself they are executing as expected.\n",
    "\n",
    "> ### <font color=\"red\">Full Screen Mode</font>:\n",
    "\n",
    "> - https://oreilly-qc.github.io?p=5-6"
   ]
  },
  {
   "cell_type": "raw",
   "metadata": {},
   "source": [
    "// Colorize Phase Shifts \n",
    "qc_options.color_by_phase=true\n",
    "\n",
    "// Create a Quantum Circuit with 3 qubits\n",
    "qc.reset(3);\n",
    "\n",
    "// Initialize wach qubit w/a name and label\n",
    "var qubit1 = qint.new(1, 'qubit 1');\n",
    "var qubit2 = qint.new(1, 'qubit 2');\n",
    "var qubit3 = qint.new(1, 'output qubit');\n",
    "\n",
    "qc.write(0);\n",
    "\n",
    "// NOT Gate\n",
    "qc.label(\"NOT\");\n",
    "qc.nop();\n",
    "qubit1.not();\n",
    "qc.nop();\n",
    "qc.label();\n",
    "qubit1.read();\n",
    "qubit2.read();\n",
    "qubit3.read();\n",
    "\n",
    "\n",
    "// AND Gate\n",
    "//qc.write(0);\n",
    "qubit1.write(1)\n",
    "qubit2.write(1)\n",
    "qubit3.write(0)\n",
    "qc.label(\"AND\");\n",
    "qc.nop();\n",
    "qc.cnot(0x4, 0x1|0x2);\n",
    "qc.nop();\n",
    "qc.label();\n",
    "qubit1.read();\n",
    "qubit2.read();\n",
    "qubit3.read();\n",
    "\n",
    "qc.nop();\n",
    "\n",
    "// NAND GATE\n",
    "qc.write(0);\n",
    "qubit1.write(1)\n",
    "qubit2.write(1)\n",
    "qc.label(\"NAND\");\n",
    "qc.nop();\n",
    "qc.cnot(0x4, 0x1|0x2);\n",
    "qubit3.not();\n",
    "qc.nop();\n",
    "qc.label();\n",
    "qubit1.read();\n",
    "qubit2.read();\n",
    "qubit3.read();\n",
    "\n",
    "qc.nop();\n",
    "\n",
    "// XOR GATE\n",
    "qc.write(0);\n",
    "qubit1.write(1)\n",
    "qc.label(\"XOR\");\n",
    "qc.nop();\n",
    "qc.cnot(0x2, 0x1);\n",
    "qc.nop();\n",
    "qc.label();\n",
    "qubit1.read();\n",
    "qubit2.read();\n",
    "qubit3.read();\n",
    "\n",
    "qc.nop();\n",
    "\n",
    "// OR GATE\n",
    "qc.write(0);\n",
    "qubit1.write(1)\n",
    "qc.label(\"OR\");\n",
    "qc.nop();\n",
    "qubit1.not();\n",
    "qubit2.not();\n",
    "qc.cnot(0x4, 0x1|0x2);\n",
    "qubit1.not();\n",
    "qubit2.not();\n",
    "qubit3.not();\n",
    "qc.nop();\n",
    "qc.label();\n",
    "qubit1.read();\n",
    "qubit2.read();\n",
    "qubit3.read();\n",
    "\n",
    "qc.nop();\n",
    "\n",
    "// NOR GATE\n",
    "qc.write(0);\n",
    "qc.label(\"NOR\");\n",
    "qc.nop();\n",
    "qubit1.not();\n",
    "qubit2.not();\n",
    "qc.cnot(0x4, 0x1|0x2);\n",
    "qubit1.not();\n",
    "qubit2.not();\n",
    "qc.nop();\n",
    "qc.label();\n",
    "qubit1.read();\n",
    "qubit2.read();\n",
    "qubit3.read();\n"
   ]
  },
  {
   "cell_type": "markdown",
   "metadata": {},
   "source": [
    "> ### <font color=\"red\">Full Screen Mode</font>:\n",
    "\n",
    "> - https://oreilly-qc.github.io?p=5-6\n",
    "    "
   ]
  },
  {
   "cell_type": "markdown",
   "metadata": {},
   "source": [
    "# <font color=\"blue\">QCEngine</font>"
   ]
  },
  {
   "cell_type": "code",
   "execution_count": 7,
   "metadata": {},
   "outputs": [
    {
     "data": {
      "text/html": [
       "\n",
       "        <iframe\n",
       "            width=\"900\"\n",
       "            height=\"900\"\n",
       "            src=\"https://oreilly-qc.github.io?p=5-6\"\n",
       "            frameborder=\"0\"\n",
       "            allowfullscreen\n",
       "        ></iframe>\n",
       "        "
      ],
      "text/plain": [
       "<IPython.lib.display.IFrame at 0x1638e181d30>"
      ]
     },
     "execution_count": 7,
     "metadata": {},
     "output_type": "execute_result"
    }
   ],
   "source": [
    "from IPython.display import IFrame\n",
    "IFrame(src='https://oreilly-qc.github.io?p=5-6', width=900, height=900)"
   ]
  },
  {
   "cell_type": "markdown",
   "metadata": {},
   "source": [
    "# <font color=\"red\">Graded Exercises</font>  for use <font color=\"blue\">with structured courses.</font>"
   ]
  },
  {
   "cell_type": "markdown",
   "metadata": {},
   "source": [
    "#### In the previous QCEngine example(s), you explored the circuit described below."
   ]
  },
  {
   "cell_type": "markdown",
   "metadata": {},
   "source": [
    "![digital-logic-gates-from-cnots](img/digital-logic-gates-from-cnots1.png \"digital-logic-gates-from-cnots\")"
   ]
  },
  {
   "cell_type": "markdown",
   "metadata": {},
   "source": [
    "    \n",
    "> ### Given the above **QCEngine Circuit** as inspiration, re-create that same circuit in **<font color=\"red\">Qiskit</font>**:\n",
    "- Construct the circuit below modeling it closely after the code bases in **<font color=\"red\">Qiskit</font>** that you have been working with.\n",
    "- Given the nature of Qiskit, it might be prudent to make a single program (process) in parts and have the main function implement each the **SIX** gates where all but one at a time is commented out.\n",
    "\n"
   ]
  },
  {
   "cell_type": "markdown",
   "metadata": {},
   "source": [
    "##  <font color=\"blue\">Your QISKIT Code Base goes below:</font>"
   ]
  },
  {
   "cell_type": "code",
   "execution_count": null,
   "metadata": {},
   "outputs": [],
   "source": []
  },
  {
   "cell_type": "markdown",
   "metadata": {},
   "source": [
    "![the-end](img/the-end.png \"the-end\")"
   ]
  }
 ],
 "metadata": {
  "kernelspec": {
   "display_name": "qcousins",
   "language": "python",
   "name": "qcousins"
  },
  "language_info": {
   "codemirror_mode": {
    "name": "ipython",
    "version": 3
   },
   "file_extension": ".py",
   "mimetype": "text/x-python",
   "name": "python",
   "nbconvert_exporter": "python",
   "pygments_lexer": "ipython3",
   "version": "3.7.1"
  }
 },
 "nbformat": 4,
 "nbformat_minor": 2
}
