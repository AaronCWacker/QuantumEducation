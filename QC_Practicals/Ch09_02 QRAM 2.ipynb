{
 "cells": [
  {
   "cell_type": "markdown",
   "metadata": {},
   "source": [
    "# Programming Quantum Computers\n",
    "- #### Hands-on Experiential Learning <font color=\"red\">for the Software Engineer</font>"
   ]
  },
  {
   "cell_type": "markdown",
   "metadata": {},
   "source": [
    "# Chapter Ch09_02\n",
    "# <font color=\"red\">Hands-on</font>:  <font color=\"blue\">QRAM 2</font> \n",
    "- #### Reading and manipulating stored values in superposition."
   ]
  },
  {
   "cell_type": "markdown",
   "metadata": {},
   "source": [
    "![QC_Programming-red](img/QC_Programming-red.png \"QC_Programming-red\")\n",
    "\n",
    "<BR>\n",
    "    \n",
    "<font color=\"red\">**Notice**</font>: All materials herein were <font color=\"red\">**curated**</font> by **Matthew R. Versaggi (profversaggi@gmail.com)** and are released into the open source to foster growth and welfare of expanding the Quantum Computing domain - the only obligation one incurs when using, copying, distributing or referencing this is to kindly reference the author and send me an email so I know how useful the material is to you.\n",
    "\n",
    "<font color=\"red\">**Notice**</font>: Python Code contributions for the Circle Plots are the work of **David Radcliffe**.\n",
    "\n",
    "## Pedagogical Approach: (<font color=\"red\">**Read this first !**</font>)\n",
    "\n",
    "This material is intended to educate **software engineers** in certain aspects of Quantum Computing, therefore its focus will be on conveying the conceptual ideas in a form digestible to them, and supporting it with exercises to reinforce those concepts. \n",
    "\n",
    "Because of that pedagogical approach, **this material won't lead with or heavily leverage the concepts and language indigenous to physics and math**, but only in those terms most easily digestible to the modern software engineer.\n",
    "\n",
    "This Jupyter Notebook is <font color=\"red\">**not intended as a stand alone educational vehicle**</font>  - it's meant to be accompanied by a decicated power point deck that contains the main concepts to be presented by an instructor - **it is intended as a vehicle for a hands on workshop environment to facilitate learning through a guided experience.**\n",
    "\n",
    "> **Note:-** Because of the above educational approach:\n",
    "1. There is a certain amount of basic Quantum Computing knowledge that is assumed.\n",
    "2. An active internet connection is **always** assumed.\n",
    "3. Online references/links will be provided where appropriate\n",
    "4. References to books will be made where appropriate\n",
    "5. Much of this material is **dense and detailed**, the reader is <font color=\"red\">**cautioned**</font> to be careful and slow to digest the *nuances* of the material.\n",
    "\n",
    "## What you will be exposed to - High level: \n",
    "\n",
    "- Software engineers in the Quantum Computing space need to **<font color=\"blue\">gain a mastery of the simulation frameworks and tools used to understand and solve problems quantumly</font>**. Under the hood, the **<font color=\"red\">simulators mathematically represent the \"Ideal\" manifestations of quantum hardware</font>** that (theoretically) the \"Actual\" quantum hardware would behave exactly like. For the software engineer, this is the preferred situation as it permits them to understand and solve problems w/out being bound to the limitations of the hardware as it matures.\n",
    "\n",
    "\n",
    "- Given the above, there are a host of technical concepts that need to be **<font color=\"red\">understood experientially</font>** - we'll intentionally employ a vendor / framework agnostic approach to focus on the delivery of concept understanding and intuition procurement as the main value-add.\n",
    "\n",
    "\n",
    "## Accompanying Text:\n",
    "\n",
    "<BR>\n",
    "\n",
    "<a href=\"https://www.amazon.com/Programming-Quantum-Computers-Essential-Algorithms/dp/1492039683\" target=\"_blank\"><img src=\"img/OreillyBookImage-small.png\" height=\"250\" align=left style=\"padding:15px;\"></a>\n",
    "\n",
    "\n",
    "> The core materials leveraged in this Jupyter Notebook comes from the following book, and is required reading to engage in the problem sets covered.\n",
    "\n",
    "> The problem sets contained here will be expanded versions of the exercises contained in the book for sake of gaining intuition about the particular concept in question through leveraging various 'other' frameworks, tools, and instruments indigenous to the quantum programming space. \n",
    "\n",
    "\n",
    "> The core idea is that the various \"simulators\" circuitry (underlying mathematical representations) is considered the \"Ideal\" at the time of this JNB's construction, and therefore are the bect tools we have to address the problems we are interested in. To avoid being constrained by any particular framework, tool set, and software instruments, the idea is to leverage a host of appropriate \"tools\" when addressing any particular concept, problem or issue to remaind technology agnostic, but concept and intuition rich.\n",
    "\n",
    "\n",
    "- **Note:** The problems explored are organized and ordered according to chapter.\n",
    "\n",
    "<BR>\n",
    "\n",
    "**<font color=\"red\" size=4>Notice</font>:** - Prior to embarking on this notebook the reader is **highly encouraged to procure a <font color=\"red\" size=4>reasonable</font> <font color=\"blue\" size=4>introduction</font>** to the following key programming (and circuit) frameworks used:\n",
    "\n",
    "0. <a href=\"https://oreilly-qc.github.io/\" target=\"_blank\"><font color=\"blue\" size=4>QCEngine</font></a>\n",
    "0. <a href=\"https://qiskit.org/textbook/preface.html\" target=\"_blank\"><font color=\"blue\" size=4>Qiskit Tutorial</font></a>, <a href=\"https://qiskit.org/\" target=\"_blank\"><font color=\"blue\" size=4>Qiskit Home</font></a>\n",
    "0. <a href=\"https://algassert.com/quirk\" target=\"_blank\"><font color=\"blue\">QUIRK</font></a>\n",
    "\n",
    "# <font color=\"red\">Example Problem(s):</font> \n",
    "\n",
    "**This example problem is archetypal** of how the exercises highlighted in the book can be expanded to include a host of other tools that help build understanding and intuition of the concepts being explored. \n",
    "\n",
    "- The <font color=\"blue\">QCEngine</font> is a staple, but the <font color=\"blue\">Bloch Sphere Playground Application</font>, the <font color=\"blue\">Quantum Gate Playground</font>, <font color=\"blue\">QUIRK</font>, and <font color=\"blue\">Qiskit</font> are also instructive to leverage when persuing intuition about the concept and will be often used."
   ]
  },
  {
   "cell_type": "markdown",
   "metadata": {},
   "source": [
    "![RD](img/RD-RAMDiagram.png \"\")\n",
    "\n",
    "> - Standard **RAM**\n",
    "\n",
    "<BR>\n",
    "\n",
    "![RD](img/RD-QRAMDiagram.png \"\")\n",
    "\n",
    "> - **QRAM**: Superposition of **Locations** and Superposition of **Values**.\n",
    "- The precise **Amplitudes** we receive in the output register are determined by the **superposition** provided in the address register. "
   ]
  },
  {
   "cell_type": "markdown",
   "metadata": {},
   "source": [
    "### ARRAY: <font color=\"red\">'a'</font> =  <font color=\"blue\">[4, 3, <font color=\"red\">5</font>, 1] </font>\n",
    "\n",
    "<BR>\n",
    "\n",
    "\n",
    "![RD](img/RD-QRAM-IncrementCircuit-General.png \"\")\n",
    "\n",
    "<BR>\n",
    "    \n",
    "![RD](img/RD-QRAM-IncrementCircuit.png \"\")\n",
    "\n",
    "<BR>    \n",
    "\n",
    "### ARRAY: <font color=\"red\">'a'</font> =  <font color=\"blue\">[4, 3, <font color=\"red\">6</font>, 1] </font>"
   ]
  },
  {
   "cell_type": "markdown",
   "metadata": {},
   "source": [
    "#### <font color=\"blue\">Circuit Implementation</font> - the below example implements the above circuit.\n",
    "- **Copy and Run** the code base below and **step** through the circuit to gain intuition about its behavior.\n",
    "- **Realize** that the entire array is **now** loaded into the QRAM, and one indexed number is chosen to perform the **ADD** operation on, which is then written back into QRAM - that additive result can be inspected by reading out the circuit.\n",
    "- **Use** this codebase as inspiration for the **homework.**"
   ]
  },
  {
   "cell_type": "raw",
   "metadata": {},
   "source": [
    "// Programming Quantum Computers\n",
    "//   by Eric Johnston, Nic Harrigan and Mercedes Gimeno-Segovia\n",
    "//   O'Reilly Media\n",
    "\n",
    "// To run this online, go to http://oreilly-qc.github.io?p=9-2\n",
    "// Note: This sample may vary slightly from the text in the book,\n",
    "// due to revisions or aesthetic tweaks.\n",
    "\n",
    "// Programming Quantum Computers\n",
    "//   by Eric Johnston, Nic Harrigan and Mercedes Gimeno-Segovia\n",
    "//   O'Reilly Media\n",
    "\n",
    "// To run this online, go to http://oreilly-qc.github.io?p=9-2\n",
    "// Note: This sample may vary slightly from the text in the book,\n",
    "// due to revisions or aesthetic tweaks.\n",
    "\n",
    "// ARRAY: 'a'\n",
    "var a = [4, 3, 5, 1];\n",
    "\n",
    "// Register Qubits\n",
    "var reg_qubits = 3;\n",
    "\n",
    "//QRAM Qubits - the number of Qubits in the QRAM\n",
    "var qram_qubits = qram_qubits_required(4, reg_qubits);\n",
    "\n",
    "// Initialize QC\n",
    "qc.reset(2 + reg_qubits + qram_qubits);\n",
    "var qreg = qint.new(3, 'qreg');\n",
    "var addr = qint.new(2, 'addr');\n",
    "var qram = qram_initialize(a, reg_qubits);\n",
    "\n",
    "// Write ZERO to QREG\n",
    "qreg.write(0);\n",
    "qc.nop();\n",
    "\n",
    "// Set Address - where values in superposition are to be put\n",
    "// AKA - which value indexed in the array should be incremented [0,1,2,3] place\n",
    "qc.label('set addr');\n",
    "qc.nop();\n",
    "addr.write(2);\n",
    "addr.hadamard(0x1);\n",
    "qc.nop();\n",
    "qc.label('');\n",
    "qc.nop();\n",
    "\n",
    "\n",
    "// Debug - uncomment this when you want to see the values of 'set addr'\n",
    "// qc.read();\n",
    "\n",
    "\n",
    "// Swap the QRAM address(es) into the working register\n",
    "// QRAM Load\n",
    "qram_load(addr, qreg);\n",
    "qc.nop();\n",
    "\n",
    "// Increment the values provided\n",
    "qc.label('increment');\n",
    "qc.nop();\n",
    "qreg.add(1);\n",
    "qc.nop();\n",
    "qc.label('');\n",
    "qc.nop();\n",
    "\n",
    "\n",
    "\n",
    "// Swap the working register back into QRAM\n",
    "// QRAM Store\n",
    "qram_store(addr, qreg);\n",
    "\n",
    "\n",
    "// Read the circuit to inspect the results\n",
    "qc.read();\n",
    "\n",
    "\n",
    "\n",
    "// This QRAM implementation is for illustration only.\n",
    "//\n",
    "// The actual implementation on a QPU will be quite different.\n",
    "\n",
    "// In this illustrative model, QRAM works by using CSWAP to\n",
    "// shuffle the desired address(es) into location 0, and then\n",
    "// SWAP that with the register we're loading into.\n",
    "// Looking at the diagram, we can see that many of these\n",
    "// operations *might* be able to be done in parallel,\n",
    "// depending on our QPU hardware.\n",
    "\n",
    "var qram_qints = null;\n",
    "\n",
    "// Determines the number of Qubits required for QRAM given the above initializations\n",
    "function qram_qubits_required(num_addresses, qubits_per_entry)\n",
    "{\n",
    "    var qubits_required = num_addresses * qubits_per_entry;\n",
    "    qc.print('This QRAM requires '+qubits_required+' qubits.\\n');\n",
    "    return qubits_required;\n",
    "}\n",
    "\n",
    "// Initialize QRAM\n",
    "function qram_initialize(init_data, qubits_per_entry) {\n",
    "    qc.label('INIT QRAM');\n",
    "    qc.nop();\n",
    "    qram_qints = [];\n",
    "    for (var i = 0; i < init_data.length; ++i)\n",
    "    {\n",
    "        qram_qints.push(qint.new(qubits_per_entry, 'qram['+i+']'));\n",
    "        qram_qints[i].write(init_data[i]);\n",
    "    }\n",
    "    qc.label('');\n",
    "}\n",
    "\n",
    "// LOAD QRAM\n",
    "function qram_load(address, register)\n",
    "{\n",
    "    \n",
    "    qc.label('QRAM load');\n",
    "    qc.nop();\n",
    "    \n",
    "    // Swap into address zero\n",
    "    qram_swap_to_zero(address);\n",
    "    \n",
    "    // Swap into our register\n",
    "    qram_qints[0].swap(register);\n",
    "    \n",
    "    qc.nop();\n",
    "    qc.label('');\n",
    "    \n",
    "}\n",
    "\n",
    "// STORE QRAM\n",
    "function qram_store(address, register)\n",
    "{\n",
    "    qc.label('QRAM store');\n",
    "    qc.nop();\n",
    "    \n",
    "    // Swap into our register\n",
    "    qram_qints[0].swap(register);\n",
    "    \n",
    "    // Swap into address zero\n",
    "    qram_swap_to_zero(address);\n",
    "    \n",
    "    qc.nop();\n",
    "    qc.label('');\n",
    "    qc.nop();\n",
    "    \n",
    "}\n",
    "\n",
    "\n",
    "function qram_swap_to_zero(address)\n",
    "{\n",
    "    var reg_qubits = qram_qints[0].numBits;\n",
    "    var addr_qubits = address.numBits;\n",
    "    var num_addresses = 1 << addr_qubits;\n",
    "    for (var i = 0; i < addr_qubits; ++i)\n",
    "    {\n",
    "        var condition_bit = 1 << i;\n",
    "        for (var addr1 = 0; addr1 < num_addresses; ++addr1)\n",
    "        {\n",
    "            if (addr1 & condition_bit)\n",
    "            {\n",
    "                var addr2 = addr1 ^ condition_bit;\n",
    "                qram_qints[addr1].cswap(qram_qints[addr2], ~0,\n",
    "                                        address.bits(condition_bit));\n",
    "            }\n",
    "        }\n",
    "    }\n",
    "}\n",
    "\n",
    "\n"
   ]
  },
  {
   "cell_type": "markdown",
   "metadata": {},
   "source": [
    "> ### <font color=\"red\">Full Screen Mode</font>:\n",
    "\n",
    "> - https://oreilly-qc.github.io?p=9-2"
   ]
  },
  {
   "cell_type": "markdown",
   "metadata": {},
   "source": [
    "# <font color=\"blue\">QCEngine</font>"
   ]
  },
  {
   "cell_type": "code",
   "execution_count": 1,
   "metadata": {
    "scrolled": false
   },
   "outputs": [
    {
     "data": {
      "text/html": [
       "\n",
       "        <iframe\n",
       "            width=\"900\"\n",
       "            height=\"900\"\n",
       "            src=\"https://oreilly-qc.github.io?p=9-2\"\n",
       "            frameborder=\"0\"\n",
       "            allowfullscreen\n",
       "        ></iframe>\n",
       "        "
      ],
      "text/plain": [
       "<IPython.lib.display.IFrame at 0x1a1e3c8bb38>"
      ]
     },
     "execution_count": 1,
     "metadata": {},
     "output_type": "execute_result"
    }
   ],
   "source": [
    "from IPython.display import IFrame\n",
    "IFrame(src='https://oreilly-qc.github.io?p=9-2', width=900, height=900)"
   ]
  },
  {
   "cell_type": "markdown",
   "metadata": {},
   "source": [
    "# <font color=\"red\">Graded Exercises</font>  for use <font color=\"blue\">with structured courses.</font>\n",
    "> #### In the previous QCEngine example, you explored the circuit described below."
   ]
  },
  {
   "cell_type": "markdown",
   "metadata": {},
   "source": [
    "### ARRAY: <font color=\"red\">'a'</font> =  <font color=\"blue\">[4, 3, <font color=\"red\">5</font>, 1] </font>\n",
    "\n",
    "<BR>\n",
    "\n",
    "    \n",
    "![RD](img/RD-QRAM-IncrementCircuit.png \"\")\n",
    "\n",
    "<BR>    \n",
    "\n",
    "### ARRAY: <font color=\"red\">'a'</font> =  <font color=\"blue\">[4, 3, <font color=\"red\">6</font>, 1] </font>"
   ]
  },
  {
   "cell_type": "markdown",
   "metadata": {},
   "source": [
    "### <font color=\"blue\">Question #1 </font>\n",
    "\n",
    "> - The array you were working with was: ARRAY: <font color=\"red\">'a'</font> =  <font color=\"blue\">[4, 3, <font color=\"red\">5</font>, 1] </font>\n",
    "- **Change** that to: ARRAY: <font color=\"red\">'a'</font> =  <font color=\"blue\">[7, 6, 5, 4] </font>\n",
    "- **Change** the index'd value to change perform the addition operation from **addr.write(2)** to **addr.write(3)**.\n",
    "- **Change** the value to be added from **1 to 2** - meaning increment by **two** instead of just **one**.\n",
    "\n",
    "> What is the **Value** of that new Array?\n",
    "\n",
    "- Paste your **solution** and **code** (further) below for evaluation.\n"
   ]
  },
  {
   "cell_type": "markdown",
   "metadata": {},
   "source": [
    "### <font color=\"black\">Answer #1 </font>:"
   ]
  },
  {
   "cell_type": "code",
   "execution_count": null,
   "metadata": {},
   "outputs": [],
   "source": []
  },
  {
   "cell_type": "markdown",
   "metadata": {},
   "source": [
    "### <font color=\"blue\">Question #2 </font>\n",
    "\n",
    "> - From your readings, what exactly does the **'set addr'** code in the codebase you have been working with do?\n"
   ]
  },
  {
   "cell_type": "markdown",
   "metadata": {},
   "source": [
    "### <font color=\"black\">Answer #2 </font>:"
   ]
  },
  {
   "cell_type": "code",
   "execution_count": null,
   "metadata": {},
   "outputs": [],
   "source": []
  },
  {
   "cell_type": "markdown",
   "metadata": {},
   "source": [
    "![the-end](img/the-end.png \"the-end\")"
   ]
  }
 ],
 "metadata": {
  "kernelspec": {
   "display_name": "qcousins",
   "language": "python",
   "name": "qcousins"
  },
  "language_info": {
   "codemirror_mode": {
    "name": "ipython",
    "version": 3
   },
   "file_extension": ".py",
   "mimetype": "text/x-python",
   "name": "python",
   "nbconvert_exporter": "python",
   "pygments_lexer": "ipython3",
   "version": "3.7.1"
  }
 },
 "nbformat": 4,
 "nbformat_minor": 2
}
