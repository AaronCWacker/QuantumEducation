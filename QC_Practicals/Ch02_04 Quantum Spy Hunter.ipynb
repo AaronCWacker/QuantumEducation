{
 "cells": [
  {
   "cell_type": "markdown",
   "metadata": {},
   "source": [
    "# Programming Quantum Computers\n",
    "- #### Hands-on Experiential Learning <font color=\"red\">for the Software Engineer</font>"
   ]
  },
  {
   "cell_type": "markdown",
   "metadata": {},
   "source": [
    "# Chapter Ch02_04\n",
    "# <font color=\"red\">Hands-on</font>:  <font color=\"blue\">Quantum Spy Hunter</font> "
   ]
  },
  {
   "cell_type": "markdown",
   "metadata": {},
   "source": [
    "![QC_Programming-red](img/QC_Programming-red.png \"QC_Programming-red\")\n",
    "\n",
    "<BR>\n",
    "    \n",
    "<font color=\"red\">**Notice**</font>: All materials herein were <font color=\"red\">**curated**</font> by **Matthew R. Versaggi (profversaggi@gmail.com)** and are released into the open source to foster growth and welfare of expanding the Quantum Computing domain - the only obligation one incurs when using, copying, distributing or referencing this is to kindly reference the author and send me an email so I know how useful the material is to you.\n",
    "\n",
    "<font color=\"red\">**Notice**</font>: Python Code contributions for the Circle Plots are the work of **David Radcliffe**.\n",
    "\n",
    "## Pedagogical Approach: (<font color=\"red\">**Read this first !**</font>)\n",
    "\n",
    "This material is intended to educate **software engineers** in certain aspects of Quantum Computing, therefore its focus will be on conveying the conceptual ideas in a form digestible to them, and supporting it with exercises to reinforce those concepts. \n",
    "\n",
    "Because of that pedagogical approach, **this material won't lead with or heavily leverage the concepts and language indigenous to physics and math**, but only in those terms most easily digestible to the modern software engineer.\n",
    "\n",
    "This Jupyter Notebook is <font color=\"red\">**not intended as a stand alone educational vehicle**</font>  - it's meant to be accompanied by a decicated power point deck that contains the main concepts to be presented by an instructor - **it is intended as a vehicle for a hands on workshop environment to facilitate learning through a guided experience.**\n",
    "\n",
    "> **Note:-** Because of the above educational approach:\n",
    "1. There is a certain amount of basic Quantum Computing knowledge that is assumed.\n",
    "2. An active internet connection is **always** assumed.\n",
    "3. Online references/links will be provided where appropriate\n",
    "4. References to books will be made where appropriate\n",
    "5. Much of this material is **dense and detailed**, the reader is <font color=\"red\">**cautioned**</font> to be careful and slow to digest the *nuances* of the material.\n",
    "\n",
    "## What you will be exposed to - High level: \n",
    "\n",
    "- Software engineers in the Quantum Computing space need to **<font color=\"blue\">gain a mastery of the simulation frameworks and tools used to understand and solve problems quantumly</font>**. Under the hood, the **<font color=\"red\">simulators mathematically represent the \"Ideal\" manifestations of quantum hardware</font>** that (theoretically) the \"Actual\" quantum hardware would behave exactly like. For the software engineer, this is the preferred situation as it permits them to understand and solve problems w/out being bound to the limitations of the hardware as it matures.\n",
    "\n",
    "\n",
    "- Given the above, there are a host of technical concepts that need to be **<font color=\"red\">understood experientially</font>** - we'll intentionally employ a vendor / framework agnostic approach to focus on the delivery of concept understanding and intuition procurement as the main value-add.\n",
    "\n",
    "\n",
    "## Accompanying Text:\n",
    "\n",
    "<BR>\n",
    "\n",
    "<a href=\"https://www.amazon.com/Programming-Quantum-Computers-Essential-Algorithms/dp/1492039683\" target=\"_blank\"><img src=\"img/OreillyBookImage-small.png\" height=\"250\" align=left style=\"padding:15px;\"></a>\n",
    "\n",
    "\n",
    "> The core materials leveraged in this Jupyter Notebook comes from the following book, and is required reading to engage in the problem sets covered.\n",
    "\n",
    "> The problem sets contained here will be expanded versions of the exercises contained in the book for sake of gaining intuition about the particular concept in question through leveraging various 'other' frameworks, tools, and instruments indigenous to the quantum programming space. \n",
    "\n",
    "\n",
    "> The core idea is that the various \"simulators\" circuitry (underlying mathematical representations) is considered the \"Ideal\" at the time of this JNB's construction, and therefore are the bect tools we have to address the problems we are interested in. To avoid being constrained by any particular framework, tool set, and software instruments, the idea is to leverage a host of appropriate \"tools\" when addressing any particular concept, problem or issue to remaind technology agnostic, but concept and intuition rich.\n",
    "\n",
    "\n",
    "- **Note:** The problems explored are organized and ordered according to chapter.\n",
    "\n",
    "<BR>\n",
    "\n",
    "**<font color=\"red\" size=4>Notice</font>:** - Prior to embarking on this notebook the reader is **highly encouraged to procure a <font color=\"red\" size=4>reasonable</font> <font color=\"blue\" size=4>introduction</font>** to the following key programming (and circuit) frameworks used:\n",
    "\n",
    "0. <a href=\"https://oreilly-qc.github.io/\" target=\"_blank\"><font color=\"blue\" size=4>QCEngine</font></a>\n",
    "0. <a href=\"https://qiskit.org/textbook/preface.html\" target=\"_blank\"><font color=\"blue\" size=4>Qiskit Tutorial</font></a>, <a href=\"https://qiskit.org/\" target=\"_blank\"><font color=\"blue\" size=4>Qiskit Home</font></a>\n",
    "0. <a href=\"https://algassert.com/quirk\" target=\"_blank\"><font color=\"blue\">QUIRK</font></a>\n",
    "\n",
    "# <font color=\"red\">Example Problem(s):</font> \n",
    "\n",
    "**This example problem is archetypal** of how the exercises highlighted in the book can be expanded to include a host of other tools that help build understanding and intuition of the concepts being explored. \n",
    "\n",
    "- The <font color=\"blue\">QCEngine</font> is a staple, but the <font color=\"blue\">Bloch Sphere Playground Application</font>, the <font color=\"blue\">Quantum Gate Playground</font>, <font color=\"blue\">QUIRK</font>, and <font color=\"blue\">Qiskit</font> are also instructive to leverage when persuing intuition about the concept and will be often used."
   ]
  },
  {
   "cell_type": "markdown",
   "metadata": {},
   "source": [
    "# Quantum Spy Hunter"
   ]
  },
  {
   "cell_type": "markdown",
   "metadata": {},
   "source": [
    "![QuantumSpyHunterCircuit](img/QuantumSpyHunterCircuit.png \"QuantumSpyHunterCircuit\")"
   ]
  },
  {
   "cell_type": "markdown",
   "metadata": {},
   "source": [
    "# <font color=\"red\">Hands-on</font>:  <font color=\"blue\">Quantum Spy Hunter</font> \n",
    "\n",
    "> **<font color=\"red\">Example:</font>** - This is a more practical demonstration of the power in manipulating the **relative phases** of qubits to perform a simplified version of **Quantum Key Distribution (QKD)**. QKD is a protocol at the core of the field of **quantum cryptography** that allows the provably secure transmission of information.\n",
    "\n",
    "- The Quantum Spy Hunter Program starts with Alice and Bob each having access to a simple QPU containing a single qubit, and them sending their qubits along a quantum communication channel (fiber). **However - there might be a spy listening to that link!**\n",
    "\n",
    "\n",
    "- Suppose that two QPU programmers, Alice and Bob, are sending data to each other via a communication channel capable of transmitting qubits. Once in a while, they send the specially constructed **“spy hunter” qubit** with which they use to test whether their communication channel has been compromised.\n",
    "\n",
    "\n",
    "- Any spy who tries to read one of these qubits has a 25% chance of getting caught. So even if Alice and Bob only use 50 of them in the whole transfer, **the spy’s chances of getting away are far less than one in a million**. \n",
    "\n",
    "\n",
    "- Alice and Bob can detect whether their key has been compromised by exchanging some conventional digital information, which does not need to be private or encrypted. \n",
    "\n",
    "\n",
    "- After exchanging their messages, **they test a few of their qubits** by reading them out and **checking that they agree** in a certain expected way. **If any disagree, then they know someone was listening in**.\n",
    "\n",
    "\n",
    "<BR>\n",
    "\n",
    "![QuantumSpyHunterCircuit](img/QuantumSpyHunterCircuit.png \"QuantumSpyHunterCircuit\")\n",
    "\n",
    "\n",
    "<BR><BR>\n",
    "    \n",
    "\n",
    "![QuantumSpyHunter-Diagram](img/QuantumSpyHunter-Diagram.png \"QuantumSpyHunter-Diagram\")\n",
    "\n",
    "\n",
    "<BR><BR>\n",
    "    \n",
    "\n",
    "![QuantumSpyHunterCircuit-Spy](img/QuantumSpyHunterCircuit-Spy.png \"QuantumSpyHunterCircuit-Spy\")\n",
    "\n",
    "<BR>\n",
    "    \n",
    "\n",
    "- In the above diagram, the \"sent\" information between Alice and Bob both match up, however the \"value\" of the information sent does not match, therefore someone's been listening in.\n",
    "\n",
    "\n",
    "- Notice the Quantum **\"No-Cloning\"** Rule is what secures the communication.\n",
    "\n",
    "<BR><BR>\n",
    "    \n",
    "    \n",
    "### <font color=\"blue\">Generate Two Random Bits</font> \n",
    "> Alice uses her one-qubit (a) QPU as a simple Quantum Random Number Generator, generating two secret random bits known only to her. These are **send_val** (value) and **send_had** (hadamard).\n",
    "- Generate two random bits [send_had, send_value] using Qubit A on Alice's Circuit line.\n",
    "- \"send_had\" (=1) determines if an H-Gate gets executed.\n",
    "- \"send_value\" (=1) determines if a NOT-Gate gets executed.\n",
    "\n",
    "<BR>\n",
    "\n",
    "![QuantumSpyHunterCircuit-RBs](img/QuantumSpyHunterCircuit-RBs.png \"QuantumSpyHunterCircuit-RBs\")\n",
    "\n",
    "<BR>\n",
    "\n",
    "### <font color=\"blue\">Prepare Alice's Qubit</font> \n",
    "> Using her two random bits, Alice prepares the “spy hunter” qubit. She sets it to value, and then uses send_had to decide whether to apply a HAD. In effect, she is preparing her qubit randomly in one of the states |0>, |1>, |+>, or |->, and not (yet) telling anyone which of the states it is. If she does decide to apply a HAD, then if Bob wants to extract whether she intended a 0 or 1, he will have to apply the inverse of HAD (another HAD) before performing a READ. \n",
    "- if \"send_value\" = 1, execute NOT-Gate, else nothing\n",
    "- if \"send_had\" = 1, execute H-Gate, else nothing\n",
    "\n",
    "<BR>\n",
    "    \n",
    "![QuantumSpyHunterCircuit-PrepAliceQBs](img/QuantumSpyHunterCircuit-PrepAliceQBs.png \"QuantumSpyHunterCircuit-PrepAliceQBs\")\n",
    "\n",
    "\n",
    "<BR>\n",
    "\n",
    "### <font color=\"blue\">Send the Qubit Qubit</font> \n",
    "> Alice sends her qubit to Bob. For clarity in this example, we are using another qubit **(fiber)** to represent the communication channel. \n",
    "- Alices wire \"a\" Qubit A gets put onto the fiber\n",
    "\n",
    "<BR>\n",
    "    \n",
    "![QuantumSpyHunterCircuit-SendQBs](img/QuantumSpyHunterCircuit-SendQBs.png \"QuantumSpyHunterCircuit-SendQBs\")\n",
    "\n",
    "\n",
    "<BR>\n",
    "    \n",
    "### <font color=\"blue\">Activate the Spy</font> \n",
    "\n",
    "> Activate the spy to Steal A from Fiber, Replace w/Forgery.\n",
    "\n",
    "> If Alice were transmitting conventional digital data, the spy would simply make a copy of the bit, accomplishing their mission. \n",
    "\n",
    "> With qubits, that’s not possible. Recall that there is no COPY operation, so the only thing the spy can do is READ the qubit Alice sent, and then try to carefully send one just like it to Bob to avoid detection. \n",
    "\n",
    "> Remember, however, that reading a qubit irrevocably destroys information, so the spy will only be left with the conventional bit of the readout. \n",
    "\n",
    "> The spy doesn’t know whether or not Alice performed a HAD. As a result, he won’t know whether to apply a second (inverting) HAD before performing his READ. \n",
    "\n",
    "> If he simply performs a READ he won’t know whether he’s receiving a random value from a qubit in superposition or a value actually encoded by Alice. \n",
    "\n",
    "> This means that not only will he not be able to reliably extract Alice’s bit, but he also won’t know what the right state is to send on to Bob to avoid detection.\n",
    "\n",
    "- Spy always uses H-Gate\n",
    "- Read stolen data (A) from fiber\n",
    "- Write 0 to fiber to wipe, prep for replacement\n",
    "- If stolen_data =1, execute NOT-Gate (Spy Guess) on FIBER Qubit\n",
    "- If Spy H-Gate on, execute H-Gate on FIBER Qubit\n",
    "\n",
    "\n",
    "\n",
    "<BR>\n",
    "    \n",
    "![QuantumSpyHunterCircuit-ActivateSpy](img/QuantumSpyHunterCircuit-ActivateSpy.png \"QuantumSpyHunterCircuit-ActivateSpy\")\n",
    "\n",
    "\n",
    "<BR>\n",
    "\n",
    "### <font color=\"blue\">Receive the Qubit</font> \n",
    "> The stolen qubit gets pulled off of fiber into Bob's wire (b).\n",
    "- Create a random Qubit using Qubit B, put in \"recv_had\" (on Bob's Wire).\n",
    "- Exhange Fiber Qubit (Forgery of A) with \"recv_had\" Qubit. (on Bob's Wire \"b\")\n",
    "\n",
    "\n",
    "<BR>\n",
    "    \n",
    "![QuantumSpyHunterCircuit-ReveiveQBs](img/QuantumSpyHunterCircuit-ReveiveQBs.png \"QuantumSpyHunterCircuit-ReveiveQBs\")\n",
    "\n",
    "\n",
    "<BR>\n",
    "\n",
    "### <font color=\"blue\">Decode the Message</font> \n",
    "> Like Alice, Bob randomly generates a recv_had bit, and he uses that to decide whether to apply a HAD before applying a READ to Alice’s qubit, resulting in his value bit. \n",
    "- This means that sometimes Bob will (by chance) correctly decode a binary value from Alice and other times he won’t. \n",
    "- If \"recv_had\" Bit =1, Execute H-Gate\n",
    "\n",
    "<BR>\n",
    "    \n",
    "![QuantumSpyHunterCircuit-Decode](img/QuantumSpyHunterCircuit-Decode.png \"QuantumSpyHunterCircuit-Decode\")\n",
    "\n",
    "\n",
    "<BR>\n",
    "\n",
    "### <font color=\"blue\">Read the Qubit</font> \n",
    "> Bob Reads the message \n",
    "\n",
    "\n",
    "<BR>\n",
    "    \n",
    "![QuantumSpyHunterCircuit-ReadMsg](img/QuantumSpyHunterCircuit-ReadMsg.png \"QuantumSpyHunterCircuit-ReadMsg\")\n",
    "\n",
    "<BR>\n",
    "    \n",
    "### <font color=\"blue\">Catching the Spy</font> \n",
    "> Now that the qubit has been received, Alice and Bob can openly compare the cases in which their choices of applying HADs (or not) correctly matched up. If they randomly happened to agree in both applying (or not applying) a HAD (this will be about half the time), their value bits should match; i.e., Bob will have correctly decoded Alice’s message. If in these correctly decoded messages their values don’t agree, they can conclude that the spy must have READ their message and sent on an incorrect replacement qubit to Bob, messing up his decoding.\n",
    "\n",
    "\n",
    "\n",
    "<BR>\n",
    "\n",
    "![QuantumSpyHunterCircuit-Spy](img/QuantumSpyHunterCircuit-Spy.png \"QuantumSpyHunterCircuit-Spy\")\n",
    "\n",
    "\n",
    "<BR>\n",
    "    \n",
    "\n",
    "- In the above diagram, the \"sent\" information between Alice and Bob both match up, however the \"value\" of the information sent does not match, therefore someone's been listening in.\n",
    "\n",
    "\n",
    "- Notice the Quantum **\"No-Cloning\"** Rule is what secures the communication."
   ]
  },
  {
   "cell_type": "markdown",
   "metadata": {},
   "source": [
    "### <font color=\"blue\">Retrospective</font> \n",
    "\n",
    "0. Perusing only the Quantum Circuit won't provide the entire picture of how the Quantum Program actually works - you must interrogate the code as well.\n",
    "0. Often time \"interrogating the code\" doesn't just mean reading the code - it means execiting it segment by segment in the simulator until the point where you gain a strong intuition of what's actually happening.\n",
    "0. Remember each row (line) is a single qubit - left to right is the processing.\n",
    "0. You can't copy a qubit - that's what makes this so powerful against spy's.\n",
    "0. You'll need many tools to gain a full understanding of ANY problem - no one tool will do it alone. "
   ]
  },
  {
   "cell_type": "markdown",
   "metadata": {},
   "source": [
    "### Copy and Paste the Modified code into the QCEngine \n",
    "- Run and rerun the code, notice when you catch a spy\n",
    "- When you do, interrogate the Send Qubit (send_had) and Receive Qubit (recv_had) to see if they match\n",
    "- Interrogate the send_value and recv_val to see why a spy is detected.\n",
    "- Judicious shifting of the window panes is required\n",
    "\n",
    "> **<font color=\"red\">Realize the Quantum Advantage:</font>** - the no-cloning rule inherent in quantum mechanics prevents the spy from copying ANY data and forces a situation where the spy must expose itself to detection."
   ]
  },
  {
   "cell_type": "raw",
   "metadata": {},
   "source": [
    "// Setup the Quantum SpyHunter Program\n",
    "\n",
    "qc.reset(3);\n",
    "qc.discard();\n",
    "\n",
    "// Create 3 Qubits for [alice, fiber, bob]\n",
    "\n",
    "var a = qint.new(1, 'alice');\n",
    "var fiber = qint.new(1, 'fiber');\n",
    "var b = qint.new(1, 'bob');\n",
    "\n",
    "// Function to create a random number from an arbitrary Qubit\n",
    "\n",
    "function random_bit(q) {\n",
    "    q.write(0);\n",
    "    q.had();\n",
    "    return q.read();\n",
    "}\n",
    "\n",
    "// Generate two random bits [send_had, send_value] using Qubit A.\n",
    "// \"send_had\" determines if an H-Gate gets executed\n",
    "// \"send_value\" determines if a NOT-Gate gets executed\n",
    "\n",
    "qc.label('random bits: Had Val');\n",
    "var send_had = random_bit(a);\n",
    "var send_value = random_bit(a);\n",
    "qc.label('');\n",
    "\n",
    "\n",
    "// Prepare Alice's qubit\n",
    "\n",
    "a.write(0);\n",
    "qc.label('Set SH Msg');\n",
    "qc.nop();\n",
    "if (send_value)\n",
    "    a.not();    // if \"send_value\" = 1, execute NOT-Gate, else nothing\n",
    "qc.nop();\n",
    "qc.label('');\n",
    "qc.nop();\n",
    "qc.label('Apply Had');\n",
    "qc.nop();\n",
    "if (send_had)\n",
    "    a.had();   // if \"send_had\" = 1, execute H-Gate, else nothing\n",
    "qc.nop();\n",
    "qc.label('');\n",
    "\n",
    "qc.nop();\n",
    "\n",
    "// Send the qubit onto the fiber\n",
    "\n",
    "qc.label('Send Qubit');\n",
    "qc.nop();\n",
    "fiber.exchange(a);     // Alices wire \"a\" Qubit A gets put onto the fiber\n",
    "qc.nop();\n",
    "qc.label('');\n",
    "\n",
    "\n",
    "// Activate the spy to Steal A from Fiber, Replace w/Forgery.\n",
    "\n",
    "var spy_is_present = true;       // Toggle spy on/off\n",
    "if (spy_is_present)\n",
    "{\n",
    "    var spy_had = 1;             // Toggle Spy H-Gate on/off\n",
    "    qc.nop();\n",
    "    qc.label('The Spy');\n",
    "    if (spy_had)\n",
    "        fiber.had();             // Spy always uses H-Gate\n",
    "    stolen_data = fiber.read();  // Read stolen data (A) from fiber\n",
    "    fiber.write(0);              // Write 0 to fiber to wipe, prep for replacement\n",
    "    if (stolen_data)\n",
    "        fiber.not();             // If stolen_data =1, execute NOT-Gate (Spy Guess) on FIBER Qubit\n",
    "    if (spy_had)\n",
    "        fiber.had();             // If Spy H-Gate on, execute H-Gate on FIBER Qubit\n",
    "    qc.label('');\n",
    "    qc.nop();\n",
    "}\n",
    "\n",
    "\n",
    "// Receive the qubit!\n",
    "\n",
    "qc.label('Receive Qubit');      \n",
    "var recv_had = random_bit(b);   // Create a random Qubit using Qubit B, put in \"recv_had\" (on Bob's Wire).\n",
    "fiber.exchange(b);              // Exhange Fiber Qubit (Forgery of A) with \"recv_had\" Qubit. (on Bob's Wire \"b\")\n",
    "qc.label('');\n",
    "\n",
    "qc.nop();\n",
    "\n",
    "// Apply Hadamard Gate\n",
    "\n",
    "qc.label('Apply Had');\n",
    "qc.nop();\n",
    "if (recv_had)\n",
    "    b.had();                  // If \"recv_had\" Bit =1, Execute H-Gate\n",
    "qc.nop();\n",
    "qc.label('');\n",
    "\n",
    "qc.nop();\n",
    "\n",
    "// Read Value\n",
    "\n",
    "qc.label('Read SH Msg');\n",
    "qc.nop();\n",
    "recv_val = b.read();\n",
    "qc.nop();\n",
    "qc.label('');\n",
    "\n",
    "qc.nop();\n",
    "\n",
    "// Now Alice emails Bob to tell him her had setting and value.\n",
    "// If the had setting matches and the value does not, there's a spy!\n",
    "// If Send Qubit (send_had) and Receive Qubit (recv_had) match but value does not (send_value != recv_val) - spy detected.\n",
    "\n",
    "if (send_had == recv_had)\n",
    "    if (send_value != recv_val)\n",
    "        qc.print('Caught a spy!\\n');   \n",
    "        \n"
   ]
  },
  {
   "cell_type": "markdown",
   "metadata": {},
   "source": [
    "### <font color=\"blue\">Convenience Link</font> :\n",
    "\n",
    "> <a href=\"https://oreilly-qc.github.io?p=2-4\" target=\"_blank\">**<font color=\"red\">QCEngine Simulator External Link</font>**</a>\n",
    "\n",
    "- Sometimes the **QCEngine Code** gets a bit long and opening the interface in it's own browser tab can make life easier\n"
   ]
  },
  {
   "cell_type": "markdown",
   "metadata": {},
   "source": [
    "# <font color=\"blue\">QCEngine</font>"
   ]
  },
  {
   "cell_type": "code",
   "execution_count": 51,
   "metadata": {
    "scrolled": false
   },
   "outputs": [
    {
     "data": {
      "text/html": [
       "\n",
       "        <iframe\n",
       "            width=\"900\"\n",
       "            height=\"600\"\n",
       "            src=\"https://oreilly-qc.github.io?p=2-4\"\n",
       "            frameborder=\"0\"\n",
       "            allowfullscreen\n",
       "        ></iframe>\n",
       "        "
      ],
      "text/plain": [
       "<IPython.lib.display.IFrame at 0x218356c4278>"
      ]
     },
     "execution_count": 51,
     "metadata": {},
     "output_type": "execute_result"
    }
   ],
   "source": [
    "from IPython.display import IFrame\n",
    "IFrame(src='https://oreilly-qc.github.io?p=2-4', width=900, height=600)"
   ]
  },
  {
   "cell_type": "code",
   "execution_count": null,
   "metadata": {},
   "outputs": [],
   "source": []
  },
  {
   "cell_type": "markdown",
   "metadata": {},
   "source": [
    "# <font color=\"blue\">Qiskit</font>\n",
    "\n",
    "> ## Model the above QCEngine circuit in Qiskit\n",
    "- Since it's based upon Randomness it'll have to be **run multiple times** to catch the spy.\n",
    "\n"
   ]
  },
  {
   "cell_type": "markdown",
   "metadata": {},
   "source": [
    "### Setup "
   ]
  },
  {
   "cell_type": "code",
   "execution_count": 52,
   "metadata": {},
   "outputs": [],
   "source": [
    "from qiskit import QuantumCircuit, QuantumRegister, ClassicalRegister, execute, Aer, IBMQ, BasicAer\n",
    "import math\n",
    "import matplotlib.pyplot as P\n",
    "import matplotlib.pyplot as plt\n",
    "from Our_Qiskit_Functions import *\n",
    "import cmath\n",
    "\n",
    "\n",
    "## Uncomment the next line to see diagrams when running in a notebook\n",
    "%matplotlib inline\n",
    "\n",
    "\n",
    "# Helper Funtion for Normalizing State Vectors\n",
    "#\n",
    "def normalize_state_Vector(state_vector):\n",
    "    for result in state_vector:\n",
    "        print(\"Normalized Result: \" , round( np.abs(result)**2, 1) )\n",
    "        \n",
    "        \n",
    "# Helper Funtion for print Polar Phase(s)\n",
    "#      \n",
    "def plot_polar(state_vector):\n",
    "    pi_radians = 180;\n",
    "    for x in state_vector:\n",
    "        plt.polar([0,cmath.phase(x)],[0,abs(x)],marker='o')\n",
    "        print(\"The original complex number Re{%d}, Im{%d}, and Length : %f\" % (x.real, x.imag, abs(x)))\n",
    "        print(\"Phase: \",cmath.phase(x))\n",
    "        if cmath.phase(x) != 0:\n",
    "            print(\"Angle: \", pi_radians/(np.pi/cmath.phase(x)))\n",
    "            \n",
    "            \n"
   ]
  },
  {
   "cell_type": "markdown",
   "metadata": {},
   "source": [
    "### Setup Quantum Spy Hunter"
   ]
  },
  {
   "cell_type": "code",
   "execution_count": 53,
   "metadata": {},
   "outputs": [],
   "source": [
    "# Set up the Scenario\n",
    "\n",
    "alice = QuantumRegister(1, name='alice')\n",
    "fiber = QuantumRegister(1, name='fiber')\n",
    "bob   = QuantumRegister(1, name='bob')\n",
    "\n",
    "alice_had = ClassicalRegister(1, name='ahad')\n",
    "alice_val = ClassicalRegister(1, name='aval')\n",
    "fiber_val = ClassicalRegister(1, name='fval')\n",
    "bob_had   = ClassicalRegister(1, name='bhad')\n",
    "bob_val   = ClassicalRegister(1, name='bval')\n",
    "\n",
    "qc = QuantumCircuit(alice, fiber, bob, alice_had, alice_val, fiber_val, bob_had, bob_val)"
   ]
  },
  {
   "cell_type": "markdown",
   "metadata": {},
   "source": [
    "### Alice's QPU to generate two random bits"
   ]
  },
  {
   "cell_type": "code",
   "execution_count": 54,
   "metadata": {},
   "outputs": [
    {
     "data": {
      "text/plain": [
       "<qiskit.circuit.instructionset.InstructionSet at 0x218356c4668>"
      ]
     },
     "execution_count": 54,
     "metadata": {},
     "output_type": "execute_result"
    }
   ],
   "source": [
    "qc.reset(alice)          # write the value 0\n",
    "qc.h(alice)\n",
    "qc.measure(alice, alice_had)\n",
    "\n",
    "qc.reset(alice)          # write the value 0\n",
    "qc.h(alice)\n",
    "qc.measure(alice, alice_val)"
   ]
  },
  {
   "cell_type": "markdown",
   "metadata": {},
   "source": [
    "### Prepare Alice's qubit"
   ]
  },
  {
   "cell_type": "code",
   "execution_count": 55,
   "metadata": {},
   "outputs": [
    {
     "data": {
      "text/plain": [
       "<qiskit.circuit.instructionset.InstructionSet at 0x2184dec5518>"
      ]
     },
     "execution_count": 55,
     "metadata": {},
     "output_type": "execute_result"
    }
   ],
   "source": [
    "qc.reset(alice)          # write the value 0\n",
    "qc.x(alice).c_if(alice_val, 1)\n",
    "qc.h(alice).c_if(alice_had, 1)"
   ]
  },
  {
   "cell_type": "markdown",
   "metadata": {},
   "source": [
    "### Send the Qubit"
   ]
  },
  {
   "cell_type": "code",
   "execution_count": 56,
   "metadata": {},
   "outputs": [
    {
     "data": {
      "text/plain": [
       "<qiskit.circuit.instructionset.InstructionSet at 0x2184dbaa6d8>"
      ]
     },
     "execution_count": 56,
     "metadata": {},
     "output_type": "execute_result"
    }
   ],
   "source": [
    "qc.swap(alice, fiber)"
   ]
  },
  {
   "cell_type": "markdown",
   "metadata": {},
   "source": [
    "### Activate the Spy"
   ]
  },
  {
   "cell_type": "code",
   "execution_count": 57,
   "metadata": {},
   "outputs": [],
   "source": [
    "spy_is_present = True\n",
    "\n",
    "if spy_is_present:\n",
    "    qc.barrier()\n",
    "    spy_had = True\n",
    "    if spy_had:\n",
    "        qc.h(fiber)\n",
    "    qc.measure(fiber, fiber_val)\n",
    "    qc.reset(fiber)\n",
    "    qc.x(fiber).c_if(fiber_val, 1)\n",
    "    if spy_had:\n",
    "        qc.h(fiber)"
   ]
  },
  {
   "cell_type": "markdown",
   "metadata": {},
   "source": [
    "### Barrier for Visual Clarity"
   ]
  },
  {
   "cell_type": "code",
   "execution_count": 58,
   "metadata": {},
   "outputs": [
    {
     "data": {
      "text/plain": [
       "<qiskit.circuit.instructionset.InstructionSet at 0x2184dbaa7f0>"
      ]
     },
     "execution_count": 58,
     "metadata": {},
     "output_type": "execute_result"
    }
   ],
   "source": [
    "qc.barrier()"
   ]
  },
  {
   "cell_type": "markdown",
   "metadata": {},
   "source": [
    "### # Use Bob's QPU to generate a random bit"
   ]
  },
  {
   "cell_type": "code",
   "execution_count": 59,
   "metadata": {},
   "outputs": [
    {
     "data": {
      "text/plain": [
       "<qiskit.circuit.instructionset.InstructionSet at 0x2184dede390>"
      ]
     },
     "execution_count": 59,
     "metadata": {},
     "output_type": "execute_result"
    }
   ],
   "source": [
    "qc.reset(bob)\n",
    "qc.h(bob)\n",
    "qc.measure(bob, bob_had)"
   ]
  },
  {
   "cell_type": "markdown",
   "metadata": {},
   "source": [
    "### Receive the Qubit"
   ]
  },
  {
   "cell_type": "code",
   "execution_count": 60,
   "metadata": {},
   "outputs": [
    {
     "data": {
      "text/plain": [
       "<qiskit.circuit.instructionset.InstructionSet at 0x2184dede550>"
      ]
     },
     "execution_count": 60,
     "metadata": {},
     "output_type": "execute_result"
    }
   ],
   "source": [
    "qc.swap(fiber, bob)\n",
    "qc.h(bob).c_if(bob_had, 1)\n",
    "qc.measure(bob, bob_val)"
   ]
  },
  {
   "cell_type": "markdown",
   "metadata": {},
   "source": [
    "### Run the circuit in simulation"
   ]
  },
  {
   "cell_type": "code",
   "execution_count": 61,
   "metadata": {},
   "outputs": [],
   "source": [
    "backend = BasicAer.get_backend('statevector_simulator')\n",
    "job = execute(qc, backend)\n",
    "result = job.result()"
   ]
  },
  {
   "cell_type": "markdown",
   "metadata": {},
   "source": [
    "### Now Alice emails Bob to tell him her hadamard setting and value.\n",
    "### If the had setting matches and the value does not, there's a spy!"
   ]
  },
  {
   "cell_type": "code",
   "execution_count": 62,
   "metadata": {},
   "outputs": [
    {
     "name": "stdout",
     "output_type": "stream",
     "text": [
      "\n",
      "Counts:  {'1 1 1 1 0': 1}\n",
      "\n",
      "\n",
      "RESULT: Caught a spy! \n",
      "\n"
     ]
    }
   ],
   "source": [
    "counts = result.get_counts(qc)\n",
    "print('\\nCounts: ',counts)\n",
    "print('\\n')\n",
    "caught = False\n",
    "for key,val in counts.items():\n",
    "    ahad,aval,f,bhad,bval = (int(x) for x in key.split(' '))\n",
    "    if ahad == bhad:\n",
    "        if aval != bval:\n",
    "            print('RESULT: Caught a spy! \\n')\n",
    "            caught = True\n",
    "if not caught:\n",
    "    print('RESULT: No spies detected. \\n')"
   ]
  },
  {
   "cell_type": "code",
   "execution_count": null,
   "metadata": {},
   "outputs": [],
   "source": []
  },
  {
   "cell_type": "markdown",
   "metadata": {},
   "source": [
    "### Draw Circuit for Inspection\n",
    "- Can you learn anything from inspecting the Circuit?"
   ]
  },
  {
   "cell_type": "code",
   "execution_count": 14,
   "metadata": {
    "scrolled": false
   },
   "outputs": [
    {
     "name": "stdout",
     "output_type": "stream",
     "text": [
      "[0.+0.j 0.+0.j 1.-0.j 0.+0.j 0.+0.j 0.+0.j 0.+0.j 0.+0.j]\n"
     ]
    },
    {
     "data": {
      "image/png": "[encoded data removed]",
      "text/plain": [
       "<Figure size 1726.54x1047.48 with 1 Axes>"
      ]
     },
     "execution_count": 14,
     "metadata": {},
     "output_type": "execute_result"
    }
   ],
   "source": [
    "outputstate = result.get_statevector(qc, decimals=3)\n",
    "print(outputstate)\n",
    "# qc.draw()        # draw the circuit\n",
    "qc.draw(output='mpl')        # draw the circuit"
   ]
  },
  {
   "cell_type": "markdown",
   "metadata": {},
   "source": [
    "### Print Normalized Statevector for intuitions sake\n",
    "- Can you learn anything from inspecting the Statevector?"
   ]
  },
  {
   "cell_type": "code",
   "execution_count": 16,
   "metadata": {},
   "outputs": [
    {
     "name": "stdout",
     "output_type": "stream",
     "text": [
      "Normalized Result:  0.0\n",
      "Normalized Result:  0.0\n",
      "Normalized Result:  1.0\n",
      "Normalized Result:  0.0\n",
      "Normalized Result:  0.0\n",
      "Normalized Result:  0.0\n",
      "Normalized Result:  0.0\n",
      "Normalized Result:  0.0\n"
     ]
    }
   ],
   "source": [
    "# Print out normalized statevector  (to gain probabilities)\n",
    "#\n",
    "normalize_state_Vector(outputstate)"
   ]
  },
  {
   "cell_type": "markdown",
   "metadata": {},
   "source": [
    "### Print CirclePlots for intuitions sake\n",
    "- Can you learn anything from inspecting the CirclePlots?"
   ]
  },
  {
   "cell_type": "code",
   "execution_count": 17,
   "metadata": {},
   "outputs": [
    {
     "data": {
      "image/png": "[encoded data removed]",
      "text/plain": [
       "<Figure size 1152x144 with 8 Axes>"
      ]
     },
     "metadata": {
      "needs_background": "light"
     },
     "output_type": "display_data"
    }
   ],
   "source": [
    "from circle_plot import *\n",
    "plot_circles(outputstate)"
   ]
  },
  {
   "cell_type": "code",
   "execution_count": null,
   "metadata": {},
   "outputs": [],
   "source": []
  },
  {
   "cell_type": "markdown",
   "metadata": {},
   "source": [
    "# <font color=\"red\">Graded Exercises</font>  for use <font color=\"blue\">with structured courses.</font>"
   ]
  },
  {
   "cell_type": "markdown",
   "metadata": {},
   "source": [
    "# <font color=\"blue\">QCEngine: </font> SpyHunter - Pass a Different Message: Root of &radic;NOT.\n",
    "- Recreate the SpyHunter QCEngine codebase but instead of passing a simple **NOT** message, pass the **<font color=\"red\">Root of &radic;NOT </font>** message instead.\n",
    "- Use the codebase provided as it makes the process more clear.\n",
    "- Make sure you catch a random spy.\n",
    "\n",
    "<BR><BR>\n",
    "\n",
    "![Root of Not](img/root_of_not-banner.png \"\")"
   ]
  },
  {
   "cell_type": "markdown",
   "metadata": {},
   "source": [
    "<BR>\n",
    "\n",
    "### For Reference: <font color=\"blue\">Prepare Alice's Qubit</font> \n",
    "> Using her two random bits, Alice prepares the “spy hunter” qubit. She sets it to value, and then uses send_had to decide whether to apply a HAD. In effect, she is preparing her qubit randomly in one of the states |0>, |1>, |+>, or |->, and not (yet) telling anyone which of the states it is. If she does decide to apply a HAD, then if Bob wants to extract whether she intended a 0 or 1, he will have to apply the inverse of HAD (another HAD) before performing a READ. \n",
    "- if \"send_value\" = 1, execute NOT-Gate, else nothing\n",
    "- if \"send_had\" = 1, execute H-Gate, else nothing\n",
    "\n",
    "<BR>\n",
    "    \n",
    "![QuantumSpyHunterCircuit-PrepAliceQBs](img/QuantumSpyHunterCircuit-PrepAliceQBs.png \"QuantumSpyHunterCircuit-PrepAliceQBs\")\n",
    "\n",
    "\n",
    "<BR>"
   ]
  },
  {
   "cell_type": "markdown",
   "metadata": {},
   "source": [
    "### For Reference: <font color=\"blue\">Provided Code Base</font> "
   ]
  },
  {
   "cell_type": "raw",
   "metadata": {},
   "source": [
    "// Setup the Quantum SpyHunter Program\n",
    "\n",
    "qc.reset(3);\n",
    "qc.discard();\n",
    "\n",
    "// Create 3 Qubits for [alice, fiber, bob]\n",
    "\n",
    "var a = qint.new(1, 'alice');\n",
    "var fiber = qint.new(1, 'fiber');\n",
    "var b = qint.new(1, 'bob');\n",
    "\n",
    "// Function to create a random number from an arbitrary Qubit\n",
    "\n",
    "function random_bit(q) {\n",
    "    q.write(0);\n",
    "    q.had();\n",
    "    return q.read();\n",
    "}\n",
    "\n",
    "// Generate two random bits [send_had, send_value] using Qubit A.\n",
    "// \"send_had\" determines if an H-Gate gets executed\n",
    "// \"send_value\" determines if a NOT-Gate gets executed\n",
    "\n",
    "qc.label('random bits: Had Val');\n",
    "var send_had = random_bit(a);\n",
    "var send_value = random_bit(a);\n",
    "qc.label('');\n",
    "\n",
    "\n",
    "// Prepare Alice's qubit\n",
    "\n",
    "a.write(0);\n",
    "qc.label('Set SH Msg');\n",
    "qc.nop();\n",
    "if (send_value)\n",
    "    a.not();    // if \"send_value\" = 1, execute NOT-Gate, else nothing\n",
    "qc.nop();\n",
    "qc.label('');\n",
    "qc.nop();\n",
    "qc.label('Apply Had');\n",
    "qc.nop();\n",
    "if (send_had)\n",
    "    a.had();   // if \"send_had\" = 1, execute H-Gate, else nothing\n",
    "qc.nop();\n",
    "qc.label('');\n",
    "\n",
    "qc.nop();\n",
    "\n",
    "// Send the qubit onto the fiber\n",
    "\n",
    "qc.label('Send Qubit');\n",
    "qc.nop();\n",
    "fiber.exchange(a);     // Alices wire \"a\" Qubit A gets put onto the fiber\n",
    "qc.nop();\n",
    "qc.label('');\n",
    "\n",
    "\n",
    "// Activate the spy to Steal A from Fiber, Replace w/Forgery.\n",
    "\n",
    "var spy_is_present = true;       // Toggle spy on/off\n",
    "if (spy_is_present)\n",
    "{\n",
    "    var spy_had = 1;             // Toggle Spy H-Gate on/off\n",
    "    qc.nop();\n",
    "    qc.label('The Spy');\n",
    "    if (spy_had)\n",
    "        fiber.had();             // Spy always uses H-Gate\n",
    "    stolen_data = fiber.read();  // Read stolen data (A) from fiber\n",
    "    fiber.write(0);              // Write 0 to fiber to wipe, prep for replacement\n",
    "    if (stolen_data)\n",
    "        fiber.not();             // If stolen_data =1, execute NOT-Gate (Spy Guess) on FIBER Qubit\n",
    "    if (spy_had)\n",
    "        fiber.had();             // If Spy H-Gate on, execute H-Gate on FIBER Qubit\n",
    "    qc.label('');\n",
    "    qc.nop();\n",
    "}\n",
    "\n",
    "\n",
    "// Receive the qubit!\n",
    "\n",
    "qc.label('Receive Qubit');      \n",
    "var recv_had = random_bit(b);   // Create a random Qubit using Qubit B, put in \"recv_had\" (on Bob's Wire).\n",
    "fiber.exchange(b);              // Exhange Fiber Qubit (Forgery of A) with \"recv_had\" Qubit. (on Bob's Wire \"b\")\n",
    "qc.label('');\n",
    "\n",
    "qc.nop();\n",
    "\n",
    "// Apply Hadamard Gate\n",
    "\n",
    "qc.label('Apply Had');\n",
    "qc.nop();\n",
    "if (recv_had)\n",
    "    b.had();                  // If \"recv_had\" Bit =1, Execute H-Gate\n",
    "qc.nop();\n",
    "qc.label('');\n",
    "\n",
    "qc.nop();\n",
    "\n",
    "// Read Value\n",
    "\n",
    "qc.label('Read SH Msg');\n",
    "qc.nop();\n",
    "recv_val = b.read();\n",
    "qc.nop();\n",
    "qc.label('');\n",
    "\n",
    "qc.nop();\n",
    "\n",
    "// Now Alice emails Bob to tell him her had setting and value.\n",
    "// If the had setting matches and the value does not, there's a spy!\n",
    "// If Send Qubit (send_had) and Receive Qubit (recv_had) match but value does not (send_value != recv_val) - spy detected.\n",
    "\n",
    "if (send_had == recv_had)\n",
    "    if (send_value != recv_val)\n",
    "        qc.print('Caught a spy!\\n');   \n",
    "        \n"
   ]
  },
  {
   "cell_type": "code",
   "execution_count": 1,
   "metadata": {},
   "outputs": [
    {
     "data": {
      "text/html": [
       "\n",
       "        <iframe\n",
       "            width=\"900\"\n",
       "            height=\"600\"\n",
       "            src=\"https://oreilly-qc.github.io?p=2-4\"\n",
       "            frameborder=\"0\"\n",
       "            allowfullscreen\n",
       "        ></iframe>\n",
       "        "
      ],
      "text/plain": [
       "<IPython.lib.display.IFrame at 0x22990185dd8>"
      ]
     },
     "execution_count": 1,
     "metadata": {},
     "output_type": "execute_result"
    }
   ],
   "source": [
    "from IPython.display import IFrame\n",
    "IFrame(src='https://oreilly-qc.github.io?p=2-4', width=900, height=600)"
   ]
  },
  {
   "cell_type": "markdown",
   "metadata": {},
   "source": [
    "##  <font color=\"blue\">Your Code goes below:</font>\n",
    "- Use **RawNBConvert** instead of MarkDown for the QCEngine Code.\n",
    "- Make sure you catch a spy via the ramdomness"
   ]
  },
  {
   "cell_type": "code",
   "execution_count": null,
   "metadata": {},
   "outputs": [],
   "source": []
  },
  {
   "cell_type": "code",
   "execution_count": null,
   "metadata": {},
   "outputs": [],
   "source": []
  },
  {
   "cell_type": "markdown",
   "metadata": {},
   "source": [
    "![the-end](img/the-end.png \"the-end\")"
   ]
  }
 ],
 "metadata": {
  "kernelspec": {
   "display_name": "qcousins",
   "language": "python",
   "name": "qcousins"
  },
  "language_info": {
   "codemirror_mode": {
    "name": "ipython",
    "version": 3
   },
   "file_extension": ".py",
   "mimetype": "text/x-python",
   "name": "python",
   "nbconvert_exporter": "python",
   "pygments_lexer": "ipython3",
   "version": "3.7.1"
  }
 },
 "nbformat": 4,
 "nbformat_minor": 2
}
