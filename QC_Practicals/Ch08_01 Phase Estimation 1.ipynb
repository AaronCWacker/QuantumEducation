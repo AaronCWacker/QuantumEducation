{
 "cells": [
  {
   "cell_type": "markdown",
   "metadata": {},
   "source": [
    "# Programming Quantum Computers\n",
    "- #### Hands-on Experiential Learning <font color=\"red\">for the Software Engineer</font>"
   ]
  },
  {
   "cell_type": "markdown",
   "metadata": {},
   "source": [
    "# Chapter Ch08_01\n",
    "# <font color=\"red\">Hands-on</font>:  <font color=\"blue\">Phase Estimation 1</font> \n",
    "- #### Extracting Global Phase Information from QPU operations into a readable form \n",
    "> Eigenstates to EigenPhases : (Angles).\n",
    "> Leveraging the InvQFT Primitive."
   ]
  },
  {
   "cell_type": "markdown",
   "metadata": {},
   "source": [
    "![QC_Programming-red](img/QC_Programming-red.png \"QC_Programming-red\")\n",
    "\n",
    "<BR>\n",
    "    \n",
    "<font color=\"red\">**Notice**</font>: All materials herein were <font color=\"red\">**curated**</font> by **Matthew R. Versaggi (profversaggi@gmail.com)** and are released into the open source to foster growth and welfare of expanding the Quantum Computing domain - the only obligation one incurs when using, copying, distributing or referencing this is to kindly reference the author and send me an email so I know how useful the material is to you.\n",
    "\n",
    "<font color=\"red\">**Notice**</font>: Python Code contributions for the Circle Plots are the work of **David Radcliffe**.\n",
    "\n",
    "## Pedagogical Approach: (<font color=\"red\">**Read this first !**</font>)\n",
    "\n",
    "This material is intended to educate **software engineers** in certain aspects of Quantum Computing, therefore its focus will be on conveying the conceptual ideas in a form digestible to them, and supporting it with exercises to reinforce those concepts. \n",
    "\n",
    "Because of that pedagogical approach, **this material won't lead with or heavily leverage the concepts and language indigenous to physics and math**, but only in those terms most easily digestible to the modern software engineer.\n",
    "\n",
    "This Jupyter Notebook is <font color=\"red\">**not intended as a stand alone educational vehicle**</font>  - it's meant to be accompanied by a decicated power point deck that contains the main concepts to be presented by an instructor - **it is intended as a vehicle for a hands on workshop environment to facilitate learning through a guided experience.**\n",
    "\n",
    "> **Note:-** Because of the above educational approach:\n",
    "1. There is a certain amount of basic Quantum Computing knowledge that is assumed.\n",
    "2. An active internet connection is **always** assumed.\n",
    "3. Online references/links will be provided where appropriate\n",
    "4. References to books will be made where appropriate\n",
    "5. Much of this material is **dense and detailed**, the reader is <font color=\"red\">**cautioned**</font> to be careful and slow to digest the *nuances* of the material.\n",
    "\n",
    "## What you will be exposed to - High level: \n",
    "\n",
    "- Software engineers in the Quantum Computing space need to **<font color=\"blue\">gain a mastery of the simulation frameworks and tools used to understand and solve problems quantumly</font>**. Under the hood, the **<font color=\"red\">simulators mathematically represent the \"Ideal\" manifestations of quantum hardware</font>** that (theoretically) the \"Actual\" quantum hardware would behave exactly like. For the software engineer, this is the preferred situation as it permits them to understand and solve problems w/out being bound to the limitations of the hardware as it matures.\n",
    "\n",
    "\n",
    "- Given the above, there are a host of technical concepts that need to be **<font color=\"red\">understood experientially</font>** - we'll intentionally employ a vendor / framework agnostic approach to focus on the delivery of concept understanding and intuition procurement as the main value-add.\n",
    "\n",
    "\n",
    "## Accompanying Text:\n",
    "\n",
    "<BR>\n",
    "\n",
    "<a href=\"https://www.amazon.com/Programming-Quantum-Computers-Essential-Algorithms/dp/1492039683\" target=\"_blank\"><img src=\"img/OreillyBookImage-small.png\" height=\"250\" align=left style=\"padding:15px;\"></a>\n",
    "\n",
    "\n",
    "> The core materials leveraged in this Jupyter Notebook comes from the following book, and is required reading to engage in the problem sets covered.\n",
    "\n",
    "> The problem sets contained here will be expanded versions of the exercises contained in the book for sake of gaining intuition about the particular concept in question through leveraging various 'other' frameworks, tools, and instruments indigenous to the quantum programming space. \n",
    "\n",
    "\n",
    "> The core idea is that the various \"simulators\" circuitry (underlying mathematical representations) is considered the \"Ideal\" at the time of this JNB's construction, and therefore are the bect tools we have to address the problems we are interested in. To avoid being constrained by any particular framework, tool set, and software instruments, the idea is to leverage a host of appropriate \"tools\" when addressing any particular concept, problem or issue to remaind technology agnostic, but concept and intuition rich.\n",
    "\n",
    "\n",
    "- **Note:** The problems explored are organized and ordered according to chapter.\n",
    "\n",
    "<BR>\n",
    "\n",
    "**<font color=\"red\" size=4>Notice</font>:** - Prior to embarking on this notebook the reader is **highly encouraged to procure a <font color=\"red\" size=4>reasonable</font> <font color=\"blue\" size=4>introduction</font>** to the following key programming (and circuit) frameworks used:\n",
    "\n",
    "0. <a href=\"https://oreilly-qc.github.io/\" target=\"_blank\"><font color=\"blue\" size=4>QCEngine</font></a>\n",
    "0. <a href=\"https://qiskit.org/textbook/preface.html\" target=\"_blank\"><font color=\"blue\" size=4>Qiskit Tutorial</font></a>, <a href=\"https://qiskit.org/\" target=\"_blank\"><font color=\"blue\" size=4>Qiskit Home</font></a>\n",
    "0. <a href=\"https://algassert.com/quirk\" target=\"_blank\"><font color=\"blue\">QUIRK</font></a>\n",
    "\n",
    "# <font color=\"red\">Example Problem(s):</font> \n",
    "\n",
    "**This example problem is archetypal** of how the exercises highlighted in the book can be expanded to include a host of other tools that help build understanding and intuition of the concepts being explored. \n",
    "\n",
    "- The <font color=\"blue\">QCEngine</font> is a staple, but the <font color=\"blue\">Bloch Sphere Playground Application</font>, the <font color=\"blue\">Quantum Gate Playground</font>, <font color=\"blue\">QUIRK</font>, and <font color=\"blue\">Qiskit</font> are also instructive to leverage when persuing intuition about the concept and will be often used."
   ]
  },
  {
   "cell_type": "markdown",
   "metadata": {},
   "source": [
    "![QFT](img/PE-ProcessOverview.png \"QFT\")\n",
    "\n",
    "<BR>\n",
    "    \n",
    "![QFT](img/PE-Description.png \"QFT\")\n",
    "\n",
    "<BR>\n",
    "       \n",
    "    \n",
    "![QFT](img/PE-epH.png \"QFT\")\n",
    "\n",
    "<BR>\n",
    "\n",
    "![QFT](img/PE-135dg-QUIRK.png \"QFT\")\n",
    "\n",
    "<BR>\n",
    "\n",
    "![QFT](img/PE-AngleFormula.png \"QFT\")\n",
    "\n",
    ">>> - **R  = Register Value** (in binary) we read out as a FN of the **Size of the register**.\n",
    ">>> - Specifically the eigenphase *theta-j* and the size of the QPU Register (*m*).\n",
    "\n",
    "\n",
    "<BR>\n",
    "    \n",
    "![naked-qubit](img/naked-qubit.png \"\")\n",
    "\n",
    "<BR>\n",
    "    \n",
    "#### Reference: Bloch Sphere Playground Application \n",
    "- (Full Screen)\n",
    "> - https://javafxpert.github.io/grok-bloch/\n",
    "\n",
    "    \n",
    "    \n",
    "<BR>\n",
    "    \n",
    "![QFT](img/PE-Example.png \"QFT\")\n",
    "\n",
    "\n",
    "\n",
    "<BR>\n",
    "    \n",
    "![QFT](img/PE-OutputRegister-16Qubits.png \"QFT\")\n",
    "\n",
    "<BR>\n",
    "\n",
    "#### Example: (H-Gate: 180 dg Global Phase Rotation)\n",
    "\n",
    ">> **R** = (180 dg / 360 dg) * 2^4\n",
    "\n",
    ">> **R** = 8.\n",
    "\n",
    "#### Different view on the formula:\n",
    "> **(Decimal_Num / RegisterSize) X 360**: Example: (8/16) X 360 = 180 Degrees.\n",
    "\n",
    "\n",
    "> ### <font color=\"red\">If it helps</font>: remember that Pi radians is equal to 180 degrees \n",
    "- The below link is provided as a reference for the conversions.\n",
    "\n",
    "https://www.quia.com/jg/321176list.html"
   ]
  },
  {
   "cell_type": "markdown",
   "metadata": {},
   "source": [
    "#### <font color=\"blue\">Circuit Implementation</font> - the below example implements the above circuit.\n",
    "- **Copy and Run** the code base below and **step** through the circuit to gain intuition about its behavior, note the values of the measured output circuit and correlate that to the angle that is intended to be returned.\n",
    "- **Notice** how the output of the circuit (Binary 8) represents the angle 180 degrees and understand why that is so.\n",
    "- **Realize** that the book leveraged a confusing example of correlating the binary output to an actual codified example, so use the provided (expanded) table instead.\n",
    "- **Try** to walk through the formula determining the size of the output register and **Understand** that the angles formula of the table is the following:\n",
    "\n",
    "> **(Decimal_Num / RegisterSize) X 360**: Example: (8/16) X 360 = 180 Degrees.\n",
    "\n",
    "- **Use** this codebase as inspiration for the **homework.**"
   ]
  },
  {
   "cell_type": "raw",
   "metadata": {},
   "source": [
    "// Programming Quantum Computers\n",
    "//   by Eric Johnston, Nic Harrigan and Mercedes Gimeno-Segovia\n",
    "//   O'Reilly Media\n",
    "\n",
    "// To run this online, go to http://oreilly-qc.github.io?p=8-1\n",
    "// Note: This sample may vary slightly from the text in the book,\n",
    "// due to revisions or aesthetic tweaks.\n",
    "\n",
    "//Specify the size of output register - determines precision\n",
    "// of our answer\n",
    "var m = 4;\n",
    "\n",
    "// Specify the size of input register that will specify\n",
    "// our eigenstate\n",
    "var n = 1;\n",
    "\n",
    "// Setup\n",
    "qc.reset(m + n);\n",
    "var qout = qint.new(m, 'output');\n",
    "var qin = qint.new(n, 'input');\n",
    "\n",
    "// Initialize output register all zeros\n",
    "qout.write(0);\n",
    "\n",
    "// Initialize input register as eigenstate of HAD\n",
    "qc.label('init register');\n",
    "qin.write(0);\n",
    "\n",
    "// Remember: Y-Rotation is a MAGNITUDE change.\n",
    "qin.roty(-135);\n",
    "\n",
    "qc.nop();\n",
    "qc.label();\n",
    "qc.nop();\n",
    "\n",
    "\n",
    "// This state will have an eigenphase of 180.\n",
    "// For eigenphase 0, we would instead use qin.roty(45);\n",
    "\n",
    "// Define our conditional unitary\n",
    "//\n",
    "function cont_u(qcontrol, qtarget, control_count) {\n",
    "    // For Hadamard, we only need to know if control_count\n",
    "    // is even or odd, as applying HAD an even number of\n",
    "    // times does nothing.\n",
    "    if (control_count & 1)\n",
    "        qtarget.chadamard(null, ~0, qcontrol.bits(control_count));\n",
    "}\n",
    "\n",
    "// Operate phase estimation primitive on registers\n",
    "//\n",
    "qc.label('phase estimation');\n",
    "phase_est(qin, qout, cont_u);\n",
    "\n",
    "qc.label();\n",
    "qc.nop();\n",
    "\n",
    "\n",
    "// Read output register\n",
    "qout.read();\n",
    "\n",
    "\n",
    "// function phase_est\n",
    "function phase_est(q_in, q_out, cont_u)\n",
    "{\n",
    "    // Main phase estimation single run\n",
    "    // HAD the output register\n",
    "    q_out.had();\n",
    "\n",
    "    // Apply conditional powers of u\n",
    "    for (var j = 0; j < q_out.numBits; j++)\n",
    "        cont_u(q_out, q_in, 1 << j);\n",
    "\n",
    "    // Inverse QFT on output register\n",
    "    q_out.invQFT();\n",
    "}\n",
    "\n",
    "\n"
   ]
  },
  {
   "cell_type": "markdown",
   "metadata": {},
   "source": [
    "> ### <font color=\"red\">Full Screen Mode</font>:\n",
    "\n",
    "> - https://oreilly-qc.github.io?p=8-1"
   ]
  },
  {
   "cell_type": "markdown",
   "metadata": {},
   "source": [
    "# <font color=\"blue\">QCEngine</font>"
   ]
  },
  {
   "cell_type": "code",
   "execution_count": 14,
   "metadata": {
    "scrolled": false
   },
   "outputs": [
    {
     "data": {
      "text/html": [
       "\n",
       "        <iframe\n",
       "            width=\"900\"\n",
       "            height=\"900\"\n",
       "            src=\"https://oreilly-qc.github.io?p=8-1\"\n",
       "            frameborder=\"0\"\n",
       "            allowfullscreen\n",
       "        ></iframe>\n",
       "        "
      ],
      "text/plain": [
       "<IPython.lib.display.IFrame at 0x1ef0f6aacf8>"
      ]
     },
     "execution_count": 14,
     "metadata": {},
     "output_type": "execute_result"
    }
   ],
   "source": [
    "from IPython.display import IFrame\n",
    "IFrame(src='https://oreilly-qc.github.io?p=8-1', width=900, height=900)"
   ]
  },
  {
   "cell_type": "markdown",
   "metadata": {},
   "source": [
    "# <font color=\"blue\">Qiskit</font> Example\n",
    "\n",
    "<BR>\n",
    "\n",
    "- There is **no Qiskit Code available** for this section, however IBM has a segment on **Phase Estimation** here: \n",
    "<BR>\n",
    "    \n",
    "https://qiskit.org/textbook/ch-algorithms/quantum-phase-estimation.html\n",
    "\n",
    "> - **Read the segment** and **do the exercises** contained there, effectively just running the code and following along.\n",
    "\n"
   ]
  },
  {
   "cell_type": "markdown",
   "metadata": {},
   "source": [
    "# <font color=\"red\">Graded Exercises</font>  for use <font color=\"blue\">with structured courses.</font>\n",
    "> #### In the previous QCEngine example, you explored the circuit described below."
   ]
  },
  {
   "cell_type": "markdown",
   "metadata": {},
   "source": [
    "![QFT](img/PE-QCEngineCodeCircuit.png \"QFT\")\n"
   ]
  },
  {
   "cell_type": "markdown",
   "metadata": {},
   "source": [
    "### <font color=\"blue\">Question #1 </font>\n",
    "\n",
    "> - The above circuit was created using the stock QCEngine Functions for convenience, re-implement the circuit manually using the individual gates you have experience with thus far and vet it against the results observed above.\n",
    "\n",
    "- Paste your solution code below for evaluation.\n"
   ]
  },
  {
   "cell_type": "markdown",
   "metadata": {},
   "source": [
    "### <font color=\"black\">Answer #1 </font>:"
   ]
  },
  {
   "cell_type": "code",
   "execution_count": null,
   "metadata": {},
   "outputs": [],
   "source": []
  },
  {
   "cell_type": "markdown",
   "metadata": {},
   "source": [
    "![the-end](img/the-end.png \"the-end\")"
   ]
  }
 ],
 "metadata": {
  "kernelspec": {
   "display_name": "qcousins",
   "language": "python",
   "name": "qcousins"
  },
  "language_info": {
   "codemirror_mode": {
    "name": "ipython",
    "version": 3
   },
   "file_extension": ".py",
   "mimetype": "text/x-python",
   "name": "python",
   "nbconvert_exporter": "python",
   "pygments_lexer": "ipython3",
   "version": "3.7.1"
  }
 },
 "nbformat": 4,
 "nbformat_minor": 2
}
