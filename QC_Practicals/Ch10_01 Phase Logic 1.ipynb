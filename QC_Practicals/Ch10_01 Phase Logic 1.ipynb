{
 "cells": [
  {
   "cell_type": "markdown",
   "metadata": {},
   "source": [
    "# Programming Quantum Computers\n",
    "- #### Hands-on Experiential Learning <font color=\"red\">for the Software Engineer</font>"
   ]
  },
  {
   "cell_type": "markdown",
   "metadata": {},
   "source": [
    "# Chapter Ch10_01\n",
    "# <font color=\"red\">Hands-on</font>:  <font color=\"blue\">Phase Logic</font> \n",
    "- #### Learning Quantum Phase Logic"
   ]
  },
  {
   "cell_type": "markdown",
   "metadata": {},
   "source": [
    "![QC_Programming-red](img/QC_Programming-red.png \"QC_Programming-red\")\n",
    "\n",
    "<BR>\n",
    "    \n",
    "<font color=\"red\">**Notice**</font>: All materials herein were <font color=\"red\">**curated**</font> by **Matthew R. Versaggi (profversaggi@gmail.com)** and are released into the open source to foster growth and welfare of expanding the Quantum Computing domain - the only obligation one incurs when using, copying, distributing or referencing this is to kindly reference the author and send me an email so I know how useful the material is to you.\n",
    "\n",
    "<font color=\"red\">**Notice**</font>: Python Code contributions for the Circle Plots are the work of **David Radcliffe**.\n",
    "\n",
    "## Pedagogical Approach: (<font color=\"red\">**Read this first !**</font>)\n",
    "\n",
    "This material is intended to educate **software engineers** in certain aspects of Quantum Computing, therefore its focus will be on conveying the conceptual ideas in a form digestible to them, and supporting it with exercises to reinforce those concepts. \n",
    "\n",
    "Because of that pedagogical approach, **this material won't lead with or heavily leverage the concepts and language indigenous to physics and math**, but only in those terms most easily digestible to the modern software engineer.\n",
    "\n",
    "This Jupyter Notebook is <font color=\"red\">**not intended as a stand alone educational vehicle**</font>  - it's meant to be accompanied by a decicated power point deck that contains the main concepts to be presented by an instructor - **it is intended as a vehicle for a hands on workshop environment to facilitate learning through a guided experience.**\n",
    "\n",
    "> **Note:-** Because of the above educational approach:\n",
    "1. There is a certain amount of basic Quantum Computing knowledge that is assumed.\n",
    "2. An active internet connection is **always** assumed.\n",
    "3. Online references/links will be provided where appropriate\n",
    "4. References to books will be made where appropriate\n",
    "5. Much of this material is **dense and detailed**, the reader is <font color=\"red\">**cautioned**</font> to be careful and slow to digest the *nuances* of the material.\n",
    "\n",
    "## What you will be exposed to - High level: \n",
    "\n",
    "- Software engineers in the Quantum Computing space need to **<font color=\"blue\">gain a mastery of the simulation frameworks and tools used to understand and solve problems quantumly</font>**. Under the hood, the **<font color=\"red\">simulators mathematically represent the \"Ideal\" manifestations of quantum hardware</font>** that (theoretically) the \"Actual\" quantum hardware would behave exactly like. For the software engineer, this is the preferred situation as it permits them to understand and solve problems w/out being bound to the limitations of the hardware as it matures.\n",
    "\n",
    "\n",
    "- Given the above, there are a host of technical concepts that need to be **<font color=\"red\">understood experientially</font>** - we'll intentionally employ a vendor / framework agnostic approach to focus on the delivery of concept understanding and intuition procurement as the main value-add.\n",
    "\n",
    "\n",
    "## Accompanying Text:\n",
    "\n",
    "<BR>\n",
    "\n",
    "<a href=\"https://www.amazon.com/Programming-Quantum-Computers-Essential-Algorithms/dp/1492039683\" target=\"_blank\"><img src=\"img/OreillyBookImage-small.png\" height=\"250\" align=left style=\"padding:15px;\"></a>\n",
    "\n",
    "\n",
    "> The core materials leveraged in this Jupyter Notebook comes from the following book, and is required reading to engage in the problem sets covered.\n",
    "\n",
    "> The problem sets contained here will be expanded versions of the exercises contained in the book for sake of gaining intuition about the particular concept in question through leveraging various 'other' frameworks, tools, and instruments indigenous to the quantum programming space. \n",
    "\n",
    "\n",
    "> The core idea is that the various \"simulators\" circuitry (underlying mathematical representations) is considered the \"Ideal\" at the time of this JNB's construction, and therefore are the bect tools we have to address the problems we are interested in. To avoid being constrained by any particular framework, tool set, and software instruments, the idea is to leverage a host of appropriate \"tools\" when addressing any particular concept, problem or issue to remaind technology agnostic, but concept and intuition rich.\n",
    "\n",
    "\n",
    "- **Note:** The problems explored are organized and ordered according to chapter.\n",
    "\n",
    "<BR>\n",
    "\n",
    "**<font color=\"red\" size=4>Notice</font>:** - Prior to embarking on this notebook the reader is **highly encouraged to procure a <font color=\"red\" size=4>reasonable</font> <font color=\"blue\" size=4>introduction</font>** to the following key programming (and circuit) frameworks used:\n",
    "\n",
    "0. <a href=\"https://oreilly-qc.github.io/\" target=\"_blank\"><font color=\"blue\" size=4>QCEngine</font></a>\n",
    "0. <a href=\"https://qiskit.org/textbook/preface.html\" target=\"_blank\"><font color=\"blue\" size=4>Qiskit Tutorial</font></a>, <a href=\"https://qiskit.org/\" target=\"_blank\"><font color=\"blue\" size=4>Qiskit Home</font></a>\n",
    "0. <a href=\"https://algassert.com/quirk\" target=\"_blank\"><font color=\"blue\">QUIRK</font></a>\n",
    "\n",
    "# <font color=\"red\">Example Problem(s):</font> \n",
    "\n",
    "**This example problem is archetypal** of how the exercises highlighted in the book can be expanded to include a host of other tools that help build understanding and intuition of the concepts being explored. \n",
    "\n",
    "- The <font color=\"blue\">QCEngine</font> is a staple, but the <font color=\"blue\">Bloch Sphere Playground Application</font>, the <font color=\"blue\">Quantum Gate Playground</font>, <font color=\"blue\">QUIRK</font>, and <font color=\"blue\">Qiskit</font> are also instructive to leverage when persuing intuition about the concept and will be often used."
   ]
  },
  {
   "cell_type": "markdown",
   "metadata": {},
   "source": [
    "## <font color=\"red\">Developmental Detour</font> : -  <font color=\"blue\">Phase Logic</font>\n",
    "\n",
    "### <font color=\"blue\">Why this is important</font>: \n",
    "- #### *Phase Logic* undergirds many sophisticated (and powerful) manipulations used in the construction of Quantum Algorithms.\n",
    "- Phase Logic **<font color=\"red\">encodes</font>** information into relative phases by **writing the logical value of the qubit into its phases**.\n",
    "- NOTE: Phase Logic **requires** *magnitude-value* inputs and outputs **phases**.\n",
    "\n",
    "> - **<font color=\"blue\">Definition</font>:**: Phase Logic implements a given logic operation by **flipping the relative phases** of *values* in a register for which the *operation* would return a **ONE** value.\n",
    "\n",
    "\n",
    "![PhaseLogic-Explanation](img/PhaseLogic-Explanation.png \"\")\n",
    "\n",
    "\n",
    "<BR>\n",
    "\n",
    "\n",
    "![tt-or](img/tt-or.png \"\")\n",
    "\n",
    "\n",
    "### <font color=\"blue\">Phase Logic OperatorsFor Clarity Sake</font>\n",
    "\n",
    "![phase-logic-tips](img/phase-logic-tips.png \"\")\n",
    "    \n",
    "\n",
    "<BR>\n",
    "    \n",
    "### <font color=\"blue\">Phase Logic Operators</font>\n",
    "    \n",
    "![phase-logic-gate-results](img/phase-logic-gate-results.png \"\")\n",
    "\n",
    "<BR>\n",
    "\n",
    "### <font color=\"blue\">Phase Logic Circuit Gates</font>\n",
    "![phase-logic-gates](img/phase-logic-gates.png \"\")\n",
    "    \n",
    "\n",
    "\n"
   ]
  },
  {
   "cell_type": "markdown",
   "metadata": {},
   "source": [
    "### <font color=\"blue\">Phase Logic is different than Quantum Digital Logic</font>\n",
    "\n",
    "![digital-logic-gates-cnots](img/digital-logic-gates-cnots.png \"\")\n",
    "\n",
    "<BR>\n",
    "\n",
    "### <font color=\"blue\">For Reference: Digital Logic Truth Tables</font>\n",
    "\n",
    "|Gate|Gate|\n",
    "|----|----|\n",
    "| ![tt-not](img/tt-not.png \"\") | ![tt-nxor](img/tt-xor.png \"\") |\n",
    "| ![tt-and](img/tt-and.png \"\") | ![tt-or](img/tt-or.png \"\") |\n",
    "| ![tt-nand](img/tt-nand.png \"\") | ![tt-nor](img/tt-nor.png \"\") |\n"
   ]
  },
  {
   "cell_type": "markdown",
   "metadata": {},
   "source": [
    "### Phase Logic (<font color=\"blue\">QCEngine</font>)\n",
    "\n",
    "- Experiment with the QCEngine Implementation to see how the various phase logic gates behave (for intuitions sake).\n",
    "- **Cut and paste** the **six** unique Phase Logic code implementations into the QCEngine and run them to observe how the phase manipulations behave - compare them to the chart above for verification purposes."
   ]
  },
  {
   "cell_type": "markdown",
   "metadata": {},
   "source": [
    "### Phase <font color=\"red\">NOT</font> Gate"
   ]
  },
  {
   "cell_type": "code",
   "execution_count": null,
   "metadata": {},
   "outputs": [],
   "source": [
    "// The Phase-NOT-Gate\n",
    "\n",
    "// Colorize Phase Shifts \n",
    "qc_options.color_by_phase=true\n",
    "\n",
    "// Setup:\n",
    "//\n",
    "var num_qubits = 1;\n",
    "qc.reset(num_qubits);\n",
    "var a = qint.new(1, 'a');\n",
    "a.write(0);\n",
    "\n",
    "// Set up Superposition\n",
    "//\n",
    "qc.label('Superposition');\n",
    "qc.nop();\n",
    "a.had();\n",
    "qc.nop();\n",
    "qc.label();\n",
    "\n",
    "\n",
    "qc.nop();\n",
    "\n",
    "// Create the Phase NOT Gate\n",
    "//\n",
    "qc.label('Phase NOT');\n",
    "qc.nop();\n",
    "a.not();\n",
    "a.phase(180);\n",
    "a.not();\n",
    "qc.nop();"
   ]
  },
  {
   "cell_type": "markdown",
   "metadata": {},
   "source": [
    "### Phase <font color=\"red\">OR</font> Gate"
   ]
  },
  {
   "cell_type": "code",
   "execution_count": null,
   "metadata": {},
   "outputs": [],
   "source": [
    "// The Phase-OR-Gate\n",
    "\n",
    "// Colorize Phase Shifts \n",
    "qc_options.color_by_phase=true\n",
    "\n",
    "// Setup:\n",
    "//\n",
    "var num_qubits = 2;\n",
    "qc.reset(num_qubits);\n",
    "var a = qint.new(1, 'a');\n",
    "var b = qint.new(1, 'b');\n",
    "\n",
    "a.write(0);\n",
    "b.write(0);\n",
    "\n",
    "// Set up Superposition\n",
    "//\n",
    "qc.label('Superposition');\n",
    "qc.nop();\n",
    "a.had();\n",
    "b.had();\n",
    "qc.nop();\n",
    "qc.label();\n",
    "\n",
    "qc.nop();\n",
    "\n",
    "// Create the Phase OR Gate\n",
    "//\n",
    "qc.label('Phase OR');\n",
    "qc.nop();\n",
    "a.phase(180);\n",
    "\n",
    "// Same gate effectively\n",
    "//a.cz(b);\n",
    "qc.cphase(180);\n",
    "\n",
    "b.phase(180);\n",
    "qc.nop();\n",
    "qc.label();\n"
   ]
  },
  {
   "cell_type": "markdown",
   "metadata": {},
   "source": [
    "### Phase <font color=\"red\">NOR</font> Gate"
   ]
  },
  {
   "cell_type": "code",
   "execution_count": null,
   "metadata": {},
   "outputs": [],
   "source": [
    "// The Phase-NOR-Gate\n",
    "\n",
    "// Colorize Phase Shifts \n",
    "qc_options.color_by_phase=true\n",
    "\n",
    "// Setup:\n",
    "//\n",
    "var num_qubits = 2;\n",
    "qc.reset(num_qubits);\n",
    "var a = qint.new(1, 'a');\n",
    "var b = qint.new(1, 'b');\n",
    "\n",
    "a.write(0);\n",
    "b.write(0);\n",
    "\n",
    "// Set up Superposition\n",
    "//\n",
    "qc.label('Superposition');\n",
    "qc.nop();\n",
    "a.had();\n",
    "b.had();\n",
    "qc.nop();\n",
    "qc.label();\n",
    "\n",
    "qc.nop();\n",
    "\n",
    "// Create the Phase NOR Gate\n",
    "//\n",
    "qc.label('Phase NOR');\n",
    "qc.nop();\n",
    "a.not();\n",
    "b.not();\n",
    "\n",
    "// Same gate effectively\n",
    "//a.cz(b);\n",
    "qc.cphase(180);\n",
    "\n",
    "a.not();\n",
    "b.not();\n",
    "qc.nop();\n",
    "qc.label();\n"
   ]
  },
  {
   "cell_type": "markdown",
   "metadata": {},
   "source": [
    "### Phase <font color=\"red\">AND</font> Gate"
   ]
  },
  {
   "cell_type": "code",
   "execution_count": null,
   "metadata": {},
   "outputs": [],
   "source": [
    "// The Phase-AND-Gate\n",
    "\n",
    "// Colorize Phase Shifts \n",
    "qc_options.color_by_phase=true\n",
    "\n",
    "// Setup:\n",
    "//\n",
    "var num_qubits = 2;\n",
    "qc.reset(num_qubits);\n",
    "var a = qint.new(1, 'a');\n",
    "var b = qint.new(1, 'b');\n",
    "\n",
    "a.write(0);\n",
    "b.write(0);\n",
    "\n",
    "// Set up Superposition\n",
    "//\n",
    "qc.label('Superposition');\n",
    "qc.nop();\n",
    "a.had();\n",
    "b.had();\n",
    "qc.nop();\n",
    "qc.label();\n",
    "\n",
    "qc.nop();\n",
    "\n",
    "// Create the Phase AND Gate\n",
    "//\n",
    "qc.label('Phase AND');\n",
    "qc.nop();\n",
    "\n",
    "// Same gates effectively\n",
    "//a.cz(b);\n",
    "qc.cphase(180);\n",
    "\n",
    "qc.nop();\n",
    "qc.label();\n"
   ]
  },
  {
   "cell_type": "markdown",
   "metadata": {},
   "source": [
    "### Phase <font color=\"red\">NAND</font> Gate"
   ]
  },
  {
   "cell_type": "code",
   "execution_count": null,
   "metadata": {},
   "outputs": [],
   "source": [
    "// The Phase-NAND-Gate\n",
    "\n",
    "// Colorize Phase Shifts \n",
    "qc_options.color_by_phase=true\n",
    "\n",
    "// Setup:\n",
    "//\n",
    "var num_qubits = 2;\n",
    "qc.reset(num_qubits);\n",
    "var a = qint.new(1, 'a');\n",
    "var b = qint.new(1, 'b');\n",
    "\n",
    "a.write(0);\n",
    "b.write(0);\n",
    "\n",
    "// Set up Superposition\n",
    "//\n",
    "qc.label('Superposition');\n",
    "qc.nop();\n",
    "a.had();\n",
    "b.had();\n",
    "qc.nop();\n",
    "qc.label();\n",
    "\n",
    "qc.nop();\n",
    "\n",
    "// Create the Phase NAND Gate\n",
    "//\n",
    "qc.label('Phase NAND');\n",
    "qc.nop();\n",
    "a.not();\n",
    "b.not();\n",
    "a.phase(180);\n",
    "\n",
    "// Same gate effectively\n",
    "//a.cz(b);\n",
    "qc.cphase(180);\n",
    "\n",
    "b.phase(180);\n",
    "a.not();\n",
    "b.not();\n",
    "qc.nop();\n",
    "qc.label();\n"
   ]
  },
  {
   "cell_type": "markdown",
   "metadata": {},
   "source": [
    "### Phase <font color=\"red\">XOR</font> Gate"
   ]
  },
  {
   "cell_type": "code",
   "execution_count": null,
   "metadata": {},
   "outputs": [],
   "source": [
    "// The Phase-XOR-Gate\n",
    "\n",
    "// Colorize Phase Shifts \n",
    "qc_options.color_by_phase=true\n",
    "\n",
    "// Setup:\n",
    "//\n",
    "var num_qubits = 3;\n",
    "qc.reset(num_qubits);\n",
    "var a = qint.new(1, 'a');\n",
    "var b = qint.new(1, 'b');\n",
    "var c = qint.new(1, 'c');\n",
    "\n",
    "a.write(0);\n",
    "b.write(0);\n",
    "c.write(0);\n",
    "\n",
    "// Set up Superposition\n",
    "//\n",
    "qc.label('Superposition');\n",
    "qc.nop();\n",
    "a.had();\n",
    "b.had();\n",
    "// c.had();\n",
    "qc.nop();\n",
    "qc.label();\n",
    "\n",
    "qc.nop();\n",
    "\n",
    "// Pre-Processing\n",
    "qc.label('Pre-Proc');\n",
    "qc.nop();\n",
    "c.not();\n",
    "c.had();\n",
    "qc.nop();\n",
    "qc.label();\n",
    "\n",
    "qc.nop();\n",
    "\n",
    "// Create the Phase XOR Gate\n",
    "//\n",
    "qc.label('Phase XOR');\n",
    "qc.nop();\n",
    "c.cnot(a)\n",
    "c.cnot(b)\n",
    "qc.nop();\n",
    "qc.label();\n",
    "\n",
    "qc.nop();\n",
    "\n",
    "// Post-Processing\n",
    "qc.label('Post-Proc');\n",
    "qc.nop();\n",
    "c.had();\n",
    "c.not();\n",
    "qc.nop();\n",
    "qc.label();\n",
    "\n"
   ]
  },
  {
   "cell_type": "markdown",
   "metadata": {},
   "source": [
    "> ### <font color=\"red\">Full Screen Mode</font>:\n",
    "\n",
    "> - https://oreilly-qc.github.io?p=10-1"
   ]
  },
  {
   "cell_type": "markdown",
   "metadata": {},
   "source": [
    "# <font color=\"blue\">QCEngine</font>"
   ]
  },
  {
   "cell_type": "code",
   "execution_count": 1,
   "metadata": {
    "scrolled": false
   },
   "outputs": [
    {
     "data": {
      "text/html": [
       "\n",
       "        <iframe\n",
       "            width=\"900\"\n",
       "            height=\"900\"\n",
       "            src=\"https://oreilly-qc.github.io?p=10-1\"\n",
       "            frameborder=\"0\"\n",
       "            allowfullscreen\n",
       "        ></iframe>\n",
       "        "
      ],
      "text/plain": [
       "<IPython.lib.display.IFrame at 0x1cc7d8a15f8>"
      ]
     },
     "execution_count": 1,
     "metadata": {},
     "output_type": "execute_result"
    }
   ],
   "source": [
    "from IPython.display import IFrame\n",
    "IFrame(src='https://oreilly-qc.github.io?p=10-1', width=900, height=900)"
   ]
  },
  {
   "cell_type": "markdown",
   "metadata": {},
   "source": [
    "# Phase Logic: <font color=\"blue\"> Quirk</font>\n",
    "\n",
    "> **QUIRK Quantum Gate Framework** can be used to experiment with and gain intuition about **Phase Logic** Implementations - check their behavior against the QCEngine equivalent and/or the truth tables.\n",
    "- For each custom phase logic gate below, instantiate it on the curcuit and alter the inputs in a binary counting method from 0 to its limit of 3 (00 - 11) , them observe the phase behavior of the circuit's phase for each binary value that should output a (1) given the inputs.\n",
    "- **For Example**: the curcuit is seeded with the PHASE-NOT gate with an initialization of ZERO: to gain intuition, move the gate into and out of the citcuit and notice the behavior of the phase (180dg Rotation) of the decimal ZERO Amplitude.\n",
    "- What happens when the inputs are something other than ZERO or ONE?\n",
    "\n",
    "- **<font color=\"red\">NOTE</font>**: You'll find **seven** pre-fabricated phase logic gates in the **Custom Gates** section at the bottom right of **QUIRK**. Hovering over them will provide additional information.\n",
    "\n",
    "<BR>\n",
    "    \n",
    "![](img/Quirk_Custom_PhaseGates.png \"\")\n"
   ]
  },
  {
   "cell_type": "markdown",
   "metadata": {},
   "source": [
    "> ### Reference: Phase Logic Gates and their results\n",
    "\n",
    "\n",
    "<BR>\n",
    "    \n",
    "![phase-logic-gates](img/phase-logic-gates.png \"phase-logic-gates\")\n",
    "    \n",
    "\n",
    "<BR>\n",
    "    \n",
    "![phase-logic-gate-results](img/phase-logic-gate-results.png \"phase-logic-gate-results\")"
   ]
  },
  {
   "cell_type": "code",
   "execution_count": 5,
   "metadata": {
    "scrolled": false
   },
   "outputs": [
    {
     "data": {
      "text/html": [
       "\n",
       "        <iframe\n",
       "            width=\"900\"\n",
       "            height=\"600\"\n",
       "            src=\"https://algassert.com/quirk#circuit={%22cols%22:[[%22~t7cc%22]],%22gates%22:[{%22id%22:%22~t7cc%22,%22name%22:%22PHASE-NOT%22,%22circuit%22:{%22cols%22:[[%22X%22],[%22Z%22],[%22X%22]]}},{%22id%22:%22~97gj%22,%22name%22:%22CPHASE(CZ)%22,%22circuit%22:{%22cols%22:[[1,%22H%22],[%22%E2%80%A2%22,%22X%22],[1,%22H%22]]}},{%22id%22:%22~kld%22,%22name%22:%22PHASE-OR%22,%22circuit%22:{%22cols%22:[[%22Z%22],[%22~97gj%22],[1,%22Z%22]]}},{%22id%22:%22~c366%22,%22name%22:%22PHASE-AND%22,%22circuit%22:{%22cols%22:[[1,%22H%22],[%22%E2%80%A2%22,%22X%22],[1,%22H%22]]}},{%22id%22:%22~beu0%22,%22name%22:%22PHASE-NOR%22,%22circuit%22:{%22cols%22:[[%22X%22,%22X%22],[%22~97gj%22],[%22X%22,%22X%22]]}},{%22id%22:%22~20t0%22,%22name%22:%22PHASE-NAND%22,%22circuit%22:{%22cols%22:[[%22X%22,%22X%22],[%22Z%22],[%22~97gj%22],[1,%22Z%22],[%22X%22,%22X%22]]}},{%22id%22:%22~bupb%22,%22name%22:%22PHASE-XOR%22,%22circuit%22:{%22cols%22:[[1,1,%22X%22],[1,1,%22H%22],[%22%E2%80%A2%22,1,%22X%22],[1,%22%E2%80%A2%22,%22X%22],[1,1,%22H%22],[1,1,%22X%22]]}}]}\"\n",
       "            frameborder=\"0\"\n",
       "            allowfullscreen\n",
       "        ></iframe>\n",
       "        "
      ],
      "text/plain": [
       "<IPython.lib.display.IFrame at 0x2353bb8f198>"
      ]
     },
     "execution_count": 5,
     "metadata": {},
     "output_type": "execute_result"
    }
   ],
   "source": [
    "# QUIRK (Quantum Circuit Simulator) \n",
    "from IPython.display import IFrame\n",
    "IFrame(src='https://algassert.com/quirk#circuit={%22cols%22:[[%22~t7cc%22]],%22gates%22:[{%22id%22:%22~t7cc%22,%22name%22:%22PHASE-NOT%22,%22circuit%22:{%22cols%22:[[%22X%22],[%22Z%22],[%22X%22]]}},{%22id%22:%22~97gj%22,%22name%22:%22CPHASE(CZ)%22,%22circuit%22:{%22cols%22:[[1,%22H%22],[%22%E2%80%A2%22,%22X%22],[1,%22H%22]]}},{%22id%22:%22~kld%22,%22name%22:%22PHASE-OR%22,%22circuit%22:{%22cols%22:[[%22Z%22],[%22~97gj%22],[1,%22Z%22]]}},{%22id%22:%22~c366%22,%22name%22:%22PHASE-AND%22,%22circuit%22:{%22cols%22:[[1,%22H%22],[%22%E2%80%A2%22,%22X%22],[1,%22H%22]]}},{%22id%22:%22~beu0%22,%22name%22:%22PHASE-NOR%22,%22circuit%22:{%22cols%22:[[%22X%22,%22X%22],[%22~97gj%22],[%22X%22,%22X%22]]}},{%22id%22:%22~20t0%22,%22name%22:%22PHASE-NAND%22,%22circuit%22:{%22cols%22:[[%22X%22,%22X%22],[%22Z%22],[%22~97gj%22],[1,%22Z%22],[%22X%22,%22X%22]]}},{%22id%22:%22~bupb%22,%22name%22:%22PHASE-XOR%22,%22circuit%22:{%22cols%22:[[1,1,%22X%22],[1,1,%22H%22],[%22%E2%80%A2%22,1,%22X%22],[1,%22%E2%80%A2%22,%22X%22],[1,1,%22H%22],[1,1,%22X%22]]}}]}', width=900, height=600)"
   ]
  },
  {
   "cell_type": "markdown",
   "metadata": {},
   "source": [
    "# The <font color=\"blue\">Digital Logic to Phase Logic</font> Process\n",
    "\n",
    "- **Realize** the trick: Take the full statement that we want to implement with phase logic and perform all but the final elementary logic operation from the statement using magnitude-based quantum logic. This will output the values from the statement’s penultimate operation encoded in QPU register magnitudes. We then feed this into a phase-logic implementation of the statement’s final remaining logic operation and we now have the final output from the whole statement encoded in phases."
   ]
  },
  {
   "cell_type": "markdown",
   "metadata": {},
   "source": [
    "![PL](img/PL-DigitalLogicCircuitEx.png \"\")\n",
    "\n",
    "<BR>\n",
    "    \n",
    "![PL](img/PL-DigitalLogicEx_CirclePlots.png \"\")\n",
    "\n",
    "<BR>\n",
    "\n",
    "\n",
    "![PL](img/PL-QuantumLogicCircuit.png \"\")\n",
    "\n",
    "<BR>\n",
    "\n",
    "![PL](img/PL-QuantumLogicCirclePlots.png \"\")"
   ]
  },
  {
   "cell_type": "markdown",
   "metadata": {},
   "source": [
    "#### <font color=\"blue\">Circuit Implementation</font> - the below example implements the above circuit.\n",
    "- **Examine Carefully** the above diagrams and then **Copy and Run** the code base below and **step** through the circuit to gain intuition about its behavior.\n",
    "- **Realize** the trick: Take the full statement that we want to implement with phase logic and perform all but the final elementary logic operation from the statement using magnitude-based quantum logic. This will output the values from the statement’s penultimate operation encoded in QPU register magnitudes. We then feed this into a phase-logic implementation of the statement’s final remaining logic operation and we now have the final output from the whole statement encoded in phases.\n",
    "- **Observe** the Circle plots various **phase rotations** to verify that the phase logic is happening as expected - check this with the circle plots above for verification.\n",
    "- **Use** this codebase as inspiration for the **homework.**"
   ]
  },
  {
   "cell_type": "raw",
   "metadata": {},
   "source": [
    "// Programming Quantum Computers\n",
    "//   by Eric Johnston, Nic Harrigan and Mercedes Gimeno-Segovia\n",
    "//   O'Reilly Media\n",
    "\n",
    "// To run this online, go to http://oreilly-qc.github.io?p=10-1\n",
    "\n",
    "var num_qubits = 3;\n",
    "var num_ancilla = 1;\n",
    "\n",
    "qc.reset(num_qubits+num_ancilla);\n",
    "//var reg = qint.new(num_qubits, 'reg');\n",
    "var a = qint.new(1, 'a');\n",
    "var b = qint.new(1, 'b');\n",
    "var c = qint.new(1, 'c');\n",
    "var ancilla = qint.new(1, 'ancilla');\n",
    "\n",
    "qc.label('Init QReg');\n",
    "qc.nop();\n",
    "qc.write(0);\n",
    "qc.hadamard(0x1|0x2|0x4);\n",
    "qc.nop();\n",
    "qc.label('');\n",
    "\n",
    "qc.nop();\n",
    "\n",
    "\n",
    "qc.label('(a OR NOT b)');\n",
    "qc.nop();\n",
    "b.not();\n",
    "bit_or(1,2,8);\n",
    "qc.nop();\n",
    "qc.label('');\n",
    "\n",
    "qc.nop();\n",
    "\n",
    "\n",
    "qc.label('AND')\n",
    "qc.nop();\n",
    "phase_and(4|8);\n",
    "qc.nop();\n",
    "qc.label('');\n",
    "\n",
    "qc.nop();\n",
    "\n",
    "\n",
    "qc.label('uncompute');\n",
    "qc.nop();\n",
    "inv_bit_or(1,2,8);\n",
    "b.not();\n",
    "qc.nop();\n",
    "qc.label('');\n",
    "\n",
    "\n",
    "//////////// Function Definitions\n",
    "\n",
    "//Define bit OR and inverse\n",
    "//\n",
    "function bit_or(q1,q2,out)\n",
    "{\n",
    "    qc.not(q1|q2);\n",
    "    qc.cnot(out,q1|q2);\n",
    "    qc.not(q1|q2|out);\n",
    "}\n",
    "\n",
    "//Define inverse bit OR\n",
    "//\n",
    "function inv_bit_or(q1,q2,out)\n",
    "{\n",
    "    qc.not(q1|q2|out);\n",
    "    qc.cnot(out,q1|q2);\n",
    "    qc.not(q1|q2);\n",
    "}\n",
    "\n",
    "\n",
    "// Define phase AND (pAND)\n",
    "//\n",
    "function phase_and(qubits)\n",
    "{\n",
    "    qc.cz(qubits);\n",
    "}\n"
   ]
  },
  {
   "cell_type": "markdown",
   "metadata": {},
   "source": [
    "> ### <font color=\"red\">Full Screen Mode</font>:\n",
    "\n",
    "> - https://oreilly-qc.github.io?p=10-1"
   ]
  },
  {
   "cell_type": "markdown",
   "metadata": {},
   "source": [
    "# <font color=\"blue\">QCEngine</font>"
   ]
  },
  {
   "cell_type": "code",
   "execution_count": 6,
   "metadata": {},
   "outputs": [
    {
     "data": {
      "text/html": [
       "\n",
       "        <iframe\n",
       "            width=\"900\"\n",
       "            height=\"900\"\n",
       "            src=\"https://oreilly-qc.github.io?p=10-1\"\n",
       "            frameborder=\"0\"\n",
       "            allowfullscreen\n",
       "        ></iframe>\n",
       "        "
      ],
      "text/plain": [
       "<IPython.lib.display.IFrame at 0x2353bb8f5c0>"
      ]
     },
     "execution_count": 6,
     "metadata": {},
     "output_type": "execute_result"
    }
   ],
   "source": [
    "from IPython.display import IFrame\n",
    "IFrame(src='https://oreilly-qc.github.io?p=10-1', width=900, height=900)"
   ]
  },
  {
   "cell_type": "markdown",
   "metadata": {},
   "source": [
    "# <font color=\"red\">Graded Exercises</font>  for use <font color=\"blue\">with structured courses.</font>\n",
    "> #### In the previous QCEngine example, you explored a circuit described below."
   ]
  },
  {
   "cell_type": "markdown",
   "metadata": {},
   "source": [
    "![PL](img/PL-DigitalLogicCircuitEx.png \"\")\n",
    "\n",
    "<BR>\n",
    "    \n",
    "\n",
    "![PL](img/PL-QuantumLogicCircuit.png \"\")\n",
    "\n",
    "<BR>\n",
    "\n",
    "![PL](img/PL-QuantumLogicCirclePlots.png \"\")"
   ]
  },
  {
   "cell_type": "markdown",
   "metadata": {},
   "source": [
    "## <font color=\"blue\">Your Task</font>:\n",
    "\n",
    "- Convert this **Digital Logic** Circuit in **Phase Logic**, using the above outlined process.\n",
    "\n",
    "### <font color=\"red\">Digital Logic</font> <font color=\"blue\">Circuit</font>\n",
    "\n",
    "<img style=\"float: left;\" src=\"img/BSP-Tigers-Kittens-CircuitVerse.png\">\n",
    "\n",
    "<BR><BR><BR><BR><BR><BR><BR><BR><BR><BR>\n",
    "\n",
    "\n",
    ">> - #### Paste your solution code below for evaluation."
   ]
  },
  {
   "cell_type": "markdown",
   "metadata": {},
   "source": [
    "### <font color=\"black\">Answer </font>:"
   ]
  },
  {
   "cell_type": "code",
   "execution_count": null,
   "metadata": {},
   "outputs": [],
   "source": []
  },
  {
   "cell_type": "markdown",
   "metadata": {},
   "source": [
    "![the-end](img/the-end.png \"the-end\")"
   ]
  }
 ],
 "metadata": {
  "kernelspec": {
   "display_name": "qcousins",
   "language": "python",
   "name": "qcousins"
  },
  "language_info": {
   "codemirror_mode": {
    "name": "ipython",
    "version": 3
   },
   "file_extension": ".py",
   "mimetype": "text/x-python",
   "name": "python",
   "nbconvert_exporter": "python",
   "pygments_lexer": "ipython3",
   "version": "3.7.1"
  }
 },
 "nbformat": 4,
 "nbformat_minor": 2
}
