{
  "cells": [
    {
      "cell_type": "markdown",
      "metadata": {
        "colab_type": "text",
        "id": "view-in-github"
      },
      "source": [
        "<a href=\"https://colab.research.google.com/github/AaronCWacker/QuantumEducation/blob/master/QC_Practicals/Ch02_01%20Random%20Qubit.ipynb\" target=\"_parent\"><img src=\"https://colab.research.google.com/assets/colab-badge.svg\" alt=\"Open In Colab\"/></a>"
      ]
    },
    {
      "cell_type": "markdown",
      "metadata": {
        "id": "4dNSY1_qzH9H"
      },
      "source": [
        "# Programming Quantum Computers\n",
        "\n",
        "- #### Hands-on Experiential Learning <font color=\"red\">for the Software Engineer</font>"
      ]
    },
    {
      "cell_type": "markdown",
      "metadata": {
        "id": "YquigknnzH9Q"
      },
      "source": [
        "# Chapter Ch02_01\n",
        "# <font color=\"red\">Hands-on</font>:  <font color=\"blue\">A Perfectly Random Bit</font> "
      ]
    },
    {
      "cell_type": "markdown",
      "metadata": {
        "id": "CJPTpzeozH9R"
      },
      "source": [
        "![QC_Programming-red](img/QC_Programming-red.png \"QC_Programming-red\")\n",
        "\n",
        "<BR>\n",
        "    \n",
        "<font color=\"red\">**Notice**</font>: All materials herein were <font color=\"red\">**curated**</font> by **Matthew R. Versaggi (profversaggi@gmail.com)** and are released into the open source to foster growth and welfare of expanding the Quantum Computing domain - the only obligation one incurs when using, copying, distributing or referencing this is to kindly reference the author and send me an email so I know how useful the material is to you.\n",
        "\n",
        "<font color=\"red\">**Notice**</font>: Python Code contributions for the Circle Plots are the work of **David Radcliffe**."
      ]
    },
    {
      "cell_type": "markdown",
      "metadata": {
        "id": "haNLZCGfzH9T"
      },
      "source": [
        "## Pedagogical Approach: (<font color=\"red\">**Read this first !**</font>)\n",
        "\n",
        "This material is intended to educate **software engineers** in certain aspects of Quantum Computing, therefore its focus will be on conveying the conceptual ideas in a form digestible to them, and supporting it with exercises to reinforce those concepts. \n",
        "\n",
        "Because of that pedagogical approach, **this material won't lead with or heavily leverage the concepts and language indigenous to physics and math**, but only in those terms most easily digestible to the modern software engineer.\n",
        "\n",
        "This Jupyter Notebook is <font color=\"red\">**not intended as a stand alone educational vehicle**</font>  - it's meant to be accompanied by a decicated power point deck that contains the main concepts to be presented by an instructor - **it is intended as a vehicle for a hands on workshop environment to facilitate learning through a guided experience.**\n",
        "\n",
        "> **Note:-** Because of the above educational approach:\n",
        "1. There is a certain amount of basic Quantum Computing knowledge that is assumed.\n",
        "2. An active internet connection is **always** assumed.\n",
        "3. Online references/links will be provided where appropriate\n",
        "4. References to books will be made where appropriate\n",
        "5. Much of this material is **dense and detailed**, the reader is <font color=\"red\">**cautioned**</font> to be careful and slow to digest the *nuances* of the material."
      ]
    },
    {
      "cell_type": "markdown",
      "metadata": {
        "id": "c8hRKAbwzH9U"
      },
      "source": [
        "## What you will be exposed to - High level: \n",
        "\n",
        "- Software engineers in the Quantum Computing space need to **<font color=\"blue\">gain a mastery of the simulation frameworks and tools used to understand and solve problems quantumly</font>**. Under the hood, the **<font color=\"red\">simulators mathematically represent the \"Ideal\" manifestations of quantum hardware</font>** that (theoretically) the \"Actual\" quantum hardware would behave exactly like. For the software engineer, this is the preferred situation as it permits them to understand and solve problems w/out being bound to the limitations of the hardware as it matures.\n",
        "\n",
        "\n",
        "- Given the above, there are a host of technical concepts that need to be **<font color=\"red\">understood experientially</font>** - we'll intentionally employ a vendor / framework agnostic approach to focus on the delivery of concept understanding and intuition procurement as the main value-add.\n",
        "\n",
        "\n",
        "## Accompanying Text:\n",
        "\n",
        "<BR>\n",
        "\n",
        "<a href=\"https://www.amazon.com/Programming-Quantum-Computers-Essential-Algorithms/dp/1492039683\" target=\"_blank\"><img src=\"https://github.com/AaronCWacker/QuantumEducation/blob/master/QC_Practicals/img/OreillyBookImage-small.png?raw=1\" height=\"250\" align=left style=\"padding:15px;\"></a>\n",
        "\n",
        "\n",
        "> The core materials leveraged in this Jupyter Notebook comes from the following book, and is required reading to engage in the problem sets covered.\n",
        "\n",
        "> The problem sets contained here will be expanded versions of the exercises contained in the book for sake of gaining intuition about the particular concept in question through leveraging various 'other' frameworks, tools, and instruments indigenous to the quantum programming space. \n",
        "\n",
        "\n",
        "> The core idea is that the various \"simulators\" circuitry (underlying mathematical representations) is considered the \"Ideal\" at the time of this JNB's construction, and therefore are the bect tools we have to address the problems we are interested in. To avoid being constrained by any particular framework, tool set, and software instruments, the idea is to leverage a host of appropriate \"tools\" when addressing any particular concept, problem or issue to remaind technology agnostic, but concept and intuition rich.\n",
        "\n",
        "\n",
        "- **Note:** The problems explored are organized and ordered according to chapter.\n",
        "\n",
        "<BR>"
      ]
    },
    {
      "cell_type": "markdown",
      "metadata": {
        "id": "lHZyueRRzH9X"
      },
      "source": [
        "**<font color=\"red\" size=4>Notice</font>:** - Prior to embarking on this notebook the reader is **highly encouraged to procure a <font color=\"red\" size=4>reasonable</font> <font color=\"blue\" size=4>introduction</font>** to the following key programming (and circuit) frameworks used:\n",
        "\n",
        "0. <a href=\"https://oreilly-qc.github.io/\" target=\"_blank\"><font color=\"blue\" size=4>QCEngine</font></a>\n",
        "0. <a href=\"https://qiskit.org/textbook/preface.html\" target=\"_blank\"><font color=\"blue\" size=4>Qiskit Tutorial</font></a>, <a href=\"https://qiskit.org/\" target=\"_blank\"><font color=\"blue\" size=4>Qiskit Home</font></a>\n",
        "0. <a href=\"https://algassert.com/quirk\" target=\"_blank\"><font color=\"blue\">QUIRK</font></a>"
      ]
    },
    {
      "cell_type": "markdown",
      "metadata": {
        "id": "i9FZOLUjzH9Y"
      },
      "source": [
        "# <font color=\"red\">Example Problem(s):</font> \n",
        "\n",
        "**This example problem is archetypal** of how the exercises highlighted in the book can be expanded to include a host of other tools that help build understanding and intuition of the concepts being explored. \n",
        "\n",
        "- The <font color=\"blue\">QCEngine</font> is a staple, but the <font color=\"blue\">Bloch Sphere Playground Application</font>, the <font color=\"blue\">Quantum Gate Playground</font>, <font color=\"blue\">QUIRK</font>, and <font color=\"blue\">Qiskit</font> are also instructive to leverage when persuing intuition about the concept and will be often used."
      ]
    },
    {
      "cell_type": "markdown",
      "metadata": {
        "id": "tn67JwRYzH9Z"
      },
      "source": [
        "# Random Qubit\n"
      ]
    },
    {
      "cell_type": "markdown",
      "metadata": {
        "id": "3p0NdIFbzH9b"
      },
      "source": [
        "![One Random Bit](img/random_bit.png \"One Random Bit\")"
      ]
    },
    {
      "cell_type": "markdown",
      "metadata": {
        "id": "74IiAbqLzH9d"
      },
      "source": [
        "# <font color=\"blue\">QCEngine</font>"
      ]
    },
    {
      "cell_type": "code",
      "execution_count": 1,
      "metadata": {
        "colab": {
          "base_uri": "https://localhost:8080/",
          "height": 921
        },
        "id": "qvwqJkvizH9e",
        "outputId": "da84051f-a743-4681-f9b3-0aafbc24c813",
        "scrolled": false
      },
      "outputs": [
        {
          "data": {
            "text/html": [
              "\n",
              "        <iframe\n",
              "            width=\"900\"\n",
              "            height=\"900\"\n",
              "            src=\"https://oreilly-qc.github.io?p=2-1\"\n",
              "            frameborder=\"0\"\n",
              "            allowfullscreen\n",
              "        ></iframe>\n",
              "        "
            ],
            "text/plain": [
              "<IPython.lib.display.IFrame at 0x1adeae9a518>"
            ]
          },
          "execution_count": 1,
          "metadata": {},
          "output_type": "execute_result"
        }
      ],
      "source": [
        "from IPython.display import IFrame\n",
        "IFrame(src='https://oreilly-qc.github.io?p=2-1', width=900, height=900)"
      ]
    },
    {
      "cell_type": "markdown",
      "metadata": {
        "id": "pp4IXAUyzH9i"
      },
      "source": [
        "## <font color=\"blue\">Bloch Sphere Playground Application</font>"
      ]
    },
    {
      "cell_type": "code",
      "execution_count": 2,
      "metadata": {
        "colab": {
          "base_uri": "https://localhost:8080/",
          "height": 721
        },
        "id": "fm0-CUowzH9j",
        "outputId": "20c601e6-fe72-4fa1-8806-26953ece5666"
      },
      "outputs": [
        {
          "data": {
            "text/html": [
              "\n",
              "        <iframe\n",
              "            width=\"950\"\n",
              "            height=\"700\"\n",
              "            src=\"https://javafxpert.github.io/grok-bloch/\"\n",
              "            frameborder=\"0\"\n",
              "            allowfullscreen\n",
              "        ></iframe>\n",
              "        "
            ],
            "text/plain": [
              "<IPython.lib.display.IFrame at 0x1adeae9a9e8>"
            ]
          },
          "execution_count": 2,
          "metadata": {},
          "output_type": "execute_result"
        }
      ],
      "source": [
        "# Bloch Sphere Playground Application\n",
        "from IPython.display import IFrame\n",
        "IFrame(src='https://javafxpert.github.io/grok-bloch/', width=950, height=700)"
      ]
    },
    {
      "cell_type": "markdown",
      "metadata": {
        "id": "EvnhlubQzH9l"
      },
      "source": [
        "## <font color=\"blue\">Quantum Computer Gate Playground</font>"
      ]
    },
    {
      "cell_type": "code",
      "execution_count": 3,
      "metadata": {
        "colab": {
          "base_uri": "https://localhost:8080/",
          "height": 921
        },
        "id": "07wPsPoKzH9l",
        "outputId": "712b7bf4-765a-438a-86ea-ea525cfa6d44"
      },
      "outputs": [
        {
          "data": {
            "text/html": [
              "\n",
              "        <iframe\n",
              "            width=\"900\"\n",
              "            height=\"900\"\n",
              "            src=\"https://davidbkemp.github.io/quantum-gate-playground/\"\n",
              "            frameborder=\"0\"\n",
              "            allowfullscreen\n",
              "        ></iframe>\n",
              "        "
            ],
            "text/plain": [
              "<IPython.lib.display.IFrame at 0x1adeae9a668>"
            ]
          },
          "execution_count": 3,
          "metadata": {},
          "output_type": "execute_result"
        }
      ],
      "source": [
        "# Quantum Gate Playground\n",
        "from IPython.display import IFrame\n",
        "IFrame(src='https://davidbkemp.github.io/quantum-gate-playground/', width=900, height=900)"
      ]
    },
    {
      "cell_type": "markdown",
      "metadata": {
        "id": "W-uptIoMzH9m"
      },
      "source": [
        "# <font color=\"blue\">QUIRK</font>"
      ]
    },
    {
      "cell_type": "code",
      "execution_count": 4,
      "metadata": {
        "colab": {
          "base_uri": "https://localhost:8080/",
          "height": 621
        },
        "id": "GkKabS2izH9n",
        "outputId": "2fd26fa4-fbbd-4459-87fa-4c08b79af996",
        "scrolled": false
      },
      "outputs": [
        {
          "data": {
            "text/html": [
              "\n",
              "        <iframe\n",
              "            width=\"900\"\n",
              "            height=\"600\"\n",
              "            src=\"https://algassert.com/quirk#circuit={%22cols%22:[[%22H%22],[%22Bloch%22],[%22Measure%22]]}\"\n",
              "            frameborder=\"0\"\n",
              "            allowfullscreen\n",
              "        ></iframe>\n",
              "        "
            ],
            "text/plain": [
              "<IPython.lib.display.IFrame at 0x1adeae9a1d0>"
            ]
          },
          "execution_count": 4,
          "metadata": {},
          "output_type": "execute_result"
        }
      ],
      "source": [
        "# QUIRK (Quantum Curcuit Simulator) \n",
        "from IPython.display import IFrame\n",
        "IFrame(src='https://algassert.com/quirk#circuit={%22cols%22:[[%22H%22],[%22Bloch%22],[%22Measure%22]]}', width=900, height=600)"
      ]
    },
    {
      "cell_type": "markdown",
      "metadata": {
        "id": "iX65PyqYzH9o"
      },
      "source": [
        "## <font color=\"blue\">QISKIT</font>"
      ]
    },
    {
      "cell_type": "markdown",
      "metadata": {
        "id": "8_vuI0RUzH9o"
      },
      "source": [
        "### <font color=\"red\">REMINDER</font>: - <font color=\"blue\">The Anatomy of the QISKIT Quantum Simulator </font>\n",
        "\n",
        "<BR>\n",
        "\n",
        "![Qiskit-Process](img/Qiskit-Process1.png \"Qiskit-Process\")"
      ]
    },
    {
      "cell_type": "markdown",
      "metadata": {
        "id": "pow6ViorzH9p"
      },
      "source": [
        "### <font color=\"blue\">Setup</font>"
      ]
    },
    {
      "cell_type": "code",
      "execution_count": 5,
      "metadata": {
        "colab": {
          "base_uri": "https://localhost:8080/"
        },
        "id": "NXcBn1uj0Y6F",
        "outputId": "dc6f321d-1fbf-40d0-82ae-87aa6ca33825"
      },
      "outputs": [
        {
          "name": "stdout",
          "output_type": "stream",
          "text": [
            "Requirement already satisfied: qiskit in z:\\anaconda\\lib\\site-packages (0.31.0)\n",
            "Requirement already satisfied: qiskit-ibmq-provider==0.17.0 in z:\\anaconda\\lib\\site-packages (from qiskit) (0.17.0)\n",
            "Requirement already satisfied: qiskit-aer==0.9.1 in z:\\anaconda\\lib\\site-packages (from qiskit) (0.9.1)\n",
            "Requirement already satisfied: qiskit-ignis==0.6.0 in z:\\anaconda\\lib\\site-packages (from qiskit) (0.6.0)\n",
            "Requirement already satisfied: qiskit-terra==0.18.3 in z:\\anaconda\\lib\\site-packages (from qiskit) (0.18.3)\n",
            "Requirement already satisfied: qiskit-aqua==0.9.5 in z:\\anaconda\\lib\\site-packages (from qiskit) (0.9.5)\n",
            "Requirement already satisfied: websocket-client>=1.0.1 in z:\\anaconda\\lib\\site-packages (from qiskit-ibmq-provider==0.17.0->qiskit) (1.2.1)\n",
            "Requirement already satisfied: numpy>=1.13 in z:\\anaconda\\lib\\site-packages (from qiskit-ibmq-provider==0.17.0->qiskit) (1.21.3)\n",
            "Requirement already satisfied: requests>=2.19 in z:\\anaconda\\lib\\site-packages (from qiskit-ibmq-provider==0.17.0->qiskit) (2.21.0)\n",
            "Requirement already satisfied: urllib3>=1.21.1 in z:\\anaconda\\lib\\site-packages (from qiskit-ibmq-provider==0.17.0->qiskit) (1.24.1)\n",
            "Requirement already satisfied: python-dateutil>=2.8.0 in z:\\anaconda\\lib\\site-packages (from qiskit-ibmq-provider==0.17.0->qiskit) (2.8.2)\n",
            "Requirement already satisfied: requests-ntlm>=1.1.0 in z:\\anaconda\\lib\\site-packages (from qiskit-ibmq-provider==0.17.0->qiskit) (1.1.0)\n",
            "Requirement already satisfied: scipy>=1.0 in z:\\anaconda\\lib\\site-packages (from qiskit-aer==0.9.1->qiskit) (1.7.1)\n",
            "Requirement already satisfied: retworkx>=0.8.0 in z:\\anaconda\\lib\\site-packages (from qiskit-ignis==0.6.0->qiskit) (0.10.2)\n",
            "Requirement already satisfied: setuptools>=40.1.0 in z:\\anaconda\\lib\\site-packages (from qiskit-ignis==0.6.0->qiskit) (40.6.3)\n",
            "Requirement already satisfied: tweedledum<2.0,>=1.1 in z:\\anaconda\\lib\\site-packages (from qiskit-terra==0.18.3->qiskit) (1.1.1)\n",
            "Requirement already satisfied: fastjsonschema>=2.10 in z:\\anaconda\\lib\\site-packages (from qiskit-terra==0.18.3->qiskit) (2.15.1)\n",
            "Requirement already satisfied: ply>=3.10 in z:\\anaconda\\lib\\site-packages (from qiskit-terra==0.18.3->qiskit) (3.11)\n",
            "Requirement already satisfied: psutil>=5 in z:\\anaconda\\lib\\site-packages (from qiskit-terra==0.18.3->qiskit) (5.4.8)\n",
            "Requirement already satisfied: jsonschema>=2.6 in z:\\anaconda\\lib\\site-packages (from qiskit-terra==0.18.3->qiskit) (2.6.0)\n",
            "Requirement already satisfied: dill>=0.3 in z:\\anaconda\\lib\\site-packages (from qiskit-terra==0.18.3->qiskit) (0.3.4)\n",
            "Requirement already satisfied: sympy>=1.3 in z:\\anaconda\\lib\\site-packages (from qiskit-terra==0.18.3->qiskit) (1.3)\n",
            "Requirement already satisfied: python-constraint>=1.4 in z:\\anaconda\\lib\\site-packages (from qiskit-terra==0.18.3->qiskit) (1.4.0)\n",
            "Requirement already satisfied: scikit-learn>=0.20.0 in z:\\anaconda\\lib\\site-packages (from qiskit-aqua==0.9.5->qiskit) (0.20.1)\n",
            "Requirement already satisfied: h5py<3.3.0 in z:\\anaconda\\lib\\site-packages (from qiskit-aqua==0.9.5->qiskit) (2.8.0)\n",
            "Requirement already satisfied: dlx<=1.0.4 in z:\\anaconda\\lib\\site-packages (from qiskit-aqua==0.9.5->qiskit) (1.0.4)\n",
            "Requirement already satisfied: docplex>=2.21.207 in z:\\anaconda\\lib\\site-packages (from qiskit-aqua==0.9.5->qiskit) (2.22.213)\n",
            "Requirement already satisfied: yfinance>=0.1.62 in z:\\anaconda\\lib\\site-packages (from qiskit-aqua==0.9.5->qiskit) (0.1.64)\n",
            "Requirement already satisfied: quandl in z:\\anaconda\\lib\\site-packages (from qiskit-aqua==0.9.5->qiskit) (3.6.1)\n",
            "Requirement already satisfied: pandas in z:\\anaconda\\lib\\site-packages (from qiskit-aqua==0.9.5->qiskit) (0.23.4)\n",
            "Requirement already satisfied: fastdtw<=0.3.4 in z:\\anaconda\\lib\\site-packages (from qiskit-aqua==0.9.5->qiskit) (0.3.4)\n",
            "Requirement already satisfied: chardet<3.1.0,>=3.0.2 in z:\\anaconda\\lib\\site-packages (from requests>=2.19->qiskit-ibmq-provider==0.17.0->qiskit) (3.0.4)\n",
            "Requirement already satisfied: certifi>=2017.4.17 in z:\\anaconda\\lib\\site-packages (from requests>=2.19->qiskit-ibmq-provider==0.17.0->qiskit) (2018.11.29)\n",
            "Requirement already satisfied: idna<2.9,>=2.5 in z:\\anaconda\\lib\\site-packages (from requests>=2.19->qiskit-ibmq-provider==0.17.0->qiskit) (2.8)\n",
            "Requirement already satisfied: six>=1.5 in z:\\anaconda\\lib\\site-packages (from python-dateutil>=2.8.0->qiskit-ibmq-provider==0.17.0->qiskit) (1.12.0)\n",
            "Requirement already satisfied: ntlm-auth>=1.0.2 in z:\\anaconda\\lib\\site-packages (from requests-ntlm>=1.1.0->qiskit-ibmq-provider==0.17.0->qiskit) (1.5.0)\n",
            "Requirement already satisfied: cryptography>=1.3 in z:\\anaconda\\lib\\site-packages (from requests-ntlm>=1.1.0->qiskit-ibmq-provider==0.17.0->qiskit) (2.4.2)\n",
            "Requirement already satisfied: multitasking>=0.0.7 in z:\\anaconda\\lib\\site-packages (from yfinance>=0.1.62->qiskit-aqua==0.9.5->qiskit) (0.0.9)\n",
            "Requirement already satisfied: lxml>=4.5.1 in z:\\anaconda\\lib\\site-packages (from yfinance>=0.1.62->qiskit-aqua==0.9.5->qiskit) (4.6.3)\n",
            "Requirement already satisfied: inflection>=0.3.1 in z:\\anaconda\\lib\\site-packages (from quandl->qiskit-aqua==0.9.5->qiskit) (0.5.1)\n",
            "Requirement already satisfied: more-itertools in z:\\anaconda\\lib\\site-packages (from quandl->qiskit-aqua==0.9.5->qiskit) (4.3.0)\n",
            "Requirement already satisfied: pytz>=2011k in z:\\anaconda\\lib\\site-packages (from pandas->qiskit-aqua==0.9.5->qiskit) (2018.7)\n",
            "Requirement already satisfied: cffi!=1.11.3,>=1.7 in z:\\anaconda\\lib\\site-packages (from cryptography>=1.3->requests-ntlm>=1.1.0->qiskit-ibmq-provider==0.17.0->qiskit) (1.11.5)\n",
            "Requirement already satisfied: asn1crypto>=0.21.0 in z:\\anaconda\\lib\\site-packages (from cryptography>=1.3->requests-ntlm>=1.1.0->qiskit-ibmq-provider==0.17.0->qiskit) (0.24.0)\n",
            "Requirement already satisfied: pycparser in z:\\anaconda\\lib\\site-packages (from cffi!=1.11.3,>=1.7->cryptography>=1.3->requests-ntlm>=1.1.0->qiskit-ibmq-provider==0.17.0->qiskit) (2.19)\n",
            "Requirement already satisfied: pylatexenc in z:\\anaconda\\lib\\site-packages (2.10)\n",
            "Requirement already satisfied: matplotlib in z:\\anaconda\\lib\\site-packages (3.0.2)\n",
            "Requirement already satisfied: numpy>=1.10.0 in z:\\anaconda\\lib\\site-packages (from matplotlib) (1.21.3)\n",
            "Requirement already satisfied: cycler>=0.10 in z:\\anaconda\\lib\\site-packages (from matplotlib) (0.10.0)\n",
            "Requirement already satisfied: kiwisolver>=1.0.1 in z:\\anaconda\\lib\\site-packages (from matplotlib) (1.0.1)\n",
            "Requirement already satisfied: pyparsing!=2.0.4,!=2.1.2,!=2.1.6,>=2.0.1 in z:\\anaconda\\lib\\site-packages (from matplotlib) (2.3.0)\n",
            "Requirement already satisfied: python-dateutil>=2.1 in z:\\anaconda\\lib\\site-packages (from matplotlib) (2.8.2)\n",
            "Requirement already satisfied: six in z:\\anaconda\\lib\\site-packages (from cycler>=0.10->matplotlib) (1.12.0)\n",
            "Requirement already satisfied: setuptools in z:\\anaconda\\lib\\site-packages (from kiwisolver>=1.0.1->matplotlib) (40.6.3)\n"
          ]
        }
      ],
      "source": [
        "# Pip installs\n",
        "!pip install qiskit\n",
        "!pip install pylatexenc\n",
        "!pip install matplotlib\n"
      ]
    },
    {
      "cell_type": "code",
      "execution_count": 6,
      "metadata": {},
      "outputs": [
        {
          "name": "stdout",
          "output_type": "stream",
          "text": [
            "Requirement already satisfied: pandas in z:\\anaconda\\lib\\site-packages (0.23.4)\n",
            "Requirement already satisfied: python-dateutil>=2.5.0 in z:\\anaconda\\lib\\site-packages (from pandas) (2.8.2)\n",
            "Requirement already satisfied: pytz>=2011k in z:\\anaconda\\lib\\site-packages (from pandas) (2018.7)\n",
            "Requirement already satisfied: numpy>=1.9.0 in z:\\anaconda\\lib\\site-packages (from pandas) (1.21.3)\n",
            "Requirement already satisfied: six>=1.5 in z:\\anaconda\\lib\\site-packages (from python-dateutil>=2.5.0->pandas) (1.12.0)\n"
          ]
        }
      ],
      "source": [
        "\n",
        "import cmath\n",
        "import math\n",
        "import matplotlib.pyplot as P\n",
        "import matplotlib.pyplot as plt\n",
        "import numpy as np\n",
        "!pip install pandas"
      ]
    },
    {
      "cell_type": "code",
      "execution_count": 7,
      "metadata": {},
      "outputs": [],
      "source": [
        "\n",
        "# Import Qiskit, and set up a Quantum register of 1 Qubit, and set up a Quantum Circuit w/that register\n",
        "# Note the Helper Functions\n",
        "\n",
        "import qiskit\n",
        "from qiskit import QuantumCircuit, QuantumRegister, execute\n",
        "\n",
        "qr = QuantumRegister(1)\n",
        "circ = QuantumCircuit(qr)\n"
      ]
    },
    {
      "cell_type": "code",
      "execution_count": 16,
      "metadata": {
        "id": "nfs2Ol7mzH9q"
      },
      "outputs": [],
      "source": [
        "\n",
        "\n",
        "# Helper Funtion for Normalizing State Vectors\n",
        "#\n",
        "def normalize_state_Vector(state_vector):\n",
        "    for result in state_vector:\n",
        "        print(\"Normalized Result: \" , round( np.abs(result)**2, 1) )\n",
        "        \n",
        "        \n",
        "# Helper Funtion for print Polar Phase(s)\n",
        "#      \n",
        "def plot_polar(state_vector):\n",
        "    pi_radians = 180;\n",
        "    for x in state_vector:\n",
        "        plt.polar([0,cmath.phase(x)],[0,abs(x)],marker='o')\n",
        "        print(\"The original complex number Re{%d}, Im{%d}, and Length : %f\" % (x.real, x.imag, abs(x)))\n",
        "        print(\"Phase: \",cmath.phase(x))\n",
        "        if cmath.phase(x) != 0:\n",
        "            print(\"Angle: \", pi_radians/(np.pi/cmath.phase(x)))\n",
        "    "
      ]
    },
    {
      "cell_type": "markdown",
      "metadata": {
        "id": "vA-as318zH9q"
      },
      "source": [
        "### <font color=\"blue\">Manipulating the Qubit - H (Hadamard) Gate</font>"
      ]
    },
    {
      "cell_type": "code",
      "execution_count": 9,
      "metadata": {
        "colab": {
          "base_uri": "https://localhost:8080/",
          "height": 95
        },
        "id": "tTLn3_sXzH9r",
        "outputId": "60c59a1d-0c50-49e4-8564-e393f72bdbd9"
      },
      "outputs": [
        {
          "data": {
            "image/png": "[encoded data removed]",
            "text/plain": [
              "<Figure size 146.507x84.28 with 1 Axes>"
            ]
          },
          "execution_count": 9,
          "metadata": {},
          "output_type": "execute_result"
        }
      ],
      "source": [
        "# Execute an H (Hadamard) gate on the circuit - Superposition\n",
        "\n",
        "circ.h(qr[0])\n",
        "\n",
        "# Draw the circuit\n",
        "circ.draw(output='mpl')"
      ]
    },
    {
      "cell_type": "markdown",
      "metadata": {
        "id": "XeZhXujOzH9s"
      },
      "source": [
        "### <font color=\"blue\">Execute batch Job, get results, print Qstate.</font>"
      ]
    },
    {
      "cell_type": "code",
      "execution_count": 10,
      "metadata": {
        "colab": {
          "base_uri": "https://localhost:8080/"
        },
        "id": "W51cgfoWzH9s",
        "outputId": "2bdd509d-3728-41f7-b7f1-5650d6f5d09d"
      },
      "outputs": [
        {
          "data": {
            "text/plain": [
              "array([0.707+0.j, 0.707+0.j])"
            ]
          },
          "execution_count": 10,
          "metadata": {},
          "output_type": "execute_result"
        }
      ],
      "source": [
        "# Use the BasicAer statevector_simulator backend, submit the job, preview the quantum state\n",
        "\n",
        "from qiskit import BasicAer\n",
        "backend_sv_sim = BasicAer.get_backend('statevector_simulator')\n",
        "\n",
        "job_sim = execute(circ, backend_sv_sim)\n",
        "result_sim = job_sim.result()\n",
        "quantum_state = result_sim.get_statevector(circ, decimals=3)\n",
        "\n",
        "# Output the quantum state vector (Amplitude of zero and one state respectively)\n",
        "quantum_state"
      ]
    },
    {
      "cell_type": "markdown",
      "metadata": {
        "id": "dO365g-pzH9t"
      },
      "source": [
        "### <font color=\"blue\">Print Normalized Quantum State</font>"
      ]
    },
    {
      "cell_type": "code",
      "execution_count": 11,
      "metadata": {
        "colab": {
          "base_uri": "https://localhost:8080/"
        },
        "id": "ESWqOGm7zH9t",
        "outputId": "94c66add-40e5-4488-c480-e3c7331ff143"
      },
      "outputs": [
        {
          "name": "stdout",
          "output_type": "stream",
          "text": [
            "Normalized Result:  0.5\n",
            "Normalized Result:  0.5\n"
          ]
        }
      ],
      "source": [
        "# Print out normalized statevector  (to gain probabilities)\n",
        "#\n",
        "normalize_state_Vector(quantum_state)"
      ]
    },
    {
      "cell_type": "markdown",
      "metadata": {
        "id": "phCyh_2fzH9t"
      },
      "source": [
        "### <font color=\"blue\">Print Polar Plot of Qubit's Phase</font>"
      ]
    },
    {
      "cell_type": "code",
      "execution_count": 12,
      "metadata": {
        "colab": {
          "base_uri": "https://localhost:8080/",
          "height": 354
        },
        "id": "wu9LMUckzH9u",
        "outputId": "41c909dc-65c6-4a4c-d42a-da5d69d94202"
      },
      "outputs": [
        {
          "name": "stdout",
          "output_type": "stream",
          "text": [
            "The original complex number Re{0}, Im{0}, and Length : 0.707000\n",
            "Phase:  0.0\n",
            "The original complex number Re{0}, Im{0}, and Length : 0.707000\n",
            "Phase:  0.0\n"
          ]
        },
        {
          "data": {
            "image/png": "[encoded data removed]",
            "text/plain": [
              "<Figure size 432x288 with 1 Axes>"
            ]
          },
          "metadata": {
            "needs_background": "light"
          },
          "output_type": "display_data"
        }
      ],
      "source": [
        "# Plot Polar Coordinates for intuitions sake - provides an idea of the angle of the plot on the curve : appears 90 Degrees\n",
        "# Plot both vectors and phase / angle (if non-zero)\n",
        "\n",
        "P.clf()\n",
        "sp = P.subplot(1, 1, 1, projection='polar')\n",
        "sp.set_theta_zero_location('N')\n",
        "sp.set_theta_direction(1)\n",
        "\n",
        "plot_polar(quantum_state)"
      ]
    },
    {
      "cell_type": "markdown",
      "metadata": {
        "id": "OVLUU8AnzH9u"
      },
      "source": [
        "### <font color=\"blue\">Print out Circle Plots</font>"
      ]
    },
    {
      "cell_type": "code",
      "execution_count": 13,
      "metadata": {
        "id": "0w-kx3nS_9r2"
      },
      "outputs": [],
      "source": [
        "\n",
        "import matplotlib\n",
        "import matplotlib.pyplot as plt\n",
        "from matplotlib.patches import Circle\n",
        "import matplotlib.lines as mlines\n",
        "import numpy as np\n",
        "\n",
        "def plot_circle(axis, amplitude, index, **kwargs):\n",
        "    \"\"\"Generates a circle representation for a single amplitude.\"\"\"\n",
        "    r = abs(amplitude)\n",
        "    if kwargs.get('long_phase') and r > 1e-6:\n",
        "        amplitude /= r\n",
        "    color = kwargs.get('color', 'red')\n",
        "    fill = kwargs.get('fill', True)\n",
        "    axis.set_aspect(1)\n",
        "    axis.set_xlim(-1.25, 1.25)\n",
        "    axis.set_ylim(-1.5, 1.25)\n",
        "    axis.axis('off')\n",
        "    outer_circle = plt.Circle((0, 0), 1, color='black', fill=False)\n",
        "    inner_circle = plt.Circle((0, 0), r, color=color, fill=fill)\n",
        "    radius = mlines.Line2D([0, -np.imag(amplitude)], [0, np.real(amplitude)], color='black')\n",
        "    axis.add_artist(inner_circle)\n",
        "    axis.add_artist(outer_circle)\n",
        "    axis.add_artist(radius)\n",
        "    axis.text(-0.2, -1.5, f'|{index}\\u27e9')\n",
        "\n",
        "\n",
        "def plot_circles(state_vector, nrows=1, **kwargs):\n",
        "    \"\"\"Generates the circle-plot representation for the state vector of a quantum register.\"\"\"\n",
        "    fontsize = kwargs.get('fontsize', 12)\n",
        "    matplotlib.rc('font', family='serif', weight='bold', size=fontsize)\n",
        "    N = len(state_vector)\n",
        "    assert 0 < nrows and N % nrows == 0, 'invalid value of nrows'\n",
        "    ncols = N // nrows\n",
        "    fig, axs = plt.subplots(nrows=nrows, ncols=ncols, figsize=(2 * ncols, nrows + 1))\n",
        "    for index in range(N):\n",
        "        if nrows == 1 or ncols == 1:\n",
        "            axis = axs[index]\n",
        "        else:\n",
        "            row = index // ncols\n",
        "            col = index % ncols\n",
        "            axis = axs[row][col]\n",
        "\n",
        "        amplitude = state_vector[index]\n",
        "        plot_circle(axis, amplitude, index, **kwargs)\n",
        "    plt.show()"
      ]
    },
    {
      "cell_type": "code",
      "execution_count": 42,
      "metadata": {
        "colab": {
          "base_uri": "https://localhost:8080/",
          "height": 143
        },
        "id": "M8lekgfMzH9u",
        "outputId": "78b12e22-52ab-4921-f0fc-ea0cf68da5a5"
      },
      "outputs": [
        {
          "data": {
            "image/png": "[encoded data removed]",
            "text/plain": [
              "<Figure size 288x144 with 2 Axes>"
            ]
          },
          "metadata": {
            "needs_background": "light"
          },
          "output_type": "display_data"
        }
      ],
      "source": [
        "# Print out Circle Notation for intuitions sake\n",
        "plot_circles(quantum_state)"
      ]
    },
    {
      "cell_type": "markdown",
      "metadata": {
        "id": "OSz9m8lEzH9v"
      },
      "source": [
        "### <font color=\"blue\">Print Bloch Sphere Plot.</font>"
      ]
    },
    {
      "cell_type": "code",
      "execution_count": 62,
      "metadata": {},
      "outputs": [
        {
          "data": {
            "image/png": "[encoded data removed]",
            "text/plain": [
              "<Figure size 220.123x144.48 with 1 Axes>"
            ]
          },
          "execution_count": 62,
          "metadata": {},
          "output_type": "execute_result"
        }
      ],
      "source": [
        "from qiskit import QuantumRegister, ClassicalRegister, QuantumCircuit\n",
        "from qiskit.tools.visualization import circuit_drawer\n",
        "from qiskit.tools.visualization import plot_bloch_multivector\n",
        "q = QuantumRegister(1)\n",
        "c = ClassicalRegister(1)\n",
        "qc = QuantumCircuit(q, c)\n",
        "qc.h(q)\n",
        "qc.measure(q, c)\n",
        "circuit_drawer(qc, output='mpl', style={'backgroundcolor': '#EEEEEE'})\n"
      ]
    },
    {
      "cell_type": "code",
      "execution_count": 44,
      "metadata": {
        "colab": {
          "base_uri": "https://localhost:8080/",
          "height": 268
        },
        "id": "BcylxjKAzH9v",
        "outputId": "c74eaeff-a1eb-401b-c078-8858dbfcab5b"
      },
      "outputs": [],
      "source": [
        "# Plot the state vector on a Bloch sphere\n",
        "#plot_bloch_multivector(quantum_state)"
      ]
    },
    {
      "cell_type": "code",
      "execution_count": null,
      "metadata": {
        "id": "7pgNv4fSzH9w"
      },
      "outputs": [],
      "source": []
    },
    {
      "cell_type": "markdown",
      "metadata": {
        "id": "g8PBwtNPzH9w"
      },
      "source": [
        "# <font color=\"red\">Graded Exercises</font>  for use <font color=\"blue\">with structured courses.</font>"
      ]
    },
    {
      "cell_type": "markdown",
      "metadata": {
        "id": "dGKY-q4vzH9w"
      },
      "source": [
        "#  <font color=\"blue\">The Perfect Coin Algorithm using 2 Coins</font>\n",
        "\n",
        "![quantum-coin-flip](img/quantum-coin-flip.png \"quantum-coin-flip\")\n",
        "\n",
        "> ### Why does this work?\n",
        "- Because at the Quantum Level, a **simple Hadamard gate** is a truely unpredictible 50/50 chance operation - whereas with a digital random number generator, it is possible (if you knew the long sequence) to predict the next number in the sequence."
      ]
    },
    {
      "cell_type": "markdown",
      "metadata": {
        "id": "kppAF9ZXzH9x"
      },
      "source": [
        "##  <font color=\"blue\">Your Task:</font>\n",
        "\n",
        "\n",
        "> **TASK:** Create a python program using <font color=\"blue\">QISKIT</font> that uses **<font color=\"red\">two</font>** coins instead of just one.\n",
        "- Use the code base in **Simple Quantum Algorithms** as inspiration\n",
        "\n",
        "> **<font color=\"red\">Rubric:</font>** The core code should function and execute just like the inspiration code base but instead uses two coins. \n",
        "- Modify the winners function as you please.\n",
        "\n",
        "##  <font color=\"blue\">Your Code goes below:</font>"
      ]
    },
    {
      "cell_type": "markdown",
      "metadata": {
        "id": "C0_ZMSlczH9x"
      },
      "source": []
    },
    {
      "cell_type": "code",
      "execution_count": 4,
      "metadata": {
        "id": "eD06Sn77zH9x"
      },
      "outputs": [
        {
          "data": {
            "image/png": "[encoded data removed]",
            "text/plain": [
              "<Figure size 206.852x144.48 with 1 Axes>"
            ]
          },
          "execution_count": 4,
          "metadata": {},
          "output_type": "execute_result"
        }
      ],
      "source": [
        "from qiskit import QuantumRegister, ClassicalRegister, QuantumCircuit\n",
        "from qiskit.tools.visualization import circuit_drawer\n",
        "from qiskit.tools.visualization import plot_bloch_multivector\n",
        "q = QuantumRegister(1)\n",
        "c = ClassicalRegister(1)\n",
        "qc = QuantumCircuit(q, c)\n",
        "qc.h(q)\n",
        "qc.measure(q, c)\n",
        "circuit_drawer(qc, output='mpl', style={'backgroundcolor': '#EEEEEE'})"
      ]
    },
    {
      "cell_type": "code",
      "execution_count": 22,
      "metadata": {},
      "outputs": [
        {
          "data": {
            "image/png": "[encoded data removed]",
            "text/plain": [
              "<Figure size 206.852x144.48 with 1 Axes>"
            ]
          },
          "execution_count": 22,
          "metadata": {},
          "output_type": "execute_result"
        }
      ],
      "source": [
        "circuit = QuantumCircuit(1,1) \n",
        "circuit.h(0) # Adding H Gate to the circuit (Computers initial move)\n",
        "i = input(\"Choose to 'Flip' or 'Do not flip' the coin :-  \") #ui1\n",
        "# i = flip coin\n",
        "#i = 'Flip'\n",
        "i = 'Do not flip'\n",
        "if i == 'Flip':\n",
        "  circuit.x(0)\n",
        "elif i == 'Do not flip':\n",
        "  circuit.i(0)\n",
        "else:\n",
        "  # For any other decision a exception \"Incorrect Choice\" is raised by the computer.\n",
        "  raise Exception('Incorrect choice')\n",
        "circuit.h(0) # Computers final move\n",
        "circuit.measure(0,0) # Final measurement on circuit is applied.\n",
        "circuit_drawer(qc, output='mpl', style={'backgroundcolor': '#EEEEEE'})"
      ]
    },
    {
      "cell_type": "code",
      "execution_count": 24,
      "metadata": {
        "id": "b1JppARjzH9y"
      },
      "outputs": [
        {
          "data": {
            "image/png": "[encoded data removed]",
            "text/plain": [
              "<Figure size 206.852x144.48 with 1 Axes>"
            ]
          },
          "execution_count": 24,
          "metadata": {},
          "output_type": "execute_result"
        }
      ],
      "source": [
        "# Create circuit with 1 quantum and 1 classical bit\n",
        "circuit = QuantumCircuit(1, 1)\n",
        "# Apply Hadamard gate to quantum bit --> Superposition\n",
        "circuit.h(0)\n",
        "circuit.h(0)\n",
        "# Measure quantum bit and store result in classical bit\n",
        "circuit.measure(0, 0)\n",
        "circuit_drawer(qc, output='mpl', style={'backgroundcolor': '#EEEEEE'})"
      ]
    },
    {
      "cell_type": "markdown",
      "metadata": {
        "id": "hltHmtr7zH9y"
      },
      "source": [
        "![the-end](img/the-end.png \"the-end\")"
      ]
    }
  ],
  "metadata": {
    "colab": {
      "include_colab_link": true,
      "name": "Ch02_01 Random Qubit.ipynb",
      "provenance": []
    },
    "interpreter": {
      "hash": "8738b6b2e862f7e9341ea891b34e9c83c283a64354675045f4a9450407c0ce35"
    },
    "kernelspec": {
      "display_name": "",
      "name": "python3"
    },
    "language_info": {
      "codemirror_mode": {
        "name": "ipython",
        "version": 3
      },
      "file_extension": ".py",
      "mimetype": "text/x-python",
      "name": "python",
      "nbconvert_exporter": "python",
      "pygments_lexer": "ipython3",
      "version": "3.7.1"
    }
  },
  "nbformat": 4,
  "nbformat_minor": 0
}
