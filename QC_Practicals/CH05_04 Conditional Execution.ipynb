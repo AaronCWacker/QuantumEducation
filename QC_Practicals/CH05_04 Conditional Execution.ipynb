{
 "cells": [
  {
   "cell_type": "markdown",
   "metadata": {},
   "source": [
    "# Programming Quantum Computers\n",
    "- #### Hands-on Experiential Learning <font color=\"red\">for the Software Engineer</font>"
   ]
  },
  {
   "cell_type": "markdown",
   "metadata": {},
   "source": [
    "# Chapter Ch05_04\n",
    "# <font color=\"red\">Hands-on</font>:  <font color=\"blue\">Quantum Conditional Execution</font> \n",
    "\n",
    "## <font color=\"red\">if</font> a < 0 <font color=\"red\">then</font> b += 1\n",
    "> - ###  Conditionally execute large pieces of digital logic in superposition."
   ]
  },
  {
   "cell_type": "markdown",
   "metadata": {},
   "source": [
    "![QC_Programming-red](img/QC_Programming-red.png \"QC_Programming-red\")\n",
    "\n",
    "<BR>\n",
    "    \n",
    "<font color=\"red\">**Notice**</font>: All materials herein were <font color=\"red\">**curated**</font> by **Matthew R. Versaggi (profversaggi@gmail.com)** and are released into the open source to foster growth and welfare of expanding the Quantum Computing domain - the only obligation one incurs when using, copying, distributing or referencing this is to kindly reference the author and send me an email so I know how useful the material is to you.\n",
    "\n",
    "<font color=\"red\">**Notice**</font>: Python Code contributions for the Circle Plots are the work of **David Radcliffe**.\n",
    "\n",
    "## Pedagogical Approach: (<font color=\"red\">**Read this first !**</font>)\n",
    "\n",
    "This material is intended to educate **software engineers** in certain aspects of Quantum Computing, therefore its focus will be on conveying the conceptual ideas in a form digestible to them, and supporting it with exercises to reinforce those concepts. \n",
    "\n",
    "Because of that pedagogical approach, **this material won't lead with or heavily leverage the concepts and language indigenous to physics and math**, but only in those terms most easily digestible to the modern software engineer.\n",
    "\n",
    "This Jupyter Notebook is <font color=\"red\">**not intended as a stand alone educational vehicle**</font>  - it's meant to be accompanied by a decicated power point deck that contains the main concepts to be presented by an instructor - **it is intended as a vehicle for a hands on workshop environment to facilitate learning through a guided experience.**\n",
    "\n",
    "> **Note:-** Because of the above educational approach:\n",
    "1. There is a certain amount of basic Quantum Computing knowledge that is assumed.\n",
    "2. An active internet connection is **always** assumed.\n",
    "3. Online references/links will be provided where appropriate\n",
    "4. References to books will be made where appropriate\n",
    "5. Much of this material is **dense and detailed**, the reader is <font color=\"red\">**cautioned**</font> to be careful and slow to digest the *nuances* of the material.\n",
    "\n",
    "## What you will be exposed to - High level: \n",
    "\n",
    "- Software engineers in the Quantum Computing space need to **<font color=\"blue\">gain a mastery of the simulation frameworks and tools used to understand and solve problems quantumly</font>**. Under the hood, the **<font color=\"red\">simulators mathematically represent the \"Ideal\" manifestations of quantum hardware</font>** that (theoretically) the \"Actual\" quantum hardware would behave exactly like. For the software engineer, this is the preferred situation as it permits them to understand and solve problems w/out being bound to the limitations of the hardware as it matures.\n",
    "\n",
    "\n",
    "- Given the above, there are a host of technical concepts that need to be **<font color=\"red\">understood experientially</font>** - we'll intentionally employ a vendor / framework agnostic approach to focus on the delivery of concept understanding and intuition procurement as the main value-add.\n",
    "\n",
    "\n",
    "## Accompanying Text:\n",
    "\n",
    "<BR>\n",
    "\n",
    "<a href=\"https://www.amazon.com/Programming-Quantum-Computers-Essential-Algorithms/dp/1492039683\" target=\"_blank\"><img src=\"img/OreillyBookImage-small.png\" height=\"250\" align=left style=\"padding:15px;\"></a>\n",
    "\n",
    "\n",
    "> The core materials leveraged in this Jupyter Notebook comes from the following book, and is required reading to engage in the problem sets covered.\n",
    "\n",
    "> The problem sets contained here will be expanded versions of the exercises contained in the book for sake of gaining intuition about the particular concept in question through leveraging various 'other' frameworks, tools, and instruments indigenous to the quantum programming space. \n",
    "\n",
    "\n",
    "> The core idea is that the various \"simulators\" circuitry (underlying mathematical representations) is considered the \"Ideal\" at the time of this JNB's construction, and therefore are the bect tools we have to address the problems we are interested in. To avoid being constrained by any particular framework, tool set, and software instruments, the idea is to leverage a host of appropriate \"tools\" when addressing any particular concept, problem or issue to remaind technology agnostic, but concept and intuition rich.\n",
    "\n",
    "\n",
    "- **Note:** The problems explored are organized and ordered according to chapter.\n",
    "\n",
    "<BR>\n",
    "\n",
    "**<font color=\"red\" size=4>Notice</font>:** - Prior to embarking on this notebook the reader is **highly encouraged to procure a <font color=\"red\" size=4>reasonable</font> <font color=\"blue\" size=4>introduction</font>** to the following key programming (and circuit) frameworks used:\n",
    "\n",
    "0. <a href=\"https://oreilly-qc.github.io/\" target=\"_blank\"><font color=\"blue\" size=4>QCEngine</font></a>\n",
    "0. <a href=\"https://qiskit.org/textbook/preface.html\" target=\"_blank\"><font color=\"blue\" size=4>Qiskit Tutorial</font></a>, <a href=\"https://qiskit.org/\" target=\"_blank\"><font color=\"blue\" size=4>Qiskit Home</font></a>\n",
    "0. <a href=\"https://algassert.com/quirk\" target=\"_blank\"><font color=\"blue\">QUIRK</font></a>\n",
    "\n",
    "# <font color=\"red\">Example Problem(s):</font> \n",
    "\n",
    "**This example problem is archetypal** of how the exercises highlighted in the book can be expanded to include a host of other tools that help build understanding and intuition of the concepts being explored. \n",
    "\n",
    "- The <font color=\"blue\">QCEngine</font> is a staple, but the <font color=\"blue\">Bloch Sphere Playground Application</font>, the <font color=\"blue\">Quantum Gate Playground</font>, <font color=\"blue\">QUIRK</font>, and <font color=\"blue\">Qiskit</font> are also instructive to leverage when persuing intuition about the concept and will be often used."
   ]
  },
  {
   "cell_type": "markdown",
   "metadata": {},
   "source": [
    "# Quantum Conditional Execution"
   ]
  },
  {
   "cell_type": "markdown",
   "metadata": {},
   "source": [
    "![Conditional Execution](img/conditional_execution.png \"Conditional Execution\")\n",
    "\n",
    "<BR>\n",
    "    \n",
    "![Conditional Execution](img/ConditionalExecution.png \"Conditional Execution\")\n",
    "\n",
    "<BR>\n",
    "\n",
    "\n",
    "![Conditional Execution](img/ConditionalExecution-StateSpace.png \"Conditional Execution\")"
   ]
  },
  {
   "cell_type": "markdown",
   "metadata": {},
   "source": [
    "### Reminder: 8-bit Binary Table\n",
    "<BR>\n",
    "    \n",
    "![binary-table_0-15-NEW](img/binary-table_0-15-NEW.png \"binary-table_0-15-NEW\")"
   ]
  },
  {
   "cell_type": "code",
   "execution_count": null,
   "metadata": {},
   "outputs": [],
   "source": []
  },
  {
   "cell_type": "markdown",
   "metadata": {},
   "source": [
    "#### <font color=\"blue\">Circuit Implementation</font> - the below example implements the above circuit.\n",
    "- **Copy and Run** the code base below and step through the circuit to gain intuition about its behavior.\n",
    "- **Observe** the code that implements the QCEngine **<font color=\"red\">if a < 0 then b += 1</font>** - **this is important to understand**..\n",
    "\n",
    "> - Peruse the binary value of the various registers during the circuit flow - make sure you understand what's happening.\n",
    "\n",
    "> ### <font color=\"red\">Full Screen Mode</font>:\n",
    "\n",
    "> - https://oreilly-qc.github.io?p=5-4"
   ]
  },
  {
   "cell_type": "raw",
   "metadata": {},
   "source": [
    "// Programming Quantum Computers\n",
    "//   by Eric Johnston, Nic Harrigan and Mercedes Gimeno-Segovia\n",
    "//   O'Reilly Media\n",
    "\n",
    "// To run this online, go to http://oreilly-qc.github.io?p=5-4\n",
    "\n",
    "// In this sample, b will be incremented, but ONLY\n",
    "// for terms where a is less than 3\n",
    "\n",
    "// Initialize\n",
    "var num_qubits = 6;\n",
    "qc.reset(num_qubits);\n",
    "var a = qint.new(3, 'a');\n",
    "var b = qint.new(3, 'b');\n",
    "\n",
    "// Circuit Prepare Phase\n",
    "qc.label('a = (1, 5)');\n",
    "a.write(1);\n",
    "a.hadamard(0x4);\n",
    "qc.label('');\n",
    "\n",
    "// Read the q_register A after the Prep Phase\n",
    "a.read();\n",
    "\n",
    "qc.label('b = (1, 3)');\n",
    "b.write(1);\n",
    "b.hadamard(0x2);\n",
    "b.phase(45, 0x2);\n",
    "qc.label('');\n",
    "\n",
    "// Read both q_registers after the Prep Phase\n",
    "a.read();\n",
    "b.read();\n",
    "\n",
    "// Subtract 3 from the A register using the -= Operation and 2's Complement Encoding\n",
    "//  0   1   2   3  -4  -3  -2  -1\n",
    "// 000 001 010 011 100 101 110 111\n",
    "\n",
    "// a -= 3 : Perform the -= Operation\n",
    "// Read the value as 2's complement above\n",
    "qc.label('a -= 3, 2s Comp');\n",
    "a.subtract(3);\n",
    "qc.label('');\n",
    "\n",
    "// Read the q_register A after the subtraction\n",
    "a.read();\n",
    "\n",
    "qc.nop();\n",
    "\n",
    "// Execut conditional logic\n",
    "// if a < 3 then b += 1\n",
    "\n",
    "qc.label('if (a < 0) then b++');\n",
    "b.add(1, a.bits(0x4));\n",
    "qc.label('');\n",
    "qc.nop();\n",
    "\n",
    "// Execute reads of both registers for intuition sake \n",
    "a.read();\n",
    "b.read();\n",
    "\n",
    "// Add three to A using the += operator\n",
    "qc.label('a += 3');\n",
    "a.add(3);\n",
    "qc.label('');\n",
    "\n",
    "\n",
    "// Execute reads for intuition sake \n",
    "a.read();\n",
    "b.read();\n",
    "\n"
   ]
  },
  {
   "cell_type": "markdown",
   "metadata": {},
   "source": [
    "> ### <font color=\"red\">Full Screen Mode</font>:\n",
    "\n",
    "> - https://oreilly-qc.github.io?p=5-4"
   ]
  },
  {
   "cell_type": "markdown",
   "metadata": {},
   "source": [
    "# <font color=\"blue\">QCEngine</font>"
   ]
  },
  {
   "cell_type": "code",
   "execution_count": 1,
   "metadata": {
    "scrolled": false
   },
   "outputs": [
    {
     "data": {
      "text/html": [
       "\n",
       "        <iframe\n",
       "            width=\"900\"\n",
       "            height=\"900\"\n",
       "            src=\"https://oreilly-qc.github.io?p=5-4\"\n",
       "            frameborder=\"0\"\n",
       "            allowfullscreen\n",
       "        ></iframe>\n",
       "        "
      ],
      "text/plain": [
       "<IPython.lib.display.IFrame at 0x212cec14940>"
      ]
     },
     "execution_count": 1,
     "metadata": {},
     "output_type": "execute_result"
    }
   ],
   "source": [
    "from IPython.display import IFrame\n",
    "IFrame(src='https://oreilly-qc.github.io?p=5-4', width=900, height=900)"
   ]
  },
  {
   "cell_type": "code",
   "execution_count": null,
   "metadata": {},
   "outputs": [],
   "source": []
  },
  {
   "cell_type": "markdown",
   "metadata": {},
   "source": [
    "# <font color=\"blue\">Qiskit</font> Run #1\n",
    "\n",
    "- Execute the below circuit multiple times in Qiskit and note the differences, similarities, and behaviors.\n",
    "- **The first run** will **not** execute any of the **<font color=\"red\">conditional</font>** operators, but will show the unaltered values of each q_register.\n",
    "- **The second run** will execute the **<font color=\"red\">conditional</font>** Operators but due to the qubits in superposition, it likely won't match the previous run - this is due to Qiskit being designed to run on actual quantum hardware. Once can only inspect intermediate results in a simulator.\n",
    "\n",
    "<BR>\n",
    "**REMINDER - Nuanced return values**: Qiskit and MSB's vs LSB's (Continuous circuits are straight forward - but must be reversed. Multiple registers on the other hand can create confusion, and the individual ones must be reversed as well, plus the registers are in LIFO order)\n",
    "    \n",
    "- **The qubits must be measured** to return an intelligible overall value for the **<font color=\"red\">conditional</font>** Operators. \n",
    "    \n",
    "> **NOTE**: QuantumCircuit(q, v) means \"add q, then add v\" (v is more significant, and the left tensor). \n",
    "    \n",
    "**R&D on Qiskit's ordering of curcuit return values**:     \n",
    "- https://quantumcomputing.stackexchange.com/questions/8893/why-is-the-order-reversed-on-measurement\n",
    "- https://github.com/Qiskit/qiskit-terra/issues/1148\n",
    "    \n",
    "    \n",
    "    "
   ]
  },
  {
   "cell_type": "markdown",
   "metadata": {},
   "source": [
    "### <font color=\"blue\">Run this entire function multiple times and observe the variant outputs after each iteration.</font>\n",
    "- a sample run is below, however, the **operators have been disabled** so you can observe the value of the registers post each preparation phase.\n",
    "\n",
    "<BR>\n",
    "\n",
    "   \n",
    "![Conditional Execution](img/ConditionalExecution.png \"Conditional Execution\")\n",
    "\n"
   ]
  },
  {
   "cell_type": "markdown",
   "metadata": {},
   "source": [
    "### Reminder: 8-bit Binary Table\n",
    "<BR>\n",
    "    \n",
    "![binary-table_0-15-NEW](img/binary-table_0-15-NEW.png \"binary-table_0-15-NEW\")"
   ]
  },
  {
   "cell_type": "code",
   "execution_count": 15,
   "metadata": {},
   "outputs": [
    {
     "name": "stdout",
     "output_type": "stream",
     "text": [
      "\n",
      "\n",
      "                 Binary Positions:  4 2 1\n",
      "                                    -----\n",
      "Classical Register-A Measurements:  1 0 1\n",
      "\n",
      "\n",
      "                 Binary Positions:  4 2 1\n",
      "                                    ----\n",
      "Classical Register-B Measurements:  0 1 1\n",
      "\n",
      "\n"
     ]
    },
    {
     "data": {
      "image/png": "[encoded data removed]",
      "text/plain": [
       "<Figure size 785.008x806.68 with 1 Axes>"
      ]
     },
     "execution_count": 15,
     "metadata": {},
     "output_type": "execute_result"
    }
   ],
   "source": [
    "## Programming Quantum Computers\n",
    "##   by Eric Johnston, Nic Harrigan and Mercedes Gimeno-Segovia\n",
    "##   O'Reilly Media\n",
    "##\n",
    "## More samples like this can be found at http://oreilly-qc.github.io\n",
    "##\n",
    "## A complete notebook of all Chapter 5 samples (including this one) can be found at\n",
    "##  https://github.com/oreilly-qc/oreilly-qc.github.io/tree/master/samples/Qiskit\n",
    "\n",
    "from qiskit import QuantumCircuit, QuantumRegister, ClassicalRegister, execute, Aer, IBMQ, BasicAer\n",
    "import math\n",
    "## Uncomment the next line to see diagrams when running in a notebook\n",
    "#%matplotlib inline\n",
    "\n",
    "## Example 5-4: Quantum conditional execution\n",
    "\n",
    "## Note that this looks different from the gates in the book, because\n",
    "## we're building the operations from Toffoli gates\n",
    "\n",
    "# Set up the program\n",
    "a = QuantumRegister(3, name='a')\n",
    "b = QuantumRegister(3, name='b')\n",
    "scratch = QuantumRegister(1, name='scratch')\n",
    "\n",
    "# Setup SIX Classical Registers\n",
    "output_a0 = ClassicalRegister(1, name='output_a0')\n",
    "output_a1 = ClassicalRegister(1, name='output_a1')\n",
    "output_a2 = ClassicalRegister(1, name='output_a2')\n",
    "output_b0 = ClassicalRegister(1, name='output_b0')\n",
    "output_b1 = ClassicalRegister(1, name='output_b1')\n",
    "output_b2 = ClassicalRegister(1, name='output_b2')\n",
    "\n",
    "# qc = QuantumCircuit(a, b, scratch)\n",
    "qc = QuantumCircuit(a, b, scratch, output_a0, output_a1, output_a2, output_b0, output_b1, output_b2)\n",
    "\n",
    "\n",
    "def main():\n",
    "    ## initialization\n",
    "    qc.x(a[0])\n",
    "    qc.h(a[2])\n",
    "    qc.x(b[0])\n",
    "    qc.h(b[1])\n",
    "    qc.rz(math.radians(90), b[1])\n",
    "    qc.barrier()\n",
    "    \n",
    "    ## Increment - This are disabled and will be executed in the next section / iteration.\n",
    "    #\n",
    "    # add_int(a, -3)\n",
    "    # qc.barrier()\n",
    "    # add_int(b, 1, [a[2]])\n",
    "    # qc.barrier()\n",
    "    # add_int(a, 3)\n",
    "\n",
    "    \n",
    "    \n",
    "###############################################\n",
    "## Some utility functions\n",
    "\n",
    "def add_squared_qint(qdest, rhs, condition_qubits=None):\n",
    "    if condition_qubits is None:\n",
    "        condition_qubits = []\n",
    "    for bit in range(len(rhs)):\n",
    "        slideMask = list(set(condition_qubits + [rhs[bit]]))\n",
    "        add_qint(qdest, rhs, slideMask, bit);\n",
    "\n",
    "def add_qint(qdest, rhs, condition_qubits=None, shiftRHS=0):\n",
    "    if condition_qubits is None:\n",
    "        condition_qubits = []\n",
    "    for bit in range(len(rhs)):\n",
    "        add_int(qdest, 1 << bit, list(set([rhs[bit]] + condition_qubits)), shiftRHS)\n",
    "\n",
    "def add_int(qdest, rhs, condition_qubits=None, shiftRHS=0):\n",
    "    if condition_qubits is None:\n",
    "        condition_qubits = []\n",
    "    reverse_to_subtract = False\n",
    "    if rhs == 0:\n",
    "        return\n",
    "    elif rhs < 0:\n",
    "        rhs = -rhs\n",
    "        reverse_to_subtract = True\n",
    "    rhs <<= shiftRHS\n",
    "    ops = []\n",
    "    add_val = int(rhs)\n",
    "    condition_mask = (1 << len(qdest)) - 1\n",
    "\n",
    "    add_val_mask = 1\n",
    "    while add_val_mask <= add_val:\n",
    "        cmask = condition_mask & ~(add_val_mask - 1)\n",
    "        if add_val_mask & add_val:\n",
    "            add_shift_mask = 1 << (len(qdest) - 1)\n",
    "            while add_shift_mask >= add_val_mask:\n",
    "                cmask &= ~add_shift_mask\n",
    "                ops.append((add_shift_mask, cmask))\n",
    "                add_shift_mask >>= 1\n",
    "        condition_mask &= ~add_val_mask\n",
    "        add_val_mask <<= 1\n",
    "    if reverse_to_subtract:\n",
    "        ops.reverse()\n",
    "    for inst in ops:\n",
    "        op_qubits = [x for x in condition_qubits]\n",
    "        mask = 1\n",
    "        for i in range(len(qdest)):\n",
    "            if inst[1] & (1 << i):\n",
    "                op_qubits.append(qdest[i])\n",
    "        for i in range(len(qdest)):\n",
    "            if inst[0] & (1 << i):\n",
    "                op_qubits.append(qdest[i])\n",
    "        multi_cx(op_qubits)\n",
    "\n",
    "def multi_cz(qubits):\n",
    "    ## This will perform a CCCCCZ on as many qubits as we want,\n",
    "    ## as long as we have enough scratch qubits\n",
    "    multi_cx(qubits, do_cz=True)\n",
    "\n",
    "def multi_cx(qubits, do_cz=False):\n",
    "    ## This will perform a CCCCCX with as many conditions as we want,\n",
    "    ## as long as we have enough scratch qubits\n",
    "    ## The last qubit in the list is the target.\n",
    "    target = qubits[-1]\n",
    "    conds = qubits[:-1]\n",
    "    scratch_index = 0\n",
    "    ops = []\n",
    "    while len(conds) > 2:\n",
    "        new_conds = []\n",
    "        for i in range(len(conds)//2):\n",
    "            ops.append((conds[i * 2], conds[i * 2 + 1], scratch[scratch_index]))\n",
    "            new_conds.append(scratch[scratch_index])\n",
    "            scratch_index += 1\n",
    "        if len(conds) & 1:\n",
    "            new_conds.append(conds[-1])\n",
    "        conds = new_conds\n",
    "    for op in ops:\n",
    "        qc.ccx(op[0], op[1], op[2])\n",
    "    if do_cz:\n",
    "        qc.h(target)\n",
    "    if len(conds) == 0:\n",
    "        qc.x(target)\n",
    "    elif len(conds) == 1:\n",
    "        qc.cx(conds[0], target)\n",
    "    else:\n",
    "        qc.ccx(conds[0], conds[1], target)\n",
    "    if do_cz:\n",
    "        qc.h(target)\n",
    "    ops.reverse()\n",
    "    for op in ops:\n",
    "        qc.ccx(op[0], op[1], op[2])\n",
    "\n",
    "        \n",
    "# Execute the main function        \n",
    "main()\n",
    "\n",
    "\n",
    "# Measure the Qubits from quantum register 'a' into classical registers (0-2)\n",
    "qc.measure(a[0], output_a0)\n",
    "qc.measure(a[1], output_a1)\n",
    "qc.measure(a[2], output_a2)\n",
    "\n",
    "# Measure the Qubits from quantum register 'b' into classical registers (0-2)\n",
    "qc.measure(b[0], output_b0)\n",
    "qc.measure(b[1], output_b1)\n",
    "qc.measure(b[2], output_b2)\n",
    "\n",
    "\n",
    "## That's the program. Everything below runs and draws it.\n",
    "\n",
    "backend = BasicAer.get_backend('statevector_simulator')\n",
    "job = execute(qc, backend)\n",
    "result = job.result()\n",
    "\n",
    "outputstate = result.get_statevector(qc, decimals=3)\n",
    "\n",
    "# Fetch the counts and print out the classical measurements in order (l->R) of each q-register (a & b)       \n",
    "# These counts are in reverse order as a whole and must be corrected.\n",
    "counts = result.get_counts(qc)\n",
    "\n",
    "\n",
    "# Rearrange the counts in the order we need them\n",
    "for k in counts:\n",
    "    binary_number = ''.join(reversed(k))       \n",
    "  \n",
    "\n",
    "# \n",
    "# Debug\n",
    "# print(\"Binary Number: \", binary_number)    \n",
    "    \n",
    "    \n",
    "# Set up the binary numbers of each c-register (a & b) - reversing each individual register using\n",
    "# the slice technique '[::-1]'.        \n",
    "c_register_a = binary_number[0 : 5][::-1]\n",
    "c_register_b = binary_number[6 : 11][::-1] \n",
    "    \n",
    "    \n",
    "# Printing classical register values for intuitions sake    \n",
    "print(\"\\n\")  \n",
    "print(\"                 Binary Positions:  4 2 1\")    \n",
    "print(\"                                    -----\") \n",
    "print(\"Classical Register-A Measurements: \", c_register_a)  \n",
    "print(\"\\n\")\n",
    "print(\"                 Binary Positions:  4 2 1\")    \n",
    "print(\"                                    ----\") \n",
    "print(\"Classical Register-B Measurements: \", c_register_b)  \n",
    "print(\"\\n\")\n",
    "\n",
    "qc.draw(output='mpl')        # draw the circuit\n",
    "\n"
   ]
  },
  {
   "cell_type": "code",
   "execution_count": null,
   "metadata": {},
   "outputs": [],
   "source": []
  },
  {
   "cell_type": "markdown",
   "metadata": {},
   "source": [
    "# <font color=\"blue\">Qiskit</font> Run # 2\n",
    "\n",
    "- Execute the same circuit (albit in pieces) multiple times, but this time the **<font color=\"red\">conditional</font>** operator **gets** executed.\n",
    "- Due to the qubits in superposition, it likely won't match the previous run. \n",
    "- Make sure to run the whole circuit each time to avoid run pollution.\n",
    "\n",
    "- **use this codebase as inspiration for the HW.**\n"
   ]
  },
  {
   "cell_type": "markdown",
   "metadata": {},
   "source": [
    "### <font color=\"blue\">Misc Utility Functions</font>\n",
    "#### <font color=\"red\">NOTE</font>: Disregard the complexity of these helper functions - they can safely be ignored, just run them."
   ]
  },
  {
   "cell_type": "code",
   "execution_count": 19,
   "metadata": {},
   "outputs": [],
   "source": [
    "###############################################\n",
    "## Some utility functions\n",
    "\n",
    "def add_squared_qint(qdest, rhs, condition_qubits=None):\n",
    "    if condition_qubits is None:\n",
    "        condition_qubits = []\n",
    "    for bit in range(len(rhs)):\n",
    "        slideMask = list(set(condition_qubits + [rhs[bit]]))\n",
    "        add_qint(qdest, rhs, slideMask, bit);\n",
    "\n",
    "def add_qint(qdest, rhs, condition_qubits=None, shiftRHS=0):\n",
    "    if condition_qubits is None:\n",
    "        condition_qubits = []\n",
    "    for bit in range(len(rhs)):\n",
    "        add_int(qdest, 1 << bit, list(set([rhs[bit]] + condition_qubits)), shiftRHS)\n",
    "\n",
    "def add_int(qdest, rhs, condition_qubits=None, shiftRHS=0):\n",
    "    if condition_qubits is None:\n",
    "        condition_qubits = []\n",
    "    reverse_to_subtract = False\n",
    "    if rhs == 0:\n",
    "        return\n",
    "    elif rhs < 0:\n",
    "        rhs = -rhs\n",
    "        reverse_to_subtract = True\n",
    "    rhs <<= shiftRHS\n",
    "    ops = []\n",
    "    add_val = int(rhs)\n",
    "    condition_mask = (1 << len(qdest)) - 1\n",
    "\n",
    "    add_val_mask = 1\n",
    "    while add_val_mask <= add_val:\n",
    "        cmask = condition_mask & ~(add_val_mask - 1)\n",
    "        if add_val_mask & add_val:\n",
    "            add_shift_mask = 1 << (len(qdest) - 1)\n",
    "            while add_shift_mask >= add_val_mask:\n",
    "                cmask &= ~add_shift_mask\n",
    "                ops.append((add_shift_mask, cmask))\n",
    "                add_shift_mask >>= 1\n",
    "        condition_mask &= ~add_val_mask\n",
    "        add_val_mask <<= 1\n",
    "    if reverse_to_subtract:\n",
    "        ops.reverse()\n",
    "    for inst in ops:\n",
    "        op_qubits = [x for x in condition_qubits]\n",
    "        mask = 1\n",
    "        for i in range(len(qdest)):\n",
    "            if inst[1] & (1 << i):\n",
    "                op_qubits.append(qdest[i])\n",
    "        for i in range(len(qdest)):\n",
    "            if inst[0] & (1 << i):\n",
    "                op_qubits.append(qdest[i])\n",
    "        multi_cx(op_qubits)\n",
    "\n",
    "def multi_cz(qubits):\n",
    "    ## This will perform a CCCCCZ on as many qubits as we want,\n",
    "    ## as long as we have enough scratch qubits\n",
    "    multi_cx(qubits, do_cz=True)\n",
    "\n",
    "def multi_cx(qubits, do_cz=False):\n",
    "    ## This will perform a CCCCCX with as many conditions as we want,\n",
    "    ## as long as we have enough scratch qubits\n",
    "    ## The last qubit in the list is the target.\n",
    "    target = qubits[-1]\n",
    "    conds = qubits[:-1]\n",
    "    scratch_index = 0\n",
    "    ops = []\n",
    "    while len(conds) > 2:\n",
    "        new_conds = []\n",
    "        for i in range(len(conds)//2):\n",
    "            ops.append((conds[i * 2], conds[i * 2 + 1], scratch[scratch_index]))\n",
    "            new_conds.append(scratch[scratch_index])\n",
    "            scratch_index += 1\n",
    "        if len(conds) & 1:\n",
    "            new_conds.append(conds[-1])\n",
    "        conds = new_conds\n",
    "    for op in ops:\n",
    "        qc.ccx(op[0], op[1], op[2])\n",
    "    if do_cz:\n",
    "        qc.h(target)\n",
    "    if len(conds) == 0:\n",
    "        qc.x(target)\n",
    "    elif len(conds) == 1:\n",
    "        qc.cx(conds[0], target)\n",
    "    else:\n",
    "        qc.ccx(conds[0], conds[1], target)\n",
    "    if do_cz:\n",
    "        qc.h(target)\n",
    "    ops.reverse()\n",
    "    for op in ops:\n",
    "        qc.ccx(op[0], op[1], op[2])\n"
   ]
  },
  {
   "cell_type": "markdown",
   "metadata": {},
   "source": [
    "### <font color=\"blue\">Setup and Q_Circuit Design</font>"
   ]
  },
  {
   "cell_type": "code",
   "execution_count": 20,
   "metadata": {},
   "outputs": [],
   "source": [
    "## Example 5-4: Quantum conditional execution\n",
    "\n",
    "from qiskit import QuantumCircuit, QuantumRegister, ClassicalRegister, execute, Aer, IBMQ, BasicAer\n",
    "import math\n",
    "\n",
    "## Uncomment the next line to see diagrams when running in a notebook\n",
    "%matplotlib inline\n",
    "\n",
    "## Note that this looks different from the gates in the book, because\n",
    "## we're building the operations from Toffoli gates\n",
    "\n",
    "# Set up the program\n",
    "a = QuantumRegister(3, name='a')\n",
    "b = QuantumRegister(3, name='b')\n",
    "scratch = QuantumRegister(1, name='scratch')\n",
    "\n",
    "\n",
    "# Setup SIX Classical Registers\n",
    "output_a0 = ClassicalRegister(1, name='output_a0')\n",
    "output_a1 = ClassicalRegister(1, name='output_a1')\n",
    "output_a2 = ClassicalRegister(1, name='output_a2')\n",
    "output_b0 = ClassicalRegister(1, name='output_b0')\n",
    "output_b1 = ClassicalRegister(1, name='output_b1')\n",
    "output_b2 = ClassicalRegister(1, name='output_b2')\n",
    "\n",
    "# qc = QuantumCircuit(a, b, scratch)\n",
    "qc = QuantumCircuit(a, b, scratch, output_a0, output_a1, output_a2, output_b0, output_b1, output_b2)"
   ]
  },
  {
   "cell_type": "markdown",
   "metadata": {},
   "source": [
    "### <font color=\"blue\">Define Main FN and </font> **<font color=\"red\">Conditional</font>**  Operators  + Ordering of Execution\n",
    "- This exercise permits an interesting (and non-obvious)] insight into how QISKIT loads operators onto it's execution stack - **LIFO** (LAST in FIRST Out) and the **stack gets executed in that order**.\n",
    "\n",
    "![Conditional Execution](img/ConditionalExecution.png \"Conditional Execution\")"
   ]
  },
  {
   "cell_type": "code",
   "execution_count": 21,
   "metadata": {},
   "outputs": [],
   "source": [
    "def main():\n",
    "    \n",
    "    ## initialization Phase\n",
    "    \n",
    "    # Q_Register 'a'\n",
    "    qc.x(a[0])\n",
    "    qc.h(a[2])\n",
    "    \n",
    "    # Q_Register 'b'\n",
    "    qc.x(b[0])\n",
    "    qc.h(b[1])\n",
    "    qc.rz(math.radians(90), b[1])\n",
    "    \n",
    "    qc.barrier()\n",
    "    \n",
    "    ## Increment Phase \n",
    "    # Note: QISKIT's ordering of the circuits functions - Reverse Order placement on the execution stack.\n",
    "    # Intuition: QISKIT might execute in LIFO order of the stack - that would make sense.\n",
    "    \n",
    "    # (LIFO Exec #3) SUBTRACT 3 from Q_Register 'a'\n",
    "    add_int(a, -3)\n",
    "    \n",
    "    qc.barrier()\n",
    "    \n",
    "    # (LIFO Exec #2) CONDITIONAL LOGIC \n",
    "    add_int(b, 1, [a[2]])\n",
    "    \n",
    "    qc.barrier()\n",
    "    \n",
    "    # (LIFO Exec #1) Add 3 to Q_Register 'a'\n",
    "    add_int(a, 3)\n",
    "    \n",
    "    "
   ]
  },
  {
   "cell_type": "markdown",
   "metadata": {},
   "source": [
    "### <font color=\"blue\">Execute Main FN </font>"
   ]
  },
  {
   "cell_type": "code",
   "execution_count": 22,
   "metadata": {},
   "outputs": [],
   "source": [
    "main()"
   ]
  },
  {
   "cell_type": "markdown",
   "metadata": {},
   "source": [
    "### <font color=\"blue\">Measure Classical Register A </font>"
   ]
  },
  {
   "cell_type": "code",
   "execution_count": 23,
   "metadata": {},
   "outputs": [
    {
     "data": {
      "text/plain": [
       "<qiskit.circuit.instructionset.InstructionSet at 0x1e7be1d65f8>"
      ]
     },
     "execution_count": 23,
     "metadata": {},
     "output_type": "execute_result"
    }
   ],
   "source": [
    "# Measure the Qubits from quantum register 'a' into classical registers (0-2)\n",
    "qc.measure(a[0], output_a0)\n",
    "qc.measure(a[1], output_a1)\n",
    "qc.measure(a[2], output_a2)"
   ]
  },
  {
   "cell_type": "markdown",
   "metadata": {},
   "source": [
    "### <font color=\"blue\">Measure Classical Register B </font>"
   ]
  },
  {
   "cell_type": "code",
   "execution_count": 24,
   "metadata": {},
   "outputs": [
    {
     "data": {
      "text/plain": [
       "<qiskit.circuit.instructionset.InstructionSet at 0x1e7be2932b0>"
      ]
     },
     "execution_count": 24,
     "metadata": {},
     "output_type": "execute_result"
    }
   ],
   "source": [
    "# Measure the Qubits from quantum register 'b' into classical registers (0-3)\n",
    "qc.measure(b[0], output_b0)\n",
    "qc.measure(b[1], output_b1)\n",
    "qc.measure(b[2], output_b2)"
   ]
  },
  {
   "cell_type": "markdown",
   "metadata": {},
   "source": [
    "### <font color=\"blue\">Submit the Job to the SImulator Backend </font>"
   ]
  },
  {
   "cell_type": "code",
   "execution_count": 25,
   "metadata": {},
   "outputs": [],
   "source": [
    "## That's the program. Everything below runs and draws it.\n",
    "\n",
    "backend = BasicAer.get_backend('statevector_simulator')\n",
    "job = execute(qc, backend)\n",
    "result = job.result()"
   ]
  },
  {
   "cell_type": "markdown",
   "metadata": {},
   "source": [
    "### <font color=\"blue\">Printout Classical Registers and Circuit</font>\n",
    "- Pay special attention to the **Classical Register A** - that is where the results of the **<font color=\"red\">conditional</font>**  Operators will reside.\n",
    "- Since we cannot look at the intermediate results of the **Prepare** phase, we do not know the values of the qubits in superposition, only the overall classical result after measurement contained in the **Classical Register A**."
   ]
  },
  {
   "cell_type": "code",
   "execution_count": 26,
   "metadata": {},
   "outputs": [
    {
     "name": "stdout",
     "output_type": "stream",
     "text": [
      "\n",
      "\n",
      "                 Binary Positions:          4 2 1\n",
      "                                            -----\n",
      "Classical Register-A Measurements: (CondX)  1 0 1\n",
      "\n",
      "\n",
      "                 Binary Positions:  4 2 1\n",
      "                                    ----\n",
      "Classical Register-B Measurements:  0 0 1\n",
      "\n",
      "\n"
     ]
    },
    {
     "data": {
      "image/png": "[encoded data removed]",
      "text/plain": [
       "<Figure size 1447.21x806.68 with 1 Axes>"
      ]
     },
     "execution_count": 26,
     "metadata": {},
     "output_type": "execute_result"
    }
   ],
   "source": [
    "outputstate = result.get_statevector(qc, decimals=3)\n",
    "\n",
    "# Fetch the counts and print out the classical measurements in order (l->R) of each q-register (a & b)       \n",
    "# These counts are in reverse order as a whole and must be corrected.\n",
    "counts = result.get_counts(qc)\n",
    "\n",
    "\n",
    "# Rearrange the counts in the order we need them\n",
    "for k in counts:\n",
    "    binary_number = ''.join(reversed(k))       \n",
    "  \n",
    "\n",
    "# Debug\n",
    "# print(\"Binary Number: \", binary_number)    \n",
    "    \n",
    "    \n",
    "# Set up the binary numbers of each c-register (a & b) - reversing each individual register using\n",
    "# the slice technique '[::-1]'.        \n",
    "c_register_a = binary_number[0 : 5][::-1]\n",
    "c_register_b = binary_number[6 : 11][::-1] \n",
    "    \n",
    "    \n",
    "# Printing classical register values for intuitions sake    \n",
    "print(\"\\n\")  \n",
    "print(\"                 Binary Positions:          4 2 1\")    \n",
    "print(\"                                            -----\") \n",
    "print(\"Classical Register-A Measurements: (CondX) \", c_register_a)  \n",
    "print(\"\\n\")\n",
    "print(\"                 Binary Positions:  4 2 1\")    \n",
    "print(\"                                    ----\") \n",
    "print(\"Classical Register-B Measurements: \", c_register_b)  \n",
    "print(\"\\n\")\n",
    "\n",
    "qc.draw(output='mpl')        # draw the circuit\n"
   ]
  },
  {
   "cell_type": "code",
   "execution_count": null,
   "metadata": {},
   "outputs": [],
   "source": []
  },
  {
   "cell_type": "markdown",
   "metadata": {},
   "source": [
    "# <font color=\"blue\">Qiskit</font> Run # 3\n",
    "\n",
    "- Execute the below circuit and this time observe **QISKIT's** statespace representation relative to **QCEngine's**\n",
    "\n",
    "### QISKIT:\n",
    "\n",
    "> ####  |<font color=\"red\">13></font> (0.5-0j)\n",
    "> ####  |<font color=\"red\">17></font> (0.5-0j)\n",
    "> ####  |<font color=\"red\">29></font> 0.5j\n",
    "> ####  |<font color=\"red\">33></font> 0.5j\n",
    "\n",
    "<BR>\n",
    "\n",
    "### QCEngine:\n",
    "![Conditional Execution](img/ConditionalExecution-StateSpaceSingleton.png \"Conditional Execution\")\n",
    "\n",
    "\n",
    "\n",
    "<BR>\n",
    "\n",
    "### Observe the conditional execution of only select parts of the state space:\n",
    "\n",
    "![Conditional Execution](img/ConditionalExecution-StateSpace.png \"Conditional Execution\")"
   ]
  },
  {
   "cell_type": "code",
   "execution_count": 27,
   "metadata": {},
   "outputs": [
    {
     "name": "stdout",
     "output_type": "stream",
     "text": [
      "QISKITs QuantumState Affected Qubits \n",
      "\n",
      "|13> (0.5-0j)\n",
      "|17> (0.5-0j)\n",
      "|29> 0.5j\n",
      "|33> 0.5j\n"
     ]
    },
    {
     "data": {
      "image/png": "[encoded data removed]",
      "text/plain": [
       "<Figure size 1326.81x445.48 with 1 Axes>"
      ]
     },
     "execution_count": 27,
     "metadata": {},
     "output_type": "execute_result"
    }
   ],
   "source": [
    "## Example 5-4: Quantum conditional execution\n",
    "\n",
    "## Note that this looks different from the gates in the book, because\n",
    "## we're building the operations from Toffoli gates\n",
    "\n",
    "# Set up the program\n",
    "a = QuantumRegister(3, name='a')\n",
    "b = QuantumRegister(3, name='b')\n",
    "scratch = QuantumRegister(1, name='scratch')\n",
    "qc = QuantumCircuit(a, b, scratch)\n",
    "\n",
    "def main():\n",
    "    ## initialization\n",
    "    qc.x(a[0])\n",
    "    qc.h(a[2])\n",
    "    qc.x(b[0])\n",
    "    qc.h(b[1])\n",
    "    qc.rz(math.radians(90), b[1])\n",
    "    qc.barrier()\n",
    "    \n",
    "    ## Increment\n",
    "    add_int(a, -3)\n",
    "    qc.barrier()\n",
    "    add_int(b, 1, [a[2]])\n",
    "    qc.barrier()\n",
    "    add_int(a, 3)\n",
    "\n",
    "###############################################\n",
    "## Some utility functions\n",
    "\n",
    "def add_squared_qint(qdest, rhs, condition_qubits=None):\n",
    "    if condition_qubits is None:\n",
    "        condition_qubits = []\n",
    "    for bit in range(len(rhs)):\n",
    "        slideMask = list(set(condition_qubits + [rhs[bit]]))\n",
    "        add_qint(qdest, rhs, slideMask, bit);\n",
    "\n",
    "def add_qint(qdest, rhs, condition_qubits=None, shiftRHS=0):\n",
    "    if condition_qubits is None:\n",
    "        condition_qubits = []\n",
    "    for bit in range(len(rhs)):\n",
    "        add_int(qdest, 1 << bit, list(set([rhs[bit]] + condition_qubits)), shiftRHS)\n",
    "\n",
    "def add_int(qdest, rhs, condition_qubits=None, shiftRHS=0):\n",
    "    if condition_qubits is None:\n",
    "        condition_qubits = []\n",
    "    reverse_to_subtract = False\n",
    "    if rhs == 0:\n",
    "        return\n",
    "    elif rhs < 0:\n",
    "        rhs = -rhs\n",
    "        reverse_to_subtract = True\n",
    "    rhs <<= shiftRHS\n",
    "    ops = []\n",
    "    add_val = int(rhs)\n",
    "    condition_mask = (1 << len(qdest)) - 1\n",
    "\n",
    "    add_val_mask = 1\n",
    "    while add_val_mask <= add_val:\n",
    "        cmask = condition_mask & ~(add_val_mask - 1)\n",
    "        if add_val_mask & add_val:\n",
    "            add_shift_mask = 1 << (len(qdest) - 1)\n",
    "            while add_shift_mask >= add_val_mask:\n",
    "                cmask &= ~add_shift_mask\n",
    "                ops.append((add_shift_mask, cmask))\n",
    "                add_shift_mask >>= 1\n",
    "        condition_mask &= ~add_val_mask\n",
    "        add_val_mask <<= 1\n",
    "    if reverse_to_subtract:\n",
    "        ops.reverse()\n",
    "    for inst in ops:\n",
    "        op_qubits = [x for x in condition_qubits]\n",
    "        mask = 1\n",
    "        for i in range(len(qdest)):\n",
    "            if inst[1] & (1 << i):\n",
    "                op_qubits.append(qdest[i])\n",
    "        for i in range(len(qdest)):\n",
    "            if inst[0] & (1 << i):\n",
    "                op_qubits.append(qdest[i])\n",
    "        multi_cx(op_qubits)\n",
    "\n",
    "def multi_cz(qubits):\n",
    "    ## This will perform a CCCCCZ on as many qubits as we want,\n",
    "    ## as long as we have enough scratch qubits\n",
    "    multi_cx(qubits, do_cz=True)\n",
    "\n",
    "def multi_cx(qubits, do_cz=False):\n",
    "    ## This will perform a CCCCCX with as many conditions as we want,\n",
    "    ## as long as we have enough scratch qubits\n",
    "    ## The last qubit in the list is the target.\n",
    "    target = qubits[-1]\n",
    "    conds = qubits[:-1]\n",
    "    scratch_index = 0\n",
    "    ops = []\n",
    "    while len(conds) > 2:\n",
    "        new_conds = []\n",
    "        for i in range(len(conds)//2):\n",
    "            ops.append((conds[i * 2], conds[i * 2 + 1], scratch[scratch_index]))\n",
    "            new_conds.append(scratch[scratch_index])\n",
    "            scratch_index += 1\n",
    "        if len(conds) & 1:\n",
    "            new_conds.append(conds[-1])\n",
    "        conds = new_conds\n",
    "    for op in ops:\n",
    "        qc.ccx(op[0], op[1], op[2])\n",
    "    if do_cz:\n",
    "        qc.h(target)\n",
    "    if len(conds) == 0:\n",
    "        qc.x(target)\n",
    "    elif len(conds) == 1:\n",
    "        qc.cx(conds[0], target)\n",
    "    else:\n",
    "        qc.ccx(conds[0], conds[1], target)\n",
    "    if do_cz:\n",
    "        qc.h(target)\n",
    "    ops.reverse()\n",
    "    for op in ops:\n",
    "        qc.ccx(op[0], op[1], op[2])\n",
    "\n",
    "main()\n",
    "\n",
    "## That's the program. Everything below runs and draws it.\n",
    "\n",
    "backend = BasicAer.get_backend('statevector_simulator')\n",
    "job = execute(qc, backend)\n",
    "result = job.result()\n",
    "\n",
    "outputstate = result.get_statevector(qc, decimals=3)\n",
    "\n",
    "print(\"QISKITs QuantumState Affected Qubits \\n\")\n",
    "for i,amp in enumerate(outputstate):\n",
    "    if abs(amp) > 0.000001:\n",
    "        print('|{}> {}'.format(i, amp))\n",
    "        \n",
    "        \n",
    "qc.draw(output='mpl')        # draw the circuit\n"
   ]
  },
  {
   "cell_type": "code",
   "execution_count": null,
   "metadata": {},
   "outputs": [],
   "source": []
  },
  {
   "cell_type": "markdown",
   "metadata": {},
   "source": [
    "# <font color=\"red\">Graded Exercises</font>  for use <font color=\"blue\">with structured courses.</font>"
   ]
  },
  {
   "cell_type": "markdown",
   "metadata": {},
   "source": [
    "#### In the previous QCEngine / Qiskit example(s), you randomly initialized a pair of quantum circuits with either a 1 or a five (and a 1 or a 3) respectively per each register (a or b). Register 'A' and 'B' could each represent 7 binary numbers.\n",
    "\n",
    "- You then used the  **<font color=\"red\">Conditional</font>** Operators as follows:\n",
    "\n",
    "### **<font color=\"blue\">Conditional Operator Behavior</font>**: \n",
    "\n",
    "<BR>\n",
    "    \n",
    "![Conditional Execution](img/conditional_execution.png \"Conditional Execution\")\n",
    "\n",
    "\n",
    "<BR>\n",
    "    \n",
    "> ### Given the above as inspiration, create the following in **<font color=\"red\">both</font> QCEngine / Qiskit** :\n",
    "- Construct the circuit below modeling it closely after the code bases in **<font color=\"red\">both</font> QCEngine / Qiskit** that you have been working with.\n",
    "> - **HINTs**: \n",
    "- it only requires small modifications in the code but you'll have to follow the execution closely and understand what it does.\n",
    "- Examine the circuit closely - there are only minor changes from the original code base.\n",
    "\n",
    "\n",
    "<BR>\n",
    "\n",
    "\n",
    "![Conditional Execution](img/QCondExec-HW.png \"Conditional Execution\")\n",
    "\n",
    "\n",
    "<BR>\n",
    "\n",
    "> **For Reference**:\n",
    "![Conditional Execution](img/ConditionalExecution.png \"Conditional Execution\")\n",
    "\n",
    "<BR>\n",
    "\n",
    "- Use one run each **without** the **<font color=\"red\">Conditional</font>** Operators to demonstrate the different values of the Prep-phase, as show (*for inspiration*) above. \n",
    "\n",
    "\n",
    "\n",
    "- **Then** use the **<font color=\"red\">Conditional</font>** Operators to demonstrate a version of the curcuit that executes the **<font color=\"red\">Conditional</font>** operators.\n",
    "\n",
    "\n",
    "\n",
    "<BR>\n"
   ]
  },
  {
   "cell_type": "markdown",
   "metadata": {},
   "source": [
    "##  <font color=\"blue\">Your QCEngine Code Base goes below:</font>\n",
    "- Use the Reads of the Measurements in the simulator to better follow the execution flow as in the examples."
   ]
  },
  {
   "cell_type": "code",
   "execution_count": null,
   "metadata": {},
   "outputs": [],
   "source": []
  },
  {
   "cell_type": "markdown",
   "metadata": {},
   "source": [
    "##  <font color=\"blue\">Your QISKIT Code Base goes below:</font>"
   ]
  },
  {
   "cell_type": "markdown",
   "metadata": {},
   "source": [
    "### **With<font color=\"red\">out</font>** the **<font color=\"red\">Conditional</font>** Operator"
   ]
  },
  {
   "cell_type": "code",
   "execution_count": null,
   "metadata": {},
   "outputs": [],
   "source": []
  },
  {
   "cell_type": "markdown",
   "metadata": {},
   "source": [
    "### **<font color=\"red\">With</font>** the **<font color=\"red\">Conditional</font>**  Operator"
   ]
  },
  {
   "cell_type": "code",
   "execution_count": null,
   "metadata": {},
   "outputs": [],
   "source": []
  },
  {
   "cell_type": "markdown",
   "metadata": {},
   "source": [
    "##  <font color=\"blue\">Why do we add back 3 after the circuit has completed</font>?"
   ]
  },
  {
   "cell_type": "markdown",
   "metadata": {},
   "source": [
    "### Your Answer:"
   ]
  },
  {
   "cell_type": "code",
   "execution_count": null,
   "metadata": {},
   "outputs": [],
   "source": []
  },
  {
   "cell_type": "markdown",
   "metadata": {},
   "source": [
    "![the-end](img/the-end.png \"the-end\")"
   ]
  }
 ],
 "metadata": {
  "kernelspec": {
   "display_name": "qcousins",
   "language": "python",
   "name": "qcousins"
  },
  "language_info": {
   "codemirror_mode": {
    "name": "ipython",
    "version": 3
   },
   "file_extension": ".py",
   "mimetype": "text/x-python",
   "name": "python",
   "nbconvert_exporter": "python",
   "pygments_lexer": "ipython3",
   "version": "3.7.1"
  }
 },
 "nbformat": 4,
 "nbformat_minor": 2
}
