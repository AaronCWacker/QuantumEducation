{
 "cells": [
  {
   "cell_type": "markdown",
   "metadata": {},
   "source": [
    "# Programming Quantum Computers\n",
    "- #### Hands-on Experiential Learning <font color=\"red\">for the Software Engineer</font>"
   ]
  },
  {
   "cell_type": "markdown",
   "metadata": {},
   "source": [
    "# Chapter Ch10_03\n",
    "# <font color=\"red\">Hands-on</font>:  <font color=\"blue\">Satisfiable 3-SAT</font> \n",
    "- #### The Generalized BSP Problem and Approach"
   ]
  },
  {
   "cell_type": "markdown",
   "metadata": {},
   "source": [
    "![QC_Programming-red](img/QC_Programming-red.png \"QC_Programming-red\")\n",
    "\n",
    "<BR>\n",
    "    \n",
    "<font color=\"red\">**Notice**</font>: All materials herein were <font color=\"red\">**curated**</font> by **Matthew R. Versaggi (profversaggi@gmail.com)** and are released into the open source to foster growth and welfare of expanding the Quantum Computing domain - the only obligation one incurs when using, copying, distributing or referencing this is to kindly reference the author and send me an email so I know how useful the material is to you.\n",
    "\n",
    "<font color=\"red\">**Notice**</font>: Python Code contributions for the Circle Plots are the work of **David Radcliffe**.\n",
    "\n",
    "## Pedagogical Approach: (<font color=\"red\">**Read this first !**</font>)\n",
    "\n",
    "This material is intended to educate **software engineers** in certain aspects of Quantum Computing, therefore its focus will be on conveying the conceptual ideas in a form digestible to them, and supporting it with exercises to reinforce those concepts. \n",
    "\n",
    "Because of that pedagogical approach, **this material won't lead with or heavily leverage the concepts and language indigenous to physics and math**, but only in those terms most easily digestible to the modern software engineer.\n",
    "\n",
    "This Jupyter Notebook is <font color=\"red\">**not intended as a stand alone educational vehicle**</font>  - it's meant to be accompanied by a decicated power point deck that contains the main concepts to be presented by an instructor - **it is intended as a vehicle for a hands on workshop environment to facilitate learning through a guided experience.**\n",
    "\n",
    "> **Note:-** Because of the above educational approach:\n",
    "1. There is a certain amount of basic Quantum Computing knowledge that is assumed.\n",
    "2. An active internet connection is **always** assumed.\n",
    "3. Online references/links will be provided where appropriate\n",
    "4. References to books will be made where appropriate\n",
    "5. Much of this material is **dense and detailed**, the reader is <font color=\"red\">**cautioned**</font> to be careful and slow to digest the *nuances* of the material.\n",
    "\n",
    "## What you will be exposed to - High level: \n",
    "\n",
    "- Software engineers in the Quantum Computing space need to **<font color=\"blue\">gain a mastery of the simulation frameworks and tools used to understand and solve problems quantumly</font>**. Under the hood, the **<font color=\"red\">simulators mathematically represent the \"Ideal\" manifestations of quantum hardware</font>** that (theoretically) the \"Actual\" quantum hardware would behave exactly like. For the software engineer, this is the preferred situation as it permits them to understand and solve problems w/out being bound to the limitations of the hardware as it matures.\n",
    "\n",
    "\n",
    "- Given the above, there are a host of technical concepts that need to be **<font color=\"red\">understood experientially</font>** - we'll intentionally employ a vendor / framework agnostic approach to focus on the delivery of concept understanding and intuition procurement as the main value-add.\n",
    "\n",
    "\n",
    "## Accompanying Text:\n",
    "\n",
    "<BR>\n",
    "\n",
    "<a href=\"https://www.amazon.com/Programming-Quantum-Computers-Essential-Algorithms/dp/1492039683\" target=\"_blank\"><img src=\"img/OreillyBookImage-small.png\" height=\"250\" align=left style=\"padding:15px;\"></a>\n",
    "\n",
    "\n",
    "> The core materials leveraged in this Jupyter Notebook comes from the following book, and is required reading to engage in the problem sets covered.\n",
    "\n",
    "> The problem sets contained here will be expanded versions of the exercises contained in the book for sake of gaining intuition about the particular concept in question through leveraging various 'other' frameworks, tools, and instruments indigenous to the quantum programming space. \n",
    "\n",
    "\n",
    "> The core idea is that the various \"simulators\" circuitry (underlying mathematical representations) is considered the \"Ideal\" at the time of this JNB's construction, and therefore are the bect tools we have to address the problems we are interested in. To avoid being constrained by any particular framework, tool set, and software instruments, the idea is to leverage a host of appropriate \"tools\" when addressing any particular concept, problem or issue to remaind technology agnostic, but concept and intuition rich.\n",
    "\n",
    "\n",
    "- **Note:** The problems explored are organized and ordered according to chapter.\n",
    "\n",
    "<BR>\n",
    "\n",
    "**<font color=\"red\" size=4>Notice</font>:** - Prior to embarking on this notebook the reader is **highly encouraged to procure a <font color=\"red\" size=4>reasonable</font> <font color=\"blue\" size=4>introduction</font>** to the following key programming (and circuit) frameworks used:\n",
    "\n",
    "0. <a href=\"https://oreilly-qc.github.io/\" target=\"_blank\"><font color=\"blue\" size=4>QCEngine</font></a>\n",
    "0. <a href=\"https://qiskit.org/textbook/preface.html\" target=\"_blank\"><font color=\"blue\" size=4>Qiskit Tutorial</font></a>, <a href=\"https://qiskit.org/\" target=\"_blank\"><font color=\"blue\" size=4>Qiskit Home</font></a>\n",
    "0. <a href=\"https://algassert.com/quirk\" target=\"_blank\"><font color=\"blue\">QUIRK</font></a>\n",
    "\n",
    "# <font color=\"red\">Example Problem(s):</font> \n",
    "\n",
    "**This example problem is archetypal** of how the exercises highlighted in the book can be expanded to include a host of other tools that help build understanding and intuition of the concepts being explored. \n",
    "\n",
    "- The <font color=\"blue\">QCEngine</font> is a staple, but the <font color=\"blue\">Bloch Sphere Playground Application</font>, the <font color=\"blue\">Quantum Gate Playground</font>, <font color=\"blue\">QUIRK</font>, and <font color=\"blue\">Qiskit</font> are also instructive to leverage when persuing intuition about the concept and will be often used."
   ]
  },
  {
   "cell_type": "markdown",
   "metadata": {},
   "source": [
    "##  Boolean Satisfiability Problem: <font color=\"blue\">Solution Generalization</font>\n",
    "\n",
    "<BR>\n",
    "    \n",
    "> ## EXAMPLE:  \n",
    ">> ## (<font color=\"blue\">a OR b</font>) <font color=\"red\">AND</font> (<font color=\"blue\">NOT a OR c</font>) <font color=\"red\">AND</font> (<font color=\"blue\">NOT b OR NOT c</font>) <font color=\"red\">AND</font> (<font color=\"blue\">a OR c</font>)\n",
    "\n",
    "\n",
    "## <font color=\"red\">General Recipe</font>:\n",
    "\n",
    "![BSP_Recipe](img/BSP_Recipe.png \"BSP_Recipe\")\n",
    "\n"
   ]
  },
  {
   "cell_type": "markdown",
   "metadata": {},
   "source": [
    "### <font color=\"red\">Exercise</font> : Boolean Satisfiability Problem: Generalized Approach <font color=\"red\">CircuitVerse</font>.\n",
    "- Launch the CircuitVerse Environment and input the **X** possible configurations to show which one(s) solves the problem."
   ]
  },
  {
   "cell_type": "markdown",
   "metadata": {},
   "source": [
    "## <font color=\"red\">Digital</font> <font color=\"blue\">Boolean Satisfiability Problem: Generalized Formula</font>\n",
    "\n",
    "> ## BSP Problem:  \n",
    ">> ## (<font color=\"blue\">a OR b</font>) <font color=\"red\">AND</font> (<font color=\"blue\">NOT a OR c</font>) <font color=\"red\">AND</font> (<font color=\"blue\">NOT b OR NOT c</font>) <font color=\"red\">AND</font> (<font color=\"blue\">a OR c</font>)\n",
    "\n",
    "<img style=\"float: left;\" src=\"img/BSP_GeneralizedSolution.png\">\n",
    "\n",
    "<BR><BR><BR><BR><BR><BR><BR><BR><BR><BR><BR><BR><BR><BR>\n",
    "\n",
    "\n",
    "> ### <font color=\"red\">CircuitVerse Example</font>: (BSP Generalized Solution) \n",
    "- https://circuitverse.org/simulator/edit/56832"
   ]
  },
  {
   "cell_type": "markdown",
   "metadata": {},
   "source": [
    "<img src=\"img/caveat-sign.png\"  align=\"left\"/>\n",
    "\n",
    "<BR><BR><BR><BR><BR><BR><BR><BR>\n",
    "    \n",
    "> ## The device can only be run **<font color=\"red\">once</font>** !!!\n"
   ]
  },
  {
   "cell_type": "markdown",
   "metadata": {},
   "source": [
    "## <font color=\"blue\">The Quantum Solution</font>:\n",
    "- (Required **<font color=\"red\">ONE</font>** runs to determine **a** solution)\n",
    "\n",
    "> ## BSP Problem:  \n",
    ">> ## (<font color=\"blue\">a OR b</font>) <font color=\"red\">AND</font> (<font color=\"blue\">NOT a OR c</font>) <font color=\"red\">AND</font> (<font color=\"blue\">NOT b OR NOT c</font>) <font color=\"red\">AND</font> (<font color=\"blue\">a OR c</font>)"
   ]
  },
  {
   "cell_type": "markdown",
   "metadata": {},
   "source": [
    "<BR>\n",
    "    \n",
    "![3-sat_problem-circuit](img/3-sat_problem-circuit.png \"3-sat_problem-circuit\")\n",
    "\n",
    "<BR>\n",
    "\n",
    "\n",
    "![3-sat_problem_Circles](img/3-sat_problem_Circles.png \"3-sat_problem_Circles\")\n",
    "\n",
    "<BR>"
   ]
  },
  {
   "cell_type": "markdown",
   "metadata": {},
   "source": [
    "### <font color=\"red\">Why does this work</font>?\n",
    "\n",
    "> **Notice**: While the **Digital** solution to this Boolean Satisfiability Problem took **<font color=\"red\">X</font>** runs to find the right set of input parameters that would could solve the problem (*assuming such a set existed*), the **Quantum** Solution only took  **<font color=\"red\">ONE</font>** run. \n",
    "\n",
    "- This is because when **each of the X qubits are put into superposition**, they **simultaneously** provide the states for the **ALL** possible (digital) input states to be tested in parallel in the quantum solution.\n",
    "\n"
   ]
  },
  {
   "cell_type": "markdown",
   "metadata": {},
   "source": [
    "### <font color=\"red\">Exercise</font> : Boolean Satisfiability Problem: General Recipe using <font color=\"blue\">QCEngine</font>.\n",
    "\n",
    "- Given the explanation of the general recipe above, run the example below and step through the behavior of the circuit to gain intuition (observe the behavior of the circle plots as well).\n",
    "- Be careful to expand output frame to a size where observing the circuits behavior is possible (it's tricky).\n",
    "- Notice a REQUIREMENT is that all clauses MUST be in superposition for computation."
   ]
  },
  {
   "cell_type": "raw",
   "metadata": {},
   "source": [
    "// Programming Quantum Computers\n",
    "//   by Eric Johnston, Nic Harrigan and Mercedes Gimeno-Segovia\n",
    "//   O'Reilly Media\n",
    "\n",
    "// To run this online, go to http://oreilly-qc.github.io?p=10-3\n",
    "// Note: This sample may vary slightly from the text in the book,\n",
    "// due to revisions or aesthetic tweaks.\n",
    "\n",
    "var num_qubits = 3;\n",
    "var num_ancilla = 4;\n",
    "\n",
    "qc.reset(num_qubits+num_ancilla);\n",
    "var reg = qint.new(num_qubits, 'reg');\n",
    "qc.write(0);\n",
    "\n",
    "\n",
    "// Put the QReg's into a quantum superposition\n",
    "\n",
    "qc.label('Superposition')\n",
    "qc.nop();\n",
    "reg.hadamard();\n",
    "qc.nop();\n",
    "qc.label('');\n",
    "qc.nop();\n",
    "\n",
    "\n",
    "qc.label('clause 1');\n",
    "qc.nop();\n",
    "bit_or(0x1,0x2,0x8);\n",
    "qc.nop();\n",
    "qc.label('');\n",
    "qc.nop();\n",
    "\n",
    "\n",
    "qc.label('clause 2');\n",
    "qc.nop();\n",
    "qc.not(0x1);\n",
    "bit_or(0x1,0x4,0x10);\n",
    "qc.not(0x1);\n",
    "qc.nop();\n",
    "qc.label('');\n",
    "qc.nop();\n",
    "\n",
    "\n",
    "qc.label('clause 3');\n",
    "qc.nop();\n",
    "qc.not(0x2|0x4);\n",
    "bit_or(0x2,0x4,0x20);\n",
    "qc.not(0x2|0x4);\n",
    "qc.nop();\n",
    "qc.label('');\n",
    "qc.nop();\n",
    "\n",
    "\n",
    "qc.label('clause 4');\n",
    "qc.nop();\n",
    "bit_or(0x1,0x4,0x40);\n",
    "qc.nop();\n",
    "qc.label('');\n",
    "qc.nop();\n",
    "\n",
    "\n",
    "// add some space in the diagram\n",
    "qc.label('');\n",
    "qc.nop();\n",
    "qc.nop();\n",
    "\n",
    "qc.label('flip phase');\n",
    "qc.nop();\n",
    "phase_and(0x8|0x10|0x20|0x40);\n",
    "qc.nop();\n",
    "qc.label('');\n",
    "qc.nop();\n",
    "\n",
    "\n",
    "// add some space in the diagram\n",
    "qc.label('');\n",
    "qc.nop();\n",
    "qc.nop();\n",
    "\n",
    "qc.label('inv clause 4');\n",
    "qc.nop();\n",
    "inv_bit_or(0x1,0x4,0x40);\n",
    "qc.nop();\n",
    "qc.label('');\n",
    "qc.nop();\n",
    "\n",
    "\n",
    "qc.label('inv clause 3');\n",
    "qc.nop();\n",
    "qc.not(0x2|0x4);\n",
    "inv_bit_or(0x2,0x4,0x20);\n",
    "qc.not(0x2|0x4);\n",
    "qc.nop();\n",
    "qc.label('');\n",
    "qc.nop();\n",
    "\n",
    "\n",
    "qc.label('inv clause 2');\n",
    "qc.nop();\n",
    "qc.not(0x1);\n",
    "inv_bit_or(0x1,0x4,0x10);\n",
    "qc.not(0x1);\n",
    "qc.nop();\n",
    "qc.label('');\n",
    "qc.nop();\n",
    "\n",
    "\n",
    "qc.label('inv clause 1');\n",
    "qc.nop();\n",
    "inv_bit_or(0x1,0x2,0x8);\n",
    "qc.nop();\n",
    "qc.label('');\n",
    "qc.nop();\n",
    "\n",
    "\n",
    "qc.label('Grover mirror');\n",
    "qc.nop();\n",
    "reg.Grover();\n",
    "qc.nop();\n",
    "qc.label('');\n",
    "qc.nop();\n",
    "\n",
    "\n",
    "\n",
    "//////////// Definitions\n",
    "\n",
    "// Define bit OR and inverse\n",
    "//\n",
    "function bit_or(q1, q2, out)\n",
    "{\n",
    "    qc.not(q1|q2);\n",
    "    qc.cnot(out,q1|q2);\n",
    "    qc.not(q1|q2|out);\n",
    "}\n",
    "\n",
    "function inv_bit_or(q1, q2, out)\n",
    "{\n",
    "    qc.not(q1|q2|out);\n",
    "    qc.cnot(out,q1|q2);\n",
    "    qc.not(q1|q2);\n",
    "}\n",
    "\n",
    "// Define phase AND\n",
    "//\n",
    "function phase_and(qubits)\n",
    "{\n",
    "    qc.cz(qubits);\n",
    "}\n",
    "\n",
    "\n"
   ]
  },
  {
   "cell_type": "markdown",
   "metadata": {},
   "source": [
    "> ### <font color=\"red\">Full Screen Mode</font>:\n",
    "\n",
    "> - https://oreilly-qc.github.io?p=10-3"
   ]
  },
  {
   "cell_type": "markdown",
   "metadata": {},
   "source": [
    "# <font color=\"blue\">QCEngine</font>"
   ]
  },
  {
   "cell_type": "code",
   "execution_count": 1,
   "metadata": {
    "scrolled": false
   },
   "outputs": [
    {
     "data": {
      "text/html": [
       "\n",
       "        <iframe\n",
       "            width=\"900\"\n",
       "            height=\"900\"\n",
       "            src=\"https://oreilly-qc.github.io?p=10-3\"\n",
       "            frameborder=\"0\"\n",
       "            allowfullscreen\n",
       "        ></iframe>\n",
       "        "
      ],
      "text/plain": [
       "<IPython.lib.display.IFrame at 0x1a712675470>"
      ]
     },
     "execution_count": 1,
     "metadata": {},
     "output_type": "execute_result"
    }
   ],
   "source": [
    "from IPython.display import IFrame\n",
    "IFrame(src='https://oreilly-qc.github.io?p=10-3', width=900, height=900)"
   ]
  },
  {
   "cell_type": "markdown",
   "metadata": {},
   "source": [
    "# <font color=\"red\">Graded Exercises</font>  for use <font color=\"blue\">with structured courses.</font>\n",
    "> #### In the previous QCEngine example, you explored the circuit described below."
   ]
  },
  {
   "cell_type": "markdown",
   "metadata": {},
   "source": [
    "<BR>\n",
    "    \n",
    "![3-sat_problem-circuit](img/3-sat_problem-circuit.png \"3-sat_problem-circuit\")\n",
    "\n",
    "<BR>\n",
    "\n",
    "\n",
    "![3-sat_problem_Circles](img/3-sat_problem_Circles.png \"3-sat_problem_Circles\")\n",
    "\n",
    "<BR>"
   ]
  },
  {
   "cell_type": "markdown",
   "metadata": {},
   "source": [
    "### <font color=\"blue\">Your Task </font>\n",
    "\n",
    "> - Recreate the above **Phase Logic** Circuit into a **QUIRK**  Circuit\n",
    "\n",
    "\n",
    "<BR>\n",
    "\n",
    "### <font color=\"blue\">Phase Logic Circuit Gates</font>\n",
    "![phase-logic-gates](img/phase-logic-gates.png \"\")\n",
    "    \n",
    "<BR>\n",
    "    \n",
    "\n",
    "### <font color=\"blue\">Reference: Quantum Digital Logic Gates:</font>\n",
    "![digital-logic-gates-cnots](img/digital-logic-gates-cnots.png \"\")\n",
    "\n",
    "\n",
    ">> - #### Paste your solution code below for evaluation."
   ]
  },
  {
   "cell_type": "markdown",
   "metadata": {},
   "source": [
    "> ### <font color=\"red\">Full Screen Mode</font>:\n",
    "\n",
    "> - https://algassert.com/quirk#"
   ]
  },
  {
   "cell_type": "code",
   "execution_count": 1,
   "metadata": {},
   "outputs": [
    {
     "data": {
      "text/html": [
       "\n",
       "        <iframe\n",
       "            width=\"900\"\n",
       "            height=\"600\"\n",
       "            src=\"https://algassert.com/quirk#}\"\n",
       "            frameborder=\"0\"\n",
       "            allowfullscreen\n",
       "        ></iframe>\n",
       "        "
      ],
      "text/plain": [
       "<IPython.lib.display.IFrame at 0x1beb61e4dd8>"
      ]
     },
     "execution_count": 1,
     "metadata": {},
     "output_type": "execute_result"
    }
   ],
   "source": [
    "# QUIRK (Quantum Curcuit Simulator) \n",
    "from IPython.display import IFrame\n",
    "\n",
    "IFrame(src='https://algassert.com/quirk#}', width=900, height=600)"
   ]
  },
  {
   "cell_type": "markdown",
   "metadata": {},
   "source": [
    "### <font color=\"black\">Answer </font>:"
   ]
  },
  {
   "cell_type": "code",
   "execution_count": null,
   "metadata": {},
   "outputs": [],
   "source": []
  },
  {
   "cell_type": "markdown",
   "metadata": {},
   "source": [
    "![the-end](img/the-end.png \"the-end\")"
   ]
  }
 ],
 "metadata": {
  "kernelspec": {
   "display_name": "qcousins",
   "language": "python",
   "name": "qcousins"
  },
  "language_info": {
   "codemirror_mode": {
    "name": "ipython",
    "version": 3
   },
   "file_extension": ".py",
   "mimetype": "text/x-python",
   "name": "python",
   "nbconvert_exporter": "python",
   "pygments_lexer": "ipython3",
   "version": "3.7.1"
  }
 },
 "nbformat": 4,
 "nbformat_minor": 2
}
