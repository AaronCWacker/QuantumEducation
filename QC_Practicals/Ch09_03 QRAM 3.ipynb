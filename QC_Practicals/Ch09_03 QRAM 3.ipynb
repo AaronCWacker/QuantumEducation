{
 "cells": [
  {
   "cell_type": "markdown",
   "metadata": {},
   "source": [
    "# Programming Quantum Computers\n",
    "- #### Hands-on Experiential Learning <font color=\"red\">for the Software Engineer</font>"
   ]
  },
  {
   "cell_type": "markdown",
   "metadata": {},
   "source": [
    "# Chapter Ch09_03\n",
    "# <font color=\"red\">Hands-on</font>:  <font color=\"blue\">QRAM 3</font> \n",
    "- #### Amplitude Encoding for Vectors \n",
    "> - Conserving Scarce Resources"
   ]
  },
  {
   "cell_type": "markdown",
   "metadata": {},
   "source": [
    "![QC_Programming-red](img/QC_Programming-red.png \"QC_Programming-red\")\n",
    "\n",
    "<BR>\n",
    "    \n",
    "<font color=\"red\">**Notice**</font>: All materials herein were <font color=\"red\">**curated**</font> by **Matthew R. Versaggi (profversaggi@gmail.com)** and are released into the open source to foster growth and welfare of expanding the Quantum Computing domain - the only obligation one incurs when using, copying, distributing or referencing this is to kindly reference the author and send me an email so I know how useful the material is to you.\n",
    "\n",
    "<font color=\"red\">**Notice**</font>: Python Code contributions for the Circle Plots are the work of **David Radcliffe**.\n",
    "\n",
    "## Pedagogical Approach: (<font color=\"red\">**Read this first !**</font>)\n",
    "\n",
    "This material is intended to educate **software engineers** in certain aspects of Quantum Computing, therefore its focus will be on conveying the conceptual ideas in a form digestible to them, and supporting it with exercises to reinforce those concepts. \n",
    "\n",
    "Because of that pedagogical approach, **this material won't lead with or heavily leverage the concepts and language indigenous to physics and math**, but only in those terms most easily digestible to the modern software engineer.\n",
    "\n",
    "This Jupyter Notebook is <font color=\"red\">**not intended as a stand alone educational vehicle**</font>  - it's meant to be accompanied by a decicated power point deck that contains the main concepts to be presented by an instructor - **it is intended as a vehicle for a hands on workshop environment to facilitate learning through a guided experience.**\n",
    "\n",
    "> **Note:-** Because of the above educational approach:\n",
    "1. There is a certain amount of basic Quantum Computing knowledge that is assumed.\n",
    "2. An active internet connection is **always** assumed.\n",
    "3. Online references/links will be provided where appropriate\n",
    "4. References to books will be made where appropriate\n",
    "5. Much of this material is **dense and detailed**, the reader is <font color=\"red\">**cautioned**</font> to be careful and slow to digest the *nuances* of the material.\n",
    "\n",
    "## What you will be exposed to - High level: \n",
    "\n",
    "- Software engineers in the Quantum Computing space need to **<font color=\"blue\">gain a mastery of the simulation frameworks and tools used to understand and solve problems quantumly</font>**. Under the hood, the **<font color=\"red\">simulators mathematically represent the \"Ideal\" manifestations of quantum hardware</font>** that (theoretically) the \"Actual\" quantum hardware would behave exactly like. For the software engineer, this is the preferred situation as it permits them to understand and solve problems w/out being bound to the limitations of the hardware as it matures.\n",
    "\n",
    "\n",
    "- Given the above, there are a host of technical concepts that need to be **<font color=\"red\">understood experientially</font>** - we'll intentionally employ a vendor / framework agnostic approach to focus on the delivery of concept understanding and intuition procurement as the main value-add.\n",
    "\n",
    "\n",
    "## Accompanying Text:\n",
    "\n",
    "<BR>\n",
    "\n",
    "<a href=\"https://www.amazon.com/Programming-Quantum-Computers-Essential-Algorithms/dp/1492039683\" target=\"_blank\"><img src=\"img/OreillyBookImage-small.png\" height=\"250\" align=left style=\"padding:15px;\"></a>\n",
    "\n",
    "\n",
    "> The core materials leveraged in this Jupyter Notebook comes from the following book, and is required reading to engage in the problem sets covered.\n",
    "\n",
    "> The problem sets contained here will be expanded versions of the exercises contained in the book for sake of gaining intuition about the particular concept in question through leveraging various 'other' frameworks, tools, and instruments indigenous to the quantum programming space. \n",
    "\n",
    "\n",
    "> The core idea is that the various \"simulators\" circuitry (underlying mathematical representations) is considered the \"Ideal\" at the time of this JNB's construction, and therefore are the bect tools we have to address the problems we are interested in. To avoid being constrained by any particular framework, tool set, and software instruments, the idea is to leverage a host of appropriate \"tools\" when addressing any particular concept, problem or issue to remaind technology agnostic, but concept and intuition rich.\n",
    "\n",
    "\n",
    "- **Note:** The problems explored are organized and ordered according to chapter.\n",
    "\n",
    "<BR>\n",
    "\n",
    "**<font color=\"red\" size=4>Notice</font>:** - Prior to embarking on this notebook the reader is **highly encouraged to procure a <font color=\"red\" size=4>reasonable</font> <font color=\"blue\" size=4>introduction</font>** to the following key programming (and circuit) frameworks used:\n",
    "\n",
    "0. <a href=\"https://oreilly-qc.github.io/\" target=\"_blank\"><font color=\"blue\" size=4>QCEngine</font></a>\n",
    "0. <a href=\"https://qiskit.org/textbook/preface.html\" target=\"_blank\"><font color=\"blue\" size=4>Qiskit Tutorial</font></a>, <a href=\"https://qiskit.org/\" target=\"_blank\"><font color=\"blue\" size=4>Qiskit Home</font></a>\n",
    "0. <a href=\"https://algassert.com/quirk\" target=\"_blank\"><font color=\"blue\">QUIRK</font></a>\n",
    "\n",
    "# <font color=\"red\">Example Problem(s):</font> \n",
    "\n",
    "**This example problem is archetypal** of how the exercises highlighted in the book can be expanded to include a host of other tools that help build understanding and intuition of the concepts being explored. \n",
    "\n",
    "- The <font color=\"blue\">QCEngine</font> is a staple, but the <font color=\"blue\">Bloch Sphere Playground Application</font>, the <font color=\"blue\">Quantum Gate Playground</font>, <font color=\"blue\">QUIRK</font>, and <font color=\"blue\">Qiskit</font> are also instructive to leverage when persuing intuition about the concept and will be often used."
   ]
  },
  {
   "cell_type": "markdown",
   "metadata": {},
   "source": [
    "![RD](img/RD-AmplitudeEncoding.png \"\")\n",
    "\n",
    "<BR>\n",
    "\n",
    "![RD](img/RD-AmplitudeEncodingComparison.png \"\")\n",
    "\n",
    "<BR>\n",
    "\n",
    "![RD](img/RD-AmplitudeEncodingComp2.png \"\")\n",
    "\n",
    "> - Final Example has **Four Seven Point Registers** required to encode **Q7.7 Fixed-Point** representation."
   ]
  },
  {
   "cell_type": "markdown",
   "metadata": {},
   "source": [
    "## Preparing Amplitude-Encoded Vectors in QCEngine\n",
    "\n",
    "###  vector = <font color=\"blue\">[-1.0, 1.0, 1.0, 5.0, 5.0, 6.0, 6.0, 6.0]</font>;\n",
    "\n",
    "\n",
    "<BR>\n",
    "\n",
    "#### <font color=\"blue\">Circuit Implementation</font> - the below example implements the above circuit.\n",
    "- **Copy and Run** the code base below and **step** through the circuit to gain intuition about its behavior.\n",
    "- **Realize** that the entire **vector** is **now** encoded in the **Amplitude (Magnitude)** instead of **State Encoding**.\n",
    "- **Observe** the Circle plots various **magnitude** sizes to verify that the encoding happened intuitively.\n",
    "- **Use** this codebase as inspiration for the **homework.**"
   ]
  },
  {
   "cell_type": "raw",
   "metadata": {},
   "source": [
    "// Programming Quantum Computers\n",
    "//   by Eric Johnston, Nic Harrigan and Mercedes Gimeno-Segovia\n",
    "//   O'Reilly Media\n",
    "\n",
    "// To run this online, go to http://oreilly-qc.github.io?p=9-3\n",
    "// Note: This sample may vary slightly from the text in the book,\n",
    "// due to revisions or aesthetic tweaks.\n",
    "\n",
    "\n",
    "// NOTE: We have ensured that our input vector has \n",
    "// a length that is a power of two\n",
    "//\n",
    "// var vector = [-1.0, 1.0, 1.0, 5.0, 5.0, 6.0, 6.0, 6.0];\n",
    "var vector = [-1.0, 1.0, 1.0, 5.0, 5.0, 6.0, 6.0, 6.0];\n",
    "\n",
    "// Create register of right size to amplitude encode the vector\n",
    "//\n",
    "var num_qubits = Math.log2(vector.length);\n",
    "qc.reset(num_qubits);\n",
    "var amp_enc_reg = qint.new(num_qubits, 'amp_enc_reg');\n",
    "\n",
    "// Generate amplitude encoding in amp_enc_reg\n",
    "amplitude_encode(vector, amp_enc_reg);\n",
    "\n",
    "\n",
    "// This is the implementation of FN 'amplitude_encode'\n",
    "function amplitude_encode(vec, qreg)\n",
    "{\n",
    "    var num_qubits = qreg.numBits;\n",
    "    \n",
    "    // Initialize the Register\n",
    "    qc.label('Init QReg');\n",
    "    qc.nop();\n",
    "    qreg.write(0);\n",
    "    qc.nop();\n",
    "    qc.label('');\n",
    "    qc.nop();\n",
    "    \n",
    "    var reg_mask = (1 << num_qubits) - 1;\n",
    "    var vec_mag_sqr = 0.0;\n",
    "\n",
    "    for (var i = 0; i < vec.length; ++i)\n",
    "        vec_mag_sqr += vec[i] * vec[i];\n",
    "\n",
    "    var remaining_power = vec_mag_sqr;\n",
    "    var first_phase = (vec[0] >= 0) ? 0 : 180;\n",
    "\n",
    "    // First Phase NEQ Zero\n",
    "    //\n",
    "    if (first_phase != 0)\n",
    "    {\n",
    "        qc.label('1st Phase');\n",
    "        qreg.not(1);\n",
    "        qreg.phase(first_phase, 1);\n",
    "        qreg.not(1);\n",
    "        qc.label('');\n",
    "        qc.nop();\n",
    "    }\n",
    "\n",
    "    // Execute for the length of the vector: Phase Manipulations++\n",
    "    //\n",
    "    for (var i = 1; i < vec.length; ++i)\n",
    "    {\n",
    "        var power = vec[i] * vec[i];\n",
    "\n",
    "        if (power > 0.0)\n",
    "        {\n",
    "            var phase = (vec[i] >= 0) ? 0 : 180;\n",
    "            phase -= first_phase;\n",
    "\n",
    "            while (phase <= -180)\n",
    "                phase += 360;\n",
    "\n",
    "            var top_bit = 1;\n",
    "\n",
    "            while ((top_bit << 1) <= i)\n",
    "                top_bit <<= 1;\n",
    "\n",
    "            var cond_bits = reg_mask ^ top_bit;\n",
    "            var split = power / remaining_power;\n",
    "            var theta = 2 * Math.asin(Math.sqrt(split)) * 180 / Math.PI;\n",
    "            var not_mask = reg_mask ^ top_bit;\n",
    "            var cnot_mask = i ^ top_bit;\n",
    "\n",
    "            qc.label('Phase++');\n",
    "            if (phase == 180)\n",
    "                theta = -theta;\n",
    "            if (cnot_mask)\n",
    "                qc.cnot(cnot_mask, top_bit);\n",
    "            if (not_mask)\n",
    "                qc.not(not_mask);\n",
    "                \n",
    "            // Note the important Y-Rotation \n",
    "            qc.roty(theta, top_bit, cond_bits);\n",
    "            \n",
    "            if (phase != 0 && phase != 180)\n",
    "                qreg.cphase(phase);\n",
    "            if (not_mask)\n",
    "                qc.not(not_mask);\n",
    "            if (cnot_mask)\n",
    "                qc.cnot(cnot_mask, top_bit);\n",
    "            remaining_power -= power;\n",
    "            qc.label('');\n",
    "            qc.nop();    \n",
    "        }\n",
    "    }\n",
    "}\n"
   ]
  },
  {
   "cell_type": "markdown",
   "metadata": {},
   "source": [
    "> ### <font color=\"red\">Full Screen Mode</font>:\n",
    "\n",
    "> - https://oreilly-qc.github.io?p=9-3"
   ]
  },
  {
   "cell_type": "markdown",
   "metadata": {},
   "source": [
    "# <font color=\"blue\">QCEngine</font>"
   ]
  },
  {
   "cell_type": "code",
   "execution_count": 1,
   "metadata": {
    "scrolled": false
   },
   "outputs": [
    {
     "data": {
      "text/html": [
       "\n",
       "        <iframe\n",
       "            width=\"900\"\n",
       "            height=\"900\"\n",
       "            src=\"https://oreilly-qc.github.io?p=9-3\"\n",
       "            frameborder=\"0\"\n",
       "            allowfullscreen\n",
       "        ></iframe>\n",
       "        "
      ],
      "text/plain": [
       "<IPython.lib.display.IFrame at 0x1c9cac45e10>"
      ]
     },
     "execution_count": 1,
     "metadata": {},
     "output_type": "execute_result"
    }
   ],
   "source": [
    "from IPython.display import IFrame\n",
    "IFrame(src='https://oreilly-qc.github.io?p=9-3', width=900, height=900)"
   ]
  },
  {
   "cell_type": "markdown",
   "metadata": {},
   "source": [
    "# <font color=\"red\">Graded Exercises</font>  for use <font color=\"blue\">with structured courses.</font>\n",
    "> #### In the previous QCEngine example, you explored a circuit similar to the one described below."
   ]
  },
  {
   "cell_type": "markdown",
   "metadata": {},
   "source": [
    "![RD](img/RD-HWExercise.png \"\")"
   ]
  },
  {
   "cell_type": "markdown",
   "metadata": {},
   "source": [
    "### <font color=\"blue\">Task #1 </font>\n",
    "\n",
    "> Recreate the above simple **Amplitude Encoding** circuit in **QUIRK**.\n",
    "\n",
    "- Make sure your output resembles the above for vetting purposes. \n",
    "\n",
    "### HINTS:\n",
    "\n",
    "- This is the Input Vector that is used in QCEngine to create the above circuit\n",
    "> **var vector = [5.0, 1.0, -3.0, 7.0]**\n",
    "\n",
    "#### The Below will help w/the R(y) Degrees in QUIRK\n",
    "- pi/14.4\n",
    "- **-**pi/4.675\n",
    "- pi/1.6529\n",
    "\n",
    ">> - #### Paste your solution code below for evaluation."
   ]
  },
  {
   "cell_type": "markdown",
   "metadata": {},
   "source": [
    "> ### <font color=\"red\">If it helps</font>: remember that Pi radians is equal to 180 degrees \n",
    "- The below link is provided as a reference for the conversions.\n",
    "\n",
    "https://www.quia.com/jg/321176list.html"
   ]
  },
  {
   "cell_type": "markdown",
   "metadata": {},
   "source": [
    "### <font color=\"black\">Answer #1 </font>:"
   ]
  },
  {
   "cell_type": "code",
   "execution_count": null,
   "metadata": {},
   "outputs": [],
   "source": []
  },
  {
   "cell_type": "markdown",
   "metadata": {},
   "source": [
    "![the-end](img/the-end.png \"the-end\")"
   ]
  }
 ],
 "metadata": {
  "kernelspec": {
   "display_name": "qcousins",
   "language": "python",
   "name": "qcousins"
  },
  "language_info": {
   "codemirror_mode": {
    "name": "ipython",
    "version": 3
   },
   "file_extension": ".py",
   "mimetype": "text/x-python",
   "name": "python",
   "nbconvert_exporter": "python",
   "pygments_lexer": "ipython3",
   "version": "3.7.1"
  }
 },
 "nbformat": 4,
 "nbformat_minor": 2
}
