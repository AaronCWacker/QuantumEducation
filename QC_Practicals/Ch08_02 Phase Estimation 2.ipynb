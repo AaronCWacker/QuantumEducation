{
 "cells": [
  {
   "cell_type": "markdown",
   "metadata": {},
   "source": [
    "# Programming Quantum Computers\n",
    "- #### Hands-on Experiential Learning <font color=\"red\">for the Software Engineer</font>"
   ]
  },
  {
   "cell_type": "markdown",
   "metadata": {},
   "source": [
    "# Chapter Ch08_02\n",
    "# <font color=\"red\">Hands-on</font>:  <font color=\"blue\">Phase Estimation 2</font> \n",
    "- #### Full Circuit"
   ]
  },
  {
   "cell_type": "markdown",
   "metadata": {},
   "source": [
    "![QC_Programming-red](img/QC_Programming-red.png \"QC_Programming-red\")\n",
    "\n",
    "<BR>\n",
    "    \n",
    "<font color=\"red\">**Notice**</font>: All materials herein were <font color=\"red\">**curated**</font> by **Matthew R. Versaggi (profversaggi@gmail.com)** and are released into the open source to foster growth and welfare of expanding the Quantum Computing domain - the only obligation one incurs when using, copying, distributing or referencing this is to kindly reference the author and send me an email so I know how useful the material is to you.\n",
    "\n",
    "<font color=\"red\">**Notice**</font>: Python Code contributions for the Circle Plots are the work of **David Radcliffe**.\n",
    "\n",
    "## Pedagogical Approach: (<font color=\"red\">**Read this first !**</font>)\n",
    "\n",
    "This material is intended to educate **software engineers** in certain aspects of Quantum Computing, therefore its focus will be on conveying the conceptual ideas in a form digestible to them, and supporting it with exercises to reinforce those concepts. \n",
    "\n",
    "Because of that pedagogical approach, **this material won't lead with or heavily leverage the concepts and language indigenous to physics and math**, but only in those terms most easily digestible to the modern software engineer.\n",
    "\n",
    "This Jupyter Notebook is <font color=\"red\">**not intended as a stand alone educational vehicle**</font>  - it's meant to be accompanied by a decicated power point deck that contains the main concepts to be presented by an instructor - **it is intended as a vehicle for a hands on workshop environment to facilitate learning through a guided experience.**\n",
    "\n",
    "> **Note:-** Because of the above educational approach:\n",
    "1. There is a certain amount of basic Quantum Computing knowledge that is assumed.\n",
    "2. An active internet connection is **always** assumed.\n",
    "3. Online references/links will be provided where appropriate\n",
    "4. References to books will be made where appropriate\n",
    "5. Much of this material is **dense and detailed**, the reader is <font color=\"red\">**cautioned**</font> to be careful and slow to digest the *nuances* of the material.\n",
    "\n",
    "## What you will be exposed to - High level: \n",
    "\n",
    "- Software engineers in the Quantum Computing space need to **<font color=\"blue\">gain a mastery of the simulation frameworks and tools used to understand and solve problems quantumly</font>**. Under the hood, the **<font color=\"red\">simulators mathematically represent the \"Ideal\" manifestations of quantum hardware</font>** that (theoretically) the \"Actual\" quantum hardware would behave exactly like. For the software engineer, this is the preferred situation as it permits them to understand and solve problems w/out being bound to the limitations of the hardware as it matures.\n",
    "\n",
    "\n",
    "- Given the above, there are a host of technical concepts that need to be **<font color=\"red\">understood experientially</font>** - we'll intentionally employ a vendor / framework agnostic approach to focus on the delivery of concept understanding and intuition procurement as the main value-add.\n",
    "\n",
    "\n",
    "## Accompanying Text:\n",
    "\n",
    "<BR>\n",
    "\n",
    "<a href=\"https://www.amazon.com/Programming-Quantum-Computers-Essential-Algorithms/dp/1492039683\" target=\"_blank\"><img src=\"img/OreillyBookImage-small.png\" height=\"250\" align=left style=\"padding:15px;\"></a>\n",
    "\n",
    "\n",
    "> The core materials leveraged in this Jupyter Notebook comes from the following book, and is required reading to engage in the problem sets covered.\n",
    "\n",
    "> The problem sets contained here will be expanded versions of the exercises contained in the book for sake of gaining intuition about the particular concept in question through leveraging various 'other' frameworks, tools, and instruments indigenous to the quantum programming space. \n",
    "\n",
    "\n",
    "> The core idea is that the various \"simulators\" circuitry (underlying mathematical representations) is considered the \"Ideal\" at the time of this JNB's construction, and therefore are the bect tools we have to address the problems we are interested in. To avoid being constrained by any particular framework, tool set, and software instruments, the idea is to leverage a host of appropriate \"tools\" when addressing any particular concept, problem or issue to remaind technology agnostic, but concept and intuition rich.\n",
    "\n",
    "\n",
    "- **Note:** The problems explored are organized and ordered according to chapter.\n",
    "\n",
    "<BR>\n",
    "\n",
    "**<font color=\"red\" size=4>Notice</font>:** - Prior to embarking on this notebook the reader is **highly encouraged to procure a <font color=\"red\" size=4>reasonable</font> <font color=\"blue\" size=4>introduction</font>** to the following key programming (and circuit) frameworks used:\n",
    "\n",
    "0. <a href=\"https://oreilly-qc.github.io/\" target=\"_blank\"><font color=\"blue\" size=4>QCEngine</font></a>\n",
    "0. <a href=\"https://qiskit.org/textbook/preface.html\" target=\"_blank\"><font color=\"blue\" size=4>Qiskit Tutorial</font></a>, <a href=\"https://qiskit.org/\" target=\"_blank\"><font color=\"blue\" size=4>Qiskit Home</font></a>\n",
    "0. <a href=\"https://algassert.com/quirk\" target=\"_blank\"><font color=\"blue\">QUIRK</font></a>\n",
    "\n",
    "# <font color=\"red\">Example Problem(s):</font> \n",
    "\n",
    "**This example problem is archetypal** of how the exercises highlighted in the book can be expanded to include a host of other tools that help build understanding and intuition of the concepts being explored. \n",
    "\n",
    "- The <font color=\"blue\">QCEngine</font> is a staple, but the <font color=\"blue\">Bloch Sphere Playground Application</font>, the <font color=\"blue\">Quantum Gate Playground</font>, <font color=\"blue\">QUIRK</font>, and <font color=\"blue\">Qiskit</font> are also instructive to leverage when persuing intuition about the concept and will be often used."
   ]
  },
  {
   "cell_type": "markdown",
   "metadata": {},
   "source": [
    "![QFT](img/PE-FullCircuitCirclePlots.png \"QFT\")\n",
    "\n",
    "<BR>\n",
    "       \n",
    "    \n",
    "![QFT](img/PE-epH.png \"QFT\")\n",
    "\n",
    "<BR>\n",
    "    \n",
    "![QFT](img/PE-OutputRegister.png \"QFT\")\n",
    "\n",
    "<BR>\n",
    "    \n",
    "![QFT](img/PE-OutputRegister-8Qubits.png \"QFT\")\n",
    "\n",
    "<BR>    \n",
    "\n",
    "![QFT](img/PE-FullCircuitQCE-1.png \"QFT\")\n",
    "\n",
    "<BR>\n",
    "    \n",
    "#### Generalized Full Circuit    \n",
    "\n",
    "![QFT](img/PE-FullCircuit.png \"QFT\")"
   ]
  },
  {
   "cell_type": "markdown",
   "metadata": {},
   "source": [
    "#### <font color=\"blue\">Circuit Implementation</font> - the below example implements the above circuit.\n",
    "- **Copy and Run** the code base below and **step** through the circuit to gain intuition about its behavior.\n",
    "- Convince yourself that the output eigenphase produces the value corresponding to the angle we expect.\n",
    "- **Use** this codebase as inspiration for the **homework.**"
   ]
  },
  {
   "cell_type": "raw",
   "metadata": {},
   "source": [
    "// Programming Quantum Computers\n",
    "//   by Eric Johnston, Nic Harrigan and Mercedes Gimeno-Segovia\n",
    "//   O'Reilly Media\n",
    "\n",
    "// To run this online, go to http://oreilly-qc.github.io?p=8-2\n",
    "// Note: This sample may vary slightly from the text in the book,\n",
    "// due to revisions or aesthetic tweaks.\n",
    "\n",
    "// The fine print: Phasae estimation with only 3 output qubits\n",
    "\n",
    "function phase_est(q_in, q_out, cont_u)\n",
    "{\n",
    "    // Main phase estimation single run\n",
    "    // HAD the output register\n",
    "    q_out.had();\n",
    "\n",
    "    qc.nop();\n",
    "\n",
    "    // Apply conditional powers of u\n",
    "    for (var j = 0; j < q_out.numBits; j++) {\n",
    "        cont_u(q_out, q_in, 1 << j);\n",
    "        qc.nop();\n",
    "        qc.nop();\n",
    "    }\n",
    "    qc.nop();\n",
    "\n",
    "    // Inverse QFT on output register\n",
    "    q_out.invQFT();\n",
    "}\n",
    "\n",
    "\n",
    "//Specify the size of output register - determines precision\n",
    "// of our answer\n",
    "var m = 3;\n",
    "\n",
    "// Specify the size of input register that will specify\n",
    "// our eigenstate\n",
    "var n = 1;\n",
    "\n",
    "// Setup\n",
    "qc.reset(m + n);\n",
    "var qout = qint.new(m, 'output');\n",
    "var qin = qint.new(n, 'input');\n",
    "\n",
    "// Initialize output register all zeros\n",
    "qout.write(0);\n",
    "\n",
    "// Initialize input register as eigenstate of HAD\n",
    "qc.label('init reg');\n",
    "qin.write(0);\n",
    "qin.roty(-135);\n",
    "\n",
    "qc.nop();\n",
    "qc.label();\n",
    "qc.nop();\n",
    "\n",
    "// In this example, the starting state is not important because\n",
    "// out U has been chosen to have an eigenphase of 150 for all inputs.\n",
    "\n",
    "// Define our conditional unitary\n",
    "function cont_u(qcontrol, qtarget, control_count) {\n",
    "    \n",
    "    // In this example, the unitary chosen is a simple one which\n",
    "    // should have an eigenphase of 150 degrees for all inputs.\n",
    "    // By enabling single_op, we can perform multiple applications simply\n",
    "    // by rotating the phase farther.\n",
    "\n",
    "    // Perform the controlled unitary between q1 and q2 iter times\n",
    "    var theta = 150;\n",
    "    var single_op = true;\n",
    "    var q1 = qcontrol.bits(control_count);\n",
    "    var q2 = qtarget;\n",
    "    if (single_op)\n",
    "    {\n",
    "        qc.phase(-theta / 2 * control_count, q2, q1);\n",
    "        qc.cnot(q2,q1);\n",
    "        qc.phase(-theta * control_count, q2, q1);\n",
    "        qc.cnot(q2,q1);\n",
    "        qc.phase(-theta / 2 * control_count, q2, q1);\n",
    "    }\n",
    "    else\n",
    "    {\n",
    "        for (var i = 0; i < control_count; ++i)\n",
    "        {\n",
    "            qc.phase(-theta / 2, q2, q1);\n",
    "            qc.cnot(q2,q1);\n",
    "            qc.phase(-theta, q2, q1);\n",
    "            qc.cnot(q2,q1);\n",
    "            qc.phase(-theta / 2, q2, q1);\n",
    "        }\n",
    "    }\n",
    "}\n",
    "\n",
    "// Operate phase estimation primitive on registers\n",
    "qc.label('phase estimation');\n",
    "phase_est(qin, qout, cont_u);\n",
    "\n",
    "qc.label();\n",
    "qc.nop();\n",
    "\n",
    "// Read output register\n",
    "qout.read();\n",
    "\n",
    "\n"
   ]
  },
  {
   "cell_type": "markdown",
   "metadata": {},
   "source": [
    "> ### <font color=\"red\">Full Screen Mode</font>:\n",
    "\n",
    "> - https://oreilly-qc.github.io?p=8-2"
   ]
  },
  {
   "cell_type": "markdown",
   "metadata": {},
   "source": [
    "# <font color=\"blue\">QCEngine</font>"
   ]
  },
  {
   "cell_type": "code",
   "execution_count": 1,
   "metadata": {},
   "outputs": [
    {
     "data": {
      "text/html": [
       "\n",
       "        <iframe\n",
       "            width=\"900\"\n",
       "            height=\"900\"\n",
       "            src=\"https://oreilly-qc.github.io?p=8-2\"\n",
       "            frameborder=\"0\"\n",
       "            allowfullscreen\n",
       "        ></iframe>\n",
       "        "
      ],
      "text/plain": [
       "<IPython.lib.display.IFrame at 0x27929734908>"
      ]
     },
     "execution_count": 1,
     "metadata": {},
     "output_type": "execute_result"
    }
   ],
   "source": [
    "from IPython.display import IFrame\n",
    "IFrame(src='https://oreilly-qc.github.io?p=8-2', width=900, height=900)"
   ]
  },
  {
   "cell_type": "markdown",
   "metadata": {},
   "source": [
    "# <font color=\"red\">Graded Exercises</font>  for use <font color=\"blue\">with structured courses.</font>\n",
    "> #### In the previous QCEngine example, you explored the circuit described below."
   ]
  },
  {
   "cell_type": "markdown",
   "metadata": {},
   "source": [
    "![QFT](img/PE-FullCircuitQCE-1.png \"QFT\")"
   ]
  },
  {
   "cell_type": "markdown",
   "metadata": {},
   "source": [
    "### <font color=\"blue\">Question #1 </font>\n",
    "\n",
    "> - The above circuit was created using the stock QCEngine Functions for convenience, re-implement the circuit manually using the individual gates you have experience with thus far and vet it against the results observed above.\n",
    "\n",
    "- Paste your solution code below for evaluation."
   ]
  },
  {
   "cell_type": "markdown",
   "metadata": {},
   "source": [
    "### <font color=\"black\">Answer #1 </font>:"
   ]
  },
  {
   "cell_type": "code",
   "execution_count": null,
   "metadata": {},
   "outputs": [],
   "source": []
  },
  {
   "cell_type": "markdown",
   "metadata": {},
   "source": [
    "![the-end](img/the-end.png \"the-end\")"
   ]
  }
 ],
 "metadata": {
  "kernelspec": {
   "display_name": "qcousins",
   "language": "python",
   "name": "qcousins"
  },
  "language_info": {
   "codemirror_mode": {
    "name": "ipython",
    "version": 3
   },
   "file_extension": ".py",
   "mimetype": "text/x-python",
   "name": "python",
   "nbconvert_exporter": "python",
   "pygments_lexer": "ipython3",
   "version": "3.7.1"
  }
 },
 "nbformat": 4,
 "nbformat_minor": 2
}
