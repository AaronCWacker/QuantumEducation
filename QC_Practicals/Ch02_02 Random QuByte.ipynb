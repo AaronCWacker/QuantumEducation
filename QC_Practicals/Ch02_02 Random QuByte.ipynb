{
 "cells": [
  {
   "cell_type": "markdown",
   "metadata": {},
   "source": [
    "# Programming Quantum Computers\n",
    "- #### Hands-on Experiential Learning <font color=\"red\">for the Software Engineer</font>"
   ]
  },
  {
   "cell_type": "markdown",
   "metadata": {},
   "source": [
    "# Chapter Ch02_02\n",
    "# <font color=\"red\">Hands-on</font>:  <font color=\"blue\">A Perfectly Random Byte</font> "
   ]
  },
  {
   "cell_type": "markdown",
   "metadata": {},
   "source": [
    "![QC_Programming-red](img/QC_Programming-red.png \"QC_Programming-red\")\n",
    "\n",
    "<BR>\n",
    "    \n",
    "<font color=\"red\">**Notice**</font>: All materials herein were <font color=\"red\">**curated**</font> by **Matthew R. Versaggi (profversaggi@gmail.com)** and are released into the open source to foster growth and welfare of expanding the Quantum Computing domain - the only obligation one incurs when using, copying, distributing or referencing this is to kindly reference the author and send me an email so I know how useful the material is to you.\n",
    "\n",
    "<font color=\"red\">**Notice**</font>: Python Code contributions for the Circle Plots are the work of **David Radcliffe**.\n",
    "\n",
    "## Pedagogical Approach: (<font color=\"red\">**Read this first !**</font>)\n",
    "\n",
    "This material is intended to educate **software engineers** in certain aspects of Quantum Computing, therefore its focus will be on conveying the conceptual ideas in a form digestible to them, and supporting it with exercises to reinforce those concepts. \n",
    "\n",
    "Because of that pedagogical approach, **this material won't lead with or heavily leverage the concepts and language indigenous to physics and math**, but only in those terms most easily digestible to the modern software engineer.\n",
    "\n",
    "This Jupyter Notebook is <font color=\"red\">**not intended as a stand alone educational vehicle**</font>  - it's meant to be accompanied by a decicated power point deck that contains the main concepts to be presented by an instructor - **it is intended as a vehicle for a hands on workshop environment to facilitate learning through a guided experience.**\n",
    "\n",
    "> **Note:-** Because of the above educational approach:\n",
    "1. There is a certain amount of basic Quantum Computing knowledge that is assumed.\n",
    "2. An active internet connection is **always** assumed.\n",
    "3. Online references/links will be provided where appropriate\n",
    "4. References to books will be made where appropriate\n",
    "5. Much of this material is **dense and detailed**, the reader is <font color=\"red\">**cautioned**</font> to be careful and slow to digest the *nuances* of the material.\n",
    "\n",
    "## What you will be exposed to - High level: \n",
    "\n",
    "- Software engineers in the Quantum Computing space need to **<font color=\"blue\">gain a mastery of the simulation frameworks and tools used to understand and solve problems quantumly</font>**. Under the hood, the **<font color=\"red\">simulators mathematically represent the \"Ideal\" manifestations of quantum hardware</font>** that (theoretically) the \"Actual\" quantum hardware would behave exactly like. For the software engineer, this is the preferred situation as it permits them to understand and solve problems w/out being bound to the limitations of the hardware as it matures.\n",
    "\n",
    "\n",
    "- Given the above, there are a host of technical concepts that need to be **<font color=\"red\">understood experientially</font>** - we'll intentionally employ a vendor / framework agnostic approach to focus on the delivery of concept understanding and intuition procurement as the main value-add.\n",
    "\n",
    "\n",
    "## Accompanying Text:\n",
    "\n",
    "<BR>\n",
    "\n",
    "<a href=\"https://www.amazon.com/Programming-Quantum-Computers-Essential-Algorithms/dp/1492039683\" target=\"_blank\"><img src=\"img/OreillyBookImage-small.png\" height=\"250\" align=left style=\"padding:15px;\"></a>\n",
    "\n",
    "\n",
    "> The core materials leveraged in this Jupyter Notebook comes from the following book, and is required reading to engage in the problem sets covered.\n",
    "\n",
    "> The problem sets contained here will be expanded versions of the exercises contained in the book for sake of gaining intuition about the particular concept in question through leveraging various 'other' frameworks, tools, and instruments indigenous to the quantum programming space. \n",
    "\n",
    "\n",
    "> The core idea is that the various \"simulators\" circuitry (underlying mathematical representations) is considered the \"Ideal\" at the time of this JNB's construction, and therefore are the bect tools we have to address the problems we are interested in. To avoid being constrained by any particular framework, tool set, and software instruments, the idea is to leverage a host of appropriate \"tools\" when addressing any particular concept, problem or issue to remaind technology agnostic, but concept and intuition rich.\n",
    "\n",
    "\n",
    "- **Note:** The problems explored are organized and ordered according to chapter.\n",
    "\n",
    "<BR>\n",
    "\n",
    "**<font color=\"red\" size=4>Notice</font>:** - Prior to embarking on this notebook the reader is **highly encouraged to procure a <font color=\"red\" size=4>reasonable</font> <font color=\"blue\" size=4>introduction</font>** to the following key programming (and circuit) frameworks used:\n",
    "\n",
    "0. <a href=\"https://oreilly-qc.github.io/\" target=\"_blank\"><font color=\"blue\" size=4>QCEngine</font></a>\n",
    "0. <a href=\"https://qiskit.org/textbook/preface.html\" target=\"_blank\"><font color=\"blue\" size=4>Qiskit Tutorial</font></a>, <a href=\"https://qiskit.org/\" target=\"_blank\"><font color=\"blue\" size=4>Qiskit Home</font></a>\n",
    "0. <a href=\"https://algassert.com/quirk\" target=\"_blank\"><font color=\"blue\">QUIRK</font></a>\n",
    "\n",
    "# <font color=\"red\">Example Problem(s):</font> \n",
    "\n",
    "**This example problem is archetypal** of how the exercises highlighted in the book can be expanded to include a host of other tools that help build understanding and intuition of the concepts being explored. \n",
    "\n",
    "- The <font color=\"blue\">QCEngine</font> is a staple, but the <font color=\"blue\">Bloch Sphere Playground Application</font>, the <font color=\"blue\">Quantum Gate Playground</font>, <font color=\"blue\">QUIRK</font>, and <font color=\"blue\">Qiskit</font> are also instructive to leverage when persuing intuition about the concept and will be often used."
   ]
  },
  {
   "cell_type": "markdown",
   "metadata": {},
   "source": [
    "# Random QuByte"
   ]
  },
  {
   "cell_type": "markdown",
   "metadata": {},
   "source": [
    "![One Random Byte](img/random_byte.png \"One Random Byte\")"
   ]
  },
  {
   "cell_type": "markdown",
   "metadata": {},
   "source": [
    "# <font color=\"blue\">QCEngine</font>"
   ]
  },
  {
   "cell_type": "code",
   "execution_count": 1,
   "metadata": {
    "scrolled": false
   },
   "outputs": [
    {
     "data": {
      "text/html": [
       "\n",
       "        <iframe\n",
       "            width=\"900\"\n",
       "            height=\"900\"\n",
       "            src=\"https://oreilly-qc.github.io?p=2-2\"\n",
       "            frameborder=\"0\"\n",
       "            allowfullscreen\n",
       "        ></iframe>\n",
       "        "
      ],
      "text/plain": [
       "<IPython.lib.display.IFrame at 0x21e828bbd00>"
      ]
     },
     "execution_count": 1,
     "metadata": {},
     "output_type": "execute_result"
    }
   ],
   "source": [
    "from IPython.display import IFrame\n",
    "IFrame(src='https://oreilly-qc.github.io?p=2-2', width=900, height=900)"
   ]
  },
  {
   "cell_type": "markdown",
   "metadata": {},
   "source": [
    "# <font color=\"blue\">QUIRK</font>"
   ]
  },
  {
   "cell_type": "code",
   "execution_count": 2,
   "metadata": {},
   "outputs": [
    {
     "data": {
      "text/html": [
       "\n",
       "        <iframe\n",
       "            width=\"900\"\n",
       "            height=\"900\"\n",
       "            src=\"https://algassert.com/quirk#circuit={%22cols%22:[[%22H%22,%22H%22,%22H%22,%22H%22,%22H%22,%22H%22,%22H%22,%22H%22],[%22%E2%80%A6%22,%22%E2%80%A6%22,%22%E2%80%A6%22,%22%E2%80%A6%22,%22%E2%80%A6%22,%22%E2%80%A6%22,%22%E2%80%A6%22,%22%E2%80%A6%22],[%22~87lj%22,%22~87lj%22,%22~87lj%22,%22~87lj%22,%22~87lj%22,%22~87lj%22,%22~87lj%22,%22~87lj%22],[%22Bloch%22,%22Bloch%22,%22Bloch%22,%22Bloch%22,%22Bloch%22,%22Bloch%22,%22Bloch%22,%22Bloch%22],[%22Density%22,%22Density%22,%22Density%22,%22Density%22,%22Density%22,%22Density%22,%22Density%22,%22Density%22],[%22%E2%80%A6%22,%22%E2%80%A6%22,%22%E2%80%A6%22,%22%E2%80%A6%22,%22%E2%80%A6%22,%22%E2%80%A6%22,%22%E2%80%A6%22,%22%E2%80%A6%22]],%22gates%22:[{%22id%22:%22~87lj%22,%22name%22:%22message%22,%22circuit%22:{%22cols%22:[[%22e^-iYt%22],[%22X^t%22]]}},{%22id%22:%22~f7c0%22,%22name%22:%22received%22,%22matrix%22:%22{{1,0},{0,1}}%22}]}\"\n",
       "            frameborder=\"0\"\n",
       "            allowfullscreen\n",
       "        ></iframe>\n",
       "        "
      ],
      "text/plain": [
       "<IPython.lib.display.IFrame at 0x21e828bbe20>"
      ]
     },
     "execution_count": 2,
     "metadata": {},
     "output_type": "execute_result"
    }
   ],
   "source": [
    "# QUIRK (Quantum Curcuit Simulator) of the Random QuByte\n",
    "from IPython.display import IFrame\n",
    "IFrame(src='https://algassert.com/quirk#circuit={%22cols%22:[[%22H%22,%22H%22,%22H%22,%22H%22,%22H%22,%22H%22,%22H%22,%22H%22],[%22%E2%80%A6%22,%22%E2%80%A6%22,%22%E2%80%A6%22,%22%E2%80%A6%22,%22%E2%80%A6%22,%22%E2%80%A6%22,%22%E2%80%A6%22,%22%E2%80%A6%22],[%22~87lj%22,%22~87lj%22,%22~87lj%22,%22~87lj%22,%22~87lj%22,%22~87lj%22,%22~87lj%22,%22~87lj%22],[%22Bloch%22,%22Bloch%22,%22Bloch%22,%22Bloch%22,%22Bloch%22,%22Bloch%22,%22Bloch%22,%22Bloch%22],[%22Density%22,%22Density%22,%22Density%22,%22Density%22,%22Density%22,%22Density%22,%22Density%22,%22Density%22],[%22%E2%80%A6%22,%22%E2%80%A6%22,%22%E2%80%A6%22,%22%E2%80%A6%22,%22%E2%80%A6%22,%22%E2%80%A6%22,%22%E2%80%A6%22,%22%E2%80%A6%22]],%22gates%22:[{%22id%22:%22~87lj%22,%22name%22:%22message%22,%22circuit%22:{%22cols%22:[[%22e^-iYt%22],[%22X^t%22]]}},{%22id%22:%22~f7c0%22,%22name%22:%22received%22,%22matrix%22:%22{{1,0},{0,1}}%22}]}', width=900, height=900)"
   ]
  },
  {
   "cell_type": "markdown",
   "metadata": {},
   "source": [
    "# <font color=\"blue\">QISKIT</font>"
   ]
  },
  {
   "cell_type": "code",
   "execution_count": 4,
   "metadata": {},
   "outputs": [
    {
     "name": "stdout",
     "output_type": "stream",
     "text": [
      "Collecting qiskit\n",
      "  Using cached qiskit-0.31.0.tar.gz (13 kB)\n",
      "Collecting qiskit-terra==0.18.3\n",
      "  Downloading qiskit_terra-0.18.3-cp38-cp38-win_amd64.whl (5.3 MB)\n",
      "Collecting qiskit-aer==0.9.1\n",
      "  Downloading qiskit_aer-0.9.1-cp38-cp38-win_amd64.whl (24.2 MB)\n",
      "Collecting qiskit-ibmq-provider==0.17.0\n",
      "  Using cached qiskit_ibmq_provider-0.17.0-py3-none-any.whl (236 kB)\n",
      "Collecting qiskit-ignis==0.6.0\n",
      "  Using cached qiskit_ignis-0.6.0-py3-none-any.whl (207 kB)\n",
      "Collecting qiskit-aqua==0.9.5\n",
      "  Using cached qiskit_aqua-0.9.5-py3-none-any.whl (2.1 MB)\n",
      "Requirement already satisfied: numpy>=1.16.3 in z:\\anaconda2021.0564bit\\lib\\site-packages (from qiskit-aer==0.9.1->qiskit) (1.20.1)\n",
      "Requirement already satisfied: scipy>=1.0 in z:\\anaconda2021.0564bit\\lib\\site-packages (from qiskit-aer==0.9.1->qiskit) (1.6.2)\n",
      "Requirement already satisfied: h5py<3.3.0 in z:\\anaconda2021.0564bit\\lib\\site-packages (from qiskit-aqua==0.9.5->qiskit) (2.10.0)\n",
      "Collecting quandl\n",
      "  Using cached Quandl-3.6.1-py2.py3-none-any.whl (26 kB)\n",
      "Collecting dlx<=1.0.4\n",
      "  Using cached dlx-1.0.4.tar.gz (5.5 kB)\n",
      "Collecting fastdtw<=0.3.4\n",
      "  Using cached fastdtw-0.3.4.tar.gz (133 kB)\n",
      "Collecting retworkx>=0.8.0\n",
      "  Downloading retworkx-0.10.2-cp38-cp38-win_amd64.whl (1.0 MB)\n",
      "Requirement already satisfied: psutil>=5 in z:\\anaconda2021.0564bit\\lib\\site-packages (from qiskit-aqua==0.9.5->qiskit) (5.8.0)\n",
      "Requirement already satisfied: sympy>=1.3 in z:\\anaconda2021.0564bit\\lib\\site-packages (from qiskit-aqua==0.9.5->qiskit) (1.8)\n",
      "Collecting yfinance>=0.1.62\n",
      "  Using cached yfinance-0.1.64.tar.gz (26 kB)\n",
      "Collecting docplex>=2.21.207\n",
      "  Using cached docplex-2.22.213.tar.gz (634 kB)\n",
      "Requirement already satisfied: scikit-learn>=0.20.0 in z:\\anaconda2021.0564bit\\lib\\site-packages (from qiskit-aqua==0.9.5->qiskit) (0.24.1)\n",
      "Requirement already satisfied: setuptools>=40.1.0 in z:\\anaconda2021.0564bit\\lib\\site-packages (from qiskit-aqua==0.9.5->qiskit) (52.0.0.post20210125)\n",
      "Requirement already satisfied: pandas in z:\\anaconda2021.0564bit\\lib\\site-packages (from qiskit-aqua==0.9.5->qiskit) (1.2.4)\n",
      "Collecting requests-ntlm>=1.1.0\n",
      "  Using cached requests_ntlm-1.1.0-py2.py3-none-any.whl (5.7 kB)\n",
      "Requirement already satisfied: urllib3>=1.21.1 in z:\\anaconda2021.0564bit\\lib\\site-packages (from qiskit-ibmq-provider==0.17.0->qiskit) (1.26.4)\n",
      "Requirement already satisfied: python-dateutil>=2.8.0 in z:\\anaconda2021.0564bit\\lib\\site-packages (from qiskit-ibmq-provider==0.17.0->qiskit) (2.8.1)\n",
      "Requirement already satisfied: requests>=2.19 in z:\\anaconda2021.0564bit\\lib\\site-packages (from qiskit-ibmq-provider==0.17.0->qiskit) (2.25.1)\n",
      "Collecting websocket-client>=1.0.1\n",
      "  Using cached websocket_client-1.2.1-py2.py3-none-any.whl (52 kB)\n",
      "Collecting tweedledum<2.0,>=1.1\n",
      "  Downloading tweedledum-1.1.1-cp38-cp38-win_amd64.whl (1.1 MB)\n",
      "Collecting dill>=0.3\n",
      "  Using cached dill-0.3.4-py2.py3-none-any.whl (86 kB)\n",
      "Requirement already satisfied: ply>=3.10 in z:\\anaconda2021.0564bit\\lib\\site-packages (from qiskit-terra==0.18.3->qiskit) (3.11)\n",
      "Requirement already satisfied: jsonschema>=2.6 in z:\\anaconda2021.0564bit\\lib\\site-packages (from qiskit-terra==0.18.3->qiskit) (3.2.0)\n",
      "Collecting fastjsonschema>=2.10\n",
      "  Using cached fastjsonschema-2.15.1-py3-none-any.whl (21 kB)\n",
      "Collecting python-constraint>=1.4\n",
      "  Using cached python-constraint-1.4.0.tar.bz2 (18 kB)\n",
      "Requirement already satisfied: six in z:\\anaconda2021.0564bit\\lib\\site-packages (from docplex>=2.21.207->qiskit-aqua==0.9.5->qiskit) (1.15.0)\n",
      "Requirement already satisfied: attrs>=17.4.0 in z:\\anaconda2021.0564bit\\lib\\site-packages (from jsonschema>=2.6->qiskit-terra==0.18.3->qiskit) (20.3.0)\n",
      "Requirement already satisfied: pyrsistent>=0.14.0 in z:\\anaconda2021.0564bit\\lib\\site-packages (from jsonschema>=2.6->qiskit-terra==0.18.3->qiskit) (0.17.3)\n",
      "Requirement already satisfied: certifi>=2017.4.17 in z:\\anaconda2021.0564bit\\lib\\site-packages (from requests>=2.19->qiskit-ibmq-provider==0.17.0->qiskit) (2020.12.5)\n",
      "Requirement already satisfied: chardet<5,>=3.0.2 in z:\\anaconda2021.0564bit\\lib\\site-packages (from requests>=2.19->qiskit-ibmq-provider==0.17.0->qiskit) (4.0.0)\n",
      "Requirement already satisfied: idna<3,>=2.5 in z:\\anaconda2021.0564bit\\lib\\site-packages (from requests>=2.19->qiskit-ibmq-provider==0.17.0->qiskit) (2.10)\n",
      "Requirement already satisfied: cryptography>=1.3 in z:\\anaconda2021.0564bit\\lib\\site-packages (from requests-ntlm>=1.1.0->qiskit-ibmq-provider==0.17.0->qiskit) (3.4.7)\n",
      "Collecting ntlm-auth>=1.0.2\n",
      "  Using cached ntlm_auth-1.5.0-py2.py3-none-any.whl (29 kB)\n",
      "Requirement already satisfied: cffi>=1.12 in z:\\anaconda2021.0564bit\\lib\\site-packages (from cryptography>=1.3->requests-ntlm>=1.1.0->qiskit-ibmq-provider==0.17.0->qiskit) (1.14.5)\n",
      "Requirement already satisfied: pycparser in z:\\anaconda2021.0564bit\\lib\\site-packages (from cffi>=1.12->cryptography>=1.3->requests-ntlm>=1.1.0->qiskit-ibmq-provider==0.17.0->qiskit) (2.20)\n",
      "Requirement already satisfied: joblib>=0.11 in z:\\anaconda2021.0564bit\\lib\\site-packages (from scikit-learn>=0.20.0->qiskit-aqua==0.9.5->qiskit) (1.0.1)\n",
      "Requirement already satisfied: threadpoolctl>=2.0.0 in z:\\anaconda2021.0564bit\\lib\\site-packages (from scikit-learn>=0.20.0->qiskit-aqua==0.9.5->qiskit) (2.1.0)\n",
      "Requirement already satisfied: mpmath>=0.19 in z:\\anaconda2021.0564bit\\lib\\site-packages (from sympy>=1.3->qiskit-aqua==0.9.5->qiskit) (1.2.1)\n",
      "Collecting multitasking>=0.0.7\n",
      "  Using cached multitasking-0.0.9.tar.gz (8.1 kB)\n",
      "Requirement already satisfied: lxml>=4.5.1 in z:\\anaconda2021.0564bit\\lib\\site-packages (from yfinance>=0.1.62->qiskit-aqua==0.9.5->qiskit) (4.6.3)\n",
      "Requirement already satisfied: pytz>=2017.3 in z:\\anaconda2021.0564bit\\lib\\site-packages (from pandas->qiskit-aqua==0.9.5->qiskit) (2021.1)\n",
      "Requirement already satisfied: more-itertools in z:\\anaconda2021.0564bit\\lib\\site-packages (from quandl->qiskit-aqua==0.9.5->qiskit) (8.7.0)\n",
      "Collecting inflection>=0.3.1\n",
      "  Using cached inflection-0.5.1-py2.py3-none-any.whl (9.5 kB)\n",
      "Building wheels for collected packages: qiskit, dlx, docplex, fastdtw, python-constraint, yfinance, multitasking\n",
      "  Building wheel for qiskit (setup.py): started\n",
      "  Building wheel for qiskit (setup.py): finished with status 'done'\n",
      "  Created wheel for qiskit: filename=qiskit-0.31.0-py3-none-any.whl size=11711 sha256=c34243d53cbfdb27c551a8c9f5c1dadb8b499b6cd76e6a58629553f88127ddfd\n",
      "  Stored in directory: c:\\users\\aaron\\appdata\\local\\pip\\cache\\wheels\\03\\18\\a8\\e2dca806d185328742c0d09973e770c7c6e7bf6fc62a8b9529\n",
      "  Building wheel for dlx (setup.py): started\n",
      "  Building wheel for dlx (setup.py): finished with status 'done'\n",
      "  Created wheel for dlx: filename=dlx-1.0.4-py3-none-any.whl size=5709 sha256=5b1aa68166ff72579f3a8514a8b9d211367c5de2d0f9f089f226c77a28f54ed4\n",
      "  Stored in directory: c:\\users\\aaron\\appdata\\local\\pip\\cache\\wheels\\c4\\03\\f9\\7afbf40e0c3d6928d16bcadb46264a6e68704998ec72f7ea13\n",
      "  Building wheel for docplex (setup.py): started\n",
      "  Building wheel for docplex (setup.py): finished with status 'done'\n",
      "  Created wheel for docplex: filename=docplex-2.22.213-py3-none-any.whl size=696852 sha256=7b9c1213599026ac4e032946b5b7994d207f98fcdca753c67a1a664249c6ab6f\n",
      "  Stored in directory: c:\\users\\aaron\\appdata\\local\\pip\\cache\\wheels\\35\\3e\\11\\e31bf877e1965b75dc2f3de4ec2d5c9d1680c6f803ef76ed9f\n",
      "  Building wheel for fastdtw (setup.py): started\n",
      "  Building wheel for fastdtw (setup.py): finished with status 'done'\n",
      "  Created wheel for fastdtw: filename=fastdtw-0.3.4-py3-none-any.whl size=3588 sha256=530fb546be56cc001c1080b2dfe42c90b11c5fa5ddd6d4b0b146ddaf4f4a56f2\n",
      "  Stored in directory: c:\\users\\aaron\\appdata\\local\\pip\\cache\\wheels\\e9\\ac\\30\\c962f9d759dd68cb5482727c44441fdfb48040fdbe983857e8\n",
      "  Building wheel for python-constraint (setup.py): started\n",
      "  Building wheel for python-constraint (setup.py): finished with status 'done'\n",
      "  Created wheel for python-constraint: filename=python_constraint-1.4.0-py2.py3-none-any.whl size=24079 sha256=d0dd63c289955121d06aa588a390e9800cd879843965ea32758e1d5c9c2e55aa\n",
      "  Stored in directory: c:\\users\\aaron\\appdata\\local\\pip\\cache\\wheels\\86\\ba\\5c\\4e9115777de42c6a2e1ca77ef7c9d0d479254c5080341b55c5\n",
      "  Building wheel for yfinance (setup.py): started\n",
      "  Building wheel for yfinance (setup.py): finished with status 'done'\n",
      "  Created wheel for yfinance: filename=yfinance-0.1.64-py2.py3-none-any.whl size=24095 sha256=9b16d6b5cf850cc9a88e935c12d1745908633bc7fac7fbdf41d77820ea74d3c9\n",
      "  Stored in directory: c:\\users\\aaron\\appdata\\local\\pip\\cache\\wheels\\f9\\e9\\7e\\8b13db3bf3aeb5049d759e10702736fb96753089ac950fddc0\n",
      "  Building wheel for multitasking (setup.py): started\n",
      "  Building wheel for multitasking (setup.py): finished with status 'done'\n",
      "  Created wheel for multitasking: filename=multitasking-0.0.9-py3-none-any.whl size=8368 sha256=f8a5e5b1217c0397e9a9327013191bdd2444b0b1a2b3c43c3c0333a5d82c1797\n",
      "  Stored in directory: c:\\users\\aaron\\appdata\\local\\pip\\cache\\wheels\\57\\6d\\a3\\a39b839cc75274d2acfb1c58bfead2f726c6577fe8c4723f13\n",
      "Successfully built qiskit dlx docplex fastdtw python-constraint yfinance multitasking\n",
      "Installing collected packages: tweedledum, retworkx, python-constraint, fastjsonschema, dill, qiskit-terra, ntlm-auth, multitasking, inflection, yfinance, websocket-client, requests-ntlm, quandl, qiskit-ignis, fastdtw, docplex, dlx, qiskit-ibmq-provider, qiskit-aqua, qiskit-aer, qiskit\n",
      "Successfully installed dill-0.3.4 dlx-1.0.4 docplex-2.22.213 fastdtw-0.3.4 fastjsonschema-2.15.1 inflection-0.5.1 multitasking-0.0.9 ntlm-auth-1.5.0 python-constraint-1.4.0 qiskit-0.31.0 qiskit-aer-0.9.1 qiskit-aqua-0.9.5 qiskit-ibmq-provider-0.17.0 qiskit-ignis-0.6.0 qiskit-terra-0.18.3 quandl-3.6.1 requests-ntlm-1.1.0 retworkx-0.10.2 tweedledum-1.1.1 websocket-client-1.2.1 yfinance-0.1.64\n"
     ]
    }
   ],
   "source": [
    "!pip install qiskit"
   ]
  },
  {
   "cell_type": "code",
   "execution_count": 52,
   "metadata": {},
   "outputs": [
    {
     "name": "stdout",
     "output_type": "stream",
     "text": [
      "Binary Number:  11011000\n",
      "Random number: 216\n"
     ]
    },
    {
     "data": {
      "text/html": [
       "<pre style=\"word-wrap: normal;white-space: pre;background: #fff0;line-height: 1.1;font-family: &quot;Courier New&quot;,Courier,monospace\">             ┌───┐┌─┐                     \n",
       " reg_0: ─|0>─┤ H ├┤M├─────────────────────\n",
       "             ├───┤└╥┘┌─┐                  \n",
       " reg_1: ─|0>─┤ H ├─╫─┤M├──────────────────\n",
       "             ├───┤ ║ └╥┘┌─┐               \n",
       " reg_2: ─|0>─┤ H ├─╫──╫─┤M├───────────────\n",
       "             ├───┤ ║  ║ └╥┘┌─┐            \n",
       " reg_3: ─|0>─┤ H ├─╫──╫──╫─┤M├────────────\n",
       "             ├───┤ ║  ║  ║ └╥┘┌─┐         \n",
       " reg_4: ─|0>─┤ H ├─╫──╫──╫──╫─┤M├─────────\n",
       "             ├───┤ ║  ║  ║  ║ └╥┘┌─┐      \n",
       " reg_5: ─|0>─┤ H ├─╫──╫──╫──╫──╫─┤M├──────\n",
       "             ├───┤ ║  ║  ║  ║  ║ └╥┘┌─┐   \n",
       " reg_6: ─|0>─┤ H ├─╫──╫──╫──╫──╫──╫─┤M├───\n",
       "             ├───┤ ║  ║  ║  ║  ║  ║ └╥┘┌─┐\n",
       " reg_7: ─|0>─┤ H ├─╫──╫──╫──╫──╫──╫──╫─┤M├\n",
       "             └───┘ ║  ║  ║  ║  ║  ║  ║ └╥┘\n",
       "regc: 8/═══════════╩══╩══╩══╩══╩══╩══╩══╩═\n",
       "                   0  1  2  3  4  5  6  7 </pre>"
      ],
      "text/plain": [
       "             ┌───┐┌─┐                     \n",
       " reg_0: ─|0>─┤ H ├┤M├─────────────────────\n",
       "             ├───┤└╥┘┌─┐                  \n",
       " reg_1: ─|0>─┤ H ├─╫─┤M├──────────────────\n",
       "             ├───┤ ║ └╥┘┌─┐               \n",
       " reg_2: ─|0>─┤ H ├─╫──╫─┤M├───────────────\n",
       "             ├───┤ ║  ║ └╥┘┌─┐            \n",
       " reg_3: ─|0>─┤ H ├─╫──╫──╫─┤M├────────────\n",
       "             ├───┤ ║  ║  ║ └╥┘┌─┐         \n",
       " reg_4: ─|0>─┤ H ├─╫──╫──╫──╫─┤M├─────────\n",
       "             ├───┤ ║  ║  ║  ║ └╥┘┌─┐      \n",
       " reg_5: ─|0>─┤ H ├─╫──╫──╫──╫──╫─┤M├──────\n",
       "             ├───┤ ║  ║  ║  ║  ║ └╥┘┌─┐   \n",
       " reg_6: ─|0>─┤ H ├─╫──╫──╫──╫──╫──╫─┤M├───\n",
       "             ├───┤ ║  ║  ║  ║  ║  ║ └╥┘┌─┐\n",
       " reg_7: ─|0>─┤ H ├─╫──╫──╫──╫──╫──╫──╫─┤M├\n",
       "             └───┘ ║  ║  ║  ║  ║  ║  ║ └╥┘\n",
       "regc: 8/═══════════╩══╩══╩══╩══╩══╩══╩══╩═\n",
       "                   0  1  2  3  4  5  6  7 "
      ]
     },
     "execution_count": 52,
     "metadata": {},
     "output_type": "execute_result"
    }
   ],
   "source": [
    "from qiskit import QuantumCircuit, QuantumRegister, ClassicalRegister, execute, Aer, IBMQ, BasicAer\n",
    "import math\n",
    "import matplotlib.pyplot as P\n",
    "import matplotlib.pyplot as plt\n",
    "from Our_Qiskit_Functions import *\n",
    "import cmath\n",
    "\n",
    "## Uncomment the next line to see diagrams when running in a notebook\n",
    "%matplotlib inline\n",
    "\n",
    "# Helper Funtion for Normalizing State Vectors\n",
    "def normalize_state_Vector(state_vector):\n",
    "    for result in state_vector:\n",
    "        print(\"Normalized Result: \" , round( np.abs(result)**2, 1) )\n",
    "        \n",
    "# Helper Funtion for print Polar Phase(s)\n",
    "def plot_polar(state_vector):\n",
    "    pi_radians = 180;\n",
    "    for x in state_vector:\n",
    "        plt.polar([0,cmath.phase(x)],[0,abs(x)],marker='o')\n",
    "        print(\"The original complex number Re{%d}, Im{%d}, and Length : %f\" % (x.real, x.imag, abs(x)))\n",
    "        print(\"Phase: \",cmath.phase(x))\n",
    "        if cmath.phase(x) != 0:\n",
    "            print(\"Angle: \", pi_radians/(np.pi/cmath.phase(x)))\n",
    "            \n",
    "## Example 2-2: Random byte\n",
    "# Set up the program\n",
    "reg = QuantumRegister(8, name='reg')\n",
    "reg_c = ClassicalRegister(8, name='regc')\n",
    "qc = QuantumCircuit(reg, reg_c)\n",
    "qc.reset(reg)          # write the value 0\n",
    "qc.h(reg)              # put it into a superposition of 0 and 1\n",
    "qc.measure(reg, reg_c) # read the result as a digital bit\n",
    "\n",
    "# Execute the program and fetch the result\n",
    "backend = BasicAer.get_backend('statevector_simulator')\n",
    "job = execute(qc, backend)\n",
    "result = job.result()\n",
    "outputstate = result.get_statevector(qc, decimals=3)\n",
    "\n",
    "# Convert the result into a random number\n",
    "counts = result.get_counts(qc)\n",
    "# print('Binary Number and count:',counts)\n",
    "\n",
    "for k in counts:\n",
    "    binary_number = ''.join(reversed(k))\n",
    "    print(\"Binary Number: \", binary_number)\n",
    "    \n",
    "for key,val in counts.items():\n",
    "    n = sum([(int(x) << i) for i,x in enumerate(key)])\n",
    "    print('Random number:', n)\n",
    "\n",
    "#qc.draw(output='mpl')        # draw the circuit\n",
    "from qiskit.tools.visualization import circuit_drawer\n",
    "circuit_drawer(qc, output='text', style={'backgroundcolor': '#EEEEEE'})"
   ]
  },
  {
   "cell_type": "code",
   "execution_count": null,
   "metadata": {},
   "outputs": [],
   "source": []
  },
  {
   "cell_type": "markdown",
   "metadata": {},
   "source": [
    "# <font color=\"red\">Graded Exercises</font>  for use <font color=\"blue\">with structured courses.</font>"
   ]
  },
  {
   "cell_type": "markdown",
   "metadata": {},
   "source": [
    "#  <font color=\"blue\">The Random Number generator: 1 - 256</font>\n",
    "\n",
    "- https://online-calculator.org/random-number-generator-1-256\n",
    "\n",
    "![quantum-coin-flip](img/quantum-coin-flip.png \"quantum-coin-flip\")\n",
    "\n",
    "> ### Why does this work?\n",
    "- Because at the Quantum Level, a **simple Hadamard gate** is a truely unpredictible 50/50 chance operation, and if we use 8 qubits, when each of them are read the circuit will produce an overall random number between 1 and 256.\n",
    "\n",
    "\n",
    "![One Random Byte](img/random_byte.png \"One Random Byte\")"
   ]
  },
  {
   "cell_type": "markdown",
   "metadata": {},
   "source": [
    "##  <font color=\"blue\">Your Task:</font>\n",
    "\n",
    "\n",
    "> **TASK**: Create a python program using <font color=\"blue\">QISKIT</font> that uses **<font color=\"red\">eight random qubits</font>** as a random number generator between 1 and 256.\n",
    "\n",
    "- Use the code base in **Simple Quantum Algorithms** as inspiration\n",
    "\n",
    "> **<font color=\"red\">Rubric:</font>** The core code should function and execute in much like the inspiration code base but returns a random number between 1 and 256 instead. \n",
    "- Modify the output function as you please.\n",
    "\n",
    "##  <font color=\"blue\">Your Code goes below:</font>"
   ]
  },
  {
   "cell_type": "code",
   "execution_count": 53,
   "metadata": {},
   "outputs": [
    {
     "name": "stdout",
     "output_type": "stream",
     "text": [
      "Binary Number:  10100100\n",
      "Random number: 164\n"
     ]
    },
    {
     "data": {
      "text/html": [
       "<pre style=\"word-wrap: normal;white-space: pre;background: #fff0;line-height: 1.1;font-family: &quot;Courier New&quot;,Courier,monospace\">             ┌───┐┌─┐                     \n",
       " reg_0: ─|0>─┤ H ├┤M├─────────────────────\n",
       "             ├───┤└╥┘┌─┐                  \n",
       " reg_1: ─|0>─┤ H ├─╫─┤M├──────────────────\n",
       "             ├───┤ ║ └╥┘┌─┐               \n",
       " reg_2: ─|0>─┤ H ├─╫──╫─┤M├───────────────\n",
       "             ├───┤ ║  ║ └╥┘┌─┐            \n",
       " reg_3: ─|0>─┤ H ├─╫──╫──╫─┤M├────────────\n",
       "             ├───┤ ║  ║  ║ └╥┘┌─┐         \n",
       " reg_4: ─|0>─┤ H ├─╫──╫──╫──╫─┤M├─────────\n",
       "             ├───┤ ║  ║  ║  ║ └╥┘┌─┐      \n",
       " reg_5: ─|0>─┤ H ├─╫──╫──╫──╫──╫─┤M├──────\n",
       "             ├───┤ ║  ║  ║  ║  ║ └╥┘┌─┐   \n",
       " reg_6: ─|0>─┤ H ├─╫──╫──╫──╫──╫──╫─┤M├───\n",
       "             ├───┤ ║  ║  ║  ║  ║  ║ └╥┘┌─┐\n",
       " reg_7: ─|0>─┤ H ├─╫──╫──╫──╫──╫──╫──╫─┤M├\n",
       "             └───┘ ║  ║  ║  ║  ║  ║  ║ └╥┘\n",
       "regc: 8/═══════════╩══╩══╩══╩══╩══╩══╩══╩═\n",
       "                   0  1  2  3  4  5  6  7 </pre>"
      ],
      "text/plain": [
       "             ┌───┐┌─┐                     \n",
       " reg_0: ─|0>─┤ H ├┤M├─────────────────────\n",
       "             ├───┤└╥┘┌─┐                  \n",
       " reg_1: ─|0>─┤ H ├─╫─┤M├──────────────────\n",
       "             ├───┤ ║ └╥┘┌─┐               \n",
       " reg_2: ─|0>─┤ H ├─╫──╫─┤M├───────────────\n",
       "             ├───┤ ║  ║ └╥┘┌─┐            \n",
       " reg_3: ─|0>─┤ H ├─╫──╫──╫─┤M├────────────\n",
       "             ├───┤ ║  ║  ║ └╥┘┌─┐         \n",
       " reg_4: ─|0>─┤ H ├─╫──╫──╫──╫─┤M├─────────\n",
       "             ├───┤ ║  ║  ║  ║ └╥┘┌─┐      \n",
       " reg_5: ─|0>─┤ H ├─╫──╫──╫──╫──╫─┤M├──────\n",
       "             ├───┤ ║  ║  ║  ║  ║ └╥┘┌─┐   \n",
       " reg_6: ─|0>─┤ H ├─╫──╫──╫──╫──╫──╫─┤M├───\n",
       "             ├───┤ ║  ║  ║  ║  ║  ║ └╥┘┌─┐\n",
       " reg_7: ─|0>─┤ H ├─╫──╫──╫──╫──╫──╫──╫─┤M├\n",
       "             └───┘ ║  ║  ║  ║  ║  ║  ║ └╥┘\n",
       "regc: 8/═══════════╩══╩══╩══╩══╩══╩══╩══╩═\n",
       "                   0  1  2  3  4  5  6  7 "
      ]
     },
     "execution_count": 53,
     "metadata": {},
     "output_type": "execute_result"
    }
   ],
   "source": [
    "from qiskit import QuantumCircuit, QuantumRegister, ClassicalRegister, execute, Aer, IBMQ, BasicAer\n",
    "import math\n",
    "import matplotlib.pyplot as P\n",
    "import matplotlib.pyplot as plt\n",
    "from Our_Qiskit_Functions import *\n",
    "import cmath\n",
    "\n",
    "## Uncomment the next line to see diagrams when running in a notebook\n",
    "%matplotlib inline\n",
    "\n",
    "# Helper Funtion for Normalizing State Vectors\n",
    "def normalize_state_Vector(state_vector):\n",
    "    for result in state_vector:\n",
    "        print(\"Normalized Result: \" , round( np.abs(result)**2, 1) )\n",
    "        \n",
    "# Helper Funtion for print Polar Phase(s)\n",
    "def plot_polar(state_vector):\n",
    "    pi_radians = 180;\n",
    "    for x in state_vector:\n",
    "        plt.polar([0,cmath.phase(x)],[0,abs(x)],marker='o')\n",
    "        print(\"The original complex number Re{%d}, Im{%d}, and Length : %f\" % (x.real, x.imag, abs(x)))\n",
    "        print(\"Phase: \",cmath.phase(x))\n",
    "        if cmath.phase(x) != 0:\n",
    "            print(\"Angle: \", pi_radians/(np.pi/cmath.phase(x)))\n",
    "            \n",
    "## Example 2-2: Random byte\n",
    "# Set up the program\n",
    "reg = QuantumRegister(8, name='reg')\n",
    "reg_c = ClassicalRegister(8, name='regc')\n",
    "qc = QuantumCircuit(reg, reg_c)\n",
    "qc.reset(reg)          # write the value 0\n",
    "qc.h(reg)              # put it into a superposition of 0 and 1\n",
    "qc.measure(reg, reg_c) # read the result as a digital bit\n",
    "\n",
    "# Execute the program and fetch the result\n",
    "backend = BasicAer.get_backend('statevector_simulator')\n",
    "job = execute(qc, backend)\n",
    "result = job.result()\n",
    "outputstate = result.get_statevector(qc, decimals=3)\n",
    "\n",
    "# Convert the result into a random number\n",
    "counts = result.get_counts(qc)\n",
    "# print('Binary Number and count:',counts)\n",
    "\n",
    "for k in counts:\n",
    "    binary_number = ''.join(reversed(k))\n",
    "    print(\"Binary Number: \", binary_number)\n",
    "    \n",
    "for key,val in counts.items():\n",
    "    n = sum([(int(x) << i) for i,x in enumerate(key)])\n",
    "    print('Random number:', n)\n",
    "\n",
    "#qc.draw(output='mpl')        # draw the circuit\n",
    "from qiskit.tools.visualization import circuit_drawer\n",
    "circuit_drawer(qc, output='text', style={'backgroundcolor': '#EEEEEE'})"
   ]
  },
  {
   "cell_type": "code",
   "execution_count": null,
   "metadata": {},
   "outputs": [],
   "source": []
  },
  {
   "cell_type": "markdown",
   "metadata": {},
   "source": [
    "![the-end](img/the-end.png \"the-end\")"
   ]
  }
 ],
 "metadata": {
  "interpreter": {
   "hash": "c7a22838893b3baa5780dee6b8b2b7bd7ff68be397bff647afe34102ecfa49ff"
  },
  "kernelspec": {
   "display_name": "Python 3.8.8 64-bit ('base': conda)",
   "name": "python3"
  },
  "language_info": {
   "codemirror_mode": {
    "name": "ipython",
    "version": 3
   },
   "file_extension": ".py",
   "mimetype": "text/x-python",
   "name": "python",
   "nbconvert_exporter": "python",
   "pygments_lexer": "ipython3",
   "version": "3.8.8"
  }
 },
 "nbformat": 4,
 "nbformat_minor": 2
}
