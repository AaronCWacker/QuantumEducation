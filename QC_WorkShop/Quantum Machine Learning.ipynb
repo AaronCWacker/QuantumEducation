{
 "cells": [
  {
   "cell_type": "markdown",
   "metadata": {},
   "source": [
    "# Quantum Machine Learning (QML)\n",
    "\n",
    "- #### Hands-on Experiential Learning <font color=\"red\">for the Software Engineer</font>"
   ]
  },
  {
   "cell_type": "markdown",
   "metadata": {},
   "source": [
    "![QML-Banner](img/QML-Banner3.png \"QML-Banner\")\n",
    "\n",
    "<BR>\n",
    "    \n",
    "<font color=\"red\">**Notice**</font>: All materials herein were <font color=\"red\">**curated**</font> by **Matthew R. Versaggi (profversaggi@gmail.com)** and are released into the open source to foster growth and welfare of expanding the Quantum Computing domain - the only obligation one incurs when using, copying, distributing or referencing this is to kindly reference the author and send me an email so I know how useful the material is to you.\n",
    "\n",
    "<font color=\"red\">**Notice**</font>: Python Code contributions for the Circle Plots are the work of **David Radcliffe**."
   ]
  },
  {
   "cell_type": "markdown",
   "metadata": {},
   "source": [
    "## Pedagogical Approach: (<font color=\"red\">**Read this first !**</font>)\n",
    "\n",
    "This material is intended to educate **software engineers** in certain aspects of Quantum Computing, therefore its focus will be on conveying the conceptual ideas in a form digestible to them, and supporting it with exercises to reinforce those concepts. \n",
    "\n",
    "Because of that pedagogical approach, **this material won't lead with or heavily leverage the concepts and language indigenous to physics and math**, but only in those terms most easily digestible to the modern software engineer.\n",
    "\n",
    "This Jupyter Notebook is <font color=\"red\">**not intended as a stand alone educational vehicle**</font>  - it's meant to be accompanied by a decicated power point deck that contains the main concepts to be presented by an instructor - **it is intended as a vehicle for a hands on workshop environment to facilitate learning through a guided experience.**\n",
    "\n",
    "> **Note:-** Because of the above educational approach:\n",
    "1. There is a certain amount of basic Quantum Computing knowledge that is assumed.\n",
    "2. An active internet connection is **always** assumed.\n",
    "3. Online references/links will be provided where appropriate\n",
    "4. References to books will be made where appropriate\n",
    "5. Much of this material is **dense and detailed**, the reader is <font color=\"red\">**cautioned**</font> to be careful and slow to digest the *nuances* of the material."
   ]
  },
  {
   "cell_type": "markdown",
   "metadata": {},
   "source": [
    "## What you will be exposed to - High level: \n",
    "\n",
    "\n",
    "- Software engineers in the Quantum Computing space need to know how QC solves Machine Learning Problems in context.\n",
    "- Given the above, there are a host of technical concepts that need to be **<font color=\"red\">understood experientially</font>** - we'll intentionally employ a vendor / framework agnostic approach to focus on the delivery of concept understanding and intuition procurement as the main value-add.\n",
    "\n",
    "> ### High Level Agenda (<font color=\"red\">*major sections*</font>): - quantum machine learning for the software engineer.\n",
    "1. <font color=\"blue\">*Quantum Enhanced Support Vector Machine*</font>\n",
    "2. <font color=\"blue\">*Quantum Natural Gradient*</font>\n",
    "3. <font color=\"blue\">*Quantum Embeddings and Metric Learning*</font>\n",
    "\n",
    "\n",
    "\n"
   ]
  },
  {
   "cell_type": "code",
   "execution_count": null,
   "metadata": {},
   "outputs": [],
   "source": []
  },
  {
   "cell_type": "markdown",
   "metadata": {},
   "source": [
    "# <font color=\"red\">Developmental Detour</font>:  <font color=\"blue\">What is QML?</font> \n"
   ]
  },
  {
   "cell_type": "markdown",
   "metadata": {},
   "source": [
    "![QML-BigInfographic](img/QML-BigInfographic.png \"QML-BigInfographic\")\n",
    "\n",
    "<BR>\n",
    "<BR>\n",
    "\n",
    "![QML_types](img/QML_types.png \"QML_types\")"
   ]
  },
  {
   "cell_type": "code",
   "execution_count": null,
   "metadata": {},
   "outputs": [],
   "source": []
  },
  {
   "cell_type": "code",
   "execution_count": null,
   "metadata": {},
   "outputs": [],
   "source": []
  },
  {
   "cell_type": "markdown",
   "metadata": {},
   "source": [
    "# <font color=\"red\">QML</font>:  <font color=\"blue\">Examples and Case Studies</font> \n"
   ]
  },
  {
   "cell_type": "markdown",
   "metadata": {},
   "source": [
    "## QISKIT: <font color=\"blue\">Quantum Enhanced Support Vector Machine</font>  \n",
    "\n",
    "> **<font color=\"red\">Quantum Advantage</font>:** - The Classical SVM algorithm **(a)** doesn't scale well with large dataset / high dimmensional input space, and **(b)** finding the hyperplane that separates the data clusters is difficult. \n",
    "- The Quantum SVM algorithm is more efficient at addressing both of these problems.\n",
    "-  Implementing SVMs using quantum algorithms can result in significant speedup over the classical implementations, potentially bringing the originally polynomial complexity down to logarithmic scale in select cases.\n",
    "\n",
    "<BR>\n",
    "\n",
    "> ### 2D Feature Space\n",
    "- Not linearly seperable.\n",
    "\n",
    "![SVM-Transform2D](img/SVM-Transform2D.png \"SVM-Transform2D\")\n",
    "\n",
    "<BR>\n",
    "\n",
    "> ### 3D Feature Space (after transform)\n",
    "- Often one-dimensional dataset is not linearly separable, however, when embedding them in the two-dimensional space with the a transform function, the datas become again linearly separable.\n",
    "\n",
    "![SVM-Transform3D](img/SVM-transform3D.png \"SVM-Transform3D\")\n",
    "\n",
    "<BR>\n",
    "\n",
    "> ### 2D->3D Feature Space (for intuition)\n",
    "![feature-space](img/feature-space.png \"feature-space\")\n",
    "\n",
    "<BR>\n",
    "\n",
    "> ### High Dimmensional Space\n",
    "![HighDimmensionPlot](img/HighDimmensionPlot.png \"HighDimmensionPlot\")"
   ]
  },
  {
   "cell_type": "markdown",
   "metadata": {},
   "source": [
    "## <font color=\"blue\">Qiskit Implementations</font>  \n",
    "\n",
    "## <font color=\"red\">Breast Cancer dataset - Classical approach</font>"
   ]
  },
  {
   "cell_type": "code",
   "execution_count": 2,
   "metadata": {
    "scrolled": true
   },
   "outputs": [
    {
     "name": "stdout",
     "output_type": "stream",
     "text": [
      "The autoreload extension is already loaded. To reload it, use:\n",
      "  %reload_ext autoreload\n"
     ]
    },
    {
     "data": {
      "image/png": "[encoded data removed]",
      "text/plain": [
       "<Figure size 432x288 with 1 Axes>"
      ]
     },
     "metadata": {
      "needs_background": "light"
     },
     "output_type": "display_data"
    }
   ],
   "source": [
    "import numpy as np\n",
    "from dataset import breast_cancer\n",
    "from sklearn.datasets.samples_generator import make_blobs\n",
    "from qiskit.aqua.utils import split_dataset_to_data_and_labels \n",
    "from sklearn import svm\n",
    "from utils import svm_utils \n",
    "from matplotlib import pyplot as plt\n",
    "\n",
    "%matplotlib inline\n",
    "%load_ext autoreload\n",
    "%autoreload 2\n",
    "\n",
    "import warnings\n",
    "warnings.filterwarnings('ignore')\n",
    "\n",
    "n = 2 # number of principal components kept\n",
    "training_dataset_size = 20\n",
    "testing_dataset_size = 10\n",
    "\n",
    "sample_Total, training_input, test_input, class_labels = breast_cancer(training_dataset_size, testing_dataset_size, n)\n",
    "\n",
    "data_train, _ = split_dataset_to_data_and_labels(training_input)\n",
    "data_test, _ = split_dataset_to_data_and_labels(test_input)\n",
    "\n"
   ]
  },
  {
   "cell_type": "markdown",
   "metadata": {},
   "source": [
    "> There two types of data that can be classified by these algorithms: **linearly separable** datasets and **non-linearly separable** datasets."
   ]
  },
  {
   "cell_type": "code",
   "execution_count": 3,
   "metadata": {},
   "outputs": [
    {
     "data": {
      "image/png": "[encoded data removed]",
      "text/plain": [
       "<Figure size 720x360 with 2 Axes>"
      ]
     },
     "metadata": {
      "needs_background": "light"
     },
     "output_type": "display_data"
    }
   ],
   "source": [
    "# We use the function of scikit learn to generate linearly separable blobs\n",
    "centers = [(2.5,0),(0,2.5)]\n",
    "x, y = make_blobs(n_samples=100, centers=centers, n_features=2,random_state=0,cluster_std=0.5)\n",
    "\n",
    "\n",
    "fig,ax=plt.subplots(1,2,figsize=(10,5))\n",
    "\n",
    "\n",
    "ax[0].scatter(data_train[0][:,0],data_train[0][:,1],c=data_train[1])\n",
    "ax[0].set_title('Breast Cancer dataset');\n",
    "\n",
    "ax[1].scatter(x[:,0],x[:,1],c=y)\n",
    "ax[1].set_title('Blobs linearly separable');"
   ]
  },
  {
   "cell_type": "markdown",
   "metadata": {},
   "source": [
    "> Implement the both the linear and kernel SVM algorihms for the breast cancer dataset."
   ]
  },
  {
   "cell_type": "code",
   "execution_count": 4,
   "metadata": {},
   "outputs": [
    {
     "data": {
      "image/png": "[encoded data removed]",
      "text/plain": [
       "<Figure size 432x288 with 1 Axes>"
      ]
     },
     "metadata": {
      "needs_background": "light"
     },
     "output_type": "display_data"
    }
   ],
   "source": [
    "plt.scatter(data_train[0][:,0],data_train[0][:,1],c=data_train[1])\n",
    "plt.title('Breast Cancer dataset');"
   ]
  },
  {
   "cell_type": "markdown",
   "metadata": {},
   "source": [
    "> Define a **linear SVM classifier** and train it on the data set."
   ]
  },
  {
   "cell_type": "code",
   "execution_count": 5,
   "metadata": {},
   "outputs": [
    {
     "data": {
      "text/plain": [
       "LinearSVC(C=1.0, class_weight=None, dual=True, fit_intercept=True,\n",
       "          intercept_scaling=1, loss='squared_hinge', max_iter=1000,\n",
       "          multi_class='ovr', penalty='l2', random_state=None, tol=0.0001,\n",
       "          verbose=0)"
      ]
     },
     "execution_count": 5,
     "metadata": {},
     "output_type": "execute_result"
    }
   ],
   "source": [
    "model= svm.LinearSVC()\n",
    "model.fit(data_train[0], data_train[1])"
   ]
  },
  {
   "cell_type": "markdown",
   "metadata": {},
   "source": [
    "> The background indicates the decision function for the SVM algorithm."
   ]
  },
  {
   "cell_type": "code",
   "execution_count": 6,
   "metadata": {
    "scrolled": true
   },
   "outputs": [
    {
     "data": {
      "image/png": "[encoded data removed]",
      "text/plain": [
       "<Figure size 1080x360 with 2 Axes>"
      ]
     },
     "metadata": {
      "needs_background": "light"
     },
     "output_type": "display_data"
    }
   ],
   "source": [
    "accuracy_train = model.score(data_train[0], data_train[1])\n",
    "accuracy_test = model.score(data_test[0], data_test[1])\n",
    "\n",
    "\n",
    "X0, X1 = data_train[0][:, 0], data_train[0][:, 1]\n",
    "xx, yy = svm_utils.make_meshgrid(X0, X1)\n",
    "Z = model.predict(np.c_[xx.ravel(), yy.ravel()])\n",
    "Z = Z.reshape(xx.shape)\n",
    "\n",
    "fig,ax=plt.subplots(1,2,figsize=(15,5))\n",
    "ax[0].contourf(xx, yy, Z, cmap=plt.cm.coolwarm)\n",
    "ax[0].scatter(data_train[0][:,0], data_train[0][:,1], c=data_train[1])\n",
    "ax[0].set_title('Accuracy on the training set: '+str(accuracy_train));\n",
    "\n",
    "ax[1].contourf(xx, yy, Z, cmap=plt.cm.coolwarm)\n",
    "ax[1].scatter(data_test[0][:,0], data_test[0][:,1], c=data_test[1])\n",
    "ax[1].set_title('Accuracy on the test set: '+str(accuracy_test));"
   ]
  },
  {
   "cell_type": "markdown",
   "metadata": {},
   "source": [
    "> Implement a **SVM with gaussian (non-linear)** kernel\n",
    "\n",
    "- Often one-dimensional dataset is not linearly separable, however, when embedding them in the two-dimensional space with the a transform function, the datas become again linearly separable."
   ]
  },
  {
   "cell_type": "code",
   "execution_count": 7,
   "metadata": {},
   "outputs": [],
   "source": [
    "clf = svm.SVC(gamma = 'scale')\n",
    "clf.fit(data_train[0], data_train[1]);"
   ]
  },
  {
   "cell_type": "code",
   "execution_count": 8,
   "metadata": {},
   "outputs": [
    {
     "data": {
      "image/png": "[encoded data removed]",
      "text/plain": [
       "<Figure size 1080x360 with 2 Axes>"
      ]
     },
     "metadata": {
      "needs_background": "light"
     },
     "output_type": "display_data"
    }
   ],
   "source": [
    "accuracy_train = clf.score(data_train[0], data_train[1])\n",
    "accuracy_test = clf.score(data_test[0], data_test[1])\n",
    "\n",
    "\n",
    "X0, X1 = data_train[0][:, 0], data_train[0][:, 1]\n",
    "xx, yy = svm_utils.make_meshgrid(X0, X1)\n",
    "Z = clf.predict(np.c_[xx.ravel(), yy.ravel()])\n",
    "Z = Z.reshape(xx.shape)\n",
    "\n",
    "fig,ax=plt.subplots(1,2,figsize=(15,5))\n",
    "ax[0].contourf(xx, yy, Z, cmap=plt.cm.coolwarm)\n",
    "ax[0].scatter(data_train[0][:,0], data_train[0][:,1], c=data_train[1])\n",
    "ax[0].set_title('Accuracy on the training set: '+str(accuracy_train));\n",
    "\n",
    "ax[1].contourf(xx, yy, Z, cmap=plt.cm.coolwarm)\n",
    "ax[1].scatter(data_test[0][:,0], data_test[0][:,1], c=data_test[1])\n",
    "ax[1].set_title('Accuracy on the test set: '+str(accuracy_test));"
   ]
  },
  {
   "cell_type": "markdown",
   "metadata": {},
   "source": [
    "## <font color=\"red\">Breast Cancer dataset - Quantum approach</font>"
   ]
  },
  {
   "cell_type": "markdown",
   "metadata": {},
   "source": [
    "### Quantum Classification\n",
    "\n",
    "- The idea of a classical SVM is we have a set of points that are in either one group or another and we want to find a line that separates these two groups. This line can be linear, but it can also be much more complex (non-linear), which can be achieved by the use of Kernels.\n",
    "\n"
   ]
  },
  {
   "cell_type": "code",
   "execution_count": 11,
   "metadata": {},
   "outputs": [],
   "source": [
    "from qiskit.aqua.components.feature_maps import SecondOrderExpansion\n",
    "feature_map = SecondOrderExpansion(feature_dimension=2, depth=1)"
   ]
  },
  {
   "cell_type": "markdown",
   "metadata": {},
   "source": [
    "#### Print the feature map circuit\n",
    "\n",
    "To print the feature map circuit we define an arbitrary vector `x` that we want to encode and construct the circuit for this datapoint."
   ]
  },
  {
   "cell_type": "code",
   "execution_count": 15,
   "metadata": {},
   "outputs": [
    {
     "name": "stdout",
     "output_type": "stream",
     "text": [
      "     ┌──────────┐┌──────────────┐┌──────────────┐┌──────────────┐\n",
      "q_0: ┤ U2(0,pi) ├┤0             ├┤0             ├┤0             ├\n",
      "     ├──────────┤│  Evolution^1 ││  Evolution^1 ││  Evolution^1 │\n",
      "q_1: ┤ U2(0,pi) ├┤1             ├┤1             ├┤1             ├\n",
      "     └──────────┘└──────────────┘└──────────────┘└──────────────┘\n"
     ]
    }
   ],
   "source": [
    "import numpy as np\n",
    "\n",
    "x = np.array([0.6, 0.3])\n",
    "\n",
    "# Standard Printing\n",
    "print(feature_map.construct_circuit(x))\n",
    "\n",
    "# Pretty Printing\n",
    "# feature_map.construct_circuit(x).draw(output=\"mpl\")"
   ]
  },
  {
   "cell_type": "markdown",
   "metadata": {},
   "source": [
    "### QSVM Algorithm\n",
    "\n",
    "- Qiskit aqua also provides a pre-defined function to train the whole QSVM. Where we only have to provide the feature map, a training and a test set and Qiskit will do all the work for us.\n",
    "\n",
    "- Apart from finding the quantum Kernel the QSVM algorithm does only classical optimization. In the end there is no difference to the classical SVM, except that the Kernels are coming from a quantum distribution."
   ]
  },
  {
   "cell_type": "code",
   "execution_count": 16,
   "metadata": {},
   "outputs": [],
   "source": [
    "from qiskit.aqua.algorithms import QSVM\n",
    "\n",
    "qsvm = QSVM(feature_map, training_input, test_input)"
   ]
  },
  {
   "cell_type": "markdown",
   "metadata": {},
   "source": [
    "#### Run QSVM\n",
    "\n",
    "Define where we would like to run this algorithm - this one will run it on a local QASM Simulator."
   ]
  },
  {
   "cell_type": "code",
   "execution_count": 19,
   "metadata": {},
   "outputs": [
    {
     "ename": "NameError",
     "evalue": "The CVXPY package is required to use the optimize_svm() function. You can install it with 'pip install qiskit-aqua[cvx]'.",
     "output_type": "error",
     "traceback": [
      "\u001b[1;31m---------------------------------------------------------------------------\u001b[0m",
      "\u001b[1;31mNameError\u001b[0m                                 Traceback (most recent call last)",
      "\u001b[1;32m<ipython-input-19-de037a39026a>\u001b[0m in \u001b[0;36m<module>\u001b[1;34m\u001b[0m\n\u001b[0;32m      6\u001b[0m \u001b[0mquantum_instance\u001b[0m \u001b[1;33m=\u001b[0m \u001b[0mQuantumInstance\u001b[0m\u001b[1;33m(\u001b[0m\u001b[0mbackend\u001b[0m\u001b[1;33m,\u001b[0m \u001b[0mshots\u001b[0m\u001b[1;33m=\u001b[0m\u001b[1;36m1024\u001b[0m\u001b[1;33m,\u001b[0m \u001b[0mseed_simulator\u001b[0m\u001b[1;33m=\u001b[0m\u001b[1;36m10598\u001b[0m\u001b[1;33m,\u001b[0m \u001b[0mseed_transpiler\u001b[0m\u001b[1;33m=\u001b[0m\u001b[1;36m10598\u001b[0m\u001b[1;33m)\u001b[0m\u001b[1;33m\u001b[0m\u001b[1;33m\u001b[0m\u001b[0m\n\u001b[0;32m      7\u001b[0m \u001b[1;33m\u001b[0m\u001b[0m\n\u001b[1;32m----> 8\u001b[1;33m \u001b[0mresult\u001b[0m \u001b[1;33m=\u001b[0m \u001b[0mqsvm\u001b[0m\u001b[1;33m.\u001b[0m\u001b[0mrun\u001b[0m\u001b[1;33m(\u001b[0m\u001b[0mquantum_instance\u001b[0m\u001b[1;33m)\u001b[0m\u001b[1;33m\u001b[0m\u001b[1;33m\u001b[0m\u001b[0m\n\u001b[0m",
      "\u001b[1;32mc:\\users\\versaggi\\qcousins\\lib\\site-packages\\qiskit\\aqua\\algorithms\\quantum_algorithm.py\u001b[0m in \u001b[0;36mrun\u001b[1;34m(self, quantum_instance, **kwargs)\u001b[0m\n\u001b[0;32m     68\u001b[0m                 \u001b[0mself\u001b[0m\u001b[1;33m.\u001b[0m\u001b[0mquantum_instance\u001b[0m \u001b[1;33m=\u001b[0m \u001b[0mquantum_instance\u001b[0m\u001b[1;33m\u001b[0m\u001b[1;33m\u001b[0m\u001b[0m\n\u001b[0;32m     69\u001b[0m \u001b[1;33m\u001b[0m\u001b[0m\n\u001b[1;32m---> 70\u001b[1;33m         \u001b[1;32mreturn\u001b[0m \u001b[0mself\u001b[0m\u001b[1;33m.\u001b[0m\u001b[0m_run\u001b[0m\u001b[1;33m(\u001b[0m\u001b[1;33m)\u001b[0m\u001b[1;33m\u001b[0m\u001b[1;33m\u001b[0m\u001b[0m\n\u001b[0m\u001b[0;32m     71\u001b[0m \u001b[1;33m\u001b[0m\u001b[0m\n\u001b[0;32m     72\u001b[0m     \u001b[1;33m@\u001b[0m\u001b[0mabstractmethod\u001b[0m\u001b[1;33m\u001b[0m\u001b[1;33m\u001b[0m\u001b[0m\n",
      "\u001b[1;32mc:\\users\\versaggi\\qcousins\\lib\\site-packages\\qiskit\\aqua\\algorithms\\classifiers\\qsvm\\qsvm.py\u001b[0m in \u001b[0;36m_run\u001b[1;34m(self)\u001b[0m\n\u001b[0;32m    454\u001b[0m \u001b[1;33m\u001b[0m\u001b[0m\n\u001b[0;32m    455\u001b[0m     \u001b[1;32mdef\u001b[0m \u001b[0m_run\u001b[0m\u001b[1;33m(\u001b[0m\u001b[0mself\u001b[0m\u001b[1;33m)\u001b[0m\u001b[1;33m:\u001b[0m\u001b[1;33m\u001b[0m\u001b[1;33m\u001b[0m\u001b[0m\n\u001b[1;32m--> 456\u001b[1;33m         \u001b[1;32mreturn\u001b[0m \u001b[0mself\u001b[0m\u001b[1;33m.\u001b[0m\u001b[0minstance\u001b[0m\u001b[1;33m.\u001b[0m\u001b[0mrun\u001b[0m\u001b[1;33m(\u001b[0m\u001b[1;33m)\u001b[0m\u001b[1;33m\u001b[0m\u001b[1;33m\u001b[0m\u001b[0m\n\u001b[0m\u001b[0;32m    457\u001b[0m \u001b[1;33m\u001b[0m\u001b[0m\n\u001b[0;32m    458\u001b[0m     \u001b[1;33m@\u001b[0m\u001b[0mproperty\u001b[0m\u001b[1;33m\u001b[0m\u001b[1;33m\u001b[0m\u001b[0m\n",
      "\u001b[1;32mc:\\users\\versaggi\\qcousins\\lib\\site-packages\\qiskit\\aqua\\algorithms\\classifiers\\qsvm\\_qsvm_binary.py\u001b[0m in \u001b[0;36mrun\u001b[1;34m(self)\u001b[0m\n\u001b[0;32m    134\u001b[0m     \u001b[1;32mdef\u001b[0m \u001b[0mrun\u001b[0m\u001b[1;33m(\u001b[0m\u001b[0mself\u001b[0m\u001b[1;33m)\u001b[0m\u001b[1;33m:\u001b[0m\u001b[1;33m\u001b[0m\u001b[1;33m\u001b[0m\u001b[0m\n\u001b[0;32m    135\u001b[0m         \u001b[1;34m\"\"\"Put the train, test, predict together.\"\"\"\u001b[0m\u001b[1;33m\u001b[0m\u001b[1;33m\u001b[0m\u001b[0m\n\u001b[1;32m--> 136\u001b[1;33m         \u001b[0mself\u001b[0m\u001b[1;33m.\u001b[0m\u001b[0mtrain\u001b[0m\u001b[1;33m(\u001b[0m\u001b[0mself\u001b[0m\u001b[1;33m.\u001b[0m\u001b[0m_qalgo\u001b[0m\u001b[1;33m.\u001b[0m\u001b[0mtraining_dataset\u001b[0m\u001b[1;33m[\u001b[0m\u001b[1;36m0\u001b[0m\u001b[1;33m]\u001b[0m\u001b[1;33m,\u001b[0m \u001b[0mself\u001b[0m\u001b[1;33m.\u001b[0m\u001b[0m_qalgo\u001b[0m\u001b[1;33m.\u001b[0m\u001b[0mtraining_dataset\u001b[0m\u001b[1;33m[\u001b[0m\u001b[1;36m1\u001b[0m\u001b[1;33m]\u001b[0m\u001b[1;33m)\u001b[0m\u001b[1;33m\u001b[0m\u001b[1;33m\u001b[0m\u001b[0m\n\u001b[0m\u001b[0;32m    137\u001b[0m         \u001b[1;32mif\u001b[0m \u001b[0mself\u001b[0m\u001b[1;33m.\u001b[0m\u001b[0m_qalgo\u001b[0m\u001b[1;33m.\u001b[0m\u001b[0mtest_dataset\u001b[0m \u001b[1;32mis\u001b[0m \u001b[1;32mnot\u001b[0m \u001b[1;32mNone\u001b[0m\u001b[1;33m:\u001b[0m\u001b[1;33m\u001b[0m\u001b[1;33m\u001b[0m\u001b[0m\n\u001b[0;32m    138\u001b[0m             \u001b[0mself\u001b[0m\u001b[1;33m.\u001b[0m\u001b[0mtest\u001b[0m\u001b[1;33m(\u001b[0m\u001b[0mself\u001b[0m\u001b[1;33m.\u001b[0m\u001b[0m_qalgo\u001b[0m\u001b[1;33m.\u001b[0m\u001b[0mtest_dataset\u001b[0m\u001b[1;33m[\u001b[0m\u001b[1;36m0\u001b[0m\u001b[1;33m]\u001b[0m\u001b[1;33m,\u001b[0m \u001b[0mself\u001b[0m\u001b[1;33m.\u001b[0m\u001b[0m_qalgo\u001b[0m\u001b[1;33m.\u001b[0m\u001b[0mtest_dataset\u001b[0m\u001b[1;33m[\u001b[0m\u001b[1;36m1\u001b[0m\u001b[1;33m]\u001b[0m\u001b[1;33m)\u001b[0m\u001b[1;33m\u001b[0m\u001b[1;33m\u001b[0m\u001b[0m\n",
      "\u001b[1;32mc:\\users\\versaggi\\qcousins\\lib\\site-packages\\qiskit\\aqua\\algorithms\\classifiers\\qsvm\\_qsvm_binary.py\u001b[0m in \u001b[0;36mtrain\u001b[1;34m(self, data, labels)\u001b[0m\n\u001b[0;32m     81\u001b[0m         \u001b[0mlabels\u001b[0m \u001b[1;33m=\u001b[0m \u001b[0mlabels\u001b[0m \u001b[1;33m*\u001b[0m \u001b[1;36m2\u001b[0m \u001b[1;33m-\u001b[0m \u001b[1;36m1\u001b[0m  \u001b[1;31m# map label from 0 --> -1 and 1 --> 1\u001b[0m\u001b[1;33m\u001b[0m\u001b[1;33m\u001b[0m\u001b[0m\n\u001b[0;32m     82\u001b[0m         \u001b[0mlabels\u001b[0m \u001b[1;33m=\u001b[0m \u001b[0mlabels\u001b[0m\u001b[1;33m.\u001b[0m\u001b[0mastype\u001b[0m\u001b[1;33m(\u001b[0m\u001b[0mnp\u001b[0m\u001b[1;33m.\u001b[0m\u001b[0mfloat\u001b[0m\u001b[1;33m)\u001b[0m\u001b[1;33m\u001b[0m\u001b[1;33m\u001b[0m\u001b[0m\n\u001b[1;32m---> 83\u001b[1;33m         \u001b[1;33m[\u001b[0m\u001b[0malpha\u001b[0m\u001b[1;33m,\u001b[0m \u001b[0mb\u001b[0m\u001b[1;33m,\u001b[0m \u001b[0msupport\u001b[0m\u001b[1;33m]\u001b[0m \u001b[1;33m=\u001b[0m \u001b[0moptimize_svm\u001b[0m\u001b[1;33m(\u001b[0m\u001b[0mkernel_matrix\u001b[0m\u001b[1;33m,\u001b[0m \u001b[0mlabels\u001b[0m\u001b[1;33m,\u001b[0m \u001b[0mscaling\u001b[0m\u001b[1;33m=\u001b[0m\u001b[0mscaling\u001b[0m\u001b[1;33m)\u001b[0m\u001b[1;33m\u001b[0m\u001b[1;33m\u001b[0m\u001b[0m\n\u001b[0m\u001b[0;32m     84\u001b[0m         \u001b[0msupport_index\u001b[0m \u001b[1;33m=\u001b[0m \u001b[0mnp\u001b[0m\u001b[1;33m.\u001b[0m\u001b[0mwhere\u001b[0m\u001b[1;33m(\u001b[0m\u001b[0msupport\u001b[0m\u001b[1;33m)\u001b[0m\u001b[1;33m\u001b[0m\u001b[1;33m\u001b[0m\u001b[0m\n\u001b[0;32m     85\u001b[0m         \u001b[0malphas\u001b[0m \u001b[1;33m=\u001b[0m \u001b[0malpha\u001b[0m\u001b[1;33m[\u001b[0m\u001b[0msupport_index\u001b[0m\u001b[1;33m]\u001b[0m\u001b[1;33m\u001b[0m\u001b[1;33m\u001b[0m\u001b[0m\n",
      "\u001b[1;32mc:\\users\\versaggi\\qcousins\\lib\\site-packages\\qiskit\\aqua\\utils\\qp_solver.py\u001b[0m in \u001b[0;36moptimize_svm\u001b[1;34m(kernel_matrix, y, scaling, max_iters, show_progress)\u001b[0m\n\u001b[0;32m     54\u001b[0m     \u001b[1;31m# pylint: disable=invalid-name, unused-argument\u001b[0m\u001b[1;33m\u001b[0m\u001b[1;33m\u001b[0m\u001b[1;33m\u001b[0m\u001b[0m\n\u001b[0;32m     55\u001b[0m     \u001b[1;32mif\u001b[0m \u001b[1;32mnot\u001b[0m \u001b[0mHAS_CVX\u001b[0m\u001b[1;33m:\u001b[0m\u001b[1;33m\u001b[0m\u001b[1;33m\u001b[0m\u001b[0m\n\u001b[1;32m---> 56\u001b[1;33m         raise NameError(\"The CVXPY package is required to use the \"\n\u001b[0m\u001b[0;32m     57\u001b[0m                         \u001b[1;34m\"optimize_svm() function. You can install it with \"\u001b[0m\u001b[1;33m\u001b[0m\u001b[1;33m\u001b[0m\u001b[0m\n\u001b[0;32m     58\u001b[0m                         \"'pip install qiskit-aqua[cvx]'.\")\n",
      "\u001b[1;31mNameError\u001b[0m: The CVXPY package is required to use the optimize_svm() function. You can install it with 'pip install qiskit-aqua[cvx]'."
     ]
    }
   ],
   "source": [
    "# from qiskit.aqua import run_algorithm, QuantumInstance\n",
    "from qiskit.aqua import QuantumInstance\n",
    "from qiskit import BasicAer\n",
    "\n",
    "backend = BasicAer.get_backend('qasm_simulator')\n",
    "quantum_instance = QuantumInstance(backend, shots=1024, seed_simulator=10598, seed_transpiler=10598)\n",
    "\n",
    "result = qsvm.run(quantum_instance)"
   ]
  },
  {
   "cell_type": "markdown",
   "metadata": {},
   "source": [
    "### Analyze output\n",
    "\n",
    "`results` is a dictionary that contains elements like the kernel matrix, the label predictions and also the classical weights of the QSVM.\n",
    "\n",
    "#### The kernel matrix for the training\n",
    "\n",
    "Since the training set contains 40 elements, the kernel matrix has dimension 40x40"
   ]
  },
  {
   "cell_type": "code",
   "execution_count": 24,
   "metadata": {
    "scrolled": true
   },
   "outputs": [
    {
     "data": {
      "image/png": "[encoded data removed]",
      "text/plain": [
       "<Figure size 432x288 with 1 Axes>"
      ]
     },
     "metadata": {
      "needs_background": "light"
     },
     "output_type": "display_data"
    },
    {
     "name": "stdout",
     "output_type": "stream",
     "text": [
      "size training set: 40\n",
      "Matrix dimension: (40, 40)\n"
     ]
    }
   ],
   "source": [
    "plt.scatter(training_input['Benign'][:,0], training_input['Benign'][:,1])\n",
    "plt.scatter(training_input['Malignant'][:,0], training_input['Malignant'][:,1])\n",
    "\n",
    "plt.show()\n",
    "\n",
    "length_data = len(training_input['Benign']) + len(training_input['Malignant'])\n",
    "\n",
    "print(\"size training set: {}\".format(length_data))\n",
    "print(\"Matrix dimension: {}\".format(result['kernel_matrix_training'].shape))"
   ]
  },
  {
   "cell_type": "markdown",
   "metadata": {},
   "source": [
    "> The success ratio shows how accurate the QSVM predicts the labels"
   ]
  },
  {
   "cell_type": "code",
   "execution_count": 25,
   "metadata": {},
   "outputs": [
    {
     "name": "stdout",
     "output_type": "stream",
     "text": [
      "testing success ratio:  0.9\n"
     ]
    }
   ],
   "source": [
    "print(\"testing success ratio: \", result['testing_accuracy'])"
   ]
  },
  {
   "cell_type": "code",
   "execution_count": 26,
   "metadata": {},
   "outputs": [],
   "source": [
    "test_set = np.concatenate((test_input['Benign'], test_input['Malignant']))\n",
    "y_test = qsvm.predict(test_set, quantum_instance)"
   ]
  },
  {
   "cell_type": "markdown",
   "metadata": {},
   "source": [
    "> Plot the results. The **first plot** shows the **label predictions** of the QSVM, and the **second plot** shows the **test labels**."
   ]
  },
  {
   "cell_type": "code",
   "execution_count": 27,
   "metadata": {},
   "outputs": [
    {
     "data": {
      "image/png": "[encoded data removed]",
      "text/plain": [
       "<Figure size 432x288 with 1 Axes>"
      ]
     },
     "metadata": {
      "needs_background": "light"
     },
     "output_type": "display_data"
    },
    {
     "data": {
      "image/png": "[encoded data removed]",
      "text/plain": [
       "<Figure size 432x288 with 1 Axes>"
      ]
     },
     "metadata": {
      "needs_background": "light"
     },
     "output_type": "display_data"
    }
   ],
   "source": [
    "plt.scatter(test_set[:, 0], test_set[:,1], c=y_test)\n",
    "plt.show()\n",
    "\n",
    "plt.scatter(test_input['Benign'][:,0], test_input['Benign'][:,1])\n",
    "plt.scatter(test_input['Malignant'][:,0], test_input['Malignant'][:,1])\n",
    "plt.show()"
   ]
  },
  {
   "cell_type": "code",
   "execution_count": null,
   "metadata": {},
   "outputs": [],
   "source": []
  },
  {
   "cell_type": "code",
   "execution_count": null,
   "metadata": {},
   "outputs": [],
   "source": []
  },
  {
   "cell_type": "markdown",
   "metadata": {},
   "source": [
    "## PENNYLANE: <font color=\"blue\">Quantum Natural Gradient</font>  \n",
    "- https://pennylane.ai/qml/demos/tutorial_quantum_natural_gradient.html\n",
    "\n",
    "> **<font color=\"red\">Quantum Advantage</font>:** - The Classical Gradient Descent method of training deep learning models is susceptible to the problem of \"becoming stuck in local minima\". This continues when Gradient Descent is used to train various quantum machine learning models.\n",
    "\n",
    "\n",
    "Gradient Descent (the same method used to train deep learning models) is the methodology used to train many successful algorithms (variational: VQE, QAOA, QNN) on quantum hardware - however, one issue has surfaced indigenous to gradient descent - how do we choose the **optimal step size** for these variational quantum algorithms to ensure successful and efficient optimization and help avoid optimization becoming stuck in local minima? This is a non trivial concern.\n",
    "\n",
    "It would be better to avoid gradient descent in the parameter space altogether. If one instead considered the optimization problem as a **probability distribution** of possible output values given an input, then **a better approach is to perform the gradient descent in the distribution space**, which is **dimensionless and invariant** with respect to the parametrization. \n",
    "\n",
    "As a result, each optimization step will **<font color=\"red\">always</font>** choose the optimum step-size for every parameter, regardless of the parametrization.\n",
    "\n",
    "- Example: As opposed to **classical computation**, which **requires <font color=\"red\">six</font> different** quantum evaluations, the **Quantum Calculation** PennyLane Fubini-Study metric tensor implementation only **requires <font color=\"red\">two</font>** quantum evaluations, one per layer.\n",
    "\n",
    "\n",
    "\n",
    "\n",
    "<BR>\n",
    "\n",
    "> ### <font color=\"blue\">Classical Approach:</font> Gradient Descent Problem\n",
    "![GradientDescentPlot](img/GradientDescentPlot.png \"GradientDescentPlot\")\n",
    "\n",
    "<BR>\n",
    "\n",
    "> ### <font color=\"blue\">Quantum Approach:</font> Distribution Space Descent Solution\n",
    "![DistributionSpaceDescentPlot](img/DistributionSpaceDescentPlot.png \"DistributionSpaceDescentPlot\")\n",
    "\n",
    "<BR>\n",
    "\n",
    "> ### <font color=\"blue\">Quantum vs Classical Comparison</font>\n",
    "![QuantumNaturalGradient](img/QuantumNaturalGradient.png \"QuantumNaturalGradient\")"
   ]
  },
  {
   "cell_type": "markdown",
   "metadata": {},
   "source": [
    "## NOTE: <font color=\"blue\">The purpose of this code base</font> \n",
    "\n",
    "> This code base is provided simply to expose the reader to working Quantum Machine Learning code that illustrates the different behaviors of **Classical** Gradient Descent and **Quantum** Gradient Descent, particularly computational speedups gained in the computation of the different cost functions **(\"parameter\" space vs \"distribution\" space)**.\n",
    "\n",
    "- It's not provided to teach the reader QML or Pennylane - that is beyond the scope of this exercise.\n",
    "\n"
   ]
  },
  {
   "cell_type": "code",
   "execution_count": null,
   "metadata": {},
   "outputs": [],
   "source": [
    "import numpy as np\n",
    "\n",
    "import pennylane as qml\n",
    "from pennylane import expval, var\n",
    "\n",
    "dev = qml.device(\"default.qubit\", wires=3)\n",
    "\n",
    "\n",
    "@qml.qnode(dev)\n",
    "def circuit(params):\n",
    "    # |psi_0>: state preparation\n",
    "    qml.RY(np.pi / 4, wires=0)\n",
    "    qml.RY(np.pi / 3, wires=1)\n",
    "    qml.RY(np.pi / 7, wires=2)\n",
    "\n",
    "    # V0(theta0, theta1): Parametrized layer 0\n",
    "    qml.RZ(params[0], wires=0)\n",
    "    qml.RZ(params[1], wires=1)\n",
    "\n",
    "    # W1: non-parametrized gates\n",
    "    qml.CNOT(wires=[0, 1])\n",
    "    qml.CNOT(wires=[1, 2])\n",
    "\n",
    "    # V_1(theta2, theta3): Parametrized layer 1\n",
    "    qml.RY(params[2], wires=1)\n",
    "    qml.RX(params[3], wires=2)\n",
    "\n",
    "    # W2: non-parametrized gates\n",
    "    qml.CNOT(wires=[0, 1])\n",
    "    qml.CNOT(wires=[1, 2])\n",
    "\n",
    "    return qml.expval(qml.PauliY(0))\n",
    "\n",
    "\n",
    "params = np.array([0.432, -0.123, 0.543, 0.233])\n",
    "\n",
    "g0 = np.zeros([2, 2])\n",
    "\n",
    "\n",
    "def layer0_subcircuit(params):\n",
    "    \"\"\"This function contains all gates that\n",
    "    precede parametrized layer 0\"\"\"\n",
    "    qml.RY(np.pi / 4, wires=0)\n",
    "    qml.RY(np.pi / 3, wires=1)\n",
    "    qml.RY(np.pi / 7, wires=2)\n",
    "    \n",
    "    \n",
    "@qml.qnode(dev)\n",
    "def layer0_diag(params):\n",
    "    layer0_subcircuit(params)\n",
    "    return var(qml.PauliZ(0)), var(qml.PauliZ(1))\n",
    "\n",
    "# calculate the diagonal terms\n",
    "varK0, varK1 = layer0_diag(params)\n",
    "g0[0, 0] = varK0 / 4\n",
    "g0[1, 1] = varK1 / 4\n",
    "\n",
    "\n",
    "@qml.qnode(dev)\n",
    "def layer0_off_diag_single(params):\n",
    "    layer0_subcircuit(params)\n",
    "    return expval(qml.PauliZ(0)), expval(qml.PauliZ(1))\n",
    "\n",
    "\n",
    "@qml.qnode(dev)\n",
    "def layer0_off_diag_double(params):\n",
    "    layer0_subcircuit(params)\n",
    "    ZZ = np.kron(np.diag([1, -1]), np.diag([1, -1]))\n",
    "    return expval(qml.Hermitian(ZZ, wires=[0, 1]))\n",
    "\n",
    "\n",
    "# calculate the off-diagonal terms\n",
    "exK0, exK1 = layer0_off_diag_single(params)\n",
    "exK0K1 = layer0_off_diag_double(params)\n",
    "\n",
    "g0[0, 1] = (exK0K1 - exK0 * exK1) / 4\n",
    "g0[1, 0] = (exK0K1 - exK0 * exK1) / 4\n",
    "\n",
    "\n",
    "g1 = np.zeros([2, 2])\n",
    "\n",
    "def layer1_subcircuit(params):\n",
    "    \"\"\"This function contains all gates that\n",
    "    precede parametrized layer 1\"\"\"\n",
    "    # |psi_0>: state preparation\n",
    "    qml.RY(np.pi / 4, wires=0)\n",
    "    qml.RY(np.pi / 3, wires=1)\n",
    "    qml.RY(np.pi / 7, wires=2)\n",
    "\n",
    "    # V0(theta0, theta1): Parametrized layer 0\n",
    "    qml.RZ(params[0], wires=0)\n",
    "    qml.RZ(params[1], wires=1)\n",
    "\n",
    "    # W1: non-parametrized gates\n",
    "    qml.CNOT(wires=[0, 1])\n",
    "    qml.CNOT(wires=[1, 2])\n",
    "    \n",
    "    \n",
    "@qml.qnode(dev)\n",
    "def layer1_diag(params):\n",
    "    layer1_subcircuit(params)\n",
    "    return var(qml.PauliY(1)), var(qml.PauliX(2))\n",
    "\n",
    "\n",
    "@qml.qnode(dev)\n",
    "def layer1_off_diag_single(params):\n",
    "    layer1_subcircuit(params)\n",
    "    return expval(qml.PauliY(1)), expval(qml.PauliX(2))\n",
    "\n",
    "\n",
    "@qml.qnode(dev)\n",
    "def layer1_off_diag_double(params):\n",
    "    layer1_subcircuit(params)\n",
    "    X = np.array([[0, 1], [1, 0]])\n",
    "    Y = np.array([[0, -1j], [1j, 0]])\n",
    "    YX = np.kron(Y, X)\n",
    "    return expval(qml.Hermitian(YX, wires=[1, 2]))\n",
    "\n",
    "\n",
    "# calculate the off-diagonal terms\n",
    "exK0, exK1 = layer1_off_diag_single(params)\n",
    "exK0K1 = layer1_off_diag_double(params)\n",
    "\n",
    "g1[0, 1] = (exK0K1 - exK0 * exK1) / 4\n",
    "g1[1, 0] = g1[0, 1]\n",
    "\n",
    "\n",
    "from scipy.linalg import block_diag\n",
    "\n",
    "g = block_diag(g0, g1)\n",
    "\n",
    "# print(np.round(g, 8))\n",
    "# print(np.round(circuit.metric_tensor([params]), 8))\n",
    "# print(circuit.metric_tensor([params], diag_approx=True))\n",
    "\n",
    "steps = 200\n",
    "init_params = np.array([0.432, -0.123, 0.543, 0.233])\n",
    "\n",
    "\n",
    "# Gradient descent cost FN\n",
    "gd_cost = []\n",
    "opt = qml.GradientDescentOptimizer(0.01)\n",
    "\n",
    "theta = init_params\n",
    "for _ in range(steps):\n",
    "    theta = opt.step(circuit, theta)\n",
    "    gd_cost.append(circuit(theta))\n",
    "    \n",
    "    \n",
    "# Quantum Natural descent cost FN\n",
    "qng_cost = []\n",
    "opt = qml.QNGOptimizer(0.01)\n",
    "\n",
    "theta = init_params\n",
    "for _ in range(steps):\n",
    "    theta = opt.step(circuit, theta)\n",
    "    qng_cost.append(circuit(theta))\n",
    "    "
   ]
  },
  {
   "cell_type": "code",
   "execution_count": null,
   "metadata": {},
   "outputs": [],
   "source": [
    "from matplotlib import pyplot as plt\n",
    "\n",
    "plt.style.use(\"seaborn\")\n",
    "plt.plot(gd_cost, \"b\", label=\"Vanilla gradient descent\")\n",
    "plt.plot(qng_cost, \"g\", label=\"Quantum natural gradient descent\")\n",
    "\n",
    "plt.ylabel(\"Cost function value\")\n",
    "plt.xlabel(\"Optimization steps\")\n",
    "plt.legend()\n",
    "plt.show()"
   ]
  },
  {
   "cell_type": "code",
   "execution_count": null,
   "metadata": {},
   "outputs": [],
   "source": []
  },
  {
   "cell_type": "markdown",
   "metadata": {},
   "source": [
    "## PENNYLANE: <font color=\"blue\">Quantum Embeddings and Metric Learning</font>  \n",
    "- https://pennylane.ai/qml/demos/tutorial_embeddings_metric_learning.html\n",
    "- (Inspiration): https://pennylane.ai/qml/demos/tutorial_quantum_transfer_learning.html\n",
    "\n",
    "> **<font color=\"red\">Quantum Advantage</font>:** A simple metric in Hilbert space corresponds to a \"potentially\" much more complex metric in the original data space, therefore simple decision boundary can translate to a **non-trivial decision boundary** in the original space of the data.\n",
    "\n",
    "\n",
    "\n",
    "\n",
    "\n",
    "<BR>\n",
    "\n",
    "> **<font color=\"blue\">Quantum metric learning</font>** trains a quantum embedding—for example, a quantum circuit that encodes classical data into quantum states to separate different classes of data in the Hilbert space of the quantum system.\n",
    "\n",
    "![Quantum_Embeddings-HilbertSpace](img/Quantum_Embeddings-HilbertSpace.png \"Quantum_Embeddings-HilbertSpace\")\n",
    "\n",
    "<BR>\n",
    "\n",
    "> A new data sample (red dot) gets mapped into Hilbert space via the same embedding, and a special measurement compares it to the two embedded classes. The decision boundary of the measurement in quantum state space is nearly linear (red dashed line).\n",
    "\n",
    "![Quantum_Embeddings-Classifications](img/Quantum_Embeddings-Classifications.png \"Quantum_Embeddings-Classifications\")\n",
    "\n",
    "<BR>\n",
    "\n",
    "> Since a simple metric in Hilbert space corresponds to a potentially much more complex metric in the original data space, the simple decision boundary can translate to a non-trivial decision boundary in the original space of the data.\n",
    "\n",
    "![Quantum_Embeddings-ComplexMetric](img/Quantum_Embeddings-ComplexMetric.png \"Quantum_Embeddings-ComplexMetric\")\n",
    "\n",
    "\n",
    ">  This code implements a trainable, hybrid classical-quantum embedding implemented by a partially pre-trained classical neural network, followed by a parametrized quantum circuit that implements the quantum feature map.\n",
    "\n",
    "![Quantum_Embedding-Circuit](img/Quantum_Embedding-Circuit.png \"Quantum_Embedding-Circuit\")\n",
    "\n"
   ]
  },
  {
   "cell_type": "markdown",
   "metadata": {},
   "source": [
    "## NOTE: <font color=\"blue\">The purpose of this code base</font> \n",
    "\n",
    "> This code base is provided simply to expose the reader to working Quantum Machine Learning code that illustrates the different behaviors of Quantum embeddings and metric learning - in particular how to show how a **simple metric in hilbert space (on the bloch sphere)** can translate into a **non-trivial decision boundary** in the original space of the data.\n",
    "\n",
    "- It's not provided to teach the reader QML or Pennylane - that is beyond the scope of this exercise."
   ]
  },
  {
   "cell_type": "markdown",
   "metadata": {},
   "source": [
    "## Data:\n",
    "\n",
    ">  The Image Classifier (via transfer learning) is for Ants and Bees - binary supervised learning problem.\n",
    "\n",
    "![Quantum_Embedding-Ants-Bees](img/Quantum_Embedding-Ants-Bees.png \"Quantum_Embedding-Ants-Bees\")\n",
    "\n",
    "\n",
    "- For convenience, instead of coding up the classical neural network, we load pre-extracted feature vectors of the images. These were created by resizing, cropping and normalizing the images, and passing them through PyTorch’s pretrained ResNet 512 (that is, without the final linear layer)."
   ]
  },
  {
   "cell_type": "code",
   "execution_count": 17,
   "metadata": {},
   "outputs": [
    {
     "name": "stdout",
     "output_type": "stream",
     "text": [
      "(83, 512)\n",
      "(70, 512)\n"
     ]
    }
   ],
   "source": [
    "%matplotlib inline\n",
    "import matplotlib.pyplot as plt\n",
    "from mpl_toolkits.axes_grid1 import make_axes_locatable\n",
    "\n",
    "import pennylane as qml\n",
    "from pennylane import numpy as np\n",
    "from pennylane import RX, RY, RZ, CNOT\n",
    "\n",
    "def feature_encoding_hamiltonian(features, wires):\n",
    "\n",
    "    for idx, w in enumerate(wires):\n",
    "        RX(features[idx], wires=w)\n",
    "\n",
    "def ising_hamiltonian(weights, wires, l):\n",
    "\n",
    "        # ZZ coupling\n",
    "        CNOT(wires=wires)\n",
    "        RZ(2 * weights[l, 0], wires=wires[0])\n",
    "        CNOT(wires=wires)\n",
    "        # local fields\n",
    "        for idx, w in enumerate(wires):\n",
    "            RY(weights[l, idx + 1], wires=w)\n",
    "\n",
    "def QAOAEmbedding(features, weights, wires):\n",
    "\n",
    "    repeat = len(weights)\n",
    "    for l in range(repeat):\n",
    "        # apply alternating Hamiltonians\n",
    "        feature_encoding_hamiltonian(features, wires)\n",
    "        ising_hamiltonian(weights, wires, l)\n",
    "    # repeat the feature encoding once more at the end\n",
    "    feature_encoding_hamiltonian(features, wires)\n",
    "    \n",
    "    \n",
    "# For convenience, instead of coding up the classical neural network, \n",
    "# we load pre-extracted feature vectors of the images. These were created \n",
    "# by resizing, cropping and normalizing the images, and passing them through \n",
    "# PyTorch’s pretrained ResNet 512 (that is, without the final linear layer).\n",
    "    \n",
    "X = np.loadtxt(\"data/embedding_metric_learning/X_antbees.txt\", ndmin=2)  #1  pre-extracted inputs\n",
    "Y = np.loadtxt(\"data/embedding_metric_learning/Y_antbees.txt\")  # labels\n",
    "X_val = np.loadtxt(\n",
    "    \"data/embedding_metric_learning/X_antbees_test.txt\", ndmin=2\n",
    ")  # pre-extracted validation inputs\n",
    "Y_val = np.loadtxt(\"data/embedding_metric_learning/Y_antbees_test.txt\")  # validation labels\n",
    "\n",
    "# split data into two classes\n",
    "A = X[Y == -1]\n",
    "B = X[Y == 1]\n",
    "A_val = X_val[Y_val == -1]\n",
    "B_val = X_val[Y_val == 1]\n",
    "\n",
    "# Print the respective Data's shape.\n",
    "#\n",
    "print(A.shape)\n",
    "print(B.shape)"
   ]
  },
  {
   "cell_type": "markdown",
   "metadata": {},
   "source": [
    "## Cost:\n",
    "\n",
    "- The distance metric underlying the notion of ‘separation’ is the ℓ2  or Hilbert-Schmidt norm."
   ]
  },
  {
   "cell_type": "code",
   "execution_count": 18,
   "metadata": {},
   "outputs": [],
   "source": [
    "n_features = 2\n",
    "n_qubits = 2 * n_features + 1\n",
    "\n",
    "dev = qml.device(\"default.qubit\", wires=n_qubits)\n",
    "\n",
    "@qml.qnode(dev)\n",
    "def swap_test(q_weights, x1, x2):\n",
    "\n",
    "    # load the two inputs into two different registers\n",
    "    QAOAEmbedding(features=x1, weights=q_weights, wires=[1, 2])\n",
    "    QAOAEmbedding(features=x2, weights=q_weights, wires=[3, 4])\n",
    "\n",
    "    # perform the SWAP test\n",
    "    qml.Hadamard(wires=0)\n",
    "    for k in range(n_features):\n",
    "        qml.CSWAP(wires=[0, k + 1, 2 + k + 1])\n",
    "    qml.Hadamard(wires=0)\n",
    "\n",
    "    return qml.expval(qml.PauliZ(0))\n",
    "\n",
    "def overlaps(weights, X1=None, X2=None):\n",
    "\n",
    "    linear_layer = weights[0]\n",
    "    q_weights = weights[1]\n",
    "\n",
    "    overlap = 0\n",
    "    for x1 in X1:\n",
    "        for x2 in X2:\n",
    "            # multiply the inputs with the linear layer weight matrix\n",
    "            w_x1 = linear_layer @ x1\n",
    "            w_x2 = linear_layer @ x2\n",
    "            # overlap of embedded intermediate features\n",
    "            overlap += swap_test(q_weights, w_x1, w_x2)\n",
    "\n",
    "    mean_overlap = overlap / (len(X1) * len(X2))\n",
    "    return mean_overlap\n",
    "\n",
    "\n",
    "def cost(weights, A=None, B=None):\n",
    "\n",
    "    aa = overlaps(weights, X1=A, X2=A)\n",
    "    bb = overlaps(weights, X1=B, X2=B)\n",
    "    ab = overlaps(weights, X1=A, X2=B)\n",
    "\n",
    "    d_hs = -2 * ab + (aa + bb)\n",
    "\n",
    "    return 1 - 0.5 * d_hs\n",
    "\n"
   ]
  },
  {
   "cell_type": "markdown",
   "metadata": {},
   "source": [
    "## Optimization:\n"
   ]
  },
  {
   "cell_type": "code",
   "execution_count": 19,
   "metadata": {},
   "outputs": [],
   "source": [
    "# generate initial parameters for circuit\n",
    "init_pars_quantum = np.random.normal(loc=0, scale=0.1, size=(4, 3))\n",
    "\n",
    "# generate initial parameters for linear layer\n",
    "init_pars_classical = np.random.normal(loc=0, scale=0.1, size=(2, 512))\n",
    "\n",
    "init_pars = [init_pars_classical, init_pars_quantum]"
   ]
  },
  {
   "cell_type": "markdown",
   "metadata": {},
   "source": [
    "## Train:\n",
    "\n",
    "- Training is sensitive to the hyperparameters such as the batch size, initial parameters and optimizer used."
   ]
  },
  {
   "cell_type": "code",
   "execution_count": 20,
   "metadata": {},
   "outputs": [
    {
     "name": "stdout",
     "output_type": "stream",
     "text": [
      "Step 0 done.\n",
      "Step 1 done.\n"
     ]
    }
   ],
   "source": [
    "optimizer = qml.RMSPropOptimizer(stepsize=0.01)\n",
    "batch_size = 5\n",
    "pars = init_pars\n",
    "\n",
    "for i in range(2):\n",
    "\n",
    "    # Sample a batch of training inputs from each class\n",
    "    selectA = np.random.choice(range(len(A)), size=(batch_size,), replace=True)\n",
    "    selectB = np.random.choice(range(len(B)), size=(batch_size,), replace=True)\n",
    "    A_batch = [A[s] for s in selectA]\n",
    "    B_batch = [B[s] for s in selectB]\n",
    "\n",
    "    # Walk one optimization step\n",
    "    pars = optimizer.step(lambda w: cost(w, A=A_batch, B=B_batch), pars)\n",
    "    print(\"Step\", i, \"done.\")\n",
    "\n",
    "    # Print the validation cost every 10 steps\n",
    "    if i % 5 == 0 and i != 0:\n",
    "        cst = cost(pars, A=A_val, B=B_val)\n",
    "        print(\"Cost on validation set {:2f}\".format(cst))"
   ]
  },
  {
   "cell_type": "code",
   "execution_count": 21,
   "metadata": {
    "scrolled": true
   },
   "outputs": [
    {
     "name": "stdout",
     "output_type": "stream",
     "text": [
      "[array([[ 0.07892546,  0.18963997,  0.01267011, ..., -0.41917757,\n",
      "         0.13794201, -0.31620719],\n",
      "       [-0.49709026, -0.49160803, -0.16817771, ...,  0.35410417,\n",
      "        -0.28687695,  0.25804757]])\n",
      " array([[ 1.28247918e-03, -2.53456415e-05, -2.53456415e-05],\n",
      "       [ 1.55648560e-06,  1.65446338e-02,  1.55648553e-06],\n",
      "       [ 8.12333186e-06, -1.99865981e-04,  6.71177010e-03],\n",
      "       [-2.92851167e-03,  8.12333185e-06,  1.09834400e-03]])]\n"
     ]
    }
   ],
   "source": [
    "pretrained_pars = np.load(\"data/embedding_metric_learning/pretrained_parameters.npy\", allow_pickle=True)\n",
    "\n",
    "print(pretrained_pars)"
   ]
  },
  {
   "cell_type": "markdown",
   "metadata": {},
   "source": [
    "## Analysis:\n",
    "\n",
    "- A useful way to visualize the distance of data points is to plot a Gram matrix of the overlaps of different feature states."
   ]
  },
  {
   "cell_type": "code",
   "execution_count": 22,
   "metadata": {},
   "outputs": [],
   "source": [
    "select = 10"
   ]
  },
  {
   "cell_type": "code",
   "execution_count": 23,
   "metadata": {},
   "outputs": [
    {
     "name": "stdout",
     "output_type": "stream",
     "text": [
      "Cost for pretrained parameters on training set: 9.496280768361842e-05\n",
      "Cost for pretrained parameters on validation set: 9.496280768361842e-05\n"
     ]
    }
   ],
   "source": [
    "cost_train = cost(pretrained_pars, A=A[:select], B=B[:select])\n",
    "cost_val = cost(pretrained_pars, A=A_val[:select], B=B_val[:select])\n",
    "\n",
    "print(\"Cost for pretrained parameters on training set:\", cost_train)\n",
    "print(\"Cost for pretrained parameters on validation set:\", cost_val)"
   ]
  },
  {
   "cell_type": "markdown",
   "metadata": {},
   "source": [
    "## Analysis:\n",
    "\n",
    "- Before training, the separation between the classes is not recognizable in the Gram matrix.\n",
    "\n",
    "\n",
    "> Generated Plot (below) in grayscale.\n",
    "\n",
    "![Gram_Matrix-NoSeperation](img/Gram_Matrix-NoSeperation.png \"Gram_Matrix-NoSeperation\")"
   ]
  },
  {
   "cell_type": "code",
   "execution_count": 24,
   "metadata": {
    "scrolled": true
   },
   "outputs": [
    {
     "data": {
      "image/png": "[encoded data removed]",
      "text/plain": [
       "<Figure size 432x288 with 2 Axes>"
      ]
     },
     "metadata": {
      "needs_background": "light"
     },
     "output_type": "display_data"
    }
   ],
   "source": [
    "A_B = np.r_[A[:select], B[:select]]\n",
    "\n",
    "gram_before = [[overlaps(init_pars, X1=[x1], X2=[x2]) for x1 in A_B] for x2 in A_B]\n",
    "\n",
    "ax = plt.subplot(111)\n",
    "im = ax.matshow(gram_before, vmin=0, vmax=1)\n",
    "divider = make_axes_locatable(ax)\n",
    "cax = divider.append_axes(\"right\", size=\"5%\", pad=0.05)\n",
    "plt.colorbar(im, cax=cax)\n",
    "plt.show()\n"
   ]
  },
  {
   "cell_type": "markdown",
   "metadata": {},
   "source": [
    "## Analysis:\n",
    "\n",
    "- After training, the gram matrix clearly separates the two classes.\n",
    "\n",
    "\n",
    "> Generated Plot (below) in grayscale.\n",
    "\n",
    "![Gram_Matrix-Separation](img/Gram_Matrix-Separation.png \"Gram_Matrix-Separation\")"
   ]
  },
  {
   "cell_type": "code",
   "execution_count": 23,
   "metadata": {
    "scrolled": true
   },
   "outputs": [
    {
     "data": {
      "image/png": "[encoded data removed]",
      "text/plain": [
       "<Figure size 432x288 with 2 Axes>"
      ]
     },
     "metadata": {
      "needs_background": "light"
     },
     "output_type": "display_data"
    }
   ],
   "source": [
    "gram_after = [[overlaps(pretrained_pars, X1=[x1], X2=[x2]) for x1 in A_B] for x2 in A_B]\n",
    "\n",
    "ax = plt.subplot(111)\n",
    "im = ax.matshow(gram_after, vmin=0, vmax=1)\n",
    "divider = make_axes_locatable(ax)\n",
    "cax = divider.append_axes(\"right\", size=\"5%\", pad=0.05)\n",
    "plt.colorbar(im, cax=cax)\n",
    "plt.show()"
   ]
  },
  {
   "cell_type": "markdown",
   "metadata": {},
   "source": [
    "## Analysis:\n",
    "\n",
    "- We can also visualize the “intermediate layer” of 2-dimensional vectors just before feeding them into the quantum circuit. Before training the classes are arbitrarily intermixed.\n"
   ]
  },
  {
   "cell_type": "code",
   "execution_count": 25,
   "metadata": {
    "scrolled": true
   },
   "outputs": [
    {
     "data": {
      "image/png": "[encoded data removed]",
      "text/plain": [
       "<Figure size 432x288 with 1 Axes>"
      ]
     },
     "metadata": {
      "needs_background": "light"
     },
     "output_type": "display_data"
    }
   ],
   "source": [
    "for a in A:\n",
    "    intermediate_a = init_pars[0] @ a\n",
    "    plt.scatter(intermediate_a[:][0], intermediate_a[:][1], c=\"red\")\n",
    "\n",
    "for b in B:\n",
    "    intermediate_b = init_pars[0] @ b\n",
    "    plt.scatter(intermediate_b[:][0], intermediate_b[:][1], c=\"blue\")\n",
    "    \n",
    "    "
   ]
  },
  {
   "cell_type": "markdown",
   "metadata": {},
   "source": [
    "## Analysis:\n",
    "\n",
    "- After training, the linear layer learned to arrange the intermediate feature vectors on a periodic grid.\n"
   ]
  },
  {
   "cell_type": "code",
   "execution_count": 26,
   "metadata": {
    "scrolled": true
   },
   "outputs": [
    {
     "data": {
      "image/png": "[encoded data removed]",
      "text/plain": [
       "<Figure size 432x288 with 1 Axes>"
      ]
     },
     "metadata": {
      "needs_background": "light"
     },
     "output_type": "display_data"
    }
   ],
   "source": [
    "for a in A:\n",
    "    intermediate_a = pretrained_pars[0] @ a\n",
    "    plt.scatter(intermediate_a[:][0], intermediate_a[:][1], c=\"red\")\n",
    "\n",
    "for b in B:\n",
    "    intermediate_b = pretrained_pars[0] @ b\n",
    "    plt.scatter(intermediate_b[:][0], intermediate_b[:][1], c=\"blue\")\n",
    "    "
   ]
  },
  {
   "cell_type": "markdown",
   "metadata": {},
   "source": [
    "## Classification:\n",
    "\n",
    "- Let us consider a picture of an ant from the validation set (assuming our model never saw it during training)\n",
    "\n",
    "<BR>\n",
    "\n",
    "![Gram_Matrix-AntPicture](img/Gram_Matrix-AntPicture.png \"Gram_Matrix-AntPicture\")"
   ]
  },
  {
   "cell_type": "markdown",
   "metadata": {},
   "source": [
    "After passing it through the classical neural network (excluding the final linear layer), the 512-dimensional feature vector is given by **A_val[0]** ."
   ]
  },
  {
   "cell_type": "code",
   "execution_count": 27,
   "metadata": {},
   "outputs": [
    {
     "name": "stdout",
     "output_type": "stream",
     "text": [
      "(512,)\n"
     ]
    }
   ],
   "source": [
    "x_new = A_val[0]\n",
    "\n",
    "print(x_new.shape)"
   ]
  },
  {
   "cell_type": "markdown",
   "metadata": {},
   "source": [
    "We compare the new input with randomly selected samples. The more samples used, the smaller the variance in the prediction.\n",
    "\n",
    "- Since the result is **negative**, the new data point is (*correctly*) predicted to be a **picture of an ant**, which was the class with **-1 labels**."
   ]
  },
  {
   "cell_type": "code",
   "execution_count": 29,
   "metadata": {},
   "outputs": [
    {
     "name": "stdout",
     "output_type": "stream",
     "text": [
      "-0.5549821301602619\n"
     ]
    }
   ],
   "source": [
    "n_samples = 200\n",
    "\n",
    "prediction = 0\n",
    "for s in range(n_samples):\n",
    "\n",
    "    # select a random sample from the training set\n",
    "    sample_index = np.random.choice(len(X))\n",
    "    x = X[sample_index]\n",
    "    y = Y[sample_index]\n",
    "\n",
    "    # compute the overlap between training sample and new input\n",
    "    overlap = overlaps(pretrained_pars, X1=[x], X2=[x_new])\n",
    "\n",
    "    # add the label weighed by the overlap to the prediction\n",
    "    prediction += y * overlap\n",
    "\n",
    "# normalize prediction\n",
    "prediction = prediction / n_samples\n",
    "print(prediction)"
   ]
  },
  {
   "cell_type": "markdown",
   "metadata": {},
   "source": [
    "![the-end](img/the-end.png \"the-end\")"
   ]
  }
 ],
 "metadata": {
  "kernelspec": {
   "display_name": "qcousins",
   "language": "python",
   "name": "qcousins"
  },
  "language_info": {
   "codemirror_mode": {
    "name": "ipython",
    "version": 3
   },
   "file_extension": ".py",
   "mimetype": "text/x-python",
   "name": "python",
   "nbconvert_exporter": "python",
   "pygments_lexer": "ipython3",
   "version": "3.7.1"
  }
 },
 "nbformat": 4,
 "nbformat_minor": 2
}
