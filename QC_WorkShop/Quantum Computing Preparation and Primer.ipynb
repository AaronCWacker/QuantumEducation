{
 "cells": [
  {
   "cell_type": "markdown",
   "metadata": {},
   "source": [
    "# Quantum Computing - Preparation and Primer\n",
    "\n",
    "- #### Hands-on Experiential Learning <font color=\"red\">for the Software Engineer</font>"
   ]
  },
  {
   "cell_type": "markdown",
   "metadata": {},
   "source": [
    "![QCPP-Banner](img/QCPP-Banner.png \"QCPP-Banner\")\n",
    "\n",
    "<BR>\n",
    "    \n",
    "<font color=\"red\">**Notice**</font>: All materials herein were <font color=\"red\">**curated**</font> by **Matthew R. Versaggi (profversaggi@gmail.com)** and are released into the open source to foster growth and welfare of expanding the Quantum Computing domain - the only obligation one incurs when using, copying, distributing or referencing this is to kindly reference the author and send me an email so I know how useful the material is to you.\n",
    "\n",
    "<font color=\"red\">**Notice**</font>: Python Code contributions for the Circle Plots are the work of **David Radcliffe**."
   ]
  },
  {
   "cell_type": "markdown",
   "metadata": {},
   "source": [
    "## Pedagogical Approach: (<font color=\"red\">**Read this first !**</font>)\n",
    "\n",
    "This material is intended to educate **software engineers** in certain aspects of Quantum Computing, therefore its focus will be on conveying the conceptual ideas in a form digestible to them, and supporting it with exercises to reinforce those concepts. \n",
    "\n",
    "Because of that pedagogical approach, **this material won't lead with or heavily leverage the concepts and language indigenous to physics and math**, but only in those terms most easily digestible to the modern software engineer.\n",
    "\n",
    "This Jupyter Notebook is <font color=\"red\">**not intended as a stand alone educational vehicle**</font>  - it's meant to be accompanied by a decicated power point deck that contains the main concepts to be presented by an instructor - **it is intended as a vehicle for a hands on workshop environment to facilitate learning through a guided experience.**\n",
    "\n",
    "> **Note:-** Because of the above educational approach:\n",
    "1. There is a certain amount of **basic Quantum Computing knowledge** that is assumed.\n",
    "2. An active internet connection is **always** assumed.\n",
    "3. Online references/links will be provided where appropriate\n",
    "4. References to books will be made where appropriate\n",
    "5. Much of this material is **dense and detailed**, the reader is <font color=\"red\">**cautioned**</font> to be careful and slow to digest the *nuances* of the material."
   ]
  },
  {
   "cell_type": "markdown",
   "metadata": {},
   "source": [
    "## What you will be exposed to - High level: \n",
    "\n",
    "\n",
    "- **Software engineers in the Quantum Computing** space need to **know what the QC tools, frameworks, and simulators are and how they work**.\n",
    "- Given the above, there are a host of technical concepts that need to be **<font color=\"red\">understood experientially</font>** - we'll intentionally employ a vendor / framework agnostic approach to focus on the delivery of concept understanding and intuition procurement as the main value-add.\n",
    "\n",
    "### High Level Agenda (<font color=\"red\">*major sections*</font>): - Quantum Computing Tools, Frameworks, and Simulators for the software engineer.\n",
    "\n",
    "#### Context (*drive-by discussion*)\n",
    "> 0. <font color=\"blue\">*Context:- Quantum Computing*</font>\n",
    "> 0. <font color=\"blue\">*Quantum Computing Roadmap*</font>\n",
    "> 0. <font color=\"blue\">*Quantum Computing Discussion 1*</font>\n",
    "> 0. <font color=\"blue\">*Quantum Computing Discussion 2*</font>\n",
    "\n",
    "#### Frameworks, Simulators, and Tools (*to create the experience*)\n",
    "> 0. <font color=\"blue\">*CircuitVerse: Digital Gates, Circuits & Computer Architecture Simulator*</font>\n",
    "> 0. <font color=\"blue\">*Demonstration Videos*</font>\n",
    "> 0. <font color=\"blue\">*Phet Interactive Simulations*</font>\n",
    "> 0. <font color=\"blue\">*Circle Notation: Visualizing Qubit Magnitudes, Relative Phases and Computation*</font>\n",
    "> 0. <font color=\"blue\">*Binary and Hexadecimal Numbers: - used in circle plot and quantum circuit examples.*</font>\n",
    "> 0. <font color=\"blue\">*Bloch Sphere Playground: An Interactive Bloch Sphere*</font>\n",
    "> 0. <font color=\"blue\">*Quantum Gate Playground: Animated Qubit-Circuit Gate Simulator*</font>\n",
    "> 0. <font color=\"blue\">*QUIRK: A Drag-N-Drop Quantum Circuit Simulator*</font>\n",
    "> 0. <font color=\"blue\">*QCEngine: Open-Source Quantum Computing Simulation Engine.*</font>\n",
    "> 0. <font color=\"blue\">*QISKIT: Open-Source Quantum Computing Software Development Framework.*</font>\n",
    "> 0. <font color=\"blue\">*QISKIT: MiniComposer .*</font>\n",
    "\n",
    "#### References (*for later review*)\n",
    "> 0. <font color=\"blue\">*References: - For the Technical Practitioner.*</font>\n",
    "> 0. <font color=\"blue\">*References: - For the Business Executive.*</font>\n",
    "\n",
    "\n",
    "\n",
    "\n"
   ]
  },
  {
   "cell_type": "markdown",
   "metadata": {},
   "source": [
    "## GOAL: \n",
    "- #### Develpoing a strong intuition of concepts is primary - implementation frameworks and simulators is secondary!"
   ]
  },
  {
   "cell_type": "markdown",
   "metadata": {},
   "source": [
    "## Background Videos: \n",
    "\n",
    "Quantum Computing Concepts - **What will a quantum computer do?**\n",
    "\n",
    "- https://www.youtube.com/watch?v=IUhmebcAngs&list=PLHSIfioizVW2uC27IFkHlSc-NgvZjBliZ&index=10"
   ]
  },
  {
   "cell_type": "markdown",
   "metadata": {},
   "source": [
    "## <font color=\"blue\">Context:- Quantum Computing - setting expectations.</font> "
   ]
  },
  {
   "cell_type": "markdown",
   "metadata": {},
   "source": [
    "![QC_Context](img/QC_Context.png \"QC_Context\")"
   ]
  },
  {
   "cell_type": "code",
   "execution_count": null,
   "metadata": {},
   "outputs": [],
   "source": []
  },
  {
   "cell_type": "markdown",
   "metadata": {},
   "source": [
    "## <font color=\"blue\">Quantum Computing Roadmap - setting expectations.</font> "
   ]
  },
  {
   "cell_type": "markdown",
   "metadata": {},
   "source": [
    "![QC_RoadMap](img/QC_RoadMap1.png \"\")"
   ]
  },
  {
   "cell_type": "code",
   "execution_count": null,
   "metadata": {},
   "outputs": [],
   "source": []
  },
  {
   "cell_type": "markdown",
   "metadata": {},
   "source": [
    "## <font color=\"blue\">Discussion #1:</font>\n",
    "\n",
    "### Quantum Computing <font color=\"red\">differences</font> from classical computing (in a nutshell)\n",
    "\n",
    "- <font size =\"4\"> **<font color=\"red\"> The Qubit</font>** is subatomic element that can be manipulated to do information processing (like a bit), but because it's subatomic it is **subjected to a host of strange quantum phenomenon that make it potentially very powerful**, **<font color=\"red\">but at a cost</font>** of **wierdness**, **severe constraints** in the problems it can solve, and **a very different (and difficult) programming paradigm** for developing algorithms. </font>\n",
    "\n",
    "\n",
    "- Qubits provide **on/off states** (like bits), but also **provided infinity states inbetween** (points on the surface an abstract representation called bloch sphere) that contains elements of both (on/off) states - that's called **superposition** and **undergirds the powerful computational potential of computing quantumly**.\n",
    "\n",
    "\n",
    "- Qubits can be spun up into superposition because **subatomic elements can be both a particle and a wave simultaneously** - this superposition provides the qubit an **important attribute called an \"Amplitude\"** which is comprised of two other very important attributes **(a) \"Magnitude\" and (b) \"Relative Phases\"** - these become vital to QC's ability to **encode** and **process** information **\"quantumly\"**.\n",
    "\n",
    "\n",
    "- **<font color=\"red\">Amplitudes, Magnitudes and Relative Phases</font>** are important because they provide a vehicle for both (1) **encoding information** in magnitudes and phases, and (2) **executing computations** on that encoded information **\"quantumly\"** (leveraging quantum entanglement, native qubit parallelism, phase logic, and other important capabilities **indigenous only to QC**).\n",
    "\n",
    "\n",
    "- This **\"quantumness\"** permits a **single qubit to represent 2^N components in one state**, whereas it normally take N-bits to represent N states in the classical world - this provides immense computational power.\n",
    "\n",
    "\n",
    "- Qubits can become **\"entangled\"** - a process where two qubits **loose their \"individual\" states**, and then **take on a single \"shared\" (common) state** between them. This permits them to be broken apart, moved light years away, and what happens to one immediately happens to the other. This **quantum only phenomenon** undergirds **quantum networking** and powerful phase **logic computational manipulations** in QC.\n",
    "\n",
    "\n",
    "- **Qubits have inherent parallelism** as singletons, and **multipliers of that when combined**, and even more so when **entangled** - this provided the potential for **massive computational speedups** and **unique algorithmic improvements** **<font color=\"red\">not possible in classical computing</font>**.\n",
    "\n"
   ]
  },
  {
   "cell_type": "code",
   "execution_count": null,
   "metadata": {},
   "outputs": [],
   "source": []
  },
  {
   "cell_type": "markdown",
   "metadata": {},
   "source": [
    "## <font color=\"blue\">Discussion #2:</font>\n",
    "\n",
    "### Programming Your Quantum Computer\n",
    "\n",
    "https://www.americanscientist.org/article/programming-your-quantum-computer\n",
    "\n",
    "\n",
    "\n",
    "**<font color=\"red\" size=\"4\">The prospect of greater computing power in quantum systems is intriguing, but it comes with some awkward constraints.</font>**\n",
    "\n",
    "\n",
    "0. **Every function of the QC must be fully reversible** - avoid erasures, preserve information for retracing.\n",
    "0. **You can't copy a QuBit** - it's not permitted !\n",
    "0. **You can't arbitrarily set or reset, or read the value of a Qubit** in the middle of an operation\n",
    "0. Implication is that **QC's must have a stovepipe architecture** - no loops !\n",
    "0. **Don't build a purely Quantum Computer** - build a hybrid of classical/quantum.\n",
    "\n",
    "\n",
    "> To begin with, <font color=\"red\">every function computed by a quantum system must be fully reversible</font>. If the machine grinds up input A to produce output B, then it must have a way to reconstruct A when given B. A corollary is that **every function must have the same number of inputs and outputs**. \n",
    "- A corollary is that **every function must have the same number of inputs and outputs**.\n",
    "- **In one stroke, this rule outlaws most of arithmetic as conventionally practiced**. The usual addition algorithm, for example, is not reversible. You can add 3 and 4 to get 7, but you can’t “unadd” 7 to recover the original inputs 3 and 4.\n",
    "\n",
    "\n",
    "> **To add reversibly, you must avoid erasures, preserving enough information to retrace your steps**. Reversible methods exist for **<font color=\"red\">all</font>** computable functions, but they require some mental adjustments in one’s approach to problem solving.\n",
    "\n",
    "\n",
    "> **<font color=\"blue\">Another no-no in quantum computing is copying a qubit</font>**. (This principle is called the no-cloning theorem.) **<font color=\"blue\">Nor can you arbitrarily set or reset qubits in the middle of a computation</font>**. Attempting to do so would destroy the quantum superposition.\n",
    "\n",
    "> Quantum Circuits are hand-cuffed by a **set number of inputs that can't be changed** - this is a significant restraint.\n",
    "\n",
    "> Taken together, the restrictions on qubit operations imply that **<font color=\"red\">any quantum program must have a stovepipe architecture</font>**. Reversible quantum logic gates are lined up in sequence, and information flows straight through them from one end to the other.\n",
    "- Of particular importance, **the program structure can have no loops**, where control is transferred backward to an earlier point so that a sequence of instructions is traversed multiple times.\n",
    "\n",
    "\n",
    "> Loops and conditional branching are indispensable tools in classical computer programming. How can we possibly get along without them? **Anyone building a pure quantum computer will have to confront this difficult question**.\n",
    "\n",
    "\n",
    "> As a practical matter, however, the answer is: **Don’t build a pure quantum computer.** Build a classical computer with a quantum subsystem, then create appropriate software for each part."
   ]
  },
  {
   "cell_type": "code",
   "execution_count": null,
   "metadata": {},
   "outputs": [],
   "source": []
  },
  {
   "cell_type": "markdown",
   "metadata": {},
   "source": [
    "# <font color=\"blue\">Quantum Computing Tools, Frameworks, and Simulators.</font> "
   ]
  },
  {
   "cell_type": "markdown",
   "metadata": {},
   "source": [
    "### NOTE:: <font color=\"blue\">The purpose of this <font color=\"red\">preparation</font> and <font color=\"red\">primer</font> material</font> \n",
    "\n",
    "> *In the interest of **fostering the efficient digestion of the key quantum computing concepts to software engineers**, judicious use of various useful (visual and tactile) tools, frameworks, and simulators is leveraged.*"
   ]
  },
  {
   "cell_type": "markdown",
   "metadata": {},
   "source": [
    "## <font color=\"red\">CircuitVerse</font>:  Digital <font color=\"blue\">Gates, Circuits & Computer Architecture Simulator</font> \n",
    "- https://circuitverse.org/\n",
    "\n",
    "> The **CircuitVerse Simulator** is a digital (**not** *quantum*) online simulator in which one can build fully functional **digital logic** gate circuits and other sophisticated digital capabilities.\n",
    "\n",
    "- This is a **critical stepping stone to understanding their quantum doppelgangers** that donimate the space of quantum computing and to fully comprehend the stovepipe nature of QC at this stage of its technical maturity. "
   ]
  },
  {
   "cell_type": "markdown",
   "metadata": {},
   "source": [
    "### <font color=\"blue\">The SIMPLE COMPUTER ARCHITECTURE</font>\n",
    "\n",
    "<img style=\"float: left;\" src=\"img/circuitverse-simple-computer.png\">\n",
    "\n",
    "<BR><BR><BR><BR><BR><BR><BR><BR><BR><BR>\n",
    "<BR><BR><BR><BR><BR><BR><BR><BR><BR><BR>\n",
    "\n",
    "> ### <font color=\"red\">CircuitVerse Example</font>: (SIMPLE COMPUTER ARCHITECTURE) \n",
    "- https://circuitverse.org/users/3464/projects/16521"
   ]
  },
  {
   "cell_type": "code",
   "execution_count": null,
   "metadata": {},
   "outputs": [],
   "source": []
  },
  {
   "cell_type": "markdown",
   "metadata": {},
   "source": [
    "## <font color=\"red\">Quantum Gate Demonstration Videos</font>:  <font color=\"blue\"></font> \n",
    "\n",
    "> These **Quantum Gate demonstration videos** are crucial to observing just how qubit bloch spheres (and ultumately quantum circuits) are intentionally manipulated with code. This are the fundamentals building blocks undergirding quantum circuit construction that every software engineer needs to comprehend and master."
   ]
  },
  {
   "cell_type": "markdown",
   "metadata": {},
   "source": [
    "### <font color=\"red\">Example</font>: Hadamard Gate\n",
    "\n",
    "<img style=\"float: left;\" src=\"img/icon-h-gate.png\">\n",
    "\n",
    "> The Hadamard gate is one of the most frequently used gates in quantum computing. The (H) gate is often the first gate applied in a circuit. When you read “put the qubit in superposition” it usually means “take the qubit initialized in the **|0>** state and apply the (H) gate to it.”\n",
    "\n",
    "\n",
    "\n",
    "> **<font color=\"red\">Note:</font>** - The Hadamard gate (matrix) changes the **basis** from **Computational** (**|0>** and **|1>**) to **Hadamard** (**|+>** and **|->**)"
   ]
  },
  {
   "cell_type": "code",
   "execution_count": 7,
   "metadata": {
    "scrolled": false
   },
   "outputs": [
    {
     "data": {
      "text/html": [
       "<video src=\"video/hadamard-gate.mp4\" controls  >\n",
       "      Your browser does not support the <code>video</code> element.\n",
       "    </video>"
      ],
      "text/plain": [
       "<IPython.core.display.Video object>"
      ]
     },
     "execution_count": 7,
     "metadata": {},
     "output_type": "execute_result"
    }
   ],
   "source": [
    "from IPython.display import Video\n",
    "Video(\"video/hadamard-gate.mp4\")"
   ]
  },
  {
   "cell_type": "code",
   "execution_count": null,
   "metadata": {},
   "outputs": [],
   "source": []
  },
  {
   "cell_type": "markdown",
   "metadata": {},
   "source": [
    "## <font color=\"red\">Phet Interactive Simulations</font>:  <font color=\"blue\">for important quantum concepts.</font> \n",
    "- https://phet.colorado.edu/\n",
    "\n",
    "> The **Phet Interactive Simulations** are helpful to *visualize some key quantum physics concepts like waves and interference.*"
   ]
  },
  {
   "cell_type": "code",
   "execution_count": 5,
   "metadata": {},
   "outputs": [
    {
     "data": {
      "text/html": [
       "\n",
       "        <iframe\n",
       "            width=\"900\"\n",
       "            height=\"900\"\n",
       "            src=\"https://phet.colorado.edu/sims/html/waves-intro/latest/waves-intro_en.html\"\n",
       "            frameborder=\"0\"\n",
       "            allowfullscreen\n",
       "        ></iframe>\n",
       "        "
      ],
      "text/plain": [
       "<IPython.lib.display.IFrame at 0x20a85a63da0>"
      ]
     },
     "execution_count": 5,
     "metadata": {},
     "output_type": "execute_result"
    }
   ],
   "source": [
    "from IPython.display import IFrame\n",
    "IFrame(src='https://phet.colorado.edu/sims/html/waves-intro/latest/waves-intro_en.html', width=900, height=900)"
   ]
  },
  {
   "cell_type": "code",
   "execution_count": null,
   "metadata": {},
   "outputs": [],
   "source": []
  },
  {
   "cell_type": "markdown",
   "metadata": {},
   "source": [
    "## <font color=\"red\">Circle Notation</font>:  <font color=\"blue\">Visualizing Qubit Magnitudes, Relative Phases and Q-Computation.</font> \n",
    "\n",
    "> **<font color=\"blue\">Circle Notation</font>** is an convenient (albeit abstract) way to describe superposition that allows us to focus on important information **without needing to become entrench in opaque mathematics**.\n",
    "- **<font color=\"red\">Magnitude</font>** and **<font color=\"red\">Relative Phases</font>** are vitally important as they are (a) **ways to encode information** and (b) **computational vehicles** in the quantum space.\n",
    " \n",
    "**Two important aspects** of a Qubits State:\n",
    "\n",
    "1. The **<font color=\"red\">Magnitude</font>** of it's superposition amplitudes\n",
    "![circle-plot-magnitude](img/circle-plot-magnitude.png \"circle-plot-magnitude\")\n",
    "\n",
    "<BR>\n",
    "    \n",
    "2. The **<font color=\"red\">Relative Phase</font>** (aka. Rotation) between them.\n",
    "![circle-plot-phase-rotations](img/circle-plot-phase-rotation.png \"circle-plot-phase-rotations\")\n",
    "\n",
    "<BR>\n",
    "    \n",
    "<font color=\"red\">**Important**</font>: Phase operations <font color=\"red\">**only**</font> rotate the circle associated with the **|1>** state and will have <font color=\"red\">**no**</font> effect on the **|0>** state."
   ]
  },
  {
   "cell_type": "code",
   "execution_count": null,
   "metadata": {},
   "outputs": [],
   "source": []
  },
  {
   "cell_type": "markdown",
   "metadata": {},
   "source": [
    "## <font color=\"red\">Binary and hexadecimal Numbers</font>:  - used in <font color=\"blue\">circle plot</font>  and <font color=\"blue\"> quantum circuit</font>  examples.\n",
    "\n",
    "\n",
    "> **Binary and hexadecimal Numbers** are heavily used in all aspects of both digital and quantum logic construction not to mention circuit design and overall architecture construction - subjects central to the quantum computing space.\n",
    "\n",
    "- In particular, its important to note their relationship to **quantum circuit representations** and **circle plot manipulations** as a consequence of quantum logic operations."
   ]
  },
  {
   "cell_type": "markdown",
   "metadata": {},
   "source": [
    "\n",
    "<img style=\"float: left;\" src=\"img/binary-table-0-7_excel.png\">\n",
    "\n",
    "![cnot-ccnot-qcengine-circuit](img/cnot-ccnot-qcengine-circuit.png \"cnot-ccnot-qcengine-circuit\")\n",
    "\n",
    "![cnot-vs-not-illustration](img/cnot-vs-not-illustration1.png \"cnot-vs-not-illustration\")\n",
    "\n",
    "\n",
    "\n",
    "<BR>\n",
    "\n",
    "![QFT-circuit](img/QFT-circuit.png \"QFT-circuit\")\n",
    "\n",
    "<BR>\n",
    "\n",
    "![binary-table_0-15-NEW](img/binary-table_0-15-NEW.png \"binary-table_0-15-NEW\")\n",
    "\n",
    "<BR>\n",
    "    \n",
    "![QFT-A_ExampleResult](img/QFT-A_ExampleResult.png \"QFT-A_ExampleResult\")"
   ]
  },
  {
   "cell_type": "code",
   "execution_count": null,
   "metadata": {},
   "outputs": [],
   "source": []
  },
  {
   "cell_type": "markdown",
   "metadata": {},
   "source": [
    "## <font color=\"red\">Bloch Sphere Playground</font>:  <font color=\"blue\">An Interactive Bloch Sphere</font> \n",
    "- https://javafxpert.github.io/grok-bloch/\n",
    "\n",
    "> The Bloch Sphere Playground is an **interactive bloch sphere simulation** in which one can **manipulate a (qubit representation of a) bloch sphere**, and through that experience gain **intuition (the ultimate goal)** about how the various quantum gates (matricies actually) manipulate a qubit (the logical abstration of a sub atomic particle like a photon).\n",
    "\n",
    "- This is absolutely crutial for software engineers to gain the experience and intuition of how to manipulate the fundamental building blocks of quantum computing.\n"
   ]
  },
  {
   "cell_type": "code",
   "execution_count": 4,
   "metadata": {
    "scrolled": false
   },
   "outputs": [
    {
     "data": {
      "text/html": [
       "\n",
       "        <iframe\n",
       "            width=\"900\"\n",
       "            height=\"600\"\n",
       "            src=\"https://javafxpert.github.io/grok-bloch/\"\n",
       "            frameborder=\"0\"\n",
       "            allowfullscreen\n",
       "        ></iframe>\n",
       "        "
      ],
      "text/plain": [
       "<IPython.lib.display.IFrame at 0x20a9ecbec50>"
      ]
     },
     "execution_count": 4,
     "metadata": {},
     "output_type": "execute_result"
    }
   ],
   "source": [
    "from IPython.display import IFrame\n",
    "IFrame(src='https://javafxpert.github.io/grok-bloch/', width=900, height=600)"
   ]
  },
  {
   "cell_type": "code",
   "execution_count": null,
   "metadata": {},
   "outputs": [],
   "source": []
  },
  {
   "cell_type": "markdown",
   "metadata": {},
   "source": [
    "## <font color=\"red\">Quantum Gate Playground</font>:  <font color=\"blue\">Animated Qubit-Circuit Gate Simulator</font> \n",
    "- https://davidbkemp.github.io/quantum-gate-playground/\n",
    "\n",
    "> **Quantum Gate Playground** is a different type of interactive simulation of qubits and quantum gates that **highlights the manipulations** of the **magnitudes** and **relative phases** as it related to common manipulations of the QC space.\n",
    "\n",
    "- In the game of translating difficult concepts and ideas from obscure domains into forms software engineers can readily digest, this is another capable tool in the portfolio."
   ]
  },
  {
   "cell_type": "code",
   "execution_count": 6,
   "metadata": {
    "scrolled": false
   },
   "outputs": [
    {
     "data": {
      "text/html": [
       "\n",
       "        <iframe\n",
       "            width=\"900\"\n",
       "            height=\"900\"\n",
       "            src=\"https://davidbkemp.github.io/quantum-gate-playground/\"\n",
       "            frameborder=\"0\"\n",
       "            allowfullscreen\n",
       "        ></iframe>\n",
       "        "
      ],
      "text/plain": [
       "<IPython.lib.display.IFrame at 0x20a9ece4780>"
      ]
     },
     "execution_count": 6,
     "metadata": {},
     "output_type": "execute_result"
    }
   ],
   "source": [
    "# Quantum Gate Playground\n",
    "from IPython.display import IFrame\n",
    "IFrame(src='https://davidbkemp.github.io/quantum-gate-playground/', width=900, height=900)"
   ]
  },
  {
   "cell_type": "code",
   "execution_count": null,
   "metadata": {},
   "outputs": [],
   "source": []
  },
  {
   "cell_type": "markdown",
   "metadata": {},
   "source": [
    "## <font color=\"red\">QUIRK</font>:  <font color=\"blue\">A Drag-N-Drop Quantum Circuit Simulator</font> \n",
    "- https://algassert.com/quirk\n",
    "\n",
    "> The **QUIRK Curcuit Simulator** is one of the most sophisticated visual quantum circuit simulators available today, it is equipped with elaborate examples and reasonable documentation. \n",
    "\n",
    "- This is one of the vehicles of choice for presenting and exploring various quantum concepts and circuit configurations - it is also a terriffic framework for quick QC experimentation.\n",
    "\n",
    "> Take a quick spin around the block w/the tool\n",
    "- Explain some of the nuances inherent"
   ]
  },
  {
   "cell_type": "code",
   "execution_count": 9,
   "metadata": {
    "scrolled": false
   },
   "outputs": [
    {
     "data": {
      "text/html": [
       "\n",
       "        <iframe\n",
       "            width=\"900\"\n",
       "            height=\"600\"\n",
       "            src=\"https://algassert.com/quirk\"\n",
       "            frameborder=\"0\"\n",
       "            allowfullscreen\n",
       "        ></iframe>\n",
       "        "
      ],
      "text/plain": [
       "<IPython.lib.display.IFrame at 0x20a9eff2a58>"
      ]
     },
     "execution_count": 9,
     "metadata": {},
     "output_type": "execute_result"
    }
   ],
   "source": [
    "# QUIRK (Quantum Curcuit Simulator)\n",
    "from IPython.display import IFrame\n",
    "\n",
    "IFrame(src='https://algassert.com/quirk', width=900, height=600)"
   ]
  },
  {
   "cell_type": "code",
   "execution_count": null,
   "metadata": {},
   "outputs": [],
   "source": []
  },
  {
   "cell_type": "markdown",
   "metadata": {},
   "source": [
    "## <font color=\"red\">QCEngine</font>:  <font color=\"blue\">Open-Source Quantum Computing Simulation Engine.</font> \n",
    "- QCEngine: https://oreilly-qc.github.io\n",
    "- Docs: https://oreilly-qc.github.io/docs/build/\n",
    "- Book: https://www.amazon.com/Programming-Quantum-Computers-Essential-Algorithms/dp/1492039683\n",
    "\n",
    "> The **QCEngine Quantum Computing Simulation Engine** is provided as an educational vehicle to accompany the **<font color=\"red\">O'Reilly QC Programming Book</font>**. As it turn out, it's a **wonderful Quantum Computing Simulator** with reasonable documentation of it's **QC simulation programming language**, an interface that permits **viewing of the manipulation of qubits** via their circle plots, and **interactive explorations of the resulting circuit diagrams**.\n",
    "\n",
    "- This is another vehicles of choice for presenting and exploring various quantum concepts and circuit configurations - it is also a terriffic framework for quick QC experimentation."
   ]
  },
  {
   "cell_type": "code",
   "execution_count": 8,
   "metadata": {
    "scrolled": false
   },
   "outputs": [
    {
     "data": {
      "text/html": [
       "\n",
       "        <iframe\n",
       "            width=\"900\"\n",
       "            height=\"800\"\n",
       "            src=\"https://oreilly-qc.github.io\"\n",
       "            frameborder=\"0\"\n",
       "            allowfullscreen\n",
       "        ></iframe>\n",
       "        "
      ],
      "text/plain": [
       "<IPython.lib.display.IFrame at 0x20a9ece4198>"
      ]
     },
     "execution_count": 8,
     "metadata": {},
     "output_type": "execute_result"
    }
   ],
   "source": [
    "# QCEngine (Quantum Simulator)\n",
    "from IPython.display import IFrame\n",
    "IFrame(src='https://oreilly-qc.github.io', width=900, height=800)"
   ]
  },
  {
   "cell_type": "code",
   "execution_count": null,
   "metadata": {},
   "outputs": [],
   "source": []
  },
  {
   "cell_type": "markdown",
   "metadata": {},
   "source": [
    "## <font color=\"red\">QISKIT</font>:  <font color=\"blue\">Open-Source Quantum Computing Software Development Framework.</font> \n",
    "- https://qiskit.org/\n",
    "- https://qiskit.org/textbook/preface.html\n",
    "\n",
    "> The **Qiskit Quantum Computing Framework** is a true QSDK that can run on a **simulator** or **actual quantum hardware**. It is widely used for R&D in the QC space globally and has rich educational resources, plus it's interoperatable with many QML frameworks and leverages Python as its base language.\n",
    "\n",
    "**<font color=\"blue\">It is important to understand the Qiskit process under the hood:</font>**\n",
    "> - **Python** is only a **shell** to manipulate the QISKIT capabilities, **nothing more**. \n",
    "> - You must **know what the gates do** to the state of the qubits to accomplish anything.\n",
    "> - This program execution is **more like batch processing** than **interpretive coding**.\n",
    "> - *Nothing significant happens until the circuit gets executed*, and the results are passed back.\n",
    "\n",
    "<BR>\n",
    "\n",
    "![Qiskit-Process](img/Qiskit-Process1.png \"Qiskit-Process\")\n",
    "\n"
   ]
  },
  {
   "cell_type": "code",
   "execution_count": 9,
   "metadata": {},
   "outputs": [
    {
     "name": "stdout",
     "output_type": "stream",
     "text": [
      "counts: {'1': 1}\n",
      "Output State:  [0.+0.j 1.+0.j]\n",
      "Display State 1.0  |1>   \n"
     ]
    },
    {
     "data": {
      "image/png": "[encoded data removed]",
      "text/plain": [
       "<Figure size 288x144 with 2 Axes>"
      ]
     },
     "metadata": {
      "needs_background": "light"
     },
     "output_type": "display_data"
    }
   ],
   "source": [
    "from qiskit import QuantumCircuit, QuantumRegister, ClassicalRegister, execute, Aer, IBMQ, BasicAer\n",
    "import math\n",
    "import matplotlib.pyplot as P\n",
    "import matplotlib.pyplot as plt\n",
    "from Our_Qiskit_Functions import *\n",
    "import cmath\n",
    "\n",
    "\n",
    "## Uncomment the next line to see diagrams when running in a notebook\n",
    "%matplotlib inline\n",
    "\n",
    "\n",
    "# Helper Funtion for Normalizing State Vectors\n",
    "#\n",
    "def normalize_state_Vector(state_vector):\n",
    "    for result in state_vector:\n",
    "        print(\"Normalized Result: \" , round( np.abs(result)**2, 1) )\n",
    "        \n",
    "        \n",
    "# Helper Funtion for print Polar Phase(s)\n",
    "#      \n",
    "def plot_polar(state_vector):\n",
    "    pi_radians = 180;\n",
    "    for x in state_vector:\n",
    "        plt.polar([0,cmath.phase(x)],[0,abs(x)],marker='o')\n",
    "        print(\"The original complex number Re{%d}, Im{%d}, and Length : %f\" % (x.real, x.imag, abs(x)))\n",
    "        print(\"Phase: \",cmath.phase(x))\n",
    "        if cmath.phase(x) != 0:\n",
    "            print(\"Angle: \", pi_radians/(np.pi/cmath.phase(x)))\n",
    "\n",
    "\n",
    "# Create a Quantum Register with one (1) qubit\n",
    "reg = QuantumRegister(1, name='reg')\n",
    "\n",
    "# Create a Classical Register\n",
    "reg_c = ClassicalRegister(1, name='regc')\n",
    "\n",
    "# Create a Quantum Circuit\n",
    "qc = QuantumCircuit(reg, reg_c)\n",
    "\n",
    "# Manipulate the state of the qubit\n",
    "qc.reset(reg)          # write the value 0\n",
    "qc.h(reg)              # put it into a superposition of 0 and 1\n",
    "\n",
    "# read the result as a digital bit\n",
    "qc.measure(reg, reg_c) \n",
    "\n",
    "\n",
    "# Send the curcuit to be executed on the chosen backend and fetch the result\n",
    "backend = BasicAer.get_backend('statevector_simulator')\n",
    "job = execute(qc, backend)\n",
    "result = job.result()\n",
    "\n",
    "# The results has a \"counts\" field - fetch that and print it\n",
    "counts = result.get_counts(qc)\n",
    "print('counts:',counts)\n",
    "\n",
    "# Use the helper functions to get the normalized State Vector and print\n",
    "outputstate = result.get_statevector(qc, decimals=3)\n",
    "print(\"Output State: \", outputstate)\n",
    "print(\"Display State\", Wavefunction(qc))\n",
    "\n",
    "# Display the circuit (Supressed by circleplots plot)\n",
    "qc.draw(output='mpl')        # draw the circuit\n",
    "\n",
    "# Print out Circle Notation\n",
    "from circle_plot import *\n",
    "plot_circles(outputstate)\n"
   ]
  },
  {
   "cell_type": "code",
   "execution_count": 10,
   "metadata": {},
   "outputs": [
    {
     "name": "stdout",
     "output_type": "stream",
     "text": [
      "The original complex number Re{0}, Im{0}, and Length : 0.000000\n",
      "Phase:  0.0\n",
      "The original complex number Re{1}, Im{0}, and Length : 1.000000\n",
      "Phase:  0.0\n"
     ]
    },
    {
     "data": {
      "image/png": "[encoded data removed]",
      "text/plain": [
       "<Figure size 432x288 with 1 Axes>"
      ]
     },
     "metadata": {
      "needs_background": "light"
     },
     "output_type": "display_data"
    }
   ],
   "source": [
    "# Plot Polar Coordinates for intuitions sake - provides an idea of the angle of the plot on the curve  \n",
    "# Plot both vectors and phase / angle (if non-zero)\n",
    "\n",
    "P.clf()\n",
    "sp = P.subplot(1, 1, 1, projection='polar')\n",
    "sp.set_theta_zero_location('N')\n",
    "sp.set_theta_direction(1)\n",
    "\n",
    "plot_polar(outputstate)"
   ]
  },
  {
   "cell_type": "code",
   "execution_count": null,
   "metadata": {},
   "outputs": [],
   "source": []
  },
  {
   "cell_type": "markdown",
   "metadata": {},
   "source": [
    "## <font color=\"red\">QISKIT</font>:  <font color=\"blue\">MiniComposer.</font> "
   ]
  },
  {
   "cell_type": "code",
   "execution_count": 2,
   "metadata": {},
   "outputs": [],
   "source": [
    "import numpy as np\n",
    "\n",
    "from qiskit import Aer, QuantumCircuit, execute\n",
    "from qiskit.visualization import plot_histogram\n",
    "from IPython.display import display, Math, Latex\n",
    "\n",
    "from qsphere_plotter import plot_state_qsphere\n",
    "from widgets import minicomposer\n",
    "from may4_challenge_common import return_state, vec_in_braket, statevec"
   ]
  },
  {
   "cell_type": "code",
   "execution_count": 3,
   "metadata": {},
   "outputs": [
    {
     "data": {
      "application/vnd.jupyter.widget-view+json": {
       "model_id": "7ca7e48b27fe4badac38f22bfad00ae1",
       "version_major": 2,
       "version_minor": 0
      },
      "text/plain": [
       "Label(value='Select a gate to add to the circuit:')"
      ]
     },
     "metadata": {},
     "output_type": "display_data"
    },
    {
     "data": {
      "application/vnd.jupyter.widget-view+json": {
       "model_id": "77608c180a264716820eec7f0c0c3c1d",
       "version_major": 2,
       "version_minor": 0
      },
      "text/plain": [
       "VBox(children=(HBox(children=(Button(description='I', style=ButtonStyle()), Button(description='X', style=Butt…"
      ]
     },
     "metadata": {},
     "output_type": "display_data"
    },
    {
     "data": {
      "application/vnd.jupyter.widget-view+json": {
       "model_id": "54caf309c8f245d8a3f5e10a5fcde1e0",
       "version_major": 2,
       "version_minor": 0
      },
      "text/plain": [
       "VBox(children=(HTML(value='<?xml version=\"1.0\" encoding=\"utf-8\" standalone=\"no\"?>\\n<!DOCTYPE svg PUBLIC \"-//W3…"
      ]
     },
     "metadata": {},
     "output_type": "display_data"
    },
    {
     "data": {
      "application/vnd.jupyter.widget-view+json": {
       "model_id": "2f03a2d8aa8e4f9dadc68b5c0974e9ff",
       "version_major": 2,
       "version_minor": 0
      },
      "text/plain": [
       "HTML(value='')"
      ]
     },
     "metadata": {},
     "output_type": "display_data"
    }
   ],
   "source": [
    "minicomposer(1, dirac=True, qsphere=True)"
   ]
  },
  {
   "cell_type": "code",
   "execution_count": null,
   "metadata": {},
   "outputs": [],
   "source": []
  },
  {
   "cell_type": "markdown",
   "metadata": {},
   "source": [
    "## <font color=\"red\">References</font>:  <font color=\"blue\">For the Technical Practitioner</font> "
   ]
  },
  {
   "cell_type": "markdown",
   "metadata": {},
   "source": [
    "<BR><BR>\n",
    "<P><B><FONT FACE=\"Arial\" SIZE=\"6\" COLOR=\"#0C928F\">Quantum Computing</FONT></B><BR>\n",
    "<font size=\"4\" color=\"0C928F\"><strong>Established Feb 2019</strong></font>\n",
    "\n",
    "<ul>\n",
    "\n",
    "\n",
    "<BR>\n",
    "<strong>Book Links - Those needed to be purchased.</strong><BR><BR>\n",
    "<li><a href=\"https://www.amazon.com/gp/product/1260123111\" target=\"_blank\"><font size=\"4\" color=\"0C928F\">Quantum Computing - A Beginners Introduction</font></a></li> \n",
    "<li><a href=\"https://www.springer.com/us/book/9783319964232\" target=\"_blank\"><font size=\"4\" color=\"0C928F\">Supervised Learning w/Quantum Computers</font></a></li> \n",
    "<li><a href=\"https://www.amazon.com/Quantum-Machine-Learning-Computing-Mining/dp/0128100400/ref=asc_df_0128100400/?tag=hyprod-20&linkCode=df0&hvadid=312064598816&hvpos=1o1&hvnetw=g&hvrand=5000764574049385087&hvpone=&hvptwo=&hvqmt=&hvdev=c&hvdvcmdl=&hvlocint=&hvlocphy=9019698&hvtargid=pla-327043248385&psc=1\" target=\"_blank\"><font size=\"4\" color=\"0C928F\">Quantum Machine Learning</font></a></li> \n",
    "<li><a href=\"\n",
    "http://bacon.umcs.lublin.pl/~lukasik/wp-content/uploads/2010/12/Principles.of_.Quantum.Artificial.Intelligence.pdf\" target=\"_blank\"><font size=\"4\" color=\"0C928F\">Quantum Artificial Intelligence</font></a></li> \n",
    "<li><a href=\"https://www.amazon.com/Programming-Quantum-Computers-Essential-Algorithms/dp/1492039683/ref=sr_1_7?ie=UTF8&qid=1548622874&sr=8-7&keywords=quantum+programming\" target=\"_blank\"><font size=\"4\" color=\"0C928F\">Programming Quantum Computers</font></a></li> \n",
    "<li><a href=\"https://www.packtpub.com/application-development/mastering-quantum-computing-ibm-qx\" target=\"_blank\"><font size=\"4\" color=\"0C928F\">Mastering Quantum Computing with IBM QX</font></a></li> \n",
    "<BR>\n",
    "\n",
    "\n",
    "<BR>\n",
    "<strong>Books - Available.</strong><BR><BR>\n",
    "<li><a href=\"https://app.box.com/s/ra2mh8rzgls377gw358poclb7mek13rj\" target=\"_blank\"><font size=\"4\" color=\"0C928F\">Introduction to Quantum Computing</font></a></li>\n",
    "<li><a href=\"https://app.box.com/s/8jp8ob952e3nnsl1d9ukerbmhmlxo16o\" target=\"_blank\"><font size=\"4\" color=\"0C928F\">Quantum Computer Science</font></a></li> \n",
    "<li><a href=\"https://app.box.com/s/xlyygb7582o05msjjo2ud07y6xxheeia\" target=\"_blank\"><font size=\"4\" color=\"0C928F\">Quantum Computation and Quantum Information</font></a></li> \n",
    " <li><a href=\"https://app.box.com/s/3hl3o6byf1efdk5xkmd3zv8zyr6brkvf\" target=\"_blank\"><font size=\"4\" color=\"0C928F\">Gorshkov-QuantumMethods</font></a></li> \n",
    "<li><a href=\"https://app.box.com/s/hkyojefgyptsynrb9vtxdv22zte2vhh2\" target=\"_blank\"><font size=\"4\" color=\"0C928F\">Principles of Quantum Artificial Intelligence</font></a></li> \n",
    "<li><a href=\"https://app.box.com/s/3cxlb1gkngbaq87xc1jo4vok6lgk1igl\" target=\"_blank\"><font size=\"4\" color=\"0C928F\">Mastering Quantum Computing with IBM QX</font></a></li> \n",
    " <BR>\n",
    "\n",
    "\n",
    "<BR>\n",
    "<strong>White Papers</strong><BR><BR>\n",
    "<li><a href=\"https://app.box.com/s/7wjv08vce2exbj0hdiu95gmlqi1dwjrf\" target=\"_blank\"><font size=\"4\" color=\"0C928F\">Quantum machine learning for data scientists</font></a></li>\n",
    "<li><a href=\"https://app.box.com/s/gb0rwv37vi8iis4fbknz9wcmbwvun9lh\" target=\"_blank\"><font size=\"4\" color=\"0C928F\">Quantum Machine Learning</font></a></li> \n",
    "<li><a href=\"https://app.box.com/file/341674016592\" target=\"_blank\"><font size=\"4\" color=\"0C928F\">Quantum Algorithm Implementations for Beginners</font></a></li> \n",
    "<li><a href=\"https://app.box.com/s/rc41qz8u227zusg2fy2mqtnm8c7fdmkj\" target=\"_blank\"><font size=\"4\" color=\"0C928F\">Tractica - Quantum Computing Executive Summary</font></a></li> \n",
    "<li><a href=\"https://app.box.com/s/no60vohniowmdhqi85jed4zk8cgcxuv8\" target=\"_blank\"><font size=\"4\" color=\"0C928F\">Introduction to Quantum Computing</font></a></li> \n",
    "<li><a href=\"https://app.box.com/s/p6irrzorevnrkugeapm6521mply1n65a\" target=\"_blank\"><font size=\"4\" color=\"0C928F\">Commercial Prospects for Quantum Computing</font></a></li> \n",
    "<li><a href=\"https://arxiv.org/abs/1810.08277\" target=\"_blank\"><font size=\"4\" color=\"0C928F\">Quantum computing from a mathematical perspective: a description of the quantum circuit model, by J. Ossorio-Castillo and J. M. Tornero</font></a></li> \n",
    "<li><a href=\"https://arxiv.org/abs/1801.00862\" target=\"_blank\"><font size=\"4\" color=\"0C928F\">Quantum Computing in the NISQ era and beyond, by J. Preskill</font></a></li> \n",
    "<li><a href=\"https://journals.plos.org/plosone/article?id=10.1371/journal.pone.0208561\" target=\"_blank\"><font size=\"4\" color=\"0C928F\">Open source software in quantum computing, by Mark Fingerhuth , Tomás Babej and Peter Wittek</font></a></li> \n",
    "<BR>\n",
    "\n",
    "\n",
    "<BR>\n",
    "<strong>Useful Publications</strong><BR><BR>\n",
    "<li><a href=\"https://www.bcg.com/publications/2018/next-decade-quantum-computing-how-play.aspx?fbclid=IwAR3MSoLezoznkBXte2_ZLlHCLPs2xJAg4QEGQAcPwg3oPx-Ru13Qssv3xxQ&redir=true\" target=\"_blank\"><font size=\"4\" color=\"0C928F\">The Next Decade in Quantum Computing-and How to Play</font></a></li>\n",
    "<li><a href=\"https://app.box.com/s/1zzddvs4cyn4c9r09m0rh2xcvuowfxiu\" target=\"_blank\"><font size=\"4\" color=\"0C928F\">The Next Decade in Quantum Computing-and How to Play : PDF</font></a></li>\n",
    "<li><a href=\"https://www2.deloitte.com/insights/us/en/industry/technology/technology-media-and-telecom-predictions/quantum-computing-supremacy.html\" target=\"_blank\"><font size=\"4\" color=\"0C928F\">Quantum computers: The next supercomputers, but not the next laptops</font></a></li>\n",
    "<li><a href=\"https://app.box.com/s/p6irrzorevnrkugeapm6521mply1n65a\" target=\"_blank\"><font size=\"4\" color=\"0C928F\">Commercial Prospects for Quantum Computing</font></a></li>\n",
    "<li><a href=\"https://app.box.com/s/nuox2n53wrzvxrcq9dy9c1orylopm1w6\" target=\"_blank\"><font size=\"4\" color=\"0C928F\">Quantum Computing is coming to the marketplace.</font></a></li>\n",
    "\n",
    "<li><a href=\"https://spacenews.com/pentagon-sees-quantum-computing-as-key-weapon-for-war-in-space/\" target=\"_blank\"><font size=\"4\" color=\"0C928F\">Pentagon sees quantum computing as key weapon for war in space</font></a></li>\n",
    "<li><a href=\"https://www.technologyreview.com/s/612421/us-china-quantum-arms-race/\" target=\"_blank\"><font size=\"4\" color=\"0C928F\">The US and China are in a quantum arms race that will transform warfare</font></a></li>\n",
    "<li><a href=\"https://www.economist.com/business/2018/08/18/the-race-is-on-to-dominate-quantum-computing\" target=\"_blank\"><font size=\"4\" color=\"0C928F\">The race is on to dominate quantum computing</font></a></li>\n",
    "<li><a href=\"https://www.fifthdomain.com/industry/2019/01/04/are-defense-contractors-investing-enough-in-quantum-computing/\" target=\"_blank\"><font size=\"4\" color=\"0C928F\">Are defense contractors investing enough in quantum computing?</font></a></li>\n",
    "<li><a href=\"https://chinafocus.ucsd.edu/2019/01/20/on-the-cusp-of-a-new-cold-war/\" target=\"_blank\"><font size=\"4\" color=\"0C928F\">On the Cusp of a New Cold War</font></a></li>\n",
    "<li><a href=\"https://www.bloomberg.com/news/articles/2018-04-08/forget-the-trade-war-china-wants-to-win-the-computing-arms-race\" target=\"_blank\"><font size=\"4\" color=\"0C928F\">Forget the Trade War. China Wants to Win Computing Arms Race</font></a></li>\n",
    "<li><a href=\"https://www.cnas.org/publications/reports/quantum-hegemony\" target=\"_blank\"><font size=\"4\" color=\"0C928F\">Quantum Hegemony?</font></a></li>\n",
    "<li><a href=\"https://blogs.scientificamerican.com/observations/quantum-computing-must-be-a-national-security-priority/\" target=\"_blank\"><font size=\"4\" color=\"0C928F\">Quantum Computing Must Be a National Security Priority</font></a></li>\n",
    "<li><a href=\"https://spectrum.ieee.org/computing/hardware/the-case-against-quantum-computing\" target=\"_blank\"><font size=\"4\" color=\"0C928F\">OPINION ARTICLE: The Case *Against* Quantum Computing</font></a></li>\n",
    "<BR>\n",
    "\n",
    "<BR>\n",
    "<strong>Videos Series</strong><BR><BR>\n",
    "<li><a href=\"https://www.youtube.com/playlist?list=PL04722FAFB07E38E1\" target=\"_blank\"><font size=\"4\" color=\"0C928F\">DrPhysicsA - Quantum Mechanics</font></a></li> \n",
    "<li><a href=\"https://www.youtube.com/watch?v=F_Riqjdh2oM\" target=\"_blank\"><font size=\"4\" color=\"0C928F\">Quantum Computing for Computer Scientists, Microsoft Research</font></a></li>\n",
    "<li><a href=\"https://www.youtube.com/watch?v=Lbndu5EIWvI\" target=\"_blank\"><font size=\"4\" color=\"0C928F\">Quantum Machine Learning, by Seth Lloyd</font></a></li>\n",
    "<li><a href=\"https://www.youtube.com/watch?v=mQsi5PpbZ54\" target=\"_blank\"><font size=\"4\" color=\"0C928F\">AWS re:Invent 2018: Pragmatic Quantum Machine Learning Today, by Peter Wittek</font></a></li>\n",
    "<li><a href=\" https://youtu.be/T2DXrs0OpHU\" target=\"_blank\"><font size=\"4\" color=\"0C928F\">Quantum Computers Animated\" by PHD Comics</font></a></li> \n",
    "<li><a href=\"https://youtu.be/JhHMJCUmq28\" target=\"_blank\"><font size=\"4\" color=\"0C928F\">Quantum Computers Explained - Limits of Human Technology</font></a></li> \n",
    "<li><a href=\"https://youtu.be/IrbJYsep45E\" target=\"_blank\"><font size=\"4\" color=\"0C928F\">The Mathematics of Quantum Computers</font></a></li> \n",
    "<li><a href=\"https://youtu.be/ZoT82NDpcvQ\" target=\"_blank\"><font size=\"4\" color=\"0C928F\">You don't know how Quantum Computers work!</font></a></li> \n",
    "<li><a href=\"https://www.youtube.com/playlist?list=PL1826E60FD05B44E4\" target=\"_blank\"><font size=\"4\" color=\"0C928F\">Quantum computing for the determined</font></a></li>  \n",
    "<BR>\n",
    "\n",
    "\n",
    "<BR>\n",
    "<strong>Courses</strong><BR><BR> \n",
    "<li><a href=\"https://www.udemy.com/qc101-introduction-to-quantum-computing-quantum-physics-for-beginners/\" target=\"_blank\"><font size=\"4\" color=\"0C928F\">UDEMY - Quantum Computing & Quantum Physics for Beginners</font></a></li> \n",
    "<li><a href=\"https://www.futurelearn.com/courses/intro-to-quantum-computing\" target=\"_blank\"><font size=\"4\" color=\"0C928F\">FUTURE LEARN: - Understanding Quantum Computers</font></a></li> \n",
    "<li><a href=\"https://www.coursera.org/learn/quantum-computing-algorithms\" target=\"_blank\"><font size=\"4\" color=\"0C928F\">COURSERA: - Introduction to Quantum Computing</font></a></li> \n",
    "<li><a href=\"https://brilliant.org/courses/quantum-computing/\" target=\"_blank\"><font size=\"4\" color=\"0C928F\">BRILLIANT! - Quantum Computing</font></a></li> \n",
    "<li><a href=\"https://brilliant.org/courses/quantum-objects/\" target=\"_blank\"><font size=\"4\" color=\"0C928F\">BRILLIANT! - Quantum Objects</font></a></li> \n",
    "<li><a href=\"https://www.edx.org/course/quantum-machine-learning\" target=\"_blank\"><font size=\"4\" color=\"0C928F\">EdX: - Quantum Machine Learning </font></a></li> \n",
    "<li><a href=\"https://ocw.mit.edu/courses/electrical-engineering-and-computer-science/6-845-quantum-complexity-theory-fall-2010/\" target=\"_blank\"><font size=\"4\" color=\"0C928F\">MIT OCW - Quantum Complexity Theory, by S. Aaronson (only the lecture notes are available, but they are an invaluable resource)</font></a></li> \n",
    "<li><a href=\"http://www.theory.caltech.edu/people/preskill/ph229/\" target=\"_blank\"><font size=\"4\" color=\"0C928F\">CALTECH - Quantum Computation, by John Preskill (wonderful lecture notes, problems sets and solutions)</font></a></li> \n",
    "<li><a href=\"https://courses.edx.org/courses/BerkeleyX/CS191x/2013_Spring/course/\" target=\"_blank\"><font size=\"4\" color=\"0C928F\">UC BERKELEY - Quantum Mechanics and Quantum Computation, by U. Vazirani (great MOOC by one of the father of QC)</font></a></li> \n",
    "<BR>\n",
    "\n",
    "<BR>\n",
    "<strong>Courses - Highlighted: Quantum Machine Learning - Witted @ EdX </strong><BR><BR>\n",
    "<li><a href=\"https://www.edx.org/course/quantum-machine-learning\" target=\"_blank\"><font size=\"4\" color=\"0C928F\">EdX: - Quantum Machine Learning </font></a></li> \n",
    "<li><a href=\"https://www.edx.org/bio/peter-wittek\" target=\"_blank\"><font size=\"4\" color=\"0C928F\">Instructor Bio:</font></a></li> \n",
    "<li><a href=\"https://gitlab.com/qosf/qml-mooc\" target=\"_blank\"><font size=\"4\" color=\"0C928F\">CourseGitLab</font></a></li> \n",
    "<li><a href=\"https://www.springer.com/us/book/9783319964232\" target=\"_blank\"><font size=\"4\" color=\"0C928F\">Course Text Book</font></a></li> \n",
    "<li><a href=\"https://www.amazon.com/Quantum-Machine-Learning-Computing-Mining/dp/0128100400/ref=asc_df_0128100400/?tag=hyprod-20&linkCode=df0&hvadid=312064598816&hvpos=1o1&hvnetw=g&hvrand=5000764574049385087&hvpone=&hvptwo=&hvqmt=&hvdev=c&hvdvcmdl=&hvlocint=&hvlocphy=9019698&hvtargid=pla-327043248385&psc=1\" target=\"_blank\"><font size=\"4\" color=\"0C928F\">Instructor QML Text Book</font></a></li> \n",
    "<BR>\n",
    "\n",
    "\n",
    "<BR>\n",
    "<strong>Frameworks - QISKit (IBM)</strong><BR><BR>\n",
    "<li><a href=\"https://github.com/Qiskit\" target=\"_blank\"><font size=\"4\" color=\"0C928F\">QisKit - GitHub (Download) </font></a></li> \n",
    "<li><a href=\"https://qiskit.org/documentation/\" target=\"_blank\"><font size=\"4\" color=\"0C928F\">Documentation</font></a></li> \n",
    "<li><a href=\"https://github.com/Qiskit/qiskit-tutorials\" target=\"_blank\"><font size=\"4\" color=\"0C928F\">QisKit Tutorials</font></a></li> \n",
    "<li><a href=\"https://en.wikipedia.org/wiki/Qiskit\" target=\"_blank\"><font size=\"4\" color=\"0C928F\">QisKit Wiki</font></a></li> \n",
    "<li><a href=\"https://quantumcomputing.stackexchange.com/tags/qiskit\" target=\"_blank\"><font size=\"4\" color=\"0C928F\">Stachexchange - QisKit</font></a></li> \n",
    "<li><a href=\"https://developer.ibm.com/code/2017/05/17/developers-guide-to-quantum-qiskit-sdk/\" target=\"_blank\"><font size=\"4\" color=\"0C928F\">A developer's guide to using the Quantum QISKit SDK</font></a></li> \n",
    "<li><a href=\"https://nbviewer.jupyter.org/github/Qiskit/qiskit-tutorial/tree/master/community/games/\" target=\"_blank\"><font size=\"4\" color=\"0C928F\">A developer's guide to using the Quantum QISKit SDK</font></a></li> \n",
    "<li><a href=\"https://qiskit.org/aqua\" target=\"_blank\"><font size=\"4\" color=\"0C928F\">GitHub:- QISKit Aqua</font></a></li> \n",
    "<li><a href=\"https://qiskit.org/documentation/aqua/aqua_ai.html\" target=\"_blank\"><font size=\"4\" color=\"0C928F\">Qiskit Aqua Documentation</font></a></li> \n",
    "<li><a href=\"https://github.com/Qiskit/qiskit-tutorials/tree/master/community/awards/teach_me_qiskit_2018\" target=\"_blank\"><font size=\"4\" color=\"0C928F\">QISKIT for quantum machine learning</font></a></li> \n",
    "<li><a href=\"https://github.com/Qiskit/qiskit-terra/blob/master/qiskit/qasm/libs/qelib1.inc\" target=\"_blank\"><font size=\"4\" color=\"0C928F\">Qiskit Gate Definitions:</font></a></li> \n",
    "<li><a href=\"Summary of Quantum Operations Documentation\n",
    "https://qiskit.org/documentation/summary_of_quantum_operations.html\" target=\"_blank\"><font size=\"4\" color=\"0C928F\">Summary of Quantum Operations Documentation</font></a></li>\n",
    "<BR>\n",
    "\n",
    "\n",
    "<BR>\n",
    "<strong>Quantum Gate Simulators</strong><BR><BR>\n",
    "<li><a href=\"https://quantumexperience.ng.bluemix.net/qx/editor\" target=\"_blank\"><font size=\"4\" color=\"0C928F\">IBM Quantum Experience Gate Simulator</font></a></li> \n",
    "<li><a href=\"https://algassert.com/2016/05/22/quirk.html\" target=\"_blank\"><font size=\"4\" color=\"0C928F\">Quantum Circuit Simulator: Quirk</font></a></li> \n",
    "<li><a href=\"https://github.com/Strilanc/Quirk\" target=\"_blank\"><font size=\"4\" color=\"0C928F\">QUIRK GitHub site</font></a></li> \n",
    "<li><a href=\"https://www.youtube.com/watch?v=aloFwlBUwsQ\n",
    "<li><a href=\"https://wybiral.github.io/quant\" target=\"_blank\"><font size=\"4\" color=\"0C928F\">QUIRK - HowTo Video </font></a></li> \n",
    "<BR>\n",
    "\n",
    "\n",
    "\n",
    "<BR>\n",
    "<strong>** Quantum Computing Blog Series **</strong><BR><BR>\n",
    "<li><a href=\"https://medium.com/@jonathan_hui/qc-quantum-computing-series-10ddd7977abd\" target=\"_blank\"><font size=\"4\" color=\"0C928F\">Quantum Computing Series (Index)</font></a></li> \n",
    "\n",
    "<BR><strong>Introduction</strong><BR>\n",
    "<li><a href=\"https://medium.com/@jonathan_hui/qc-what-is-a-quantum-computer-222edc3a887d\" target=\"_blank\"><font size=\"4\" color=\"0C928F\">What is a Quantum Computer?</font></a></li> \n",
    "<li><a href=\"https://medium.com/@jonathan_hui/qc-what-are-qubits-in-quantum-computing-cdb3cb566595\" target=\"_blank\"><font size=\"4\" color=\"0C928F\">What are Qubits in Quantum Computing?</font></a></li> \n",
    "\n",
    "<BR><strong>Realization of a Quantum Computer</strong><BR>\n",
    "<li><a href=\"https://medium.com/@jonathan_hui/qc-how-to-build-a-quantum-computer-with-superconducting-circuit-4c30b1b296cd\" target=\"_blank\"><font size=\"4\" color=\"0C928F\">How to build a Quantum Computer w/Superconducting circuits?</font></a></li> \n",
    "<li><a href=\"https://medium.com/@jonathan_hui/qc-how-to-build-a-quantum-computer-with-trapped-ions-88b958b81484\" target=\"_blank\"><font size=\"4\" color=\"0C928F\">How to build Quantum Computer with Trapped Ions?</font></a></li> \n",
    "\n",
    "<BR><strong>Quantum Computing (Quantum Gates)</strong><BR>\n",
    "<li><a href=\"https://medium.com/@jonathan_hui/qc-control-quantum-computing-with-unitary-operators-interference-entanglement-7790c69f6e98\" target=\"_blank\"><font size=\"4\" color=\"0C928F\">Control Quantum Computing with unitary operators, interference and entanglement</font></a></li> \n",
    "<li><a href=\"https://medium.com/@jonathan_hui/qc-the-strength-and-the-weakness-of-qubits-in-quantum-computing-dc54c442fcb3\" target=\"_blank\"><font size=\"4\" color=\"0C928F\">The strength and weakness of Qubits in Quantum Computing</font></a></li> \n",
    "<li><a href=\"https://medium.com/@jonathan_hui/qc-programming-with-quantum-gates-8996b667d256\" target=\"_blank\"><font size=\"4\" color=\"0C928F\">Programming with Quantum Gates (Single Qubits)</font></a></li> \n",
    "<li><a href=\"https://medium.com/@jonathan_hui/qc-programming-with-quantum-gates-2-qubit-operator-871528d136db\" target=\"_blank\"><font size=\"4\" color=\"0C928F\">Programming with Quantum Gates (2-Qubits operators)</font></a></li> \n",
    "<li><a href=\"https://medium.com/@jonathan_hui/qc-quantum-programming-implementation-issues-51e3a146645e\" target=\"_blank\"><font size=\"4\" color=\"0C928F\">Quantum Programming: Implementation issues</font></a></li>\n",
    "\n",
    "<BR><strong>Quantum Algorithms</strong><BR> \n",
    "<li><a href=\"https://medium.com/@jonathan_hui/qc-quantum-algorithm-with-an-example-cf22c0b1ec31\" target=\"_blank\"><font size=\"4\" color=\"0C928F\">Quantum Algorithm with an example</font></a></li> \n",
    "<li><a href=\"https://medium.com/@jonathan_hui/qc-grovers-algorithm-cd81e61cf248\" target=\"_blank\"><font size=\"4\" color=\"0C928F\">Grover's Algorithm</font></a></li> \n",
    "<li><a href=\"https://medium.com/@jonathan_hui/qc-simons-algorithm-be570a40f6de\" target=\"_blank\"><font size=\"4\" color=\"0C928F\">Simon's Algorithm</font></a></li> \n",
    "\n",
    "<BR><strong>Shor's Algorithm</strong><BR>\n",
    "<li><a href=\"https://medium.com/@jonathan_hui/qc-cracking-rsa-with-shors-algorithm-bc22cb7b7767\" target=\"_blank\"><font size=\"4\" color=\"0C928F\">Cracking RSA with Shor's Algorithm</font></a></li> \n",
    "<li><a href=\"https://medium.com/@jonathan_hui/qc-quantum-fourier-transform-45436f90a43\" target=\"_blank\"><font size=\"4\" color=\"0C928F\">antum Fourier Transforms</font></a></li> \n",
    "<li><a href=\"https://medium.com/@jonathan_hui/qc-phase-estimation-in-shors-algorithm-acef265ebe50\" target=\"_blank\"><font size=\"4\" color=\"0C928F\">Phase Estimation in SHors Algorithm</font></a></li> \n",
    "<li><a href=\"https://medium.com/@jonathan_hui/qc-period-finding-in-shors-algorithm-7eb0c22e8202\" target=\"_blank\"><font size=\"4\" color=\"0C928F\">Period Finding in SHor's Algorithm</font></a></li> \n",
    "<li><a href=\"https://medium.com/@jonathan_hui/qc-appendix-for-the-shors-algorithm-1a1710b89883\" target=\"_blank\"><font size=\"4\" color=\"0C928F\">Appendix for the Shor's Algorithm</font></a></li> \n",
    "\n",
    "<BR><strong>Others</strong><BR>\n",
    "<li><a href=\"https://medium.com/@jonathan_hui/qc-quantum-mechanics-notations-a1be27753205\" target=\"_blank\"><font size=\"4\" color=\"0C928F\">Quantum Mechanics Notations</font></a></li> \n",
    "<li><a href=\"https://medium.com/@jonathan_hui/qc-observable-8a44d10c3f7a\" target=\"_blank\"><font size=\"4\" color=\"0C928F\">Observable</font></a></li> \n",
    "\n",
    "<BR><strong>Quantum Gates</strong><BR>\n",
    "<li><a href=\"https://en.wikipedia.org/wiki/Quantum_logic_gate\" target=\"_blank\"><font size=\"4\" color=\"0C928F\">Quantum Logic Gate:</font></a></li> \n",
    "<li><a href=\"Demystifying Quantum Gates?-?One Qubit At A Time\n",
    "https://towardsdatascience.com/demystifying-quantum-gates-one-qubit-at-a-time-54404ed80640\" target=\"_blank\"><font size=\"4\" color=\"0C928F\">Demystifying Quantum Gates - One Qubit At A Time</font></a></li> \n",
    "<li><a href=\"https://github.com/Qiskit/qiskit-terra/blob/master/qiskit/qasm/libs/qelib1.inc\" target=\"_blank\"><font size=\"4\" color=\"0C928F\">Qiskit Gate Definitions:</font></a></li> \n",
    "<li><a href=\"Summary of Quantum Operations Documentation\n",
    "https://qiskit.org/documentation/summary_of_quantum_operations.html\" target=\"_blank\"><font size=\"4\" color=\"0C928F\">Summary of Quantum Operations Documentation</font></a></li> \n",
    "<li><a href=\"https://en.wikipedia.org/wiki/Quantum_logic_gate\" target=\"_blank\"><font size=\"4\" color=\"0C928F\">WIKI Quantum Logic Gates:</font></a></li> \n",
    "<BR>\n",
    "\n",
    "<BR>\n",
    "<strong>Other QC Stuff</strong><BR><BR>\n",
    "<li><a href=\"https://github.com/artix41/awesome-quantum-ml/blob/master/README.md\" target=\"_blank\"><font size=\"4\" color=\"0C928F\">Awesome Quantum ML (list of resources), by me. </font></a></li> \n",
    "<li><a href=\"https://paperswithcode.com/search?q=quantum+computing\" target=\"_blank\"><font size=\"4\" color=\"0C928F\">Papers with Code - Quantum Computing </font></a></li> \n",
    "<li><a href=\"https://entanglion.github.io/\" target=\"_blank\"><font size=\"4\" color=\"0C928F\">Entanglion - A Quantum Board Game </font></a></li> \n",
    "<BR>\n",
    "\n",
    "</ul>\n",
    " \n"
   ]
  },
  {
   "cell_type": "code",
   "execution_count": null,
   "metadata": {},
   "outputs": [],
   "source": []
  },
  {
   "cell_type": "markdown",
   "metadata": {},
   "source": [
    "## <font color=\"red\">References</font>:  <font color=\"blue\">For the Business Executive</font> "
   ]
  },
  {
   "cell_type": "markdown",
   "metadata": {},
   "source": [
    "\n",
    "\n",
    "<p><strong>Quantum Computing for the Business Executive</strong></p>\n",
    "\n",
    "<li><a href=\"https://app.box.com/s/s440o3aev3hp6h7tzpfblv82uutv26dw\" target=\"_blank\"><font size=\"4\" color=\"0C928F\">Executives Guide to Quantum Computing</font></a></li>\n",
    "<li><a href=\"https://app.box.com/s/jwmxt8uk266yn7hwvg1c9l5u84ariavw\" target=\"_blank\"><font size=\"4\" color=\"0C928F\">Quantum Computing Technical Brief</font></a></li>\n",
    "<li><a href=\"https://app.box.com/s/9v88vgr2jje111yckbjr4she59shxyqa\" target=\"_blank\"><font size=\"4\" color=\"0C928F\">Accenture: Digital Health Tech Vision</font></a></li>\n",
    "<li><a href=\"https://app.box.com/s/xu4h61mg2o6gyxs0as5mpt4hhh7w227h\" target=\"_blank\"><font size=\"4\" color=\"0C928F\">Accenture: Innovating with Quantum Computing</font></a></li>\n",
    "<li><a href=\"https://app.box.com/s/hj8184bmvjdy6i9cro9lgon7bfsu1ldj\" target=\"_blank\"><font size=\"4\" color=\"0C928F\">Book: Future of Quantum Computing</font></a></li>\n",
    "<li><a href=\"https://app.box.com/s/1zzddvs4cyn4c9r09m0rh2xcvuowfxiu\" target=\"_blank\"><font size=\"4\" color=\"0C928F\">BCG: The next decade in quantum computing</font></a></li>\n",
    "<li><a href=\"https://app.box.com/s/s32c26ig4ruof1sr3yiumk7xp1laqmo1\" target=\"_blank\"><font size=\"4\" color=\"0C928F\">QC: Potential Clinical Applications of QC</font></a></li>\n",
    "<li><a href=\"https://app.box.com/s/80u997trsklt6l4axrnl84uiohsnm04d\" target=\"_blank\"><font size=\"4\" color=\"0C928F\">Commercialization of Early Quantum Computing</font></a></li>\n",
    "<li><a href=\"https://app.box.com/s/3ufxlw6q1ivud4mdicmctjufxs838537\" target=\"_blank\"><font size=\"4\" color=\"0C928F\">Security: Quantum Key Distribution CIO Guide</font></a></li>\n",
    "<li><a href=\"https://app.box.com/s/4yqosv1odkkzytpqv2qxf5hoiv9ceh2t\" target=\"_blank\"><font size=\"4\" color=\"0C928F\">KPMG: Quantum Computing 101</font></a></li>\n",
    "<li><a href=\"https://app.box.com/s/gtvg88tdqdmee70yicynztmoraa9mpzw\" target=\"_blank\"><font size=\"4\" color=\"0C928F\">Industry Perspective on Quantum Computing</font></a></li>\n",
    "<li><a href=\"https://app.box.com/s/3rzyvj40bopy4xxp20vi7n5mhayt1d6k\" target=\"_blank\"><font size=\"4\" color=\"0C928F\">The Impact of Quantum Computing</font></a></li>\n",
    "<li><a href=\"https://app.box.com/s/mv0aeacbjvvv3ijduh8p7bk95snl8k8o\" target=\"_blank\"><font size=\"4\" color=\"0C928F\">National Strategic Overview Report - Quantum Information Science </font></a></li>\n",
    "<li><a href=\"https://app.box.com/s/6u4mpspty3p8fwdicphzfri0rekiayzb\" target=\"_blank\"><font size=\"4\" color=\"0C928F\">IBM: Quantum coming to your business</font></a></li>\n",
    "<li><a href=\"https://app.box.com/s/nuox2n53wrzvxrcq9dy9c1orylopm1w6\" target=\"_blank\"><font size=\"4\" color=\"0C928F\">Deloitte: Quantum Report</font></a></li>\n",
    "<li><a href=\"https://app.box.com/s/p6irrzorevnrkugeapm6521mply1n65a\" target=\"_blank\"><font size=\"4\" color=\"0C928F\">Commercial Prospects for Quantum Computing</font></a></li>\n",
    "<li><a href=\"https://app.box.com/s/ci23m4jwoldlklwqtsklvbre5q7yvvlo\" target=\"_blank\"><font size=\"4\" color=\"0C928F\">Quantum Computing Progress and Prospects</font></a></li>\n",
    "<li><a href=\"http://quantumbusiness.org/10930-2/\" target=\"_blank\"><font size=\"4\" color=\"0C928F\">QB: What are the business opportunities of QC - Google</font></a></li>\n",
    "<li><a href=\"http://quantumbusiness.org/adding-little-quantum-computing-business/\" target=\"_blank\"><font size=\"4\" color=\"0C928F\">QB: Adding Quantum to your business</font></a></li>\n",
    "<li><a href=\"http://quantumbusiness.org/commercial-potential-quantum-computing/\" target=\"_blank\"><font size=\"4\" color=\"0C928F\">QB: What is the commercial potential of Quantum Computing?</font></a></li>\n",
    "<li><a href=\"http://quantumbusiness.org/prepare-business-quantum-superstar-effect/\" target=\"_blank\"><font size=\"4\" color=\"0C928F\">QB: QC could have a superstar effect for businesses</font></a></li>\n",
    "<li><a href=\"https://www.aip.org/fyi/2018/panel-urges-preparations-future-quantum-computers\" target=\"_blank\"><font size=\"4\" color=\"0C928F\">Panel Urges Preparations for Future Quantum Computers</font></a></li>\n",
    "<li><a href=\"https://www.bluejeans.com/blog/quantum-mechanics-future-work-brian-greene?utm_source=facebook&utm_medium=social_organic&utm_term=lt\" target=\"_blank\"><font size=\"4\" color=\"0C928F\">BlueJeans: Quantum Mechanics and the Future of Work</font></a></li>\n",
    "<li><a href=\"https://assets.kpmg/content/dam/kpmg/uk/pdf/2019/05/quantum-computing-101.pdf\" target=\"_blank\"><font size=\"4\" color=\"0C928F\">KPMG: Quantum Computing 101: 7 Questions corporate executives are asking</font></a></li>\n",
    "<li><a href=\"http://qcit.committees.comsoc.org/files/2017/05/Industry-perspectives-of-Quantum-Technologies.pdf\" target=\"_blank\"><font size=\"4\" color=\"0C928F\">Industry Perspectives on QC</font></a></li>\n",
    "<BR>\n",
    "<li><a href=\"https://spectrum.ieee.org/computing/hardware/the-case-against-quantum-computing\" target=\"_blank\"><font size=\"4\" color=\"0C928F\">OPINION: The case against Quantum Computing</font></a></li>\n",
    "<li><a href=\"https://app.box.com/s/075lg3n38dg8pecw4nlwezctsgjjf2kn\" target=\"_blank\"><font size=\"4\" color=\"0C928F\">OPINION: The Limits of Quantum Computing</font></a></li>\n",
    "<li><a href=\"https://www.nextplatform.com/2019/03/25/quantum-no-threat-to-supercomputing-as-we-know-it/\" target=\"_blank\"><font size=\"4\" color=\"0C928F\">OPINION: Quantum is not Threat to Supercomputing as we know it</font></a></li>\n",
    "\n"
   ]
  },
  {
   "cell_type": "code",
   "execution_count": null,
   "metadata": {},
   "outputs": [],
   "source": []
  },
  {
   "cell_type": "markdown",
   "metadata": {},
   "source": [
    "## <font color=\"red\">Graded Exercises</font>  for use <font color=\"blue\">with structured courses.</font>"
   ]
  },
  {
   "cell_type": "markdown",
   "metadata": {},
   "source": [
    "### QC Preparation and Primer\n",
    "\n",
    "#### <font color=\"blue\">*This work will take some time, so block off enough time to adequately cover it*</font>. \n",
    "\n",
    "\n",
    "- **Set up your environments** to handle quantum simulation - this is an <font color=\"red\">*intentional part*</font> of the learning process. You will need to learn and use **python virtual environments** and **custom kernels**. There is no requirements.txt.\n",
    "\n",
    "\n",
    "- **Examine each of the frameworks** that require a learning curve, and begin building <font color=\"red\">resources</font>, <font color=\"red\">code bases</font>, and <font color=\"red\">familiarity</font> with them. \n",
    "\n",
    "**Those are**:\n",
    "\n",
    "> 0. <font color=\"blue\">*QUIRK*</font>\n",
    "> 0. <font color=\"blue\">*QCEngine*</font>\n",
    "> 0. <font color=\"blue\">*QISKIT*</font>\n",
    "> 0. <font color=\"blue\">*MiniComposer*</font>"
   ]
  },
  {
   "cell_type": "code",
   "execution_count": null,
   "metadata": {},
   "outputs": [],
   "source": []
  },
  {
   "cell_type": "code",
   "execution_count": null,
   "metadata": {},
   "outputs": [],
   "source": []
  },
  {
   "cell_type": "code",
   "execution_count": null,
   "metadata": {},
   "outputs": [],
   "source": []
  },
  {
   "cell_type": "markdown",
   "metadata": {},
   "source": [
    "![the-end](img/the-end.png \"the-end\")"
   ]
  }
 ],
 "metadata": {
  "kernelspec": {
   "display_name": "qcousins",
   "language": "python",
   "name": "qcousins"
  },
  "language_info": {
   "codemirror_mode": {
    "name": "ipython",
    "version": 3
   },
   "file_extension": ".py",
   "mimetype": "text/x-python",
   "name": "python",
   "nbconvert_exporter": "python",
   "pygments_lexer": "ipython3",
   "version": "3.7.1"
  }
 },
 "nbformat": 4,
 "nbformat_minor": 2
}
