{
 "cells": [
  {
   "cell_type": "markdown",
   "metadata": {},
   "source": [
    "# Quantum Gates to Quantum Circuits"
   ]
  },
  {
   "cell_type": "markdown",
   "metadata": {},
   "source": [
    "![quirk-simulator](img/quirk-simulator.png \"quirk-simulator\")\n",
    "\n",
    "<font color=\"red\">**Notice**</font>: All materials herein were created by **Matthew R. Versaggi (profversaggi@gmail.com)** and are released into the open source to foster growth and welfare of expanding the Quantum Computing domain - the only obligation one incurs when using, copying, distributing or referencing this is to kindly reference the author and send me an email so I know how useful the material is to you.\n",
    "\n",
    "<font color=\"red\">**Notice**</font>: Python Code contributions for the Circle Plots are the work of **David Radcliffe**."
   ]
  },
  {
   "cell_type": "markdown",
   "metadata": {},
   "source": [
    "## Pedagogical Approach: (<font color=\"red\">**Read this first !**</font>)\n",
    "\n",
    "This material is intended to educate **software engineers** in certain aspects of Quantum Computing, therefore its focus will be on conveying the conceptual ideas in a form digestible to them, and supporting it with exercises to reinforce those concepts. \n",
    "\n",
    "Because of that pedagogical approach, **this material won't lead with or heavily leverage the concepts and language indigenous to physics and math**, but only in those terms most easily digestible to the modern software engineer.\n",
    "\n",
    "This Jupyter Notebook is <font color=\"red\">**not intended as a stand alone educational vehicle**</font>  - it's meant to be accompanied by a decicated power point deck that contains the main concepts to be presented by an instructor - it is intended as a vehicle for a hands on workshop environment to facilitate learning through a guided experience.\n",
    "\n",
    "> **Note:-** Because of the above educational approach:\n",
    "1. There is a certain amount of basic Quantum Computing knowledge that is assumed.\n",
    "2. An active internet connection is **always** assumed.\n",
    "3. Online references/links will be provided where appropriate\n",
    "4. References to books will be made where appropriate\n",
    "5. Much of this material is **dense and detailed**, the reader is <font color=\"red\">**cautioned**</font> to be careful and slow to digest the *nuances* of the material."
   ]
  },
  {
   "cell_type": "markdown",
   "metadata": {},
   "source": [
    "## What you will be exposed to - High level: \n",
    "\n",
    "\n",
    "- Software engineers in the Quantum Computing space need to know their way around a Qubit - that means developing intuition and proficiencies around: the structure of a Qubit / Bloch Sphere, the concepts of Phase and Amplitude, and importantly the concept of rotations of the point on the sphere of a Qubit / Bloch Sphere. \n",
    "- Given the above, there are a host of technical concepts that need to be understood experientially, like the wave function, and interference.\n",
    "- There are also various useful hands-on vehicles for illustrating / learning those concepts - we'll intentionally employ a vendor / framework agnostic approach to focus on the delivery of concept understanding and intuition procurement as the main value-add.\n",
    "\n",
    "> ### High Level Agenda (<font color=\"red\">*major sections*</font>): - another set of basic skills for the software engineer.\n",
    "1. Developmental Detour - Digital Gates, Circuits and Computer Architecture\n",
    "2. Multi Qubit Gates\n",
    "3. Mapping Boolean (Digital) Logic to Quantum Logic Operations\n",
    "4. Building Basic Quantum Circuits\n",
    "\n"
   ]
  },
  {
   "cell_type": "code",
   "execution_count": null,
   "metadata": {},
   "outputs": [],
   "source": []
  },
  {
   "cell_type": "code",
   "execution_count": null,
   "metadata": {},
   "outputs": [],
   "source": []
  },
  {
   "cell_type": "markdown",
   "metadata": {},
   "source": [
    "## Developmental Detour : -  <font color=\"blue\">Digital Gates, Circuits and Computer Architecture\n",
    "- There is a **progression** from **boolean logic**, to **logic gate construction**, to **simple and sophisticated circuit design** that is actually **algorithm design in a hardware vehicle** - (at the moment) this is *very much like algorithm design of quantum computing*, so it's **worth getting a brief exposure to**.\n",
    "- We'll be leveraging the Open Source site **CircuitVerse** for illustrative purposes.\n",
    "\n",
    "<BR>\n",
    "\n",
    "![circuitverse-banner](img/circuitverse-banner.png \"circuitverse-banner\")\n",
    "\n",
    "> ### **SITE**: https://circuitverse.org/"
   ]
  },
  {
   "cell_type": "markdown",
   "metadata": {},
   "source": [
    "## <font color=\"blue\">The NOT GATE</font> <BR>\n",
    "\n",
    "<img style=\"float: left;\" src=\"img/tt-not.png\">\n",
    "\n",
    "<BR><BR><BR><BR><BR><BR><BR><BR><BR>\n",
    "\n",
    "\n",
    "> ### <font color=\"red\">CircuitVerse Example</font>: (NOT GATE) \n",
    "- https://circuitverse.org/users/14470/projects/42866"
   ]
  },
  {
   "cell_type": "markdown",
   "metadata": {},
   "source": [
    "## <font color=\"blue\">The AND GATE</font> <BR>\n",
    "\n",
    "<img style=\"float: left;\" src=\"img/tt-and.png\">\n",
    "\n",
    "<BR><BR><BR><BR><BR><BR><BR><BR><BR><BR><BR>\n",
    "\n",
    "\n",
    "> ### <font color=\"red\">CircuitVerse Example</font>: (AND GATE) \n",
    "- https://circuitverse.org/users/16684/projects/49979"
   ]
  },
  {
   "cell_type": "markdown",
   "metadata": {},
   "source": [
    "## <font color=\"blue\">The NAND GATE</font> <BR>\n",
    "\n",
    "<img style=\"float: left;\" src=\"img/tt-nand.png\">\n",
    "\n",
    "<BR><BR><BR><BR><BR><BR><BR><BR><BR><BR><BR>\n",
    "\n",
    "\n",
    "> ### <font color=\"red\">CircuitVerse Example</font>: (NAND GATE) \n",
    "- https://circuitverse.org/users/14470/projects/42861"
   ]
  },
  {
   "cell_type": "markdown",
   "metadata": {},
   "source": [
    "## <font color=\"blue\">The OR GATE</font> <BR>\n",
    "\n",
    "<img style=\"float: left;\" src=\"img/tt-or.png\">\n",
    "\n",
    "<BR><BR><BR><BR><BR><BR><BR><BR><BR><BR><BR><BR>\n",
    "\n",
    "\n",
    "> ### <font color=\"red\">CircuitVerse Example</font>: (OR GATE) \n",
    "- https://circuitverse.org/users/14471/projects/42705"
   ]
  },
  {
   "cell_type": "markdown",
   "metadata": {},
   "source": [
    "## <font color=\"blue\">The NOR GATE</font> <BR>\n",
    "\n",
    "<img style=\"float: left;\" src=\"img/tt-or.png\">\n",
    "\n",
    "<BR><BR><BR><BR><BR><BR><BR><BR><BR><BR><BR><BR>\n",
    "\n",
    "\n",
    "> ### <font color=\"red\">CircuitVerse Example</font>: (NOR GATE) \n",
    "- https://circuitverse.org/users/14470/projects/42857"
   ]
  },
  {
   "cell_type": "markdown",
   "metadata": {},
   "source": [
    "## <font color=\"blue\">The XOR GATE</font> <BR>\n",
    "\n",
    "<img style=\"float: left;\" src=\"img/tt-xor.png\">\n",
    "\n",
    "<BR><BR><BR><BR><BR><BR><BR><BR><BR><BR><BR><BR>\n",
    "\n",
    "\n",
    "> ### <font color=\"red\">CircuitVerse Example</font>: (XOR GATE) \n",
    "- https://circuitverse.org/users/14470/projects/42724"
   ]
  },
  {
   "cell_type": "markdown",
   "metadata": {},
   "source": [
    "## <font color=\"blue\">The HALF ADDER</font> \n",
    "\n",
    "<img style=\"float: left;\" src=\"img/circuitverse-halfadder.png\">\n",
    "\n",
    "<BR><BR><BR><BR><BR><BR><BR><BR><BR><BR>\n",
    "\n",
    "\n",
    "> ### <font color=\"red\">CircuitVerse Example</font>: (HALF ADDER) \n",
    "- https://circuitverse.org/users/12956/projects/37909"
   ]
  },
  {
   "cell_type": "markdown",
   "metadata": {},
   "source": [
    "## <font color=\"blue\">The FULL ADDER</font>\n",
    "\n",
    "<img style=\"float: left;\" src=\"img/circuitverse-full-adder.png\">\n",
    "\n",
    "<BR><BR><BR><BR><BR><BR><BR><BR><BR><BR>\n",
    "\n",
    "\n",
    "> ### <font color=\"red\">CircuitVerse Example</font>: (FULL ADDER) \n",
    "- https://circuitverse.org/users/2411/projects/5605"
   ]
  },
  {
   "cell_type": "markdown",
   "metadata": {},
   "source": [
    "## <font color=\"blue\">The FULL ADDER / SUBTRACTOR</font>\n",
    "\n",
    "<img style=\"float: left;\" src=\"img/circuitverse-full-adder-subtractor.png\">\n",
    "\n",
    "<BR><BR><BR><BR><BR><BR><BR><BR><BR><BR>\n",
    "\n",
    "\n",
    "> ### <font color=\"red\">CircuitVerse Example</font>: (FULL ADDER / SUBTRACTOR) \n",
    "- https://circuitverse.org/users/479/projects/2018"
   ]
  },
  {
   "cell_type": "markdown",
   "metadata": {},
   "source": [
    "## <font color=\"blue\">The SIMPLE COMPUTER ARCHITECTURE</font>\n",
    "\n",
    "<img style=\"float: left;\" src=\"img/circuitverse-simple-computer.png\">\n",
    "\n",
    "<BR><BR><BR><BR><BR><BR><BR><BR><BR><BR>\n",
    "<BR><BR><BR><BR><BR><BR><BR><BR><BR><BR>\n",
    "\n",
    "> ### <font color=\"red\">CircuitVerse Example</font>: (SIMPLE COMPUTER ARCHITECTURE) \n",
    "- https://circuitverse.org/users/3464/projects/16521"
   ]
  },
  {
   "cell_type": "code",
   "execution_count": null,
   "metadata": {},
   "outputs": [],
   "source": []
  },
  {
   "cell_type": "code",
   "execution_count": null,
   "metadata": {},
   "outputs": [],
   "source": []
  },
  {
   "cell_type": "markdown",
   "metadata": {},
   "source": [
    "# Deep Dive #1 : - <font color=\"blue\">Quantum</font> <font color=\"red\">Multi Qubit Gates</font>\n",
    "\n",
    "> Multi Qubits manipulation is done w/specialized Quantum Gates - to gain an understanding and intuition of them are critical to the quantum computing space. By multi-qubit operations we mean ones that require more than one qubit to operate.\n",
    "\n",
    "> The below information **supports the presenter led discussion** about the important concept of **Multiple Qubit Quantum Gates**. The pedagogical bent is toward catering to the software engineer archtype, so much of the work will focus on the conceptual side and developing an intuition to the various gate rotations.\n",
    "\n",
    "> **NOTE:** The details, nuances, and key concepts are left to that discussion.\n"
   ]
  },
  {
   "cell_type": "markdown",
   "metadata": {},
   "source": [
    "## CNOT Gate, the Reverse CNOT Gate and the CCNOT gate.\n",
    "\n",
    "\n",
    "\n",
    "\n",
    "\n",
    "\n",
    "\n",
    "    \n",
    "    \n",
    "## <font color=\"blue\">CNOT Gate </font>   \n",
    "<img style=\"float: left;\" src=\"img/qgate-cnot1.png\">\n",
    "\n",
    "- The CNOT gate operates on two qubits and can be thought of as an **“if”** programming construct with the following condition: **“Apply the <font color=\"red\">NOT</font> operation to a target qubit, but <font color=\"red\">only if</font> a condition qubit has the value <font color=\"red\">1</font>.”** The circuit symbol used for CNOT shows this logic by connecting two qubits with a line. A **filled dot** represents the **control qubit**, while a **NOT symbol** shows the **target qubit** to be conditionally operated on.\n",
    "\n",
    "\n",
    "- **Reversibility**: Like the NOT operation, CNOT is its own inverse — applying the CNOT operation twice will return a multi-qubit register to its initial state.\n",
    "\n",
    "\n",
    "> ### <font color=\"blue\">Illustrations </font>:\n",
    "The <font color=\"blue\">arrows</font> in figure below show which operator pairs have their circles *swapped* in circle notation. We can see that the *essential operation* of **CNOT** is the **same** as that of **NOT**, only **more <font color=\"red\">selective</font>** — applying the NOT operation only to values whose **binary representations** (in this example) have a <font color=\"red\">1</font> in the <font color=\"blue\">second bit</font> - (0<font color=\"red\">1</font>0=<font color=\"red\">2</font>, 0<font color=\"red\">1</font>1=<font color=\"red\">3</font>, 1<font color=\"red\">1</font>0=<font color=\"red\">6</font>, and 1<font color=\"red\">1</font>1=<font color=\"red\">7</font>).\n",
    "\n",
    "\n",
    "<img style=\"float: left;\" src=\"img/binary-table-0-7_excel.png\">\n",
    "\n",
    "![cnot-ccnot-qcengine-circuit](img/cnot-ccnot-qcengine-circuit.png \"cnot-ccnot-qcengine-circuit\")\n",
    "\n",
    "![cnot-vs-not-illustration](img/cnot-vs-not-illustration1.png \"cnot-vs-not-illustration\")\n",
    "\n",
    "\n",
    "\n",
    "    \n",
    "## <font color=\"blue\">Reverse CNOT Gate </font>       \n",
    "<img style=\"float: left;\" src=\"img/qgate-reverse-cnot.png\">   \n",
    "    \n",
    "- The **Reverse CNOT gate** is strictly a reversal of the connectors and location of the **control** and **X** gate.    \n",
    "\n",
    "<BR><BR><BR><BR> <BR><BR><BR><BR> \n",
    "## <font color=\"red\">C</font><font color=\"blue\">CNOT Gate </font>      \n",
    "<img style=\"float: left;\" src=\"img/qgate-ccnot.png\">\n",
    "    \n",
    "    \n",
    "- The <font color=\"red\">C</font><font color=\"blue\">CNOT Gate </font> (quantum Toffoli or **CCX**) is a double control gate operating on three qubits. If the states of the first two qubits are **|1>** then it applies <font color=\"red\">X</font> to the third. Otherwise it is **ID** (*which does nothing*) on the third. In all cases it is **ID** for the first two qubits.\n",
    "\n",
    "\n"
   ]
  },
  {
   "cell_type": "markdown",
   "metadata": {},
   "source": [
    "### <font color=\"red\">Exercise</font> : Using the QCEngine to explore NOT / CNOT Gates\n",
    "\n",
    "![C-Not](img/cnot.png \"C-Not\")\n",
    "\n",
    "> Run the NOT, CNOT and CCNOT program in the QCEngine and inspect the result by clicking around in the Program Circuit pane to  observe the behavior of the circuit and outputs.\n"
   ]
  },
  {
   "cell_type": "code",
   "execution_count": 14,
   "metadata": {
    "scrolled": false
   },
   "outputs": [
    {
     "data": {
      "text/html": [
       "\n",
       "        <iframe\n",
       "            width=\"900\"\n",
       "            height=\"900\"\n",
       "            src=\"http://oreilly-qc.github.io?p=5-6\"\n",
       "            frameborder=\"0\"\n",
       "            allowfullscreen\n",
       "        ></iframe>\n",
       "        "
      ],
      "text/plain": [
       "<IPython.lib.display.IFrame at 0x21ab4aa9128>"
      ]
     },
     "execution_count": 14,
     "metadata": {},
     "output_type": "execute_result"
    }
   ],
   "source": [
    "from IPython.display import IFrame\n",
    "IFrame(src='http://oreilly-qc.github.io?p=5-6', width=900, height=900)"
   ]
  },
  {
   "cell_type": "markdown",
   "metadata": {},
   "source": [
    "### <font color=\"red\">Exploration</font>: Use the QUIRK Simulation to explore a CNOT Gate."
   ]
  },
  {
   "cell_type": "markdown",
   "metadata": {},
   "source": [
    "### QUIRK Circuit : CNOT <font color=\"red\">OFF</font>\n",
    "\n",
    "> Notice the circuit is off, and the amplitude of Decimal Zero is at 100%. when the input to qubit #1 is zero.\n",
    "\n",
    "![quirk-cnot-circuit-off](img/quirk-cnot-circuit-off.png \"quirk-cnot-circuit-off\")\n",
    "\n",
    "\n",
    "### QUIRK Circuit : CNOT <font color=\"red\">ON</font>\n",
    "\n",
    "> Notice the circuit is on, and the amplitude of Decimal Three is at 100%. when the input to qubit #1 is One.\n",
    "\n",
    "![quirk-cnot-circuit-on](img/quirk-cnot-circuit-on.png \"quirk-cnot-circuit-on\")\n"
   ]
  },
  {
   "cell_type": "markdown",
   "metadata": {},
   "source": [
    "### <font color=\"red\">Exercise</font> : Using the QUIRK Simulation to explore a CNOT Gate\n",
    "\n",
    "> Change the input to Qubit #1 by clicking on it (you'll cycle through all of the different bases) and notice how the rest of the circuit changes.\n",
    "- Try (a) reversing the gate and (b) executing a reversal of the CNOT gate itself."
   ]
  },
  {
   "cell_type": "code",
   "execution_count": 16,
   "metadata": {},
   "outputs": [
    {
     "data": {
      "text/html": [
       "\n",
       "        <iframe\n",
       "            width=\"900\"\n",
       "            height=\"600\"\n",
       "            src=\"https://algassert.com/quirk#circuit={%22cols%22:[[%22%E2%80%A2%22,%22X%22]],%22init%22:[1]}\"\n",
       "            frameborder=\"0\"\n",
       "            allowfullscreen\n",
       "        ></iframe>\n",
       "        "
      ],
      "text/plain": [
       "<IPython.lib.display.IFrame at 0x21ab4aa9ba8>"
      ]
     },
     "execution_count": 16,
     "metadata": {},
     "output_type": "execute_result"
    }
   ],
   "source": [
    "# QUIRK (Quantum Curcuit Simulator) \n",
    "from IPython.display import IFrame\n",
    "\n",
    "IFrame(src='https://algassert.com/quirk#circuit={%22cols%22:[[%22%E2%80%A2%22,%22X%22]],%22init%22:[1]}', width=900, height=600)"
   ]
  },
  {
   "cell_type": "markdown",
   "metadata": {},
   "source": [
    "### <font color=\"red\">Exercise</font> : Using the QUIRK Simulation to explore a <font color=\"red\">C</font>CNOT Gate\n",
    "\n",
    "> Change the input to **Qubit #1** and **Qubit #2** by clicking on it (you'll cycle through all of the different bases) and *notice* how the rest of the circuit changes.\n"
   ]
  },
  {
   "cell_type": "code",
   "execution_count": 17,
   "metadata": {
    "scrolled": false
   },
   "outputs": [
    {
     "data": {
      "text/html": [
       "\n",
       "        <iframe\n",
       "            width=\"900\"\n",
       "            height=\"600\"\n",
       "            src=\"https://algassert.com/quirk#circuit={%22cols%22:[[%22%E2%80%A2%22,%22%E2%80%A2%22,%22X%22]],%22init%22:[1,1]}\"\n",
       "            frameborder=\"0\"\n",
       "            allowfullscreen\n",
       "        ></iframe>\n",
       "        "
      ],
      "text/plain": [
       "<IPython.lib.display.IFrame at 0x21ab4aa9a58>"
      ]
     },
     "execution_count": 17,
     "metadata": {},
     "output_type": "execute_result"
    }
   ],
   "source": [
    "# QUIRK (Quantum Curcuit Simulator) \n",
    "from IPython.display import IFrame\n",
    "\n",
    "IFrame(src='https://algassert.com/quirk#circuit={%22cols%22:[[%22%E2%80%A2%22,%22%E2%80%A2%22,%22X%22]],%22init%22:[1,1]}', width=900, height=600)"
   ]
  },
  {
   "cell_type": "code",
   "execution_count": null,
   "metadata": {},
   "outputs": [],
   "source": []
  },
  {
   "cell_type": "markdown",
   "metadata": {},
   "source": [
    "### <font color=\"red\">Exercise</font> : Using the Qiskit to explore the NOT,  CNOT and CCNOT Gate(s)\n",
    "\n",
    "![C-Not](img/cnot.png \"C-Not\")\n",
    "\n",
    "- Run the code and inspect the circuits - compare them to the QCEngine and QUIRK equivalents above."
   ]
  },
  {
   "cell_type": "code",
   "execution_count": 18,
   "metadata": {},
   "outputs": [],
   "source": [
    "from qiskit import QuantumCircuit, QuantumRegister, ClassicalRegister, execute, Aer, IBMQ, BasicAer\n",
    "import math\n",
    "\n",
    "## Uncomment the next line to see diagrams when running in a notebook\n",
    "%matplotlib inline\n",
    "\n",
    "## Example 5-6: CNOT Logic\n",
    "\n",
    "# Set up the program\n",
    "a = QuantumRegister(1, name='a')\n",
    "b = QuantumRegister(1, name='b')\n",
    "c = QuantumRegister(1, name='c')\n",
    "\n",
    "r1 = ClassicalRegister(1, name='r1')\n",
    "r2 = ClassicalRegister(2, name='r2')\n",
    "r3 = ClassicalRegister(3, name='r3')\n",
    "\n",
    "qc = QuantumCircuit(a, b, c, r1, r2, r3)\n",
    "\n",
    "\n",
    "## CASE: (c = ~c)\n",
    "#\n",
    "#\n",
    "qc.reset(c)\n",
    "qc.x(c)\n",
    "qc.measure(c, r1)\n",
    "qc.barrier()\n",
    "\n",
    "## CASE: if (b) then (c = ~c)\n",
    "#\n",
    "#\n",
    "qc.reset(b)\n",
    "qc.reset(c)\n",
    "qc.x(b)\n",
    "qc.cx(b, c)\n",
    "qc.measure(b, r2[0])\n",
    "qc.measure(c, r2[1])\n",
    "qc.barrier()\n",
    "\n",
    "## CASE: if (a) and (b) then (c = ~c)\n",
    "#\n",
    "#\n",
    "qc.reset(a)\n",
    "qc.reset(b)\n",
    "qc.reset(c)\n",
    "qc.x(a)\n",
    "qc.x(b)\n",
    "qc.ccx(a, b, c)\n",
    "qc.measure(a, r3[0])\n",
    "qc.measure(b, r3[1])\n",
    "qc.measure(c, r3[2])\n",
    "\n",
    "## That's the program. Everything below runs and draws it.\n",
    "#\n",
    "#\n",
    "backend = BasicAer.get_backend('statevector_simulator')\n",
    "job = execute(qc, backend)\n",
    "result = job.result()"
   ]
  },
  {
   "cell_type": "markdown",
   "metadata": {},
   "source": [
    "### NOTE: These are the outputs of the three independent circuits in order of execution \n",
    "<BR>\n",
    "<font color=\"red\">\n",
    "    \n",
    "- NOT: (1)\n",
    "- CNOT: (11)\n",
    "- CCNOT : (111)\n",
    "    \n",
    "</font>"
   ]
  },
  {
   "cell_type": "code",
   "execution_count": 33,
   "metadata": {},
   "outputs": [
    {
     "name": "stdout",
     "output_type": "stream",
     "text": [
      "Binary Number(s):  1 11 111\n"
     ]
    }
   ],
   "source": [
    "# NOTE: These are the outputs of the three independent circuits in order of execution.\n",
    "# (1:1, 2:11, and 3:111)\n",
    "#\n",
    "#\n",
    "counts = result.get_counts(qc)\n",
    "\n",
    "for k in counts:\n",
    "    binary_number = ''.join(reversed(k))\n",
    "    print(\"Binary Number(s): \", binary_number)"
   ]
  },
  {
   "cell_type": "code",
   "execution_count": 22,
   "metadata": {
    "scrolled": true
   },
   "outputs": [
    {
     "name": "stdout",
     "output_type": "stream",
     "text": [
      "|7> (1+0j)\n"
     ]
    },
    {
     "data": {
      "image/png": "[encoded data removed]",
      "text/plain": [
       "<Figure size 1300.32x385.28 with 1 Axes>"
      ]
     },
     "execution_count": 22,
     "metadata": {},
     "output_type": "execute_result"
    }
   ],
   "source": [
    "# get the output state and print the circuit\n",
    "#\n",
    "outputstate = result.get_statevector(qc, decimals=3)\n",
    "\n",
    "for i,amp in enumerate(outputstate):\n",
    "    if abs(amp) > 0.000001:\n",
    "        print('|{}> {}'.format(i, amp))\n",
    "        \n",
    "qc.draw(output='mpl')        # draw the circuit"
   ]
  },
  {
   "cell_type": "code",
   "execution_count": null,
   "metadata": {},
   "outputs": [],
   "source": []
  },
  {
   "cell_type": "markdown",
   "metadata": {},
   "source": [
    "## Swap Gate\n",
    "\n",
    "<img style=\"float: left;\" src=\"img/qgate-swap.png\">\n",
    "\n",
    "> The Swap gate SWAP (also called exchange), which simply exchanges two qubits.\n",
    "\n",
    "- Alternatively, a SWAP can be performed by exchanging the **information** contained in two qubits (rather than the qubits themselves) using three CNOT operations,\n",
    "\n",
    "![swap-gate-examples](img/swap-gate-examples.png \"swap-gate-examples\")"
   ]
  },
  {
   "cell_type": "markdown",
   "metadata": {},
   "source": [
    "### <font color=\"red\">Exercise</font> : Using the QCEngine to explore different SWAP Gates\n",
    "\n",
    "![swap-native-example](img/swap-native-example.png \"swap-native-example\")\n",
    "![swap-cnots-example](img/swap-cnots-example.png \"swap-cnots-example\")\n",
    "\n",
    "> *Cut-n-Paste and Run* the **SWAP** example(s) below and uncomment/re-comment the appropriate lines to switch from the **native swap** gate to the **CNOT** implementation - inspect the result by clicking around in the Program Circuit pane to  observe the behavior of the circuit and outputs.\n"
   ]
  },
  {
   "cell_type": "raw",
   "metadata": {},
   "source": [
    "\n",
    "//#############\n",
    "// SWAP DEMO(s)\n",
    "// ############\n",
    "\n",
    "\n",
    "// Create a Quantum Circuit with 2 qubits\n",
    "qc.reset(2);\n",
    "\n",
    "// Initialize wach qubit w/a name and label\n",
    "var qubit1 = qint.new(1, 'qubit 1');\n",
    "var qubit2 = qint.new(1, 'qubit 2');\n",
    "\n",
    "qc.label(\"SWAP\")\n",
    "\n",
    "// Write values to the respective qubits \n",
    "// this is what you tinker with !!\n",
    "qubit1.write(1)\n",
    "qubit2.write(0)\n",
    "\n",
    "// Execute the classic SWAP \n",
    "// (uncomment any one line below - all identical)\n",
    "// qubit1.swap(qubit2)\n",
    "// qubit2.swap(qubit1)\n",
    "// qubit1.exchange(qubit2)\n",
    "// qubit2.exchange(qubit1)\n",
    "// qc.swap(1|2)\n",
    "qc.exchange(1|2)\n",
    "\n",
    "qc.nop()\n",
    "\n",
    "// SWAP using CNOT (uncomment 3 lines below)\n",
    "// qc.cnot(1,2)\n",
    "// qc.cnot(2,1)\n",
    "// qc.cnot(1,2)\n",
    "\n",
    "qc.label();\n",
    "\n",
    "// read the qubits\n",
    "qubit1.read();\n",
    "qubit2.read();\n"
   ]
  },
  {
   "cell_type": "code",
   "execution_count": 35,
   "metadata": {},
   "outputs": [
    {
     "data": {
      "text/html": [
       "\n",
       "        <iframe\n",
       "            width=\"900\"\n",
       "            height=\"900\"\n",
       "            src=\"http://oreilly-qc.github.io?p=3-4\"\n",
       "            frameborder=\"0\"\n",
       "            allowfullscreen\n",
       "        ></iframe>\n",
       "        "
      ],
      "text/plain": [
       "<IPython.lib.display.IFrame at 0x21ab4a12710>"
      ]
     },
     "execution_count": 35,
     "metadata": {},
     "output_type": "execute_result"
    }
   ],
   "source": [
    "from IPython.display import IFrame\n",
    "IFrame(src='http://oreilly-qc.github.io?p=3-4', width=900, height=900)"
   ]
  },
  {
   "cell_type": "code",
   "execution_count": null,
   "metadata": {},
   "outputs": [],
   "source": []
  },
  {
   "cell_type": "markdown",
   "metadata": {},
   "source": [
    "## CSwap Gate\n",
    "\n",
    "\n",
    "<img style=\"float: left;\" src=\"img/qgate-cswap.png\">\n",
    "\n",
    "> The quantum **Fredkin CSWAP** gate is a control gate operating on three qubits. If the state of the\n",
    "first qubit is **|1>** then the states of the second and third qubits are swapped, as in SWAP. If it is\n",
    "**|0>**, nothing is changed. Like the CCNOT, the CSWAP gate spans **three** wires. The top line is the **control qubit**.\n",
    "\n"
   ]
  },
  {
   "cell_type": "markdown",
   "metadata": {},
   "source": [
    "### <font color=\"red\">Exercise</font> : Using the QCEngine to explore the  Fredkin SWAP Gate\n",
    "\n",
    "![swap-fredkin-example](img/swap-fredkin-example.png \"swap-fredkin-example\")\n",
    "\n",
    "> *Cut-n-Paste* the **Fredkin SWAP** example below into the QCEngine, then run it -inspect the result by clicking around in the Program Circuit pane to  observe the behavior of the circuit and outputs.\n"
   ]
  },
  {
   "cell_type": "raw",
   "metadata": {},
   "source": [
    "//#############\n",
    "// SWAP DEMO(s)\n",
    "// ############\n",
    "\n",
    "\n",
    "// Create a Quantum Circuit with 3 qubits\n",
    "qc.reset(3);\n",
    "\n",
    "// Initialize wach qubit w/a name and label\n",
    "var qubit1 = qint.new(1, 'qubit 1');\n",
    "var qubit2 = qint.new(1, 'qubit 2');\n",
    "var qubit3 = qint.new(1, 'qubit 3');\n",
    "\n",
    "qc.label(\"Fredkin SWAP\");\n",
    "\n",
    "// Write values to the respective qubits (this is what you tinker with)\n",
    "qubit1.write(1);\n",
    "qubit2.write(1);\n",
    "qubit3.write(0);\n",
    "\n",
    "// Execute the Fredkin CSWAP SWAP \n",
    "qubit2.exchange(qubit3, 1, qubit1);\n",
    "\n",
    "qc.nop();\n",
    "\n",
    "qc.label();\n",
    "\n",
    "// read the qubits\n",
    "qubit1.read();\n",
    "qubit2.read();\n",
    "qubit3.read();\n"
   ]
  },
  {
   "cell_type": "code",
   "execution_count": 36,
   "metadata": {},
   "outputs": [
    {
     "data": {
      "text/html": [
       "\n",
       "        <iframe\n",
       "            width=\"900\"\n",
       "            height=\"900\"\n",
       "            src=\"http://oreilly-qc.github.io?p=3-4\"\n",
       "            frameborder=\"0\"\n",
       "            allowfullscreen\n",
       "        ></iframe>\n",
       "        "
      ],
      "text/plain": [
       "<IPython.lib.display.IFrame at 0x21ab4a12d68>"
      ]
     },
     "execution_count": 36,
     "metadata": {},
     "output_type": "execute_result"
    }
   ],
   "source": [
    "from IPython.display import IFrame\n",
    "IFrame(src='http://oreilly-qc.github.io?p=3-4', width=900, height=900)"
   ]
  },
  {
   "cell_type": "markdown",
   "metadata": {},
   "source": [
    "### <font color=\"red\">Exercise</font> : Using the Qiskit to explore the SWAP and CSWAP Gate(s)\n",
    "\n",
    "![swap-gate-examples](img/swap-gate-examples.png \"swap-gate-examples\")\n",
    "\n",
    "- Run the code and inspect the circuits - compare them to the QCEngine and QUIRK equivalents above."
   ]
  },
  {
   "cell_type": "markdown",
   "metadata": {},
   "source": [
    "## <font color=\"blue\">SWAP Gate</font> "
   ]
  },
  {
   "cell_type": "code",
   "execution_count": 346,
   "metadata": {},
   "outputs": [],
   "source": [
    "from qiskit import QuantumCircuit, QuantumRegister, ClassicalRegister, execute, Aer, IBMQ, BasicAer\n",
    "import math\n",
    "\n",
    "## Uncomment the next line to see diagrams when running in a notebook\n",
    "%matplotlib inline\n",
    "\n",
    "# Helper Funtion for Normalizing State Vectors\n",
    "#\n",
    "def normalize_state_Vector(state_vector):\n",
    "    for result in state_vector:\n",
    "        print(\"Normalized Result: \" , round( np.abs(result)**2, 1) )        \n",
    "        \n",
    "## Example Swap Circuit\n",
    "\n",
    "# Set up the circuit\n",
    "#\n",
    "qr1 = QuantumRegister(1, name='qr1')\n",
    "qr2 = QuantumRegister(1, name='qr2')\n",
    "\n",
    "\n",
    "cr1 = ClassicalRegister(1, name='cr1')\n",
    "cr2 = ClassicalRegister(1, name='cr2')\n",
    "\n",
    "qc = QuantumCircuit(qr1, qr2, cr1, cr2)\n"
   ]
  },
  {
   "cell_type": "markdown",
   "metadata": {},
   "source": [
    "#### <font color=\"red\">NOTE</font>: This is the only code segment you change"
   ]
  },
  {
   "cell_type": "code",
   "execution_count": 347,
   "metadata": {},
   "outputs": [
    {
     "data": {
      "text/plain": [
       "<qiskit.circuit.instructionset.InstructionSet at 0x21abbb08710>"
      ]
     },
     "execution_count": 347,
     "metadata": {},
     "output_type": "execute_result"
    }
   ],
   "source": [
    "# Apply NOT gate to transform 0 to a 1 for the data qubit\n",
    "qc.x(qr2)"
   ]
  },
  {
   "cell_type": "code",
   "execution_count": 348,
   "metadata": {},
   "outputs": [],
   "source": [
    "## Execute the Swap\n",
    "qc.swap(qr1, qr2)\n",
    "\n",
    "qc.measure(qr1, cr1)\n",
    "qc.measure(qr2, cr2)\n",
    "\n",
    "backend = BasicAer.get_backend('statevector_simulator')\n",
    "job = execute(qc, backend)\n",
    "result = job.result()"
   ]
  },
  {
   "cell_type": "code",
   "execution_count": 349,
   "metadata": {},
   "outputs": [
    {
     "data": {
      "image/png": "[encoded data removed]",
      "text/plain": [
       "<Figure size 418.992x264.88 with 1 Axes>"
      ]
     },
     "execution_count": 349,
     "metadata": {},
     "output_type": "execute_result"
    }
   ],
   "source": [
    "outputstate = result.get_statevector(qc, decimals=3)\n",
    "\n",
    "# print(normalize_state_Vector(outputstate))\n",
    "\n",
    "qc.draw(output='mpl')        # draw the circuit"
   ]
  },
  {
   "cell_type": "markdown",
   "metadata": {},
   "source": [
    "#### REMINDER: counts are backward in order, so must reverse them."
   ]
  },
  {
   "cell_type": "code",
   "execution_count": 350,
   "metadata": {},
   "outputs": [
    {
     "name": "stdout",
     "output_type": "stream",
     "text": [
      "*After Swap Gate*\n",
      "\n",
      "Measurements C_Regs: => qr1 qr2:  1 0\n"
     ]
    }
   ],
   "source": [
    "# Counts get reported in backwards order and need to be reversed.\n",
    "\n",
    "# Get the resultant counts\n",
    "#\n",
    "counts = result.get_counts(qc)\n",
    "\n",
    "# Reverse the order for proper persual\n",
    "#\n",
    "for k in counts:\n",
    "    binary_number = ''.join(reversed(k))\n",
    "    print(\"*After Swap Gate*\\n\")\n",
    "    print(\"Measurements C_Regs: => qr1 qr2: \", binary_number)\n"
   ]
  },
  {
   "cell_type": "code",
   "execution_count": null,
   "metadata": {},
   "outputs": [],
   "source": []
  },
  {
   "cell_type": "markdown",
   "metadata": {},
   "source": [
    "## <font color=\"blue\">CSWAP Gate</font> "
   ]
  },
  {
   "cell_type": "code",
   "execution_count": 32,
   "metadata": {},
   "outputs": [
    {
     "data": {
      "text/plain": [
       "<qiskit.circuit.instructionset.InstructionSet at 0x2678777be10>"
      ]
     },
     "execution_count": 32,
     "metadata": {},
     "output_type": "execute_result"
    }
   ],
   "source": [
    "from qiskit import QuantumCircuit, QuantumRegister, ClassicalRegister, execute, Aer, IBMQ, BasicAer\n",
    "import math\n",
    "\n",
    "## Uncomment the next line to see diagrams when running in a notebook\n",
    "%matplotlib inline\n",
    "\n",
    "# Helper Funtion for Normalizing State Vectors\n",
    "#\n",
    "def normalize_state_Vector(state_vector):\n",
    "    for result in state_vector:\n",
    "        print(\"Normalized Result: \" , round( np.abs(result)**2, 1) )\n",
    "\n",
    "## Example Swap Circuit\n",
    "\n",
    "# Set up the circuit\n",
    "#\n",
    "# qubit1 = QuantumRegister(1, name='qubit1')\n",
    "# qubit2 = QuantumRegister(1, name='qubit2')\n",
    "# qubit3 = QuantumRegister(1, name='qubit3')\n",
    "\n",
    "\n",
    "qr1 = QuantumRegister(1, name='qr1')\n",
    "qr2 = QuantumRegister(1, name='qr2')\n",
    "qr3 = QuantumRegister(1, name='qr3')\n",
    "\n",
    "\n",
    "cr1 = ClassicalRegister(1, name='cr1')\n",
    "cr2 = ClassicalRegister(1, name='cr2')\n",
    "cr3 = ClassicalRegister(1, name='cr3')\n",
    "\n",
    "qc = QuantumCircuit(qr1, qr2, qr3, cr1, cr2, cr3)\n",
    "\n",
    "# write the value 0 to all three quantum registers to explicitly initialize\n",
    "qc.reset(qr1) \n",
    "qc.reset(qr2) \n",
    "qc.reset(qr3) \n"
   ]
  },
  {
   "cell_type": "markdown",
   "metadata": {},
   "source": [
    "#### <font color=\"red\">NOTE</font>: This is the only code segment you change"
   ]
  },
  {
   "cell_type": "code",
   "execution_count": 33,
   "metadata": {},
   "outputs": [
    {
     "data": {
      "text/plain": [
       "<qiskit.circuit.instructionset.InstructionSet at 0x267876c56d8>"
      ]
     },
     "execution_count": 33,
     "metadata": {},
     "output_type": "execute_result"
    }
   ],
   "source": [
    "# Set the control qubit to 1 - this executes the C-SWAP mechanism.\n",
    "qc.x(qr1)\n",
    "\n",
    "# Apply NOT gate to transform 0 to a 1 for the data qubit, \n",
    "# this is the tracer bit that is tracked.\n",
    "#\n",
    "qc.x(qr2)"
   ]
  },
  {
   "cell_type": "code",
   "execution_count": 34,
   "metadata": {},
   "outputs": [],
   "source": [
    "## Execute the Swap\n",
    "qc.cswap(qr1, qr2, qr3)\n",
    "\n",
    "qc.measure(qr1, cr1)\n",
    "qc.measure(qr2, cr2)\n",
    "qc.measure(qr3, cr3)\n",
    "\n",
    "\n",
    "# qc.reset(reg)          # write the value 0\n",
    "# qc.h(reg)              # put it into a superposition of 0 and 1\n",
    "# qc.measure(reg, reg_c) # read the result as a digital bit\n",
    "\n",
    "\n",
    "backend = BasicAer.get_backend('statevector_simulator')\n",
    "job = execute(qc, backend)\n",
    "result = job.result()"
   ]
  },
  {
   "cell_type": "code",
   "execution_count": 35,
   "metadata": {
    "scrolled": false
   },
   "outputs": [
    {
     "data": {
      "image/png": "[encoded data removed]",
      "text/plain": [
       "<Figure size 599.592x385.28 with 1 Axes>"
      ]
     },
     "execution_count": 35,
     "metadata": {},
     "output_type": "execute_result"
    }
   ],
   "source": [
    "outputstate = result.get_statevector(qc, decimals=3)\n",
    "\n",
    "# print(normalize_state_Vector(outputstate))\n",
    "\n",
    "qc.draw(output='mpl')        # draw the circuit"
   ]
  },
  {
   "cell_type": "markdown",
   "metadata": {},
   "source": [
    "#### REMINDER: counts are backward in order, so must reverse them."
   ]
  },
  {
   "cell_type": "code",
   "execution_count": 36,
   "metadata": {},
   "outputs": [
    {
     "name": "stdout",
     "output_type": "stream",
     "text": [
      "*After C-Swap Gate*\n",
      "\n",
      "Measurements C_Regs: => qr1, qr2, qr3:  1 0 1\n"
     ]
    }
   ],
   "source": [
    "counts = result.get_counts(qc)\n",
    "\n",
    "for k in counts:\n",
    "    binary_number = ''.join(reversed(k))\n",
    "    print(\"*After C-Swap Gate*\\n\")\n",
    "    print(\"Measurements C_Regs: => qr1, qr2, qr3: \", binary_number)\n",
    "       "
   ]
  },
  {
   "cell_type": "markdown",
   "metadata": {},
   "source": [
    "#### The measurements of the classical registers should fit the pattern below: 1-0-1\n",
    "\n",
    "![swap-fredkin-example](img/swap-fredkin-example.png \"swap-fredkin-example\")"
   ]
  },
  {
   "cell_type": "code",
   "execution_count": null,
   "metadata": {},
   "outputs": [],
   "source": []
  },
  {
   "cell_type": "code",
   "execution_count": null,
   "metadata": {},
   "outputs": [],
   "source": []
  },
  {
   "cell_type": "markdown",
   "metadata": {},
   "source": [
    "# Deep Dive #2 : - <font color=\"blue\">Mapping </font> <font color=\"red\"> Boolean (Digital) Logic</font> <font color=\"blue\">to Quantum Logic Operations </font>\n",
    "\n",
    "> Quantum circuits use the **building blocks** of quantum gates to construct quantum algorithms, therefore it's critical to be exposed to </font> <font color=\"red\">**boolean logic**</font> (both digital and quantum). Developing familiarity and an intuition are absolutely necessary to crafting quantum algorithms later on. The following discussion *isn't meant to be exhaustive* but **only to provide a flavor** for the domain through the experience of exploration.\n",
    "\n",
    "> The below information **supports the presenter led discussion** about the important concept of **Quantum Circuits**. The pedagogical bent is toward catering to the software engineer archtype, so much of the work will focus on the conceptual side and developing an intuition to the various gate rotations.\n",
    "\n",
    "> **NOTE:** The details, nuances, and key concepts are left to that discussion.\n",
    "\n",
    "- **Basic Digital Logic Truth Tables**: https://www.electronics-tutorials.ws/boolean/bool_7.html\n",
    "\n"
   ]
  },
  {
   "cell_type": "markdown",
   "metadata": {},
   "source": [
    "### <font color=\"red\">Observe</font>: Basic Quantum Logic Operations can be built to be equivalents to their digital counterparts. \n"
   ]
  },
  {
   "cell_type": "markdown",
   "metadata": {},
   "source": [
    "![digital-logic-gates-cnots](img/digital-logic-gates-cnots.png \"digital-logic-gates-cnots\")\n",
    "\n",
    "|Gate|Gate|\n",
    "|----|----|\n",
    "| ![tt-not](img/tt-not.png \"tt-not\") | ![tt-nxor](img/tt-xor.png \"tt-xor\") |\n",
    "| ![tt-and](img/tt-and.png \"tt-and\") | ![tt-or](img/tt-or.png \"tt-or\") |\n",
    "| ![tt-nand](img/tt-nand.png \"tt-nand\") | ![tt-nor](img/tt-nor.png \"tt-nor\") |\n"
   ]
  },
  {
   "cell_type": "markdown",
   "metadata": {},
   "source": [
    "### <font color=\"red\">EXERCISE</font>: Cut-n-paste code into the QCEngine to explore the resultant QLogic gates\n",
    "- Click through the output program circuit to observe the behavior of each circuit and relate it back to the appropriate truth table to vet it for correct behavior based upon its current inputs."
   ]
  },
  {
   "cell_type": "raw",
   "metadata": {},
   "source": [
    "\n",
    "\n",
    "// Create a Quantum Circuit with 3 qubits\n",
    "qc.reset(3);\n",
    "\n",
    "// Initialize wach qubit w/a name and label\n",
    "var qubit1 = qint.new(1, 'qubit 1');\n",
    "var qubit2 = qint.new(1, 'qubit 2');\n",
    "var qubit3 = qint.new(1, 'qubit 3');\n",
    "\n",
    "qc.write(0);\n",
    "\n",
    "// NOT Gate\n",
    "qc.label(\"NOT\");\n",
    "qc.nop();\n",
    "qubit1.not();\n",
    "qc.nop();\n",
    "qc.label();\n",
    "qubit1.read();\n",
    "qubit2.read();\n",
    "qubit3.read();\n",
    "\n",
    "\n",
    "// AND Gate\n",
    "//qc.write(0);\n",
    "qubit1.write(1)\n",
    "qubit2.write(1)\n",
    "qubit3.write(0)\n",
    "qc.label(\"AND\");\n",
    "qc.nop();\n",
    "qc.cnot(0x4, 0x1|0x2);\n",
    "qc.nop();\n",
    "qc.label();\n",
    "qubit1.read();\n",
    "qubit2.read();\n",
    "qubit3.read();\n",
    "\n",
    "qc.nop();\n",
    "\n",
    "// NAND GATE\n",
    "qc.write(0);\n",
    "qubit1.write(1)\n",
    "qubit2.write(1)\n",
    "qc.label(\"NAND\");\n",
    "qc.nop();\n",
    "qc.cnot(0x4, 0x1|0x2);\n",
    "qubit3.not();\n",
    "qc.nop();\n",
    "qc.label();\n",
    "qubit1.read();\n",
    "qubit2.read();\n",
    "qubit3.read();\n",
    "\n",
    "qc.nop();\n",
    "\n",
    "// XOR GATE\n",
    "qc.write(0);\n",
    "qubit1.write(1)\n",
    "qc.label(\"XOR\");\n",
    "qc.nop();\n",
    "qc.cnot(0x2, 0x1);\n",
    "qc.nop();\n",
    "qc.label();\n",
    "qubit1.read();\n",
    "qubit2.read();\n",
    "qubit3.read();\n",
    "\n",
    "qc.nop();\n",
    "\n",
    "// OR GATE\n",
    "qc.write(0);\n",
    "qubit1.write(1)\n",
    "qc.label(\"OR\");\n",
    "qc.nop();\n",
    "qubit1.not();\n",
    "qubit2.not();\n",
    "qc.cnot(0x4, 0x1|0x2);\n",
    "qubit1.not();\n",
    "qubit2.not();\n",
    "qubit3.not();\n",
    "qc.nop();\n",
    "qc.label();\n",
    "qubit1.read();\n",
    "qubit2.read();\n",
    "qubit3.read();\n",
    "\n",
    "qc.nop();\n",
    "\n",
    "// NOR GATE\n",
    "qc.label(\"NOR\");\n",
    "qc.write(0);\n",
    "qc.nop();\n",
    "qubit1.not();\n",
    "qubit2.not();\n",
    "qc.cnot(0x4, 0x1|0x2);\n",
    "qubit1.not();\n",
    "qubit2.not();\n",
    "qc.nop();\n",
    "qc.label();\n",
    "qubit1.read();\n",
    "qubit2.read();\n",
    "qubit3.read();\n"
   ]
  },
  {
   "cell_type": "markdown",
   "metadata": {},
   "source": [
    "![digital-logic-gates-from-cnots](img/digital-logic-gates-from-cnots1.png \"digital-logic-gates-from-cnots\")"
   ]
  },
  {
   "cell_type": "code",
   "execution_count": null,
   "metadata": {},
   "outputs": [],
   "source": []
  },
  {
   "cell_type": "code",
   "execution_count": 353,
   "metadata": {},
   "outputs": [
    {
     "data": {
      "text/html": [
       "\n",
       "        <iframe\n",
       "            width=\"900\"\n",
       "            height=\"900\"\n",
       "            src=\"http://oreilly-qc.github.io?p=5-6\"\n",
       "            frameborder=\"0\"\n",
       "            allowfullscreen\n",
       "        ></iframe>\n",
       "        "
      ],
      "text/plain": [
       "<IPython.lib.display.IFrame at 0x21abb765710>"
      ]
     },
     "execution_count": 353,
     "metadata": {},
     "output_type": "execute_result"
    }
   ],
   "source": [
    "from IPython.display import IFrame\n",
    "IFrame(src='http://oreilly-qc.github.io?p=5-6', width=900, height=900)"
   ]
  },
  {
   "cell_type": "markdown",
   "metadata": {},
   "source": [
    "## <font color=\"red\">Exercise</font> : Using the QUIRK to explore the QLogic gates\n",
    "- Given the following list of Digital Logic Gates and their Quantum Equivalents, recreate them in QUIRK and test out their truth table to <font color=\"red\">prove</font> the behavior of the circuit is consistent with the gates logic.\n",
    "- The respective Truth tables are listed below.\n",
    "- QUIRK is prepopulated with the **\"OR\"** gate\n",
    "\n",
    "\n",
    "<BR>\n",
    "    \n",
    "![digital-logic-gates-cnots](img/digital-logic-gates-cnots.png \"digital-logic-gates-cnots\")"
   ]
  },
  {
   "cell_type": "markdown",
   "metadata": {},
   "source": [
    "|Gate|Gate|\n",
    "|----|----|\n",
    "| ![tt-not](img/tt-not.png \"tt-not\") | ![tt-nxor](img/tt-xor.png \"tt-xor\") |\n",
    "| ![tt-and](img/tt-and.png \"tt-and\") | ![tt-or](img/tt-or.png \"tt-or\") |\n",
    "| ![tt-nand](img/tt-nand.png \"tt-nand\") | ![tt-nor](img/tt-nor.png \"tt-nor\") |\n"
   ]
  },
  {
   "cell_type": "code",
   "execution_count": 357,
   "metadata": {},
   "outputs": [
    {
     "data": {
      "text/html": [
       "\n",
       "        <iframe\n",
       "            width=\"900\"\n",
       "            height=\"600\"\n",
       "            src=\"https://algassert.com/quirk#circuit={%22cols%22:[[%22X%22,%22X%22],[%22%E2%80%A2%22,%22%E2%80%A2%22,%22X%22],[%22X%22,%22X%22,%22X%22]]}\"\n",
       "            frameborder=\"0\"\n",
       "            allowfullscreen\n",
       "        ></iframe>\n",
       "        "
      ],
      "text/plain": [
       "<IPython.lib.display.IFrame at 0x21abce22390>"
      ]
     },
     "execution_count": 357,
     "metadata": {},
     "output_type": "execute_result"
    }
   ],
   "source": [
    "# QUIRK (Quantum Curcuit Simulator) \n",
    "from IPython.display import IFrame\n",
    "\n",
    "IFrame(src='https://algassert.com/quirk#circuit={%22cols%22:[[%22X%22,%22X%22],[%22%E2%80%A2%22,%22%E2%80%A2%22,%22X%22],[%22X%22,%22X%22,%22X%22]]}', width=900, height=600)"
   ]
  },
  {
   "cell_type": "code",
   "execution_count": null,
   "metadata": {},
   "outputs": [],
   "source": []
  },
  {
   "cell_type": "markdown",
   "metadata": {},
   "source": [
    "# Deep Dive #3 : - <font color=\"blue\">Building Basic </font> <font color=\"red\"> </font> <font color=\"blue\"><font color=\"red\">Quantum Circuits </font>\n",
    "\n",
    "\n",
    "\n",
    "> Quantum circuits are the vehicle to implement quantum algorithms, therefore it's critical to be exposed to how they are built and function. The following discussion *isn't meant to be exhaustive* but **only to provide a flavor** for the domain through the experience of exploration.\n",
    "\n",
    "> The below information **supports the presenter led discussion** about the important concept of **Quantum Circuits**. The pedagogical bent is toward catering to the software engineer archtype, so much of the work will focus on the conceptual side and developing an intuition to the various gate rotations.\n",
    "\n",
    "> **NOTE:** The details, nuances, and key concepts are left to that discussion.\n",
    "\n",
    "\n"
   ]
  },
  {
   "cell_type": "markdown",
   "metadata": {},
   "source": [
    "## <font color=\"red\">Exercise</font> : Using the QCEngine to explore the basic quantum circuits \n",
    "## Adder / Decrementer\n",
    "- Cut-n-paste the below code into the QCEngine and tinker with altering the code to explore the behavior of the resultant circuit.\n",
    "\n",
    "![q-circuit-prepare](img/q-circuit-prepare.png \"q-circuit-prepare\")\n",
    "![q-circuit-adder](img/q-circuit-adder.png \"q-circuit-adder\")\n",
    "![q-circuit-adder-decrementer](img/q-circuit-adder-decrementer.png \"q-circuit-adder-decrementer\")"
   ]
  },
  {
   "cell_type": "raw",
   "metadata": {},
   "source": [
    "// Programming Quantum Computers\n",
    "//   by Eric Johnston, Nic Harrigan and Mercedes Gimeno-Segovia\n",
    "//   O'Reilly Media\n",
    "\n",
    "// To run this online, go to http://oreilly-qc.github.io?p=5-1\n",
    "\n",
    "// This sample demonstrates increment and decrement of\n",
    "// integers in superposition.\n",
    "\n",
    "var num_qubits = 4;\n",
    "qc.reset(num_qubits);\n",
    "var a = qint.new(num_qubits, 'a');\n",
    "\n",
    "// prepare\n",
    "qc.label('prepare')\n",
    "a.write(1);\n",
    "a.hadamard(0x4);\n",
    "a.phase(45, 0x4);\n",
    "qc.nop();\n",
    "\n",
    "// Uncomment this to temporarily measure the\n",
    "// output state of the \"Prepare\" stage\n",
    "// a.read();\n",
    "\n",
    "qc.label('')\n",
    "qc.nop();\n",
    "qc.label('increment')\n",
    "\n",
    "// Increment Function \n",
    "// - tinker w/the value and watch the circuit change\n",
    "a.add(1);\n",
    "\n",
    "// Uncomment this to temporarily measure the\n",
    "// output state of the \"Increment\" stage\n",
    "// a.read();\n",
    "\n",
    "\n",
    "qc.label('')\n",
    "qc.nop();\n",
    "qc.label('decrement')\n",
    "\n",
    "// Decrement Function \n",
    "// - tinker w/the value and watch the circuit change\n",
    "a.subtract(1);\n",
    "\n",
    "qc.label('')\n",
    "qc.nop();\n",
    "\n",
    "// Uncomment this to temporarily measure the\n",
    "// output state of the \"Decrement\" stage\n",
    "a.read();\n"
   ]
  },
  {
   "cell_type": "code",
   "execution_count": 11,
   "metadata": {},
   "outputs": [
    {
     "data": {
      "text/html": [
       "\n",
       "        <iframe\n",
       "            width=\"900\"\n",
       "            height=\"600\"\n",
       "            src=\"http://oreilly-qc.github.io?p=5-1\"\n",
       "            frameborder=\"0\"\n",
       "            allowfullscreen\n",
       "        ></iframe>\n",
       "        "
      ],
      "text/plain": [
       "<IPython.lib.display.IFrame at 0x267e536d198>"
      ]
     },
     "execution_count": 11,
     "metadata": {},
     "output_type": "execute_result"
    }
   ],
   "source": [
    "# QUIRK (Quantum Curcuit Simulator) \n",
    "from IPython.display import IFrame\n",
    "\n",
    "IFrame(src='http://oreilly-qc.github.io?p=5-1', width=900, height=600)"
   ]
  },
  {
   "cell_type": "markdown",
   "metadata": {},
   "source": [
    "## <font color=\"red\">Exercise</font> : Using the Qiskit to explore the basic quantum circuits \n",
    "## Adder / Decrementer\n",
    "- always execute the entire segment of code when making any changes to avoid run polution.\n",
    "\n",
    "![q-circuit-prepare](img/q-circuit-prepare.png \"q-circuit-prepare\")\n",
    "![q-circuit-adder](img/q-circuit-adder.png \"q-circuit-adder\")\n",
    "![q-circuit-adder-decrementer](img/q-circuit-adder-decrementer.png \"q-circuit-adder-decrementer\")"
   ]
  },
  {
   "cell_type": "code",
   "execution_count": 26,
   "metadata": {},
   "outputs": [],
   "source": [
    "from qiskit import QuantumCircuit, QuantumRegister, ClassicalRegister, execute, Aer, IBMQ, BasicAer\n",
    "import math\n",
    "from Our_Qiskit_Functions import *\n",
    "import numpy as np\n",
    "\n",
    "## Uncomment the next line to see diagrams when running in a notebook\n",
    "%matplotlib inline\n",
    "\n",
    "## Example 5-1: Increment and Decrement\n",
    "\n",
    "## Note that this looks different from the gates in the book, because\n",
    "## they are built using the operations from Toffoli gates\n",
    "\n",
    "# Set up the program\n",
    "a = QuantumRegister(4, name='a')\n",
    "scratch = QuantumRegister(1, name='scratch')\n",
    "qc = QuantumCircuit(a, scratch)\n",
    "   "
   ]
  },
  {
   "cell_type": "markdown",
   "metadata": {},
   "source": [
    "#### <font color=\"red\">NOTE</font>: This is the only code segment you change"
   ]
  },
  {
   "cell_type": "code",
   "execution_count": 27,
   "metadata": {},
   "outputs": [],
   "source": [
    "def main():\n",
    "    \n",
    "    ## initialization\n",
    "    qc.x(a[0])\n",
    "    qc.h(a[2])\n",
    "    qc.rz(math.radians(45), a[2])\n",
    "    qc.barrier()\n",
    "    \n",
    "    ## Increment Function \n",
    "    ## - tinker w/the value and watch the circuit change\n",
    "    add_int(a, 1)\n",
    "    qc.barrier()\n",
    "    \n",
    "    ## Decrement Function (notice the \"-1\") \n",
    "    ## - tinker w/the value and watch the circuit change    \n",
    "    add_int(a, -1)"
   ]
  },
  {
   "cell_type": "markdown",
   "metadata": {},
   "source": [
    "#### <font color=\"red\">NOTE</font>: Disregard the complexity of these helper functions - they can safely be ignored."
   ]
  },
  {
   "cell_type": "code",
   "execution_count": 28,
   "metadata": {},
   "outputs": [],
   "source": [
    "###########################\n",
    "## Some utility functions\n",
    "##########################\n",
    "\n",
    "def add_int(qdest, rhs):\n",
    "    reverse_to_subtract = False\n",
    "    if rhs == 0:\n",
    "        return\n",
    "    elif rhs < 0:\n",
    "        rhs = -rhs\n",
    "        reverse_to_subtract = True\n",
    "    ops = []\n",
    "    add_val = int(rhs)\n",
    "    condition_mask = (1 << len(qdest)) - 1\n",
    "\n",
    "    add_val_mask = 1\n",
    "    while add_val_mask <= add_val:\n",
    "        cmask = condition_mask & ~(add_val_mask - 1)\n",
    "        if add_val_mask & add_val:\n",
    "            add_shift_mask = 1 << (len(qdest) - 1)\n",
    "            while add_shift_mask >= add_val_mask:\n",
    "                cmask &= ~add_shift_mask\n",
    "                ops.append((add_shift_mask, cmask))\n",
    "                add_shift_mask >>= 1\n",
    "        condition_mask &= ~add_val_mask\n",
    "        add_val_mask <<= 1\n",
    "    if reverse_to_subtract:\n",
    "        ops.reverse()\n",
    "    for inst in ops:\n",
    "        op_qubits = []\n",
    "        mask = 1\n",
    "        for i in range(len(qdest)):\n",
    "            if inst[1] & (1 << i):\n",
    "                op_qubits.append(qdest[i])\n",
    "        for i in range(len(qdest)):\n",
    "            if inst[0] & (1 << i):\n",
    "                op_qubits.append(qdest[i])\n",
    "        multi_cx(op_qubits)\n",
    "\n",
    "def multi_cz(qubits):\n",
    "    ## This will perform a CCCCCZ on as many qubits as we want,\n",
    "    ## as long as we have enough scratch qubits\n",
    "    multi_cx(qubits, do_cz=True)\n",
    "\n",
    "def multi_cx(qubits, do_cz=False):\n",
    "    ## This will perform a CCCCCX with as many conditions as we want,\n",
    "    ## as long as we have enough scratch qubits\n",
    "    ## The last qubit in the list is the target.\n",
    "    target = qubits[-1]\n",
    "    conds = qubits[:-1]\n",
    "    scratch_index = 0\n",
    "    ops = []\n",
    "    while len(conds) > 2:\n",
    "        new_conds = []\n",
    "        for i in range(len(conds)//2):\n",
    "            ops.append((conds[i * 2], conds[i * 2 + 1], scratch[scratch_index]))\n",
    "            new_conds.append(scratch[scratch_index])\n",
    "            scratch_index += 1\n",
    "        if len(conds) & 1:\n",
    "            new_conds.append(conds[-1])\n",
    "        conds = new_conds\n",
    "    for op in ops:\n",
    "        qc.ccx(op[0], op[1], op[2])\n",
    "    if do_cz:\n",
    "        qc.h(target)\n",
    "    if len(conds) == 0:\n",
    "        qc.x(target)\n",
    "    elif len(conds) == 1:\n",
    "        qc.cx(conds[0], target)\n",
    "    else:\n",
    "        qc.ccx(conds[0], conds[1], target)\n",
    "    if do_cz:\n",
    "        qc.h(target)\n",
    "    ops.reverse()\n",
    "    for op in ops:\n",
    "        qc.ccx(op[0], op[1], op[2])"
   ]
  },
  {
   "cell_type": "code",
   "execution_count": 29,
   "metadata": {},
   "outputs": [],
   "source": [
    "main()"
   ]
  },
  {
   "cell_type": "code",
   "execution_count": 30,
   "metadata": {},
   "outputs": [],
   "source": [
    "## That's the program. Everything below runs and draws it.\n",
    "\n",
    "backend = BasicAer.get_backend('statevector_simulator')\n",
    "job = execute(qc, backend)\n",
    "result = job.result()\n"
   ]
  },
  {
   "cell_type": "code",
   "execution_count": 31,
   "metadata": {},
   "outputs": [
    {
     "name": "stdout",
     "output_type": "stream",
     "text": [
      "|1> (0.707+0j)\n",
      "|5> (0.5+0.5j)\n"
     ]
    },
    {
     "data": {
      "image/png": "[encoded data removed]",
      "text/plain": [
       "<Figure size 1184.74x325.08 with 1 Axes>"
      ]
     },
     "execution_count": 31,
     "metadata": {},
     "output_type": "execute_result"
    }
   ],
   "source": [
    "outputstate = result.get_statevector(qc, decimals=3)\n",
    "\n",
    "for i,amp in enumerate(outputstate):\n",
    "    if abs(amp) > 0.000001:\n",
    "        print('|{}> {}'.format(i, amp))\n",
    "        \n",
    "        \n",
    "qc.draw(output='mpl')        # draw the circuit"
   ]
  },
  {
   "cell_type": "code",
   "execution_count": null,
   "metadata": {},
   "outputs": [],
   "source": []
  },
  {
   "cell_type": "code",
   "execution_count": null,
   "metadata": {},
   "outputs": [],
   "source": []
  },
  {
   "cell_type": "markdown",
   "metadata": {},
   "source": [
    "![the-end](img/the-end.png \"the-end\")"
   ]
  }
 ],
 "metadata": {
  "kernelspec": {
   "display_name": "qcousins",
   "language": "python",
   "name": "qcousins"
  },
  "language_info": {
   "codemirror_mode": {
    "name": "ipython",
    "version": 3
   },
   "file_extension": ".py",
   "mimetype": "text/x-python",
   "name": "python",
   "nbconvert_exporter": "python",
   "pygments_lexer": "ipython3",
   "version": "3.7.1"
  }
 },
 "nbformat": 4,
 "nbformat_minor": 2
}
