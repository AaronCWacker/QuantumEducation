{
 "cells": [
  {
   "cell_type": "markdown",
   "metadata": {},
   "source": [
    "# Quantum Problems (and Practicals)\n",
    "- <font color=\"red\">For the Software Engineer</font>"
   ]
  },
  {
   "cell_type": "markdown",
   "metadata": {},
   "source": [
    "![qpp-banner](img/qpp-banner.png \"qpp-banner\")\n",
    "\n",
    "<BR>\n",
    "    \n",
    "\n",
    "## Pedagogical Approach: (<font color=\"red\">**Read this first !**</font>)\n",
    "\n",
    "This material is intended to educate **software engineers** in certain aspects of Quantum Computing, therefore its focus will be on conveying the conceptual ideas in a form digestible to them, and supporting it with exercises to reinforce those concepts. \n",
    "\n",
    "Because of that pedagogical approach, **this material won't lead with or heavily leverage the concepts and language indigenous to physics and math**, but only in those terms most easily digestible to the modern software engineer.\n",
    "\n",
    "This Jupyter Notebook is <font color=\"red\">**not intended as a stand alone educational vehicle**</font>  - it's meant to be accompanied by a decicated power point deck that contains the main concepts to be presented by an instructor - **it is intended as a vehicle for a hands on workshop environment to facilitate learning through a guided experience.**\n",
    "\n",
    "> **Note:-** Because of the above educational approach:\n",
    "1. There is a certain amount of basic Quantum Computing knowledge that is assumed.\n",
    "2. An active internet connection is **always** assumed.\n",
    "3. Online references/links will be provided where appropriate\n",
    "4. References to books will be made where appropriate\n",
    "5. Much of this material is **dense and detailed**, the reader is <font color=\"red\">**cautioned**</font> to be careful and slow to digest the *nuances* of the material."
   ]
  },
  {
   "cell_type": "markdown",
   "metadata": {},
   "source": [
    "## What you will be exposed to - High level: \n",
    "\n",
    "\n",
    "- Software engineers in the Quantum Computing space need to know......\n",
    "- Given the above, there are a host of technical concepts that need to be **<font color=\"red\">understood experientially</font>** - we'll intentionally employ a vendor / framework agnostic approach to focus on the delivery of concept understanding and intuition procurement as the main value-add.\n",
    "\n",
    "> ### High Level Agenda (<font color=\"red\">*major sections*</font>): - quantum problems and practicals for the software engineer.\n",
    "1. <font color=\"blue\">*Solving Logic Puzzles: - BSP: Of Kittens and Tigers*</font>\n",
    "2. <font color=\"blue\">*Solving Logic Puzzles: - BSP: Generalized Approach*</font>\n",
    "3. <font color=\"blue\">*XXXXX*</font>\n",
    "4. <font color=\"blue\">*XXXXX*</font>\n",
    "5. <font color=\"blue\">*XXXXX*</font>\n",
    "6. <font color=\"blue\">*XXXXX*</font>\n",
    "7. <font color=\"blue\">*XXXXX*</font>\n",
    "\n",
    "\n"
   ]
  },
  {
   "cell_type": "code",
   "execution_count": null,
   "metadata": {},
   "outputs": [],
   "source": []
  },
  {
   "cell_type": "markdown",
   "metadata": {},
   "source": [
    "# <font color=\"red\">Developmental Detour</font>: Solving <font color=\"blue\">Logic Puzzles</font> \n",
    "\n",
    "<BR>"
   ]
  },
  {
   "cell_type": "markdown",
   "metadata": {},
   "source": [
    "##  Boolean Satisfiability Problem: <font color=\"blue\">Of Kittens and Tigers</font>\n",
    "\n",
    "> **Definition**: Boolean satisfiability is the problem of <font color=\"red\">determining whether input values exist</font> that will satisify a given <font color=\"blue\">boolean statement</font> - somethign solvalbe with phase logic!\n",
    "\n",
    "\n",
    "<BR>\n",
    "\n",
    "![qpp-boxes](img/qpp-boxes.png \"qpp-boxes\")\n",
    "\n",
    "\n",
    "## <font color=\"blue\">Messages on the boxes</font>:\n",
    "\n",
    "> ### (1) At least one of these boxes contains a cute kitten\n",
    "> ### (2) The other contains a ferocious tiger\n",
    "> ### (3) The notes on the boxes are EITHER both true OR both false\n"
   ]
  },
  {
   "cell_type": "markdown",
   "metadata": {},
   "source": [
    "## <font color=\"blue\">The Digital Solution</font>:\n",
    "## :  \n",
    "- (Required **<font color=\"red\">FOUR</font>** runs to determine the solution)\n",
    "\n",
    "![qpp-tiger-kitten-digital](img/qpp-tiger-kitten-digital.png \"qpp-tiger-kitten-digital\")\n",
    "\n",
    "> If you input a possibility for what’s in each box, you’ll get a ONE output **only if the possibility satisfies all the conditions** .\n",
    "\n",
    "> One needs to run **<font color=\"red\">each of the four possible configurations</font>** of kittens and tigers to discover out which one satisfies all the constraints, and then it'll be know which box to open.\n",
    "\n",
    "\n",
    "- 0 means tiger \n",
    "- 1 means kitten\n",
    "- For the note on **box A**, use an **<font color=\"red\">OR gate</font>**, indicating that this *constraint would only be satisfied* if box A **OR** box B contained a kitten.  \n",
    "- For the note on **box B**, use a **<font color=\"red\">NOT gate</font>**, indicating that this *constraint would only be satisfied* if box A did **NOT** contain a kitten.  \n",
    "- Finally, add an **<font color=\"red\">XNOR gate</font>** to the end, which would be *satisfied (output true) only if* the results of the other two gates were the **same as each other, both true or both false**.\n",
    "\n"
   ]
  },
  {
   "cell_type": "markdown",
   "metadata": {},
   "source": [
    "### <font color=\"red\">Exercise</font> : Boolean Satisfiability Problem: Of Kittens and Tigers using <font color=\"red\">CircuitVerse</font>.\n",
    "- Launch the CircuitVerse Environment and input the **FOUR** possible configurations to show which one solves the problem (and shows the correct box that the kitten is in)."
   ]
  },
  {
   "cell_type": "markdown",
   "metadata": {},
   "source": [
    "## <font color=\"red\">Digital</font> <font color=\"blue\">Boolean Satisfiability Problem: Of Kittens and Tigers</font>\n",
    "\n",
    "<img style=\"float: left;\" src=\"img/BSP-Tigers-Kittens-CircuitVerse.png\">\n",
    "\n",
    "<BR><BR><BR><BR><BR><BR><BR><BR><BR><BR>\n",
    "\n",
    "\n",
    "> ### <font color=\"red\">CircuitVerse Example</font>: (BSP Tigers and Kittens) \n",
    "- https://circuitverse.org/users/18385/projects/56831"
   ]
  },
  {
   "cell_type": "markdown",
   "metadata": {},
   "source": [
    "<img src=\"img/caveat-sign.png\"  align=\"left\"/>\n",
    "\n",
    "<BR><BR><BR><BR><BR><BR><BR><BR>\n",
    "    \n",
    "> ## The device can only be run **<font color=\"red\">once</font>** !!!\n"
   ]
  },
  {
   "cell_type": "markdown",
   "metadata": {},
   "source": [
    "## <font color=\"blue\">The Quantum Solution</font>:\n",
    "- (Required **<font color=\"red\">ONE</font>** runs to determine the solution)"
   ]
  },
  {
   "cell_type": "markdown",
   "metadata": {},
   "source": [
    "![qpp-tiger-kitten-quantum](img/qpp-tiger-kitten-quantum.png \"qpp-tiger-kitten-quantum\")\n",
    "\n",
    "<BR>"
   ]
  },
  {
   "cell_type": "markdown",
   "metadata": {},
   "source": [
    "### <font color=\"red\">Why does this work</font>?\n",
    "\n",
    "> **Notice**: While the **Digital** solution to this Boolean Satisfiability Problem took **<font color=\"red\">FOUR</font>** runs to find the right set of input parameters that would could solve the problem (*assuming such a set existed*), the **Quantum** Solution only took  **<font color=\"red\">ONE</font>** run. \n",
    "\n",
    "- This is because when **each of the two qubits are put into superposition**, they **simultaneously** provide the states for the **FOUR** possible (digital) input states to be tested in parallel in the quantum solution.\n",
    "\n"
   ]
  },
  {
   "cell_type": "markdown",
   "metadata": {},
   "source": [
    "### <font color=\"red\">Exercise</font> : Boolean Satisfiability Problem: Of Kittens and Tigers using the <font color=\"blue\">QCEngine</font>.\n",
    "- Run and re-run the algorithm and step through the output area in order to observe it's behavior and develop intuition.\n",
    "- Look particularly at the digital logic setup of the problem (*this is very important*) to get a feel for the solution design.\n",
    "- Then observe the application of Superposition and how it provides for four simultaneous states to be evalutated.\n",
    "- Peruse the application of the various phase logic processes and how they fit together\n",
    "- Notice the uncompute and mirror processes and understand what each does.\n",
    "\n",
    "\n",
    "\n"
   ]
  },
  {
   "cell_type": "code",
   "execution_count": 5,
   "metadata": {},
   "outputs": [
    {
     "data": {
      "text/html": [
       "\n",
       "        <iframe\n",
       "            width=\"1200\"\n",
       "            height=\"900\"\n",
       "            src=\"http://oreilly-qc.github.io?p=10-2\"\n",
       "            frameborder=\"0\"\n",
       "            allowfullscreen\n",
       "        ></iframe>\n",
       "        "
      ],
      "text/plain": [
       "<IPython.lib.display.IFrame at 0x21604807710>"
      ]
     },
     "execution_count": 5,
     "metadata": {},
     "output_type": "execute_result"
    }
   ],
   "source": [
    "from IPython.display import IFrame\n",
    "IFrame(src='http://oreilly-qc.github.io?p=10-2', width=1200, height=900)"
   ]
  },
  {
   "cell_type": "code",
   "execution_count": null,
   "metadata": {},
   "outputs": [],
   "source": []
  },
  {
   "cell_type": "markdown",
   "metadata": {},
   "source": [
    "##  Boolean Satisfiability Problem: <font color=\"blue\">Solution Generalization</font>\n",
    "\n",
    "<BR>\n",
    "    \n",
    "> ## EXAMPLE:  \n",
    ">> ## (<font color=\"blue\">a OR b</font>) <font color=\"red\">AND</font> (<font color=\"blue\">NOT a OR c</font>) <font color=\"red\">AND</font> (<font color=\"blue\">NOT b OR NOT c</font>) <font color=\"red\">AND</font> (<font color=\"blue\">a OR c</font>)\n",
    "\n",
    "\n",
    "## <font color=\"red\">General Recipe</font>:\n",
    "\n",
    "![BSP_Recipe](img/BSP_Recipe.png \"BSP_Recipe\")\n",
    "\n"
   ]
  },
  {
   "cell_type": "markdown",
   "metadata": {},
   "source": [
    "### <font color=\"red\">Exercise</font> : Boolean Satisfiability Problem: Generalized Approach <font color=\"red\">CircuitVerse</font>.\n",
    "- Launch the CircuitVerse Environment and input the **X** possible configurations to show which one(s) solves the problem."
   ]
  },
  {
   "cell_type": "markdown",
   "metadata": {},
   "source": [
    "## <font color=\"red\">Digital</font> <font color=\"blue\">Boolean Satisfiability Problem: Generalized Formula</font>\n",
    "\n",
    "> ## BSP Problem:  \n",
    ">> ## (<font color=\"blue\">a OR b</font>) <font color=\"red\">AND</font> (<font color=\"blue\">NOT a OR c</font>) <font color=\"red\">AND</font> (<font color=\"blue\">NOT b OR NOT c</font>) <font color=\"red\">AND</font> (<font color=\"blue\">a OR c</font>)\n",
    "\n",
    "<img style=\"float: left;\" src=\"img/BSP_GeneralizedSolution.png\">\n",
    "\n",
    "<BR><BR><BR><BR><BR><BR><BR><BR><BR><BR><BR><BR><BR><BR>\n",
    "\n",
    "\n",
    "> ### <font color=\"red\">CircuitVerse Example</font>: (BSP Generalized Solution) \n",
    "- https://circuitverse.org/simulator/edit/56832"
   ]
  },
  {
   "cell_type": "markdown",
   "metadata": {},
   "source": [
    "<img src=\"img/caveat-sign.png\"  align=\"left\"/>\n",
    "\n",
    "<BR><BR><BR><BR><BR><BR><BR><BR>\n",
    "    \n",
    "> ## The device can only be run **<font color=\"red\">once</font>** !!!\n"
   ]
  },
  {
   "cell_type": "markdown",
   "metadata": {},
   "source": [
    "## <font color=\"blue\">The Quantum Solution</font>:\n",
    "- (Required **<font color=\"red\">ONE</font>** runs to determine **a** solution)\n",
    "\n",
    "> ## BSP Problem:  \n",
    ">> ## (<font color=\"blue\">a OR b</font>) <font color=\"red\">AND</font> (<font color=\"blue\">NOT a OR c</font>) <font color=\"red\">AND</font> (<font color=\"blue\">NOT b OR NOT c</font>) <font color=\"red\">AND</font> (<font color=\"blue\">a OR c</font>)"
   ]
  },
  {
   "cell_type": "markdown",
   "metadata": {},
   "source": [
    "<BR>\n",
    "    \n",
    "![3-sat_problem-circuit](img/3-sat_problem-circuit.png \"3-sat_problem-circuit\")\n",
    "\n",
    "<BR>\n",
    "\n",
    "\n",
    "![3-sat_problem_Circles](img/3-sat_problem_Circles.png \"3-sat_problem_Circles\")\n",
    "\n",
    "<BR>"
   ]
  },
  {
   "cell_type": "markdown",
   "metadata": {},
   "source": [
    "### <font color=\"red\">Why does this work</font>?\n",
    "\n",
    "> **Notice**: While the **Digital** solution to this Boolean Satisfiability Problem took **<font color=\"red\">X</font>** runs to find the right set of input parameters that would could solve the problem (*assuming such a set existed*), the **Quantum** Solution only took  **<font color=\"red\">ONE</font>** run. \n",
    "\n",
    "- This is because when **each of the X qubits are put into superposition**, they **simultaneously** provide the states for the **ALL** possible (digital) input states to be tested in parallel in the quantum solution.\n",
    "\n"
   ]
  },
  {
   "cell_type": "markdown",
   "metadata": {},
   "source": [
    "### <font color=\"red\">Exercise</font> : Boolean Satisfiability Problem: General Recipe using <font color=\"blue\">QCEngine</font>.\n",
    "\n",
    "- Given the explanation of the general recipe above, run the example below and step through the behavior of the circuit to gain intuition (observe the behavior of the circle plots as well).\n",
    "- Be careful to expand output frame to a size where observing the circuits behavior is possible (it's tricky).\n",
    "- Notice a REQUIREMENT is that all clauses MUST be in superposition for computation."
   ]
  },
  {
   "cell_type": "code",
   "execution_count": 6,
   "metadata": {},
   "outputs": [
    {
     "data": {
      "text/html": [
       "\n",
       "        <iframe\n",
       "            width=\"1200\"\n",
       "            height=\"900\"\n",
       "            src=\"http://oreilly-qc.github.io?p=10-3\"\n",
       "            frameborder=\"0\"\n",
       "            allowfullscreen\n",
       "        ></iframe>\n",
       "        "
      ],
      "text/plain": [
       "<IPython.lib.display.IFrame at 0x21604807c50>"
      ]
     },
     "execution_count": 6,
     "metadata": {},
     "output_type": "execute_result"
    }
   ],
   "source": [
    "from IPython.display import IFrame\n",
    "IFrame(src='http://oreilly-qc.github.io?p=10-3', width=1200, height=900)"
   ]
  },
  {
   "cell_type": "code",
   "execution_count": null,
   "metadata": {},
   "outputs": [],
   "source": []
  },
  {
   "cell_type": "code",
   "execution_count": null,
   "metadata": {},
   "outputs": [],
   "source": []
  },
  {
   "cell_type": "code",
   "execution_count": null,
   "metadata": {},
   "outputs": [],
   "source": []
  },
  {
   "cell_type": "code",
   "execution_count": null,
   "metadata": {},
   "outputs": [],
   "source": []
  },
  {
   "cell_type": "code",
   "execution_count": null,
   "metadata": {},
   "outputs": [],
   "source": []
  },
  {
   "cell_type": "code",
   "execution_count": null,
   "metadata": {},
   "outputs": [],
   "source": []
  },
  {
   "cell_type": "code",
   "execution_count": null,
   "metadata": {},
   "outputs": [],
   "source": []
  },
  {
   "cell_type": "code",
   "execution_count": null,
   "metadata": {},
   "outputs": [],
   "source": []
  },
  {
   "cell_type": "code",
   "execution_count": null,
   "metadata": {},
   "outputs": [],
   "source": []
  },
  {
   "cell_type": "code",
   "execution_count": null,
   "metadata": {},
   "outputs": [],
   "source": []
  },
  {
   "cell_type": "code",
   "execution_count": null,
   "metadata": {},
   "outputs": [],
   "source": []
  },
  {
   "cell_type": "code",
   "execution_count": null,
   "metadata": {},
   "outputs": [],
   "source": []
  },
  {
   "cell_type": "code",
   "execution_count": null,
   "metadata": {},
   "outputs": [],
   "source": []
  },
  {
   "cell_type": "code",
   "execution_count": null,
   "metadata": {},
   "outputs": [],
   "source": []
  },
  {
   "cell_type": "code",
   "execution_count": null,
   "metadata": {},
   "outputs": [],
   "source": []
  },
  {
   "cell_type": "code",
   "execution_count": null,
   "metadata": {},
   "outputs": [],
   "source": []
  },
  {
   "cell_type": "code",
   "execution_count": null,
   "metadata": {},
   "outputs": [],
   "source": []
  },
  {
   "cell_type": "code",
   "execution_count": null,
   "metadata": {},
   "outputs": [],
   "source": []
  },
  {
   "cell_type": "code",
   "execution_count": null,
   "metadata": {},
   "outputs": [],
   "source": []
  },
  {
   "cell_type": "markdown",
   "metadata": {},
   "source": [
    "![the-end](img/the-end.png \"the-end\")"
   ]
  }
 ],
 "metadata": {
  "kernelspec": {
   "display_name": "qcousins",
   "language": "python",
   "name": "qcousins"
  },
  "language_info": {
   "codemirror_mode": {
    "name": "ipython",
    "version": 3
   },
   "file_extension": ".py",
   "mimetype": "text/x-python",
   "name": "python",
   "nbconvert_exporter": "python",
   "pygments_lexer": "ipython3",
   "version": "3.7.1"
  }
 },
 "nbformat": 4,
 "nbformat_minor": 2
}
