{
 "cells": [
  {
   "cell_type": "markdown",
   "metadata": {},
   "source": [
    "# Simple Quantum Algorithms (and Key Concepts)\n",
    "\n",
    "- #### Hands-on Experiential Learning <font color=\"red\">for the Software Engineer</font>"
   ]
  },
  {
   "cell_type": "markdown",
   "metadata": {},
   "source": [
    "![qc-banner](img/simple-quantum-algorithms.png \"qc-banner\")\n",
    "\n",
    "<BR>\n",
    "\n",
    "<font color=\"red\">**Notice**</font>: All materials herein were <font color=\"red\">**curated**</font> by **Matthew R. Versaggi (profversaggi@gmail.com)** and are released into the open source to foster growth and welfare of expanding the Quantum Computing domain - the only obligation one incurs when using, copying, distributing or referencing this is to kindly reference the author and send me an email so I know how useful the material is to you.\n",
    "\n",
    "<font color=\"red\">**Notice**</font>: Python Code contributions for the Circle Plots are the work of **David Radcliffe**."
   ]
  },
  {
   "cell_type": "markdown",
   "metadata": {},
   "source": [
    "![multi-qubit-entanglement-13rd](img/multi-qubit-entanglement-13rd.png \"multi-qubit-entanglement-13rd\")\n",
    "\n",
    "<BR>\n",
    "\n",
    "## Pedagogical Approach: (<font color=\"red\">**Read this first !**</font>)\n",
    "\n",
    "This material is intended to educate **software engineers** in certain aspects of Quantum Computing, therefore its focus will be on conveying the conceptual ideas in a form digestible to them, and supporting it with exercises to reinforce those concepts. \n",
    "\n",
    "Because of that pedagogical approach, **this material won't lead with or heavily leverage the concepts and language indigenous to physics and math**, but only in those terms most easily digestible to the modern software engineer.\n",
    "\n",
    "This Jupyter Notebook is <font color=\"red\">**not intended as a stand alone educational vehicle**</font>  - it's meant to be accompanied by a decicated power point deck that contains the main concepts to be presented by an instructor - **it is intended as a vehicle for a hands on workshop environment to facilitate learning through a guided experience.**\n",
    "\n",
    "> **Note:-** Because of the above educational approach:\n",
    "1. There is a certain amount of basic Quantum Computing knowledge that is assumed.\n",
    "2. An active internet connection is **always** assumed.\n",
    "3. Online references/links will be provided where appropriate\n",
    "4. References to books will be made where appropriate\n",
    "5. Much of this material is **dense and detailed**, the reader is <font color=\"red\">**cautioned**</font> to be careful and slow to digest the *nuances* of the material."
   ]
  },
  {
   "cell_type": "code",
   "execution_count": 3,
   "metadata": {},
   "outputs": [],
   "source": [
    "from qiskit import QuantumCircuit, QuantumRegister, ClassicalRegister, execute, Aer, IBMQ, BasicAer\n",
    "import math\n",
    "import matplotlib.pyplot as P\n",
    "import matplotlib.pyplot as plt\n",
    "from Our_Qiskit_Functions import *\n",
    "import cmath"
   ]
  },
  {
   "cell_type": "markdown",
   "metadata": {},
   "source": [
    "## What you will be exposed to - High level: \n",
    "\n",
    "\n",
    "- Software engineers in the Quantum Computing space need to know their way around quantum algorithms, particularly how they are implemented in a classical / quantum setting, the circuit architecture that undergirds the algorithms, and how that can be implemented in a variety of simulators (QUIRK, Qiskit, QCEngine - and others) \n",
    "- Given the above, there are a host of technical concepts that need to be **<font color=\"red\">understood experientially</font>** - we'll intentionally employ a vendor / framework agnostic approach to focus on the delivery of concept understanding and intuition procurement as the main value-add.\n",
    "\n",
    "> ### High Level Agenda (<font color=\"red\">*major sections*</font>): - quantum algorithms for the software engineer.\n",
    "1. <font color=\"blue\">*Quantum-Classical Relationship*</font>\n",
    "2. <font color=\"blue\">*Perfect Coin Algorithm*</font>\n",
    ">> 0. <font color=\"red\">Exercise</font> : Explore the Perfect Coin Algorithm using **Qiskit**\n",
    "3. <font color=\"blue\">*The Deutsch Algorithm*</font>\n",
    ">> 0. <font color=\"red\">Exercise</font> : Explore the Deutsch's algorithm - Classical Approach using **PYTHON**\n",
    ">> 0. <font color=\"red\">Exercise</font> : Explore the Deutsch's algorithm - with oracle having **Constant** function\n",
    ">> 0. <font color=\"red\">Exercise</font> : Explore the Deutsch's algorithm - with oracle having **Balanced** function\n",
    ">> 0. <font color=\"red\">Exercise</font> : Explore the Deutsch's algorithm - **Qiskit**\n",
    ">> 0. <font color=\"red\">Exercise</font> : Explore the Deutsch's algorithm - **QCEngine**\n",
    "4. <font color=\"blue\">*The Deutsch-Josza Algorithm*</font>\n",
    ">> 0. <font color=\"red\">Exercise</font> : Deutsch-Jozsa Algorithm w/Oracle **(CONSTANT)** function **(w/QUIRK)**\n",
    ">> 0. <font color=\"red\">Exercise</font> : Deutsch-Jozsa Algorithm w/Oracle **(BALANCED)** function **(w/QUIRK)**\n",
    ">> 0. <font color=\"red\">Exercise</font> : Deutsch-Jozsa Algorithm with **Qiskit**\n",
    ">> 0. <font color=\"red\">Exercise</font> : Deutsch-Jozsa Algorithm with **QCEngine**\n",
    "5. <font color=\"blue\">*CPhase (and its Representations)*</font>\n",
    ">> 0. <font color=\"red\">Exercise</font> : CPhase Implementation **(QCEngine)**\n",
    ">> 0. <font color=\"red\">Exercise</font> : CPhase Implementation **(QUIRK)**\n",
    "6. <font color=\"blue\">*Phase Kickback*</font>\n",
    ">> 0. <font color=\"red\">Exercise</font> : Phase Kickback Trick **(QCEngine)**\n",
    ">> 0. <font color=\"red\">Exercise</font> : Phase Kickback Trick **(QUIRK)**\n",
    "7. <font color=\"blue\">*Phase Logic*</font>\n",
    ">> 0. <font color=\"red\">Exercise</font> : Phase Logic **(QCEngine)**\n",
    ">> 0. <font color=\"red\">Exercise</font> : Phase Logic **(QUIRK)**\n",
    "8. <font color=\"blue\">*Amplitude (\"Magnitude\")Amplification*</font>\n",
    ">> 0. <font color=\"red\">Exercise</font> : Amplitude (\"Magnitude\")  Amplification **(QCEngine)**\n",
    ">> 0. <font color=\"red\">Exercise</font> : Iterative Amplitude (\"Magnitude\")  Amplification **(QCEngine)**\n",
    "9. <font color=\"blue\">*Quantum Fourier Transform   (\"QFT\")*</font>\n",
    ">> 0. <font color=\"red\">Exercise</font> : Quantum Fourier Transform (\"QFT\") - **QCEngine**\n"
   ]
  },
  {
   "cell_type": "markdown",
   "metadata": {},
   "source": [
    "## Background Videos: \n",
    "\n",
    "Quantum Computing Concepts - **Quantum Hardware**\n",
    "\n",
    "- https://www.youtube.com/watch?v=BbozLeSxcZ4&list=PLHSIfioizVW2uC27IFkHlSc-NgvZjBliZ&index=9\n",
    "\n",
    "\n",
    "Quantum Computing Concepts - **Quantum Algorithms**\n",
    "- https://www.youtube.com/watch?v=8anVNc0r_8o&list=PL50XnIfJxPDWDyea8EbbLe8GHfXkWU7W_&index=8&t=0s"
   ]
  },
  {
   "cell_type": "markdown",
   "metadata": {},
   "source": [
    "## <font color=\"red\">Developmental Detour</font> : Explore the <font color=\"blue\">Quantum-Classical Relationship</font> \n",
    "\n",
    "<BR>\n",
    "\n",
    "![architecture-quantum-gate](img/architecture-quantum-gate.png \"architecture-quantum-gate\")\n",
    "\n",
    "<BR>\n",
    "\n",
    "> #### The Classical - Quantum : function call relationship\n",
    "\n",
    "![architecture-classical-quantum](img/architecture-classical-quantum.png \"architecture-classical-quantum\")"
   ]
  },
  {
   "cell_type": "markdown",
   "metadata": {},
   "source": [
    "### <font color=\"red\">REMINDER</font>:- <font color=\"blue\">The Anatomy of the QISKIT Quantum Simulator </font>\n",
    "\n",
    "<BR>\n",
    "\n",
    "![Qiskit-Process](img/Qiskit-Process1.png \"Qiskit-Process\")"
   ]
  },
  {
   "cell_type": "code",
   "execution_count": null,
   "metadata": {},
   "outputs": [],
   "source": []
  },
  {
   "cell_type": "markdown",
   "metadata": {},
   "source": [
    "#  <font color=\"blue\">Perfect Coin Algorithm</font> - the warmup !\n",
    "\n",
    "![quantum-coin-flip](img/quantum-coin-flip.png \"quantum-coin-flip\")\n",
    "\n",
    "> ### Why does this work?\n",
    "- Because at the Quantum Level, a **simple Hadamard gate** is a truely unpredictible 50/50 chance operation - whereas with a digital random number generator, it is possible (if you knew the long sequence) to predict the next number in the sequence."
   ]
  },
  {
   "cell_type": "markdown",
   "metadata": {},
   "source": [
    "### <font color=\"red\">Exercise</font> : Explore the Perfect Coin Algorithm using Qiskit.\n",
    "- Run and re-run the algorithm and observe it's behavior and structure."
   ]
  },
  {
   "cell_type": "code",
   "execution_count": 8,
   "metadata": {},
   "outputs": [],
   "source": [
    "from qiskit import ClassicalRegister, QuantumRegister, QuantumCircuit, Aer, execute\n",
    "import numpy as np\n",
    "import math as m\n",
    "import scipy as sci\n",
    "\n",
    "S_simulator = Aer.backends(name='statevector_simulator')[0]\n",
    "M_simulator = Aer.backends(name='qasm_simulator')[0] \n"
   ]
  },
  {
   "cell_type": "code",
   "execution_count": 9,
   "metadata": {},
   "outputs": [],
   "source": [
    "\n",
    "#Displaying Results \n",
    "def Wavefunction( obj , *args, **kwargs):\n",
    "#Displays the waveftmction of the quantum system \n",
    "\tif(type(obj) == QuantumCircuit ):\n",
    "\t\tstatevec = execute( obj, S_simulator, shots=1 ).result().get_statevector()\n",
    "\tif(type(obj) == np.ndarray):\n",
    "\t\tstatevec = obj\n",
    "\tsys = False\n",
    "\tNL = False\n",
    "\tdec = 5\n",
    "\tif 'precision' in kwargs:\n",
    "\t\tdec = int( kwargs['precision'] )\n",
    "\tif 'column' in kwargs:\n",
    "\t\tNL = kwargs['column']\n",
    "\tif 'systems' in kwargs:\n",
    "\t\tsystems = kwargs['systems']\n",
    "\t\tsys = True\n",
    "\t\tlast_sys = int(len(systems)-1)\n",
    "\t\tshow_systems = []\n",
    "\t\tfor s_chk in np.arange(len(systems)):\n",
    "\t\t\tif( type(systems[s_chk]) != int ):\n",
    "\t\t\t\traise Exception('systems must be an array of all integers')\n",
    "\t\tif 'show_systems' in kwargs:\n",
    "\t\t\tshow_systems = kwargs['show_systems']\n",
    "\t\t\tif( len(systems)!= len(show_systems) ):\n",
    "\t\t\t\traise Exception('systems and show_systems need to be arrays of equal length')\n",
    "\t\t\tfor ls in np.arange(len(show_systems)):\n",
    "\t\t\t\tif((show_systems[ls] != True) and (show_systems[ls] != False)):\n",
    "\t\t\t\t\traise Exception('show_systems must be an array of Truth Values')\n",
    "\t\t\t\tif(show_systems[ls] == True):\n",
    "\t\t\t\t\tlast_sys = int(ls) \n",
    "\t\telse:\n",
    "\t\t\tfor ss in np.arange(len(systems)):\n",
    "\t\t\t\tshow_systems.append(True)\n",
    "\twavefunction = ''\n",
    "\tqubits = int(m.log(len(statevec),2))\n",
    "\tfor i in np.arange( int(len(statevec))):\n",
    "\t\t#print(wavefunction)\n",
    "\t\tvalue = round(statevec[i].real, dec) + round(statevec[i].imag, dec) * 1j\n",
    "\t\tif( (value.real != 0) or (value.imag != 0)):\n",
    "\t\t\tstate = list(Binary(int(i),int(2**qubits)))\n",
    "\t\t\tstate.reverse()\n",
    "\t\t\tstate_str = ''\n",
    "\t\t\t#print(state)\n",
    "\t\t\tif( sys == True ): #Systems and SharSystems \n",
    "\t\t\t\tk = 0 \n",
    "\t\t\t\tfor s in np.arange(len(systems)):\n",
    "\t\t\t\t\tif(show_systems[s] == True):\n",
    "\t\t\t\t\t\tif(int(s) != last_sys):\n",
    "\t\t\t\t\t\t\tstate.insert(int(k + systems[s]), '>|' )\n",
    "\t\t\t\t\t\t\tk = int(k + systems[s] + 1)\n",
    "\t\t\t\t\t\telse:\n",
    "\t\t\t\t\t\t\tk = int(k + systems[s]) \n",
    "\t\t\t\t\telse:\n",
    "\t\t\t\t\t\tfor s2 in np.arange(systems[s]):\n",
    "\t\t\t\t\t\t\tdel state[int(k)]\n",
    "\t\t\tfor j in np.arange(len(state)):\n",
    "\t\t\t\tif(type(state[j])!= str):\n",
    "\t\t\t\t\tstate_str = state_str + str(int(state[j])) \n",
    "\t\t\t\telse:\n",
    "\t\t\t\t\tstate_str = state_str + state[j]\n",
    "\t\t\t#print(state_str)\n",
    "\t\t\t#print(value)\n",
    "\t\t\tif( (value.real != 0) and (value.imag != 0) ):\n",
    "\t\t\t\tif( value.imag > 0):\n",
    "\t\t\t\t\twavefunction = wavefunction + str(value.real) + '+' + str(value.imag) + 'j |' + state_str + '>   '\n",
    "\t\t\t\telse:\n",
    "\t\t\t\t\twavefunction = wavefunction + str(value.real) + '' + str(value.imag) + 'j |' + state_str +  '>   '\n",
    "\t\t\tif( (value.real !=0 ) and (value.imag ==0) ):\n",
    "\t\t\t\twavefunction = wavefunction  + str(value.real) + '  |' + state_str + '>   '\n",
    "\t\t\tif( (value.real == 0) and (value.imag != 0) ):\n",
    "\t\t\t\twavefunction = wavefunction + str(value.imag)  + 'j |' + state_str + '>   '\n",
    "\t\t\tif(NL):\n",
    "\t\t\t\twavefunction = wavefunction + '\\n'\n",
    "\t\t#print(NL)\n",
    "\t\n",
    "\t#print(wavefunction)\n",
    "\treturn wavefunction\n",
    "\n",
    "\n",
    "def Measurement(quantumcircuit, *args, **kwargs): \n",
    "\t#Displays the measurement results of a quantum circuit \n",
    "\tp_M = True\n",
    "\tS = 1\n",
    "\tref = False\n",
    "\tNL = False\n",
    "\tif 'shots' in kwargs:\n",
    "\t\tS = int(kwargs['shots'])\n",
    "\tif 'return_M' in kwargs:\n",
    "\t\tret = kwargs['return_M']\n",
    "\tif 'print_M' in kwargs:\n",
    "\t\tp_M = kwargs['print_M']\n",
    "\tif 'column' in kwargs:\n",
    "\t\tNL = kwargs['column']\n",
    "\tM1 = execute(quantumcircuit, M_simulator, shots=S).result().get_counts(quantumcircuit)\n",
    "\tM2 = {}\n",
    "\tk1 = list(M1.keys())\n",
    "\tv1 = list(M1.values())\n",
    "\tfor k in np.arange(len(k1)):\n",
    "\t\tkey_list = list(k1[k])\n",
    "\t\tnew_key = ''\n",
    "\t\tfor j in np.arange(len(key_list)):\n",
    "\t\t\tnew_key = new_key+key_list[len(key_list)-(j+1)]\n",
    "\t\tM2[new_key] = v1[k]\n",
    "\tif(p_M):\n",
    "\t\tk2 = list(M2.keys())\n",
    "\t\tv2 = list(M2.values())\n",
    "\t\tmeasurements = ''\n",
    "\t\tfor i in np.arange(len(k2)):\n",
    "\t\t\tm_str = str(v2[i])+'|'\n",
    "\t\t\tfor j in np.arange(len(k2[i])):\n",
    "\t\t\t\tif(k2[i][j] == '0'):\n",
    "\t\t\t\t\tm_str = m_str + '0' \n",
    "\t\t\t\tif(k2[i][j] == '1'):\n",
    "\t\t\t\t\tm_str = m_str + '1'\n",
    "\t\t\t\tif( k2[i][j] == ' ' ):\n",
    "\t\t\t\t\tm_str = m_str +'>|'\n",
    "\t\t\tm_str = m_str + '>   '\n",
    "\t\t\tif(NL):\n",
    "\t\t\t\tm_str = m_str + '\\n'\n",
    "\t\t\tmeasurements = measurements + m_str\n",
    "\t\t#print(measurements)\n",
    "\t\treturn measurements\n",
    "\tif(ref):\n",
    "\t\treturn M2\n",
    "\n",
    "\n",
    "#Math Operations\n",
    "def Oplus(bit1,bit2): \n",
    "\t'''Adds too bits of O's and 1's (modulo 2)'''\n",
    "\tbit = np.zeros(len(bit1))\n",
    "\tfor i in np.arange( len(bit) ):\n",
    "\t\tif( (bit1[i]+bit2[i])%2 == 0 ):\n",
    "\t\t\tbit[i] = 0\n",
    "\t\telse: \n",
    "\t\t\tbit[i] = 1\n",
    "\treturn bit \n",
    "\n",
    "\n",
    "def Binary(number,total): \n",
    "#Converts a number to binary, right to left LSB 152 153 o\n",
    "\tqubits = int(m.log(total,2))\n",
    "\tN = number\n",
    "\tb_num = np.zeros(qubits)\n",
    "\tfor i in np.arange(qubits):\n",
    "\t\tif( N/((2)**(qubits-i-1)) >= 1 ):\n",
    "\t\t\tb_num[i] = 1\n",
    "\t\t\tN = N - 2 ** (qubits-i-1)\n",
    "\tB = [] \n",
    "\tfor j in np.arange(len(b_num)):\n",
    "\t\tB.append(int(b_num[j]))\n",
    "\treturn B\n",
    "\n",
    "def From_Binary(s):\n",
    "    num = 0\n",
    "    for i in np.arange(len(s)):\n",
    "        num = num + s[int(0-(i+1))] * 2 ** (i)\n",
    "    return num\n",
    "\n",
    "def B2D(in_bi):\n",
    "    len_in = len(in_bi)\n",
    "    in_bi = in_bi[::-1]\n",
    "    dec = 0\n",
    "    for i in range(0,len_in):\n",
    "        if in_bi[i] != '0':\n",
    "            dec += 2**i\n",
    "    return dec\n",
    "\n",
    "#  Custom Gates\n",
    "def x_Transformation(qc, qreg, state): \n",
    "#Tranforms the state of the system, applying X gates according to as in the vector 'state' \n",
    "\tfor j in np.arange(len(state)):\n",
    "\t\tif( int(state[j]) == 0 ):\n",
    "\t\t\tqc.x( qreg[int(j)] ) \n",
    "\n",
    "\n",
    "def n_NOT(qc, control, target, anc): \n",
    "#performs an n-NOT gate\n",
    "\tn = len(control)\n",
    "\tinstructions = []\n",
    "\tactive_ancilla = []\n",
    "\tq_unused = []\n",
    "\tq = 0\n",
    "\ta = 0\n",
    "\twhile( (n > 0) or (len(q_unused) != 0) or (len(active_ancilla) != 0) ):\n",
    "\t\tif( n > 0 ):\n",
    "\t\t\tif( (n-2) >= 0 ):\n",
    "\t\t\t\tinstructions.append( [control[q], control[q+1], anc[a]] )\n",
    "\t\t\t\tactive_ancilla.append(a)\n",
    "\t\t\t\ta += 1\n",
    "\t\t\t\tq += 2\n",
    "\t\t\t\tn = n - 2\n",
    "\t\t\tif( (n-2) == -1 ):\n",
    "\t\t\t\tq_unused.append( q )\n",
    "\t\t\t\tn = n - 1\n",
    "\t\telif( len(q_unused) != 0 ):\n",
    "\t\t\tif(len(activeancilla)!=1):\n",
    "\t\t\t\tinstructions.append( [control[q], anc[active_ancilla[0]], anc[a]] )\n",
    "\t\t\t\tdel active_ancilla[0]\n",
    "\t\t\t\tdel q_unused[0]\n",
    "\t\t\t\tactive_ancilla.append(a)\n",
    "\t\t\t\ta = a + 1\n",
    "\t\t\telse:\n",
    "\t\t\t\tinstructions.append( [control[q], anc[active_ancilla[0]], target] )\n",
    "\t\t\t\tdel active_ancilla[0]\n",
    "\t\t\t\tdel q_unused[0]\n",
    "\t\telif( len(active_ancilla) != 0 ):\n",
    "\t\t\tif( len(active_ancilla) > 2 ):\n",
    "\t\t\t\tinstructions.append( [anc[active_ancilla[0]], anc[active_ancilla[1]], anc[a]] )\n",
    "\t\t\t\tactive_ancilla.append(a)\n",
    "\t\t\t\tdel active_ancilla[0]\n",
    "\t\t\t\tdel active_ancilla[0]\n",
    "\t\t\t\ta = a + 1\n",
    "\t\t\telif( len(active_ancilla) == 2):\n",
    "\t\t\t\tinstructions.append([anc[active_ancilla[0]], anc[active_ancilla[1]], target])\n",
    "\t\t\t\tdel active_ancilla[0]\n",
    "\t\t\t\tdel active_ancilla[0]\n",
    "\tfor i in np.arange( len(instructions) ):\n",
    "\t\tqc.ccx( instructions[i][0], instructions[i][1], instructions[i][2] )\n",
    "\tdel instructions[-1]\n",
    "\tfor i in np.arange( len(instructions) ):\n",
    "\t\tqc.ccx( instructions[0-(i+1)][0], instructions[0-(i+1)][1], instructions[0-(i+1)][2] )\n",
    "\n",
    "\n",
    "\n",
    "def Control_Instruction( qc, vec ): \n",
    "#Ammends the proper quantum circuit instruction based on the input 'vec'\n",
    "#Used for the function 'n_Control_U\n",
    "\tif( vec[0] == 'X' ):\n",
    "\t\tqc.cx( ver[1], vec[2] )\n",
    "\tif( vec[0] == 'Z' ):\n",
    "\t\tqc.cz( ver[1], vec[2] )\n",
    "\tif( vec[0] == 'PRASE' ):\n",
    "\t\tqc.cu1( vec[2], vec[1], vec[3] )\n",
    "\tif( vec[0] == 'SWAP' ):\n",
    "\t\tqc.cswap( vec[1], vec[2], vec[3] ) \n",
    "\n",
    "def X_Transformation(qc, qreg, state):\n",
    "\tfor j in np.arange(len(state)):\n",
    "\t\tif( int(state[j]) == 0):\n",
    "\t\t\tqc.x( qreg[int(j)])\n",
    "\n",
    "\n",
    "\n",
    "def sinmons_solver(E,N):\n",
    "\t'''Returns an array of s_prime candidates\n",
    "\t'''\n",
    "\ts_primes = []\n",
    "\tfor s in np.ararge(1,2**N):\n",
    "\t\tsp = Binary( int(s), 2**N )\n",
    "\t\tcandidate = True\n",
    "\t\tfor e in np.arange( len(E) ):\n",
    "\t\t\tvalue = 0\n",
    "\t\t\tfor i in np.arange( N ):\n",
    "\t\t\t\tvalue = value + sp[i]*E[e][i]\n",
    "\t\t\tif(value%2==1):\n",
    "\t\t\t\tcandidate=False\n",
    "\t\tif(candidate):\n",
    "\t\t\ts_primes.append(sp)\n",
    "\treturn s_primes\n",
    "\n",
    "\n",
    "def Grover_Oracle(mark, qc, q, an1, an2): \n",
    "\t'''\n",
    "\tpicks out the marked state and applies a negative phase \n",
    "\t'''\n",
    "\tqc.h( an1[0] )\n",
    "\tX_Transformation(qc, q, mark)\n",
    "\tif( len(mark) > 2 ):\n",
    "\t\tn_NOT( qc, q, an1[0], an2 )\n",
    "\tif( len(mark) == 2 ):\n",
    "\t\tqc.ccx( q[0], q[1], an1[0] )\n",
    "\tX_Transformation(qc, q, mark)\n",
    "\tqc.h( an1[0] )\n",
    "\n",
    "def Grover_Diffusion(mark, qc, q, an1, an2): \n",
    "\t'''\n",
    "\tammends the instructions for a Grover Diffusion Operation to the Quartu rcuit\n",
    "\t'''\n",
    "\tzeros_state = []\n",
    "\tfor i in np.arange( len(mark) ):\n",
    "\t\tzeros_state.append( 0 )\n",
    "\t\tqc.h( q[int(i)] )\n",
    "\tGrover_Oracle(zeros_state, qc, q, an1, an2)\n",
    "\tfor j in np.arange( len(mark) ):\n",
    "\t\tqc.h( q[int(j)] )\n",
    "\n",
    "\n",
    "\n",
    "def Grover(Q, marked): \n",
    "\t'''\n",
    "\tAmends all the instructions for a Grover Search \n",
    "\t'''\n",
    "\tq = QuantumRegister(Q,name='q')\n",
    "\tan1 = QuantumRegister(1,name='anc')\n",
    "\tan2 = QuantumRegister(Q-2,name='nanc')\n",
    "\tc = ClassicalRegister(Q,name='c')\n",
    "\tqc = QuantumCircuit(q,an1,an2,c,name='qc')\n",
    "\tfor j in np.arange(Q):\n",
    "\t\tqc.h( q[int(j)] )\n",
    "\tqc.x( an1[0] )\n",
    "\titerations = round( m.pi/4 * 2**(Q/2.0) )\n",
    "\tfor i in np.arange( iterations ):\n",
    "\t\tGrover_Oracle(marked, qc, q, an1, an2)\n",
    "\t\tGrover_Diffusion(marked, qc, q, an1, an2)\n",
    "\treturn qc, q, an1, an2, c"
   ]
  },
  {
   "cell_type": "code",
   "execution_count": 10,
   "metadata": {},
   "outputs": [],
   "source": [
    "#import qiskit\n",
    "#from qiskit import QuantumCircuit, QuantumRegister, ClassicalRegister, execute, Aer, IBMQ, BasicAer\n",
    "import math\n",
    "import matplotlib.pyplot as P\n",
    "import matplotlib.pyplot as plt\n",
    "#from Our_Qiskit_Functions import *\n",
    "import cmath\n",
    "\n",
    "## Uncomment the next line to see diagrams when running in a notebook\n",
    "%matplotlib inline\n",
    "\n"
   ]
  },
  {
   "cell_type": "code",
   "execution_count": 12,
   "metadata": {},
   "outputs": [],
   "source": [
    "\n",
    "#\n",
    "# Quantum Coin Flip Function\n",
    "#\n",
    "\n",
    "def Quantum_Coin_Flip(flips):\n",
    "    # Simulate a perfect coin, measuring heads or tails, using a qubit\n",
    "    q = QuantumRegister(1)\n",
    "    c = ClassicalRegister(1)\n",
    "    perfect_coin = QuantumCircuit(q,c)\n",
    "    \n",
    "    \n",
    "    # H gate assures perfectly 50/50 randomness \n",
    "    #\n",
    "    perfect_coin.h(q[0])\n",
    "    perfect_coin.measure(q,c)\n",
    "    \n",
    "    \n",
    "    M = execute(perfect_coin, M_simulator, shots=flips).result().get_counts(perfect_coin)\n",
    "    \n",
    "    heads = M['0']\n",
    "    tails = M['1']\n",
    "    \n",
    "    return heads, tails    \n",
    "    \n",
    "#\n",
    "# Helper Function to determine Winner\n",
    "#\n",
    "\n",
    "def determine_winner(Heads, Tails):\n",
    "    if (Heads > Tails):\n",
    "        print(\"Heads Wins!\")\n",
    "    if (Heads < Tails):\n",
    "        print(\"Tails Wins!\")\n",
    "    if (Heads == Tails):\n",
    "        print(\"Tie - no Winner!\")\n",
    "\n",
    "    print(\"\\n\")\n",
    "    print(\"Final Score: Heads: \", Heads, \" Tails: \", Tails)\n",
    "    "
   ]
  },
  {
   "cell_type": "markdown",
   "metadata": {},
   "source": [
    "#### Re-Run this segment to get random coin flips."
   ]
  },
  {
   "cell_type": "code",
   "execution_count": 13,
   "metadata": {},
   "outputs": [
    {
     "name": "stdout",
     "output_type": "stream",
     "text": [
      "Heads Wins!\n",
      "\n",
      "\n",
      "Final Score: Heads:  55  Tails:  45\n"
     ]
    }
   ],
   "source": [
    "# Call the Quantum Coin Flip Function\n",
    "#\n",
    "Heads, Tails = Quantum_Coin_Flip(100)\n",
    "\n",
    "\n",
    "# Determine Winner and Display\n",
    "#\n",
    "determine_winner(Heads, Tails)\n",
    "    "
   ]
  },
  {
   "cell_type": "code",
   "execution_count": 14,
   "metadata": {},
   "outputs": [
    {
     "name": "stdout",
     "output_type": "stream",
     "text": [
      "Heads Wins!\n",
      "\n",
      "\n",
      "Final Score: Heads:  57  Tails:  43\n"
     ]
    }
   ],
   "source": [
    "Heads, Tails = Quantum_Coin_Flip(100)\n",
    "determine_winner(Heads, Tails)"
   ]
  },
  {
   "cell_type": "code",
   "execution_count": 15,
   "metadata": {},
   "outputs": [
    {
     "name": "stdout",
     "output_type": "stream",
     "text": [
      "Tails Wins!\n",
      "\n",
      "\n",
      "Final Score: Heads:  48  Tails:  52\n"
     ]
    }
   ],
   "source": [
    "Heads, Tails = Quantum_Coin_Flip(100)\n",
    "determine_winner(Heads, Tails)"
   ]
  },
  {
   "cell_type": "code",
   "execution_count": 16,
   "metadata": {},
   "outputs": [
    {
     "name": "stdout",
     "output_type": "stream",
     "text": [
      "Heads Wins!\n",
      "\n",
      "\n",
      "Final Score: Heads:  56  Tails:  44\n"
     ]
    }
   ],
   "source": [
    "Heads, Tails = Quantum_Coin_Flip(100)\n",
    "determine_winner(Heads, Tails)"
   ]
  },
  {
   "cell_type": "code",
   "execution_count": 23,
   "metadata": {},
   "outputs": [
    {
     "name": "stdout",
     "output_type": "stream",
     "text": [
      "Heads Wins!\n",
      "\n",
      "\n",
      "Final Score: Heads:  5000462  Tails:  4999538\n"
     ]
    }
   ],
   "source": [
    "Heads, Tails = Quantum_Coin_Flip(10000000)\n",
    "determine_winner(Heads, Tails)"
   ]
  },
  {
   "cell_type": "markdown",
   "metadata": {},
   "source": [
    "# <font color=\"blue\">The Deutsch Algorithm</font>\n",
    "- ### <font color=\"red\">Find the nature of the Oracle </font>\n"
   ]
  },
  {
   "cell_type": "markdown",
   "metadata": {},
   "source": [
    "![Deutsch-Circuit_Banner](img/Deutsch-Circuit_Banner.png \"Deutsch-Circuit_Banner\")\n",
    "\n",
    "<BR>\n",
    "    \n",
    "![Deutsch-PhaseKickBack](img/Deutsch-PhaseKickBack.png \"Deutsch-PhaseKickBack\") \n",
    "    \n",
    "<BR>\n",
    "    \n",
    "![DeutschAlgorithm-Q_vs_C](img/DeutschAlgorithm-Q_vs_C.png \"DeutschAlgorithm-Q_vs_C\")\n",
    "\n",
    "\n",
    "> **VIDEO**: https://www.youtube.com/watch?v=a7Ed7FiBwfw&list=PLsedzcQz4wyXEco2GzCoXT8MPJUrQbBx8"
   ]
  },
  {
   "cell_type": "markdown",
   "metadata": {},
   "source": [
    "Suppose we are given a 'black box function' $f$.  By this we mean that we are given some function $f$, which we can use, but we don't know its effect.  Specifically, $f$ acts on a bit of information, either $0$ or $1$, and returns an output, also either $0$ or $1$.  Thus, when we feed $f$ the inputs $0$ and $1$, the function will be describable by **two** out of the **four** following possibilities:\n",
    "\n",
    "$$ f(0) \\rightarrow 0 \\hspace{.5cm} f(0) \\rightarrow 1 $$\n",
    "\n",
    "$$ f(1) \\rightarrow 0 \\hspace{.5cm} f(1) \\rightarrow 1 $$\n",
    "\n",
    "Based on these possibilities, we can say that $f$ is guarenteed to be either a **'balanced'** or **'constant'** function. \n",
    "\n",
    "> A balanced function means that $f$'s outputs will be half $0$'s and half $1$'s, ex: $\\hspace{.15cm} f(0) \\rightarrow 1 \\hspace{.35cm} f(1) \\rightarrow 0 $.  \n",
    "\n",
    "> A constant function means that the output will be either all $0$'s or all $1$'s, ex: $\\hspace{.15cm} f(0) \\rightarrow 1 \\hspace{.35cm} f(1) \\rightarrow 1 $.  \n",
    "\n",
    "So then, given this mysterious $f$, **what is the minimum number of uses** by which we can determine whether it is a balanced or constant function?"
   ]
  },
  {
   "cell_type": "markdown",
   "metadata": {},
   "source": [
    "### Problem: \n",
    "\n",
    "> The hidden function **Bf()**  returns either a **Constant** (everything returned is the SAME: all 1's or all 0's), or a **Balanced** (SAME amount of 1's and 0's returned).\n",
    "- Design a solution that can determine (with absolute certainty) that the function **Bf()** is either **Constant** or **Balanced** in the **<font color=\"red\">fewest queries of the oracle as possible</font>**."
   ]
  },
  {
   "cell_type": "markdown",
   "metadata": {},
   "source": [
    "## **<font color=\"blue\">Classical Approach</font>** - The Deutsch Algorithm\n",
    "- https://en.wikipedia.org/wiki/Deutsch%E2%80%93Jozsa_algorithm\n",
    "- *Although of little practical use*, it is one of the **first examples of a quantum algorithm that is exponentially faster than any possible deterministic classical algorithm** and is the inspiration for Simon's Algorithm, which is, in turn, the inspiration for Shor's Algorithm.\n",
    "\n",
    "\n",
    "![Deutsch-Algorithm-Classical](img/Deutsch-Algorithm-Classical.png \"Deutsch-Algorithm-Classical\")\n",
    "\n",
    "<BR>\n",
    "\n",
    "> This code randomly generates **one** of the **<font color=\"red\" size=\"4\">four</font>** possible black box functions, tests it with **<font color=\"red\">two</font>** inputs **f(0)** and **f(1)**, and concludes whether the function **Bf(·)**  is **balanced** or **constant** <font color=\"red\">based on the results</font>. \n",
    "\n",
    "\n",
    "![Deutsch-Query-Classic](img/Deutsch-Query-Classic1.png \"\")"
   ]
  },
  {
   "cell_type": "markdown",
   "metadata": {},
   "source": [
    "### <font color=\"red\">Exercise</font> : Explore the Deutsch's algorithm - <font color=\"blue\">Classical</font> Approach (using PYTHON)."
   ]
  },
  {
   "cell_type": "code",
   "execution_count": 25,
   "metadata": {},
   "outputs": [],
   "source": [
    "#\n",
    "# The Classical Function\n",
    "#\n",
    "\n",
    "import math as m\n",
    "import scipy as sci\n",
    "import numpy as np\n",
    "\n",
    "\n",
    "def blackbox_f():\n",
    "    # Returns on of four possible f functions\n",
    "    \n",
    "    def F1(x):\n",
    "        return 0\n",
    "    \n",
    "    def F2(x):\n",
    "        return 1\n",
    "    \n",
    "    def F3(x):\n",
    "        return x%2\n",
    "    \n",
    "    def F4(x):\n",
    "        return (x+1)%2\n",
    "    \n",
    "    functions = [F1, F2, F3, F4]\n",
    "    \n",
    "    # Random number generator provides a different function\n",
    "    #\n",
    "    f = functions[ int(m.floor( 4*np.random.rand() ) ) ]\n",
    "    \n",
    "    return f\n",
    "\n",
    "\n",
    "def classical_determine_hidden_function_(F0, F1):\n",
    "    \n",
    "    # Display F with two inputs\n",
    "    #\n",
    "    print(\"f(0): \", F0 ) \n",
    "    print(\"f(1): \", F1 ) \n",
    "    \n",
    "    # Then make the conclusion\n",
    "    #\n",
    "    if ( F0 == F1 ):\n",
    "        print(\"Conclusion: F is CONSTANT\")\n",
    "    else:\n",
    "        print(\"Conclusion: F is BALANCED\")"
   ]
  },
  {
   "cell_type": "markdown",
   "metadata": {},
   "source": [
    "### **<font color=\"red\">NOTE</font>**: - Two <font color=\"blue\">Classical</font> calls required\n",
    "- The classical approach required **<font color=\"red\">two</font>** calls to the function to determine it's nature (**constant or balanced**)\n",
    "- **F(0), F(1)**"
   ]
  },
  {
   "cell_type": "code",
   "execution_count": 48,
   "metadata": {},
   "outputs": [
    {
     "name": "stdout",
     "output_type": "stream",
     "text": [
      "1 2\n",
      "f(0):  1\n",
      "f(1):  1\n",
      "Conclusion: F is CONSTANT\n",
      "3 4\n",
      "f(0):  0\n",
      "f(1):  0\n",
      "Conclusion: F is CONSTANT\n",
      "5 6\n",
      "f(0):  0\n",
      "f(1):  1\n",
      "Conclusion: F is BALANCED\n",
      "7 8\n",
      "f(0):  1\n",
      "f(1):  1\n",
      "Conclusion: F is CONSTANT\n"
     ]
    }
   ],
   "source": [
    "for i, j in [(1, 2), (3, 4), (5, 6),(7, 8)]:\n",
    "    print(i, j)\n",
    "    # Get the Classical BlackBox Function\n",
    "    # f = [F1, F2, F3, F4] as defined above.\n",
    "    F = blackbox_f()\n",
    "    # Determine the Functions Nature (two calls F(0) and f(1) )\n",
    "    classical_determine_hidden_function_(F(0), F(1))\n",
    "    \n"
   ]
  },
  {
   "cell_type": "markdown",
   "metadata": {},
   "source": [
    "# <font color=\"blue\">Quantum Approach</font> - The Deutsch Algorithm\n",
    "- ### <font color=\"red\">Find the nature of the Oracle </font>\n",
    "\n",
    "<BR>\n",
    "\n",
    "> ### A useful property of this black-box operator is called **<font color=\"red\">phase kickback</font>**\n",
    "- When given a particular type of input to this operator, the hidden function **Bf(·)** appears in the **phase** of the output\n",
    "- *This concept is covered later in detail*\n",
    "\n"
   ]
  },
  {
   "cell_type": "markdown",
   "metadata": {},
   "source": [
    "![Deutsch-Query-Quantum](img/Deutsch-Query-Quantum.png \"Deutsch-Query-Quantum\")\n",
    "\n",
    "\n",
    "> ### **<font color=\"Blue\">Quantum Solution</font>**   \n",
    "- Using a quantum computer, we can solve this problem with 100% confidence after only **<font color=\"red\">one</font>** call to the function  **f(x)** \n",
    "- provided we have the function  **<font color=\"red\" size=\"5\">f()</font>**  implemented as a  **<font color=\"red\">quantum oracle</font>**."
   ]
  },
  {
   "cell_type": "markdown",
   "metadata": {},
   "source": [
    "> ### **<font color=\"Blue\">Why does the Quantum approach work</font>**? A QUIRK<font color=\"red\">ey</font> Explanation.\n",
    "- Why does it only take **ONE** invocation of the algorithm instead of two?\n",
    "- #### In a nutshell, \"Superposition and Phase Kickback\".\n",
    ">> https://www.youtube.com/watch?v=WLcNrikK2vw\n",
    "\n",
    "\n",
    "### <font color=\"blue\">The Example Setup</font> : ( a slight deviation from the original Deutsch Algorithm )\n",
    "- No Phase Kickback in this version\n",
    "- For **<font color=\"red\">Constant</font>** Oracle Functions use the **ID Gate** or the **NOT gate** to return **Constant** output.\n",
    "- For **<font color=\"red\">Balanced</font>** Oracle Functions use the **CNOT (and inverse CNOT) gates** to return **Balanced** output. \n",
    "\n",
    "> When the hidden Boolean function **(Oracle)** is **<font color=\"red\">Constant</font>**, the circuit returns a measurement result of **<font color=\"red\">(0 1)</font>**.\n",
    "- Ignore the Phase.\n",
    "\n",
    "\n",
    "\n",
    "> When the hidden Boolean function **(Oracle)** is **<font color=\"red\">Balanced</font>**, the circuit returns a measurement result of **<font color=\"red\">(1 1)</font>**.\n",
    "- Ignore the Phase.\n",
    "\n"
   ]
  },
  {
   "cell_type": "markdown",
   "metadata": {},
   "source": [
    "## <font color=\"blue\">QisKit Circuits</font>\n",
    "\n",
    "### Deutsch <font color=\"red\">Constant Oracle</font> Circuit\n",
    "\n",
    "![Deutsch-Constant_circuit](img/Deutsch-Constant_circuit.png \"Deutsch-Constant_circuit\")\n",
    "\n",
    "<BR>\n",
    "    \n",
    "### Deutsch <font color=\"red\">Balanced Oracle</font> Circuit\n",
    "\n",
    "![Deutsch-Balanced_curcuit](img/Deutsch-Balanced_curcuit.png \"Deutsch-Balanced_curcuit\")"
   ]
  },
  {
   "cell_type": "markdown",
   "metadata": {},
   "source": [
    "## <font color=\"blue\">QUIRK Circuits</font>\n",
    "\n",
    "![Deutsch-OneQuery2](img/Deutsch-OneQuery3.png \"\")"
   ]
  },
  {
   "cell_type": "markdown",
   "metadata": {},
   "source": [
    "### <font color=\"red\">Exercise</font> : Using the <font color=\"blue\">QUIRK</font> to explore (a slight <font color=\"red\">deviation</font> of) the <font color=\"blue\">Deutsch Algorithm</font>\n",
    "- Experiment with the **<font color=\"red\">Constant</font>** Oracle Function using the **ID Gate** or the **NOT gate** to return **Constant** output.\n",
    "- Experiment with the **<font color=\"red\">Balanced</font>** Oracle Function using the **CNOT (and inverse CNOT) gates** to return **Balanced** output. \n",
    "\n",
    "\n",
    "\n",
    "\n",
    "> #### Look for:\n",
    "- Balanced (1,1)\n",
    "- Constant (0,1)"
   ]
  },
  {
   "cell_type": "code",
   "execution_count": 62,
   "metadata": {},
   "outputs": [
    {
     "data": {
      "text/html": [
       "\n",
       "        <iframe\n",
       "            width=\"900\"\n",
       "            height=\"600\"\n",
       "            src=\"https://algassert.com/quirk#circuit=%7B%22cols%22%3A%5B%5B1%2C%22X%22%5D%2C%5B%22Chance%22%2C%22Chance%22%5D%2C%5B%22H%22%2C%22H%22%5D%2C%5B%22Amps2%22%5D%2C%5B%5D%2C%5B%22%E2%80%A6%22%2C%22%E2%80%A6%22%5D%2C%5B%22%E2%80%A6%22%2C%22%E2%80%A6%22%5D%2C%5B%22Amps2%22%5D%2C%5B%5D%2C%5B%22H%22%2C%22H%22%5D%2C%5B%22Measure%22%2C%22Measure%22%5D%2C%5B%22Amps1%22%5D%5D%7D\"\n",
       "            frameborder=\"0\"\n",
       "            allowfullscreen\n",
       "            \n",
       "        ></iframe>\n",
       "        "
      ],
      "text/plain": [
       "<IPython.lib.display.IFrame at 0x37535658>"
      ]
     },
     "execution_count": 62,
     "metadata": {},
     "output_type": "execute_result"
    }
   ],
   "source": [
    "#  Constant 0,1:\n",
    "from IPython.display import IFrame\n",
    "IFrame(src='https://algassert.com/quirk#circuit=%7B%22cols%22%3A%5B%5B1%2C%22X%22%5D%2C%5B%22Chance%22%2C%22Chance%22%5D%2C%5B%22H%22%2C%22H%22%5D%2C%5B%22Amps2%22%5D%2C%5B%5D%2C%5B%22%E2%80%A6%22%2C%22%E2%80%A6%22%5D%2C%5B%22%E2%80%A6%22%2C%22%E2%80%A6%22%5D%2C%5B%22Amps2%22%5D%2C%5B%5D%2C%5B%22H%22%2C%22H%22%5D%2C%5B%22Measure%22%2C%22Measure%22%5D%2C%5B%22Amps1%22%5D%5D%7D', width=900, height=600)"
   ]
  },
  {
   "cell_type": "code",
   "execution_count": 63,
   "metadata": {},
   "outputs": [
    {
     "data": {
      "text/html": [
       "\n",
       "        <iframe\n",
       "            width=\"900\"\n",
       "            height=\"600\"\n",
       "            src=\"https://algassert.com/quirk#circuit=%7B%22cols%22%3A%5B%5B1%2C%22X%22%5D%2C%5B%22Chance%22%2C%22Chance%22%5D%2C%5B%22H%22%2C%22H%22%5D%2C%5B%22Amps2%22%5D%2C%5B%5D%2C%5B%22%E2%80%A6%22%2C%22%E2%80%A6%22%5D%2C%5B1%2C%22X%22%5D%2C%5B%22%E2%80%A6%22%2C%22%E2%80%A6%22%5D%2C%5B%22Amps2%22%5D%2C%5B%5D%2C%5B%22H%22%2C%22H%22%5D%2C%5B%22Measure%22%2C%22Measure%22%5D%2C%5B%22Amps1%22%5D%5D%7D\"\n",
       "            frameborder=\"0\"\n",
       "            allowfullscreen\n",
       "            \n",
       "        ></iframe>\n",
       "        "
      ],
      "text/plain": [
       "<IPython.lib.display.IFrame at 0x37535fa0>"
      ]
     },
     "execution_count": 63,
     "metadata": {},
     "output_type": "execute_result"
    }
   ],
   "source": [
    "# Constant 0,1\n",
    "from IPython.display import IFrame\n",
    "IFrame(src='https://algassert.com/quirk#circuit=%7B%22cols%22%3A%5B%5B1%2C%22X%22%5D%2C%5B%22Chance%22%2C%22Chance%22%5D%2C%5B%22H%22%2C%22H%22%5D%2C%5B%22Amps2%22%5D%2C%5B%5D%2C%5B%22%E2%80%A6%22%2C%22%E2%80%A6%22%5D%2C%5B1%2C%22X%22%5D%2C%5B%22%E2%80%A6%22%2C%22%E2%80%A6%22%5D%2C%5B%22Amps2%22%5D%2C%5B%5D%2C%5B%22H%22%2C%22H%22%5D%2C%5B%22Measure%22%2C%22Measure%22%5D%2C%5B%22Amps1%22%5D%5D%7D', width=900, height=600)"
   ]
  },
  {
   "cell_type": "code",
   "execution_count": 58,
   "metadata": {},
   "outputs": [
    {
     "data": {
      "text/html": [
       "\n",
       "        <iframe\n",
       "            width=\"900\"\n",
       "            height=\"600\"\n",
       "            src=\"https://algassert.com/quirk#circuit=%7B%22cols%22%3A%5B%5B1%2C%22X%22%5D%2C%5B%22Chance%22%2C%22Chance%22%5D%2C%5B%22H%22%2C%22H%22%5D%2C%5B%22Amps2%22%5D%2C%5B%5D%2C%5B%22%E2%80%A6%22%2C%22%E2%80%A6%22%5D%2C%5B%22%E2%80%A2%22%2C%22X%22%5D%2C%5B%22%E2%80%A6%22%2C%22%E2%80%A6%22%5D%2C%5B%22Amps2%22%5D%2C%5B%5D%2C%5B%22H%22%2C%22H%22%5D%2C%5B%22Measure%22%2C%22Measure%22%5D%2C%5B%22Amps1%22%5D%5D%7D\"\n",
       "            frameborder=\"0\"\n",
       "            allowfullscreen\n",
       "            \n",
       "        ></iframe>\n",
       "        "
      ],
      "text/plain": [
       "<IPython.lib.display.IFrame at 0x37526ce8>"
      ]
     },
     "execution_count": 58,
     "metadata": {},
     "output_type": "execute_result"
    }
   ],
   "source": [
    "# Balanced 1 1\n",
    "from IPython.display import IFrame\n",
    "IFrame(src='https://algassert.com/quirk#circuit=%7B%22cols%22%3A%5B%5B1%2C%22X%22%5D%2C%5B%22Chance%22%2C%22Chance%22%5D%2C%5B%22H%22%2C%22H%22%5D%2C%5B%22Amps2%22%5D%2C%5B%5D%2C%5B%22%E2%80%A6%22%2C%22%E2%80%A6%22%5D%2C%5B%22%E2%80%A2%22%2C%22X%22%5D%2C%5B%22%E2%80%A6%22%2C%22%E2%80%A6%22%5D%2C%5B%22Amps2%22%5D%2C%5B%5D%2C%5B%22H%22%2C%22H%22%5D%2C%5B%22Measure%22%2C%22Measure%22%5D%2C%5B%22Amps1%22%5D%5D%7D', width=900, height=600)"
   ]
  },
  {
   "cell_type": "code",
   "execution_count": 65,
   "metadata": {},
   "outputs": [
    {
     "data": {
      "text/html": [
       "\n",
       "        <iframe\n",
       "            width=\"900\"\n",
       "            height=\"600\"\n",
       "            src=\"https://algassert.com/quirk#circuit=%7B%22cols%22%3A%5B%5B1%2C%22X%22%5D%2C%5B%22Chance%22%2C%22Chance%22%5D%2C%5B%22H%22%2C%22H%22%5D%2C%5B%22Amps2%22%5D%2C%5B%5D%2C%5B%22%E2%80%A6%22%2C%22%E2%80%A6%22%5D%2C%5B%22%E2%97%A6%22%2C%22X%22%5D%2C%5B%22%E2%80%A6%22%2C%22%E2%80%A6%22%5D%2C%5B%22Amps2%22%5D%2C%5B%5D%2C%5B%22H%22%2C%22H%22%5D%2C%5B%22Measure%22%2C%22Measure%22%5D%2C%5B%22Amps1%22%5D%5D%7D\"\n",
       "            frameborder=\"0\"\n",
       "            allowfullscreen\n",
       "            \n",
       "        ></iframe>\n",
       "        "
      ],
      "text/plain": [
       "<IPython.lib.display.IFrame at 0x37535220>"
      ]
     },
     "execution_count": 65,
     "metadata": {},
     "output_type": "execute_result"
    }
   ],
   "source": [
    "#Balanced 1 1\n",
    "from IPython.display import IFrame\n",
    "IFrame(src='https://algassert.com/quirk#circuit=%7B%22cols%22%3A%5B%5B1%2C%22X%22%5D%2C%5B%22Chance%22%2C%22Chance%22%5D%2C%5B%22H%22%2C%22H%22%5D%2C%5B%22Amps2%22%5D%2C%5B%5D%2C%5B%22%E2%80%A6%22%2C%22%E2%80%A6%22%5D%2C%5B%22%E2%97%A6%22%2C%22X%22%5D%2C%5B%22%E2%80%A6%22%2C%22%E2%80%A6%22%5D%2C%5B%22Amps2%22%5D%2C%5B%5D%2C%5B%22H%22%2C%22H%22%5D%2C%5B%22Measure%22%2C%22Measure%22%5D%2C%5B%22Amps1%22%5D%5D%7D', width=900, height=600)"
   ]
  },
  {
   "cell_type": "markdown",
   "metadata": {},
   "source": [
    "### <font color=\"red\">Discussion</font> : Using the <font color=\"blue\">QUIRK</font> to explore (the original version of) the <font color=\"blue\">Deutsch Algorithm</font>\n",
    "- ## Incorporate the <font color=\"red\">Phase Kickback Trick</font>\n",
    "- ### <font color=\"red\">Find the nature of the Oracle </font>\n",
    "\n",
    "\n",
    "<BR><BR>\n",
    "    \n",
    "![Deutsch-Circuit_Banner](img/Deutsch-Circuit_Banner.png \"Deutsch-Circuit_Banner\")\n",
    "\n",
    "<BR>\n",
    "    \n",
    "\n",
    "### <font color=\"blue\">The Deutsch Oracle behavior</font>: \n",
    "\n",
    "> ### **<font color=\"blue\">CONSTANT</font>**\n",
    "- The phase (after the oracle) **\"kicks back\"** and creates **constructive interference**, which provides **100% probability** of measurement **<font color=\"red\">ZERO</font>** (OFF State).\n",
    "- Image show a 100% chance of **|0>** (Decimal ZERO) being measured.\n",
    "- **Notice:** - The phase changes in Qubit ONE (they are kicked back).\n",
    "\n",
    "<BR><BR>\n",
    "\n",
    "![Deutsch-Constant-QUIRK](img/Deutsch-Constant-QUIRK1.png \"\")\n",
    "\n",
    "<BR><BR>\n",
    "    \n",
    "> ### **<font color=\"blue\">BALANCED</font>**\n",
    "- The phase (after the oracle) **\"kicks back\"** and creates **constructive interference**, which provides **100% probability** of measurement **<font color=\"red\">ONE</font>** (ON State).\n",
    "- Image show a 0% chance of **|0>** (Decimal ZERO) being measured.\n",
    "- Conversly a 100% chance of **|1>** (Decimal ONE) being measured.\n",
    "- **Notice:** - The phase changes in Qubit ONE (they are kicked back).\n",
    "<BR><BR>\n",
    "\n",
    "![Deutsch-Balanced-QUIRK](img/Deutsch-Balanced-QUIRK1.png \"\")"
   ]
  },
  {
   "cell_type": "markdown",
   "metadata": {},
   "source": [
    "### <font color=\"red\">Exercise</font> : Explore the Deutsch's algorithm - with oracle having <font color=\"red\">Constant</font> function\n",
    "\n",
    "- Experiment with the **<font color=\"red\">Constant</font>** Oracle Function using the **ID Gate** or the **NOT gate** to return **Constant** output.\n"
   ]
  },
  {
   "cell_type": "code",
   "execution_count": 67,
   "metadata": {
    "scrolled": false
   },
   "outputs": [
    {
     "data": {
      "text/html": [
       "\n",
       "        <iframe\n",
       "            width=\"900\"\n",
       "            height=\"600\"\n",
       "            src=\"https://algassert.com/quirk#circuit={%22cols%22:[[1,%22X%22],[%22Chance%22,%22Chance%22],[%22H%22,%22H%22],[%22Amps2%22],[],[%22%E2%80%A6%22,%22%E2%80%A6%22],[1,%22X%22],[%22%E2%80%A6%22,%22%E2%80%A6%22],[%22Amps1%22],[],[%22H%22],[%22Measure%22],[%22Amps1%22]]}\"\n",
       "            frameborder=\"0\"\n",
       "            allowfullscreen\n",
       "            \n",
       "        ></iframe>\n",
       "        "
      ],
      "text/plain": [
       "<IPython.lib.display.IFrame at 0x37535bb0>"
      ]
     },
     "execution_count": 67,
     "metadata": {},
     "output_type": "execute_result"
    }
   ],
   "source": [
    "# QUIRK (Quantum Curcuit Simulator) : Deutsch's algorithm - with oracle having CONSTANT function.\n",
    "from IPython.display import IFrame\n",
    "IFrame(src='https://algassert.com/quirk#circuit={%22cols%22:[[1,%22X%22],[%22Chance%22,%22Chance%22],[%22H%22,%22H%22],[%22Amps2%22],[],[%22%E2%80%A6%22,%22%E2%80%A6%22],[1,%22X%22],[%22%E2%80%A6%22,%22%E2%80%A6%22],[%22Amps1%22],[],[%22H%22],[%22Measure%22],[%22Amps1%22]]}', width=900, height=600)"
   ]
  },
  {
   "cell_type": "markdown",
   "metadata": {},
   "source": [
    "### <font color=\"red\">Exercise</font> :  Explore the Deutsch's algorithm - with oracle having <font color=\"red\">Balanced</font> function\n",
    "- Experiment with the **<font color=\"red\">Balanced</font>** Oracle Function using the **CNOT (and inverse CNOT) gates** to return **Balanced** output. \n"
   ]
  },
  {
   "cell_type": "code",
   "execution_count": 68,
   "metadata": {
    "scrolled": false
   },
   "outputs": [
    {
     "data": {
      "text/html": [
       "\n",
       "        <iframe\n",
       "            width=\"900\"\n",
       "            height=\"600\"\n",
       "            src=\"https://algassert.com/quirk#circuit=%7B%22cols%22%3A%5B%5B1%2C%22X%22%5D%2C%5B%22H%22%2C%22H%22%5D%2C%5B%22Amps2%22%5D%2C%5B%5D%2C%5B%22%E2%80%A6%22%2C%22%E2%80%A6%22%5D%2C%5B%22%E2%80%A2%22%2C%22X%22%5D%2C%5B%22%E2%80%A6%22%2C%22%E2%80%A6%22%5D%2C%5B%22Amps1%22%5D%2C%5B%5D%2C%5B%22H%22%5D%2C%5B%22Measure%22%5D%2C%5B%22Amps1%22%5D%5D%2C%22gates%22%3A%5B%7B%22id%22%3A%22~rkp5%22%2C%22name%22%3A%22Bal%22%2C%22circuit%22%3A%7B%22cols%22%3A%5B%5B%22%E2%80%A2%22%2C1%2C1%2C%22X%22%5D%5D%7D%7D%2C%7B%22id%22%3A%22~fju5%22%2C%22name%22%3A%22Con%22%2C%22circuit%22%3A%7B%22cols%22%3A%5B%5B1%2C1%2C1%2C%22X%22%5D%5D%7D%7D%5D%7D\"\n",
       "            frameborder=\"0\"\n",
       "            allowfullscreen\n",
       "            \n",
       "        ></iframe>\n",
       "        "
      ],
      "text/plain": [
       "<IPython.lib.display.IFrame at 0x37535d60>"
      ]
     },
     "execution_count": 68,
     "metadata": {},
     "output_type": "execute_result"
    }
   ],
   "source": [
    "# QUIRK (Quantum Curcuit Simulator) : Deutsch's algorithm - with oracle having BALANCED function.\n",
    "from IPython.display import IFrame\n",
    "IFrame(src='https://algassert.com/quirk#circuit=%7B%22cols%22%3A%5B%5B1%2C%22X%22%5D%2C%5B%22H%22%2C%22H%22%5D%2C%5B%22Amps2%22%5D%2C%5B%5D%2C%5B%22%E2%80%A6%22%2C%22%E2%80%A6%22%5D%2C%5B%22%E2%80%A2%22%2C%22X%22%5D%2C%5B%22%E2%80%A6%22%2C%22%E2%80%A6%22%5D%2C%5B%22Amps1%22%5D%2C%5B%5D%2C%5B%22H%22%5D%2C%5B%22Measure%22%5D%2C%5B%22Amps1%22%5D%5D%2C%22gates%22%3A%5B%7B%22id%22%3A%22~rkp5%22%2C%22name%22%3A%22Bal%22%2C%22circuit%22%3A%7B%22cols%22%3A%5B%5B%22%E2%80%A2%22%2C1%2C1%2C%22X%22%5D%5D%7D%7D%2C%7B%22id%22%3A%22~fju5%22%2C%22name%22%3A%22Con%22%2C%22circuit%22%3A%7B%22cols%22%3A%5B%5B1%2C1%2C1%2C%22X%22%5D%5D%7D%7D%5D%7D', width=900, height=600)"
   ]
  },
  {
   "cell_type": "markdown",
   "metadata": {},
   "source": [
    "## <font color=\"red\">Exercise</font> :  Explore the Deutsch's Algorithm - <font color=\"blue\">Qiskit</font>\n",
    "- Toggle the Oracle between **<font color=\"red\">\"B\"</font>** (*balanced*) and **<font color=\"red\">\"C\"</font>** (*constant*)\n",
    "- Observe the behavior of the Algorithm.\n",
    "- Note the changes in the circuit."
   ]
  },
  {
   "cell_type": "markdown",
   "metadata": {},
   "source": [
    "### <font color=\"blue\">Quantum Advantage</font> :  \n",
    "- As you toggle the Oracle between **<font color=\"red\">\"B\"</font>** and **<font color=\"red\">\"C\"</font>** - the Quantum Approach finds the nature of the Oracle in **<font color=\"red\">ONE</font>** call."
   ]
  },
  {
   "cell_type": "markdown",
   "metadata": {},
   "source": [
    "### Deutsch <font color=\"red\">Constant Oracle</font> Circuit\n",
    "\n",
    "![Deutsch-Constant_circuit](img/Deutsch-Constant_circuit.png \"Deutsch-Constant_circuit\")\n",
    "\n",
    "<BR>\n",
    "    \n",
    "### Deutsch <font color=\"red\">Balanced Oracle</font> Circuit\n",
    "\n",
    "![Deutsch-Balanced_curcuit](img/Deutsch-Balanced_curcuit.png \"Deutsch-Balanced_curcuit\")"
   ]
  },
  {
   "cell_type": "markdown",
   "metadata": {},
   "source": [
    "### NOTE: Balanced: {'01'} and Constant: {'00'}"
   ]
  },
  {
   "cell_type": "markdown",
   "metadata": {},
   "source": [
    "### Helper Functions\n",
    "- To make things easier"
   ]
  },
  {
   "cell_type": "code",
   "execution_count": 69,
   "metadata": {},
   "outputs": [],
   "source": [
    "### Helper Functions\n",
    "\n",
    "# Convert Binary to Decimal\n",
    "\n",
    "def binaryToDecimal(binary): \n",
    "      \n",
    "    binary1 = binary \n",
    "    decimal, i, n = 0, 0, 0\n",
    "    while(binary != 0): \n",
    "        dec = binary % 10\n",
    "        decimal = decimal + dec * pow(2, i) \n",
    "        binary = binary//10\n",
    "        i += 1\n",
    "    # print(decimal)\n",
    "    return decimal\n",
    "    \n",
    "\n",
    "# Determine Hidden Function (Balanced or Constant)\n",
    "\n",
    "def quantum_determine_hidden_function_(dF):\n",
    "    \n",
    "    creg_value = list(dF.keys())[0]\n",
    "    \n",
    "    print(\"Measured Binary Value: \",creg_value)  \n",
    "    print(\"Measured Decimal Value: \",binaryToDecimal(int(creg_value)),\"\\n\")    \n",
    "    \n",
    "    # Then make the conclusion\n",
    "    #\n",
    "    if ( creg_value == '00' ):\n",
    "        print(\"Conclusion: f is CONSTANT\")\n",
    "    \n",
    "    else:\n",
    "        print(\"Conclusion: f is BALANCED\")"
   ]
  },
  {
   "cell_type": "markdown",
   "metadata": {},
   "source": [
    "### Setup the Program\n",
    "- Change the Oracle (Balanced or Constant)"
   ]
  },
  {
   "cell_type": "code",
   "execution_count": 70,
   "metadata": {},
   "outputs": [
    {
     "data": {
      "text/plain": [
       "<qiskit.circuit.instructionset.InstructionSet at 0x37553b88>"
      ]
     },
     "execution_count": 70,
     "metadata": {},
     "output_type": "execute_result"
    }
   ],
   "source": [
    "from qiskit import QuantumCircuit, QuantumRegister, ClassicalRegister, execute, Aer, IBMQ, BasicAer\n",
    "import math\n",
    "from Our_Qiskit_Functions import *\n",
    "import numpy as np\n",
    "\n",
    "d_qr = QuantumRegister(2, name='d_qr')\n",
    "d_cl = ClassicalRegister(2, name='d_cl')\n",
    "\n",
    "d_qc = QuantumCircuit(d_qr, d_cl)\n",
    "\n",
    "\n",
    "# Construct First Half of Deutsch Circuit\n",
    "#\n",
    "d_qc.x( d_qr[1] )\n",
    "d_qc.barrier()    # Barrier\n",
    "d_qc.h( d_qr[0] )\n",
    "d_qc.h( d_qr[1] )\n",
    "\n",
    "    \n",
    "# Construct the Oracle:\n",
    "# Set the Oracle to (b = balanced, c = continuous) - This is what you change.\n",
    "#\n",
    "d_oracle = \"c\"\n",
    "\n",
    "    \n",
    "d_qc.barrier()    # Barrier\n",
    "\n",
    "# if balanced - construct this Oracle\n",
    "if d_oracle == \"b\":\n",
    "    d_qc.cx(d_qr[0], d_qr[1])\n",
    "\n",
    " # if constant - - construct this different Oracle\n",
    "if d_oracle == \"c\":   \n",
    "    d_qc.x(d_qr[1])\n",
    "    \n",
    "    \n",
    "# Construct Second Half of Deutsch Circuit\n",
    "#\n",
    "d_qc.barrier()    # Barrier\n",
    "d_qc.h( d_qr[0] )\n",
    "d_qc.h( d_qr[1] )\n",
    "\n",
    "\n",
    "# Measure the Curcuit\n",
    "#\n",
    "d_qc.measure(d_qr[0], d_cl[0])\n",
    "# d_qc.measure(d_qr[1], d_cl[1]) => Not Necessary.\n",
    "    \n",
    "    \n",
    "# Debugging\n",
    "# d_qc.draw(output='mpl')     "
   ]
  },
  {
   "cell_type": "markdown",
   "metadata": {},
   "source": [
    "### Submit the Job, Print the Circuit\n",
    "> Check the Circuit returned:\n",
    "- Balanced: **CNOT** Gate Oracle\n",
    "- Constant: **NOT** Gate Oracle"
   ]
  },
  {
   "cell_type": "code",
   "execution_count": 71,
   "metadata": {
    "scrolled": true
   },
   "outputs": [
    {
     "data": {
      "image/png": "[encoded data removed]",
      "text/plain": [
       "<Figure size 589.832x204.68 with 1 Axes>"
      ]
     },
     "execution_count": 71,
     "metadata": {},
     "output_type": "execute_result"
    }
   ],
   "source": [
    "# Run the Program - use local simulator\n",
    "#\n",
    "backend = BasicAer.get_backend('qasm_simulator')\n",
    "shots = 1024\n",
    "\n",
    "# Get Results\n",
    "#\n",
    "results = execute(d_qc, backend=backend, shots=shots).result()\n",
    "\n",
    "# Result Form: Balanced: {'01': 1024} and Constant: {'00': 1024}\n",
    "answer = results.get_counts()\n",
    "\n",
    "\n",
    "# Print The Circuit \n",
    "d_qc.draw(output='mpl') "
   ]
  },
  {
   "cell_type": "markdown",
   "metadata": {},
   "source": [
    "### Determine the Hidden Function using only <font color=\"red\">one</font> call.\n",
    "- Balanced: Result: **(01)**\n",
    "- Constant: Result: **(00)**"
   ]
  },
  {
   "cell_type": "code",
   "execution_count": 72,
   "metadata": {
    "scrolled": true
   },
   "outputs": [
    {
     "name": "stdout",
     "output_type": "stream",
     "text": [
      "Measured Binary Value:  00\n",
      "Measured Decimal Value:  0 \n",
      "\n",
      "Conclusion: f is CONSTANT\n"
     ]
    }
   ],
   "source": [
    "quantum_determine_hidden_function_(answer)"
   ]
  },
  {
   "cell_type": "markdown",
   "metadata": {},
   "source": [
    "## <font color=\"red\">Exercise</font> :  Explore the Deutsch's Algorithm - <font color=\"blue\">QCEngine</font>\n",
    "- ### <font color=\"red\">Find the nature of the Oracle </font>\n",
    "\n",
    "<BR>\n",
    "\n",
    "### Deutsch <font color=\"red\">Balanced Oracle</font> Circuit (<font color=\"blue\">ONE</font>)\n",
    "\n",
    "![DeutschCircuit-QCEngine_B](img/DeutschCircuit-QCEngine_B.png \"\")\n",
    "\n",
    "\n",
    "<BR><BR>\n",
    "    \n",
    "### Deutsch <font color=\"red\">Constant Oracle</font> Circuit (<font color=\"blue\">ZERO</font>)\n",
    "\n",
    "![DeutschCircuit-QCEngine_B](img/DeutschCircuit-QCEngine_C.png \"\")\n",
    "\n",
    "\n",
    "<BR><BR>\n",
    "\n",
    "### Deutsch's Algorithm - QCEngine (Similar to previous circuits)\n",
    "- Cut-N-Paste to examine\n",
    "- Toggle between Constant and Balanced\n",
    "- Notice the measurement value (0,1)\n",
    "- **Point**: It only takes one pass through the circuit (not two)"
   ]
  },
  {
   "cell_type": "raw",
   "metadata": {},
   "source": [
    "// Deutsch's Algorithm - QCEngine (Similar to previous circuits)\n",
    "\n",
    "\n",
    "qc.reset(2);         // allocate 2 qubits qubits to the QPU\n",
    "qc.write(0);         // write the value zero to the circuit\n",
    "\n",
    "// qc.had(0x1);\n",
    "//qc.read();\n",
    "\n",
    "// Use Colors by Phase\n",
    "qc_options.color_by_phase=true\n",
    "\n",
    "// Construct The Input Deutsch Circuit\n",
    "//\n",
    "qc.label('Input');\n",
    "qc.nop();\n",
    "qc.not(0x2);\n",
    "\n",
    "qc.nop();\n",
    "qc.label();\n",
    "\n",
    "qc.nop();\n",
    "\n",
    "// Construct First Half of Deutsch Circuit\n",
    "//\n",
    "qc.label('1st 1/2 Circuit');\n",
    "qc.nop();\n",
    "qc.had(0x1);\n",
    "qc.had(0x2);\n",
    "qc.nop();\n",
    "qc.label();\n",
    "\n",
    "qc.nop();\n",
    "\n",
    "// Debug\n",
    "//qc.read()\n",
    "\n",
    "qc.label('Oracle');\n",
    "qc.nop();\n",
    "\n",
    "// Construct the Oracle\n",
    "// Set the Oracle to (b = balanced, c = continuous) - This is what you change.\n",
    "oracle = \"b\"\n",
    "\n",
    "// if balanced - construct this Oracle\n",
    "if (oracle == \"b\")\n",
    "    qc.cnot(0x2, 0x1);\n",
    "    \n",
    "// if constant - - construct this different Oracle    \n",
    "if (oracle == \"c\")\n",
    "    qc.not(0x2);\n",
    "\n",
    "qc.nop();\n",
    "qc.label();\n",
    "\n",
    "qc.nop();\n",
    "// Debug\n",
    "// qc.read()\n",
    "\n",
    "// Construct Second Half of Deutsch Circuit\n",
    "//\n",
    "qc.label('2nd 1/2 Circuit');\n",
    "qc.nop();\n",
    "qc.had(0x1);\n",
    "qc.had(0x2);\n",
    "qc.nop();\n",
    "qc.label();\n",
    "\n",
    "qc.nop();\n",
    "\n",
    "// Determine the Oracle (Constant, Balanced)\n",
    "//\n",
    "qc.label('Hidden FN');\n",
    "qc.nop();\n",
    "// Read Operation\n",
    "qc.read(0x1)\n",
    "qc.nop();\n",
    "qc.label();\n",
    "\n"
   ]
  },
  {
   "cell_type": "code",
   "execution_count": 73,
   "metadata": {},
   "outputs": [
    {
     "data": {
      "text/html": [
       "\n",
       "        <iframe\n",
       "            width=\"900\"\n",
       "            height=\"900\"\n",
       "            src=\"https://oreilly-qc.github.io?p=14-DJ\"\n",
       "            frameborder=\"0\"\n",
       "            allowfullscreen\n",
       "            \n",
       "        ></iframe>\n",
       "        "
      ],
      "text/plain": [
       "<IPython.lib.display.IFrame at 0x5f8bdc0>"
      ]
     },
     "execution_count": 73,
     "metadata": {},
     "output_type": "execute_result"
    }
   ],
   "source": [
    "from IPython.display import IFrame\n",
    "IFrame(src='https://oreilly-qc.github.io?p=14-DJ', width=900, height=900)"
   ]
  },
  {
   "cell_type": "markdown",
   "metadata": {},
   "source": [
    "# <font color=\"blue\">The Deutsch-Josza Algorithm</font>  \n",
    "- ### <font color=\"red\">Find the nature of the Oracle </font>\n",
    "\n",
    "<BR>\n",
    "    \n",
    "> ## The generalized (**<font color=\"red\">N</font>** Qubits) Case.\n",
    "- Things are slightly different"
   ]
  },
  {
   "cell_type": "markdown",
   "metadata": {},
   "source": [
    "![Deutsch-Joza-Banner](img/Deutsch-Joza-Banner.png \"\")\n",
    "\n",
    "<BR>\n",
    "\n",
    "![Deutsch-Joza-CallS](img/Deutsch-Jozsa-Calls.png \"\")"
   ]
  },
  {
   "cell_type": "markdown",
   "metadata": {},
   "source": [
    "## <font color=\"red\">Exercise</font> :  Deutsch-Jozsa Algorithm w/Oracle (<font color=\"blue\">CONSTANT</font>) function (w/<font color=\"blue\">QUIRK</font>)\n",
    "\n",
    "<BR>\n",
    "\n",
    "![Deutsch-Jozsa-Constant-Circuit-QUIRK](img/Deutsch-Jozsa-Constant-Circuit-QUIRK.png \"\")\n",
    "\n",
    "\n",
    "<BR>\n",
    "\n",
    "> **NOTE:**\n",
    "- Observe the **100% probability** of measuring the **ZERO Ket** **<font size=\"5\">|<font color=\"red\">0</font>></font>** in the below circuit\n",
    "- The phase kickback causes **perfect CONSTRUCTIVE interference**, which when run through H gates creates a 100% chance of measureing ZERO.\n",
    "- Measuring ZERO is the indicator of a **CONSTANT** Oracle Function.\n",
    "- Tinker w/the circuit to develop some intuition."
   ]
  },
  {
   "cell_type": "code",
   "execution_count": 74,
   "metadata": {},
   "outputs": [
    {
     "data": {
      "text/html": [
       "\n",
       "        <iframe\n",
       "            width=\"900\"\n",
       "            height=\"600\"\n",
       "            src=\"https://algassert.com/quirk#circuit={%22cols%22:[[1,1,1,%22X%22],[%22H%22,%22H%22,%22H%22,%22H%22],[%22%E2%80%A6%22,%22%E2%80%A6%22,%22%E2%80%A6%22],[1,1,1,%22X%22],[%22%E2%80%A6%22,%22%E2%80%A6%22,%22%E2%80%A6%22],[%22Amps3%22],[],[%22H%22,%22H%22,%22H%22],[%22Amps3%22]],%22gates%22:[{%22id%22:%22~rkp5%22,%22name%22:%22Bal%22,%22circuit%22:{%22cols%22:[[%22%E2%80%A2%22,1,1,%22X%22]]}},{%22id%22:%22~fju5%22,%22name%22:%22Con%22,%22circuit%22:{%22cols%22:[[1,1,1,%22X%22]]}}]}\"\n",
       "            frameborder=\"0\"\n",
       "            allowfullscreen\n",
       "            \n",
       "        ></iframe>\n",
       "        "
      ],
      "text/plain": [
       "<IPython.lib.display.IFrame at 0x37535598>"
      ]
     },
     "execution_count": 74,
     "metadata": {},
     "output_type": "execute_result"
    }
   ],
   "source": [
    "# QUIRK (Quantum Curcuit Simulator)\n",
    "from IPython.display import IFrame\n",
    "IFrame(src='https://algassert.com/quirk#circuit={%22cols%22:[[1,1,1,%22X%22],[%22H%22,%22H%22,%22H%22,%22H%22],[%22%E2%80%A6%22,%22%E2%80%A6%22,%22%E2%80%A6%22],[1,1,1,%22X%22],[%22%E2%80%A6%22,%22%E2%80%A6%22,%22%E2%80%A6%22],[%22Amps3%22],[],[%22H%22,%22H%22,%22H%22],[%22Amps3%22]],%22gates%22:[{%22id%22:%22~rkp5%22,%22name%22:%22Bal%22,%22circuit%22:{%22cols%22:[[%22%E2%80%A2%22,1,1,%22X%22]]}},{%22id%22:%22~fju5%22,%22name%22:%22Con%22,%22circuit%22:{%22cols%22:[[1,1,1,%22X%22]]}}]}', width=900, height=600)"
   ]
  },
  {
   "cell_type": "code",
   "execution_count": null,
   "metadata": {},
   "outputs": [],
   "source": []
  },
  {
   "cell_type": "markdown",
   "metadata": {},
   "source": [
    "## <font color=\"red\">Exercise</font> :  Deutsch-Jozsa Algorithm w/Oracle (<font color=\"blue\">BALANCED</font>) function (w/<font color=\"blue\">QUIRK</font>)\n",
    "<BR>\n",
    "\n",
    "![Deutsch-Jozsa-Balanced-Circuit-QUIRK](img/Deutsch-Jozsa-Balanced-Circuit-QUIRK.png \"\")\n",
    "\n",
    "- Obeserve the 0% probability of measuring **|0>** (anything Non-Zero) in the below circuit and tinker w/the circuit to develop some intuition.\n",
    "\n",
    "\n",
    "<BR>\n",
    "\n",
    "> **NOTE:**\n",
    "- Observe the **100% probability** of measuring the **ONE Ket** **<font size=\"5\">|<font color=\"red\">1</font>></font>** in the below circuit\n",
    "- The phase kick back creates perfect DESTRUCTIVE interference, run through the H Gate and you'll get something other than ZERO's.\n",
    "- Measuring NON-ZERO is the indicator of a BALANCED Oracle Function.\n",
    "- Tinker w/the circuit to develop some intuition."
   ]
  },
  {
   "cell_type": "code",
   "execution_count": 75,
   "metadata": {
    "scrolled": false
   },
   "outputs": [
    {
     "data": {
      "text/html": [
       "\n",
       "        <iframe\n",
       "            width=\"900\"\n",
       "            height=\"600\"\n",
       "            src=\"https://algassert.com/quirk#circuit={%22cols%22:[[1,1,1,%22X%22],[%22H%22,%22H%22,%22H%22,%22H%22],[%22%E2%80%A6%22,%22%E2%80%A6%22,%22%E2%80%A6%22],[%22%E2%80%A2%22,1,1,%22X%22],[%22%E2%80%A6%22,%22%E2%80%A6%22,%22%E2%80%A6%22],[%22Amps3%22],[],[%22H%22,%22H%22,%22H%22],[%22Amps3%22]],%22gates%22:[{%22id%22:%22~rkp5%22,%22name%22:%22Bal%22,%22circuit%22:{%22cols%22:[[%22%E2%80%A2%22,1,1,%22X%22]]}},{%22id%22:%22~fju5%22,%22name%22:%22Con%22,%22circuit%22:{%22cols%22:[[1,1,1,%22X%22]]}}]}\"\n",
       "            frameborder=\"0\"\n",
       "            allowfullscreen\n",
       "            \n",
       "        ></iframe>\n",
       "        "
      ],
      "text/plain": [
       "<IPython.lib.display.IFrame at 0x1728f868>"
      ]
     },
     "execution_count": 75,
     "metadata": {},
     "output_type": "execute_result"
    }
   ],
   "source": [
    "# QUIRK (Quantum Curcuit Simulator) \n",
    "from IPython.display import IFrame\n",
    "IFrame(src='https://algassert.com/quirk#circuit={%22cols%22:[[1,1,1,%22X%22],[%22H%22,%22H%22,%22H%22,%22H%22],[%22%E2%80%A6%22,%22%E2%80%A6%22,%22%E2%80%A6%22],[%22%E2%80%A2%22,1,1,%22X%22],[%22%E2%80%A6%22,%22%E2%80%A6%22,%22%E2%80%A6%22],[%22Amps3%22],[],[%22H%22,%22H%22,%22H%22],[%22Amps3%22]],%22gates%22:[{%22id%22:%22~rkp5%22,%22name%22:%22Bal%22,%22circuit%22:{%22cols%22:[[%22%E2%80%A2%22,1,1,%22X%22]]}},{%22id%22:%22~fju5%22,%22name%22:%22Con%22,%22circuit%22:{%22cols%22:[[1,1,1,%22X%22]]}}]}', width=900, height=600)"
   ]
  },
  {
   "cell_type": "markdown",
   "metadata": {},
   "source": [
    "## <font color=\"red\">Exercise</font> :  Deutsch-Jozsa Algorithm with <font color=\"blue\">Qiskit</font>\n",
    "- Toggle the Oracle between **\"b\"** and **\"c\"** - observe the behavior of the Algorithm.\n",
    "\n",
    "\n",
    "\n",
    "\n",
    "### Deutsch <font color=\"red\">Balanced Oracle</font> Circuit \n",
    "\n",
    "![DeutschCircuit-QCEngine_B](img/Deutsch-Jozsa_Qiskit_Circuit_B.png \"\")\n",
    "\n",
    "\n",
    "<BR><BR>\n",
    "    \n",
    "### Deutsch <font color=\"red\">Constant Oracle</font> Circuit \n",
    "\n",
    "![DeutschCircuit-QCEngine_C](img/Deutsch-Jozsa_Qiskit_Circuit_C.png \"\")\n"
   ]
  },
  {
   "cell_type": "markdown",
   "metadata": {},
   "source": [
    "### Helper Functions\n",
    "- Make things easier"
   ]
  },
  {
   "cell_type": "code",
   "execution_count": 76,
   "metadata": {},
   "outputs": [],
   "source": [
    "def quantum_determine_hidden_function_G(F):\n",
    "    \n",
    "    # Print out the Classical Register Value (Binary)\n",
    "    #\n",
    "    for k in F:\n",
    "        binary_number = ''.join(reversed(k))\n",
    "        print(\"Measurements -> Classical Register: \", binary_number)    \n",
    "    \n",
    "    # Print out the Decimal Number equivalent\n",
    "    #    \n",
    "    decimal_Number = 0\n",
    "\n",
    "    for key,val in F.items():\n",
    "        decimal_Number = sum([(int(x) << i) for i,x in enumerate(key)])\n",
    "        print('Decimal number:', decimal_Number)    \n",
    "      \n",
    "    print(\"\\n\")\n",
    "        \n",
    "    # Make the conclusion\n",
    "    #\n",
    "    if ( decimal_Number == 0 ):\n",
    "        print(\"Conclusion: f is CONSTANT\")\n",
    "    else:\n",
    "        print(\"Conclusion: f is BALANCED\")"
   ]
  },
  {
   "cell_type": "markdown",
   "metadata": {},
   "source": [
    "### Setup the Program\n",
    "- Change the Oracle (Balanced or Constant)\n",
    "- Observe the results"
   ]
  },
  {
   "cell_type": "code",
   "execution_count": 77,
   "metadata": {},
   "outputs": [
    {
     "data": {
      "text/plain": [
       "<qiskit.circuit.instructionset.InstructionSet at 0x7a00fe8>"
      ]
     },
     "execution_count": 77,
     "metadata": {},
     "output_type": "execute_result"
    }
   ],
   "source": [
    "# initialization\n",
    "%matplotlib inline\n",
    "%config InlineBackend.figure_format = 'svg' # Makes the images look nice\n",
    "import numpy as np\n",
    "\n",
    "# importing Qiskit\n",
    "from qiskit import IBMQ, BasicAer\n",
    "from qiskit.providers.ibmq import least_busy\n",
    "from qiskit import QuantumCircuit, execute\n",
    "\n",
    "# import basic plot tools\n",
    "from qiskit.visualization import plot_histogram   \n",
    "            \n",
    "\n",
    "# set the length of the n-bit string. \n",
    "n = 2\n",
    "\n",
    "    \n",
    "# Construct FIRST HALF of the Circuit\n",
    "#\n",
    "# n qubits for querying the oracle, and one qubit for storing the answer\n",
    "#\n",
    "djCircuit = QuantumCircuit(n+1, n)\n",
    "    \n",
    "\n",
    "# Since all qubits are initialized to |0>, \n",
    "# flip the second register qubit to the |1> state\n",
    "# \n",
    "djCircuit.x(n)\n",
    "djCircuit.barrier()     # Apply barrier\n",
    "djCircuit.h(range(n+1)) # Apply Hadamard gates to all qubits\n",
    "djCircuit.barrier()     # Apply barrier \n",
    "\n",
    "    \n",
    "# Construct the Oracle:\n",
    "# set the oracle, b for balanced, c for constant : (*** Toggle/Change this ***)\n",
    "#\n",
    "oracle = \"c\"\n",
    "    \n",
    "# if the oracle is balanced, set the hidden bitstring, b to decmal 3 (or 11 in binary)\n",
    "if oracle == \"b\":\n",
    "    # b = 3\n",
    "    b = np.random.randint(1,2**n)  # uncomment for a random value\n",
    "        \n",
    "\n",
    "# if the oracle is constant, set c = 0 or 1 randomly.\n",
    "if oracle == \"c\":\n",
    "    # c = 1 \n",
    "    c = np.random.randint(2) # uncomment for a random value\n",
    "        \n",
    "# Query the oracle\n",
    "if oracle == \"c\": # if the oracle is constant, apply the appropriate gate to the circuit\n",
    "    if c == 1:\n",
    "        djCircuit.x(n)      # NOT gate\n",
    "    else:\n",
    "        djCircuit.iden(n)   # ID gate\n",
    "else: \n",
    "    # otherwise, the oracle is balanced - construct a gate sequence that returns the inner product \n",
    "    # of the input with b (non-zero bitstring) \n",
    "    for i in range(n):\n",
    "        if (b & (1 << i)):\n",
    "            djCircuit.cx(i, n)\n",
    "                \n",
    "                \n",
    "# Construct SECOND HALF of the Circuit\n",
    "#\n",
    "djCircuit.barrier()  # Apply barrier\n",
    "djCircuit.h(range(n)) # Apply Hadamard gates to the first \"register\" after querying the oracle (q0, q1)\n",
    "djCircuit.measure(range(n), range(n)) # Measure the first register (the 2nd register gets unmeasured)\n",
    "\n",
    "\n",
    "# Debugging\n",
    "# djCircuit.draw(output='mpl')  "
   ]
  },
  {
   "cell_type": "markdown",
   "metadata": {},
   "source": [
    "### Run the program, fetch results\n",
    "- Notice the changes in the circuit"
   ]
  },
  {
   "cell_type": "code",
   "execution_count": 78,
   "metadata": {},
   "outputs": [
    {
     "data": {
      "image/svg+xml": "<?xml version=\"1.0\" encoding=\"utf-8\" standalone=\"no\"?>\n<!DOCTYPE svg PUBLIC \"-//W3C//DTD SVG 1.1//EN\"\n  \"http://www.w3.org/Graphics/SVG/1.1/DTD/svg11.dtd\">\n<svg xmlns:xlink=\"http://www.w3.org/1999/xlink\" width=\"488.84003pt\" height=\"214.384397pt\" viewBox=\"0 0 488.84003 214.384397\" xmlns=\"http://www.w3.org/2000/svg\" version=\"1.1\">\n <metadata>\n  <rdf:RDF xmlns:dc=\"http://purl.org/dc/elements/1.1/\" xmlns:cc=\"http://creativecommons.org/ns#\" xmlns:rdf=\"http://www.w3.org/1999/02/22-rdf-syntax-ns#\">\n   <cc:Work>\n    <dc:type rdf:resource=\"http://purl.org/dc/dcmitype/StillImage\"/>\n    <dc:date>2022-01-05T17:15:54.287133</dc:date>\n    <dc:format>image/svg+xml</dc:format>\n    <dc:creator>\n     <cc:Agent>\n      <dc:title>Matplotlib v3.5.1, https://matplotlib.org/</dc:title>\n     </cc:Agent>\n    </dc:creator>\n   </cc:Work>\n  </rdf:RDF>\n </metadata>\n <defs>\n  <style type=\"text/css\">*{stroke-linejoin: round; stroke-linecap: butt}</style>\n </defs>\n <g id=\"figure_1\">\n  <g id=\"patch_1\">\n   <path d=\"M 0 214.384397 \nL 488.84003 214.384397 \nL 488.84003 -0 \nL 0 -0 \nz\n\" style=\"fill: #ffffff\"/>\n  </g>\n  <g id=\"axes_1\">\n   <g id=\"patch_2\">\n    <path d=\"M 400.282741 169.573695 \nL 412.100001 169.573695 \nL 406.191371 178.095758 \nz\n\" clip-path=\"url(#pc04b002b6b)\" style=\"fill: #778899\"/>\n   </g>\n   <g id=\"patch_3\">\n    <path d=\"M 445.73374 169.573695 \nL 457.551 169.573695 \nL 451.64237 178.095758 \nz\n\" clip-path=\"url(#pc04b002b6b)\" style=\"fill: #778899\"/>\n   </g>\n   <g id=\"line2d_1\">\n    <path d=\"M 63.490835 43.5608 \nL 477.09493 43.5608 \n\" clip-path=\"url(#pc04b002b6b)\" style=\"fill: none; stroke: #000000; stroke-width: 2; stroke-linecap: square\"/>\n   </g>\n   <g id=\"line2d_2\">\n    <path d=\"M 63.490835 89.011799 \nL 477.09493 89.011799 \n\" clip-path=\"url(#pc04b002b6b)\" style=\"fill: none; stroke: #000000; stroke-width: 2; stroke-linecap: square\"/>\n   </g>\n   <g id=\"line2d_3\">\n    <path d=\"M 63.490835 134.462798 \nL 477.09493 134.462798 \n\" clip-path=\"url(#pc04b002b6b)\" style=\"fill: none; stroke: #000000; stroke-width: 2; stroke-linecap: square\"/>\n   </g>\n   <g id=\"line2d_4\">\n    <path d=\"M 63.490835 178.43664 \nL 477.09493 178.43664 \n\" clip-path=\"url(#pc04b002b6b)\" style=\"fill: none; stroke: #778899; stroke-width: 2; stroke-linecap: square\"/>\n   </g>\n   <g id=\"line2d_5\">\n    <path d=\"M 63.490835 181.390955 \nL 477.09493 181.390955 \n\" clip-path=\"url(#pc04b002b6b)\" style=\"fill: none; stroke: #778899; stroke-width: 2; stroke-linecap: square\"/>\n   </g>\n   <g id=\"line2d_6\">\n    <path d=\"M 72.581035 184.458898 \nL 77.126135 175.368698 \n\" clip-path=\"url(#pc04b002b6b)\" style=\"fill: none; stroke: #778899; stroke-width: 1.5; stroke-linecap: square\"/>\n   </g>\n   <g id=\"patch_4\">\n    <path d=\"M 124.62243 66.286299 \nL 142.348319 66.286299 \nL 142.348319 20.8353 \nL 124.62243 20.8353 \nz\n\" clip-path=\"url(#pc04b002b6b)\" style=\"fill: #bdbdbd; opacity: 0.6\"/>\n   </g>\n   <g id=\"patch_5\">\n    <path d=\"M 124.62243 111.737299 \nL 142.348319 111.737299 \nL 142.348319 66.286299 \nL 124.62243 66.286299 \nz\n\" clip-path=\"url(#pc04b002b6b)\" style=\"fill: #bdbdbd; opacity: 0.6\"/>\n   </g>\n   <g id=\"patch_6\">\n    <path d=\"M 124.62243 157.188298 \nL 142.348319 157.188298 \nL 142.348319 111.737299 \nL 124.62243 111.737299 \nz\n\" clip-path=\"url(#pc04b002b6b)\" style=\"fill: #bdbdbd; opacity: 0.6\"/>\n   </g>\n   <g id=\"patch_7\">\n    <path d=\"M 215.524428 66.286299 \nL 233.250318 66.286299 \nL 233.250318 20.8353 \nL 215.524428 20.8353 \nz\n\" clip-path=\"url(#pc04b002b6b)\" style=\"fill: #bdbdbd; opacity: 0.6\"/>\n   </g>\n   <g id=\"patch_8\">\n    <path d=\"M 215.524428 111.737299 \nL 233.250318 111.737299 \nL 233.250318 66.286299 \nL 215.524428 66.286299 \nz\n\" clip-path=\"url(#pc04b002b6b)\" style=\"fill: #bdbdbd; opacity: 0.6\"/>\n   </g>\n   <g id=\"patch_9\">\n    <path d=\"M 215.524428 157.188298 \nL 233.250318 157.188298 \nL 233.250318 111.737299 \nL 215.524428 111.737299 \nz\n\" clip-path=\"url(#pc04b002b6b)\" style=\"fill: #bdbdbd; opacity: 0.6\"/>\n   </g>\n   <g id=\"patch_10\">\n    <path d=\"M 306.426427 66.286299 \nL 324.152317 66.286299 \nL 324.152317 20.8353 \nL 306.426427 20.8353 \nz\n\" clip-path=\"url(#pc04b002b6b)\" style=\"fill: #bdbdbd; opacity: 0.6\"/>\n   </g>\n   <g id=\"patch_11\">\n    <path d=\"M 306.426427 111.737299 \nL 324.152317 111.737299 \nL 324.152317 66.286299 \nL 306.426427 66.286299 \nz\n\" clip-path=\"url(#pc04b002b6b)\" style=\"fill: #bdbdbd; opacity: 0.6\"/>\n   </g>\n   <g id=\"patch_12\">\n    <path d=\"M 306.426427 157.188298 \nL 324.152317 157.188298 \nL 324.152317 111.737299 \nL 306.426427 111.737299 \nz\n\" clip-path=\"url(#pc04b002b6b)\" style=\"fill: #bdbdbd; opacity: 0.6\"/>\n   </g>\n   <g id=\"line2d_7\">\n    <path d=\"M 407.668528 43.5608 \nL 407.668528 169.573695 \n\" clip-path=\"url(#pc04b002b6b)\" style=\"fill: none; stroke: #778899; stroke-width: 2; stroke-linecap: square\"/>\n   </g>\n   <g id=\"line2d_8\">\n    <path d=\"M 404.714213 43.5608 \nL 404.714213 169.573695 \n\" clip-path=\"url(#pc04b002b6b)\" style=\"fill: none; stroke: #778899; stroke-width: 2; stroke-linecap: square\"/>\n   </g>\n   <g id=\"line2d_9\">\n    <path d=\"M 453.119528 89.011799 \nL 453.119528 169.573695 \n\" clip-path=\"url(#pc04b002b6b)\" style=\"fill: none; stroke: #778899; stroke-width: 2; stroke-linecap: square\"/>\n   </g>\n   <g id=\"line2d_10\">\n    <path d=\"M 450.165213 89.011799 \nL 450.165213 169.573695 \n\" clip-path=\"url(#pc04b002b6b)\" style=\"fill: none; stroke: #778899; stroke-width: 2; stroke-linecap: square\"/>\n   </g>\n   <g id=\"patch_13\">\n    <path d=\"M 73.2628 149.234373 \nL 102.80595 149.234373 \nL 102.80595 119.691224 \nL 73.2628 119.691224 \nz\n\" clip-path=\"url(#pc04b002b6b)\" style=\"fill: #05bab6; stroke: #05bab6; stroke-width: 1.5; stroke-linejoin: miter\"/>\n   </g>\n   <g id=\"patch_14\">\n    <path d=\"M 164.164799 58.332374 \nL 193.707949 58.332374 \nL 193.707949 28.789225 \nL 164.164799 28.789225 \nz\n\" clip-path=\"url(#pc04b002b6b)\" style=\"fill: #6fa4ff; stroke: #6fa4ff; stroke-width: 1.5; stroke-linejoin: miter\"/>\n   </g>\n   <g id=\"patch_15\">\n    <path d=\"M 164.164799 103.783374 \nL 193.707949 103.783374 \nL 193.707949 74.240224 \nL 164.164799 74.240224 \nz\n\" clip-path=\"url(#pc04b002b6b)\" style=\"fill: #6fa4ff; stroke: #6fa4ff; stroke-width: 1.5; stroke-linejoin: miter\"/>\n   </g>\n   <g id=\"patch_16\">\n    <path d=\"M 164.164799 149.234373 \nL 193.707949 149.234373 \nL 193.707949 119.691224 \nL 164.164799 119.691224 \nz\n\" clip-path=\"url(#pc04b002b6b)\" style=\"fill: #6fa4ff; stroke: #6fa4ff; stroke-width: 1.5; stroke-linejoin: miter\"/>\n   </g>\n   <g id=\"patch_17\">\n    <path d=\"M 255.066798 149.234373 \nL 284.609948 149.234373 \nL 284.609948 119.691224 \nL 255.066798 119.691224 \nz\n\" clip-path=\"url(#pc04b002b6b)\" style=\"fill: #05bab6; stroke: #05bab6; stroke-width: 1.5; stroke-linejoin: miter\"/>\n   </g>\n   <g id=\"patch_18\">\n    <path d=\"M 345.968797 58.332374 \nL 375.511946 58.332374 \nL 375.511946 28.789225 \nL 345.968797 28.789225 \nz\n\" clip-path=\"url(#pc04b002b6b)\" style=\"fill: #6fa4ff; stroke: #6fa4ff; stroke-width: 1.5; stroke-linejoin: miter\"/>\n   </g>\n   <g id=\"patch_19\">\n    <path d=\"M 345.968797 103.783374 \nL 375.511946 103.783374 \nL 375.511946 74.240224 \nL 345.968797 74.240224 \nz\n\" clip-path=\"url(#pc04b002b6b)\" style=\"fill: #6fa4ff; stroke: #6fa4ff; stroke-width: 1.5; stroke-linejoin: miter\"/>\n   </g>\n   <g id=\"patch_20\">\n    <path d=\"M 391.419796 58.332374 \nL 420.962946 58.332374 \nL 420.962946 28.789225 \nL 391.419796 28.789225 \nz\n\" clip-path=\"url(#pc04b002b6b)\" style=\"stroke: #000000; stroke-width: 1.5; stroke-linejoin: miter\"/>\n   </g>\n   <g id=\"patch_21\">\n    <path d=\"M 416.531473 47.992272 \nC 416.531473 45.250958 415.441329 42.619117 413.502927 40.680715 \nC 411.564526 38.742314 408.932685 37.65217 406.191371 37.65217 \nC 403.450057 37.65217 400.818216 38.742314 398.879814 40.680715 \nC 396.941413 42.619117 395.851269 45.250958 395.851269 47.992272 \n\" clip-path=\"url(#pc04b002b6b)\" style=\"fill: none; stroke: #ffffff; stroke-width: 2; stroke-linejoin: miter\"/>\n   </g>\n   <g id=\"line2d_11\">\n    <path d=\"M 406.191371 47.992272 \nL 416.531473 37.65217 \n\" clip-path=\"url(#pc04b002b6b)\" style=\"fill: none; stroke: #ffffff; stroke-width: 2; stroke-linecap: square\"/>\n   </g>\n   <g id=\"patch_22\">\n    <path d=\"M 436.870796 103.783374 \nL 466.413945 103.783374 \nL 466.413945 74.240224 \nL 436.870796 74.240224 \nz\n\" clip-path=\"url(#pc04b002b6b)\" style=\"stroke: #000000; stroke-width: 1.5; stroke-linejoin: miter\"/>\n   </g>\n   <g id=\"patch_23\">\n    <path d=\"M 461.982473 93.443271 \nC 461.982473 90.701957 460.892328 88.070117 458.953927 86.131715 \nC 457.015525 84.193313 454.383684 83.103169 451.64237 83.103169 \nC 448.901056 83.103169 446.269215 84.193313 444.330814 86.131715 \nC 442.392412 88.070117 441.302268 90.701957 441.302268 93.443271 \n\" clip-path=\"url(#pc04b002b6b)\" style=\"fill: none; stroke: #ffffff; stroke-width: 2; stroke-linejoin: miter\"/>\n   </g>\n   <g id=\"line2d_12\">\n    <path d=\"M 451.64237 93.443271 \nL 461.982473 83.103169 \n\" clip-path=\"url(#pc04b002b6b)\" style=\"fill: none; stroke: #ffffff; stroke-width: 2; stroke-linecap: square\"/>\n   </g>\n   <g id=\"text_1\">\n    <g clip-path=\"url(#pc04b002b6b)\">\n     <!-- ${q}_{0}$ -->\n     <g transform=\"translate(36.363136 48.011776)scale(0.1625 -0.1625)\">\n      <defs>\n       <path id=\"DejaVuSans-Oblique-71\" d=\"M 2669 525 \nQ 2438 222 2123 65 \nQ 1809 -91 1428 -91 \nQ 897 -91 595 267 \nQ 294 625 294 1253 \nQ 294 1759 480 2231 \nQ 666 2703 1013 3078 \nQ 1238 3322 1530 3453 \nQ 1822 3584 2144 3584 \nQ 2531 3584 2781 3431 \nQ 3031 3278 3144 2969 \nL 3244 3494 \nL 3822 3494 \nL 2888 -1319 \nL 2309 -1319 \nL 2669 525 \nz\nM 891 1338 \nQ 891 875 1084 633 \nQ 1278 391 1644 391 \nQ 2188 391 2572 911 \nQ 2956 1431 2956 2175 \nQ 2956 2625 2757 2864 \nQ 2559 3103 2188 3103 \nQ 1916 3103 1684 2976 \nQ 1453 2850 1281 2606 \nQ 1100 2350 995 2006 \nQ 891 1663 891 1338 \nz\n\" transform=\"scale(0.015625)\"/>\n       <path id=\"DejaVuSans-30\" d=\"M 2034 4250 \nQ 1547 4250 1301 3770 \nQ 1056 3291 1056 2328 \nQ 1056 1369 1301 889 \nQ 1547 409 2034 409 \nQ 2525 409 2770 889 \nQ 3016 1369 3016 2328 \nQ 3016 3291 2770 3770 \nQ 2525 4250 2034 4250 \nz\nM 2034 4750 \nQ 2819 4750 3233 4129 \nQ 3647 3509 3647 2328 \nQ 3647 1150 3233 529 \nQ 2819 -91 2034 -91 \nQ 1250 -91 836 529 \nQ 422 1150 422 2328 \nQ 422 3509 836 4129 \nQ 1250 4750 2034 4750 \nz\n\" transform=\"scale(0.015625)\"/>\n      </defs>\n      <use xlink:href=\"#DejaVuSans-Oblique-71\"/>\n      <use xlink:href=\"#DejaVuSans-30\" transform=\"translate(63.476562 -16.40625)scale(0.7)\"/>\n     </g>\n    </g>\n   </g>\n   <g id=\"text_2\">\n    <g clip-path=\"url(#pc04b002b6b)\">\n     <!-- ${q}_{1}$ -->\n     <g transform=\"translate(36.363136 93.462775)scale(0.1625 -0.1625)\">\n      <defs>\n       <path id=\"DejaVuSans-31\" d=\"M 794 531 \nL 1825 531 \nL 1825 4091 \nL 703 3866 \nL 703 4441 \nL 1819 4666 \nL 2450 4666 \nL 2450 531 \nL 3481 531 \nL 3481 0 \nL 794 0 \nL 794 531 \nz\n\" transform=\"scale(0.015625)\"/>\n      </defs>\n      <use xlink:href=\"#DejaVuSans-Oblique-71\"/>\n      <use xlink:href=\"#DejaVuSans-31\" transform=\"translate(63.476562 -16.40625)scale(0.7)\"/>\n     </g>\n    </g>\n   </g>\n   <g id=\"text_3\">\n    <g clip-path=\"url(#pc04b002b6b)\">\n     <!-- ${q}_{2}$ -->\n     <g transform=\"translate(36.363136 138.913775)scale(0.1625 -0.1625)\">\n      <defs>\n       <path id=\"DejaVuSans-32\" d=\"M 1228 531 \nL 3431 531 \nL 3431 0 \nL 469 0 \nL 469 531 \nQ 828 903 1448 1529 \nQ 2069 2156 2228 2338 \nQ 2531 2678 2651 2914 \nQ 2772 3150 2772 3378 \nQ 2772 3750 2511 3984 \nQ 2250 4219 1831 4219 \nQ 1534 4219 1204 4116 \nQ 875 4013 500 3803 \nL 500 4441 \nQ 881 4594 1212 4672 \nQ 1544 4750 1819 4750 \nQ 2544 4750 2975 4387 \nQ 3406 4025 3406 3419 \nQ 3406 3131 3298 2873 \nQ 3191 2616 2906 2266 \nQ 2828 2175 2409 1742 \nQ 1991 1309 1228 531 \nz\n\" transform=\"scale(0.015625)\"/>\n      </defs>\n      <use xlink:href=\"#DejaVuSans-Oblique-71\"/>\n      <use xlink:href=\"#DejaVuSans-32\" transform=\"translate(63.476562 -16.40625)scale(0.7)\"/>\n     </g>\n    </g>\n   </g>\n   <g id=\"text_4\">\n    <g clip-path=\"url(#pc04b002b6b)\">\n     <!-- 2 -->\n     <g transform=\"translate(68.035935 173.205823)scale(0.104 -0.104)\">\n      <use xlink:href=\"#DejaVuSans-32\"/>\n     </g>\n    </g>\n   </g>\n   <g id=\"text_5\">\n    <g clip-path=\"url(#pc04b002b6b)\">\n     <!-- c -->\n     <g transform=\"translate(45.465675 184.397782)scale(0.1625 -0.1625)\">\n      <defs>\n       <path id=\"DejaVuSans-63\" d=\"M 3122 3366 \nL 3122 2828 \nQ 2878 2963 2633 3030 \nQ 2388 3097 2138 3097 \nQ 1578 3097 1268 2742 \nQ 959 2388 959 1747 \nQ 959 1106 1268 751 \nQ 1578 397 2138 397 \nQ 2388 397 2633 464 \nQ 2878 531 3122 666 \nL 3122 134 \nQ 2881 22 2623 -34 \nQ 2366 -91 2075 -91 \nQ 1284 -91 818 406 \nQ 353 903 353 1747 \nQ 353 2603 823 3093 \nQ 1294 3584 2113 3584 \nQ 2378 3584 2631 3529 \nQ 2884 3475 3122 3366 \nz\n\" transform=\"scale(0.015625)\"/>\n      </defs>\n      <use xlink:href=\"#DejaVuSans-63\"/>\n     </g>\n    </g>\n   </g>\n   <g id=\"text_6\">\n    <g clip-path=\"url(#pc04b002b6b)\">\n     <!-- X -->\n     <g transform=\"translate(83.581875 138.049986)scale(0.13 -0.13)\">\n      <defs>\n       <path id=\"DejaVuSans-58\" d=\"M 403 4666 \nL 1081 4666 \nL 2241 2931 \nL 3406 4666 \nL 4084 4666 \nL 2584 2425 \nL 4184 0 \nL 3506 0 \nL 2194 1984 \nL 872 0 \nL 191 0 \nL 1856 2491 \nL 403 4666 \nz\n\" transform=\"scale(0.015625)\"/>\n      </defs>\n      <use xlink:href=\"#DejaVuSans-58\"/>\n     </g>\n    </g>\n   </g>\n   <g id=\"line2d_13\">\n    <path d=\"M 133.485375 20.8353 \nL 133.485375 66.286299 \n\" clip-path=\"url(#pc04b002b6b)\" style=\"fill: none; stroke-dasharray: 3.7,1.6; stroke-dashoffset: 0; stroke: #000000\"/>\n   </g>\n   <g id=\"line2d_14\">\n    <path d=\"M 133.485375 66.286299 \nL 133.485375 111.737299 \n\" clip-path=\"url(#pc04b002b6b)\" style=\"fill: none; stroke-dasharray: 3.7,1.6; stroke-dashoffset: 0; stroke: #000000\"/>\n   </g>\n   <g id=\"line2d_15\">\n    <path d=\"M 133.485375 111.737299 \nL 133.485375 157.188298 \n\" clip-path=\"url(#pc04b002b6b)\" style=\"fill: none; stroke-dasharray: 3.7,1.6; stroke-dashoffset: 0; stroke: #000000\"/>\n   </g>\n   <g id=\"text_7\">\n    <g clip-path=\"url(#pc04b002b6b)\">\n     <!-- H -->\n     <g transform=\"translate(174.048171 47.147987)scale(0.13 -0.13)\">\n      <defs>\n       <path id=\"DejaVuSans-48\" d=\"M 628 4666 \nL 1259 4666 \nL 1259 2753 \nL 3553 2753 \nL 3553 4666 \nL 4184 4666 \nL 4184 0 \nL 3553 0 \nL 3553 2222 \nL 1259 2222 \nL 1259 0 \nL 628 0 \nL 628 4666 \nz\n\" transform=\"scale(0.015625)\"/>\n      </defs>\n      <use xlink:href=\"#DejaVuSans-48\"/>\n     </g>\n    </g>\n   </g>\n   <g id=\"text_8\">\n    <g clip-path=\"url(#pc04b002b6b)\">\n     <!-- H -->\n     <g transform=\"translate(174.048171 92.598986)scale(0.13 -0.13)\">\n      <use xlink:href=\"#DejaVuSans-48\"/>\n     </g>\n    </g>\n   </g>\n   <g id=\"text_9\">\n    <g clip-path=\"url(#pc04b002b6b)\">\n     <!-- H -->\n     <g transform=\"translate(174.048171 138.049986)scale(0.13 -0.13)\">\n      <use xlink:href=\"#DejaVuSans-48\"/>\n     </g>\n    </g>\n   </g>\n   <g id=\"line2d_16\">\n    <path d=\"M 224.387373 20.8353 \nL 224.387373 66.286299 \n\" clip-path=\"url(#pc04b002b6b)\" style=\"fill: none; stroke-dasharray: 3.7,1.6; stroke-dashoffset: 0; stroke: #000000\"/>\n   </g>\n   <g id=\"line2d_17\">\n    <path d=\"M 224.387373 66.286299 \nL 224.387373 111.737299 \n\" clip-path=\"url(#pc04b002b6b)\" style=\"fill: none; stroke-dasharray: 3.7,1.6; stroke-dashoffset: 0; stroke: #000000\"/>\n   </g>\n   <g id=\"line2d_18\">\n    <path d=\"M 224.387373 111.737299 \nL 224.387373 157.188298 \n\" clip-path=\"url(#pc04b002b6b)\" style=\"fill: none; stroke-dasharray: 3.7,1.6; stroke-dashoffset: 0; stroke: #000000\"/>\n   </g>\n   <g id=\"text_10\">\n    <g clip-path=\"url(#pc04b002b6b)\">\n     <!-- X -->\n     <g transform=\"translate(265.385873 138.049986)scale(0.13 -0.13)\">\n      <use xlink:href=\"#DejaVuSans-58\"/>\n     </g>\n    </g>\n   </g>\n   <g id=\"line2d_19\">\n    <path d=\"M 315.289372 20.8353 \nL 315.289372 66.286299 \n\" clip-path=\"url(#pc04b002b6b)\" style=\"fill: none; stroke-dasharray: 3.7,1.6; stroke-dashoffset: 0; stroke: #000000\"/>\n   </g>\n   <g id=\"line2d_20\">\n    <path d=\"M 315.289372 66.286299 \nL 315.289372 111.737299 \n\" clip-path=\"url(#pc04b002b6b)\" style=\"fill: none; stroke-dasharray: 3.7,1.6; stroke-dashoffset: 0; stroke: #000000\"/>\n   </g>\n   <g id=\"line2d_21\">\n    <path d=\"M 315.289372 111.737299 \nL 315.289372 157.188298 \n\" clip-path=\"url(#pc04b002b6b)\" style=\"fill: none; stroke-dasharray: 3.7,1.6; stroke-dashoffset: 0; stroke: #000000\"/>\n   </g>\n   <g id=\"text_11\">\n    <g clip-path=\"url(#pc04b002b6b)\">\n     <!-- H -->\n     <g transform=\"translate(355.852168 47.147987)scale(0.13 -0.13)\">\n      <use xlink:href=\"#DejaVuSans-48\"/>\n     </g>\n    </g>\n   </g>\n   <g id=\"text_12\">\n    <g clip-path=\"url(#pc04b002b6b)\">\n     <!-- H -->\n     <g transform=\"translate(355.852168 92.598986)scale(0.13 -0.13)\">\n      <use xlink:href=\"#DejaVuSans-48\"/>\n     </g>\n    </g>\n   </g>\n   <g id=\"text_13\">\n    <g clip-path=\"url(#pc04b002b6b)\">\n     <!-- 0 -->\n     <g transform=\"translate(417.554121 173.205823)scale(0.104 -0.104)\">\n      <use xlink:href=\"#DejaVuSans-30\"/>\n     </g>\n    </g>\n   </g>\n   <g id=\"text_14\">\n    <g clip-path=\"url(#pc04b002b6b)\">\n     <!-- 1 -->\n     <g transform=\"translate(463.00512 173.205823)scale(0.104 -0.104)\">\n      <use xlink:href=\"#DejaVuSans-31\"/>\n     </g>\n    </g>\n   </g>\n  </g>\n </g>\n <defs>\n  <clipPath id=\"pc04b002b6b\">\n   <rect x=\"7.2\" y=\"7.2\" width=\"474.44003\" height=\"199.984397\"/>\n  </clipPath>\n </defs>\n</svg>\n",
      "text/plain": [
       "<Figure size 628.397x264.88 with 1 Axes>"
      ]
     },
     "execution_count": 78,
     "metadata": {},
     "output_type": "execute_result"
    }
   ],
   "source": [
    "# Run the Program\n",
    "#\n",
    "# use local simulator\n",
    "backend = BasicAer.get_backend('qasm_simulator')\n",
    "shots = 1024\n",
    "\n",
    "# Get Results\n",
    "#\n",
    "results = execute(djCircuit, backend=backend, shots=shots).result()\n",
    "answer = results.get_counts()\n",
    "\n",
    "# Print The Circuit \n",
    "djCircuit.draw(output='mpl') "
   ]
  },
  {
   "cell_type": "markdown",
   "metadata": {},
   "source": [
    "### Determine the Hidden Function using only <font color=\"red\">one</font> call.\n",
    "- **<font color=\"red\">NOTE</font>:** \"00\" state means CONSTANT, anything else is BALANCED.\n",
    "- Balanced: Result: **(X > 00)**\n",
    "- Constant: Result: **(00)**"
   ]
  },
  {
   "cell_type": "code",
   "execution_count": 83,
   "metadata": {
    "scrolled": false
   },
   "outputs": [
    {
     "name": "stdout",
     "output_type": "stream",
     "text": [
      "Measurements -> Classical Register:  00\n",
      "Decimal number: 0\n",
      "\n",
      "\n",
      "Conclusion: f is CONSTANT\n"
     ]
    }
   ],
   "source": [
    "quantum_determine_hidden_function_G(answer)"
   ]
  },
  {
   "cell_type": "markdown",
   "metadata": {},
   "source": [
    "## <font color=\"red\">Exercise</font> :  Deutsch-Jozsa Algorithm with <font color=\"blue\">QCEngine</font>\n",
    "- Toggle the Oracle between **\"b\"** and **\"c\"** - observe the behavior of the Algorithm.\n",
    "- ### <font color=\"red\">Find the nature of the Oracle </font>\n",
    "\n",
    "\n",
    "<BR>\n",
    "\n",
    "### Deutsch-Jozsa <font color=\"red\">Balanced Oracle</font> Circuit \n",
    "\n",
    "![DJCircuit-QCEngine_B](img/DJCircuit-QCEngine_B.png \"\")\n",
    "\n",
    "<BR>\n",
    "\n",
    "### Deutsch-Jozsa <font color=\"red\">Balanced Oracle</font> Circle Plots \n",
    "![DJCircuit-QCEngine_B-CPs](img/DJCircuit-QCEngine_B-CPs.png \"\")\n"
   ]
  },
  {
   "cell_type": "markdown",
   "metadata": {},
   "source": [
    "    \n",
    "### Deutsch-Jozsa <font color=\"red\">Constant Oracle</font> Circuit \n",
    "\n",
    "![DJCircuit-QCEngine_C](img/DJCircuit-QCEngine_C.png \"\")\n",
    "\n",
    "<BR>\n",
    "    \n",
    "### Deutsch-Jozsa <font color=\"red\">Constant Oracle</font> Circle Plots \n",
    "![DJCircuit-QCEngine_C-CPs](img/DJCircuit-QCEngine_C-CPs.png \"\")"
   ]
  },
  {
   "cell_type": "markdown",
   "metadata": {},
   "source": [
    "###  <font color=\"blue\">QCEngine (Slightly Modified) Stock Deutsch-Jozsa Algorithm</font>\n",
    "\n",
    "- Cut-N-Paste to examine\n",
    "- Toggle between Constant and Balanced\n",
    "- Notice the Circle Plots behavior"
   ]
  },
  {
   "cell_type": "raw",
   "metadata": {},
   "source": [
    "// QCEngine (Slightly Modified) Stock Deutsch-Jozsa Algorithm\n",
    "\n",
    "\n",
    "// Use Colors by Phase\n",
    "qc_options.color_by_phase=true\n",
    "\n",
    "\n",
    "// The CONSTANT function\n",
    "function oracle_constant(reg,scratch) {\n",
    "    // Regardless of input x, oracle returns f(x) = 1\n",
    "    scratch.phase(180);\n",
    "}\n",
    "\n",
    "\n",
    "// The BALANCED function\n",
    "function oracle_balanced(reg, scratch) {\n",
    "    // Oracle returns f(x) = 1 if qubit 0x1 in register register is equal to 1.\n",
    "    scratch.cz(reg, 0x1);\n",
    "}\n",
    "\n",
    "\n",
    "// Create a Quantum Circuit with 4 Qubits\n",
    "qc.reset(4);\n",
    "\n",
    "// The register holds 3 qubits\n",
    "var reg = qint.new(3,'reg');\n",
    "\n",
    "//The scratch qubit is only one qubit and is initialized to ONE.\n",
    "var scratch = qint.new(1,'scratch');\n",
    "qc.write(0);\n",
    "\n",
    "\n",
    "// Prepare scratch qubit in |->\n",
    "// It's in superposition and then a phase shifted to the negative ket : |->\n",
    "// H gate and Z gate combination\n",
    "//\n",
    "qc.label('scratch in  |->');\n",
    "scratch.had();\n",
    "scratch.phase(180);\n",
    "qc.nop();\n",
    "qc.label('');\n",
    "qc.nop();\n",
    "\n",
    "\n",
    "qc.nop();\n",
    "\n",
    "\n",
    "//Prepare register in superposition of all values |00...0> to |11...1>\n",
    "//\n",
    "qc.label('all values');\n",
    "qc.nop();\n",
    "reg.had();      // Applies the H gate to entire register\n",
    "qc.nop();\n",
    "qc.label('');\n",
    "qc.nop();\n",
    "qc.nop();\n",
    "\n",
    "\n",
    "\n",
    "// Apply the Oracle Bf() function\n",
    "// Uncomment for which function to use (Constant, Balanced)\n",
    "//\n",
    "\n",
    "qc.label('Oracle Function');\n",
    "qc.nop();\n",
    "\n",
    "// oracle_constant(reg, scratch);\n",
    "oracle_balanced(reg, scratch);\n",
    "\n",
    "qc.nop();\n",
    "qc.label('');\n",
    "\n",
    "\n"
   ]
  },
  {
   "cell_type": "code",
   "execution_count": 84,
   "metadata": {},
   "outputs": [
    {
     "data": {
      "text/html": [
       "\n",
       "        <iframe\n",
       "            width=\"900\"\n",
       "            height=\"900\"\n",
       "            src=\"https://oreilly-qc.github.io?p=14-DJ\"\n",
       "            frameborder=\"0\"\n",
       "            allowfullscreen\n",
       "            \n",
       "        ></iframe>\n",
       "        "
      ],
      "text/plain": [
       "<IPython.lib.display.IFrame at 0x776b400>"
      ]
     },
     "execution_count": 84,
     "metadata": {},
     "output_type": "execute_result"
    }
   ],
   "source": [
    "from IPython.display import IFrame\n",
    "IFrame(src='https://oreilly-qc.github.io?p=14-DJ', width=900, height=900)"
   ]
  },
  {
   "cell_type": "code",
   "execution_count": null,
   "metadata": {},
   "outputs": [],
   "source": []
  },
  {
   "cell_type": "markdown",
   "metadata": {},
   "source": [
    "## <font color=\"red\">Developmental Detour</font>: -  <font color=\"blue\">CPhase (and its Representations)</font> [CZ Gate]\n",
    "- A **Two** Qubit Operation\n",
    "- Like CNOT in selective Control and Execution.\n",
    "\n",
    "    \n",
    "> ### Representations:    \n",
    "![cphase-representations](img/cphase-representations.png \"\")\n",
    "\n",
    "\n",
    "<BR>\n",
    "\n",
    "> ### Behavior:\n",
    "![CPhaseBehavior](img/CPhaseBehavior.png \"\")\n",
    "\n",
    "\n",
    "<BR>\n",
    "<img style=\"float: center;\" src=\"img/binary-table-0-7_excel.png\">\n",
    "\n",
    "\n",
    "> **NOTE**: \n",
    "- CPHASE **only acts** when it's control bit is **ONE** \n",
    "- AND .... It only affects target qubit states have a value of **ONE |1>**.\n",
    "- The CZ Gate is reversible.\n",
    "<BR>\n",
    "    \n",
    "    \n",
    "### <font color=\"blue\">Why this is important</font>:    \n",
    "    \n",
    "- ### CPhase employs a kind of **<font color=\"red\">\"entanglement-generating\"</font>** conditional logic that has a **<font color=\"blue\">\"symmetry\"</font>** between it's **inputs** such that it is **<font color=\"red\">irrelevant</font>** which qubit is considered the  **<font color=\"blue\">target</font>** and which qubit is considered the  **<font color=\"blue\">control</font>**. \n",
    "  \n",
    "  \n",
    "- #### This is vital to understanding the topic(s) of **Phase Kickback\"** and **Phase Logic**.\n",
    "  "
   ]
  },
  {
   "cell_type": "markdown",
   "metadata": {},
   "source": [
    "# QUIRK Implementation of C-Phase (Controlled-Z) Gate\n",
    "- Move the **Z-Rotation** Gate from **Qubit 1** to **Qubit 2** and see that the phase doesn't change"
   ]
  },
  {
   "cell_type": "code",
   "execution_count": 85,
   "metadata": {},
   "outputs": [
    {
     "data": {
      "text/html": [
       "\n",
       "        <iframe\n",
       "            width=\"900\"\n",
       "            height=\"600\"\n",
       "            src=\"https://algassert.com/quirk#circuit={%22cols%22:[[1,%22H%22],[%22%E2%80%A2%22,%22X%22],[1,%22H%22],[%22%E2%80%A6%22,%22%E2%80%A6%22],[{%22id%22:%22Rzft%22,%22arg%22:%22pi%22}]],%22gates%22:[{%22id%22:%22~st9n%22,%22name%22:%22C-Phase%22,%22circuit%22:{%22cols%22:[[1,%22H%22],[%22%E2%80%A2%22,%22X%22],[1,%22H%22],[%22%E2%80%A6%22,%22%E2%80%A6%22],[{%22id%22:%22Rzft%22,%22arg%22:%22pi%22}]]}}]}\"\n",
       "            frameborder=\"0\"\n",
       "            allowfullscreen\n",
       "            \n",
       "        ></iframe>\n",
       "        "
      ],
      "text/plain": [
       "<IPython.lib.display.IFrame at 0x776b6b8>"
      ]
     },
     "execution_count": 85,
     "metadata": {},
     "output_type": "execute_result"
    }
   ],
   "source": [
    "# QUIRK (Quantum Curcuit Simulator) \n",
    "from IPython.display import IFrame\n",
    "\n",
    "IFrame(src='https://algassert.com/quirk#circuit={%22cols%22:[[1,%22H%22],[%22%E2%80%A2%22,%22X%22],[1,%22H%22],[%22%E2%80%A6%22,%22%E2%80%A6%22],[{%22id%22:%22Rzft%22,%22arg%22:%22pi%22}]],%22gates%22:[{%22id%22:%22~st9n%22,%22name%22:%22C-Phase%22,%22circuit%22:{%22cols%22:[[1,%22H%22],[%22%E2%80%A2%22,%22X%22],[1,%22H%22],[%22%E2%80%A6%22,%22%E2%80%A6%22],[{%22id%22:%22Rzft%22,%22arg%22:%22pi%22}]]}}]}', width=900, height=600)"
   ]
  },
  {
   "cell_type": "code",
   "execution_count": 87,
   "metadata": {},
   "outputs": [
    {
     "data": {
      "text/html": [
       "\n",
       "        <iframe\n",
       "            width=\"900\"\n",
       "            height=\"600\"\n",
       "            src=\"https://algassert.com/quirk#circuit=%7B%22cols%22%3A%5B%5B1%2C%22H%22%5D%2C%5B%22%E2%80%A2%22%2C%22X%22%5D%2C%5B1%2C%22H%22%5D%2C%5B%22%E2%80%A6%22%2C%22%E2%80%A6%22%5D%2C%5B1%2C%7B%22id%22%3A%22Rzft%22%2C%22arg%22%3A%22pi%22%7D%5D%5D%2C%22gates%22%3A%5B%7B%22id%22%3A%22~st9n%22%2C%22name%22%3A%22C-Phase%22%2C%22circuit%22%3A%7B%22cols%22%3A%5B%5B1%2C%22H%22%5D%2C%5B%22%E2%80%A2%22%2C%22X%22%5D%2C%5B1%2C%22H%22%5D%2C%5B%22%E2%80%A6%22%2C%22%E2%80%A6%22%5D%2C%5B%7B%22id%22%3A%22Rzft%22%2C%22arg%22%3A%22pi%22%7D%5D%5D%7D%7D%5D%7D\"\n",
       "            frameborder=\"0\"\n",
       "            allowfullscreen\n",
       "            \n",
       "        ></iframe>\n",
       "        "
      ],
      "text/plain": [
       "<IPython.lib.display.IFrame at 0x776b508>"
      ]
     },
     "execution_count": 87,
     "metadata": {},
     "output_type": "execute_result"
    }
   ],
   "source": [
    "# QUIRK (Quantum Curcuit Simulator) \n",
    "from IPython.display import IFrame\n",
    "\n",
    "IFrame(src='https://algassert.com/quirk#circuit=%7B%22cols%22%3A%5B%5B1%2C%22H%22%5D%2C%5B%22%E2%80%A2%22%2C%22X%22%5D%2C%5B1%2C%22H%22%5D%2C%5B%22%E2%80%A6%22%2C%22%E2%80%A6%22%5D%2C%5B1%2C%7B%22id%22%3A%22Rzft%22%2C%22arg%22%3A%22pi%22%7D%5D%5D%2C%22gates%22%3A%5B%7B%22id%22%3A%22~st9n%22%2C%22name%22%3A%22C-Phase%22%2C%22circuit%22%3A%7B%22cols%22%3A%5B%5B1%2C%22H%22%5D%2C%5B%22%E2%80%A2%22%2C%22X%22%5D%2C%5B1%2C%22H%22%5D%2C%5B%22%E2%80%A6%22%2C%22%E2%80%A6%22%5D%2C%5B%7B%22id%22%3A%22Rzft%22%2C%22arg%22%3A%22pi%22%7D%5D%5D%7D%7D%5D%7D', width=900, height=600)"
   ]
  },
  {
   "cell_type": "markdown",
   "metadata": {},
   "source": [
    "### <font color=\"red\">Exercise</font> :  CPhase Implementation (<font color=\"blue\">QCEngine</font>)\n",
    "\n",
    "- Cut-N-Paste the below code into the QCEngine and run it.\n",
    "- Examine the output area to gain intuition about the two representations of the CPHASE gate by clicking in the output areas and observing the behavior of the circle plots (pay attention to the phase angles)\n",
    "- Note that the 90dg phase rotation on qubit 2 does nothing. **Why?**\n",
    "- However the 90dg phase rotation works in qubits (1, 3).\n",
    "\n"
   ]
  },
  {
   "cell_type": "raw",
   "metadata": {},
   "source": [
    "// ######## QCEngine Stock CPhase Gate\n",
    "\n",
    "qc.reset(3);\n",
    "\n",
    "// Create two registers\n",
    "var qreg = qint.new(3, 'Register 1');\n",
    "\n",
    "// Write the binary Number 5 (101) to the register\n",
    "qreg.write(5);\n",
    "\n",
    "// Create the CPhase Gate\n",
    "qc.label(\"Stock CPHASE\")\n",
    "qc.nop();\n",
    "// CPHASE Gate\n",
    "qreg.cphase(180, 1, 4);\n",
    "qc.nop();\n",
    "qc.label();\n",
    "\n",
    "// Apply a standard Phase Rotation to ANY arbitrary Qubit \n",
    "// Change the number to either 1, 2 or 4 to move the standard phase gate\n",
    "qc.nop();\n",
    "qreg.phase(90, 1);\n",
    "qc.nop();\n",
    "\n",
    "\n"
   ]
  },
  {
   "cell_type": "raw",
   "metadata": {},
   "source": [
    "// ######## QCEngine CPhase Alternatate Representation\n",
    "\n",
    "qc.reset(3);\n",
    "\n",
    "// Create two registers\n",
    "var qreg = qint.new(3, 'Register 1');\n",
    "\n",
    "// Write the binary Number 5 (101) to the register\n",
    "qreg.write(5);\n",
    "\n",
    "\n",
    "// Create the CPhase H-CNOT Representation\n",
    "qc.label(\"CPHASE H-CNOT Gate\")\n",
    "qc.nop();\n",
    "// CPhase H-CNOT Gate Representation\n",
    "qreg.had(4);\n",
    "qreg.cnot(4,1);\n",
    "qreg.had(4);\n",
    "qc.nop();\n",
    "qc.label();\n",
    "\n",
    "// Apply a standard Phase Rotation to ANY arbitrary Qubit \n",
    "// Change the number to either 1, 2 or 4 to move the standard phase gate\n",
    "qc.nop();\n",
    "qreg.phase(90, 1);\n",
    "qc.nop();"
   ]
  },
  {
   "cell_type": "code",
   "execution_count": null,
   "metadata": {},
   "outputs": [
    {
     "data": {
      "text/html": [
       "\n",
       "        <iframe\n",
       "            width=\"900\"\n",
       "            height=\"900\"\n",
       "            src=\"https://oreilly-qc.github.io?p=3-3\"\n",
       "            frameborder=\"0\"\n",
       "            allowfullscreen\n",
       "        ></iframe>\n",
       "        "
      ],
      "text/plain": [
       "<IPython.lib.display.IFrame at 0x1fe835dd668>"
      ]
     },
     "execution_count": 37,
     "metadata": {},
     "output_type": "execute_result"
    }
   ],
   "source": [
    "# QUIRK (Quantum Curcuit Simulator) \n",
    "from IPython.display import IFrame\n",
    "IFrame(src='https://oreilly-qc.github.io?p=3-3', width=900, height=900)"
   ]
  },
  {
   "cell_type": "markdown",
   "metadata": {},
   "source": [
    "# <font color=\"red\">Developmental Detour</font>: -  <font color=\"blue\">Phase Kickback</font>\n",
    "\n",
    "> - **Definition**: When the **phases** of one register are **conditioned** upon the **values** of another register, then any phase changes executed on the one register **also affects the other registers phases** and are **cumulative** - aka, they get **\"kicked back\"** to the other register and **\"add up\"**.\n",
    "\n",
    "    \n",
    "![phase-kickback-diagram](img/phase-kickback-diagram.png \"\")\n",
    "\n",
    "<BR>\n",
    "\n",
    "<img style=\"float: center;\" src=\"img/binary-table-0-7_excel.png\">"
   ]
  },
  {
   "cell_type": "markdown",
   "metadata": {},
   "source": [
    "### <font color=\"red\">Exercise</font> :  Phase Kickback Trick (<font color=\"blue\">QCEngine</font>)\n",
    "\n",
    "- Experiment with the Program Circuit Output Display (clicking on the various points on the circuit) to see how the circle diagrams behave (for intuitions sake).\n",
    "- The **Phase Degrees** should be aprox: (**0, +45, +90, +135**) for decimal numbers (**4, 5, 6 7**).\n",
    "\n",
    "\n",
    "<BR>\n",
    "    \n",
    "![phase-kickback-trick-circle-charts](img/phase-kickback-trick-circle-charts.png \"phase-kickback-trick-circle-charts\")    \n",
    "    \n",
    "The **Relative Phase** (aka. Rotation)\n",
    "- <font color=\"red\">**Important**</font>: Phase operations <font color=\"red\">**only**</font> rotate the circle associated with the **|1>** state and will have <font color=\"red\">**no**</font> effect on the **|0>** state.\n",
    "![circle-plot-phase-rotations](img/circle-plot-phase-rotation.png \"\")\n",
    "\n"
   ]
  },
  {
   "cell_type": "markdown",
   "metadata": {},
   "source": [
    "### Post <font color=\"red\">Superposition</font> of Reg #1:\n",
    "![cPhaseKickBack-0dg](img/PhaseKickBack-0dg.png \"\")"
   ]
  },
  {
   "cell_type": "markdown",
   "metadata": {},
   "source": [
    "### Post <font color=\"red\">45dg</font> Phase Rotation of Reg #2:\n",
    "![cPhaseKickBack-90dg](img/PhaseKickBack-90dg.png \"\")"
   ]
  },
  {
   "cell_type": "markdown",
   "metadata": {},
   "source": [
    "### Post <font color=\"red\">90dg</font> Phase Rotation of Reg #2:\n",
    "![cPhaseKickBack-135dg](img/PhaseKickBack-135dg.png \"\")"
   ]
  },
  {
   "cell_type": "markdown",
   "metadata": {},
   "source": [
    "### For sake of contrast, perform simple 45dg phase rotations on qubit 3"
   ]
  },
  {
   "cell_type": "raw",
   "metadata": {},
   "source": [
    "// Simple 45dg phase rotations on qubit 3\n",
    "\n",
    "qc.reset(3);\n",
    "// Create two registers\n",
    "var reg1 = qint.new(2, 'Register 1');\n",
    "var reg2 = qint.new(1, 'Register 2');\n",
    "\n",
    "// Initialize the registers\n",
    "reg1.write(0);\n",
    "reg2.write(1);\n",
    "\n",
    "// Uncomment to Experiment w/Superposition\n",
    "// Entire Register Impacted\n",
    "// reg1.had();\n",
    "\n",
    "//  Standard Phase (Z) Rotations\n",
    "qc.label(\"3 x 45dg phase = 135dg total\")\n",
    "qc.nop();\n",
    "\n",
    "// Execute 3 45dg phase rotations for 135dg total on qubit 3 (Binary 4)\n",
    "qc.phase(45, 0x4);\n",
    "qc.phase(45, 0x4);\n",
    "qc.phase(45, 0x4);\n",
    "qc.nop();\n",
    "qc.label();\n"
   ]
  },
  {
   "cell_type": "markdown",
   "metadata": {},
   "source": [
    "### Enhanced Stock Phase Kickback Example\n",
    "- Note the progression from 0=>45=>90=>135 Degrees"
   ]
  },
  {
   "cell_type": "raw",
   "metadata": {},
   "source": [
    "// Enhanced Stock Phase Kickback Example\n",
    "\n",
    "qc.reset(3);\n",
    "// Create two registers\n",
    "var reg1 = qint.new(2, 'Register 1');\n",
    "var reg2 = qint.new(1, 'Register 2');\n",
    "reg1.write(0);\n",
    "reg2.write(1);\n",
    "\n",
    "qc.label(\"Phase Kickback\")\n",
    "qc.nop();\n",
    "// Place the first register in superposition\n",
    "reg1.had();\n",
    "qc.nop();\n",
    "\n",
    "// Perform phase rotations on second register,\n",
    "//conditioned on qubits from the first\n",
    "\n",
    "// 45dg Phase Rotation : 4x1\n",
    "qc.phase(45, 0x4, 0x1);\n",
    "qc.nop();\n",
    "\n",
    "// 90dg Phase Rotation: 4x2\n",
    "qc.phase(90, 0x4, 0x2);\n",
    "qc.nop();\n",
    "\n",
    "qc.label();"
   ]
  },
  {
   "cell_type": "code",
   "execution_count": null,
   "metadata": {
    "scrolled": false
   },
   "outputs": [
    {
     "data": {
      "text/html": [
       "\n",
       "        <iframe\n",
       "            width=\"1200\"\n",
       "            height=\"600\"\n",
       "            src=\"https://oreilly-qc.github.io?p=3-3\"\n",
       "            frameborder=\"0\"\n",
       "            allowfullscreen\n",
       "        ></iframe>\n",
       "        "
      ],
      "text/plain": [
       "<IPython.lib.display.IFrame at 0x24f72cd1b38>"
      ]
     },
     "execution_count": 1,
     "metadata": {},
     "output_type": "execute_result"
    }
   ],
   "source": [
    "# QCEngine\n",
    "from IPython.display import IFrame\n",
    "IFrame(src='https://oreilly-qc.github.io?p=3-3', width=1200, height=600)"
   ]
  },
  {
   "cell_type": "markdown",
   "metadata": {},
   "source": [
    "## <font color=\"red\">Exercise</font> :  Phase Kickback Trick (<font color=\"blue\">QUIRK</font>)\n",
    "- Experiment with the QUIRK Implementation to see how the phase circle diagrams behave (for intuitions sake).\n",
    "- The **Phase Degrees** should be aprox: (**0, +45, +90, +135**) for decimal numbers (**4, 5, 6 7**).\n",
    "- **Note** the changes in the Phase Formula for QUIRK vs QCEngine (Roughly 2X).\n",
    "\n",
    "<BR>\n",
    "    \n",
    "![phase-kickback-trick-QUIRK](img/phase-kickback-trick-QUIRK2.png \"\")\n",
    "\n",
    "<BR>\n",
    "    \n",
    "\n",
    "> ### REFERENCE: QUIRK C-Phases:\n",
    "![QUIRK-C-Phases](img/QUIRK-C-Phases1.png \"\")\n"
   ]
  },
  {
   "cell_type": "markdown",
   "metadata": {},
   "source": [
    "![cPhaseKickBack-135dg](img/PhaseKickBack-135dg.png \"\")"
   ]
  },
  {
   "cell_type": "markdown",
   "metadata": {},
   "source": [
    "### Recreate the circuit with QUIRK\n",
    "- Any Intuition around the Phase Rotations of QUIRK?"
   ]
  },
  {
   "cell_type": "code",
   "execution_count": null,
   "metadata": {
    "scrolled": false
   },
   "outputs": [
    {
     "data": {
      "text/html": [
       "\n",
       "        <iframe\n",
       "            width=\"900\"\n",
       "            height=\"600\"\n",
       "            src=\"https://algassert.com/quirk#circuit={%22cols%22:[[%22%E2%80%A6%22,1,%22X%22],[%22H%22,%22H%22],[%22%E2%80%A2%22,1,{%22id%22:%22Rzft%22,%22arg%22:%22pi/2%22}],[1,%22%E2%80%A2%22,{%22id%22:%22Rzft%22,%22arg%22:%22pi%22}],[%22Amps3%22]]}\"\n",
       "            frameborder=\"0\"\n",
       "            allowfullscreen\n",
       "        ></iframe>\n",
       "        "
      ],
      "text/plain": [
       "<IPython.lib.display.IFrame at 0x1fe835ddc50>"
      ]
     },
     "execution_count": 39,
     "metadata": {},
     "output_type": "execute_result"
    }
   ],
   "source": [
    "# QUIRK (Quantum Curcuit Simulator) \n",
    "from IPython.display import IFrame\n",
    "IFrame(src='https://algassert.com/quirk#circuit={%22cols%22:[[%22%E2%80%A6%22,1,%22X%22],[%22H%22,%22H%22],[%22%E2%80%A2%22,1,{%22id%22:%22Rzft%22,%22arg%22:%22pi/2%22}],[1,%22%E2%80%A2%22,{%22id%22:%22Rzft%22,%22arg%22:%22pi%22}],[%22Amps3%22]]}', width=900, height=600)"
   ]
  },
  {
   "cell_type": "code",
   "execution_count": null,
   "metadata": {},
   "outputs": [],
   "source": []
  },
  {
   "cell_type": "markdown",
   "metadata": {},
   "source": [
    "## <font color=\"red\">Developmental Detour</font> : -  <font color=\"blue\">Phase Logic</font>\n",
    "\n",
    "### <font color=\"blue\">Why this is important</font>: \n",
    "- #### *Phase Logic* undergirds many sophisticated (and powerful) manipulations used in the construction of Quantum Algorithms.\n",
    "- Phase Logic **<font color=\"red\">encodes</font>** information into relative phases by **writing the logical value of the qubit into its phases**.\n",
    "- NOTE: Phase Logic **requires** *magnitude-value* inputs and outputs **phases**.\n",
    "\n",
    "> - **<font color=\"blue\">Definition</font>:**: Phase Logic implements a given logic operation by **flipping the relative phases** of *values* in a register for which the *operation* would return a **ONE** value.\n",
    "\n",
    "\n",
    "![PhaseLogic-Explanation](img/PhaseLogic-Explanation.png \"\")\n",
    "\n",
    "\n",
    "<BR>\n",
    "\n",
    "\n",
    "![tt-or](img/tt-or.png \"\")\n",
    "\n",
    "\n",
    "### <font color=\"blue\">Phase Logic OperatorsFor Clarity Sake</font>\n",
    "\n",
    "![phase-logic-tips](img/phase-logic-tips.png \"\")\n",
    "    \n",
    "\n",
    "<BR>\n",
    "    \n",
    "### <font color=\"blue\">Phase Logic Operators</font>\n",
    "    \n",
    "![phase-logic-gate-results](img/phase-logic-gate-results.png \"\")\n",
    "\n",
    "<BR>\n",
    "\n",
    "### <font color=\"blue\">Phase Logic Circuit Gates</font>\n",
    "![phase-logic-gates](img/phase-logic-gates.png \"\")\n",
    "    \n",
    "\n",
    "\n"
   ]
  },
  {
   "cell_type": "markdown",
   "metadata": {},
   "source": [
    "### <font color=\"blue\">Phase Logic is different than Quantum Digital Logic</font>\n",
    "\n",
    "![digital-logic-gates-cnots](img/digital-logic-gates-cnots.png \"\")\n",
    "\n",
    "<BR>\n",
    "\n",
    "### <font color=\"blue\">For Reference: Digital Logic Truth Tables</font>\n",
    "\n",
    "|Gate|Gate|\n",
    "|----|----|\n",
    "| ![tt-not](img/tt-not.png \"\") | ![tt-nxor](img/tt-xor.png \"\") |\n",
    "| ![tt-and](img/tt-and.png \"\") | ![tt-or](img/tt-or.png \"\") |\n",
    "| ![tt-nand](img/tt-nand.png \"\") | ![tt-nor](img/tt-nor.png \"\") |\n"
   ]
  },
  {
   "cell_type": "markdown",
   "metadata": {},
   "source": [
    "### <font color=\"red\">Exercise</font> :  Phase Logic (<font color=\"blue\">QCEngine</font>)\n",
    "\n",
    "- Experiment with the QCEngine Implementation to see how the various phase logic gates behave (for intuitions sake).\n",
    "- **Cut and paste** the **six** unique Phase Logic code implementations into the QCEngine and run them to observe how the phase manipulations behave - compare them to the chart above for verification purposes."
   ]
  },
  {
   "cell_type": "markdown",
   "metadata": {},
   "source": [
    "### Phase <font color=\"red\">NOT</font> Gate"
   ]
  },
  {
   "cell_type": "raw",
   "metadata": {},
   "source": [
    "// The Phase-NOT-Gate\n",
    "\n",
    "// Colorize Phase Shifts \n",
    "qc_options.color_by_phase=true\n",
    "\n",
    "// Setup:\n",
    "//\n",
    "var num_qubits = 1;\n",
    "qc.reset(num_qubits);\n",
    "var a = qint.new(1, 'a');\n",
    "a.write(0);\n",
    "\n",
    "// Set up Superposition\n",
    "//\n",
    "qc.label('Superposition');\n",
    "qc.nop();\n",
    "a.had();\n",
    "qc.nop();\n",
    "qc.label();\n",
    "\n",
    "\n",
    "qc.nop();\n",
    "\n",
    "// Create the Phase NOT Gate\n",
    "//\n",
    "qc.label('Phase NOT');\n",
    "qc.nop();\n",
    "a.not();\n",
    "a.phase(180);\n",
    "a.not();\n",
    "qc.nop();"
   ]
  },
  {
   "cell_type": "markdown",
   "metadata": {},
   "source": [
    "### Phase <font color=\"red\">OR</font> Gate"
   ]
  },
  {
   "cell_type": "raw",
   "metadata": {},
   "source": [
    "// The Phase-OR-Gate\n",
    "\n",
    "// Colorize Phase Shifts \n",
    "qc_options.color_by_phase=true\n",
    "\n",
    "// Setup:\n",
    "//\n",
    "var num_qubits = 2;\n",
    "qc.reset(num_qubits);\n",
    "var a = qint.new(1, 'a');\n",
    "var b = qint.new(1, 'b');\n",
    "\n",
    "a.write(0);\n",
    "b.write(0);\n",
    "\n",
    "// Set up Superposition\n",
    "//\n",
    "qc.label('Superposition');\n",
    "qc.nop();\n",
    "a.had();\n",
    "b.had();\n",
    "qc.nop();\n",
    "qc.label();\n",
    "\n",
    "qc.nop();\n",
    "\n",
    "// Create the Phase OR Gate\n",
    "//\n",
    "qc.label('Phase OR');\n",
    "qc.nop();\n",
    "a.phase(180);\n",
    "\n",
    "// Same gate effectively\n",
    "//a.cz(b);\n",
    "qc.cphase(180);\n",
    "\n",
    "b.phase(180);\n",
    "qc.nop();\n",
    "qc.label();\n"
   ]
  },
  {
   "cell_type": "markdown",
   "metadata": {},
   "source": [
    "### Phase <font color=\"red\">NOR</font> Gate"
   ]
  },
  {
   "cell_type": "raw",
   "metadata": {},
   "source": [
    "// The Phase-NOR-Gate\n",
    "\n",
    "// Colorize Phase Shifts \n",
    "qc_options.color_by_phase=true\n",
    "\n",
    "// Setup:\n",
    "//\n",
    "var num_qubits = 2;\n",
    "qc.reset(num_qubits);\n",
    "var a = qint.new(1, 'a');\n",
    "var b = qint.new(1, 'b');\n",
    "\n",
    "a.write(0);\n",
    "b.write(0);\n",
    "\n",
    "// Set up Superposition\n",
    "//\n",
    "qc.label('Superposition');\n",
    "qc.nop();\n",
    "a.had();\n",
    "b.had();\n",
    "qc.nop();\n",
    "qc.label();\n",
    "\n",
    "qc.nop();\n",
    "\n",
    "// Create the Phase NOR Gate\n",
    "//\n",
    "qc.label('Phase NOR');\n",
    "qc.nop();\n",
    "a.not();\n",
    "b.not();\n",
    "\n",
    "// Same gate effectively\n",
    "//a.cz(b);\n",
    "qc.cphase(180);\n",
    "\n",
    "a.not();\n",
    "b.not();\n",
    "qc.nop();\n",
    "qc.label();\n"
   ]
  },
  {
   "cell_type": "markdown",
   "metadata": {},
   "source": [
    "### Phase <font color=\"red\">AND</font> Gate"
   ]
  },
  {
   "cell_type": "raw",
   "metadata": {},
   "source": [
    "// The Phase-AND-Gate\n",
    "\n",
    "// Colorize Phase Shifts \n",
    "qc_options.color_by_phase=true\n",
    "\n",
    "// Setup:\n",
    "//\n",
    "var num_qubits = 2;\n",
    "qc.reset(num_qubits);\n",
    "var a = qint.new(1, 'a');\n",
    "var b = qint.new(1, 'b');\n",
    "\n",
    "a.write(0);\n",
    "b.write(0);\n",
    "\n",
    "// Set up Superposition\n",
    "//\n",
    "qc.label('Superposition');\n",
    "qc.nop();\n",
    "a.had();\n",
    "b.had();\n",
    "qc.nop();\n",
    "qc.label();\n",
    "\n",
    "qc.nop();\n",
    "\n",
    "// Create the Phase AND Gate\n",
    "//\n",
    "qc.label('Phase AND');\n",
    "qc.nop();\n",
    "\n",
    "// Same gates effectively\n",
    "//a.cz(b);\n",
    "qc.cphase(180);\n",
    "\n",
    "qc.nop();\n",
    "qc.label();\n"
   ]
  },
  {
   "cell_type": "markdown",
   "metadata": {},
   "source": [
    "### Phase <font color=\"red\">NAND</font> Gate"
   ]
  },
  {
   "cell_type": "raw",
   "metadata": {},
   "source": [
    "// The Phase-NAND-Gate\n",
    "\n",
    "// Colorize Phase Shifts \n",
    "qc_options.color_by_phase=true\n",
    "\n",
    "// Setup:\n",
    "//\n",
    "var num_qubits = 2;\n",
    "qc.reset(num_qubits);\n",
    "var a = qint.new(1, 'a');\n",
    "var b = qint.new(1, 'b');\n",
    "\n",
    "a.write(0);\n",
    "b.write(0);\n",
    "\n",
    "// Set up Superposition\n",
    "//\n",
    "qc.label('Superposition');\n",
    "qc.nop();\n",
    "a.had();\n",
    "b.had();\n",
    "qc.nop();\n",
    "qc.label();\n",
    "\n",
    "qc.nop();\n",
    "\n",
    "// Create the Phase NAND Gate\n",
    "//\n",
    "qc.label('Phase NAND');\n",
    "qc.nop();\n",
    "a.not();\n",
    "b.not();\n",
    "a.phase(180);\n",
    "\n",
    "// Same gate effectively\n",
    "//a.cz(b);\n",
    "qc.cphase(180);\n",
    "\n",
    "b.phase(180);\n",
    "a.not();\n",
    "b.not();\n",
    "qc.nop();\n",
    "qc.label();\n"
   ]
  },
  {
   "cell_type": "markdown",
   "metadata": {},
   "source": [
    "### Phase <font color=\"red\">XOR</font> Gate"
   ]
  },
  {
   "cell_type": "raw",
   "metadata": {},
   "source": [
    "// The Phase-XOR-Gate\n",
    "\n",
    "// Colorize Phase Shifts \n",
    "qc_options.color_by_phase=true\n",
    "\n",
    "// Setup:\n",
    "//\n",
    "var num_qubits = 3;\n",
    "qc.reset(num_qubits);\n",
    "var a = qint.new(1, 'a');\n",
    "var b = qint.new(1, 'b');\n",
    "var c = qint.new(1, 'c');\n",
    "\n",
    "a.write(0);\n",
    "b.write(0);\n",
    "c.write(0);\n",
    "\n",
    "// Set up Superposition\n",
    "//\n",
    "qc.label('Superposition');\n",
    "qc.nop();\n",
    "a.had();\n",
    "b.had();\n",
    "// c.had();\n",
    "qc.nop();\n",
    "qc.label();\n",
    "\n",
    "qc.nop();\n",
    "\n",
    "// Pre-Processing\n",
    "qc.label('Pre-Proc');\n",
    "qc.nop();\n",
    "c.not();\n",
    "c.had();\n",
    "qc.nop();\n",
    "qc.label();\n",
    "\n",
    "qc.nop();\n",
    "\n",
    "// Create the Phase XOR Gate\n",
    "//\n",
    "qc.label('Phase XOR');\n",
    "qc.nop();\n",
    "c.cnot(a)\n",
    "c.cnot(b)\n",
    "qc.nop();\n",
    "qc.label();\n",
    "\n",
    "qc.nop();\n",
    "\n",
    "// Post-Processing\n",
    "qc.label('Post-Proc');\n",
    "qc.nop();\n",
    "c.had();\n",
    "c.not();\n",
    "qc.nop();\n",
    "qc.label();\n",
    "\n"
   ]
  },
  {
   "cell_type": "markdown",
   "metadata": {},
   "source": [
    "> ### Reference: Phase Logic Gates and their results\n",
    "\n",
    "\n",
    "<BR>\n",
    "    \n",
    "![phase-logic-gates](img/phase-logic-gates.png \"phase-logic-gates\")\n",
    "    \n",
    "\n",
    "<BR>\n",
    "    \n",
    "![phase-logic-gate-results](img/phase-logic-gate-results.png \"phase-logic-gate-results\")"
   ]
  },
  {
   "cell_type": "code",
   "execution_count": null,
   "metadata": {
    "scrolled": false
   },
   "outputs": [
    {
     "data": {
      "text/html": [
       "\n",
       "        <iframe\n",
       "            width=\"900\"\n",
       "            height=\"600\"\n",
       "            src=\"https://oreilly-qc.github.io?p=10-1\"\n",
       "            frameborder=\"0\"\n",
       "            allowfullscreen\n",
       "        ></iframe>\n",
       "        "
      ],
      "text/plain": [
       "<IPython.lib.display.IFrame at 0x1fe835ddcf8>"
      ]
     },
     "execution_count": 40,
     "metadata": {},
     "output_type": "execute_result"
    }
   ],
   "source": [
    "# QUIRK (Quantum Curcuit Simulator) \n",
    "from IPython.display import IFrame\n",
    "IFrame(src='https://oreilly-qc.github.io?p=10-1', width=900, height=600)"
   ]
  },
  {
   "cell_type": "markdown",
   "metadata": {},
   "source": [
    "# <font color=\"red\">Exercise</font> - Phase Logic: <font color=\"blue\"> Quirk</font>\n",
    "\n",
    "> Use the **QUIRK Quantum Gate Framework** to experiment with and gain intuition about **Phase Logic** Implementations - check their behavior against the QCEngine equivalent.\n",
    "- For each custom phase logic gate below, instantiate it on the curcuit and alter the inputs in a binary counting method from 0 to its limit of 3 (00 - 11) , them observe the phase behavior of the circuit's phase for each binary value that should output a (1) given the inputs.\n",
    "- **For Example**: the curcuit is seeded with the PHASE-NOT gate with an initialization of ZERO: to gain intuition, move the gate into and out of the citcuit and notice the behavior of the phase (180dg Rotation) of the decimal ZERO Amplitude.\n",
    "- What happens when the inputs are something other than ZERO or ONE?\n",
    "\n",
    "- **<font color=\"red\">NOTE</font>**: You'll find **seven** pre-fabricated phase logic gates in the **Custom Gates** section at the bottom right of **QUIRK**. Hovering over them will provide additional information.\n",
    "\n",
    "<BR>\n",
    "    \n",
    "![](img/Quirk_Custom_PhaseGates.png \"\")\n",
    "\n",
    "\n",
    "> ### Reference: Phase Logic Gates and their results\n",
    "\n",
    "\n",
    "<BR>\n",
    "    \n",
    "![phase-logic-gates](img/phase-logic-gates.png \"phase-logic-gates\")\n",
    "    \n",
    "\n",
    "<BR>\n",
    "    \n",
    "![phase-logic-gate-results](img/phase-logic-gate-results.png \"phase-logic-gate-results\")\n"
   ]
  },
  {
   "cell_type": "code",
   "execution_count": null,
   "metadata": {},
   "outputs": [
    {
     "data": {
      "text/html": [
       "\n",
       "        <iframe\n",
       "            width=\"900\"\n",
       "            height=\"600\"\n",
       "            src=\"https://algassert.com/quirk#circuit={%22cols%22:[[%22~t7cc%22]],%22gates%22:[{%22id%22:%22~t7cc%22,%22name%22:%22PHASE-NOT%22,%22circuit%22:{%22cols%22:[[%22X%22],[%22Z%22],[%22X%22]]}},{%22id%22:%22~97gj%22,%22name%22:%22CPHASE(CZ)%22,%22circuit%22:{%22cols%22:[[1,%22H%22],[%22%E2%80%A2%22,%22X%22],[1,%22H%22]]}},{%22id%22:%22~kld%22,%22name%22:%22PHASE-OR%22,%22circuit%22:{%22cols%22:[[%22Z%22],[%22~97gj%22],[1,%22Z%22]]}},{%22id%22:%22~c366%22,%22name%22:%22PHASE-AND%22,%22circuit%22:{%22cols%22:[[1,%22H%22],[%22%E2%80%A2%22,%22X%22],[1,%22H%22]]}},{%22id%22:%22~beu0%22,%22name%22:%22PHASE-NOR%22,%22circuit%22:{%22cols%22:[[%22X%22,%22X%22],[%22~97gj%22],[%22X%22,%22X%22]]}},{%22id%22:%22~20t0%22,%22name%22:%22PHASE-NAND%22,%22circuit%22:{%22cols%22:[[%22X%22,%22X%22],[%22Z%22],[%22~97gj%22],[1,%22Z%22],[%22X%22,%22X%22]]}},{%22id%22:%22~bupb%22,%22name%22:%22PHASE-XOR%22,%22circuit%22:{%22cols%22:[[1,1,%22X%22],[1,1,%22H%22],[%22%E2%80%A2%22,1,%22X%22],[1,%22%E2%80%A2%22,%22X%22],[1,1,%22H%22],[1,1,%22X%22]]}}]}\"\n",
       "            frameborder=\"0\"\n",
       "            allowfullscreen\n",
       "        ></iframe>\n",
       "        "
      ],
      "text/plain": [
       "<IPython.lib.display.IFrame at 0x1fe835dd128>"
      ]
     },
     "execution_count": 41,
     "metadata": {},
     "output_type": "execute_result"
    }
   ],
   "source": [
    "# QUIRK (Quantum Circuit Simulator) of Superposition R(z) Circuit \n",
    "from IPython.display import IFrame\n",
    "IFrame(src='https://algassert.com/quirk#circuit={%22cols%22:[[%22~t7cc%22]],%22gates%22:[{%22id%22:%22~t7cc%22,%22name%22:%22PHASE-NOT%22,%22circuit%22:{%22cols%22:[[%22X%22],[%22Z%22],[%22X%22]]}},{%22id%22:%22~97gj%22,%22name%22:%22CPHASE(CZ)%22,%22circuit%22:{%22cols%22:[[1,%22H%22],[%22%E2%80%A2%22,%22X%22],[1,%22H%22]]}},{%22id%22:%22~kld%22,%22name%22:%22PHASE-OR%22,%22circuit%22:{%22cols%22:[[%22Z%22],[%22~97gj%22],[1,%22Z%22]]}},{%22id%22:%22~c366%22,%22name%22:%22PHASE-AND%22,%22circuit%22:{%22cols%22:[[1,%22H%22],[%22%E2%80%A2%22,%22X%22],[1,%22H%22]]}},{%22id%22:%22~beu0%22,%22name%22:%22PHASE-NOR%22,%22circuit%22:{%22cols%22:[[%22X%22,%22X%22],[%22~97gj%22],[%22X%22,%22X%22]]}},{%22id%22:%22~20t0%22,%22name%22:%22PHASE-NAND%22,%22circuit%22:{%22cols%22:[[%22X%22,%22X%22],[%22Z%22],[%22~97gj%22],[1,%22Z%22],[%22X%22,%22X%22]]}},{%22id%22:%22~bupb%22,%22name%22:%22PHASE-XOR%22,%22circuit%22:{%22cols%22:[[1,1,%22X%22],[1,1,%22H%22],[%22%E2%80%A2%22,1,%22X%22],[1,%22%E2%80%A2%22,%22X%22],[1,1,%22H%22],[1,1,%22X%22]]}}]}', width=900, height=600)"
   ]
  },
  {
   "cell_type": "code",
   "execution_count": null,
   "metadata": {},
   "outputs": [],
   "source": []
  },
  {
   "cell_type": "markdown",
   "metadata": {},
   "source": [
    "## <font color=\"red\">Developmental Detour</font>: -  <font color=\"blue\">Amplitude (<font color=\"black\">\"Magnitude\"</font>) Amplification</font>\n",
    "\n",
    "### <font color=\"blue\">Why this is important</font>: \n",
    "- *Amplitude Amplification* privides a process to transform **phase** information into **magnitude** information that can be read out when taking a final measurement.\n",
    "\n",
    "\n",
    "> - **<font color=\"blue\">Definition</font>:**: Amplitude Amplification is a tool that converts inaccessible (*hidden*) **phase** differences inside a QPU Curcuit into readable **magnitude** differences (*and vice Versa*).\n",
    "\n",
    "-  The Amplitude Amplification procedure stretches out (**amplifies**) the amplitude of the **marked item**, which **shrinks** the other items' amplitude, so that measuring the final state will return the right item with **near-certainty**.\n",
    "<BR>\n",
    "    \n",
    "    \n",
    "**<font color=\"black\">PROBLEM</font>:** - suppose we have a 4 qubit register that contains one of three quantum states (but we don't know which one as it's hidden in the phases of the circuit (*Key phases highlighted*).\n",
    "\n",
    "\n",
    "\n",
    "![amplitude-amplification-example](img/amplitude-amplification-example.png \"amplitude-amplification-example\")\n",
    "\n",
    "<BR>\n",
    "    \n",
    "    \n",
    "**<font color=\"black\">SOLUTION</font>:** - A single quantum algorithmic subroutine could reveal the hidden phase information by transforming it into magnitude information (*Key phases highlighted*).\n",
    "\n",
    "\n",
    "![amplitude-amplification-example-result](img/amplitude-amplification-example-result.png \"amplitude-amplification-example-result\")\n",
    "\n",
    "\n",
    "**<font color=\"black\">PROBLEM</font>:** - The resulting magnitude isn't as high as preferred to heavily influence the circuit toward a partucular value if it were to be measured.\n",
    "\n",
    "\n",
    "**<font color=\"black\">SOLUTION</font>:** - Apply the same transform process multiple times to increase the probability.\n",
    "\n",
    "\n",
    "![amplitude-amplification-multiple-applications](img/amplitude-amplification-multiple-applications.png \"amplitude-amplification-multiple-applications\")\n"
   ]
  },
  {
   "cell_type": "code",
   "execution_count": null,
   "metadata": {},
   "outputs": [],
   "source": []
  },
  {
   "cell_type": "markdown",
   "metadata": {},
   "source": [
    "## <font color=\"red\">Exercise</font> :  Amplitude (\"Magnitude\") Amplification (<font color=\"blue\">QCEngine</font>)\n",
    "\n",
    "\n",
    "\n",
    "- Experiment with the QCEngine Implementation to see how the Amplitude Amplification (Diagram below)  behaves (for intuitions sake).\n",
    "- **Cut and paste** the simple Amplitude Amplification code implementation into the QCEngine and run it - observe how the qubit magnitude(s) (via the circle plots) behave by clicking through the resulting program circuit.\n",
    "- The below circuit is what is implemented in the code.\n",
    "- What happens when you **double** up on the \"Flip + Mirror\" Operations?\n",
    "\n",
    "<BR>\n",
    "\n",
    "![amplitude-amplification](img/amplitude-amplification.png \"amplitude-amplification\")"
   ]
  },
  {
   "cell_type": "markdown",
   "metadata": {},
   "source": [
    "### Amplitide (\"Magnitude\") Amplification"
   ]
  },
  {
   "cell_type": "raw",
   "metadata": {},
   "source": [
    "// The Amplitide (\"Magnitude\") Amplification Experiment\n",
    "\n",
    "// Colorize Phase Shifts \n",
    "qc_options.color_by_phase=true\n",
    "\n",
    "// Experiment Setup\n",
    "var num_qubits = 4;\n",
    "qc.reset(num_qubits);\n",
    "var reg = qint.new(num_qubits, 'reg')\n",
    "\n",
    "// Initialize register w/Zero's\n",
    "reg.write(0);\n",
    "\n",
    "\n",
    "// Set up Register Superposition\n",
    "//\n",
    "qc.label('Superposition');\n",
    "qc.nop();\n",
    "reg.hadamard();\n",
    "qc.nop();\n",
    "qc.label();\n",
    "\n",
    "qc.nop();\n",
    "\n",
    "// Flip Operation\n",
    "//\n",
    "qc.label('Flip');\n",
    "qc.nop();\n",
    "reg.not(4|8);\n",
    "reg.cphase(180);\n",
    "reg.not(4|8);\n",
    "qc.nop();\n",
    "qc.label();\n",
    "\n",
    "qc.nop();\n",
    "\n",
    "// Mirror Operation\n",
    "//\n",
    "qc.label('Mirror');\n",
    "qc.nop();\n",
    "reg.Grover(); // This is the MIRROR Operation Gate\n",
    "qc.nop();\n",
    "qc.label();\n",
    "\n"
   ]
  },
  {
   "cell_type": "code",
   "execution_count": null,
   "metadata": {},
   "outputs": [
    {
     "data": {
      "text/html": [
       "\n",
       "        <iframe\n",
       "            width=\"1200\"\n",
       "            height=\"600\"\n",
       "            src=\"https://oreilly-qc.github.io?p=6-1\"\n",
       "            frameborder=\"0\"\n",
       "            allowfullscreen\n",
       "        ></iframe>\n",
       "        "
      ],
      "text/plain": [
       "<IPython.lib.display.IFrame at 0x1fe835dd7b8>"
      ]
     },
     "execution_count": 42,
     "metadata": {},
     "output_type": "execute_result"
    }
   ],
   "source": [
    "# QUIRK (Quantum Curcuit Simulator) \n",
    "from IPython.display import IFrame\n",
    "IFrame(src='https://oreilly-qc.github.io?p=6-1', width=1200, height=600)"
   ]
  },
  {
   "cell_type": "markdown",
   "metadata": {},
   "source": [
    "### <font color=\"red\">Exercise</font> :  Iterative Amplitude (\"Magnitude\") Amplification (<font color=\"blue\">QCEngine</font>)\n",
    "\n",
    "- Experiment with the QCEngine Implementation below to see how the various phase logic gates behave (for intuitions sake).\n",
    "- There are four Amplitude Amplification gates executed, the first few increases the amplitude to a desired state but observe that after a point diminishing returns begins to take effect. Toggle through the circuit to gain intuition as to the AA Gates behavior.\n",
    "\n",
    "\n",
    "> Try adding a **5th** iteration by altering the variable **number_of_iterations = 5** - what effect does that have?\n",
    "- What happens when too many are added?\n",
    "\n"
   ]
  },
  {
   "cell_type": "raw",
   "metadata": {},
   "source": [
    "// Iterative Amplitude (\"Magnitude\") Amplification \n",
    "\n",
    "// Colorize Phase Shifts \n",
    "qc_options.color_by_phase=true\n",
    "\n",
    "\n",
    "var number_to_flip = 3;\n",
    "var number_of_iterations = 4;\n",
    "var num_qubits = 4;\n",
    "qc.reset(num_qubits);\n",
    "var reg = qint.new(num_qubits, 'reg')\n",
    "\n",
    "reg.write(0);\n",
    "qc.label('prep');\n",
    "reg.hadamard();\n",
    "for (var i = 0; i < number_of_iterations; ++i)\n",
    "{\n",
    "    qc.label('Amplitude Amplification');\n",
    "\n",
    "    // Flip the marked value\n",
    "    reg.not(~number_to_flip);\n",
    "    reg.cphase(180);\n",
    "    reg.not(~number_to_flip);\n",
    "    reg.Grover();\n",
    "\n",
    "    // Peek at the probability\n",
    "    var prob = reg.peekProbability(number_to_flip);\n",
    "    qc.print('Iter '+i+': probability = '+prob+'\\n');\n",
    "\n",
    "    // just space it out visually\n",
    "    qc.label('');\n",
    "    qc.nop();\n",
    "}\n",
    "\n"
   ]
  },
  {
   "cell_type": "code",
   "execution_count": null,
   "metadata": {},
   "outputs": [
    {
     "data": {
      "text/html": [
       "\n",
       "        <iframe\n",
       "            width=\"1200\"\n",
       "            height=\"600\"\n",
       "            src=\"https://oreilly-qc.github.io?p=6-2\"\n",
       "            frameborder=\"0\"\n",
       "            allowfullscreen\n",
       "        ></iframe>\n",
       "        "
      ],
      "text/plain": [
       "<IPython.lib.display.IFrame at 0x1fe835ddc18>"
      ]
     },
     "execution_count": 43,
     "metadata": {},
     "output_type": "execute_result"
    }
   ],
   "source": [
    "# QUIRK (Quantum Curcuit Simulator) \n",
    "from IPython.display import IFrame\n",
    "IFrame(src='https://oreilly-qc.github.io?p=6-2', width=1200, height=600)"
   ]
  },
  {
   "cell_type": "markdown",
   "metadata": {},
   "source": [
    "## <font color=\"red\">Developmental Detour</font>: -  <font color=\"blue\">Quantum Fourier Transform (<font color=\"black\">\"QFT\"</font>)</font>\n",
    "\n",
    "\n",
    "> **Video**: https://www.youtube.com/watch?v=9jBiRPQ9Bkw&list=PLsedzcQz4wyXIxgF9zAv_G8_3SrZVjiye\n",
    "\n",
    "### <font color=\"blue\">Why this is important</font>: \n",
    "- *Quantum Fourier Transform (QFT)* privides a process (primitive) that allows access to hidden **patterns** and **information** stored in **relative phases** and **magnitudes** of the circuit.\n",
    "\n",
    "\n",
    "**<font color=\"black\">PROBLEM</font>:** - suppose we have a 4 qubit register that contains one of three quantum states (but we don't know which one as it's hidden in **both** the the **phases** and **magnitudes** of the circuit (*note those highlighted*).\n",
    "\n",
    "\n",
    "\n",
    "![QFT-states-hidden](img/QFT-states-hidden.png \"QFT-states-hidden\")\n",
    "\n",
    "<BR>\n",
    "    \n",
    "    \n",
    "**<font color=\"black\">SOLUTION</font>:** - A single quantum algorithmic subroutine could reveal the hidden phase information by transforming it into magnitude information (*note those highlighted*).\n",
    "\n",
    "\n",
    "![QFT-states-results](img/QFT-states-results.png \"QFT-states-results\")\n",
    "\n"
   ]
  },
  {
   "cell_type": "markdown",
   "metadata": {},
   "source": [
    "### <font color=\"red\">Exercise</font> :  <font color=\"blue\">Quantum Fourier Transform (<font color=\"black\">\"QFT\"</font>) - QCEngine</font>\n",
    "\n",
    "- Experiment with the QCEngine Implementation below to see how the QFT process behaves (**for intuitions sake**) \n",
    "> - #### Make sure to use all three signals <font color=\"red\">(A, B and C)</font> and examine the behavior of the circuit after each change.\n",
    "- Observe the results of this circuit (below) in the running of the circuit (below) in the code sample.\n",
    "- Notice (after the \"prepare\" Phase of the circuit) that the **180 degree phase gate** executed on the **0X1 Qubit** (Qubit **ONE**) - only performs a phase flip on those qubits with a **ONE value** in the *binary table* below (highlighted) via the circle plots phase shifts.\n",
    "\n",
    "<BR>\n",
    "\n",
    "![QFT-A_ExampleResult](img/QFT-A_ExampleResult.png \"QFT-A_ExampleResult\")\n",
    "\n",
    "<BR>\n",
    "\n",
    "![QFT-circuit](img/QFT-circuit.png \"QFT-circuit\")\n",
    "\n",
    "<BR>\n",
    "\n",
    "![binary-table_0-15-NEW](img/binary-table_0-15-NEW.png \"binary-table_0-15-NEW\")\n",
    "\n",
    "<BR>\n",
    "\n",
    "- **Note** the error on #9, it should also be highlighted."
   ]
  },
  {
   "cell_type": "raw",
   "metadata": {},
   "source": [
    "// Quantum Fourier Transform (\"QFT\")\n",
    "\n",
    "// Colorize Phase Shifts \n",
    "qc_options.color_by_phase=true\n",
    "\n",
    "qc_options.color_by_phase = true;\n",
    "qc_options.book_render = true;\n",
    "\n",
    "var num_qubits = 4;\n",
    "qc.reset(num_qubits);\n",
    "var signal = qint.new(num_qubits, 'signal')\n",
    "var which_signal = 'A';\n",
    "\n",
    "// prepare the signal\n",
    "qc.label('prepare');\n",
    "signal.write(0);\n",
    "signal.hadamard();\n",
    "if (which_signal == 'A') {\n",
    "    signal.phase(180, 1);\n",
    "} else if (which_signal == 'B') {\n",
    "    signal.phase(90, 1);\n",
    "    signal.phase(180, 2);\n",
    "} else if (which_signal == 'C') {\n",
    "    signal.phase(45, 1);\n",
    "    signal.phase(90, 2);\n",
    "    signal.phase(180, 4);\n",
    "}\n",
    "qc.label();\n",
    "qc.nop();\n",
    "\n",
    "qc.label('QFT');\n",
    "signal.QFT();\n",
    "qc.label();\n",
    "qc.nop();\n"
   ]
  },
  {
   "cell_type": "code",
   "execution_count": null,
   "metadata": {
    "scrolled": false
   },
   "outputs": [
    {
     "data": {
      "text/html": [
       "\n",
       "        <iframe\n",
       "            width=\"1200\"\n",
       "            height=\"900\"\n",
       "            src=\"https://oreilly-qc.github.io?p=7-1\"\n",
       "            frameborder=\"0\"\n",
       "            allowfullscreen\n",
       "        ></iframe>\n",
       "        "
      ],
      "text/plain": [
       "<IPython.lib.display.IFrame at 0x1fe835dd198>"
      ]
     },
     "execution_count": 44,
     "metadata": {},
     "output_type": "execute_result"
    }
   ],
   "source": [
    "from IPython.display import IFrame\n",
    "IFrame(src='https://oreilly-qc.github.io?p=7-1', width=1200, height=900)"
   ]
  },
  {
   "cell_type": "code",
   "execution_count": null,
   "metadata": {},
   "outputs": [],
   "source": []
  },
  {
   "cell_type": "code",
   "execution_count": null,
   "metadata": {},
   "outputs": [],
   "source": []
  },
  {
   "cell_type": "markdown",
   "metadata": {},
   "source": [
    "# <font color=\"red\">Graded Exercises</font>  for use <font color=\"blue\">with structured courses.</font>\n",
    "\n",
    "## Simple Quantum Algorithms\n",
    "\n",
    "#### <font color=\"blue\">*This work will take some time, so block off enough time to adequately cover it*</font>. \n",
    "\n",
    "\n",
    "- Go through the **entire** JNB and complete each of the exercises, including any supplementary Video's - hand in completed <font color=\"red\">**PDF**</font> from this JNB once finished.\n",
    "\n",
    "\n",
    "- Step through the code for **each** of the above exercises, make sure you can (1) execute it, and (2) know what it does.\n",
    "\n",
    "\n",
    "- <font color=\"blue\">Complete Challenge Exercises below.</font> **(turn in the JNB)**\n"
   ]
  },
  {
   "cell_type": "markdown",
   "metadata": {},
   "source": [
    "## Phase Logic <font color=\"red\">in QUIRK</font>\n",
    "\n",
    "> Implement each phase logic (including C-Phase) component in QUIRK, **make sure they work as expected per their Truth Tables**.\n",
    "\n",
    "<BR>\n",
    "\n",
    "### <font color=\"blue\">Phase Logic Circuit Gates</font>\n",
    "![phase-logic-gates](img/phase-logic-gates.png \"\")\n",
    "\n",
    "**<font color=\"red\"> IMPORTANT</font>** - Copy the URL String into a new tab and do you work there, then when finished, copy the completed URL string to the proper cell below for evaluation and grading.\n",
    "\n",
    "\n",
    "> There should be <font color=\"red\">**six**</font> completed URL's after implementing each of the **Phase Logic Gates** in **QUIRK**.\n"
   ]
  },
  {
   "cell_type": "code",
   "execution_count": null,
   "metadata": {},
   "outputs": [
    {
     "data": {
      "text/html": [
       "\n",
       "        <iframe\n",
       "            width=\"900\"\n",
       "            height=\"600\"\n",
       "            src=\"https://algassert.com/quirk#circuit={%22cols%22:[]}\"\n",
       "            frameborder=\"0\"\n",
       "            allowfullscreen\n",
       "        ></iframe>\n",
       "        "
      ],
      "text/plain": [
       "<IPython.lib.display.IFrame at 0x1fe8341fc50>"
      ]
     },
     "execution_count": 45,
     "metadata": {},
     "output_type": "execute_result"
    }
   ],
   "source": [
    "# QUIRK (Quantum Circuit Simulator)\n",
    "from IPython.display import IFrame\n",
    "IFrame(src='https://algassert.com/quirk#circuit={%22cols%22:[]}', width=900, height=600)"
   ]
  },
  {
   "cell_type": "markdown",
   "metadata": {},
   "source": [
    "### Copy your completed QUIRK URL string in the cell below.\n",
    "\n",
    "It'll be of the following form: \n",
    "\n",
    "https://algassert.com/quirk#circuit={%22cols%22:[[%22~bhpb%22]],%22gates%22:[{%22id%22:%22~bhpb%22,%22name%22:%22Problem-#2%22,%22circuit%22:{%22cols%22:[[%22H%22,%22H%22,%22H%22],[%22%E2%80%A2%22,%22%E2%80%A2%22,%22X%22]]}}]}\n",
    "\n",
    "\n",
    "\n",
    "#### Your COMPLETED <font color=\"red\">**six**</font> QUIRK URL String(<font color=\"red\">**s**</font>) Goes under here:\n",
    "\n",
    "\n",
    "<BR><BR><BR>\n",
    "."
   ]
  },
  {
   "cell_type": "markdown",
   "metadata": {},
   "source": [
    "## Phase Kickback <font color=\"red\">in QUIRK</font>\n",
    "\n",
    "> Implement the phase kickback circuit in QUIRK, **that produces the following phases**.\n",
    "\n",
    "<BR>\n",
    "\n",
    "![Phase_KickbackHW](img/Phase_KickbackHW.png \"Phase_KickbackHW\")\n",
    "\n",
    "\n",
    "> The example QUIRK **Phase Kickback** implementation previously seen:  **(0dg, 45dg, 90dg, 135dg)** is listed below for inspiration. \n",
    "\n",
    "\n",
    "<BR>\n",
    "    \n",
    "![phase-kickback-trick-QUIRK](img/phase-kickback-trick-QUIRK2.png \"\")\n",
    "\n",
    "\n",
    "**<font color=\"red\"> IMPORTANT</font>** - Copy the URL String into a new tab and do you work there, then when finished, copy the completed URL string to the proper cell below for evaluation and grading."
   ]
  },
  {
   "cell_type": "code",
   "execution_count": null,
   "metadata": {},
   "outputs": [
    {
     "data": {
      "text/html": [
       "\n",
       "        <iframe\n",
       "            width=\"900\"\n",
       "            height=\"600\"\n",
       "            src=\"https://algassert.com/quirk#circuit={%22cols%22:[[%22%E2%80%A6%22,1,%22X%22],[%22H%22,%22H%22],[%22%E2%80%A2%22,1,{%22id%22:%22Rzft%22,%22arg%22:%22pi/2%22}],[1,%22%E2%80%A2%22,{%22id%22:%22Rzft%22,%22arg%22:%22pi%22}],[%22Amps3%22]]}\"\n",
       "            frameborder=\"0\"\n",
       "            allowfullscreen\n",
       "        ></iframe>\n",
       "        "
      ],
      "text/plain": [
       "<IPython.lib.display.IFrame at 0x1fe835d5208>"
      ]
     },
     "execution_count": 47,
     "metadata": {},
     "output_type": "execute_result"
    }
   ],
   "source": [
    "# QUIRK (Quantum Curcuit Simulator) \n",
    "from IPython.display import IFrame\n",
    "IFrame(src='https://algassert.com/quirk#circuit={%22cols%22:[[%22%E2%80%A6%22,1,%22X%22],[%22H%22,%22H%22],[%22%E2%80%A2%22,1,{%22id%22:%22Rzft%22,%22arg%22:%22pi/2%22}],[1,%22%E2%80%A2%22,{%22id%22:%22Rzft%22,%22arg%22:%22pi%22}],[%22Amps3%22]]}', width=900, height=600)"
   ]
  },
  {
   "cell_type": "markdown",
   "metadata": {},
   "source": [
    "### Copy your completed QUIRK URL string in the cell below.\n",
    "\n",
    "It'll be of the following form: \n",
    "\n",
    "https://algassert.com/quirk#circuit={%22cols%22:[[%22~bhpb%22]],%22gates%22:[{%22id%22:%22~bhpb%22,%22name%22:%22Problem-#2%22,%22circuit%22:{%22cols%22:[[%22H%22,%22H%22,%22H%22],[%22%E2%80%A2%22,%22%E2%80%A2%22,%22X%22]]}}]}\n",
    "\n",
    "\n",
    "\n",
    "#### Your COMPLETED QUIRK URL String Goes under here:\n",
    "\n",
    "\n",
    "<BR><BR><BR>\n",
    "."
   ]
  },
  {
   "cell_type": "code",
   "execution_count": null,
   "metadata": {},
   "outputs": [],
   "source": []
  },
  {
   "cell_type": "markdown",
   "metadata": {},
   "source": [
    "## Amplitude Amplification <font color=\"red\">in QUIRK</font>\n",
    "\n",
    "<BR>\n",
    "\n",
    "![amplitude-amplification](img/amplitude-amplification.png \"amplitude-amplification\")\n",
    "\n",
    "### Implement the phase kickback circuit in QUIRK, **that produces the following phases**.\n",
    "\n",
    "<BR>\n",
    "    \n",
    "> ### The stock example circuit amplifies the amplitude of binary <font color=\"red\">#3</font>:\n",
    "![Amplitude-Amplification-3](img/Amplitude-Amplification-3.png \"Amplitude-Amplification-3\")\n",
    "\n",
    "<BR>\n",
    "\n",
    "> ### Alter circuit to be binary <font color=\"red\">#9</font>:\n",
    "![Amplitude-Amplification-3](img/Amplitude-Amplification-9.png \"Amplitude-Amplification-9\")\n",
    "\n"
   ]
  },
  {
   "cell_type": "raw",
   "metadata": {},
   "source": [
    "// The Amplitide (\"Magnitude\") Amplification Experiment\n",
    "\n",
    "// Colorize Phase Shifts \n",
    "qc_options.color_by_phase=true\n",
    "\n",
    "// Experiment Setup\n",
    "var num_qubits = 4;\n",
    "qc.reset(num_qubits);\n",
    "var reg = qint.new(num_qubits, 'reg')\n",
    "\n",
    "// Initialize register w/Zero's\n",
    "reg.write(0);\n",
    "\n",
    "\n",
    "// Set up Register Superposition\n",
    "//\n",
    "qc.label('Superposition');\n",
    "qc.nop();\n",
    "reg.hadamard();\n",
    "qc.nop();\n",
    "qc.label();\n",
    "\n",
    "qc.nop();\n",
    "\n",
    "// Flip Operation\n",
    "//\n",
    "qc.label('Flip');\n",
    "qc.nop();\n",
    "reg.not(4|8);\n",
    "reg.cphase(180);\n",
    "reg.not(4|8);\n",
    "qc.nop();\n",
    "qc.label();\n",
    "\n",
    "qc.nop();\n",
    "\n",
    "// Mirror Operation\n",
    "//\n",
    "qc.label('Mirror');\n",
    "qc.nop();\n",
    "reg.Grover(); // This is the MIRROR Operation Gate\n",
    "qc.nop();\n",
    "qc.label();\n",
    "\n"
   ]
  },
  {
   "cell_type": "code",
   "execution_count": null,
   "metadata": {
    "scrolled": false
   },
   "outputs": [
    {
     "data": {
      "text/html": [
       "\n",
       "        <iframe\n",
       "            width=\"1200\"\n",
       "            height=\"900\"\n",
       "            src=\"https://oreilly-qc.github.io?p=6-1\"\n",
       "            frameborder=\"0\"\n",
       "            allowfullscreen\n",
       "        ></iframe>\n",
       "        "
      ],
      "text/plain": [
       "<IPython.lib.display.IFrame at 0x1fe835d5470>"
      ]
     },
     "execution_count": 48,
     "metadata": {},
     "output_type": "execute_result"
    }
   ],
   "source": [
    "# QCEngine:\n",
    "from IPython.display import IFrame\n",
    "IFrame(src='https://oreilly-qc.github.io?p=6-1', width=1200, height=900)"
   ]
  },
  {
   "cell_type": "code",
   "execution_count": null,
   "metadata": {},
   "outputs": [],
   "source": []
  },
  {
   "cell_type": "markdown",
   "metadata": {},
   "source": [
    "### <font color=\"red\">Refresher</font> :  <font color=\"blue\">Quantum Fourier Transform (<font color=\"black\">\"QFT\"</font>) - QCEngine</font>\n",
    "\n",
    "- Experiment with the QCEngine Implementation below to see how the QFT process behaves (**for intuitions sake**) \n",
    "> - #### Make sure to use all three signals <font color=\"red\">(A, B and C)</font> and examine the behavior of the circuit after each change.\n",
    "- Observe the results of this circuit (below) in the running of the circuit (below) in the code sample.\n",
    "- Notice (after the \"prepare\" Phase of the circuit) that the **180 degree phase gate** executed on the **0X1 Qubit** (Qubit **ONE**) - only performs a phase flip on those qubits with a **ONE value** in the *binary table* below (highlighted) via the circle plots phase shifts.\n",
    "\n",
    "<BR>\n",
    "\n",
    "![QFT-A_ExampleResult](img/QFT-A_ExampleResult.png \"QFT-A_ExampleResult\")\n",
    "\n",
    "<BR>\n",
    "\n",
    "![QFT-circuit](img/QFT-circuit.png \"QFT-circuit\")\n",
    "\n",
    "<BR>\n",
    "\n",
    "![binary-table_0-15-NEW](img/binary-table_0-15-NEW.png \"binary-table_0-15-NEW\")\n",
    "\n",
    "<BR>\n",
    "\n",
    "- **Note** the error on #9, it should also be highlighted."
   ]
  },
  {
   "cell_type": "raw",
   "metadata": {},
   "source": [
    "// Quantum Fourier Transform (\"QFT\")\n",
    "\n",
    "// Colorize Phase Shifts \n",
    "qc_options.color_by_phase=true\n",
    "\n",
    "qc_options.color_by_phase = true;\n",
    "qc_options.book_render = true;\n",
    "\n",
    "var num_qubits = 4;\n",
    "qc.reset(num_qubits);\n",
    "var signal = qint.new(num_qubits, 'signal')\n",
    "var which_signal = 'A';\n",
    "\n",
    "// prepare the signal\n",
    "qc.label('prepare');\n",
    "signal.write(0);\n",
    "signal.hadamard();\n",
    "if (which_signal == 'A') {\n",
    "    signal.phase(180, 1);\n",
    "} else if (which_signal == 'B') {\n",
    "    signal.phase(90, 1);\n",
    "    signal.phase(180, 2);\n",
    "} else if (which_signal == 'C') {\n",
    "    signal.phase(45, 1);\n",
    "    signal.phase(90, 2);\n",
    "    signal.phase(180, 4);\n",
    "}\n",
    "qc.label();\n",
    "qc.nop();\n",
    "\n",
    "qc.label('QFT');\n",
    "signal.QFT();\n",
    "qc.label();\n",
    "qc.nop();\n"
   ]
  },
  {
   "cell_type": "markdown",
   "metadata": {},
   "source": [
    "> ### <font color=\"red\">Full Screen Mode</font>: ( Quantum Fourier Transform (\"QFT\") )\n",
    "- https://oreilly-qc.github.io?p=7-1\n",
    "\n",
    "\n",
    "- **Inline Mode is below**."
   ]
  },
  {
   "cell_type": "code",
   "execution_count": null,
   "metadata": {},
   "outputs": [
    {
     "data": {
      "text/html": [
       "\n",
       "        <iframe\n",
       "            width=\"1200\"\n",
       "            height=\"900\"\n",
       "            src=\"https://oreilly-qc.github.io?p=7-1\"\n",
       "            frameborder=\"0\"\n",
       "            allowfullscreen\n",
       "        ></iframe>\n",
       "        "
      ],
      "text/plain": [
       "<IPython.lib.display.IFrame at 0x241192f2ba8>"
      ]
     },
     "execution_count": 1,
     "metadata": {},
     "output_type": "execute_result"
    }
   ],
   "source": [
    "from IPython.display import IFrame\n",
    "IFrame(src='https://oreilly-qc.github.io?p=7-1', width=1200, height=900)"
   ]
  },
  {
   "cell_type": "markdown",
   "metadata": {},
   "source": [
    "## Quantum Fourier Transform (QFT)  <font color=\"red\">- Question</font>\n",
    "\n",
    "<BR>\n",
    "    \n",
    "> <font color=\"red\">**Q**</font>: What were the decimal measured values of results of running Signal <font color=\"red\">(A, B and C)</font> in the QFT Exercise in the QFT section above?\n"
   ]
  },
  {
   "cell_type": "markdown",
   "metadata": {},
   "source": [
    "<font color=\"red\">**Answer**</font>:\n",
    "\n",
    "- A =\n",
    "- B =\n",
    "- C =\n",
    "\n",
    "\n",
    "."
   ]
  },
  {
   "cell_type": "markdown",
   "metadata": {},
   "source": [
    "![the-end](img/the-end.png \"the-end\")"
   ]
  }
 ],
 "metadata": {
  "interpreter": {
   "hash": "97ae724bfa85b9b34df7982b8bb8c7216f435b92902d749e4263f71162bea840"
  },
  "kernelspec": {
   "display_name": "qcousins",
   "language": "python",
   "name": "python3"
  },
  "language_info": {
   "codemirror_mode": {
    "name": "ipython",
    "version": 3
   },
   "file_extension": ".py",
   "mimetype": "text/x-python",
   "name": "python",
   "nbconvert_exporter": "python",
   "pygments_lexer": "ipython3",
   "version": "3.9.5"
  }
 },
 "nbformat": 4,
 "nbformat_minor": 2
}
