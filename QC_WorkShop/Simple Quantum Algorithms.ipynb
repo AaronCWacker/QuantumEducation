{
 "cells": [
  {
   "cell_type": "markdown",
   "metadata": {},
   "source": [
    "# Simple Quantum Algorithms (and Key Concepts)\n",
    "- <font color=\"red\">For the Software Engineer</font>"
   ]
  },
  {
   "cell_type": "markdown",
   "metadata": {},
   "source": [
    "![qc-banner](img/simple-quantum-algorithms.png \"qc-banner\")\n",
    "\n",
    "<BR>\n",
    "\n",
    "<font color=\"red\">**Notice**</font>: All materials herein were created by **Matthew R. Versaggi (profversaggi@gmail.com)** and are released into the open source to foster growth and welfare of expanding the Quantum Computing domain - the only obligation one incurs when using, copying, distributing or referencing this is to kindly reference the author and send me an email so I know how useful the material is to you.\n",
    "\n",
    "<font color=\"red\">**Notice**</font>: Python Code contributions for the Circle Plots are the work of **David Radcliffe**."
   ]
  },
  {
   "cell_type": "markdown",
   "metadata": {},
   "source": [
    "![multi-qubit-entanglement-13rd](img/multi-qubit-entanglement-13rd.png \"multi-qubit-entanglement-13rd\")\n",
    "\n",
    "<BR>\n",
    "\n",
    "## Pedagogical Approach: (<font color=\"red\">**Read this first !**</font>)\n",
    "\n",
    "This material is intended to educate **software engineers** in certain aspects of Quantum Computing, therefore its focus will be on conveying the conceptual ideas in a form digestible to them, and supporting it with exercises to reinforce those concepts. \n",
    "\n",
    "Because of that pedagogical approach, **this material won't lead with or heavily leverage the concepts and language indigenous to physics and math**, but only in those terms most easily digestible to the modern software engineer.\n",
    "\n",
    "This Jupyter Notebook is <font color=\"red\">**not intended as a stand alone educational vehicle**</font>  - it's meant to be accompanied by a decicated power point deck that contains the main concepts to be presented by an instructor - **it is intended as a vehicle for a hands on workshop environment to facilitate learning through a guided experience.**\n",
    "\n",
    "> **Note:-** Because of the above educational approach:\n",
    "1. There is a certain amount of basic Quantum Computing knowledge that is assumed.\n",
    "2. An active internet connection is **always** assumed.\n",
    "3. Online references/links will be provided where appropriate\n",
    "4. References to books will be made where appropriate\n",
    "5. Much of this material is **dense and detailed**, the reader is <font color=\"red\">**cautioned**</font> to be careful and slow to digest the *nuances* of the material."
   ]
  },
  {
   "cell_type": "markdown",
   "metadata": {},
   "source": []
  },
  {
   "cell_type": "markdown",
   "metadata": {},
   "source": [
    "## What you will be exposed to - High level: \n",
    "\n",
    "\n",
    "- Software engineers in the Quantum Computing space need to know their way around quantum algorithms, particularly how they are implemented in a classical / quantum setting, the circuit architecture that undergirds the algorithms, and how that can be implemented in a variety of simulators (QUIRK, Qiskit, QCEngine - and others) \n",
    "- Given the above, there are a host of technical concepts that need to be **<font color=\"red\">understood experientially</font>** - we'll intentionally employ a vendor / framework agnostic approach to focus on the delivery of concept understanding and intuition procurement as the main value-add.\n",
    "\n",
    "> ### High Level Agenda (<font color=\"red\">*major sections*</font>): - quantum algorithms for the software engineer.\n",
    "1. <font color=\"blue\">*Quantum-Classical Relationship*</font>\n",
    "2. <font color=\"blue\">*Perfect Coin Algorithm*</font>\n",
    "3. <font color=\"blue\">*The Deutsch Algorithm*</font>\n",
    "4. <font color=\"blue\">*The Deutsch-Josza Algorithm*</font>\n",
    "5. <font color=\"blue\">*CPhase (and its Representations)*</font>\n",
    "6. <font color=\"blue\">*Phase Kickback*</font>\n",
    "7. <font color=\"blue\">*Phase Logic*</font>\n",
    "8. <font color=\"blue\">*Amplitude (\"Magnitude\")Amplification*</font>\n",
    "9. <font color=\"blue\">*Quantum Fourier Transform   (\"QFT\")*</font>\n",
    "\n"
   ]
  },
  {
   "cell_type": "markdown",
   "metadata": {},
   "source": [
    "## Background Videos: \n",
    "\n",
    "Quantum Computing Concepts - **Quantum Hardware**\n",
    "\n",
    "- https://www.youtube.com/watch?v=BbozLeSxcZ4&list=PLHSIfioizVW2uC27IFkHlSc-NgvZjBliZ&index=9\n",
    "\n",
    "\n",
    "Quantum Computing Concepts - **Quantum Algorithms**\n",
    "- https://www.youtube.com/watch?v=8anVNc0r_8o&list=PL50XnIfJxPDWDyea8EbbLe8GHfXkWU7W_&index=8&t=0s"
   ]
  },
  {
   "cell_type": "markdown",
   "metadata": {},
   "source": [
    "## <font color=\"red\">Developmental Detour</font> : Explore the <font color=\"blue\">Quantum-Classical Relationship</font> \n",
    "\n",
    "<BR>\n",
    "\n",
    "![architecture-quantum-gate](img/architecture-quantum-gate.png \"architecture-quantum-gate\")\n",
    "\n",
    "<BR>\n",
    "\n",
    "> #### The Classical - Quantum : function call relationship\n",
    "\n",
    "![architecture-classical-quantum](img/architecture-classical-quantum.png \"architecture-classical-quantum\")"
   ]
  },
  {
   "cell_type": "markdown",
   "metadata": {},
   "source": [
    "#  <font color=\"blue\">Perfect Coin Algorithm</font>\n",
    "\n",
    "![quantum-coin-flip](img/quantum-coin-flip.png \"quantum-coin-flip\")\n",
    "\n",
    "> ### Why does this work?\n",
    "- Because at the Quantum Level, a **simple Hadamard gate** is a truely unpredictible 50/50 chance operation - whereas with a digital random number generator, it is possible (if you knew the long sequence) to predict the next number in the sequence."
   ]
  },
  {
   "cell_type": "markdown",
   "metadata": {},
   "source": [
    "### <font color=\"red\">Exercise</font> : Explore the Perfect Coin Algorithm using Qiskit.\n",
    "- Run and re-run the algorithm and observe it's behavior and structure."
   ]
  },
  {
   "cell_type": "code",
   "execution_count": 5,
   "metadata": {},
   "outputs": [],
   "source": [
    "from qiskit import QuantumCircuit, QuantumRegister, ClassicalRegister, execute, Aer, IBMQ, BasicAer\n",
    "import math\n",
    "import matplotlib.pyplot as P\n",
    "import matplotlib.pyplot as plt\n",
    "from Our_Qiskit_Functions import *\n",
    "import cmath\n",
    "\n",
    "## Uncomment the next line to see diagrams when running in a notebook\n",
    "%matplotlib inline\n",
    "\n",
    "\n",
    "#\n",
    "# Quantum Coin Flip Function\n",
    "#\n",
    "\n",
    "def Quantum_Coin_Flip(flips):\n",
    "    # Simulate a perfect coin, measuring heads or tails, using a qubit\n",
    "    q = QuantumRegister(1)\n",
    "    c = ClassicalRegister(1)\n",
    "    perfect_coin = QuantumCircuit(q,c)\n",
    "    \n",
    "    \n",
    "    # H gate assures perfectly 50/50 randomness \n",
    "    #\n",
    "    perfect_coin.h(q[0])\n",
    "    perfect_coin.measure(q,c)\n",
    "    \n",
    "    \n",
    "    M = execute(perfect_coin, M_simulator, shots=flips).result().get_counts(perfect_coin)\n",
    "    \n",
    "    heads = M['0']\n",
    "    tails = M['1']\n",
    "    \n",
    "    return heads, tails    \n",
    "    \n",
    "#\n",
    "# Helper Function to determine Winner\n",
    "#\n",
    "\n",
    "def determine_winner(Heads, Tails):\n",
    "    if (Heads > Tails):\n",
    "        print(\"Heads Wins!\")\n",
    "    if (Heads < Tails):\n",
    "        print(\"Tails Wins!\")\n",
    "    if (Heads == Tails):\n",
    "        print(\"Tie - no Winner!\")\n",
    "\n",
    "    print(\"\\n\")\n",
    "    print(\"Final Score: Heads: \", Heads, \" Tails: \", Tails)\n",
    "    "
   ]
  },
  {
   "cell_type": "markdown",
   "metadata": {},
   "source": [
    "#### Re-Run this segment to get random coin flips."
   ]
  },
  {
   "cell_type": "code",
   "execution_count": 8,
   "metadata": {},
   "outputs": [
    {
     "name": "stdout",
     "output_type": "stream",
     "text": [
      "Heads Wins!\n",
      "\n",
      "\n",
      "Final Score: Heads:  52  Tails:  48\n"
     ]
    }
   ],
   "source": [
    "# Call the Quantum Coin Flip Function\n",
    "#\n",
    "Heads, Tails = Quantum_Coin_Flip(100)\n",
    "\n",
    "\n",
    "# Determine Winner and Display\n",
    "#\n",
    "determine_winner(Heads, Tails)\n",
    "    "
   ]
  },
  {
   "cell_type": "code",
   "execution_count": null,
   "metadata": {},
   "outputs": [],
   "source": []
  },
  {
   "cell_type": "code",
   "execution_count": null,
   "metadata": {},
   "outputs": [],
   "source": []
  },
  {
   "cell_type": "markdown",
   "metadata": {},
   "source": [
    "# <font color=\"blue\">The Deutsch Algorithm</font>"
   ]
  },
  {
   "cell_type": "markdown",
   "metadata": {},
   "source": [
    "![Deutsch-Circuit_Banner](img/Deutsch-Circuit_Banner.png \"Deutsch-Circuit_Banner\")\n",
    "\n",
    "<BR>\n",
    "    \n",
    "![Deutsch-PhaseKickBack](img/Deutsch-PhaseKickBack.png \"Deutsch-PhaseKickBack\") \n",
    "    \n",
    "<BR>\n",
    "    \n",
    "![DeutschAlgorithm-Q_vs_C](img/DeutschAlgorithm-Q_vs_C.png \"DeutschAlgorithm-Q_vs_C\")"
   ]
  },
  {
   "cell_type": "markdown",
   "metadata": {},
   "source": [
    "A nice property of this black-box operator is called phase kickback : when we give a particular type of input to this operator, the hidden function f(·) appears in the phase of the output"
   ]
  },
  {
   "cell_type": "markdown",
   "metadata": {},
   "source": [
    "#### Why does the Quantum approach work?\n",
    "\n",
    "- When the hidden Boolean function is **constant**, the quantum states *before and after* querying the oracle are the same - so the **result is all zeros**.\n",
    "-  When the hidden Boolean function is **balanced**, the quantum state *after* querying the oracle is **always non-zero.**"
   ]
  },
  {
   "cell_type": "markdown",
   "metadata": {},
   "source": [
    "## **<font color=\"blue\">Classical Approach</font>** - The Deutsch Algorithm\n",
    "\n",
    "\n",
    "![Deutsch-Algorithm-Classical](img/Deutsch-Algorithm-Classical.png \"Deutsch-Algorithm-Classical\")\n",
    "\n",
    "<BR>\n",
    "\n",
    "> This code randomly generates one of the **four** possible black box functions, tests it with **<font color=\"red\">two</font>** inputs **f(0)** and **f(1)**, and concludes whether the function is **balanced** or **constant** based on the results. \n",
    "\n",
    "\n",
    "![Deutsch-Query-Classic](img/Deutsch-Query-Classic1.png \"Deutsch-Query-Classic\")"
   ]
  },
  {
   "cell_type": "markdown",
   "metadata": {},
   "source": [
    "### <font color=\"red\">Exercise</font> : Explore the Deutsch's algorithm - <font color=\"blue\">Classical</font> Approach using PYTHON."
   ]
  },
  {
   "cell_type": "code",
   "execution_count": 16,
   "metadata": {},
   "outputs": [],
   "source": [
    "#\n",
    "# The Classical Function\n",
    "#\n",
    "\n",
    "import math as m\n",
    "import scipy as sci\n",
    "import numpy as np\n",
    "\n",
    "\n",
    "def blackbox_f():\n",
    "    # Returns on of four possible f functions\n",
    "    \n",
    "    def F1(x):\n",
    "        return 0\n",
    "    \n",
    "    def F2(x):\n",
    "        return 1\n",
    "    \n",
    "    def F3(x):\n",
    "        return x%2\n",
    "    \n",
    "    def F4(x):\n",
    "        return (x+1)%2\n",
    "    \n",
    "    functions = [F1, F2, F3, F4]\n",
    "    \n",
    "    # Random number generator provides a different function\n",
    "    #\n",
    "    f = functions[ int(m.floor( 4*np.random.rand() ) ) ]\n",
    "    \n",
    "    return f\n",
    "\n",
    "\n",
    "def classical_determine_hidden_function_(F0, F1):\n",
    "    \n",
    "    # Display F with two inputs\n",
    "    #\n",
    "    print(\"f(0): \", F0 ) \n",
    "    print(\"f(1): \", F1 ) \n",
    "    \n",
    "    # Then make the conclusion\n",
    "    #\n",
    "    if ( F0 == F1 ):\n",
    "        print(\"Conclusion: F is CONSTANT\")\n",
    "    else:\n",
    "        print(\"Conclusion: F is BALANCED\")"
   ]
  },
  {
   "cell_type": "markdown",
   "metadata": {},
   "source": [
    "#### Note: - The classical approach required two calls to the function to determine it's nature (constant / balanced)"
   ]
  },
  {
   "cell_type": "code",
   "execution_count": 17,
   "metadata": {},
   "outputs": [
    {
     "name": "stdout",
     "output_type": "stream",
     "text": [
      "f(0):  0\n",
      "f(1):  0\n",
      "Conclusion: F is CONSTANT\n"
     ]
    }
   ],
   "source": [
    "# Get the Classical BlackBox Function\n",
    "# f = [F1, F2, F3, F4] as defined above.\n",
    "#\n",
    "\n",
    "F = blackbox_f()\n",
    "\n",
    "\n",
    "# Determine the Functions Nature (two calls F(0) and f(1) )\n",
    "#\n",
    "classical_determine_hidden_function_(F(0), F(1))\n",
    "    \n"
   ]
  },
  {
   "cell_type": "code",
   "execution_count": null,
   "metadata": {},
   "outputs": [],
   "source": []
  },
  {
   "cell_type": "markdown",
   "metadata": {},
   "source": [
    "## **<font color=\"blue\">Quantum Approach</font>** - The Deutsch Algorithm\n",
    "\n",
    "<BR>\n",
    "    \n",
    "![Deutsch-Query-Quantum](img/Deutsch-Query-Quantum.png \"Deutsch-Query-Quantum\")\n",
    "\n",
    "\n",
    "- Quantum Solution  - Using a quantum computer, we can solve this problem with 100% confidence after only **<font color=\"red\">one</font>** call to the function  **f(x)** , provided we have the function  **<font color=\"red\">f</font>**  implemented as a **quantum oracle**.\n",
    "\n",
    "\n",
    "#### Why does the Quantum approach work?\n",
    "\n",
    "- When the hidden Boolean function is **constant**, the quantum states *before and after* querying the oracle are the same - so the result is **<font color=\"red\">all zeros</font>**.\n",
    "-  When the hidden Boolean function is **balanced**, the quantum state *after* querying the oracle is always **<font color=\"red\">non-zero</font>**.\n",
    "\n",
    "\n",
    "#### The Deutsch Oracle will return: \n",
    "\n",
    "- Binary: **00** (Digital 0) for **CONSTANT**\n",
    "![Deutsch-Constant-QUIRK](img/Deutsch-Constant-QUIRK1.png \"Deutsch-Constant-QUIRK\")\n",
    "\n",
    "<BR>\n",
    "    \n",
    "- **Non-Zero** (or ZERO possibility of ZERO) for **BALANCED**\n",
    "![Deutsch-Balanced-QUIRK](img/Deutsch-Balanced-QUIRK1.png \"Deutsch-Balanced-QUIRK\")\n",
    "\n"
   ]
  },
  {
   "cell_type": "markdown",
   "metadata": {},
   "source": [
    "![Deutsch-OneQuery2](img/Deutsch-OneQuery2.png \"Deutsch-OneQuery2\")"
   ]
  },
  {
   "cell_type": "markdown",
   "metadata": {},
   "source": [
    "### <font color=\"red\">Exercise</font> : Explore the Deutsch's algorithm - with oracle having <font color=\"red\">Constant</font> function\n",
    "- Explore the QUIRK circuit to gain intuition as to how it functions."
   ]
  },
  {
   "cell_type": "code",
   "execution_count": 511,
   "metadata": {
    "scrolled": false
   },
   "outputs": [
    {
     "data": {
      "text/html": [
       "\n",
       "        <iframe\n",
       "            width=\"900\"\n",
       "            height=\"600\"\n",
       "            src=\"https://algassert.com/quirk#circuit={%22cols%22:[[1,%22X%22],[%22Chance%22,%22Chance%22],[%22H%22,%22H%22],[%22Amps2%22],[],[%22%E2%80%A6%22,%22%E2%80%A6%22],[1,%22X%22],[%22%E2%80%A6%22,%22%E2%80%A6%22],[%22Amps1%22],[],[%22H%22],[%22Measure%22],[%22Amps1%22]]}\"\n",
       "            frameborder=\"0\"\n",
       "            allowfullscreen\n",
       "        ></iframe>\n",
       "        "
      ],
      "text/plain": [
       "<IPython.lib.display.IFrame at 0x2bccca8b160>"
      ]
     },
     "execution_count": 511,
     "metadata": {},
     "output_type": "execute_result"
    }
   ],
   "source": [
    "# QUIRK (Quantum Curcuit Simulator) : Deutsch's algorithm - with oracle having CONSTANT function.\n",
    "from IPython.display import IFrame\n",
    "IFrame(src='https://algassert.com/quirk#circuit={%22cols%22:[[1,%22X%22],[%22Chance%22,%22Chance%22],[%22H%22,%22H%22],[%22Amps2%22],[],[%22%E2%80%A6%22,%22%E2%80%A6%22],[1,%22X%22],[%22%E2%80%A6%22,%22%E2%80%A6%22],[%22Amps1%22],[],[%22H%22],[%22Measure%22],[%22Amps1%22]]}', width=900, height=600)"
   ]
  },
  {
   "cell_type": "markdown",
   "metadata": {},
   "source": [
    "### <font color=\"red\">Exercise</font> :  Explore the Deutsch's algorithm - with oracle having <font color=\"red\">Balanced</font> function\n",
    "- Explore the QUIRK circuit to gain intuition as to how it functions."
   ]
  },
  {
   "cell_type": "code",
   "execution_count": 494,
   "metadata": {},
   "outputs": [
    {
     "data": {
      "text/html": [
       "\n",
       "        <iframe\n",
       "            width=\"900\"\n",
       "            height=\"600\"\n",
       "            src=\"https://algassert.com/quirk#circuit=%7B%22cols%22%3A%5B%5B1%2C%22X%22%5D%2C%5B%22H%22%2C%22H%22%5D%2C%5B%22Amps2%22%5D%2C%5B%5D%2C%5B%22%E2%80%A6%22%2C%22%E2%80%A6%22%5D%2C%5B%22%E2%80%A2%22%2C%22X%22%5D%2C%5B%22%E2%80%A6%22%2C%22%E2%80%A6%22%5D%2C%5B%22Amps1%22%5D%2C%5B%5D%2C%5B%22H%22%5D%2C%5B%22Measure%22%5D%2C%5B%22Amps1%22%5D%5D%2C%22gates%22%3A%5B%7B%22id%22%3A%22~rkp5%22%2C%22name%22%3A%22Bal%22%2C%22circuit%22%3A%7B%22cols%22%3A%5B%5B%22%E2%80%A2%22%2C1%2C1%2C%22X%22%5D%5D%7D%7D%2C%7B%22id%22%3A%22~fju5%22%2C%22name%22%3A%22Con%22%2C%22circuit%22%3A%7B%22cols%22%3A%5B%5B1%2C1%2C1%2C%22X%22%5D%5D%7D%7D%5D%7D\"\n",
       "            frameborder=\"0\"\n",
       "            allowfullscreen\n",
       "        ></iframe>\n",
       "        "
      ],
      "text/plain": [
       "<IPython.lib.display.IFrame at 0x2bccca976a0>"
      ]
     },
     "execution_count": 494,
     "metadata": {},
     "output_type": "execute_result"
    }
   ],
   "source": [
    "# QUIRK (Quantum Curcuit Simulator) : Deutsch's algorithm - with oracle having BALANCED function.\n",
    "from IPython.display import IFrame\n",
    "IFrame(src='https://algassert.com/quirk#circuit=%7B%22cols%22%3A%5B%5B1%2C%22X%22%5D%2C%5B%22H%22%2C%22H%22%5D%2C%5B%22Amps2%22%5D%2C%5B%5D%2C%5B%22%E2%80%A6%22%2C%22%E2%80%A6%22%5D%2C%5B%22%E2%80%A2%22%2C%22X%22%5D%2C%5B%22%E2%80%A6%22%2C%22%E2%80%A6%22%5D%2C%5B%22Amps1%22%5D%2C%5B%5D%2C%5B%22H%22%5D%2C%5B%22Measure%22%5D%2C%5B%22Amps1%22%5D%5D%2C%22gates%22%3A%5B%7B%22id%22%3A%22~rkp5%22%2C%22name%22%3A%22Bal%22%2C%22circuit%22%3A%7B%22cols%22%3A%5B%5B%22%E2%80%A2%22%2C1%2C1%2C%22X%22%5D%5D%7D%7D%2C%7B%22id%22%3A%22~fju5%22%2C%22name%22%3A%22Con%22%2C%22circuit%22%3A%7B%22cols%22%3A%5B%5B1%2C1%2C1%2C%22X%22%5D%5D%7D%7D%5D%7D', width=900, height=600)"
   ]
  },
  {
   "cell_type": "markdown",
   "metadata": {},
   "source": [
    "### <font color=\"red\">Exercise</font> :  Explore the Deutsch's algorithm - Qiskit\n",
    "- Toggle the Oracle between **\"b\"** (*balanced*) and **\"c\"** (*constant*)- observe the behavior of the Algorithm."
   ]
  },
  {
   "cell_type": "code",
   "execution_count": 3,
   "metadata": {},
   "outputs": [],
   "source": [
    "from qiskit import QuantumCircuit, QuantumRegister, ClassicalRegister, execute, Aer, IBMQ, BasicAer\n",
    "import math\n",
    "from Our_Qiskit_Functions import *\n",
    "import numpy as np\n",
    "\n",
    "d_qr = QuantumRegister(2, name='d_qr')\n",
    "d_cl = ClassicalRegister(2, name='d_cl')\n",
    "\n",
    "d_qc = QuantumCircuit(d_qr, d_cl)\n",
    "\n",
    "\n",
    "def dq_blackbox_f():\n",
    "\n",
    "    # Construct First Half of Deutsch Circuit\n",
    "    #\n",
    "    d_qc.x( d_qr[1] )\n",
    "    d_qc.barrier()    # Barrier\n",
    "    d_qc.h( d_qr[0] )\n",
    "    d_qc.h( d_qr[1] )\n",
    "\n",
    "    \n",
    "    # Construct the Oracle:\n",
    "    # Set the Oracle to (b = balanced, c = continuous) - This is what you change.\n",
    "    #\n",
    "    d_oracle = \"b\"\n",
    "\n",
    "    \n",
    "    d_qc.barrier()    # Barrier\n",
    "\n",
    "    # if balanced - construct this Oracle\n",
    "    if d_oracle == \"b\":\n",
    "        d_qc.cx(d_qr[0], d_qr[1])\n",
    "\n",
    "    # if constant - - construct this different Oracle\n",
    "    if d_oracle == \"c\":   \n",
    "        d_qc.x(d_qr[1])\n",
    "    \n",
    "    \n",
    "    # Construct Second Half of Deutsch Circuit\n",
    "    #\n",
    "    d_qc.barrier()    # Barrier\n",
    "    d_qc.h( d_qr[0] )\n",
    "    d_qc.h( d_qr[1] )\n",
    "\n",
    "\n",
    "    # Measure the Curcuit\n",
    "    #\n",
    "    d_qc.measure(d_qr[0], d_cl[0])\n",
    "    # d_qc.measure(d_qr[1], d_cl[1]) => Not Necessary.\n",
    "\n",
    "\n",
    "    # Run the Program - use local simulator\n",
    "    #\n",
    "    backend = BasicAer.get_backend('qasm_simulator')\n",
    "    shots = 1024\n",
    "\n",
    "    # Get Results\n",
    "    #\n",
    "    results = execute(d_qc, backend=backend, shots=shots).result()\n",
    "\n",
    "    answer = results.get_counts()\n",
    "\n",
    "    # Debugging\n",
    "    # d_qc.draw(output='mpl') \n",
    "    \n",
    "    return answer\n",
    "\n",
    "\n",
    "def binaryToDecimal(binary): \n",
    "      \n",
    "    binary1 = binary \n",
    "    decimal, i, n = 0, 0, 0\n",
    "    while(binary != 0): \n",
    "        dec = binary % 10\n",
    "        decimal = decimal + dec * pow(2, i) \n",
    "        binary = binary//10\n",
    "        i += 1\n",
    "    # print(decimal)\n",
    "    return decimal\n",
    "    \n",
    "\n",
    "def quantum_determine_hidden_function_(dF):\n",
    "    \n",
    "    creg_value = list(dF.keys())[0]\n",
    "    \n",
    "    print(\"Measured Binary Value: \",creg_value)  \n",
    "    print(\"Measured Decimal Value: \",binaryToDecimal(int(creg_value)),\"\\n\")    \n",
    "    \n",
    "    # Then make the conclusion\n",
    "    #\n",
    "    if ( creg_value == '00' ):\n",
    "        print(\"Conclusion: f is CONSTANT\")\n",
    "    \n",
    "    else:\n",
    "        print(\"Conclusion: f is BALANCED\")\n",
    "        "
   ]
  },
  {
   "cell_type": "markdown",
   "metadata": {},
   "source": [
    "### <font color=\"red\">Notice</font> :  \n",
    "- As you toggle the Oracle between \"b\" and \"c\" - the Quantum Approach finds the nature of the Oracle in <font color=\"red\">ONE</font> call."
   ]
  },
  {
   "cell_type": "code",
   "execution_count": 4,
   "metadata": {},
   "outputs": [
    {
     "name": "stdout",
     "output_type": "stream",
     "text": [
      "Measured Binary Value:  01\n",
      "Measured Decimal Value:  1 \n",
      "\n",
      "Conclusion: f is BALANCED\n"
     ]
    }
   ],
   "source": [
    "# Call the Quantum BlackBox (Oracle) Function\n",
    "#\n",
    "dF = dq_blackbox_f()\n",
    "\n",
    "\n",
    "# Make ONE call to determine the nature of the function (Balanced or Continuous)\n",
    "#\n",
    "quantum_determine_hidden_function_(dF)"
   ]
  },
  {
   "cell_type": "markdown",
   "metadata": {},
   "source": [
    "#### Deutsch CONSTANT Circuit\n",
    "\n",
    "![Deutsch-Constant_circuit](img/Deutsch-Constant_circuit.png \"Deutsch-Constant_circuit\")\n",
    "\n",
    "<BR>\n",
    "    \n",
    "#### Deutsch BALANCED Circuit\n",
    "\n",
    "![Deutsch-Balanced_curcuit](img/Deutsch-Balanced_curcuit.png \"Deutsch-Balanced_curcuit\")"
   ]
  },
  {
   "cell_type": "code",
   "execution_count": null,
   "metadata": {},
   "outputs": [],
   "source": []
  },
  {
   "cell_type": "code",
   "execution_count": null,
   "metadata": {},
   "outputs": [],
   "source": []
  },
  {
   "cell_type": "markdown",
   "metadata": {},
   "source": [
    "# <font color=\"blue\">The Deutsch-Josza Algorithm</font>  \n",
    "> The generalized (**n** Qubits) Case."
   ]
  },
  {
   "cell_type": "markdown",
   "metadata": {},
   "source": [
    "![Deutsch-Joza-Banner](img/Deutsch-Joza-Banner.png \"Deutsch-Joza-Banner\")\n",
    "\n",
    "<BR>\n",
    "\n",
    "![Deutsch-Joza-CallS](img/Deutsch-Jozsa-Calls.png \"Deutsch-Joza-Calls\")"
   ]
  },
  {
   "cell_type": "code",
   "execution_count": null,
   "metadata": {},
   "outputs": [],
   "source": []
  },
  {
   "cell_type": "markdown",
   "metadata": {},
   "source": [
    "### <font color=\"red\">Exercise</font> :  Deutsch-Jozsa Algorithm w/Oracle (CONSTANT) function (w/QUIRK)\n",
    "\n",
    "<BR>\n",
    "\n",
    "![Deutsch-Jozsa-Constant-Circuit-QUIRK](img/Deutsch-Jozsa-Constant-Circuit-QUIRK.png \"Deutsch-Jozsa-Constant-Circuit-QUIRK\")\n",
    "\n",
    "- Obeserve the 100% probability of measuring **|0>** in the below circuit and tinker w/the circuit to develop some intuition."
   ]
  },
  {
   "cell_type": "code",
   "execution_count": 19,
   "metadata": {
    "scrolled": false
   },
   "outputs": [
    {
     "data": {
      "text/html": [
       "\n",
       "        <iframe\n",
       "            width=\"900\"\n",
       "            height=\"600\"\n",
       "            src=\"https://algassert.com/quirk#circuit={%22cols%22:[[1,1,1,%22X%22],[%22H%22,%22H%22,%22H%22,%22H%22],[%22%E2%80%A6%22,%22%E2%80%A6%22,%22%E2%80%A6%22],[1,1,1,%22X%22],[%22%E2%80%A6%22,%22%E2%80%A6%22,%22%E2%80%A6%22],[%22Amps3%22],[],[%22H%22,%22H%22,%22H%22],[%22Amps3%22]],%22gates%22:[{%22id%22:%22~rkp5%22,%22name%22:%22Bal%22,%22circuit%22:{%22cols%22:[[%22%E2%80%A2%22,1,1,%22X%22]]}},{%22id%22:%22~fju5%22,%22name%22:%22Con%22,%22circuit%22:{%22cols%22:[[1,1,1,%22X%22]]}}]}\"\n",
       "            frameborder=\"0\"\n",
       "            allowfullscreen\n",
       "        ></iframe>\n",
       "        "
      ],
      "text/plain": [
       "<IPython.lib.display.IFrame at 0x2500826e208>"
      ]
     },
     "execution_count": 19,
     "metadata": {},
     "output_type": "execute_result"
    }
   ],
   "source": [
    "# QUIRK (Quantum Curcuit Simulator)\n",
    "from IPython.display import IFrame\n",
    "IFrame(src='https://algassert.com/quirk#circuit={%22cols%22:[[1,1,1,%22X%22],[%22H%22,%22H%22,%22H%22,%22H%22],[%22%E2%80%A6%22,%22%E2%80%A6%22,%22%E2%80%A6%22],[1,1,1,%22X%22],[%22%E2%80%A6%22,%22%E2%80%A6%22,%22%E2%80%A6%22],[%22Amps3%22],[],[%22H%22,%22H%22,%22H%22],[%22Amps3%22]],%22gates%22:[{%22id%22:%22~rkp5%22,%22name%22:%22Bal%22,%22circuit%22:{%22cols%22:[[%22%E2%80%A2%22,1,1,%22X%22]]}},{%22id%22:%22~fju5%22,%22name%22:%22Con%22,%22circuit%22:{%22cols%22:[[1,1,1,%22X%22]]}}]}', width=900, height=600)"
   ]
  },
  {
   "cell_type": "code",
   "execution_count": null,
   "metadata": {},
   "outputs": [],
   "source": []
  },
  {
   "cell_type": "markdown",
   "metadata": {},
   "source": [
    "### <font color=\"red\">Exercise</font> :  Deutsch-Jozsa Algorithm w/Oracle (BALANCED) function (w/QUIRK)\n",
    "<BR>\n",
    "\n",
    "![Deutsch-Jozsa-Balanced-Circuit-QUIRK](img/Deutsch-Jozsa-Balanced-Circuit-QUIRK.png \"Deutsch-Jozsa-Balanced-Circuit-QUIRK\")\n",
    "\n",
    "- Obeserve the 0% probability of measuring **|0>** (anything Non-Zero) in the below circuit and tinker w/the circuit to develop some intuition."
   ]
  },
  {
   "cell_type": "code",
   "execution_count": 21,
   "metadata": {},
   "outputs": [
    {
     "data": {
      "text/html": [
       "\n",
       "        <iframe\n",
       "            width=\"900\"\n",
       "            height=\"600\"\n",
       "            src=\"https://algassert.com/quirk#circuit={%22cols%22:[[1,1,1,%22X%22],[%22H%22,%22H%22,%22H%22,%22H%22],[%22%E2%80%A6%22,%22%E2%80%A6%22,%22%E2%80%A6%22],[%22%E2%80%A2%22,1,1,%22X%22],[%22%E2%80%A6%22,%22%E2%80%A6%22,%22%E2%80%A6%22],[%22Amps3%22],[],[%22H%22,%22H%22,%22H%22],[%22Amps3%22]],%22gates%22:[{%22id%22:%22~rkp5%22,%22name%22:%22Bal%22,%22circuit%22:{%22cols%22:[[%22%E2%80%A2%22,1,1,%22X%22]]}},{%22id%22:%22~fju5%22,%22name%22:%22Con%22,%22circuit%22:{%22cols%22:[[1,1,1,%22X%22]]}}]}\"\n",
       "            frameborder=\"0\"\n",
       "            allowfullscreen\n",
       "        ></iframe>\n",
       "        "
      ],
      "text/plain": [
       "<IPython.lib.display.IFrame at 0x2500826e128>"
      ]
     },
     "execution_count": 21,
     "metadata": {},
     "output_type": "execute_result"
    }
   ],
   "source": [
    "# QUIRK (Quantum Curcuit Simulator) \n",
    "from IPython.display import IFrame\n",
    "IFrame(src='https://algassert.com/quirk#circuit={%22cols%22:[[1,1,1,%22X%22],[%22H%22,%22H%22,%22H%22,%22H%22],[%22%E2%80%A6%22,%22%E2%80%A6%22,%22%E2%80%A6%22],[%22%E2%80%A2%22,1,1,%22X%22],[%22%E2%80%A6%22,%22%E2%80%A6%22,%22%E2%80%A6%22],[%22Amps3%22],[],[%22H%22,%22H%22,%22H%22],[%22Amps3%22]],%22gates%22:[{%22id%22:%22~rkp5%22,%22name%22:%22Bal%22,%22circuit%22:{%22cols%22:[[%22%E2%80%A2%22,1,1,%22X%22]]}},{%22id%22:%22~fju5%22,%22name%22:%22Con%22,%22circuit%22:{%22cols%22:[[1,1,1,%22X%22]]}}]}', width=900, height=600)"
   ]
  },
  {
   "cell_type": "code",
   "execution_count": null,
   "metadata": {},
   "outputs": [],
   "source": []
  },
  {
   "cell_type": "markdown",
   "metadata": {},
   "source": [
    "### <font color=\"red\">Exercise</font> :  Deutsch-Jozsa Algorithm with Qiskit\n",
    "- Toggle the Oracle between \"b\" and \"c\" - observe the behavior of the Algorithm."
   ]
  },
  {
   "cell_type": "code",
   "execution_count": 1,
   "metadata": {},
   "outputs": [],
   "source": [
    "# initialization\n",
    "%matplotlib inline\n",
    "%config InlineBackend.figure_format = 'svg' # Makes the images look nice\n",
    "import numpy as np\n",
    "\n",
    "# importing Qiskit\n",
    "from qiskit import IBMQ, BasicAer\n",
    "from qiskit.providers.ibmq import least_busy\n",
    "from qiskit import QuantumCircuit, execute\n",
    "\n",
    "# import basic plot tools\n",
    "from qiskit.visualization import plot_histogram   \n",
    "            \n",
    "\n",
    "def dzq_blackbox_f():\n",
    "    \n",
    "    # set the length of the n-bit string. \n",
    "    n = 2\n",
    "\n",
    "    \n",
    "    # Construct FIRST HALF of the Circuit\n",
    "    #\n",
    "    # n qubits for querying the oracle, and one qubit for storing the answer\n",
    "    #\n",
    "    djCircuit = QuantumCircuit(n+1, n)\n",
    "    \n",
    "\n",
    "    # Since all qubits are initialized to |0>, \n",
    "    # flip the second register qubit to the |1> state\n",
    "    # \n",
    "    djCircuit.x(n)\n",
    "    djCircuit.barrier()     # Apply barrier\n",
    "    djCircuit.h(range(n+1)) # Apply Hadamard gates to all qubits\n",
    "    djCircuit.barrier()     # Apply barrier \n",
    "\n",
    "    \n",
    "    # Construct the Oracle:\n",
    "    # set the oracle, b for balanced, c for constant : (*** Toggle/Change this ***)\n",
    "    #\n",
    "    oracle = \"c\"\n",
    "    \n",
    "    # if the oracle is balanced, set the hidden bitstring, b to decmal 3 (or 11 in binary)\n",
    "    if oracle == \"b\":\n",
    "        # b = 3\n",
    "        b = np.random.randint(1,2**n)  # uncomment for a random value\n",
    "        \n",
    "\n",
    "    # if the oracle is constant, set c = 0 or 1 randomly.\n",
    "    if oracle == \"c\":\n",
    "        # c = 1 \n",
    "        c = np.random.randint(2) # uncomment for a random value\n",
    "        \n",
    "    # Query the oracle\n",
    "    if oracle == \"c\": # if the oracle is constant, apply the appropriate gate to the circuit\n",
    "        if c == 1:\n",
    "            djCircuit.x(n)      # NOT gate\n",
    "        else:\n",
    "            djCircuit.iden(n)   # ID gate\n",
    "    else: \n",
    "        # otherwise, the oracle is balanced - construct a gate sequence that returns the inner product \n",
    "        # of the input with b (non-zero bitstring) \n",
    "        for i in range(n):\n",
    "            if (b & (1 << i)):\n",
    "                djCircuit.cx(i, n)\n",
    "                \n",
    "                \n",
    "    # Construct SECOND HALF of the Circuit\n",
    "    #\n",
    "    djCircuit.barrier()  # Apply barrier\n",
    "    djCircuit.h(range(n)) # Apply Hadamard gates to the first \"register\" after querying the oracle (q0, q1)\n",
    "    djCircuit.measure(range(n), range(n)) # Measure the first register (the 2nd register gets unmeasured)\n",
    "\n",
    "    \n",
    "    # Run the Program\n",
    "    #\n",
    "    # use local simulator\n",
    "    backend = BasicAer.get_backend('qasm_simulator')\n",
    "    shots = 1024\n",
    "\n",
    "    # Get Results\n",
    "    #\n",
    "    results = execute(djCircuit, backend=backend, shots=shots).result()\n",
    "    answer = results.get_counts()\n",
    "\n",
    "    return answer\n",
    "\n",
    "\n",
    "\n",
    "def quantum_determine_hidden_function_(F):\n",
    "    \n",
    "    # Print out the Classical Register Value (Binary)\n",
    "    #\n",
    "    for k in F:\n",
    "        binary_number = ''.join(reversed(k))\n",
    "        print(\"Measurements -> Classical Register: \", binary_number)    \n",
    "    \n",
    "    # Print out the Decimal Number equivalent\n",
    "    #    \n",
    "    decimal_Number = 0\n",
    "\n",
    "    for key,val in F.items():\n",
    "        decimal_Number = sum([(int(x) << i) for i,x in enumerate(key)])\n",
    "        print('Decimal number:', decimal_Number)    \n",
    "      \n",
    "    print(\"\\n\")\n",
    "        \n",
    "    # Make the conclusion\n",
    "    #\n",
    "    if ( decimal_Number == 0 ):\n",
    "        print(\"Conclusion: f is CONSTANT\")\n",
    "    else:\n",
    "        print(\"Conclusion: f is BALANCED\")\n",
    "        "
   ]
  },
  {
   "cell_type": "markdown",
   "metadata": {},
   "source": [
    "#### NOTE: \"00\" state means CONSTANT, anything else is BALANCED."
   ]
  },
  {
   "cell_type": "code",
   "execution_count": 2,
   "metadata": {
    "scrolled": false
   },
   "outputs": [
    {
     "name": "stdout",
     "output_type": "stream",
     "text": [
      "Measurements -> Classical Register:  00\n",
      "Decimal number: 0\n",
      "\n",
      "\n",
      "Conclusion: f is CONSTANT\n"
     ]
    }
   ],
   "source": [
    "#\n",
    "# Get the list of possible functions from the blackbox Oracle.\n",
    "#\n",
    "F = dzq_blackbox_f()\n",
    "\n",
    "#\n",
    "# Make ONE call to determine the nature of the function (Balanced or Continuous)\n",
    "#\n",
    "quantum_determine_hidden_function_(F)\n"
   ]
  },
  {
   "cell_type": "markdown",
   "metadata": {},
   "source": [
    "#### NOTE: There are many possible circuits w/Oracles - this is an example of one of them."
   ]
  },
  {
   "cell_type": "markdown",
   "metadata": {},
   "source": [
    "![circuit-Deutsch-Joza-Algorithm](img/circuit-Deutsch-Joza-Algorithm.png \"circuit-Deutsch-Joza-Algorithm\")"
   ]
  },
  {
   "cell_type": "code",
   "execution_count": null,
   "metadata": {},
   "outputs": [],
   "source": []
  },
  {
   "cell_type": "code",
   "execution_count": null,
   "metadata": {},
   "outputs": [],
   "source": []
  },
  {
   "cell_type": "markdown",
   "metadata": {},
   "source": [
    "## <font color=\"red\">Developmental Detour</font>: -  <font color=\"blue\">CPhase (and its Representations)</font>\n",
    "\n",
    "<BR>\n",
    "    \n",
    "![cphase-representations](img/cphase-representations.png \"cphase-representations\")\n",
    "\n",
    "- **NOTE**: CPHASE **only acts** when it's control bit is **ONE** and it only affects target qubit states have a value of **ONE |1>**.\n",
    "<BR>\n",
    "    \n",
    "    \n",
    "### <font color=\"blue\">Why this is important</font>:    \n",
    "    \n",
    "- CPhase employs a kind of **\"entanglement-generating\"** conditional logic that has a **\"symmetry\"** between it's **inputs** such that it is **<font color=\"red\">irrelevant</font>** which qubit is considered the  **<font color=\"blue\">target</font>** and which qubit is considered the  **<font color=\"blue\">control</font>**. \n",
    "  \n",
    "  \n",
    "- This is vital to understanding the topic(s) of **Phase Kickback\"** and **Phase Logic**.\n",
    "  "
   ]
  },
  {
   "cell_type": "code",
   "execution_count": null,
   "metadata": {},
   "outputs": [],
   "source": []
  },
  {
   "cell_type": "markdown",
   "metadata": {},
   "source": [
    "### <font color=\"red\">Exercise</font> :  CPhase Implementation (<font color=\"blue\">QCEngine</font>)\n",
    "\n",
    "- Cut-N-Paste the below code into the QCEngine and run it.\n",
    "- Examine the output area to gain intuition about the two representations of the CPHASE gate by clicking in the output areas and observing the behavior of the circle plots (pay attention to the phase angles)\n",
    "- Move the Standard Phase gated to ANY arbitrary qubit in the circuit and observe how that does not alter it's effect on the entire circuit.\n",
    "- Notice how the CPhase Implementation is Reversible - executing it twice returns the qubit back to it's original state\n"
   ]
  },
  {
   "cell_type": "raw",
   "metadata": {},
   "source": [
    "// ######## QCEngine CPhase Gate and Alternatate Representations\n",
    "\n",
    "qc.reset(3);\n",
    "\n",
    "// Create two registers\n",
    "var qreg = qint.new(3, 'Register 1');\n",
    "\n",
    "// Write the binary Number 7 (111) to the register\n",
    "qreg.write(7);\n",
    "\n",
    "// Create the CPhase Gate\n",
    "qc.label(\"CPHASE Gate\")\n",
    "qc.nop();\n",
    "// CPHASE Gate\n",
    "qreg.cphase(0, 1, 4);\n",
    "qc.nop();\n",
    "qc.label();\n",
    "\n",
    "// Apply a standard Phase Rotation to ANY arbitrary Qubit \n",
    "// Change the number 2 to either 1 or 3 to move the standard phase gate\n",
    "qc.nop();\n",
    "qreg.phase(90, 2);\n",
    "qc.nop();\n",
    "\n",
    "// Create the CPhase H-CNOT Gate Representation\n",
    "qc.label(\"CPHASE H-CNOT Gate\")\n",
    "qc.nop();\n",
    "// CPhase H-CNOT Gate Representation\n",
    "qreg.had(4);\n",
    "qreg.cnot(4,1);\n",
    "qreg.had(4);\n",
    "qc.nop();\n",
    "qc.label();\n",
    "\n",
    "// Apply a standard Phase Rotation to ANY arbitrary Qubit \n",
    "// Change the number 2 to either 1 or 3 to move the standard phase gate\n",
    "qc.nop();\n",
    "qreg.phase(90, 2);\n",
    "qc.nop();\n"
   ]
  },
  {
   "cell_type": "code",
   "execution_count": 27,
   "metadata": {},
   "outputs": [
    {
     "data": {
      "text/html": [
       "\n",
       "        <iframe\n",
       "            width=\"1200\"\n",
       "            height=\"600\"\n",
       "            src=\"http://oreilly-qc.github.io?p=3-3\"\n",
       "            frameborder=\"0\"\n",
       "            allowfullscreen\n",
       "        ></iframe>\n",
       "        "
      ],
      "text/plain": [
       "<IPython.lib.display.IFrame at 0x19a31d64a58>"
      ]
     },
     "execution_count": 27,
     "metadata": {},
     "output_type": "execute_result"
    }
   ],
   "source": [
    "# QUIRK (Quantum Curcuit Simulator) \n",
    "from IPython.display import IFrame\n",
    "IFrame(src='http://oreilly-qc.github.io?p=3-3', width=1200, height=600)"
   ]
  },
  {
   "cell_type": "code",
   "execution_count": null,
   "metadata": {},
   "outputs": [],
   "source": []
  },
  {
   "cell_type": "markdown",
   "metadata": {},
   "source": [
    "### <font color=\"red\">Exercise</font> :  CPhase Implementation (<font color=\"blue\">QUIRK</font>)\n",
    "\n",
    "- Note: The inputs to the circuit are decimal 7 (binary 111) - so the phase changes will be specifically important to the decimal 7 position of Amplitude widget.\n",
    "- Examine the alternate implementation of the CPhase Gate - notice the effects of entanglement by moving the message gate to each of the qubits and observe that the decimal #7 phase undergoes change regardless of which qubit line the message gate is active on.\n"
   ]
  },
  {
   "cell_type": "code",
   "execution_count": 22,
   "metadata": {},
   "outputs": [
    {
     "data": {
      "text/html": [
       "\n",
       "        <iframe\n",
       "            width=\"900\"\n",
       "            height=\"600\"\n",
       "            src=\"https://algassert.com/quirk#circuit={%22cols%22:[[1,1,%22H%22],[%22%E2%80%A2%22,1,%22X%22],[1,1,%22H%22],[%22%E2%80%A6%22,%22%E2%80%A6%22,%22%E2%80%A6%22],[1,%22~87lj%22],[%22Bloch%22,%22Bloch%22,%22Bloch%22],[%22Amps3%22],[],[%22Chance3%22],[%22Density3%22]],%22gates%22:[{%22id%22:%22~87lj%22,%22name%22:%22message%22,%22circuit%22:{%22cols%22:[[%22e^-iYt%22],[%22X^t%22]]}},{%22id%22:%22~f7c0%22,%22name%22:%22received%22,%22matrix%22:%22{{1,0},{0,1}}%22}],%22init%22:[1,1,1]}\"\n",
       "            frameborder=\"0\"\n",
       "            allowfullscreen\n",
       "        ></iframe>\n",
       "        "
      ],
      "text/plain": [
       "<IPython.lib.display.IFrame at 0x19a52a29828>"
      ]
     },
     "execution_count": 22,
     "metadata": {},
     "output_type": "execute_result"
    }
   ],
   "source": [
    "# QUIRK (Quantum Curcuit Simulator) \n",
    "from IPython.display import IFrame\n",
    "IFrame(src='https://algassert.com/quirk#circuit={%22cols%22:[[1,1,%22H%22],[%22%E2%80%A2%22,1,%22X%22],[1,1,%22H%22],[%22%E2%80%A6%22,%22%E2%80%A6%22,%22%E2%80%A6%22],[1,%22~87lj%22],[%22Bloch%22,%22Bloch%22,%22Bloch%22],[%22Amps3%22],[],[%22Chance3%22],[%22Density3%22]],%22gates%22:[{%22id%22:%22~87lj%22,%22name%22:%22message%22,%22circuit%22:{%22cols%22:[[%22e^-iYt%22],[%22X^t%22]]}},{%22id%22:%22~f7c0%22,%22name%22:%22received%22,%22matrix%22:%22{{1,0},{0,1}}%22}],%22init%22:[1,1,1]}', width=900, height=600)"
   ]
  },
  {
   "cell_type": "code",
   "execution_count": null,
   "metadata": {},
   "outputs": [],
   "source": []
  },
  {
   "cell_type": "code",
   "execution_count": null,
   "metadata": {},
   "outputs": [],
   "source": []
  },
  {
   "cell_type": "markdown",
   "metadata": {},
   "source": [
    "## <font color=\"red\">Developmental Detour</font>: -  <font color=\"blue\">Phase Kickback</font>\n",
    "\n",
    "> - **Definition**: When the **phases** of one register are **conditioned** upon the **values** of another register, then any phase changes executed on the one register **also affects the other registers phases** and are **cumulative** - aka, they get **\"kicked back\"** to the other register and **\"add up\"**.\n",
    "\n",
    "    \n",
    "![phase-kickback-diagram](img/phase-kickback-diagram.png \"phase-kickback-diagram\")\n",
    "\n"
   ]
  },
  {
   "cell_type": "markdown",
   "metadata": {},
   "source": [
    "### <font color=\"red\">Exercise</font> :  Phase Kickback Trick (<font color=\"blue\">QCEngine</font>)\n",
    "\n",
    "- Experiment with the Program Circuit Output Display (clicking on the various points on the circuit) to see how the circle diagrams behave (for intuitions sake).\n",
    "- The **Phase Degrees** should be aprox: (**0, +45, +90, +135**) for decimal numbers (**4, 5, 6 7**).\n",
    "\n",
    "\n",
    "<BR>\n",
    "    \n",
    "![phase-kickback-trick-circle-charts](img/phase-kickback-trick-circle-charts.png \"phase-kickback-trick-circle-charts\")    \n",
    "    \n",
    "The **Relative Phase** (aka. Rotation)\n",
    "- <font color=\"red\">**Important**</font>: Phase operations <font color=\"red\">**only**</font> rotate the circle associated with the **|1>** state and will have <font color=\"red\">**no**</font> effect on the **|0>** state.\n",
    "![circle-plot-phase-rotations](img/circle-plot-phase-rotation.png \"circle-plot-phase-rotations\")\n",
    "\n"
   ]
  },
  {
   "cell_type": "code",
   "execution_count": 45,
   "metadata": {
    "scrolled": false
   },
   "outputs": [
    {
     "data": {
      "text/html": [
       "\n",
       "        <iframe\n",
       "            width=\"1200\"\n",
       "            height=\"600\"\n",
       "            src=\"http://oreilly-qc.github.io?p=3-3\"\n",
       "            frameborder=\"0\"\n",
       "            allowfullscreen\n",
       "        ></iframe>\n",
       "        "
      ],
      "text/plain": [
       "<IPython.lib.display.IFrame at 0x19a52a43630>"
      ]
     },
     "execution_count": 45,
     "metadata": {},
     "output_type": "execute_result"
    }
   ],
   "source": [
    "# QUIRK (Quantum Curcuit Simulator) \n",
    "from IPython.display import IFrame\n",
    "IFrame(src='http://oreilly-qc.github.io?p=3-3', width=1200, height=600)"
   ]
  },
  {
   "cell_type": "code",
   "execution_count": null,
   "metadata": {},
   "outputs": [],
   "source": []
  },
  {
   "cell_type": "markdown",
   "metadata": {},
   "source": [
    "### <font color=\"red\">Exercise</font> :  Phase Kickback Trick (<font color=\"blue\">QUIRK</font>)\n",
    "- Experiment with the QUIRK Implementation to see how the phase circle diagrams behave (for intuitions sake).\n",
    "- The **Phase Degrees** should be aprox: (**0, +45, +90, +135**) for decimal numbers (**4, 5, 6 7**).\n",
    "- **Note** the changes in the Phase Formula for QUIRK vs QCEngine (Roughly 2X).\n",
    "\n",
    "<BR>\n",
    "    \n",
    "![phase-kickback-trick-QUIRK](img/phase-kickback-trick-QUIRK2.png \"phase-kickback-trick-QUIRK\")\n",
    "\n",
    "<BR>\n",
    "    \n",
    "\n",
    "> ### REFERENCE: QUIRK C-Phases:\n",
    "![QUIRK-C-Phases](img/QUIRK-C-Phases1.png \"QUIRK-C-Phases\")\n"
   ]
  },
  {
   "cell_type": "code",
   "execution_count": 18,
   "metadata": {
    "scrolled": false
   },
   "outputs": [
    {
     "data": {
      "text/html": [
       "\n",
       "        <iframe\n",
       "            width=\"900\"\n",
       "            height=\"600\"\n",
       "            src=\"https://algassert.com/quirk#circuit={%22cols%22:[[%22%E2%80%A6%22,1,%22X%22],[%22H%22,%22H%22],[%22%E2%80%A2%22,1,{%22id%22:%22Rzft%22,%22arg%22:%22pi/2%22}],[1,%22%E2%80%A2%22,{%22id%22:%22Rzft%22,%22arg%22:%22pi%22}],[%22Amps3%22]]}\"\n",
       "            frameborder=\"0\"\n",
       "            allowfullscreen\n",
       "        ></iframe>\n",
       "        "
      ],
      "text/plain": [
       "<IPython.lib.display.IFrame at 0x19a52a29668>"
      ]
     },
     "execution_count": 18,
     "metadata": {},
     "output_type": "execute_result"
    }
   ],
   "source": [
    "# QUIRK (Quantum Curcuit Simulator) \n",
    "from IPython.display import IFrame\n",
    "IFrame(src='https://algassert.com/quirk#circuit={%22cols%22:[[%22%E2%80%A6%22,1,%22X%22],[%22H%22,%22H%22],[%22%E2%80%A2%22,1,{%22id%22:%22Rzft%22,%22arg%22:%22pi/2%22}],[1,%22%E2%80%A2%22,{%22id%22:%22Rzft%22,%22arg%22:%22pi%22}],[%22Amps3%22]]}', width=900, height=600)"
   ]
  },
  {
   "cell_type": "code",
   "execution_count": null,
   "metadata": {},
   "outputs": [],
   "source": []
  },
  {
   "cell_type": "code",
   "execution_count": null,
   "metadata": {},
   "outputs": [],
   "source": []
  },
  {
   "cell_type": "markdown",
   "metadata": {},
   "source": [
    "## <font color=\"red\">Developmental Detour</font> : -  <font color=\"blue\">Phase Logic</font>\n",
    "\n",
    "### <font color=\"blue\">Why this is important</font>: \n",
    "- *Phase Logic* undergirds many sophisticated (and powerful) manipulations used in the construction of Quantum Algorithms.\n",
    "- Phase Logic **encodes** information into relative phases by **writing the logical value of the qubit into its phases**.\n",
    "- NOTE: Phase Logic **requires** *magnitude-value* inputs and outputs **phases**.\n",
    "\n",
    "> - **<font color=\"blue\">Definition</font>:**: Phase Logic implements a given logic operation by **fliping the relative phases** of *values* in a register for which the *operation* would return a **ONE** value.\n",
    "\n",
    "\n",
    "![PhaseLogic-Explanation](img/PhaseLogic-Explanation.png \"PhaseLogic-Explanation\")\n",
    "\n",
    "\n",
    "<BR>\n",
    "\n",
    "![phase-logic-tips](img/phase-logic-tips.png \"phase-logic-tips\")\n",
    "    \n",
    "\n",
    "<BR>\n",
    "    \n",
    "\n",
    "    \n",
    "![phase-logic-gate-results](img/phase-logic-gate-results.png \"phase-logic-gate-results\")\n",
    "\n",
    "<BR>\n",
    "\n",
    "![phase-logic-gates](img/phase-logic-gates.png \"phase-logic-gates\")\n",
    "    \n",
    "\n"
   ]
  },
  {
   "cell_type": "code",
   "execution_count": null,
   "metadata": {},
   "outputs": [],
   "source": []
  },
  {
   "cell_type": "markdown",
   "metadata": {},
   "source": [
    "### <font color=\"red\">Exercise</font> :  Phase Logic (<font color=\"blue\">QCEngine</font>)\n",
    "\n",
    "- Experiment with the QCEngine Implementation to see how the various phase logic gates behave (for intuitions sake).\n",
    "- **Cut and paste** the **six** unique Phase Logic code implementations into the QCEngine and run them to observe how the phase manipulations behave - compare them to the chart above for verification purposes."
   ]
  },
  {
   "cell_type": "markdown",
   "metadata": {},
   "source": [
    "### Phase NOT Gate"
   ]
  },
  {
   "cell_type": "raw",
   "metadata": {},
   "source": [
    "// The Phase-NOT-Gate\n",
    "\n",
    "// Colorize Phase Shifts \n",
    "qc_options.color_by_phase=true\n",
    "\n",
    "// Setup:\n",
    "//\n",
    "var num_qubits = 1;\n",
    "qc.reset(num_qubits);\n",
    "var a = qint.new(1, 'a');\n",
    "a.write(0);\n",
    "\n",
    "// Set up Superposition\n",
    "//\n",
    "qc.label('Superposition');\n",
    "qc.nop();\n",
    "a.had();\n",
    "qc.nop();\n",
    "qc.label();\n",
    "\n",
    "\n",
    "qc.nop();\n",
    "\n",
    "// Create the Phase NOT Gate\n",
    "//\n",
    "qc.label('Phase NOT');\n",
    "qc.nop();\n",
    "a.not();\n",
    "a.phase(180);\n",
    "a.not();\n",
    "qc.nop();"
   ]
  },
  {
   "cell_type": "markdown",
   "metadata": {},
   "source": [
    "### Phase OR Gate"
   ]
  },
  {
   "cell_type": "raw",
   "metadata": {},
   "source": [
    "// The Phase-OR-Gate\n",
    "\n",
    "// Colorize Phase Shifts \n",
    "qc_options.color_by_phase=true\n",
    "\n",
    "// Setup:\n",
    "//\n",
    "var num_qubits = 2;\n",
    "qc.reset(num_qubits);\n",
    "var a = qint.new(1, 'a');\n",
    "var b = qint.new(1, 'b');\n",
    "\n",
    "a.write(0);\n",
    "b.write(0);\n",
    "\n",
    "// Set up Superposition\n",
    "//\n",
    "qc.label('Superposition');\n",
    "qc.nop();\n",
    "a.had();\n",
    "b.had();\n",
    "qc.nop();\n",
    "qc.label();\n",
    "\n",
    "qc.nop();\n",
    "\n",
    "// Create the Phase OR Gate\n",
    "//\n",
    "qc.label('Phase OR');\n",
    "qc.nop();\n",
    "a.phase(180);\n",
    "\n",
    "// Same gate effectively\n",
    "//a.cz(b);\n",
    "qc.cphase(180);\n",
    "\n",
    "b.phase(180);\n",
    "qc.nop();\n",
    "qc.label();\n"
   ]
  },
  {
   "cell_type": "markdown",
   "metadata": {},
   "source": [
    "### Phase NOR Gate"
   ]
  },
  {
   "cell_type": "raw",
   "metadata": {},
   "source": [
    "// The Phase-NOR-Gate\n",
    "\n",
    "// Colorize Phase Shifts \n",
    "qc_options.color_by_phase=true\n",
    "\n",
    "// Setup:\n",
    "//\n",
    "var num_qubits = 2;\n",
    "qc.reset(num_qubits);\n",
    "var a = qint.new(1, 'a');\n",
    "var b = qint.new(1, 'b');\n",
    "\n",
    "a.write(0);\n",
    "b.write(0);\n",
    "\n",
    "// Set up Superposition\n",
    "//\n",
    "qc.label('Superposition');\n",
    "qc.nop();\n",
    "a.had();\n",
    "b.had();\n",
    "qc.nop();\n",
    "qc.label();\n",
    "\n",
    "qc.nop();\n",
    "\n",
    "// Create the Phase NOR Gate\n",
    "//\n",
    "qc.label('Phase NOR');\n",
    "qc.nop();\n",
    "a.not();\n",
    "b.not();\n",
    "\n",
    "// Same gate effectively\n",
    "//a.cz(b);\n",
    "qc.cphase(180);\n",
    "\n",
    "a.not();\n",
    "b.not();\n",
    "qc.nop();\n",
    "qc.label();\n"
   ]
  },
  {
   "cell_type": "markdown",
   "metadata": {},
   "source": [
    "### Phase AND Gate"
   ]
  },
  {
   "cell_type": "raw",
   "metadata": {},
   "source": [
    "// The Phase-AND-Gate\n",
    "\n",
    "// Colorize Phase Shifts \n",
    "qc_options.color_by_phase=true\n",
    "\n",
    "// Setup:\n",
    "//\n",
    "var num_qubits = 2;\n",
    "qc.reset(num_qubits);\n",
    "var a = qint.new(1, 'a');\n",
    "var b = qint.new(1, 'b');\n",
    "\n",
    "a.write(0);\n",
    "b.write(0);\n",
    "\n",
    "// Set up Superposition\n",
    "//\n",
    "qc.label('Superposition');\n",
    "qc.nop();\n",
    "a.had();\n",
    "b.had();\n",
    "qc.nop();\n",
    "qc.label();\n",
    "\n",
    "qc.nop();\n",
    "\n",
    "// Create the Phase AND Gate\n",
    "//\n",
    "qc.label('Phase AND');\n",
    "qc.nop();\n",
    "\n",
    "// Same gate effectively\n",
    "//a.cz(b);\n",
    "qc.cphase(180);\n",
    "\n",
    "qc.nop();\n",
    "qc.label();\n"
   ]
  },
  {
   "cell_type": "markdown",
   "metadata": {},
   "source": [
    "### Phase NAND Gate"
   ]
  },
  {
   "cell_type": "raw",
   "metadata": {},
   "source": [
    "// The Phase-NAND-Gate\n",
    "\n",
    "// Colorize Phase Shifts \n",
    "qc_options.color_by_phase=true\n",
    "\n",
    "// Setup:\n",
    "//\n",
    "var num_qubits = 2;\n",
    "qc.reset(num_qubits);\n",
    "var a = qint.new(1, 'a');\n",
    "var b = qint.new(1, 'b');\n",
    "\n",
    "a.write(0);\n",
    "b.write(0);\n",
    "\n",
    "// Set up Superposition\n",
    "//\n",
    "qc.label('Superposition');\n",
    "qc.nop();\n",
    "a.had();\n",
    "b.had();\n",
    "qc.nop();\n",
    "qc.label();\n",
    "\n",
    "qc.nop();\n",
    "\n",
    "// Create the Phase NAND Gate\n",
    "//\n",
    "qc.label('Phase NAND');\n",
    "qc.nop();\n",
    "a.not();\n",
    "b.not();\n",
    "a.phase(180);\n",
    "\n",
    "// Same gate effectively\n",
    "//a.cz(b);\n",
    "qc.cphase(180);\n",
    "\n",
    "b.phase(180);\n",
    "a.not();\n",
    "b.not();\n",
    "qc.nop();\n",
    "qc.label();\n"
   ]
  },
  {
   "cell_type": "markdown",
   "metadata": {},
   "source": [
    "### Phase XOR Gate"
   ]
  },
  {
   "cell_type": "raw",
   "metadata": {},
   "source": [
    "// The Phase-XOR-Gate\n",
    "\n",
    "// Colorize Phase Shifts \n",
    "qc_options.color_by_phase=true\n",
    "\n",
    "// Setup:\n",
    "//\n",
    "var num_qubits = 3;\n",
    "qc.reset(num_qubits);\n",
    "var a = qint.new(1, 'a');\n",
    "var b = qint.new(1, 'b');\n",
    "var c = qint.new(1, 'c');\n",
    "\n",
    "a.write(0);\n",
    "b.write(0);\n",
    "c.write(0);\n",
    "\n",
    "// Set up Superposition\n",
    "//\n",
    "qc.label('Superposition');\n",
    "qc.nop();\n",
    "a.had();\n",
    "b.had();\n",
    "// c.had();\n",
    "qc.nop();\n",
    "qc.label();\n",
    "\n",
    "qc.nop();\n",
    "\n",
    "// Pre-Processing\n",
    "qc.label('Pre-Proc');\n",
    "qc.nop();\n",
    "c.not();\n",
    "c.had();\n",
    "qc.nop();\n",
    "qc.label();\n",
    "\n",
    "qc.nop();\n",
    "\n",
    "// Create the Phase XOR Gate\n",
    "//\n",
    "qc.label('Phase XOR');\n",
    "qc.nop();\n",
    "c.cnot(a)\n",
    "c.cnot(b)\n",
    "qc.nop();\n",
    "qc.label();\n",
    "\n",
    "qc.nop();\n",
    "\n",
    "// Post-Processing\n",
    "qc.label('Post-Proc');\n",
    "qc.nop();\n",
    "c.had();\n",
    "c.not();\n",
    "qc.nop();\n",
    "qc.label();\n",
    "\n"
   ]
  },
  {
   "cell_type": "markdown",
   "metadata": {},
   "source": [
    "> ### Reference: Phase Logic Gates and their results\n",
    "\n",
    "\n",
    "<BR>\n",
    "    \n",
    "![phase-logic-gates](img/phase-logic-gates.png \"phase-logic-gates\")\n",
    "    \n",
    "\n",
    "<BR>\n",
    "    \n",
    "![phase-logic-gate-results](img/phase-logic-gate-results.png \"phase-logic-gate-results\")"
   ]
  },
  {
   "cell_type": "code",
   "execution_count": 46,
   "metadata": {
    "scrolled": false
   },
   "outputs": [
    {
     "data": {
      "text/html": [
       "\n",
       "        <iframe\n",
       "            width=\"900\"\n",
       "            height=\"600\"\n",
       "            src=\"http://oreilly-qc.github.io?p=10-1\"\n",
       "            frameborder=\"0\"\n",
       "            allowfullscreen\n",
       "        ></iframe>\n",
       "        "
      ],
      "text/plain": [
       "<IPython.lib.display.IFrame at 0x19a52a435c0>"
      ]
     },
     "execution_count": 46,
     "metadata": {},
     "output_type": "execute_result"
    }
   ],
   "source": [
    "# QUIRK (Quantum Curcuit Simulator) \n",
    "from IPython.display import IFrame\n",
    "IFrame(src='http://oreilly-qc.github.io?p=10-1', width=900, height=600)"
   ]
  },
  {
   "cell_type": "code",
   "execution_count": null,
   "metadata": {},
   "outputs": [],
   "source": []
  },
  {
   "cell_type": "code",
   "execution_count": null,
   "metadata": {},
   "outputs": [],
   "source": []
  },
  {
   "cell_type": "markdown",
   "metadata": {},
   "source": [
    "## <font color=\"red\">Developmental Detour</font>: -  <font color=\"blue\">Amplitude (<font color=\"black\">\"Magnitude\"</font>) Amplification</font>\n",
    "\n",
    "### <font color=\"blue\">Why this is important</font>: \n",
    "- *Amplitude Amplification* privides a process to transform **phase** information into **magnitude** information that can be read out when taking a final measurement.\n",
    "\n",
    "\n",
    "> - **<font color=\"blue\">Definition</font>:**: Amplitude Amplification is a tool that converts inaccessible (*hidden*) **phase** differences inside a QPU Curcuit into readable **magnitude** differences (*and vice Versa*).\n",
    "\n",
    "-  The Amplitude Amplification procedure stretches out (**amplifies**) the amplitude of the **marked item**, which **shrinks** the other items' amplitude, so that measuring the final state will return the right item with **near-certainty**.\n",
    "<BR>\n",
    "    \n",
    "    \n",
    "**<font color=\"black\">PROBLEM</font>:** - suppose we have a 4 qubit register that contains one of three quantum states (but we don't know which one as it's hidden in the phases of the circuit (*Key phases highlighted*).\n",
    "\n",
    "\n",
    "\n",
    "![amplitude-amplification-example](img/amplitude-amplification-example.png \"amplitude-amplification-example\")\n",
    "\n",
    "<BR>\n",
    "    \n",
    "    \n",
    "**<font color=\"black\">SOLUTION</font>:** - A single quantum algorithmic subroutine could reveal the hidden phase information by transforming it into magnitude information (*Key phases highlighted*).\n",
    "\n",
    "\n",
    "![amplitude-amplification-example-result](img/amplitude-amplification-example-result.png \"amplitude-amplification-example-result\")\n",
    "\n",
    "\n",
    "**<font color=\"black\">PROBLEM</font>:** - The resulting magnitude isn't as high as preferred to heavily influence the circuit toward a partucular value if it were to be measured.\n",
    "\n",
    "\n",
    "**<font color=\"black\">SOLUTION</font>:** - Apply the same tranform process multiple times to increase the probability.\n",
    "\n",
    "\n",
    "![amplitude-amplification-multiple-applications](img/amplitude-amplification-multiple-applications.png \"amplitude-amplification-multiple-applications\")\n"
   ]
  },
  {
   "cell_type": "code",
   "execution_count": null,
   "metadata": {},
   "outputs": [],
   "source": []
  },
  {
   "cell_type": "markdown",
   "metadata": {},
   "source": [
    "### <font color=\"red\">Exercise</font> :  Amplitude (\"Magnitude\") Amplification (<font color=\"blue\">QCEngine</font>)\n",
    "\n",
    "\n",
    "\n",
    "- Experiment with the QCEngine Implementation to see how the Amplitude Amplification (Diagram below)  behaves (for intuitions sake).\n",
    "- **Cut and paste** the simple Amplitude Amplification code implementation into the QCEngine and run it - observe how the qubit magnitude(s) (via the circle plots) behave by clicking through the resulting program circuit.\n",
    "- The below circuit is what is implemented in the code.\n",
    "\n",
    "<BR>\n",
    "\n",
    "![amplitude-amplification](img/amplitude-amplification.png \"amplitude-amplification\")"
   ]
  },
  {
   "cell_type": "markdown",
   "metadata": {},
   "source": [
    "### Amplitide (\"Magnitude\") Amplification"
   ]
  },
  {
   "cell_type": "raw",
   "metadata": {},
   "source": [
    "// The Amplitide (\"Magnitude\") Amplification Experiment\n",
    "\n",
    "// Colorize Phase Shifts \n",
    "qc_options.color_by_phase=true\n",
    "\n",
    "// Experiment Setup\n",
    "var num_qubits = 4;\n",
    "qc.reset(num_qubits);\n",
    "var reg = qint.new(num_qubits, 'reg')\n",
    "\n",
    "// Initialize register w/Zero's\n",
    "reg.write(0);\n",
    "\n",
    "\n",
    "// Set up Register Superposition\n",
    "//\n",
    "qc.label('Superposition');\n",
    "qc.nop();\n",
    "reg.hadamard();\n",
    "qc.nop();\n",
    "qc.label();\n",
    "\n",
    "qc.nop();\n",
    "\n",
    "// Flip Operation\n",
    "//\n",
    "qc.label('Flip');\n",
    "qc.nop();\n",
    "reg.not(4|8);\n",
    "reg.cphase(180);\n",
    "reg.not(4|8);\n",
    "qc.nop();\n",
    "qc.label();\n",
    "\n",
    "qc.nop();\n",
    "\n",
    "// Mirror Operation\n",
    "//\n",
    "qc.label('Mirror');\n",
    "qc.nop();\n",
    "reg.Grover(); // This is the MIRROR Operation Gate\n",
    "qc.nop();\n",
    "qc.label();\n",
    "\n"
   ]
  },
  {
   "cell_type": "code",
   "execution_count": 48,
   "metadata": {},
   "outputs": [
    {
     "data": {
      "text/html": [
       "\n",
       "        <iframe\n",
       "            width=\"1200\"\n",
       "            height=\"600\"\n",
       "            src=\"http://oreilly-qc.github.io?p=6-1\"\n",
       "            frameborder=\"0\"\n",
       "            allowfullscreen\n",
       "        ></iframe>\n",
       "        "
      ],
      "text/plain": [
       "<IPython.lib.display.IFrame at 0x19a52a43898>"
      ]
     },
     "execution_count": 48,
     "metadata": {},
     "output_type": "execute_result"
    }
   ],
   "source": [
    "# QUIRK (Quantum Curcuit Simulator) \n",
    "from IPython.display import IFrame\n",
    "IFrame(src='http://oreilly-qc.github.io?p=6-1', width=1200, height=600)"
   ]
  },
  {
   "cell_type": "code",
   "execution_count": null,
   "metadata": {},
   "outputs": [],
   "source": []
  },
  {
   "cell_type": "markdown",
   "metadata": {},
   "source": [
    "### <font color=\"red\">Exercise</font> :  Iterative Amplitude (\"Magnitude\") Amplification (<font color=\"blue\">QCEngine</font>)\n",
    "\n",
    "- Experiment with the QCEngine Implementation below to see how the various phase logic gates behave (for intuitions sake).\n",
    "- There are four Amplitude Amplification gates executed, the first few increases the amplitude to a desired state but observe that after a point dimminishing returns begins to take effect. Toggle through the circuit to gain intuition as to the AA Gates behavior.\n",
    "- Try adding a **5th** iteration by altering the variable **number_of_iterations = 5** - what effect does that have?\n",
    "\n"
   ]
  },
  {
   "cell_type": "code",
   "execution_count": null,
   "metadata": {},
   "outputs": [],
   "source": []
  },
  {
   "cell_type": "code",
   "execution_count": 33,
   "metadata": {},
   "outputs": [
    {
     "data": {
      "text/html": [
       "\n",
       "        <iframe\n",
       "            width=\"900\"\n",
       "            height=\"600\"\n",
       "            src=\"http://oreilly-qc.github.io?p=6-2\"\n",
       "            frameborder=\"0\"\n",
       "            allowfullscreen\n",
       "        ></iframe>\n",
       "        "
      ],
      "text/plain": [
       "<IPython.lib.display.IFrame at 0x19a31d64160>"
      ]
     },
     "execution_count": 33,
     "metadata": {},
     "output_type": "execute_result"
    }
   ],
   "source": [
    "# QUIRK (Quantum Curcuit Simulator) \n",
    "from IPython.display import IFrame\n",
    "IFrame(src='http://oreilly-qc.github.io?p=6-2', width=900, height=600)"
   ]
  },
  {
   "cell_type": "code",
   "execution_count": null,
   "metadata": {},
   "outputs": [],
   "source": []
  },
  {
   "cell_type": "code",
   "execution_count": null,
   "metadata": {},
   "outputs": [],
   "source": []
  },
  {
   "cell_type": "markdown",
   "metadata": {},
   "source": [
    "## <font color=\"red\">Developmental Detour</font>: -  <font color=\"blue\">Quantum Fourier Transform (<font color=\"black\">\"QFT\"</font>)</font>\n",
    "\n",
    "### <font color=\"blue\">Why this is important</font>: \n",
    "- *Quantum Fourier Transform (QFT)* privides a process (primitive) that allows access to hidden **patterns** and **information** stored in **relative phases** and **magnitudes** of the circuit.\n",
    "\n",
    "\n",
    "**<font color=\"black\">PROBLEM</font>:** - suppose we have a 4 qubit register that contains one of three quantum states (but we don't know which one as it's hidden in **both** the the **phases** and **magnitudes** of the circuit (*note those highlighted*).\n",
    "\n",
    "\n",
    "\n",
    "![QFT-states-hidden](img/QFT-states-hidden.png \"QFT-states-hidden\")\n",
    "\n",
    "<BR>\n",
    "    \n",
    "    \n",
    "**<font color=\"black\">SOLUTION</font>:** - A single quantum algorithmic subroutine could reveal the hidden phase information by transforming it into magnitude information (*note those highlighted*).\n",
    "\n",
    "\n",
    "![QFT-states-results](img/QFT-states-results.png \"QFT-states-results\")\n",
    "\n"
   ]
  },
  {
   "cell_type": "code",
   "execution_count": null,
   "metadata": {},
   "outputs": [],
   "source": []
  },
  {
   "cell_type": "markdown",
   "metadata": {},
   "source": [
    "### <font color=\"red\">Exercise</font> :  <font color=\"blue\">Quantum Fourier Transform (<font color=\"black\">\"QFT\"</font>) - QCEngine</font>\n",
    "\n",
    "- Experiment with the QCEngine Implementation below to see how the QFT process behaves (for intuitions sake).\n",
    "- Observe the results of this circuit (below) in the running of the circuit (below) in the code sample.\n",
    "- Notice (after the \"prepare\" Phase of the circuit) that the **180 degree phase gate** executed on the **0X1 cubit** (Cubit ONE) - only performs a phase flip on those qubits with a **ONE value** in the *binary table* below (highlighted) via the circle plots phase shifts.\n",
    "\n",
    "![QFT-A_ExampleResult](img/QFT-A_ExampleResult.png \"QFT-A_ExampleResult\")\n",
    "\n",
    "<BR>\n",
    "\n",
    "![QFT-circuit](img/QFT-circuit.png \"QFT-circuit\")\n",
    "\n",
    "<BR>\n",
    "\n",
    "![binary-table_0-15-NEW](img/binary-table_0-15-NEW.png \"binary-table_0-15-NEW\")"
   ]
  },
  {
   "cell_type": "code",
   "execution_count": 49,
   "metadata": {
    "scrolled": true
   },
   "outputs": [
    {
     "data": {
      "text/html": [
       "\n",
       "        <iframe\n",
       "            width=\"1200\"\n",
       "            height=\"600\"\n",
       "            src=\"http://oreilly-qc.github.io?p=7-1\"\n",
       "            frameborder=\"0\"\n",
       "            allowfullscreen\n",
       "        ></iframe>\n",
       "        "
      ],
      "text/plain": [
       "<IPython.lib.display.IFrame at 0x19a52a436d8>"
      ]
     },
     "execution_count": 49,
     "metadata": {},
     "output_type": "execute_result"
    }
   ],
   "source": [
    "# QUIRK (Quantum Curcuit Simulator) \n",
    "from IPython.display import IFrame\n",
    "IFrame(src='http://oreilly-qc.github.io?p=7-1', width=1200, height=600)"
   ]
  },
  {
   "cell_type": "code",
   "execution_count": null,
   "metadata": {},
   "outputs": [],
   "source": []
  },
  {
   "cell_type": "code",
   "execution_count": null,
   "metadata": {},
   "outputs": [],
   "source": []
  },
  {
   "cell_type": "markdown",
   "metadata": {},
   "source": [
    "![the-end](img/the-end.png \"the-end\")"
   ]
  }
 ],
 "metadata": {
  "kernelspec": {
   "display_name": "qcousins",
   "language": "python",
   "name": "qcousins"
  },
  "language_info": {
   "codemirror_mode": {
    "name": "ipython",
    "version": 3
   },
   "file_extension": ".py",
   "mimetype": "text/x-python",
   "name": "python",
   "nbconvert_exporter": "python",
   "pygments_lexer": "ipython3",
   "version": "3.7.1"
  }
 },
 "nbformat": 4,
 "nbformat_minor": 2
}
