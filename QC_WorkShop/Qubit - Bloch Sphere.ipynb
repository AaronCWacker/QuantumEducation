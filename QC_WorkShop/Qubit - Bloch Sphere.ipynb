{
 "cells": [
  {
   "cell_type": "markdown",
   "metadata": {},
   "source": [
    "# The Qubit and the Bloch Sphere"
   ]
  },
  {
   "cell_type": "markdown",
   "metadata": {},
   "source": [
    "![Qubit - Bloch Sphere](img/qubit-banner.png \"Qubit - Bloch Sphere\")\n",
    "\n",
    "<font color=\"red\">**Notice**</font>: All materials herein were created by **Matthew R. Versaggi (profversaggi@gmail.com)** and are released into the open source to foster growth and welfare of expanding the Quantum Computing domain - the only obligation one incurs when using, copying, distributing or referencing this is to kindly reference the author and send me an email so I know how useful the material is to you.\n",
    "\n",
    "<font color=\"red\">**Notice**</font>: Python Code contributions for the Circle Plots are the work of **David Radcliffe**."
   ]
  },
  {
   "cell_type": "markdown",
   "metadata": {},
   "source": [
    "## Pedagogical Approach: (<font color=\"red\">**Read this first !**</font>)\n",
    "\n",
    "This material is intended to educate **software engineers** in certain aspects of Quantum Computing, therefore its focus will be on conveying the conceptual ideas in a form digestible to them, and supporting it with exercises to reinforce those concepts. \n",
    "\n",
    "Because of that pedagogical approach, **this material won't lead with or heavily leverage the concepts and language indigenous to physics and math**, but only in those terms most easily digestible to the modern software engineer.\n",
    "\n",
    "This Jupyter Notebook is <font color=\"red\">**not intended as a stand alone educational vehicle**</font>  - it's meant to be accompanied by a decicated power point deck that contains the main concepts to be presented by an instructor -  **it is intended as a vehicle for a hands on workshop environment to facilitate learning through a guided experience.**\n",
    "\n",
    "> **Note:-** Because of the above educational approach:\n",
    "1. There is a certain amount of basic Quantum Computing knowledge that is assumed.\n",
    "2. An active internet connection is **always** assumed.\n",
    "3. Online references/links will be provided where appropriate\n",
    "4. References to books will be made where appropriate\n",
    "5. Much of this material is **dense and detailed**, the reader is <font color=\"red\">**cautioned**</font> to be careful and slow to digest the *nuances* of the material."
   ]
  },
  {
   "cell_type": "markdown",
   "metadata": {},
   "source": [
    "## What you will be exposed to - High level: \n",
    "\n",
    "\n",
    "- Software engineers in the Quantum Computing space need to know their way around a Qubit - that means developing intuition and proficiencies around: the structure of a Qubit / Bloch Sphere, the concepts of Phase and Amplitude, and importantly the concept of rotations of the point on the sphere of a Qubit / Bloch Sphere. \n",
    "- Given the above, there are a host of technical concepts that need to be understood experientially, like the wave function, and interference.\n",
    "- There are also various useful hands-on vehicles for illustrating / learning those concepts - we'll intentionally employ a vendor / framework agnostic approach to focus on the delivery of concept understanding and intuition procurement as the main value-add.\n",
    "\n",
    "> ### High Level Agenda (<font color=\"red\">*major sections*</font>): - a first set of basic skills for the software engineer.\n",
    "1. Basic Concepts (*Minimalistic*) \n",
    "2. Phases and the Bloch Sphere\n",
    "3. Amplitudes and the Bloch Sphere\n",
    "4. Single Gate Rotations and the Bloch Sphere\n",
    "\n",
    "\n"
   ]
  },
  {
   "cell_type": "markdown",
   "metadata": {},
   "source": [
    "#  <font color=\"blue\">Basic Concepts:</font>"
   ]
  },
  {
   "cell_type": "markdown",
   "metadata": {},
   "source": [
    "## Bloch Sphere Definition\n",
    "\n",
    "> ### The Bloch Sphere is a **geometric representation** of **Qubit states** as **points** on the **surface of a sphere**.\n",
    "- https://en.wikipedia.org/wiki/Bloch_sphere\n",
    "\n",
    "- **Amplitude** is represented by the angle **\"Theta\" θ**\n",
    "- **Phase** is represented by the angle **\"Phi\"** &phi;.\n",
    "\n"
   ]
  },
  {
   "cell_type": "markdown",
   "metadata": {},
   "source": [
    "![naked-qubit](img/naked-qubit.png \"naked-qubit\")"
   ]
  },
  {
   "cell_type": "markdown",
   "metadata": {},
   "source": [
    "## Radians\n",
    "\n",
    "> Radians are a central metric when performing Qubit rotations, therefore they are important to understand and develop an intuition about.\n",
    "\n",
    "When talking about quantum computing, **rotations are measured in radians**. Radians are simply a way of measuring angles in terms of **π** rather than in degrees – for example, there are **2π radians in a full circle**. \n",
    "\n",
    "> Angles are traditionally measured counter-clockwise. The diagram below shows the key concepts:\n",
    "\n",
    "![circle-radians](img/circle_radians.gif \"circle-radians\")"
   ]
  },
  {
   "cell_type": "markdown",
   "metadata": {},
   "source": [
    "## Point on the Bloch Sphere\n",
    "\n",
    "> Points on the Bloch SPhere are central to all of quantum computing and the manipulation of them must be mastered.\n",
    "\n",
    "Any **point** on the **Bloch Sphere** is determined by a **formula** that contains (among other things, like **1 and 0** ) **Amplitudes** (*probabilities upon measurement*) and **Phases** (*interference*). \n",
    "\n",
    "> ### The **basic formula** is : <font color=\"blue\">**|ψ> = α|0> + β|1>**</font> .\n",
    "\n",
    "> ### The more **elaborate general equation** is: <font color=\"blue\">**|ψ> = r<sub>1</sub>|0> + r<sub>2</sub>e<sup>iφ</sup> |1>**</font> .\n",
    "- (**r1** and **r2** are the magnitudes, and **φ** is the relative phase.)\n",
    "\n",
    "> **<font color=\"red\">However</font>** - you will **also** see this representation in one of the tools used for Qubit intuition building.\n",
    "\n",
    "![Point on Bloch Sphere](img/PointOnBS-Equation.png \"Point on Bloch Sphere\")\n",
    "\n"
   ]
  },
  {
   "cell_type": "markdown",
   "metadata": {},
   "source": [
    "## Amplitudes and Phases\n",
    "\n",
    "> Amplitudes and Phases are a critical consideration in quantum computing and power the computational ability of the qubit.\n",
    "\n",
    "**Amplitudes** and **Phases** are important parts of the \"Wave Function\" (used when putting a Qubit in **Superposition** ):\n",
    "\n",
    "![wave-function](img/wave-function.png \"wave-function\")\n",
    "\n",
    "\n",
    "The illustration above (the **sinusoidal wave**) shows the *basic concepts*: we have a **<font color=\"red\">wave</font>** – a kind of cyclic thing – with a **wavelength** of **<font color=\"red\">λ</font>**, an **amplitude** (or height) **<font color=\"red\">A0</font>**, and a **phase shift** of <font color=\"red\">**φ**</font>."
   ]
  },
  {
   "cell_type": "markdown",
   "metadata": {},
   "source": [
    "Amplitudes and Phases are **important characteristics** of a Quantum Wave Function, and **provide the following benefits**  (*among others*):\n",
    "\n",
    "<font color=\"blue\">**Amplitudes:**</font>\n",
    "\n",
    "> **Amplitude Amplification** - Very simply, amplitude amplification is a tool that converts inaccessible phase differences inside a QPU register into READable magnitude differences (and vice versa).\n",
    "\n",
    "> **Amplitude Encoding** (of data [vectors]) as novel representations of problems.\n",
    "\n",
    "<font color=\"blue\">**Phases:**</font>  \n",
    "\n",
    "> **Phase Logic** (elementary / complex) - (Interference) - we can crucially take advantage of phase rotations to cleverly and indirectly affect the chances that we will eventually read out different values of the Qubit. In fact, **well-engineered relative phases can provide an astonishing computational advantage.** \n",
    "\n",
    "> **Phase Encoding** - an example:supersampling - as novel representations of problems.\n",
    "\n",
    "\n"
   ]
  },
  {
   "cell_type": "markdown",
   "metadata": {},
   "source": [
    "<font color=\"red\">**Note**</font>: The entire hope for getting a speed advantage from a quantum computer is to **exploit the way that these amplitudes work** differently than probabilities. \n",
    "\n",
    "The main thing that amplitudes can do (*that probabilities can't do*) is they can **interfere with each other** via leveraging the Phases as a computational vehicle."
   ]
  },
  {
   "cell_type": "markdown",
   "metadata": {},
   "source": [
    "<font color=\"red\">**Note**</font>:  A qubit in this **superposition state** does *not* have a value in between \"0\" and \"1\" - rather, when measured, the qubit has a **probability α^2 ** of the **value “0”** and a **probability β^2 ** of the **value \"1\"**.\n",
    "\n",
    "> ### The **basic formula** is : **|ψ> = α|0> + β|1>**"
   ]
  },
  {
   "cell_type": "markdown",
   "metadata": {},
   "source": [
    "## Qubit / Bloch Sphere Basis Elements\n",
    "\n",
    "> Mathematical Basis is an important concept to be aware of and understand as it's central to Qubit manipulations.\n",
    "\n",
    "\n",
    "There are **three** mathematical **basis elements** (aka. the **\"endpoints\" of the axis** to be \"aware\" of with the bloch sphere:\n",
    "- **Computational (<font color=\"red\">Z</font>)**\n",
    "- **Hadamard (<font color=\"red\">X</font>)**\n",
    "- **Circular (<font color=\"red\">Y</font>)**\n",
    "\n",
    "![vector-basis-space](img/vector-basis-space.png \"vector-basis-space\")\n",
    "\n",
    "\n",
    "> <font color=\"red\">**NOTE**</font>: The basis elements are the **endpoints of an axis**. For **example**, the basis elements for the computational basis are **|0>** and **|1>**, which correspond to the endpoints of the **Z-axis**."
   ]
  },
  {
   "cell_type": "markdown",
   "metadata": {},
   "source": [
    "## Complex Numbers\n",
    "\n",
    "> Complex numbers are common in Quantum Computing , particularly in state vector analysis and amplitudes, so they are important to understand if they are to be manipulated computationally.\n",
    "\n",
    "![complex-numbers-defn](img/complex-numbers-defn.png \"complex-numbers-defn\")\n",
    "![complex-numbers](img/complex-numbers.png \"complex-numbers\")\n",
    "\n",
    "> ### A more precise (graph based) vehicle for understanding complex numbers is  an <font color=\"red\">**Argand Diagram**</font>\n",
    "\n",
    "<BR>\n",
    "    \n",
    "![argand-diagram](img/argand-diagram.png \"argand-diagram\")"
   ]
  },
  {
   "cell_type": "markdown",
   "metadata": {},
   "source": [
    "## Complex Numbers have Phases\n",
    "\n",
    "> In addition to magnitudes, complex numbers have a **phase** part which is important to understand if we are to manipulate it.\n",
    "\n",
    "![waveform-phases](img/waveform-phases.png \"waveform-phases\")"
   ]
  },
  {
   "cell_type": "markdown",
   "metadata": {},
   "source": [
    "## Circle Notation\n",
    "\n",
    "> Circle notation is an convenient (albeit abstract) way to describe superposition that allows us to focus on important information without needing to become entrench in opaque mathematics.\n",
    " \n",
    "**Two important aspects** of a Qubits State:\n",
    "\n",
    "1. The **Magnitude** of it's superposition amplitudes\n",
    "![circle-plot-magnitude](img/circle-plot-magnitude.png \"circle-plot-magnitude\")\n",
    "\n",
    "<BR>\n",
    "    \n",
    "2. The **Relative Phase** (aka. Rotation) between them.\n",
    "![circle-plot-phase-rotations](img/circle-plot-phase-rotation.png \"circle-plot-phase-rotations\")\n",
    "\n",
    "<BR>\n",
    "    \n",
    "<font color=\"red\">**Important**</font>: Phase operations <font color=\"red\">**only**</font> rotate the circle associated with the **|1>** state and will have <font color=\"red\">**no**</font> effect on the **|0>** state.\n"
   ]
  },
  {
   "cell_type": "markdown",
   "metadata": {},
   "source": [
    "## The Wave Function\n",
    "\n",
    "> The wave function is central to Quantum COmputing so there is a need to grasp it conceptually.\n",
    "\n",
    "#### Difference between a classical wave and a quantum wave : Interference.\n",
    "\n",
    "> The below animation illustrates the key difference between quantum waves and other types - **\"Interference\"**.\n",
    "\n",
    "> Comparison of classical and quantum harmonic oscillator conceptions. **The two processes differ greatly.** The classical process (A–B) is represented as the motion of a particle along a trajectory. The quantum process (C–H) has no such trajectory. Rather, it is represented as a wave; here, the vertical axis shows the **real part** (<font color=\"blue\">**blue**</font>) and **imaginary part** (<font color=\"red\">**red**</font>) of the wave function. Panels (C–F) show four different **standing-wave** solutions of the Schrödinger equation. Panels (G–H) further show two different wave functions that are solutions of the **Schrödinger equation** but not standing waves.\n",
    "- https://en.wikipedia.org/wiki/Wave_function\n",
    "\n",
    "\n",
    "<table><tr><td><img src='img/QuantumHarmonicOscillatorAnimation.gif'></td><td><img src='img/wave-interference.png'></td></tr></table>\n",
    "\n",
    "\n",
    "> **Note:** - Wave Interference can be either **Constructive** or **Destructive**."
   ]
  },
  {
   "cell_type": "markdown",
   "metadata": {},
   "source": [
    "### <font color=\"blue\">Discussion:</font>:\n",
    "The true power of quantum computing only becomes evident as we **increase the number of qubits**. This power arises, in part, because the **dimension** of the vector space of quantum state vectors **grows exponentially** with the number of qubits.\n",
    "\n",
    "**Every time we add a qubit to a quantum system the state space <font color=\"blue\">doubles</font> in dimension** - this is because we multiply the dimension of the original system’s state space by 2 when the new qubit is added. A **3-qubit** quantum system has a state space of **dimension of eight (8)**. An **n-qubit** system’s state space has **2^n dimensions**.\n",
    "\n",
    "\n"
   ]
  },
  {
   "cell_type": "code",
   "execution_count": null,
   "metadata": {},
   "outputs": [],
   "source": []
  },
  {
   "cell_type": "code",
   "execution_count": null,
   "metadata": {},
   "outputs": [],
   "source": []
  },
  {
   "cell_type": "markdown",
   "metadata": {},
   "source": [
    "# Deep Dive #1 : - <font color=\"blue\">Quantum</font> <font color=\"red\">Phases</font> <font color=\"blue\">and the Bloch Sphere:</font>\n",
    "\n",
    "> The below diagram **supports the presenter led discussion** about the important concept of **Quantum Phases**.\n",
    "\n",
    "- **NOTE:** The details, nuances, and key concepts are left to that discussion."
   ]
  },
  {
   "cell_type": "markdown",
   "metadata": {},
   "source": [
    "###  <font color=\"red\">Exercise</font>: - Things to take mental notice of:\n",
    "    \n",
    "- The formula for a point on the curve is a more detailed form of the **basic formula**: **|ψ> = α|0> + β|1>**\n",
    "- The ZERO Ket \"**|0>**\" is at the top, the ONE ket at the bottom \"**|1>**\"\n",
    "- Where the Amplitudes are in the equation\n",
    "- Where the Phase value is in the equation\n",
    "- What increments the phase is measure with (Pi).\n",
    "- That the **Phase** is a <font color=\"red\">**longitude (Horizontal)**</font> line on the sphere (Dark Disk)\n",
    "- The Phase is also measured in Degrees on a sphere (+/- 180) or Radians (+/- Pi)\n",
    "- The Projection of the Phase (on the bottom of the Sphere) - pay attention to that.\n",
    "- The X-Axis (and how it spins)\n",
    "- The Y-Axis (and how it spins)\n",
    "- The Z-Axis (and how it spins)\n",
    "\n",
    "> **Most importantly:** - Executing an **R(<font color=\"red\">z</FONT>)** gate moves the point on the surface of the sphere **w/out** affecting any of the **Amplitudes** (those values do **not** change) - only the **Phase** Values change.\n",
    "    \n"
   ]
  },
  {
   "cell_type": "markdown",
   "metadata": {},
   "source": [
    "![bloch_sphere-phase](img/bloch_sphere-phase.png \"bloch_sphere-phase\")"
   ]
  },
  {
   "cell_type": "markdown",
   "metadata": {},
   "source": [
    "# <font color=\"red\">Hands on Exercises</font> \n",
    "\n",
    "> To gain an intuitive understanding of the **Quantum Phase(s) concepts** in the discussion and their relationship to rotating a point on the surface of a qubit - it's instructive to gain some *varied* experience in doing that. The below exercises are meant to provide a flavor of that.  \n",
    "\n",
    "> **Why?** - Because this are foundational concepts important to understand when actually creating quantum algorithms in the future."
   ]
  },
  {
   "cell_type": "markdown",
   "metadata": {},
   "source": [
    "# <font color=\"red\">Exercise</font> - Quantum Phase : <font color=\"blue\"> Bloch Sphere Playground</font> \n",
    "\n",
    "> Use the **Bloch Sphere Playground Application** to gain experience and an **intuition of Quantum Phase Rotations**.\n",
    "\n",
    "- The Bloch Sphere Playground Application can model accurately the behavior of the rotations of the point on the sphere executed by specific quantum processes / gates \n",
    "\n",
    "\n",
    "**Specifically**: \n",
    "\n",
    "- Go through the above exercise **\"Things to take Mental Notice of\"** so you experience them first hand using the tool.\n",
    "\n",
    "> **Notice**: \n",
    "- The formula for a point on the curve is a more detailed form of the **basic formula**: **|ψ> = α|0> + β|1>**\n",
    "- The ZERO Ket \"**|0>**\" is at the top, the ONE ket at the bottom \"**|1>**\"\n",
    "- Where the Amplitudes are in the equation\n",
    "- Where the Phase value is in the equation\n",
    "- What increments the phase is measure with (Pi).\n",
    "- That the **Phase** is a <font color=\"red\">**longitude (Horizontal)**</font> line on the sphere (Dark Disk)\n",
    "- The Phase is also measured in Degrees on a sphere (+/- 180) or Radians (+/- Pi)\n",
    "- The Projection of the Phase (on the bottom of the Sphere) - pay attention to that.\n",
    "- The X-Axis (and how it spins)\n",
    "- The Y-Axis (and how it spins)\n",
    "- The Z-Axis (and how it spins)\n",
    "\n",
    "\n",
    "\n",
    "- **Put the Qubit in Superposition** by hitting the \"H\" (Hadamard Gate) key - that applys the gate to the Qubit to simulate superposition mathematically \n",
    "- this is a precursor to doing it programatically (Qiskit) or via a curcuit framework like QUIRK.\n",
    "\n",
    "> **Notice**: \n",
    "- that the point on the sphere goes to the meridian horizontal and the amplitudes both go to 50%\n",
    "- reset by hitting the **\"|0>\"** button below.\n",
    "\n",
    "\n",
    "- **Experiment with R(z) Rotations** - Once in superposition, hit (incrementally) the **R(z)** **+/-(Pi/12)** botton to rotate the point on the sphere along the Z-Axis \n",
    "\n",
    "> **Notice**: \n",
    "- that only the **Phase** values change - the amplitude probabilities all remain stable.\n",
    "- that all of the rotational increments are in terms (some derivative) of Pi - this will be important when it comes to programming R(z) gates with the correct values.\n",
    "\n",
    "\n",
    "**Reminder:** - Executing a **R(<font color=\"red\">z</font>)** gate moves the point on the surface of the sphere w/out affecting any of the **Amplitudes** (those values do not change) - only the **Phase** Values change.\n",
    "\n"
   ]
  },
  {
   "cell_type": "code",
   "execution_count": 8,
   "metadata": {
    "scrolled": false
   },
   "outputs": [
    {
     "data": {
      "text/html": [
       "\n",
       "        <iframe\n",
       "            width=\"900\"\n",
       "            height=\"600\"\n",
       "            src=\"https://javafxpert.github.io/grok-bloch/\"\n",
       "            frameborder=\"0\"\n",
       "            allowfullscreen\n",
       "        ></iframe>\n",
       "        "
      ],
      "text/plain": [
       "<IPython.lib.display.IFrame at 0x2293bdf8dd8>"
      ]
     },
     "execution_count": 8,
     "metadata": {},
     "output_type": "execute_result"
    }
   ],
   "source": [
    "# Bloch Sphere Playground Application\n",
    "from IPython.display import IFrame\n",
    "IFrame(src='https://javafxpert.github.io/grok-bloch/', width=900, height=600)"
   ]
  },
  {
   "cell_type": "markdown",
   "metadata": {},
   "source": [
    "# <font color=\"red\">Exercise</font> - Quantum Phase : <font color=\"blue\"> Quirk</font>\n",
    "\n",
    "> Use the **QUIRK Quantum Circuit Simulator** to gain experience and an **intuition of Quantum Phase Rotations**.\n",
    "\n",
    "\n",
    "> **NOTE:** - This exercise assumes some knowledge and experience of QUIRK provided by the presenter - which **is** part of this educational pedagogy.\n",
    "- QUIRK Users Guide: - https://github.com/Strilanc/Quirk/wiki/How-to-use-Quirk\n",
    "\n",
    "#### The below circuit is set to continuously traverse the \"Phase\" (X-Axis) portion of a Qubit.\n",
    "\n",
    "> **The Exercise is to interrogate the QUIRK Circuit Simulator and notice the following**: \n",
    "- if you hover over an object w/your mouse you get pop out boxes with important information about each element in question.\n",
    "- the H (Hadamard) gate puts the Qubit into superposition \n",
    "- the **R(z)** gate uses a **(Pi t)** increment that continually rotates the point on the sphere along a **Phase** trajectory which does not alter the Amplitudes, only the Phase values. Confirm this by hovering over the light blue Qubit Circles representing decimal values of Zero and One respectively and observing that the **Magnitude^2 values of 50%** do **not** change while the phase values **do** change. \n",
    "- that the horizontal movement is constant on the meridian of the sphere. Confirm this by hovering over the bloch sphere as it rotates and noticing that **Theta** (Vertical / Longitude) is stable at **+90 degrees**, while **Psi** is in continuous movement. \n",
    "- since the rotation is around the Z-Axis, that value is atable at Zero.\n",
    "\n",
    "- Use the below image as a reference.\n",
    "\n",
    "![theta-psi-coordinates-small](img/theta-psi-coordinates-small.png \"theta-psi-coordinates-small\")"
   ]
  },
  {
   "cell_type": "code",
   "execution_count": 2,
   "metadata": {
    "scrolled": false
   },
   "outputs": [
    {
     "data": {
      "text/html": [
       "\n",
       "        <iframe\n",
       "            width=\"900\"\n",
       "            height=\"600\"\n",
       "            src=\"https://algassert.com/quirk#circuit={%22cols%22:[[%22H%22],[{%22id%22:%22Rzft%22,%22arg%22:%22pi%20t%22}]]}\"\n",
       "            frameborder=\"0\"\n",
       "            allowfullscreen\n",
       "        ></iframe>\n",
       "        "
      ],
      "text/plain": [
       "<IPython.lib.display.IFrame at 0x2293bdf87f0>"
      ]
     },
     "execution_count": 2,
     "metadata": {},
     "output_type": "execute_result"
    }
   ],
   "source": [
    "# QUIRK (Quantum Curcuit Simulator) of Superposition R(z) Circuit \n",
    "from IPython.display import IFrame\n",
    "\n",
    "IFrame(src='https://algassert.com/quirk#circuit={%22cols%22:[[%22H%22],[{%22id%22:%22Rzft%22,%22arg%22:%22pi%20t%22}]]}', width=900, height=600)"
   ]
  },
  {
   "cell_type": "markdown",
   "metadata": {},
   "source": [
    "# <font color=\"green\">Homework</font> - Quantum Phase : <font color=\"blue\"> Quirk</font>\n",
    "\n",
    "> Use the **QUIRK Quantum Gate Fremework** to create your own Quantum Circuits involving Phase Rotations.\n",
    "- start with a blank circuit\n",
    "- install a H (Hadamard) gate\n",
    "- install a R(z) from under the \"Formulaic Heading **Rz(f(t))**\"\n",
    "- *change the formula* from the stock \"pi t^2\" (to your version using a derivative of **\"pi\"**) \n",
    "- notice that w/out the \"t\" flag, the circuts output defaults to only a point, and not an animation\n",
    "- notice where that point lands on the bloch sphere\n",
    "- correlate that with your experiences using the Bloch Sphere Playground Application (for the same rotations) and try to get consistent results with your rotations between the two tools.\n",
    "- iterate on the above (5 or 6 diferent times) altering your \"formula\" each iteration to see how the simulator behaves \n",
    "\n",
    "**NOTE:** - this is meant to **develop an intitution about the phase rotations** on the bloch sphere - very important for programming quantum simulators later on.\n",
    "\n",
    "\n"
   ]
  },
  {
   "cell_type": "code",
   "execution_count": 3,
   "metadata": {},
   "outputs": [
    {
     "data": {
      "text/html": [
       "\n",
       "        <iframe\n",
       "            width=\"900\"\n",
       "            height=\"600\"\n",
       "            src=\"https://algassert.com/quirk#circuit={%22cols%22:[]}\"\n",
       "            frameborder=\"0\"\n",
       "            allowfullscreen\n",
       "        ></iframe>\n",
       "        "
      ],
      "text/plain": [
       "<IPython.lib.display.IFrame at 0x2293bdf8a90>"
      ]
     },
     "execution_count": 3,
     "metadata": {},
     "output_type": "execute_result"
    }
   ],
   "source": [
    "# QUIRK (Quantum Curcuit Simulator) of Superposition R(z) Circuit \n",
    "from IPython.display import IFrame\n",
    "IFrame(src='https://algassert.com/quirk#circuit={%22cols%22:[]}', width=900, height=600)"
   ]
  },
  {
   "cell_type": "markdown",
   "metadata": {},
   "source": [
    "# <font color=\"red\">Coding Exercise</font> - Manipulating Quantum Phases: <font color=\"blue\"> QisKit</font>\n",
    "\n",
    "> Use the **Qiskit Quantum Simulator** to gain experience and an **intuition of Quantum Phase Rotations**.\n",
    "\n",
    "\n",
    "> **NOTE:** \n",
    "- This exercise assumes some knowledge and experience of QisKit provided by the presenter - which **is** part of this educational pedagogy.\n",
    "- This also assumes the user has the appropriate framework(s) installed and running properly.\n",
    "- remember to **reset** the Qiskit Curcuit between runs to avoid run pollution - you will need to do this **every** run.\n",
    "- use both the QUIRK Framework and the Bloch Sphere Playground to **verify the results of your experiments**\n",
    "- Hint: remember that each *Bloch Sphere Playground* - a **single tick** (push of a button) is **1/12th** of a unit of rotation, that can directly translate into your formula for Qiskit phase Roatations.\n",
    "\n",
    "\n",
    "\n",
    "> If it helps: remember that **Pi radians is equal to 180 degrees** -the below link is provided as a reference.\n",
    "- https://www.quia.com/jg/321176list.html\n",
    "\n",
    "\n",
    "\n",
    "## Complex Numbers\n",
    "\n",
    "> Qiskit returns a **statevector** in the form of a complex number that contains amplitudes and phases that take work to get used to and develop intuitions.\n",
    "- https://www.geeksforgeeks.org/complex-numbers-in-python-set-1-introduction/\n",
    ">> - QUOTE: Geometrically, the phase of a complex number is the angle between the positive real axis and the vector representing complex number. This is also known as argument of complex number. Phase is returned using phase(), which takes complex number as argument. The range of phase lies from -pi to +pi. i.e from -3.14 to +3.14.\n",
    "\n",
    "- Blog Article: https://towardsdatascience.com/quantum-computing-notes-for-a-python-programmer-geometry-of-complex-numbers-469a6265e0c7\n",
    "- Github: https://gist.github.com/rcshubhadeep/919801ada2983e9c93db30f8eb8ed2c5\n",
    "\n",
    "**NOTE** - we can normalize the statevector to get amplitudes and pull out the phases as well to help provide intuition by leveraging some helper functions that normalize and create polar plots.\n"
   ]
  },
  {
   "cell_type": "markdown",
   "metadata": {},
   "source": [
    "### TODO:\n",
    "\n",
    "- setup a quantum register and circuit\n",
    "- place a Hadamard and R(<font color=\"red\">**z**</font>) gates (phase manipulation)\n",
    "- draw the circuit\n",
    "- execute this against a backend Quantum Simulator\n",
    "- print out the resultant quantum state vector\n",
    "- print out the resultant bloch sphere"
   ]
  },
  {
   "cell_type": "code",
   "execution_count": 66,
   "metadata": {},
   "outputs": [],
   "source": [
    "# Import Qiskit, and set up a Quantum register of 1 Qubit, and set up a Quantum Circuit w/that register\n",
    "\n",
    "import numpy as np\n",
    "from qiskit import QuantumCircuit, QuantumRegister, execute\n",
    "import cmath\n",
    "import math\n",
    "import matplotlib.pyplot as P\n",
    "import matplotlib.pyplot as plt\n",
    "\n",
    "qr = QuantumRegister(1)\n",
    "circ = QuantumCircuit(qr)\n",
    "\n",
    "\n",
    "# Helper Funtion for Normalizing State Vectors\n",
    "#\n",
    "def normalize_state_Vector(state_vector):\n",
    "    for result in state_vector:\n",
    "        print(\"Normalized Result: \" , round( np.abs(result)**2, 1) )\n",
    "        \n",
    "        \n",
    "# Helper Funtion for print Polar Phase(s)\n",
    "#      \n",
    "def plot_polar(state_vector):\n",
    "    pi_radians = 180;\n",
    "    for x in state_vector:\n",
    "        plt.polar([0,cmath.phase(x)],[0,abs(x)],marker='o')\n",
    "        print(\"The original complex number Re{%d}, Im{%d}, and Length : %f\" % (x.real, x.imag, abs(x)))\n",
    "        print(\"Phase: \",cmath.phase(x))\n",
    "        if cmath.phase(x) != 0:\n",
    "            print(\"Angle: \", pi_radians/(np.pi/cmath.phase(x)))\n",
    "    "
   ]
  },
  {
   "cell_type": "markdown",
   "metadata": {},
   "source": [
    "#### <font color=\"red\">NOTE</font>: This is the only code segment you change"
   ]
  },
  {
   "cell_type": "code",
   "execution_count": 67,
   "metadata": {},
   "outputs": [
    {
     "data": {
      "image/png": "[encoded data removed]",
      "text/plain": [
       "<Figure size 244.412x84.28 with 1 Axes>"
      ]
     },
     "execution_count": 67,
     "metadata": {},
     "output_type": "execute_result"
    }
   ],
   "source": [
    "# Place an H (Hadamard) gate on the circuit\n",
    "# Place an Rz gate with a 6/12 (or /12) rotation\n",
    "\n",
    "circ.h(qr[0])\n",
    "circ.rz( 6/12 * np.pi, qr[0])\n",
    "\n",
    "# Draw the circuit\n",
    "circ.draw(output='mpl')"
   ]
  },
  {
   "cell_type": "code",
   "execution_count": 68,
   "metadata": {},
   "outputs": [
    {
     "data": {
      "text/plain": [
       "array([0.707+0.j   , 0.   +0.707j])"
      ]
     },
     "execution_count": 68,
     "metadata": {},
     "output_type": "execute_result"
    }
   ],
   "source": [
    "# Use the BasicAer statevector_simulator backend, submit the job, preview the quantum state\n",
    "\n",
    "from qiskit import BasicAer\n",
    "backend_sv_sim = BasicAer.get_backend('statevector_simulator')\n",
    "\n",
    "job_sim = execute(circ, backend_sv_sim)\n",
    "result_sim = job_sim.result()\n",
    "quantum_state = result_sim.get_statevector(circ, decimals=3)\n",
    "\n",
    "# Output the quantum state vector (Amplitude of zero and one state respectively)\n",
    "quantum_state"
   ]
  },
  {
   "cell_type": "code",
   "execution_count": 69,
   "metadata": {},
   "outputs": [
    {
     "name": "stdout",
     "output_type": "stream",
     "text": [
      "Normalized Result:  0.5\n",
      "Normalized Result:  0.5\n"
     ]
    }
   ],
   "source": [
    "# Print out normalized statevector  (to gain probabilities)\n",
    "#\n",
    "normalize_state_Vector(quantum_state)"
   ]
  },
  {
   "cell_type": "code",
   "execution_count": 70,
   "metadata": {
    "scrolled": false
   },
   "outputs": [
    {
     "name": "stdout",
     "output_type": "stream",
     "text": [
      "The original complex number Re{0}, Im{0}, and Length : 0.707000\n",
      "Phase:  0.0\n",
      "The original complex number Re{0}, Im{0}, and Length : 0.707000\n",
      "Phase:  1.5707963267948966\n",
      "Angle:  90.0\n"
     ]
    },
    {
     "data": {
      "image/png": "[encoded data removed]",
      "text/plain": [
       "<Figure size 432x288 with 1 Axes>"
      ]
     },
     "metadata": {
      "needs_background": "light"
     },
     "output_type": "display_data"
    }
   ],
   "source": [
    "# Plot Polar Coordinates for intuitions sake - provides an idea of the angle of the plot on the curve : appears 90 Degrees\n",
    "# Plot both vectors and phase / angle (if non-zero)\n",
    "\n",
    "P.clf()\n",
    "sp = P.subplot(1, 1, 1, projection='polar')\n",
    "sp.set_theta_zero_location('N')\n",
    "sp.set_theta_direction(1)\n",
    "\n",
    "plot_polar(quantum_state)"
   ]
  },
  {
   "cell_type": "code",
   "execution_count": 71,
   "metadata": {},
   "outputs": [
    {
     "data": {
      "image/png": "[encoded data removed]",
      "text/plain": [
       "<Figure size 288x144 with 2 Axes>"
      ]
     },
     "metadata": {
      "needs_background": "light"
     },
     "output_type": "display_data"
    }
   ],
   "source": [
    "# Print out Circle Notation for intuitions sake\n",
    "\n",
    "from circle_plot import *\n",
    "plot_circles(quantum_state)"
   ]
  },
  {
   "cell_type": "code",
   "execution_count": 9,
   "metadata": {},
   "outputs": [
    {
     "data": {
      "image/png": "[encoded data removed]",
      "text/plain": [
       "<Figure size 288x288 with 1 Axes>"
      ]
     },
     "execution_count": 9,
     "metadata": {},
     "output_type": "execute_result"
    }
   ],
   "source": [
    "# Plot the state vector on a Bloch sphere\n",
    "\n",
    "from qiskit.tools.visualization import plot_bloch_multivector\n",
    "plot_bloch_multivector(quantum_state)"
   ]
  },
  {
   "cell_type": "markdown",
   "metadata": {},
   "source": [
    "# <font color=\"red\">Exercise</font> - Quantum Phase : <font color=\"blue\"> Verify circuit w/the Bloch Sphere Playground</font>\n",
    "\n",
    "> Use the **Bloch Sphere Playground** using the same formula as above and make sure the results look the the below geometry.\n",
    "\n",
    "> Formula:\n",
    "- Execute an **H** (Hadamard) gate on the circuit\n",
    "- Execute an **+R(z)** gate with a **six iterations** (tiks).\n",
    "\n",
    "\n",
    "> <font color=\"red\">**Reminder:** </font> - After the interrogation of the circuit we get **0.707*0.707** = **0.5** of **value 0** and **0.707*0.707** = **0.5** of **value 1**.\n",
    "- Therefore the values of the **amplitudes** will be .5 or 50%, and the **phase** is 90 degrees (pi/2).\n"
   ]
  },
  {
   "cell_type": "markdown",
   "metadata": {},
   "source": [
    "![exercise-phase_rotation1](img/exercise-phase_rotation1.png \"exercise-phase_rotation1\")"
   ]
  },
  {
   "cell_type": "markdown",
   "metadata": {},
   "source": [
    "# <font color=\"red\">Exercise</font> - Quantum Phase : <font color=\"blue\"> Verify circuit with QUIRK</font>\n",
    "\n",
    "\n",
    "> **Reminder:** After interrogating the circuit we get **0.707*0.707** = **0.5** of **value 0** and **0.707*0.707** = **0.5** of **value 1**.\n",
    "- Therefore the values of the **amplitudes** will be .5 or 50%, and the **phase** is 90 degrees (pi/2).\n",
    "\n",
    "#### TODO\n",
    "- peruse the recreated circuit below\n",
    "- hover over the key areas to view the resultant amplitude values, the probabilities, and Phase values of 90 degrees.\n",
    "- realize that placing an H gate leaves you at phase Zero and amplitude of 50% / 50%.\n",
    "- adding the R(z) gate with the (6/12 * Pi) rotates the point of the sphere surface by a **90 degree** *change*.\n",
    "- notice that the QUIRK bloch sphere widget is **visually similar** to the *Bloch Sphere Playground result and Qiskit plot*.\n",
    "- notice that **Theta** and **Psi** are both +90 Degrees - compare that to the image below for developing intuition about these rotations. \n",
    "\n",
    "\n",
    "\n",
    "![bloch-sphere-local-state](img/bloch-sphere-local-state.png \"bloch-sphere-local-state\")"
   ]
  },
  {
   "cell_type": "code",
   "execution_count": 4,
   "metadata": {
    "scrolled": false
   },
   "outputs": [
    {
     "data": {
      "text/html": [
       "\n",
       "        <iframe\n",
       "            width=\"900\"\n",
       "            height=\"600\"\n",
       "            src=\"https://algassert.com/quirk#circuit={%22cols%22:[[%22H%22],[{%22id%22:%22Rzft%22,%22arg%22:%226/12*pi%22}]]}\"\n",
       "            frameborder=\"0\"\n",
       "            allowfullscreen\n",
       "        ></iframe>\n",
       "        "
      ],
      "text/plain": [
       "<IPython.lib.display.IFrame at 0x2293bdf8a58>"
      ]
     },
     "execution_count": 4,
     "metadata": {},
     "output_type": "execute_result"
    }
   ],
   "source": [
    "# QUIRK (Quantum Curcuit Simulator) of Above Circuit \n",
    "from IPython.display import IFrame\n",
    "IFrame(src='https://algassert.com/quirk#circuit={%22cols%22:[[%22H%22],[{%22id%22:%22Rzft%22,%22arg%22:%226/12*pi%22}]]}', width=900, height=600)"
   ]
  },
  {
   "cell_type": "markdown",
   "metadata": {},
   "source": [
    "### <font color=\"red\">Observe: </font>\n",
    "\n",
    "- these are bloch sphere representations of the local qubit state\n",
    "- observe that **Theta** and **Psi** are both **+90 Degrees** - the **intuition** is that they are both **90 degrees** from their **X (Longitudinal / Horizontal)** origins and **Y (latitudinal / Vertical)** origins respectively.\n",
    "- compare the images below for developing intuition about these specific rotations."
   ]
  },
  {
   "cell_type": "markdown",
   "metadata": {},
   "source": [
    "![bs-ex1-comparison](img/bs-ex1-comparison.png \"bs-ex1-comparison\")"
   ]
  },
  {
   "cell_type": "markdown",
   "metadata": {},
   "source": [
    "# <font color=\"green\">Coding Homework</font> - Quantum Phase : <font color=\"blue\"> QisKit</font>\n",
    "\n",
    "> Use the **Qiskit Quantum Simulator** to gain <font color=\"red\">**more** </font>  experience and an **intuition of Quantum Phase Rotations**.\n",
    "\n",
    "\n",
    "> **NOTE:** \n",
    "- remember to reset the Qiskit Curcuit between runs to avoid run pollution.\n",
    "- use both the QUIRK Framework and the Bloch Sphere Playground to **verify the results of your experiments**\n",
    "- remember that each Bloch Sphere Playground - a **single tick** (push of a button) is **1/12th** of a unit of rotation, that can directly translate into your formula for Qiskit phase Roatations.\n",
    "\n",
    "\n",
    "\n",
    "> If it helps: remember that **Pi radians is equal to 180 degrees** -the below link is provided as a reference.\n",
    "- https://www.quia.com/jg/321176list.html\n"
   ]
  },
  {
   "cell_type": "markdown",
   "metadata": {},
   "source": [
    "#### TODO\n",
    "- peruse and run the entire circuit below that applies a Hadamard (Superposition Gate) and a R(z) Phase Rotation of (Pi) \n",
    "- execute the back end to procure the result and state vector\n",
    "- print out the bloch sphere\n",
    "- <font color=\"red\">alter </font> the R(z) phase rotation formula to a few different variations of (Pi) and <font color=\"red\">rerun </font>  the circuit - observe the change in the point on the sphere.\n",
    "- <font color=\"red\">verify </font> each of the rotations against Bloch Sphere Playground and QUIRK"
   ]
  },
  {
   "cell_type": "code",
   "execution_count": 10,
   "metadata": {},
   "outputs": [],
   "source": [
    "# Import Qiskit, and set up a Quantum register of 1 Qubit, and set up a Quantum Circuit w/that register\n",
    "\n",
    "import numpy as np\n",
    "from qiskit import QuantumCircuit, QuantumRegister, execute\n",
    "import cmath\n",
    "import math\n",
    "import matplotlib.pyplot as P\n",
    "import matplotlib.pyplot as plt\n",
    "\n",
    "qr = QuantumRegister(1)\n",
    "circ = QuantumCircuit(qr)\n",
    "\n",
    "\n",
    "# Helper Funtion for Normalizing State Vectors\n",
    "#\n",
    "def normalize_state_Vector(state_vector):\n",
    "    for result in state_vector:\n",
    "        print(\"Normalized Result: \" , round( np.abs(result)**2, 1) )\n",
    "        \n",
    "        \n",
    "# Helper Funtion for print Polar Phase(s)\n",
    "#      \n",
    "def plot_polar(state_vector):\n",
    "    pi_radians = 180;\n",
    "    for x in state_vector:\n",
    "        plt.polar([0,cmath.phase(x)],[0,abs(x)],marker='o')\n",
    "        print(\"The original complex number Re{%d}, Im{%d}, and Length : %f\" % (x.real, x.imag, abs(x)))\n",
    "        print(\"Phase: \",cmath.phase(x))\n",
    "        if cmath.phase(x) != 0:\n",
    "            print(\"Angle: \", pi_radians/(np.pi/cmath.phase(x)))\n",
    "\n",
    "            "
   ]
  },
  {
   "cell_type": "markdown",
   "metadata": {},
   "source": [
    "#### <font color=\"red\">NOTE</font>: This is the only code segment you change"
   ]
  },
  {
   "cell_type": "code",
   "execution_count": 11,
   "metadata": {},
   "outputs": [
    {
     "data": {
      "image/png": "[encoded data removed]",
      "text/plain": [
       "<Figure size 244.412x84.28 with 1 Axes>"
      ]
     },
     "execution_count": 11,
     "metadata": {},
     "output_type": "execute_result"
    }
   ],
   "source": [
    "# Place an H (Hadamard) gate on the circuit\n",
    "# Place an Ry gate with a (Pi) rotation\n",
    "\n",
    "circ.h(qr[0])\n",
    "circ.rz( np.pi, qr[0])\n",
    "\n",
    "# Draw the circuit\n",
    "circ.draw(output='mpl')"
   ]
  },
  {
   "cell_type": "code",
   "execution_count": 12,
   "metadata": {},
   "outputs": [
    {
     "data": {
      "text/plain": [
       "array([ 0.707+0.j, -0.707+0.j])"
      ]
     },
     "execution_count": 12,
     "metadata": {},
     "output_type": "execute_result"
    }
   ],
   "source": [
    "# Use the BasicAer statevector_simulator backend, submit the job, preview the quantum state\n",
    "\n",
    "from qiskit import BasicAer\n",
    "backend_sv_sim = BasicAer.get_backend('statevector_simulator')\n",
    "\n",
    "job_sim = execute(circ, backend_sv_sim)\n",
    "result_sim = job_sim.result()\n",
    "quantum_state = result_sim.get_statevector(circ, decimals=3)\n",
    "\n",
    "# Output the quantum state vector (Amplitude of zero and one state respectively)\n",
    "quantum_state"
   ]
  },
  {
   "cell_type": "code",
   "execution_count": 13,
   "metadata": {},
   "outputs": [
    {
     "name": "stdout",
     "output_type": "stream",
     "text": [
      "Normalized Result:  0.5\n",
      "Normalized Result:  0.5\n"
     ]
    }
   ],
   "source": [
    "normalize_state_Vector(quantum_state)"
   ]
  },
  {
   "cell_type": "code",
   "execution_count": 14,
   "metadata": {},
   "outputs": [
    {
     "name": "stdout",
     "output_type": "stream",
     "text": [
      "The original complex number Re{0}, Im{0}, and Length : 0.707000\n",
      "Phase:  0.0\n",
      "The original complex number Re{0}, Im{0}, and Length : 0.707000\n",
      "Phase:  3.141592653589793\n",
      "Angle:  180.0\n"
     ]
    },
    {
     "data": {
      "image/png": "[encoded data removed]",
      "text/plain": [
       "<Figure size 432x288 with 1 Axes>"
      ]
     },
     "metadata": {
      "needs_background": "light"
     },
     "output_type": "display_data"
    }
   ],
   "source": [
    "# Plot Polar Coordinates for intuitions sake - provides an idea of the angle of the plot on the curve \n",
    "# Plot both vectors and phase / angle (if non-zero)\n",
    "\n",
    "P.clf()\n",
    "sp = P.subplot(1, 1, 1, projection='polar')\n",
    "sp.set_theta_zero_location('N')\n",
    "sp.set_theta_direction(1)\n",
    "\n",
    "plot_polar(quantum_state)"
   ]
  },
  {
   "cell_type": "code",
   "execution_count": 15,
   "metadata": {},
   "outputs": [
    {
     "data": {
      "image/png": "[encoded data removed]",
      "text/plain": [
       "<Figure size 288x144 with 2 Axes>"
      ]
     },
     "metadata": {
      "needs_background": "light"
     },
     "output_type": "display_data"
    }
   ],
   "source": [
    "# Print out Circle Notation for intuitions sake\n",
    "\n",
    "from circle_plot import *\n",
    "plot_circles(quantum_state)"
   ]
  },
  {
   "cell_type": "markdown",
   "metadata": {},
   "source": [
    "### <font color=\"red\">Explanation:</font> \n",
    "\n",
    "\n",
    "Quantum State Vector: **array([0.707+0.j   , 0.   +0.707j])**\n",
    "\n",
    "> The first column shows the possibility of **value 0** and the second one as possibility of **value 1**. \n",
    "\n",
    "> <font color=\"red\">Note: </font> - After interrogating the circuit we get **0.707*0.707** = **0.5** of **value 0** and **0.707*0.707** = **0.5** of **value 1**.\n",
    "- Notice the value of Pi (180 degrees)"
   ]
  },
  {
   "cell_type": "code",
   "execution_count": 16,
   "metadata": {},
   "outputs": [
    {
     "data": {
      "image/png": "[encoded data removed]",
      "text/plain": [
       "<Figure size 288x288 with 1 Axes>"
      ]
     },
     "execution_count": 16,
     "metadata": {},
     "output_type": "execute_result"
    }
   ],
   "source": [
    "# Plot the state vector on a Bloch sphere\n",
    "\n",
    "from qiskit.tools.visualization import plot_bloch_multivector\n",
    "plot_bloch_multivector(quantum_state)"
   ]
  },
  {
   "cell_type": "markdown",
   "metadata": {},
   "source": [
    "### <font color=\"red\">Observe: </font>\n",
    "\n",
    "\n",
    "- the state vector representations are constant, yet the bloch sphere plot has changed (due to the \"Pi\" R(z) rotation - meaning the point on the sphere moved.\n",
    "- this indicates the point is moving around the phase plane X-Axis changing the Phase but not the Amplitudes.\n",
    "- the phase &psi; is 180 degrees.\n",
    "\n"
   ]
  },
  {
   "cell_type": "markdown",
   "metadata": {},
   "source": [
    "#### TODO\n",
    "\n",
    "- for each circuit variation that you design <font color=\"red\">above </font> using Qiskit, recreate them in the **Bloch Sphere Playground** and **QUIRK**\n",
    "- verify the visual similarity of the resulting Qiskit bloch sphere plot and its counterpart in Bloch Sphere Playground and QUIRK\n",
    "- for QUIRK - be sure to inspect the key widgets to assure yourself the amplitude, phases, Theta, Psi, and (X, Y, Z) axis positions make intuitive sense. \n",
    "\n",
    "> <font color=\"red\">Note: </font> - the QUIRK Circuit Simulator is preset below - just modify as you see fit. The Bloch Sphere Playground is below that.\n"
   ]
  },
  {
   "cell_type": "code",
   "execution_count": 5,
   "metadata": {
    "scrolled": false
   },
   "outputs": [
    {
     "data": {
      "text/html": [
       "\n",
       "        <iframe\n",
       "            width=\"900\"\n",
       "            height=\"600\"\n",
       "            src=\"https://algassert.com/quirk#circuit={%22cols%22:[[%22H%22],[{%22id%22:%22Rzft%22,%22arg%22:%22pi%22}]]}\"\n",
       "            frameborder=\"0\"\n",
       "            allowfullscreen\n",
       "        ></iframe>\n",
       "        "
      ],
      "text/plain": [
       "<IPython.lib.display.IFrame at 0x2293bdf8358>"
      ]
     },
     "execution_count": 5,
     "metadata": {},
     "output_type": "execute_result"
    }
   ],
   "source": [
    "# QUIRK (Quantum Curcuit Simulator) of Above Circuit \n",
    "from IPython.display import IFrame\n",
    "IFrame(src='https://algassert.com/quirk#circuit={%22cols%22:[[%22H%22],[{%22id%22:%22Rzft%22,%22arg%22:%22pi%22}]]}', width=900, height=600)"
   ]
  },
  {
   "cell_type": "code",
   "execution_count": 10,
   "metadata": {},
   "outputs": [
    {
     "data": {
      "text/html": [
       "\n",
       "        <iframe\n",
       "            width=\"900\"\n",
       "            height=\"600\"\n",
       "            src=\"https://javafxpert.github.io/grok-bloch/\"\n",
       "            frameborder=\"0\"\n",
       "            allowfullscreen\n",
       "        ></iframe>\n",
       "        "
      ],
      "text/plain": [
       "<IPython.lib.display.IFrame at 0x2293bdf8b00>"
      ]
     },
     "execution_count": 10,
     "metadata": {},
     "output_type": "execute_result"
    }
   ],
   "source": [
    "# Bloch Sphere Playground Application\n",
    "from IPython.display import IFrame\n",
    "IFrame(src='https://javafxpert.github.io/grok-bloch/', width=900, height=600)"
   ]
  },
  {
   "cell_type": "code",
   "execution_count": null,
   "metadata": {},
   "outputs": [],
   "source": []
  },
  {
   "cell_type": "code",
   "execution_count": null,
   "metadata": {},
   "outputs": [],
   "source": []
  },
  {
   "cell_type": "markdown",
   "metadata": {},
   "source": [
    "# Deep Dive #2 : - <font color=\"blue\">Quantum</font> <font color=\"red\">Amplitudes</font> <font color=\"blue\">and the Bloch Sphere:</font>\n",
    "\n",
    "> The below diagram **supports the presenter led discussion** about the important concept of **Quantum Amplitudes**.\n",
    "\n",
    "- **NOTE:** The details, nuances, and key concepts are left to that discussion."
   ]
  },
  {
   "cell_type": "markdown",
   "metadata": {},
   "source": [
    "###  <font color=\"red\">Exercise</font>: - Things to take mental notice of:\n",
    "    \n",
    "    \n",
    "    \n",
    "- The formula for a point on the curve is a more detailed form of: The **basic formula** is : **|ψ> = α|0> + β|1>**\n",
    "- The ZERO Ket is at the top, the ONE ket at the bottom\n",
    "- Where the Amplitudes are in the equation\n",
    "- Where the Phase value is in the equation\n",
    "- What increments the amplitudes are measure with (Complex Numbers).\n",
    "- That the **Amplitude** is a <font color=\"red\">**latitudinal (vertical)**</font> line on the sphere (Dark Disk)\n",
    "- The X-Axis (and how it spins)\n",
    "- The Y-Axis (and how it spins)\n",
    "- The Z-Axis (and how it spins)\n",
    "\n",
    "> **Importantly:** - Executing a **R(<font color=\"red\">y</FONT>)** gate moves the point on the surface of the sphere w/out affecting the **Phase** (those values do not change except at the threshold of **[0:0 and 1:Pi]** ) - only the **Amplitude** Values change.\n",
    "    \n",
    "> **Additionally:** - Executing a **R(<font color=\"red\">x</FONT>)** gate moves the point on the surface of the sphere w/out affecting the **Phase** (those values do not change except at the threshold of **aprox [0:Pi/3 and 1:Pi/2]** ) - only the **Amplitude** Values change.\n"
   ]
  },
  {
   "cell_type": "markdown",
   "metadata": {},
   "source": [
    "![bloch_sphere-amplitudes](img/bloch_sphere-amplitudes.png \"bloch_sphere-amplitudes\")"
   ]
  },
  {
   "cell_type": "markdown",
   "metadata": {},
   "source": [
    "# <font color=\"red\">Hands on Exercises</font> \n",
    "\n",
    "> To gain an intuitive understanding of the **Quantum Amplitudes concepts** in the discussion and their relationship to rotating a point on the surface of a qubit - it's instructive to gain some *varied* experience in doing that. The below exercises are meant to provide a flavor of that.  \n",
    "\n",
    "> **Why?** - Because this are foundational concepts important to understand when actually creating quantum algorithms in the future."
   ]
  },
  {
   "cell_type": "markdown",
   "metadata": {},
   "source": [
    "# <font color=\"red\">Exercise</font> - Quantum Amplitude : <font color=\"blue\"> Bloch Sphere Playground</font> \n",
    "\n",
    "> Use the **Bloch Sphere Playground Application** to gain experience and an **intuition of Quantum Amplitude Rotations**.\n",
    "\n",
    "- The Bloch Sphere Playground Application can model accurately the behavior of the rotations of the point on the sphere executed by specific quantum processes / gates \n",
    "\n",
    "\n",
    "**Specifically**: \n",
    "\n",
    "- Go through the above exercise **\"Things to take Mental Notice of\"** so you experience them first hand using the tool.\n",
    "\n",
    "- The formula for a point on the curve is a more detailed form of: The **basic formula** is : **|ψ> = α|0> + β|1>**\n",
    "- The ZERO Ket is at the top, the ONE ket at the bottom\n",
    "- Where the Amplitudes are in the equation\n",
    "- Where the Phase value is in the equation\n",
    "- What increments the amplitudes are measure with (Complex Numbers).\n",
    "- That the **Amplitude** is a <font color=\"red\">**latitudinal (vertical)**</font> line on the sphere (Dark Disk)\n",
    "- The X-Axis (and how it spins)\n",
    "- The Y-Axis (and how it spins)\n",
    "- The Z-Axis (and how it spins)\n",
    "\n",
    "> **Importantly:** - Executing a **R(<font color=\"red\">y</FONT>)** gate moves the point on the surface of the sphere w/out affecting the **Phase** (those values do not change except at the threshold of **[0:0 and 1:Pi]** ) - only the **Amplitude** Values change.\n",
    "    \n",
    "> **Also:** - Executing a **R(<font color=\"red\">x</FONT>)** gate moves the point on the surface of the sphere w/out affecting the **Phase** (those values do not change except at the threshold of **aprox [0:Pi/3 and 1:Pi/2]** ) - only the **Amplitude** Values change.\n",
    "\n",
    "\n",
    "- **Experiment with R(y) Rotations** - Once in superposition, hit (incrementally) the **R(y)** **+/-(Pi/12)** botton to rotate the point on the sphere along the Y-Axis \n",
    "\n",
    "\n",
    "- **Experiment with R(x) Rotations** - Once in superposition, hit (incrementally) the **R(x)** **+/-(Pi/12)** botton to rotate the point on the sphere along the X-Axis \n",
    "\n",
    "\n"
   ]
  },
  {
   "cell_type": "code",
   "execution_count": 11,
   "metadata": {},
   "outputs": [
    {
     "data": {
      "text/html": [
       "\n",
       "        <iframe\n",
       "            width=\"900\"\n",
       "            height=\"600\"\n",
       "            src=\"https://javafxpert.github.io/grok-bloch/\"\n",
       "            frameborder=\"0\"\n",
       "            allowfullscreen\n",
       "        ></iframe>\n",
       "        "
      ],
      "text/plain": [
       "<IPython.lib.display.IFrame at 0x2293bdf8e10>"
      ]
     },
     "execution_count": 11,
     "metadata": {},
     "output_type": "execute_result"
    }
   ],
   "source": [
    "# Bloch Sphere Playground Application\n",
    "from IPython.display import IFrame\n",
    "IFrame(src='https://javafxpert.github.io/grok-bloch/', width=900, height=600)"
   ]
  },
  {
   "cell_type": "markdown",
   "metadata": {},
   "source": [
    "# <font color=\"red\">Exercise</font> - Quantum Amplitudes : <font color=\"blue\"> Quirk</font>\n",
    "\n",
    "> Use the **QUIRK Quantum Circuit Simulator** to gain experience and an **intuition of Quantum Amplitude Rotations**.\n",
    "\n",
    "\n",
    "> **NOTE:** - This exercise assumes some knowledge and experience of QUIRK provided by the presenter - which **is** part of this educational pedagogy.\n",
    "\n",
    "#### The below circuit is set to continuously traverse the \"Amplitude\" (Y-Axis) portion of a Qubit.\n",
    "\n",
    "> **The Exercise is to interrogate the QUIRK Circuit Simulator and notice the following**: \n",
    "- if you hover over an object w/your mouse you get pop out boxes with important information about each element in question.\n",
    "- the **R(y)** and **R(x)** gates uses **Complex Numbers** increment that continually rotates the point on the sphere along the **Amplitudes** trajectory - this does **not** alter the Phases (incrementally), only the Amplitude values. Confirm this by hovering over the light blue Qubit Circles representing decimal values of Zero and One respectively and observing that the Amplidude values do change while the phase values do not change incrementally (but they do shift from +/-180 and Zero). \n",
    "- that the vertical trajectory is constant on the sphere. Confirm this by hovering over the bloch sphere as it rotates and noticing that **Psi** does not incrementally change but shifts from **+/-180** and **Zero**, while the **Y-Axis** is constant at **ZERO**.\n",
    "- try to determine the point(s) where Psi shifts from **+/-180** then to **Zero**.\n",
    "\n",
    "> - try the same with the **R(x)** gate and notice the above shifts.\n"
   ]
  },
  {
   "cell_type": "code",
   "execution_count": 12,
   "metadata": {},
   "outputs": [
    {
     "data": {
      "text/html": [
       "\n",
       "        <iframe\n",
       "            width=\"900\"\n",
       "            height=\"600\"\n",
       "            src=\"https://algassert.com/quirk#circuit={%22cols%22:[[{%22id%22:%22Ryft%22,%22arg%22:%22pi%20t%22}]]}\"\n",
       "            frameborder=\"0\"\n",
       "            allowfullscreen\n",
       "        ></iframe>\n",
       "        "
      ],
      "text/plain": [
       "<IPython.lib.display.IFrame at 0x2293be12048>"
      ]
     },
     "execution_count": 12,
     "metadata": {},
     "output_type": "execute_result"
    }
   ],
   "source": [
    "# QUIRK (Quantum Curcuit Simulator) of Superposition R(z) Circuit \n",
    "from IPython.display import IFrame\n",
    "\n",
    "IFrame(src='https://algassert.com/quirk#circuit={%22cols%22:[[{%22id%22:%22Ryft%22,%22arg%22:%22pi%20t%22}]]}', width=900, height=600)"
   ]
  },
  {
   "cell_type": "markdown",
   "metadata": {},
   "source": [
    "# <font color=\"green\">Homework</font> - Quantum Amplitude : <font color=\"blue\"> Quirk</font>\n",
    "\n",
    "> Use the **QUIRK Quantum Gate Framework** to create your own Quantum Circuits involving Amplitude Rotations.\n",
    "- start with a blank circuit\n",
    "- install a R(y) from under the \"Formulaic Heading **Ry(f(t))**\" \n",
    "- **change the formula* from the stock \"pi t^2\" (**to your version using a derivative of \"pi\"**) \n",
    "- notice that w/out the \"t\" flag, the circuts output defaults to only a point, and not an animation\n",
    "- notice where that point lands on the bloch sphere\n",
    "- correlate that with your experiences using the Bloch Sphere Playground Application (for the same rotations) and try to get consistent results with your rotations between the two tools.\n",
    "- iterate on the above (5 or 6 diferent times) altering your \"formula\" each iteration to see how the simulator behaves \n",
    "\n",
    "**NOTE:** - this is meant to **develop an intitution about the amplitude rotations** on the bloch sphere - very important for programming quantum simulators later on.\n",
    "\n",
    "> and then retry the above using the **Rx(f(t))** gate\n"
   ]
  },
  {
   "cell_type": "code",
   "execution_count": 13,
   "metadata": {},
   "outputs": [
    {
     "data": {
      "text/html": [
       "\n",
       "        <iframe\n",
       "            width=\"900\"\n",
       "            height=\"600\"\n",
       "            src=\"https://algassert.com/quirk#circuit={%22cols%22:[]}\"\n",
       "            frameborder=\"0\"\n",
       "            allowfullscreen\n",
       "        ></iframe>\n",
       "        "
      ],
      "text/plain": [
       "<IPython.lib.display.IFrame at 0x2293be121d0>"
      ]
     },
     "execution_count": 13,
     "metadata": {},
     "output_type": "execute_result"
    }
   ],
   "source": [
    "# QUIRK (Quantum Curcuit Simulator) of Superposition R(z) Circuit \n",
    "from IPython.display import IFrame\n",
    "IFrame(src='https://algassert.com/quirk#circuit={%22cols%22:[]}', width=900, height=600)"
   ]
  },
  {
   "cell_type": "markdown",
   "metadata": {},
   "source": [
    "# <font color=\"red\">Coding Exercise</font> - Manipulating Quantum Amplitudes: <font color=\"blue\"> QisKit</font>\n",
    "\n",
    "> Use the **Qiskit Quantum Simulator** to gain experience and an **intuition of Quantum Amplutude Rotations**.\n",
    "\n",
    "\n",
    "> **NOTE:** \n",
    "- This exercise assumes some knowledge and experience of QisKit provided by the presenter - which **is** part of this educational pedagogy.\n",
    "- This also assumes the user has the appropriate framework(s) installed and running properly.\n",
    "- remember to reset the Qiskit Curcuit between runs to avoid run pollution.\n",
    "- use both the QUIRK Framework and the Bloch Sphere Playground to **verify the results of your experiments**\n",
    "- remember that each Bloch Sphere Playground - a **single tick** (push of a button) is **1/12th** of a unit of rotation, that can directly translate into your formula for Qiskit phase Roatations.\n",
    "\n",
    "\n",
    "\n",
    "> If it helps: remember that **Pi radians is equal to 180 degrees** -the below link is provided as a reference.\n",
    "- https://www.quia.com/jg/321176list.html\n",
    "\n"
   ]
  },
  {
   "cell_type": "markdown",
   "metadata": {},
   "source": [
    "### TODO:\n",
    "\n",
    "- setup a quantum register and circuit\n",
    "- place an R(<font color=\"red\">**y**</font>) gates (phase manipulation)\n",
    "- draw the circuit\n",
    "- execute this against a backend Quantum Simulator\n",
    "- print out the resultant quantum state vector\n",
    "- print out the resultant bloch sphere"
   ]
  },
  {
   "cell_type": "code",
   "execution_count": 31,
   "metadata": {},
   "outputs": [],
   "source": [
    "# Import Qiskit, and set up a Quantum register of 1 Qubit, and set up a Quantum Circuit w/that register\n",
    "\n",
    "import numpy as np\n",
    "from qiskit import QuantumCircuit, QuantumRegister, execute\n",
    "import cmath\n",
    "import math\n",
    "import matplotlib.pyplot as P\n",
    "import matplotlib.pyplot as plt\n",
    "\n",
    "qr = QuantumRegister(1)\n",
    "circ = QuantumCircuit(qr)\n",
    "\n",
    "\n",
    "# Helper Funtion for Normalizing State Vectors\n",
    "#\n",
    "def normalize_state_Vector(state_vector):\n",
    "    for result in state_vector:\n",
    "        print(\"Normalized Result: \" , round( np.abs(result)**2, 1) )\n",
    "        \n",
    "        \n",
    "# Helper Funtion for print Polar Phase(s)\n",
    "#      \n",
    "def plot_polar(state_vector):\n",
    "    pi_radians = 180;\n",
    "    for x in state_vector:\n",
    "        plt.polar([0,cmath.phase(x)],[0,abs(x)],marker='o')\n",
    "        print(\"The original complex number Re{%d}, Im{%d}, and Length : %f\" % (x.real, x.imag, abs(x)))\n",
    "        print(\"Phase: \",cmath.phase(x))\n",
    "        if cmath.phase(x) != 0:\n",
    "            print(\"Angle: \", pi_radians/(np.pi/cmath.phase(x)))"
   ]
  },
  {
   "cell_type": "markdown",
   "metadata": {},
   "source": [
    "#### <font color=\"red\">NOTE</font>: This is the only code segment you change"
   ]
  },
  {
   "cell_type": "code",
   "execution_count": 32,
   "metadata": {},
   "outputs": [
    {
     "data": {
      "image/png": "[encoded data removed]",
      "text/plain": [
       "<Figure size 184.212x84.28 with 1 Axes>"
      ]
     },
     "execution_count": 32,
     "metadata": {},
     "output_type": "execute_result"
    }
   ],
   "source": [
    "# Place an Ry gate with a 6/12 (or 1/2) rotation\n",
    "\n",
    "circ.ry( 6/12 * np.pi, qr[0])\n",
    "\n",
    "# Draw the circuit\n",
    "circ.draw(output='mpl')"
   ]
  },
  {
   "cell_type": "code",
   "execution_count": 33,
   "metadata": {},
   "outputs": [
    {
     "data": {
      "text/plain": [
       "array([0.707+0.j, 0.707+0.j])"
      ]
     },
     "execution_count": 33,
     "metadata": {},
     "output_type": "execute_result"
    }
   ],
   "source": [
    "# Use the BasicAer statevector_simulator backend, submit the job, preview the quantum state\n",
    "\n",
    "from qiskit import BasicAer\n",
    "backend_sv_sim = BasicAer.get_backend('statevector_simulator')\n",
    "\n",
    "job_sim = execute(circ, backend_sv_sim)\n",
    "result_sim = job_sim.result()\n",
    "quantum_state = result_sim.get_statevector(circ, decimals=3)\n",
    "\n",
    "# Output the quantum state vector (Amplitude of zero and one state respectively)\n",
    "quantum_state"
   ]
  },
  {
   "cell_type": "code",
   "execution_count": 34,
   "metadata": {},
   "outputs": [
    {
     "name": "stdout",
     "output_type": "stream",
     "text": [
      "Normalized Result:  0.5\n",
      "Normalized Result:  0.5\n"
     ]
    }
   ],
   "source": [
    "normalize_state_Vector(quantum_state)"
   ]
  },
  {
   "cell_type": "code",
   "execution_count": 26,
   "metadata": {},
   "outputs": [
    {
     "name": "stdout",
     "output_type": "stream",
     "text": [
      "The original complex number Re{0}, Im{0}, and Length : 0.707000\n",
      "Phase:  0.0\n",
      "The original complex number Re{0}, Im{0}, and Length : 0.707000\n",
      "Phase:  0.0\n"
     ]
    },
    {
     "data": {
      "image/png": "[encoded data removed]",
      "text/plain": [
       "<Figure size 432x288 with 1 Axes>"
      ]
     },
     "metadata": {
      "needs_background": "light"
     },
     "output_type": "display_data"
    }
   ],
   "source": [
    "# Plot Polar Coordinates for intuitions sake - provides an idea of the angle of the plot on the curve : appears 90 Degrees\n",
    "# Plot both vectors and phase / angle (if non-zero)\n",
    "\n",
    "P.clf()\n",
    "sp = P.subplot(1, 1, 1, projection='polar')\n",
    "sp.set_theta_zero_location('N')\n",
    "sp.set_theta_direction(1)\n",
    "\n",
    "plot_polar(quantum_state)"
   ]
  },
  {
   "cell_type": "code",
   "execution_count": 35,
   "metadata": {},
   "outputs": [
    {
     "data": {
      "image/png": "[encoded data removed]",
      "text/plain": [
       "<Figure size 288x288 with 1 Axes>"
      ]
     },
     "execution_count": 35,
     "metadata": {},
     "output_type": "execute_result"
    }
   ],
   "source": [
    "# Plot the state vector on a Bloch sphere\n",
    "\n",
    "from qiskit.tools.visualization import plot_bloch_multivector\n",
    "plot_bloch_multivector(quantum_state)"
   ]
  },
  {
   "cell_type": "code",
   "execution_count": 36,
   "metadata": {},
   "outputs": [
    {
     "data": {
      "image/png": "[encoded data removed]",
      "text/plain": [
       "<Figure size 288x144 with 2 Axes>"
      ]
     },
     "metadata": {
      "needs_background": "light"
     },
     "output_type": "display_data"
    }
   ],
   "source": [
    "# Print out Circle Notation\n",
    "\n",
    "from circle_plot import *\n",
    "plot_circles(quantum_state)"
   ]
  },
  {
   "cell_type": "markdown",
   "metadata": {},
   "source": [
    "# <font color=\"red\">Exercise</font> - Quantum Amplitude : <font color=\"blue\"> Verify circuit w/the Bloch Sphere Playground</font>\n",
    "\n",
    "> Use the **Bloch Sphere Playground** using the same formula as above and make sure the results look the the below geometry.\n",
    "\n",
    "> Formula:\n",
    "- Execute an **+R(y)** gate with a **twelve iterations** (tiks).\n",
    "\n",
    "\n",
    "> <font color=\"red\">**Reminder:** </font> After interrogating the circuit we get **0.0** of **value 0** and **1.0** of **value 1**.\n",
    "- Therefore the values of the **amplitudes** probabilities will be 0 and 1 respectively and the bloch sphere will be visually similar to the below.\n",
    "\n",
    "> **Notice:** - the resultant Phase value is **(Pi)**\n",
    "\n",
    "> - Reset the circuit and try it again with an **+R(x)** gate with a **twelve iterations** (tiks).\n",
    "- What do you notice?"
   ]
  },
  {
   "cell_type": "markdown",
   "metadata": {},
   "source": [
    "![bs-ex2-comparison](img/bs-ex2-comparison.png \"bs-ex2-comparison\")"
   ]
  },
  {
   "cell_type": "markdown",
   "metadata": {},
   "source": [
    "# <font color=\"red\">Exercise</font> - Quantum Amplitudes : <font color=\"blue\"> Verify circuit with QUIRK</font>\n",
    "\n",
    "\n",
    "#### TODO\n",
    "- peruse the recreated circuit below\n",
    "- hover over the key areas to view the resultant amplitude values, the probabilities, and Phase values\n",
    "- adding the R(<font color=\"red\">**y**</font>) gate with the (12/12 * Pi) rotates the point of the sphere surface directly down to |1>.\n",
    "- realize (by perusing the Bloch Sphere Playground result above) that this executed rotation lands the new bloch sphere point at the amplitude value of **1**.\n",
    "- notice that the bloch sphere widget is **visually similar** to the Bloch Sphere Playground result and Qiskit plot.\n",
    "- notice that **Theta** is 180 degrees and **Psi** is 0 Degrees - compare that to the image below for developing intuition about these rotations. \n",
    "- also notice that the decimal value 1 Qubit has a probability of 1 - compare that to the Bloch Sphere Playground resultant equation. \n",
    "\n",
    "> try that again with the R(x) gate with the (12/12 * Pi) rotates the point of the sphere surface directly down to |1>.\n",
    "- did anything else change?\n"
   ]
  },
  {
   "cell_type": "code",
   "execution_count": 14,
   "metadata": {},
   "outputs": [
    {
     "data": {
      "text/html": [
       "\n",
       "        <iframe\n",
       "            width=\"900\"\n",
       "            height=\"600\"\n",
       "            src=\"https://algassert.com/quirk#circuit={%22cols%22:[[{%22id%22:%22Ryft%22,%22arg%22:%226/12*pi%22}]]}\"\n",
       "            frameborder=\"0\"\n",
       "            allowfullscreen\n",
       "        ></iframe>\n",
       "        "
      ],
      "text/plain": [
       "<IPython.lib.display.IFrame at 0x2293be120b8>"
      ]
     },
     "execution_count": 14,
     "metadata": {},
     "output_type": "execute_result"
    }
   ],
   "source": [
    "# QUIRK (Quantum Curcuit Simulator) of Superposition R(z) Circuit \n",
    "from IPython.display import IFrame\n",
    "\n",
    "IFrame(src='https://algassert.com/quirk#circuit={%22cols%22:[[{%22id%22:%22Ryft%22,%22arg%22:%226/12*pi%22}]]}', width=900, height=600)"
   ]
  },
  {
   "cell_type": "markdown",
   "metadata": {},
   "source": [
    "# <font color=\"green\">Coding Homework</font> - Manipulating Quantum Amplitudes: <font color=\"blue\"> QisKit</font>\n",
    "\n",
    "> Use the **Qiskit Quantum Simulator** to gain <font color=\"red\">**more** </font>  experience and an **intuition of Quantum Amplitude Rotations**.\n",
    "\n",
    "\n",
    "> **NOTE:** \n",
    "- remember to reset the Qiskit Curcuit between runs to avoid run pollution.\n",
    "- use both the QUIRK Framework and the Bloch Sphere Playground to **verify the results of your experiments**\n",
    "- remember that each Bloch Sphere Playground - a **single tick** (push of a button) is **1/12th** of a unit of rotation, that can directly translate into your formula for Qiskit phase Roatations.\n",
    "\n",
    "\n",
    "\n",
    "> If it helps: remember that pi radians is equal to 180 degrees. Radians are a unit of measurement for angles, just like degrees are, and pi is just the number of radians that makes up that angle. The below link is provided as a reference.\n",
    "- https://www.quia.com/jg/321176list.html\n"
   ]
  },
  {
   "cell_type": "markdown",
   "metadata": {},
   "source": [
    "#### TODO\n",
    "- peruse and run the entire circuit below that applies an a R(y) Amplitude Rotation of **(-3/12 * Pi)**\n",
    "- execute the back end to procure the result and state vector\n",
    "- print out the bloch sphere\n",
    "- <font color=\"red\">alter </font> the R(y) phase rotation formula to a few different variations of (Pi) and <font color=\"red\">rerun </font>  the circuit - observe the change in the point on the sphere.\n",
    "- <font color=\"red\">verify </font> each of the rotations against Bloch Sphere Playground and QUIRK"
   ]
  },
  {
   "cell_type": "code",
   "execution_count": 17,
   "metadata": {},
   "outputs": [],
   "source": [
    "# Import Qiskit, and set up a Quantum register of 1 Qubit, and set up a Quantum Circuit w/that register\n",
    "\n",
    "import numpy as np\n",
    "from qiskit import QuantumCircuit, QuantumRegister, execute\n",
    "import cmath\n",
    "import math\n",
    "import matplotlib.pyplot as P\n",
    "import matplotlib.pyplot as plt\n",
    "\n",
    "qr = QuantumRegister(1)\n",
    "circ = QuantumCircuit(qr)\n",
    "\n",
    "\n",
    "# Helper Funtion for Normalizing State Vectors\n",
    "#\n",
    "def normalize_state_Vector(state_vector):\n",
    "    for result in state_vector:\n",
    "        print(\"Normalized Result: \" , round( np.abs(result)**2, 1) )\n",
    "        \n",
    "        \n",
    "# Helper Funtion for print Polar Phase(s)\n",
    "#      \n",
    "def plot_polar(state_vector):\n",
    "    pi_radians = 180;\n",
    "    for x in state_vector:\n",
    "        plt.polar([0,cmath.phase(x)],[0,abs(x)],marker='o')\n",
    "        print(\"The original complex number Re{%d}, Im{%d}, and Length : %f\" % (x.real, x.imag, abs(x)))\n",
    "        print(\"Phase: \",cmath.phase(x))\n",
    "        if cmath.phase(x) != 0:\n",
    "            print(\"Angle: \", pi_radians/(np.pi/cmath.phase(x)))\n",
    "\n"
   ]
  },
  {
   "cell_type": "markdown",
   "metadata": {},
   "source": [
    "#### <font color=\"red\">NOTE</font>: This is the only code segment you change"
   ]
  },
  {
   "cell_type": "code",
   "execution_count": 18,
   "metadata": {},
   "outputs": [
    {
     "data": {
      "image/png": "[encoded data removed]",
      "text/plain": [
       "<Figure size 184.212x84.28 with 1 Axes>"
      ]
     },
     "execution_count": 18,
     "metadata": {},
     "output_type": "execute_result"
    }
   ],
   "source": [
    "# Place an Ry gate with a (-3/12 * Pi) rotation\n",
    "\n",
    "circ.ry( -3/12 * np.pi, qr[0])\n",
    "\n",
    "# Draw the circuit\n",
    "circ.draw(output='mpl')"
   ]
  },
  {
   "cell_type": "code",
   "execution_count": 19,
   "metadata": {},
   "outputs": [
    {
     "data": {
      "text/plain": [
       "array([ 0.924+0.j, -0.383+0.j])"
      ]
     },
     "execution_count": 19,
     "metadata": {},
     "output_type": "execute_result"
    }
   ],
   "source": [
    "# Use the BasicAer statevector_simulator backend, submit the job, preview the quantum state\n",
    "\n",
    "from qiskit import BasicAer\n",
    "backend_sv_sim = BasicAer.get_backend('statevector_simulator')\n",
    "\n",
    "job_sim = execute(circ, backend_sv_sim)\n",
    "result_sim = job_sim.result()\n",
    "quantum_state = result_sim.get_statevector(circ, decimals=3)\n",
    "\n",
    "# Output the quantum state vector (Amplitude of zero and one state respectively)\n",
    "quantum_state"
   ]
  },
  {
   "cell_type": "code",
   "execution_count": 20,
   "metadata": {},
   "outputs": [
    {
     "name": "stdout",
     "output_type": "stream",
     "text": [
      "Normalized Result:  0.9\n",
      "Normalized Result:  0.1\n"
     ]
    }
   ],
   "source": [
    "normalize_state_Vector(quantum_state)"
   ]
  },
  {
   "cell_type": "code",
   "execution_count": 21,
   "metadata": {},
   "outputs": [
    {
     "name": "stdout",
     "output_type": "stream",
     "text": [
      "The original complex number Re{0}, Im{0}, and Length : 0.924000\n",
      "Phase:  0.0\n",
      "The original complex number Re{0}, Im{0}, and Length : 0.383000\n",
      "Phase:  3.141592653589793\n",
      "Angle:  180.0\n"
     ]
    },
    {
     "data": {
      "image/png": "[encoded data removed]",
      "text/plain": [
       "<Figure size 432x288 with 1 Axes>"
      ]
     },
     "metadata": {
      "needs_background": "light"
     },
     "output_type": "display_data"
    }
   ],
   "source": [
    "# Plot Polar Coordinates for intuitions sake - provides an idea of the angle of the plot on the curve \n",
    "# Plot both vectors and phase / angle (if non-zero)\n",
    "\n",
    "P.clf()\n",
    "sp = P.subplot(1, 1, 1, projection='polar')\n",
    "sp.set_theta_zero_location('N')\n",
    "sp.set_theta_direction(1)\n",
    "\n",
    "plot_polar(quantum_state)"
   ]
  },
  {
   "cell_type": "code",
   "execution_count": 22,
   "metadata": {},
   "outputs": [
    {
     "data": {
      "image/png": "[encoded data removed]",
      "text/plain": [
       "<Figure size 288x288 with 1 Axes>"
      ]
     },
     "execution_count": 22,
     "metadata": {},
     "output_type": "execute_result"
    }
   ],
   "source": [
    "# Plot the state vector on a Bloch sphere\n",
    "\n",
    "from qiskit.tools.visualization import plot_bloch_multivector\n",
    "plot_bloch_multivector(quantum_state)"
   ]
  },
  {
   "cell_type": "code",
   "execution_count": 42,
   "metadata": {},
   "outputs": [
    {
     "data": {
      "image/png": "[encoded data removed]",
      "text/plain": [
       "<Figure size 288x144 with 2 Axes>"
      ]
     },
     "metadata": {
      "needs_background": "light"
     },
     "output_type": "display_data"
    }
   ],
   "source": [
    "# Print out Circle Notation\n",
    "\n",
    "from circle_plot import *\n",
    "plot_circles(quantum_state)"
   ]
  },
  {
   "cell_type": "markdown",
   "metadata": {},
   "source": [
    "### <font color=\"red\">Observe: </font>\n",
    "\n",
    "\n",
    "- the state vector representations have changed to the probabilities of 0:(.9) and 1:(.1) - also the bloch sphere plot has changed (due to the \"Pi\" R(y) ) rotation - meaning the point on the sphere moved.\n",
    "- this indicates the point is moving around the Amplitude plane Y-Axis changing the Amplitudes but not the Phase (outside of Pi (+/- 180 Degrees) and Zero).\n",
    "- notice the phase is at +180 degrees\n",
    "\n"
   ]
  },
  {
   "cell_type": "markdown",
   "metadata": {},
   "source": [
    "#### TODO\n",
    "\n",
    "- for each circuit variation that you design <font color=\"red\">above </font> using Qiskit, recreate them in the **Bloch Sphere Playground** and **QUIRK**\n",
    "- verify the visual similarity of the resulting Qiskit bloch sphere plot and its counterpart in Bloch Sphere Playground and QUIRK\n",
    "- for QUIRK - be sure to inspect the key widgets to assure yourself the amplitude, phases, Theta, Psi, and (X, Y, Z) axis positions make intuitive sense. \n",
    "\n",
    "> <font color=\"red\">Note: </font> - the QUIRK Circuit Simulator is preset below - just modify as you see fit. The Bloch Sphere Playground is below that.\n"
   ]
  },
  {
   "cell_type": "code",
   "execution_count": 15,
   "metadata": {},
   "outputs": [
    {
     "data": {
      "text/html": [
       "\n",
       "        <iframe\n",
       "            width=\"900\"\n",
       "            height=\"600\"\n",
       "            src=\"https://algassert.com/quirk#circuit={%22cols%22:[[{%22id%22:%22Ryft%22,%22arg%22:%22-3/12*pi%22}]]}\"\n",
       "            frameborder=\"0\"\n",
       "            allowfullscreen\n",
       "        ></iframe>\n",
       "        "
      ],
      "text/plain": [
       "<IPython.lib.display.IFrame at 0x2293be12278>"
      ]
     },
     "execution_count": 15,
     "metadata": {},
     "output_type": "execute_result"
    }
   ],
   "source": [
    "# QUIRK (Quantum Curcuit Simulator) of Above Circuit \n",
    "from IPython.display import IFrame\n",
    "IFrame(src='https://algassert.com/quirk#circuit={%22cols%22:[[{%22id%22:%22Ryft%22,%22arg%22:%22-3/12*pi%22}]]}', width=900, height=600)"
   ]
  },
  {
   "cell_type": "code",
   "execution_count": 16,
   "metadata": {
    "scrolled": false
   },
   "outputs": [
    {
     "data": {
      "text/html": [
       "\n",
       "        <iframe\n",
       "            width=\"900\"\n",
       "            height=\"600\"\n",
       "            src=\"https://javafxpert.github.io/grok-bloch/\"\n",
       "            frameborder=\"0\"\n",
       "            allowfullscreen\n",
       "        ></iframe>\n",
       "        "
      ],
      "text/plain": [
       "<IPython.lib.display.IFrame at 0x2293be12390>"
      ]
     },
     "execution_count": 16,
     "metadata": {},
     "output_type": "execute_result"
    }
   ],
   "source": [
    "# Bloch Sphere Playground Application\n",
    "from IPython.display import IFrame\n",
    "IFrame(src='https://javafxpert.github.io/grok-bloch/', width=900, height=600)"
   ]
  },
  {
   "cell_type": "code",
   "execution_count": null,
   "metadata": {},
   "outputs": [],
   "source": []
  },
  {
   "cell_type": "code",
   "execution_count": null,
   "metadata": {},
   "outputs": [],
   "source": []
  },
  {
   "cell_type": "markdown",
   "metadata": {},
   "source": [
    "# Deep Dive #3 : - <font color=\"blue\">Quantum</font> <font color=\"red\">Single Qubit Gates</font> <font color=\"blue\">and their Rotations:</font>\n",
    "\n",
    "> Simgle Qubits manipulation is done w/Quantum Gates - to gain an understanding and intuition of them are critical to the quantum computing space.\n",
    "\n",
    "> The below information **supports the presenter led discussion** about the important concept of **Single Qubit Quantum Gates**. The pedagogical bent is toward catering to the software engineer archtype, so much of the work will focus on the conceptual side and developing an intuition to the various gate rotations.\n",
    "\n",
    "> **NOTE:** The details, nuances, and key concepts are left to that discussion.\n",
    "- Videos and simulations will be leveraged as appropriate."
   ]
  },
  {
   "cell_type": "markdown",
   "metadata": {},
   "source": [
    "![qubit-rotations](img/qubit-rotations.png \"qubit-rotations\")"
   ]
  },
  {
   "cell_type": "markdown",
   "metadata": {},
   "source": [
    "## Hadamard Gate\n",
    "\n",
    "<img style=\"float: left;\" src=\"img/icon-h-gate.png\">\n",
    "\n",
    "> The Hadamard gate is one of the most frequently used gates in quantum computing. The (H) gate is often the first gate applied in a circuit. When you read “put the qubit in superposition” it usually means “take the qubit initialized in the **|0>** state and apply the (H) gate to it.”\n",
    "\n",
    "\n",
    "\n",
    "> **<font color=\"red\">Note:</font>** - The Hadamard gate (matrix) changes the **basis** from **Computational** (**|0>** and **|1>**) to **Hadamard** (**|+>** and **|->**)"
   ]
  },
  {
   "cell_type": "markdown",
   "metadata": {},
   "source": [
    "### Demonstration Video"
   ]
  },
  {
   "cell_type": "code",
   "execution_count": 52,
   "metadata": {
    "scrolled": false
   },
   "outputs": [
    {
     "data": {
      "text/html": [
       "\n",
       "        <iframe\n",
       "            width=\"900\"\n",
       "            height=\"500\"\n",
       "            src=\"video/hadamard-gate.mp4\"\n",
       "            frameborder=\"0\"\n",
       "            allowfullscreen\n",
       "        ></iframe>\n",
       "        "
      ],
      "text/plain": [
       "<IPython.lib.display.IFrame at 0x2262d2aebe0>"
      ]
     },
     "execution_count": 52,
     "metadata": {},
     "output_type": "execute_result"
    }
   ],
   "source": [
    "from IPython.display import IFrame\n",
    "IFrame(src='video/hadamard-gate.mp4', width=900, height=500)"
   ]
  },
  {
   "cell_type": "markdown",
   "metadata": {},
   "source": [
    "### <font color=\"red\">Exercise</font> - Quantum Computer Gate Playground : <font color=\"blue\"> Experiment with the H gate.</font>\n",
    "\n",
    "- To gain some further intuition on the behavior of this gate (choose from pulldown), experiment with the number of qubits, and **observe what happens to the Quantum State** as a result.\n",
    "- Don't forget to measure the gate when done ! "
   ]
  },
  {
   "cell_type": "code",
   "execution_count": 65,
   "metadata": {
    "scrolled": false
   },
   "outputs": [
    {
     "data": {
      "text/html": [
       "\n",
       "        <iframe\n",
       "            width=\"900\"\n",
       "            height=\"700\"\n",
       "            src=\"http://davidbkemp.github.io/quantum-gate-playground/\"\n",
       "            frameborder=\"0\"\n",
       "            allowfullscreen\n",
       "        ></iframe>\n",
       "        "
      ],
      "text/plain": [
       "<IPython.lib.display.IFrame at 0x19b63ce84e0>"
      ]
     },
     "execution_count": 65,
     "metadata": {},
     "output_type": "execute_result"
    }
   ],
   "source": [
    "from IPython.display import IFrame\n",
    "IFrame(src='http://davidbkemp.github.io/quantum-gate-playground/', width=900, height=700)"
   ]
  },
  {
   "cell_type": "code",
   "execution_count": null,
   "metadata": {},
   "outputs": [],
   "source": []
  },
  {
   "cell_type": "markdown",
   "metadata": {},
   "source": [
    "## NOT (Pauli-X) Gate\n",
    "\n",
    "<img style=\"float: left;\" src=\"img/icon-x-gate.png\">\n",
    "\n",
    "The Pauli-X gate is a single-qubit rotation of the qubit states through &pi; radians around the x-axis of the Bloch Sphere.\n",
    "\n",
    "Not only are the poles flipped but points in the lower hemisphere move to the upper and vice versa (so it's a bit flip).\n",
    "\n"
   ]
  },
  {
   "cell_type": "code",
   "execution_count": 64,
   "metadata": {
    "scrolled": false
   },
   "outputs": [
    {
     "data": {
      "text/html": [
       "\n",
       "        <iframe\n",
       "            width=\"900\"\n",
       "            height=\"500\"\n",
       "            src=\"video/pauli-x-gate.mp4\"\n",
       "            frameborder=\"0\"\n",
       "            allowfullscreen\n",
       "        ></iframe>\n",
       "        "
      ],
      "text/plain": [
       "<IPython.lib.display.IFrame at 0x19b63ce8be0>"
      ]
     },
     "execution_count": 64,
     "metadata": {},
     "output_type": "execute_result"
    }
   ],
   "source": [
    "from IPython.display import IFrame\n",
    "IFrame(src='video/pauli-x-gate.mp4', width=900, height=500)"
   ]
  },
  {
   "cell_type": "markdown",
   "metadata": {},
   "source": [
    "### <font color=\"red\">Exercise</font> - Quantum Computer Gate Playground : <font color=\"blue\"> Experiment with the X gate.</font>\n",
    "\n",
    "- To gain some further intuition on the behavior of this gate (choose from pulldown), experiment with the number of qubits, and **observe what happens to the Quantum State** as a result.\n",
    "- Don't forget to measure the gate when done ! "
   ]
  },
  {
   "cell_type": "code",
   "execution_count": 63,
   "metadata": {
    "scrolled": false
   },
   "outputs": [
    {
     "data": {
      "text/html": [
       "\n",
       "        <iframe\n",
       "            width=\"900\"\n",
       "            height=\"700\"\n",
       "            src=\"http://davidbkemp.github.io/quantum-gate-playground/\"\n",
       "            frameborder=\"0\"\n",
       "            allowfullscreen\n",
       "        ></iframe>\n",
       "        "
      ],
      "text/plain": [
       "<IPython.lib.display.IFrame at 0x19b63ce8c50>"
      ]
     },
     "execution_count": 63,
     "metadata": {},
     "output_type": "execute_result"
    }
   ],
   "source": [
    "from IPython.display import IFrame\n",
    "IFrame(src='http://davidbkemp.github.io/quantum-gate-playground/', width=900, height=700)"
   ]
  },
  {
   "cell_type": "code",
   "execution_count": null,
   "metadata": {},
   "outputs": [],
   "source": []
  },
  {
   "cell_type": "markdown",
   "metadata": {},
   "source": [
    "### Demonstration Video"
   ]
  },
  {
   "cell_type": "markdown",
   "metadata": {},
   "source": [
    "## Y (Pauli-Y) Gate\n",
    "\n",
    "<img style=\"float: left;\" src=\"img/icon-y-gate.png\">\n",
    "\n",
    "The Pauli-Y gate is a single-qubit rotation of the qubit states by &pi; radians around the y-axis of the Bloch Sphere.\n",
    "\n",
    "It swaps the **|0>** and **|1>** (so it's a bit flip).\n",
    "\n",
    "It also swaps **|+>** and **|->** but leaves **|i>** and the **|-i>** alone."
   ]
  },
  {
   "cell_type": "markdown",
   "metadata": {},
   "source": [
    "### Demonstration Video"
   ]
  },
  {
   "cell_type": "code",
   "execution_count": 19,
   "metadata": {
    "scrolled": false
   },
   "outputs": [
    {
     "data": {
      "text/html": [
       "\n",
       "        <iframe\n",
       "            width=\"900\"\n",
       "            height=\"500\"\n",
       "            src=\"video/pauli-y-gate.mp4\"\n",
       "            frameborder=\"0\"\n",
       "            allowfullscreen\n",
       "        ></iframe>\n",
       "        "
      ],
      "text/plain": [
       "<IPython.lib.display.IFrame at 0x2293be12400>"
      ]
     },
     "execution_count": 19,
     "metadata": {},
     "output_type": "execute_result"
    }
   ],
   "source": [
    "from IPython.display import IFrame\n",
    "IFrame(src='video/pauli-y-gate.mp4', width=900, height=500)"
   ]
  },
  {
   "cell_type": "markdown",
   "metadata": {},
   "source": [
    "### <font color=\"red\">Exercise</font> - Quantum Computer Gate Playground : <font color=\"blue\"> Experiment with the Y gate.</font>\n",
    "\n",
    "- To gain some further intuition on the behavior of this gate (choose from pulldown), experiment with the number of qubits, and **observe what happens to the Quantum State** as a result.\n",
    "- Don't forget to measure the gate when done ! "
   ]
  },
  {
   "cell_type": "code",
   "execution_count": 63,
   "metadata": {
    "scrolled": false
   },
   "outputs": [
    {
     "data": {
      "text/html": [
       "\n",
       "        <iframe\n",
       "            width=\"900\"\n",
       "            height=\"700\"\n",
       "            src=\"http://davidbkemp.github.io/quantum-gate-playground/\"\n",
       "            frameborder=\"0\"\n",
       "            allowfullscreen\n",
       "        ></iframe>\n",
       "        "
      ],
      "text/plain": [
       "<IPython.lib.display.IFrame at 0x19b63ce8c50>"
      ]
     },
     "execution_count": 63,
     "metadata": {},
     "output_type": "execute_result"
    }
   ],
   "source": [
    "from IPython.display import IFrame\n",
    "IFrame(src='http://davidbkemp.github.io/quantum-gate-playground/', width=900, height=700)"
   ]
  },
  {
   "cell_type": "code",
   "execution_count": null,
   "metadata": {},
   "outputs": [],
   "source": []
  },
  {
   "cell_type": "markdown",
   "metadata": {},
   "source": [
    "## Z (Pauli-Z) Gate\n",
    "\n",
    "<img style=\"float: left;\" src=\"img/icon-z-gate.png\">\n",
    "\n",
    "The Pauli-Z gate is a single-qubit rotation of the qubit states by &pi; radians around the z-axis of the Bloch sphere..\n",
    "\n",
    "It swaps **|+>** and **|->** as well as the **|i>** and the **|-i>**.\n",
    "\n",
    "However it leaves **|0>** and **|1>** alone."
   ]
  },
  {
   "cell_type": "markdown",
   "metadata": {},
   "source": [
    "### Demonstration Video"
   ]
  },
  {
   "cell_type": "code",
   "execution_count": 255,
   "metadata": {},
   "outputs": [
    {
     "data": {
      "text/html": [
       "\n",
       "        <iframe\n",
       "            width=\"900\"\n",
       "            height=\"500\"\n",
       "            src=\"video/pauli-z-gate.mp4\"\n",
       "            frameborder=\"0\"\n",
       "            allowfullscreen\n",
       "        ></iframe>\n",
       "        "
      ],
      "text/plain": [
       "<IPython.lib.display.IFrame at 0x226346a9048>"
      ]
     },
     "execution_count": 255,
     "metadata": {},
     "output_type": "execute_result"
    }
   ],
   "source": [
    "from IPython.display import IFrame\n",
    "IFrame(src='video/pauli-z-gate.mp4', width=900, height=500)"
   ]
  },
  {
   "cell_type": "markdown",
   "metadata": {},
   "source": [
    "### <font color=\"red\">Exercise</font> - Quantum Computer Gate Playground : <font color=\"blue\"> Experiment with the Z gate.</font>\n",
    "\n",
    "- To gain some further intuition on the behavior of this gate (choose from pulldown), experiment with the number of qubits, and **observe what happens to the Quantum State** as a result.\n",
    "- Don't forget to measure the gate when done ! "
   ]
  },
  {
   "cell_type": "code",
   "execution_count": 63,
   "metadata": {
    "scrolled": false
   },
   "outputs": [
    {
     "data": {
      "text/html": [
       "\n",
       "        <iframe\n",
       "            width=\"900\"\n",
       "            height=\"700\"\n",
       "            src=\"http://davidbkemp.github.io/quantum-gate-playground/\"\n",
       "            frameborder=\"0\"\n",
       "            allowfullscreen\n",
       "        ></iframe>\n",
       "        "
      ],
      "text/plain": [
       "<IPython.lib.display.IFrame at 0x19b63ce8c50>"
      ]
     },
     "execution_count": 63,
     "metadata": {},
     "output_type": "execute_result"
    }
   ],
   "source": [
    "from IPython.display import IFrame\n",
    "IFrame(src='http://davidbkemp.github.io/quantum-gate-playground/', width=900, height=700)"
   ]
  },
  {
   "cell_type": "markdown",
   "metadata": {},
   "source": [
    "## S Gate\n",
    "\n",
    "<img style=\"float: left;\" src=\"img/icon-s-gate.png\">\n",
    "\n",
    "The S gate is also known as the phase gate or the Z90 gate, because it represents a 90 degree rotation (or a quarter turn) of the qubit states around the **z-axis**.\n"
   ]
  },
  {
   "cell_type": "markdown",
   "metadata": {},
   "source": [
    "## S&prime; Gate\n",
    "\n",
    "<img style=\"float: left;\" src=\"img/icon-s-dagger-gate.png\">\n",
    "\n",
    "The S&prime; gate is the inverse of the S gate and executes a **<font color=\"red\">-</font>90** Degree (or <font color=\"red\">negative</font> quarter turn) of the qubit states around the **z-axis**."
   ]
  },
  {
   "cell_type": "markdown",
   "metadata": {},
   "source": [
    "### Demonstration Video(s)\n",
    "\n",
    "> #### S Gate\n",
    "\n",
    "> #### S&prime; Gate\n",
    "\n"
   ]
  },
  {
   "cell_type": "code",
   "execution_count": 21,
   "metadata": {},
   "outputs": [
    {
     "data": {
      "text/html": [
       "\n",
       "        <iframe\n",
       "            width=\"900\"\n",
       "            height=\"500\"\n",
       "            src=\"video/s-and-s-dagger-gate.mp4\"\n",
       "            frameborder=\"0\"\n",
       "            allowfullscreen\n",
       "        ></iframe>\n",
       "        "
      ],
      "text/plain": [
       "<IPython.lib.display.IFrame at 0x2293be12518>"
      ]
     },
     "execution_count": 21,
     "metadata": {},
     "output_type": "execute_result"
    }
   ],
   "source": [
    "from IPython.display import IFrame\n",
    "IFrame(src='video/s-and-s-dagger-gate.mp4', width=900, height=500)"
   ]
  },
  {
   "cell_type": "markdown",
   "metadata": {},
   "source": [
    "### <font color=\"red\">Exercise</font> - Quantum Computer Gate Playground : <font color=\"blue\"> Experiment with the S gate.</font>\n",
    "\n",
    "- To gain some further intuition on the behavior of this gate (choose from pulldown), experiment with the number of qubits, and **observe what happens to the Quantum State** as a result.\n",
    "- Don't forget to measure the gate when done ! "
   ]
  },
  {
   "cell_type": "code",
   "execution_count": 63,
   "metadata": {
    "scrolled": false
   },
   "outputs": [
    {
     "data": {
      "text/html": [
       "\n",
       "        <iframe\n",
       "            width=\"900\"\n",
       "            height=\"700\"\n",
       "            src=\"http://davidbkemp.github.io/quantum-gate-playground/\"\n",
       "            frameborder=\"0\"\n",
       "            allowfullscreen\n",
       "        ></iframe>\n",
       "        "
      ],
      "text/plain": [
       "<IPython.lib.display.IFrame at 0x19b63ce8c50>"
      ]
     },
     "execution_count": 63,
     "metadata": {},
     "output_type": "execute_result"
    }
   ],
   "source": [
    "from IPython.display import IFrame\n",
    "IFrame(src='http://davidbkemp.github.io/quantum-gate-playground/', width=900, height=700)"
   ]
  },
  {
   "cell_type": "markdown",
   "metadata": {},
   "source": [
    "## T Gate\n",
    "\n",
    "<img style=\"float: left;\" src=\"img/icon-t-gate.png\">\n",
    "\n",
    "The S gate is also known as the phase gate or the Z45 gate, because it represents a 45 degree rotation (or an eighth of a turn) of the qubit states around the **z-axis**."
   ]
  },
  {
   "cell_type": "markdown",
   "metadata": {},
   "source": [
    "## T&prime; Gate\n",
    "\n",
    "<img style=\"float: left;\" src=\"img/icon-t-dagger-gate.png\">\n",
    "\n",
    "The T&prime; gate is also known as the phase gate or the <font color=\"red\">-</font>Z45 gate, because it represents a <font color=\"red\">negative</font> 45 degree rotation (or an <font color=\"red\">negative</font> eighth of a turn) of the qubit states around the **z-axis**."
   ]
  },
  {
   "cell_type": "markdown",
   "metadata": {},
   "source": [
    "### Demonstration Video\n",
    "\n",
    "> #### T Gate\n",
    "\n",
    "> #### T&prime; Gate"
   ]
  },
  {
   "cell_type": "code",
   "execution_count": 22,
   "metadata": {
    "scrolled": false
   },
   "outputs": [
    {
     "data": {
      "text/html": [
       "\n",
       "        <iframe\n",
       "            width=\"900\"\n",
       "            height=\"500\"\n",
       "            src=\"video/t-and-t-dagger-gate.mp4\"\n",
       "            frameborder=\"0\"\n",
       "            allowfullscreen\n",
       "        ></iframe>\n",
       "        "
      ],
      "text/plain": [
       "<IPython.lib.display.IFrame at 0x2293be125f8>"
      ]
     },
     "execution_count": 22,
     "metadata": {},
     "output_type": "execute_result"
    }
   ],
   "source": [
    "from IPython.display import IFrame\n",
    "IFrame(src='video/t-and-t-dagger-gate.mp4', width=900, height=500)"
   ]
  },
  {
   "cell_type": "markdown",
   "metadata": {},
   "source": [
    "### <font color=\"red\">Exercise</font> - Quantum Computer Gate Playground : <font color=\"blue\"> Experiment with the T gate.</font>\n",
    "\n",
    "- To gain some further intuition on the behavior of this gate (choose from pulldown), experiment with the number of qubits, and **observe what happens to the Quantum State** as a result.\n",
    "- Don't forget to measure the gate when done ! "
   ]
  },
  {
   "cell_type": "code",
   "execution_count": 63,
   "metadata": {
    "scrolled": false
   },
   "outputs": [
    {
     "data": {
      "text/html": [
       "\n",
       "        <iframe\n",
       "            width=\"900\"\n",
       "            height=\"700\"\n",
       "            src=\"http://davidbkemp.github.io/quantum-gate-playground/\"\n",
       "            frameborder=\"0\"\n",
       "            allowfullscreen\n",
       "        ></iframe>\n",
       "        "
      ],
      "text/plain": [
       "<IPython.lib.display.IFrame at 0x19b63ce8c50>"
      ]
     },
     "execution_count": 63,
     "metadata": {},
     "output_type": "execute_result"
    }
   ],
   "source": [
    "from IPython.display import IFrame\n",
    "IFrame(src='http://davidbkemp.github.io/quantum-gate-playground/', width=900, height=700)"
   ]
  },
  {
   "cell_type": "markdown",
   "metadata": {},
   "source": [
    "## R(<font color=\"red\">x</font>) Gate - A Phase Change Gate\n",
    "\n",
    "<img style=\"float: left;\" src=\"img/icon-rx-gate.png\">\n",
    "\n",
    "The Rx gate is a single-qubit rotation through angle \"Theta\" &theta; (radians) around the x-axis.\n",
    "\n",
    "The angle of rotation must be specified in radians and can be positive or negative."
   ]
  },
  {
   "cell_type": "markdown",
   "metadata": {},
   "source": [
    "### Demonstration Video"
   ]
  },
  {
   "cell_type": "code",
   "execution_count": 249,
   "metadata": {
    "scrolled": false
   },
   "outputs": [
    {
     "data": {
      "text/html": [
       "\n",
       "        <iframe\n",
       "            width=\"900\"\n",
       "            height=\"500\"\n",
       "            src=\"video/rx-gate.mp4\"\n",
       "            frameborder=\"0\"\n",
       "            allowfullscreen\n",
       "        ></iframe>\n",
       "        "
      ],
      "text/plain": [
       "<IPython.lib.display.IFrame at 0x2263464eac8>"
      ]
     },
     "execution_count": 249,
     "metadata": {},
     "output_type": "execute_result"
    }
   ],
   "source": [
    "from IPython.display import IFrame\n",
    "IFrame(src='video/rx-gate.mp4', width=900, height=500)"
   ]
  },
  {
   "cell_type": "markdown",
   "metadata": {},
   "source": [
    "### <font color=\"red\">Exercise</font> - Quantum Computer Gate Playground : <font color=\"blue\"> Experiment with the X-Rotation gate.</font>\n",
    "\n",
    "- To gain some further intuition on the behavior of this gate (choose from pulldown), experiment with the number of qubits, and **observe what happens to the Quantum State** as a result.\n",
    "- Don't forget to measure the gate when done ! "
   ]
  },
  {
   "cell_type": "code",
   "execution_count": 63,
   "metadata": {
    "scrolled": false
   },
   "outputs": [
    {
     "data": {
      "text/html": [
       "\n",
       "        <iframe\n",
       "            width=\"900\"\n",
       "            height=\"700\"\n",
       "            src=\"http://davidbkemp.github.io/quantum-gate-playground/\"\n",
       "            frameborder=\"0\"\n",
       "            allowfullscreen\n",
       "        ></iframe>\n",
       "        "
      ],
      "text/plain": [
       "<IPython.lib.display.IFrame at 0x19b63ce8c50>"
      ]
     },
     "execution_count": 63,
     "metadata": {},
     "output_type": "execute_result"
    }
   ],
   "source": [
    "from IPython.display import IFrame\n",
    "IFrame(src='http://davidbkemp.github.io/quantum-gate-playground/', width=900, height=700)"
   ]
  },
  {
   "cell_type": "markdown",
   "metadata": {},
   "source": [
    "## R(<font color=\"red\">y</font>) Gate - A Phase Change Gate\n",
    "\n",
    "<img style=\"float: left;\" src=\"img/icon-ry-gate.png\">\n",
    "\n",
    "The Ry gate is a single-qubit rotation through angle \"Theta\" &theta; (radians) around the y-axis.\n",
    "\n",
    "The angle of rotation must be specified in radians and can be positive or negative."
   ]
  },
  {
   "cell_type": "markdown",
   "metadata": {},
   "source": [
    "### Demonstration Video"
   ]
  },
  {
   "cell_type": "markdown",
   "metadata": {},
   "source": [
    "### <font color=\"red\">Exercise</font> - Quantum Computer Gate Playground : <font color=\"blue\"> Experiment with the Y-Rotation gate.</font>\n",
    "\n",
    "- To gain some further intuition on the behavior of this gate (choose from pulldown), experiment with the number of qubits, and **observe what happens to the Quantum State** as a result.\n",
    "- Don't forget to measure the gate when done ! "
   ]
  },
  {
   "cell_type": "code",
   "execution_count": 63,
   "metadata": {
    "scrolled": false
   },
   "outputs": [
    {
     "data": {
      "text/html": [
       "\n",
       "        <iframe\n",
       "            width=\"900\"\n",
       "            height=\"700\"\n",
       "            src=\"http://davidbkemp.github.io/quantum-gate-playground/\"\n",
       "            frameborder=\"0\"\n",
       "            allowfullscreen\n",
       "        ></iframe>\n",
       "        "
      ],
      "text/plain": [
       "<IPython.lib.display.IFrame at 0x19b63ce8c50>"
      ]
     },
     "execution_count": 63,
     "metadata": {},
     "output_type": "execute_result"
    }
   ],
   "source": [
    "from IPython.display import IFrame\n",
    "IFrame(src='http://davidbkemp.github.io/quantum-gate-playground/', width=900, height=700)"
   ]
  },
  {
   "cell_type": "markdown",
   "metadata": {},
   "source": [
    "## R(<font color=\"red\">x</font>) Gate - A Phase Change Gate\n",
    "\n",
    "<img style=\"float: left;\" src=\"img/icon-rz-gate.png\">\n",
    "\n",
    "The Rz gate is a single-qubit rotation through angle \"Theta\" &theta; (radians) around the z-axis.\n",
    "\n",
    "The angle of rotation must be specified in radians and can be positive or negative."
   ]
  },
  {
   "cell_type": "markdown",
   "metadata": {},
   "source": [
    "### Demonstration Video"
   ]
  },
  {
   "cell_type": "code",
   "execution_count": 25,
   "metadata": {
    "scrolled": false
   },
   "outputs": [
    {
     "data": {
      "text/html": [
       "\n",
       "        <iframe\n",
       "            width=\"900\"\n",
       "            height=\"500\"\n",
       "            src=\"video/rz-gate.mp4\"\n",
       "            frameborder=\"0\"\n",
       "            allowfullscreen\n",
       "        ></iframe>\n",
       "        "
      ],
      "text/plain": [
       "<IPython.lib.display.IFrame at 0x2293be12908>"
      ]
     },
     "execution_count": 25,
     "metadata": {},
     "output_type": "execute_result"
    }
   ],
   "source": [
    "from IPython.display import IFrame\n",
    "IFrame(src='video/rz-gate.mp4', width=900, height=500)"
   ]
  },
  {
   "cell_type": "markdown",
   "metadata": {},
   "source": [
    "### <font color=\"red\">Exercise</font> - Quantum Computer Gate Playground : <font color=\"blue\"> Experiment with the Z-Rotation gate.</font>\n",
    "\n",
    "- To gain some further intuition on the behavior of this gate (choose from pulldown), experiment with the number of qubits, and **observe what happens to the Quantum State** as a result.\n",
    "- Don't forget to measure the gate when done ! "
   ]
  },
  {
   "cell_type": "code",
   "execution_count": 63,
   "metadata": {
    "scrolled": false
   },
   "outputs": [
    {
     "data": {
      "text/html": [
       "\n",
       "        <iframe\n",
       "            width=\"900\"\n",
       "            height=\"700\"\n",
       "            src=\"http://davidbkemp.github.io/quantum-gate-playground/\"\n",
       "            frameborder=\"0\"\n",
       "            allowfullscreen\n",
       "        ></iframe>\n",
       "        "
      ],
      "text/plain": [
       "<IPython.lib.display.IFrame at 0x19b63ce8c50>"
      ]
     },
     "execution_count": 63,
     "metadata": {},
     "output_type": "execute_result"
    }
   ],
   "source": [
    "from IPython.display import IFrame\n",
    "IFrame(src='http://davidbkemp.github.io/quantum-gate-playground/', width=900, height=700)"
   ]
  },
  {
   "cell_type": "markdown",
   "metadata": {},
   "source": [
    "## (&radic;not) Gate \n",
    "\n",
    "<img style=\"float: left;\" src=\"img/icon-sqrt-not-gate.png\">\n",
    "\n",
    "The **Root of Not** gate does **not** exist in the world of conventional logic - **there is no equivalent**.\n",
    "\n",
    "If this gate does not exist in your portfolio of gates, *it can be constructed using the following gate recipe:*\n",
    "\n",
    "> Gates: **( H + P90 + H )** - where **P90** is  effectively any Phase 90 gate or combination.\n",
    "- **<font color=\"red\">NOTICE</font>:** By carefully placing information in the **Relative Phase** of a Qubit, we can perform *entirely new kinds of computation*.\n",
    "- Experiment with the Below Simulator to gain some intuition."
   ]
  },
  {
   "cell_type": "markdown",
   "metadata": {},
   "source": [
    "## <font color=\"red\">Demonstration -  Simulation</font>\n",
    "\n",
    "> Execute the Root of Not code in the **QCEngine Quantum Simulator** and interact with the **Program Circuit** result by clicking **before** and **after** any of the gates in the circuit and then perusing the behavior of the **Circle Notation Plots**.\n",
    "\n",
    "**<font color=\"red\">NOTICE</font>:** Documentation on the QCEngine can be found here: - https://oreilly-qc.github.io/docs/build/index.html\n"
   ]
  },
  {
   "cell_type": "code",
   "execution_count": 26,
   "metadata": {
    "scrolled": false
   },
   "outputs": [
    {
     "data": {
      "text/html": [
       "\n",
       "        <iframe\n",
       "            width=\"900\"\n",
       "            height=\"900\"\n",
       "            src=\"http://oreilly-qc.github.io?p=2-3\"\n",
       "            frameborder=\"0\"\n",
       "            allowfullscreen\n",
       "        ></iframe>\n",
       "        "
      ],
      "text/plain": [
       "<IPython.lib.display.IFrame at 0x2293be12940>"
      ]
     },
     "execution_count": 26,
     "metadata": {},
     "output_type": "execute_result"
    }
   ],
   "source": [
    "from IPython.display import IFrame\n",
    "IFrame(src='http://oreilly-qc.github.io?p=2-3', width=900, height=900)"
   ]
  },
  {
   "cell_type": "markdown",
   "metadata": {},
   "source": [
    "## <font color=\"red\">Demonstration -  Simulation</font>\n",
    "\n",
    "> Peruse the QUIRK circuit below that constructs the **Root of NOT** circuit - see if you can intuit what is happening based upon your experiences with the QCEngine's rendition of the circuit.\n",
    "\n",
    "**<font color=\"red\">NOTICE</font>:** Documentation on the **QUIRK** Simulator can be found here: - https://github.com/Strilanc/Quirk/wiki/How-to-use-Quirk"
   ]
  },
  {
   "cell_type": "code",
   "execution_count": 27,
   "metadata": {},
   "outputs": [
    {
     "data": {
      "text/html": [
       "\n",
       "        <iframe\n",
       "            width=\"900\"\n",
       "            height=\"600\"\n",
       "            src=\"https://algassert.com/quirk#circuit={%22cols%22:[[%22H%22],[{%22id%22:%22Rzft%22,%22arg%22:%22-pi%20/%202%22}],[],[%22H%22],[%22%E2%80%A6%22],[%22H%22],[{%22id%22:%22Rzft%22,%22arg%22:%22-pi%20/%202%22}],[],[%22H%22]]}\"\n",
       "            frameborder=\"0\"\n",
       "            allowfullscreen\n",
       "        ></iframe>\n",
       "        "
      ],
      "text/plain": [
       "<IPython.lib.display.IFrame at 0x2293be126a0>"
      ]
     },
     "execution_count": 27,
     "metadata": {},
     "output_type": "execute_result"
    }
   ],
   "source": [
    "# QUIRK (Quantum Curcuit Simulator) of Above Circuit : 2 Roots of Not Gates\n",
    "from IPython.display import IFrame\n",
    "IFrame(src='https://algassert.com/quirk#circuit={%22cols%22:[[%22H%22],[{%22id%22:%22Rzft%22,%22arg%22:%22-pi%20/%202%22}],[],[%22H%22],[%22%E2%80%A6%22],[%22H%22],[{%22id%22:%22Rzft%22,%22arg%22:%22-pi%20/%202%22}],[],[%22H%22]]}', width=900, height=600)"
   ]
  },
  {
   "cell_type": "code",
   "execution_count": null,
   "metadata": {},
   "outputs": [],
   "source": []
  },
  {
   "cell_type": "code",
   "execution_count": null,
   "metadata": {},
   "outputs": [],
   "source": []
  },
  {
   "cell_type": "markdown",
   "metadata": {},
   "source": [
    "![the-end](img/the-end.png \"the-end\")"
   ]
  },
  {
   "cell_type": "code",
   "execution_count": null,
   "metadata": {},
   "outputs": [],
   "source": []
  }
 ],
 "metadata": {
  "kernelspec": {
   "display_name": "qcousins",
   "language": "python",
   "name": "qcousins"
  },
  "language_info": {
   "codemirror_mode": {
    "name": "ipython",
    "version": 3
   },
   "file_extension": ".py",
   "mimetype": "text/x-python",
   "name": "python",
   "nbconvert_exporter": "python",
   "pygments_lexer": "ipython3",
   "version": "3.7.1"
  }
 },
 "nbformat": 4,
 "nbformat_minor": 2
}
