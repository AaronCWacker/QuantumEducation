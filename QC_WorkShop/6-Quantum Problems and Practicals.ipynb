{
 "cells": [
  {
   "cell_type": "markdown",
   "metadata": {},
   "source": [
    "# Quantum Problems (and Practicals)\n",
    "\n",
    "- #### Hands-on Experiential Learning <font color=\"red\">for the Software Engineer</font>"
   ]
  },
  {
   "cell_type": "markdown",
   "metadata": {},
   "source": [
    "![qpp-banner](img/qpp-banner.png \"qpp-banner\")\n",
    "\n",
    "<BR>\n",
    "\n",
    "<font color=\"red\">**Notice**</font>: All materials herein were <font color=\"red\">**curated**</font> by **Matthew R. Versaggi (profversaggi@gmail.com)** and are released into the open source to foster growth and welfare of expanding the Quantum Computing domain - the only obligation one incurs when using, copying, distributing or referencing this is to kindly reference the author and send me an email so I know how useful the material is to you.\n",
    "\n",
    "<font color=\"red\">**Notice**</font>: Python Code contributions for the Circle Plots are the work of **David Radcliffe**."
   ]
  },
  {
   "cell_type": "markdown",
   "metadata": {},
   "source": [
    "   \n",
    "\n",
    "## Pedagogical Approach: (<font color=\"red\">**Read this first !**</font>)\n",
    "\n",
    "This material is intended to educate **software engineers** in certain aspects of Quantum Computing, therefore its focus will be on conveying the conceptual ideas in a form digestible to them, and supporting it with exercises to reinforce those concepts. \n",
    "\n",
    "Because of that pedagogical approach, **this material won't lead with or heavily leverage the concepts and language indigenous to physics and math**, but only in those terms most easily digestible to the modern software engineer.\n",
    "\n",
    "This Jupyter Notebook is <font color=\"red\">**not intended as a stand alone educational vehicle**</font>  - it's meant to be accompanied by a decicated power point deck that contains the main concepts to be presented by an instructor - **it is intended as a vehicle for a hands on workshop environment to facilitate learning through a guided experience.**\n",
    "\n",
    "> **Note:-** Because of the above educational approach:\n",
    "1. There is a certain amount of basic Quantum Computing knowledge that is assumed.\n",
    "2. An active internet connection is **always** assumed.\n",
    "3. Online references/links will be provided where appropriate\n",
    "4. References to books will be made where appropriate\n",
    "5. Much of this material is **dense and detailed**, the reader is <font color=\"red\">**cautioned**</font> to be careful and slow to digest the *nuances* of the material."
   ]
  },
  {
   "cell_type": "markdown",
   "metadata": {},
   "source": [
    "## What you will be exposed to - High level: \n",
    "\n",
    "\n",
    "- Software engineers in the Quantum Computing space need to be exposed to how QC solves problems in context.\n",
    "- Given the above, there are a host of technical concepts that need to be **<font color=\"red\">understood experientially</font>** - we'll intentionally employ a vendor / framework agnostic approach to focus on the delivery of concept understanding and intuition procurement as the main value-add.\n",
    "\n",
    "> ### High Level Agenda (<font color=\"red\">*major sections*</font>): - quantum problems and practicals for the software engineer.\n",
    "0. <font color=\"blue\">*Solving Logic Puzzles: - BSP: Of Kittens and Tigers*</font>\n",
    "0. <font color=\"blue\">*Solving Logic Puzzles: - BSP: Generalized Approach*</font>\n",
    "0. <font color=\"blue\">*Quantum Spy Hunter - Quantum Key Distribution (QKD) basics.*</font>\n",
    "0. <font color=\"blue\">*Grovers Search Algorithm*</font>\n",
    "\n",
    "\n",
    "\n"
   ]
  },
  {
   "cell_type": "code",
   "execution_count": null,
   "metadata": {},
   "outputs": [],
   "source": []
  },
  {
   "cell_type": "markdown",
   "metadata": {},
   "source": [
    "# <font color=\"red\">Developmental Detour</font>: Solving <font color=\"blue\">Logic Puzzles</font> \n",
    "\n",
    "<BR>"
   ]
  },
  {
   "cell_type": "markdown",
   "metadata": {},
   "source": [
    "##  Boolean Satisfiability Problem: <font color=\"blue\">Of Kittens and Tigers</font>\n",
    "\n",
    "> **Definition**: Boolean satisfiability is the problem of <font color=\"red\">determining whether input values exist</font> that will satisify a given <font color=\"blue\">boolean statement</font>, a member of the **NP Complete Problem Class** - something solveable with quantum logic!\n",
    "\n",
    "\n",
    "<BR>\n",
    "\n",
    "![qpp-boxes](img/qpp-boxes.png \"qpp-boxes\")\n",
    "\n",
    "\n",
    "## <font color=\"blue\">Messages on the boxes</font>:\n",
    "\n",
    "> ### (1) At least one of these boxes contains a cute kitten\n",
    "> ### (2) The other contains a ferocious tiger\n",
    "> ### (3) The notes on the boxes are EITHER both true OR both false\n"
   ]
  },
  {
   "cell_type": "code",
   "execution_count": null,
   "metadata": {},
   "outputs": [],
   "source": [
    "# Note - The B note in picture below is incorrect.\n",
    "# \"At least one box contains a kitten\" is that wrong and should it be \"The other box contains a kitten\" otherwise it would always be true"
   ]
  },
  {
   "cell_type": "markdown",
   "metadata": {},
   "source": [
    "## <font color=\"blue\">The Digital Solution</font>:\n",
    "\n",
    "- (Required **<font color=\"red\">FOUR</font>** runs to determine the solution)\n",
    "\n",
    "![qpp-tiger-kitten-digital](img/qpp-tiger-kitten-digital.png \"\")\n",
    "\n",
    "> If you input a possibility for what’s in each box, you’ll get a ONE output **only if the possibility satisfies all the conditions** .\n",
    "\n",
    "> One needs to run **<font color=\"red\">each of the four possible configurations</font>** of kittens and tigers to discover out which one satisfies all the constraints, and then it'll be know which box to open.\n",
    "\n",
    "\n",
    "- 0 means tiger \n",
    "- 1 means kitten\n",
    "- For the note on **box A**, use an **<font color=\"red\">OR gate</font>**, indicating that this *constraint would only be satisfied* if box A **OR** box B contained a kitten.  \n",
    "- For the note on **box B**, use a **<font color=\"red\">NOT gate</font>**, indicating that this *constraint would only be satisfied* if box A did **NOT** contain a kitten.  \n",
    "- Finally, add an **<font color=\"red\">XNOR gate</font>** to the end, which would be *satisfied (output true) only if* the results of the other two gates were the **same as each other, both true or both false**.\n",
    "\n"
   ]
  },
  {
   "cell_type": "markdown",
   "metadata": {},
   "source": [
    "### <font color=\"red\">Exercise</font> : Boolean Satisfiability Problem: Of Kittens and Tigers using <font color=\"red\">CircuitVerse</font>.\n",
    "- Launch the CircuitVerse Environment and input the **FOUR** possible configurations to show which one solves the problem (and shows the correct box that the kitten is in)."
   ]
  },
  {
   "cell_type": "markdown",
   "metadata": {},
   "source": [
    "## <font color=\"red\">Digital</font> <font color=\"blue\">Boolean Satisfiability Problem: Of Kittens and Tigers</font>\n",
    "\n",
    "<img style=\"float: left;\" src=\"img/BSP-Tigers-Kittens-CircuitVerse.png\">\n",
    "\n",
    "<BR><BR><BR><BR><BR><BR><BR><BR><BR><BR>\n",
    "\n",
    "\n",
    "> ### <font color=\"red\">CircuitVerse Example</font>: (BSP Tigers and Kittens) \n",
    "- https://circuitverse.org/users/18385/projects/56831"
   ]
  },
  {
   "cell_type": "markdown",
   "metadata": {},
   "source": [
    "<img src=\"img/caveat-sign.png\"  align=\"left\"/>\n",
    "\n",
    "<BR><BR><BR><BR><BR><BR><BR><BR>\n",
    "    \n",
    "> ## The device can only be run **<font color=\"red\">once</font>** !!!\n"
   ]
  },
  {
   "cell_type": "markdown",
   "metadata": {},
   "source": [
    "## <font color=\"blue\">The Quantum Solution</font>:\n",
    "- (Required **<font color=\"red\">ONE</font>** run to determine the solution)"
   ]
  },
  {
   "cell_type": "markdown",
   "metadata": {},
   "source": [
    "![qpp-tiger-kitten-quantum](img/qpp-tiger-kitten-quantum.png \"\")\n",
    "\n",
    "<BR>\n",
    "\n",
    "\n",
    "### <font color=\"blue\">Phase Logic Circuit Gates</font>\n",
    "![phase-logic-gates](img/phase-logic-gates.png \"\")\n",
    "\n",
    "<BR>\n",
    "\n",
    "### <font color=\"blue\">Reference: Quantum Digital Logic Gates:</font>\n",
    "![digital-logic-gates-cnots](img/digital-logic-gates-cnots.png \"\")"
   ]
  },
  {
   "cell_type": "markdown",
   "metadata": {},
   "source": [
    "### <font color=\"red\">Why does this work</font>?\n",
    "\n",
    "> **Notice**: While the **Digital** solution to this Boolean Satisfiability Problem took **<font color=\"red\">FOUR</font>** runs to find the right set of input parameters that would could solve the problem (*assuming such a set existed*), the **Quantum** Solution only took  **<font color=\"red\">ONE</font>** run. \n",
    "\n",
    "- This is because when **each of the two qubits are put into superposition**, they **simultaneously** provide the states for the **FOUR** possible (digital) input states to be tested in parallel in the quantum solution.\n",
    "\n",
    "\n",
    "- **<font color=\"red\">UNCOMPUTING</font>**: The idea of uncomputing is to reverse the operations that entangled an arbitrary qubit, returning it to its initial, disentangled ∣0⟩ state.\n",
    "\n",
    "\n",
    "\n"
   ]
  },
  {
   "cell_type": "markdown",
   "metadata": {},
   "source": [
    "### <font color=\"red\">Exercise</font> : Boolean Satisfiability Problem: Of Kittens and Tigers using the <font color=\"blue\">QCEngine</font>.\n",
    "- Run and re-run the algorithm and step through the output area in order to observe it's behavior and develop intuition.\n",
    "- Look particularly at the digital logic setup of the problem (*this is very important*) to get a feel for the solution design.\n",
    "- Then observe the application of Superposition and how it provides for four simultaneous states to be evalutated.\n",
    "- Peruse the application of the various phase logic processes and how they fit together\n",
    "- Notice the **uncompute** and **mirror** processes and understand what each does.\n",
    "\n",
    "\n",
    "\n"
   ]
  },
  {
   "cell_type": "code",
   "execution_count": 2,
   "metadata": {},
   "outputs": [
    {
     "data": {
      "text/html": [
       "\n",
       "        <iframe\n",
       "            width=\"1200\"\n",
       "            height=\"900\"\n",
       "            src=\"https://oreilly-qc.github.io?p=10-2\"\n",
       "            frameborder=\"0\"\n",
       "            allowfullscreen\n",
       "            \n",
       "        ></iframe>\n",
       "        "
      ],
      "text/plain": [
       "<IPython.lib.display.IFrame at 0x70130a0>"
      ]
     },
     "execution_count": 2,
     "metadata": {},
     "output_type": "execute_result"
    }
   ],
   "source": [
    "from IPython.display import IFrame\n",
    "IFrame(src='https://oreilly-qc.github.io?p=10-2', width=1200, height=900)"
   ]
  },
  {
   "cell_type": "code",
   "execution_count": null,
   "metadata": {},
   "outputs": [],
   "source": []
  },
  {
   "cell_type": "markdown",
   "metadata": {},
   "source": [
    "##  Boolean Satisfiability Problem: <font color=\"blue\">Solution Generalization</font>\n",
    "\n",
    "<BR>\n",
    "    \n",
    "> ## EXAMPLE:  \n",
    ">> ## (<font color=\"blue\">a OR b</font>) <font color=\"red\">AND</font> (<font color=\"blue\">NOT a OR c</font>) <font color=\"red\">AND</font> (<font color=\"blue\">NOT b OR NOT c</font>) <font color=\"red\">AND</font> (<font color=\"blue\">a OR c</font>)\n",
    "\n",
    "\n",
    "## <font color=\"red\">General Recipe</font>:\n",
    "\n",
    "![BSP_Recipe](img/BSP_Recipe.png \"\")\n",
    "\n"
   ]
  },
  {
   "cell_type": "markdown",
   "metadata": {},
   "source": [
    "### <font color=\"red\">Exercise</font> : Boolean Satisfiability Problem: Generalized Approach <font color=\"red\">CircuitVerse</font>.\n",
    "- Launch the CircuitVerse Environment and input the **X** possible configurations to show which one(s) solves the problem."
   ]
  },
  {
   "cell_type": "markdown",
   "metadata": {},
   "source": [
    "## <font color=\"red\">Digital</font> <font color=\"blue\">Boolean Satisfiability Problem: Generalized Formula</font>\n",
    "\n",
    "> ## BSP Problem:  \n",
    ">> ## (<font color=\"blue\">a OR b</font>) <font color=\"red\">AND</font> (<font color=\"blue\">NOT a OR c</font>) <font color=\"red\">AND</font> (<font color=\"blue\">NOT b OR NOT c</font>) <font color=\"red\">AND</font> (<font color=\"blue\">a OR c</font>)\n",
    "\n",
    "<img style=\"float: left;\" src=\"img/BSP_GeneralizedSolution.png\">\n",
    "\n",
    "<BR><BR><BR><BR><BR><BR><BR><BR><BR><BR><BR><BR><BR><BR>\n",
    "\n",
    "\n",
    "> ### <font color=\"red\">CircuitVerse Example</font>: (BSP Generalized Solution) \n",
    "- https://circuitverse.org/simulator/edit/56832"
   ]
  },
  {
   "cell_type": "markdown",
   "metadata": {},
   "source": [
    "<img src=\"img/caveat-sign.png\"  align=\"left\"/>\n",
    "\n",
    "<BR><BR><BR><BR><BR><BR><BR><BR>\n",
    "    \n",
    "> ## The device can only be run **<font color=\"red\">once</font>** !!!\n"
   ]
  },
  {
   "cell_type": "markdown",
   "metadata": {},
   "source": [
    "## <font color=\"blue\">The Quantum Solution</font>:\n",
    "- (Required **<font color=\"red\">ONE</font>** runs to determine **a** solution)\n",
    "\n",
    "> ## BSP Problem:  \n",
    ">> ## (<font color=\"blue\">a OR b</font>) <font color=\"red\">AND</font> (<font color=\"blue\">NOT a OR c</font>) <font color=\"red\">AND</font> (<font color=\"blue\">NOT b OR NOT c</font>) <font color=\"red\">AND</font> (<font color=\"blue\">a OR c</font>)"
   ]
  },
  {
   "cell_type": "markdown",
   "metadata": {},
   "source": [
    "<BR>\n",
    "    \n",
    "![3-sat_problem-circuit](img/3-sat_problem-circuit.png \"\")\n",
    "\n",
    "<BR>\n",
    "\n",
    "\n",
    "![3-sat_problem_Circles](img/3-sat_problem_Circles.png \"\")\n",
    "\n",
    "<BR>"
   ]
  },
  {
   "cell_type": "markdown",
   "metadata": {},
   "source": [
    "### <font color=\"red\">Why does this work</font>?\n",
    "\n",
    "> **Notice**: While the **Digital** solution to this Boolean Satisfiability Problem took **<font color=\"red\">X</font>** runs to find the right set of input parameters that would could solve the problem (*assuming such a set existed*), the **Quantum** Solution only took  **<font color=\"red\">ONE</font>** run. \n",
    "\n",
    "- This is because when **each of the X qubits are put into superposition**, they **simultaneously** provide the states for the **ALL** possible (digital) input states to be tested in parallel in the quantum solution.\n",
    "\n"
   ]
  },
  {
   "cell_type": "markdown",
   "metadata": {},
   "source": [
    "### <font color=\"red\">Exercise</font> : Boolean Satisfiability Problem: General Recipe using <font color=\"blue\">QCEngine</font>.\n",
    "\n",
    "- Given the explanation of the general recipe above, run the example below and step through the behavior of the circuit to gain intuition (observe the behavior of the circle plots as well).\n",
    "- Be careful to expand output frame to a size where observing the circuits behavior is possible (it's tricky).\n",
    "- **Notice** a **REQUIREMENT** is that all clauses **MUST be in superposition** for computation."
   ]
  },
  {
   "cell_type": "code",
   "execution_count": 3,
   "metadata": {},
   "outputs": [
    {
     "data": {
      "text/html": [
       "\n",
       "        <iframe\n",
       "            width=\"1200\"\n",
       "            height=\"900\"\n",
       "            src=\"https://oreilly-qc.github.io?p=10-3\"\n",
       "            frameborder=\"0\"\n",
       "            allowfullscreen\n",
       "            \n",
       "        ></iframe>\n",
       "        "
      ],
      "text/plain": [
       "<IPython.lib.display.IFrame at 0x7013fe8>"
      ]
     },
     "execution_count": 3,
     "metadata": {},
     "output_type": "execute_result"
    }
   ],
   "source": [
    "from IPython.display import IFrame\n",
    "IFrame(src='https://oreilly-qc.github.io?p=10-3', width=1200, height=900)"
   ]
  },
  {
   "cell_type": "code",
   "execution_count": null,
   "metadata": {},
   "outputs": [],
   "source": []
  },
  {
   "cell_type": "markdown",
   "metadata": {},
   "source": [
    "# <font color=\"red\">Developmental Detour</font>:  <font color=\"blue\">Quantum Spy Hunter</font> \n",
    "\n",
    "> **<font color=\"red\">Example:</font>** - This is a more practical demonstration of the power in manipulating the **relative phases** of qubits to perform a simplified version of **Quantum Key Distribution (QKD)**. QKD is a protocol at the core of the field of **quantum cryptography** that allows the provably secure transmission of information.\n",
    "\n",
    "- The Quantum Spy Hunter Program starts with Alice and Bob each having access to a simple QPU containing a single qubit, and them sending their qubits along a quantum communication channel (fiber). **However - there might be a spy listening to that link!**\n",
    "\n",
    "\n",
    "- Suppose that two QPU programmers, Alice and Bob, are sending data to each other via a communication channel capable of transmitting qubits. Once in a while, they send the specially constructed **“spy hunter” qubit** with which they use to test whether their communication channel has been compromised.\n",
    "\n",
    "\n",
    "- Any spy who tries to read one of these qubits has a 25% chance of getting caught. So even if Alice and Bob only use 50 of them in the whole transfer, **the spy’s chances of getting away are far less than one in a million**. \n",
    "\n",
    "\n",
    "- Alice and Bob can detect whether their key has been compromised by exchanging some conventional digital information, which does not need to be private or encrypted. \n",
    "\n",
    "\n",
    "- After exchanging their messages, **they test a few of their qubits** by reading them out and **checking that they agree** in a certain expected way. **If any disagree, then they know someone was listening in**.\n",
    "\n",
    "\n",
    "<BR>\n",
    "\n",
    "![QuantumSpyHunterCircuit](img/QuantumSpyHunterCircuit.png \"\")\n",
    "\n",
    "\n",
    "<BR><BR>\n",
    "    \n",
    "\n",
    "![QuantumSpyHunter-Diagram](img/QuantumSpyHunter-Diagram.png \"\")\n",
    "\n",
    "\n",
    "<BR><BR>\n",
    "    \n",
    "\n",
    "![QuantumSpyHunterCircuit-Spy](img/QuantumSpyHunterCircuit-Spy.png \"\")\n",
    "\n",
    "<BR>\n",
    "    \n",
    "\n",
    "- In the above diagram, the \"sent\" information between Alice and Bob both match up, however the \"value\" of the information sent does not match, therefore someone's been listening in.\n",
    "\n",
    "\n",
    "- Notice the Quantum **\"No-Cloning\"** Rule is what secures the communication.\n",
    "\n",
    "<BR><BR>\n",
    "    \n",
    "    \n",
    "### <font color=\"blue\">Generate Two Random Bits</font> \n",
    "> Alice uses her one-qubit (a) QPU as a simple Quantum Random Number Generator, generating two secret random bits known only to her. These are **send_val** (value) and **send_had** (hadamard).\n",
    "- Generate two random bits [send_had, send_value] using Qubit A on Alice's Circuit line.\n",
    "- \"send_had\" (=1) determines if an H-Gate gets executed.\n",
    "- \"send_value\" (=1) determines if a NOT-Gate gets executed.\n",
    "\n",
    "<BR>\n",
    "\n",
    "![QuantumSpyHunterCircuit-RBs](img/QuantumSpyHunterCircuit-RBs.png \"\")\n",
    "\n",
    "<BR>\n",
    "\n",
    "### <font color=\"blue\">Prepare Alice's Qubit</font> \n",
    "> Using her two random bits, Alice prepares the “spy hunter” qubit. She sets it to value, and then uses send_had to decide whether to apply a HAD. In effect, she is preparing her qubit randomly in one of the states |0>, |1>, |+>, or |->, and not (yet) telling anyone which of the states it is. If she does decide to apply a HAD, then if Bob wants to extract whether she intended a 0 or 1, he will have to apply the inverse of HAD (another HAD) before performing a READ. \n",
    "- if \"send_value\" = 1, execute NOT-Gate, else nothing\n",
    "- if \"send_had\" = 1, execute H-Gate, else nothing\n",
    "\n",
    "<BR>\n",
    "    \n",
    "![QuantumSpyHunterCircuit-PrepAliceQBs](img/QuantumSpyHunterCircuit-PrepAliceQBs.png \"\")\n",
    "\n",
    "\n",
    "<BR>\n",
    "\n",
    "### <font color=\"blue\">Send the Qubit Qubit</font> \n",
    "> Alice sends her qubit to Bob. For clarity in this example, we are using another qubit **(fiber)** to represent the communication channel. \n",
    "- Alices wire \"a\" Qubit A gets put onto the fiber\n",
    "\n",
    "<BR>\n",
    "    \n",
    "![QuantumSpyHunterCircuit-SendQBs](img/QuantumSpyHunterCircuit-SendQBs.png \"\")\n",
    "\n",
    "\n",
    "<BR>\n",
    "    \n",
    "### <font color=\"blue\">Activate the Spy</font> \n",
    "\n",
    "> Activate the spy to Steal A from Fiber, Replace w/Forgery.\n",
    "\n",
    "> If Alice were transmitting conventional digital data, the spy would simply make a copy of the bit, accomplishing their mission. \n",
    "\n",
    "> With qubits, that’s not possible. Recall that there is no COPY operation, so **<font color=\"red\">the only thing the spy can do is READ the qubit Alice sent, and then try to carefully send one just like it to Bob to avoid detection</font>**. \n",
    "\n",
    "> Remember, however, that reading a qubit irrevocably destroys information, so the spy will only be left with the conventional bit of the readout. \n",
    "\n",
    "> The spy doesn’t know whether or not Alice performed a HAD. As a result, he won’t know whether to apply a second (inverting) HAD before performing his READ. \n",
    "\n",
    "> If he simply performs a READ he won’t know whether he’s receiving a random value from a qubit in superposition or a value actually encoded by Alice. \n",
    "\n",
    "> #### This means that not only will he not be able to reliably extract Alice’s bit, but he also won’t know what the right state is to send on to Bob to avoid detection.\n",
    "\n",
    "- Spy always uses H-Gate\n",
    "- Read stolen data (A) from fiber\n",
    "- Write 0 to fiber to wipe, prep for replacement\n",
    "- If stolen_data =1, execute NOT-Gate (Spy Guess) on FIBER Qubit\n",
    "- If Spy H-Gate on (**which it always is**), execute H-Gate on FIBER Qubit\n",
    "\n",
    "\n",
    "\n",
    "<BR>\n",
    "    \n",
    "![QuantumSpyHunterCircuit-ActivateSpy](img/QuantumSpyHunterCircuit-ActivateSpy.png \"\")\n",
    "\n",
    "\n",
    "<BR>\n",
    "\n",
    "### <font color=\"blue\">Receive the Qubit</font> \n",
    "> The stolen qubit gets pulled off of fiber and put onto Bob's wire (b).\n",
    "- Create a random Qubit using Qubit B, put in \"recv_had\" (on Bob's Wire).\n",
    "- Exhange Fiber Qubit (Forgery of A) with \"recv_had\" Qubit. (on Bob's Wire \"b\")\n",
    "\n",
    "\n",
    "<BR>\n",
    "    \n",
    "![QuantumSpyHunterCircuit-ReveiveQBs](img/QuantumSpyHunterCircuit-ReveiveQBs.png \"\")\n",
    "\n",
    "\n",
    "<BR>\n",
    "\n",
    "### <font color=\"blue\">Decode the Message</font> \n",
    "> Like Alice, Bob randomly generates a recv_had bit, and he uses that to decide whether to apply a HAD before applying a READ to Alice’s qubit, resulting in his value bit. \n",
    "- This means that sometimes Bob will (by chance) correctly decode a binary value from Alice and other times he won’t. \n",
    "- If \"recv_had\" Bit =1, Execute H-Gate\n",
    "\n",
    "<BR>\n",
    "    \n",
    "![QuantumSpyHunterCircuit-Decode](img/QuantumSpyHunterCircuit-Decode.png \"\")\n",
    "\n",
    "\n",
    "<BR>\n",
    "\n",
    "### <font color=\"blue\">Read the Qubit</font> \n",
    "> Bob Reads the message \n",
    "\n",
    "\n",
    "<BR>\n",
    "    \n",
    "![QuantumSpyHunterCircuit-ReadMsg](img/QuantumSpyHunterCircuit-ReadMsg.png \"\")\n",
    "\n",
    "<BR>\n",
    "    \n",
    "### <font color=\"blue\">Catching the Spy</font> \n",
    "> Now that the qubit has been received, Alice and Bob can openly compare the cases in which their choices of applying HADs (or not) correctly matched up. If they randomly happened to agree in both applying (or not applying) a HAD (this will be about half the time), their value bits should match; i.e., Bob will have correctly decoded Alice’s message. \n",
    "- #### If in these correctly decoded messages their values don’t agree, they can conclude that the spy must have READ their message and sent on an incorrect replacement qubit to Bob, messing up his decoding.\n",
    "\n",
    "\n",
    "\n",
    "<BR>\n",
    "\n",
    "![QuantumSpyHunterCircuit-Spy](img/QuantumSpyHunterCircuit-Spy.png \"\")\n",
    "\n",
    "\n",
    "<BR>\n",
    "    \n",
    "\n",
    "- In the above diagram, the \"sent\" information between Alice and Bob both match up, however the \"value\" of the information sent does not match, therefore someone's been listening in.\n",
    "\n",
    "\n",
    "- Notice the Quantum **\"No-Cloning\"** Rule is what secures the communication."
   ]
  },
  {
   "cell_type": "markdown",
   "metadata": {},
   "source": [
    "### <font color=\"blue\">Retrospective</font> \n",
    "\n",
    "0. Perusing only the Quantum Circuit won't provide the entire picture of how the Quantum Program actually works - you must interrogate the code as well.\n",
    "0. Often time \"interrogating the code\" doesn't just mean reading the code - it means executing it segment by segment in the simulator until the point where you gain a strong intuition of what's actually happening.\n",
    "0. Remember each row (line) is a single qubit - left to right is the processing.\n",
    "0. You can't copy a qubit - that's what makes this so powerful against spy's.\n",
    "0. You'll need many tools to gain a full understanding of ANY problem - no one tool will do it alone. "
   ]
  },
  {
   "cell_type": "markdown",
   "metadata": {},
   "source": [
    "## <font color=\"red\">Exercise</font>: Quantum Spy Hunter Program using the <font color=\"blue\">QCEnging</font>."
   ]
  },
  {
   "cell_type": "markdown",
   "metadata": {},
   "source": [
    "### Copy and Paste the Modified code into the QCEngine \n",
    "- Run and rerun the code, notice when you catch a spy\n",
    "- When you do, interrogate the Send Qubit (send_had) and Receive Qubit (recv_had) to see if they match\n",
    "- Interrogate the send_value and recv_val to see why a spy is detected.\n",
    "- Judicious shifting of the window panes is required\n",
    "\n",
    "> **<font color=\"red\">Realize the Quantum Advantage:</font>** - the no-cloning rule inherent in quantum mechanics prevents the spy from copying **ANY** data and *forces a situation where the spy must expose itself to detection*."
   ]
  },
  {
   "cell_type": "raw",
   "metadata": {},
   "source": [
    "// Setup the Quantum SpyHunter Program\n",
    "\n",
    "qc.reset(3);\n",
    "qc.discard();\n",
    "\n",
    "// Create 3 Qubits for [alice, fiber, bob]\n",
    "\n",
    "var a = qint.new(1, 'alice');\n",
    "var fiber = qint.new(1, 'fiber');\n",
    "var b = qint.new(1, 'bob');\n",
    "\n",
    "// Function to create a random number from an arbitrary Qubit\n",
    "\n",
    "function random_bit(q) {\n",
    "    q.write(0);\n",
    "    q.had();\n",
    "    return q.read();\n",
    "}\n",
    "\n",
    "// Generate two random bits [send_had, send_value] using Qubit A.\n",
    "// \"send_had\" determines if an H-Gate gets executed\n",
    "// \"send_value\" determines if a NOT-Gate gets executed\n",
    "\n",
    "qc.label('random bits: Had Val');\n",
    "var send_had = random_bit(a);\n",
    "var send_value = random_bit(a);\n",
    "qc.label('');\n",
    "\n",
    "\n",
    "// Prepare Alice's qubit\n",
    "\n",
    "a.write(0);\n",
    "qc.label('Set SH Msg');\n",
    "qc.nop();\n",
    "if (send_value)\n",
    "    a.not();    // if \"send_value\" = 1, execute NOT-Gate, else nothing\n",
    "qc.nop();\n",
    "qc.label('');\n",
    "qc.nop();\n",
    "qc.label('Apply Had');\n",
    "qc.nop();\n",
    "if (send_had)\n",
    "    a.had();   // if \"send_had\" = 1, execute H-Gate, else nothing\n",
    "qc.nop();\n",
    "qc.label('');\n",
    "\n",
    "qc.nop();\n",
    "\n",
    "// Send the qubit onto the fiber\n",
    "\n",
    "qc.label('Send Qubit');\n",
    "qc.nop();\n",
    "fiber.exchange(a);     // Alices wire \"a\" Qubit A gets put onto the fiber\n",
    "qc.nop();\n",
    "qc.label('');\n",
    "\n",
    "\n",
    "// Activate the spy to Steal A from Fiber, Replace w/Forgery.\n",
    "\n",
    "var spy_is_present = true;       // Toggle spy on/off\n",
    "if (spy_is_present)\n",
    "{\n",
    "    var spy_had = 1;             // Toggle Spy H-Gate on/off\n",
    "    qc.nop();\n",
    "    qc.label('The Spy');\n",
    "    if (spy_had)\n",
    "        fiber.had();             // Spy always uses H-Gate\n",
    "    stolen_data = fiber.read();  // Read stolen data (A) from fiber\n",
    "    fiber.write(0);              // Write 0 to fiber to wipe, prep for replacement\n",
    "    if (stolen_data)\n",
    "        fiber.not();             // If stolen_data =1, execute NOT-Gate (Spy Guess) on FIBER Qubit\n",
    "    if (spy_had)\n",
    "        fiber.had();             // If Spy H-Gate on, execute H-Gate on FIBER Qubit\n",
    "    qc.label('');\n",
    "    qc.nop();\n",
    "}\n",
    "\n",
    "\n",
    "// Receive the qubit!\n",
    "\n",
    "qc.label('Receive Qubit');      \n",
    "var recv_had = random_bit(b);   // Create a random Qubit using Qubit B, put in \"recv_had\" (on Bob's Wire).\n",
    "fiber.exchange(b);              // Exhange Fiber Qubit (Forgery of A) with \"recv_had\" Qubit. (on Bob's Wire \"b\")\n",
    "qc.label('');\n",
    "\n",
    "qc.nop();\n",
    "\n",
    "// Apply Hadamard Gate\n",
    "\n",
    "qc.label('Apply Had');\n",
    "qc.nop();\n",
    "if (recv_had)\n",
    "    b.had();                  // If \"recv_had\" Bit =1, Execute H-Gate\n",
    "qc.nop();\n",
    "qc.label('');\n",
    "\n",
    "qc.nop();\n",
    "\n",
    "// Read Value\n",
    "\n",
    "qc.label('Read SH Msg');\n",
    "qc.nop();\n",
    "recv_val = b.read();\n",
    "qc.nop();\n",
    "qc.label('');\n",
    "\n",
    "qc.nop();\n",
    "\n",
    "// Now Alice emails Bob to tell him her had setting and value.\n",
    "// If the had setting matches and the value does not, there's a spy!\n",
    "// If Send Qubit (send_had) and Receive Qubit (recv_had) match but value does not (send_value != recv_val) - spy detected.\n",
    "\n",
    "if (send_had == recv_had)\n",
    "    if (send_value != recv_val)\n",
    "        qc.print('Caught a spy!\\n');   \n",
    "        \n"
   ]
  },
  {
   "cell_type": "code",
   "execution_count": 4,
   "metadata": {},
   "outputs": [
    {
     "data": {
      "text/html": [
       "\n",
       "        <iframe\n",
       "            width=\"1200\"\n",
       "            height=\"1200\"\n",
       "            src=\"https://oreilly-qc.github.io?p=2-4\"\n",
       "            frameborder=\"0\"\n",
       "            allowfullscreen\n",
       "            \n",
       "        ></iframe>\n",
       "        "
      ],
      "text/plain": [
       "<IPython.lib.display.IFrame at 0x7013178>"
      ]
     },
     "execution_count": 4,
     "metadata": {},
     "output_type": "execute_result"
    }
   ],
   "source": [
    "from IPython.display import IFrame\n",
    "IFrame(src='https://oreilly-qc.github.io?p=2-4', width=1200, height=1200)"
   ]
  },
  {
   "cell_type": "code",
   "execution_count": null,
   "metadata": {},
   "outputs": [],
   "source": []
  },
  {
   "cell_type": "markdown",
   "metadata": {},
   "source": [
    "# <font color=\"red\">Developmental Detour</font>: Grovers <font color=\"blue\">Search Algorithm</font> \n",
    "\n",
    "> **Definition**: Grovers algorithm solves the problem of searching unstructured database efficiently by leveraging the **<font color=\"red\">Amplitude Amplification Technique</font>**.\n",
    "-  The Amplitude Amplification procedure stretches out (amplifies) the amplitude of the marked item, which shrinks the other items' amplitude, so that measuring the final state will return the right item with near-certainty.\n",
    "    \n",
    "    \n",
    "> **Video**: https://www.youtube.com/watch?v=etM9i8D0pjA&list=PLsedzcQz4wyWIypONlxLwsQ2Nv5pGBFnr\n",
    "\n",
    "\n",
    "\n",
    "## What is the use?\n",
    "- #### An example of such a problem is finding a specific card in a shuffled deck of N cards. \n",
    "> Classically this can only be done by searching the deck of cards one by one, in which case you wil need NN steps. Grovers Quantum Algorithm provides a quadratic  speed-up of finding the card in question <font color=\"red\"> &omicron;( &radic; N)</font>, whereas the best classical algorithm requires <font color=\"red\"> &omicron;(N) </font>.\n",
    "\n",
    "- Exhaustively searching through the database represents the **classical approach**, which requires on average $\\frac{N}{2}$ evaluations, which is of the order $\\textit{O}$($N$).  By instead using the Grover Algorithm, we can complete this search (with a high success probability) using only $\\textit{O}$($\\sqrt{N}$) evaluations.\n",
    "\n",
    "![GroversSearch_deck-cards](img/GroversSearch_deck-cards.png \"\")\n",
    "\n",
    "<BR>\n",
    "    \n",
    "    \n",
    "## What about computational speed?    \n",
    "- Algorithms are measured (and categorized) by their ability to execute within time (or space) constraints.    \n",
    "    \n",
    "    \n",
    "![Big_O_Chart](img/Big_O_Chart.png \"\")\n",
    "\n",
    "<BR>\n",
    "    \n",
    "      \n",
    "> ####  <font color=\"blue\">**O(1)**</font> -  algorithm will always execute in the <font color=\"red\">same time </font>** (or space) regardless of the size of the input data set.\n",
    "> #### <font color=\"blue\">**O(N)**</font> - algorithm whose performance will <font color=\"red\">grow linearly </font> and in direct proportion to the size of the input data set. \n",
    "> #### <font color=\"blue\">**O(N2)**</font> - algorithm whose performance is directly proportional to the <font color=\"red\">square of the size of the input </font> data set.\n",
    "> #### <font color=\"blue\">**O(2N)**</font> - algorithm whose <font color=\"red\">growth doubles </font> with each additon to the input data set.\n",
    "> #### <font color=\"blue\">**LOG**</font> - algorithms growth curve <font color=\"red\">peaks at the beginning and slowly flattens</font> out as the size of the data sets increase\n",
    "\n",
    "<BR>\n",
    "\n",
    "### Description: <font color=\"blue\">Unstructured Search</font>\n",
    "\n",
    "![Grover-List_Diagram](img/Grover-List_Diagram.png \"\")\n",
    "\n",
    "- Suppose you are given a **large list** of  **<font color=\"red\">N</font>**  items. Among these items there is **one item** with a unique property that **we wish to locate** - we will call this one the winner  **<font color=\"red\">W</font>**.\n",
    "\n",
    "\n",
    "\n",
    "> To find the marked item using classical computation, one would have to check *on average*  **N/2**  of these boxes, and in the *worst case*, all  **N**  of them. \n",
    "\n",
    "> On a quantum computer, however, we can find the marked item in roughly  <font color=\"red\"> &omicron;( &radic; N)</font> steps with Grover's amplitude amplification technique. \n",
    "\n",
    "> Additionally, the algorithm **<font color=\"blue\">does not use the list's internal structure</font>**, which makes it **generic**; and is why it immediately provides a quadratic quantum speed-up for **many classical problems**.\n",
    "\n",
    "\n"
   ]
  },
  {
   "cell_type": "markdown",
   "metadata": {},
   "source": [
    "### <font color=\"red\">How does this work</font>?\n",
    "- The Amplitudes of interest are increased, while the amplitudes not of concern are shrunken - over an optimal number of iterations a state is reached where where a measurement on the system will find our marked state with a high probability of success.\n",
    "\n",
    "![title](img/Les54_Grover_3.png)\n",
    "\n",
    "<BR>\n",
    "    \n",
    "![title](img/Les54_Grover_4.png)\n",
    "    \n",
    "    "
   ]
  },
  {
   "cell_type": "markdown",
   "metadata": {},
   "source": [
    "##  Grovers Search Algorithm: <font color=\"blue\">Quantum Search over 2 Qubits</font>\n",
    "\n",
    "> *This is an extremely simple (example) case* where the input is only 2 Qubits, there are **<font color=\"red\">four possible answers</font>**. \n",
    "- A *conventional computer* **may need to test up to <font color=\"red\">three </font>** of those possible values.  \n",
    "- A *quantum computer* can find the answer using a **single invocation** of the **<font color=\"red\">oracle</font>** function.\n",
    "\n",
    "\n",
    "![Grover-List_Diagram-2_qubits](img/Grover-List_Diagram-2_qubits.png \"Grover-List_Diagram-2_qubits\")\n",
    "> - **The Oracle FN = 2 (Binary: 1 0)**\n",
    "\n",
    "### <font color=\"red\">Illustrative Example</font>: <font color=\"blue\">\"An Interactive Introduction To Quantum Computing\"</font>\n",
    "\n",
    "<BR>\n",
    "\n",
    "\n",
    "#### <font color=\"blue\">\"Quantum Search over 2 Qubits\"</font> : <font color=\"red\">Problem Setup</font>\n",
    "- The Oracle FN = 2 (Binary: 1 0)\n",
    "<BR>\n",
    "    \n",
    "![Grover-2_bit_setup](img/Grover-2_bit_setup.png \"Grover-2_bit_setup\")\n",
    "\n",
    "    \n",
    "    \n",
    "#### <font color=\"blue\">\"Quantum Search over 2 Qubits\"</font> : <font color=\"red\">Problem Solution</font> - detected in ONE attempt.\n",
    "<BR>\n",
    "    \n",
    "![Grover-2_bit_solution](img/Grover-2_bit_solution1.png \"Grover-2_bit_solution\")\n",
    "    \n"
   ]
  },
  {
   "cell_type": "markdown",
   "metadata": {},
   "source": [
    "## <font color=\"red\">Exercise</font>: Grovers Quantum Search over 2 Qubits using the <font color=\"blue\">Quantum Computing Playground</font>.\n",
    "\n",
    "> In the blog <font color=\"blue\">\"An Interactive Introduction To Quantum Computing\"</font>, scroll to the heading **<font color=\"blue\">Quantum Search over 2 Qubits</font>**.\n",
    "- Read the body of the paragraph for context\n",
    "- Run the example by clicking each botton in order (left to right) starting with the **f_oracle** button.\n",
    "- Note the **four** possible solutions of the two Qubits (Binary: 00, 01, 10, and 11) [Digital: 0,1,2,3]\n",
    "- Observe how the circle plots behave, pay particular attention to the **phases** as they change to gain intuition."
   ]
  },
  {
   "cell_type": "code",
   "execution_count": 21,
   "metadata": {},
   "outputs": [
    {
     "data": {
      "text/html": [
       "\n",
       "        <iframe\n",
       "            width=\"900\"\n",
       "            height=\"600\"\n",
       "            src=\"https://davidbkemp.github.io/QuantumComputingArticle/part2.html\"\n",
       "            frameborder=\"0\"\n",
       "            allowfullscreen\n",
       "            \n",
       "        ></iframe>\n",
       "        "
      ],
      "text/plain": [
       "<IPython.lib.display.IFrame at 0x37916d30>"
      ]
     },
     "execution_count": 21,
     "metadata": {},
     "output_type": "execute_result"
    }
   ],
   "source": [
    "from IPython.display import IFrame\n",
    "IFrame(src='https://davidbkemp.github.io/QuantumComputingArticle/part2.html', width=900, height=600)"
   ]
  },
  {
   "cell_type": "code",
   "execution_count": null,
   "metadata": {},
   "outputs": [],
   "source": []
  },
  {
   "cell_type": "markdown",
   "metadata": {},
   "source": [
    "## <font color=\"red\">Exercise</font>: Grovers Quantum Search over 2 Qubits using the <font color=\"blue\">QCEngine</font>.\n",
    "\n",
    "<BR>\n",
    "    \n",
    "![Grover-Circuit-2-Qubits](img/Grover-Circuit-2-Qubits.png \"Grover-Circuit-2-Qubits\")\n",
    "\n",
    "\n",
    "\n",
    "> The circuit above is the QCEngine adaptation of <font color=\"red\">same two-qubit circuit used in the previous section</font> - the behavior of the circle plots are identical (*except that the phases point up as a default, and the above point to the right*).\n",
    "\n",
    "- **Cut-N-Paste** the custom code into the QCEngine and observe the behavior of the circle plots, notice how they behave identically to those of the <font color=\"blue\">Quantum Computing Playground</font> version.\n",
    "\n"
   ]
  },
  {
   "cell_type": "raw",
   "metadata": {},
   "source": [
    "qc.reset(2);         // allocate qubits\n",
    "\n",
    "var a = qint.new(1, 'a')\n",
    "var b = qint.new(1, 'b')\n",
    "qc.write(0);         // write the value zero\n",
    "\n",
    "// Colorize Phase Shifts \n",
    "qc_options.color_by_phase=true\n",
    "\n",
    "\n",
    "// Set up Superposition\n",
    "//\n",
    "qc.label('Superposition');\n",
    "qc.nop();\n",
    "qc.had();\n",
    "qc.nop();\n",
    "qc.label();\n",
    "\n",
    "qc.nop();\n",
    "\n",
    "// Set up Oracle\n",
    "//\n",
    "qc.label('Oracle');\n",
    "qc.nop();\n",
    "b.phase(180, 0x1);       // Z-TgB (1)\n",
    "qc.phase(180, b|1, b);   // Z-TgB (1), Ctrl (0)\n",
    "qc.nop();\n",
    "qc.label();\n",
    "\n",
    "qc.nop();\n",
    "\n",
    "// Set up Hadamard (Tg Qb-1)\n",
    "//\n",
    "qc.label('H Tg Qb-1');\n",
    "qc.nop();\n",
    "b.had(1);                 // \n",
    "qc.nop();\n",
    "qc.label();\n",
    "\n",
    "qc.nop();\n",
    "\n",
    "// Set up Hadamard (Tg Qb-0)\n",
    "//\n",
    "qc.label('H Tg Qb-0');\n",
    "qc.nop();\n",
    "a.had(1);                 // \n",
    "qc.nop();\n",
    "qc.label();\n",
    "\n",
    "qc.nop();\n",
    "\n",
    "// Set up Phase Flip\n",
    "//\n",
    "qc.label('Phase Flip');\n",
    "qc.nop();\n",
    "a.not(1);                 // X_not Tbg (0)\n",
    "a.phase(180, 0x1);        // Z-TgB (0)\n",
    "qc.phase(180, b|1, b);    // Z-TgB (1), Ctrl (0)\n",
    "qc.nop();\n",
    "qc.label();\n",
    "\n",
    "qc.nop();\n",
    "\n",
    "// Set up Hadamard (Tg Qb-1)\n",
    "//\n",
    "qc.label('H Tg Qb-1');\n",
    "qc.nop();\n",
    "b.had(1);                 // \n",
    "qc.nop();\n",
    "qc.label();\n",
    "\n",
    "qc.nop();\n",
    "\n",
    "\n",
    "// Set up Hadamard (Tg Qb-0)\n",
    "//\n",
    "qc.label('H Tg Qb-0');\n",
    "qc.nop();\n",
    "a.had(1);                 // \n",
    "qc.nop();\n",
    "qc.label();\n",
    "\n",
    "\n"
   ]
  },
  {
   "cell_type": "code",
   "execution_count": 6,
   "metadata": {},
   "outputs": [
    {
     "data": {
      "text/html": [
       "\n",
       "        <iframe\n",
       "            width=\"900\"\n",
       "            height=\"600\"\n",
       "            src=\"https://oreilly-qc.github.io?p=2-1\"\n",
       "            frameborder=\"0\"\n",
       "            allowfullscreen\n",
       "            \n",
       "        ></iframe>\n",
       "        "
      ],
      "text/plain": [
       "<IPython.lib.display.IFrame at 0x7013ec8>"
      ]
     },
     "execution_count": 6,
     "metadata": {},
     "output_type": "execute_result"
    }
   ],
   "source": [
    "# QUIRK (Quantum Curcuit Simulator) \n",
    "from IPython.display import IFrame\n",
    "IFrame(src='https://oreilly-qc.github.io?p=2-1', width=900, height=600)"
   ]
  },
  {
   "cell_type": "code",
   "execution_count": null,
   "metadata": {},
   "outputs": [],
   "source": []
  },
  {
   "cell_type": "markdown",
   "metadata": {},
   "source": [
    "## <font color=\"red\">Exercise</font>: Grovers Quantum Search over 2 Qubits using <font color=\"blue\">Qiskit</font>.\n",
    "- Use Qiskit to explore Grovers Quantum Search over 2 Qubits - this is exactly like the above example, just a different demonstration vehicle.\n",
    "- Uncomment the relavant **Oracle** functions of (**00, 01, 10, 11**) and observe how Qiskit implements the circuit to gain intuition."
   ]
  },
  {
   "cell_type": "markdown",
   "metadata": {},
   "source": [
    "## Setup\n",
    "- Prepare the Experiment"
   ]
  },
  {
   "cell_type": "code",
   "execution_count": 2,
   "metadata": {},
   "outputs": [
    {
     "data": {
      "text/plain": [
       "<qiskit.circuit.instructionset.InstructionSet at 0x27ed0cc8>"
      ]
     },
     "execution_count": 2,
     "metadata": {},
     "output_type": "execute_result"
    }
   ],
   "source": [
    "#initialization\n",
    "import matplotlib.pyplot as plt\n",
    "%matplotlib inline\n",
    "%config InlineBackend.figure_format = 'svg' # Makes the images look nice\n",
    "import numpy as np\n",
    "\n",
    "# importing Qiskit\n",
    "from qiskit import IBMQ, BasicAer, Aer\n",
    "from qiskit.providers.ibmq import least_busy\n",
    "from qiskit import QuantumCircuit, ClassicalRegister, QuantumRegister, execute\n",
    "\n",
    "# import basic plot tools\n",
    "from qiskit.visualization import plot_histogram\n",
    "\n",
    "# Helper Funtion for Normalizing State Vectors\n",
    "#\n",
    "def normalize_state_Vector(state_vector):\n",
    "    for result in state_vector:\n",
    "        print(\"Normalized Result: \" , round( np.abs(result)**2, 1) )\n",
    "        \n",
    "        \n",
    "# Helper Funtion for print Polar Phase(s)\n",
    "#      \n",
    "def plot_polar(state_vector):\n",
    "    pi_radians = 180;\n",
    "    for x in state_vector:\n",
    "        plt.polar([0,cmath.phase(x)],[0,abs(x)],marker='o')\n",
    "        print(\"The original complex number Re{%d}, Im{%d}, and Length : %f\" % (x.real, x.imag, abs(x)))\n",
    "        print(\"Phase: \",cmath.phase(x))\n",
    "        if cmath.phase(x) != 0:\n",
    "            print(\"Angle: \", pi_radians/(np.pi/cmath.phase(x)))\n",
    "            \n",
    "            \n",
    "# We start by preparing a quantum circuit for two qubits and a classical register with two bits.\n",
    "qr = QuantumRegister(2)\n",
    "cr = ClassicalRegister(2)\n",
    "groverCircuit = QuantumCircuit(qr,cr)\n",
    "\n",
    "\n",
    "# Initialize the state state |s⟩ :\n",
    "groverCircuit.h(qr)\n"
   ]
  },
  {
   "cell_type": "markdown",
   "metadata": {},
   "source": [
    "## Create the Oracles \n",
    "- Only one per run (Uncomment appropriate section to use)"
   ]
  },
  {
   "cell_type": "markdown",
   "metadata": {},
   "source": [
    "### Oracle: |w⟩ = | 00 >"
   ]
  },
  {
   "cell_type": "markdown",
   "metadata": {},
   "source": [
    "![Grover-Qiskit-Oracle-00](img/Grover-Qiskit-Oracle-00.png \"Grover-Qiskit-Oracle-00\")"
   ]
  },
  {
   "cell_type": "code",
   "execution_count": 3,
   "metadata": {},
   "outputs": [
    {
     "data": {
      "image/svg+xml": "<?xml version=\"1.0\" encoding=\"utf-8\" standalone=\"no\"?>\n<!DOCTYPE svg PUBLIC \"-//W3C//DTD SVG 1.1//EN\"\n  \"http://www.w3.org/Graphics/SVG/1.1/DTD/svg11.dtd\">\n<svg xmlns:xlink=\"http://www.w3.org/1999/xlink\" width=\"271.275641pt\" height=\"168.933398pt\" viewBox=\"0 0 271.275641 168.933398\" xmlns=\"http://www.w3.org/2000/svg\" version=\"1.1\">\n <metadata>\n  <rdf:RDF xmlns:dc=\"http://purl.org/dc/elements/1.1/\" xmlns:cc=\"http://creativecommons.org/ns#\" xmlns:rdf=\"http://www.w3.org/1999/02/22-rdf-syntax-ns#\">\n   <cc:Work>\n    <dc:type rdf:resource=\"http://purl.org/dc/dcmitype/StillImage\"/>\n    <dc:date>2022-01-26T14:29:55.454789</dc:date>\n    <dc:format>image/svg+xml</dc:format>\n    <dc:creator>\n     <cc:Agent>\n      <dc:title>Matplotlib v3.5.1, https://matplotlib.org/</dc:title>\n     </cc:Agent>\n    </dc:creator>\n   </cc:Work>\n  </rdf:RDF>\n </metadata>\n <defs>\n  <style type=\"text/css\">*{stroke-linejoin: round; stroke-linecap: butt}</style>\n </defs>\n <g id=\"figure_1\">\n  <g id=\"patch_1\">\n   <path d=\"M 0 168.933398 \nL 271.275641 168.933398 \nL 271.275641 0 \nL 0 0 \nz\n\" style=\"fill: #ffffff\"/>\n  </g>\n  <g id=\"axes_1\">\n   <g id=\"line2d_1\">\n    <path d=\"M 73.181443 43.5608 \nL 259.530541 43.5608 \n\" clip-path=\"url(#p50715678cb)\" style=\"fill: none; stroke: #000000; stroke-width: 2; stroke-linecap: square\"/>\n   </g>\n   <g id=\"line2d_2\">\n    <path d=\"M 73.181443 89.011799 \nL 259.530541 89.011799 \n\" clip-path=\"url(#p50715678cb)\" style=\"fill: none; stroke: #000000; stroke-width: 2; stroke-linecap: square\"/>\n   </g>\n   <g id=\"line2d_3\">\n    <path d=\"M 73.181443 132.985641 \nL 259.530541 132.985641 \n\" clip-path=\"url(#p50715678cb)\" style=\"fill: none; stroke: #778899; stroke-width: 2; stroke-linecap: square\"/>\n   </g>\n   <g id=\"line2d_4\">\n    <path d=\"M 73.181443 135.939956 \nL 259.530541 135.939956 \n\" clip-path=\"url(#p50715678cb)\" style=\"fill: none; stroke: #778899; stroke-width: 2; stroke-linecap: square\"/>\n   </g>\n   <g id=\"line2d_5\">\n    <path d=\"M 82.271643 139.007898 \nL 86.816743 129.917698 \n\" clip-path=\"url(#p50715678cb)\" style=\"fill: none; stroke: #778899; stroke-width: 1.5; stroke-linecap: square\"/>\n   </g>\n   <g id=\"line2d_6\">\n    <path d=\"M 188.626982 89.011799 \nL 188.626982 43.5608 \n\" clip-path=\"url(#p50715678cb)\" style=\"fill: none; stroke: #6fa4ff; stroke-width: 2; stroke-linecap: square\"/>\n   </g>\n   <g id=\"line2d_7\">\n    <path d=\"M 188.626982 89.011799 \nL 188.626982 43.5608 \n\" clip-path=\"url(#p50715678cb)\" style=\"fill: none; stroke: #6fa4ff; stroke-width: 2; stroke-linecap: square\"/>\n   </g>\n   <g id=\"patch_2\">\n    <path d=\"M 82.953408 58.332374 \nL 112.496558 58.332374 \nL 112.496558 28.789225 \nL 82.953408 28.789225 \nz\n\" clip-path=\"url(#p50715678cb)\" style=\"fill: #6fa4ff; stroke: #6fa4ff; stroke-width: 1.5; stroke-linejoin: miter\"/>\n   </g>\n   <g id=\"patch_3\">\n    <path d=\"M 82.953408 103.783374 \nL 112.496558 103.783374 \nL 112.496558 74.240224 \nL 82.953408 74.240224 \nz\n\" clip-path=\"url(#p50715678cb)\" style=\"fill: #6fa4ff; stroke: #6fa4ff; stroke-width: 1.5; stroke-linejoin: miter\"/>\n   </g>\n   <g id=\"patch_4\">\n    <path d=\"M 128.404407 58.332374 \nL 157.947557 58.332374 \nL 157.947557 28.789225 \nL 128.404407 28.789225 \nz\n\" clip-path=\"url(#p50715678cb)\" style=\"fill: #05bab6; stroke: #05bab6; stroke-width: 1.5; stroke-linejoin: miter\"/>\n   </g>\n   <g id=\"patch_5\">\n    <path d=\"M 128.404407 103.783374 \nL 157.947557 103.783374 \nL 157.947557 74.240224 \nL 128.404407 74.240224 \nz\n\" clip-path=\"url(#p50715678cb)\" style=\"fill: #05bab6; stroke: #05bab6; stroke-width: 1.5; stroke-linejoin: miter\"/>\n   </g>\n   <g id=\"patch_6\">\n    <path d=\"M 188.626982 47.992272 \nC 189.802222 47.992272 190.929485 47.525344 191.760506 46.694324 \nC 192.591526 45.863303 193.058454 44.73604 193.058454 43.5608 \nC 193.058454 42.385559 192.591526 41.258296 191.760506 40.427275 \nC 190.929485 39.596255 189.802222 39.129327 188.626982 39.129327 \nC 187.451741 39.129327 186.324478 39.596255 185.493457 40.427275 \nC 184.662437 41.258296 184.195509 42.385559 184.195509 43.5608 \nC 184.195509 44.73604 184.662437 45.863303 185.493457 46.694324 \nC 186.324478 47.525344 187.451741 47.992272 188.626982 47.992272 \nz\n\" clip-path=\"url(#p50715678cb)\" style=\"fill: #6fa4ff; stroke: #6fa4ff; stroke-width: 1.5; stroke-linejoin: miter\"/>\n   </g>\n   <g id=\"patch_7\">\n    <path d=\"M 188.626982 93.443271 \nC 189.802222 93.443271 190.929485 92.976343 191.760506 92.145323 \nC 192.591526 91.314303 193.058454 90.187039 193.058454 89.011799 \nC 193.058454 87.836559 192.591526 86.709295 191.760506 85.878275 \nC 190.929485 85.047254 189.802222 84.580326 188.626982 84.580326 \nC 187.451741 84.580326 186.324478 85.047254 185.493457 85.878275 \nC 184.662437 86.709295 184.195509 87.836559 184.195509 89.011799 \nC 184.195509 90.187039 184.662437 91.314303 185.493457 92.145323 \nC 186.324478 92.976343 187.451741 93.443271 188.626982 93.443271 \nz\n\" clip-path=\"url(#p50715678cb)\" style=\"fill: #6fa4ff; stroke: #6fa4ff; stroke-width: 1.5; stroke-linejoin: miter\"/>\n   </g>\n   <g id=\"patch_8\">\n    <path d=\"M 219.306406 58.332374 \nL 248.849556 58.332374 \nL 248.849556 28.789225 \nL 219.306406 28.789225 \nz\n\" clip-path=\"url(#p50715678cb)\" style=\"fill: #05bab6; stroke: #05bab6; stroke-width: 1.5; stroke-linejoin: miter\"/>\n   </g>\n   <g id=\"patch_9\">\n    <path d=\"M 219.306406 103.783374 \nL 248.849556 103.783374 \nL 248.849556 74.240224 \nL 219.306406 74.240224 \nz\n\" clip-path=\"url(#p50715678cb)\" style=\"fill: #05bab6; stroke: #05bab6; stroke-width: 1.5; stroke-linejoin: miter\"/>\n   </g>\n   <g id=\"text_1\">\n    <g clip-path=\"url(#p50715678cb)\">\n     <!-- ${q0}_{0}$ -->\n     <g transform=\"translate(35.491243 48.011776)scale(0.1625 -0.1625)\">\n      <defs>\n       <path id=\"DejaVuSans-Oblique-71\" d=\"M 2669 525 \nQ 2438 222 2123 65 \nQ 1809 -91 1428 -91 \nQ 897 -91 595 267 \nQ 294 625 294 1253 \nQ 294 1759 480 2231 \nQ 666 2703 1013 3078 \nQ 1238 3322 1530 3453 \nQ 1822 3584 2144 3584 \nQ 2531 3584 2781 3431 \nQ 3031 3278 3144 2969 \nL 3244 3494 \nL 3822 3494 \nL 2888 -1319 \nL 2309 -1319 \nL 2669 525 \nz\nM 891 1338 \nQ 891 875 1084 633 \nQ 1278 391 1644 391 \nQ 2188 391 2572 911 \nQ 2956 1431 2956 2175 \nQ 2956 2625 2757 2864 \nQ 2559 3103 2188 3103 \nQ 1916 3103 1684 2976 \nQ 1453 2850 1281 2606 \nQ 1100 2350 995 2006 \nQ 891 1663 891 1338 \nz\n\" transform=\"scale(0.015625)\"/>\n       <path id=\"DejaVuSans-30\" d=\"M 2034 4250 \nQ 1547 4250 1301 3770 \nQ 1056 3291 1056 2328 \nQ 1056 1369 1301 889 \nQ 1547 409 2034 409 \nQ 2525 409 2770 889 \nQ 3016 1369 3016 2328 \nQ 3016 3291 2770 3770 \nQ 2525 4250 2034 4250 \nz\nM 2034 4750 \nQ 2819 4750 3233 4129 \nQ 3647 3509 3647 2328 \nQ 3647 1150 3233 529 \nQ 2819 -91 2034 -91 \nQ 1250 -91 836 529 \nQ 422 1150 422 2328 \nQ 422 3509 836 4129 \nQ 1250 4750 2034 4750 \nz\n\" transform=\"scale(0.015625)\"/>\n      </defs>\n      <use xlink:href=\"#DejaVuSans-Oblique-71\" transform=\"translate(0 0.78125)\"/>\n      <use xlink:href=\"#DejaVuSans-30\" transform=\"translate(63.476562 0.78125)\"/>\n      <use xlink:href=\"#DejaVuSans-30\" transform=\"translate(128.056641 -15.625)scale(0.7)\"/>\n     </g>\n    </g>\n   </g>\n   <g id=\"text_2\">\n    <g clip-path=\"url(#p50715678cb)\">\n     <!-- ${q0}_{1}$ -->\n     <g transform=\"translate(35.491243 93.462775)scale(0.1625 -0.1625)\">\n      <defs>\n       <path id=\"DejaVuSans-31\" d=\"M 794 531 \nL 1825 531 \nL 1825 4091 \nL 703 3866 \nL 703 4441 \nL 1819 4666 \nL 2450 4666 \nL 2450 531 \nL 3481 531 \nL 3481 0 \nL 794 0 \nL 794 531 \nz\n\" transform=\"scale(0.015625)\"/>\n      </defs>\n      <use xlink:href=\"#DejaVuSans-Oblique-71\" transform=\"translate(0 0.78125)\"/>\n      <use xlink:href=\"#DejaVuSans-30\" transform=\"translate(63.476562 0.78125)\"/>\n      <use xlink:href=\"#DejaVuSans-31\" transform=\"translate(128.056641 -15.625)scale(0.7)\"/>\n     </g>\n    </g>\n   </g>\n   <g id=\"text_3\">\n    <g clip-path=\"url(#p50715678cb)\">\n     <!-- 2 -->\n     <g transform=\"translate(77.726543 127.754823)scale(0.104 -0.104)\">\n      <defs>\n       <path id=\"DejaVuSans-32\" d=\"M 1228 531 \nL 3431 531 \nL 3431 0 \nL 469 0 \nL 469 531 \nQ 828 903 1448 1529 \nQ 2069 2156 2228 2338 \nQ 2531 2678 2651 2914 \nQ 2772 3150 2772 3378 \nQ 2772 3750 2511 3984 \nQ 2250 4219 1831 4219 \nQ 1534 4219 1204 4116 \nQ 875 4013 500 3803 \nL 500 4441 \nQ 881 4594 1212 4672 \nQ 1544 4750 1819 4750 \nQ 2544 4750 2975 4387 \nQ 3406 4025 3406 3419 \nQ 3406 3131 3298 2873 \nQ 3191 2616 2906 2266 \nQ 2828 2175 2409 1742 \nQ 1991 1309 1228 531 \nz\n\" transform=\"scale(0.015625)\"/>\n      </defs>\n      <use xlink:href=\"#DejaVuSans-32\"/>\n     </g>\n    </g>\n   </g>\n   <g id=\"text_4\">\n    <g clip-path=\"url(#p50715678cb)\">\n     <!-- c0 -->\n     <g transform=\"translate(44.81722 138.946783)scale(0.1625 -0.1625)\">\n      <defs>\n       <path id=\"DejaVuSans-63\" d=\"M 3122 3366 \nL 3122 2828 \nQ 2878 2963 2633 3030 \nQ 2388 3097 2138 3097 \nQ 1578 3097 1268 2742 \nQ 959 2388 959 1747 \nQ 959 1106 1268 751 \nQ 1578 397 2138 397 \nQ 2388 397 2633 464 \nQ 2878 531 3122 666 \nL 3122 134 \nQ 2881 22 2623 -34 \nQ 2366 -91 2075 -91 \nQ 1284 -91 818 406 \nQ 353 903 353 1747 \nQ 353 2603 823 3093 \nQ 1294 3584 2113 3584 \nQ 2378 3584 2631 3529 \nQ 2884 3475 3122 3366 \nz\n\" transform=\"scale(0.015625)\"/>\n      </defs>\n      <use xlink:href=\"#DejaVuSans-63\"/>\n      <use xlink:href=\"#DejaVuSans-30\" x=\"54.980469\"/>\n     </g>\n    </g>\n   </g>\n   <g id=\"text_5\">\n    <g clip-path=\"url(#p50715678cb)\">\n     <!-- H -->\n     <g transform=\"translate(92.83678 47.147987)scale(0.13 -0.13)\">\n      <defs>\n       <path id=\"DejaVuSans-48\" d=\"M 628 4666 \nL 1259 4666 \nL 1259 2753 \nL 3553 2753 \nL 3553 4666 \nL 4184 4666 \nL 4184 0 \nL 3553 0 \nL 3553 2222 \nL 1259 2222 \nL 1259 0 \nL 628 0 \nL 628 4666 \nz\n\" transform=\"scale(0.015625)\"/>\n      </defs>\n      <use xlink:href=\"#DejaVuSans-48\"/>\n     </g>\n    </g>\n   </g>\n   <g id=\"text_6\">\n    <g clip-path=\"url(#p50715678cb)\">\n     <!-- H -->\n     <g transform=\"translate(92.83678 92.598986)scale(0.13 -0.13)\">\n      <use xlink:href=\"#DejaVuSans-48\"/>\n     </g>\n    </g>\n   </g>\n   <g id=\"text_7\">\n    <g clip-path=\"url(#p50715678cb)\">\n     <!-- X -->\n     <g transform=\"translate(138.723482 47.147987)scale(0.13 -0.13)\">\n      <defs>\n       <path id=\"DejaVuSans-58\" d=\"M 403 4666 \nL 1081 4666 \nL 2241 2931 \nL 3406 4666 \nL 4084 4666 \nL 2584 2425 \nL 4184 0 \nL 3506 0 \nL 2194 1984 \nL 872 0 \nL 191 0 \nL 1856 2491 \nL 403 4666 \nz\n\" transform=\"scale(0.015625)\"/>\n      </defs>\n      <use xlink:href=\"#DejaVuSans-58\"/>\n     </g>\n    </g>\n   </g>\n   <g id=\"text_8\">\n    <g clip-path=\"url(#p50715678cb)\">\n     <!-- X -->\n     <g transform=\"translate(138.723482 92.598986)scale(0.13 -0.13)\">\n      <use xlink:href=\"#DejaVuSans-58\"/>\n     </g>\n    </g>\n   </g>\n   <g id=\"text_9\">\n    <g clip-path=\"url(#p50715678cb)\">\n     <!-- X -->\n     <g transform=\"translate(229.625481 47.147987)scale(0.13 -0.13)\">\n      <use xlink:href=\"#DejaVuSans-58\"/>\n     </g>\n    </g>\n   </g>\n   <g id=\"text_10\">\n    <g clip-path=\"url(#p50715678cb)\">\n     <!-- X -->\n     <g transform=\"translate(229.625481 92.598986)scale(0.13 -0.13)\">\n      <use xlink:href=\"#DejaVuSans-58\"/>\n     </g>\n    </g>\n   </g>\n  </g>\n </g>\n <defs>\n  <clipPath id=\"p50715678cb\">\n   <rect x=\"7.2\" y=\"7.2\" width=\"256.875641\" height=\"154.533398\"/>\n  </clipPath>\n </defs>\n</svg>\n",
      "text/plain": [
       "<Figure size 340.233x204.68 with 1 Axes>"
      ]
     },
     "execution_count": 3,
     "metadata": {},
     "output_type": "execute_result"
    }
   ],
   "source": [
    "#\n",
    "# Apply the Oracle for |w⟩=|00⟩ : (Uncomment the below)\n",
    "#\n",
    "groverCircuit.x(qr)\n",
    "groverCircuit.cz(qr[0],qr[1])\n",
    "groverCircuit.x(qr)\n",
    "\n",
    "# Debug:\n",
    "groverCircuit.draw(output=\"mpl\")"
   ]
  },
  {
   "cell_type": "markdown",
   "metadata": {},
   "source": [
    "### Oracle: |w⟩ = | 01 >"
   ]
  },
  {
   "cell_type": "markdown",
   "metadata": {},
   "source": [
    "![Grover-Qiskit-Oracle-01](img/Grover-Qiskit-Oracle-01.png \"Grover-Qiskit-Oracle-01\")"
   ]
  },
  {
   "cell_type": "code",
   "execution_count": 4,
   "metadata": {},
   "outputs": [
    {
     "data": {
      "image/svg+xml": "<?xml version=\"1.0\" encoding=\"utf-8\" standalone=\"no\"?>\n<!DOCTYPE svg PUBLIC \"-//W3C//DTD SVG 1.1//EN\"\n  \"http://www.w3.org/Graphics/SVG/1.1/DTD/svg11.dtd\">\n<svg xmlns:xlink=\"http://www.w3.org/1999/xlink\" width=\"407.628639pt\" height=\"168.933398pt\" viewBox=\"0 0 407.628639 168.933398\" xmlns=\"http://www.w3.org/2000/svg\" version=\"1.1\">\n <metadata>\n  <rdf:RDF xmlns:dc=\"http://purl.org/dc/elements/1.1/\" xmlns:cc=\"http://creativecommons.org/ns#\" xmlns:rdf=\"http://www.w3.org/1999/02/22-rdf-syntax-ns#\">\n   <cc:Work>\n    <dc:type rdf:resource=\"http://purl.org/dc/dcmitype/StillImage\"/>\n    <dc:date>2022-01-26T14:31:47.447171</dc:date>\n    <dc:format>image/svg+xml</dc:format>\n    <dc:creator>\n     <cc:Agent>\n      <dc:title>Matplotlib v3.5.1, https://matplotlib.org/</dc:title>\n     </cc:Agent>\n    </dc:creator>\n   </cc:Work>\n  </rdf:RDF>\n </metadata>\n <defs>\n  <style type=\"text/css\">*{stroke-linejoin: round; stroke-linecap: butt}</style>\n </defs>\n <g id=\"figure_1\">\n  <g id=\"patch_1\">\n   <path d=\"M 0 168.933398 \nL 407.628639 168.933398 \nL 407.628639 0 \nL 0 0 \nz\n\" style=\"fill: #ffffff\"/>\n  </g>\n  <g id=\"axes_1\">\n   <g id=\"line2d_1\">\n    <path d=\"M 73.181443 43.5608 \nL 395.883539 43.5608 \n\" clip-path=\"url(#p8b7a3e13f3)\" style=\"fill: none; stroke: #000000; stroke-width: 2; stroke-linecap: square\"/>\n   </g>\n   <g id=\"line2d_2\">\n    <path d=\"M 73.181443 89.011799 \nL 395.883539 89.011799 \n\" clip-path=\"url(#p8b7a3e13f3)\" style=\"fill: none; stroke: #000000; stroke-width: 2; stroke-linecap: square\"/>\n   </g>\n   <g id=\"line2d_3\">\n    <path d=\"M 73.181443 132.985641 \nL 395.883539 132.985641 \n\" clip-path=\"url(#p8b7a3e13f3)\" style=\"fill: none; stroke: #778899; stroke-width: 2; stroke-linecap: square\"/>\n   </g>\n   <g id=\"line2d_4\">\n    <path d=\"M 73.181443 135.939956 \nL 395.883539 135.939956 \n\" clip-path=\"url(#p8b7a3e13f3)\" style=\"fill: none; stroke: #778899; stroke-width: 2; stroke-linecap: square\"/>\n   </g>\n   <g id=\"line2d_5\">\n    <path d=\"M 82.271643 139.007898 \nL 86.816743 129.917698 \n\" clip-path=\"url(#p8b7a3e13f3)\" style=\"fill: none; stroke: #778899; stroke-width: 1.5; stroke-linecap: square\"/>\n   </g>\n   <g id=\"line2d_6\">\n    <path d=\"M 188.626982 89.011799 \nL 188.626982 43.5608 \n\" clip-path=\"url(#p8b7a3e13f3)\" style=\"fill: none; stroke: #6fa4ff; stroke-width: 2; stroke-linecap: square\"/>\n   </g>\n   <g id=\"line2d_7\">\n    <path d=\"M 324.97998 89.011799 \nL 324.97998 43.5608 \n\" clip-path=\"url(#p8b7a3e13f3)\" style=\"fill: none; stroke: #6fa4ff; stroke-width: 2; stroke-linecap: square\"/>\n   </g>\n   <g id=\"line2d_8\">\n    <path d=\"M 188.626982 89.011799 \nL 188.626982 43.5608 \n\" clip-path=\"url(#p8b7a3e13f3)\" style=\"fill: none; stroke: #6fa4ff; stroke-width: 2; stroke-linecap: square\"/>\n   </g>\n   <g id=\"line2d_9\">\n    <path d=\"M 324.97998 89.011799 \nL 324.97998 43.5608 \n\" clip-path=\"url(#p8b7a3e13f3)\" style=\"fill: none; stroke: #6fa4ff; stroke-width: 2; stroke-linecap: square\"/>\n   </g>\n   <g id=\"patch_2\">\n    <path d=\"M 82.953408 58.332374 \nL 112.496558 58.332374 \nL 112.496558 28.789225 \nL 82.953408 28.789225 \nz\n\" clip-path=\"url(#p8b7a3e13f3)\" style=\"fill: #6fa4ff; stroke: #6fa4ff; stroke-width: 1.5; stroke-linejoin: miter\"/>\n   </g>\n   <g id=\"patch_3\">\n    <path d=\"M 82.953408 103.783374 \nL 112.496558 103.783374 \nL 112.496558 74.240224 \nL 82.953408 74.240224 \nz\n\" clip-path=\"url(#p8b7a3e13f3)\" style=\"fill: #6fa4ff; stroke: #6fa4ff; stroke-width: 1.5; stroke-linejoin: miter\"/>\n   </g>\n   <g id=\"patch_4\">\n    <path d=\"M 128.404407 58.332374 \nL 157.947557 58.332374 \nL 157.947557 28.789225 \nL 128.404407 28.789225 \nz\n\" clip-path=\"url(#p8b7a3e13f3)\" style=\"fill: #05bab6; stroke: #05bab6; stroke-width: 1.5; stroke-linejoin: miter\"/>\n   </g>\n   <g id=\"patch_5\">\n    <path d=\"M 128.404407 103.783374 \nL 157.947557 103.783374 \nL 157.947557 74.240224 \nL 128.404407 74.240224 \nz\n\" clip-path=\"url(#p8b7a3e13f3)\" style=\"fill: #05bab6; stroke: #05bab6; stroke-width: 1.5; stroke-linejoin: miter\"/>\n   </g>\n   <g id=\"patch_6\">\n    <path d=\"M 188.626982 47.992272 \nC 189.802222 47.992272 190.929485 47.525344 191.760506 46.694324 \nC 192.591526 45.863303 193.058454 44.73604 193.058454 43.5608 \nC 193.058454 42.385559 192.591526 41.258296 191.760506 40.427275 \nC 190.929485 39.596255 189.802222 39.129327 188.626982 39.129327 \nC 187.451741 39.129327 186.324478 39.596255 185.493457 40.427275 \nC 184.662437 41.258296 184.195509 42.385559 184.195509 43.5608 \nC 184.195509 44.73604 184.662437 45.863303 185.493457 46.694324 \nC 186.324478 47.525344 187.451741 47.992272 188.626982 47.992272 \nz\n\" clip-path=\"url(#p8b7a3e13f3)\" style=\"fill: #6fa4ff; stroke: #6fa4ff; stroke-width: 1.5; stroke-linejoin: miter\"/>\n   </g>\n   <g id=\"patch_7\">\n    <path d=\"M 188.626982 93.443271 \nC 189.802222 93.443271 190.929485 92.976343 191.760506 92.145323 \nC 192.591526 91.314303 193.058454 90.187039 193.058454 89.011799 \nC 193.058454 87.836559 192.591526 86.709295 191.760506 85.878275 \nC 190.929485 85.047254 189.802222 84.580326 188.626982 84.580326 \nC 187.451741 84.580326 186.324478 85.047254 185.493457 85.878275 \nC 184.662437 86.709295 184.195509 87.836559 184.195509 89.011799 \nC 184.195509 90.187039 184.662437 91.314303 185.493457 92.145323 \nC 186.324478 92.976343 187.451741 93.443271 188.626982 93.443271 \nz\n\" clip-path=\"url(#p8b7a3e13f3)\" style=\"fill: #6fa4ff; stroke: #6fa4ff; stroke-width: 1.5; stroke-linejoin: miter\"/>\n   </g>\n   <g id=\"patch_8\">\n    <path d=\"M 219.306406 58.332374 \nL 248.849556 58.332374 \nL 248.849556 28.789225 \nL 219.306406 28.789225 \nz\n\" clip-path=\"url(#p8b7a3e13f3)\" style=\"fill: #05bab6; stroke: #05bab6; stroke-width: 1.5; stroke-linejoin: miter\"/>\n   </g>\n   <g id=\"patch_9\">\n    <path d=\"M 219.306406 103.783374 \nL 248.849556 103.783374 \nL 248.849556 74.240224 \nL 219.306406 74.240224 \nz\n\" clip-path=\"url(#p8b7a3e13f3)\" style=\"fill: #05bab6; stroke: #05bab6; stroke-width: 1.5; stroke-linejoin: miter\"/>\n   </g>\n   <g id=\"patch_10\">\n    <path d=\"M 264.757406 103.783374 \nL 294.300555 103.783374 \nL 294.300555 74.240224 \nL 264.757406 74.240224 \nz\n\" clip-path=\"url(#p8b7a3e13f3)\" style=\"fill: #05bab6; stroke: #05bab6; stroke-width: 1.5; stroke-linejoin: miter\"/>\n   </g>\n   <g id=\"patch_11\">\n    <path d=\"M 324.97998 47.992272 \nC 326.15522 47.992272 327.282484 47.525344 328.113504 46.694324 \nC 328.944524 45.863303 329.411452 44.73604 329.411452 43.5608 \nC 329.411452 42.385559 328.944524 41.258296 328.113504 40.427275 \nC 327.282484 39.596255 326.15522 39.129327 324.97998 39.129327 \nC 323.80474 39.129327 322.677476 39.596255 321.846456 40.427275 \nC 321.015435 41.258296 320.548507 42.385559 320.548507 43.5608 \nC 320.548507 44.73604 321.015435 45.863303 321.846456 46.694324 \nC 322.677476 47.525344 323.80474 47.992272 324.97998 47.992272 \nz\n\" clip-path=\"url(#p8b7a3e13f3)\" style=\"fill: #6fa4ff; stroke: #6fa4ff; stroke-width: 1.5; stroke-linejoin: miter\"/>\n   </g>\n   <g id=\"patch_12\">\n    <path d=\"M 324.97998 93.443271 \nC 326.15522 93.443271 327.282484 92.976343 328.113504 92.145323 \nC 328.944524 91.314303 329.411452 90.187039 329.411452 89.011799 \nC 329.411452 87.836559 328.944524 86.709295 328.113504 85.878275 \nC 327.282484 85.047254 326.15522 84.580326 324.97998 84.580326 \nC 323.80474 84.580326 322.677476 85.047254 321.846456 85.878275 \nC 321.015435 86.709295 320.548507 87.836559 320.548507 89.011799 \nC 320.548507 90.187039 321.015435 91.314303 321.846456 92.145323 \nC 322.677476 92.976343 323.80474 93.443271 324.97998 93.443271 \nz\n\" clip-path=\"url(#p8b7a3e13f3)\" style=\"fill: #6fa4ff; stroke: #6fa4ff; stroke-width: 1.5; stroke-linejoin: miter\"/>\n   </g>\n   <g id=\"patch_13\">\n    <path d=\"M 355.659404 103.783374 \nL 385.202554 103.783374 \nL 385.202554 74.240224 \nL 355.659404 74.240224 \nz\n\" clip-path=\"url(#p8b7a3e13f3)\" style=\"fill: #05bab6; stroke: #05bab6; stroke-width: 1.5; stroke-linejoin: miter\"/>\n   </g>\n   <g id=\"text_1\">\n    <g clip-path=\"url(#p8b7a3e13f3)\">\n     <!-- ${q0}_{0}$ -->\n     <g transform=\"translate(35.491243 48.011776)scale(0.1625 -0.1625)\">\n      <defs>\n       <path id=\"DejaVuSans-Oblique-71\" d=\"M 2669 525 \nQ 2438 222 2123 65 \nQ 1809 -91 1428 -91 \nQ 897 -91 595 267 \nQ 294 625 294 1253 \nQ 294 1759 480 2231 \nQ 666 2703 1013 3078 \nQ 1238 3322 1530 3453 \nQ 1822 3584 2144 3584 \nQ 2531 3584 2781 3431 \nQ 3031 3278 3144 2969 \nL 3244 3494 \nL 3822 3494 \nL 2888 -1319 \nL 2309 -1319 \nL 2669 525 \nz\nM 891 1338 \nQ 891 875 1084 633 \nQ 1278 391 1644 391 \nQ 2188 391 2572 911 \nQ 2956 1431 2956 2175 \nQ 2956 2625 2757 2864 \nQ 2559 3103 2188 3103 \nQ 1916 3103 1684 2976 \nQ 1453 2850 1281 2606 \nQ 1100 2350 995 2006 \nQ 891 1663 891 1338 \nz\n\" transform=\"scale(0.015625)\"/>\n       <path id=\"DejaVuSans-30\" d=\"M 2034 4250 \nQ 1547 4250 1301 3770 \nQ 1056 3291 1056 2328 \nQ 1056 1369 1301 889 \nQ 1547 409 2034 409 \nQ 2525 409 2770 889 \nQ 3016 1369 3016 2328 \nQ 3016 3291 2770 3770 \nQ 2525 4250 2034 4250 \nz\nM 2034 4750 \nQ 2819 4750 3233 4129 \nQ 3647 3509 3647 2328 \nQ 3647 1150 3233 529 \nQ 2819 -91 2034 -91 \nQ 1250 -91 836 529 \nQ 422 1150 422 2328 \nQ 422 3509 836 4129 \nQ 1250 4750 2034 4750 \nz\n\" transform=\"scale(0.015625)\"/>\n      </defs>\n      <use xlink:href=\"#DejaVuSans-Oblique-71\" transform=\"translate(0 0.78125)\"/>\n      <use xlink:href=\"#DejaVuSans-30\" transform=\"translate(63.476562 0.78125)\"/>\n      <use xlink:href=\"#DejaVuSans-30\" transform=\"translate(128.056641 -15.625)scale(0.7)\"/>\n     </g>\n    </g>\n   </g>\n   <g id=\"text_2\">\n    <g clip-path=\"url(#p8b7a3e13f3)\">\n     <!-- ${q0}_{1}$ -->\n     <g transform=\"translate(35.491243 93.462775)scale(0.1625 -0.1625)\">\n      <defs>\n       <path id=\"DejaVuSans-31\" d=\"M 794 531 \nL 1825 531 \nL 1825 4091 \nL 703 3866 \nL 703 4441 \nL 1819 4666 \nL 2450 4666 \nL 2450 531 \nL 3481 531 \nL 3481 0 \nL 794 0 \nL 794 531 \nz\n\" transform=\"scale(0.015625)\"/>\n      </defs>\n      <use xlink:href=\"#DejaVuSans-Oblique-71\" transform=\"translate(0 0.78125)\"/>\n      <use xlink:href=\"#DejaVuSans-30\" transform=\"translate(63.476562 0.78125)\"/>\n      <use xlink:href=\"#DejaVuSans-31\" transform=\"translate(128.056641 -15.625)scale(0.7)\"/>\n     </g>\n    </g>\n   </g>\n   <g id=\"text_3\">\n    <g clip-path=\"url(#p8b7a3e13f3)\">\n     <!-- 2 -->\n     <g transform=\"translate(77.726543 127.754823)scale(0.104 -0.104)\">\n      <defs>\n       <path id=\"DejaVuSans-32\" d=\"M 1228 531 \nL 3431 531 \nL 3431 0 \nL 469 0 \nL 469 531 \nQ 828 903 1448 1529 \nQ 2069 2156 2228 2338 \nQ 2531 2678 2651 2914 \nQ 2772 3150 2772 3378 \nQ 2772 3750 2511 3984 \nQ 2250 4219 1831 4219 \nQ 1534 4219 1204 4116 \nQ 875 4013 500 3803 \nL 500 4441 \nQ 881 4594 1212 4672 \nQ 1544 4750 1819 4750 \nQ 2544 4750 2975 4387 \nQ 3406 4025 3406 3419 \nQ 3406 3131 3298 2873 \nQ 3191 2616 2906 2266 \nQ 2828 2175 2409 1742 \nQ 1991 1309 1228 531 \nz\n\" transform=\"scale(0.015625)\"/>\n      </defs>\n      <use xlink:href=\"#DejaVuSans-32\"/>\n     </g>\n    </g>\n   </g>\n   <g id=\"text_4\">\n    <g clip-path=\"url(#p8b7a3e13f3)\">\n     <!-- c0 -->\n     <g transform=\"translate(44.81722 138.946783)scale(0.1625 -0.1625)\">\n      <defs>\n       <path id=\"DejaVuSans-63\" d=\"M 3122 3366 \nL 3122 2828 \nQ 2878 2963 2633 3030 \nQ 2388 3097 2138 3097 \nQ 1578 3097 1268 2742 \nQ 959 2388 959 1747 \nQ 959 1106 1268 751 \nQ 1578 397 2138 397 \nQ 2388 397 2633 464 \nQ 2878 531 3122 666 \nL 3122 134 \nQ 2881 22 2623 -34 \nQ 2366 -91 2075 -91 \nQ 1284 -91 818 406 \nQ 353 903 353 1747 \nQ 353 2603 823 3093 \nQ 1294 3584 2113 3584 \nQ 2378 3584 2631 3529 \nQ 2884 3475 3122 3366 \nz\n\" transform=\"scale(0.015625)\"/>\n      </defs>\n      <use xlink:href=\"#DejaVuSans-63\"/>\n      <use xlink:href=\"#DejaVuSans-30\" x=\"54.980469\"/>\n     </g>\n    </g>\n   </g>\n   <g id=\"text_5\">\n    <g clip-path=\"url(#p8b7a3e13f3)\">\n     <!-- H -->\n     <g transform=\"translate(92.83678 47.147987)scale(0.13 -0.13)\">\n      <defs>\n       <path id=\"DejaVuSans-48\" d=\"M 628 4666 \nL 1259 4666 \nL 1259 2753 \nL 3553 2753 \nL 3553 4666 \nL 4184 4666 \nL 4184 0 \nL 3553 0 \nL 3553 2222 \nL 1259 2222 \nL 1259 0 \nL 628 0 \nL 628 4666 \nz\n\" transform=\"scale(0.015625)\"/>\n      </defs>\n      <use xlink:href=\"#DejaVuSans-48\"/>\n     </g>\n    </g>\n   </g>\n   <g id=\"text_6\">\n    <g clip-path=\"url(#p8b7a3e13f3)\">\n     <!-- H -->\n     <g transform=\"translate(92.83678 92.598986)scale(0.13 -0.13)\">\n      <use xlink:href=\"#DejaVuSans-48\"/>\n     </g>\n    </g>\n   </g>\n   <g id=\"text_7\">\n    <g clip-path=\"url(#p8b7a3e13f3)\">\n     <!-- X -->\n     <g transform=\"translate(138.723482 47.147987)scale(0.13 -0.13)\">\n      <defs>\n       <path id=\"DejaVuSans-58\" d=\"M 403 4666 \nL 1081 4666 \nL 2241 2931 \nL 3406 4666 \nL 4084 4666 \nL 2584 2425 \nL 4184 0 \nL 3506 0 \nL 2194 1984 \nL 872 0 \nL 191 0 \nL 1856 2491 \nL 403 4666 \nz\n\" transform=\"scale(0.015625)\"/>\n      </defs>\n      <use xlink:href=\"#DejaVuSans-58\"/>\n     </g>\n    </g>\n   </g>\n   <g id=\"text_8\">\n    <g clip-path=\"url(#p8b7a3e13f3)\">\n     <!-- X -->\n     <g transform=\"translate(138.723482 92.598986)scale(0.13 -0.13)\">\n      <use xlink:href=\"#DejaVuSans-58\"/>\n     </g>\n    </g>\n   </g>\n   <g id=\"text_9\">\n    <g clip-path=\"url(#p8b7a3e13f3)\">\n     <!-- X -->\n     <g transform=\"translate(229.625481 47.147987)scale(0.13 -0.13)\">\n      <use xlink:href=\"#DejaVuSans-58\"/>\n     </g>\n    </g>\n   </g>\n   <g id=\"text_10\">\n    <g clip-path=\"url(#p8b7a3e13f3)\">\n     <!-- X -->\n     <g transform=\"translate(229.625481 92.598986)scale(0.13 -0.13)\">\n      <use xlink:href=\"#DejaVuSans-58\"/>\n     </g>\n    </g>\n   </g>\n   <g id=\"text_11\">\n    <g clip-path=\"url(#p8b7a3e13f3)\">\n     <!-- X -->\n     <g transform=\"translate(275.07648 92.598986)scale(0.13 -0.13)\">\n      <use xlink:href=\"#DejaVuSans-58\"/>\n     </g>\n    </g>\n   </g>\n   <g id=\"text_12\">\n    <g clip-path=\"url(#p8b7a3e13f3)\">\n     <!-- X -->\n     <g transform=\"translate(365.978479 92.598986)scale(0.13 -0.13)\">\n      <use xlink:href=\"#DejaVuSans-58\"/>\n     </g>\n    </g>\n   </g>\n  </g>\n </g>\n <defs>\n  <clipPath id=\"p8b7a3e13f3\">\n   <rect x=\"7.2\" y=\"7.2\" width=\"393.228639\" height=\"154.533398\"/>\n  </clipPath>\n </defs>\n</svg>\n",
      "text/plain": [
       "<Figure size 520.833x204.68 with 1 Axes>"
      ]
     },
     "execution_count": 4,
     "metadata": {},
     "output_type": "execute_result"
    }
   ],
   "source": [
    "#\n",
    "# Apply the Oracle for |w⟩=|01⟩ : (Uncomment the below)\n",
    "#\n",
    "groverCircuit.x(qr[1])\n",
    "groverCircuit.cz(qr[0],qr[1])\n",
    "groverCircuit.x(qr[1])\n",
    "\n",
    "# Debug:\n",
    "groverCircuit.draw(output=\"mpl\")"
   ]
  },
  {
   "cell_type": "markdown",
   "metadata": {},
   "source": [
    "### Oracle: |w⟩ = | 10 >"
   ]
  },
  {
   "cell_type": "markdown",
   "metadata": {},
   "source": [
    "![Grover-Qiskit-Oracle-10](img/Grover-Qiskit-Oracle-10.png \"Grover-Qiskit-Oracle-10\")"
   ]
  },
  {
   "cell_type": "code",
   "execution_count": 7,
   "metadata": {},
   "outputs": [
    {
     "data": {
      "image/svg+xml": "<?xml version=\"1.0\" encoding=\"utf-8\" standalone=\"no\"?>\n<!DOCTYPE svg PUBLIC \"-//W3C//DTD SVG 1.1//EN\"\n  \"http://www.w3.org/Graphics/SVG/1.1/DTD/svg11.dtd\">\n<svg xmlns:xlink=\"http://www.w3.org/1999/xlink\" width=\"680.334635pt\" height=\"168.933398pt\" viewBox=\"0 0 680.334635 168.933398\" xmlns=\"http://www.w3.org/2000/svg\" version=\"1.1\">\n <metadata>\n  <rdf:RDF xmlns:dc=\"http://purl.org/dc/elements/1.1/\" xmlns:cc=\"http://creativecommons.org/ns#\" xmlns:rdf=\"http://www.w3.org/1999/02/22-rdf-syntax-ns#\">\n   <cc:Work>\n    <dc:type rdf:resource=\"http://purl.org/dc/dcmitype/StillImage\"/>\n    <dc:date>2022-01-26T14:36:56.197278</dc:date>\n    <dc:format>image/svg+xml</dc:format>\n    <dc:creator>\n     <cc:Agent>\n      <dc:title>Matplotlib v3.5.1, https://matplotlib.org/</dc:title>\n     </cc:Agent>\n    </dc:creator>\n   </cc:Work>\n  </rdf:RDF>\n </metadata>\n <defs>\n  <style type=\"text/css\">*{stroke-linejoin: round; stroke-linecap: butt}</style>\n </defs>\n <g id=\"figure_1\">\n  <g id=\"patch_1\">\n   <path d=\"M 0 168.933398 \nL 680.334635 168.933398 \nL 680.334635 0 \nL 0 0 \nz\n\" style=\"fill: #ffffff\"/>\n  </g>\n  <g id=\"axes_1\">\n   <g id=\"line2d_1\">\n    <path d=\"M 73.181443 43.5608 \nL 668.589535 43.5608 \n\" clip-path=\"url(#p0df6ebd107)\" style=\"fill: none; stroke: #000000; stroke-width: 2; stroke-linecap: square\"/>\n   </g>\n   <g id=\"line2d_2\">\n    <path d=\"M 73.181443 89.011799 \nL 668.589535 89.011799 \n\" clip-path=\"url(#p0df6ebd107)\" style=\"fill: none; stroke: #000000; stroke-width: 2; stroke-linecap: square\"/>\n   </g>\n   <g id=\"line2d_3\">\n    <path d=\"M 73.181443 132.985641 \nL 668.589535 132.985641 \n\" clip-path=\"url(#p0df6ebd107)\" style=\"fill: none; stroke: #778899; stroke-width: 2; stroke-linecap: square\"/>\n   </g>\n   <g id=\"line2d_4\">\n    <path d=\"M 73.181443 135.939956 \nL 668.589535 135.939956 \n\" clip-path=\"url(#p0df6ebd107)\" style=\"fill: none; stroke: #778899; stroke-width: 2; stroke-linecap: square\"/>\n   </g>\n   <g id=\"line2d_5\">\n    <path d=\"M 82.271643 139.007898 \nL 86.816743 129.917698 \n\" clip-path=\"url(#p0df6ebd107)\" style=\"fill: none; stroke: #778899; stroke-width: 1.5; stroke-linecap: square\"/>\n   </g>\n   <g id=\"line2d_6\">\n    <path d=\"M 188.626982 89.011799 \nL 188.626982 43.5608 \n\" clip-path=\"url(#p0df6ebd107)\" style=\"fill: none; stroke: #6fa4ff; stroke-width: 2; stroke-linecap: square\"/>\n   </g>\n   <g id=\"line2d_7\">\n    <path d=\"M 324.97998 89.011799 \nL 324.97998 43.5608 \n\" clip-path=\"url(#p0df6ebd107)\" style=\"fill: none; stroke: #6fa4ff; stroke-width: 2; stroke-linecap: square\"/>\n   </g>\n   <g id=\"line2d_8\">\n    <path d=\"M 415.881979 89.011799 \nL 415.881979 43.5608 \n\" clip-path=\"url(#p0df6ebd107)\" style=\"fill: none; stroke: #6fa4ff; stroke-width: 2; stroke-linecap: square\"/>\n   </g>\n   <g id=\"line2d_9\">\n    <path d=\"M 506.783977 89.011799 \nL 506.783977 43.5608 \n\" clip-path=\"url(#p0df6ebd107)\" style=\"fill: none; stroke: #6fa4ff; stroke-width: 2; stroke-linecap: square\"/>\n   </g>\n   <g id=\"line2d_10\">\n    <path d=\"M 597.685976 89.011799 \nL 597.685976 43.5608 \n\" clip-path=\"url(#p0df6ebd107)\" style=\"fill: none; stroke: #6fa4ff; stroke-width: 2; stroke-linecap: square\"/>\n   </g>\n   <g id=\"line2d_11\">\n    <path d=\"M 188.626982 89.011799 \nL 188.626982 43.5608 \n\" clip-path=\"url(#p0df6ebd107)\" style=\"fill: none; stroke: #6fa4ff; stroke-width: 2; stroke-linecap: square\"/>\n   </g>\n   <g id=\"line2d_12\">\n    <path d=\"M 324.97998 89.011799 \nL 324.97998 43.5608 \n\" clip-path=\"url(#p0df6ebd107)\" style=\"fill: none; stroke: #6fa4ff; stroke-width: 2; stroke-linecap: square\"/>\n   </g>\n   <g id=\"line2d_13\">\n    <path d=\"M 415.881979 89.011799 \nL 415.881979 43.5608 \n\" clip-path=\"url(#p0df6ebd107)\" style=\"fill: none; stroke: #6fa4ff; stroke-width: 2; stroke-linecap: square\"/>\n   </g>\n   <g id=\"line2d_14\">\n    <path d=\"M 506.783977 89.011799 \nL 506.783977 43.5608 \n\" clip-path=\"url(#p0df6ebd107)\" style=\"fill: none; stroke: #6fa4ff; stroke-width: 2; stroke-linecap: square\"/>\n   </g>\n   <g id=\"line2d_15\">\n    <path d=\"M 597.685976 89.011799 \nL 597.685976 43.5608 \n\" clip-path=\"url(#p0df6ebd107)\" style=\"fill: none; stroke: #6fa4ff; stroke-width: 2; stroke-linecap: square\"/>\n   </g>\n   <g id=\"patch_2\">\n    <path d=\"M 82.953408 58.332374 \nL 112.496558 58.332374 \nL 112.496558 28.789225 \nL 82.953408 28.789225 \nz\n\" clip-path=\"url(#p0df6ebd107)\" style=\"fill: #6fa4ff; stroke: #6fa4ff; stroke-width: 1.5; stroke-linejoin: miter\"/>\n   </g>\n   <g id=\"patch_3\">\n    <path d=\"M 82.953408 103.783374 \nL 112.496558 103.783374 \nL 112.496558 74.240224 \nL 82.953408 74.240224 \nz\n\" clip-path=\"url(#p0df6ebd107)\" style=\"fill: #6fa4ff; stroke: #6fa4ff; stroke-width: 1.5; stroke-linejoin: miter\"/>\n   </g>\n   <g id=\"patch_4\">\n    <path d=\"M 128.404407 58.332374 \nL 157.947557 58.332374 \nL 157.947557 28.789225 \nL 128.404407 28.789225 \nz\n\" clip-path=\"url(#p0df6ebd107)\" style=\"fill: #05bab6; stroke: #05bab6; stroke-width: 1.5; stroke-linejoin: miter\"/>\n   </g>\n   <g id=\"patch_5\">\n    <path d=\"M 128.404407 103.783374 \nL 157.947557 103.783374 \nL 157.947557 74.240224 \nL 128.404407 74.240224 \nz\n\" clip-path=\"url(#p0df6ebd107)\" style=\"fill: #05bab6; stroke: #05bab6; stroke-width: 1.5; stroke-linejoin: miter\"/>\n   </g>\n   <g id=\"patch_6\">\n    <path d=\"M 188.626982 47.992272 \nC 189.802222 47.992272 190.929485 47.525344 191.760506 46.694324 \nC 192.591526 45.863303 193.058454 44.73604 193.058454 43.5608 \nC 193.058454 42.385559 192.591526 41.258296 191.760506 40.427275 \nC 190.929485 39.596255 189.802222 39.129327 188.626982 39.129327 \nC 187.451741 39.129327 186.324478 39.596255 185.493457 40.427275 \nC 184.662437 41.258296 184.195509 42.385559 184.195509 43.5608 \nC 184.195509 44.73604 184.662437 45.863303 185.493457 46.694324 \nC 186.324478 47.525344 187.451741 47.992272 188.626982 47.992272 \nz\n\" clip-path=\"url(#p0df6ebd107)\" style=\"fill: #6fa4ff; stroke: #6fa4ff; stroke-width: 1.5; stroke-linejoin: miter\"/>\n   </g>\n   <g id=\"patch_7\">\n    <path d=\"M 188.626982 93.443271 \nC 189.802222 93.443271 190.929485 92.976343 191.760506 92.145323 \nC 192.591526 91.314303 193.058454 90.187039 193.058454 89.011799 \nC 193.058454 87.836559 192.591526 86.709295 191.760506 85.878275 \nC 190.929485 85.047254 189.802222 84.580326 188.626982 84.580326 \nC 187.451741 84.580326 186.324478 85.047254 185.493457 85.878275 \nC 184.662437 86.709295 184.195509 87.836559 184.195509 89.011799 \nC 184.195509 90.187039 184.662437 91.314303 185.493457 92.145323 \nC 186.324478 92.976343 187.451741 93.443271 188.626982 93.443271 \nz\n\" clip-path=\"url(#p0df6ebd107)\" style=\"fill: #6fa4ff; stroke: #6fa4ff; stroke-width: 1.5; stroke-linejoin: miter\"/>\n   </g>\n   <g id=\"patch_8\">\n    <path d=\"M 219.306406 58.332374 \nL 248.849556 58.332374 \nL 248.849556 28.789225 \nL 219.306406 28.789225 \nz\n\" clip-path=\"url(#p0df6ebd107)\" style=\"fill: #05bab6; stroke: #05bab6; stroke-width: 1.5; stroke-linejoin: miter\"/>\n   </g>\n   <g id=\"patch_9\">\n    <path d=\"M 219.306406 103.783374 \nL 248.849556 103.783374 \nL 248.849556 74.240224 \nL 219.306406 74.240224 \nz\n\" clip-path=\"url(#p0df6ebd107)\" style=\"fill: #05bab6; stroke: #05bab6; stroke-width: 1.5; stroke-linejoin: miter\"/>\n   </g>\n   <g id=\"patch_10\">\n    <path d=\"M 264.757406 103.783374 \nL 294.300555 103.783374 \nL 294.300555 74.240224 \nL 264.757406 74.240224 \nz\n\" clip-path=\"url(#p0df6ebd107)\" style=\"fill: #05bab6; stroke: #05bab6; stroke-width: 1.5; stroke-linejoin: miter\"/>\n   </g>\n   <g id=\"patch_11\">\n    <path d=\"M 324.97998 47.992272 \nC 326.15522 47.992272 327.282484 47.525344 328.113504 46.694324 \nC 328.944524 45.863303 329.411452 44.73604 329.411452 43.5608 \nC 329.411452 42.385559 328.944524 41.258296 328.113504 40.427275 \nC 327.282484 39.596255 326.15522 39.129327 324.97998 39.129327 \nC 323.80474 39.129327 322.677476 39.596255 321.846456 40.427275 \nC 321.015435 41.258296 320.548507 42.385559 320.548507 43.5608 \nC 320.548507 44.73604 321.015435 45.863303 321.846456 46.694324 \nC 322.677476 47.525344 323.80474 47.992272 324.97998 47.992272 \nz\n\" clip-path=\"url(#p0df6ebd107)\" style=\"fill: #6fa4ff; stroke: #6fa4ff; stroke-width: 1.5; stroke-linejoin: miter\"/>\n   </g>\n   <g id=\"patch_12\">\n    <path d=\"M 324.97998 93.443271 \nC 326.15522 93.443271 327.282484 92.976343 328.113504 92.145323 \nC 328.944524 91.314303 329.411452 90.187039 329.411452 89.011799 \nC 329.411452 87.836559 328.944524 86.709295 328.113504 85.878275 \nC 327.282484 85.047254 326.15522 84.580326 324.97998 84.580326 \nC 323.80474 84.580326 322.677476 85.047254 321.846456 85.878275 \nC 321.015435 86.709295 320.548507 87.836559 320.548507 89.011799 \nC 320.548507 90.187039 321.015435 91.314303 321.846456 92.145323 \nC 322.677476 92.976343 323.80474 93.443271 324.97998 93.443271 \nz\n\" clip-path=\"url(#p0df6ebd107)\" style=\"fill: #6fa4ff; stroke: #6fa4ff; stroke-width: 1.5; stroke-linejoin: miter\"/>\n   </g>\n   <g id=\"patch_13\">\n    <path d=\"M 355.659404 103.783374 \nL 385.202554 103.783374 \nL 385.202554 74.240224 \nL 355.659404 74.240224 \nz\n\" clip-path=\"url(#p0df6ebd107)\" style=\"fill: #05bab6; stroke: #05bab6; stroke-width: 1.5; stroke-linejoin: miter\"/>\n   </g>\n   <g id=\"patch_14\">\n    <path d=\"M 355.659404 58.332374 \nL 385.202554 58.332374 \nL 385.202554 28.789225 \nL 355.659404 28.789225 \nz\n\" clip-path=\"url(#p0df6ebd107)\" style=\"fill: #05bab6; stroke: #05bab6; stroke-width: 1.5; stroke-linejoin: miter\"/>\n   </g>\n   <g id=\"patch_15\">\n    <path d=\"M 415.881979 47.992272 \nC 417.057219 47.992272 418.184482 47.525344 419.015503 46.694324 \nC 419.846523 45.863303 420.313451 44.73604 420.313451 43.5608 \nC 420.313451 42.385559 419.846523 41.258296 419.015503 40.427275 \nC 418.184482 39.596255 417.057219 39.129327 415.881979 39.129327 \nC 414.706738 39.129327 413.579475 39.596255 412.748454 40.427275 \nC 411.917434 41.258296 411.450506 42.385559 411.450506 43.5608 \nC 411.450506 44.73604 411.917434 45.863303 412.748454 46.694324 \nC 413.579475 47.525344 414.706738 47.992272 415.881979 47.992272 \nz\n\" clip-path=\"url(#p0df6ebd107)\" style=\"fill: #6fa4ff; stroke: #6fa4ff; stroke-width: 1.5; stroke-linejoin: miter\"/>\n   </g>\n   <g id=\"patch_16\">\n    <path d=\"M 415.881979 93.443271 \nC 417.057219 93.443271 418.184482 92.976343 419.015503 92.145323 \nC 419.846523 91.314303 420.313451 90.187039 420.313451 89.011799 \nC 420.313451 87.836559 419.846523 86.709295 419.015503 85.878275 \nC 418.184482 85.047254 417.057219 84.580326 415.881979 84.580326 \nC 414.706738 84.580326 413.579475 85.047254 412.748454 85.878275 \nC 411.917434 86.709295 411.450506 87.836559 411.450506 89.011799 \nC 411.450506 90.187039 411.917434 91.314303 412.748454 92.145323 \nC 413.579475 92.976343 414.706738 93.443271 415.881979 93.443271 \nz\n\" clip-path=\"url(#p0df6ebd107)\" style=\"fill: #6fa4ff; stroke: #6fa4ff; stroke-width: 1.5; stroke-linejoin: miter\"/>\n   </g>\n   <g id=\"patch_17\">\n    <path d=\"M 446.561403 58.332374 \nL 476.104553 58.332374 \nL 476.104553 28.789225 \nL 446.561403 28.789225 \nz\n\" clip-path=\"url(#p0df6ebd107)\" style=\"fill: #05bab6; stroke: #05bab6; stroke-width: 1.5; stroke-linejoin: miter\"/>\n   </g>\n   <g id=\"patch_18\">\n    <path d=\"M 506.783977 47.992272 \nC 507.959218 47.992272 509.086481 47.525344 509.917502 46.694324 \nC 510.748522 45.863303 511.21545 44.73604 511.21545 43.5608 \nC 511.21545 42.385559 510.748522 41.258296 509.917502 40.427275 \nC 509.086481 39.596255 507.959218 39.129327 506.783977 39.129327 \nC 505.608737 39.129327 504.481473 39.596255 503.650453 40.427275 \nC 502.819433 41.258296 502.352505 42.385559 502.352505 43.5608 \nC 502.352505 44.73604 502.819433 45.863303 503.650453 46.694324 \nC 504.481473 47.525344 505.608737 47.992272 506.783977 47.992272 \nz\n\" clip-path=\"url(#p0df6ebd107)\" style=\"fill: #6fa4ff; stroke: #6fa4ff; stroke-width: 1.5; stroke-linejoin: miter\"/>\n   </g>\n   <g id=\"patch_19\">\n    <path d=\"M 506.783977 93.443271 \nC 507.959218 93.443271 509.086481 92.976343 509.917502 92.145323 \nC 510.748522 91.314303 511.21545 90.187039 511.21545 89.011799 \nC 511.21545 87.836559 510.748522 86.709295 509.917502 85.878275 \nC 509.086481 85.047254 507.959218 84.580326 506.783977 84.580326 \nC 505.608737 84.580326 504.481473 85.047254 503.650453 85.878275 \nC 502.819433 86.709295 502.352505 87.836559 502.352505 89.011799 \nC 502.352505 90.187039 502.819433 91.314303 503.650453 92.145323 \nC 504.481473 92.976343 505.608737 93.443271 506.783977 93.443271 \nz\n\" clip-path=\"url(#p0df6ebd107)\" style=\"fill: #6fa4ff; stroke: #6fa4ff; stroke-width: 1.5; stroke-linejoin: miter\"/>\n   </g>\n   <g id=\"patch_20\">\n    <path d=\"M 537.463402 58.332374 \nL 567.006552 58.332374 \nL 567.006552 28.789225 \nL 537.463402 28.789225 \nz\n\" clip-path=\"url(#p0df6ebd107)\" style=\"fill: #05bab6; stroke: #05bab6; stroke-width: 1.5; stroke-linejoin: miter\"/>\n   </g>\n   <g id=\"patch_21\">\n    <path d=\"M 597.685976 47.992272 \nC 598.861216 47.992272 599.98848 47.525344 600.8195 46.694324 \nC 601.650521 45.863303 602.117449 44.73604 602.117449 43.5608 \nC 602.117449 42.385559 601.650521 41.258296 600.8195 40.427275 \nC 599.98848 39.596255 598.861216 39.129327 597.685976 39.129327 \nC 596.510736 39.129327 595.383472 39.596255 594.552452 40.427275 \nC 593.721432 41.258296 593.254504 42.385559 593.254504 43.5608 \nC 593.254504 44.73604 593.721432 45.863303 594.552452 46.694324 \nC 595.383472 47.525344 596.510736 47.992272 597.685976 47.992272 \nz\n\" clip-path=\"url(#p0df6ebd107)\" style=\"fill: #6fa4ff; stroke: #6fa4ff; stroke-width: 1.5; stroke-linejoin: miter\"/>\n   </g>\n   <g id=\"patch_22\">\n    <path d=\"M 597.685976 93.443271 \nC 598.861216 93.443271 599.98848 92.976343 600.8195 92.145323 \nC 601.650521 91.314303 602.117449 90.187039 602.117449 89.011799 \nC 602.117449 87.836559 601.650521 86.709295 600.8195 85.878275 \nC 599.98848 85.047254 598.861216 84.580326 597.685976 84.580326 \nC 596.510736 84.580326 595.383472 85.047254 594.552452 85.878275 \nC 593.721432 86.709295 593.254504 87.836559 593.254504 89.011799 \nC 593.254504 90.187039 593.721432 91.314303 594.552452 92.145323 \nC 595.383472 92.976343 596.510736 93.443271 597.685976 93.443271 \nz\n\" clip-path=\"url(#p0df6ebd107)\" style=\"fill: #6fa4ff; stroke: #6fa4ff; stroke-width: 1.5; stroke-linejoin: miter\"/>\n   </g>\n   <g id=\"patch_23\">\n    <path d=\"M 628.365401 58.332374 \nL 657.90855 58.332374 \nL 657.90855 28.789225 \nL 628.365401 28.789225 \nz\n\" clip-path=\"url(#p0df6ebd107)\" style=\"fill: #05bab6; stroke: #05bab6; stroke-width: 1.5; stroke-linejoin: miter\"/>\n   </g>\n   <g id=\"text_1\">\n    <g clip-path=\"url(#p0df6ebd107)\">\n     <!-- ${q0}_{0}$ -->\n     <g transform=\"translate(35.491243 48.011776)scale(0.1625 -0.1625)\">\n      <defs>\n       <path id=\"DejaVuSans-Oblique-71\" d=\"M 2669 525 \nQ 2438 222 2123 65 \nQ 1809 -91 1428 -91 \nQ 897 -91 595 267 \nQ 294 625 294 1253 \nQ 294 1759 480 2231 \nQ 666 2703 1013 3078 \nQ 1238 3322 1530 3453 \nQ 1822 3584 2144 3584 \nQ 2531 3584 2781 3431 \nQ 3031 3278 3144 2969 \nL 3244 3494 \nL 3822 3494 \nL 2888 -1319 \nL 2309 -1319 \nL 2669 525 \nz\nM 891 1338 \nQ 891 875 1084 633 \nQ 1278 391 1644 391 \nQ 2188 391 2572 911 \nQ 2956 1431 2956 2175 \nQ 2956 2625 2757 2864 \nQ 2559 3103 2188 3103 \nQ 1916 3103 1684 2976 \nQ 1453 2850 1281 2606 \nQ 1100 2350 995 2006 \nQ 891 1663 891 1338 \nz\n\" transform=\"scale(0.015625)\"/>\n       <path id=\"DejaVuSans-30\" d=\"M 2034 4250 \nQ 1547 4250 1301 3770 \nQ 1056 3291 1056 2328 \nQ 1056 1369 1301 889 \nQ 1547 409 2034 409 \nQ 2525 409 2770 889 \nQ 3016 1369 3016 2328 \nQ 3016 3291 2770 3770 \nQ 2525 4250 2034 4250 \nz\nM 2034 4750 \nQ 2819 4750 3233 4129 \nQ 3647 3509 3647 2328 \nQ 3647 1150 3233 529 \nQ 2819 -91 2034 -91 \nQ 1250 -91 836 529 \nQ 422 1150 422 2328 \nQ 422 3509 836 4129 \nQ 1250 4750 2034 4750 \nz\n\" transform=\"scale(0.015625)\"/>\n      </defs>\n      <use xlink:href=\"#DejaVuSans-Oblique-71\" transform=\"translate(0 0.78125)\"/>\n      <use xlink:href=\"#DejaVuSans-30\" transform=\"translate(63.476562 0.78125)\"/>\n      <use xlink:href=\"#DejaVuSans-30\" transform=\"translate(128.056641 -15.625)scale(0.7)\"/>\n     </g>\n    </g>\n   </g>\n   <g id=\"text_2\">\n    <g clip-path=\"url(#p0df6ebd107)\">\n     <!-- ${q0}_{1}$ -->\n     <g transform=\"translate(35.491243 93.462775)scale(0.1625 -0.1625)\">\n      <defs>\n       <path id=\"DejaVuSans-31\" d=\"M 794 531 \nL 1825 531 \nL 1825 4091 \nL 703 3866 \nL 703 4441 \nL 1819 4666 \nL 2450 4666 \nL 2450 531 \nL 3481 531 \nL 3481 0 \nL 794 0 \nL 794 531 \nz\n\" transform=\"scale(0.015625)\"/>\n      </defs>\n      <use xlink:href=\"#DejaVuSans-Oblique-71\" transform=\"translate(0 0.78125)\"/>\n      <use xlink:href=\"#DejaVuSans-30\" transform=\"translate(63.476562 0.78125)\"/>\n      <use xlink:href=\"#DejaVuSans-31\" transform=\"translate(128.056641 -15.625)scale(0.7)\"/>\n     </g>\n    </g>\n   </g>\n   <g id=\"text_3\">\n    <g clip-path=\"url(#p0df6ebd107)\">\n     <!-- 2 -->\n     <g transform=\"translate(77.726543 127.754823)scale(0.104 -0.104)\">\n      <defs>\n       <path id=\"DejaVuSans-32\" d=\"M 1228 531 \nL 3431 531 \nL 3431 0 \nL 469 0 \nL 469 531 \nQ 828 903 1448 1529 \nQ 2069 2156 2228 2338 \nQ 2531 2678 2651 2914 \nQ 2772 3150 2772 3378 \nQ 2772 3750 2511 3984 \nQ 2250 4219 1831 4219 \nQ 1534 4219 1204 4116 \nQ 875 4013 500 3803 \nL 500 4441 \nQ 881 4594 1212 4672 \nQ 1544 4750 1819 4750 \nQ 2544 4750 2975 4387 \nQ 3406 4025 3406 3419 \nQ 3406 3131 3298 2873 \nQ 3191 2616 2906 2266 \nQ 2828 2175 2409 1742 \nQ 1991 1309 1228 531 \nz\n\" transform=\"scale(0.015625)\"/>\n      </defs>\n      <use xlink:href=\"#DejaVuSans-32\"/>\n     </g>\n    </g>\n   </g>\n   <g id=\"text_4\">\n    <g clip-path=\"url(#p0df6ebd107)\">\n     <!-- c0 -->\n     <g transform=\"translate(44.81722 138.946783)scale(0.1625 -0.1625)\">\n      <defs>\n       <path id=\"DejaVuSans-63\" d=\"M 3122 3366 \nL 3122 2828 \nQ 2878 2963 2633 3030 \nQ 2388 3097 2138 3097 \nQ 1578 3097 1268 2742 \nQ 959 2388 959 1747 \nQ 959 1106 1268 751 \nQ 1578 397 2138 397 \nQ 2388 397 2633 464 \nQ 2878 531 3122 666 \nL 3122 134 \nQ 2881 22 2623 -34 \nQ 2366 -91 2075 -91 \nQ 1284 -91 818 406 \nQ 353 903 353 1747 \nQ 353 2603 823 3093 \nQ 1294 3584 2113 3584 \nQ 2378 3584 2631 3529 \nQ 2884 3475 3122 3366 \nz\n\" transform=\"scale(0.015625)\"/>\n      </defs>\n      <use xlink:href=\"#DejaVuSans-63\"/>\n      <use xlink:href=\"#DejaVuSans-30\" x=\"54.980469\"/>\n     </g>\n    </g>\n   </g>\n   <g id=\"text_5\">\n    <g clip-path=\"url(#p0df6ebd107)\">\n     <!-- H -->\n     <g transform=\"translate(92.83678 47.147987)scale(0.13 -0.13)\">\n      <defs>\n       <path id=\"DejaVuSans-48\" d=\"M 628 4666 \nL 1259 4666 \nL 1259 2753 \nL 3553 2753 \nL 3553 4666 \nL 4184 4666 \nL 4184 0 \nL 3553 0 \nL 3553 2222 \nL 1259 2222 \nL 1259 0 \nL 628 0 \nL 628 4666 \nz\n\" transform=\"scale(0.015625)\"/>\n      </defs>\n      <use xlink:href=\"#DejaVuSans-48\"/>\n     </g>\n    </g>\n   </g>\n   <g id=\"text_6\">\n    <g clip-path=\"url(#p0df6ebd107)\">\n     <!-- H -->\n     <g transform=\"translate(92.83678 92.598986)scale(0.13 -0.13)\">\n      <use xlink:href=\"#DejaVuSans-48\"/>\n     </g>\n    </g>\n   </g>\n   <g id=\"text_7\">\n    <g clip-path=\"url(#p0df6ebd107)\">\n     <!-- X -->\n     <g transform=\"translate(138.723482 47.147987)scale(0.13 -0.13)\">\n      <defs>\n       <path id=\"DejaVuSans-58\" d=\"M 403 4666 \nL 1081 4666 \nL 2241 2931 \nL 3406 4666 \nL 4084 4666 \nL 2584 2425 \nL 4184 0 \nL 3506 0 \nL 2194 1984 \nL 872 0 \nL 191 0 \nL 1856 2491 \nL 403 4666 \nz\n\" transform=\"scale(0.015625)\"/>\n      </defs>\n      <use xlink:href=\"#DejaVuSans-58\"/>\n     </g>\n    </g>\n   </g>\n   <g id=\"text_8\">\n    <g clip-path=\"url(#p0df6ebd107)\">\n     <!-- X -->\n     <g transform=\"translate(138.723482 92.598986)scale(0.13 -0.13)\">\n      <use xlink:href=\"#DejaVuSans-58\"/>\n     </g>\n    </g>\n   </g>\n   <g id=\"text_9\">\n    <g clip-path=\"url(#p0df6ebd107)\">\n     <!-- X -->\n     <g transform=\"translate(229.625481 47.147987)scale(0.13 -0.13)\">\n      <use xlink:href=\"#DejaVuSans-58\"/>\n     </g>\n    </g>\n   </g>\n   <g id=\"text_10\">\n    <g clip-path=\"url(#p0df6ebd107)\">\n     <!-- X -->\n     <g transform=\"translate(229.625481 92.598986)scale(0.13 -0.13)\">\n      <use xlink:href=\"#DejaVuSans-58\"/>\n     </g>\n    </g>\n   </g>\n   <g id=\"text_11\">\n    <g clip-path=\"url(#p0df6ebd107)\">\n     <!-- X -->\n     <g transform=\"translate(275.07648 92.598986)scale(0.13 -0.13)\">\n      <use xlink:href=\"#DejaVuSans-58\"/>\n     </g>\n    </g>\n   </g>\n   <g id=\"text_12\">\n    <g clip-path=\"url(#p0df6ebd107)\">\n     <!-- X -->\n     <g transform=\"translate(365.978479 92.598986)scale(0.13 -0.13)\">\n      <use xlink:href=\"#DejaVuSans-58\"/>\n     </g>\n    </g>\n   </g>\n   <g id=\"text_13\">\n    <g clip-path=\"url(#p0df6ebd107)\">\n     <!-- X -->\n     <g transform=\"translate(365.978479 47.147987)scale(0.13 -0.13)\">\n      <use xlink:href=\"#DejaVuSans-58\"/>\n     </g>\n    </g>\n   </g>\n   <g id=\"text_14\">\n    <g clip-path=\"url(#p0df6ebd107)\">\n     <!-- X -->\n     <g transform=\"translate(456.880478 47.147987)scale(0.13 -0.13)\">\n      <use xlink:href=\"#DejaVuSans-58\"/>\n     </g>\n    </g>\n   </g>\n   <g id=\"text_15\">\n    <g clip-path=\"url(#p0df6ebd107)\">\n     <!-- X -->\n     <g transform=\"translate(547.782477 47.147987)scale(0.13 -0.13)\">\n      <use xlink:href=\"#DejaVuSans-58\"/>\n     </g>\n    </g>\n   </g>\n   <g id=\"text_16\">\n    <g clip-path=\"url(#p0df6ebd107)\">\n     <!-- X -->\n     <g transform=\"translate(638.684476 47.147987)scale(0.13 -0.13)\">\n      <use xlink:href=\"#DejaVuSans-58\"/>\n     </g>\n    </g>\n   </g>\n  </g>\n </g>\n <defs>\n  <clipPath id=\"p0df6ebd107\">\n   <rect x=\"7.2\" y=\"7.2\" width=\"665.934635\" height=\"154.533398\"/>\n  </clipPath>\n </defs>\n</svg>\n",
      "text/plain": [
       "<Figure size 882.033x204.68 with 1 Axes>"
      ]
     },
     "execution_count": 7,
     "metadata": {},
     "output_type": "execute_result"
    }
   ],
   "source": [
    "#\n",
    "# Apply the Oracle for |w⟩=|10⟩ : (Uncomment the below)\n",
    "#\n",
    "groverCircuit.x(qr[0])\n",
    "groverCircuit.cz(qr[0],qr[1])\n",
    "groverCircuit.x(qr[0])\n",
    "\n",
    "# Debug:\n",
    "groverCircuit.draw(output=\"mpl\")"
   ]
  },
  {
   "cell_type": "markdown",
   "metadata": {},
   "source": [
    "### Oracle: |w⟩ = | 11 >"
   ]
  },
  {
   "cell_type": "markdown",
   "metadata": {},
   "source": [
    "![Grover-Qiskit-Oracle-11](img/Grover-Qiskit-Oracle-11.png \"Grover-Qiskit-Oracle-11\")"
   ]
  },
  {
   "cell_type": "code",
   "execution_count": 8,
   "metadata": {},
   "outputs": [
    {
     "data": {
      "image/svg+xml": "<?xml version=\"1.0\" encoding=\"utf-8\" standalone=\"no\"?>\n<!DOCTYPE svg PUBLIC \"-//W3C//DTD SVG 1.1//EN\"\n  \"http://www.w3.org/Graphics/SVG/1.1/DTD/svg11.dtd\">\n<svg xmlns:xlink=\"http://www.w3.org/1999/xlink\" width=\"725.785635pt\" height=\"168.933398pt\" viewBox=\"0 0 725.785635 168.933398\" xmlns=\"http://www.w3.org/2000/svg\" version=\"1.1\">\n <metadata>\n  <rdf:RDF xmlns:dc=\"http://purl.org/dc/elements/1.1/\" xmlns:cc=\"http://creativecommons.org/ns#\" xmlns:rdf=\"http://www.w3.org/1999/02/22-rdf-syntax-ns#\">\n   <cc:Work>\n    <dc:type rdf:resource=\"http://purl.org/dc/dcmitype/StillImage\"/>\n    <dc:date>2022-01-26T14:37:02.626001</dc:date>\n    <dc:format>image/svg+xml</dc:format>\n    <dc:creator>\n     <cc:Agent>\n      <dc:title>Matplotlib v3.5.1, https://matplotlib.org/</dc:title>\n     </cc:Agent>\n    </dc:creator>\n   </cc:Work>\n  </rdf:RDF>\n </metadata>\n <defs>\n  <style type=\"text/css\">*{stroke-linejoin: round; stroke-linecap: butt}</style>\n </defs>\n <g id=\"figure_1\">\n  <g id=\"patch_1\">\n   <path d=\"M 0 168.933398 \nL 725.785635 168.933398 \nL 725.785635 0 \nL 0 0 \nz\n\" style=\"fill: #ffffff\"/>\n  </g>\n  <g id=\"axes_1\">\n   <g id=\"line2d_1\">\n    <path d=\"M 73.181443 43.5608 \nL 714.040535 43.5608 \n\" clip-path=\"url(#pa139a82432)\" style=\"fill: none; stroke: #000000; stroke-width: 2; stroke-linecap: square\"/>\n   </g>\n   <g id=\"line2d_2\">\n    <path d=\"M 73.181443 89.011799 \nL 714.040535 89.011799 \n\" clip-path=\"url(#pa139a82432)\" style=\"fill: none; stroke: #000000; stroke-width: 2; stroke-linecap: square\"/>\n   </g>\n   <g id=\"line2d_3\">\n    <path d=\"M 73.181443 132.985641 \nL 714.040535 132.985641 \n\" clip-path=\"url(#pa139a82432)\" style=\"fill: none; stroke: #778899; stroke-width: 2; stroke-linecap: square\"/>\n   </g>\n   <g id=\"line2d_4\">\n    <path d=\"M 73.181443 135.939956 \nL 714.040535 135.939956 \n\" clip-path=\"url(#pa139a82432)\" style=\"fill: none; stroke: #778899; stroke-width: 2; stroke-linecap: square\"/>\n   </g>\n   <g id=\"line2d_5\">\n    <path d=\"M 82.271643 139.007898 \nL 86.816743 129.917698 \n\" clip-path=\"url(#pa139a82432)\" style=\"fill: none; stroke: #778899; stroke-width: 1.5; stroke-linecap: square\"/>\n   </g>\n   <g id=\"line2d_6\">\n    <path d=\"M 188.626982 89.011799 \nL 188.626982 43.5608 \n\" clip-path=\"url(#pa139a82432)\" style=\"fill: none; stroke: #6fa4ff; stroke-width: 2; stroke-linecap: square\"/>\n   </g>\n   <g id=\"line2d_7\">\n    <path d=\"M 324.97998 89.011799 \nL 324.97998 43.5608 \n\" clip-path=\"url(#pa139a82432)\" style=\"fill: none; stroke: #6fa4ff; stroke-width: 2; stroke-linecap: square\"/>\n   </g>\n   <g id=\"line2d_8\">\n    <path d=\"M 415.881979 89.011799 \nL 415.881979 43.5608 \n\" clip-path=\"url(#pa139a82432)\" style=\"fill: none; stroke: #6fa4ff; stroke-width: 2; stroke-linecap: square\"/>\n   </g>\n   <g id=\"line2d_9\">\n    <path d=\"M 506.783977 89.011799 \nL 506.783977 43.5608 \n\" clip-path=\"url(#pa139a82432)\" style=\"fill: none; stroke: #6fa4ff; stroke-width: 2; stroke-linecap: square\"/>\n   </g>\n   <g id=\"line2d_10\">\n    <path d=\"M 597.685976 89.011799 \nL 597.685976 43.5608 \n\" clip-path=\"url(#pa139a82432)\" style=\"fill: none; stroke: #6fa4ff; stroke-width: 2; stroke-linecap: square\"/>\n   </g>\n   <g id=\"line2d_11\">\n    <path d=\"M 688.587975 89.011799 \nL 688.587975 43.5608 \n\" clip-path=\"url(#pa139a82432)\" style=\"fill: none; stroke: #6fa4ff; stroke-width: 2; stroke-linecap: square\"/>\n   </g>\n   <g id=\"line2d_12\">\n    <path d=\"M 188.626982 89.011799 \nL 188.626982 43.5608 \n\" clip-path=\"url(#pa139a82432)\" style=\"fill: none; stroke: #6fa4ff; stroke-width: 2; stroke-linecap: square\"/>\n   </g>\n   <g id=\"line2d_13\">\n    <path d=\"M 324.97998 89.011799 \nL 324.97998 43.5608 \n\" clip-path=\"url(#pa139a82432)\" style=\"fill: none; stroke: #6fa4ff; stroke-width: 2; stroke-linecap: square\"/>\n   </g>\n   <g id=\"line2d_14\">\n    <path d=\"M 415.881979 89.011799 \nL 415.881979 43.5608 \n\" clip-path=\"url(#pa139a82432)\" style=\"fill: none; stroke: #6fa4ff; stroke-width: 2; stroke-linecap: square\"/>\n   </g>\n   <g id=\"line2d_15\">\n    <path d=\"M 506.783977 89.011799 \nL 506.783977 43.5608 \n\" clip-path=\"url(#pa139a82432)\" style=\"fill: none; stroke: #6fa4ff; stroke-width: 2; stroke-linecap: square\"/>\n   </g>\n   <g id=\"line2d_16\">\n    <path d=\"M 597.685976 89.011799 \nL 597.685976 43.5608 \n\" clip-path=\"url(#pa139a82432)\" style=\"fill: none; stroke: #6fa4ff; stroke-width: 2; stroke-linecap: square\"/>\n   </g>\n   <g id=\"line2d_17\">\n    <path d=\"M 688.587975 89.011799 \nL 688.587975 43.5608 \n\" clip-path=\"url(#pa139a82432)\" style=\"fill: none; stroke: #6fa4ff; stroke-width: 2; stroke-linecap: square\"/>\n   </g>\n   <g id=\"patch_2\">\n    <path d=\"M 82.953408 58.332374 \nL 112.496558 58.332374 \nL 112.496558 28.789225 \nL 82.953408 28.789225 \nz\n\" clip-path=\"url(#pa139a82432)\" style=\"fill: #6fa4ff; stroke: #6fa4ff; stroke-width: 1.5; stroke-linejoin: miter\"/>\n   </g>\n   <g id=\"patch_3\">\n    <path d=\"M 82.953408 103.783374 \nL 112.496558 103.783374 \nL 112.496558 74.240224 \nL 82.953408 74.240224 \nz\n\" clip-path=\"url(#pa139a82432)\" style=\"fill: #6fa4ff; stroke: #6fa4ff; stroke-width: 1.5; stroke-linejoin: miter\"/>\n   </g>\n   <g id=\"patch_4\">\n    <path d=\"M 128.404407 58.332374 \nL 157.947557 58.332374 \nL 157.947557 28.789225 \nL 128.404407 28.789225 \nz\n\" clip-path=\"url(#pa139a82432)\" style=\"fill: #05bab6; stroke: #05bab6; stroke-width: 1.5; stroke-linejoin: miter\"/>\n   </g>\n   <g id=\"patch_5\">\n    <path d=\"M 128.404407 103.783374 \nL 157.947557 103.783374 \nL 157.947557 74.240224 \nL 128.404407 74.240224 \nz\n\" clip-path=\"url(#pa139a82432)\" style=\"fill: #05bab6; stroke: #05bab6; stroke-width: 1.5; stroke-linejoin: miter\"/>\n   </g>\n   <g id=\"patch_6\">\n    <path d=\"M 188.626982 47.992272 \nC 189.802222 47.992272 190.929485 47.525344 191.760506 46.694324 \nC 192.591526 45.863303 193.058454 44.73604 193.058454 43.5608 \nC 193.058454 42.385559 192.591526 41.258296 191.760506 40.427275 \nC 190.929485 39.596255 189.802222 39.129327 188.626982 39.129327 \nC 187.451741 39.129327 186.324478 39.596255 185.493457 40.427275 \nC 184.662437 41.258296 184.195509 42.385559 184.195509 43.5608 \nC 184.195509 44.73604 184.662437 45.863303 185.493457 46.694324 \nC 186.324478 47.525344 187.451741 47.992272 188.626982 47.992272 \nz\n\" clip-path=\"url(#pa139a82432)\" style=\"fill: #6fa4ff; stroke: #6fa4ff; stroke-width: 1.5; stroke-linejoin: miter\"/>\n   </g>\n   <g id=\"patch_7\">\n    <path d=\"M 188.626982 93.443271 \nC 189.802222 93.443271 190.929485 92.976343 191.760506 92.145323 \nC 192.591526 91.314303 193.058454 90.187039 193.058454 89.011799 \nC 193.058454 87.836559 192.591526 86.709295 191.760506 85.878275 \nC 190.929485 85.047254 189.802222 84.580326 188.626982 84.580326 \nC 187.451741 84.580326 186.324478 85.047254 185.493457 85.878275 \nC 184.662437 86.709295 184.195509 87.836559 184.195509 89.011799 \nC 184.195509 90.187039 184.662437 91.314303 185.493457 92.145323 \nC 186.324478 92.976343 187.451741 93.443271 188.626982 93.443271 \nz\n\" clip-path=\"url(#pa139a82432)\" style=\"fill: #6fa4ff; stroke: #6fa4ff; stroke-width: 1.5; stroke-linejoin: miter\"/>\n   </g>\n   <g id=\"patch_8\">\n    <path d=\"M 219.306406 58.332374 \nL 248.849556 58.332374 \nL 248.849556 28.789225 \nL 219.306406 28.789225 \nz\n\" clip-path=\"url(#pa139a82432)\" style=\"fill: #05bab6; stroke: #05bab6; stroke-width: 1.5; stroke-linejoin: miter\"/>\n   </g>\n   <g id=\"patch_9\">\n    <path d=\"M 219.306406 103.783374 \nL 248.849556 103.783374 \nL 248.849556 74.240224 \nL 219.306406 74.240224 \nz\n\" clip-path=\"url(#pa139a82432)\" style=\"fill: #05bab6; stroke: #05bab6; stroke-width: 1.5; stroke-linejoin: miter\"/>\n   </g>\n   <g id=\"patch_10\">\n    <path d=\"M 264.757406 103.783374 \nL 294.300555 103.783374 \nL 294.300555 74.240224 \nL 264.757406 74.240224 \nz\n\" clip-path=\"url(#pa139a82432)\" style=\"fill: #05bab6; stroke: #05bab6; stroke-width: 1.5; stroke-linejoin: miter\"/>\n   </g>\n   <g id=\"patch_11\">\n    <path d=\"M 324.97998 47.992272 \nC 326.15522 47.992272 327.282484 47.525344 328.113504 46.694324 \nC 328.944524 45.863303 329.411452 44.73604 329.411452 43.5608 \nC 329.411452 42.385559 328.944524 41.258296 328.113504 40.427275 \nC 327.282484 39.596255 326.15522 39.129327 324.97998 39.129327 \nC 323.80474 39.129327 322.677476 39.596255 321.846456 40.427275 \nC 321.015435 41.258296 320.548507 42.385559 320.548507 43.5608 \nC 320.548507 44.73604 321.015435 45.863303 321.846456 46.694324 \nC 322.677476 47.525344 323.80474 47.992272 324.97998 47.992272 \nz\n\" clip-path=\"url(#pa139a82432)\" style=\"fill: #6fa4ff; stroke: #6fa4ff; stroke-width: 1.5; stroke-linejoin: miter\"/>\n   </g>\n   <g id=\"patch_12\">\n    <path d=\"M 324.97998 93.443271 \nC 326.15522 93.443271 327.282484 92.976343 328.113504 92.145323 \nC 328.944524 91.314303 329.411452 90.187039 329.411452 89.011799 \nC 329.411452 87.836559 328.944524 86.709295 328.113504 85.878275 \nC 327.282484 85.047254 326.15522 84.580326 324.97998 84.580326 \nC 323.80474 84.580326 322.677476 85.047254 321.846456 85.878275 \nC 321.015435 86.709295 320.548507 87.836559 320.548507 89.011799 \nC 320.548507 90.187039 321.015435 91.314303 321.846456 92.145323 \nC 322.677476 92.976343 323.80474 93.443271 324.97998 93.443271 \nz\n\" clip-path=\"url(#pa139a82432)\" style=\"fill: #6fa4ff; stroke: #6fa4ff; stroke-width: 1.5; stroke-linejoin: miter\"/>\n   </g>\n   <g id=\"patch_13\">\n    <path d=\"M 355.659404 103.783374 \nL 385.202554 103.783374 \nL 385.202554 74.240224 \nL 355.659404 74.240224 \nz\n\" clip-path=\"url(#pa139a82432)\" style=\"fill: #05bab6; stroke: #05bab6; stroke-width: 1.5; stroke-linejoin: miter\"/>\n   </g>\n   <g id=\"patch_14\">\n    <path d=\"M 355.659404 58.332374 \nL 385.202554 58.332374 \nL 385.202554 28.789225 \nL 355.659404 28.789225 \nz\n\" clip-path=\"url(#pa139a82432)\" style=\"fill: #05bab6; stroke: #05bab6; stroke-width: 1.5; stroke-linejoin: miter\"/>\n   </g>\n   <g id=\"patch_15\">\n    <path d=\"M 415.881979 47.992272 \nC 417.057219 47.992272 418.184482 47.525344 419.015503 46.694324 \nC 419.846523 45.863303 420.313451 44.73604 420.313451 43.5608 \nC 420.313451 42.385559 419.846523 41.258296 419.015503 40.427275 \nC 418.184482 39.596255 417.057219 39.129327 415.881979 39.129327 \nC 414.706738 39.129327 413.579475 39.596255 412.748454 40.427275 \nC 411.917434 41.258296 411.450506 42.385559 411.450506 43.5608 \nC 411.450506 44.73604 411.917434 45.863303 412.748454 46.694324 \nC 413.579475 47.525344 414.706738 47.992272 415.881979 47.992272 \nz\n\" clip-path=\"url(#pa139a82432)\" style=\"fill: #6fa4ff; stroke: #6fa4ff; stroke-width: 1.5; stroke-linejoin: miter\"/>\n   </g>\n   <g id=\"patch_16\">\n    <path d=\"M 415.881979 93.443271 \nC 417.057219 93.443271 418.184482 92.976343 419.015503 92.145323 \nC 419.846523 91.314303 420.313451 90.187039 420.313451 89.011799 \nC 420.313451 87.836559 419.846523 86.709295 419.015503 85.878275 \nC 418.184482 85.047254 417.057219 84.580326 415.881979 84.580326 \nC 414.706738 84.580326 413.579475 85.047254 412.748454 85.878275 \nC 411.917434 86.709295 411.450506 87.836559 411.450506 89.011799 \nC 411.450506 90.187039 411.917434 91.314303 412.748454 92.145323 \nC 413.579475 92.976343 414.706738 93.443271 415.881979 93.443271 \nz\n\" clip-path=\"url(#pa139a82432)\" style=\"fill: #6fa4ff; stroke: #6fa4ff; stroke-width: 1.5; stroke-linejoin: miter\"/>\n   </g>\n   <g id=\"patch_17\">\n    <path d=\"M 446.561403 58.332374 \nL 476.104553 58.332374 \nL 476.104553 28.789225 \nL 446.561403 28.789225 \nz\n\" clip-path=\"url(#pa139a82432)\" style=\"fill: #05bab6; stroke: #05bab6; stroke-width: 1.5; stroke-linejoin: miter\"/>\n   </g>\n   <g id=\"patch_18\">\n    <path d=\"M 506.783977 47.992272 \nC 507.959218 47.992272 509.086481 47.525344 509.917502 46.694324 \nC 510.748522 45.863303 511.21545 44.73604 511.21545 43.5608 \nC 511.21545 42.385559 510.748522 41.258296 509.917502 40.427275 \nC 509.086481 39.596255 507.959218 39.129327 506.783977 39.129327 \nC 505.608737 39.129327 504.481473 39.596255 503.650453 40.427275 \nC 502.819433 41.258296 502.352505 42.385559 502.352505 43.5608 \nC 502.352505 44.73604 502.819433 45.863303 503.650453 46.694324 \nC 504.481473 47.525344 505.608737 47.992272 506.783977 47.992272 \nz\n\" clip-path=\"url(#pa139a82432)\" style=\"fill: #6fa4ff; stroke: #6fa4ff; stroke-width: 1.5; stroke-linejoin: miter\"/>\n   </g>\n   <g id=\"patch_19\">\n    <path d=\"M 506.783977 93.443271 \nC 507.959218 93.443271 509.086481 92.976343 509.917502 92.145323 \nC 510.748522 91.314303 511.21545 90.187039 511.21545 89.011799 \nC 511.21545 87.836559 510.748522 86.709295 509.917502 85.878275 \nC 509.086481 85.047254 507.959218 84.580326 506.783977 84.580326 \nC 505.608737 84.580326 504.481473 85.047254 503.650453 85.878275 \nC 502.819433 86.709295 502.352505 87.836559 502.352505 89.011799 \nC 502.352505 90.187039 502.819433 91.314303 503.650453 92.145323 \nC 504.481473 92.976343 505.608737 93.443271 506.783977 93.443271 \nz\n\" clip-path=\"url(#pa139a82432)\" style=\"fill: #6fa4ff; stroke: #6fa4ff; stroke-width: 1.5; stroke-linejoin: miter\"/>\n   </g>\n   <g id=\"patch_20\">\n    <path d=\"M 537.463402 58.332374 \nL 567.006552 58.332374 \nL 567.006552 28.789225 \nL 537.463402 28.789225 \nz\n\" clip-path=\"url(#pa139a82432)\" style=\"fill: #05bab6; stroke: #05bab6; stroke-width: 1.5; stroke-linejoin: miter\"/>\n   </g>\n   <g id=\"patch_21\">\n    <path d=\"M 597.685976 47.992272 \nC 598.861216 47.992272 599.98848 47.525344 600.8195 46.694324 \nC 601.650521 45.863303 602.117449 44.73604 602.117449 43.5608 \nC 602.117449 42.385559 601.650521 41.258296 600.8195 40.427275 \nC 599.98848 39.596255 598.861216 39.129327 597.685976 39.129327 \nC 596.510736 39.129327 595.383472 39.596255 594.552452 40.427275 \nC 593.721432 41.258296 593.254504 42.385559 593.254504 43.5608 \nC 593.254504 44.73604 593.721432 45.863303 594.552452 46.694324 \nC 595.383472 47.525344 596.510736 47.992272 597.685976 47.992272 \nz\n\" clip-path=\"url(#pa139a82432)\" style=\"fill: #6fa4ff; stroke: #6fa4ff; stroke-width: 1.5; stroke-linejoin: miter\"/>\n   </g>\n   <g id=\"patch_22\">\n    <path d=\"M 597.685976 93.443271 \nC 598.861216 93.443271 599.98848 92.976343 600.8195 92.145323 \nC 601.650521 91.314303 602.117449 90.187039 602.117449 89.011799 \nC 602.117449 87.836559 601.650521 86.709295 600.8195 85.878275 \nC 599.98848 85.047254 598.861216 84.580326 597.685976 84.580326 \nC 596.510736 84.580326 595.383472 85.047254 594.552452 85.878275 \nC 593.721432 86.709295 593.254504 87.836559 593.254504 89.011799 \nC 593.254504 90.187039 593.721432 91.314303 594.552452 92.145323 \nC 595.383472 92.976343 596.510736 93.443271 597.685976 93.443271 \nz\n\" clip-path=\"url(#pa139a82432)\" style=\"fill: #6fa4ff; stroke: #6fa4ff; stroke-width: 1.5; stroke-linejoin: miter\"/>\n   </g>\n   <g id=\"patch_23\">\n    <path d=\"M 628.365401 58.332374 \nL 657.90855 58.332374 \nL 657.90855 28.789225 \nL 628.365401 28.789225 \nz\n\" clip-path=\"url(#pa139a82432)\" style=\"fill: #05bab6; stroke: #05bab6; stroke-width: 1.5; stroke-linejoin: miter\"/>\n   </g>\n   <g id=\"patch_24\">\n    <path d=\"M 688.587975 47.992272 \nC 689.763215 47.992272 690.890479 47.525344 691.721499 46.694324 \nC 692.552519 45.863303 693.019447 44.73604 693.019447 43.5608 \nC 693.019447 42.385559 692.552519 41.258296 691.721499 40.427275 \nC 690.890479 39.596255 689.763215 39.129327 688.587975 39.129327 \nC 687.412735 39.129327 686.285471 39.596255 685.454451 40.427275 \nC 684.62343 41.258296 684.156502 42.385559 684.156502 43.5608 \nC 684.156502 44.73604 684.62343 45.863303 685.454451 46.694324 \nC 686.285471 47.525344 687.412735 47.992272 688.587975 47.992272 \nz\n\" clip-path=\"url(#pa139a82432)\" style=\"fill: #6fa4ff; stroke: #6fa4ff; stroke-width: 1.5; stroke-linejoin: miter\"/>\n   </g>\n   <g id=\"patch_25\">\n    <path d=\"M 688.587975 93.443271 \nC 689.763215 93.443271 690.890479 92.976343 691.721499 92.145323 \nC 692.552519 91.314303 693.019447 90.187039 693.019447 89.011799 \nC 693.019447 87.836559 692.552519 86.709295 691.721499 85.878275 \nC 690.890479 85.047254 689.763215 84.580326 688.587975 84.580326 \nC 687.412735 84.580326 686.285471 85.047254 685.454451 85.878275 \nC 684.62343 86.709295 684.156502 87.836559 684.156502 89.011799 \nC 684.156502 90.187039 684.62343 91.314303 685.454451 92.145323 \nC 686.285471 92.976343 687.412735 93.443271 688.587975 93.443271 \nz\n\" clip-path=\"url(#pa139a82432)\" style=\"fill: #6fa4ff; stroke: #6fa4ff; stroke-width: 1.5; stroke-linejoin: miter\"/>\n   </g>\n   <g id=\"text_1\">\n    <g clip-path=\"url(#pa139a82432)\">\n     <!-- ${q0}_{0}$ -->\n     <g transform=\"translate(35.491243 48.011776)scale(0.1625 -0.1625)\">\n      <defs>\n       <path id=\"DejaVuSans-Oblique-71\" d=\"M 2669 525 \nQ 2438 222 2123 65 \nQ 1809 -91 1428 -91 \nQ 897 -91 595 267 \nQ 294 625 294 1253 \nQ 294 1759 480 2231 \nQ 666 2703 1013 3078 \nQ 1238 3322 1530 3453 \nQ 1822 3584 2144 3584 \nQ 2531 3584 2781 3431 \nQ 3031 3278 3144 2969 \nL 3244 3494 \nL 3822 3494 \nL 2888 -1319 \nL 2309 -1319 \nL 2669 525 \nz\nM 891 1338 \nQ 891 875 1084 633 \nQ 1278 391 1644 391 \nQ 2188 391 2572 911 \nQ 2956 1431 2956 2175 \nQ 2956 2625 2757 2864 \nQ 2559 3103 2188 3103 \nQ 1916 3103 1684 2976 \nQ 1453 2850 1281 2606 \nQ 1100 2350 995 2006 \nQ 891 1663 891 1338 \nz\n\" transform=\"scale(0.015625)\"/>\n       <path id=\"DejaVuSans-30\" d=\"M 2034 4250 \nQ 1547 4250 1301 3770 \nQ 1056 3291 1056 2328 \nQ 1056 1369 1301 889 \nQ 1547 409 2034 409 \nQ 2525 409 2770 889 \nQ 3016 1369 3016 2328 \nQ 3016 3291 2770 3770 \nQ 2525 4250 2034 4250 \nz\nM 2034 4750 \nQ 2819 4750 3233 4129 \nQ 3647 3509 3647 2328 \nQ 3647 1150 3233 529 \nQ 2819 -91 2034 -91 \nQ 1250 -91 836 529 \nQ 422 1150 422 2328 \nQ 422 3509 836 4129 \nQ 1250 4750 2034 4750 \nz\n\" transform=\"scale(0.015625)\"/>\n      </defs>\n      <use xlink:href=\"#DejaVuSans-Oblique-71\" transform=\"translate(0 0.78125)\"/>\n      <use xlink:href=\"#DejaVuSans-30\" transform=\"translate(63.476562 0.78125)\"/>\n      <use xlink:href=\"#DejaVuSans-30\" transform=\"translate(128.056641 -15.625)scale(0.7)\"/>\n     </g>\n    </g>\n   </g>\n   <g id=\"text_2\">\n    <g clip-path=\"url(#pa139a82432)\">\n     <!-- ${q0}_{1}$ -->\n     <g transform=\"translate(35.491243 93.462775)scale(0.1625 -0.1625)\">\n      <defs>\n       <path id=\"DejaVuSans-31\" d=\"M 794 531 \nL 1825 531 \nL 1825 4091 \nL 703 3866 \nL 703 4441 \nL 1819 4666 \nL 2450 4666 \nL 2450 531 \nL 3481 531 \nL 3481 0 \nL 794 0 \nL 794 531 \nz\n\" transform=\"scale(0.015625)\"/>\n      </defs>\n      <use xlink:href=\"#DejaVuSans-Oblique-71\" transform=\"translate(0 0.78125)\"/>\n      <use xlink:href=\"#DejaVuSans-30\" transform=\"translate(63.476562 0.78125)\"/>\n      <use xlink:href=\"#DejaVuSans-31\" transform=\"translate(128.056641 -15.625)scale(0.7)\"/>\n     </g>\n    </g>\n   </g>\n   <g id=\"text_3\">\n    <g clip-path=\"url(#pa139a82432)\">\n     <!-- 2 -->\n     <g transform=\"translate(77.726543 127.754823)scale(0.104 -0.104)\">\n      <defs>\n       <path id=\"DejaVuSans-32\" d=\"M 1228 531 \nL 3431 531 \nL 3431 0 \nL 469 0 \nL 469 531 \nQ 828 903 1448 1529 \nQ 2069 2156 2228 2338 \nQ 2531 2678 2651 2914 \nQ 2772 3150 2772 3378 \nQ 2772 3750 2511 3984 \nQ 2250 4219 1831 4219 \nQ 1534 4219 1204 4116 \nQ 875 4013 500 3803 \nL 500 4441 \nQ 881 4594 1212 4672 \nQ 1544 4750 1819 4750 \nQ 2544 4750 2975 4387 \nQ 3406 4025 3406 3419 \nQ 3406 3131 3298 2873 \nQ 3191 2616 2906 2266 \nQ 2828 2175 2409 1742 \nQ 1991 1309 1228 531 \nz\n\" transform=\"scale(0.015625)\"/>\n      </defs>\n      <use xlink:href=\"#DejaVuSans-32\"/>\n     </g>\n    </g>\n   </g>\n   <g id=\"text_4\">\n    <g clip-path=\"url(#pa139a82432)\">\n     <!-- c0 -->\n     <g transform=\"translate(44.81722 138.946783)scale(0.1625 -0.1625)\">\n      <defs>\n       <path id=\"DejaVuSans-63\" d=\"M 3122 3366 \nL 3122 2828 \nQ 2878 2963 2633 3030 \nQ 2388 3097 2138 3097 \nQ 1578 3097 1268 2742 \nQ 959 2388 959 1747 \nQ 959 1106 1268 751 \nQ 1578 397 2138 397 \nQ 2388 397 2633 464 \nQ 2878 531 3122 666 \nL 3122 134 \nQ 2881 22 2623 -34 \nQ 2366 -91 2075 -91 \nQ 1284 -91 818 406 \nQ 353 903 353 1747 \nQ 353 2603 823 3093 \nQ 1294 3584 2113 3584 \nQ 2378 3584 2631 3529 \nQ 2884 3475 3122 3366 \nz\n\" transform=\"scale(0.015625)\"/>\n      </defs>\n      <use xlink:href=\"#DejaVuSans-63\"/>\n      <use xlink:href=\"#DejaVuSans-30\" x=\"54.980469\"/>\n     </g>\n    </g>\n   </g>\n   <g id=\"text_5\">\n    <g clip-path=\"url(#pa139a82432)\">\n     <!-- H -->\n     <g transform=\"translate(92.83678 47.147987)scale(0.13 -0.13)\">\n      <defs>\n       <path id=\"DejaVuSans-48\" d=\"M 628 4666 \nL 1259 4666 \nL 1259 2753 \nL 3553 2753 \nL 3553 4666 \nL 4184 4666 \nL 4184 0 \nL 3553 0 \nL 3553 2222 \nL 1259 2222 \nL 1259 0 \nL 628 0 \nL 628 4666 \nz\n\" transform=\"scale(0.015625)\"/>\n      </defs>\n      <use xlink:href=\"#DejaVuSans-48\"/>\n     </g>\n    </g>\n   </g>\n   <g id=\"text_6\">\n    <g clip-path=\"url(#pa139a82432)\">\n     <!-- H -->\n     <g transform=\"translate(92.83678 92.598986)scale(0.13 -0.13)\">\n      <use xlink:href=\"#DejaVuSans-48\"/>\n     </g>\n    </g>\n   </g>\n   <g id=\"text_7\">\n    <g clip-path=\"url(#pa139a82432)\">\n     <!-- X -->\n     <g transform=\"translate(138.723482 47.147987)scale(0.13 -0.13)\">\n      <defs>\n       <path id=\"DejaVuSans-58\" d=\"M 403 4666 \nL 1081 4666 \nL 2241 2931 \nL 3406 4666 \nL 4084 4666 \nL 2584 2425 \nL 4184 0 \nL 3506 0 \nL 2194 1984 \nL 872 0 \nL 191 0 \nL 1856 2491 \nL 403 4666 \nz\n\" transform=\"scale(0.015625)\"/>\n      </defs>\n      <use xlink:href=\"#DejaVuSans-58\"/>\n     </g>\n    </g>\n   </g>\n   <g id=\"text_8\">\n    <g clip-path=\"url(#pa139a82432)\">\n     <!-- X -->\n     <g transform=\"translate(138.723482 92.598986)scale(0.13 -0.13)\">\n      <use xlink:href=\"#DejaVuSans-58\"/>\n     </g>\n    </g>\n   </g>\n   <g id=\"text_9\">\n    <g clip-path=\"url(#pa139a82432)\">\n     <!-- X -->\n     <g transform=\"translate(229.625481 47.147987)scale(0.13 -0.13)\">\n      <use xlink:href=\"#DejaVuSans-58\"/>\n     </g>\n    </g>\n   </g>\n   <g id=\"text_10\">\n    <g clip-path=\"url(#pa139a82432)\">\n     <!-- X -->\n     <g transform=\"translate(229.625481 92.598986)scale(0.13 -0.13)\">\n      <use xlink:href=\"#DejaVuSans-58\"/>\n     </g>\n    </g>\n   </g>\n   <g id=\"text_11\">\n    <g clip-path=\"url(#pa139a82432)\">\n     <!-- X -->\n     <g transform=\"translate(275.07648 92.598986)scale(0.13 -0.13)\">\n      <use xlink:href=\"#DejaVuSans-58\"/>\n     </g>\n    </g>\n   </g>\n   <g id=\"text_12\">\n    <g clip-path=\"url(#pa139a82432)\">\n     <!-- X -->\n     <g transform=\"translate(365.978479 92.598986)scale(0.13 -0.13)\">\n      <use xlink:href=\"#DejaVuSans-58\"/>\n     </g>\n    </g>\n   </g>\n   <g id=\"text_13\">\n    <g clip-path=\"url(#pa139a82432)\">\n     <!-- X -->\n     <g transform=\"translate(365.978479 47.147987)scale(0.13 -0.13)\">\n      <use xlink:href=\"#DejaVuSans-58\"/>\n     </g>\n    </g>\n   </g>\n   <g id=\"text_14\">\n    <g clip-path=\"url(#pa139a82432)\">\n     <!-- X -->\n     <g transform=\"translate(456.880478 47.147987)scale(0.13 -0.13)\">\n      <use xlink:href=\"#DejaVuSans-58\"/>\n     </g>\n    </g>\n   </g>\n   <g id=\"text_15\">\n    <g clip-path=\"url(#pa139a82432)\">\n     <!-- X -->\n     <g transform=\"translate(547.782477 47.147987)scale(0.13 -0.13)\">\n      <use xlink:href=\"#DejaVuSans-58\"/>\n     </g>\n    </g>\n   </g>\n   <g id=\"text_16\">\n    <g clip-path=\"url(#pa139a82432)\">\n     <!-- X -->\n     <g transform=\"translate(638.684476 47.147987)scale(0.13 -0.13)\">\n      <use xlink:href=\"#DejaVuSans-58\"/>\n     </g>\n    </g>\n   </g>\n  </g>\n </g>\n <defs>\n  <clipPath id=\"pa139a82432\">\n   <rect x=\"7.2\" y=\"7.2\" width=\"711.385635\" height=\"154.533398\"/>\n  </clipPath>\n </defs>\n</svg>\n",
      "text/plain": [
       "<Figure size 942.233x204.68 with 1 Axes>"
      ]
     },
     "execution_count": 8,
     "metadata": {},
     "output_type": "execute_result"
    }
   ],
   "source": [
    "#\n",
    "# Apply the Oracle for |w⟩=|10⟩ : (Uncomment the below)\n",
    "#\n",
    "groverCircuit.cz(qr[0],qr[1])\n",
    "\n",
    "# Debug:\n",
    "groverCircuit.draw(output=\"mpl\")"
   ]
  },
  {
   "cell_type": "markdown",
   "metadata": {},
   "source": [
    "### Finish the Circuit and Display"
   ]
  },
  {
   "cell_type": "code",
   "execution_count": 9,
   "metadata": {},
   "outputs": [
    {
     "data": {
      "image/svg+xml": "<?xml version=\"1.0\" encoding=\"utf-8\" standalone=\"no\"?>\n<!DOCTYPE svg PUBLIC \"-//W3C//DTD SVG 1.1//EN\"\n  \"http://www.w3.org/Graphics/SVG/1.1/DTD/svg11.dtd\">\n<svg xmlns:xlink=\"http://www.w3.org/1999/xlink\" width=\"907.589632pt\" height=\"168.933398pt\" viewBox=\"0 0 907.589632 168.933398\" xmlns=\"http://www.w3.org/2000/svg\" version=\"1.1\">\n <metadata>\n  <rdf:RDF xmlns:dc=\"http://purl.org/dc/elements/1.1/\" xmlns:cc=\"http://creativecommons.org/ns#\" xmlns:rdf=\"http://www.w3.org/1999/02/22-rdf-syntax-ns#\">\n   <cc:Work>\n    <dc:type rdf:resource=\"http://purl.org/dc/dcmitype/StillImage\"/>\n    <dc:date>2022-01-26T14:37:10.718907</dc:date>\n    <dc:format>image/svg+xml</dc:format>\n    <dc:creator>\n     <cc:Agent>\n      <dc:title>Matplotlib v3.5.1, https://matplotlib.org/</dc:title>\n     </cc:Agent>\n    </dc:creator>\n   </cc:Work>\n  </rdf:RDF>\n </metadata>\n <defs>\n  <style type=\"text/css\">*{stroke-linejoin: round; stroke-linecap: butt}</style>\n </defs>\n <g id=\"figure_1\">\n  <g id=\"patch_1\">\n   <path d=\"M 0 168.933398 \nL 907.589632 168.933398 \nL 907.589632 0 \nL 0 0 \nz\n\" style=\"fill: #ffffff\"/>\n  </g>\n  <g id=\"axes_1\">\n   <g id=\"line2d_1\">\n    <path d=\"M 73.181443 43.5608 \nL 895.844532 43.5608 \n\" clip-path=\"url(#p68dbd19631)\" style=\"fill: none; stroke: #000000; stroke-width: 2; stroke-linecap: square\"/>\n   </g>\n   <g id=\"line2d_2\">\n    <path d=\"M 73.181443 89.011799 \nL 895.844532 89.011799 \n\" clip-path=\"url(#p68dbd19631)\" style=\"fill: none; stroke: #000000; stroke-width: 2; stroke-linecap: square\"/>\n   </g>\n   <g id=\"line2d_3\">\n    <path d=\"M 73.181443 132.985641 \nL 895.844532 132.985641 \n\" clip-path=\"url(#p68dbd19631)\" style=\"fill: none; stroke: #778899; stroke-width: 2; stroke-linecap: square\"/>\n   </g>\n   <g id=\"line2d_4\">\n    <path d=\"M 73.181443 135.939956 \nL 895.844532 135.939956 \n\" clip-path=\"url(#p68dbd19631)\" style=\"fill: none; stroke: #778899; stroke-width: 2; stroke-linecap: square\"/>\n   </g>\n   <g id=\"line2d_5\">\n    <path d=\"M 82.271643 139.007898 \nL 86.816743 129.917698 \n\" clip-path=\"url(#p68dbd19631)\" style=\"fill: none; stroke: #778899; stroke-width: 1.5; stroke-linecap: square\"/>\n   </g>\n   <g id=\"line2d_6\">\n    <path d=\"M 188.626982 89.011799 \nL 188.626982 43.5608 \n\" clip-path=\"url(#p68dbd19631)\" style=\"fill: none; stroke: #6fa4ff; stroke-width: 2; stroke-linecap: square\"/>\n   </g>\n   <g id=\"line2d_7\">\n    <path d=\"M 324.97998 89.011799 \nL 324.97998 43.5608 \n\" clip-path=\"url(#p68dbd19631)\" style=\"fill: none; stroke: #6fa4ff; stroke-width: 2; stroke-linecap: square\"/>\n   </g>\n   <g id=\"line2d_8\">\n    <path d=\"M 415.881979 89.011799 \nL 415.881979 43.5608 \n\" clip-path=\"url(#p68dbd19631)\" style=\"fill: none; stroke: #6fa4ff; stroke-width: 2; stroke-linecap: square\"/>\n   </g>\n   <g id=\"line2d_9\">\n    <path d=\"M 506.783977 89.011799 \nL 506.783977 43.5608 \n\" clip-path=\"url(#p68dbd19631)\" style=\"fill: none; stroke: #6fa4ff; stroke-width: 2; stroke-linecap: square\"/>\n   </g>\n   <g id=\"line2d_10\">\n    <path d=\"M 597.685976 89.011799 \nL 597.685976 43.5608 \n\" clip-path=\"url(#p68dbd19631)\" style=\"fill: none; stroke: #6fa4ff; stroke-width: 2; stroke-linecap: square\"/>\n   </g>\n   <g id=\"line2d_11\">\n    <path d=\"M 688.587975 89.011799 \nL 688.587975 43.5608 \n\" clip-path=\"url(#p68dbd19631)\" style=\"fill: none; stroke: #6fa4ff; stroke-width: 2; stroke-linecap: square\"/>\n   </g>\n   <g id=\"line2d_12\">\n    <path d=\"M 824.940973 89.011799 \nL 824.940973 43.5608 \n\" clip-path=\"url(#p68dbd19631)\" style=\"fill: none; stroke: #6fa4ff; stroke-width: 2; stroke-linecap: square\"/>\n   </g>\n   <g id=\"line2d_13\">\n    <path d=\"M 188.626982 89.011799 \nL 188.626982 43.5608 \n\" clip-path=\"url(#p68dbd19631)\" style=\"fill: none; stroke: #6fa4ff; stroke-width: 2; stroke-linecap: square\"/>\n   </g>\n   <g id=\"line2d_14\">\n    <path d=\"M 324.97998 89.011799 \nL 324.97998 43.5608 \n\" clip-path=\"url(#p68dbd19631)\" style=\"fill: none; stroke: #6fa4ff; stroke-width: 2; stroke-linecap: square\"/>\n   </g>\n   <g id=\"line2d_15\">\n    <path d=\"M 415.881979 89.011799 \nL 415.881979 43.5608 \n\" clip-path=\"url(#p68dbd19631)\" style=\"fill: none; stroke: #6fa4ff; stroke-width: 2; stroke-linecap: square\"/>\n   </g>\n   <g id=\"line2d_16\">\n    <path d=\"M 506.783977 89.011799 \nL 506.783977 43.5608 \n\" clip-path=\"url(#p68dbd19631)\" style=\"fill: none; stroke: #6fa4ff; stroke-width: 2; stroke-linecap: square\"/>\n   </g>\n   <g id=\"line2d_17\">\n    <path d=\"M 597.685976 89.011799 \nL 597.685976 43.5608 \n\" clip-path=\"url(#p68dbd19631)\" style=\"fill: none; stroke: #6fa4ff; stroke-width: 2; stroke-linecap: square\"/>\n   </g>\n   <g id=\"line2d_18\">\n    <path d=\"M 688.587975 89.011799 \nL 688.587975 43.5608 \n\" clip-path=\"url(#p68dbd19631)\" style=\"fill: none; stroke: #6fa4ff; stroke-width: 2; stroke-linecap: square\"/>\n   </g>\n   <g id=\"line2d_19\">\n    <path d=\"M 824.940973 89.011799 \nL 824.940973 43.5608 \n\" clip-path=\"url(#p68dbd19631)\" style=\"fill: none; stroke: #6fa4ff; stroke-width: 2; stroke-linecap: square\"/>\n   </g>\n   <g id=\"patch_2\">\n    <path d=\"M 82.953408 58.332374 \nL 112.496558 58.332374 \nL 112.496558 28.789225 \nL 82.953408 28.789225 \nz\n\" clip-path=\"url(#p68dbd19631)\" style=\"fill: #6fa4ff; stroke: #6fa4ff; stroke-width: 1.5; stroke-linejoin: miter\"/>\n   </g>\n   <g id=\"patch_3\">\n    <path d=\"M 82.953408 103.783374 \nL 112.496558 103.783374 \nL 112.496558 74.240224 \nL 82.953408 74.240224 \nz\n\" clip-path=\"url(#p68dbd19631)\" style=\"fill: #6fa4ff; stroke: #6fa4ff; stroke-width: 1.5; stroke-linejoin: miter\"/>\n   </g>\n   <g id=\"patch_4\">\n    <path d=\"M 128.404407 58.332374 \nL 157.947557 58.332374 \nL 157.947557 28.789225 \nL 128.404407 28.789225 \nz\n\" clip-path=\"url(#p68dbd19631)\" style=\"fill: #05bab6; stroke: #05bab6; stroke-width: 1.5; stroke-linejoin: miter\"/>\n   </g>\n   <g id=\"patch_5\">\n    <path d=\"M 128.404407 103.783374 \nL 157.947557 103.783374 \nL 157.947557 74.240224 \nL 128.404407 74.240224 \nz\n\" clip-path=\"url(#p68dbd19631)\" style=\"fill: #05bab6; stroke: #05bab6; stroke-width: 1.5; stroke-linejoin: miter\"/>\n   </g>\n   <g id=\"patch_6\">\n    <path d=\"M 188.626982 47.992272 \nC 189.802222 47.992272 190.929485 47.525344 191.760506 46.694324 \nC 192.591526 45.863303 193.058454 44.73604 193.058454 43.5608 \nC 193.058454 42.385559 192.591526 41.258296 191.760506 40.427275 \nC 190.929485 39.596255 189.802222 39.129327 188.626982 39.129327 \nC 187.451741 39.129327 186.324478 39.596255 185.493457 40.427275 \nC 184.662437 41.258296 184.195509 42.385559 184.195509 43.5608 \nC 184.195509 44.73604 184.662437 45.863303 185.493457 46.694324 \nC 186.324478 47.525344 187.451741 47.992272 188.626982 47.992272 \nz\n\" clip-path=\"url(#p68dbd19631)\" style=\"fill: #6fa4ff; stroke: #6fa4ff; stroke-width: 1.5; stroke-linejoin: miter\"/>\n   </g>\n   <g id=\"patch_7\">\n    <path d=\"M 188.626982 93.443271 \nC 189.802222 93.443271 190.929485 92.976343 191.760506 92.145323 \nC 192.591526 91.314303 193.058454 90.187039 193.058454 89.011799 \nC 193.058454 87.836559 192.591526 86.709295 191.760506 85.878275 \nC 190.929485 85.047254 189.802222 84.580326 188.626982 84.580326 \nC 187.451741 84.580326 186.324478 85.047254 185.493457 85.878275 \nC 184.662437 86.709295 184.195509 87.836559 184.195509 89.011799 \nC 184.195509 90.187039 184.662437 91.314303 185.493457 92.145323 \nC 186.324478 92.976343 187.451741 93.443271 188.626982 93.443271 \nz\n\" clip-path=\"url(#p68dbd19631)\" style=\"fill: #6fa4ff; stroke: #6fa4ff; stroke-width: 1.5; stroke-linejoin: miter\"/>\n   </g>\n   <g id=\"patch_8\">\n    <path d=\"M 219.306406 58.332374 \nL 248.849556 58.332374 \nL 248.849556 28.789225 \nL 219.306406 28.789225 \nz\n\" clip-path=\"url(#p68dbd19631)\" style=\"fill: #05bab6; stroke: #05bab6; stroke-width: 1.5; stroke-linejoin: miter\"/>\n   </g>\n   <g id=\"patch_9\">\n    <path d=\"M 219.306406 103.783374 \nL 248.849556 103.783374 \nL 248.849556 74.240224 \nL 219.306406 74.240224 \nz\n\" clip-path=\"url(#p68dbd19631)\" style=\"fill: #05bab6; stroke: #05bab6; stroke-width: 1.5; stroke-linejoin: miter\"/>\n   </g>\n   <g id=\"patch_10\">\n    <path d=\"M 264.757406 103.783374 \nL 294.300555 103.783374 \nL 294.300555 74.240224 \nL 264.757406 74.240224 \nz\n\" clip-path=\"url(#p68dbd19631)\" style=\"fill: #05bab6; stroke: #05bab6; stroke-width: 1.5; stroke-linejoin: miter\"/>\n   </g>\n   <g id=\"patch_11\">\n    <path d=\"M 324.97998 47.992272 \nC 326.15522 47.992272 327.282484 47.525344 328.113504 46.694324 \nC 328.944524 45.863303 329.411452 44.73604 329.411452 43.5608 \nC 329.411452 42.385559 328.944524 41.258296 328.113504 40.427275 \nC 327.282484 39.596255 326.15522 39.129327 324.97998 39.129327 \nC 323.80474 39.129327 322.677476 39.596255 321.846456 40.427275 \nC 321.015435 41.258296 320.548507 42.385559 320.548507 43.5608 \nC 320.548507 44.73604 321.015435 45.863303 321.846456 46.694324 \nC 322.677476 47.525344 323.80474 47.992272 324.97998 47.992272 \nz\n\" clip-path=\"url(#p68dbd19631)\" style=\"fill: #6fa4ff; stroke: #6fa4ff; stroke-width: 1.5; stroke-linejoin: miter\"/>\n   </g>\n   <g id=\"patch_12\">\n    <path d=\"M 324.97998 93.443271 \nC 326.15522 93.443271 327.282484 92.976343 328.113504 92.145323 \nC 328.944524 91.314303 329.411452 90.187039 329.411452 89.011799 \nC 329.411452 87.836559 328.944524 86.709295 328.113504 85.878275 \nC 327.282484 85.047254 326.15522 84.580326 324.97998 84.580326 \nC 323.80474 84.580326 322.677476 85.047254 321.846456 85.878275 \nC 321.015435 86.709295 320.548507 87.836559 320.548507 89.011799 \nC 320.548507 90.187039 321.015435 91.314303 321.846456 92.145323 \nC 322.677476 92.976343 323.80474 93.443271 324.97998 93.443271 \nz\n\" clip-path=\"url(#p68dbd19631)\" style=\"fill: #6fa4ff; stroke: #6fa4ff; stroke-width: 1.5; stroke-linejoin: miter\"/>\n   </g>\n   <g id=\"patch_13\">\n    <path d=\"M 355.659404 103.783374 \nL 385.202554 103.783374 \nL 385.202554 74.240224 \nL 355.659404 74.240224 \nz\n\" clip-path=\"url(#p68dbd19631)\" style=\"fill: #05bab6; stroke: #05bab6; stroke-width: 1.5; stroke-linejoin: miter\"/>\n   </g>\n   <g id=\"patch_14\">\n    <path d=\"M 355.659404 58.332374 \nL 385.202554 58.332374 \nL 385.202554 28.789225 \nL 355.659404 28.789225 \nz\n\" clip-path=\"url(#p68dbd19631)\" style=\"fill: #05bab6; stroke: #05bab6; stroke-width: 1.5; stroke-linejoin: miter\"/>\n   </g>\n   <g id=\"patch_15\">\n    <path d=\"M 415.881979 47.992272 \nC 417.057219 47.992272 418.184482 47.525344 419.015503 46.694324 \nC 419.846523 45.863303 420.313451 44.73604 420.313451 43.5608 \nC 420.313451 42.385559 419.846523 41.258296 419.015503 40.427275 \nC 418.184482 39.596255 417.057219 39.129327 415.881979 39.129327 \nC 414.706738 39.129327 413.579475 39.596255 412.748454 40.427275 \nC 411.917434 41.258296 411.450506 42.385559 411.450506 43.5608 \nC 411.450506 44.73604 411.917434 45.863303 412.748454 46.694324 \nC 413.579475 47.525344 414.706738 47.992272 415.881979 47.992272 \nz\n\" clip-path=\"url(#p68dbd19631)\" style=\"fill: #6fa4ff; stroke: #6fa4ff; stroke-width: 1.5; stroke-linejoin: miter\"/>\n   </g>\n   <g id=\"patch_16\">\n    <path d=\"M 415.881979 93.443271 \nC 417.057219 93.443271 418.184482 92.976343 419.015503 92.145323 \nC 419.846523 91.314303 420.313451 90.187039 420.313451 89.011799 \nC 420.313451 87.836559 419.846523 86.709295 419.015503 85.878275 \nC 418.184482 85.047254 417.057219 84.580326 415.881979 84.580326 \nC 414.706738 84.580326 413.579475 85.047254 412.748454 85.878275 \nC 411.917434 86.709295 411.450506 87.836559 411.450506 89.011799 \nC 411.450506 90.187039 411.917434 91.314303 412.748454 92.145323 \nC 413.579475 92.976343 414.706738 93.443271 415.881979 93.443271 \nz\n\" clip-path=\"url(#p68dbd19631)\" style=\"fill: #6fa4ff; stroke: #6fa4ff; stroke-width: 1.5; stroke-linejoin: miter\"/>\n   </g>\n   <g id=\"patch_17\">\n    <path d=\"M 446.561403 58.332374 \nL 476.104553 58.332374 \nL 476.104553 28.789225 \nL 446.561403 28.789225 \nz\n\" clip-path=\"url(#p68dbd19631)\" style=\"fill: #05bab6; stroke: #05bab6; stroke-width: 1.5; stroke-linejoin: miter\"/>\n   </g>\n   <g id=\"patch_18\">\n    <path d=\"M 506.783977 47.992272 \nC 507.959218 47.992272 509.086481 47.525344 509.917502 46.694324 \nC 510.748522 45.863303 511.21545 44.73604 511.21545 43.5608 \nC 511.21545 42.385559 510.748522 41.258296 509.917502 40.427275 \nC 509.086481 39.596255 507.959218 39.129327 506.783977 39.129327 \nC 505.608737 39.129327 504.481473 39.596255 503.650453 40.427275 \nC 502.819433 41.258296 502.352505 42.385559 502.352505 43.5608 \nC 502.352505 44.73604 502.819433 45.863303 503.650453 46.694324 \nC 504.481473 47.525344 505.608737 47.992272 506.783977 47.992272 \nz\n\" clip-path=\"url(#p68dbd19631)\" style=\"fill: #6fa4ff; stroke: #6fa4ff; stroke-width: 1.5; stroke-linejoin: miter\"/>\n   </g>\n   <g id=\"patch_19\">\n    <path d=\"M 506.783977 93.443271 \nC 507.959218 93.443271 509.086481 92.976343 509.917502 92.145323 \nC 510.748522 91.314303 511.21545 90.187039 511.21545 89.011799 \nC 511.21545 87.836559 510.748522 86.709295 509.917502 85.878275 \nC 509.086481 85.047254 507.959218 84.580326 506.783977 84.580326 \nC 505.608737 84.580326 504.481473 85.047254 503.650453 85.878275 \nC 502.819433 86.709295 502.352505 87.836559 502.352505 89.011799 \nC 502.352505 90.187039 502.819433 91.314303 503.650453 92.145323 \nC 504.481473 92.976343 505.608737 93.443271 506.783977 93.443271 \nz\n\" clip-path=\"url(#p68dbd19631)\" style=\"fill: #6fa4ff; stroke: #6fa4ff; stroke-width: 1.5; stroke-linejoin: miter\"/>\n   </g>\n   <g id=\"patch_20\">\n    <path d=\"M 537.463402 58.332374 \nL 567.006552 58.332374 \nL 567.006552 28.789225 \nL 537.463402 28.789225 \nz\n\" clip-path=\"url(#p68dbd19631)\" style=\"fill: #05bab6; stroke: #05bab6; stroke-width: 1.5; stroke-linejoin: miter\"/>\n   </g>\n   <g id=\"patch_21\">\n    <path d=\"M 597.685976 47.992272 \nC 598.861216 47.992272 599.98848 47.525344 600.8195 46.694324 \nC 601.650521 45.863303 602.117449 44.73604 602.117449 43.5608 \nC 602.117449 42.385559 601.650521 41.258296 600.8195 40.427275 \nC 599.98848 39.596255 598.861216 39.129327 597.685976 39.129327 \nC 596.510736 39.129327 595.383472 39.596255 594.552452 40.427275 \nC 593.721432 41.258296 593.254504 42.385559 593.254504 43.5608 \nC 593.254504 44.73604 593.721432 45.863303 594.552452 46.694324 \nC 595.383472 47.525344 596.510736 47.992272 597.685976 47.992272 \nz\n\" clip-path=\"url(#p68dbd19631)\" style=\"fill: #6fa4ff; stroke: #6fa4ff; stroke-width: 1.5; stroke-linejoin: miter\"/>\n   </g>\n   <g id=\"patch_22\">\n    <path d=\"M 597.685976 93.443271 \nC 598.861216 93.443271 599.98848 92.976343 600.8195 92.145323 \nC 601.650521 91.314303 602.117449 90.187039 602.117449 89.011799 \nC 602.117449 87.836559 601.650521 86.709295 600.8195 85.878275 \nC 599.98848 85.047254 598.861216 84.580326 597.685976 84.580326 \nC 596.510736 84.580326 595.383472 85.047254 594.552452 85.878275 \nC 593.721432 86.709295 593.254504 87.836559 593.254504 89.011799 \nC 593.254504 90.187039 593.721432 91.314303 594.552452 92.145323 \nC 595.383472 92.976343 596.510736 93.443271 597.685976 93.443271 \nz\n\" clip-path=\"url(#p68dbd19631)\" style=\"fill: #6fa4ff; stroke: #6fa4ff; stroke-width: 1.5; stroke-linejoin: miter\"/>\n   </g>\n   <g id=\"patch_23\">\n    <path d=\"M 628.365401 58.332374 \nL 657.90855 58.332374 \nL 657.90855 28.789225 \nL 628.365401 28.789225 \nz\n\" clip-path=\"url(#p68dbd19631)\" style=\"fill: #05bab6; stroke: #05bab6; stroke-width: 1.5; stroke-linejoin: miter\"/>\n   </g>\n   <g id=\"patch_24\">\n    <path d=\"M 688.587975 47.992272 \nC 689.763215 47.992272 690.890479 47.525344 691.721499 46.694324 \nC 692.552519 45.863303 693.019447 44.73604 693.019447 43.5608 \nC 693.019447 42.385559 692.552519 41.258296 691.721499 40.427275 \nC 690.890479 39.596255 689.763215 39.129327 688.587975 39.129327 \nC 687.412735 39.129327 686.285471 39.596255 685.454451 40.427275 \nC 684.62343 41.258296 684.156502 42.385559 684.156502 43.5608 \nC 684.156502 44.73604 684.62343 45.863303 685.454451 46.694324 \nC 686.285471 47.525344 687.412735 47.992272 688.587975 47.992272 \nz\n\" clip-path=\"url(#p68dbd19631)\" style=\"fill: #6fa4ff; stroke: #6fa4ff; stroke-width: 1.5; stroke-linejoin: miter\"/>\n   </g>\n   <g id=\"patch_25\">\n    <path d=\"M 688.587975 93.443271 \nC 689.763215 93.443271 690.890479 92.976343 691.721499 92.145323 \nC 692.552519 91.314303 693.019447 90.187039 693.019447 89.011799 \nC 693.019447 87.836559 692.552519 86.709295 691.721499 85.878275 \nC 690.890479 85.047254 689.763215 84.580326 688.587975 84.580326 \nC 687.412735 84.580326 686.285471 85.047254 685.454451 85.878275 \nC 684.62343 86.709295 684.156502 87.836559 684.156502 89.011799 \nC 684.156502 90.187039 684.62343 91.314303 685.454451 92.145323 \nC 686.285471 92.976343 687.412735 93.443271 688.587975 93.443271 \nz\n\" clip-path=\"url(#p68dbd19631)\" style=\"fill: #6fa4ff; stroke: #6fa4ff; stroke-width: 1.5; stroke-linejoin: miter\"/>\n   </g>\n   <g id=\"patch_26\">\n    <path d=\"M 719.267399 58.332374 \nL 748.810549 58.332374 \nL 748.810549 28.789225 \nL 719.267399 28.789225 \nz\n\" clip-path=\"url(#p68dbd19631)\" style=\"fill: #6fa4ff; stroke: #6fa4ff; stroke-width: 1.5; stroke-linejoin: miter\"/>\n   </g>\n   <g id=\"patch_27\">\n    <path d=\"M 719.267399 103.783374 \nL 748.810549 103.783374 \nL 748.810549 74.240224 \nL 719.267399 74.240224 \nz\n\" clip-path=\"url(#p68dbd19631)\" style=\"fill: #6fa4ff; stroke: #6fa4ff; stroke-width: 1.5; stroke-linejoin: miter\"/>\n   </g>\n   <g id=\"patch_28\">\n    <path d=\"M 764.718399 58.332374 \nL 794.261548 58.332374 \nL 794.261548 28.789225 \nL 764.718399 28.789225 \nz\n\" clip-path=\"url(#p68dbd19631)\" style=\"fill: #05bab6; stroke: #05bab6; stroke-width: 1.5; stroke-linejoin: miter\"/>\n   </g>\n   <g id=\"patch_29\">\n    <path d=\"M 764.718399 103.783374 \nL 794.261548 103.783374 \nL 794.261548 74.240224 \nL 764.718399 74.240224 \nz\n\" clip-path=\"url(#p68dbd19631)\" style=\"fill: #05bab6; stroke: #05bab6; stroke-width: 1.5; stroke-linejoin: miter\"/>\n   </g>\n   <g id=\"patch_30\">\n    <path d=\"M 824.940973 47.992272 \nC 826.116213 47.992272 827.243477 47.525344 828.074497 46.694324 \nC 828.905518 45.863303 829.372446 44.73604 829.372446 43.5608 \nC 829.372446 42.385559 828.905518 41.258296 828.074497 40.427275 \nC 827.243477 39.596255 826.116213 39.129327 824.940973 39.129327 \nC 823.765733 39.129327 822.638469 39.596255 821.807449 40.427275 \nC 820.976429 41.258296 820.509501 42.385559 820.509501 43.5608 \nC 820.509501 44.73604 820.976429 45.863303 821.807449 46.694324 \nC 822.638469 47.525344 823.765733 47.992272 824.940973 47.992272 \nz\n\" clip-path=\"url(#p68dbd19631)\" style=\"fill: #6fa4ff; stroke: #6fa4ff; stroke-width: 1.5; stroke-linejoin: miter\"/>\n   </g>\n   <g id=\"patch_31\">\n    <path d=\"M 824.940973 93.443271 \nC 826.116213 93.443271 827.243477 92.976343 828.074497 92.145323 \nC 828.905518 91.314303 829.372446 90.187039 829.372446 89.011799 \nC 829.372446 87.836559 828.905518 86.709295 828.074497 85.878275 \nC 827.243477 85.047254 826.116213 84.580326 824.940973 84.580326 \nC 823.765733 84.580326 822.638469 85.047254 821.807449 85.878275 \nC 820.976429 86.709295 820.509501 87.836559 820.509501 89.011799 \nC 820.509501 90.187039 820.976429 91.314303 821.807449 92.145323 \nC 822.638469 92.976343 823.765733 93.443271 824.940973 93.443271 \nz\n\" clip-path=\"url(#p68dbd19631)\" style=\"fill: #6fa4ff; stroke: #6fa4ff; stroke-width: 1.5; stroke-linejoin: miter\"/>\n   </g>\n   <g id=\"patch_32\">\n    <path d=\"M 855.620398 58.332374 \nL 885.163547 58.332374 \nL 885.163547 28.789225 \nL 855.620398 28.789225 \nz\n\" clip-path=\"url(#p68dbd19631)\" style=\"fill: #6fa4ff; stroke: #6fa4ff; stroke-width: 1.5; stroke-linejoin: miter\"/>\n   </g>\n   <g id=\"patch_33\">\n    <path d=\"M 855.620398 103.783374 \nL 885.163547 103.783374 \nL 885.163547 74.240224 \nL 855.620398 74.240224 \nz\n\" clip-path=\"url(#p68dbd19631)\" style=\"fill: #6fa4ff; stroke: #6fa4ff; stroke-width: 1.5; stroke-linejoin: miter\"/>\n   </g>\n   <g id=\"text_1\">\n    <g clip-path=\"url(#p68dbd19631)\">\n     <!-- ${q0}_{0}$ -->\n     <g transform=\"translate(35.491243 48.011776)scale(0.1625 -0.1625)\">\n      <defs>\n       <path id=\"DejaVuSans-Oblique-71\" d=\"M 2669 525 \nQ 2438 222 2123 65 \nQ 1809 -91 1428 -91 \nQ 897 -91 595 267 \nQ 294 625 294 1253 \nQ 294 1759 480 2231 \nQ 666 2703 1013 3078 \nQ 1238 3322 1530 3453 \nQ 1822 3584 2144 3584 \nQ 2531 3584 2781 3431 \nQ 3031 3278 3144 2969 \nL 3244 3494 \nL 3822 3494 \nL 2888 -1319 \nL 2309 -1319 \nL 2669 525 \nz\nM 891 1338 \nQ 891 875 1084 633 \nQ 1278 391 1644 391 \nQ 2188 391 2572 911 \nQ 2956 1431 2956 2175 \nQ 2956 2625 2757 2864 \nQ 2559 3103 2188 3103 \nQ 1916 3103 1684 2976 \nQ 1453 2850 1281 2606 \nQ 1100 2350 995 2006 \nQ 891 1663 891 1338 \nz\n\" transform=\"scale(0.015625)\"/>\n       <path id=\"DejaVuSans-30\" d=\"M 2034 4250 \nQ 1547 4250 1301 3770 \nQ 1056 3291 1056 2328 \nQ 1056 1369 1301 889 \nQ 1547 409 2034 409 \nQ 2525 409 2770 889 \nQ 3016 1369 3016 2328 \nQ 3016 3291 2770 3770 \nQ 2525 4250 2034 4250 \nz\nM 2034 4750 \nQ 2819 4750 3233 4129 \nQ 3647 3509 3647 2328 \nQ 3647 1150 3233 529 \nQ 2819 -91 2034 -91 \nQ 1250 -91 836 529 \nQ 422 1150 422 2328 \nQ 422 3509 836 4129 \nQ 1250 4750 2034 4750 \nz\n\" transform=\"scale(0.015625)\"/>\n      </defs>\n      <use xlink:href=\"#DejaVuSans-Oblique-71\" transform=\"translate(0 0.78125)\"/>\n      <use xlink:href=\"#DejaVuSans-30\" transform=\"translate(63.476562 0.78125)\"/>\n      <use xlink:href=\"#DejaVuSans-30\" transform=\"translate(128.056641 -15.625)scale(0.7)\"/>\n     </g>\n    </g>\n   </g>\n   <g id=\"text_2\">\n    <g clip-path=\"url(#p68dbd19631)\">\n     <!-- ${q0}_{1}$ -->\n     <g transform=\"translate(35.491243 93.462775)scale(0.1625 -0.1625)\">\n      <defs>\n       <path id=\"DejaVuSans-31\" d=\"M 794 531 \nL 1825 531 \nL 1825 4091 \nL 703 3866 \nL 703 4441 \nL 1819 4666 \nL 2450 4666 \nL 2450 531 \nL 3481 531 \nL 3481 0 \nL 794 0 \nL 794 531 \nz\n\" transform=\"scale(0.015625)\"/>\n      </defs>\n      <use xlink:href=\"#DejaVuSans-Oblique-71\" transform=\"translate(0 0.78125)\"/>\n      <use xlink:href=\"#DejaVuSans-30\" transform=\"translate(63.476562 0.78125)\"/>\n      <use xlink:href=\"#DejaVuSans-31\" transform=\"translate(128.056641 -15.625)scale(0.7)\"/>\n     </g>\n    </g>\n   </g>\n   <g id=\"text_3\">\n    <g clip-path=\"url(#p68dbd19631)\">\n     <!-- 2 -->\n     <g transform=\"translate(77.726543 127.754823)scale(0.104 -0.104)\">\n      <defs>\n       <path id=\"DejaVuSans-32\" d=\"M 1228 531 \nL 3431 531 \nL 3431 0 \nL 469 0 \nL 469 531 \nQ 828 903 1448 1529 \nQ 2069 2156 2228 2338 \nQ 2531 2678 2651 2914 \nQ 2772 3150 2772 3378 \nQ 2772 3750 2511 3984 \nQ 2250 4219 1831 4219 \nQ 1534 4219 1204 4116 \nQ 875 4013 500 3803 \nL 500 4441 \nQ 881 4594 1212 4672 \nQ 1544 4750 1819 4750 \nQ 2544 4750 2975 4387 \nQ 3406 4025 3406 3419 \nQ 3406 3131 3298 2873 \nQ 3191 2616 2906 2266 \nQ 2828 2175 2409 1742 \nQ 1991 1309 1228 531 \nz\n\" transform=\"scale(0.015625)\"/>\n      </defs>\n      <use xlink:href=\"#DejaVuSans-32\"/>\n     </g>\n    </g>\n   </g>\n   <g id=\"text_4\">\n    <g clip-path=\"url(#p68dbd19631)\">\n     <!-- c0 -->\n     <g transform=\"translate(44.81722 138.946783)scale(0.1625 -0.1625)\">\n      <defs>\n       <path id=\"DejaVuSans-63\" d=\"M 3122 3366 \nL 3122 2828 \nQ 2878 2963 2633 3030 \nQ 2388 3097 2138 3097 \nQ 1578 3097 1268 2742 \nQ 959 2388 959 1747 \nQ 959 1106 1268 751 \nQ 1578 397 2138 397 \nQ 2388 397 2633 464 \nQ 2878 531 3122 666 \nL 3122 134 \nQ 2881 22 2623 -34 \nQ 2366 -91 2075 -91 \nQ 1284 -91 818 406 \nQ 353 903 353 1747 \nQ 353 2603 823 3093 \nQ 1294 3584 2113 3584 \nQ 2378 3584 2631 3529 \nQ 2884 3475 3122 3366 \nz\n\" transform=\"scale(0.015625)\"/>\n      </defs>\n      <use xlink:href=\"#DejaVuSans-63\"/>\n      <use xlink:href=\"#DejaVuSans-30\" x=\"54.980469\"/>\n     </g>\n    </g>\n   </g>\n   <g id=\"text_5\">\n    <g clip-path=\"url(#p68dbd19631)\">\n     <!-- H -->\n     <g transform=\"translate(92.83678 47.147987)scale(0.13 -0.13)\">\n      <defs>\n       <path id=\"DejaVuSans-48\" d=\"M 628 4666 \nL 1259 4666 \nL 1259 2753 \nL 3553 2753 \nL 3553 4666 \nL 4184 4666 \nL 4184 0 \nL 3553 0 \nL 3553 2222 \nL 1259 2222 \nL 1259 0 \nL 628 0 \nL 628 4666 \nz\n\" transform=\"scale(0.015625)\"/>\n      </defs>\n      <use xlink:href=\"#DejaVuSans-48\"/>\n     </g>\n    </g>\n   </g>\n   <g id=\"text_6\">\n    <g clip-path=\"url(#p68dbd19631)\">\n     <!-- H -->\n     <g transform=\"translate(92.83678 92.598986)scale(0.13 -0.13)\">\n      <use xlink:href=\"#DejaVuSans-48\"/>\n     </g>\n    </g>\n   </g>\n   <g id=\"text_7\">\n    <g clip-path=\"url(#p68dbd19631)\">\n     <!-- X -->\n     <g transform=\"translate(138.723482 47.147987)scale(0.13 -0.13)\">\n      <defs>\n       <path id=\"DejaVuSans-58\" d=\"M 403 4666 \nL 1081 4666 \nL 2241 2931 \nL 3406 4666 \nL 4084 4666 \nL 2584 2425 \nL 4184 0 \nL 3506 0 \nL 2194 1984 \nL 872 0 \nL 191 0 \nL 1856 2491 \nL 403 4666 \nz\n\" transform=\"scale(0.015625)\"/>\n      </defs>\n      <use xlink:href=\"#DejaVuSans-58\"/>\n     </g>\n    </g>\n   </g>\n   <g id=\"text_8\">\n    <g clip-path=\"url(#p68dbd19631)\">\n     <!-- X -->\n     <g transform=\"translate(138.723482 92.598986)scale(0.13 -0.13)\">\n      <use xlink:href=\"#DejaVuSans-58\"/>\n     </g>\n    </g>\n   </g>\n   <g id=\"text_9\">\n    <g clip-path=\"url(#p68dbd19631)\">\n     <!-- X -->\n     <g transform=\"translate(229.625481 47.147987)scale(0.13 -0.13)\">\n      <use xlink:href=\"#DejaVuSans-58\"/>\n     </g>\n    </g>\n   </g>\n   <g id=\"text_10\">\n    <g clip-path=\"url(#p68dbd19631)\">\n     <!-- X -->\n     <g transform=\"translate(229.625481 92.598986)scale(0.13 -0.13)\">\n      <use xlink:href=\"#DejaVuSans-58\"/>\n     </g>\n    </g>\n   </g>\n   <g id=\"text_11\">\n    <g clip-path=\"url(#p68dbd19631)\">\n     <!-- X -->\n     <g transform=\"translate(275.07648 92.598986)scale(0.13 -0.13)\">\n      <use xlink:href=\"#DejaVuSans-58\"/>\n     </g>\n    </g>\n   </g>\n   <g id=\"text_12\">\n    <g clip-path=\"url(#p68dbd19631)\">\n     <!-- X -->\n     <g transform=\"translate(365.978479 92.598986)scale(0.13 -0.13)\">\n      <use xlink:href=\"#DejaVuSans-58\"/>\n     </g>\n    </g>\n   </g>\n   <g id=\"text_13\">\n    <g clip-path=\"url(#p68dbd19631)\">\n     <!-- X -->\n     <g transform=\"translate(365.978479 47.147987)scale(0.13 -0.13)\">\n      <use xlink:href=\"#DejaVuSans-58\"/>\n     </g>\n    </g>\n   </g>\n   <g id=\"text_14\">\n    <g clip-path=\"url(#p68dbd19631)\">\n     <!-- X -->\n     <g transform=\"translate(456.880478 47.147987)scale(0.13 -0.13)\">\n      <use xlink:href=\"#DejaVuSans-58\"/>\n     </g>\n    </g>\n   </g>\n   <g id=\"text_15\">\n    <g clip-path=\"url(#p68dbd19631)\">\n     <!-- X -->\n     <g transform=\"translate(547.782477 47.147987)scale(0.13 -0.13)\">\n      <use xlink:href=\"#DejaVuSans-58\"/>\n     </g>\n    </g>\n   </g>\n   <g id=\"text_16\">\n    <g clip-path=\"url(#p68dbd19631)\">\n     <!-- X -->\n     <g transform=\"translate(638.684476 47.147987)scale(0.13 -0.13)\">\n      <use xlink:href=\"#DejaVuSans-58\"/>\n     </g>\n    </g>\n   </g>\n   <g id=\"text_17\">\n    <g clip-path=\"url(#p68dbd19631)\">\n     <!-- H -->\n     <g transform=\"translate(729.150771 47.147987)scale(0.13 -0.13)\">\n      <use xlink:href=\"#DejaVuSans-48\"/>\n     </g>\n    </g>\n   </g>\n   <g id=\"text_18\">\n    <g clip-path=\"url(#p68dbd19631)\">\n     <!-- H -->\n     <g transform=\"translate(729.150771 92.598986)scale(0.13 -0.13)\">\n      <use xlink:href=\"#DejaVuSans-48\"/>\n     </g>\n    </g>\n   </g>\n   <g id=\"text_19\">\n    <g clip-path=\"url(#p68dbd19631)\">\n     <!-- Z -->\n     <g transform=\"translate(775.037474 47.147987)scale(0.13 -0.13)\">\n      <defs>\n       <path id=\"DejaVuSans-5a\" d=\"M 359 4666 \nL 4025 4666 \nL 4025 4184 \nL 1075 531 \nL 4097 531 \nL 4097 0 \nL 288 0 \nL 288 481 \nL 3238 4134 \nL 359 4134 \nL 359 4666 \nz\n\" transform=\"scale(0.015625)\"/>\n      </defs>\n      <use xlink:href=\"#DejaVuSans-5a\"/>\n     </g>\n    </g>\n   </g>\n   <g id=\"text_20\">\n    <g clip-path=\"url(#p68dbd19631)\">\n     <!-- Z -->\n     <g transform=\"translate(775.037474 92.598986)scale(0.13 -0.13)\">\n      <use xlink:href=\"#DejaVuSans-5a\"/>\n     </g>\n    </g>\n   </g>\n   <g id=\"text_21\">\n    <g clip-path=\"url(#p68dbd19631)\">\n     <!-- H -->\n     <g transform=\"translate(865.503769 47.147987)scale(0.13 -0.13)\">\n      <use xlink:href=\"#DejaVuSans-48\"/>\n     </g>\n    </g>\n   </g>\n   <g id=\"text_22\">\n    <g clip-path=\"url(#p68dbd19631)\">\n     <!-- H -->\n     <g transform=\"translate(865.503769 92.598986)scale(0.13 -0.13)\">\n      <use xlink:href=\"#DejaVuSans-48\"/>\n     </g>\n    </g>\n   </g>\n  </g>\n </g>\n <defs>\n  <clipPath id=\"p68dbd19631\">\n   <rect x=\"7.2\" y=\"7.2\" width=\"893.189632\" height=\"154.533398\"/>\n  </clipPath>\n </defs>\n</svg>\n",
      "text/plain": [
       "<Figure size 1183.03x204.68 with 1 Axes>"
      ]
     },
     "execution_count": 9,
     "metadata": {},
     "output_type": "execute_result"
    }
   ],
   "source": [
    "\n",
    "# Apply H to both Qubits:\n",
    "groverCircuit.h(qr)\n",
    "\n",
    "\n",
    "# Apply the reflection Us :\n",
    "groverCircuit.z(qr)\n",
    "groverCircuit.cz(qr[0],qr[1])\n",
    "\n",
    "# Apply the final Hadamard to both qubits:\n",
    "groverCircuit.h(qr)\n",
    "\n",
    "\n",
    "# Draw The Circuit\n",
    "groverCircuit.draw(output=\"mpl\")"
   ]
  },
  {
   "cell_type": "markdown",
   "metadata": {},
   "source": [
    "### Run the circuit in simulation"
   ]
  },
  {
   "cell_type": "code",
   "execution_count": 10,
   "metadata": {},
   "outputs": [
    {
     "name": "stdout",
     "output_type": "stream",
     "text": [
      "Statevector([ 0.5+6.1232340e-17j,  0.5+1.2246468e-16j, -0.5+0.0000000e+00j,\n",
      "             -0.5-6.1232340e-17j],\n",
      "            dims=(2, 2))\n"
     ]
    }
   ],
   "source": [
    "backend_sim = Aer.get_backend('statevector_simulator')\n",
    "job_sim = execute(groverCircuit, backend_sim)\n",
    "statevec = job_sim.result().get_statevector()\n",
    "print(statevec)"
   ]
  },
  {
   "cell_type": "markdown",
   "metadata": {},
   "source": [
    "### Print out normalized statevector"
   ]
  },
  {
   "cell_type": "code",
   "execution_count": 14,
   "metadata": {},
   "outputs": [
    {
     "name": "stdout",
     "output_type": "stream",
     "text": [
      "Normalized Result:  0.0\n",
      "Normalized Result:  0.0\n",
      "Normalized Result:  1.0\n",
      "Normalized Result:  0.0\n"
     ]
    },
    {
     "name": "stderr",
     "output_type": "stream",
     "text": [
      "C:\\Users\\awacke1\\AppData\\Local\\Temp/ipykernel_24676/2446525043.py:18: DeprecationWarning: The return type of saved statevectors has been changed from a `numpy.ndarray` to a `qiskit.quantum_info.Statevector` as of qiskit-aer 0.10. Accessing numpy array attributes is deprecated and will result in an error in a future release. To continue using saved result objects as arrays you can explicitly cast them using  `np.asarray(object)`.\n",
      "  for result in state_vector:\n"
     ]
    }
   ],
   "source": [
    "# Print out normalized statevector  (to gain probabilities)\n",
    "#\n",
    "normalize_state_Vector(statevec)"
   ]
  },
  {
   "cell_type": "markdown",
   "metadata": {},
   "source": [
    "### Print out Circle Notation for intuitions sake"
   ]
  },
  {
   "cell_type": "code",
   "execution_count": 15,
   "metadata": {
    "scrolled": true
   },
   "outputs": [
    {
     "data": {
      "image/svg+xml": "<?xml version=\"1.0\" encoding=\"utf-8\" standalone=\"no\"?>\n<!DOCTYPE svg PUBLIC \"-//W3C//DTD SVG 1.1//EN\"\n  \"http://www.w3.org/Graphics/SVG/1.1/DTD/svg11.dtd\">\n<svg xmlns:xlink=\"http://www.w3.org/1999/xlink\" width=\"460.8pt\" height=\"123.977201pt\" viewBox=\"0 0 460.8 123.977201\" xmlns=\"http://www.w3.org/2000/svg\" version=\"1.1\">\n <metadata>\n  <rdf:RDF xmlns:dc=\"http://purl.org/dc/elements/1.1/\" xmlns:cc=\"http://creativecommons.org/ns#\" xmlns:rdf=\"http://www.w3.org/1999/02/22-rdf-syntax-ns#\">\n   <cc:Work>\n    <dc:type rdf:resource=\"http://purl.org/dc/dcmitype/StillImage\"/>\n    <dc:date>2022-01-24T07:50:01.868103</dc:date>\n    <dc:format>image/svg+xml</dc:format>\n    <dc:creator>\n     <cc:Agent>\n      <dc:title>Matplotlib v3.5.1, https://matplotlib.org/</dc:title>\n     </cc:Agent>\n    </dc:creator>\n   </cc:Work>\n  </rdf:RDF>\n </metadata>\n <defs>\n  <style type=\"text/css\">*{stroke-linejoin: round; stroke-linecap: butt}</style>\n </defs>\n <g id=\"figure_1\">\n  <g id=\"patch_1\">\n   <path d=\"M 0 123.977201 \nL 460.8 123.977201 \nL 460.8 0 \nL 0 0 \nL 0 123.977201 \nz\n\" style=\"fill: none\"/>\n  </g>\n  <g id=\"axes_1\">\n   <g id=\"patch_2\">\n    <path d=\"M 55.721739 55.721739 \nC 55.721739 55.721739 55.721739 55.721739 55.721739 55.721739 \nC 55.721739 55.721739 55.721739 55.721739 55.721739 55.721739 \nC 55.721739 55.721739 55.721739 55.721739 55.721739 55.721739 \nC 55.721739 55.721739 55.721739 55.721739 55.721739 55.721739 \nC 55.721739 55.721739 55.721739 55.721739 55.721739 55.721739 \nC 55.721739 55.721739 55.721739 55.721739 55.721739 55.721739 \nC 55.721739 55.721739 55.721739 55.721739 55.721739 55.721739 \nC 55.721739 55.721739 55.721739 55.721739 55.721739 55.721739 \nz\n\" clip-path=\"url(#p0321c58339)\" style=\"fill: #ff0000; stroke: #ff0000; stroke-linejoin: miter\"/>\n   </g>\n   <g id=\"patch_3\">\n    <path d=\"M 55.721739 94.53913 \nC 66.016232 94.53913 75.890474 90.449085 83.16978 83.16978 \nC 90.449085 75.890474 94.53913 66.016232 94.53913 55.721739 \nC 94.53913 45.427247 90.449085 35.553004 83.16978 28.273699 \nC 75.890474 20.994393 66.016232 16.904348 55.721739 16.904348 \nC 45.427247 16.904348 35.553004 20.994393 28.273699 28.273699 \nC 20.994393 35.553004 16.904348 45.427247 16.904348 55.721739 \nC 16.904348 66.016232 20.994393 75.890474 28.273699 83.16978 \nC 35.553004 90.449085 45.427247 94.53913 55.721739 94.53913 \nL 55.721739 94.53913 \nz\n\" clip-path=\"url(#p0321c58339)\" style=\"fill: none; stroke: #000000; stroke-linejoin: miter\"/>\n   </g>\n   <g id=\"line2d_1\">\n    <path d=\"M 55.721739 55.721739 \nL 55.721739 55.721739 \n\" clip-path=\"url(#p0321c58339)\" style=\"fill: none; stroke: #000000; stroke-width: 1.5; stroke-linecap: square\"/>\n   </g>\n   <g id=\"text_1\">\n    <!-- |0⟩ -->\n    <g transform=\"translate(47.958261 113.947826)scale(0.12 -0.12)\">\n     <defs>\n      <path id=\"DejaVuSerif-Bold-7c\" d=\"M 1497 4891 \nL 1497 -1509 \nL 825 -1509 \nL 825 4891 \nL 1497 4891 \nz\n\" transform=\"scale(0.015625)\"/>\n      <path id=\"DejaVuSerif-Bold-30\" d=\"M 2228 275 \nQ 2603 275 2742 615 \nQ 2881 956 2881 2328 \nQ 2881 3691 2742 4037 \nQ 2603 4384 2228 4384 \nQ 1853 4384 1714 4043 \nQ 1575 3703 1575 2328 \nQ 1575 956 1714 615 \nQ 1853 275 2228 275 \nz\nM 2228 -91 \nQ 1294 -91 797 532 \nQ 300 1156 300 2328 \nQ 300 3500 797 4125 \nQ 1294 4750 2228 4750 \nQ 3159 4750 3656 4125 \nQ 4153 3500 4153 2328 \nQ 4153 1156 3656 532 \nQ 3159 -91 2228 -91 \nz\n\" transform=\"scale(0.015625)\"/>\n      <path id=\"DejaVuSerif-Bold-27e9\" d=\"M 2253 2006 \nL 1363 -844 \nL 513 -844 \nL 1406 2006 \nL 513 4856 \nL 1363 4856 \nL 2253 2006 \nz\n\" transform=\"scale(0.015625)\"/>\n     </defs>\n     <use xlink:href=\"#DejaVuSerif-Bold-7c\"/>\n     <use xlink:href=\"#DejaVuSerif-Bold-30\" x=\"36.376953\"/>\n     <use xlink:href=\"#DejaVuSerif-Bold-27e9\" x=\"105.957031\"/>\n    </g>\n   </g>\n  </g>\n  <g id=\"axes_2\">\n   <g id=\"patch_4\">\n    <path d=\"M 172.173913 55.721739 \nC 172.173913 55.721739 172.173913 55.721739 172.173913 55.721739 \nC 172.173913 55.721739 172.173913 55.721739 172.173913 55.721739 \nC 172.173913 55.721739 172.173913 55.721739 172.173913 55.721739 \nC 172.173913 55.721739 172.173913 55.721739 172.173913 55.721739 \nC 172.173913 55.721739 172.173913 55.721739 172.173913 55.721739 \nC 172.173913 55.721739 172.173913 55.721739 172.173913 55.721739 \nC 172.173913 55.721739 172.173913 55.721739 172.173913 55.721739 \nC 172.173913 55.721739 172.173913 55.721739 172.173913 55.721739 \nz\n\" clip-path=\"url(#pa72580d6ef)\" style=\"fill: #ff0000; stroke: #ff0000; stroke-linejoin: miter\"/>\n   </g>\n   <g id=\"patch_5\">\n    <path d=\"M 172.173913 94.53913 \nC 182.468406 94.53913 192.342648 90.449085 199.621954 83.16978 \nC 206.901259 75.890474 210.991304 66.016232 210.991304 55.721739 \nC 210.991304 45.427247 206.901259 35.553004 199.621954 28.273699 \nC 192.342648 20.994393 182.468406 16.904348 172.173913 16.904348 \nC 161.879421 16.904348 152.005178 20.994393 144.725872 28.273699 \nC 137.446567 35.553004 133.356522 45.427247 133.356522 55.721739 \nC 133.356522 66.016232 137.446567 75.890474 144.725872 83.16978 \nC 152.005178 90.449085 161.879421 94.53913 172.173913 94.53913 \nL 172.173913 94.53913 \nz\n\" clip-path=\"url(#pa72580d6ef)\" style=\"fill: none; stroke: #000000; stroke-linejoin: miter\"/>\n   </g>\n   <g id=\"line2d_2\">\n    <path d=\"M 172.173913 55.721739 \nL 172.173913 55.721739 \n\" clip-path=\"url(#pa72580d6ef)\" style=\"fill: none; stroke: #000000; stroke-width: 1.5; stroke-linecap: square\"/>\n   </g>\n   <g id=\"text_2\">\n    <!-- |1⟩ -->\n    <g transform=\"translate(164.410435 113.947826)scale(0.12 -0.12)\">\n     <defs>\n      <path id=\"DejaVuSerif-Bold-31\" d=\"M 878 0 \nL 878 378 \nL 1753 378 \nL 1753 4153 \nL 781 3578 \nL 781 4044 \nL 1953 4750 \nL 2938 4750 \nL 2938 378 \nL 3816 378 \nL 3816 0 \nL 878 0 \nz\n\" transform=\"scale(0.015625)\"/>\n     </defs>\n     <use xlink:href=\"#DejaVuSerif-Bold-7c\"/>\n     <use xlink:href=\"#DejaVuSerif-Bold-31\" x=\"36.376953\"/>\n     <use xlink:href=\"#DejaVuSerif-Bold-27e9\" x=\"105.957031\"/>\n    </g>\n   </g>\n  </g>\n  <g id=\"axes_3\">\n   <g id=\"patch_6\">\n    <path d=\"M 288.626087 94.53913 \nC 298.920579 94.53913 308.794822 90.449085 316.074128 83.16978 \nC 323.353433 75.890474 327.443478 66.016232 327.443478 55.721739 \nC 327.443478 45.427247 323.353433 35.553004 316.074128 28.273699 \nC 308.794822 20.994393 298.920579 16.904348 288.626087 16.904348 \nC 278.331594 16.904348 268.457352 20.994393 261.178046 28.273699 \nC 253.898741 35.553004 249.808696 45.427247 249.808696 55.721739 \nC 249.808696 66.016232 253.898741 75.890474 261.178046 83.16978 \nC 268.457352 90.449085 278.331594 94.53913 288.626087 94.53913 \nz\n\" clip-path=\"url(#p7e2cfaff34)\" style=\"fill: #ff0000; stroke: #ff0000; stroke-linejoin: miter\"/>\n   </g>\n   <g id=\"patch_7\">\n    <path d=\"M 288.626087 94.53913 \nC 298.920579 94.53913 308.794822 90.449085 316.074128 83.16978 \nC 323.353433 75.890474 327.443478 66.016232 327.443478 55.721739 \nC 327.443478 45.427247 323.353433 35.553004 316.074128 28.273699 \nC 308.794822 20.994393 298.920579 16.904348 288.626087 16.904348 \nC 278.331594 16.904348 268.457352 20.994393 261.178046 28.273699 \nC 253.898741 35.553004 249.808696 45.427247 249.808696 55.721739 \nC 249.808696 66.016232 253.898741 75.890474 261.178046 83.16978 \nC 268.457352 90.449085 278.331594 94.53913 288.626087 94.53913 \nL 288.626087 94.53913 \nz\n\" clip-path=\"url(#p7e2cfaff34)\" style=\"fill: none; stroke: #000000; stroke-linejoin: miter\"/>\n   </g>\n   <g id=\"line2d_3\">\n    <path d=\"M 288.626087 55.721739 \nL 288.626087 16.904348 \n\" clip-path=\"url(#p7e2cfaff34)\" style=\"fill: none; stroke: #000000; stroke-width: 1.5; stroke-linecap: square\"/>\n   </g>\n   <g id=\"text_3\">\n    <!-- |2⟩ -->\n    <g transform=\"translate(280.862609 113.947826)scale(0.12 -0.12)\">\n     <defs>\n      <path id=\"DejaVuSerif-Bold-32\" d=\"M 844 3513 \nL 469 3513 \nL 469 4519 \nQ 850 4634 1223 4692 \nQ 1597 4750 1978 4750 \nQ 2869 4750 3367 4386 \nQ 3866 4022 3866 3372 \nQ 3866 2909 3591 2542 \nQ 3316 2175 2541 1672 \nL 1241 819 \nL 3450 819 \nL 3450 1369 \nL 3878 1369 \nL 3878 0 \nL 428 0 \nL 428 763 \nL 1119 1241 \nQ 2003 1850 2297 2278 \nQ 2591 2706 2591 3278 \nQ 2591 3819 2367 4101 \nQ 2144 4384 1716 4384 \nQ 1347 4384 1125 4161 \nQ 903 3938 844 3513 \nz\n\" transform=\"scale(0.015625)\"/>\n     </defs>\n     <use xlink:href=\"#DejaVuSerif-Bold-7c\"/>\n     <use xlink:href=\"#DejaVuSerif-Bold-32\" x=\"36.376953\"/>\n     <use xlink:href=\"#DejaVuSerif-Bold-27e9\" x=\"105.957031\"/>\n    </g>\n   </g>\n  </g>\n  <g id=\"axes_4\">\n   <g id=\"patch_8\">\n    <path d=\"M 405.078261 55.721739 \nC 405.078261 55.721739 405.078261 55.721739 405.078261 55.721739 \nC 405.078261 55.721739 405.078261 55.721739 405.078261 55.721739 \nC 405.078261 55.721739 405.078261 55.721739 405.078261 55.721739 \nC 405.078261 55.721739 405.078261 55.721739 405.078261 55.721739 \nC 405.078261 55.721739 405.078261 55.721739 405.078261 55.721739 \nC 405.078261 55.721739 405.078261 55.721739 405.078261 55.721739 \nC 405.078261 55.721739 405.078261 55.721739 405.078261 55.721739 \nC 405.078261 55.721739 405.078261 55.721739 405.078261 55.721739 \nz\n\" clip-path=\"url(#p785f141f2e)\" style=\"fill: #ff0000; stroke: #ff0000; stroke-linejoin: miter\"/>\n   </g>\n   <g id=\"patch_9\">\n    <path d=\"M 405.078261 94.53913 \nC 415.372753 94.53913 425.246996 90.449085 432.526301 83.16978 \nC 439.805607 75.890474 443.895652 66.016232 443.895652 55.721739 \nC 443.895652 45.427247 439.805607 35.553004 432.526301 28.273699 \nC 425.246996 20.994393 415.372753 16.904348 405.078261 16.904348 \nC 394.783768 16.904348 384.909526 20.994393 377.63022 28.273699 \nC 370.350915 35.553004 366.26087 45.427247 366.26087 55.721739 \nC 366.26087 66.016232 370.350915 75.890474 377.63022 83.16978 \nC 384.909526 90.449085 394.783768 94.53913 405.078261 94.53913 \nL 405.078261 94.53913 \nz\n\" clip-path=\"url(#p785f141f2e)\" style=\"fill: none; stroke: #000000; stroke-linejoin: miter\"/>\n   </g>\n   <g id=\"line2d_4\">\n    <path d=\"M 405.078261 55.721739 \nL 405.078261 55.721739 \n\" clip-path=\"url(#p785f141f2e)\" style=\"fill: none; stroke: #000000; stroke-width: 1.5; stroke-linecap: square\"/>\n   </g>\n   <g id=\"text_4\">\n    <!-- |3⟩ -->\n    <g transform=\"translate(397.314783 113.947826)scale(0.12 -0.12)\">\n     <defs>\n      <path id=\"DejaVuSerif-Bold-33\" d=\"M 550 4531 \nQ 963 4641 1350 4695 \nQ 1738 4750 2106 4750 \nQ 2950 4750 3401 4448 \nQ 3853 4147 3853 3584 \nQ 3853 3163 3593 2900 \nQ 3334 2638 2834 2547 \nQ 3444 2450 3744 2131 \nQ 4044 1813 4044 1259 \nQ 4044 606 3526 257 \nQ 3009 -91 2028 -91 \nQ 1659 -91 1267 -28 \nQ 875 34 447 159 \nL 447 1184 \nL 825 1184 \nQ 859 741 1103 508 \nQ 1347 275 1778 275 \nQ 2253 275 2512 539 \nQ 2772 803 2772 1288 \nQ 2772 1794 2501 2069 \nQ 2231 2344 1734 2344 \nL 1528 2344 \nL 1528 2719 \nL 1691 2719 \nQ 2150 2719 2381 2931 \nQ 2613 3144 2613 3566 \nQ 2613 3963 2395 4173 \nQ 2178 4384 1772 4384 \nQ 1403 4384 1187 4182 \nQ 972 3981 928 3597 \nL 550 3597 \nL 550 4531 \nz\n\" transform=\"scale(0.015625)\"/>\n     </defs>\n     <use xlink:href=\"#DejaVuSerif-Bold-7c\"/>\n     <use xlink:href=\"#DejaVuSerif-Bold-33\" x=\"36.376953\"/>\n     <use xlink:href=\"#DejaVuSerif-Bold-27e9\" x=\"105.957031\"/>\n    </g>\n   </g>\n  </g>\n </g>\n <defs>\n  <clipPath id=\"p0321c58339\">\n   <rect x=\"7.2\" y=\"7.2\" width=\"97.043478\" height=\"106.747826\"/>\n  </clipPath>\n  <clipPath id=\"pa72580d6ef\">\n   <rect x=\"123.652174\" y=\"7.2\" width=\"97.043478\" height=\"106.747826\"/>\n  </clipPath>\n  <clipPath id=\"p7e2cfaff34\">\n   <rect x=\"240.104348\" y=\"7.2\" width=\"97.043478\" height=\"106.747826\"/>\n  </clipPath>\n  <clipPath id=\"p785f141f2e\">\n   <rect x=\"356.556522\" y=\"7.2\" width=\"97.043478\" height=\"106.747826\"/>\n  </clipPath>\n </defs>\n</svg>\n",
      "text/plain": [
       "<Figure size 576x144 with 4 Axes>"
      ]
     },
     "metadata": {
      "needs_background": "light"
     },
     "output_type": "display_data"
    }
   ],
   "source": [
    "# Print out Circle Notation for intuitions sake\n",
    "\n",
    "from circle_plot import *\n",
    "plot_circles(statevec)"
   ]
  },
  {
   "cell_type": "code",
   "execution_count": null,
   "metadata": {},
   "outputs": [],
   "source": []
  },
  {
   "cell_type": "markdown",
   "metadata": {},
   "source": [
    "## <font color=\"red\">Exercise</font>: Grovers Quantum Search over <font color=\"red\">3</font> Qubits using the <font color=\"blue\">Quantum Computer Gate Playground</font>.\n",
    "\n",
    "> #### This example illustrates a slightly more complicated case visually - yet it still only takes two passed to find the desired object. \n",
    "- **NOTICE**: There are only three digits (qubits) at play in this example, the right most digit is a scratch qubit, so only count the left most three digits.\n",
    "- The **SECRET** function *f(x) =1, for* x=**2**, so the search will eventually point to (0 1 0 1), which is \"010\" (or Digital 2)."
   ]
  },
  {
   "cell_type": "markdown",
   "metadata": {},
   "source": [
    "### <font color=\"red\">Notice</font>:\n",
    "\n",
    "> The Animation will not work using HTTPS (which will not work in the cloud) so use this link to pull into a local browser where it will run:\n",
    "\n",
    "- http://davidbkemp.github.io/animated-qubits/grover.html\n"
   ]
  },
  {
   "cell_type": "code",
   "execution_count": 26,
   "metadata": {},
   "outputs": [
    {
     "data": {
      "text/html": [
       "\n",
       "        <iframe\n",
       "            width=\"900\"\n",
       "            height=\"600\"\n",
       "            src=\"https://davidbkemp.github.io/animated-qubits/grover.html\"\n",
       "            frameborder=\"0\"\n",
       "            allowfullscreen\n",
       "            \n",
       "        ></iframe>\n",
       "        "
      ],
      "text/plain": [
       "<IPython.lib.display.IFrame at 0x378cfe20>"
      ]
     },
     "execution_count": 26,
     "metadata": {},
     "output_type": "execute_result"
    }
   ],
   "source": [
    "from IPython.display import IFrame\n",
    "IFrame(src='https://davidbkemp.github.io/animated-qubits/grover.html', width=900, height=600)"
   ]
  },
  {
   "cell_type": "code",
   "execution_count": null,
   "metadata": {},
   "outputs": [],
   "source": []
  },
  {
   "cell_type": "markdown",
   "metadata": {},
   "source": [
    "## <font color=\"red\">Exercise</font>: Grover Quantum Search <font color=\"red\">(5 Qubits)</font> using <font color=\"blue\">QUIRK</font>.\n",
    "- **Examine** the QUIRK Curcuit below and pay special attention to the **decimal #27 (binary: 11011)** in the chance probability display widget - notice how its **magnitude gets more and more pronounced** after each iteration of the oracle aand application of the amplitude amplification technique. Also notice the **dimminishing magnitudes of ALL the other candidates**.\n",
    "<BR>"
   ]
  },
  {
   "cell_type": "code",
   "execution_count": 11,
   "metadata": {
    "scrolled": false
   },
   "outputs": [
    {
     "data": {
      "text/html": [
       "\n",
       "        <iframe\n",
       "            width=\"900\"\n",
       "            height=\"600\"\n",
       "            src=\"https://algassert.com/quirk#circuit={%22cols%22:[[%22X%22,%22X%22,%22X%22,%22X%22,%22X%22],[%22H%22,%22H%22,%22H%22,%22H%22,%22H%22],[%22Chance5%22],[%22~vn6c%22],[%22%E2%8A%96%22,%22%E2%8A%96%22,%22%E2%8A%96%22,%22%E2%8A%96%22,%22X%22],[%22Chance5%22],[%22~vn6c%22],[%22%E2%8A%96%22,%22%E2%8A%96%22,%22%E2%8A%96%22,%22%E2%8A%96%22,%22X%22],[%22Chance5%22],[%22~vn6c%22],[%22%E2%8A%96%22,%22%E2%8A%96%22,%22%E2%8A%96%22,%22%E2%8A%96%22,%22X%22],[%22Chance5%22],[%22~vn6c%22],[%22%E2%8A%96%22,%22%E2%8A%96%22,%22%E2%8A%96%22,%22%E2%8A%96%22,%22X%22],[%22Chance5%22]],%22gates%22:[{%22id%22:%22~vn6c%22,%22name%22:%22Oracle%22,%22circuit%22:{%22cols%22:[[%22Z%22,%22%E2%80%A2%22,%22%E2%97%A6%22,%22%E2%80%A2%22,%22%E2%80%A2%22]]}}]}\"\n",
       "            frameborder=\"0\"\n",
       "            allowfullscreen\n",
       "            \n",
       "        ></iframe>\n",
       "        "
      ],
      "text/plain": [
       "<IPython.lib.display.IFrame at 0x15003058>"
      ]
     },
     "execution_count": 11,
     "metadata": {},
     "output_type": "execute_result"
    }
   ],
   "source": [
    "# QUIRK (Quantum Curcuit Simulator) \n",
    "from IPython.display import IFrame\n",
    "IFrame(src='https://algassert.com/quirk#circuit={%22cols%22:[[%22X%22,%22X%22,%22X%22,%22X%22,%22X%22],[%22H%22,%22H%22,%22H%22,%22H%22,%22H%22],[%22Chance5%22],[%22~vn6c%22],[%22%E2%8A%96%22,%22%E2%8A%96%22,%22%E2%8A%96%22,%22%E2%8A%96%22,%22X%22],[%22Chance5%22],[%22~vn6c%22],[%22%E2%8A%96%22,%22%E2%8A%96%22,%22%E2%8A%96%22,%22%E2%8A%96%22,%22X%22],[%22Chance5%22],[%22~vn6c%22],[%22%E2%8A%96%22,%22%E2%8A%96%22,%22%E2%8A%96%22,%22%E2%8A%96%22,%22X%22],[%22Chance5%22],[%22~vn6c%22],[%22%E2%8A%96%22,%22%E2%8A%96%22,%22%E2%8A%96%22,%22%E2%8A%96%22,%22X%22],[%22Chance5%22]],%22gates%22:[{%22id%22:%22~vn6c%22,%22name%22:%22Oracle%22,%22circuit%22:{%22cols%22:[[%22Z%22,%22%E2%80%A2%22,%22%E2%97%A6%22,%22%E2%80%A2%22,%22%E2%80%A2%22]]}}]}', width=900, height=600)"
   ]
  },
  {
   "cell_type": "code",
   "execution_count": null,
   "metadata": {},
   "outputs": [],
   "source": []
  },
  {
   "cell_type": "markdown",
   "metadata": {},
   "source": [
    "# <font color=\"red\">Graded Exercises</font>  for use <font color=\"blue\">with structured courses.</font>\n",
    "\n",
    "## Quantum Problems and Practicals\n",
    "\n",
    "#### <font color=\"blue\">*This work will take some time, so block off enough time to adequately cover it*</font>. \n",
    "\n",
    "\n",
    "- Go through the **entire** JNB and complete each of the exercises, including any supplementary Video's - hand in completed <font color=\"red\">**PDF**</font> from this JNB once finished.\n",
    "\n",
    "\n",
    "- Step through the code for **each** of the above exercises, make sure you can (1) execute it, and (2) know what it does.\n",
    "\n",
    "\n",
    "- <font color=\"blue\">Complete Challenge Exercises below.</font> **(turn in the JNB)**\n",
    "\n",
    "\n",
    "**<font color=\"red\"> IMPORTANT</font>** - Copy the URL String into a new tab and do you work there, then when finished, copy the completed URL string to the proper cell below for evaluation and grading."
   ]
  },
  {
   "cell_type": "markdown",
   "metadata": {},
   "source": [
    "## Boolean Satisfiability Problems (BSP) <font color=\"red\">in QCEngine</font>\n"
   ]
  },
  {
   "cell_type": "markdown",
   "metadata": {},
   "source": [
    "## <font color=\"blue\">The Quantum Solution</font>:\n",
    "- (Requires **<font color=\"red\">ONE</font>** runs to determine **a** solution)\n",
    "\n",
    "> ## BSP Problem:  \n",
    ">> ## (<font color=\"blue\">a OR c</font>) <font color=\"red\">AND</font> (<font color=\"blue\">NOT b OR c</font>) <font color=\"red\">AND</font> (<font color=\"blue\">a OR b</font>)\n",
    "\n",
    "- The references for the example circuit architecture and corresponding circle charts are provided for inspiration."
   ]
  },
  {
   "cell_type": "markdown",
   "metadata": {},
   "source": [
    "<BR>\n",
    "    \n",
    "![3-sat_problem-circuit](img/3-sat_problem-circuit.png \"\")\n",
    "\n",
    "<BR>\n",
    "\n",
    "\n",
    "![3-sat_problem_Circles](img/3-sat_problem_Circles.png \"\")\n",
    "\n",
    "<BR>"
   ]
  },
  {
   "cell_type": "code",
   "execution_count": 12,
   "metadata": {},
   "outputs": [
    {
     "data": {
      "text/html": [
       "\n",
       "        <iframe\n",
       "            width=\"1200\"\n",
       "            height=\"900\"\n",
       "            src=\"https://oreilly-qc.github.io?p=7-1\"\n",
       "            frameborder=\"0\"\n",
       "            allowfullscreen\n",
       "            \n",
       "        ></iframe>\n",
       "        "
      ],
      "text/plain": [
       "<IPython.lib.display.IFrame at 0x150030b8>"
      ]
     },
     "execution_count": 12,
     "metadata": {},
     "output_type": "execute_result"
    }
   ],
   "source": [
    "from IPython.display import IFrame\n",
    "IFrame(src='https://oreilly-qc.github.io?p=7-1', width=1200, height=900)"
   ]
  },
  {
   "cell_type": "markdown",
   "metadata": {},
   "source": [
    "## Grovers Search Algorithm over 2 Qubits <font color=\"red\">using the QCEngine</font>\n",
    "\n",
    "- Implement the **2 Qubit Grovers Search Algorithm Example** from the JNB in **QUIRK** :- Note: The output should be the Digital <font color=\"red\">#2</font>.\n"
   ]
  },
  {
   "cell_type": "markdown",
   "metadata": {},
   "source": [
    "\n",
    "<BR>\n",
    "    \n",
    "![Grover-Circuit-2-Qubits](img/Grover-Circuit-2-Qubits.png \"Grover-Circuit-2-Qubits\")\n",
    "\n",
    "\n",
    "\n",
    "> The circuit above is the QCEngine adaptation of <font color=\"red\">same two-qubit circuit used in the **Quantum Computing Playground** section</font> - the behavior of the circle plots are identical (*except that the phases point up as a default, and the above point to the right*).\n",
    "\n",
    "\n",
    "**<font color=\"red\"> IMPORTANT</font>** - Copy the URL String into a new tab and do you work there, then when finished, copy the completed URL string to the proper cell below for evaluation and grading.\n"
   ]
  },
  {
   "cell_type": "code",
   "execution_count": 13,
   "metadata": {},
   "outputs": [
    {
     "data": {
      "text/html": [
       "\n",
       "        <iframe\n",
       "            width=\"900\"\n",
       "            height=\"600\"\n",
       "            src=\"https://algassert.com/quirk#circuit={%22cols%22:[]}\"\n",
       "            frameborder=\"0\"\n",
       "            allowfullscreen\n",
       "            \n",
       "        ></iframe>\n",
       "        "
      ],
      "text/plain": [
       "<IPython.lib.display.IFrame at 0x15040418>"
      ]
     },
     "execution_count": 13,
     "metadata": {},
     "output_type": "execute_result"
    }
   ],
   "source": [
    "# QUIRK (Quantum Circuit Simulator)\n",
    "from IPython.display import IFrame\n",
    "IFrame(src='https://algassert.com/quirk#circuit={%22cols%22:[]}', width=900, height=600)"
   ]
  },
  {
   "cell_type": "markdown",
   "metadata": {},
   "source": [
    "### Copy your completed QUIRK URL string in the cell below.\n",
    "\n",
    "It'll be of the following form: \n",
    "\n",
    "https://algassert.com/quirk#circuit={%22cols%22:[[%22~bhpb%22]],%22gates%22:[{%22id%22:%22~bhpb%22,%22name%22:%22Problem-#2%22,%22circuit%22:{%22cols%22:[[%22H%22,%22H%22,%22H%22],[%22%E2%80%A2%22,%22%E2%80%A2%22,%22X%22]]}}]}\n",
    "\n",
    "\n",
    "\n",
    "#### Your COMPLETED QUIRK URL String Goes under here:\n",
    "\n",
    "\n",
    "<BR><BR><BR>\n",
    "."
   ]
  },
  {
   "cell_type": "markdown",
   "metadata": {},
   "source": [
    "## Grovers Search Algorithm over 5 Qubits <font color=\"red\">using QUIRK</font>\n",
    "\n",
    "- Implement the **5 Qubit Grovers Search Algorithm Example** from the JNB in **QUIRK** using a new Oracle.\n",
    "\n",
    "> Implement Grovers Search (5 Qubits) with the New Oracle (**ORACLE-#2**) Provided - the circuit is started for you. \n",
    "- For inspiration, reference the QUIRK implementation discussed above in the JNB. \n",
    "- Original Oracle included for reference.\n",
    "- #### What is the Decimal Solution Value?\n",
    "\n",
    "\n",
    "**<font color=\"red\"> IMPORTANT</font>** - Copy the URL String into a new tab and do you work there, then when finished, copy the completed URL string to the proper cell below for evaluation and grading."
   ]
  },
  {
   "cell_type": "code",
   "execution_count": 20,
   "metadata": {},
   "outputs": [
    {
     "data": {
      "text/html": [
       "\n",
       "        <iframe\n",
       "            width=\"900\"\n",
       "            height=\"600\"\n",
       "            src=\"https://algassert.com/quirk#circuit={%22cols%22:[[%22X%22,%22X%22,%22X%22,%22X%22,%22X%22],[%22H%22,%22H%22,%22H%22,%22H%22,%22H%22],[%22~snii%22]],%22gates%22:[{%22id%22:%22~vn6c%22,%22name%22:%22Oracle%22,%22circuit%22:{%22cols%22:[[%22Z%22,%22%E2%80%A2%22,%22%E2%97%A6%22,%22%E2%80%A2%22,%22%E2%80%A2%22]]}},{%22id%22:%22~snii%22,%22name%22:%22ORACLE-2%22,%22circuit%22:{%22cols%22:[[%22Z%22,%22%E2%80%A2%22,%22%E2%80%A2%22,%22%E2%97%A6%22,%22%E2%80%A2%22]]}}]}\"\n",
       "            frameborder=\"0\"\n",
       "            allowfullscreen\n",
       "            \n",
       "        ></iframe>\n",
       "        "
      ],
      "text/plain": [
       "<IPython.lib.display.IFrame at 0x7273310>"
      ]
     },
     "execution_count": 20,
     "metadata": {},
     "output_type": "execute_result"
    }
   ],
   "source": [
    "# QUIRK (Quantum Circuit Simulator)\n",
    "from IPython.display import IFrame\n",
    "IFrame(src='https://algassert.com/quirk#circuit={%22cols%22:[[%22X%22,%22X%22,%22X%22,%22X%22,%22X%22],[%22H%22,%22H%22,%22H%22,%22H%22,%22H%22],[%22~snii%22]],%22gates%22:[{%22id%22:%22~vn6c%22,%22name%22:%22Oracle%22,%22circuit%22:{%22cols%22:[[%22Z%22,%22%E2%80%A2%22,%22%E2%97%A6%22,%22%E2%80%A2%22,%22%E2%80%A2%22]]}},{%22id%22:%22~snii%22,%22name%22:%22ORACLE-2%22,%22circuit%22:{%22cols%22:[[%22Z%22,%22%E2%80%A2%22,%22%E2%80%A2%22,%22%E2%97%A6%22,%22%E2%80%A2%22]]}}]}', width=900, height=600)"
   ]
  },
  {
   "cell_type": "markdown",
   "metadata": {},
   "source": [
    "### Copy your completed QUIRK URL string in the cell below.\n",
    "\n",
    "It'll be of the following form: \n",
    "\n",
    "https://algassert.com/quirk#circuit={%22cols%22:[[%22~bhpb%22]],%22gates%22:[{%22id%22:%22~bhpb%22,%22name%22:%22Problem-#2%22,%22circuit%22:{%22cols%22:[[%22H%22,%22H%22,%22H%22],[%22%E2%80%A2%22,%22%E2%80%A2%22,%22X%22]]}}]}\n",
    "\n",
    "\n",
    "\n",
    "#### Your COMPLETED QUIRK URL String Goes under here:\n",
    "\n",
    "\n",
    "<BR><BR><BR>\n",
    "."
   ]
  },
  {
   "cell_type": "markdown",
   "metadata": {},
   "source": [
    "![the-end](img/the-end.png \"the-end\")"
   ]
  }
 ],
 "metadata": {
  "interpreter": {
   "hash": "92fb4c2409ed31477d92edbb6efc8924d502a27dd5c8e25f2c5eb7d2566c1048"
  },
  "kernelspec": {
   "display_name": "qcousins",
   "language": "python",
   "name": "python3"
  },
  "language_info": {
   "codemirror_mode": {
    "name": "ipython",
    "version": 3
   },
   "file_extension": ".py",
   "mimetype": "text/x-python",
   "name": "python",
   "nbconvert_exporter": "python",
   "pygments_lexer": "ipython3",
   "version": "3.9.5"
  }
 },
 "nbformat": 4,
 "nbformat_minor": 2
}
